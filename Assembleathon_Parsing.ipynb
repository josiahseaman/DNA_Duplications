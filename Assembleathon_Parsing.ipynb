{
 "cells": [
  {
   "cell_type": "code",
   "execution_count": 1,
   "metadata": {
    "collapsed": false
   },
   "outputs": [],
   "source": [
    "import gspread\n",
    "from oauth2client.service_account import ServiceAccountCredentials"
   ]
  },
  {
   "cell_type": "code",
   "execution_count": 2,
   "metadata": {
    "collapsed": true
   },
   "outputs": [],
   "source": [
    "import pprint\n",
    "pp = pprint.PrettyPrinter()"
   ]
  },
  {
   "cell_type": "code",
   "execution_count": 51,
   "metadata": {
    "collapsed": true
   },
   "outputs": [],
   "source": [
    "scope = ['https://spreadsheets.google.com/feeds']\n",
    "creds = ServiceAccountCredentials.from_json_keyfile_name('../sheets_backend_secret.json', scope)\n",
    "client = gspread.authorize(creds)"
   ]
  },
  {
   "cell_type": "code",
   "execution_count": 52,
   "metadata": {
    "collapsed": false
   },
   "outputs": [
    {
     "name": "stdout",
     "output_type": "stream",
     "text": [
      "['',\n",
      " 'F. angustifolia subsp. angustifolia (FRAX01)',\n",
      " 'F. apertisquamifera (FRAX02)',\n",
      " 'F. caroliniana (FRAX03)',\n",
      " 'F. dipetala (FRAX04)',\n",
      " 'F. latifolia (FRAX05)',\n",
      " 'F. mandshurica (FRAX06)',\n",
      " 'F. ornus (FRAX07)',\n",
      " 'F. paxiana (FRAX08)',\n",
      " 'F. pennsylvannica (FRAX09)',\n",
      " 'F. pennsylvannica (FRAX10)',\n",
      " 'F. quadrangulata (FRAX11)',\n",
      " 'F. sieboldiana (FRAX12)',\n",
      " 'F. velutina (FRAX13)',\n",
      " 'F. americana (FRAX14)',\n",
      " 'F. angustifolia subsp. oxycarpa  (FRAX15)',\n",
      " 'F. angustifolia subsp. syriaca (FRAX16)',\n",
      " '',\n",
      " '',\n",
      " 'F. goodingii (FRAX19)',\n",
      " 'F. greggii (FRAX20)',\n",
      " 'F. griffithii (FRAX21)',\n",
      " 'F. nigra (FRAX23)',\n",
      " '',\n",
      " 'F. xanthoxyloides (FRAX25)',\n",
      " 'F. albicans (FRAX26)',\n",
      " 'F. anomala (FRAX27)',\n",
      " 'F. baroniana (FRAX28)',\n",
      " 'F. bungeana (FRAX29)',\n",
      " 'F. chinensis [subsp. chinensis?] (FRAX30)',\n",
      " 'F. cuspidata  (FRAX31)',\n",
      " 'F. floribunda  (FRAX32)',\n",
      " 'F. platypoda (FRAX33)',\n",
      " 'F. uhdei (FRAX34)']\n"
     ]
    }
   ],
   "source": [
    "sheet = client.open('Summary_of_de_novo_assembly_stats').worksheet('Summary')\n",
    "labels = sheet.range('A4:AH4')\n",
    "pp.pprint([x.value for x in labels])\n"
   ]
  },
  {
   "cell_type": "markdown",
   "metadata": {},
   "source": [
    "# Assembleathon Conversion"
   ]
  },
  {
   "cell_type": "code",
   "execution_count": 55,
   "metadata": {
    "collapsed": false
   },
   "outputs": [
    {
     "name": "stdout",
     "output_type": "stream",
     "text": [
      "Number of scaffolds\t417940\n",
      "Total size of scaffolds\t855147449\n",
      "Total scaffold length as percentage of known genome size\t760.1%\n",
      "Longest scaffold\t367815\n",
      "Shortest scaffold\t200\n",
      "Number of scaffolds > 500 nt\t168610\t40.3%\n",
      "Number of scaffolds > 1K nt\t77211\t18.5%\n",
      "Number of scaffolds > 10K nt\t20212\t4.8%\n",
      "Number of scaffolds > 100K nt\t251\t0.1%\n",
      "Number of scaffolds > 1M nt\t0\t0.0%\n",
      "Mean scaffold size\t2046\n",
      "Median scaffold size\t425\n",
      "N50 scaffold length\t21026\n",
      "L50 scaffold count\t10470\n",
      "NG50 scaffold length\t82739\n",
      "LG50 scaffold count\t528\n",
      "N50 scaffold - NG50 scaffold length difference\t61713\n",
      "scaffold %A\t28.32\n",
      "scaffold %C\t14.99\n",
      "scaffold %G\t14.98\n",
      "scaffold %T\t28.32\n",
      "scaffold %N\t13.39\n",
      "scaffold %non-ACGTN\t0.00\n",
      "Number of scaffold non-ACGTN nt\t0\n",
      "\n",
      "Percentage of assembly in scaffolded contigs\t66.8%\n",
      "Percentage of assembly in unscaffolded contigs\t33.2%\n",
      "Average number of contigs per scaffold\t1.1\n",
      "Average length of break (>25 Ns) between contigs in scaffold\t274\n",
      "\n",
      "Number of contigs\t470798\n",
      "Number of contigs in scaffolds\t78758\n",
      "Number of contigs not in scaffolds\t392040\n",
      "Total size of contigs\t740668665\n",
      "Longest contig\t342910\n",
      "Shortest contig\t200\n",
      "Number of contigs > 500 nt\t220503\t46.8%\n",
      "Number of contigs > 1K nt\t122546\t26.0%\n",
      "Number of contigs > 10K nt\t15394\t3.3%\n",
      "Number of contigs > 100K nt\t3\t0.0%\n",
      "Number of contigs > 1M nt\t0\t0.0%\n",
      "Mean contig size\t1573\n",
      "Median contig size\t469\n",
      "N50 contig length\t6019\n",
      "L50 contig count\t30271\n",
      "NG50 contig length\t24061\n",
      "LG50 contig count\t1812\n",
      "N50 contig - NG50 contig length difference\t18042\n",
      "contig %A\t32.70\n",
      "contig %C\t17.30\n",
      "contig %G\t17.29\n",
      "contig %T\t32.70\n",
      "contig %N\t0.01\n",
      "contig %non-ACGTN\t0.00\n",
      "Number of contig non-ACGTN nt\t0\n",
      "\n"
     ]
    }
   ],
   "source": [
    "import re\n",
    "import os\n",
    "BASE_DIR = 'D:\\\\josiah\\\\Documents\\\\Research\\\\Thesis - Genome Symmetry\\\\data\\\\Assembleathon\\\\'\n",
    "\n",
    "def format_assemblethon_file(filename):\n",
    "    with open (filename, 'r' ) as f:\n",
    "        stats_file = f.read()\n",
    "    stats_file = re.sub(' {2,}', r'\\t', stats_file, flags = re.M)\n",
    "    stats_file = re.sub('^\\t', r'', stats_file, flags = re.M)\n",
    "    return stats_file\n",
    "print(format_assemblethon_file('FRAX07_CLC_SSPACE_GAPCLOSER_ASSEMBLETHON.txt'))"
   ]
  },
  {
   "cell_type": "code",
   "execution_count": 14,
   "metadata": {
    "collapsed": true
   },
   "outputs": [],
   "source": [
    "labels_of_interest = ['N50 scaffold length', 'L50 scaffold count', 'Number of contigs', 'Number of scaffolds','Longest contig']"
   ]
  },
  {
   "cell_type": "code",
   "execution_count": 53,
   "metadata": {
    "collapsed": false
   },
   "outputs": [
    {
     "name": "stdout",
     "output_type": "stream",
     "text": [
      "Number of scaffolds 417940\n",
      "N50 scaffold length 21026\n",
      "L50 scaffold count 10470\n",
      "Number of contigs 470798\n",
      "Longest contig 342910\n"
     ]
    },
    {
     "data": {
      "text/plain": [
       "['417940', '21026', '10470', '470798', '342910']"
      ]
     },
     "execution_count": 53,
     "metadata": {},
     "output_type": "execute_result"
    }
   ],
   "source": [
    "def grab_values_from_file(stats_file):\n",
    "    values = []\n",
    "    for line in stats_file.split('\\n'):\n",
    "        parts = line.split('\\t')\n",
    "        if parts[0] in labels_of_interest:\n",
    "            print(parts[0], parts[1])\n",
    "            values.append(parts[1])\n",
    "    return values\n",
    "grab_values_from_file(stats_file)"
   ]
  },
  {
   "cell_type": "code",
   "execution_count": 49,
   "metadata": {
    "collapsed": false
   },
   "outputs": [
    {
     "name": "stdout",
     "output_type": "stream",
     "text": [
      "[<Cell R4C8 'F. ornus (FRAX07)'>]\n"
     ]
    },
    {
     "data": {
      "text/plain": [
       "8"
      ]
     },
     "execution_count": 49,
     "metadata": {},
     "output_type": "execute_result"
    }
   ],
   "source": [
    "def matching_col(frax_number):\n",
    "    a = [v for v in labels if frax_number in v.value]\n",
    "    print(a)\n",
    "    return a[0].col  # gspread.utils.rowcol_to_a1(23, a[0].col)\n",
    "matching_col('FRAX07')"
   ]
  },
  {
   "cell_type": "code",
   "execution_count": 60,
   "metadata": {
    "collapsed": false
   },
   "outputs": [],
   "source": [
    "def update_stats_for_FRAX_number(frax_number):\n",
    "    print(\">>> Updating Stats for \", frax_number)\n",
    "    filename = os.path.join(BASE_DIR, frax_number + '_CLC_SSPACE_GAPCLOSER_ASSEMBLETHON.txt')\n",
    "    stats_file = format_assemblethon_file(filename)\n",
    "    values = grab_values_from_file(stats_file)\n",
    "    my_column = matching_col(frax_number)\n",
    "    for label_index, label in enumerate(labels_of_interest):\n",
    "        sheet.update_cell(23 + label_index, 1, label)\n",
    "        sheet.update_cell(23 + label_index, my_column, values[label_index])"
   ]
  },
  {
   "cell_type": "code",
   "execution_count": 61,
   "metadata": {
    "collapsed": false
   },
   "outputs": [
    {
     "name": "stdout",
     "output_type": "stream",
     "text": [
      ">>> Updating Stats for  FRAX06\n",
      "Number of scaffolds 297505\n",
      "N50 scaffold length 30144\n",
      "L50 scaffold count 7359\n",
      "Number of contigs 352183\n",
      "Longest contig 272010\n",
      "[<Cell R4C7 'F. mandshurica (FRAX06)'>]\n"
     ]
    }
   ],
   "source": [
    "update_stats_for_FRAX_number('FRAX06')"
   ]
  },
  {
   "cell_type": "code",
   "execution_count": 62,
   "metadata": {
    "collapsed": false
   },
   "outputs": [
    {
     "name": "stdout",
     "output_type": "stream",
     "text": [
      ">>> Updating Stats for  FRAX06\n",
      "Number of scaffolds 297505\n",
      "N50 scaffold length 30144\n",
      "L50 scaffold count 7359\n",
      "Number of contigs 352183\n",
      "Longest contig 272010\n",
      "[<Cell R4C7 'F. mandshurica (FRAX06)'>]\n",
      ">>> Updating Stats for  FRAX07\n",
      "Number of scaffolds 417940\n",
      "N50 scaffold length 21026\n",
      "L50 scaffold count 10470\n",
      "Number of contigs 470798\n",
      "Longest contig 342910\n",
      "[<Cell R4C8 'F. ornus (FRAX07)'>]\n",
      ">>> Updating Stats for  FRAX09\n",
      "Number of scaffolds 555484\n",
      "N50 scaffold length 18659\n",
      "L50 scaffold count 11707\n",
      "Number of contigs 616703\n",
      "Longest contig 480722\n",
      "[<Cell R4C10 'F. pennsylvannica (FRAX09)'>]\n",
      ">>> Updating Stats for  FRAX11\n",
      "Number of scaffolds 175641\n",
      "N50 scaffold length 50545\n",
      "L50 scaffold count 3889\n",
      "Number of contigs 211193\n",
      "Longest contig 235128\n",
      "[<Cell R4C12 'F. quadrangulata (FRAX11)'>]\n",
      ">>> Updating Stats for  FRAX14\n",
      "Number of scaffolds 357129\n",
      "N50 scaffold length 4583\n",
      "L50 scaffold count 38222\n",
      "Number of contigs 357416\n",
      "Longest contig 195469\n",
      "[<Cell R4C15 'F. americana (FRAX14)'>]\n",
      ">>> Updating Stats for  FRAX15\n",
      "Number of scaffolds 413147\n",
      "N50 scaffold length 3952\n",
      "L50 scaffold count 49086\n",
      "Number of contigs 413437\n",
      "Longest contig 191109\n",
      "[<Cell R4C16 'F. angustifolia subsp. oxycarpa  (FRAX15)'>]\n",
      ">>> Updating Stats for  FRAX16\n",
      "Number of scaffolds 323049\n",
      "N50 scaffold length 4357\n",
      "L50 scaffold count 37150\n",
      "Number of contigs 323741\n",
      "Longest contig 150017\n",
      "[<Cell R4C17 'F. angustifolia subsp. syriaca (FRAX16)'>]\n",
      ">>> Updating Stats for  FRAX19\n",
      "Number of scaffolds 452616\n",
      "N50 scaffold length 26688\n",
      "L50 scaffold count 8711\n",
      "Number of contigs 486867\n",
      "Longest contig 464370\n",
      "[<Cell R4C20 'F. goodingii (FRAX19)'>]\n",
      ">>> Updating Stats for  FRAX20\n",
      "Number of scaffolds 430537\n",
      "N50 scaffold length 4303\n",
      "L50 scaffold count 42589\n",
      "Number of contigs 437532\n",
      "Longest contig 113384\n",
      "[<Cell R4C21 'F. greggii (FRAX20)'>]\n",
      ">>> Updating Stats for  FRAX21\n",
      "Number of scaffolds 349639\n",
      "N50 scaffold length 7160\n",
      "L50 scaffold count 28553\n",
      "Number of contigs 355780\n",
      "Longest contig 217334\n",
      "[<Cell R4C22 'F. griffithii (FRAX21)'>]\n",
      ">>> Updating Stats for  FRAX23\n",
      "Number of scaffolds 301269\n",
      "N50 scaffold length 5611\n",
      "L50 scaffold count 31215\n",
      "Number of contigs 308060\n",
      "Longest contig 159265\n",
      "[<Cell R4C23 'F. nigra (FRAX23)'>]\n",
      ">>> Updating Stats for  FRAX25\n",
      "Number of scaffolds 316576\n",
      "N50 scaffold length 5552\n",
      "L50 scaffold count 30973\n",
      "Number of contigs 320020\n",
      "Longest contig 256870\n",
      "[<Cell R4C25 'F. xanthoxyloides (FRAX25)'>]\n",
      ">>> Updating Stats for  FRAX26\n",
      "Number of scaffolds 300217\n",
      "N50 scaffold length 7428\n",
      "L50 scaffold count 26839\n",
      "Number of contigs 303391\n",
      "Longest contig 195698\n",
      "[<Cell R4C26 'F. albicans (FRAX26)'>]\n",
      ">>> Updating Stats for  FRAX27\n",
      "Number of scaffolds 205647\n",
      "N50 scaffold length 10033\n",
      "L50 scaffold count 18306\n",
      "Number of contigs 210009\n",
      "Longest contig 181166\n",
      "[<Cell R4C27 'F. anomala (FRAX27)'>]\n",
      ">>> Updating Stats for  FRAX28\n",
      "Number of scaffolds 314574\n",
      "N50 scaffold length 6176\n",
      "L50 scaffold count 32279\n",
      "Number of contigs 320939\n",
      "Longest contig 183985\n",
      "[<Cell R4C28 'F. baroniana (FRAX28)'>]\n",
      ">>> Updating Stats for  FRAX29\n",
      "Number of scaffolds 550497\n",
      "N50 scaffold length 4220\n",
      "L50 scaffold count 59815\n",
      "Number of contigs 558608\n",
      "Longest contig 130586\n",
      "[<Cell R4C29 'F. bungeana (FRAX29)'>]\n",
      ">>> Updating Stats for  FRAX30\n",
      "Number of scaffolds 349614\n",
      "N50 scaffold length 5515\n",
      "L50 scaffold count 35317\n",
      "Number of contigs 355137\n",
      "Longest contig 184367\n",
      "[<Cell R4C30 'F. chinensis [subsp. chinensis?] (FRAX30)'>]\n",
      ">>> Updating Stats for  FRAX31\n",
      "Number of scaffolds 133719\n",
      "N50 scaffold length 16666\n",
      "L50 scaffold count 10801\n",
      "Number of contigs 136972\n",
      "Longest contig 155167\n",
      "[<Cell R4C31 'F. cuspidata  (FRAX31)'>]\n",
      ">>> Updating Stats for  FRAX32\n",
      "Number of scaffolds 343180\n",
      "N50 scaffold length 5677\n",
      "L50 scaffold count 34552\n",
      "Number of contigs 347959\n",
      "Longest contig 239794\n",
      "[<Cell R4C32 'F. floribunda  (FRAX32)'>]\n",
      ">>> Updating Stats for  FRAX33\n",
      "Number of scaffolds 237163\n",
      "N50 scaffold length 7689\n",
      "L50 scaffold count 22689\n",
      "Number of contigs 241542\n",
      "Longest contig 181318\n",
      "[<Cell R4C33 'F. platypoda (FRAX33)'>]\n",
      ">>> Updating Stats for  FRAX34\n",
      "Number of scaffolds 754045\n",
      "N50 scaffold length 2413\n",
      "L50 scaffold count 71645\n",
      "Number of contigs 757469\n",
      "Longest contig 196289\n",
      "[<Cell R4C34 'F. uhdei (FRAX34)'>]\n"
     ]
    }
   ],
   "source": [
    "def main():\n",
    "    I_have_stats_for = 'FRAX06 FRAX07 FRAX09 FRAX11 FRAX14 FRAX15 FRAX16 FRAX19 FRAX20 FRAX21 FRAX23 FRAX25 FRAX26 FRAX27 FRAX28 FRAX29 FRAX30 FRAX31 FRAX32 FRAX33 FRAX34'.split()\n",
    "    for frax_number in I_have_stats_for:\n",
    "        update_stats_for_FRAX_number(frax_number)\n",
    "main()"
   ]
  },
  {
   "cell_type": "code",
   "execution_count": null,
   "metadata": {
    "collapsed": true
   },
   "outputs": [],
   "source": []
  },
  {
   "cell_type": "code",
   "execution_count": null,
   "metadata": {
    "collapsed": true
   },
   "outputs": [],
   "source": []
  },
  {
   "cell_type": "code",
   "execution_count": null,
   "metadata": {
    "collapsed": true
   },
   "outputs": [],
   "source": []
  },
  {
   "cell_type": "markdown",
   "metadata": {},
   "source": [
    "# Scrap Examples"
   ]
  },
  {
   "cell_type": "code",
   "execution_count": 46,
   "metadata": {
    "collapsed": false
   },
   "outputs": [
    {
     "data": {
      "text/plain": [
       "['color', 'updating', 'failing', 'e', 'good', 'good', 'good']"
      ]
     },
     "execution_count": 46,
     "metadata": {},
     "output_type": "execute_result"
    }
   ],
   "source": [
    "sheet.col_values(2)"
   ]
  },
  {
   "cell_type": "code",
   "execution_count": null,
   "metadata": {
    "collapsed": true
   },
   "outputs": [],
   "source": [
    "sheet.resize(rows=3, cols=4)"
   ]
  },
  {
   "cell_type": "code",
   "execution_count": 50,
   "metadata": {
    "collapsed": false
   },
   "outputs": [
    {
     "data": {
      "text/plain": [
       "(6, 8)"
      ]
     },
     "execution_count": 50,
     "metadata": {},
     "output_type": "execute_result"
    }
   ],
   "source": [
    "sheet.col_count, sheet.row_count"
   ]
  },
  {
   "cell_type": "code",
   "execution_count": 44,
   "metadata": {
    "collapsed": true
   },
   "outputs": [],
   "source": [
    "sheet.append_row(['Doin', 'good'])"
   ]
  },
  {
   "cell_type": "code",
   "execution_count": 70,
   "metadata": {
    "collapsed": false
   },
   "outputs": [
    {
     "data": {
      "text/plain": [
       "'F10'"
      ]
     },
     "execution_count": 70,
     "metadata": {},
     "output_type": "execute_result"
    }
   ],
   "source": [
    "gspread.utils.rowcol_to_a1(sheet.row_count, sheet.col_count )"
   ]
  },
  {
   "cell_type": "code",
   "execution_count": 67,
   "metadata": {
    "collapsed": false
   },
   "outputs": [],
   "source": [
    "cell_list = sheet.range('A1:' + gspread.utils.rowcol_to_a1(sheet.row_count, sheet.col_count ))\n",
    "\n",
    "for cell in cell_list:\n",
    "    cell.value = 'O_o'\n",
    "\n",
    "# Update in batch\n",
    "sheet.update_cells(cell_list)"
   ]
  },
  {
   "cell_type": "code",
   "execution_count": 38,
   "metadata": {
    "collapsed": false
   },
   "outputs": [],
   "source": [
    "sheet.update_cell(2,2, 'failing')"
   ]
  },
  {
   "cell_type": "code",
   "execution_count": 39,
   "metadata": {
    "collapsed": false
   },
   "outputs": [
    {
     "data": {
      "text/plain": [
       "'failing'"
      ]
     },
     "execution_count": 39,
     "metadata": {},
     "output_type": "execute_result"
    }
   ],
   "source": [
    "sheet.cell(2,2).value"
   ]
  },
  {
   "cell_type": "code",
   "execution_count": null,
   "metadata": {
    "collapsed": true
   },
   "outputs": [],
   "source": []
  }
 ],
 "metadata": {
  "kernelspec": {
   "display_name": "Python 3",
   "language": "python",
   "name": "python3"
  },
  "language_info": {
   "codemirror_mode": {
    "name": "ipython",
    "version": 3
   },
   "file_extension": ".py",
   "mimetype": "text/x-python",
   "name": "python",
   "nbconvert_exporter": "python",
   "pygments_lexer": "ipython3",
   "version": "3.4.3"
  }
 },
 "nbformat": 4,
 "nbformat_minor": 1
}
