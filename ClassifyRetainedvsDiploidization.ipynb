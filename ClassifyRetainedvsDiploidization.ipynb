{
 "cells": [
  {
   "cell_type": "code",
   "execution_count": 24,
   "metadata": {
    "collapsed": false
   },
   "outputs": [
    {
     "data": {
      "text/plain": [
       "(723, 7499, 16098)"
      ]
     },
     "execution_count": 24,
     "metadata": {},
     "output_type": "execute_result"
    }
   ],
   "source": [
    "import csv\n",
    "from statistics import mean\n",
    "grown = {}\n",
    "shrunk = {}\n",
    "equalized = {}\n",
    "with open(r\"CAFE-4.2\\data\\exemplars\\reports\\exemplar_reestimate_summary_anc.txt\", newline='' ) as csvfile:\n",
    "    reader = csv.DictReader(csvfile, delimiter='\\t')\n",
    "    for nLines, row in enumerate(reader):\n",
    "        if int(row['<5>']) > 0:  # must be root fraxinus\n",
    "            frax = mean(int(i) for i in (row['FRAX06<4>'], row['FRAX00<2>'], row['FRAX09<10>'], row['FRAX11<8>'], row['FRAX07<0>'], row['FRAX19<6>']))\n",
    "            oleaceae = int(row['<11>'])\n",
    "            diff = (frax - oleaceae) / oleaceae\n",
    "            if diff >= .2:\n",
    "                grown[int(row['Family ID'])] = row\n",
    "            elif diff <= -.2:\n",
    "                shrunk[int(row['Family ID'])] = row\n",
    "            else:\n",
    "                equalized[int(row['Family ID'])] = row\n",
    "len(grown), len(shrunk), len(equalized)"
   ]
  },
  {
   "cell_type": "code",
   "execution_count": 25,
   "metadata": {
    "collapsed": false
   },
   "outputs": [
    {
     "data": {
      "text/plain": [
       "[14336, 14338]"
      ]
     },
     "execution_count": 25,
     "metadata": {},
     "output_type": "execute_result"
    }
   ],
   "source": [
    "list(grown.keys())[:2]"
   ]
  },
  {
   "cell_type": "code",
   "execution_count": 26,
   "metadata": {
    "collapsed": false
   },
   "outputs": [
    {
     "data": {
      "text/plain": [
       "'OG0014338'"
      ]
     },
     "execution_count": 26,
     "metadata": {},
     "output_type": "execute_result"
    }
   ],
   "source": [
    "\"OG0016622\"\n",
    "def cafe_to_OG(cafe_id):\n",
    "    return \"OG\" + '%07d' % (cafe_id)\n",
    "cafe_to_OG(14338)"
   ]
  },
  {
   "cell_type": "markdown",
   "metadata": {},
   "source": [
    "# Output gene sets with their GO terms"
   ]
  },
  {
   "cell_type": "markdown",
   "metadata": {},
   "source": [
    "# TODO: pull from file with GO and OGs"
   ]
  },
  {
   "cell_type": "code",
   "execution_count": 33,
   "metadata": {
    "collapsed": false
   },
   "outputs": [
    {
     "name": "stdout",
     "output_type": "stream",
     "text": [
      "FRAEX38873_v2_000000010.1 NULL\n",
      "FRAEX38873_v2_000000010.2 NULL\n",
      "FRAEX38873_v2_000000020.1 duf246 domain-containing protein at1g04910-like\n",
      "FRAEX38873_v2_000000030.1 neutral alkaline invertase\n",
      "FRAEX38873_v2_000000040.1 NULL\n",
      "FRAEX38873_v2_000000050.1 NULL\n"
     ]
    },
    {
     "data": {
      "text/plain": [
       "'GO:0009615|GO:0005618|GO:0055114|GO:0005730|GO:0009409|GO:0009941|GO:0009408|GO:0009617|GO:0005524|GO:0032440|GO:0005773|GO:0046686|GO:0022626|GO:0080167|GO:0005886|GO:0048046'"
      ]
     },
     "execution_count": 33,
     "metadata": {},
     "output_type": "execute_result"
    }
   ],
   "source": [
    "functional_file = r\"data\\gff_files_for_diploid_taxa\\Fraxinus_excelsior_38873_TGAC_v2.gff3.functional_annotation.tsv\"\n",
    "genes_annotated = {}\n",
    "descriptions = {}\n",
    "with open(functional_file, newline='' ) as csvfile:\n",
    "    reader = csv.DictReader(csvfile, delimiter='\\t')\n",
    "    for nLines, row in enumerate(reader):\n",
    "        genes_annotated[row['#ID']] = row['Blast2GO_GO_term']\n",
    "        descriptions[row['#ID']] = row['Blast2GO_GO_Description']\n",
    "        if nLines < 6:\n",
    "            print(row['#ID'], row['Blast2GO_GO_Description'])\n",
    "genes_annotated['FRAEX38873_v2_000077090.1']"
   ]
  },
  {
   "cell_type": "code",
   "execution_count": 35,
   "metadata": {
    "collapsed": false
   },
   "outputs": [
    {
     "ename": "KeyError",
     "evalue": "'OG0014336'",
     "output_type": "error",
     "traceback": [
      "\u001b[0;31m---------------------------------------------------------------------------\u001b[0m",
      "\u001b[0;31mKeyError\u001b[0m                                  Traceback (most recent call last)",
      "\u001b[0;32m<ipython-input-35-7d0d81cc6924>\u001b[0m in \u001b[0;36m<module>\u001b[0;34m()\u001b[0m\n\u001b[1;32m      1\u001b[0m \u001b[0mnames\u001b[0m \u001b[1;33m=\u001b[0m \u001b[1;33m[\u001b[0m\u001b[0mcafe_to_OG\u001b[0m\u001b[1;33m(\u001b[0m\u001b[0mn\u001b[0m\u001b[1;33m)\u001b[0m \u001b[1;32mfor\u001b[0m \u001b[0mn\u001b[0m \u001b[1;32min\u001b[0m \u001b[0mgrown\u001b[0m\u001b[1;33m]\u001b[0m\u001b[1;33m\u001b[0m\u001b[0m\n\u001b[0;32m----> 2\u001b[0;31m \u001b[0mlines\u001b[0m \u001b[1;33m=\u001b[0m \u001b[1;33m[\u001b[0m\u001b[1;33m{\u001b[0m\u001b[1;34m'ID'\u001b[0m\u001b[1;33m:\u001b[0m \u001b[0mid\u001b[0m\u001b[1;33m,\u001b[0m \u001b[1;34m'Blast2GO_GO_term'\u001b[0m\u001b[1;33m:\u001b[0m\u001b[0mgenes_annotated\u001b[0m\u001b[1;33m[\u001b[0m\u001b[0mid\u001b[0m\u001b[1;33m]\u001b[0m\u001b[1;33m,\u001b[0m \u001b[1;34m'Blast2GO_GO_Description'\u001b[0m\u001b[1;33m:\u001b[0m\u001b[0mdescriptions\u001b[0m\u001b[1;33m[\u001b[0m\u001b[0mid\u001b[0m\u001b[1;33m]\u001b[0m\u001b[1;33m}\u001b[0m \u001b[1;32mfor\u001b[0m \u001b[0mid\u001b[0m \u001b[1;32min\u001b[0m \u001b[0mnames\u001b[0m\u001b[1;33m]\u001b[0m\u001b[1;33m\u001b[0m\u001b[0m\n\u001b[0m",
      "\u001b[0;32m<ipython-input-35-7d0d81cc6924>\u001b[0m in \u001b[0;36m<listcomp>\u001b[0;34m(.0)\u001b[0m\n\u001b[1;32m      1\u001b[0m \u001b[0mnames\u001b[0m \u001b[1;33m=\u001b[0m \u001b[1;33m[\u001b[0m\u001b[0mcafe_to_OG\u001b[0m\u001b[1;33m(\u001b[0m\u001b[0mn\u001b[0m\u001b[1;33m)\u001b[0m \u001b[1;32mfor\u001b[0m \u001b[0mn\u001b[0m \u001b[1;32min\u001b[0m \u001b[0mgrown\u001b[0m\u001b[1;33m]\u001b[0m\u001b[1;33m\u001b[0m\u001b[0m\n\u001b[0;32m----> 2\u001b[0;31m \u001b[0mlines\u001b[0m \u001b[1;33m=\u001b[0m \u001b[1;33m[\u001b[0m\u001b[1;33m{\u001b[0m\u001b[1;34m'ID'\u001b[0m\u001b[1;33m:\u001b[0m \u001b[0mid\u001b[0m\u001b[1;33m,\u001b[0m \u001b[1;34m'Blast2GO_GO_term'\u001b[0m\u001b[1;33m:\u001b[0m\u001b[0mgenes_annotated\u001b[0m\u001b[1;33m[\u001b[0m\u001b[0mid\u001b[0m\u001b[1;33m]\u001b[0m\u001b[1;33m,\u001b[0m \u001b[1;34m'Blast2GO_GO_Description'\u001b[0m\u001b[1;33m:\u001b[0m\u001b[0mdescriptions\u001b[0m\u001b[1;33m[\u001b[0m\u001b[0mid\u001b[0m\u001b[1;33m]\u001b[0m\u001b[1;33m}\u001b[0m \u001b[1;32mfor\u001b[0m \u001b[0mid\u001b[0m \u001b[1;32min\u001b[0m \u001b[0mnames\u001b[0m\u001b[1;33m]\u001b[0m\u001b[1;33m\u001b[0m\u001b[0m\n\u001b[0m",
      "\u001b[0;31mKeyError\u001b[0m: 'OG0014336'"
     ]
    }
   ],
   "source": [
    "names = [cafe_to_OG(n) for n in grown]\n",
    "lines = [{'ID': id, 'Blast2GO_GO_term':genes_annotated[id], 'Blast2GO_GO_Description':descriptions[id]} for id in names]"
   ]
  },
  {
   "cell_type": "code",
   "execution_count": 29,
   "metadata": {
    "collapsed": true
   },
   "outputs": [],
   "source": [
    "path = r'CAFE-4.2\\data\\exemplars\\reports\\exemplar_reestimate__'\n",
    "with open(path + 'grown.csv', 'w', newline='\\n') as outfile:\n",
    "    writer = csv.DictWriter(outfile, ['ID', 'Blast2GO_GO_term', 'Blast2GO_GO_Description'], restval='\\t')\n",
    "    writer.writelines(lines)\n",
    "    outfile.writelines()"
   ]
  },
  {
   "cell_type": "code",
   "execution_count": null,
   "metadata": {
    "collapsed": true
   },
   "outputs": [],
   "source": []
  },
  {
   "cell_type": "code",
   "execution_count": null,
   "metadata": {
    "collapsed": true
   },
   "outputs": [],
   "source": []
  }
 ],
 "metadata": {
  "kernelspec": {
   "display_name": "Python 3",
   "language": "python",
   "name": "python3"
  },
  "language_info": {
   "codemirror_mode": {
    "name": "ipython",
    "version": 3
   },
   "file_extension": ".py",
   "mimetype": "text/x-python",
   "name": "python",
   "nbconvert_exporter": "python",
   "pygments_lexer": "ipython3",
   "version": "3.4.3"
  }
 },
 "nbformat": 4,
 "nbformat_minor": 1
}
