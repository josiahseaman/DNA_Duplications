{
 "cells": [
  {
   "cell_type": "code",
   "execution_count": 1,
   "metadata": {
    "collapsed": false
   },
   "outputs": [],
   "source": [
    "from newick import loads\n",
    "import newick\n",
    "from DNASkittleUtils.DDVUtils import pp\n",
    "import csv"
   ]
  },
  {
   "cell_type": "markdown",
   "metadata": {},
   "source": [
    "# Cafe"
   ]
  },
  {
   "cell_type": "markdown",
   "metadata": {},
   "source": [
    "Families for study were determined in \"FunctionsForFamilies.ipynb\" under the name `wgd_study_ints` based on the following criteria:\n",
    "#### Select families for study in Repeated Loss Tree mode\n",
    "* Must be in every Oleaceae species\n",
    "* Must be in > 1 copy in >25% of the species\n",
    "* Not present in more than two copies in any species\n",
    "* Must have a std dev > 0, meaning variation is present\n",
    "* Ks indicates copies were made in the most recent WGD"
   ]
  },
  {
   "cell_type": "code",
   "execution_count": 4,
   "metadata": {
    "collapsed": false
   },
   "outputs": [
    {
     "data": {
      "text/plain": [
       "8134"
      ]
     },
     "execution_count": 4,
     "metadata": {},
     "output_type": "execute_result"
    }
   ],
   "source": [
    "all_trees = {}\n",
    "with open(r\"CAFE-4.2\\data\\2020\\static_empty\\two_rate_static_empty.cafe\", 'r') as csvfile:\n",
    "    lines = csvfile.readlines()[11:]\n",
    "    for nLines, row in enumerate(lines):\n",
    "        row = row.split('\\t')\n",
    "        all_trees[int(row[0])] = row[1]\n",
    "len(all_trees)"
   ]
  },
  {
   "cell_type": "code",
   "execution_count": 5,
   "metadata": {
    "collapsed": false
   },
   "outputs": [
    {
     "data": {
      "text/plain": [
       "'(((((((((((FRAX30_2:2,FRAX32_1:2)_1:1,FRAX28_1:3)_1:2,FRAX12_0:5)_1:4,(FRAX07_2:8,FRAX29_2:8)_2:1)_1:4,FRAX08_1:13)_1:1,(((((FRAX01_1:2,FRAX16_0:2)_1:4,FRAX15_0:6)_1:2,FRAX00_1:8)_1:2,(FRAX06_2:9,FRAX23_0:9)_1:1)_1:3,FRAX25_1:13)_1:1)_1:3,FRAX21_1:17)_1:2,(((FRAX19_2:8,FRAX20_1:8)_1:2,((FRAX11_2:5,FRAX27_1:5)_1:4,FRAX04_1:9)_1:1)_1:1,(((((FRAX03_1:1,FRAX09_1:1)_1:1,FRAX13_1:2)_1:2,(FRAX26_0:2,FRAX14_0:2)_0:2)_1:3,FRAX05_1:7)_1:2,FRAX33_2:9)_1:2)_1:8)_1:15,FRAX31_1:34)_1:2,Oeuropea_1:36)_1:24,empty_1:60)_1'"
      ]
     },
     "execution_count": 5,
     "metadata": {},
     "output_type": "execute_result"
    }
   ],
   "source": [
    "all_trees[10000013]"
   ]
  },
  {
   "cell_type": "code",
   "execution_count": 6,
   "metadata": {
    "collapsed": false
   },
   "outputs": [
    {
     "data": {
      "text/plain": [
       "['(((((((((((FRAX30_1:2,FRAX32_1:2)_1:1,FRAX28_1:3)_1:2,FRAX12_1:5)_1:4,(FRAX07_2:8,FRAX29_1:8)_1:1)_1:4,FRAX08_1:13)_1:1,(((((FRAX01_1:2,FRAX16_1:2)_1:4,FRAX15_1:6)_1:2,FRAX00_0:8)_1:2,(FRAX06_1:9,FRAX23_1:9)_1:1)_1:3,FRAX25_1:13)_1:1)_1:3,FRAX21_1:17)_1:2,(((FRAX19_1:8,FRAX20_1:8)_1:2,((FRAX11_1:5,FRAX27_1:5)_1:4,FRAX04_0:9)_1:1)_1:1,(((((FRAX03_1:1,FRAX09_1:1)_1:1,FRAX13_1:2)_1:2,(FRAX26_1:2,FRAX14_1:2)_1:2)_1:3,FRAX05_1:7)_1:2,FRAX33_1:9)_1:2)_1:8)_1:15,FRAX31_0:34)_1:2,Oeuropea_1:36)_1:24,empty_1:60)_1',\n",
       " '(((((((((((FRAX30_1:2,FRAX32_1:2)_1:1,FRAX28_1:3)_1:2,FRAX12_1:5)_1:4,(FRAX07_1:8,FRAX29_1:8)_1:1)_1:4,FRAX08_1:13)_1:1,(((((FRAX01_1:2,FRAX16_1:2)_1:4,FRAX15_0:6)_1:2,FRAX00_1:8)_1:2,(FRAX06_1:9,FRAX23_0:9)_1:1)_1:3,FRAX25_0:13)_1:1)_1:3,FRAX21_1:17)_1:2,(((FRAX19_1:8,FRAX20_0:8)_1:2,((FRAX11_1:5,FRAX27_1:5)_1:4,FRAX04_0:9)_1:1)_1:1,(((((FRAX03_1:1,FRAX09_1:1)_1:1,FRAX13_1:2)_1:2,(FRAX26_0:2,FRAX14_1:2)_1:2)_1:3,FRAX05_1:7)_1:2,FRAX33_1:9)_1:2)_1:8)_1:15,FRAX31_1:34)_1:2,Oeuropea_1:36)_1:24,empty_1:60)_1',\n",
       " '(((((((((((FRAX30_1:2,FRAX32_1:2)_1:1,FRAX28_1:3)_1:2,FRAX12_1:5)_1:4,(FRAX07_1:8,FRAX29_1:8)_1:1)_1:4,FRAX08_1:13)_1:1,(((((FRAX01_1:2,FRAX16_1:2)_1:4,FRAX15_1:6)_1:2,FRAX00_1:8)_1:2,(FRAX06_1:9,FRAX23_1:9)_1:1)_1:3,FRAX25_1:13)_1:1)_1:3,FRAX21_1:17)_1:2,(((FRAX19_1:8,FRAX20_0:8)_1:2,((FRAX11_1:5,FRAX27_1:5)_1:4,FRAX04_1:9)_1:1)_1:1,(((((FRAX03_1:1,FRAX09_1:1)_1:1,FRAX13_1:2)_1:2,(FRAX26_1:2,FRAX14_1:2)_1:2)_1:3,FRAX05_1:7)_1:2,FRAX33_1:9)_1:2)_1:8)_1:15,FRAX31_1:34)_1:2,Oeuropea_2:36)_1:24,empty_1:60)_1']"
      ]
     },
     "execution_count": 6,
     "metadata": {},
     "output_type": "execute_result"
    }
   ],
   "source": [
    "list(all_trees.values())[:3]"
   ]
  },
  {
   "cell_type": "code",
   "execution_count": 7,
   "metadata": {
    "collapsed": true
   },
   "outputs": [],
   "source": [
    "all_ohnologs = list(all_trees.keys())"
   ]
  },
  {
   "cell_type": "code",
   "execution_count": 28,
   "metadata": {
    "collapsed": false
   },
   "outputs": [
    {
     "name": "stdout",
     "output_type": "stream",
     "text": [
      "<57> 0.0\n",
      "<55> 24.0\n",
      "<53> 2.0\n",
      "<29> 15.0\n",
      "<27> 2.0\n",
      "<13> 3.0\n",
      "<11> 1.0\n",
      "<7> 4.0\n",
      "<5> 4.0\n",
      "<3> 2.0\n",
      "<1> 1.0\n",
      "FRAX30 2.0\n",
      "FRAX32 2.0\n",
      "FRAX28 3.0\n",
      "FRAX12 5.0\n",
      "<9> 1.0\n",
      "FRAX07 8.0\n",
      "FRAX29 8.0\n",
      "FRAX08 13.0\n",
      "<25> 1.0\n",
      "<21> 3.0\n",
      "<19> 2.0\n",
      "<17> 2.0\n",
      "<15> 4.0\n",
      "FRAX01 2.0\n",
      "FRAX16 2.0\n",
      "FRAX15 6.0\n",
      "FRAX00 8.0\n",
      "<23> 1.0\n",
      "FRAX06 9.0\n",
      "FRAX23 9.0\n",
      "FRAX25 13.0\n",
      "FRAX21 17.0\n",
      "<39> 8.0\n",
      "<33> 1.0\n",
      "<31> 2.0\n",
      "FRAX19 8.0\n",
      "FRAX20 8.0\n",
      "<37> 1.0\n",
      "<35> 4.0\n",
      "FRAX11 5.0\n",
      "FRAX27 5.0\n",
      "FRAX04 9.0\n",
      "<51> 2.0\n",
      "<49> 2.0\n",
      "<45> 3.0\n",
      "<43> 2.0\n",
      "<41> 1.0\n",
      "FRAX03 1.0\n",
      "FRAX09 1.0\n",
      "FRAX13 2.0\n",
      "<47> 2.0\n",
      "FRAX26 2.0\n",
      "FRAX14 2.0\n",
      "FRAX05 7.0\n",
      "FRAX33 9.0\n",
      "FRAX31 34.0\n",
      "Oeuropea 36.0\n",
      "empty<58> 60.0\n"
     ]
    }
   ],
   "source": [
    "ordered_names = loads('(((((((((((FRAX30:2,FRAX32:2)<1>:1,FRAX28:3)<3>:2,FRAX12:5)<5>:4,(FRAX07:8,FRAX29:8)<9>:1)<7>:4,FRAX08:13)<11>:1,(((((FRAX01:2,FRAX16:2)<15>:4,FRAX15:6)<17>:2,FRAX00:8)<19>:2,(FRAX06:9,FRAX23:9)<23>:1)<21>:3,FRAX25:13)<25>:1)<13>:3,FRAX21:17)<27>:2,(((FRAX19:8,FRAX20:8)<31>:2,((FRAX11:5,FRAX27:5)<35>:4,FRAX04:9)<37>:1)<33>:1,(((((FRAX03:1,FRAX09:1)<41>:1,FRAX13:2)<43>:2,(FRAX26:2,FRAX14:2)<47>:2)<45>:3,FRAX05:7)<49>:2,FRAX33:9)<51>:2)<39>:8)<29>:15,FRAX31:34)<53>:2,Oeuropea:36)<55>:24,empty<58>:60)<57>')[0]\n",
    "def create_ordered_nodes(verbose=False):\n",
    "    ordered_nodes = []\n",
    "    for node in ordered_names.walk(mode=\"preorder\"):\n",
    "        if verbose:\n",
    "            print(node.name, node.length)\n",
    "        ordered_nodes.append({'name': node.name, 'length':node.length, 'losses': 0, 'gains': 0, 'avg#': 0})\n",
    "    return ordered_nodes\n",
    "hello = create_ordered_nodes(True)"
   ]
  },
  {
   "cell_type": "code",
   "execution_count": 29,
   "metadata": {
    "collapsed": false
   },
   "outputs": [
    {
     "name": "stdout",
     "output_type": "stream",
     "text": [
      "_1 1\n",
      "_1 1\n",
      "_1 1\n",
      "_1 1\n",
      "_1 1\n",
      "_1 1\n",
      "_1 1\n",
      "_1 1\n",
      "_1 1\n",
      "_1 1\n",
      "_1 1\n",
      "FRAX30_2 2\n",
      "FRAX32_1 1\n",
      "FRAX28_1 1\n",
      "FRAX12_0 0\n",
      "_2 2\n",
      "FRAX07_2 2\n",
      "FRAX29_2 2\n",
      "FRAX08_1 1\n",
      "_1 1\n",
      "_1 1\n",
      "_1 1\n",
      "_1 1\n",
      "_1 1\n",
      "FRAX01_1 1\n",
      "FRAX16_0 0\n",
      "FRAX15_0 0\n",
      "FRAX00_1 1\n",
      "_1 1\n",
      "FRAX06_2 2\n",
      "FRAX23_0 0\n",
      "FRAX25_1 1\n",
      "FRAX21_1 1\n",
      "_1 1\n",
      "_1 1\n",
      "_1 1\n",
      "FRAX19_2 2\n",
      "FRAX20_1 1\n",
      "_1 1\n",
      "_1 1\n",
      "FRAX11_2 2\n",
      "FRAX27_1 1\n",
      "FRAX04_1 1\n",
      "_1 1\n",
      "_1 1\n",
      "_1 1\n",
      "_1 1\n",
      "_1 1\n",
      "FRAX03_1 1\n",
      "FRAX09_1 1\n",
      "FRAX13_1 1\n",
      "_0 0\n",
      "FRAX26_0 0\n",
      "FRAX14_0 0\n",
      "FRAX05_1 1\n",
      "FRAX33_2 2\n",
      "FRAX31_1 1\n",
      "Oeuropea_1 1\n",
      "empty_1 1\n"
     ]
    }
   ],
   "source": [
    "def extract_count(name):\n",
    "    if isinstance(name, newick.Node):\n",
    "        name = name.name\n",
    "    return int(name.split('_')[-1])\n",
    "\n",
    "for node in loads(all_trees[10000013])[0].walk(mode=\"preorder\"):\n",
    "    print(node.name, extract_count(node.name))"
   ]
  },
  {
   "cell_type": "code",
   "execution_count": 30,
   "metadata": {
    "collapsed": false
   },
   "outputs": [
    {
     "data": {
      "text/plain": [
       "[{'avg#': 1.0, 'gains': 0, 'length': 0.0, 'losses': 0, 'name': '<57>'},\n",
       " {'avg#': 1.0409392672731743,\n",
       "  'gains': 313,\n",
       "  'length': 24.0,\n",
       "  'losses': 0,\n",
       "  'name': '<55>'},\n",
       " {'avg#': 1.0410622080157363,\n",
       "  'gains': 1,\n",
       "  'length': 2.0,\n",
       "  'losses': 0,\n",
       "  'name': '<53>'},\n",
       " {'avg#': 1.0281534300467174,\n",
       "  'gains': 113,\n",
       "  'length': 15.0,\n",
       "  'losses': 232,\n",
       "  'name': '<29>'},\n",
       " {'avg#': 0.9954511925252029,\n",
       "  'gains': 9,\n",
       "  'length': 2.0,\n",
       "  'losses': 275,\n",
       "  'name': '<27>'},\n",
       " {'avg#': 0.9899188591099091,\n",
       "  'gains': 29,\n",
       "  'length': 3.0,\n",
       "  'losses': 75,\n",
       "  'name': '<13>'},\n",
       " {'avg#': 0.9452913695598721,\n",
       "  'gains': 35,\n",
       "  'length': 1.0,\n",
       "  'losses': 399,\n",
       "  'name': '<11>'},\n",
       " {'avg#': 0.9440619621342513,\n",
       "  'gains': 49,\n",
       "  'length': 4.0,\n",
       "  'losses': 61,\n",
       "  'name': '<7>'},\n",
       " {'avg#': 0.9061962134251291,\n",
       "  'gains': 29,\n",
       "  'length': 4.0,\n",
       "  'losses': 337,\n",
       "  'name': '<5>'},\n",
       " {'avg#': 0.8889845094664371,\n",
       "  'gains': 39,\n",
       "  'length': 2.0,\n",
       "  'losses': 180,\n",
       "  'name': '<3>'},\n",
       " {'avg#': 0.848168182935825,\n",
       "  'gains': 28,\n",
       "  'length': 1.0,\n",
       "  'losses': 356,\n",
       "  'name': '<1>'},\n",
       " {'avg#': 0.7735431522006393,\n",
       "  'gains': 106,\n",
       "  'length': 2.0,\n",
       "  'losses': 710,\n",
       "  'name': 'FRAX30'},\n",
       " {'avg#': 0.7830095893779199,\n",
       "  'gains': 98,\n",
       "  'length': 2.0,\n",
       "  'losses': 626,\n",
       "  'name': 'FRAX32'},\n",
       " {'avg#': 0.7821490041799852,\n",
       "  'gains': 111,\n",
       "  'length': 3.0,\n",
       "  'losses': 975,\n",
       "  'name': 'FRAX28'},\n",
       " {'avg#': 0.7370297516597,\n",
       "  'gains': 119,\n",
       "  'length': 5.0,\n",
       "  'losses': 1486,\n",
       "  'name': 'FRAX12'},\n",
       " {'avg#': 0.9000491762970249,\n",
       "  'gains': 28,\n",
       "  'length': 1.0,\n",
       "  'losses': 388,\n",
       "  'name': '<9>'},\n",
       " {'avg#': 0.8491517088763216,\n",
       "  'gains': 147,\n",
       "  'length': 8.0,\n",
       "  'losses': 557,\n",
       "  'name': 'FRAX07'},\n",
       " {'avg#': 0.7705925743791493,\n",
       "  'gains': 215,\n",
       "  'length': 8.0,\n",
       "  'losses': 1273,\n",
       "  'name': 'FRAX29'},\n",
       " {'avg#': 0.7306368330464716,\n",
       "  'gains': 139,\n",
       "  'length': 13.0,\n",
       "  'losses': 1874,\n",
       "  'name': 'FRAX08'},\n",
       " {'avg#': 0.9548807474797147,\n",
       "  'gains': 13,\n",
       "  'length': 1.0,\n",
       "  'losses': 298,\n",
       "  'name': '<25>'},\n",
       " {'avg#': 0.9391443324317679,\n",
       "  'gains': 33,\n",
       "  'length': 3.0,\n",
       "  'losses': 160,\n",
       "  'name': '<21>'},\n",
       " {'avg#': 0.9221785099582002,\n",
       "  'gains': 20,\n",
       "  'length': 2.0,\n",
       "  'losses': 158,\n",
       "  'name': '<19>'},\n",
       " {'avg#': 0.8667322350626998,\n",
       "  'gains': 36,\n",
       "  'length': 2.0,\n",
       "  'losses': 489,\n",
       "  'name': '<17>'},\n",
       " {'avg#': 0.8331694123432506,\n",
       "  'gains': 11,\n",
       "  'length': 4.0,\n",
       "  'losses': 285,\n",
       "  'name': '<15>'},\n",
       " {'avg#': 0.7710843373493976,\n",
       "  'gains': 98,\n",
       "  'length': 2.0,\n",
       "  'losses': 600,\n",
       "  'name': 'FRAX01'},\n",
       " {'avg#': 0.6924022621096632,\n",
       "  'gains': 73,\n",
       "  'length': 2.0,\n",
       "  'losses': 1207,\n",
       "  'name': 'FRAX16'},\n",
       " {'avg#': 0.7172362921072043,\n",
       "  'gains': 88,\n",
       "  'length': 6.0,\n",
       "  'losses': 1290,\n",
       "  'name': 'FRAX15'},\n",
       " {'avg#': 0.867101057290386,\n",
       "  'gains': 271,\n",
       "  'length': 8.0,\n",
       "  'losses': 717,\n",
       "  'name': 'FRAX00'},\n",
       " {'avg#': 0.8811163019424637,\n",
       "  'gains': 15,\n",
       "  'length': 1.0,\n",
       "  'losses': 488,\n",
       "  'name': '<23>'},\n",
       " {'avg#': 0.8304647160068847,\n",
       "  'gains': 113,\n",
       "  'length': 9.0,\n",
       "  'losses': 521,\n",
       "  'name': 'FRAX06'},\n",
       " {'avg#': 0.7302680108187853,\n",
       "  'gains': 60,\n",
       "  'length': 9.0,\n",
       "  'losses': 1276,\n",
       "  'name': 'FRAX23'},\n",
       " {'avg#': 0.7145315957708385,\n",
       "  'gains': 110,\n",
       "  'length': 13.0,\n",
       "  'losses': 2047,\n",
       "  'name': 'FRAX25'},\n",
       " {'avg#': 0.7317432997295303,\n",
       "  'gains': 129,\n",
       "  'length': 17.0,\n",
       "  'losses': 2256,\n",
       "  'name': 'FRAX21'},\n",
       " {'avg#': 0.9886894516842881,\n",
       "  'gains': 45,\n",
       "  'length': 8.0,\n",
       "  'losses': 367,\n",
       "  'name': '<39>'},\n",
       " {'avg#': 0.9511925252028522,\n",
       "  'gains': 10,\n",
       "  'length': 1.0,\n",
       "  'losses': 315,\n",
       "  'name': '<33>'},\n",
       " {'avg#': 0.8777969018932874,\n",
       "  'gains': 34,\n",
       "  'length': 2.0,\n",
       "  'losses': 631,\n",
       "  'name': '<31>'},\n",
       " {'avg#': 0.8462011310548315,\n",
       "  'gains': 197,\n",
       "  'length': 8.0,\n",
       "  'losses': 473,\n",
       "  'name': 'FRAX19'},\n",
       " {'avg#': 0.7099827882960413,\n",
       "  'gains': 109,\n",
       "  'length': 8.0,\n",
       "  'losses': 1448,\n",
       "  'name': 'FRAX20'},\n",
       " {'avg#': 0.9124661912957954,\n",
       "  'gains': 7,\n",
       "  'length': 1.0,\n",
       "  'losses': 318,\n",
       "  'name': '<37>'},\n",
       " {'avg#': 0.8972215392180969,\n",
       "  'gains': 26,\n",
       "  'length': 4.0,\n",
       "  'losses': 148,\n",
       "  'name': '<35>'},\n",
       " {'avg#': 0.8672239980329481,\n",
       "  'gains': 118,\n",
       "  'length': 5.0,\n",
       "  'losses': 357,\n",
       "  'name': 'FRAX11'},\n",
       " {'avg#': 0.8082124416031473,\n",
       "  'gains': 97,\n",
       "  'length': 5.0,\n",
       "  'losses': 822,\n",
       "  'name': 'FRAX27'},\n",
       " {'avg#': 0.7703466928940251,\n",
       "  'gains': 81,\n",
       "  'length': 9.0,\n",
       "  'losses': 1225,\n",
       "  'name': 'FRAX04'},\n",
       " {'avg#': 0.9554954511925252,\n",
       "  'gains': 22,\n",
       "  'length': 2.0,\n",
       "  'losses': 293,\n",
       "  'name': '<51>'},\n",
       " {'avg#': 0.943693139906565,\n",
       "  'gains': 50,\n",
       "  'length': 2.0,\n",
       "  'losses': 151,\n",
       "  'name': '<49>'},\n",
       " {'avg#': 0.9373002212933366,\n",
       "  'gains': 22,\n",
       "  'length': 3.0,\n",
       "  'losses': 74,\n",
       "  'name': '<45>'},\n",
       " {'avg#': 0.9226702729284485,\n",
       "  'gains': 23,\n",
       "  'length': 2.0,\n",
       "  'losses': 143,\n",
       "  'name': '<43>'},\n",
       " {'avg#': 0.903245635603639,\n",
       "  'gains': 21,\n",
       "  'length': 1.0,\n",
       "  'losses': 180,\n",
       "  'name': '<41>'},\n",
       " {'avg#': 0.7549791000737645,\n",
       "  'gains': 102,\n",
       "  'length': 1.0,\n",
       "  'losses': 1291,\n",
       "  'name': 'FRAX03'},\n",
       " {'avg#': 0.8723875092205557,\n",
       "  'gains': 159,\n",
       "  'length': 1.0,\n",
       "  'losses': 397,\n",
       "  'name': 'FRAX09'},\n",
       " {'avg#': 0.7680108187853455,\n",
       "  'gains': 105,\n",
       "  'length': 2.0,\n",
       "  'losses': 1360,\n",
       "  'name': 'FRAX13'},\n",
       " {'avg#': 0.8533316941234325,\n",
       "  'gains': 18,\n",
       "  'length': 2.0,\n",
       "  'losses': 698,\n",
       "  'name': '<47>'},\n",
       " {'avg#': 0.8101794934841406,\n",
       "  'gains': 114,\n",
       "  'length': 2.0,\n",
       "  'losses': 464,\n",
       "  'name': 'FRAX26'},\n",
       " {'avg#': 0.7371526924022621,\n",
       "  'gains': 61,\n",
       "  'length': 2.0,\n",
       "  'losses': 989,\n",
       "  'name': 'FRAX14'},\n",
       " {'avg#': 0.7865748709122203,\n",
       "  'gains': 201,\n",
       "  'length': 7.0,\n",
       "  'losses': 1481,\n",
       "  'name': 'FRAX05'},\n",
       " {'avg#': 0.8025571674452914,\n",
       "  'gains': 115,\n",
       "  'length': 9.0,\n",
       "  'losses': 1353,\n",
       "  'name': 'FRAX33'},\n",
       " {'avg#': 0.8187853454634866,\n",
       "  'gains': 117,\n",
       "  'length': 34.0,\n",
       "  'losses': 1926,\n",
       "  'name': 'FRAX31'},\n",
       " {'avg#': 1.1001967051880994,\n",
       "  'gains': 1175,\n",
       "  'length': 36.0,\n",
       "  'losses': 854,\n",
       "  'name': 'Oeuropea'},\n",
       " {'avg#': 1.0, 'gains': 0, 'length': 60.0, 'losses': 0, 'name': 'empty<58>'}]"
      ]
     },
     "execution_count": 30,
     "metadata": {},
     "output_type": "execute_result"
    }
   ],
   "source": [
    "def populate_history_histogram(study_ints):\n",
    "    ordered_nodes = create_ordered_nodes()\n",
    "    genes_lost = {node['name']:set() for node in ordered_nodes}\n",
    "    for fam_id in study_ints:\n",
    "        newick_str = all_trees[fam_id]\n",
    "        tree = loads(newick_str)[0]\n",
    "        for index, node in enumerate(tree.walk(mode=\"preorder\")):\n",
    "            count = extract_count(node)\n",
    "            tail = ''\n",
    "            ordered_nodes[index]['avg#'] += count\n",
    "            if node.ancestor:\n",
    "                parent_count = extract_count(node.ancestor.name)\n",
    "                if count < parent_count:\n",
    "                    tail = (\"loss\")\n",
    "                    ordered_nodes[index]['losses'] += 1 #parent_count - count\n",
    "                    place_name = node.name.split('_')[0]\n",
    "                    if place_name:\n",
    "                        genes_lost[place_name].add(fam_id)  # record gene family\n",
    "                elif count > parent_count:\n",
    "                    tail = (\"gain\")\n",
    "                    ordered_nodes[index]['gains'] += 1 #count - parent_count \n",
    "#             print(node.name, count, tail)\n",
    "    for result in ordered_nodes:  # divide sum by length to get mean\n",
    "        result['avg#'] /= len(study_ints)\n",
    "    return ordered_nodes, genes_lost\n",
    "ordered_nodes, genes_lost = populate_history_histogram(all_ohnologs)\n",
    "ordered_nodes"
   ]
  },
  {
   "cell_type": "markdown",
   "metadata": {},
   "source": [
    "# Histogram of change per time interval"
   ]
  },
  {
   "cell_type": "code",
   "execution_count": 32,
   "metadata": {
    "collapsed": true
   },
   "outputs": [],
   "source": [
    "def ancestors_length(node):\n",
    "    ancestors = []\n",
    "    while node.ancestor:\n",
    "        node = node.ancestor\n",
    "        ancestors.append(node.length)\n",
    "    return ancestors\n",
    "\n",
    "def populate_change_histogram(results_per_node, blacklist_index):\n",
    "    losses_per_interval = [0] * 79  # contain sums of changes\n",
    "    gains_per_interval = [0] * 79  # contain sums of changes\n",
    "    branch_occupancy = [0] * 79  # number of branches at that interval for normalization\n",
    "\n",
    "\n",
    "    for node_i, node in enumerate(ordered_names.walk(mode=\"preorder\")):\n",
    "        if node_i not in blacklist_index:\n",
    "            ancestor_sum_length = int(sum(ancestors_length(node)))\n",
    "            my_end = ancestor_sum_length + int(node.length)\n",
    "            for year in range(ancestor_sum_length, my_end):\n",
    "                losses_per_interval[year] += results_per_node[node_i]['losses'] / node.length\n",
    "                gains_per_interval[year] += results_per_node[node_i]['gains'] / node.length\n",
    "                branch_occupancy[year] += 1\n",
    "    print(gains_per_interval)\n",
    "    print(branch_occupancy)\n",
    "    normalized_losses = [losses / max(1,branches) for (losses, branches) in zip(losses_per_interval, branch_occupancy) ]\n",
    "    normalized_gains = [gains / max(1,branches) for (gains, branches) in zip(gains_per_interval, branch_occupancy) ]\n",
    "    print(normalized_gains)\n",
    "    return normalized_losses, normalized_gains"
   ]
  },
  {
   "cell_type": "code",
   "execution_count": 33,
   "metadata": {
    "collapsed": false
   },
   "outputs": [
    {
     "data": {
      "text/html": [
       "<img src=\"CAFE-4.2/data/homeologs_only/reports/tree_nodes.png\">"
      ],
      "text/plain": [
       "<IPython.core.display.HTML object>"
      ]
     },
     "metadata": {},
     "output_type": "display_data"
    }
   ],
   "source": [
    "%%html\n",
    "<img src=\"CAFE-4.2/data/homeologs_only/reports/tree_nodes.png\">"
   ]
  },
  {
   "cell_type": "code",
   "execution_count": 34,
   "metadata": {
    "collapsed": false
   },
   "outputs": [
    {
     "name": "stdout",
     "output_type": "stream",
     "text": [
      "[13.041666666666666, 13.041666666666666, 13.041666666666666, 13.041666666666666, 13.041666666666666, 13.041666666666666, 13.041666666666666, 13.041666666666666, 13.041666666666666, 13.041666666666666, 13.041666666666666, 13.041666666666666, 13.041666666666666, 13.041666666666666, 13.041666666666666, 13.041666666666666, 13.041666666666666, 13.041666666666666, 13.041666666666666, 13.041666666666666, 13.041666666666666, 13.041666666666666, 13.041666666666666, 13.041666666666666, 33.138888888888886, 33.138888888888886, 43.613398692810456, 43.613398692810456, 43.613398692810456, 43.613398692810456, 43.613398692810456, 43.613398692810456, 43.613398692810456, 43.613398692810456, 43.613398692810456, 43.613398692810456, 43.613398692810456, 43.613398692810456, 43.613398692810456, 43.613398692810456, 43.613398692810456, 46.20506535947712, 46.20506535947712, 58.959967320261434, 58.959967320261434, 58.959967320261434, 97.29330065359477, 91.69714680744092, 91.69714680744092, 107.07214680744092, 135.0721468074409, 197.57214680744093, 277.9471468074409, 288.99476585506, 288.4114325217266, 360.9614325217266, 374.1280991883933, 419.6280991883932, 716.8780991883933, 956.8780991883933, 0, 0, 0, 0, 0, 0, 0, 0, 0, 0, 0, 0, 0, 0, 0, 0, 0, 0, 0]\n",
      "[2, 2, 2, 2, 2, 2, 2, 2, 2, 2, 2, 2, 2, 2, 2, 2, 2, 2, 2, 2, 2, 2, 2, 2, 3, 3, 4, 4, 4, 4, 4, 4, 4, 4, 4, 4, 4, 4, 4, 4, 4, 5, 5, 6, 6, 6, 7, 9, 9, 10, 12, 16, 19, 20, 21, 23, 24, 25, 29, 30, 0, 0, 0, 0, 0, 0, 0, 0, 0, 0, 0, 0, 0, 0, 0, 0, 0, 0, 0]\n",
      "[6.520833333333333, 6.520833333333333, 6.520833333333333, 6.520833333333333, 6.520833333333333, 6.520833333333333, 6.520833333333333, 6.520833333333333, 6.520833333333333, 6.520833333333333, 6.520833333333333, 6.520833333333333, 6.520833333333333, 6.520833333333333, 6.520833333333333, 6.520833333333333, 6.520833333333333, 6.520833333333333, 6.520833333333333, 6.520833333333333, 6.520833333333333, 6.520833333333333, 6.520833333333333, 6.520833333333333, 11.046296296296296, 11.046296296296296, 10.903349673202614, 10.903349673202614, 10.903349673202614, 10.903349673202614, 10.903349673202614, 10.903349673202614, 10.903349673202614, 10.903349673202614, 10.903349673202614, 10.903349673202614, 10.903349673202614, 10.903349673202614, 10.903349673202614, 10.903349673202614, 10.903349673202614, 9.241013071895424, 9.241013071895424, 9.826661220043572, 9.826661220043572, 9.826661220043572, 13.899042950513538, 10.188571867493435, 10.188571867493435, 10.70721468074409, 11.256012233953408, 12.348259175465058, 14.628797200391626, 14.449738292753, 13.73387773912984, 15.693975327031591, 15.588670799516388, 16.78512396753573, 24.719934454772183, 31.89593663961311, 0.0, 0.0, 0.0, 0.0, 0.0, 0.0, 0.0, 0.0, 0.0, 0.0, 0.0, 0.0, 0.0, 0.0, 0.0, 0.0, 0.0, 0.0, 0.0]\n"
     ]
    }
   ],
   "source": [
    "normalized_losses, normalized_gains = populate_change_histogram(ordered_nodes, [])"
   ]
  },
  {
   "cell_type": "code",
   "execution_count": 35,
   "metadata": {
    "collapsed": false
   },
   "outputs": [
    {
     "name": "stdout",
     "output_type": "stream",
     "text": [
      "[6.520833333333333, 6.520833333333333, 6.520833333333333, 6.520833333333333, 6.520833333333333, 6.520833333333333, 6.520833333333333, 6.520833333333333, 6.520833333333333, 6.520833333333333, 6.520833333333333, 6.520833333333333, 6.520833333333333, 6.520833333333333, 6.520833333333333, 6.520833333333333, 6.520833333333333, 6.520833333333333, 6.520833333333333, 6.520833333333333, 6.520833333333333, 6.520833333333333, 6.520833333333333, 6.520833333333333, 11.046296296296296, 11.046296296296296, 10.903349673202614, 10.903349673202614, 10.903349673202614, 10.903349673202614, 10.903349673202614, 10.903349673202614, 10.903349673202614, 10.903349673202614, 10.903349673202614, 10.903349673202614, 10.903349673202614, 10.903349673202614, 10.903349673202614, 10.903349673202614, 10.903349673202614, 9.241013071895424, 9.241013071895424, 9.826661220043572, 9.826661220043572, 9.826661220043572, 13.899042950513538, 10.188571867493435, 10.188571867493435, 10.70721468074409, 11.256012233953408, 12.348259175465058, 14.628797200391626, 14.449738292753, 13.73387773912984, 15.693975327031591, 15.588670799516388, 16.78512396753573, 24.719934454772183, 31.89593663961311, 0.0, 0.0, 0.0, 0.0, 0.0, 0.0, 0.0, 0.0, 0.0, 0.0, 0.0, 0.0]\n",
      "[0.0, 0.0, 0.0, 0.0, 0.0, 0.0, 0.0]\n"
     ]
    }
   ],
   "source": [
    "print(normalized_gains[:-7])\n",
    "print(normalized_gains[-7:])"
   ]
  },
  {
   "cell_type": "code",
   "execution_count": 59,
   "metadata": {
    "collapsed": false
   },
   "outputs": [
    {
     "data": {
      "image/png": "[encoded data removed]",
      "text/plain": [
       "<matplotlib.figure.Figure at 0x19ed7e80>"
      ]
     },
     "metadata": {},
     "output_type": "display_data"
    }
   ],
   "source": [
    "%matplotlib inline\n",
    "import numpy as np\n",
    "import matplotlib.pyplot as plt\n",
    "\n",
    "def plot_time_histogram(normalized_losses, normalized_gains, start_year=0):\n",
    "    # plot time_intervals,  plot gains in different colors\n",
    "    fig, ax = plt.subplots(figsize=(10,5), dpi=300)\n",
    "    end = -12\n",
    "    xs = np.arange(0, len(normalized_losses[start_year:end]))\n",
    "    bar_width = 1\n",
    "    ax.bar(xs, normalized_losses[start_year:end], bar_width,\n",
    "                    alpha=.5, color='r', linewidth=0,\n",
    "                    label='Losses')\n",
    "    ax.bar(xs, normalized_gains[start_year:end], bar_width,\n",
    "                    alpha=1., color='#7F7FFF', linewidth=0,\n",
    "                    label='Gains')\n",
    "    ax.set_xlabel('MY since WGD')\n",
    "    ax.set_ylabel('Average Changes per Branch per Mil. Year')\n",
    "    ax.set_title('Rate of Change in Copy Number over Time')\n",
    "    # ax.set_xticks(index + bar_width / 2)\n",
    "    # ax.set_xticklabels(('A', 'B', 'C', 'D', 'E'))\n",
    "    ax.legend(loc='upper left')\n",
    "    # fig.tight_layout()\n",
    "    plt.savefig('CAFE-4.2/data/2020/rate_of_change.png', dpi=300)\n",
    "plot_time_histogram(normalized_losses[:-7], normalized_gains[:-7])  "
   ]
  },
  {
   "cell_type": "markdown",
   "metadata": {},
   "source": [
    "**Conclusion: Supports lag-time model though could be from incomplete assembly and annotation.**"
   ]
  },
  {
   "cell_type": "markdown",
   "metadata": {
    "collapsed": false
   },
   "source": [
    "normalized_losses[:-7]"
   ]
  },
  {
   "cell_type": "code",
   "execution_count": 15,
   "metadata": {
    "collapsed": false
   },
   "outputs": [
    {
     "name": "stdout",
     "output_type": "stream",
     "text": [
      "RanksumsResult(statistic=0.7095242473194603, pvalue=0.4779992100249857)\n"
     ]
    },
    {
     "data": {
      "text/plain": [
       "RanksumsResult(statistic=4.070403151799809, pvalue=4.6931849057715643e-05)"
      ]
     },
     "execution_count": 15,
     "metadata": {},
     "output_type": "execute_result"
    }
   ],
   "source": [
    "from scipy.stats import ranksums\n",
    "simulated_losses = [0.0,0.0,0.0,0.0,0.0,0.0,0.0,0.0,0.0,0.0,0.0,0.0,0.0,0.0,0.0,0.0,0.0,0.0,0.0,0.0,0.0,0.0,0.0,0.0,0.0,0.0,0.0,0.0,0.0,0.0,0.0,0.0,0.0,0.0,0.0,0.0,41.666666666666664,41.666666666666664,97.9673202614379,97.9673202614379,97.9673202614379,97.9673202614379,97.9673202614379,97.9673202614379,97.9673202614379,97.9673202614379,97.9673202614379,97.9673202614379,97.9673202614379,97.9673202614379,97.9673202614379,97.9673202614379,97.9673202614379,93.8296568627451,93.8296568627451,83.27352941176471,83.27352941176471,83.27352941176471,95.61683006535948,77.05076357466064,77.05076357466064,77.51734539969834,89.04449472096532,81.31966649907825,75.14833319367632,74.53025049425977,74.08707130288012,72.80870118443647,72.86774316192475,73.00519830795567,73.34374140681915,73.02154342727366]\n",
    "print(ranksums(normalized_losses[36:-7], simulated_losses[36:]))\n",
    "ranksums(normalized_losses[56:-7], simulated_losses[56:])"
   ]
  },
  {
   "cell_type": "markdown",
   "metadata": {},
   "source": [
    "### Prefiltering for genes that are copy 2 at root"
   ]
  },
  {
   "cell_type": "code",
   "execution_count": 16,
   "metadata": {
    "collapsed": false
   },
   "outputs": [
    {
     "data": {
      "text/plain": [
       "{'avg#': 1.2516501650165017,\n",
       " 'gains': 0,\n",
       " 'length': 36.0,\n",
       " 'losses': 0,\n",
       " 'name': '<55>'}"
      ]
     },
     "execution_count": 16,
     "metadata": {},
     "output_type": "execute_result"
    }
   ],
   "source": [
    "ordered_nodes[0]"
   ]
  },
  {
   "cell_type": "code",
   "execution_count": 39,
   "metadata": {
    "collapsed": true
   },
   "outputs": [],
   "source": [
    "def get_count_at_root(fam_id, ordered_node_index=0):\n",
    "    newick_str = all_trees[fam_id]\n",
    "    tree = loads(newick_str)[0]\n",
    "    for index, node in enumerate(tree.walk(mode=\"preorder\")):\n",
    "        if index == ordered_node_index:\n",
    "            count = extract_count(node)\n",
    "            return count"
   ]
  },
  {
   "cell_type": "code",
   "execution_count": 40,
   "metadata": {
    "collapsed": false
   },
   "outputs": [
    {
     "name": "stdout",
     "output_type": "stream",
     "text": [
      "0.0 preserved\n"
     ]
    }
   ],
   "source": [
    "    \n",
    "filtered_wgd_study_ints = [fam for fam in all_ohnologs if get_count_at_root(fam) == 2]\n",
    "assert all([get_count_at_root(fam)==2 for fam in filtered_wgd_study_ints])\n",
    "\n",
    "print(pp(len(filtered_wgd_study_ints) / len(all_ohnologs)), 'preserved')"
   ]
  },
  {
   "cell_type": "code",
   "execution_count": 19,
   "metadata": {
    "collapsed": false,
    "scrolled": false
   },
   "outputs": [
    {
     "name": "stdout",
     "output_type": "stream",
     "text": [
      "[0, 6599, 1699, 146, 30, 4, 3, 0, 2, 0, 1]\n"
     ]
    }
   ],
   "source": [
    "def i_hist(values):\n",
    "    bins = [0] * (max(values) +1)\n",
    "    for v in values:\n",
    "        bins[v] += 1\n",
    "    return bins\n",
    "\n",
    "copies = [ get_count_at_root(fam) for fam in all_ohnologs]\n",
    "print(i_hist(copies))"
   ]
  },
  {
   "cell_type": "code",
   "execution_count": 20,
   "metadata": {
    "collapsed": false
   },
   "outputs": [
    {
     "data": {
      "image/png": "[encoded data removed]",
      "text/plain": [
       "<matplotlib.figure.Figure at 0x1a028f98>"
      ]
     },
     "metadata": {},
     "output_type": "display_data"
    }
   ],
   "source": [
    "import pandas\n",
    "def pretty_hist(title, raw_values, x_title=\"\", y_title=\"Count\", xmax=None, bins=None):\n",
    "    if xmax is None:\n",
    "        xmax = max(raw_values)\n",
    "    if bins is None:\n",
    "        bins = xmax - min(raw_values)\n",
    "    if not isinstance(bins, int):\n",
    "        bins = 10\n",
    "    c_values = [v for v in raw_values if v <= xmax]\n",
    "    df = pandas.Series(c_values)#, columns=['Family ID', 'Copies'])\n",
    "    f = df.hist(bins=bins, figsize=(10,5), facecolor='#31a354', edgecolor='#31a354')#dpi=300)\n",
    "    f.grid(False)\n",
    "#     f.set_xticks([i for i in range(min(raw_values), xmax) if i % (bins//8) == 0])\n",
    "    f.set_title(title)\n",
    "    f.set_xlabel(x_title)\n",
    "    f.set_ylabel(y_title)\n",
    "\n",
    "pretty_hist('Number of Copies at the Oleaceae root', [c for c in copies if c < 21])"
   ]
  },
  {
   "cell_type": "markdown",
   "metadata": {},
   "source": [
    "## Patterns of Repeated Loss\n",
    "All families in the study have at least one loss event present which could affect one or more species depending on the position in the tree.  If the species with copy number 1 are all monophyletic, then only one event is necessary.  If they are polyphyletic, then multiple events are necessary.  But what is our null distribution?  What is a chance scattering uniformly across time?  Is it similar to our history histogram?"
   ]
  },
  {
   "cell_type": "code",
   "execution_count": 21,
   "metadata": {
    "collapsed": false
   },
   "outputs": [],
   "source": [
    "def collect_loss_events_per_family(study_ints, blacklist_index):\n",
    "    ordered_nodes = create_ordered_nodes()\n",
    "    loss_events_per_family = {}\n",
    "    for fam_id in study_ints:\n",
    "        current_family_loss_events = 0\n",
    "        species_total = 0\n",
    "        newick_str = all_trees[fam_id]\n",
    "        tree = loads(newick_str)[0]\n",
    "        for index, node in enumerate(tree.walk(mode=\"preorder\")):\n",
    "            count = extract_count(node)\n",
    "            if node.ancestor and index not in blacklist_index:\n",
    "                if not node.name.startswith('_'):\n",
    "                    species_total += count\n",
    "                parent_count = extract_count(node.ancestor.name)\n",
    "                if count < parent_count:  # \"loss\"\n",
    "                    current_family_loss_events += 1\n",
    "                elif count > parent_count:  # gain\n",
    "                    pass\n",
    "        loss_events_per_family[fam_id] = current_family_loss_events\n",
    "    pretty_hist(\"Repeated Loss in the Same Gene Family\", list(loss_events_per_family.values()))\n",
    "    return loss_events_per_family"
   ]
  },
  {
   "cell_type": "code",
   "execution_count": 22,
   "metadata": {
    "collapsed": false,
    "scrolled": false
   },
   "outputs": [
    {
     "data": {
      "image/png": "[encoded data removed]",
      "text/plain": [
       "<matplotlib.figure.Figure at 0x1a39d470>"
      ]
     },
     "metadata": {},
     "output_type": "display_data"
    }
   ],
   "source": [
    "all_loss_events = collect_loss_events_per_family(list(all_trees.keys()), [])"
   ]
  },
  {
   "cell_type": "markdown",
   "metadata": {},
   "source": [
    "**One Single distribution! down from a mixture**"
   ]
  },
  {
   "cell_type": "markdown",
   "metadata": {},
   "source": [
    "* families of different size, big families can have more losses\n",
    "* Annotation errors\n",
    "* Different selective constraints"
   ]
  },
  {
   "cell_type": "code",
   "execution_count": 23,
   "metadata": {
    "collapsed": false
   },
   "outputs": [
    {
     "name": "stdout",
     "output_type": "stream",
     "text": [
      "3 0 4 3 3 1 0 1 2 3 2 1 0 8 6 2 11 12 0 3 1 7 4 0 3 0 9 6 0 1 2 1 9 4 8 16 6 1 4 5 2 2 1 11 4 1 1 0 1 1 1 7 0 15 11 4 0 3 4 1 1 0 9 2 8 6 0 0 0 9 2 4 2 0 4 2 2 9 1 6 3 0 7 5 12 9 1 0 3 3 4 0 3 0 1 0 0 0 0 1 0 1 2 3 3 2 0 2 2 0 6 0 2 3 0 4 4 3 2 1 1 10 11 9 1 7 12 10 2 3 16 2 8 6 1 3 1 0 2 1 1 2 12 0 2 1 1 10 3 6 4 6 0 4 7 0 11 0 2 10 2 3 2 12 8 1 0 1 4 10 8 3 10 1 0 2 1 2 6 0 2 0 5 2 17 8 10 1 4 5 4 1 12 2 10 2 2 4 2 0 4 13 3 1 5 0 3 2 11 11 2 3 0 1 3 7 0 14 2 4 2 5 8 5 0 9 12 3 4 10 13 1 0 7 1 7 2 3 1 2 2 3 7 1 4 0 7 3 4 3 2 1 1 3 0 10 12 2 1 2 14 0 1 2 2 1 8 6 2 1 2 6 6 2 1 0 6 0 0 3 3 1 5 2 1 3 12 1 2 2 13 4 2 6 1 1 14 0 4 2 0 0 0 4 2 2 7 2 8 6 6 2 6 4 4 0 0 1 15 1 6 1 0 3 3 3 7 0 1 11 1 4 0 5 3 1 2 2 6 1 3 0 7 2 8 10 0 5 9 13 3 4 0 0 3 0 3 1 2 0 12 0 1 1 2 4 1 0 4 8 0 1 10 2 2 3 5 7 10 1 1 10 1 0 5 7 1 2 5 8 0 4 0 2 2 0 7 1 1 0 1 3 5 2 2 4 0 2 11 12 3 1 12 6 7 7 2 1 4 0 1 1 12 0 0 2 1 10 2 6 6 2 14 0 2 3 5 2 2 4 3 2 1 2 7 2 1 2 2 2 3 0 13 1 7 4 1 1 0 0 3 10 1 9 1 3 9 0 17 0 1 2 3 14 0 15 3 13 3 7 2 5 2 16 7 17 5 8 2 5 2 7 0 0 0 4 2 6 1 1 1 13 9 2 17 11 4 3 7 3 1 10 1 5 0 1 2 2 1 2 8 7 5 2 1 1 11 2 2 6 3 1 1 12 1 9 13 6 4 8 7 6 0 3 1 3 4 8 4 5 7 2 10 5 4 13 2 2 2 4 0 13 8 7 1 9 2 0 5 2 5 1 6 3 3 8 9 0 3 1 7 2 2 2 5 2 9 4 2 2 5 3 11 1 9 5 2 0 3 1 1 4 3 3 0 0 2 1 3 2 1 4 9 2 4 5 2 2 3 8 3 1 4 10 5 10 1 1 4 2 1 6 7 6 2 1 2 2 2 6 1 3 14 1 8 4 3 3 11 2 3 2 8 1 1 0 10 2 6 6 1 9 3 2 6 0 2 4 1 2 1 5 8 8 0 2 0 1 3 13 1 3 2 1 5 2 0 2 0 0 5 2 6 0 5 2 0 1 1 1 1 11 5 3 2 3 1 3 1 1 10 4 3 7 9 5 1 2 0 7 2 4 3 2 6 3 13 1 7 7 1 13 4 1 2 1 2 3 2 10 0 11 1 0 7 1 0 2 1 2 2 2 7 3 5 2 2 0 3 1 4 4 6 2 6 6 13 3 1 9 1 9 10 2 4 5 0 4 14 12 1 0 7 4 1 0 4 1 10 3 2 5 0 2 4 5 1 1 7 9 10 2 1 9 14 3 2 7 0 2 3 1 0 15 1 0 5 7 3 1 11 2 4 3 1 1 15 3 2 1 3 0 2 3 1 6 12 10 2 2 3 13 6 9 11 7 5 3 12 10 3 5 1 8 1 5 2 1 1 3 4 1 3 15 8 12 4 1 4 2 3 8 3 3 1 2 2 9 1 3 1 1 2 7 2 10 7 2 0 2 1 0 4 6 10 13 2 3 5 6 2 1 1 7 4 3 2 6 7 8 0 3 4 8 0 6 2 2 0 4 1 1 2 4 1 2 2 2 3 1 1 9 1 4 1 4 13 5 2 2 12 4 4 0 2 3 3 2 2 6 2 0 3 2 3 2 4 2 12 7 5 1 7 6 6 1 3 3 1 4 12 6 2 3 10 15 1 1 10 5 2 7 8 10 11 1 3 3 1 2 3 2 2 0 8 13 1 9 10 1 5 1 0 5 6 2 4 12 8 2 2 4 12 2 1 7 4 3 3 7 6 9 2 4 5 10 0 9 2 5 2 4 2 1 2 2 2 1 3 2 7 0 2 6 2 2 1 7 8 2 3 3 6 0 3 4 3 2 1 3 3 5 5 1 3 9 1 1 6 2 9 2 8 4 8 4 2 1 5 3 2 4 1 5 11 4 2 3 4 9 10 1 5 3 4 4 2 6 1 3 7 1 5 1 5 14 0 2 4 8 4 2 0 10 6 2 15 3 0 2 0 5 1 5 2 2 3 8 5 1 3 4 1 4 1 5 4 4 2 6 7 2 3 6 2 6 13 9 2 1 2 3 4 2 7 1 2 5 3 2 3 4 5 1 2 2 2 5 3 3 1 3 3 3 0 1 0 7 0 14 4 0 2 3 6 3 5 2 2 5 3 8 7 5 2 4 3 1 13 3 2 3 2 3 3 3 2 3 3 0 5 3 6 2 7 3 2 2 12 0 6 1 8 2 7 6 8 3 2 0 5 2 6 9 4 2 5 1 6 5 1 2 4 3 1 2 4 2 0 6 3 8 3 2 8 0 8 0 1 0 3 5 2 7 3 2 2 6 1 1 3 5 3 3 4 1 6 9 4 1 6 3 3 4 3 4 14 5 1 3 3 4 0 4 3 4 4 14 0 1 1 2 0 4 12 1 5 9 2 1 10 4 3 12 0 2 5 6 16 0 3 3 5 11 1 3 4 6 6 5 4 8 3 3 5 4 0 3 2 2 2 5 2 4 2 3 4 7 5 1 2 7 0 4 11 2 3 8 1 6 3 0 9 2 3 3 3 5 3 1 4 1 5 0 3 1 6 5 4 3 2 3 4 12 0 10 2 8 4 1 10 7 6 3 8 4 10 1 11 4 1 7 16 5 3 5 4 0 2 2 5 5 2 3 11 2 5 4 0 14 4 11 5 5 4 3 1 4 3 12 1 4 2 5 7 11 4 11 6 4 2 3 4 4 5 4 0 5 5 6 6 8 1 4 5 13 3 4 5 3 8 1 2 6 1 10 1 10 5 8 7 4 0 4 6 4 4 9 2 11 1 8 0 5 3 4 6 15 5 6 2 4 9 6 1 5 8 4 7 3 1 8 4 9 6 6 6 7 3 6 1 6 9 5 2 5 9 8 6 12 5 4 5 4 2 3 7 5 3 7 4 2 4 0 13 1 7 5 5 4 4 3 4 0 3 6 7 1 6 3 7 5 3 6 1 5 5 6 0 5 8 3 2 0 3 7 6 5 5 4 1 5 4 6 4 1 5 2 11 2 3 1 1 12 5 4 12 2 3 0 2 6 2 2 10 9 6 1 3 3 6 4 7 6 4 18 3 5 4 4 7 5 3 9 2 2 4 2 0 2 9 1 2 4 3 4 5 1 7 0 4 1 6 2 1 3 7 9 4 8 0 5 5 2 2 1 5 14 2 8 7 11 2 3 7 5 4 1 5 7 3 7 2 3 4 6 3 6 7 4 13 3 7 6 0 0 4 2 9 6 3 4 0 3 3 5 12 2 4 4 6 1 4 2 0 10 6 8 1 4 3 4 9 3 0 7 7 6 1 4 4 2 7 2 1 8 2 16 3 1 11 6 6 3 5 4 4 4 4 0 8 7 3 6 5 4 2 7 1 4 3 5 3 8 5 6 6 10 4 8 4 0 4 8 4 5 2 13 12 7 11 6 1 8 1 2 13 6 9 3 2 6 2 4 7 6 8 2 0 16 1 9 3 13 8 4 2 9 10 4 3 2 5 9 10 5 5 5 2 4 6 3 2 2 1 6 0 6 6 3 0 1 7 7 4 5 3 9 6 4 4 1 6 0 6 12 7 4 5 2 4 9 10 4 3 4 6 6 5 2 5 5 5 8 7 2 5 4 2 6 3 5 1 3 4 4 9 0 7 2 8 4 5 7 2 4 4 4 0 4 2 5 3 6 10 1 1 4 7 2 12 2 7 9 8 4 6 4 8 8 6 2 6 4 10 8 1 2 6 7 11 3 7 10 3 5 3 7 15 6 1 7 1 2 8 3 5 6 5 11 2 2 7 0 7 7 11 8 3 7 12 3 1 6 3 7 7 1 14 3 8 4 5 0 8 8 8 2 3 6 3 0 5 6 8 3 10 1 4 1 5 9 8 4 6 7 2 7 6 9 2 5 7 11 19 1 15 1 9 3 7 4 3 3 0 4 1 7 5 13 11 4 2 8 4 9 3 6 2 4 3 0 3 2 0 11 6 6 12 6 2 1 7 5 4 6 10 8 4 3 11 4 2 3 5 13 5 7 0 5 9 1 3 8 2 9 9 5 10 0 5 2 5 8 9 3 5 13 10 3 2 7 6 2 6 8 1 2 7 9 7 2 9 8 3 4 4 2 5 2 6 6 6 2 4 0 1 1 3 7 3 2 13 4 3 15 7 1 2 6 9 0 5 3 6 6 11 11 4 11 1 4 7 5 7 13 5 4 7 0 4 7 1 2 0 3 9 3 3 11 16 8 3 1 15 8 2 6 5 4 5 4 4 6 4 11 7 7 1 2 8 14 3 6 6 1 11 3 6 13 7 7 4 7 7 5 5 13 1 8 5 0 5 6 3 7 7 7 5 7 14 13 4 4 3 8 2 7 8 4 2 4 4 4 1 10 10 8 5 10 4 8 9 6 4 1 6 1 7 9 9 1 9 6 3 10 15 2 9 11 1 5 3 3 9 2 4 13 3 2 5 7 5 7 6 3 5 1 1 5 10 7 14 6 6 1 9 7 4 4 9 9 7 14 7 15 11 3 8 19 2 4 5 13 7 5 1 7 3 7 7 12 8 10 10 1 9 8 4 4 6 11 7 2 15 1 6 7 14 11 4 7 9 5 4 6 6 2 2 6 3 11 6 16 5 7 12 5 8 4 6 8 3 3 2 2 5 3 12 18 6 3 2 2 7 5 7 6 3 7 3 7 9 7 2 6 10 10 5 4 8 5 6 12 1 12 4 2 5 3 13 0 11 7 22 8 7 3 3 4 9 7 3 12 2 2 2 10 3 8 14 5 5 4 6 5 6 2 9 6 9 6 7 6 3 6 7 5 3 4 13 0 8 9 9 5 10 12 2 8 8 15 5 4 0 6 3 11 5 4 7 1 7 8 2 8 11 13 6 2 8 4 10 7 4 7 7 2 4 4 6 2 4 7 16 10 10 5 9 7 4 13 2 8 2 7 10 4 6 9 5 12 6 11 9 4 13 13 4 5 9 11 10 4 2 4 6 8 11 3 6 11 1 5 6 2 11 9 5 11 4 11 2 10 5 3 6 9 5 5 9 13 9 2 10 7 5 5 6 7 5 11 5 9 5 11 10 8 6 8 8 5 2 8 7 7 7 4 3 9 9 7 8 8 6 9 0 4 5 2 9 15 12 3 8 13 3 15 13 2 2 6 1 6 9 8 6 4 7 3 2 10 2 4 6 10 10 8 15 1 11 3 12 8 2 3 6 6 2 1 5 8 3 4 5 7 7 7 4 3 1 10 6 10 0 14 5 4 6 0 2 0 7 6 4 7 3 7 12 3 2 8 4 13 13 16 8 14 3 8 3 5 7 9 3 10 10 2 6 11 7 4 3 4 8 9 7 6 9 6 2 12 1 9 2 1 1 6 5 6 16 8 10 8 8 6 6 3 14 5 9 2 10 3 8 0 4 2 11 5 16 4 8 12 7 2 8 10 5 6 7 7 5 6 4 6 11 3 1 6 4 12 13 14 2 3 7 4 6 3 5 5 6 15 2 13 3 8 4 6 12 9 2 8 3 2 7 2 10 16 3 5 10 3 10 15 2 5 2 3 8 8 6 2 5 3 2 2 2 5 6 3 7 9 14 8 3 8 7 0 6 6 2 10 7 7 9 7 1 3 6 6 15 16 16 9 10 10 5 3 7 11 14 3 7 10 5 12 2 9 11 2 15 11 6 12 9 9 8 10 8 10 7 8 10 7 10 9 1 3 0 9 10 7 3 2 3 3 2 0 0 9 13 12 4 10 2 8 4 9 6 10 9 15 7 13 12 5 7 3 8 3 11 6 9 11 9 3 12 12 8 13 5 4 3 7 7 14 9 6 8 6 14 12 6 5 7 2 9 11 2 8 12 6 4 4 6 12 2 3 7 16 10 12 3 6 8 2 9 12 5 6 11 16 5 5 5 9 14 10 12 10 1 5 13 6 8 7 16 3 2 5 10 8 5 14 2 10 15 5 2 13 7 2 12 7 9 8 4 11 6 6 5 13 3 1 14 6 8 11 10 9 5 14 7 8 8 1 2 8 3 9 8 3 2 12 6 10 5 8 16 11 0 12 12 12 8 3 2 7 8 8 11 2 7 5 6 8 4 4 13 1 0 2 12 7 2 10 14 6 3 7 12 6 8 5 8 3 4 5 10 1 10 13 1 2 8 10 7 10 8 6 9 10 6 2 7 10 9 7 10 5 12 13 2 3 5 12 4 9 14 13 1 7 8 11 7 2 12 6 9 3 9 6 6 6 5 13 8 7 13 11 9 7 11 9 9 9 12 2 13 8 3 15 17 3 3 13 15 8 15 8 13 2 8 10 10 3 16 9 13 11 6 2 7 0 10 7 7 2 1 6 11 12 10 7 6 7 20 6 2 6 8 7 11 6 9 7 1 8 10 9 12 9 8 2 15 5 6 2 5 11 5 14 12 14 1 13 6 7 4 8 9 5 8 1 6 12 2 2 10 3 6 8 10 6 5 0 9 8 11 2 12 4 11 14 6 7 6 7 6 5 12 12 2 9 3 4 4 11 16 11 8 3 5 4 3 5 11 8 12 7 10 5 3 8 11 7 3 5 8 5 15 7 9 6 12 13 13 13 4 5 1 12 9 8 10 7 5 1 14 3 6 5 7 4 5 11 7 4 2 5 2 10 15 12 2 5 8 0 3 3 14 12 2 2 4 4 7 8 0 6 11 2 7 11 13 10 11 12 12 11 8 0 6 10 1 2 13 7 5 6 16 9 11 9 2 7 3 12 8 13 14 3 0 1 9 12 9 7 2 10 3 12 5 6 9 7 12 2 4 0 0 16 2 14 2 7 9 13 7 7 4 4 5 10 8 11 5 2 10 5 2 7 6 2 8 8 5 16 7 4 4 8 2 6 8 14 13 6 11 5 2 7 8 8 18 10 3 2 0 5 1 8 6 11 7 10 12 10 15 6 10 8 12 15 8 16 8 8 4 9 8 8 3 1 8 9 7 9 0 6 0 1 8 2 8 5 17 14 11 14 5 6 14 1 13 12 0 7 10 1 4 1 5 10 0 2 3 5 9 1 6 5 10 10 10 8 17 7 11 9 1 13 14 6 2 6 9 15 7 10 11 11 17 6 11 3 10 14 6 10 7 5 7 4 8 11 0 5 4 12 2 11 1 14 9 8 11 5 8 1 13 6 11 2 7 0 16 13 2 13 11 14 9 7 2 8 7 3 2 3 15 8 6 5 9 2 3 8 11 2 4 7 7 12 4 6 11 5 10 7 4 6 12 12 13 10 0 15 6 7 0 14 2 13 8 9 7 10 8 13 5 4 9 1 18 16 4 12 5 0 12 6 10 13 4 13 14 14 1 11 4 2 11 14 2 15 4 11 2 6 14 14 12 6 11 16 6 2 5 9 9 9 4 2 13 14 10 7 8 0 11 9 5 16 0 0 2 12 3 8 0 9 11 14 5 4 6 1 12 5 7 2 5 5 12 13 2 1 4 18 8 8 7 10 7 11 5 5 11 12 2 1 1 9 8 9 3 7 8 13 1 7 1 9 8 9 12 4 4 8 8 7 10 5 5 10 0 13 4 11 6 4 9 4 5 9 2 11 4 4 1 4 10 9 8 5 4 8 15 7 7 8 12 2 4 5 6 17 7 13 13 1 2 10 0 9 1 1 8 12 1 10 3 10 7 1 3 9 13 7 5 0 4 11 8 5 15 2 0 15 6 15 5 6 3 12 2 6 9 6 11 6 15 4 8 3 6 1 3 3 16 3 5 14 13 7 5 10 0 8 4 3 2 11 10 3 6 5 11 11 3 3 10 2 16 5 4 9 12 7 2 15 7 7 2 4 1 13 6 8 10 1 2 10 2 9 8 14 4 1 5 2 1 9 10 8 6 3 0 0 2 12 4 13 10 9 7 12 6 0 2 17 8 2 7 8 0 13 11 11 10 10 0 4 6 5 5 2 7 2 7 2 13 14 2 18 0 7 16 9 8 10 13 3 1 8 7 8 8 11 1 3 2 3 2 0 1 5 9 8 17 3 14 6 7 8 12 1 2 3 5 5 6 2 2 12 0 9 0 16 6 15 7 3 12 10 5 14 5 6 10 5 2 7 3 7 12 8 3 7 0 2 6 10 15 0 8 9 6 10 6 1 2 7 5 3 15 7 4 9 2 6 9 9 3 7 4 6 13 3 9 1 8 9 6 5 1 1 3 11 10 2 4 3 11 1 5 7 11 2 9 7 2 7 3 5 4 5 2 4 2 2 4 3 2 18 11 10 12 13 10 2 6 4 0 2 1 4 14 2 7 0 9 4 9 11 7 5 10 1 11 2 5 8 9 12 7 5 2 7 12 9 10 4 9 2 6 8 2 2 7 9 15 4 2 7 6 1 4 10 9 8 13 6 1 4 7 0 4 14 6 8 10 7 10 3 2 8 5 2 4 6 3 0 8 8 1 0 7 12 1 11 3 9 11 1 6 12 0 7 7 7 6 0 2 4 3 10 11 2 2 3 6 8 5 6 9 1 4 10 3 4 6 2 14 0 2 7 8 6 8 9 0 3 6 3 12 2 4 7 0 6 6 6 8 8 1 11 11 1 13 9 0 9 2 3 0 2 3 12 2 7 9 10 1 1 1 8 14 11 12 10 2 5 10 7 15 16 13 9 5 2 12 2 7 2 5 4 7 0 0 8 13 2 6 11 7 4 11 6 4 0 7 3 2 5 2 9 15 2 0 9 3 12 7 2 6 12 14 7 11 6 9 7 9 12 1 14 12 5 5 9 8 6 3 5 1 9 1 14 3 3 8 7 4 2 5 11 12 7 9 11 4 4 2 7 2 13 17 12 9 13 3 4 11 11 7 3 7 10 3 12 6 5 4 2 8 16 9 5 12 8 13 8 8 15 9 1 11 2 5 5 9 0 5 9 11 9 8 13 5 12 10 17 5 2 0 12 14 5 6 12 2 8 2 4 0 5 2 9 10 10 6 12 1 13 6 7 4 3 3 1 2 7 10 5 9 12 11 9 12 5 2 5 9 13 9 2 8 14 10 0 8 0 17 5 8 7 6 4 3 10 7 11 7 6 8 0 6 9 12 2 2 13 13 1 2 7 1 16 14 11 6 10 2 5 2 3 12 5 0 1 6 6 2 3 13 0 11 2 6 7 9 3 1 6 6 3 5 2 6 5 4 7 3 2 9 0 10 3 3 3 8 5 2 0 6 9 2 9 9 5 4 7 8 3 8 8 8 4 12 1 11 6 4 16 12 15 9 10 4 3 4 11 12 13 2 8 14 9 1 11 3 10 1 3 13 10 4 13 10 14 14 6 7 3 10 0 8 9 8 9 8 2 10 3 9 2 8 6 11 9 8 11 3 9 14 3 8 11 9 7 8 9 7 8 6 4 7 3 13 10 0 0 13 3 0 3 8 8 2 1 13 2 0 6 2 1 0 9 4 2 11 10 2 2 13 5 2 5 9 14 8 10 9 1 1 0 5 17 12 5 12 8 1 3 3 2 14 4 8 7 2 2 8 9 3 0 0 0 12 2 9 12 14 0 12 0 10 11 0 12 3 7 3 5 2 5 7 0 3 0 0 1 10 0 4 1 15 12 1 12 10 0 1 4 14 2 13 4 5 0 8 1 2 14 5 2 11 2 3 4 2 7 2 6 6 0 2 16 7 3 0 2 0 1 6 2 2 5 2 1 9 4 5 2 4 0 0 1 1 1 11 3 9 0 1 1 12 2 3 2 0 2 0 2 1 2 3 0 7 12 0 2 1 11 1 0 11 0 7 6 3 6 11 7 6 6 2 3 12 15 2 0 10 3 0 0 7 7 0 2 3 0 9 1 0 16 8 10 1 5 4 8 3 0 9 8 5 11 2 14 15 0 2 6 6 13 0 11 0 0 15 3 5 9 0 7 1 7 11 6 4 0 0 6 15 1 8 5 12 6 3 3 3 1 4 5 12 8 15 3 1 4 1 1 5 8 10 3 4 0 8 4 2 12 8 8 0 0 5 1 1 0 10 1 5 4 16 1 0 3 2 8 2 3 2 2 13 3 1 0 0 2 2 0 15 0 0 0 13 0 2 0 0 4 0 12 11 3 3 2 11 3 1 0 5 0 3 1 11 1 7 13 3 2 9 2 2 0 0 0 1 1 3 1 0 2 12 0 9 6 6 17 2 10 3 3 8 1 0 2 12 2 6 4 1 2 8 0 3 0 1 0 15 3 0 12 9 2 0 17 2 0 3 11 0 0 3 4 2 2 0 5 7 2 12 4 10 0 0 0 1 3 0 0 0 0 6 3 13 12 0 5 3 3 3 12 5 4 2 12 5 3 0 0 7 7 12 2 2 0 5 9 2 2 12 7 0 1 1 13 0 5 13 3 6 5 0 0 2 0 0 0 0 0 1 3 0 0 6 13 14 0 5 6 3 0 1 3 5 0 5 3 0 18 0 10 0 0 2 2 1 3 0 1 7 2 0 1 9 1 0 3 1 2 3 3 1 6 15 4 11 1 11 2 1 0 0 0 0 0 2 1 4 2 1 0 1 3 1 0 2 0 0 4 1 1 3 9 0 0 3 0 0 0 4 0 2 11 3 2 2 3 4 0 0 3 1 1 1 0 2 7 1 6 4 8 5 8 5 1 3 1 3 0 6 4 1 3 2 4 3 0 9 8 1 0 13 1 0 0 1 0 0 0 4 1 0 0 1 0 0 7 1 1 12 4 7 1 0 1 1 2 3 1 0 0 2 6 5 11 3 0 2 3 14 0 1 5 2 5 1 1 4 3 2 1 0 1 5 5 3 0 0 9 2 1 14 1 2 4 4 5 1 0 2 9 3 13 8 1 0 1 3 1 1 4 1 1 0 0 1 1 4 3 1 2 11 0 1 1 14 2 2 3 0 2 1 0 1 1 1 2 13 0 14 11 0 1 1 10 2 1 2 6 1 10 9 0 0 2 5 10 3 9 13 5 0 1 2 2 9 2 4 10 3 5 2 4 5 1 0 4 1 1 0 0 6 2 5 3 0 8 1 5 1 1 0 5 1 0 5 9 0 3 0 7 3 0 1 4 3 2 1 0 3 3 0 3 1 1 4 2 1 3 7 4 10 3 0 3 3 0 0 2 0 1 2 0 3 13 11 5 1 1 0 0 3 2 2 0 3 10 1 1 0 1 0 0 3 0 9 0 0 6 0 3 12 3 6 0 1 8 4 0 15 0 3 1 2 8 5 5 0 9 3 2 13 8 11 1 0 1 0 2 2 1 3 9 3 4 7 1 3 1 0 0 2 10 15 2 1 0 1 4 5 2 1 11 1 0 1 2 0 2 4 2 0 1 5 0 8 7 4 1 0 0 1 6 2 2 5 3 7 1 1 5 0 0 9 2 8 1 6 11 3 1 1 4 0 2 1 4 3 2 5 3 6 0 14 2 7 1 10 0 0 5 0 5 0 3 4 1 1 11 0 8 6 0 1 1 0 1 0 2 0 4 7 12 1 4 7 15 2 3 4 1 1 4 1 0 2 1 1 17 0 1 3 3 10 1 3 6 9 2 2 3 1 1 3 9 0 4 0 3 3 1 7 3 6 8 4 6 1 1 2 1 1 1 4 2 1 0 9 0 6 2 1 2 9 0 7 3 8 1 0 2 13 2 0 6 1 2 2 6 6 0 0 9 2 3 4 1 5 8 4 3 3 1 0 1 0 1 0 12 2 2 13 10 4 1 9 7 0 3 1 0 6 1 2 4 2 0 3 4 6 0 2 2 9 3 0 4 13 1 8 0 5 3 4 1 4 4 11 1 0 1 3 4 4 1 8 2 2 2 2 1 0 5 1 1 0 0 0 15 1 2 2 3 2 1 2 1 1 1 2 5 0 7 4 9 4 3 2 4 1 1 3 0 12 1 7 3 8 4 4 6 0 4 2 3 1 9 2 1 3 15 2 7 7 1 6 1 6 5 7 2 0 2 5 14 1 0 8 3 2 7 1 12 1 3 2 2 1 2 5 1 3 4 1 3 6 7 12 0 2 1 1 0 5 3 7 3 1 0 8 2 5 3 2 8 2 7 4 1 1 9 11 4 4 14 3 1 2 3 2 1 1 3 4 2 10 5 4 1 2 1 3 3 7 5 6 0 3 8 1 1 5 0 5 3 2 2 3 4 3 4 7 2 5 1 0 6 0 0 2 2 1 4 4 2 2 14 1 2 3 4 5 13 2 6 5 2 10 1 2 10 7 5 6 3 2 0 2 1 6 5 3 3 1 2 0 1 3 4 2 6 9 4 1 10 3 12 0 2 0 2 5 4 13 2 8 9 0 1 13 10 4 2 4 6 2 0 1 10 9 3 6 7 17 6 6 2 15 14 2 3 5 2 0 2 10 12 2 1 2 9 3 3 10 0 2 3 2 0 4 2 2 2 2 3 3 5 3 3 1 11 1 3 3 2 4 1 4 2 7 5 12 5 3 2 3 2 10 0 1 9 11 14 3 1 2 4 8 1 6 4 1 2 2 4 0 10 6 6 1 8 8 5 0 5 14 8 0 3 4 2 5 12 4 3 4 4 4 0 5 0 1 1 2 5 3 12 15 2 5 1 4 4 1 8 8 1 5 3 0 3 12 6 9 1 2 6 0 3 10 2 4 5 3 4 1 6 4 0 2 10 5 4 2 3 1 3 1 2 14 13 7 1 4 5 2 1 10 10 6 2 3 1 2 6 4 4 5 12 4 1 4 7 2 3 2 12 7 3 4 5 4 2 7 8 3 6 1 3 3 5 2 8 1 4 4 5 3 2 1 6 5 3 1 4 1 6 3 2 9 0 5 4 1 3 4 4 1 3 0 3 5 8 8 6 2 13 1 17 8 0 13 2 2 2 5 3 2 9 8 9 5 8 5 4 12 4 6 3 13 12 12 7 6 10 0 2 15 6 7 1 0 3 6 3 6 6 5 12 4 2 6 2 2 4 2 13 1 3 1 13 11 9 2 5 2 1 9 6 6 0 1 5 2 2 5 1 8 12 10 1 3 6 1 4 4 5 11 4 3 7 2 2 8 1 2 1 6 0 7 0 0 3 4 0 7 5 0 3 6 4 12 2 12 1 2 1 2 3 11 13 8 6 6 3 1 11 2 8 1 4 15 2 5 2 4 1 5 14 13 3 7 1 3 1 0 2 3 2 1 5 3 2 2 7 8 3 4 11 3 14 10 7 1 4 12 9 2 7 9 6 3 5 6 2 5 4 5 8 11 5 2 3 10 2 1 4 4 4 2 1 7 5 12 9 2 0 2 6 6 10 9 5 5 2 5 9 1 2 9 3 2 7 0 2 4 8 3 6 3 9 0 5 3 1 0 3 3 3 12 3 3 12 6 4 10 1 2 0 2 3 2 0 0 1 3 3 3 5 13 2 6 6 17 2 1 3 11 6 1 13 2 2 6 5 5 8 3 1 1 6 2 8 4 0 3 6 8 6 2 0 8 9 4 4 5 4 1 4 9 5 1 3 7 5 4 9 4 10 3 8 2 5 3 2 4 4 0 5 7 5 3 4 5 6 6 2 2 7 1 12 13 0 2 4 2 1 4 6 2 3 5 5 3 3 12 0 13 1 0 0 6 1 4 3 3 2 2 5 2 5 15 4 2 4 5 7 8 3 5 8 5 2 0 2 2 6 11 4 1 7 3 3 0 2 15 2 2 17 8 6 3 3 6 6 4 4 3 2 8 1 3 3 8 2 7 2 3 5 1 1 2 6 13 1 4 12 7 4 1 0 6 2 5 0 7 6 3 2 6 5 8 0 7 3 12 2 10 11 1 4 8 3 4 5 8 9 5 3 4 5 14 1 4 2 3 10 8 14 12 8 5 7 11 8 19 11 8 0 5 8 5 6 3 8 13 3 7 7 11 13 13 0 11 3 3 3 2 3 4 2 5 2 2 0 2 9 16 6 1 3 3 6 7 1 5 2 10 8 0 4 4 4 8 3 13 14 8 5 9 7 6 1 8 13 3 3 5 2 10 0 0 12 10 4 6 10 0 2 6 9 2 7 6 7 15 2 16 4 2 10 9 3 5 2 13 5 3 10 1 6 8 9 7 2 16 10 7 7 4 15 3 1 3 10 7 10 8 1 7 13 12 8 8 2 9 12 5 6 16 5 10 2 3 4 4 6 3 1 5 5 6 7 0 2 4 6 3 7 8 5 2 9 3 4 3 4 4 3 1 3 14 2 5 1 3 2 4 2 3 9 1 0 4 5 4 6 2 3 3 9 10 15 6 0 2 7 4 8 0 2 5 2 3 6 4 7 8 8 4 12 4 7 2 0 5 15 4 6 6 1 0 0 7 3 3 16 5 9 11 5 4 2 1 4 11 13 3 1 5 4 1 2 3 3 3 5 7 5 7 15 0 17 6 7 0 0 10 2 4 3 2 3 1 4 4 3 12 1 13 12 2 2 4 1 4 3 8 4 4 2 3 7 4 0 2 3 10 3 6 4 3 0 8 14 0 5 2 11 14 4 1 10 3 3 2 14 5 4 2 2 2 4 7 0 1 4 3 12 5 1 13 10 8 6 2 11 4 7 3 5 1 10 2 5 7 0 7 5 2 6 3 4 6 2 3 2 6 4 3 7 3 12 2 11 0 7 2 8 4 14 6 3 6 2 5 12 3 4 4 3 6 5 13 9 2 10 6 6 5 8 8 10 6 5 4 1 4 4 3 3 1 8 4 2 7 8 14 10 9 8 5 16 15 3 6 2 2 1 9 3 3 3 4 4 7 2 4 13 3 3 7 8 5 4 8 4 5 4 2 5 2 3 3 2 13 1 0 3 2 4 11 10 15 1 4 10 4 8 1 1 11 4 12 2 13 0 7 3 11 7 5 3 14 5 3 15 2 9 3 7 3 11 11 4 1 2 5 9 2 8 5 0 8 11 1 4 4 15 6 9 5 4 2 2 4 2 5 5 5 6 4 4 8 9 6 4 5 7 6 15 15 0 6 11 16 4 3 4 6 9 4 1 1 0 7 2 14 7 3 5 5 7 6 6 4 4 1 4 1 4 6 4 2 9 1 11 1 4 7 7 0 6 3 14 6 5 7 9 12 2 9 8 1 6 6 7 5 4 6 3 2 3 7 2 12 7 7 0 6 4 0 2 3 14 3 5 0 9 4 5 6 11 14 5 13 5 1 5 2 8 4 9 11 2 15 3 4 8 4 3 4 3 8 4 3 9 9 9 10 5 11 2 6 6 4 3 10 6 3 2 10 8 9 2 13 1 2 8 18 8 11 8 13 3 2 4 4 7 11 5 3 8 9 9 8 10 2 6 4 1 5 6 3 6 6 6 11 14 2 11 8 10 4 13 13 7 2 3 8 9 5 9 5 2 13 9 8 3 3 4 6 2 6 5 3 9 11 6 14 5 4 5 2 0 13 2 3 11 8 2 5 7 4 7 6 2 1 12 2 5 15 10 0 10 2 4 9 7 16 9 4 5 11 7 6 15 5 1 2 4 8 5 8 11 4 11 10 13 3 1 5 12 11 2 2 5 8 11 3 12 4 6 9 10 9 2 12 11 8 8 8 10 6 4 13 7 7 3 4 4 3 3 12 9 3 10 7 2 10 0 13 10 11 9 5 13 11 3 12 4 10 3 3 2 8 0 6 13 2 11 13 6 13 12 10 9 8 5 2 2 12 5 9 5 11 2 11 14 2 4 8 4 14 2 7 6 9 0 7 4 2 3 12 13 11 5 10 6 10 0 3 4 11 2 4 4 9 6 5 3 9 1 12 4 9 6 0 5 8 11 2 3 6 15 8 12 8 0 5 1 8 15 4 2 12 7 9 0 15 6 6 7 5 1 0 12 5 14 14 6 7 10 8 8 1 4 8 7 11 7 18 5 5 13 8 8 4 3 2 4 11 8 10 5 13 7 4 9 6 7 7 2 4 10 9 10 8 4 5 11 0 12 0 6 6 5 1 6 2 6 2 2 8 7 9 2 12 8 10 5 2 10 15 8 1 7 4 8 4 13 5 4 7 7 7 4 7 4 15 6 2 5 5 8 16 7 2 5 0 15 2 2 4 6 6 7 3 2 2 9 9 12 15 12 16 14 3 2 11 9 10 11 9 9 6 4 4 9 5 8 4 8 9 12 15 2 2 5 6 2 18 2 6 1 3 9 5 4 5 14 14 7 2 5 7 5 5 11 4 8 5 8 8 8 9 2 12 6 9 7 1 4 11 4 11 16 11 0 7 5 13 5 7 9 10 13 6 3 13 11 17 9 8 9 7 2 10 3 2 2 8 6 5 2 6 13 8 10 6 5 4 11 8 8 4 5 13 7 9 8 7 10 6 1 8 4 4 1 6 7 9 9 5 16 5 10 5 2 4 6 2 2 8 8 8 8 10 2 8 5 6 0 10 0 4 4 2 7 9 8 0 14 4 2 5 15 12 14 7 14 2 8 3 6 4 1 7 8 11 6 9 6 11 12 1 13 9 6 2 9 1 15 5 9 0 8 8 1 16 14 17 2 4 7 8 5 7 13 6 10 7 5 2 6 8 7 11 7 2 12 6 1 6 13 16 4 2 7 7 5 2 7 14 8 3 8 2 9 9 7 7 6 4 4 10 4 3 3 6 8 8 2 6 6 9 10 11 9 6 2 1 9 3 8 12 2 2 10 6 2 3 7 3 10 7 13 5 11 7 7 1 2 2 6 5 11 2 5 10 12 0 13 4 3 7 9 2 5 5 8 6 7 10 14 8 12 2 5 0 3 6 3 9 5 4 2 13 5 12 2 11 2 16 7 8 2 1 6 5 7 4 1 5 2 5 8 2 10 4 2 7 8 14 4 12 7 1 7 3 2 1 2 8 4 4 2 9 5 6 4 7 4 11 2 5 13 1 17 4 11 3 0 12 8 3 14 14 12 4 3 8 6 2 2 9 7 0 11 0 15 2 2 5 3 6 5 7 1 10 8 9 1 6 12 6 12 2 11 2 7 1 2 6 5 10 8 0 6 7 8 9 6 0 8 6 2 1 3 14 9 2 8 10 3 2 4 7 5 12 5 2 9 11 6 15 7 4 5 7 2 13 6 5 6 0 2 2 10 7 3 12 2 9 9 1 4 10 6 10 0 12 4 12 7 3 1 9 2 3 1 9 2 8 3 11 6 8 2 3 11 10 2 6 1 2 2 2 9 8 6 0 8 14 2 7 11 13 11 2 6 8 9 6 3 6 13 1 8 0 8 1 10 2 10 15 4 17 12 5 9 6 2 9 0 12 0 7 8 12 2 10 8 10 8 8 6 7 8 8 8 8 4 6 0 17 9 13 7 8 12 0 6 4 14 12 9 3 10 10 0 13 11 5 5 7 2 0 2 6 1 9 9 10 10 7 4 9 3 7 0 11 4 1 6 4 1 6 5 3 3 8 7 1 10 1 0 13 11 5 6 8 7 0 2 7 10 6 11 6 10 17 8 9 11 2 8 0 6 5 1 8 2 0 8 5 3 0 2 8 3 0 1 12 15 7 4 14 3 7 3 9 13 4 7 2 2 4 4 0 10 6 3 0 0 2 0 3 9 7 5 4 3 9 2 5 0 1 3 2 11 3 1 9 2 3 11 12 18 9 0 0 8 10 3 9 0 2 9 3 6 4 0 15 1 0 2 1 0 0 6 12 3 9 3 2 15 10 12 4 9 10 0 2 14 0 10 3 1 10 11 3 7 11 5 6 7 14 1 8 3 2 3 0 14 0 6 1 5 2 5 2 4 1 3 0 12 0 0 7 0 12 12 0 0 12 13 5 2 1 2 9 4 2 6 5 9 2 5 9 14 2 2 7 2 6 4 10 12 3 13 11 9 9 7 1 0 8 2 1 9 6 9 12 8 12 8 2 0 1 9 4 10 9 4 3 9 12 7 11 0 10 1 1 0 5 5 0 12 11 11 9 7 7 14 0 7 0 3 0 4 0 19 11 9 17 0 6 0 5 8 7 10 12 5 6 18 13 8 12 10 9 5 2 4 4 0 8 4 0 8 1 7 2 3 5 1 7 10 1 9 3 8 5 7 0 12 4 0 8 3 2 8 3 6 12 5 0 5 4 6 13 9 10 12 12 4 0 12 6 1 3 2 0 2 2 9 3 0 9 1 1 4 6 5 2 10 8 8 3 9 0 8 1 5 2 1 2 6 4 8 3 0 15 2 12 15 14 1 2 1 10 11 1 0 16 0 1 1 3 6 6 3 8 0 3 7 1 2 14 1 2 5 2 8 5 9 9 7 0 4 8 5 0 2 11 0 5 13 1 9 4 5 0 9 0 0 3 15 0 2 1 2 8 12 2 9 1 0 0 7 2 3 8 2 16 4 3 2 4 8 1 10 6 13 11 3 1 0 0 0 2 0 8 3 0 3 4 2 5 0 13 1 6 11 12 1 0 11 2 6 9 4 8 2 2 0 5 0 10 4 4 0 1 12 12 7 1 11 0 1 2 7 2 4 7 4 0 13 0 7 11 3 0 0 13 1 10 7 0 0 1 7 5 11 2 15 1 8 4 2 4 0 6 2 6 2 6 10 4 6 18 2 0 2\n"
     ]
    }
   ],
   "source": [
    "#For exporting to simulation notebook\n",
    "print(' '.join([str(x) for x in all_loss_events.values()]))"
   ]
  },
  {
   "cell_type": "code",
   "execution_count": 24,
   "metadata": {
    "collapsed": false,
    "scrolled": true
   },
   "outputs": [
    {
     "data": {
      "text/plain": [
       "1699"
      ]
     },
     "execution_count": 24,
     "metadata": {},
     "output_type": "execute_result"
    }
   ],
   "source": [
    "len(filtered_wgd_study_ints)"
   ]
  },
  {
   "cell_type": "code",
   "execution_count": 101,
   "metadata": {
    "collapsed": false
   },
   "outputs": [
    {
     "data": {
      "image/png": "[encoded data removed]",
      "text/plain": [
       "<matplotlib.figure.Figure at 0x2bffb9b0>"
      ]
     },
     "metadata": {},
     "output_type": "display_data"
    }
   ],
   "source": [
    "wgd_study_losses = collect_loss_events_per_family(filtered_wgd_study_ints, [])"
   ]
  },
  {
   "cell_type": "markdown",
   "metadata": {},
   "source": [
    "**Conclusion**: The additional filtering for copy number 2 at the root can be safely ignored.  It's less objective of a constraint than using the gene trees, which I've already done."
   ]
  },
  {
   "cell_type": "markdown",
   "metadata": {},
   "source": [
    "## Categorical Histograms combined"
   ]
  },
  {
   "cell_type": "code",
   "execution_count": 52,
   "metadata": {
    "collapsed": false
   },
   "outputs": [],
   "source": [
    "%matplotlib inline\n",
    "import numpy as np\n",
    "import matplotlib.pyplot as plt\n",
    "\n",
    "def categorical_histogram(title, datasets, normalize=False, xmax=None, x_title='',\n",
    "                         y_title='Count'):\n",
    "    # plot time_intervals,  plot gains in different colors\n",
    "    fig, ax = plt.subplots(figsize=(10,5), dpi=600, facecolor='white')\n",
    "    hist_series = [[label, i_hist(values)] for label, values in datasets.items()]\n",
    "    longest = max([len(hist[1]) for hist in hist_series]) \n",
    "    minimum = min([min(hist) for hist in datasets.values()])\n",
    "    if xmax:\n",
    "        longest = min(xmax-minimum, longest)\n",
    "    for i, pair in enumerate(hist_series):\n",
    "        hist_series[i][1] = (hist_series[i][1] + [0] * longest)[:longest] # zero padding\n",
    "    xs = np.arange(0, longest)  # set x axis\n",
    "    bar_width = 1\n",
    "    cmap = plt.get_cmap(\"Dark2\")\n",
    "    colors = cmap(np.arange(len(datasets))*50)\n",
    "\n",
    "    height_sorted = sorted(hist_series, key=lambda pair: -max(pair[1]))\n",
    "    tops = [max(pair[1]) for pair in height_sorted]\n",
    "    for i, pair in enumerate(height_sorted):\n",
    "        label, bars = pair\n",
    "        adjusted_bars = [b*(tops[0] / tops[i]) for b in bars]\n",
    "        if normalize:\n",
    "            bars = adjusted_bars\n",
    "        ax.bar(xs, bars, bar_width,\n",
    "                    alpha=.6, color=colors[i], linewidth=0,\n",
    "                    label=label)\n",
    "        \n",
    "    ax.set_xlabel(x_title)\n",
    "    ax.set_ylabel(y_title)\n",
    "    ax.set_title(title)\n",
    "    # ax.set_xticks(index + bar_width / 2)\n",
    "    # ax.set_xticklabels(('A', 'B', 'C', 'D', 'E'))\n",
    "    ax.legend(loc='upper right')\n",
    "    # fig.tight_layout()\n",
    "    "
   ]
  },
  {
   "cell_type": "code",
   "execution_count": 102,
   "metadata": {
    "collapsed": false
   },
   "outputs": [
    {
     "data": {
      "image/png": "[encoded data removed]",
      "text/plain": [
       "<matplotlib.figure.Figure at 0x2c03fe10>"
      ]
     },
     "metadata": {},
     "output_type": "display_data"
    }
   ],
   "source": [
    "categorical_histogram('Number of Loss Events per Family Under Different Criteria',\n",
    "    {'All Families': all_loss_events.values(),\n",
    "     'Two Copy at Root': wgd_study_losses.values(),\n",
    "    }, x_title='Independent Events')"
   ]
  },
  {
   "cell_type": "markdown",
   "metadata": {},
   "source": [
    "len(all_loss_events.values())"
   ]
  },
  {
   "cell_type": "code",
   "execution_count": 29,
   "metadata": {
    "collapsed": false
   },
   "outputs": [
    {
     "data": {
      "text/plain": [
       "'8,484'"
      ]
     },
     "execution_count": 29,
     "metadata": {},
     "output_type": "execute_result"
    }
   ],
   "source": [
    "pp(len(all_trees))"
   ]
  },
  {
   "cell_type": "markdown",
   "metadata": {},
   "source": [
    "# Intersecting Sets of Polyphyletic losses within Ohnolog subtree"
   ]
  },
  {
   "cell_type": "code",
   "execution_count": 25,
   "metadata": {
    "collapsed": true
   },
   "outputs": [],
   "source": [
    "from scipy.stats import hypergeom\n",
    "\n",
    "def simple_overlap_prob(A, B, all_possible, verbose=True):\n",
    "    intersect = len(set(A).intersection(set(B)))\n",
    "    if verbose:\n",
    "        print(pp(len(A)), \"overlapping with\", pp(len(B)), \"by\", pp(intersect),\"in a space of size\", pp(len(all_possible)))\n",
    "    return min(1, hypergeom.sf(intersect-1, len(all_possible), len(A), len(B)))  # pval assuming even distribution"
   ]
  },
  {
   "cell_type": "code",
   "execution_count": 26,
   "metadata": {
    "collapsed": false
   },
   "outputs": [
    {
     "data": {
      "text/plain": [
       "8484"
      ]
     },
     "execution_count": 26,
     "metadata": {},
     "output_type": "execute_result"
    }
   ],
   "source": [
    "len(all_ohnologs)"
   ]
  },
  {
   "cell_type": "code",
   "execution_count": 27,
   "metadata": {
    "collapsed": false
   },
   "outputs": [
    {
     "name": "stdout",
     "output_type": "stream",
     "text": [
      "FRAX30 FRAX32 0: 1\n",
      "FRAX30 FRAX28 274: 1.5443495696363887e-73\n",
      "FRAX30 FRAX12 303: 7.727789520578445e-49\n",
      "FRAX30 FRAX07 100: 2.321644032359952e-09\n",
      "FRAX30 FRAX29 204: 1.114888820942682e-16\n",
      "FRAX30 FRAX08 321: 9.30620044043776e-35\n",
      "FRAX30 FRAX01 78: 0.002072051363989247\n",
      "FRAX30 FRAX16 168: 8.591378201989974e-09\n",
      "FRAX30 FRAX15 169: 1.0063297635399518e-06\n",
      "FRAX30 FRAX00 106: 1.4121449230766218e-06\n",
      "FRAX30 FRAX06 85: 1.2996721077506228e-06\n",
      "FRAX30 FRAX23 179: 8.072021351555108e-09\n",
      "FRAX30 FRAX25 276: 1.1117829559884959e-11\n",
      "FRAX30 FRAX21 316: 1.4620073550844633e-15\n",
      "FRAX30 FRAX19 64: 0.0010112515112789078\n",
      "FRAX30 FRAX20 166: 0.0005816732932369474\n",
      "FRAX30 FRAX11 42: 0.11752746426527405\n",
      "FRAX30 FRAX27 103: 0.0010262746077014278\n",
      "FRAX30 FRAX04 146: 0.0007472256357458184\n",
      "FRAX30 FRAX03 153: 0.00022981897121383945\n",
      "FRAX30 FRAX09 49: 0.03569661395857489\n",
      "FRAX30 FRAX13 159: 0.0009894374471250203\n",
      "FRAX30 FRAX26 57: 0.015251931358944808\n",
      "FRAX30 FRAX14 123: 0.0007075012389988968\n",
      "FRAX30 FRAX05 196: 5.526219165374509e-08\n",
      "FRAX30 FRAX33 174: 8.389570561115502e-06\n",
      "FRAX30 FRAX31 299: 0.1557528209563066\n",
      "FRAX30 Oeuropea 150: 0.0004312269505578497\n",
      "FRAX32 FRAX28 223: 4.591788571543822e-50\n",
      "FRAX32 FRAX12 283: 1.3236057500234956e-49\n",
      "FRAX32 FRAX07 97: 5.47791267431305e-11\n",
      "FRAX32 FRAX29 187: 2.4776794180062393e-16\n",
      "FRAX32 FRAX08 289: 1.7769325957386876e-31\n",
      "FRAX32 FRAX01 79: 4.2204757499075894e-05\n",
      "FRAX32 FRAX16 149: 1.4371813131291842e-07\n",
      "FRAX32 FRAX15 159: 9.196123868409266e-08\n",
      "FRAX32 FRAX00 87: 0.00035091555018026456\n",
      "FRAX32 FRAX06 76: 5.784107850376771e-06\n",
      "FRAX32 FRAX23 184: 1.333210814160977e-14\n",
      "FRAX32 FRAX25 246: 3.586136335801148e-10\n",
      "FRAX32 FRAX21 255: 2.3773118727216528e-07\n",
      "FRAX32 FRAX19 54: 0.008873521268651834\n",
      "FRAX32 FRAX20 158: 3.766218687370639e-05\n",
      "FRAX32 FRAX11 54: 4.539133150681688e-05\n",
      "FRAX32 FRAX27 91: 0.003191342667597675\n",
      "FRAX32 FRAX04 153: 7.040873104332781e-08\n",
      "FRAX32 FRAX03 166: 2.648677816944725e-10\n",
      "FRAX32 FRAX09 49: 0.005539288163949432\n",
      "FRAX32 FRAX13 166: 7.907930932368295e-08\n",
      "FRAX32 FRAX26 67: 3.912378834084721e-06\n",
      "FRAX32 FRAX14 110: 0.0015191308966361937\n",
      "FRAX32 FRAX05 157: 0.000755250560937507\n",
      "FRAX32 FRAX33 181: 4.5024405593767085e-11\n",
      "FRAX32 FRAX31 256: 0.5237243638076748\n",
      "FRAX32 Oeuropea 142: 4.6890254410267945e-05\n",
      "FRAX28 FRAX12 445: 7.406597942639885e-83\n",
      "FRAX28 FRAX07 149: 3.7924101349024806e-16\n",
      "FRAX28 FRAX29 265: 8.187575702763829e-17\n",
      "FRAX28 FRAX08 463: 4.485873924656177e-56\n",
      "FRAX28 FRAX01 115: 1.911574260783835e-05\n",
      "FRAX28 FRAX16 218: 4.89376059295952e-08\n",
      "FRAX28 FRAX15 261: 5.531448212435833e-15\n",
      "FRAX28 FRAX00 140: 8.540120277329269e-07\n",
      "FRAX28 FRAX06 114: 1.6289148983689404e-07\n",
      "FRAX28 FRAX23 275: 7.537136624839466e-19\n",
      "FRAX28 FRAX25 381: 9.567225258803653e-15\n",
      "FRAX28 FRAX21 458: 2.285663981980937e-26\n",
      "FRAX28 FRAX19 92: 2.737966372658473e-05\n",
      "FRAX28 FRAX20 266: 1.8099851312605892e-11\n",
      "FRAX28 FRAX11 78: 1.4213950853371335e-05\n",
      "FRAX28 FRAX27 142: 0.0002445257493616773\n",
      "FRAX28 FRAX04 253: 1.1590622072054698e-15\n",
      "FRAX28 FRAX03 250: 2.7982279089475545e-13\n",
      "FRAX28 FRAX09 61: 0.1374597509394721\n",
      "FRAX28 FRAX13 253: 2.5916136251850013e-10\n",
      "FRAX28 FRAX26 87: 0.0001937568995780005\n",
      "FRAX28 FRAX14 179: 3.953211886155818e-06\n",
      "FRAX28 FRAX05 267: 3.3309489952320053e-09\n",
      "FRAX28 FRAX33 265: 2.4873296566308598e-12\n",
      "FRAX28 FRAX31 429: 0.03129636032039359\n",
      "FRAX28 Oeuropea 231: 3.6665182552136625e-09\n",
      "FRAX12 FRAX07 193: 4.279825919559968e-14\n",
      "FRAX12 FRAX29 455: 1.2584674429373275e-47\n",
      "FRAX12 FRAX08 707: 2.1088621478250847e-96\n",
      "FRAX12 FRAX01 181: 7.329801856881303e-10\n",
      "FRAX12 FRAX16 326: 1.2962778700490931e-11\n",
      "FRAX12 FRAX15 388: 5.692650429303149e-22\n",
      "FRAX12 FRAX00 191: 6.426781510929512e-06\n",
      "FRAX12 FRAX06 165: 1.741575318184995e-09\n",
      "FRAX12 FRAX23 396: 5.694521833293206e-24\n",
      "FRAX12 FRAX25 614: 1.1547115423674463e-34\n",
      "FRAX12 FRAX21 642: 4.108364306909498e-27\n",
      "FRAX12 FRAX19 136: 4.4088496708363093e-07\n",
      "FRAX12 FRAX20 403: 2.5410269691108205e-18\n",
      "FRAX12 FRAX11 95: 0.0038455686864333474\n",
      "FRAX12 FRAX27 226: 1.6904149234418e-08\n",
      "FRAX12 FRAX04 349: 1.5629530175757787e-15\n",
      "FRAX12 FRAX03 358: 1.0084904438484872e-15\n",
      "FRAX12 FRAX09 87: 0.207900932663463\n",
      "FRAX12 FRAX13 377: 7.453656205541352e-15\n",
      "FRAX12 FRAX26 130: 4.2007140283847875e-06\n",
      "FRAX12 FRAX14 293: 1.918983087097096e-14\n",
      "FRAX12 FRAX05 400: 1.5449487769424115e-13\n",
      "FRAX12 FRAX33 380: 2.3229571253006597e-14\n",
      "FRAX12 FRAX31 622: 0.15456474229962966\n",
      "FRAX12 Oeuropea 301: 3.081209565850042e-05\n",
      "FRAX07 FRAX29 38: 1\n",
      "FRAX07 FRAX08 278: 5.4241446749684e-32\n",
      "FRAX07 FRAX01 81: 1.3687479405039492e-06\n",
      "FRAX07 FRAX16 131: 3.844096918364046e-05\n",
      "FRAX07 FRAX15 160: 6.515815101192379e-10\n",
      "FRAX07 FRAX00 127: 7.021106540008873e-19\n",
      "FRAX07 FRAX06 120: 1.2015269958816735e-26\n",
      "FRAX07 FRAX23 137: 0.00013086852625642382\n",
      "FRAX07 FRAX25 223: 1.2197692577082891e-07\n",
      "FRAX07 FRAX21 316: 4.4055223140992986e-30\n",
      "FRAX07 FRAX19 93: 1.1858208034054828e-17\n",
      "FRAX07 FRAX20 123: 0.12814476503508143\n",
      "FRAX07 FRAX11 78: 4.42686576220393e-16\n",
      "FRAX07 FRAX27 72: 0.19797104190684323\n",
      "FRAX07 FRAX04 133: 4.7263675474840834e-05\n",
      "FRAX07 FRAX03 104: 0.34159371863588944\n",
      "FRAX07 FRAX09 78: 5.0526841737441697e-14\n",
      "FRAX07 FRAX13 111: 0.38030785391156197\n",
      "FRAX07 FRAX26 63: 8.760353697288288e-06\n",
      "FRAX07 FRAX14 90: 0.10829098157784231\n",
      "FRAX07 FRAX05 160: 1.0266980677579644e-05\n",
      "FRAX07 FRAX33 180: 3.377538496540348e-13\n",
      "FRAX07 FRAX31 349: 2.0181631485812402e-19\n",
      "FRAX07 Oeuropea 226: 1.659725452068073e-38\n",
      "FRAX29 FRAX08 647: 1.839736648637124e-102\n",
      "FRAX29 FRAX01 125: 0.009457947206052664\n",
      "FRAX29 FRAX16 306: 2.982257284150499e-16\n",
      "FRAX29 FRAX15 339: 2.895751329533257e-20\n",
      "FRAX29 FRAX00 129: 0.30266197032956876\n",
      "FRAX29 FRAX06 102: 0.1554754606363805\n",
      "FRAX29 FRAX23 362: 3.0547183916715173e-27\n",
      "FRAX29 FRAX25 540: 2.707728590971972e-33\n",
      "FRAX29 FRAX21 539: 8.840088717431195e-20\n",
      "FRAX29 FRAX19 83: 0.3306943636855548\n",
      "FRAX29 FRAX20 428: 5.109255984856129e-43\n",
      "FRAX29 FRAX11 77: 0.03413201331348488\n",
      "FRAX29 FRAX27 239: 1.0910534434773448e-19\n",
      "FRAX29 FRAX04 335: 3.262479372107672e-23\n",
      "FRAX29 FRAX03 367: 1.0091322596374224e-31\n",
      "FRAX29 FRAX09 57: 0.9533163404202992\n",
      "FRAX29 FRAX13 399: 6.862651804455124e-36\n",
      "FRAX29 FRAX26 101: 0.0025218353852953443\n",
      "FRAX29 FRAX14 278: 7.640898029441566e-20\n",
      "FRAX29 FRAX05 408: 1.83715832479777e-29\n",
      "FRAX29 FRAX33 336: 1.56705708409807e-14\n",
      "FRAX29 FRAX31 475: 0.9960241757013617\n",
      "FRAX29 Oeuropea 226: 0.1373690705823846\n",
      "FRAX08 FRAX01 198: 9.658848357624867e-06\n",
      "FRAX08 FRAX16 421: 3.171327269100512e-17\n",
      "FRAX08 FRAX15 485: 1.9678179332355944e-27\n",
      "FRAX08 FRAX00 239: 5.586214546744956e-07\n",
      "FRAX08 FRAX06 212: 2.7283804011784474e-13\n",
      "FRAX08 FRAX23 547: 4.783030859879063e-49\n",
      "FRAX08 FRAX25 814: 3.996241139818245e-60\n",
      "FRAX08 FRAX21 953: 4.920426478401515e-90\n",
      "FRAX08 FRAX19 158: 7.862113015812499e-06\n",
      "FRAX08 FRAX20 550: 8.183711259381912e-37\n",
      "FRAX08 FRAX11 134: 1.3740548540371655e-06\n",
      "FRAX08 FRAX27 332: 4.859637735515429e-24\n",
      "FRAX08 FRAX04 517: 5.775297206323697e-46\n",
      "FRAX08 FRAX03 499: 5.25302497938831e-35\n",
      "FRAX08 FRAX09 123: 0.007712969317329908\n",
      "FRAX08 FRAX13 552: 2.5344643817673578e-43\n",
      "FRAX08 FRAX26 157: 4.481404777804953e-06\n",
      "FRAX08 FRAX14 349: 1.817423265737988e-13\n",
      "FRAX08 FRAX05 610: 1.2393926669747447e-50\n",
      "FRAX08 FRAX33 565: 1.1988310962180782e-45\n",
      "FRAX08 FRAX31 896: 2.7562869570374915e-12\n",
      "FRAX08 Oeuropea 427: 3.603095106739528e-15\n",
      "FRAX01 FRAX16 0: 1\n",
      "FRAX01 FRAX15 266: 2.872282338812032e-57\n",
      "FRAX01 FRAX00 147: 6.376920375244791e-28\n",
      "FRAX01 FRAX06 74: 4.882059349872466e-06\n",
      "FRAX01 FRAX23 172: 1.606563859388192e-12\n",
      "FRAX01 FRAX25 258: 1.3243659321905614e-15\n",
      "FRAX01 FRAX21 261: 1.5629870516989746e-10\n",
      "FRAX01 FRAX19 62: 5.032017813978526e-05\n",
      "FRAX01 FRAX20 137: 0.009126961596103877\n",
      "FRAX01 FRAX11 45: 0.003959516734800068\n",
      "FRAX01 FRAX27 83: 0.017735586649326576\n",
      "FRAX01 FRAX04 132: 0.00017639888108481074\n",
      "FRAX01 FRAX03 124: 0.00863433091670415\n",
      "FRAX01 FRAX09 44: 0.025236869906054553\n",
      "FRAX01 FRAX13 129: 0.02262210511465501\n",
      "FRAX01 FRAX26 53: 0.00457733071273779\n",
      "FRAX01 FRAX14 109: 0.0005297501539273085\n",
      "FRAX01 FRAX05 150: 0.0012979981587453208\n",
      "FRAX01 FRAX33 141: 0.0011740342238204164\n",
      "FRAX01 FRAX31 259: 0.1523109316711201\n",
      "FRAX01 Oeuropea 126: 0.0033636671188906125\n",
      "FRAX16 FRAX15 500: 2.4140780594310698e-107\n",
      "FRAX16 FRAX00 192: 3.475961342627722e-14\n",
      "FRAX16 FRAX06 130: 6.293512634373111e-07\n",
      "FRAX16 FRAX23 359: 3.1394204881336867e-32\n",
      "FRAX16 FRAX25 488: 4.1691919930740625e-25\n",
      "FRAX16 FRAX21 478: 2.778989150812886e-12\n",
      "FRAX16 FRAX19 91: 0.01953923176080801\n",
      "FRAX16 FRAX20 319: 4.0095985420726547e-13\n",
      "FRAX16 FRAX11 67: 0.153790899138206\n",
      "FRAX16 FRAX27 202: 1.3808413672071278e-11\n",
      "FRAX16 FRAX04 282: 1.5438409695654532e-12\n",
      "FRAX16 FRAX03 296: 2.3265523557234888e-14\n",
      "FRAX16 FRAX09 66: 0.4403736516020784\n",
      "FRAX16 FRAX13 283: 1.2052547600756457e-07\n",
      "FRAX16 FRAX26 75: 0.420937954971167\n",
      "FRAX16 FRAX14 230: 4.836789652303771e-10\n",
      "FRAX16 FRAX05 333: 3.4857804588857147e-13\n",
      "FRAX16 FRAX33 277: 5.390567691291295e-06\n",
      "FRAX16 FRAX31 431: 0.9997707274367851\n",
      "FRAX16 Oeuropea 227: 0.011740789177386692\n",
      "FRAX15 FRAX00 254: 9.467776595157984e-34\n",
      "FRAX15 FRAX06 127: 0.00012227009787084671\n",
      "FRAX15 FRAX23 396: 9.649892369114386e-39\n",
      "FRAX15 FRAX25 573: 3.5540752844095823e-43\n",
      "FRAX15 FRAX21 568: 4.511328232833984e-26\n",
      "FRAX15 FRAX19 98: 0.015691510190539465\n",
      "FRAX15 FRAX20 351: 5.642432793702487e-16\n",
      "FRAX15 FRAX11 72: 0.1487100088806127\n",
      "FRAX15 FRAX27 234: 2.343602523463422e-17\n",
      "FRAX15 FRAX04 300: 1.2723715670658581e-12\n",
      "FRAX15 FRAX03 305: 3.91114555715738e-12\n",
      "FRAX15 FRAX09 81: 0.07226899830638273\n",
      "FRAX15 FRAX13 318: 9.715025069986284e-11\n",
      "FRAX15 FRAX26 106: 0.0005269235390599144\n",
      "FRAX15 FRAX14 259: 1.338961122803382e-13\n",
      "FRAX15 FRAX05 351: 1.790202312411804e-12\n",
      "FRAX15 FRAX33 312: 1.0597639646112086e-08\n",
      "FRAX15 FRAX31 503: 0.9038202748576241\n",
      "FRAX15 Oeuropea 270: 6.762458603275622e-06\n",
      "FRAX00 FRAX06 150: 4.450079925041182e-35\n",
      "FRAX00 FRAX23 145: 0.02781064990124164\n",
      "FRAX00 FRAX25 350: 2.344623469319804e-33\n",
      "FRAX00 FRAX21 370: 1.494602680400451e-30\n",
      "FRAX00 FRAX19 95: 5.569076113077283e-13\n",
      "FRAX00 FRAX20 112: 0.9945789132325665\n",
      "FRAX00 FRAX11 86: 5.2304598282047934e-15\n",
      "FRAX00 FRAX27 84: 0.3160204057580276\n",
      "FRAX00 FRAX04 133: 0.07468866261482698\n",
      "FRAX00 FRAX03 109: 0.9216328526456015\n",
      "FRAX00 FRAX09 95: 5.0023603053832194e-17\n",
      "FRAX00 FRAX13 134: 0.4232566530006497\n",
      "FRAX00 FRAX26 70: 6.410682551409809e-05\n",
      "FRAX00 FRAX14 104: 0.23238973157196446\n",
      "FRAX00 FRAX05 191: 6.426781510962149e-06\n",
      "FRAX00 FRAX33 200: 2.134528570633901e-10\n",
      "FRAX00 FRAX31 397: 4.247095310146224e-15\n",
      "FRAX00 Oeuropea 240: 6.786999915098088e-30\n",
      "FRAX06 FRAX23 53: 0.9999999057700881\n",
      "FRAX06 FRAX25 263: 7.7726479311511515e-25\n",
      "FRAX06 FRAX21 273: 6.1116025480624926e-21\n",
      "FRAX06 FRAX19 81: 4.491079740647044e-14\n",
      "FRAX06 FRAX20 92: 0.8995373143990643\n",
      "FRAX06 FRAX11 67: 1.8594557480384912e-12\n",
      "FRAX06 FRAX27 63: 0.3525959921741008\n",
      "FRAX06 FRAX04 115: 0.00166002090343481\n",
      "FRAX06 FRAX03 106: 0.05462845769054805\n",
      "FRAX06 FRAX09 70: 3.7766184502009944e-12\n",
      "FRAX06 FRAX13 116: 0.031014602160738237\n",
      "FRAX06 FRAX26 68: 7.411611766440555e-09\n",
      "FRAX06 FRAX14 98: 0.001080886676831692\n",
      "FRAX06 FRAX05 152: 2.215902418299159e-06\n",
      "FRAX06 FRAX33 163: 1.695216671423373e-11\n",
      "FRAX06 FRAX31 312: 2.895060981713465e-15\n",
      "FRAX06 Oeuropea 187: 3.5560706712211036e-25\n",
      "FRAX23 FRAX25 644: 5.5717489331009306e-73\n",
      "FRAX23 FRAX21 586: 8.16418971120395e-31\n",
      "FRAX23 FRAX19 107: 0.0007563998784042702\n",
      "FRAX23 FRAX20 415: 6.955249478669946e-36\n",
      "FRAX23 FRAX11 74: 0.10154032040620754\n",
      "FRAX23 FRAX27 271: 7.836958096458698e-31\n",
      "FRAX23 FRAX04 368: 2.1767013990536982e-33\n",
      "FRAX23 FRAX03 404: 6.261767755288473e-45\n",
      "FRAX23 FRAX09 68: 0.6186439596575957\n",
      "FRAX23 FRAX13 392: 1.570975682809582e-31\n",
      "FRAX23 FRAX26 102: 0.00292117445167214\n",
      "FRAX23 FRAX14 264: 1.058738886660679e-14\n",
      "FRAX23 FRAX05 420: 6.967274635450083e-32\n",
      "FRAX23 FRAX33 375: 3.468745482617387e-24\n",
      "FRAX23 FRAX31 514: 0.7799113077516404\n",
      "FRAX23 Oeuropea 281: 1.5402480552446407e-07\n",
      "FRAX25 FRAX21 1137: 3.097052673060576e-145\n",
      "FRAX25 FRAX19 184: 2.2737459960453294e-08\n",
      "FRAX25 FRAX20 557: 6.33975073062014e-25\n",
      "FRAX25 FRAX11 148: 3.971472339657731e-07\n",
      "FRAX25 FRAX27 360: 2.0442775087642823e-24\n",
      "FRAX25 FRAX04 510: 4.653517011553101e-29\n",
      "FRAX25 FRAX03 509: 3.2584728821441924e-25\n",
      "FRAX25 FRAX09 145: 0.00024227901519989844\n",
      "FRAX25 FRAX13 601: 6.081676965156637e-45\n",
      "FRAX25 FRAX26 180: 5.2492290318385786e-08\n",
      "FRAX25 FRAX14 370: 3.2053196847995693e-11\n",
      "FRAX25 FRAX05 600: 2.5400059647382118e-30\n",
      "FRAX25 FRAX33 595: 5.5535632657300916e-40\n",
      "FRAX25 FRAX31 1024: 8.788837228957447e-19\n",
      "FRAX25 Oeuropea 490: 4.727137419509173e-21\n",
      "FRAX21 FRAX19 201: 1.750197324645129e-08\n",
      "FRAX21 FRAX20 606: 1.3795953838082548e-24\n",
      "FRAX21 FRAX11 185: 4.17330556330034e-14\n",
      "FRAX21 FRAX27 339: 1.233638850576038e-10\n",
      "FRAX21 FRAX04 526: 4.593546102721253e-21\n",
      "FRAX21 FRAX03 502: 1.0111189634134134e-12\n",
      "FRAX21 FRAX09 190: 1.102104207765257e-11\n",
      "FRAX21 FRAX13 583: 1.9114047156406403e-23\n",
      "FRAX21 FRAX26 187: 5.046252906793538e-06\n",
      "FRAX21 FRAX14 396: 1.7090665725346404e-09\n",
      "FRAX21 FRAX05 695: 8.967070221113585e-44\n",
      "FRAX21 FRAX33 684: 1.8635976606213875e-54\n",
      "FRAX21 FRAX31 1315: 1.1092175568246434e-71\n",
      "FRAX21 Oeuropea 622: 5.803198120156452e-50\n",
      "FRAX19 FRAX20 3: 1\n",
      "FRAX19 FRAX11 51: 5.391206142180215e-08\n",
      "FRAX19 FRAX27 53: 0.4061748773222393\n",
      "FRAX19 FRAX04 93: 0.018611078031486962\n",
      "FRAX19 FRAX03 92: 0.047487789787679494\n",
      "FRAX19 FRAX09 64: 1.5601375858853958e-12\n",
      "FRAX19 FRAX13 100: 0.032554434451724165\n",
      "FRAX19 FRAX26 42: 0.006542696940736885\n",
      "FRAX19 FRAX14 68: 0.2271764693551486\n",
      "FRAX19 FRAX05 129: 1.6627822563089272e-05\n",
      "FRAX19 FRAX33 147: 1.7330411831955481e-12\n",
      "FRAX19 FRAX31 223: 0.0007764331868149279\n",
      "FRAX19 Oeuropea 133: 2.8932230542342754e-11\n",
      "FRAX20 FRAX11 67: 0.6808137989065165\n",
      "FRAX20 FRAX27 288: 4.207678622515848e-31\n",
      "FRAX20 FRAX04 409: 3.258245709792251e-40\n",
      "FRAX20 FRAX03 422: 5.000686945265272e-42\n",
      "FRAX20 FRAX09 64: 0.9509564017159489\n",
      "FRAX20 FRAX13 406: 1.517813610476984e-27\n",
      "FRAX20 FRAX26 121: 2.7105058537009918e-05\n",
      "FRAX20 FRAX14 281: 2.2608359544335885e-14\n",
      "FRAX20 FRAX05 432: 1.2039607830791206e-26\n",
      "FRAX20 FRAX33 376: 2.877871094901181e-17\n",
      "FRAX20 FRAX31 547: 0.9414688472552333\n",
      "FRAX20 Oeuropea 272: 0.002273789904609244\n",
      "FRAX11 FRAX27 0: 1\n",
      "FRAX11 FRAX04 174: 1.814503349811124e-44\n",
      "FRAX11 FRAX03 69: 0.1991495131977748\n",
      "FRAX11 FRAX09 64: 2.879428549210096e-17\n",
      "FRAX11 FRAX13 82: 0.029320616351502123\n",
      "FRAX11 FRAX26 41: 0.00015393140174220455\n",
      "FRAX11 FRAX14 56: 0.18521957330978972\n",
      "FRAX11 FRAX05 115: 1.679791237675201e-07\n",
      "FRAX11 FRAX33 127: 1.5978946514148528e-13\n",
      "FRAX11 FRAX31 222: 1.2377863464904596e-13\n",
      "FRAX11 Oeuropea 132: 2.6703082215610134e-19\n",
      "FRAX27 FRAX04 367: 8.489904779672647e-92\n",
      "FRAX27 FRAX03 270: 1.3043277280709113e-32\n",
      "FRAX27 FRAX09 34: 0.9650532968176349\n",
      "FRAX27 FRAX13 278: 5.0198917475901666e-30\n",
      "FRAX27 FRAX26 64: 0.02346308593953466\n",
      "FRAX27 FRAX14 188: 3.28666961119982e-15\n",
      "FRAX27 FRAX05 281: 2.3547667991514143e-24\n",
      "FRAX27 FRAX33 253: 1.4937891978164837e-19\n",
      "FRAX27 FRAX31 328: 0.6870257080535884\n",
      "FRAX27 Oeuropea 171: 0.0006265759460498631\n",
      "FRAX04 FRAX03 397: 7.354813521679202e-49\n",
      "FRAX04 FRAX09 64: 0.6289997722278498\n",
      "FRAX04 FRAX13 371: 9.278626115983651e-30\n",
      "FRAX04 FRAX26 107: 4.133642703937111e-05\n",
      "FRAX04 FRAX14 247: 3.499247905401519e-13\n",
      "FRAX04 FRAX05 384: 1.4410944568850698e-25\n",
      "FRAX04 FRAX33 393: 2.7930566560111054e-36\n",
      "FRAX04 FRAX31 537: 0.0076105323166767045\n",
      "FRAX04 Oeuropea 276: 4.103842410961401e-09\n",
      "FRAX03 FRAX09 0: 1\n",
      "FRAX03 FRAX13 594: 3.2993507239630024e-151\n",
      "FRAX03 FRAX26 126: 2.6371872746905547e-09\n",
      "FRAX03 FRAX14 330: 4.982181560778877e-41\n",
      "FRAX03 FRAX05 547: 1.0964692484862891e-97\n",
      "FRAX03 FRAX33 442: 1.0642172404399352e-53\n",
      "FRAX03 FRAX31 472: 0.9933329993903707\n",
      "FRAX03 Oeuropea 207: 0.5976922856908157\n",
      "FRAX09 FRAX13 174: 1.939406994672377e-32\n",
      "FRAX09 FRAX26 65: 2.2794840842606273e-13\n",
      "FRAX09 FRAX14 67: 0.03396664790896711\n",
      "FRAX09 FRAX05 158: 7.538461738624698e-20\n",
      "FRAX09 FRAX33 189: 2.7646286369497094e-40\n",
      "FRAX09 FRAX31 246: 1.9718529901436202e-16\n",
      "FRAX09 Oeuropea 131: 1.5175743355287915e-15\n",
      "FRAX13 FRAX26 142: 5.392939051787515e-12\n",
      "FRAX13 FRAX14 356: 5.428917189025543e-45\n",
      "FRAX13 FRAX05 644: 1.2388758971578999e-143\n",
      "FRAX13 FRAX33 535: 7.470324327808259e-90\n",
      "FRAX13 FRAX31 580: 0.05031533518461018\n",
      "FRAX13 Oeuropea 252: 0.022286450131055624\n",
      "FRAX26 FRAX14 0: 1\n",
      "FRAX26 FRAX05 179: 1.8688976895035004e-22\n",
      "FRAX26 FRAX33 163: 3.5990588958130486e-19\n",
      "FRAX26 FRAX31 221: 0.0005041975487683433\n",
      "FRAX26 Oeuropea 113: 4.3914161441283205e-06\n",
      "FRAX14 FRAX05 378: 6.563002458196662e-45\n",
      "FRAX14 FRAX33 296: 4.461809447168448e-20\n",
      "FRAX14 FRAX31 387: 0.9178547785506762\n",
      "FRAX14 Oeuropea 194: 0.00868043723180603\n",
      "FRAX05 FRAX33 630: 2.3992331883700566e-129\n",
      "FRAX05 FRAX31 701: 1.742782835683786e-08\n",
      "FRAX05 Oeuropea 310: 1.5161510558422616e-06\n",
      "FRAX33 FRAX31 757: 1.873747746452838e-30\n",
      "FRAX33 Oeuropea 349: 1.5021702046197137e-19\n",
      "FRAX31 Oeuropea 715: 9.440039929849979e-37\n"
     ]
    }
   ],
   "source": [
    "species_names = [node['name'] for node in ordered_nodes if not node['name'].startswith('<')]  # \n",
    "probs = dict()\n",
    "from statistics import mean, median\n",
    "# All pair wise combintations once\n",
    "for x in range(len(species_names)):\n",
    "    for y in range(x+1, len(species_names)):\n",
    "        intersect = genes_lost[species_names[x]].intersection(genes_lost[species_names[y]])\n",
    "        print(species_names[x], species_names[y], len(intersect), end=': ')\n",
    "        prob = simple_overlap_prob(genes_lost[species_names[x]], genes_lost[species_names[y]], all_ohnologs, verbose=False)\n",
    "        probs[(species_names[x], species_names[y])] = prob\n",
    "        print(prob) #TODO probability"
   ]
  },
  {
   "cell_type": "markdown",
   "metadata": {},
   "source": [
    "** Conclusion: Probabilities of overlapping sets are almost always highly significant!  **"
   ]
  },
  {
   "cell_type": "code",
   "execution_count": 37,
   "metadata": {
    "collapsed": false
   },
   "outputs": [
    {
     "name": "stdout",
     "output_type": "stream",
     "text": [
      "69.458128% of 406 species pairs have significant overlap!\n"
     ]
    }
   ],
   "source": [
    "print(pp(len([c for c in probs.values() if c <= .0001]) / len(probs)), \"of\", len(probs), \"species pairs have significant overlap!\")"
   ]
  },
  {
   "cell_type": "markdown",
   "metadata": {},
   "source": [
    "**69.458128% of species pairs have significant overlap!**"
   ]
  },
  {
   "cell_type": "code",
   "execution_count": 38,
   "metadata": {
    "collapsed": false
   },
   "outputs": [
    {
     "name": "stdout",
     "output_type": "stream",
     "text": [
      "282 pairs were significant and we can safely discard up to 30 pairs as being sister species.\n"
     ]
    }
   ],
   "source": [
    "print(round(len(probs) * .69458), \"pairs were significant and we can safely discard up to 30 pairs as being sister species.\")"
   ]
  },
  {
   "cell_type": "markdown",
   "metadata": {},
   "source": [
    "### TODO: Output this in a square table using pandas"
   ]
  },
  {
   "cell_type": "code",
   "execution_count": null,
   "metadata": {
    "collapsed": true
   },
   "outputs": [],
   "source": []
  },
  {
   "cell_type": "code",
   "execution_count": null,
   "metadata": {
    "collapsed": true
   },
   "outputs": [],
   "source": []
  },
  {
   "cell_type": "markdown",
   "metadata": {},
   "source": [
    "## Further verification of overlap Significance"
   ]
  },
  {
   "cell_type": "markdown",
   "metadata": {},
   "source": [
    "#### What's the mean overlaps %?\n",
    "Find average amount of overlap between species pairs as compared to total size of losses in that species"
   ]
  },
  {
   "cell_type": "code",
   "execution_count": 39,
   "metadata": {
    "collapsed": false
   },
   "outputs": [
    {
     "name": "stdout",
     "output_type": "stream",
     "text": [
      "FRAX30 FRAX32 0: 0.0 0.0\n",
      "FRAX30 FRAX28 274: 36.631016% 26.095238%\n",
      "FRAX30 FRAX12 303: 40.508021% 19.165085%\n",
      "FRAX30 FRAX07 100: 13.368984% 15.797788%\n",
      "FRAX30 FRAX29 204: 27.272727% 15.044248%\n",
      "FRAX30 FRAX08 321: 42.914439% 16.050000%\n",
      "FRAX30 FRAX01 78: 10.427807% 12.093023%\n",
      "FRAX30 FRAX16 168: 22.459893% 13.197172%\n",
      "FRAX30 FRAX15 169: 22.593583% 12.317784%\n",
      "FRAX30 FRAX00 106: 14.171123% 13.712807%\n",
      "FRAX30 FRAX06 85: 11.363636% 14.629948%\n",
      "FRAX30 FRAX23 179: 23.930481% 12.989840%\n",
      "FRAX30 FRAX25 276: 36.898396% 12.404494%\n",
      "FRAX30 FRAX21 316: 42.245989% 12.731668%\n",
      "FRAX30 FRAX19 64: 8.556150% 12.929293%\n",
      "FRAX30 FRAX20 166: 22.192513% 11.059294%\n",
      "FRAX30 FRAX11 42: 5.614973% 10.606061%\n",
      "FRAX30 FRAX27 103: 13.770053% 11.771429%\n",
      "FRAX30 FRAX04 146: 19.518717% 11.213518%\n",
      "FRAX30 FRAX03 153: 20.454545% 11.417910%\n",
      "FRAX30 FRAX09 49: 6.550802% 11.395349%\n",
      "FRAX30 FRAX13 159: 21.256684% 11.003460%\n",
      "FRAX30 FRAX26 57: 7.620321% 11.704312%\n",
      "FRAX30 FRAX14 123: 16.443850% 11.538462%\n",
      "FRAX30 FRAX05 196: 26.203209% 12.397217%\n",
      "FRAX30 FRAX33 174: 23.262032% 11.844792%\n",
      "FRAX30 FRAX31 299: 39.973262% 9.228395%\n",
      "FRAX30 Oeuropea 150: 20.053476% 11.303693%\n",
      "FRAX32 FRAX28 223: 33.233979% 21.238095%\n",
      "FRAX32 FRAX12 283: 42.175857% 17.900063%\n",
      "FRAX32 FRAX07 97: 14.456036% 15.323855%\n",
      "FRAX32 FRAX29 187: 27.868852% 13.790560%\n",
      "FRAX32 FRAX08 289: 43.070045% 14.450000%\n",
      "FRAX32 FRAX01 79: 11.773472% 12.248062%\n",
      "FRAX32 FRAX16 149: 22.205663% 11.704635%\n",
      "FRAX32 FRAX15 159: 23.695976% 11.588921%\n",
      "FRAX32 FRAX00 87: 12.965723% 11.254851%\n",
      "FRAX32 FRAX06 76: 11.326379% 13.080895%\n",
      "FRAX32 FRAX23 184: 27.421759% 13.352685%\n",
      "FRAX32 FRAX25 246: 36.661699% 11.056180%\n",
      "FRAX32 FRAX21 255: 38.002981% 10.273973%\n",
      "FRAX32 FRAX19 54: 8.047690% 10.909091%\n",
      "FRAX32 FRAX20 158: 23.546945% 10.526316%\n",
      "FRAX32 FRAX11 54: 8.047690% 13.636364%\n",
      "FRAX32 FRAX27 91: 13.561848% 10.400000%\n",
      "FRAX32 FRAX04 153: 22.801788% 11.751152%\n",
      "FRAX32 FRAX03 166: 24.739195% 12.388060%\n",
      "FRAX32 FRAX09 49: 7.302534% 11.395349%\n",
      "FRAX32 FRAX13 166: 24.739195% 11.487889%\n",
      "FRAX32 FRAX26 67: 9.985097% 13.757700%\n",
      "FRAX32 FRAX14 110: 16.393443% 10.318949%\n",
      "FRAX32 FRAX05 157: 23.397914% 9.930424%\n",
      "FRAX32 FRAX33 181: 26.974665% 12.321307%\n",
      "FRAX32 FRAX31 256: 38.152012% 7.901235%\n",
      "FRAX32 Oeuropea 142: 21.162444% 10.700829%\n",
      "FRAX28 FRAX12 445: 42.380952% 28.146743%\n",
      "FRAX28 FRAX07 149: 14.190476% 23.538705%\n",
      "FRAX28 FRAX29 265: 25.238095% 19.542773%\n",
      "FRAX28 FRAX08 463: 44.095238% 23.150000%\n",
      "FRAX28 FRAX01 115: 10.952381% 17.829457%\n",
      "FRAX28 FRAX16 218: 20.761905% 17.124902%\n",
      "FRAX28 FRAX15 261: 24.857143% 19.023324%\n",
      "FRAX28 FRAX00 140: 13.333333% 18.111255%\n",
      "FRAX28 FRAX06 114: 10.857143% 19.621343%\n",
      "FRAX28 FRAX23 275: 26.190476% 19.956459%\n",
      "FRAX28 FRAX25 381: 36.285714% 17.123596%\n",
      "FRAX28 FRAX21 458: 43.619048% 18.452861%\n",
      "FRAX28 FRAX19 92: 8.761905% 18.585859%\n",
      "FRAX28 FRAX20 266: 25.333333% 17.721519%\n",
      "FRAX28 FRAX11 78: 7.428571% 19.696970%\n",
      "FRAX28 FRAX27 142: 13.523810% 16.228571%\n",
      "FRAX28 FRAX04 253: 24.095238% 19.431644%\n",
      "FRAX28 FRAX03 250: 23.809524% 18.656716%\n",
      "FRAX28 FRAX09 61: 5.809524% 14.186047%\n",
      "FRAX28 FRAX13 253: 24.095238% 17.508651%\n",
      "FRAX28 FRAX26 87: 8.285714% 17.864476%\n",
      "FRAX28 FRAX14 179: 17.047619% 16.791745%\n",
      "FRAX28 FRAX05 267: 25.428571% 16.888046%\n",
      "FRAX28 FRAX33 265: 25.238095% 18.039483%\n",
      "FRAX28 FRAX31 429: 40.857143% 13.240741%\n",
      "FRAX28 Oeuropea 231: 22.000000% 17.407687%\n",
      "FRAX12 FRAX07 193: 12.207464% 30.489731%\n",
      "FRAX12 FRAX29 455: 28.779254% 33.554572%\n",
      "FRAX12 FRAX08 707: 44.718533% 35.350000%\n",
      "FRAX12 FRAX01 181: 11.448450% 28.062016%\n",
      "FRAX12 FRAX16 326: 20.619861% 25.608798%\n",
      "FRAX12 FRAX15 388: 24.541429% 28.279883%\n",
      "FRAX12 FRAX00 191: 12.080961% 24.708926%\n",
      "FRAX12 FRAX06 165: 10.436433% 28.399312%\n",
      "FRAX12 FRAX23 396: 25.047438% 28.737300%\n",
      "FRAX12 FRAX25 614: 38.836180% 27.595506%\n",
      "FRAX12 FRAX21 642: 40.607211% 25.866237%\n",
      "FRAX12 FRAX19 136: 8.602151% 27.474747%\n",
      "FRAX12 FRAX20 403: 25.490196% 26.848767%\n",
      "FRAX12 FRAX11 95: 6.008855% 23.989899%\n",
      "FRAX12 FRAX27 226: 14.294750% 25.828571%\n",
      "FRAX12 FRAX04 349: 22.074636% 26.804916%\n",
      "FRAX12 FRAX03 358: 22.643896% 26.716418%\n",
      "FRAX12 FRAX09 87: 5.502846% 20.232558%\n",
      "FRAX12 FRAX13 377: 23.845667% 26.089965%\n",
      "FRAX12 FRAX26 130: 8.222644% 26.694045%\n",
      "FRAX12 FRAX14 293: 18.532574% 27.485929%\n",
      "FRAX12 FRAX05 400: 25.300443% 25.300443%\n",
      "FRAX12 FRAX33 380: 24.035421% 25.867937%\n",
      "FRAX12 FRAX31 622: 39.342188% 19.197531%\n",
      "FRAX12 Oeuropea 301: 19.038583% 22.682743%\n",
      "FRAX07 FRAX29 38: 6.003160% 2.802360%\n",
      "FRAX07 FRAX08 278: 43.917852% 13.900000%\n",
      "FRAX07 FRAX01 81: 12.796209% 12.558140%\n",
      "FRAX07 FRAX16 131: 20.695103% 10.290652%\n",
      "FRAX07 FRAX15 160: 25.276461% 11.661808%\n",
      "FRAX07 FRAX00 127: 20.063191% 16.429495%\n",
      "FRAX07 FRAX06 120: 18.957346% 20.654045%\n",
      "FRAX07 FRAX23 137: 21.642970% 9.941945%\n",
      "FRAX07 FRAX25 223: 35.229068% 10.022472%\n",
      "FRAX07 FRAX21 316: 49.921011% 12.731668%\n",
      "FRAX07 FRAX19 93: 14.691943% 18.787879%\n",
      "FRAX07 FRAX20 123: 19.431280% 8.194537%\n",
      "FRAX07 FRAX11 78: 12.322275% 19.696970%\n",
      "FRAX07 FRAX27 72: 11.374408% 8.228571%\n",
      "FRAX07 FRAX04 133: 21.011058% 10.215054%\n",
      "FRAX07 FRAX03 104: 16.429700% 7.761194%\n",
      "FRAX07 FRAX09 78: 12.322275% 18.139535%\n",
      "FRAX07 FRAX13 111: 17.535545% 7.681661%\n",
      "FRAX07 FRAX26 63: 9.952607% 12.936345%\n",
      "FRAX07 FRAX14 90: 14.218009% 8.442777%\n",
      "FRAX07 FRAX05 160: 25.276461% 10.120177%\n",
      "FRAX07 FRAX33 180: 28.436019% 12.253233%\n",
      "FRAX07 FRAX31 349: 55.134281% 10.771605%\n",
      "FRAX07 Oeuropea 226: 35.703002% 17.030897%\n",
      "FRAX29 FRAX08 647: 47.713864% 32.350000%\n",
      "FRAX29 FRAX01 125: 9.218289% 19.379845%\n",
      "FRAX29 FRAX16 306: 22.566372% 24.037706%\n",
      "FRAX29 FRAX15 339: 25.000000% 24.708455%\n",
      "FRAX29 FRAX00 129: 9.513274% 16.688228%\n",
      "FRAX29 FRAX06 102: 7.522124% 17.555938%\n",
      "FRAX29 FRAX23 362: 26.696165% 26.269956%\n",
      "FRAX29 FRAX25 540: 39.823009% 24.269663%\n",
      "FRAX29 FRAX21 539: 39.749263% 21.716358%\n",
      "FRAX29 FRAX19 83: 6.120944% 16.767677%\n",
      "FRAX29 FRAX20 428: 31.563422% 28.514324%\n",
      "FRAX29 FRAX11 77: 5.678466% 19.444444%\n",
      "FRAX29 FRAX27 239: 17.625369% 27.314286%\n",
      "FRAX29 FRAX04 335: 24.705015% 25.729647%\n",
      "FRAX29 FRAX03 367: 27.064897% 27.388060%\n",
      "FRAX29 FRAX09 57: 4.203540% 13.255814%\n",
      "FRAX29 FRAX13 399: 29.424779% 27.612457%\n",
      "FRAX29 FRAX26 101: 7.448378% 20.739220%\n",
      "FRAX29 FRAX14 278: 20.501475% 26.078799%\n",
      "FRAX29 FRAX05 408: 30.088496% 25.806452%\n",
      "FRAX29 FRAX33 336: 24.778761% 22.872703%\n",
      "FRAX29 FRAX31 475: 35.029499% 14.660494%\n",
      "FRAX29 Oeuropea 226: 16.666667% 17.030897%\n",
      "FRAX08 FRAX01 198: 9.900000% 30.697674%\n",
      "FRAX08 FRAX16 421: 21.050000% 33.071485%\n",
      "FRAX08 FRAX15 485: 24.250000% 35.349854%\n",
      "FRAX08 FRAX00 239: 11.950000% 30.918499%\n",
      "FRAX08 FRAX06 212: 10.600000% 36.488812%\n",
      "FRAX08 FRAX23 547: 27.350000% 39.695210%\n",
      "FRAX08 FRAX25 814: 40.700000% 36.584270%\n",
      "FRAX08 FRAX21 953: 47.650000% 38.396454%\n",
      "FRAX08 FRAX19 158: 7.900000% 31.919192%\n",
      "FRAX08 FRAX20 550: 27.500000% 36.642239%\n",
      "FRAX08 FRAX11 134: 6.700000% 33.838384%\n",
      "FRAX08 FRAX27 332: 16.600000% 37.942857%\n",
      "FRAX08 FRAX04 517: 25.850000% 39.708141%\n",
      "FRAX08 FRAX03 499: 24.950000% 37.238806%\n",
      "FRAX08 FRAX09 123: 6.150000% 28.604651%\n",
      "FRAX08 FRAX13 552: 27.600000% 38.200692%\n",
      "FRAX08 FRAX26 157: 7.850000% 32.238193%\n",
      "FRAX08 FRAX14 349: 17.450000% 32.739212%\n",
      "FRAX08 FRAX05 610: 30.500000% 38.583175%\n",
      "FRAX08 FRAX33 565: 28.250000% 38.461538%\n",
      "FRAX08 FRAX31 896: 44.800000% 27.654321%\n",
      "FRAX08 Oeuropea 427: 21.350000% 32.177845%\n",
      "FRAX01 FRAX16 0: 0.0 0.0\n",
      "FRAX01 FRAX15 266: 41.240310% 19.387755%\n",
      "FRAX01 FRAX00 147: 22.790698% 19.016818%\n",
      "FRAX01 FRAX06 74: 11.472868% 12.736661%\n",
      "FRAX01 FRAX23 172: 26.666667% 12.481858%\n",
      "FRAX01 FRAX25 258: 40.000000% 11.595506%\n",
      "FRAX01 FRAX21 261: 40.465116% 10.515713%\n",
      "FRAX01 FRAX19 62: 9.612403% 12.525253%\n",
      "FRAX01 FRAX20 137: 21.240310% 9.127249%\n",
      "FRAX01 FRAX11 45: 6.976744% 11.363636%\n",
      "FRAX01 FRAX27 83: 12.868217% 9.485714%\n",
      "FRAX01 FRAX04 132: 20.465116% 10.138249%\n",
      "FRAX01 FRAX03 124: 19.224806% 9.253731%\n",
      "FRAX01 FRAX09 44: 6.821705% 10.232558%\n",
      "FRAX01 FRAX13 129: 20.000000% 8.927336%\n",
      "FRAX01 FRAX26 53: 8.217054% 10.882957%\n",
      "FRAX01 FRAX14 109: 16.899225% 10.225141%\n",
      "FRAX01 FRAX05 150: 23.255814% 9.487666%\n",
      "FRAX01 FRAX33 141: 21.860465% 9.598366%\n",
      "FRAX01 FRAX31 259: 40.155039% 7.993827%\n",
      "FRAX01 Oeuropea 126: 19.534884% 9.495102%\n",
      "FRAX16 FRAX15 500: 39.277298% 36.443149%\n",
      "FRAX16 FRAX00 192: 15.082482% 24.838292%\n",
      "FRAX16 FRAX06 130: 10.212097% 22.375215%\n",
      "FRAX16 FRAX23 359: 28.201100% 26.052250%\n",
      "FRAX16 FRAX25 488: 38.334643% 21.932584%\n",
      "FRAX16 FRAX21 478: 37.549097% 19.258662%\n",
      "FRAX16 FRAX19 91: 7.148468% 18.383838%\n",
      "FRAX16 FRAX20 319: 25.058916% 21.252498%\n",
      "FRAX16 FRAX11 67: 5.263158% 16.919192%\n",
      "FRAX16 FRAX27 202: 15.868028% 23.085714%\n",
      "FRAX16 FRAX04 282: 22.152396% 21.658986%\n",
      "FRAX16 FRAX03 296: 23.252160% 22.089552%\n",
      "FRAX16 FRAX09 66: 5.184603% 15.348837%\n",
      "FRAX16 FRAX13 283: 22.230951% 19.584775%\n",
      "FRAX16 FRAX26 75: 5.891595% 15.400411%\n",
      "FRAX16 FRAX14 230: 18.067557% 21.575985%\n",
      "FRAX16 FRAX05 333: 26.158680% 21.062619%\n",
      "FRAX16 FRAX33 277: 21.759623% 18.856365%\n",
      "FRAX16 FRAX31 431: 33.857031% 13.302469%\n",
      "FRAX16 Oeuropea 227: 17.831893% 17.106255%\n",
      "FRAX15 FRAX00 254: 18.513120% 32.858991%\n",
      "FRAX15 FRAX06 127: 9.256560% 21.858864%\n",
      "FRAX15 FRAX23 396: 28.862974% 28.737300%\n",
      "FRAX15 FRAX25 573: 41.763848% 25.752809%\n",
      "FRAX15 FRAX21 568: 41.399417% 22.884770%\n",
      "FRAX15 FRAX19 98: 7.142857% 19.797980%\n",
      "FRAX15 FRAX20 351: 25.583090% 23.384410%\n",
      "FRAX15 FRAX11 72: 5.247813% 18.181818%\n",
      "FRAX15 FRAX27 234: 17.055394% 26.742857%\n",
      "FRAX15 FRAX04 300: 21.865889% 23.041475%\n",
      "FRAX15 FRAX03 305: 22.230321% 22.761194%\n",
      "FRAX15 FRAX09 81: 5.903790% 18.837209%\n",
      "FRAX15 FRAX13 318: 23.177843% 22.006920%\n",
      "FRAX15 FRAX26 106: 7.725948% 21.765914%\n",
      "FRAX15 FRAX14 259: 18.877551% 24.296435%\n",
      "FRAX15 FRAX05 351: 25.583090% 22.201139%\n",
      "FRAX15 FRAX33 312: 22.740525% 21.238938%\n",
      "FRAX15 FRAX31 503: 36.661808% 15.524691%\n",
      "FRAX15 Oeuropea 270: 19.679300% 20.346647%\n",
      "FRAX00 FRAX06 150: 19.404916% 25.817556%\n",
      "FRAX00 FRAX23 145: 18.758085% 10.522496%\n",
      "FRAX00 FRAX25 350: 45.278137% 15.730337%\n",
      "FRAX00 FRAX21 370: 47.865459% 14.907333%\n",
      "FRAX00 FRAX19 95: 12.289780% 19.191919%\n",
      "FRAX00 FRAX20 112: 14.489004% 7.461692%\n",
      "FRAX00 FRAX11 86: 11.125485% 21.717172%\n",
      "FRAX00 FRAX27 84: 10.866753% 9.600000%\n",
      "FRAX00 FRAX04 133: 17.205692% 10.215054%\n",
      "FRAX00 FRAX03 109: 14.100906% 8.134328%\n",
      "FRAX00 FRAX09 95: 12.289780% 22.093023%\n",
      "FRAX00 FRAX13 134: 17.335058% 9.273356%\n",
      "FRAX00 FRAX26 70: 9.055627% 14.373717%\n",
      "FRAX00 FRAX14 104: 13.454075% 9.756098%\n",
      "FRAX00 FRAX05 191: 24.708926% 12.080961%\n",
      "FRAX00 FRAX33 200: 25.873221% 13.614704%\n",
      "FRAX00 FRAX31 397: 51.358344% 12.253086%\n",
      "FRAX00 Oeuropea 240: 31.047865% 18.085908%\n",
      "FRAX06 FRAX23 53: 9.122203% 3.846154%\n",
      "FRAX06 FRAX25 263: 45.266781% 11.820225%\n",
      "FRAX06 FRAX21 273: 46.987952% 10.999194%\n",
      "FRAX06 FRAX19 81: 13.941480% 16.363636%\n",
      "FRAX06 FRAX20 92: 15.834768% 6.129247%\n",
      "FRAX06 FRAX11 67: 11.531842% 16.919192%\n",
      "FRAX06 FRAX27 63: 10.843373% 7.200000%\n",
      "FRAX06 FRAX04 115: 19.793460% 8.832565%\n",
      "FRAX06 FRAX03 106: 18.244406% 7.910448%\n",
      "FRAX06 FRAX09 70: 12.048193% 16.279070%\n",
      "FRAX06 FRAX13 116: 19.965577% 8.027682%\n",
      "FRAX06 FRAX26 68: 11.703959% 13.963039%\n",
      "FRAX06 FRAX14 98: 16.867470% 9.193246%\n",
      "FRAX06 FRAX05 152: 26.161790% 9.614168%\n",
      "FRAX06 FRAX33 163: 28.055077% 11.095984%\n",
      "FRAX06 FRAX31 312: 53.700516% 9.629630%\n",
      "FRAX06 Oeuropea 187: 32.185886% 14.091937%\n",
      "FRAX23 FRAX25 644: 46.734398% 28.943820%\n",
      "FRAX23 FRAX21 586: 42.525399% 23.609992%\n",
      "FRAX23 FRAX19 107: 7.764877% 21.616162%\n",
      "FRAX23 FRAX20 415: 30.116110% 27.648235%\n",
      "FRAX23 FRAX11 74: 5.370102% 18.686869%\n",
      "FRAX23 FRAX27 271: 19.666183% 30.971429%\n",
      "FRAX23 FRAX04 368: 26.705370% 28.264209%\n",
      "FRAX23 FRAX03 404: 29.317852% 30.149254%\n",
      "FRAX23 FRAX09 68: 4.934688% 15.813953%\n",
      "FRAX23 FRAX13 392: 28.447025% 27.128028%\n",
      "FRAX23 FRAX26 102: 7.402032% 20.944559%\n",
      "FRAX23 FRAX14 264: 19.158200% 24.765478%\n",
      "FRAX23 FRAX05 420: 30.478955% 26.565465%\n",
      "FRAX23 FRAX33 375: 27.213353% 25.527570%\n",
      "FRAX23 FRAX31 514: 37.300435% 15.864198%\n",
      "FRAX23 Oeuropea 281: 20.391872% 21.175584%\n",
      "FRAX25 FRAX21 1137: 51.101124% 45.809831%\n",
      "FRAX25 FRAX19 184: 8.269663% 37.171717%\n",
      "FRAX25 FRAX20 557: 25.033708% 37.108594%\n",
      "FRAX25 FRAX11 148: 6.651685% 37.373737%\n",
      "FRAX25 FRAX27 360: 16.179775% 41.142857%\n",
      "FRAX25 FRAX04 510: 22.921348% 39.170507%\n",
      "FRAX25 FRAX03 509: 22.876404% 37.985075%\n",
      "FRAX25 FRAX09 145: 6.516854% 33.720930%\n",
      "FRAX25 FRAX13 601: 27.011236% 41.591696%\n",
      "FRAX25 FRAX26 180: 8.089888% 36.960986%\n",
      "FRAX25 FRAX14 370: 16.629213% 34.709193%\n",
      "FRAX25 FRAX05 600: 26.966292% 37.950664%\n",
      "FRAX25 FRAX33 595: 26.741573% 40.503744%\n",
      "FRAX25 FRAX31 1024: 46.022472% 31.604938%\n",
      "FRAX25 Oeuropea 490: 22.022472% 36.925396%\n",
      "FRAX21 FRAX19 201: 8.098308% 40.606061%\n",
      "FRAX21 FRAX20 606: 24.415794% 40.373085%\n",
      "FRAX21 FRAX11 185: 7.453666% 46.717172%\n",
      "FRAX21 FRAX27 339: 13.658340% 38.742857%\n",
      "FRAX21 FRAX04 526: 21.192587% 40.399386%\n",
      "FRAX21 FRAX03 502: 20.225624% 37.462687%\n",
      "FRAX21 FRAX09 190: 7.655117% 44.186047%\n",
      "FRAX21 FRAX13 583: 23.489122% 40.346021%\n",
      "FRAX21 FRAX26 187: 7.534247% 38.398357%\n",
      "FRAX21 FRAX14 396: 15.954875% 37.148218%\n",
      "FRAX21 FRAX05 695: 28.001612% 43.959519%\n",
      "FRAX21 FRAX33 684: 27.558421% 46.562287%\n",
      "FRAX21 FRAX31 1315: 52.981467% 40.586420%\n",
      "FRAX21 Oeuropea 622: 25.060435% 46.872645%\n",
      "FRAX19 FRAX20 3: 0.606061% 0.199867%\n",
      "FRAX19 FRAX11 51: 10.303030% 12.878788%\n",
      "FRAX19 FRAX27 53: 10.707071% 6.057143%\n",
      "FRAX19 FRAX04 93: 18.787879% 7.142857%\n",
      "FRAX19 FRAX03 92: 18.585859% 6.865672%\n",
      "FRAX19 FRAX09 64: 12.929293% 14.883721%\n",
      "FRAX19 FRAX13 100: 20.202020% 6.920415%\n",
      "FRAX19 FRAX26 42: 8.484848% 8.624230%\n",
      "FRAX19 FRAX14 68: 13.737374% 6.378987%\n",
      "FRAX19 FRAX05 129: 26.060606% 8.159393%\n",
      "FRAX19 FRAX33 147: 29.696970% 10.006807%\n",
      "FRAX19 FRAX31 223: 45.050505% 6.882716%\n",
      "FRAX19 Oeuropea 133: 26.868687% 10.022607%\n",
      "FRAX20 FRAX11 67: 4.463691% 16.919192%\n",
      "FRAX20 FRAX27 288: 19.187209% 32.914286%\n",
      "FRAX20 FRAX04 409: 27.248501% 31.413210%\n",
      "FRAX20 FRAX03 422: 28.114590% 31.492537%\n",
      "FRAX20 FRAX09 64: 4.263824% 14.883721%\n",
      "FRAX20 FRAX13 406: 27.048634% 28.096886%\n",
      "FRAX20 FRAX26 121: 8.061292% 24.845996%\n",
      "FRAX20 FRAX14 281: 18.720853% 26.360225%\n",
      "FRAX20 FRAX05 432: 28.780813% 27.324478%\n",
      "FRAX20 FRAX33 376: 25.049967% 25.595643%\n",
      "FRAX20 FRAX31 547: 36.442372% 16.882716%\n",
      "FRAX20 Oeuropea 272: 18.121252% 20.497362%\n",
      "FRAX11 FRAX27 0: 0.0 0.0\n",
      "FRAX11 FRAX04 174: 43.939394% 13.364055%\n",
      "FRAX11 FRAX03 69: 17.424242% 5.149254%\n",
      "FRAX11 FRAX09 64: 16.161616% 14.883721%\n",
      "FRAX11 FRAX13 82: 20.707071% 5.674740%\n",
      "FRAX11 FRAX26 41: 10.353535% 8.418891%\n",
      "FRAX11 FRAX14 56: 14.141414% 5.253283%\n",
      "FRAX11 FRAX05 115: 29.040404% 7.273877%\n",
      "FRAX11 FRAX33 127: 32.070707% 8.645337%\n",
      "FRAX11 FRAX31 222: 56.060606% 6.851852%\n",
      "FRAX11 Oeuropea 132: 33.333333% 9.947249%\n",
      "FRAX27 FRAX04 367: 41.942857% 28.187404%\n",
      "FRAX27 FRAX03 270: 30.857143% 20.149254%\n",
      "FRAX27 FRAX09 34: 3.885714% 7.906977%\n",
      "FRAX27 FRAX13 278: 31.771429% 19.238754%\n",
      "FRAX27 FRAX26 64: 7.314286% 13.141684%\n",
      "FRAX27 FRAX14 188: 21.485714% 17.636023%\n",
      "FRAX27 FRAX05 281: 32.114286% 17.773561%\n",
      "FRAX27 FRAX33 253: 28.914286% 17.222600%\n",
      "FRAX27 FRAX31 328: 37.485714% 10.123457%\n",
      "FRAX27 Oeuropea 171: 19.542857% 12.886209%\n",
      "FRAX04 FRAX03 397: 30.491551% 29.626866%\n",
      "FRAX04 FRAX09 64: 4.915515% 14.883721%\n",
      "FRAX04 FRAX13 371: 28.494624% 25.674740%\n",
      "FRAX04 FRAX26 107: 8.218126% 21.971253%\n",
      "FRAX04 FRAX14 247: 18.970814% 23.170732%\n",
      "FRAX04 FRAX05 384: 29.493088% 24.288425%\n",
      "FRAX04 FRAX33 393: 30.184332% 26.752893%\n",
      "FRAX04 FRAX31 537: 41.244240% 16.574074%\n",
      "FRAX04 Oeuropea 276: 21.198157% 20.798794%\n",
      "FRAX03 FRAX09 0: 0.0 0.0\n",
      "FRAX03 FRAX13 594: 44.328358% 41.107266%\n",
      "FRAX03 FRAX26 126: 9.402985% 25.872690%\n",
      "FRAX03 FRAX14 330: 24.626866% 30.956848%\n",
      "FRAX03 FRAX05 547: 40.820896% 34.598355%\n",
      "FRAX03 FRAX33 442: 32.985075% 30.088496%\n",
      "FRAX03 FRAX31 472: 35.223881% 14.567901%\n",
      "FRAX03 Oeuropea 207: 15.447761% 15.599096%\n",
      "FRAX09 FRAX13 174: 40.465116% 12.041522%\n",
      "FRAX09 FRAX26 65: 15.116279% 13.347023%\n",
      "FRAX09 FRAX14 67: 15.581395% 6.285178%\n",
      "FRAX09 FRAX05 158: 36.744186% 9.993675%\n",
      "FRAX09 FRAX33 189: 43.953488% 12.865895%\n",
      "FRAX09 FRAX31 246: 57.209302% 7.592593%\n",
      "FRAX09 Oeuropea 131: 30.465116% 9.871891%\n",
      "FRAX13 FRAX26 142: 9.826990% 29.158111%\n",
      "FRAX13 FRAX14 356: 24.636678% 33.395872%\n",
      "FRAX13 FRAX05 644: 44.567474% 40.733713%\n",
      "FRAX13 FRAX33 535: 37.024221% 36.419333%\n",
      "FRAX13 FRAX31 580: 40.138408% 17.901235%\n",
      "FRAX13 Oeuropea 252: 17.439446% 18.990203%\n",
      "FRAX26 FRAX14 0: 0.0 0.0\n",
      "FRAX26 FRAX05 179: 36.755647% 11.321948%\n",
      "FRAX26 FRAX33 163: 33.470226% 11.095984%\n",
      "FRAX26 FRAX31 221: 45.379877% 6.820988%\n",
      "FRAX26 Oeuropea 113: 23.203285% 8.515448%\n",
      "FRAX14 FRAX05 378: 35.459662% 23.908918%\n",
      "FRAX14 FRAX33 296: 27.767355% 20.149762%\n",
      "FRAX14 FRAX31 387: 36.303940% 11.944444%\n",
      "FRAX14 Oeuropea 194: 18.198874% 14.619442%\n",
      "FRAX05 FRAX33 630: 39.848197% 42.886317%\n",
      "FRAX05 FRAX31 701: 44.339026% 21.635802%\n",
      "FRAX05 Oeuropea 310: 19.607843% 23.360965%\n",
      "FRAX33 FRAX31 757: 51.531654% 23.364198%\n",
      "FRAX33 Oeuropea 349: 23.757658% 26.299925%\n",
      "FRAX31 Oeuropea 715: 22.067901% 53.880934%\n",
      "Average\n"
     ]
    },
    {
     "data": {
      "text/plain": [
       "'21.277025%'"
      ]
     },
     "execution_count": 39,
     "metadata": {},
     "output_type": "execute_result"
    }
   ],
   "source": [
    "# All pair wise combintations once\n",
    "overlap_percentages = []\n",
    "for x in range(len(species_names)):\n",
    "    for y in range(x+1, len(species_names)):\n",
    "        intersect = genes_lost[species_names[x]].intersection(genes_lost[species_names[y]])\n",
    "        print(species_names[x], species_names[y], len(intersect), end=': ')\n",
    "        p1 = len(intersect) / len(genes_lost[species_names[x]])\n",
    "        p2 = len(intersect) / len(genes_lost[species_names[y]])\n",
    "        overlap_percentages.append(p1); overlap_percentages.append(p2)\n",
    "        print(pp(p1), pp(p2))\n",
    "print(\"Average\")\n",
    "pp(mean(overlap_percentages))"
   ]
  },
  {
   "cell_type": "markdown",
   "metadata": {
    "collapsed": true
   },
   "source": [
    "So the average overlap is 21% of all losses in that species.  Is that higher than the total families lost in that species?"
   ]
  },
  {
   "cell_type": "code",
   "execution_count": 40,
   "metadata": {
    "collapsed": false
   },
   "outputs": [
    {
     "data": {
      "text/plain": [
       "1231.7931034482758"
      ]
     },
     "execution_count": 40,
     "metadata": {},
     "output_type": "execute_result"
    }
   ],
   "source": [
    "mean([len(genes_lost[species]) for species in species_names])"
   ]
  },
  {
   "cell_type": "code",
   "execution_count": 41,
   "metadata": {
    "collapsed": false
   },
   "outputs": [
    {
     "data": {
      "text/plain": [
       "6209"
      ]
     },
     "execution_count": 41,
     "metadata": {},
     "output_type": "execute_result"
    }
   ],
   "source": [
    "# These numbers were pulled in from sums of oleaceae_homeologs_one_rate_anc.csv\n",
    "csv_anc_totals = [6209,8173,6669,6069,8327,6236,8118,8705,7581,8126,6089,7682,7886,6660,6215,6823,9230,6878,5879,6422,7228,6202,6943,8194,8531,7413,7214,8625,6268,8085,7419,7870,7111,7939,6574,8132,7269,6541,7395,6505,6059,8015,7600,6580,10686,6868,8216,6571,7245,8115,7381,7683,9043,6655,7069,7764]\n",
    "csv_anc_names = 'FRAX08\t<33>\tFRAX05\tFRAX25\t<25>\tFRAX14\t<21>\t<27>\t<31>\t<23>\tFRAX15\t<35>\t<37>\tFRAX32\tFRAX21\tFRAX33\tOeuropea\tFRAX26\tFRAX16\tFRAX03\tFRAX07\tFRAX23\tFRAX31\t<11>\t<39>\tFRAX09\tFRAX19\t<13>\tFRAX12\t<49>\t<17>\t<43>\t<15>\t<19>\tFRAX29\t<9>\t<47>\tFRAX01\tFRAX00\tFRAX13\tFRAX20\t<45>\t<3>\tFRAX30\t<53>\tFRAX27\t<51>\tFRAX04\t<1>\t<7>\tFRAX11\t<41>\t<29>\tFRAX28\tFRAX06\t<5>'.split('\\t')\n",
    "species_totals = dict(zip(csv_anc_names, csv_anc_totals))\n",
    "species_totals['FRAX08']"
   ]
  },
  {
   "cell_type": "code",
   "execution_count": 42,
   "metadata": {
    "collapsed": false
   },
   "outputs": [
    {
     "data": {
      "text/plain": [
       "6718.793103448276"
      ]
     },
     "execution_count": 42,
     "metadata": {},
     "output_type": "execute_result"
    }
   ],
   "source": [
    "from statistics import mean, median\n",
    "mean([species_totals[s] for s in species_names])"
   ]
  },
  {
   "cell_type": "code",
   "execution_count": 43,
   "metadata": {
    "collapsed": false
   },
   "outputs": [
    {
     "name": "stdout",
     "output_type": "stream",
     "text": [
      "Average percentage of genes lost 16.387020%\n"
     ]
    }
   ],
   "source": [
    "print(\"Average percentage of genes lost\", pp(1316.7931 / (6718.7931 + 1316.7931)))"
   ]
  },
  {
   "cell_type": "markdown",
   "metadata": {},
   "source": [
    "#### Percentage of all gene families, not just the losses"
   ]
  },
  {
   "cell_type": "code",
   "execution_count": 44,
   "metadata": {
    "collapsed": false
   },
   "outputs": [
    {
     "name": "stdout",
     "output_type": "stream",
     "text": [
      "FRAX30 FRAX32 0: 0.0 0.0\n",
      "FRAX30 FRAX28 274: 4.164134% 4.117205%\n",
      "FRAX30 FRAX12 303: 4.604863% 4.834078%\n",
      "FRAX30 FRAX07 100: 1.519757% 1.383509%\n",
      "FRAX30 FRAX29 204: 3.100304% 3.103134%\n",
      "FRAX30 FRAX08 321: 4.878419% 5.169915%\n",
      "FRAX30 FRAX01 78: 1.185410% 1.192478%\n",
      "FRAX30 FRAX16 168: 2.553191% 2.857629%\n",
      "FRAX30 FRAX15 169: 2.568389% 2.775497%\n",
      "FRAX30 FRAX00 106: 1.610942% 1.433401%\n",
      "FRAX30 FRAX06 85: 1.291793% 1.202433%\n",
      "FRAX30 FRAX23 179: 2.720365% 2.886166%\n",
      "FRAX30 FRAX25 276: 4.194529% 4.547701%\n",
      "FRAX30 FRAX21 316: 4.802432% 5.084473%\n",
      "FRAX30 FRAX19 64: 0.972644% 0.887164%\n",
      "FRAX30 FRAX20 166: 2.522796% 2.739726%\n",
      "FRAX30 FRAX11 42: 0.638298% 0.569029%\n",
      "FRAX30 FRAX27 103: 1.565350% 1.499709%\n",
      "FRAX30 FRAX04 146: 2.218845% 2.221884%\n",
      "FRAX30 FRAX03 153: 2.325228% 2.382435%\n",
      "FRAX30 FRAX09 49: 0.744681% 0.661001%\n",
      "FRAX30 FRAX13 159: 2.416413% 2.444274%\n",
      "FRAX30 FRAX26 57: 0.866261% 0.828729%\n",
      "FRAX30 FRAX14 123: 1.869301% 1.972418%\n",
      "FRAX30 FRAX05 196: 2.978723% 2.938971%\n",
      "FRAX30 FRAX33 174: 2.644377% 2.550198%\n",
      "FRAX30 FRAX31 299: 4.544073% 4.306496%\n",
      "FRAX30 Oeuropea 150: 2.279635% 1.625135%\n",
      "FRAX32 FRAX28 223: 3.348348% 3.350864%\n",
      "FRAX32 FRAX12 283: 4.249249% 4.514997%\n",
      "FRAX32 FRAX07 97: 1.456456% 1.342003%\n",
      "FRAX32 FRAX29 187: 2.807808% 2.844539%\n",
      "FRAX32 FRAX08 289: 4.339339% 4.654534%\n",
      "FRAX32 FRAX01 79: 1.186186% 1.207766%\n",
      "FRAX32 FRAX16 149: 2.237237% 2.534445%\n",
      "FRAX32 FRAX15 159: 2.387387% 2.611266%\n",
      "FRAX32 FRAX00 87: 1.306306% 1.176471%\n",
      "FRAX32 FRAX06 76: 1.141141% 1.075117%\n",
      "FRAX32 FRAX23 184: 2.762763% 2.966785%\n",
      "FRAX32 FRAX25 246: 3.693694% 4.053386%\n",
      "FRAX32 FRAX21 255: 3.828829% 4.102977%\n",
      "FRAX32 FRAX19 54: 0.810811% 0.748544%\n",
      "FRAX32 FRAX20 158: 2.372372% 2.607691%\n",
      "FRAX32 FRAX11 54: 0.810811% 0.731608%\n",
      "FRAX32 FRAX27 91: 1.366366% 1.324985%\n",
      "FRAX32 FRAX04 153: 2.297297% 2.328413%\n",
      "FRAX32 FRAX03 166: 2.492492% 2.584865%\n",
      "FRAX32 FRAX09 49: 0.735736% 0.661001%\n",
      "FRAX32 FRAX13 166: 2.492492% 2.551883%\n",
      "FRAX32 FRAX26 67: 1.006006% 0.974120%\n",
      "FRAX32 FRAX14 110: 1.651652% 1.763951%\n",
      "FRAX32 FRAX05 157: 2.357357% 2.354176%\n",
      "FRAX32 FRAX33 181: 2.717718% 2.652792%\n",
      "FRAX32 FRAX31 256: 3.843844% 3.687167%\n",
      "FRAX32 Oeuropea 142: 2.132132% 1.538462%\n",
      "FRAX28 FRAX12 445: 6.686702% 7.099553%\n",
      "FRAX28 FRAX07 149: 2.238918% 2.061428%\n",
      "FRAX28 FRAX29 265: 3.981968% 4.031031%\n",
      "FRAX28 FRAX08 463: 6.957175% 7.456917%\n",
      "FRAX28 FRAX01 115: 1.728024% 1.758141%\n",
      "FRAX28 FRAX16 218: 3.275733% 3.708114%\n",
      "FRAX28 FRAX15 261: 3.921863% 4.286418%\n",
      "FRAX28 FRAX00 140: 2.103681% 1.893171%\n",
      "FRAX28 FRAX06 114: 1.712998% 1.612675%\n",
      "FRAX28 FRAX23 275: 4.132231% 4.434054%\n",
      "FRAX28 FRAX25 381: 5.725019% 6.277805%\n",
      "FRAX28 FRAX21 458: 6.882044% 7.369268%\n",
      "FRAX28 FRAX19 92: 1.382419% 1.275298%\n",
      "FRAX28 FRAX20 266: 3.996995% 4.390163%\n",
      "FRAX28 FRAX11 78: 1.172051% 1.056767%\n",
      "FRAX28 FRAX27 142: 2.133734% 2.067560%\n",
      "FRAX28 FRAX04 253: 3.801653% 3.850251%\n",
      "FRAX28 FRAX03 250: 3.756574% 3.892868%\n",
      "FRAX28 FRAX09 61: 0.916604% 0.822879%\n",
      "FRAX28 FRAX13 253: 3.801653% 3.889316%\n",
      "FRAX28 FRAX26 87: 1.307288% 1.264903%\n",
      "FRAX28 FRAX14 179: 2.689707% 2.870430%\n",
      "FRAX28 FRAX05 267: 4.012021% 4.003599%\n",
      "FRAX28 FRAX33 265: 3.981968% 3.883922%\n",
      "FRAX28 FRAX31 429: 6.446281% 6.178885%\n",
      "FRAX28 Oeuropea 231: 3.471074% 2.502709%\n",
      "FRAX12 FRAX07 193: 3.079132% 2.670172%\n",
      "FRAX12 FRAX29 455: 7.259094% 6.921205%\n",
      "FRAX12 FRAX08 707: 11.279515% 11.386697%\n",
      "FRAX12 FRAX01 181: 2.887683% 2.767161%\n",
      "FRAX12 FRAX16 326: 5.201021% 5.545161%\n",
      "FRAX12 FRAX15 388: 6.190172% 6.372146%\n",
      "FRAX12 FRAX00 191: 3.047224% 2.582826%\n",
      "FRAX12 FRAX06 165: 2.632419% 2.334135%\n",
      "FRAX12 FRAX23 396: 6.317805% 6.385037%\n",
      "FRAX12 FRAX25 614: 9.795788% 10.116988%\n",
      "FRAX12 FRAX21 642: 10.242502% 10.329847%\n",
      "FRAX12 FRAX19 136: 2.169751% 1.885223%\n",
      "FRAX12 FRAX20 403: 6.429483% 6.651263%\n",
      "FRAX12 FRAX11 95: 1.515635% 1.287088%\n",
      "FRAX12 FRAX27 226: 3.605616% 3.290623%\n",
      "FRAX12 FRAX04 349: 5.567964% 5.311216%\n",
      "FRAX12 FRAX03 358: 5.711551% 5.574587%\n",
      "FRAX12 FRAX09 87: 1.388003% 1.173614%\n",
      "FRAX12 FRAX13 377: 6.014678% 5.795542%\n",
      "FRAX12 FRAX26 130: 2.074027% 1.890084%\n",
      "FRAX12 FRAX14 293: 4.674537% 4.698525%\n",
      "FRAX12 FRAX05 400: 6.381621% 5.997901%\n",
      "FRAX12 FRAX33 380: 6.062540% 5.569398%\n",
      "FRAX12 FRAX31 622: 9.923421% 8.958663%\n",
      "FRAX12 Oeuropea 301: 4.802170% 3.261105%\n",
      "FRAX07 FRAX29 38: 0.525733% 0.578035%\n",
      "FRAX07 FRAX08 278: 3.846154% 4.477372%\n",
      "FRAX07 FRAX01 81: 1.120642% 1.238343%\n",
      "FRAX07 FRAX16 131: 1.812396% 2.228270%\n",
      "FRAX07 FRAX15 160: 2.213614% 2.627689%\n",
      "FRAX07 FRAX00 127: 1.757056% 1.717377%\n",
      "FRAX07 FRAX06 120: 1.660210% 1.697553%\n",
      "FRAX07 FRAX23 137: 1.895407% 2.208965%\n",
      "FRAX07 FRAX25 223: 3.085224% 3.674411%\n",
      "FRAX07 FRAX21 316: 4.371887% 5.084473%\n",
      "FRAX07 FRAX19 93: 1.286663% 1.289160%\n",
      "FRAX07 FRAX20 123: 1.701716% 2.030038%\n",
      "FRAX07 FRAX11 78: 1.079137% 1.056767%\n",
      "FRAX07 FRAX27 72: 0.996126% 1.048340%\n",
      "FRAX07 FRAX04 133: 1.840066% 2.024045%\n",
      "FRAX07 FRAX03 104: 1.438849% 1.619433%\n",
      "FRAX07 FRAX09 78: 1.079137% 1.052206%\n",
      "FRAX07 FRAX13 111: 1.535695% 1.706380%\n",
      "FRAX07 FRAX26 63: 0.871610% 0.915964%\n",
      "FRAX07 FRAX14 90: 1.245158% 1.443233%\n",
      "FRAX07 FRAX05 160: 2.213614% 2.399160%\n",
      "FRAX07 FRAX33 180: 2.490315% 2.638136%\n",
      "FRAX07 FRAX31 349: 4.828445% 5.026646%\n",
      "FRAX07 Oeuropea 226: 3.126729% 2.448537%\n",
      "FRAX29 FRAX08 647: 9.841801% 10.420358%\n",
      "FRAX29 FRAX01 125: 1.901430% 1.911023%\n",
      "FRAX29 FRAX16 306: 4.654700% 5.204967%\n",
      "FRAX29 FRAX15 339: 5.156678% 5.567417%\n",
      "FRAX29 FRAX00 129: 1.962276% 1.744422%\n",
      "FRAX29 FRAX06 102: 1.551567% 1.442920%\n",
      "FRAX29 FRAX23 362: 5.506541% 5.836827%\n",
      "FRAX29 FRAX25 540: 8.214177% 8.897677%\n",
      "FRAX29 FRAX21 539: 8.198966% 8.672566%\n",
      "FRAX29 FRAX19 83: 1.262549% 1.150541%\n",
      "FRAX29 FRAX20 428: 6.510496% 7.063872%\n",
      "FRAX29 FRAX11 77: 1.171281% 1.043219%\n",
      "FRAX29 FRAX27 239: 3.635534% 3.479907%\n",
      "FRAX29 FRAX04 335: 5.095832% 5.098159%\n",
      "FRAX29 FRAX03 367: 5.582598% 5.714731%\n",
      "FRAX29 FRAX09 57: 0.867052% 0.768919%\n",
      "FRAX29 FRAX13 399: 6.069364% 6.133743%\n",
      "FRAX29 FRAX26 101: 1.536355% 1.468450%\n",
      "FRAX29 FRAX14 278: 4.228780% 4.457986%\n",
      "FRAX29 FRAX05 408: 6.206267% 6.117859%\n",
      "FRAX29 FRAX33 336: 5.111044% 4.924520%\n",
      "FRAX29 FRAX31 475: 7.225434% 6.841423%\n",
      "FRAX29 Oeuropea 226: 3.437785% 2.448537%\n",
      "FRAX08 FRAX01 198: 3.188919% 3.027060%\n",
      "FRAX08 FRAX16 421: 6.780480% 7.161082%\n",
      "FRAX08 FRAX15 485: 7.811242% 7.965183%\n",
      "FRAX08 FRAX00 239: 3.849251% 3.231913%\n",
      "FRAX08 FRAX06 212: 3.414398% 2.999010%\n",
      "FRAX08 FRAX23 547: 8.809792% 8.819736%\n",
      "FRAX08 FRAX25 814: 13.110002% 13.412424%\n",
      "FRAX08 FRAX21 953: 15.348687% 15.333870%\n",
      "FRAX08 FRAX19 158: 2.544693% 2.190186%\n",
      "FRAX08 FRAX20 550: 8.858109% 9.077406%\n",
      "FRAX08 FRAX11 134: 2.158158% 1.815472%\n",
      "FRAX08 FRAX27 332: 5.347077% 4.834013%\n",
      "FRAX08 FRAX04 517: 8.326623% 7.867904%\n",
      "FRAX08 FRAX03 499: 8.036721% 7.770165%\n",
      "FRAX08 FRAX09 123: 1.980995% 1.659247%\n",
      "FRAX08 FRAX13 552: 8.890321% 8.485780%\n",
      "FRAX08 FRAX26 157: 2.528588% 2.282640%\n",
      "FRAX08 FRAX14 349: 5.620873% 5.596536%\n",
      "FRAX08 FRAX05 610: 9.824448% 9.146799%\n",
      "FRAX08 FRAX33 565: 9.099694% 8.280815%\n",
      "FRAX08 FRAX31 896: 14.430665% 12.905084%\n",
      "FRAX08 Oeuropea 427: 6.877114% 4.626219%\n",
      "FRAX01 FRAX16 0: 0.0 0.0\n",
      "FRAX01 FRAX15 266: 4.066656% 4.368533%\n",
      "FRAX01 FRAX00 147: 2.247363% 1.987830%\n",
      "FRAX01 FRAX06 74: 1.131325% 1.046824%\n",
      "FRAX01 FRAX23 172: 2.629567% 2.773299%\n",
      "FRAX01 FRAX25 258: 3.944351% 4.251112%\n",
      "FRAX01 FRAX21 261: 3.990216% 4.199517%\n",
      "FRAX01 FRAX19 62: 0.947867% 0.859440%\n",
      "FRAX01 FRAX20 137: 2.094481% 2.261099%\n",
      "FRAX01 FRAX11 45: 0.687968% 0.609673%\n",
      "FRAX01 FRAX27 83: 1.268919% 1.208503%\n",
      "FRAX01 FRAX04 132: 2.018040% 2.008827%\n",
      "FRAX01 FRAX03 124: 1.895735% 1.930863%\n",
      "FRAX01 FRAX09 44: 0.672680% 0.593552%\n",
      "FRAX01 FRAX13 129: 1.972176% 1.983090%\n",
      "FRAX01 FRAX26 53: 0.810274% 0.770573%\n",
      "FRAX01 FRAX14 109: 1.666412% 1.747915%\n",
      "FRAX01 FRAX05 150: 2.293227% 2.249213%\n",
      "FRAX01 FRAX33 141: 2.155634% 2.066540%\n",
      "FRAX01 FRAX31 259: 3.959639% 3.730376%\n",
      "FRAX01 Oeuropea 126: 1.926311% 1.365114%\n",
      "FRAX16 FRAX15 500: 8.504848% 8.211529%\n",
      "FRAX16 FRAX00 192: 3.265862% 2.596349%\n",
      "FRAX16 FRAX06 130: 2.211260% 1.839015%\n",
      "FRAX16 FRAX23 359: 6.106481% 5.788455%\n",
      "FRAX16 FRAX25 488: 8.300731% 8.040863%\n",
      "FRAX16 FRAX21 478: 8.130634% 7.691070%\n",
      "FRAX16 FRAX19 91: 1.547882% 1.261436%\n",
      "FRAX16 FRAX20 319: 5.426093% 5.264895%\n",
      "FRAX16 FRAX11 67: 1.139650% 0.907736%\n",
      "FRAX16 FRAX27 202: 3.435958% 2.941176%\n",
      "FRAX16 FRAX04 282: 4.796734% 4.291584%\n",
      "FRAX16 FRAX03 296: 5.034870% 4.609156%\n",
      "FRAX16 FRAX09 66: 1.122640% 0.890328%\n",
      "FRAX16 FRAX13 283: 4.813744% 4.350500%\n",
      "FRAX16 FRAX26 75: 1.275727% 1.090433%\n",
      "FRAX16 FRAX14 230: 3.912230% 3.688262%\n",
      "FRAX16 FRAX05 333: 5.664229% 4.993252%\n",
      "FRAX16 FRAX33 277: 4.711686% 4.059798%\n",
      "FRAX16 FRAX31 431: 7.331179% 6.207691%\n",
      "FRAX16 Oeuropea 227: 3.861201% 2.459372%\n",
      "FRAX15 FRAX00 254: 4.171457% 3.434753%\n",
      "FRAX15 FRAX06 127: 2.085728% 1.796577%\n",
      "FRAX15 FRAX23 396: 6.503531% 6.385037%\n",
      "FRAX15 FRAX25 573: 9.410412% 9.441424%\n",
      "FRAX15 FRAX21 568: 9.328297% 9.139179%\n",
      "FRAX15 FRAX19 98: 1.609460% 1.358470%\n",
      "FRAX15 FRAX20 351: 5.764493% 5.793035%\n",
      "FRAX15 FRAX11 72: 1.182460% 0.975478%\n",
      "FRAX15 FRAX27 234: 3.842996% 3.407105%\n",
      "FRAX15 FRAX04 300: 4.926917% 4.565515%\n",
      "FRAX15 FRAX03 305: 5.009033% 4.749299%\n",
      "FRAX15 FRAX09 81: 1.330268% 1.092675%\n",
      "FRAX15 FRAX13 318: 5.222532% 4.888547%\n",
      "FRAX15 FRAX26 106: 1.740844% 1.541146%\n",
      "FRAX15 FRAX14 259: 4.253572% 4.153303%\n",
      "FRAX15 FRAX05 351: 5.764493% 5.263158%\n",
      "FRAX15 FRAX33 312: 5.123994% 4.572769%\n",
      "FRAX15 FRAX31 503: 8.260798% 7.244707%\n",
      "FRAX15 Oeuropea 270: 4.434226% 2.925244%\n",
      "FRAX00 FRAX06 150: 2.028398% 2.121941%\n",
      "FRAX00 FRAX23 145: 1.960784% 2.337955%\n",
      "FRAX00 FRAX25 350: 4.732928% 5.767013%\n",
      "FRAX00 FRAX21 370: 5.003381% 5.953339%\n",
      "FRAX00 FRAX19 95: 1.284652% 1.316884%\n",
      "FRAX00 FRAX20 112: 1.514537% 1.848490%\n",
      "FRAX00 FRAX11 86: 1.162948% 1.165154%\n",
      "FRAX00 FRAX27 84: 1.135903% 1.223063%\n",
      "FRAX00 FRAX04 133: 1.798513% 2.024045%\n",
      "FRAX00 FRAX03 109: 1.473969% 1.697291%\n",
      "FRAX00 FRAX09 95: 1.284652% 1.281532%\n",
      "FRAX00 FRAX13 134: 1.812035% 2.059954%\n",
      "FRAX00 FRAX26 70: 0.946586% 1.017738%\n",
      "FRAX00 FRAX14 104: 1.406356% 1.667736%\n",
      "FRAX00 FRAX05 191: 2.582826% 2.863998%\n",
      "FRAX00 FRAX33 200: 2.704530% 2.931262%\n",
      "FRAX00 FRAX31 397: 5.368492% 5.717989%\n",
      "FRAX00 Oeuropea 240: 3.245436% 2.600217%\n",
      "FRAX06 FRAX23 53: 0.749752% 0.854563%\n",
      "FRAX06 FRAX25 263: 3.720470% 4.333498%\n",
      "FRAX06 FRAX21 273: 3.861932% 4.392599%\n",
      "FRAX06 FRAX19 81: 1.145848% 1.122817%\n",
      "FRAX06 FRAX20 92: 1.301457% 1.518402%\n",
      "FRAX06 FRAX11 67: 0.947800% 0.907736%\n",
      "FRAX06 FRAX27 63: 0.891215% 0.917298%\n",
      "FRAX06 FRAX04 115: 1.626821% 1.750114%\n",
      "FRAX06 FRAX03 106: 1.499505% 1.650576%\n",
      "FRAX06 FRAX09 70: 0.990239% 0.944287%\n",
      "FRAX06 FRAX13 116: 1.640968% 1.783244%\n",
      "FRAX06 FRAX26 68: 0.961947% 0.988659%\n",
      "FRAX06 FRAX14 98: 1.386335% 1.571520%\n",
      "FRAX06 FRAX05 152: 2.150233% 2.279202%\n",
      "FRAX06 FRAX33 163: 2.305842% 2.388978%\n",
      "FRAX06 FRAX31 312: 4.413637% 4.493735%\n",
      "FRAX06 Oeuropea 187: 2.645353% 2.026002%\n",
      "FRAX23 FRAX25 644: 10.383747% 10.611303%\n",
      "FRAX23 FRAX21 586: 9.448565% 9.428801%\n",
      "FRAX23 FRAX19 107: 1.725250% 1.483227%\n",
      "FRAX23 FRAX20 415: 6.691390% 6.849315%\n",
      "FRAX23 FRAX11 74: 1.193163% 1.002574%\n",
      "FRAX23 FRAX27 271: 4.369558% 3.945836%\n",
      "FRAX23 FRAX04 368: 5.933570% 5.600365%\n",
      "FRAX23 FRAX03 404: 6.514028% 6.290875%\n",
      "FRAX23 FRAX09 68: 1.096421% 0.917307%\n",
      "FRAX23 FRAX13 392: 6.320542% 6.026134%\n",
      "FRAX23 FRAX26 102: 1.644631% 1.482989%\n",
      "FRAX23 FRAX14 264: 4.256691% 4.233483%\n",
      "FRAX23 FRAX05 420: 6.772009% 6.297796%\n",
      "FRAX23 FRAX33 375: 6.046437% 5.496116%\n",
      "FRAX23 FRAX31 514: 8.287649% 7.403140%\n",
      "FRAX23 Oeuropea 281: 4.530797% 3.044420%\n",
      "FRAX25 FRAX21 1137: 18.734553% 18.294449%\n",
      "FRAX25 FRAX19 184: 3.031801% 2.550596%\n",
      "FRAX25 FRAX20 557: 9.177789% 9.192936%\n",
      "FRAX25 FRAX11 148: 2.438623% 2.005148%\n",
      "FRAX25 FRAX27 360: 5.931784% 5.241701%\n",
      "FRAX25 FRAX04 510: 8.403361% 7.761376%\n",
      "FRAX25 FRAX03 509: 8.386884% 7.925880%\n",
      "FRAX25 FRAX09 145: 2.389191% 1.956023%\n",
      "FRAX25 FRAX13 601: 9.902785% 9.239047%\n",
      "FRAX25 FRAX26 180: 2.965892% 2.617040%\n",
      "FRAX25 FRAX14 370: 6.096556% 5.933291%\n",
      "FRAX25 FRAX05 600: 9.886307% 8.996851%\n",
      "FRAX25 FRAX33 595: 9.803922% 8.720504%\n",
      "FRAX25 FRAX31 1024: 16.872631% 14.748668%\n",
      "FRAX25 Oeuropea 490: 8.073818% 5.308776%\n",
      "FRAX21 FRAX19 201: 3.234111% 2.786249%\n",
      "FRAX21 FRAX20 606: 9.750603% 10.001650%\n",
      "FRAX21 FRAX11 185: 2.976669% 2.506435%\n",
      "FRAX21 FRAX27 339: 5.454545% 4.935935%\n",
      "FRAX21 FRAX04 526: 8.463395% 8.004870%\n",
      "FRAX21 FRAX03 502: 8.077233% 7.816879%\n",
      "FRAX21 FRAX09 190: 3.057120% 2.563065%\n",
      "FRAX21 FRAX13 583: 9.380531% 8.962337%\n",
      "FRAX21 FRAX26 187: 3.008850% 2.718814%\n",
      "FRAX21 FRAX14 396: 6.371681% 6.350225%\n",
      "FRAX21 FRAX05 695: 11.182623% 10.421353%\n",
      "FRAX21 FRAX33 684: 11.005632% 10.024916%\n",
      "FRAX21 FRAX31 1315: 21.158488% 18.939940%\n",
      "FRAX21 Oeuropea 622: 10.008045% 6.738895%\n",
      "FRAX19 FRAX20 3: 0.041586% 0.049513%\n",
      "FRAX19 FRAX11 51: 0.706959% 0.690963%\n",
      "FRAX19 FRAX27 53: 0.734683% 0.771695%\n",
      "FRAX19 FRAX04 93: 1.289160% 1.415310%\n",
      "FRAX19 FRAX03 92: 1.275298% 1.432576%\n",
      "FRAX19 FRAX09 64: 0.887164% 0.863348%\n",
      "FRAX19 FRAX13 100: 1.386194% 1.537279%\n",
      "FRAX19 FRAX26 42: 0.582201% 0.610643%\n",
      "FRAX19 FRAX14 68: 0.942612% 1.090443%\n",
      "FRAX19 FRAX05 129: 1.788190% 1.934323%\n",
      "FRAX19 FRAX33 147: 2.037704% 2.154478%\n",
      "FRAX19 FRAX31 223: 3.091212% 3.211868%\n",
      "FRAX19 Oeuropea 133: 1.843637% 1.440953%\n",
      "FRAX20 FRAX11 67: 1.105793% 0.907736%\n",
      "FRAX20 FRAX27 288: 4.753260% 4.193361%\n",
      "FRAX20 FRAX04 409: 6.750289% 6.224319%\n",
      "FRAX20 FRAX03 422: 6.964846% 6.571162%\n",
      "FRAX20 FRAX09 64: 1.056280% 0.863348%\n",
      "FRAX20 FRAX13 406: 6.700776% 6.241353%\n",
      "FRAX20 FRAX26 121: 1.997029% 1.759232%\n",
      "FRAX20 FRAX14 281: 4.637729% 4.506094%\n",
      "FRAX20 FRAX05 432: 7.129889% 6.477733%\n",
      "FRAX20 FRAX33 376: 6.205644% 5.510772%\n",
      "FRAX20 FRAX31 547: 9.027892% 7.878439%\n",
      "FRAX20 Oeuropea 272: 4.489190% 2.946912%\n",
      "FRAX11 FRAX27 0: 0.0 0.0\n",
      "FRAX11 FRAX04 174: 2.357404% 2.647999%\n",
      "FRAX11 FRAX03 69: 0.934833% 1.074432%\n",
      "FRAX11 FRAX09 64: 0.867091% 0.863348%\n",
      "FRAX11 FRAX13 82: 1.110961% 1.260569%\n",
      "FRAX11 FRAX26 41: 0.555480% 0.596104%\n",
      "FRAX11 FRAX14 56: 0.758705% 0.898012%\n",
      "FRAX11 FRAX05 115: 1.558054% 1.724396%\n",
      "FRAX11 FRAX33 127: 1.720634% 1.861351%\n",
      "FRAX11 FRAX31 222: 3.007723% 3.197465%\n",
      "FRAX11 Oeuropea 132: 1.788376% 1.430119%\n",
      "FRAX27 FRAX04 367: 5.343623% 5.585147%\n",
      "FRAX27 FRAX03 270: 3.931275% 4.204298%\n",
      "FRAX27 FRAX09 34: 0.495050% 0.458654%\n",
      "FRAX27 FRAX13 278: 4.047758% 4.273636%\n",
      "FRAX27 FRAX26 64: 0.931858% 0.930503%\n",
      "FRAX27 FRAX14 188: 2.737333% 3.014753%\n",
      "FRAX27 FRAX05 281: 4.091439% 4.213525%\n",
      "FRAX27 FRAX33 253: 3.683751% 3.708046%\n",
      "FRAX27 FRAX31 328: 4.775772% 4.724183%\n",
      "FRAX27 Oeuropea 171: 2.489808% 1.852654%\n",
      "FRAX04 FRAX03 397: 6.041698% 6.181875%\n",
      "FRAX04 FRAX09 64: 0.973977% 0.863348%\n",
      "FRAX04 FRAX13 371: 5.646020% 5.703305%\n",
      "FRAX04 FRAX26 107: 1.628367% 1.555685%\n",
      "FRAX04 FRAX14 247: 3.758941% 3.960872%\n",
      "FRAX04 FRAX05 384: 5.843859% 5.757985%\n",
      "FRAX04 FRAX33 393: 5.980825% 5.759930%\n",
      "FRAX04 FRAX31 537: 8.172272% 7.734409%\n",
      "FRAX04 Oeuropea 276: 4.200274% 2.990249%\n",
      "FRAX03 FRAX09 0: 0.0 0.0\n",
      "FRAX03 FRAX13 594: 9.249455% 9.131437%\n",
      "FRAX03 FRAX26 126: 1.962006% 1.831928%\n",
      "FRAX03 FRAX14 330: 5.138586% 5.291854%\n",
      "FRAX03 FRAX05 547: 8.517596% 8.202129%\n",
      "FRAX03 FRAX33 442: 6.882591% 6.478089%\n",
      "FRAX03 FRAX31 472: 7.349735% 6.798214%\n",
      "FRAX03 Oeuropea 207: 3.223295% 2.242687%\n",
      "FRAX09 FRAX13 174: 2.347228% 2.674865%\n",
      "FRAX09 FRAX26 65: 0.876838% 0.945042%\n",
      "FRAX09 FRAX14 67: 0.903818% 1.074407%\n",
      "FRAX09 FRAX05 158: 2.131391% 2.369171%\n",
      "FRAX09 FRAX33 189: 2.549575% 2.770043%\n",
      "FRAX09 FRAX31 246: 3.318495% 3.543137%\n",
      "FRAX09 Oeuropea 131: 1.767166% 1.419285%\n",
      "FRAX13 FRAX26 142: 2.182936% 2.064554%\n",
      "FRAX13 FRAX14 356: 5.472713% 5.708788%\n",
      "FRAX13 FRAX05 644: 9.900077% 9.656620%\n",
      "FRAX13 FRAX33 535: 8.224443% 7.841126%\n",
      "FRAX13 FRAX31 580: 8.916218% 8.353738%\n",
      "FRAX13 Oeuropea 252: 3.873943% 2.730228%\n",
      "FRAX26 FRAX14 0: 0.0 0.0\n",
      "FRAX26 FRAX05 179: 2.602501% 2.684061%\n",
      "FRAX26 FRAX33 163: 2.369875% 2.388978%\n",
      "FRAX26 FRAX31 221: 3.213143% 3.183062%\n",
      "FRAX26 Oeuropea 113: 1.642919% 1.224269%\n",
      "FRAX14 FRAX05 378: 6.061578% 5.668016%\n",
      "FRAX14 FRAX33 296: 4.746632% 4.338268%\n",
      "FRAX14 FRAX31 387: 6.205901% 5.573959%\n",
      "FRAX14 Oeuropea 194: 3.110969% 2.101842%\n",
      "FRAX05 FRAX33 630: 9.446694% 9.233475%\n",
      "FRAX05 FRAX31 701: 10.511321% 10.096500%\n",
      "FRAX05 Oeuropea 310: 4.648373% 3.358613%\n",
      "FRAX33 FRAX31 757: 11.094826% 10.903068%\n",
      "FRAX33 Oeuropea 349: 5.115052% 3.781148%\n",
      "FRAX31 Oeuropea 715: 10.298142% 7.746479%\n",
      "Average\n"
     ]
    },
    {
     "data": {
      "text/plain": [
       "'3.927549%'"
      ]
     },
     "execution_count": 44,
     "metadata": {},
     "output_type": "execute_result"
    }
   ],
   "source": [
    "overlap_percentages = []\n",
    "for x in range(len(species_names)):\n",
    "    for y in range(x+1, len(species_names)):\n",
    "        intersect = genes_lost[species_names[x]].intersection(genes_lost[species_names[y]])\n",
    "        print(species_names[x], species_names[y], len(intersect), end=': ')\n",
    "        p1 = len(intersect) / species_totals[species_names[x]]\n",
    "        p2 = len(intersect) / species_totals[species_names[y]]\n",
    "        overlap_percentages.append(p1); overlap_percentages.append(p2)\n",
    "        print(pp(p1), pp(p2))\n",
    "print(\"Average\")\n",
    "pp(sum(overlap_percentages) / len(overlap_percentages))"
   ]
  },
  {
   "cell_type": "code",
   "execution_count": 45,
   "metadata": {
    "collapsed": false
   },
   "outputs": [
    {
     "name": "stdout",
     "output_type": "stream",
     "text": [
      "I would expect overlap of  2.683044% to be not significant\n"
     ]
    }
   ],
   "source": [
    "print(\"I would expect overlap of \", pp(.1638 * .1638), \"to be not significant\")"
   ]
  },
  {
   "cell_type": "markdown",
   "metadata": {},
   "source": [
    "Previous studies in order:  \n",
    "FRAX00 FRAX03 112: **0.906**7841591878111  \n",
    "FRAX00 FRAX03 112: 14.231258% 8.358209%  \n",
    "FRAX00 FRAX03 112: 1.514537% 1.744005%   \n",
    "  \n",
    "**Conclusion:** Negative control is behaving as it should."
   ]
  },
  {
   "cell_type": "markdown",
   "metadata": {},
   "source": [
    "FRAX00 Oeuropea 263: 7.022379897503273**e-36**  \n",
    "FRAX00 Oeuropea 263: 33.418043% 19.030391%  \n",
    "FRAX00 Oeuropea 263: 3.556457% 2.849404%  \n",
    "\n",
    "FRAX06 FRAX03 192: **0.15**890200229390933  \n",
    "FRAX06 FRAX03 192: 16.842105% 14.328358%  \n",
    "FRAX06 FRAX03 192: 2.716084% 2.989723%  \n",
    "**Conclusion:** An overlap becomes statistically signficant very quickly after crossing the ~2.6% threshold."
   ]
  },
  {
   "cell_type": "markdown",
   "metadata": {},
   "source": [
    "_____________________"
   ]
  },
  {
   "cell_type": "markdown",
   "metadata": {},
   "source": [
    "# Left vs Right Ohnolog Pair Comparison"
   ]
  },
  {
   "cell_type": "code",
   "execution_count": 46,
   "metadata": {
    "collapsed": false
   },
   "outputs": [
    {
     "name": "stdout",
     "output_type": "stream",
     "text": [
      "{20004865: 3, 20004866: 0, 10010627: 4, 20003142: 3, 20004869: 3, 20004870: 1, 20004871: 0, 20004872: 1, 20004873: 2, 20004875: 3, 20004877: 2, 20004879: 1, 20004880: 0, 20004883: 8, 10010645: 6, 10010646: 2, 10010647: 11, 20004889: 12, 20004890: 0, 20004892: 3, 20004893: 1, 20004894: 7, 20004895: 4, 20004896: 0, 20004898: 3, 20004899: 0, 20004900: 9, 10010630: 6, 20004902: 0, 20004903: 1, 20004905: 2, 20004906: 1, 10010667: 9, 20004908: 4, 10010669: 8, 20004912: 16, 10010673: 6, 20004914: 1, 20004915: 4, 10007301: 5, 20004918: 2, 10010633: 2, 20004922: 1, 10010683: 11, 20004929: 4, 20004930: 1, 20004931: 1, 20004932: 0, 20004934: 1, 20004935: 1, 20004936: 1, 10010697: 7, 20004938: 0, 20004939: 15, 10010700: 11, 20004941: 4, 20004942: 0, 20004943: 3, 20004944: 4, 20004945: 1, 20004946: 1, 20004947: 0, 10010709: 9, 20004950: 2, 20004951: 8, 10010713: 6, 20004954: 0, 20004955: 0, 20004958: 0, 10010719: 9, 20004960: 2, 20004961: 4, 20004962: 2, 20004963: 0, 20004964: 4, 20004965: 2, 20004966: 2, 20004968: 9, 20004969: 1, 10010730: 6, 20004971: 3, 20004974: 0, 20004975: 7, 10010736: 5, 10010738: 12, 20004980: 9, 20004981: 1, 20004983: 0, 20004984: 3, 20004985: 3, 20004986: 4, 20004987: 0, 20004988: 3, 20004989: 0, 20004990: 1, 20004992: 0, 20004993: 0, 20004994: 0, 20004996: 0, 20004997: 1, 20004998: 0, 20004999: 1, 20005000: 2, 20005002: 3, 20005004: 3, 20005007: 2, 20005009: 0, 20005010: 2, 20005011: 2, 20005013: 0, 10007999: 6, 20005016: 0, 10005188: 2, 20005022: 3, 20005025: 0, 20005026: 4, 10010788: 4, 10010789: 3, 20005031: 2, 20005033: 1, 20005034: 1, 10010795: 10, 20005036: 11, 20005037: 9, 20005040: 1, 10010801: 7, 20005042: 12, 10010803: 10, 20005044: 2, 20005046: 3, 10010807: 16, 20005048: 2, 20005053: 8, 20005054: 6, 20005055: 1, 10013564: 3, 20005057: 1, 20005058: 0, 20005059: 2, 20005060: 1, 20005061: 1, 20005064: 2, 20005065: 12, 20005066: 0, 10010827: 2, 20005069: 1, 20005071: 1, 10010832: 10, 20005073: 3, 20005074: 6, 20005075: 4, 20005077: 6, 20005078: 0, 20005079: 4, 20021284: 7, 20005082: 0, 20005083: 11, 20005084: 0, 20005086: 2, 10010847: 10, 20005088: 2, 20005089: 3, 20005090: 2, 20005091: 12, 20005093: 8, 20005095: 1, 20005097: 0, 20005098: 1, 20005099: 4, 20005101: 10, 20005103: 8, 10010864: 3, 10010865: 10, 20005106: 1, 10010868: 0, 20005109: 2, 20005110: 1, 20005111: 2, 20005112: 6, 20005113: 0, 20005115: 2, 20005117: 0, 10010878: 5, 20005125: 2, 10010886: 17, 10010887: 8, 20005131: 10, 20005135: 1, 20005140: 4, 10010902: 5, 20005143: 4, 20005148: 1, 10010910: 12, 20005151: 2, 20005152: 10, 20005153: 2, 20005154: 2, 20005155: 4, 20005157: 2, 20005160: 0, 10010921: 4, 10010923: 13, 20005164: 3, 20005166: 1, 20005167: 5, 20005169: 0, 20005170: 3, 20005171: 2, 20005172: 11, 10010933: 11, 20005174: 2, 20005175: 3, 20005176: 0, 20005177: 1, 20005180: 3, 10008401: 7, 20005183: 0, 10010944: 14, 20005185: 2, 20005186: 4, 10010947: 2, 20005188: 5, 10010950: 8, 20007649: 5, 20005192: 0, 10010953: 9, 10010955: 12, 20005198: 3, 10007949: 4, 10010960: 10, 10010962: 13, 20005203: 1, 20005204: 0, 20005205: 7, 20005207: 1, 10010968: 7, 20005209: 2, 20005210: 3, 20005212: 1, 20021601: 2, 20005218: 2, 20005219: 3, 20005222: 7, 20005223: 1, 20005224: 4, 20005225: 0, 20005226: 7, 20005227: 3, 20005229: 4, 10010991: 3, 20005232: 2, 20005233: 1, 20005234: 1, 20005238: 3, 10010999: 0, 10011000: 10, 10011001: 12, 20005244: 2, 20005245: 1, 20005246: 2, 10011008: 14, 20005249: 0, 20005251: 1, 20005252: 2, 10011013: 2, 20005254: 1, 10011018: 8, 10007959: 6, 20005260: 2, 20005261: 1, 20005263: 2, 10011026: 6, 20005267: 6, 10011029: 2, 20005270: 1, 20005272: 0, 20005273: 6, 20005274: 0, 20005275: 0, 20005276: 3, 20005278: 3, 20005281: 1, 10011042: 5, 20005284: 2, 20005285: 1, 20005287: 3, 10011048: 12, 20005289: 1, 20005292: 2, 10011054: 2, 10011055: 13, 20005297: 4, 20005298: 2, 10007966: 6, 20005302: 1, 20005303: 1, 10011064: 14, 20005305: 0, 10011066: 4, 10011067: 2, 20005310: 0, 20005311: 0, 20005312: 0, 20005315: 4, 20005316: 2, 20005319: 2, 10011080: 7, 20005321: 2, 20005322: 8, 10011083: 6, 20005325: 6, 10008229: 2, 20005328: 6, 20005329: 4, 10011090: 4, 20005331: 0, 20005332: 0, 20005333: 1, 10011094: 15, 20005336: 1, 20005337: 6, 20005338: 1, 20005340: 0, 10011101: 3, 20005343: 3, 20005344: 3, 10011107: 7, 20005348: 0, 20005352: 1, 10011113: 11, 20005355: 1, 20005356: 4, 20005359: 0, 20005360: 5, 20005362: 3, 20005363: 1, 20005365: 2, 20005367: 2, 10011129: 6, 20005372: 1, 20005373: 3, 20005374: 0, 20005375: 7, 20005376: 2, 10011138: 8, 20005379: 10, 20005380: 0, 10010710: 5, 20005382: 9, 20005384: 13, 10011145: 3, 10011147: 4, 20005388: 0, 20005389: 0, 20005392: 3, 20005394: 0, 20005395: 3, 20005397: 1, 20005399: 2, 20005401: 0, 10011162: 12, 20005403: 0, 20005405: 1, 20005408: 1, 20005409: 2, 10010715: 4, 20005416: 1, 20005418: 0, 20005421: 4, 10011182: 8, 20005424: 0, 10005709: 1, 20005427: 10, 20005429: 2, 20005430: 2, 20005431: 3, 10011195: 5, 10011196: 7, 10011199: 10, 20005444: 1, 20005445: 1, 10010721: 10, 20005448: 1, 20005450: 0, 20005451: 5, 10011212: 7, 20005455: 1, 20005456: 2, 10007992: 5, 10011219: 8, 20005461: 0, 10011223: 4, 20005464: 0, 20005465: 2, 20005469: 2, 20005471: 0, 20005472: 7, 10011235: 1, 20005476: 1, 20005477: 0, 20005479: 1, 20005480: 3, 20005481: 5, 20005482: 2, 20005483: 2, 20005488: 4, 20005489: 0, 20005490: 2, 10011251: 11, 20005492: 12, 20005493: 3, 20005494: 1, 10011256: 12, 20005498: 6, 20002239: 7, 20005502: 7, 20005503: 2, 20005504: 1, 20005507: 4, 20005509: 0, 20005510: 1, 20005511: 1, 10011272: 12, 20005516: 0, 20005518: 0, 20005520: 2, 20005521: 1, 20005524: 10, 20005525: 2, 20005526: 6, 10005273: 6, 20005528: 2, 10010735: 14, 20005533: 0, 20005534: 2, 20005535: 3, 10011299: 5, 20005540: 2, 10011301: 2, 10011302: 4, 20005544: 3, 20005545: 2, 20005547: 1, 20005550: 2, 10011311: 7, 20005553: 2, 20005555: 1, 20005557: 2, 20005558: 2, 20005559: 2, 20005560: 3, 20005561: 0, 10011322: 13, 20005565: 1, 20005567: 7, 10011329: 4, 20005572: 1, 20005574: 1, 20005576: 0, 20005577: 0, 20005578: 3, 10010743: 10, 20005583: 1, 10011344: 9, 20005585: 1, 20005588: 3, 20005589: 9, 20005590: 0, 20005591: 17, 20005593: 0, 10011354: 1, 20005595: 2, 20005596: 3, 10010746: 14, 20005598: 0, 10011359: 15, 20005600: 3, 10010747: 13, 20005604: 3, 20005607: 7, 20005608: 2, 20005609: 5, 20005612: 2, 10011373: 16, 10018146: 7, 20005616: 17, 20005618: 5, 10011379: 8, 20015913: 2, 10011385: 5, 20005626: 2, 20005627: 7, 20005630: 0, 10008021: 0, 20005633: 0, 20005634: 4, 20005635: 2, 10011398: 6, 20005639: 1, 20005640: 1, 20005641: 1, 20005642: 13, 10011403: 9, 10011404: 2, 20005647: 17, 20005652: 11, 10011413: 4, 10011415: 3, 10010756: 7, 20005658: 3, 20005659: 1, 10011420: 10, 20005662: 1, 10011423: 5, 20005666: 0, 20005669: 1, 20005672: 2, 20005673: 2, 20005676: 1, 10011437: 2, 10011439: 8, 10011441: 7, 20005682: 5, 20005685: 2, 20005687: 1, 20005688: 1, 10011449: 11, 20005690: 2, 10011451: 2, 10010762: 6, 20005694: 3, 20005697: 1, 20005699: 1, 10011460: 12, 10011461: 1, 20022086: 9, 10008033: 13, 10011464: 6, 20005705: 4, 10011466: 8, 20011899: 7, 20005708: 6, 20005709: 0, 20005710: 3, 20005711: 1, 20005713: 3, 10011476: 4, 20005719: 8, 20005720: 4, 20005722: 5, 10010767: 7, 20005726: 2, 10011487: 10, 20005728: 5, 10011492: 4, 20001490: 13, 20005734: 2, 20005736: 2, 20005737: 2, 20005739: 4, 10010770: 0, 10011504: 13, 10011505: 8, 20007742: 7, 20005751: 1, 10011512: 9, 20005753: 2, 20005755: 0, 20005758: 5, 20005761: 2, 20005763: 5, 20005764: 1, 20005765: 6, 20005766: 3, 20005768: 3, 20005769: 8, 10011532: 9, 20005773: 0, 20005776: 3, 20005778: 1, 20005779: 7, 10011540: 2, 20005781: 2, 20005782: 2, 20005784: 5, 20005785: 2, 20005786: 9, 20005787: 4, 20005788: 2, 20005790: 2, 20001070: 5, 20005792: 3, 20005794: 11, 20007750: 1, 20005799: 9, 10011560: 5, 20005802: 2, 20005804: 0, 20005805: 3, 20005807: 1, 20005808: 1, 20005809: 4, 20005810: 3, 20005811: 3, 20005812: 0, 20005813: 0, 20005814: 2, 20005815: 1, 20005817: 3, 20005821: 2, 20005824: 1, 20005827: 4, 10011588: 9, 20005829: 2, 20005830: 4, 20005831: 5, 20005835: 2, 20005836: 2, 20005839: 3, 10011600: 8, 20005841: 3, 20005842: 1, 20005843: 4, 10011604: 10, 10011605: 5, 10011607: 10, 20005848: 1, 20005849: 1, 20005850: 4, 20005852: 2, 20005854: 1, 10011615: 6, 10011617: 7, 10011618: 6, 20005859: 2, 20005860: 1, 20005861: 2, 20005863: 2, 20005866: 2, 20005867: 6, 20005869: 1, 20005871: 3, 20001507: 14, 20005873: 1, 10011635: 8, 20005877: 4, 20005878: 3, 20005880: 3, 20005881: 11, 20005882: 2, 20005883: 3, 10011644: 2, 10010794: 8, 20005886: 1, 20005887: 1, 20005888: 0, 20005035: 10, 20005892: 2, 20005893: 6, 20005894: 6, 20005895: 1, 10011659: 9, 20005900: 3, 20005902: 2, 20005905: 6, 20005906: 0, 20005908: 2, 20005909: 4, 20005910: 1, 20005911: 2, 20005914: 1, 20005915: 5, 20005916: 8, 20005917: 8, 20005918: 0, 20005919: 2, 20005920: 0, 20005921: 1, 20005926: 3, 10011687: 13, 20005928: 1, 10011690: 3, 20005932: 2, 20005933: 1, 10011694: 5, 20005935: 2, 20005939: 0, 20005940: 2, 10011701: 0, 20005942: 0, 20005945: 5, 20005948: 2, 20005949: 6, 20005950: 0, 20005951: 5, 20005952: 2, 20005955: 0, 20005957: 1, 10005699: 1, 20005959: 1, 20005960: 1, 20005968: 11, 20005969: 5, 10011730: 3, 10011731: 2, 20005973: 3, 20005974: 1, 10011735: 3, 20005976: 1, 20005977: 1, 20005978: 10, 10008079: 4, 20005980: 3, 20005981: 7, 20005982: 9, 20005986: 5, 20005988: 1, 20005989: 2, 20005990: 0, 20005991: 7, 20005994: 2, 10011756: 4, 20005997: 3, 10010813: 2, 10011760: 6, 20006002: 3, 20006004: 13, 20006010: 1, 20006013: 7, 10011774: 7, 20006015: 1, 20006016: 13, 20006017: 4, 20006018: 1, 20006019: 2, 20006020: 1, 20006021: 2, 10010817: 3, 20006025: 2, 10011786: 10, 20006028: 0, 10010818: 11, 20006031: 1, 10011793: 0, 20006034: 7, 20006036: 1, 20006039: 0, 20006040: 2, 10011801: 1, 20006042: 2, 20006044: 2, 20006046: 2, 20006047: 7, 20006048: 3, 20006049: 5, 20006050: 2, 20006053: 2, 20006055: 0, 20006056: 3, 20006058: 1, 20006060: 4, 20006061: 4, 20006062: 6, 20006064: 2, 10011825: 6, 20006066: 6, 20006068: 13, 20006070: 3, 10010825: 1, 20006073: 9, 10011834: 1, 20006075: 9, 20006078: 10, 20006081: 2, 20006082: 4, 20006083: 5, 20006084: 0, 20006086: 4, 10011847: 14, 10011848: 12, 10011849: 1, 20006090: 0, 10011852: 7, 20006093: 4, 20006095: 1, 20006098: 0, 20006099: 4, 20006101: 1, 20006103: 10, 10011864: 3, 20006105: 2, 20006106: 5, 10011867: 0, 10011868: 2, 20006109: 4, 10011870: 5, 10011873: 1, 20006114: 1, 10011875: 7, 20006117: 9, 20006118: 10, 20006119: 2, 20006121: 1, 20006123: 9, 10011886: 14, 20006130: 3, 20006131: 2, 10011892: 7, 20006137: 0, 20006138: 2, 10011899: 3, 10011900: 1, 20004744: 0, 20006142: 15, 20006145: 1, 20006147: 0, 20006149: 5, 20006151: 7, 20006152: 3, 20006153: 1, 10011914: 11, 10010839: 2, 20006156: 4, 20006160: 3, 20006161: 1, 20006162: 1, 20006163: 15, 10008110: 3, 10011927: 2, 20004822: 1, 10011929: 3, 20006170: 0, 20006172: 2, 20006173: 3, 20006174: 1, 20006175: 6, 20006176: 12, 10011939: 10, 20006180: 2, 10011941: 2, 10011942: 3, 10011943: 13, 10011944: 6, 20006185: 9, 10011946: 11, 10008114: 7, 20006190: 5, 20006191: 3, 10011952: 12, 20006194: 10, 20006197: 3, 10011958: 5, 20006199: 1, 10008116: 8, 20006203: 1, 20006205: 5, 20006206: 2, 20006208: 1, 20006209: 1, 20006210: 3, 20006211: 4, 20006212: 1, 20006214: 3, 10010849: 15, 20010551: 8, 10011980: 12, 10010850: 4, 20006222: 1, 20016013: 4, 20006224: 2, 20006227: 3, 20006229: 8, 10011990: 3, 20006231: 3, 20006232: 1, 20006233: 2, 20006235: 2, 10010853: 9, 20006240: 1, 20006242: 3, 20006243: 1, 20006244: 1, 20006245: 2, 10012007: 7, 20006248: 2, 20006249: 10, 20006250: 7, 20006251: 2, 20006252: 0, 20006253: 2, 20006254: 1, 20006255: 0, 10012016: 4, 20006257: 6, 20006258: 10, 20006259: 13, 20006260: 2, 20006261: 3, 20006262: 5, 10008437: 6, 20006264: 2, 20006265: 1, 20006266: 1, 20022651: 7, 10011165: 4, 20006269: 3, 20006270: 2, 20006271: 6, 10012032: 7, 10010859: 8, 20006277: 0, 20006278: 3, 20006279: 4, 20006281: 8, 20006282: 0, 20022667: 6, 10008130: 2, 20006286: 2, 20006287: 0, 20006288: 4, 20006290: 1, 10012052: 1, 20006295: 2, 20006296: 4, 20006299: 1, 10012060: 2, 20006302: 2, 20006304: 2, 20006305: 3, 20006306: 1, 20006307: 1, 10012069: 9, 20006310: 1, 20006311: 4, 20006314: 1, 20006315: 4, 10012077: 13, 10012078: 5, 10021789: 2, 20006322: 2, 10012084: 12, 20006325: 4, 20006326: 4, 10012087: 0, 10012090: 2, 20006332: 3, 20006334: 3, 20006336: 2, 10012098: 2, 10012099: 6, 20006340: 2, 20006341: 0, 20006342: 3, 10012103: 2, 20006344: 3, 20006347: 2, 20006348: 4, 20006354: 2, 20006359: 12, 20006362: 7, 20006365: 5, 10012129: 1, 20006370: 7, 20006371: 6, 10012133: 6, 20006374: 1, 20006375: 3, 20006376: 3, 20006377: 1, 20006378: 4, 20006379: 12, 10012140: 6, 20006381: 2, 20006382: 3, 20006383: 10, 10012144: 15, 10012145: 1, 20006386: 1, 10012155: 10, 20006397: 5, 20006399: 2, 20006402: 7, 10006805: 8, 10012165: 10, 10012166: 11, 20006409: 1, 20006410: 3, 10012171: 3, 20006414: 1, 20022799: 2, 20006417: 3, 20006418: 2, 10012179: 2, 20006422: 0, 10012183: 8, 20006424: 13, 10012186: 1, 20006427: 9, 10010885: 10, 20006433: 1, 20006434: 5, 20006436: 1, 20006437: 0, 20006441: 5, 20007858: 6, 20006446: 2, 20006447: 4, 20006448: 12, 10012210: 8, 20006451: 2, 20006452: 2, 10012215: 4, 20006456: 12, 20006457: 2, 20006458: 1, 20006459: 7, 20006461: 4, 20006462: 3, 20006463: 3, 10012224: 7, 10010626: 6, 20006467: 9, 20006468: 2, 20006470: 4, 20006472: 5, 20006474: 10, 20006475: 0, 20006476: 9, 10012237: 2, 20006478: 5, 20006480: 2, 20006481: 4, 20006487: 2, 20006491: 1, 20006492: 2, 10008165: 2, 20006497: 2, 20006498: 1, 20006502: 3, 20006503: 2, 10012266: 7, 10012267: 0, 20006508: 2, 20006509: 6, 20006510: 2, 20006511: 2, 20006513: 1, 20006514: 7, 20006515: 8, 20006516: 2, 10008169: 3, 20006520: 3, 20006521: 6, 10012282: 0, 20006523: 3, 20006524: 4, 20006527: 3, 10012288: 2, 10012296: 1, 20006537: 3, 20006539: 3, 20006543: 5, 10012305: 5, 20006547: 1, 20006548: 3, 20003198: 9, 10012311: 1, 20006553: 1, 10012317: 6, 20006558: 2, 20006560: 9, 20006564: 2, 20006565: 8, 20006566: 4, 10012327: 8, 20006568: 4, 20006570: 2, 20006573: 1, 20006575: 5, 20006578: 3, 20006580: 2, 20006585: 4, 20006589: 1, 20006591: 5, 20006592: 11, 10012353: 4, 20006595: 2, 20006597: 3, 20006598: 4, 10010913: 9, 10012360: 10, 20006601: 1, 20006602: 5, 20006603: 3, 20006606: 4, 20006607: 4, 20006608: 2, 10012369: 6, 20006612: 1, 20006616: 3, 20006617: 7, 10005455: 1, 20006621: 5, 20006623: 1, 20006624: 5, 20006625: 14, 10012386: 0, 20006627: 2, 20006629: 4, 10008188: 8, 10012394: 4, 20006635: 2, 20006636: 0, 10012398: 10, 10012400: 6, 20006641: 2, 20006644: 15, 20006647: 3, 20006648: 0, 20004838: 2, 20006650: 0, 20006651: 5, 20006653: 1, 20006655: 5, 20006656: 2, 10008192: 2, 20006661: 3, 20006662: 8, 20006665: 5, 20007895: 1, 10012430: 3, 20006671: 4, 20006672: 1, 20006673: 4, 20006674: 1, 20006675: 5, 20006676: 4, 20006677: 4, 20006678: 2, 20006679: 6, 20006680: 7, 20006681: 2, 10010927: 3, 20006684: 6, 20006685: 2, 10012451: 6, 20006694: 13, 10010929: 9, 20006696: 2, 20006698: 1, 20006699: 2, 20006700: 3, 20006701: 4, 20006702: 2, 10005469: 7, 20006704: 1, 20006705: 2, 10012466: 5, 10012472: 3, 20006713: 2, 20006714: 3, 20006715: 4, 10012476: 5, 20006722: 1, 20006724: 2, 10010934: 2, 10012487: 2, 10012488: 5, 20006730: 3, 20006732: 3, 20006734: 1, 20006735: 3, 20006736: 3, 20006737: 3, 20006738: 0, 20006739: 1, 20006742: 0, 20006743: 7, 20006744: 0, 20006745: 14, 20006746: 4, 20006747: 0, 10011393: 2, 20006750: 3, 20006751: 6, 20006752: 3, 20006755: 5, 20006756: 2, 20006758: 2, 20006760: 5, 10007908: 3, 20006765: 8, 20006768: 7, 10012529: 5, 20006771: 2, 20006774: 4, 20006775: 3, 20006776: 1, 10002751: 13, 20006781: 3, 20006782: 2, 20006783: 3, 20006784: 2, 20006786: 3, 20006787: 3, 20006788: 3, 10012549: 2, 20006790: 3, 20006791: 3, 20006794: 0, 20006795: 5, 20006796: 3, 20006797: 6, 20006798: 2, 20006799: 7, 20006800: 3, 20006801: 2, 20006802: 2, 20006805: 12, 20006806: 0, 20006807: 6, 20006808: 1, 20021572: 8, 20006810: 2, 20006813: 7, 20006814: 6, 20006816: 8, 20006824: 3, 20006825: 2, 20006829: 0, 20006830: 5, 20006831: 2, 20006833: 6, 20006835: 9, 20006837: 4, 10012598: 2, 20006839: 5, 20006840: 1, 20006842: 6, 20007925: 5, 20006849: 1, 10012611: 2, 20006852: 4, 20006857: 3, 10012618: 1, 20006859: 2, 20006861: 4, 20006863: 2, 20006864: 0, 20006865: 6, 20006867: 3, 20006870: 8, 20006872: 3, 20001869: 2, 10012639: 8, 20006881: 0, 10012644: 8, 20006885: 0, 10012646: 1, 20006887: 0, 20006888: 3, 20007932: 5, 20006892: 2, 10012655: 7, 10012658: 3, 20006902: 2, 20006903: 2, 20006905: 6, 20006906: 1, 20006907: 1, 20006909: 3, 20003210: 5, 20006911: 3, 20006912: 3, 20006915: 4, 20006919: 1, 20006921: 6, 20006923: 9, 20006925: 4, 20006927: 1, 20006931: 6, 20006935: 3, 20006936: 3, 20006938: 4, 20006939: 3, 20006940: 4, 10010970: 14, 20006943: 5, 20006944: 1, 20006946: 3, 20006947: 3, 10012708: 4, 20006949: 0, 20006950: 4, 20006951: 3, 20006953: 4, 20006954: 4, 20007943: 14, 20006956: 0, 20006957: 1, 20006958: 1, 20006960: 2, 10012722: 0, 20006964: 4, 20006966: 12, 20006967: 1, 20006968: 5, 20006969: 9, 20006970: 2, 20006973: 1, 20006974: 10, 20006977: 4, 20006978: 3, 20004849: 12, 10002785: 0, 20006985: 2, 20006986: 5, 20006987: 6, 10012751: 16, 10006279: 0, 20006993: 3, 20006994: 3, 20006996: 5, 10012758: 11, 10008249: 1, 20007000: 3, 20007001: 4, 20007003: 6, 20007004: 6, 20007005: 5, 20007008: 4, 20007009: 8, 20007011: 3, 20007012: 3, 20007013: 5, 20007014: 4, 20002492: 0, 20007018: 3, 20007021: 2, 20007022: 2, 20007025: 2, 20007026: 5, 20007028: 2, 20007030: 4, 20007031: 2, 20007035: 3, 20007037: 4, 20007038: 7, 10012799: 5, 20007042: 1, 20007043: 2, 20007044: 7, 20004663: 0, 10012806: 4, 20007049: 11, 20007050: 2, 20007051: 3, 10012812: 8, 20007054: 1, 10012815: 6, 10012816: 3, 10004099: 0, 20007061: 9, 20007062: 2, 20007064: 3, 20007065: 3, 20007069: 3, 20007070: 5, 20007071: 3, 10006376: 1, 20007076: 4, 20007080: 1, 20007081: 5, 20007082: 0, 10012843: 3, 20007084: 1, 20004307: 6, 20007087: 5, 20007088: 4, 20007089: 3, 20007091: 2, 20010697: 3, 20007096: 4, 20007098: 12, 20004853: 0, 10012860: 10, 10012862: 2, 20007104: 8, 20007107: 4, 20007113: 1, 20007115: 10, 10012876: 7, 20007118: 6, 20007119: 3, 20007120: 8, 20007121: 4, 10012883: 10, 20007126: 1, 10012889: 11, 20007132: 4, 20007134: 1, 20007138: 7, 20007141: 16, 10011004: 5, 20007146: 3, 20007149: 5, 20007150: 4, 20007151: 0, 20007152: 2, 20007153: 2, 20007154: 5, 20007159: 5, 20007161: 2, 20007163: 3, 20007164: 11, 10012926: 2, 20007170: 5, 20007171: 4, 20007172: 0, 20010710: 14, 20007175: 4, 20007178: 11, 20007179: 5, 10007922: 5, 20007184: 4, 20007185: 3, 20007186: 1, 20007187: 4, 20007189: 3, 10012956: 12, 20007201: 1, 20007202: 4, 10012963: 2, 20007205: 5, 20007206: 7, 20007207: 11, 20007209: 4, 20007211: 11, 20007212: 6, 20007213: 4, 20007214: 2, 20007223: 3, 20007224: 4, 10012987: 4, 20007229: 5, 20007230: 4, 20007231: 0, 20007238: 5, 20007242: 5, 20007243: 6, 20007245: 6, 20007249: 8, 20007250: 1, 20007251: 4, 20007252: 5, 20007253: 13, 20007254: 3, 20007255: 4, 20007257: 5, 10008293: 3, 20002665: 8, 20007265: 1, 10013026: 2, 10008294: 6, 20007270: 1, 20007273: 10, 20007277: 1, 20007278: 10, 20007279: 5, 20007280: 8, 20007281: 7, 20007283: 4, 20007290: 0, 10013051: 4, 20002539: 6, 20007301: 4, 20007303: 4, 20007306: 9, 20007308: 2, 20007313: 11, 20007316: 1, 20007317: 8, 10011033: 0, 20007321: 5, 20007322: 3, 20007323: 4, 20007324: 6, 10011034: 15, 20007326: 5, 10009648: 6, 20007329: 2, 20007331: 4, 10013092: 9, 20007333: 6, 20007334: 1, 20007335: 5, 20007339: 8, 20007340: 4, 20007341: 7, 20007342: 3, 20007343: 1, 20007344: 8, 20007345: 4, 10008307: 9, 20007348: 6, 20007349: 6, 20007350: 6, 20007351: 7, 20007355: 3, 20007359: 6, 20007362: 1, 20007364: 6, 20007366: 9, 20007369: 5, 10008311: 2, 10013132: 5, 20007373: 9, 20007375: 8, 10013139: 6, 20007382: 12, 20007383: 5, 20007385: 4, 20007387: 5, 20007388: 4, 20007389: 2, 20007390: 3, 10011045: 7, 20007393: 5, 20007394: 3, 20007399: 7, 20007400: 4, 20007401: 2, 20007403: 4, 20007404: 0, 20007406: 13, 10013167: 1, 20007409: 7, 20007411: 5, 20007412: 5, 20007413: 4, 20007415: 4, 20007416: 3, 20007418: 4, 20007422: 0, 20007425: 3, 20007427: 6, 20007432: 7, 20007434: 1, 20007437: 6, 20008921: 3, 20007439: 7, 20007440: 5, 20007446: 3, 10013208: 6, 20007450: 1, 10007931: 5, 20007452: 5, 20007453: 6, 20007454: 0, 20007455: 5, 20007457: 8, 20013594: 3, 10013219: 2, 20007461: 0, 10013223: 3, 20007464: 7, 20007465: 6, 20007469: 5, 20007470: 5, 20007471: 4, 20007472: 1, 20007474: 5, 20007476: 4, 20008030: 6, 20007479: 4, 20007480: 1, 10013241: 5, 20007484: 2, 20010762: 11, 10013246: 2, 20007487: 3, 20008032: 1, 20007490: 1, 20007491: 12, 20007493: 5, 20007494: 4, 20008033: 12, 20007498: 2, 20007501: 3, 20007503: 0, 20007504: 2, 20007505: 6, 20007506: 2, 20007507: 2, 10013269: 10, 10011065: 9, 20007512: 6, 20007513: 1, 20002139: 3, 20007516: 3, 20007521: 6, 20007527: 4, 20007530: 7, 20007531: 6, 20007532: 4, 20007534: 18, 20007535: 3, 20007536: 5, 20007538: 4, 20007541: 4, 20007542: 7, 20007543: 5, 10013305: 3, 10011071: 9, 20007548: 2, 20007549: 2, 20007550: 4, 20007552: 2, 10002880: 0, 20007555: 2, 20007556: 9, 20007557: 1, 20007561: 2, 20007563: 4, 10011711: 3, 20007568: 4, 20007569: 5, 20007570: 1, 20007572: 7, 20007573: 0, 20007576: 4, 20007579: 1, 20007581: 6, 20004403: 2, 20007586: 1, 20007588: 3, 20007591: 7, 20007592: 9, 20007594: 4, 20007596: 8, 20004324: 0, 20007598: 5, 20007599: 5, 20007600: 2, 20007602: 2, 10005619: 1, 20007604: 5, 20007609: 14, 20007613: 2, 10013375: 8, 10013376: 7, 10013379: 11, 10013380: 2, 20007623: 3, 20007624: 7, 20007627: 5, 20007628: 4, 20007629: 1, 20007630: 5, 20007632: 7, 20007633: 3, 20007634: 7, 20007635: 2, 20007637: 3, 20007639: 4, 20007642: 6, 20007643: 3, 10013406: 6, 20007647: 7, 10013409: 4, 10013411: 13, 10013412: 3, 10008358: 7, 20007657: 6, 20002599: 0, 20007665: 0, 10011091: 4, 10013431: 2, 20007673: 9, 20008063: 6, 20007676: 3, 20007677: 4, 20007680: 0, 20007681: 3, 10013443: 3, 20007686: 5, 20007687: 12, 20007688: 2, 20007689: 4, 20007690: 4, 20007696: 6, 20007697: 1, 20007698: 4, 20007699: 2, 20007700: 0, 20007703: 10, 20007704: 6, 20007707: 8, 20007708: 1, 20007709: 4, 20007710: 3, 10013471: 4, 20007712: 9, 20007715: 3, 20007716: 0, 20007719: 7, 20007722: 7, 20007723: 6, 20007724: 1, 20007725: 4, 10013488: 4, 10013490: 2, 20007735: 7, 20007736: 2, 20007738: 1, 10011103: 8, 10013502: 2, 20007744: 16, 20007745: 3, 10013506: 1, 20007748: 11, 20007749: 6, 10013510: 6, 20007751: 3, 20007754: 5, 10008375: 4, 20007756: 4, 20007758: 4, 20001056: 4, 20007760: 0, 10002915: 8, 20007764: 7, 20007766: 3, 10011108: 6, 20007770: 5, 20007771: 4, 10013535: 2, 20007776: 7, 20007779: 1, 20007781: 4, 20007782: 3, 10013546: 5, 20007787: 3, 20007788: 8, 10013552: 5, 20007793: 6, 20007794: 6, 20007795: 10, 20007796: 4, 20007799: 8, 20007801: 4, 20007802: 0, 20007803: 4, 20007804: 8, 20007805: 4, 20007807: 5, 20007808: 2, 10011115: 13, 10007943: 12, 20007813: 7, 20010817: 11, 20007819: 6, 20004848: 1, 10013585: 8, 20007828: 1, 10013589: 2, 20007830: 13, 20007831: 6, 10013592: 9, 10013594: 3, 10013596: 2, 10011120: 6, 20007843: 2, 20007844: 4, 20007845: 7, 10010672: 6, 20007848: 8, 20007850: 2, 20007852: 0, 10011122: 16, 20003787: 1, 10013618: 9, 20007859: 3, 20007861: 13, 10016585: 8, 10013624: 4, 20007866: 2, 20007867: 9, 20007868: 10, 20007869: 4, 20007870: 3, 20007872: 2, 20007873: 5, 20007875: 9, 10013636: 10, 20007878: 5, 20007883: 5, 10013646: 5, 10013647: 2, 10006927: 4, 20007892: 6, 10013653: 3, 10013654: 2, 10013655: 2, 20007896: 1, 20007901: 6, 20007902: 0, 20007904: 6, 20007905: 6, 20007906: 3, 20007907: 0, 20007908: 1, 20007909: 7, 20007910: 7, 20007911: 4, 20007912: 5, 20007914: 3, 10013675: 9, 20007916: 6, 20007918: 4, 20007920: 4, 20007922: 1, 20003939: 6, 10013685: 0, 20007926: 6, 20007928: 12, 20007929: 7, 20007930: 4, 20007931: 5, 10013692: 2, 10013694: 4, 20007935: 9, 20007936: 10, 20007937: 4, 20007938: 3, 10008329: 4, 10008406: 6, 20007942: 6, 10013703: 5, 10013704: 2, 10013705: 5, 20007948: 5, 20007949: 5, 10002492: 8, 20007952: 7, 20007953: 2, 20007958: 5, 20007959: 4, 20015793: 2, 20007962: 6, 20007963: 3, 20007964: 5, 20007965: 1, 20007966: 3, 20007967: 4, 20007968: 4, 20007969: 9, 20003888: 0, 10013731: 7, 20007972: 2, 10013733: 8, 20007977: 4, 20007978: 5, 20007981: 7, 20007983: 2, 20007984: 4, 20007985: 4, 20007986: 4, 20004337: 0, 20007988: 4, 20004270: 2, 20007991: 5, 20007992: 3, 20007994: 6, 20010847: 10, 20007996: 1, 20007999: 1, 10016608: 4, 20008003: 7, 10013767: 2, 10011148: 12, 20008010: 2, 20008011: 7, 20008012: 9, 10013773: 8, 20008017: 4, 20008018: 6, 20008019: 4, 10013780: 8, 20008021: 8, 20008025: 6, 20008026: 2, 20008027: 6, 10013790: 4, 10013792: 10, 10013793: 8, 20004761: 1, 20008039: 2, 20008043: 6, 10013807: 7, 10013808: 11, 20008049: 3, 20008053: 7, 20008055: 10, 20008056: 3, 20008058: 5, 20008060: 3, 10013823: 7, 20008065: 15, 20008067: 6, 20008069: 1, 20008070: 7, 10013831: 1, 20008073: 2, 10011159: 8, 20008077: 3, 20008079: 5, 20004779: 6, 20008082: 5, 20008083: 11, 20008084: 2, 10013853: 2, 20008094: 7, 20000655: 0, 20008100: 7, 10013861: 7, 10008433: 11, 20008108: 8, 20008110: 3, 20021789: 7, 20008113: 12, 20008114: 3, 20008116: 1, 20008119: 6, 20008121: 3, 20008123: 7, 20007615: 7, 20008126: 1, 20008127: 14, 10011168: 3, 20008130: 8, 10013891: 4, 20008132: 5, 20008133: 0, 20008143: 8, 20008148: 8, 20008157: 8, 20008159: 2, 20008160: 3, 20008162: 6, 20008163: 3, 20008164: 0, 20008165: 5, 20008168: 6, 20008169: 8, 20008170: 3, 10013931: 10, 10011176: 1, 10013938: 4, 20008179: 1, 20008182: 5, 20008186: 9, 20002687: 8, 20008188: 4, 20008189: 6, 20008192: 7, 20008193: 2, 20008195: 7, 20008198: 6, 20008200: 9, 10009766: 2, 10013964: 5, 20002162: 7, 10013966: 11, 20008208: 19, 20008209: 1, 20008213: 15, 20008217: 1, 20008218: 9, 10013980: 3, 20008222: 7, 20008223: 4, 20008224: 3, 20008226: 3, 20004345: 0, 20008229: 4, 10013990: 1, 20008232: 7, 20013618: 5, 20008240: 13, 10008456: 11, 20008242: 4, 10014004: 2, 20008245: 8, 20007619: 4, 20002697: 9, 20008248: 3, 20008249: 6, 10013919: 2, 20008253: 4, 20008254: 3, 20008257: 0, 20008258: 3, 20008260: 2, 20008265: 0, 10014026: 11, 20008272: 6, 20013624: 6, 20008276: 12, 20008278: 6, 20008279: 2, 20008281: 1, 20008283: 7, 10014046: 5, 20008288: 4, 20008291: 6, 10014052: 10, 20008293: 8, 20008294: 4, 20008295: 3, 20008296: 11, 20008302: 4, 20008306: 2, 20008307: 3, 20008311: 5, 10014072: 13, 20008313: 5, 20008314: 7, 10005232: 0, 20008318: 5, 20008324: 9, 20008328: 1, 20008329: 3, 10008471: 8, 10014094: 2, 10014097: 9, 10007415: 9, 20008340: 5, 20008341: 10, 10011204: 0, 20008346: 5, 20008348: 2, 20008349: 5, 10011205: 8, 20008357: 9, 10014118: 3, 10014119: 5, 20008361: 13, 20008363: 10, 20008364: 3, 20008367: 2, 10014130: 7, 20008372: 6, 20008373: 2, 20008374: 6, 20008375: 8, 20008378: 1, 20008385: 2, 10010690: 7, 20008391: 9, 20008395: 7, 20008396: 2, 10014157: 9, 20008400: 8, 20008401: 3, 20008402: 4, 20008404: 4, 20008406: 2, 20008408: 5, 20008409: 2, 20008410: 6, 20008411: 6, 20008413: 6, 20002169: 2, 20008425: 4, 20008433: 0, 10008675: 1, 20008437: 1, 20008440: 3, 10014207: 7, 20008448: 3, 10014210: 2, 20008454: 13, 20008456: 4, 20008457: 3, 20002716: 15, 20008459: 7, 20008461: 1, 20008462: 2, 10008493: 6, 20008464: 9, 10011224: 0, 20008471: 5, 10014234: 3, 20008475: 6, 20008476: 6, 20008477: 11, 20008480: 11, 20008481: 4, 20002737: 11, 20008492: 1, 20008493: 4, 20021853: 7, 20008497: 5, 20008502: 7, 20008503: 13, 20008509: 5, 20008512: 4, 20008516: 7, 20008518: 0, 20008519: 4, 20008520: 7, 20008522: 1, 20008523: 2, 20008525: 0, 20008526: 3, 20000013: 9, 20008528: 3, 20008529: 3, 10014290: 11, 20001030: 16, 20008535: 8, 20008537: 3, 20008542: 1, 10011237: 15, 20008544: 8, 20008545: 2, 20008546: 6, 20008549: 5, 20004673: 4, 20008551: 5, 20008552: 4, 20008553: 4, 10014315: 6, 20008559: 4, 10014320: 11, 20008561: 7, 20008562: 7, 20008564: 1, 20008567: 2, 20008568: 8, 20008570: 14, 20008573: 3, 20008577: 6, 20008578: 6, 20008579: 1, 20008580: 11, 20008581: 3, 20008585: 6, 20008586: 13, 20008587: 7, 20008588: 7, 20008589: 4, 20008594: 7, 20008595: 7, 10014357: 5, 20008598: 5, 10014359: 13, 20008600: 1, 20008601: 8, 10014364: 5, 20003812: 0, 10011248: 5, 20008610: 6, 20008611: 3, 20008612: 7, 10008518: 7, 10010152: 7, 20008616: 5, 10017790: 7, 20008623: 14, 20008628: 13, 20008630: 4, 20008631: 4, 20008632: 3, 20008636: 8, 20008637: 2, 20008638: 7, 10008523: 8, 10014407: 4, 20008648: 2, 20008650: 4, 20008651: 4, 20008656: 4, 20008658: 1, 20008661: 10, 20008662: 10, 20008663: 8, 20008665: 5, 20008666: 10, 20008667: 4, 20008672: 8, 20008675: 9, 10008529: 6, 20008683: 4, 10011791: 1, 20008686: 6, 20008687: 1, 20008688: 7, 20008690: 9, 10003070: 9, 20008694: 1, 20008697: 9, 20008700: 6, 20008702: 3, 20008703: 10, 20008706: 15, 20004754: 2, 20008710: 9, 20008713: 11, 20008714: 1, 20008720: 5, 20008726: 3, 20008727: 3, 20008728: 9, 20008730: 2, 20008732: 4, 20001634: 13, 20008736: 3, 20008739: 2, 20008740: 5, 10011270: 7, 20008746: 5, 20008747: 7, 10014002: 6, 20008750: 3, 20008752: 5, 20008753: 1, 20008755: 1, 20008758: 5, 10003081: 10, 20008760: 7, 20008761: 14, 20008762: 6, 20008764: 6, 10005813: 1, 10014528: 9, 20008771: 7, 20008772: 4, 10014533: 4, 20008774: 9, 10008545: 9, 20008779: 7, 20008780: 14, 20008781: 7, 20008783: 15, 20008784: 11, 20008789: 3, 20008790: 8, 20000057: 19, 10014554: 2, 20004364: 4, 20008799: 5, 10011280: 13, 20008804: 7, 20008806: 5, 10011281: 1, 20008811: 7, 20008813: 3, 20008814: 7, 20008818: 7, 20008820: 12, 20008822: 8, 20008823: 10, 20008827: 10, 20008829: 1, 10011285: 9, 20008836: 8, 20008837: 4, 20008841: 4, 20008842: 6, 20008843: 11, 20008844: 7, 20008846: 2, 10014607: 15, 20008848: 1, 20008851: 6, 20008852: 7, 10014619: 14, 20008862: 11, 20000069: 4, 20008864: 7, 10014626: 9, 20008867: 5, 20008868: 4, 20008869: 6, 20008870: 6, 10014632: 2, 20008875: 2, 20008877: 6, 20008880: 3, 10013153: 11, 20008884: 6, 20008887: 16, 10008564: 5, 10014650: 7, 20008891: 12, 20008893: 5, 20008895: 8, 20008896: 4, 20008897: 6, 20008898: 8, 20008899: 3, 20008902: 3, 20008904: 2, 20008908: 2, 20008913: 5, 20008915: 3, 20008917: 12, 10008025: 18, 10011300: 6, 20008922: 3, 20008925: 2, 20008926: 2, 10014690: 7, 20008931: 5, 20008936: 7, 20008937: 6, 20008941: 3, 10008573: 7, 20008944: 3, 20008946: 7, 20008948: 9, 20008949: 7, 20008950: 2, 20008955: 6, 20008956: 10, 20008957: 10, 20008958: 5, 20008960: 4, 10016768: 8, 10014723: 5, 20008967: 6, 10014729: 12, 20008970: 1, 20008971: 12, 20008973: 4, 20008974: 2, 20008975: 5, 20008981: 3, 20008982: 13, 20005551: 0, 20008988: 11, 10005850: 7, 20008992: 22, 20008995: 8, 20008997: 7, 10007437: 3, 20009001: 3, 20009004: 4, 20009005: 9, 20009006: 7, 20009008: 3, 20009009: 12, 20009010: 2, 10014772: 2, 20008286: 2, 10011802: 10, 20002825: 3, 20009016: 8, 20009023: 14, 20009024: 5, 20009025: 5, 20009027: 4, 20009028: 6, 10014792: 5, 20009038: 6, 20009039: 2, 20009040: 9, 20009041: 6, 20009042: 9, 20009043: 6, 20009044: 7, 20009045: 6, 10014806: 3, 20009047: 6, 20009048: 7, 20009051: 5, 20009052: 3, 20005562: 4, 20009057: 13, 10007439: 0, 20009064: 8, 20009066: 9, 20009070: 9, 20009071: 5, 20009072: 10, 20009074: 12, 20009075: 2, 20009079: 8, 20009080: 8, 20009081: 15, 20009082: 5, 20009083: 4, 20004131: 0, 20009086: 6, 20009087: 3, 20009088: 11, 10007043: 5, 20009092: 4, 20009093: 7, 20005569: 1, 20009096: 7, 20009098: 8, 20009100: 2, 10014861: 8, 20009102: 11, 20009103: 13, 20009111: 6, 10014881: 2, 20009122: 8, 20009126: 4, 20009127: 10, 20009129: 7, 20009131: 4, 20009132: 7, 20009137: 7, 20009138: 2, 20009139: 4, 20009140: 4, 20009141: 6, 10014902: 2, 20009146: 4, 20009148: 7, 20009149: 16, 20009154: 10, 20009155: 10, 20009159: 5, 20009162: 9, 20009163: 7, 20009164: 4, 20011042: 13, 20009169: 2, 20009171: 8, 20009172: 2, 10007866: 7, 10014939: 10, 20009180: 4, 20009181: 6, 20009185: 9, 20009187: 5, 20009188: 12, 20009190: 6, 20020553: 11, 20009194: 9, 20009202: 4, 20009206: 13, 20009207: 13, 20009208: 4, 20009209: 5, 20009212: 9, 20009214: 11, 20009216: 10, 20009217: 4, 20004378: 2, 20009219: 4, 20009220: 6, 20009221: 8, 20009222: 11, 20009225: 3, 20009226: 6, 20009227: 11, 20009229: 1, 20009231: 5, 10014994: 6, 20009235: 2, 10011353: 11, 20009241: 9, 20009243: 5, 20009247: 11, 20009248: 4, 20009249: 11, 10015012: 2, 20009254: 10, 20009256: 5, 10015017: 3, 10015019: 6, 20009263: 9, 20009265: 5, 20009266: 5, 20009268: 9, 10011358: 13, 10008628: 9, 10015036: 2, 20009278: 10, 20009279: 7, 10011360: 5, 20009284: 5, 10009555: 6, 20009286: 7, 20009287: 5, 10015048: 11, 10008631: 5, 20021293: 9, 20009298: 5, 20009303: 11, 20009304: 10, 10011364: 8, 10017813: 6, 20009312: 8, 20009313: 8, 20009314: 5, 20009317: 2, 20008337: 8, 20009320: 7, 20009321: 7, 20009331: 7, 20009333: 4, 20009334: 3, 10011369: 9, 20009336: 9, 10016831: 7, 10015103: 8, 20009344: 8, 20009345: 6, 20009346: 9, 10007087: 0, 10015118: 4, 20009361: 5, 20009364: 2, 20009366: 9, 20009368: 15, 20009371: 12, 20009373: 3, 20009377: 8, 20009384: 13, 20009385: 3, 10015146: 15, 20009387: 13, 10008636: 2, 10005917: 2, 10008648: 6, 20005619: 1, 20009399: 6, 10015160: 9, 20009401: 8, 20009403: 6, 20009406: 4, 20009408: 7, 20009415: 3, 20009418: 2, 20009419: 10, 20009420: 2, 20009423: 4, 20009424: 6, 20009425: 10, 20009429: 10, 20009431: 8, 20009433: 15, 20009434: 1, 20009438: 11, 20009440: 3, 10015201: 12, 20009443: 8, 20008358: 2, 20009447: 3, 20009448: 6, 20009450: 6, 20008359: 2, 20002898: 1, 10005928: 5, 20009458: 8, 10011390: 3, 20002204: 4, 20009468: 5, 20009469: 7, 20009470: 7, 20009475: 7, 20009476: 4, 20009479: 3, 10007453: 1, 20009481: 10, 20009482: 6, 20009486: 10, 20009487: 0, 20009489: 14, 20009493: 5, 10015254: 4, 20009495: 6, 10005935: 0, 10015261: 2, 20009502: 0, 20009503: 7, 10015266: 6, 20009508: 4, 20009511: 7, 20009518: 3, 20009519: 7, 20009527: 12, 20009530: 3, 10015291: 2, 20009535: 8, 10008546: 4, 20009538: 13, 10015300: 13, 20009541: 16, 20009543: 8, 20009544: 14, 20009545: 3, 20009550: 8, 20009553: 3, 20002915: 5, 20009558: 7, 20009561: 9, 20009563: 3, 20009564: 10, 20009568: 10, 20009572: 2, 20009573: 6, 20009575: 11, 20009576: 7, 20009579: 4, 20009580: 3, 20009582: 4, 20009584: 8, 20009586: 9, 20009588: 7, 20011113: 6, 20009592: 9, 20009593: 6, 10005951: 2, 10015357: 12, 20009600: 1, 20009603: 9, 20009608: 2, 20004391: 1, 20005655: 1, 20009614: 6, 20009616: 5, 20009617: 6, 10015378: 16, 20002607: 8, 20009622: 10, 20008388: 8, 20009629: 8, 20009634: 6, 20009635: 6, 20005660: 3, 20009642: 14, 20009647: 5, 20009648: 9, 20009651: 2, 20009653: 10, 20016585: 3, 20009658: 8, 20005663: 0, 20009662: 4, 10015423: 2, 20009664: 11, 20009666: 5, 20009667: 16, 20004393: 4, 20009670: 8, 20009678: 12, 20009686: 7, 10008697: 2, 20009694: 8, 20009698: 10, 20009699: 5, 20009700: 6, 20009703: 7, 20009709: 7, 20001121: 5, 20009713: 6, 10015474: 4, 10008702: 6, 10011433: 11, 20009720: 3, 20009721: 1, 20009726: 6, 20009727: 4, 20009728: 12, 20009732: 13, 20009733: 14, 20009740: 2, 10007594: 3, 20009742: 7, 20009743: 4, 20009744: 6, 20009746: 3, 20009747: 5, 20009749: 5, 20009751: 6, 20009752: 15, 20009754: 2, 20009756: 13, 20009757: 3, 20009759: 8, 10015521: 4, 20009762: 6, 10015525: 12, 20009766: 9, 20005681: 2, 20009769: 8, 20009770: 3, 10015531: 2, 10015536: 7, 20009777: 2, 20009779: 10, 10012177: 16, 20009784: 3, 20009788: 5, 20009789: 10, 20009790: 3, 10011445: 10, 10008623: 15, 20009795: 2, 10015557: 5, 20009799: 2, 10005827: 3, 20009806: 8, 20009809: 8, 10015573: 6, 10015575: 2, 20009816: 5, 10005988: 3, 20009819: 2, 10015580: 2, 10015583: 2, 20009824: 5, 10006919: 6, 20009830: 3, 20009834: 7, 20009839: 9, 20009840: 14, 20009841: 8, 20009843: 3, 20009847: 8, 20009848: 7, 20009851: 0, 20009855: 6, 20009862: 6, 10011457: 2, 20009868: 10, 20011492: 7, 20009873: 7, 10018923: 9, 20009880: 7, 20015857: 1, 10008730: 3, 20009886: 6, 20009891: 6, 20009893: 15, 10013468: 16, 20009900: 16, 10011286: 9, 20009905: 10, 20009906: 10, 20009908: 5, 20009909: 3, 20009911: 7, 20009912: 11, 20009918: 14, 20009919: 3, 20009920: 7, 20021314: 10, 20009931: 5, 20009933: 12, 10015694: 2, 10015698: 9, 10008739: 11, 10015704: 2, 20009945: 15, 20009946: 11, 20009948: 6, 20009949: 12, 20009953: 9, 20003857: 9, 10015717: 8, 20009960: 10, 10015721: 8, 20009962: 10, 20009963: 7, 20009967: 8, 20009969: 10, 20009972: 7, 20009974: 10, 20009979: 9, 20009980: 1, 10015741: 3, 20009991: 0, 20009992: 9, 20009993: 10, 10015754: 7, 20009995: 3, 20010000: 2, 20010003: 3, 20006041: 3, 20004505: 2, 10009653: 0, 20010014: 0, 20010016: 9, 20010018: 13, 20010021: 12, 20010022: 4, 20010024: 10, 10015785: 2, 20010030: 8, 20010031: 4, 10015792: 9, 10015793: 6, 20010038: 10, 20010041: 9, 20010044: 15, 20010045: 7, 20010047: 13, 20010050: 12, 20010058: 5, 20010065: 7, 20010067: 3, 20010068: 8, 20010072: 3, 20010073: 11, 20010075: 6, 10015836: 9, 20010078: 11, 20010083: 9, 20010084: 3, 20010086: 12, 20010087: 12, 10015848: 8, 20010090: 13, 20010092: 5, 20010093: 4, 20010095: 3, 10015856: 7, 10015857: 7, 20010099: 14, 20010101: 9, 10011497: 6, 20010105: 8, 20010106: 6, 20010110: 14, 20010115: 12, 10015879: 6, 20010120: 5, 20010124: 7, 20002226: 2, 20010131: 9, 20003863: 11, 10015897: 2, 20010138: 8, 20010139: 12, 20010143: 6, 20010150: 4, 20010152: 4, 20010153: 6, 10015914: 12, 10003314: 2, 10006833: 3, 20010159: 7, 20010164: 16, 20010169: 10, 20010172: 12, 20010176: 3, 20010180: 6, 20010181: 8, 10014241: 2, 20010184: 9, 10008780: 12, 10011511: 5, 20010188: 6, 10015950: 11, 20010196: 16, 20010198: 5, 20010199: 5, 20010202: 5, 10015965: 9, 20010209: 14, 20010210: 10, 20010211: 12, 20010213: 10, 20004575: 1, 20011115: 5, 20010219: 13, 20010220: 6, 20010221: 8, 20010225: 7, 20011219: 16, 20010230: 3, 20010234: 2, 20010237: 5, 20010239: 10, 20010243: 8, 20010248: 5, 10010752: 14, 10016013: 2, 20010257: 10, 20010259: 15, 20010261: 5, 20022962: 2, 20010265: 13, 20010266: 7, 20010270: 2, 20000304: 12, 10016034: 7, 20010275: 9, 20010276: 8, 20010277: 4, 20010278: 11, 20010279: 6, 20010284: 6, 20010287: 5, 20010288: 13, 20001193: 3, 20010291: 1, 20010293: 14, 20010294: 6, 10011529: 8, 10006068: 11, 20010299: 10, 20010303: 9, 20010304: 5, 20010307: 14, 10016070: 7, 20010316: 8, 20010320: 8, 20010321: 1, 10016084: 2, 10003342: 8, 10016086: 3, 20010327: 9, 20011236: 8, 20010330: 3, 10016092: 2, 20003171: 12, 20010340: 6, 20010347: 10, 20010353: 5, 10011539: 8, 20010356: 16, 20010357: 11, 20004416: 0, 20010364: 12, 20010365: 12, 20010366: 12, 20010371: 8, 20010375: 3, 20010382: 2, 10008813: 7, 20010385: 8, 20010390: 8, 20003055: 11, 10016156: 2, 20010399: 7, 10010757: 5, 20010401: 6, 20010403: 8, 10016164: 4, 10016167: 4, 20010409: 13, 20010411: 1, 10008818: 0, 20010419: 2, 20016966: 12, 20010421: 7, 20010423: 2, 20003060: 10, 20010428: 14, 20010433: 6, 20004140: 3, 20010439: 7, 20010448: 12, 20010449: 6, 20010452: 8, 20010455: 5, 20010456: 8, 20010457: 3, 20010461: 4, 20010462: 5, 20010464: 10, 10000939: 1, 20010466: 10, 20010468: 13, 10003366: 1, 20010472: 2, 20010475: 8, 20010476: 10, 20010477: 7, 20010478: 10, 10008829: 8, 20010482: 6, 10016243: 9, 20010488: 10, 20010489: 6, 10016251: 2, 10011562: 7, 20010496: 10, 20010499: 9, 20010502: 7, 20010503: 10, 20010504: 5, 20010505: 12, 10014295: 13, 20004421: 2, 10011565: 3, 20010514: 5, 20010516: 12, 20010521: 4, 20010522: 9, 10016283: 14, 20010524: 13, 20010529: 1, 20010531: 7, 10017030: 8, 10011569: 11, 20010539: 7, 20010540: 2, 10011570: 12, 10016306: 6, 10011571: 9, 10016311: 3, 10016312: 9, 10016313: 6, 20010554: 6, 10014303: 6, 20010556: 5, 20010559: 13, 20010560: 8, 10016323: 7, 20003826: 13, 20010569: 11, 10011575: 9, 10016333: 7, 20010574: 11, 20010582: 9, 20010585: 9, 20010588: 9, 20010594: 12, 10006399: 2, 20010597: 13, 20010598: 8, 20004424: 3, 20010604: 15, 20010608: 17, 20010609: 3, 20010611: 3, 20010613: 13, 20010615: 15, 10012619: 8, 20010621: 15, 20011285: 8, 20010626: 13, 20010627: 2, 20010630: 8, 10016391: 10, 20010633: 10, 10016394: 3, 10000013: 16, 20010645: 9, 20010646: 13, 20010647: 11, 20022212: 6, 10014039: 2, 10011590: 7, 20004088: 0, 20010667: 10, 20014792: 7, 20010669: 7, 20010672: 2, 20010673: 1, 20004326: 6, 10016437: 11, 10000057: 12, 20010683: 10, 20010690: 7, 20008246: 6, 20010692: 7, 10000069: 20, 10016457: 6, 20010699: 2, 20010700: 6, 10016462: 8, 10008867: 7, 20010709: 11, 10016875: 6, 20010713: 9, 20010715: 7, 20000378: 1, 20010719: 8, 20010721: 10, 20012066: 9, 20010730: 12, 20013703: 9, 20010734: 8, 20010735: 2, 20010736: 15, 20010738: 5, 20010743: 6, 20010746: 2, 20010747: 5, 20010752: 11, 10008875: 5, 20010756: 14, 20010757: 12, 10000138: 14, 10005859: 1, 20021342: 13, 10014338: 6, 20010767: 7, 10008587: 4, 10016529: 8, 20010770: 9, 10016538: 5, 10016540: 8, 10011610: 1, 20010785: 6, 20010788: 12, 20010789: 2, 10016552: 2, 20010794: 10, 20010795: 3, 10016557: 6, 10016559: 8, 20010800: 10, 20010801: 6, 20010803: 5, 20010807: 0, 20010808: 9, 10017863: 8, 20010813: 11, 10016575: 2, 10000193: 12, 20010818: 4, 20010820: 11, 10016582: 14, 20010825: 6, 20010827: 7, 20010829: 6, 20010832: 7, 20010833: 6, 10016594: 5, 10000212: 12, 20010839: 12, 10016603: 2, 10000223: 9, 20010848: 3, 20010849: 4, 20010850: 4, 10016611: 11, 10016612: 16, 20010853: 11, 10006161: 8, 20010859: 3, 20010861: 5, 10008893: 4, 20010864: 3, 20010865: 5, 20010868: 11, 20010873: 8, 10008895: 12, 10016636: 7, 20010878: 10, 10008896: 5, 20010885: 3, 20010886: 8, 20010887: 11, 20001197: 7, 10006947: 3, 10000273: 5, 10008899: 8, 20010902: 5, 20010903: 15, 10011865: 7, 10016669: 9, 20010910: 6, 20010913: 12, 20010917: 13, 20010920: 13, 20010921: 13, 20010923: 4, 20010927: 5, 10000304: 1, 20010929: 12, 10016692: 9, 20010933: 8, 20010934: 10, 10016698: 7, 10016702: 5, 20004503: 1, 20010944: 14, 20010946: 3, 20010947: 6, 20010950: 5, 20010953: 7, 20010955: 4, 10014370: 5, 10000334: 11, 20010960: 7, 20010962: 4, 20010968: 2, 20010970: 5, 20021349: 2, 10013504: 10, 20010982: 15, 10016746: 12, 20010989: 2, 20010991: 5, 20010999: 8, 20011000: 0, 20011001: 3, 10000378: 3, 10011647: 14, 20011004: 12, 10008917: 2, 20011008: 2, 20011013: 4, 20011014: 4, 10000391: 7, 20011018: 8, 20004438: 0, 10000398: 6, 10016785: 11, 20011026: 2, 20011029: 7, 10008921: 11, 20011033: 13, 20011034: 10, 20011038: 11, 10011653: 12, 10000418: 12, 20011045: 11, 20011048: 8, 20011049: 0, 20011054: 6, 20011055: 10, 20011058: 1, 10016819: 2, 20011061: 13, 20011062: 7, 20011064: 5, 20011065: 6, 20011066: 16, 20011067: 9, 20011070: 11, 20011071: 9, 10016833: 2, 10016834: 7, 20011080: 3, 20011082: 12, 20011083: 8, 10000463: 13, 20011088: 14, 20011090: 3, 20011091: 0, 20011092: 1, 20011094: 9, 10016857: 12, 10016860: 9, 20011101: 7, 20011103: 2, 20011107: 10, 20011108: 3, 20014097: 12, 10000489: 5, 10000491: 6, 20011120: 9, 20011122: 7, 20011123: 12, 10017129: 2, 20011129: 4, 20011134: 0, 10011669: 0, 20011138: 16, 20003179: 2, 20011140: 14, 10011670: 2, 10016903: 7, 20011145: 9, 20011147: 13, 20011148: 7, 10006210: 7, 20004363: 4, 20011159: 4, 20011162: 5, 20011165: 10, 20011168: 8, 20003184: 11, 20011176: 5, 20011182: 2, 10000563: 10, 10011678: 5, 10016952: 2, 20011195: 7, 20011196: 6, 20011199: 2, 10011680: 8, 20011204: 8, 20011205: 5, 10016966: 16, 10000587: 7, 20011212: 4, 10000595: 4, 10016981: 8, 20011223: 2, 20011224: 6, 20011225: 8, 10016986: 14, 10000609: 13, 20011235: 6, 10000612: 11, 20011237: 5, 10017000: 2, 10000617: 7, 10000622: 8, 20011248: 8, 10000625: 18, 20011251: 10, 10000628: 3, 20019582: 2, 20011256: 0, 20013175: 5, 20005930: 1, 10000638: 8, 10017023: 6, 10017024: 11, 10017027: 7, 20011270: 10, 20011272: 12, 10017034: 10, 10000655: 15, 20011280: 6, 20011281: 10, 10000659: 8, 10000661: 12, 20011286: 15, 20016857: 8, 20004447: 16, 10011695: 8, 10000670: 8, 20011299: 4, 20011300: 9, 20011301: 8, 20011302: 8, 20003902: 3, 10003506: 1, 20011311: 8, 10011700: 9, 20011322: 7, 20011325: 9, 20011329: 0, 10000708: 6, 20004146: 0, 10007932: 1, 10000716: 8, 10017165: 2, 20011344: 8, 10000721: 5, 10017106: 17, 20011351: 14, 20011353: 11, 20011354: 14, 20011356: 5, 20011358: 6, 20011359: 14, 20011360: 1, 20011364: 13, 10007788: 12, 20003904: 0, 20011369: 7, 20011373: 10, 10000751: 1, 10000753: 4, 20011379: 1, 20000489: 5, 20011385: 10, 20011387: 0, 10017149: 2, 20011390: 3, 20003221: 5, 20011393: 9, 10006251: 1, 20003222: 6, 20011398: 5, 20011403: 10, 20011404: 10, 10000781: 10, 10017166: 8, 10000784: 17, 20011413: 7, 20011415: 11, 20011420: 9, 10000798: 1, 10000799: 13, 10017184: 14, 20021364: 6, 10017186: 2, 10017193: 6, 10017195: 9, 20011437: 15, 20011439: 7, 10000816: 10, 20011441: 11, 10017202: 11, 10016793: 17, 20011422: 6, 20002270: 11, 20011449: 3, 20011423: 10, 20011457: 14, 10000834: 6, 20011460: 10, 20011461: 7, 10000838: 5, 20011464: 7, 20011466: 4, 10000845: 8, 10008995: 11, 20011476: 0, 20011479: 5, 10017241: 4, 10017245: 12, 10017246: 2, 20011487: 11, 10011728: 1, 10017252: 14, 10017253: 9, 20011497: 8, 10000874: 11, 10000877: 5, 10017262: 8, 20011504: 1, 20011505: 13, 10017267: 6, 10000885: 11, 20011433: 2, 20011512: 7, 10000892: 0, 10017282: 16, 20011523: 13, 10017284: 2, 10017288: 13, 20011529: 11, 20011532: 14, 20003245: 9, 10017298: 7, 20011539: 2, 20011540: 8, 10000919: 7, 20011547: 3, 10017310: 2, 10000927: 3, 20011552: 15, 20003248: 8, 10000933: 6, 20011560: 5, 20011562: 9, 10017323: 2, 20011565: 3, 10011741: 8, 10017328: 11, 20011569: 2, 20011570: 4, 20011571: 7, 10017333: 7, 20011575: 12, 20003252: 4, 10017342: 6, 20011445: 11, 20011588: 5, 10017349: 10, 20011590: 7, 20011591: 4, 20003366: 6, 20011600: 12, 20003256: 12, 10000979: 13, 20011604: 10, 20011605: 0, 10017366: 15, 20011607: 6, 10000986: 7, 20011615: 0, 20011617: 14, 20011618: 2, 20011451: 13, 10000998: 8, 10017754: 9, 20003367: 7, 20011635: 10, 10001012: 8, 20011644: 13, 10017406: 5, 20011647: 4, 10017410: 9, 10001029: 1, 10001030: 18, 20011659: 16, 10001036: 4, 10017421: 12, 20011669: 5, 10012436: 0, 10017433: 12, 20011678: 6, 10001056: 10, 10001063: 13, 20011688: 4, 10014492: 13, 20011690: 14, 10010800: 14, 20011693: 1, 20011694: 11, 20011695: 4, 10017457: 2, 20011700: 11, 20011701: 14, 10017467: 2, 10008480: 15, 20011711: 4, 10001090: 11, 10017480: 2, 10017482: 6, 20011728: 14, 20011730: 14, 20011731: 12, 10009038: 6, 20011735: 11, 10001112: 16, 10009039: 6, 20011741: 2, 10001121: 5, 10017508: 9, 20011756: 9, 10017517: 9, 20003917: 4, 10001135: 2, 10017520: 13, 10017521: 14, 20003283: 10, 10017525: 7, 20011774: 8, 10001154: 0, 20011781: 11, 10017543: 9, 20011786: 5, 10017547: 16, 20003918: 0, 10001166: 0, 20011791: 2, 20011793: 12, 20011794: 3, 10001171: 8, 20011800: 0, 20011801: 9, 20011802: 11, 10011781: 14, 20013124: 5, 10017576: 4, 10001193: 6, 20011820: 1, 10001197: 12, 20011825: 5, 20011834: 7, 10001212: 2, 10001220: 5, 10017606: 5, 20003297: 12, 20011848: 13, 20011849: 2, 20011852: 1, 10001229: 4, 10011351: 18, 20011863: 8, 20011864: 8, 10017625: 7, 20011867: 10, 20011868: 7, 20011869: 11, 20011870: 5, 20011873: 5, 20011875: 11, 20011877: 12, 20011879: 2, 10001257: 1, 20011883: 1, 10011794: 9, 20011886: 8, 10017648: 9, 10017649: 3, 20011892: 7, 10017659: 8, 20011900: 13, 20003306: 1, 10017667: 7, 10001285: 1, 10001286: 9, 20011913: 8, 20011914: 9, 20011915: 12, 20011920: 4, 10011800: 4, 10001299: 8, 10016809: 8, 10001302: 7, 10001303: 10, 10001304: 5, 20011929: 5, 10010808: 10, 20011933: 0, 10001310: 13, 20011939: 4, 10012445: 11, 20011941: 6, 20011942: 4, 20011943: 9, 20011944: 4, 20011945: 5, 20011946: 9, 20003314: 2, 10017711: 11, 20011952: 4, 20003315: 4, 20011958: 1, 20011965: 4, 10001343: 10, 20011970: 9, 10017731: 8, 10001350: 5, 20014241: 4, 10001353: 8, 10001354: 15, 20011511: 7, 20011980: 7, 10017744: 8, 10001364: 12, 20011990: 2, 20011993: 4, 10001370: 5, 10001376: 6, 10001379: 17, 10011356: 7, 20012007: 13, 10017276: 13, 10017770: 1, 10001391: 2, 20012016: 10, 10001396: 0, 10009086: 9, 10001400: 1, 10001402: 1, 10009087: 8, 20012030: 12, 20012032: 1, 20003328: 10, 10014550: 3, 10017798: 10, 10011820: 7, 10001418: 1, 10001420: 3, 10017806: 9, 10017808: 13, 20012050: 7, 20012052: 5, 10001429: 0, 20012055: 4, 10017816: 11, 20012060: 8, 10006362: 5, 20012065: 15, 10001442: 2, 20012069: 0, 10001449: 15, 20012075: 6, 20012077: 15, 20012078: 5, 10001455: 6, 10001456: 3, 20012084: 12, 20012085: 2, 10001462: 6, 20012087: 9, 10001464: 6, 20012090: 11, 10001467: 6, 20003338: 15, 20012094: 4, 20012098: 8, 20012099: 3, 10001476: 6, 20004474: 1, 20012103: 3, 10001485: 3, 10017873: 16, 10001490: 3, 20003342: 5, 10017884: 14, 20014295: 13, 10001503: 7, 20012129: 5, 10001507: 10, 20012133: 0, 20012136: 8, 20012137: 4, 20012140: 3, 10001517: 2, 20012144: 11, 20012145: 10, 10001522: 3, 10001525: 6, 20000617: 5, 20012155: 11, 10001536: 11, 10001540: 3, 20012165: 3, 20012166: 10, 10001544: 2, 10017929: 16, 10001547: 5, 20012174: 4, 20012177: 9, 10017938: 12, 20012179: 7, 10006382: 2, 10017942: 15, 20012183: 7, 10017945: 7, 20012186: 2, 20003108: 4, 20012194: 1, 20003355: 13, 20000625: 6, 20014279: 8, 20012210: 10, 20012215: 1, 10017976: 2, 20012219: 10, 20012224: 2, 10017986: 9, 10001605: 8, 10017991: 14, 10014637: 4, 20012237: 1, 20012238: 5, 10001615: 2, 10001617: 1, 20012247: 9, 10018010: 10, 10001629: 8, 10001632: 6, 10001633: 3, 10001634: 0, 10001636: 0, 10001637: 2, 10018024: 12, 10001642: 4, 10009127: 13, 10018030: 10, 10001648: 9, 20012273: 7, 20012274: 12, 10008553: 6, 10001655: 0, 10001656: 2, 20012282: 17, 20012283: 8, 10018047: 2, 20012288: 7, 10018049: 8, 10001666: 0, 10001667: 13, 10010820: 11, 20012296: 11, 20012297: 10, 10001674: 10, 10011863: 0, 10001676: 4, 20012305: 6, 10001685: 5, 10001687: 5, 10018075: 2, 20012317: 7, 10018083: 2, 20012327: 7, 10018092: 2, 10001709: 13, 10011869: 14, 20012338: 2, 20003380: 18, 10006410: 0, 10001726: 7, 20003381: 16, 20012353: 9, 20012357: 8, 20012360: 10, 10001740: 13, 10001741: 3, 10001742: 1, 10018128: 8, 20012369: 7, 10018131: 8, 10001753: 8, 10018139: 11, 10001757: 1, 10011877: 3, 20012384: 2, 20012386: 3, 10001764: 2, 10001765: 0, 10001766: 1, 20012394: 5, 10011879: 9, 10018157: 8, 10001774: 17, 20012400: 3, 10001778: 14, 20000659: 6, 10001780: 7, 10001783: 8, 10014612: 12, 20012411: 1, 10018172: 2, 10005914: 3, 20012416: 5, 10011883: 5, 10012461: 6, 10018185: 2, 10001802: 2, 20012430: 12, 10001809: 0, 20012436: 9, 10001816: 0, 10018203: 16, 20012445: 6, 10018207: 15, 20012451: 7, 20012454: 3, 20012461: 12, 10018225: 10, 20012466: 5, 10014622: 14, 20012472: 5, 10005916: 6, 10001852: 10, 10013554: 5, 10001858: 2, 20002850: 7, 20012484: 3, 20012487: 7, 20012488: 12, 10009164: 8, 10001869: 3, 20002912: 7, 10001877: 0, 10001883: 2, 20012510: 6, 10014629: 10, 20013217: 15, 10001902: 0, 20012529: 8, 10018294: 9, 10001917: 6, 10001922: 10, 20012549: 6, 20004489: 1, 10001930: 2, 10001935: 7, 10010829: 5, 10001939: 3, 10001943: 15, 20012568: 7, 10001948: 4, 20011610: 9, 10001950: 2, 20010491: 6, 10001954: 9, 20003419: 9, 10001959: 3, 10001967: 7, 10001970: 4, 20012595: 6, 20012598: 13, 10011913: 3, 10011225: 9, 10001981: 1, 10011915: 8, 10018377: 9, 20012618: 6, 20012619: 5, 10001997: 1, 20003288: 1, 10002002: 3, 10002007: 11, 20012632: 10, 20012639: 2, 10002016: 4, 10011920: 3, 20012644: 11, 10002021: 1, 20012646: 5, 20012648: 7, 10002028: 11, 10002030: 2, 20012655: 9, 20012658: 7, 10002035: 2, 10002036: 7, 10006463: 3, 10018437: 5, 10007637: 4, 10010833: 5, 10002060: 2, 10014658: 4, 10003736: 2, 10002070: 2, 20000708: 4, 20012700: 3, 20013223: 2, 20012708: 18, 10018469: 11, 20014364: 10, 10002093: 12, 20012718: 13, 10011933: 10, 20012722: 2, 10007561: 6, 20014315: 4, 10002106: 0, 10018499: 2, 10002116: 1, 20000716: 4, 20012746: 14, 10002126: 2, 20012751: 7, 20003938: 0, 10018515: 9, 10002133: 4, 20012758: 9, 20012760: 11, 10018523: 7, 10003198: 5, 10002148: 10, 10006481: 1, 10001020: 11, 10002155: 2, 10002157: 5, 20012785: 8, 10018546: 9, 10002164: 12, 10011945: 7, 10002169: 5, 10002171: 2, 10018556: 7, 20012797: 12, 20012799: 9, 10002180: 10, 10002182: 4, 10002183: 9, 10018569: 2, 20012810: 6, 20012812: 8, 20012815: 2, 20012816: 2, 10018578: 7, 10002197: 9, 10018583: 15, 20012825: 4, 10002204: 2, 10014682: 7, 10002206: 6, 20011653: 1, 20006192: 4, 10018594: 10, 10018602: 9, 20012843: 8, 10002220: 13, 20012847: 6, 20012848: 1, 10002226: 4, 10000473: 7, 20003465: 0, 10002232: 4, 20012860: 14, 20012862: 6, 10002239: 8, 10002249: 10, 20012875: 7, 20012876: 10, 10002254: 3, 10002255: 2, 20012883: 8, 10002260: 5, 10002261: 2, 10002265: 4, 20012892: 6, 20012894: 3, 10002273: 0, 20012898: 8, 10002275: 8, 20004702: 1, 10002278: 0, 10002280: 7, 10011965: 12, 20004501: 1, 10011325: 11, 20003611: 3, 10002302: 9, 10018692: 11, 20011670: 1, 10011387: 6, 10018700: 12, 10011970: 0, 10018702: 7, 10006509: 7, 10002320: 7, 10002321: 6, 10009241: 0, 20000751: 2, 20012956: 4, 20012963: 3, 10007569: 10, 20012965: 11, 20012966: 2, 20000753: 2, 10002346: 3, 20006215: 6, 20012972: 8, 10002349: 5, 10002350: 6, 10002351: 9, 10002354: 1, 10002356: 4, 10018743: 10, 10005933: 3, 10002362: 4, 20012987: 6, 20012990: 2, 20011680: 14, 10003787: 0, 10002377: 2, 10001069: 7, 10018771: 8, 20013012: 6, 20013015: 8, 10018776: 9, 10002393: 0, 10002395: 3, 10018783: 6, 20013026: 3, 10018789: 12, 10018792: 2, 10002409: 4, 20011687: 7, 10002423: 0, 20013051: 6, 10002428: 6, 10002432: 6, 10002437: 8, 10018825: 8, 20013066: 1, 10002445: 11, 10018831: 11, 10001070: 1, 10011993: 13, 10002458: 9, 10002460: 0, 10018846: 9, 10002465: 2, 10002467: 3, 20013092: 0, 20013093: 2, 10008119: 3, 10014727: 12, 20003506: 2, 10002484: 7, 10018873: 9, 10018876: 10, 10006865: 1, 10002496: 1, 10002500: 1, 20013132: 8, 10010848: 14, 20000781: 11, 20013139: 12, 10018900: 10, 10002517: 2, 10002522: 5, 10018907: 10, 10002525: 7, 20013153: 15, 10002534: 16, 10002539: 13, 20013167: 9, 10009278: 5, 10002551: 2, 10001087: 12, 10018940: 2, 10002557: 7, 10018945: 2, 10002573: 5, 10002576: 4, 10002580: 7, 20004704: 0, 20013208: 0, 10002590: 8, 10002592: 13, 20006256: 2, 20013219: 6, 10018982: 11, 10002599: 7, 10009287: 4, 10018988: 11, 10018989: 6, 10002606: 4, 10002607: 0, 10002610: 7, 10006558: 3, 20013241: 2, 20013246: 5, 10019007: 2, 10006560: 9, 10002639: 15, 10002640: 2, 10002641: 0, 10019027: 9, 20013269: 3, 10010018: 12, 10002660: 7, 10007245: 2, 10002665: 6, 10002667: 12, 10002669: 14, 20013294: 7, 10002673: 11, 20013298: 6, 10012030: 9, 20013305: 7, 10002687: 9, 10019080: 12, 10002697: 1, 10019082: 14, 20003543: 12, 20006275: 5, 10002708: 5, 10002711: 9, 10002716: 8, 10019104: 6, 20013346: 3, 10002723: 5, 10002729: 1, 20017202: 9, 10002735: 1, 10002737: 14, 20004516: 3, 10002744: 3, 20009012: 8, 10002746: 7, 10002749: 4, 10019134: 2, 20013375: 5, 20013376: 11, 20013379: 12, 20013380: 7, 10002758: 9, 20003553: 11, 10002761: 4, 10005401: 4, 10002769: 2, 10002773: 7, 10002774: 2, 20013406: 13, 10002783: 17, 20013409: 12, 10002786: 9, 20013411: 13, 10002788: 3, 10002790: 4, 10002674: 11, 10002796: 11, 10012050: 7, 20004518: 3, 10002804: 7, 10002806: 10, 20013431: 3, 10002811: 12, 10002812: 6, 10002813: 5, 10002816: 4, 10002817: 2, 20013443: 8, 10002822: 16, 10002825: 9, 10012055: 5, 10002831: 12, 10002836: 8, 10019227: 13, 20013468: 8, 20013471: 8, 10019233: 15, 10002850: 9, 10002853: 1, 10002854: 11, 10002863: 2, 20013488: 5, 20013490: 5, 10002868: 9, 10002871: 0, 10002876: 5, 20013502: 9, 20013504: 11, 10002881: 9, 20013506: 8, 10019267: 13, 10002885: 5, 20013510: 12, 10012065: 10, 10002888: 17, 10002889: 5, 10012066: 2, 10002898: 0, 10010861: 12, 10019294: 14, 20013535: 5, 10002912: 6, 10019297: 12, 10019299: 2, 20013546: 8, 10019309: 2, 20013552: 4, 20013554: 0, 10002932: 5, 10019321: 2, 20013564: 9, 10002942: 10, 10012075: 10, 10002952: 6, 10002954: 12, 20006317: 1, 20013585: 13, 20013589: 6, 10006617: 7, 20013592: 4, 10002970: 3, 20013596: 3, 10002975: 1, 10003888: 2, 10002978: 7, 10002980: 10, 10011479: 5, 10006621: 9, 10019378: 12, 10019384: 11, 10012085: 9, 20013636: 12, 10003013: 5, 10019404: 2, 20013646: 5, 20013647: 9, 10003028: 13, 20013653: 9, 20013654: 2, 20013655: 8, 10003032: 14, 10003034: 10, 10006629: 0, 10009229: 8, 10003045: 0, 20003601: 17, 20013675: 5, 10003053: 8, 10003055: 7, 10003058: 6, 10003060: 4, 20013685: 3, 20003604: 10, 10019450: 7, 20013692: 11, 10003069: 7, 20013694: 6, 10019456: 8, 10003904: 0, 10003076: 6, 20003606: 9, 10003078: 12, 10003079: 2, 20013704: 2, 20013705: 13, 10003089: 13, 10003090: 1, 20006339: 2, 10019051: 7, 10003098: 1, 10003101: 16, 10019486: 14, 10003103: 11, 10003106: 6, 20013731: 10, 10003108: 2, 20013733: 5, 10019496: 2, 20013737: 3, 10003114: 12, 10003115: 5, 20003983: 0, 10019501: 1, 10003119: 6, 20013745: 6, 10003123: 2, 10003128: 3, 10003134: 13, 10003135: 0, 10019520: 11, 10003137: 2, 10003139: 6, 10003142: 7, 20013767: 9, 10003148: 3, 20013773: 1, 10020301: 6, 10003154: 6, 20013780: 3, 10003157: 5, 10019545: 2, 20013790: 6, 10003167: 5, 20013792: 4, 20013793: 7, 10003171: 3, 10003172: 2, 10003173: 9, 20000892: 0, 10003179: 10, 20013807: 3, 10003184: 3, 10003185: 3, 10003195: 8, 10019582: 5, 20013823: 2, 20003617: 0, 10003201: 6, 20003627: 9, 20013831: 2, 10003209: 9, 10003210: 9, 10003219: 5, 10003221: 4, 10003222: 7, 10003223: 8, 20013853: 3, 10003234: 8, 10019619: 8, 10019620: 8, 20013861: 4, 10019622: 12, 10003243: 1, 10003245: 11, 10003248: 6, 10003252: 4, 10003254: 16, 10003256: 12, 10003257: 15, 10010873: 9, 20013808: 10, 10003266: 4, 20013891: 3, 10003272: 4, 10019657: 11, 10003274: 12, 10003283: 13, 10003288: 2, 20013919: 8, 10003297: 14, 10019682: 9, 10003299: 1, 10003302: 11, 10003306: 3, 10003307: 10, 10003309: 1, 10012136: 3, 20013938: 13, 10003315: 10, 10012137: 4, 10009784: 13, 10003325: 10, 10019710: 14, 10019711: 14, 10003328: 6, 10003330: 7, 10003335: 3, 10003338: 10, 10006679: 0, 20013964: 8, 20013966: 9, 10003346: 8, 10003352: 9, 10003355: 8, 20013980: 2, 10003357: 10, 10003361: 3, 10011422: 9, 20013990: 2, 10003367: 8, 10003368: 6, 20003655: 11, 10003373: 9, 20014002: 8, 10003380: 11, 10003381: 3, 10003384: 9, 10003385: 14, 10008168: 3, 10019784: 8, 20014026: 11, 10019788: 9, 10019790: 7, 10003413: 8, 20014039: 9, 10003417: 7, 10003419: 8, 20014046: 6, 20003664: 4, 20014052: 7, 20004539: 3, 10003437: 13, 10003444: 10, 10003445: 0, 20003994: 0, 20014072: 13, 10003451: 3, 10003457: 0, 10006699: 3, 20004819: 8, 10003463: 8, 10003465: 2, 20003671: 1, 20014094: 13, 10003473: 2, 10003477: 0, 20011865: 6, 10019871: 2, 10006704: 1, 10003492: 0, 20014118: 9, 20014119: 4, 10019886: 2, 20014130: 11, 10003507: 10, 10019893: 2, 10003514: 2, 10019901: 13, 10019902: 5, 20003680: 2, 10003528: 5, 10003532: 9, 20014157: 14, 10003535: 8, 20003683: 10, 10012174: 9, 10003543: 1, 10003983: 1, 10003550: 0, 10003553: 5, 10003555: 17, 10003559: 12, 10003562: 5, 20003687: 12, 10003565: 8, 10003568: 1, 10003569: 3, 20006419: 3, 20001816: 2, 20014612: 14, 10009247: 4, 20014207: 8, 20014210: 7, 10003598: 2, 10003601: 2, 10003604: 8, 10003606: 9, 20014234: 3, 10003611: 0, 10003612: 0, 10003617: 0, 10003619: 12, 10003621: 2, 10003627: 9, 20003698: 12, 10003630: 14, 10003634: 0, 10003649: 12, 10003651: 0, 10003654: 10, 10003655: 11, 10003661: 0, 10003662: 12, 10003663: 3, 10003664: 7, 20014290: 3, 10003670: 5, 10003671: 2, 10003672: 5, 10008159: 7, 10003677: 0, 20014303: 3, 10003680: 0, 10003682: 0, 10003683: 1, 10003687: 10, 10003691: 0, 10003692: 4, 10003693: 1, 20003709: 15, 20014320: 12, 10003698: 1, 20000979: 12, 20003710: 10, 20003457: 0, 10007069: 1, 10003709: 4, 10003710: 14, 10003711: 2, 20014338: 13, 10006742: 4, 10003719: 5, 20004202: 0, 20014345: 8, 10006743: 1, 10004013: 2, 10001283: 14, 20014357: 5, 20014359: 2, 10020120: 11, 10003737: 2, 10003738: 3, 10003740: 4, 10006746: 2, 10003742: 7, 10003745: 2, 20014370: 6, 20009179: 6, 10003748: 0, 10003749: 2, 10003752: 16, 20003719: 7, 20006450: 3, 10003761: 0, 10003764: 2, 20004333: 0, 10003768: 1, 10003770: 6, 10003774: 2, 10003779: 2, 20014407: 5, 10003784: 2, 10003785: 1, 20006455: 9, 10003788: 4, 10003793: 5, 10003794: 2, 10003798: 4, 10003799: 0, 10002162: 0, 10003803: 1, 10003805: 1, 10003810: 1, 10012219: 11, 10003812: 3, 20010553: 9, 10003822: 0, 10003823: 1, 10003825: 1, 10003826: 12, 10003829: 2, 10003830: 3, 10003832: 2, 10003833: 0, 10003836: 2, 10003839: 0, 20005644: 2, 10003848: 1, 10020234: 2, 10003851: 3, 10004034: 0, 10003855: 7, 10003857: 12, 10003859: 0, 10003860: 2, 10003862: 1, 10003863: 11, 10003864: 1, 10003867: 0, 20014492: 11, 10003872: 0, 10003873: 7, 10003878: 6, 10003881: 3, 10003887: 6, 10020272: 11, 10020276: 7, 10020277: 6, 10003895: 6, 10003897: 2, 10003898: 3, 10003902: 12, 20014528: 15, 10003905: 2, 10003908: 0, 20014533: 10, 10003915: 3, 10003917: 0, 10003918: 0, 10012238: 7, 20014550: 7, 10007945: 0, 20003748: 2, 20014554: 3, 10003931: 0, 10003933: 9, 10003934: 1, 10003938: 0, 10003939: 16, 10003940: 8, 10017702: 10, 10003944: 1, 10003945: 5, 10003946: 4, 10003948: 8, 10006781: 3, 10003954: 0, 10006782: 9, 10008714: 8, 10001321: 5, 10003964: 11, 10001322: 2, 10003969: 14, 10003971: 15, 10003972: 0, 10003976: 2, 10012247: 6, 10006786: 6, 20014607: 13, 10004056: 0, 10003987: 11, 10003988: 0, 10003994: 0, 20014619: 15, 10003996: 3, 10003997: 5, 20014622: 9, 10004000: 0, 10001328: 7, 20014626: 1, 20014629: 7, 10004007: 11, 20014632: 6, 20014637: 4, 10004017: 0, 10004022: 0, 10004025: 6, 20014650: 15, 10004033: 1, 20014658: 8, 10004036: 5, 10004039: 12, 10006796: 6, 10004042: 3, 10004043: 3, 10006797: 3, 10004049: 1, 10004050: 4, 10004054: 5, 10020440: 12, 20014682: 8, 10004059: 15, 10004061: 3, 10004065: 1, 20014690: 4, 10004067: 1, 10004068: 1, 10007081: 5, 10004071: 8, 10004075: 10, 10004076: 3, 10004077: 4, 10004078: 0, 10020464: 8, 10004088: 4, 10004095: 2, 20014723: 12, 20014727: 8, 20014729: 8, 10004106: 0, 10004107: 0, 10001346: 5, 10004111: 1, 10004115: 1, 10004116: 0, 10004118: 10, 10004121: 1, 10004122: 5, 10004123: 4, 10020509: 16, 10004128: 1, 10004129: 0, 10004130: 3, 10004131: 2, 10004133: 8, 10012273: 2, 20004017: 3, 10004139: 2, 10004140: 2, 10012274: 13, 10006209: 3, 10004144: 1, 20003784: 0, 10004146: 0, 20014772: 2, 10004150: 2, 20003785: 0, 10020536: 15, 10004153: 0, 10004155: 0, 10004156: 0, 10004158: 13, 10004159: 0, 10010903: 2, 10004161: 0, 10004163: 0, 10004164: 4, 10004165: 0, 10004168: 12, 10020553: 11, 10006973: 3, 10004171: 3, 10004177: 2, 10004178: 11, 10004179: 3, 10004180: 1, 10004182: 0, 10004188: 5, 10004191: 0, 10004194: 3, 10012283: 1, 10004197: 11, 20003793: 1, 10004200: 7, 10004201: 13, 10004202: 3, 10004204: 2, 10020589: 9, 10004208: 2, 10004210: 2, 10004211: 0, 10004212: 0, 10004216: 0, 10004218: 1, 10004220: 1, 10004221: 3, 10004222: 1, 10004225: 0, 10004227: 2, 20003798: 12, 10004230: 0, 10004234: 9, 10020620: 6, 20014861: 6, 20001069: 17, 10004243: 2, 10004245: 10, 10004249: 3, 10004250: 3, 10020636: 8, 10004253: 1, 10004255: 0, 20014881: 2, 10004258: 12, 20003803: 2, 10004261: 6, 10015025: 4, 10004270: 1, 10004272: 2, 10004278: 8, 10012297: 0, 10004280: 3, 10004282: 0, 10004284: 1, 10004288: 0, 10004290: 15, 20004756: 3, 10004292: 0, 10004293: 12, 10004294: 9, 10004296: 2, 10004299: 0, 10004300: 17, 20014925: 2, 10004303: 0, 10004306: 3, 10004307: 11, 10004308: 0, 10004309: 0, 10004310: 3, 10001380: 4, 10004315: 2, 10004316: 2, 10004317: 0, 10004318: 5, 10006974: 7, 10004324: 2, 10004326: 12, 20009276: 4, 10004331: 10, 10004332: 0, 10004333: 0, 10004337: 0, 10004338: 1, 10004339: 3, 10004340: 0, 10004344: 0, 10004345: 0, 10004347: 0, 20014972: 6, 10004352: 3, 10020737: 13, 10004354: 12, 10004355: 0, 10004356: 5, 10004358: 3, 10004362: 3, 20006551: 3, 10004364: 12, 20014994: 5, 10004371: 4, 20003822: 2, 10004377: 12, 10004378: 5, 10004380: 3, 10004381: 0, 10004382: 0, 10004385: 7, 10004386: 7, 10004387: 12, 20015012: 2, 10004391: 2, 10004393: 0, 20015019: 5, 10004396: 9, 10004397: 2, 20015025: 2, 10004403: 12, 10004404: 7, 10004405: 0, 10004406: 1, 10004407: 1, 10004408: 13, 10004411: 0, 20015036: 5, 10004413: 13, 10004416: 3, 10004417: 6, 10004420: 5, 10004421: 0, 10004423: 0, 10004424: 2, 10004427: 0, 10004431: 0, 20003832: 0, 10004435: 0, 10004438: 0, 20003833: 1, 10004442: 3, 10004443: 0, 10004446: 0, 10004447: 6, 10004448: 13, 10004450: 14, 10004454: 0, 10004455: 5, 10004456: 6, 10004457: 3, 10004466: 0, 10004468: 1, 20007847: 3, 10004471: 5, 10004472: 0, 10004474: 5, 10001557: 3, 10004478: 0, 20015103: 18, 10004480: 0, 20015105: 10, 10004485: 0, 10004489: 0, 10004491: 2, 20015118: 2, 10004496: 1, 10006872: 3, 10004499: 0, 10004500: 1, 10004501: 7, 10004503: 2, 10004504: 0, 10004505: 1, 20008801: 9, 10004508: 1, 10004510: 0, 10004513: 3, 10004515: 1, 10004516: 2, 10004517: 3, 10004518: 3, 10004522: 1, 10004523: 6, 10004525: 15, 10004526: 4, 20003848: 11, 10004532: 1, 20015160: 11, 10004537: 2, 10004538: 1, 10004539: 0, 10004542: 0, 10004544: 0, 10004545: 0, 10004547: 0, 10004548: 2, 10004549: 1, 10004551: 4, 10004557: 2, 10004558: 1, 10004152: 0, 10004564: 1, 10004568: 3, 10004574: 1, 10004575: 0, 10004576: 2, 10004577: 0, 10004580: 0, 10004581: 4, 10004583: 1, 10004593: 1, 10004594: 3, 10004595: 9, 10004600: 0, 10004605: 0, 10004606: 3, 10004607: 0, 10004608: 0, 20003243: 0, 10004612: 4, 10004613: 0, 10004614: 2, 10004615: 11, 10004617: 3, 10004619: 2, 20004454: 2, 10004621: 3, 10004622: 4, 10004623: 0, 10004624: 0, 10004625: 3, 10004626: 1, 10004629: 1, 10004630: 1, 10004631: 0, 10004632: 2, 10004634: 7, 10004636: 1, 20015261: 6, 10004638: 4, 10012357: 8, 10004641: 5, 20015266: 8, 10004643: 5, 10004648: 1, 10004649: 3, 10004651: 1, 10004652: 3, 10004654: 0, 20006600: 6, 10006758: 4, 10004659: 1, 10004660: 3, 20004580: 2, 20004827: 4, 10004663: 3, 10004664: 0, 10004665: 9, 20015291: 8, 10004668: 1, 10004669: 0, 10015093: 13, 10004673: 1, 10004674: 0, 10004676: 0, 10004677: 1, 10004679: 0, 20003736: 0, 10004682: 0, 10004685: 4, 10004687: 1, 10004689: 0, 10004690: 0, 10004692: 1, 10004693: 0, 20004107: 0, 10004700: 7, 10004702: 1, 10004704: 1, 10004705: 12, 10004709: 4, 10004710: 7, 10004714: 1, 10004716: 0, 10004719: 1, 10004720: 1, 10004723: 2, 10004724: 3, 10021109: 1, 10004727: 0, 10004728: 0, 10004730: 2, 20009343: 6, 10011123: 5, 20015357: 11, 10004734: 3, 10004737: 0, 10008740: 2, 20014806: 3, 10015105: 14, 10004744: 0, 10004746: 1, 10004747: 5, 10004754: 2, 10004755: 5, 10004756: 1, 10004761: 1, 20001310: 4, 20003887: 3, 10004765: 2, 10004768: 1, 10004769: 0, 10004770: 1, 20002209: 5, 10004772: 5, 10004774: 3, 10004775: 0, 10004776: 0, 10004778: 9, 10004779: 2, 10004781: 1, 10004782: 14, 10004783: 1, 10004784: 2, 10004788: 4, 10004790: 4, 10004793: 5, 10004794: 1, 10004795: 0, 10004798: 2, 20015423: 9, 10004800: 3, 10012384: 13, 10006923: 8, 10004804: 1, 10004806: 0, 10004809: 1, 10004812: 3, 10004815: 1, 10004816: 1, 10004819: 4, 10004822: 1, 10004824: 1, 10004827: 0, 20003898: 0, 10004830: 1, 10004838: 1, 10004840: 4, 10004841: 3, 10004844: 1, 10004848: 2, 10004849: 11, 10004850: 0, 10006931: 1, 10004853: 1, 10004854: 14, 10004860: 2, 10004863: 2, 10004865: 3, 10004866: 0, 10004869: 2, 10004870: 1, 10004871: 0, 10004872: 1, 10004873: 1, 10004875: 1, 10004877: 2, 10004205: 13, 10004880: 0, 10004883: 14, 10004889: 11, 10004890: 0, 10004892: 1, 10004893: 1, 10004894: 10, 10004895: 2, 10004896: 1, 20015521: 2, 10004898: 6, 10004899: 1, 10004900: 10, 20015525: 9, 10004902: 0, 10004903: 0, 10004905: 2, 10004906: 5, 20015531: 10, 10004908: 3, 10021293: 9, 10004912: 13, 10004914: 5, 10004915: 0, 10004918: 1, 10004922: 2, 10004929: 2, 10021314: 9, 10004931: 2, 10004932: 4, 20015557: 10, 10004934: 3, 10004935: 5, 10004936: 2, 10004938: 4, 10004939: 5, 10004941: 1, 10004942: 0, 10004943: 4, 10004944: 1, 10004945: 1, 10004946: 0, 10004947: 0, 20015573: 6, 10004950: 2, 10004951: 5, 10004954: 3, 10004955: 0, 20015580: 8, 10004958: 1, 20015583: 5, 10004960: 1, 10004961: 1, 10004962: 0, 10012411: 5, 10004964: 1, 10004965: 0, 10004966: 5, 10004968: 9, 10004969: 0, 10004971: 3, 10004974: 0, 10004975: 7, 10004980: 3, 10004981: 0, 10004983: 1, 10004984: 4, 10004985: 3, 10004986: 2, 10004987: 1, 10004988: 0, 10004989: 3, 10004990: 3, 10004992: 0, 10012416: 3, 10004994: 1, 10004996: 1, 10004997: 4, 10004998: 2, 10004999: 1, 10005000: 3, 10005002: 7, 10005004: 4, 10009840: 10, 10005007: 3, 10005009: 0, 10005010: 3, 10005011: 3, 10005013: 0, 10005016: 0, 10005022: 2, 10005025: 0, 10005026: 1, 10005031: 2, 10005033: 0, 10005034: 3, 10005035: 13, 10005036: 11, 10005037: 5, 10005040: 1, 10005042: 1, 10005044: 0, 20003934: 0, 10005046: 3, 20004284: 2, 10005048: 2, 20004593: 0, 20004793: 3, 10005053: 10, 10005054: 1, 10005055: 1, 10005057: 0, 10005058: 1, 10005059: 0, 10005060: 0, 10005061: 3, 10005064: 0, 10005065: 9, 10005066: 0, 10005069: 0, 20015694: 6, 10005071: 0, 10005073: 3, 20015698: 12, 10005075: 3, 10005077: 6, 10005078: 0, 10005079: 1, 20015704: 8, 20003940: 4, 10005082: 0, 10005083: 15, 10005084: 0, 10005086: 3, 10005088: 1, 10005089: 2, 10005090: 8, 10005091: 5, 20015717: 5, 10005095: 0, 20015721: 9, 10005098: 3, 10005099: 2, 10005101: 13, 10005103: 8, 20015729: 11, 10005106: 1, 10005109: 0, 10005110: 1, 10005111: 0, 10005112: 2, 10005113: 2, 10005115: 1, 20015741: 3, 10010478: 9, 10005125: 3, 20015754: 4, 10005131: 7, 10005135: 1, 10012440: 3, 10005140: 1, 10005143: 0, 10005148: 0, 10005151: 2, 10005152: 10, 10001520: 15, 10005154: 2, 10012443: 1, 10005157: 0, 10005160: 1, 20015785: 4, 10005164: 5, 10005166: 2, 10005167: 1, 20015792: 11, 10005169: 1, 10005170: 0, 10005171: 1, 10005172: 2, 10005174: 0, 10005175: 2, 10005176: 4, 10005177: 2, 10005180: 0, 10005183: 1, 10005185: 5, 10005186: 0, 10006987: 8, 10021572: 7, 10004257: 4, 10005192: 1, 10005198: 0, 10005203: 0, 10005204: 1, 10005205: 6, 10005207: 2, 10005209: 2, 10005210: 5, 10005212: 3, 10021601: 7, 10005218: 1, 10005219: 1, 10012454: 5, 10005222: 0, 10005223: 0, 20015848: 9, 10005225: 2, 10005226: 8, 10005227: 1, 10005229: 6, 20015856: 11, 10005233: 3, 10005234: 1, 10005238: 1, 10005244: 4, 10005245: 0, 10005246: 2, 10005249: 1, 10005251: 4, 10005252: 3, 10005254: 2, 20015879: 5, 10005260: 3, 10005261: 6, 10005263: 0, 10005267: 14, 10005270: 2, 10007001: 7, 10005272: 1, 20015897: 10, 10005274: 0, 10005275: 0, 10005276: 5, 10005278: 0, 10017925: 5, 10005281: 0, 10005284: 3, 10005285: 4, 10005287: 1, 10005289: 1, 20015914: 11, 10005292: 0, 10005297: 8, 10005298: 6, 10005302: 0, 10005303: 1, 10005305: 1, 20004056: 0, 10005310: 1, 10005311: 0, 10005312: 2, 10005315: 0, 10005316: 4, 20014902: 7, 10011236: 12, 10005319: 1, 10005321: 4, 10005322: 7, 10005325: 15, 20015950: 2, 10005328: 3, 10005329: 4, 10005331: 1, 10005332: 1, 10005333: 4, 10005336: 1, 10005337: 0, 10005338: 2, 10008760: 1, 10005340: 1, 20015965: 17, 10005343: 0, 10005344: 1, 10006578: 3, 10005348: 3, 20015973: 10, 10005352: 1, 10005355: 3, 10005356: 6, 20012178: 9, 10005359: 2, 10005360: 2, 20015985: 3, 10005362: 1, 10005363: 1, 10005365: 3, 20003195: 9, 10005367: 0, 10005372: 4, 10005373: 0, 10005374: 3, 10005375: 3, 10005376: 1, 10005379: 7, 10005380: 3, 10005382: 6, 10005384: 8, 10005388: 4, 10005389: 6, 10005392: 1, 10005394: 1, 10005395: 2, 10005397: 1, 10005399: 1, 10012484: 1, 10005403: 4, 10005405: 2, 10005408: 1, 10005409: 0, 20016034: 9, 20004605: 0, 10007025: 6, 10005416: 2, 20003996: 1, 10005418: 2, 20016044: 9, 10005421: 0, 20003997: 7, 10005424: 3, 10005427: 8, 10005429: 1, 10005430: 0, 10005431: 2, 10008509: 13, 10005444: 2, 10005445: 0, 20016070: 6, 10005448: 1, 10005450: 2, 10005451: 2, 10010946: 6, 10008400: 6, 10004301: 0, 10005456: 0, 20016084: 9, 10005461: 2, 20016086: 3, 10005464: 4, 10005465: 1, 20016092: 5, 10021853: 8, 10005471: 4, 10005472: 3, 10007035: 3, 10005476: 1, 10005477: 0, 10005479: 1, 10005480: 0, 10005481: 1, 10005482: 0, 10005483: 12, 10005488: 2, 10005489: 2, 10005490: 13, 10005492: 10, 10005493: 4, 10005494: 1, 10005498: 9, 10005502: 7, 10005503: 0, 10005504: 3, 10005507: 1, 10005509: 0, 10005510: 6, 10005511: 1, 10005516: 2, 10005518: 4, 10005520: 2, 10005521: 0, 20001283: 3, 10005524: 4, 10005525: 6, 10005526: 0, 10005528: 2, 10007044: 2, 20016156: 9, 10005533: 3, 10005534: 0, 10005535: 4, 20014939: 13, 10005540: 1, 20016167: 8, 10005544: 0, 10005545: 5, 10005547: 3, 10005550: 4, 10005551: 1, 10010692: 4, 10005555: 4, 10012510: 11, 10005558: 1, 10005559: 0, 10005560: 1, 10005561: 3, 10005562: 4, 10005565: 4, 10008222: 1, 10005567: 8, 10005569: 2, 10005572: 2, 10005574: 2, 10005576: 2, 10005577: 1, 10005578: 0, 20003742: 5, 10005583: 1, 10005585: 1, 10005588: 0, 10005589: 0, 10005590: 0, 10005591: 15, 10005593: 1, 10005595: 2, 10005596: 2, 10005598: 3, 10005600: 2, 10005604: 1, 10020710: 2, 10005607: 1, 10005608: 1, 10005609: 1, 10005612: 2, 10005616: 5, 10005618: 0, 20016243: 7, 10005626: 4, 20016251: 9, 10005630: 4, 10005633: 3, 10005634: 2, 10005635: 4, 10007062: 1, 10005639: 1, 10005640: 3, 10005641: 0, 10005642: 12, 10005644: 1, 10001309: 7, 10007064: 3, 10005652: 8, 10005655: 4, 10005658: 4, 20016283: 6, 10005660: 0, 10005662: 4, 10005663: 2, 10005666: 3, 10005669: 1, 20007887: 9, 10020721: 2, 10005672: 1, 10005673: 3, 20004039: 15, 10005676: 2, 20015836: 7, 20009501: 7, 10005681: 1, 20016306: 6, 10005685: 1, 20016311: 6, 10005688: 5, 20016313: 7, 10005690: 2, 10005694: 0, 10005697: 2, 20016323: 5, 10022086: 14, 10005705: 1, 10005708: 0, 20016333: 8, 10005710: 3, 10005711: 2, 20004615: 7, 10005713: 1, 10005719: 12, 10005720: 1, 10005722: 3, 10005726: 2, 10005728: 2, 10005734: 1, 20004049: 2, 10005736: 5, 10005737: 1, 10005739: 3, 10005751: 4, 10005753: 1, 10005755: 3, 10007082: 6, 10005758: 7, 20004071: 12, 10005761: 0, 10005763: 2, 10005764: 1, 10005765: 1, 10005766: 0, 20016391: 5, 10005768: 3, 10005769: 7, 20016394: 3, 10005773: 1, 10005776: 0, 20020440: 8, 10005778: 2, 10005779: 5, 10005781: 3, 10005782: 2, 10005784: 8, 10005785: 2, 10005786: 7, 10005787: 4, 10005788: 1, 10005790: 1, 10011693: 9, 10005792: 11, 10007088: 4, 10005794: 4, 20004059: 14, 10005799: 3, 10005802: 1, 10005804: 2, 10005805: 3, 10005807: 2, 10005808: 1, 10005809: 1, 10005810: 3, 10005811: 4, 10005812: 2, 20016437: 10, 10005814: 5, 10005815: 4, 10005817: 1, 20011927: 2, 10005821: 1, 10005824: 3, 10004363: 3, 10022212: 7, 10005829: 5, 10005830: 6, 10005831: 0, 20004619: 3, 20016457: 8, 10005835: 1, 10005836: 1, 20016462: 5, 10005839: 0, 10005841: 5, 10005842: 3, 10005843: 2, 10005848: 2, 10005849: 3, 20007893: 4, 10005852: 3, 10005854: 4, 20009531: 7, 10005860: 2, 10005861: 5, 10005863: 1, 10005866: 0, 10005867: 6, 10005869: 0, 10005871: 0, 10005873: 2, 10005877: 2, 10005878: 1, 10005880: 4, 10005881: 4, 10005882: 2, 10005883: 2, 20012266: 14, 10005886: 1, 10005887: 2, 10005888: 3, 20012267: 4, 10005892: 5, 10005893: 13, 10005894: 2, 10005895: 6, 20004076: 5, 20000138: 2, 10012567: 10, 10005900: 1, 10005902: 2, 20016529: 10, 10005906: 7, 10007107: 5, 10005908: 6, 10005909: 3, 10005910: 2, 10005911: 0, 20016538: 2, 10005915: 1, 20016540: 6, 20016541: 5, 10005918: 3, 10005919: 3, 10005920: 1, 10005921: 2, 20004622: 0, 10005926: 1, 20016552: 3, 10005930: 4, 10005932: 2, 20016557: 6, 20016559: 9, 10005939: 4, 10005940: 1, 10017896: 10, 10005942: 3, 10007113: 12, 10005945: 0, 10005948: 2, 10005949: 0, 10005950: 2, 20016575: 5, 10005952: 4, 20000193: 13, 10005955: 2, 10005957: 8, 20016582: 9, 10005959: 0, 10005960: 1, 10003166: 13, 10005968: 10, 10005969: 4, 20016594: 2, 20000212: 4, 10005973: 6, 10005974: 2, 10005976: 0, 10005977: 1, 10005978: 10, 20016603: 9, 10005980: 3, 10005981: 6, 10005982: 7, 20000223: 17, 20016608: 6, 10007120: 6, 10005986: 2, 20016611: 15, 20016612: 14, 10005989: 2, 10005990: 3, 10005991: 5, 10005994: 2, 10005997: 0, 10006002: 2, 20009555: 10, 10006004: 12, 20015017: 2, 10006010: 1, 20004095: 2, 20016636: 9, 10006013: 3, 10006015: 3, 10006016: 10, 10006017: 0, 10006018: 2, 10006019: 3, 10006020: 2, 10006021: 0, 10006025: 4, 10006028: 2, 10006031: 2, 20000273: 2, 10006034: 2, 10006036: 3, 10006039: 3, 10006040: 5, 10006041: 3, 10006042: 3, 10006044: 1, 20016669: 11, 10006046: 1, 10006047: 3, 10006048: 3, 10006049: 2, 10006050: 4, 10006053: 1, 10006055: 4, 10006056: 2, 10006058: 7, 10006060: 5, 10006061: 12, 10006062: 5, 10006064: 3, 10018056: 2, 10006066: 3, 10012595: 2, 20016692: 10, 10006070: 0, 10006073: 1, 20016698: 9, 10006075: 11, 10006078: 14, 10006081: 3, 10006082: 1, 10006083: 2, 10006084: 4, 10006086: 8, 10006090: 1, 10006093: 6, 20000334: 4, 10006095: 1, 10006098: 2, 10006099: 2, 10006101: 4, 10006103: 0, 10011134: 10, 10006105: 6, 10006106: 6, 10006109: 1, 10006114: 8, 10006117: 8, 10006118: 5, 10006119: 0, 10006121: 5, 20016746: 14, 10006123: 8, 10006130: 0, 10006131: 3, 10006137: 4, 10006138: 2, 10007146: 5, 10006142: 12, 20016768: 4, 10006145: 3, 10006147: 4, 10006149: 4, 10006151: 4, 10006152: 0, 10006153: 5, 20012311: 0, 10006156: 1, 20000398: 1, 10006160: 2, 20016785: 5, 10006162: 3, 10006163: 12, 20016793: 15, 10006170: 2, 10007151: 5, 10006172: 1, 10006173: 4, 10006174: 4, 10006175: 1, 10006176: 8, 20000418: 8, 10006180: 1, 20016809: 5, 10006190: 3, 10006191: 0, 10006192: 3, 20015048: 12, 10006194: 6, 20016819: 9, 10006197: 1, 10006199: 2, 10006203: 6, 10006205: 0, 10006206: 3, 20016831: 10, 10006208: 2, 20016833: 4, 20016834: 5, 10006211: 3, 10006212: 4, 10006214: 1, 10006215: 6, 10007159: 4, 20004130: 0, 10006222: 2, 20000463: 10, 10006224: 5, 10006227: 4, 10006229: 2, 10006231: 3, 10006232: 1, 10006233: 3, 10006235: 1, 20016860: 2, 20002182: 14, 20000473: 13, 20004133: 7, 10006240: 1, 10006242: 4, 10006243: 5, 10006244: 2, 10006245: 1, 10010785: 10, 10006249: 10, 10006250: 6, 20016875: 2, 10006252: 3, 10006253: 1, 10006254: 2, 10006255: 6, 10006256: 4, 10006257: 4, 10006258: 5, 10006259: 12, 10006260: 4, 10006261: 1, 10006262: 4, 20016055: 7, 10006264: 2, 10006265: 3, 10006266: 2, 10022651: 12, 10006269: 7, 10006270: 3, 10006271: 4, 10006275: 5, 10006277: 4, 10006278: 2, 20016903: 7, 10006281: 8, 10006282: 3, 10022667: 6, 10006286: 1, 10006287: 3, 10006288: 3, 10012632: 5, 10006290: 2, 10006295: 8, 10006296: 1, 10006299: 4, 10006302: 4, 10006304: 5, 10006305: 3, 10006306: 2, 10006307: 1, 10006310: 6, 10006311: 5, 10006314: 3, 10006315: 1, 10006317: 4, 10006322: 1, 20000563: 6, 10006325: 3, 10006326: 2, 20016952: 9, 10006332: 0, 10007178: 5, 10006334: 4, 10006336: 1, 10006339: 3, 10006340: 4, 10006341: 4, 10006342: 1, 10006344: 3, 10006347: 0, 10006348: 3, 10009912: 5, 10006354: 8, 20000595: 8, 20016981: 6, 10006359: 2, 20016986: 13, 10006365: 1, 20000609: 17, 10006370: 8, 10006371: 0, 20000612: 13, 10020838: 2, 10006374: 2, 10006375: 2, 20017000: 5, 10006377: 3, 10006378: 2, 10006379: 9, 10006381: 8, 20000622: 9, 10006383: 5, 10012648: 8, 10006386: 5, 20000628: 4, 20004158: 12, 20004159: 4, 10011523: 6, 10006397: 3, 20000638: 13, 20017023: 12, 20017024: 12, 10006402: 7, 20017027: 6, 20017030: 10, 20004161: 0, 10006409: 2, 20017034: 15, 10006414: 6, 10022799: 7, 10006417: 1, 10006418: 0, 10006419: 3, 20000661: 6, 10006422: 3, 20009625: 6, 10006424: 6, 10006427: 5, 20000670: 12, 10006433: 4, 10006434: 2, 10006436: 6, 10006437: 2, 10006441: 2, 10006446: 4, 10006447: 2, 10006448: 13, 10006450: 1, 10006451: 3, 10006452: 1, 10006455: 13, 10006456: 11, 10006457: 9, 10006458: 2, 10006459: 5, 10006461: 2, 10006462: 1, 20015093: 9, 10006467: 6, 10006468: 6, 10006470: 0, 10006472: 1, 10006474: 5, 10006475: 2, 10006476: 2, 10007202: 5, 10006478: 1, 10006480: 8, 20000721: 12, 20017106: 10, 10006487: 1, 10006491: 3, 10006492: 6, 20004641: 1, 10006497: 4, 10006498: 4, 20014004: 5, 20000740: 11, 10006502: 4, 10006503: 3, 20017129: 7, 10007207: 2, 10006508: 2, 20010404: 8, 10006510: 1, 10006511: 2, 10006513: 1, 10006514: 6, 10006515: 0, 10006516: 7, 10007209: 0, 10006520: 0, 10006521: 3, 10006523: 4, 10006524: 0, 20017149: 7, 10006527: 5, 10010982: 0, 10006537: 3, 10006539: 6, 20017165: 4, 20017166: 12, 10006543: 2, 20000784: 12, 10006547: 1, 10006548: 2, 10006551: 1, 10006553: 2, 20000798: 3, 20000799: 11, 20017184: 13, 20017186: 8, 10006564: 6, 10006565: 6, 10006566: 3, 10006568: 1, 20017193: 11, 10006570: 2, 20017195: 8, 10006573: 1, 10006575: 4, 20000816: 15, 10022962: 2, 10006580: 5, 10006585: 2, 10006589: 4, 10006591: 1, 10006592: 5, 20000834: 14, 10006595: 13, 10006597: 3, 10006598: 7, 10006600: 1, 10006601: 3, 10006602: 1, 10006603: 0, 20000845: 2, 10006606: 3, 10006607: 2, 10006608: 1, 20001464: 5, 10006612: 3, 10006616: 2, 20017241: 2, 20017245: 7, 20017246: 8, 10006623: 3, 10006624: 4, 10006625: 11, 10006627: 3, 20017252: 14, 20017253: 10, 20000874: 7, 10006635: 1, 10006636: 4, 20000877: 12, 20017262: 9, 10006641: 2, 20017267: 7, 10006644: 9, 20000885: 6, 10006647: 3, 10006648: 5, 10006650: 6, 10006651: 2, 20017276: 5, 10006653: 4, 10006655: 5, 10006656: 8, 20017282: 11, 20017284: 5, 10006661: 2, 10006662: 3, 20017288: 10, 10006665: 2, 10006671: 1, 10006672: 4, 10006673: 4, 10006674: 4, 10006675: 2, 10006676: 1, 20012398: 7, 10006678: 5, 20000919: 12, 10006680: 9, 10006681: 2, 10006684: 0, 10006685: 2, 20017310: 6, 20000927: 6, 20000933: 10, 10006694: 9, 10006696: 5, 10012700: 5, 10006698: 2, 20000939: 5, 10006700: 9, 10006701: 1, 10006702: 2, 20017328: 9, 10006705: 3, 10008260: 2, 20017333: 7, 10006713: 0, 10006714: 2, 10006715: 4, 20017342: 8, 10006722: 3, 10007243: 6, 10006724: 3, 20017349: 9, 10006730: 0, 10006732: 5, 10006734: 3, 10006735: 1, 10006736: 0, 10006737: 3, 10006738: 3, 10006739: 3, 20017366: 12, 10010989: 3, 10006744: 3, 10006745: 12, 20000986: 6, 10006747: 4, 10006750: 10, 10006751: 1, 10006752: 2, 10006755: 0, 10006756: 2, 20000998: 3, 10007249: 2, 10006760: 0, 20004220: 0, 10006765: 1, 10008577: 3, 10006768: 3, 10006771: 3, 20001012: 5, 10006774: 13, 10006775: 2, 10006776: 6, 20001020: 6, 20015146: 17, 20017406: 2, 10006783: 1, 10006784: 3, 20017410: 11, 10006787: 6, 10006788: 1, 20001029: 13, 10006790: 2, 10006791: 2, 10006794: 6, 10006795: 5, 20001036: 5, 20017421: 8, 10006798: 3, 10006799: 1, 10006800: 1, 10006801: 6, 10006802: 2, 10012718: 8, 10006806: 4, 10006807: 0, 10006808: 3, 20017433: 6, 10006810: 8, 10006813: 6, 10006814: 2, 20002133: 0, 10006816: 8, 20001063: 9, 10006824: 4, 10006825: 4, 10006829: 5, 10006830: 4, 10006831: 1, 20017457: 4, 10006835: 9, 10006837: 5, 10006839: 1, 10006840: 3, 10006842: 7, 20017467: 5, 10007719: 4, 20001087: 9, 10006849: 4, 20001090: 10, 10006852: 3, 20017480: 8, 10006857: 2, 20017482: 5, 10006859: 3, 10006861: 2, 10006863: 4, 10006864: 4, 10004536: 0, 10006867: 5, 10006870: 7, 10008811: 5, 20001112: 3, 10006881: 4, 20017508: 5, 10006885: 6, 10006887: 6, 10006888: 2, 10006892: 2, 20017517: 7, 20001135: 1, 20017520: 12, 20017521: 13, 20004243: 0, 20017525: 2, 10006902: 4, 10006903: 2, 10006905: 1, 10006906: 4, 10006907: 6, 10006909: 2, 10006911: 3, 10006912: 5, 10018087: 5, 20001154: 3, 10006915: 3, 20017543: 12, 10006921: 0, 20017547: 13, 10006925: 1, 20001166: 0, 10005682: 0, 20012440: 6, 20004630: 1, 20001171: 4, 10006935: 3, 10006936: 3, 10006938: 2, 10006939: 2, 10006940: 5, 10006943: 2, 10006944: 5, 20001520: 15, 10006946: 4, 20012443: 2, 10006949: 4, 10006950: 5, 10006951: 7, 20017576: 8, 10006953: 3, 10006954: 5, 20013931: 8, 10006956: 5, 10006957: 2, 10006958: 0, 10006960: 2, 10006964: 2, 10010014: 6, 10006966: 11, 10006967: 4, 10006968: 1, 10006969: 7, 10006970: 3, 20004255: 3, 20000838: 0, 10012746: 2, 20000587: 15, 10006977: 2, 10006978: 2, 20001220: 17, 20017606: 8, 20016312: 6, 10006985: 3, 10006986: 3, 20009719: 6, 20001229: 6, 10006993: 4, 10006994: 4, 10006996: 3, 10007000: 2, 20017625: 8, 10007003: 1, 10007004: 3, 10007005: 3, 20004261: 8, 10007008: 2, 10007009: 7, 10007011: 2, 10007012: 3, 10007013: 5, 10007014: 1, 10004561: 1, 20001257: 2, 10007018: 6, 10010920: 13, 10007021: 1, 10007022: 4, 20017648: 12, 20017649: 7, 10007026: 4, 10007028: 1, 10007030: 0, 10007031: 6, 20017659: 2, 10007037: 5, 10007038: 0, 10007042: 7, 20017667: 6, 10002270: 3, 20001285: 2, 20001286: 6, 10007049: 5, 10007050: 8, 10007051: 0, 10007054: 7, 10012760: 3, 20001299: 12, 10007061: 2, 20001302: 10, 20001303: 11, 20001304: 1, 10007065: 4, 20015536: 8, 20001309: 3, 10007070: 4, 10007071: 5, 10007076: 8, 20017702: 9, 10007080: 5, 20001321: 3, 20001322: 4, 10007084: 5, 20017711: 14, 20001328: 1, 10007089: 4, 10007091: 2, 10007096: 3, 10007098: 10, 20001343: 8, 10007104: 14, 20001346: 12, 20017731: 8, 20004278: 5, 20001350: 7, 20015201: 11, 20001353: 8, 20001354: 19, 10007115: 11, 10011547: 8, 10007118: 0, 10007119: 5, 20017744: 8, 10007121: 5, 20001364: 6, 10007126: 3, 20017754: 8, 10007132: 13, 10007134: 3, 20001376: 7, 10007138: 7, 20001379: 11, 20001380: 13, 10007141: 13, 20012476: 0, 20017770: 11, 10007149: 3, 10007150: 3, 20001391: 3, 10007152: 2, 10007153: 3, 10007154: 4, 20001396: 2, 10012094: 5, 20001400: 2, 10007161: 2, 20001402: 0, 10007163: 2, 10007164: 9, 20017790: 16, 10007317: 6, 10007170: 1, 10007171: 3, 10007172: 3, 20017798: 6, 10007175: 7, 20001418: 1, 10007179: 5, 20001420: 2, 20004290: 10, 20017806: 8, 10007184: 0, 10007185: 4, 10007186: 4, 10007187: 4, 20017813: 8, 10007321: 3, 20017816: 13, 10018244: 14, 10015514: 8, 10007201: 5, 20001442: 9, 10007205: 7, 10007206: 6, 10012785: 1, 20001449: 8, 10007211: 13, 10007212: 3, 10007213: 3, 10007214: 5, 20001455: 2, 20001456: 10, 20004844: 0, 20003862: 0, 10010699: 12, 20001462: 10, 10007223: 4, 10007224: 6, 20001467: 10, 10007229: 0, 10007230: 2, 10007231: 6, 20001476: 9, 10007238: 2, 20017863: 7, 10007242: 6, 10012791: 7, 20001485: 15, 10018253: 2, 20017873: 16, 10007250: 4, 10007251: 2, 10007252: 10, 10007253: 9, 10007254: 3, 10007255: 5, 10007257: 2, 20017884: 13, 20001503: 5, 10007265: 3, 10011552: 10, 20004517: 1, 10007270: 6, 20017896: 8, 10007273: 9, 20001517: 7, 10007278: 2, 10012797: 16, 10007280: 10, 10007281: 7, 20001522: 7, 10007283: 4, 20001525: 15, 10011140: 3, 20004308: 1, 10007290: 3, 20011760: 10, 20001536: 7, 20001540: 10, 20017925: 8, 10007303: 1, 20001544: 7, 20017929: 13, 10007306: 12, 20001547: 8, 10007308: 8, 10007189: 2, 10007313: 9, 20017938: 12, 10007316: 5, 20001557: 6, 20017942: 16, 10010073: 5, 20017945: 10, 10007322: 2, 10007323: 3, 10007324: 4, 10007326: 4, 10007329: 6, 10007331: 3, 10005553: 1, 10007334: 5, 10007335: 5, 10007339: 6, 10007340: 7, 10007341: 0, 10007342: 2, 10007343: 4, 10007344: 6, 10007345: 3, 10007348: 7, 10013737: 8, 10007350: 5, 10007351: 2, 20017976: 9, 20003972: 3, 10007355: 4, 10012810: 3, 10007349: 4, 20017986: 4, 10007364: 3, 20001605: 1, 10007366: 3, 20017991: 14, 10007369: 2, 10019739: 5, 10007373: 1, 20001615: 3, 20001617: 2, 10007382: 4, 10007383: 2, 10007385: 3, 20018010: 9, 10007387: 1, 10007388: 0, 20001629: 4, 10007390: 5, 10007391: 4, 20001632: 6, 10007393: 2, 10007394: 3, 20001636: 3, 20020710: 9, 10007399: 10, 20018024: 15, 10007401: 6, 20001642: 0, 10007403: 2, 10007404: 7, 10007406: 4, 20001648: 8, 10007409: 0, 10007411: 2, 20007945: 5, 10007413: 2, 20001655: 3, 20001656: 6, 10007418: 4, 10007359: 7, 10007422: 8, 20018047: 8, 10007425: 4, 20001666: 12, 20001667: 4, 20015254: 7, 10007432: 2, 20004332: 0, 10007434: 5, 20001676: 15, 10007362: 4, 10010093: 6, 10007440: 6, 20001685: 1, 10007446: 0, 10012825: 0, 10007450: 7, 20018075: 3, 10007452: 3, 10005557: 16, 10007454: 5, 20009797: 9, 10007457: 11, 20018083: 5, 10007461: 4, 20018087: 2, 10007464: 1, 10007465: 4, 20018092: 11, 10007469: 13, 10007470: 3, 10007471: 1, 10007472: 5, 10007474: 4, 20004339: 1, 10007476: 2, 10007479: 3, 10007480: 3, 10007481: 3, 10007484: 5, 20001726: 7, 10007487: 5, 10007490: 7, 10007491: 15, 10007493: 0, 10011014: 17, 10007498: 6, 20001740: 7, 20001741: 0, 20001742: 0, 10007503: 10, 10007504: 2, 10007505: 4, 10007506: 3, 20018131: 2, 10007511: 3, 10007512: 1, 20001753: 4, 10007375: 4, 10007516: 3, 20001757: 12, 10007521: 1, 20018146: 13, 20001764: 12, 20001765: 2, 20001766: 2, 10007527: 4, 10007530: 1, 10007531: 4, 10007532: 3, 20018157: 8, 20001774: 4, 10007535: 4, 10007536: 2, 10007538: 3, 20001780: 7, 10007541: 4, 10007542: 0, 10007543: 2, 10007547: 3, 20018172: 10, 10007549: 3, 10007550: 6, 10007552: 4, 10007555: 3, 10007556: 0, 10007557: 8, 20018185: 14, 20001802: 0, 10007563: 5, 10007568: 2, 20018193: 11, 10007570: 14, 20004355: 4, 10007572: 1, 10007573: 10, 10007576: 3, 10012847: 3, 10007581: 2, 20018207: 14, 10012848: 5, 10007586: 4, 10007588: 2, 10013745: 2, 10004657: 2, 10007592: 4, 10003925: 7, 10007596: 0, 10007598: 1, 10007389: 4, 10007600: 3, 20018225: 12, 10007602: 5, 10007604: 1, 20001212: 13, 10007609: 10, 20001852: 8, 10007613: 6, 10007615: 2, 20001858: 11, 10007619: 4, 20018244: 7, 20001633: 3, 10007624: 5, 10007978: 1, 10007627: 10, 10007628: 2, 10007629: 5, 10007630: 7, 10007632: 0, 10007633: 7, 10007634: 5, 10007635: 2, 20001877: 6, 10007639: 3, 10007642: 4, 20001883: 6, 10005905: 2, 20001637: 3, 10007649: 2, 10011688: 6, 10007579: 4, 10007657: 3, 20001902: 7, 10007400: 3, 20004371: 12, 20018294: 2, 10007673: 11, 10004671: 0, 10007676: 7, 10005687: 2, 10007680: 8, 10007681: 4, 20001922: 14, 10007686: 6, 10007687: 3, 10007688: 6, 10007689: 2, 20001930: 5, 20012567: 12, 20001935: 3, 10007696: 4, 10007697: 4, 10007698: 3, 20001939: 6, 10007700: 5, 20018030: 13, 20001943: 9, 10007704: 2, 20015300: 10, 10007707: 6, 10007708: 6, 10007709: 5, 20001950: 8, 10007712: 8, 20001954: 10, 10007715: 6, 10007716: 5, 20001959: 4, 10007722: 1, 10007723: 4, 10007724: 4, 10007725: 3, 20001967: 3, 20001970: 1, 10019751: 8, 10007735: 4, 10007736: 2, 10007412: 7, 10007738: 8, 10010143: 14, 20001981: 10, 10007742: 9, 10007744: 8, 10007745: 5, 10012875: 16, 10007748: 15, 10007749: 3, 10007750: 6, 10007751: 2, 20013412: 2, 10007754: 1, 10015607: 9, 10007756: 3, 20001997: 3, 10007758: 3, 10007760: 4, 10007416: 4, 20002002: 7, 10007764: 2, 10007766: 4, 20002007: 13, 10007770: 3, 10012879: 3, 10008841: 7, 20002016: 8, 10007779: 5, 20002021: 4, 10007782: 8, 10007787: 4, 20002028: 5, 20002030: 4, 10007793: 2, 10007794: 5, 10006248: 2, 20002036: 3, 10007799: 3, 10007801: 2, 10007802: 13, 10007803: 1, 10007804: 0, 10007805: 3, 10007807: 2, 10007808: 4, 20018437: 11, 20018049: 10, 20004396: 15, 10007819: 1, 20002060: 4, 20002065: 10, 10007427: 4, 10007828: 8, 20002070: 1, 10007831: 1, 10007843: 11, 10007844: 4, 20018469: 12, 10007847: 2, 10007848: 13, 10012892: 0, 10007850: 7, 10007852: 3, 20002093: 11, 20018056: 7, 10007858: 5, 10007859: 3, 10007861: 14, 20004404: 5, 20002106: 3, 10007867: 15, 10007868: 2, 20001674: 9, 10007870: 3, 10007872: 7, 10007873: 3, 20018499: 11, 20018500: 11, 10007878: 4, 10007883: 1, 10012898: 2, 20002126: 5, 20018511: 9, 20018515: 2, 10007892: 8, 10007893: 5, 10007895: 0, 10007896: 8, 20018523: 11, 10007901: 1, 10007902: 4, 10007904: 4, 10007905: 15, 10007906: 6, 10007907: 9, 20002148: 5, 10007909: 4, 10007910: 2, 10007911: 2, 10007912: 4, 10007914: 2, 20002155: 5, 10007916: 5, 20002157: 5, 10007918: 6, 10007920: 4, 20002161: 4, 20018546: 8, 20002164: 9, 10007925: 6, 10007926: 4, 10007928: 5, 10007929: 7, 10007930: 6, 20002171: 15, 20018556: 15, 20004689: 0, 10007935: 6, 10007936: 11, 10007937: 16, 10007938: 4, 20002180: 3, 10007942: 4, 20002183: 6, 20018569: 9, 20001687: 4, 10007948: 1, 10002961: 1, 10007952: 0, 10007953: 7, 20018578: 2, 20012611: 14, 20002197: 7, 10007958: 3, 20018583: 5, 20004420: 5, 10007962: 7, 10007963: 6, 10007964: 6, 10007965: 4, 20002206: 4, 10007967: 1, 10007968: 4, 10007969: 1, 20018594: 4, 10007972: 6, 10007977: 4, 20018602: 2, 20002220: 9, 10007981: 1, 20018607: 11, 10007984: 1, 10007985: 4, 10007986: 7, 10007988: 7, 20002230: 0, 10007991: 6, 20002232: 3, 10007994: 14, 10007455: 6, 10007996: 5, 10004725: 7, 10008003: 9, 20002667: 12, 20002249: 2, 10008010: 9, 10008011: 8, 10008012: 1, 20002254: 6, 20002255: 6, 10008017: 7, 10008018: 5, 10008019: 4, 20002260: 6, 20002261: 3, 20004692: 2, 20002265: 3, 10008026: 7, 10008027: 2, 10008030: 12, 10008032: 7, 20002273: 7, 20002275: 0, 20002278: 6, 10008039: 4, 20002280: 0, 10004732: 2, 10008043: 3, 10014279: 14, 10008049: 3, 10008053: 5, 10008055: 0, 10008056: 9, 10008058: 4, 10008060: 5, 20002302: 6, 10008063: 11, 10008065: 14, 10008067: 5, 20018692: 13, 10008069: 5, 10008070: 1, 10008073: 5, 10018391: 2, 20018700: 8, 10008077: 4, 20018702: 9, 20001709: 11, 20002320: 2, 20002321: 15, 10008082: 3, 10008083: 4, 10008084: 8, 20002331: 4, 20004442: 3, 10008094: 4, 10008100: 3, 20002346: 8, 10008108: 4, 20002349: 3, 20002350: 9, 20002351: 9, 10008113: 9, 20002354: 10, 20002356: 5, 10013217: 11, 20018743: 2, 10008121: 6, 20002362: 6, 10008123: 4, 10008126: 3, 10008127: 10, 20012879: 6, 10008132: 3, 10008133: 2, 20015607: 10, 20002377: 8, 20004450: 9, 10008143: 2, 20018771: 13, 10008148: 1, 10020856: 2, 20018775: 8, 20018776: 18, 20002393: 8, 20002395: 11, 10008157: 8, 20018783: 13, 10008160: 3, 10008162: 2, 10008163: 4, 10008164: 4, 20018789: 7, 20018792: 11, 20002409: 5, 10008170: 3, 20015378: 8, 10008179: 9, 10008182: 9, 20002423: 8, 10018607: 10, 10008186: 2, 20002428: 6, 10008189: 4, 20004152: 1, 20002432: 5, 10008193: 6, 10008195: 3, 20002437: 6, 10008198: 6, 10008200: 6, 20018825: 11, 20002445: 14, 20018831: 2, 10008208: 11, 10008209: 8, 10008213: 10, 10011038: 4, 10008217: 13, 10008218: 13, 20002460: 7, 20018846: 2, 10008223: 3, 10008224: 8, 20002465: 9, 10008226: 5, 20002467: 9, 10007494: 5, 10008232: 2, 10008240: 13, 10008242: 9, 20002484: 8, 10008245: 3, 10008246: 3, 10008248: 4, 20018873: 6, 20016702: 2, 20018876: 6, 10008253: 5, 10008254: 3, 20002496: 9, 10008257: 11, 10008258: 6, 20002500: 14, 10008265: 5, 20004471: 4, 10007501: 5, 10008272: 2, 20004472: 0, 10008276: 13, 20002517: 2, 10008278: 3, 10008279: 11, 10008281: 8, 20002522: 2, 10008283: 5, 20002525: 7, 10008286: 4, 10012965: 7, 10008288: 6, 20018128: 2, 10008291: 1, 10012966: 12, 20002534: 2, 10008295: 5, 10008296: 15, 20018923: 10, 10008302: 0, 10008306: 10, 10007507: 2, 20002551: 4, 10008313: 9, 10008314: 7, 20018940: 16, 20002557: 9, 10008318: 4, 10006677: 5, 20018945: 11, 10008324: 7, 10008328: 6, 10012972: 15, 20002573: 5, 20001429: 1, 10008337: 2, 10008340: 4, 10008341: 8, 10007513: 5, 10008346: 8, 10008348: 11, 10008349: 4, 20002590: 11, 20002592: 10, 20018139: 13, 10008357: 3, 20018982: 1, 10008359: 5, 10008361: 12, 10008363: 11, 20018988: 2, 20018989: 2, 20002606: 5, 10008367: 8, 20002610: 11, 10008372: 3, 10008373: 12, 10008374: 4, 10007983: 6, 10008378: 9, 20019007: 10, 10008385: 9, 20004491: 2, 10008388: 12, 10008391: 11, 10008395: 8, 10008396: 8, 20002639: 8, 20002640: 10, 20002641: 6, 10008402: 4, 20019027: 13, 10008404: 7, 10007771: 7, 10008408: 3, 10008409: 4, 10008410: 4, 10008411: 3, 10008413: 3, 20002660: 12, 10002065: 9, 10008425: 3, 20019051: 10, 20002669: 7, 20002673: 2, 20002674: 10, 20004499: 0, 10012990: 13, 10011591: 10, 10008440: 11, 10010261: 9, 10008448: 5, 10008454: 13, 20019080: 11, 10008457: 3, 20019082: 12, 10008459: 4, 10008461: 10, 10008462: 3, 10008464: 3, 20002708: 2, 10007534: 8, 20002711: 0, 10008475: 6, 10008476: 13, 10008477: 2, 20016164: 11, 20019104: 13, 10008481: 6, 20002723: 13, 10015729: 12, 20002729: 10, 10008492: 9, 20001778: 8, 20002735: 5, 10008497: 2, 20004510: 2, 10008502: 12, 10008503: 5, 20002744: 9, 20002746: 5, 20002749: 11, 20019134: 2, 20002751: 11, 10008512: 14, 10012894: 2, 10008516: 4, 20002758: 8, 10008519: 4, 10008520: 14, 20002761: 2, 10008522: 7, 20001783: 6, 10008525: 9, 10008526: 0, 10008528: 7, 20002769: 4, 20004515: 2, 20002773: 3, 20002774: 12, 10008535: 13, 10008537: 11, 10008542: 5, 20002783: 10, 10008544: 6, 20002785: 10, 20002786: 0, 20002788: 3, 10008549: 4, 20002790: 11, 10008551: 2, 10008552: 4, 10007548: 4, 20002796: 9, 10008559: 6, 10008561: 5, 10008562: 3, 20002804: 9, 20002806: 1, 10008567: 12, 10008568: 4, 10013012: 9, 10008570: 6, 20002811: 0, 20002812: 5, 20002813: 8, 20002816: 11, 20002817: 2, 10008578: 3, 10008579: 6, 10008580: 15, 10008581: 8, 20002822: 12, 10008585: 8, 10008586: 0, 10013015: 5, 10008588: 1, 10008589: 8, 20002831: 15, 10008594: 4, 10008595: 2, 20002836: 12, 10008598: 7, 10008600: 9, 10008601: 0, 20019227: 15, 10009403: 6, 20019233: 6, 10008610: 7, 10008611: 5, 10008612: 1, 20002853: 0, 20002854: 12, 10008616: 5, 20002863: 14, 20002868: 14, 10008630: 6, 20002871: 7, 10008632: 10, 20002876: 8, 10008637: 8, 10008638: 1, 20002880: 4, 20002881: 8, 20019267: 7, 20002885: 11, 20003076: 7, 20002888: 18, 20002889: 5, 10008650: 5, 10008651: 13, 10008656: 8, 10008658: 8, 10008661: 4, 10008662: 3, 10008663: 2, 10008665: 4, 10008666: 11, 10008667: 8, 20019294: 10, 10008672: 5, 20019297: 13, 20019299: 7, 20001809: 4, 10008683: 9, 20019309: 6, 10008686: 7, 10008687: 7, 10008688: 2, 10008690: 4, 20002932: 10, 10008694: 9, 20019321: 10, 20017808: 8, 10008700: 4, 20002942: 5, 10008703: 11, 20004544: 0, 10008706: 12, 10007781: 0, 10008710: 6, 20002952: 6, 10008713: 5, 20002954: 1, 10012568: 6, 10008720: 2, 20002961: 6, 20004547: 2, 20018900: 2, 10008726: 8, 10008727: 7, 10008728: 9, 10018500: 2, 20002970: 12, 10008732: 8, 20002975: 10, 10008736: 5, 20002978: 2, 20018203: 10, 20002980: 15, 10008746: 8, 10008747: 1, 20015474: 7, 10008750: 4, 10008752: 8, 10008753: 4, 20019378: 13, 10008755: 5, 10008758: 4, 20012745: 7, 20019384: 7, 10008761: 7, 10008762: 4, 10008764: 7, 10008771: 4, 10008772: 15, 20003013: 6, 10008774: 2, 10008779: 5, 20019404: 5, 10008781: 8, 10008783: 16, 10008784: 7, 20003028: 2, 10008789: 5, 10008790: 0, 20003032: 15, 20003034: 2, 10018511: 2, 10008799: 4, 10008801: 6, 10008804: 6, 20003045: 7, 10008806: 3, 20004561: 2, 10007591: 2, 20003053: 9, 10008814: 9, 10011058: 12, 20003058: 15, 10008820: 12, 20004200: 16, 10008822: 14, 10008823: 3, 20004564: 2, 20019450: 11, 10008827: 9, 20003069: 10, 20003070: 11, 20019456: 9, 10008836: 9, 10008837: 6, 20003078: 4, 20003079: 4, 20003081: 9, 10008842: 5, 10008843: 8, 10008844: 4, 10008846: 8, 10008848: 9, 20003089: 12, 20003090: 15, 10008851: 2, 10008852: 2, 10008877: 5, 20003098: 6, 10007599: 2, 20003101: 18, 10008862: 2, 20003103: 6, 10008864: 1, 20003106: 3, 10002139: 9, 10008868: 5, 10008869: 4, 10008870: 5, 20019496: 14, 20003114: 14, 20003115: 7, 20019501: 2, 20003119: 5, 10008880: 7, 20003123: 5, 10008884: 5, 10008887: 11, 20003128: 4, 10008891: 8, 10013066: 5, 20003134: 8, 20003135: 8, 20019520: 8, 10008897: 9, 10008898: 2, 20003139: 12, 10008902: 6, 10008904: 9, 10011061: 7, 20003148: 1, 10008913: 4, 20003154: 11, 10008915: 4, 20003157: 11, 20019545: 16, 10008922: 11, 10004879: 0, 10008925: 7, 20003166: 5, 20003167: 13, 10008931: 5, 20003172: 7, 20003173: 9, 20018907: 10, 10011062: 13, 10008936: 6, 10008937: 3, 10012338: 13, 10008941: 11, 20000491: 17, 10008944: 9, 20003185: 8, 10008946: 9, 10008948: 7, 10008949: 2, 10008950: 10, 10008955: 3, 10008956: 2, 10008957: 2, 10008958: 8, 10008960: 6, 20003201: 5, 10015973: 2, 10008967: 6, 20003209: 13, 10008970: 8, 10008971: 10, 10008973: 6, 10008974: 5, 10008975: 4, 20003219: 11, 10008981: 8, 10008982: 8, 20003223: 4, 10008988: 5, 20015514: 13, 10008992: 7, 20003234: 9, 20019619: 8, 20019620: 7, 10008997: 10, 20019622: 6, 10002161: 1, 10009001: 8, 10007623: 4, 10009004: 4, 10009005: 1, 10009006: 6, 10009008: 7, 10009009: 9, 10009010: 9, 10009012: 5, 20003254: 16, 10009016: 5, 20003257: 10, 10020885: 5, 10009023: 2, 10009024: 4, 10009025: 6, 20003266: 2, 10009027: 2, 10009028: 8, 20003272: 8, 20019657: 8, 20003274: 8, 20012791: 10, 10005224: 2, 20018253: 8, 10009040: 5, 10009041: 6, 10009042: 0, 10009043: 10, 10009044: 0, 10009045: 4, 10009047: 4, 10009048: 2, 10021284: 7, 10009051: 9, 10009052: 8, 10013093: 0, 10009057: 14, 20019682: 4, 20003299: 2, 20003302: 5, 10009064: 15, 10009066: 12, 20003307: 14, 20003309: 7, 10009070: 14, 10009071: 2, 10009072: 8, 10009074: 3, 10009075: 6, 20004606: 4, 10007333: 1, 10009079: 7, 10009080: 8, 10009081: 11, 10009082: 6, 10009083: 9, 20003325: 6, 20019710: 11, 20019711: 12, 10009088: 1, 20003330: 13, 10009092: 9, 10009093: 6, 20003335: 2, 10009096: 9, 10009098: 1, 10009100: 15, 10009102: 5, 10009103: 9, 20004728: 0, 20003346: 8, 10009111: 8, 20003352: 1, 20019739: 16, 20003357: 14, 10010917: 17, 20003361: 2, 10009122: 4, 10007643: 7, 20012806: 8, 10009126: 5, 20019751: 7, 20003368: 13, 10009129: 6, 10009131: 10, 10009132: 7, 20003373: 5, 10009137: 2, 10009138: 6, 10009139: 8, 10009140: 7, 10009141: 11, 20004617: 7, 20003384: 2, 20003385: 12, 10009146: 6, 10007647: 1, 10009148: 6, 10009149: 13, 10009154: 16, 10009155: 4, 10007796: 2, 10009159: 7, 20019784: 7, 10009162: 5, 10009163: 2, 20019788: 7, 20019790: 14, 10009169: 8, 10009171: 3, 10009172: 8, 20003413: 2, 10011070: 9, 20003417: 9, 10009179: 7, 10009180: 7, 10009181: 6, 10009185: 4, 10009187: 4, 10009188: 10, 10009190: 4, 20004625: 3, 10009194: 3, 20003437: 6, 10009202: 8, 20003444: 8, 20003445: 2, 10009206: 6, 10009207: 6, 10009208: 9, 10009209: 10, 20003451: 11, 10009212: 9, 10009214: 6, 10009216: 2, 10009217: 1, 10009219: 9, 10009220: 3, 10009221: 8, 10009222: 12, 20003463: 2, 10014345: 2, 10009225: 10, 10009226: 6, 10009227: 2, 10004930: 3, 10009231: 7, 20003473: 3, 10009235: 10, 20003477: 7, 10013124: 13, 10009243: 5, 10014972: 11, 20019871: 7, 10009248: 7, 10009249: 1, 20003492: 2, 10009254: 2, 10007665: 6, 10009256: 5, 20019886: 11, 10009263: 2, 10009265: 5, 10009266: 10, 20003507: 12, 10009268: 0, 20019893: 13, 20004188: 4, 20003514: 3, 10009276: 7, 20019901: 9, 20019902: 2, 10009279: 5, 10009284: 5, 10009286: 8, 10002209: 6, 20003528: 7, 20003532: 10, 20003535: 14, 10009298: 8, 20004643: 12, 10009303: 2, 10009304: 5, 20003550: 0, 10009312: 3, 10009313: 6, 10009314: 3, 20003555: 9, 10009317: 5, 20003559: 4, 10009320: 2, 10009321: 13, 20003562: 5, 20003565: 12, 10007677: 2, 20003568: 11, 20003569: 2, 10009331: 16, 10009333: 7, 10009334: 8, 20004649: 2, 10009336: 1, 10009343: 6, 10009344: 5, 10009345: 7, 10009346: 4, 20004651: 1, 20015575: 5, 20003598: 2, 10009361: 5, 10009364: 8, 10009366: 2, 10009368: 10, 10009371: 4, 20003612: 2, 10009373: 7, 10009377: 8, 20003619: 14, 20003621: 4, 10009384: 12, 10009385: 7, 10009387: 1, 20002458: 7, 20003630: 3, 20003634: 2, 20004659: 1, 10021342: 2, 10009399: 8, 10009401: 4, 20007391: 4, 10007690: 2, 10009406: 9, 10009408: 5, 20003649: 6, 20003651: 4, 10002230: 7, 20003654: 4, 10009415: 11, 10009418: 2, 10009419: 5, 10009420: 13, 20003661: 1, 20003662: 17, 10009423: 4, 10009424: 11, 10009425: 3, 10004963: 0, 10009429: 12, 20003670: 8, 10009431: 3, 20003672: 14, 10009433: 14, 10009434: 12, 20003677: 4, 10009438: 3, 10021349: 8, 10009440: 6, 20003682: 2, 10009443: 2, 10009447: 9, 10009448: 7, 20004668: 0, 10009450: 11, 20003691: 0, 20003692: 15, 20003693: 2, 20004669: 2, 10009458: 5, 10007699: 3, 10009468: 6, 10009469: 5, 10009470: 7, 20003711: 1, 10009475: 10, 10009476: 8, 10009479: 9, 10009481: 1, 10009482: 6, 10007703: 12, 10009486: 6, 10009487: 12, 10009489: 2, 10009493: 11, 10009495: 2, 20020120: 7, 20003737: 1, 20003738: 2, 20003740: 6, 10009501: 5, 10009502: 10, 10009503: 8, 20003745: 0, 10009508: 6, 20003749: 7, 10009511: 8, 20003752: 9, 20001948: 6, 20004679: 0, 10009518: 8, 10009519: 6, 20003761: 2, 20003764: 1, 10007710: 3, 10009527: 14, 20003768: 9, 10021364: 2, 10009530: 8, 10009531: 10, 20003774: 3, 10009535: 2, 10011082: 4, 10009538: 7, 20003779: 5, 10009541: 12, 10009543: 5, 10009544: 2, 10009545: 9, 10013175: 11, 20003788: 6, 10009550: 15, 10009553: 7, 20003794: 4, 10005627: 5, 10009558: 7, 20003799: 2, 10009561: 13, 10009563: 6, 10009564: 5, 20003805: 6, 10009568: 0, 20003810: 2, 20004205: 2, 10009572: 10, 10009573: 7, 10009575: 3, 10009576: 12, 10009579: 2, 10009580: 9, 10009582: 9, 20003823: 1, 10009584: 4, 20003825: 10, 10009586: 6, 10009588: 10, 20003829: 0, 20003830: 12, 10015913: 4, 10009592: 12, 10009593: 7, 20003836: 3, 20003839: 1, 10009600: 9, 10009603: 2, 20003987: 3, 10004993: 1, 10009608: 9, 20020234: 2, 20003851: 8, 10009614: 3, 20003855: 11, 10009616: 6, 10009617: 8, 20003859: 2, 20003860: 3, 10009622: 11, 20012889: 10, 20003864: 2, 10009625: 6, 20003867: 1, 10009629: 2, 20003872: 2, 20003873: 2, 10009634: 9, 10009635: 8, 10016541: 6, 20003878: 0, 20003881: 8, 10009642: 14, 10009647: 2, 20020272: 7, 10009651: 11, 20020276: 13, 20020277: 11, 20003895: 2, 20003897: 6, 10009658: 8, 10009662: 9, 10009664: 6, 20003905: 3, 10009666: 6, 10009667: 13, 20003908: 1, 10009670: 8, 20003915: 0, 20020301: 8, 10009678: 1, 10012178: 10, 20003925: 2, 10009686: 10, 20003931: 15, 20012171: 4, 20003933: 17, 10009694: 12, 10009698: 5, 10009699: 9, 10009700: 6, 20004315: 2, 10009703: 9, 20003944: 0, 20003945: 12, 20003946: 0, 20003948: 7, 10009709: 8, 10009713: 12, 20003954: 2, 10011088: 10, 10009719: 8, 10009720: 10, 10009721: 8, 20003964: 8, 10009726: 6, 10009727: 7, 10009728: 8, 20003969: 8, 20003971: 8, 10009732: 8, 10009733: 4, 20003976: 6, 20004716: 0, 10009740: 17, 10009742: 9, 10009743: 13, 10009744: 7, 10009746: 8, 10009747: 12, 20003988: 0, 10009749: 6, 10009751: 4, 10009752: 14, 10009754: 12, 20004719: 9, 10009756: 3, 10009757: 10, 10009759: 10, 20004000: 0, 10009762: 13, 20004005: 11, 20017298: 5, 20004007: 5, 10009769: 7, 10009770: 2, 20004013: 0, 10009777: 2, 10009779: 6, 20004022: 1, 20018377: 9, 10008908: 9, 20004025: 10, 20003770: 10, 10009788: 7, 10009789: 4, 10009790: 9, 20004725: 3, 20004033: 7, 20004034: 0, 10009795: 11, 20004036: 4, 10009797: 1, 10009799: 6, 20004042: 4, 20004043: 1, 10009806: 6, 10009809: 5, 20004050: 3, 20004054: 3, 10009816: 8, 10009819: 7, 20004061: 1, 10009824: 10, 20004065: 1, 20004067: 0, 20004068: 13, 10009830: 11, 10008364: 5, 10009834: 6, 20004075: 8, 10011092: 7, 20004077: 0, 20004078: 2, 10009839: 7, 20020464: 10, 10009841: 6, 10009843: 11, 20012926: 6, 10009847: 10, 10009848: 17, 10009851: 8, 10009855: 9, 20001370: 11, 20004099: 2, 10009862: 8, 20004106: 0, 20018391: 6, 10009868: 5, 20004111: 1, 10009873: 8, 20004115: 2, 20004116: 0, 20004118: 8, 10009880: 5, 20004121: 3, 20004122: 0, 20004123: 2, 20020509: 8, 10009886: 3, 20004128: 0, 20004129: 1, 20003663: 12, 10009891: 15, 10009893: 7, 20004139: 4, 10009900: 14, 20004144: 3, 10009905: 7, 10009906: 3, 10009908: 9, 10009909: 13, 20004150: 4, 10009911: 7, 20020536: 2, 20004153: 2, 20004171: 4, 20004155: 4, 20004156: 0, 10009918: 10, 10009919: 6, 10009920: 3, 10007776: 0, 20004163: 0, 20004164: 2, 20004165: 0, 20004168: 3, 10006185: 9, 10009931: 7, 20000391: 5, 10009933: 4, 20004177: 3, 20004178: 9, 20004179: 2, 20004180: 5, 20004182: 0, 20007481: 1, 10009945: 3, 10009946: 2, 10009948: 11, 10009949: 3, 20004191: 1, 10009953: 9, 20004194: 2, 10007277: 3, 20004197: 11, 10009960: 12, 20004201: 18, 10009962: 9, 10009963: 0, 20004204: 0, 20020589: 8, 10009967: 10, 20004208: 3, 10009969: 9, 20004210: 0, 20004211: 2, 10009972: 9, 10009974: 3, 20004216: 6, 10010516: 4, 20004218: 0, 10009979: 15, 10009980: 1, 20004221: 0, 20004222: 2, 20004225: 1, 20004227: 0, 20004230: 0, 10009991: 6, 10009992: 12, 10009993: 3, 20004234: 9, 10009995: 3, 20020620: 2, 10004005: 15, 10010000: 10, 10010003: 12, 20004245: 4, 10011049: 9, 10010521: 10, 20004249: 0, 20004250: 2, 20020636: 14, 20004253: 0, 20002576: 10, 10007279: 3, 10010016: 1, 20004257: 10, 20004258: 11, 10002331: 3, 10010021: 7, 10010022: 11, 10015985: 5, 10010024: 6, 10010030: 7, 10010031: 14, 20004272: 1, 10007795: 8, 10010038: 3, 20004280: 2, 10010041: 3, 20004282: 0, 10010044: 14, 10010045: 0, 10010047: 6, 20004288: 1, 10010050: 5, 20004292: 2, 20004293: 5, 20004294: 2, 20004769: 4, 20004296: 1, 10010058: 3, 20004299: 0, 20004300: 12, 20004301: 0, 20004303: 0, 10010065: 7, 20004306: 0, 10010067: 12, 10010068: 12, 20004309: 0, 20004310: 0, 10010072: 12, 20001917: 13, 10010075: 5, 20004316: 2, 20004317: 1, 10010078: 2, 10010083: 9, 10010084: 4, 10010086: 2, 10010087: 6, 10010090: 5, 20004331: 9, 10010092: 2, 10005074: 5, 10010095: 9, 10018193: 14, 20020721: 2, 20004338: 2, 10010099: 7, 20004340: 2, 10010101: 6, 20004344: 4, 10010105: 10, 10010106: 12, 20004347: 3, 10010110: 13, 20004352: 11, 20020737: 9, 20004354: 9, 10010115: 7, 20004356: 1, 20004358: 0, 10010120: 8, 20004362: 2, 20007511: 1, 10010124: 9, 10010131: 6, 20002580: 9, 20004377: 12, 10010138: 8, 10010139: 12, 20004380: 8, 20004381: 2, 20004382: 0, 10007813: 1, 20004385: 9, 20004386: 4, 20004387: 10, 10010150: 9, 20002035: 4, 20004318: 3, 10010153: 9, 10005647: 12, 20004397: 7, 10010159: 11, 10012194: 0, 10010164: 10, 20004405: 1, 20004406: 1, 20004407: 0, 20004408: 5, 10010169: 5, 20004411: 0, 10010172: 12, 20004413: 11, 10010176: 11, 20004417: 9, 10007830: 7, 10010180: 7, 10010181: 14, 20004423: 0, 10010184: 7, 20004427: 0, 10010188: 3, 20004431: 0, 20011847: 4, 20004435: 0, 10010196: 19, 10010198: 11, 10010199: 9, 10010202: 17, 20004443: 0, 20004794: 6, 20004446: 0, 10005093: 5, 20004448: 8, 10010209: 7, 10010210: 10, 10010211: 12, 10010213: 5, 20020838: 6, 20004455: 18, 20004456: 13, 20004457: 8, 10010219: 12, 10010220: 10, 10010221: 9, 10010225: 5, 20004466: 2, 20004468: 4, 10010230: 4, 10005097: 0, 20020856: 8, 10010234: 4, 20004755: 0, 10010237: 8, 20004478: 1, 10010239: 7, 20004480: 2, 20004800: 3, 10010243: 5, 20004485: 1, 10010734: 7, 10010248: 10, 10000740: 1, 20010263: 9, 20004496: 3, 10010257: 8, 10014925: 5, 10010259: 7, 20004500: 0, 20020885: 12, 10010263: 4, 20004504: 0, 10010265: 8, 10010266: 3, 20004508: 2, 10010270: 8, 20004513: 3, 10010275: 6, 10010276: 12, 10010277: 5, 10010278: 0, 10010279: 5, 20004522: 4, 20004523: 6, 10010284: 13, 20004525: 9, 20004526: 10, 10010287: 12, 10010288: 12, 10010291: 4, 20004532: 0, 10010293: 12, 10010294: 6, 20004809: 1, 20004536: 3, 20004537: 2, 20004538: 0, 10010299: 2, 20004542: 2, 10010303: 9, 10010304: 3, 20004545: 0, 10010307: 9, 20004548: 1, 20004549: 1, 20004551: 4, 10010316: 6, 20004557: 5, 20004558: 2, 10010320: 10, 10010321: 8, 10008926: 8, 10012745: 3, 10010327: 9, 20004568: 0, 10010330: 8, 20004574: 1, 10007845: 5, 20004576: 2, 20004577: 1, 20007547: 2, 10010340: 6, 20004581: 4, 20004583: 8, 10010347: 3, 10005117: 0, 10010353: 15, 20004594: 2, 20004595: 12, 10010356: 15, 10010357: 14, 20004600: 1, 20019486: 2, 10010364: 1, 10010365: 10, 10010366: 11, 20004607: 1, 20004608: 0, 10010371: 16, 20004612: 0, 20004613: 1, 20004614: 1, 10010375: 3, 10016044: 6, 10018775: 6, 20004621: 3, 10010382: 8, 20004623: 0, 20004624: 3, 10010385: 7, 20004626: 1, 20004629: 2, 10010390: 14, 20004631: 1, 20004632: 2, 20004634: 5, 20004636: 2, 20004638: 8, 10010399: 5, 10010401: 9, 10010403: 9, 10010404: 7, 20004648: 0, 10010409: 4, 10010411: 8, 20004652: 5, 20004654: 0, 20004657: 2, 10010419: 11, 20004660: 0, 10010421: 5, 10010423: 13, 20004664: 1, 20004665: 9, 10010428: 4, 10013294: 5, 20004671: 0, 10010433: 9, 20004674: 0, 20004676: 0, 20004677: 3, 10010439: 15, 20004682: 0, 10016055: 2, 20004685: 1, 20004687: 2, 10010448: 8, 10010449: 12, 20004690: 2, 10010452: 9, 20004693: 1, 10010455: 0, 10010456: 0, 10010457: 7, 20004700: 2, 10010461: 3, 10010462: 8, 10010464: 2, 20004705: 16, 10010466: 4, 10010468: 3, 20004709: 2, 20004710: 4, 10010472: 8, 20004714: 1, 10010475: 10, 10010476: 6, 10010477: 13, 20003137: 11, 10007869: 3, 20004720: 1, 10010482: 0, 20004723: 0, 20004724: 0, 20021109: 2, 20004727: 0, 10010488: 8, 10010489: 3, 20004730: 0, 10010491: 3, 20004732: 4, 20004734: 2, 10010496: 5, 20004737: 0, 10010499: 13, 10010502: 1, 10010503: 6, 10010504: 11, 10010505: 12, 20004746: 1, 20004747: 0, 10010514: 11, 10007875: 2, 10005659: 6, 20017323: 9, 20002116: 4, 10010522: 8, 10010524: 2, 20004765: 2, 20004768: 0, 10010529: 5, 20004770: 0, 10010531: 10, 20004772: 4, 20004774: 4, 20004775: 0, 20004776: 1, 20004778: 12, 10010539: 12, 10010540: 7, 20004781: 1, 20004782: 11, 20004783: 0, 20004784: 1, 20004788: 2, 10013298: 7, 20004790: 2, 10010551: 4, 10010553: 7, 10010554: 4, 20004795: 0, 10010556: 13, 20004798: 0, 10010559: 7, 10010560: 11, 20004804: 3, 20004806: 0, 10005153: 0, 10010569: 13, 20004812: 1, 10013346: 10, 10010574: 7, 20004815: 0, 20004816: 0, 10005155: 1, 10010582: 7, 20004824: 5, 10010585: 11, 10007887: 2, 10010588: 15, 20004830: 1, 10010594: 8, 10010597: 4, 10010598: 2, 20004840: 4, 20004841: 0, 10010604: 6, 10010621: 2, 10010608: 6, 10010609: 2, 20004850: 6, 10010611: 10, 10010613: 4, 20004854: 6, 10010615: 18, 20004860: 2, 20004212: 0, 20004863: 2}\n"
     ]
    }
   ],
   "source": [
    "print(all_loss_events)"
   ]
  },
  {
   "cell_type": "markdown",
   "metadata": {},
   "source": [
    "In `all_loss_events` we have the sum of loss events on each branch.  This could be used to summarize a rate of loss, but it's not appropriate to assume these are the same as extant copies.  Since a loss back in time will knock out a whole range of species, but a recent loss will only affect one species."
   ]
  },
  {
   "cell_type": "code",
   "execution_count": 47,
   "metadata": {
    "collapsed": false
   },
   "outputs": [
    {
     "data": {
      "text/plain": [
       "4242"
      ]
     },
     "execution_count": 47,
     "metadata": {},
     "output_type": "execute_result"
    }
   ],
   "source": [
    "left_side = [k for k in all_loss_events.keys() if k >= 20000000]\n",
    "len(left_side)"
   ]
  },
  {
   "cell_type": "code",
   "execution_count": 48,
   "metadata": {
    "collapsed": true
   },
   "outputs": [],
   "source": [
    "def get_opposite_side(index):\n",
    "    if index >= 20000000:\n",
    "        return index - 10000000\n",
    "    else:\n",
    "        return index + 10000000\n",
    "assert all([get_opposite_side(left) in all_loss_events for left in all_loss_events.keys()])"
   ]
  },
  {
   "cell_type": "markdown",
   "metadata": {},
   "source": [
    "Simply graphing the total pooled counts is going to give you the same histogram you've already seen:"
   ]
  },
  {
   "cell_type": "code",
   "execution_count": 49,
   "metadata": {
    "collapsed": false
   },
   "outputs": [
    {
     "data": {
      "image/png": "[encoded data removed]",
      "text/plain": [
       "<matplotlib.figure.Figure at 0x1c098438>"
      ]
     },
     "metadata": {},
     "output_type": "display_data"
    }
   ],
   "source": [
    "pretty_hist(\"Repeated Loss in the Same Gene Family\", list(all_loss_events.values()))"
   ]
  },
  {
   "cell_type": "markdown",
   "metadata": {},
   "source": [
    "### For each pair, sort larger and smaller subtree"
   ]
  },
  {
   "cell_type": "code",
   "execution_count": 54,
   "metadata": {
    "collapsed": false
   },
   "outputs": [
    {
     "data": {
      "text/plain": [
       "(4242, 17, 22)"
      ]
     },
     "execution_count": 54,
     "metadata": {},
     "output_type": "execute_result"
    }
   ],
   "source": [
    "def sort_pairs_to_bigger_smaller(left_side, event_dict):\n",
    "    big_family_losses = []\n",
    "    small_family_losses = [] # this terminology is really confusing\n",
    "    bigger_side = []\n",
    "    for left in left_side:\n",
    "        right = get_opposite_side(left)\n",
    "        biggest = left if event_dict[left] <  event_dict[right] else right # less loss events ~= more extant copies\n",
    "        bigger_side.append(biggest)\n",
    "        big_family_losses.append(event_dict[biggest])\n",
    "        small_family_losses.append(event_dict[get_opposite_side(biggest)])\n",
    "    return biggest, big_family_losses, small_family_losses\n",
    "biggest, big_family_losses, small_family_losses = sort_pairs_to_bigger_smaller(left_side, all_loss_events)\n",
    "len(big_family_losses), max(big_family_losses), max(small_family_losses)"
   ]
  },
  {
   "cell_type": "code",
   "execution_count": 55,
   "metadata": {
    "collapsed": false
   },
   "outputs": [
    {
     "data": {
      "image/png": "[encoded data removed]",
      "text/plain": [
       "<matplotlib.figure.Figure at 0x1c1accc0>"
      ]
     },
     "metadata": {},
     "output_type": "display_data"
    }
   ],
   "source": [
    "categorical_histogram(\"Comparing Left vs Right between Pairs of Ohnolog Subtrees\", {\"Persistent Ohnologs\": big_family_losses, \"Dwindling Ohnologs\": small_family_losses})"
   ]
  },
  {
   "cell_type": "markdown",
   "metadata": {},
   "source": [
    "**Question:** Is that more divergence than we'd expect from a simulated distribution that was then sorted?  Can I simulated the data somehow?  \n",
    "  \n",
    "**Plan:** Randomly shuffle all 8484 keys of `all_loss_events`, repeat process."
   ]
  },
  {
   "cell_type": "code",
   "execution_count": 56,
   "metadata": {
    "collapsed": false
   },
   "outputs": [
    {
     "data": {
      "image/png": "[encoded data removed]",
      "text/plain": [
       "<matplotlib.figure.Figure at 0x7353a20>"
      ]
     },
     "metadata": {},
     "output_type": "display_data"
    }
   ],
   "source": [
    "import random\n",
    "\n",
    "def shuffler(all_loss_events):\n",
    "    shuffled_values = list(all_loss_events.values())\n",
    "    random.shuffle(shuffled_values)\n",
    "    shuffled_events = {}\n",
    "    for i, key in enumerate(all_loss_events.keys()):\n",
    "        shuffled_events[key] = shuffled_values[i]\n",
    "    return shuffled_events\n",
    "\n",
    "def compare_against_shuffled_pairs(all_loss_events, left_side, xmax=None):\n",
    "    discarded, big_family_losses, small_family_losses = sort_pairs_to_bigger_smaller(left_side, all_loss_events)\n",
    "    shuffled_events = shuffler(all_loss_events)\n",
    "    discard, shuffle_big, shuffle_small = sort_pairs_to_bigger_smaller(left_side, shuffled_events)    \n",
    "    categorical_histogram(\"Shuffled: Comparing Left vs Right between Pairs of Ohnolog Subtrees\", {\"Persistent Fakes\": shuffle_big, \"Dwindling Fakes\": shuffle_small,\n",
    "                                                                                                  \"Persistent Ohnologs\": big_family_losses, \"Dwindling Ohnologs\": small_family_losses},\n",
    "                         xmax=xmax)\n",
    "\n",
    "compare_against_shuffled_pairs(all_loss_events, left_side)"
   ]
  },
  {
   "cell_type": "code",
   "execution_count": 57,
   "metadata": {
    "collapsed": false
   },
   "outputs": [
    {
     "name": "stdout",
     "output_type": "stream",
     "text": [
      "Real Values: RanksumsResult(statistic=-39.48493043001666, pvalue=0.0)\n",
      "Shuffled:    RanksumsResult(statistic=-52.36360496087544, pvalue=0.0)\n"
     ]
    }
   ],
   "source": [
    "from scipy.stats import ranksums\n",
    "#Copies of lines from compare_against_shuffled_pairs\n",
    "shuffled_events = shuffler(all_loss_events)\n",
    "discard, shuffle_big, shuffle_small = sort_pairs_to_bigger_smaller(left_side, shuffled_events)    \n",
    "print(\"Real Values:\", ranksums(big_family_losses, small_family_losses))\n",
    "print(\"Shuffled:   \", ranksums(shuffle_big, shuffle_small))"
   ]
  },
  {
   "cell_type": "markdown",
   "metadata": {},
   "source": [
    "**Conclusion:**  The difference is actually **bigger** in the shuffled values as opposed to the real data.  That tells us that there's a positive correlation between the size of the left subtree and the size of the right subtree.  The main driver is the overall size of the gene family.  If one is preserved, the other is likely to be preserved as well.  *They are not competing with each other.*"
   ]
  },
  {
   "cell_type": "markdown",
   "metadata": {},
   "source": [
    "### Same analysis but with extant copy numbers instead of independent loss events."
   ]
  },
  {
   "cell_type": "code",
   "execution_count": 58,
   "metadata": {
    "collapsed": false
   },
   "outputs": [
    {
     "data": {
      "text/html": [
       "<div>\n",
       "<style scoped>\n",
       "    .dataframe tbody tr th:only-of-type {\n",
       "        vertical-align: middle;\n",
       "    }\n",
       "\n",
       "    .dataframe tbody tr th {\n",
       "        vertical-align: top;\n",
       "    }\n",
       "\n",
       "    .dataframe thead th {\n",
       "        text-align: right;\n",
       "    }\n",
       "</style>\n",
       "<table border=\"1\" class=\"dataframe\">\n",
       "  <thead>\n",
       "    <tr style=\"text-align: right;\">\n",
       "      <th></th>\n",
       "      <th>Oeuropea&lt;56&gt;</th>\n",
       "      <th>FRAX08&lt;12&gt;</th>\n",
       "      <th>FRAX05&lt;50&gt;</th>\n",
       "      <th>FRAX25&lt;26&gt;</th>\n",
       "      <th>FRAX14&lt;48&gt;</th>\n",
       "      <th>FRAX15&lt;18&gt;</th>\n",
       "      <th>FRAX32&lt;2&gt;</th>\n",
       "      <th>FRAX21&lt;28&gt;</th>\n",
       "      <th>FRAX33&lt;52&gt;</th>\n",
       "      <th>FRAX26&lt;46&gt;</th>\n",
       "      <th>...</th>\n",
       "      <th>FRAX01&lt;14&gt;</th>\n",
       "      <th>FRAX00&lt;20&gt;</th>\n",
       "      <th>FRAX13&lt;44&gt;</th>\n",
       "      <th>FRAX20&lt;32&gt;</th>\n",
       "      <th>FRAX30&lt;0&gt;</th>\n",
       "      <th>FRAX27&lt;36&gt;</th>\n",
       "      <th>FRAX04&lt;38&gt;</th>\n",
       "      <th>FRAX11&lt;34&gt;</th>\n",
       "      <th>FRAX28&lt;4&gt;</th>\n",
       "      <th>FRAX06&lt;22&gt;</th>\n",
       "    </tr>\n",
       "    <tr>\n",
       "      <th>Family ID</th>\n",
       "      <th></th>\n",
       "      <th></th>\n",
       "      <th></th>\n",
       "      <th></th>\n",
       "      <th></th>\n",
       "      <th></th>\n",
       "      <th></th>\n",
       "      <th></th>\n",
       "      <th></th>\n",
       "      <th></th>\n",
       "      <th></th>\n",
       "      <th></th>\n",
       "      <th></th>\n",
       "      <th></th>\n",
       "      <th></th>\n",
       "      <th></th>\n",
       "      <th></th>\n",
       "      <th></th>\n",
       "      <th></th>\n",
       "      <th></th>\n",
       "      <th></th>\n",
       "    </tr>\n",
       "  </thead>\n",
       "  <tbody>\n",
       "    <tr>\n",
       "      <th>10000013</th>\n",
       "      <td>1</td>\n",
       "      <td>1</td>\n",
       "      <td>1</td>\n",
       "      <td>1</td>\n",
       "      <td>0</td>\n",
       "      <td>0</td>\n",
       "      <td>1</td>\n",
       "      <td>1</td>\n",
       "      <td>2</td>\n",
       "      <td>0</td>\n",
       "      <td>...</td>\n",
       "      <td>1</td>\n",
       "      <td>1</td>\n",
       "      <td>1</td>\n",
       "      <td>1</td>\n",
       "      <td>2</td>\n",
       "      <td>1</td>\n",
       "      <td>1</td>\n",
       "      <td>2</td>\n",
       "      <td>1</td>\n",
       "      <td>2</td>\n",
       "    </tr>\n",
       "    <tr>\n",
       "      <th>20000013</th>\n",
       "      <td>0</td>\n",
       "      <td>1</td>\n",
       "      <td>2</td>\n",
       "      <td>2</td>\n",
       "      <td>1</td>\n",
       "      <td>1</td>\n",
       "      <td>1</td>\n",
       "      <td>2</td>\n",
       "      <td>1</td>\n",
       "      <td>2</td>\n",
       "      <td>...</td>\n",
       "      <td>3</td>\n",
       "      <td>3</td>\n",
       "      <td>1</td>\n",
       "      <td>1</td>\n",
       "      <td>1</td>\n",
       "      <td>1</td>\n",
       "      <td>1</td>\n",
       "      <td>1</td>\n",
       "      <td>1</td>\n",
       "      <td>2</td>\n",
       "    </tr>\n",
       "    <tr>\n",
       "      <th>10000057</th>\n",
       "      <td>1</td>\n",
       "      <td>1</td>\n",
       "      <td>0</td>\n",
       "      <td>0</td>\n",
       "      <td>1</td>\n",
       "      <td>1</td>\n",
       "      <td>1</td>\n",
       "      <td>0</td>\n",
       "      <td>1</td>\n",
       "      <td>1</td>\n",
       "      <td>...</td>\n",
       "      <td>1</td>\n",
       "      <td>1</td>\n",
       "      <td>1</td>\n",
       "      <td>1</td>\n",
       "      <td>0</td>\n",
       "      <td>1</td>\n",
       "      <td>0</td>\n",
       "      <td>1</td>\n",
       "      <td>0</td>\n",
       "      <td>1</td>\n",
       "    </tr>\n",
       "    <tr>\n",
       "      <th>20000057</th>\n",
       "      <td>0</td>\n",
       "      <td>8</td>\n",
       "      <td>10</td>\n",
       "      <td>2</td>\n",
       "      <td>13</td>\n",
       "      <td>12</td>\n",
       "      <td>11</td>\n",
       "      <td>7</td>\n",
       "      <td>6</td>\n",
       "      <td>6</td>\n",
       "      <td>...</td>\n",
       "      <td>11</td>\n",
       "      <td>2</td>\n",
       "      <td>8</td>\n",
       "      <td>7</td>\n",
       "      <td>10</td>\n",
       "      <td>9</td>\n",
       "      <td>8</td>\n",
       "      <td>9</td>\n",
       "      <td>12</td>\n",
       "      <td>6</td>\n",
       "    </tr>\n",
       "    <tr>\n",
       "      <th>10000069</th>\n",
       "      <td>1</td>\n",
       "      <td>8</td>\n",
       "      <td>9</td>\n",
       "      <td>9</td>\n",
       "      <td>9</td>\n",
       "      <td>9</td>\n",
       "      <td>8</td>\n",
       "      <td>8</td>\n",
       "      <td>9</td>\n",
       "      <td>8</td>\n",
       "      <td>...</td>\n",
       "      <td>6</td>\n",
       "      <td>2</td>\n",
       "      <td>9</td>\n",
       "      <td>9</td>\n",
       "      <td>11</td>\n",
       "      <td>9</td>\n",
       "      <td>8</td>\n",
       "      <td>10</td>\n",
       "      <td>9</td>\n",
       "      <td>6</td>\n",
       "    </tr>\n",
       "  </tbody>\n",
       "</table>\n",
       "<p>5 rows × 29 columns</p>\n",
       "</div>"
      ],
      "text/plain": [
       "           Oeuropea<56>  FRAX08<12>  FRAX05<50>  FRAX25<26>  FRAX14<48>  \\\n",
       "Family ID                                                                 \n",
       "10000013              1           1           1           1           0   \n",
       "20000013              0           1           2           2           1   \n",
       "10000057              1           1           0           0           1   \n",
       "20000057              0           8          10           2          13   \n",
       "10000069              1           8           9           9           9   \n",
       "\n",
       "           FRAX15<18>  FRAX32<2>  FRAX21<28>  FRAX33<52>  FRAX26<46>  \\\n",
       "Family ID                                                              \n",
       "10000013            0          1           1           2           0   \n",
       "20000013            1          1           2           1           2   \n",
       "10000057            1          1           0           1           1   \n",
       "20000057           12         11           7           6           6   \n",
       "10000069            9          8           8           9           8   \n",
       "\n",
       "              ...      FRAX01<14>  FRAX00<20>  FRAX13<44>  FRAX20<32>  \\\n",
       "Family ID     ...                                                       \n",
       "10000013      ...               1           1           1           1   \n",
       "20000013      ...               3           3           1           1   \n",
       "10000057      ...               1           1           1           1   \n",
       "20000057      ...              11           2           8           7   \n",
       "10000069      ...               6           2           9           9   \n",
       "\n",
       "           FRAX30<0>  FRAX27<36>  FRAX04<38>  FRAX11<34>  FRAX28<4>  \\\n",
       "Family ID                                                             \n",
       "10000013           2           1           1           2          1   \n",
       "20000013           1           1           1           1          1   \n",
       "10000057           0           1           0           1          0   \n",
       "20000057          10           9           8           9         12   \n",
       "10000069          11           9           8          10          9   \n",
       "\n",
       "           FRAX06<22>  \n",
       "Family ID              \n",
       "10000013            2  \n",
       "20000013            2  \n",
       "10000057            1  \n",
       "20000057            6  \n",
       "10000069            6  \n",
       "\n",
       "[5 rows x 29 columns]"
      ]
     },
     "execution_count": 58,
     "metadata": {},
     "output_type": "execute_result"
    }
   ],
   "source": [
    "from pandas import read_csv\n",
    "extant_counts = read_csv(r\"CAFE-4.2\\data\\homeologs_only\\reports\\oleaceae_homeologs_0.1_error_l00097_m010_anc.txt\", delimiter='\\t', index_col='Family ID')\n",
    "columns = 'Oeuropea<56>\tFRAX08<12>\tFRAX05<50>\tFRAX25<26>\tFRAX14<48>\tFRAX15<18>\tFRAX32<2>\tFRAX21<28>\tFRAX33<52>\tFRAX26<46>\tFRAX16<16>\tFRAX03<40>\tFRAX07<8>\tFRAX23<24>\tFRAX31<54>\tFRAX09<42>\tFRAX19<30>\tFRAX12<6>\tFRAX29<10>\tFRAX01<14>\tFRAX00<20>\tFRAX13<44>\tFRAX20<32>\tFRAX30<0>\tFRAX27<36>\tFRAX04<38>\tFRAX11<34>\tFRAX28<4>\tFRAX06<22>'.split()\n",
    "extant_counts = extant_counts[columns]\n",
    "# extant_counts\n",
    "extant_counts.head()"
   ]
  },
  {
   "cell_type": "code",
   "execution_count": 59,
   "metadata": {
    "collapsed": false
   },
   "outputs": [
    {
     "name": "stdout",
     "output_type": "stream",
     "text": [
      "Oeuropea<56>    0\n",
      "FRAX08<12>      1\n",
      "FRAX05<50>      2\n",
      "FRAX25<26>      2\n",
      "FRAX14<48>      1\n",
      "FRAX15<18>      1\n",
      "FRAX32<2>       1\n",
      "FRAX21<28>      2\n",
      "FRAX33<52>      1\n",
      "FRAX26<46>      2\n",
      "FRAX16<16>      2\n",
      "FRAX03<40>      1\n",
      "FRAX07<8>       1\n",
      "FRAX23<24>      2\n",
      "FRAX31<54>      2\n",
      "FRAX09<42>      2\n",
      "FRAX19<30>      1\n",
      "FRAX12<6>       0\n",
      "FRAX29<10>      1\n",
      "FRAX01<14>      3\n",
      "FRAX00<20>      3\n",
      "FRAX13<44>      1\n",
      "FRAX20<32>      1\n",
      "FRAX30<0>       1\n",
      "FRAX27<36>      1\n",
      "FRAX04<38>      1\n",
      "FRAX11<34>      1\n",
      "FRAX28<4>       1\n",
      "FRAX06<22>      2\n",
      "Name: 20000013, dtype: int64\n"
     ]
    }
   ],
   "source": [
    "#Testing code\n",
    "print(extant_counts.loc[20000013])\n",
    "assert sum(extant_counts.loc[20000013]) == sum([0,1,2,2,1,1,1,2,1,2,2,1,1,2,2,2,1,0,1,3,3,1,1,1,1,1,1,1,2])"
   ]
  },
  {
   "cell_type": "code",
   "execution_count": 60,
   "metadata": {
    "collapsed": false
   },
   "outputs": [
    {
     "data": {
      "text/plain": [
       "8484"
      ]
     },
     "execution_count": 60,
     "metadata": {},
     "output_type": "execute_result"
    }
   ],
   "source": [
    "extant_copies = {family: sum(extant_counts.loc[family]) for family in all_loss_events.keys()}\n",
    "len(extant_copies)"
   ]
  },
  {
   "cell_type": "code",
   "execution_count": 61,
   "metadata": {
    "collapsed": false
   },
   "outputs": [
    {
     "data": {
      "text/plain": [
       "56"
      ]
     },
     "execution_count": 61,
     "metadata": {},
     "output_type": "execute_result"
    }
   ],
   "source": [
    "bad_rows = [k for k,v in extant_copies.items() if v == 0 or extant_copies[get_opposite_side(k)]==0]  # That seems like that shouldn't happen...\n",
    "len(bad_rows)"
   ]
  },
  {
   "cell_type": "markdown",
   "metadata": {},
   "source": [
    "There are 56 families whose presence is only supported by the FRAX10 technical replicate.  This FRAX10 was in the gene trees but subsequently removed from the counts file."
   ]
  },
  {
   "cell_type": "code",
   "execution_count": 62,
   "metadata": {
    "collapsed": true
   },
   "outputs": [],
   "source": [
    "extant_counts.drop(bad_rows, axis=0)\n",
    "for b in bad_rows:\n",
    "    del extant_copies[b]"
   ]
  },
  {
   "cell_type": "code",
   "execution_count": 63,
   "metadata": {
    "collapsed": false
   },
   "outputs": [
    {
     "data": {
      "text/plain": [
       "4214"
      ]
     },
     "execution_count": 63,
     "metadata": {},
     "output_type": "execute_result"
    }
   ],
   "source": [
    "left_side = [k for k in extant_copies.keys() if k > 20000000]\n",
    "len(left_side)"
   ]
  },
  {
   "cell_type": "code",
   "execution_count": 64,
   "metadata": {
    "collapsed": false
   },
   "outputs": [
    {
     "data": {
      "image/png": "[encoded data removed]",
      "text/plain": [
       "<matplotlib.figure.Figure at 0x73d9898>"
      ]
     },
     "metadata": {},
     "output_type": "display_data"
    }
   ],
   "source": [
    "compare_against_shuffled_pairs(extant_copies, left_side, xmax=45)"
   ]
  },
  {
   "cell_type": "markdown",
   "metadata": {},
   "source": [
    "**NOTE:** The graph labels are currently backwards."
   ]
  },
  {
   "cell_type": "code",
   "execution_count": 65,
   "metadata": {
    "collapsed": false
   },
   "outputs": [
    {
     "data": {
      "text/plain": [
       "4214"
      ]
     },
     "execution_count": 65,
     "metadata": {},
     "output_type": "execute_result"
    }
   ],
   "source": [
    "extant_full_families = {k: extant_copies[k] + extant_copies[get_opposite_side(k)] for k in left_side}\n",
    "len(extant_full_families)"
   ]
  },
  {
   "cell_type": "code",
   "execution_count": 66,
   "metadata": {
    "collapsed": false
   },
   "outputs": [
    {
     "data": {
      "image/png": "[encoded data removed]",
      "text/plain": [
       "<matplotlib.figure.Figure at 0x1c492d68>"
      ]
     },
     "metadata": {},
     "output_type": "display_data"
    }
   ],
   "source": [
    "pretty_hist(\"Sum of Left and Right Subtrees over 29 Species\", extant_full_families.values(), \n",
    "            x_title=\"Sum of extant copies across all species\", xmax=110,\n",
    "            y_title=\"Number of Ohnolog Subtrees\")"
   ]
  },
  {
   "cell_type": "markdown",
   "metadata": {},
   "source": [
    "I'm looking for a peak at 58 (29*2) and a shadow of 10% loss to the left of that peak (53-58)."
   ]
  },
  {
   "cell_type": "code",
   "execution_count": 67,
   "metadata": {
    "collapsed": false
   },
   "outputs": [
    {
     "name": "stdout",
     "output_type": "stream",
     "text": [
      "494\n"
     ]
    },
    {
     "data": {
      "text/plain": [
       "[0, 0, 6, 14, 22]"
      ]
     },
     "execution_count": 67,
     "metadata": {},
     "output_type": "execute_result"
    }
   ],
   "source": [
    "extant_sums = i_hist(extant_full_families.values())\n",
    "print(sum(extant_sums[:26]))\n",
    "extant_sums[:5]"
   ]
  },
  {
   "cell_type": "markdown",
   "metadata": {},
   "source": [
    "**TODO: Express as % Single Copy and Multicopy like De Smet**"
   ]
  },
  {
   "cell_type": "code",
   "execution_count": 68,
   "metadata": {
    "collapsed": false
   },
   "outputs": [
    {
     "data": {
      "text/html": [
       "<div>\n",
       "<style scoped>\n",
       "    .dataframe tbody tr th:only-of-type {\n",
       "        vertical-align: middle;\n",
       "    }\n",
       "\n",
       "    .dataframe tbody tr th {\n",
       "        vertical-align: top;\n",
       "    }\n",
       "\n",
       "    .dataframe thead th {\n",
       "        text-align: right;\n",
       "    }\n",
       "</style>\n",
       "<table border=\"1\" class=\"dataframe\">\n",
       "  <thead>\n",
       "    <tr style=\"text-align: right;\">\n",
       "      <th></th>\n",
       "      <th>Oeuropea&lt;56&gt;</th>\n",
       "      <th>FRAX08&lt;12&gt;</th>\n",
       "      <th>FRAX05&lt;50&gt;</th>\n",
       "      <th>FRAX25&lt;26&gt;</th>\n",
       "      <th>FRAX14&lt;48&gt;</th>\n",
       "      <th>FRAX15&lt;18&gt;</th>\n",
       "      <th>FRAX32&lt;2&gt;</th>\n",
       "      <th>FRAX21&lt;28&gt;</th>\n",
       "      <th>FRAX33&lt;52&gt;</th>\n",
       "      <th>FRAX26&lt;46&gt;</th>\n",
       "      <th>...</th>\n",
       "      <th>FRAX01&lt;14&gt;</th>\n",
       "      <th>FRAX00&lt;20&gt;</th>\n",
       "      <th>FRAX13&lt;44&gt;</th>\n",
       "      <th>FRAX20&lt;32&gt;</th>\n",
       "      <th>FRAX30&lt;0&gt;</th>\n",
       "      <th>FRAX27&lt;36&gt;</th>\n",
       "      <th>FRAX04&lt;38&gt;</th>\n",
       "      <th>FRAX11&lt;34&gt;</th>\n",
       "      <th>FRAX28&lt;4&gt;</th>\n",
       "      <th>FRAX06&lt;22&gt;</th>\n",
       "    </tr>\n",
       "  </thead>\n",
       "  <tbody>\n",
       "    <tr>\n",
       "      <th>4865</th>\n",
       "      <td>2</td>\n",
       "      <td>3</td>\n",
       "      <td>2</td>\n",
       "      <td>2</td>\n",
       "      <td>2</td>\n",
       "      <td>2</td>\n",
       "      <td>2</td>\n",
       "      <td>2</td>\n",
       "      <td>2</td>\n",
       "      <td>2</td>\n",
       "      <td>...</td>\n",
       "      <td>2</td>\n",
       "      <td>1</td>\n",
       "      <td>2</td>\n",
       "      <td>2</td>\n",
       "      <td>2</td>\n",
       "      <td>2</td>\n",
       "      <td>0</td>\n",
       "      <td>2</td>\n",
       "      <td>2</td>\n",
       "      <td>2</td>\n",
       "    </tr>\n",
       "    <tr>\n",
       "      <th>4866</th>\n",
       "      <td>2</td>\n",
       "      <td>2</td>\n",
       "      <td>2</td>\n",
       "      <td>2</td>\n",
       "      <td>2</td>\n",
       "      <td>2</td>\n",
       "      <td>2</td>\n",
       "      <td>2</td>\n",
       "      <td>2</td>\n",
       "      <td>2</td>\n",
       "      <td>...</td>\n",
       "      <td>2</td>\n",
       "      <td>2</td>\n",
       "      <td>2</td>\n",
       "      <td>2</td>\n",
       "      <td>2</td>\n",
       "      <td>2</td>\n",
       "      <td>2</td>\n",
       "      <td>2</td>\n",
       "      <td>2</td>\n",
       "      <td>2</td>\n",
       "    </tr>\n",
       "    <tr>\n",
       "      <th>4869</th>\n",
       "      <td>3</td>\n",
       "      <td>2</td>\n",
       "      <td>2</td>\n",
       "      <td>2</td>\n",
       "      <td>2</td>\n",
       "      <td>2</td>\n",
       "      <td>2</td>\n",
       "      <td>2</td>\n",
       "      <td>1</td>\n",
       "      <td>2</td>\n",
       "      <td>...</td>\n",
       "      <td>1</td>\n",
       "      <td>2</td>\n",
       "      <td>2</td>\n",
       "      <td>1</td>\n",
       "      <td>2</td>\n",
       "      <td>2</td>\n",
       "      <td>2</td>\n",
       "      <td>2</td>\n",
       "      <td>2</td>\n",
       "      <td>2</td>\n",
       "    </tr>\n",
       "    <tr>\n",
       "      <th>4870</th>\n",
       "      <td>2</td>\n",
       "      <td>2</td>\n",
       "      <td>2</td>\n",
       "      <td>2</td>\n",
       "      <td>2</td>\n",
       "      <td>2</td>\n",
       "      <td>2</td>\n",
       "      <td>2</td>\n",
       "      <td>2</td>\n",
       "      <td>2</td>\n",
       "      <td>...</td>\n",
       "      <td>0</td>\n",
       "      <td>2</td>\n",
       "      <td>2</td>\n",
       "      <td>2</td>\n",
       "      <td>2</td>\n",
       "      <td>2</td>\n",
       "      <td>2</td>\n",
       "      <td>2</td>\n",
       "      <td>2</td>\n",
       "      <td>2</td>\n",
       "    </tr>\n",
       "    <tr>\n",
       "      <th>4871</th>\n",
       "      <td>2</td>\n",
       "      <td>2</td>\n",
       "      <td>2</td>\n",
       "      <td>2</td>\n",
       "      <td>2</td>\n",
       "      <td>2</td>\n",
       "      <td>2</td>\n",
       "      <td>2</td>\n",
       "      <td>2</td>\n",
       "      <td>2</td>\n",
       "      <td>...</td>\n",
       "      <td>2</td>\n",
       "      <td>2</td>\n",
       "      <td>2</td>\n",
       "      <td>2</td>\n",
       "      <td>2</td>\n",
       "      <td>2</td>\n",
       "      <td>2</td>\n",
       "      <td>2</td>\n",
       "      <td>2</td>\n",
       "      <td>2</td>\n",
       "    </tr>\n",
       "  </tbody>\n",
       "</table>\n",
       "<p>5 rows × 29 columns</p>\n",
       "</div>"
      ],
      "text/plain": [
       "     Oeuropea<56> FRAX08<12> FRAX05<50> FRAX25<26> FRAX14<48> FRAX15<18>  \\\n",
       "4865            2          3          2          2          2          2   \n",
       "4866            2          2          2          2          2          2   \n",
       "4869            3          2          2          2          2          2   \n",
       "4870            2          2          2          2          2          2   \n",
       "4871            2          2          2          2          2          2   \n",
       "\n",
       "     FRAX32<2> FRAX21<28> FRAX33<52> FRAX26<46>    ...     FRAX01<14>  \\\n",
       "4865         2          2          2          2    ...              2   \n",
       "4866         2          2          2          2    ...              2   \n",
       "4869         2          2          1          2    ...              1   \n",
       "4870         2          2          2          2    ...              0   \n",
       "4871         2          2          2          2    ...              2   \n",
       "\n",
       "     FRAX00<20> FRAX13<44> FRAX20<32> FRAX30<0> FRAX27<36> FRAX04<38>  \\\n",
       "4865          1          2          2         2          2          0   \n",
       "4866          2          2          2         2          2          2   \n",
       "4869          2          2          1         2          2          2   \n",
       "4870          2          2          2         2          2          2   \n",
       "4871          2          2          2         2          2          2   \n",
       "\n",
       "     FRAX11<34> FRAX28<4> FRAX06<22>  \n",
       "4865          2         2          2  \n",
       "4866          2         2          2  \n",
       "4869          2         2          2  \n",
       "4870          2         2          2  \n",
       "4871          2         2          2  \n",
       "\n",
       "[5 rows x 29 columns]"
      ]
     },
     "execution_count": 68,
     "metadata": {},
     "output_type": "execute_result"
    }
   ],
   "source": [
    "# extant_counts.loc[10000013] + extant_counts.loc[get_opposite_side(10000013)]  #data frame with per species breakdown\n",
    "from pandas import DataFrame\n",
    "joined_ohnologs = DataFrame(columns=extant_counts.columns)\n",
    "for fam in left_side:\n",
    "    joined_ohnologs.loc[fam%10000000] = extant_counts.loc[fam] + extant_counts.loc[get_opposite_side(fam)]\n",
    "joined_ohnologs.head()"
   ]
  },
  {
   "cell_type": "code",
   "execution_count": 69,
   "metadata": {
    "collapsed": false
   },
   "outputs": [],
   "source": [
    "# This is a test that the table summing went as expected difference between terms should be zero in all columns\n",
    "assert (joined_ohnologs.loc[4865] - (extant_counts.loc[10004865] + extant_counts.loc[get_opposite_side(10004865)])).any() == 0"
   ]
  },
  {
   "cell_type": "code",
   "execution_count": 70,
   "metadata": {
    "collapsed": false
   },
   "outputs": [],
   "source": [
    "joined_ohnologs['Single Copy Species'] = joined_ohnologs.apply(lambda row: [row[col] == 1 for col in extant_counts.columns].count(True), axis=1)\n",
    "joined_ohnologs['Absent Species'] = joined_ohnologs.apply(lambda row: [row[col] == 0 for col in extant_counts.columns].count(True), axis=1)\n",
    "joined_ohnologs['Multicopy Species'] = joined_ohnologs.apply(lambda row: [row[col] > 2 for col in extant_counts.columns].count(True), axis=1)"
   ]
  },
  {
   "cell_type": "code",
   "execution_count": 71,
   "metadata": {
    "collapsed": false
   },
   "outputs": [
    {
     "data": {
      "text/html": [
       "<div>\n",
       "<style scoped>\n",
       "    .dataframe tbody tr th:only-of-type {\n",
       "        vertical-align: middle;\n",
       "    }\n",
       "\n",
       "    .dataframe tbody tr th {\n",
       "        vertical-align: top;\n",
       "    }\n",
       "\n",
       "    .dataframe thead th {\n",
       "        text-align: right;\n",
       "    }\n",
       "</style>\n",
       "<table border=\"1\" class=\"dataframe\">\n",
       "  <thead>\n",
       "    <tr style=\"text-align: right;\">\n",
       "      <th></th>\n",
       "      <th>Oeuropea&lt;56&gt;</th>\n",
       "      <th>FRAX08&lt;12&gt;</th>\n",
       "      <th>FRAX05&lt;50&gt;</th>\n",
       "      <th>FRAX25&lt;26&gt;</th>\n",
       "      <th>FRAX14&lt;48&gt;</th>\n",
       "      <th>FRAX15&lt;18&gt;</th>\n",
       "      <th>FRAX32&lt;2&gt;</th>\n",
       "      <th>FRAX21&lt;28&gt;</th>\n",
       "      <th>FRAX33&lt;52&gt;</th>\n",
       "      <th>FRAX26&lt;46&gt;</th>\n",
       "      <th>...</th>\n",
       "      <th>FRAX20&lt;32&gt;</th>\n",
       "      <th>FRAX30&lt;0&gt;</th>\n",
       "      <th>FRAX27&lt;36&gt;</th>\n",
       "      <th>FRAX04&lt;38&gt;</th>\n",
       "      <th>FRAX11&lt;34&gt;</th>\n",
       "      <th>FRAX28&lt;4&gt;</th>\n",
       "      <th>FRAX06&lt;22&gt;</th>\n",
       "      <th>Single Copy Species</th>\n",
       "      <th>Absent Species</th>\n",
       "      <th>Multicopy Species</th>\n",
       "    </tr>\n",
       "  </thead>\n",
       "  <tbody>\n",
       "    <tr>\n",
       "      <th>4865</th>\n",
       "      <td>2</td>\n",
       "      <td>3</td>\n",
       "      <td>2</td>\n",
       "      <td>2</td>\n",
       "      <td>2</td>\n",
       "      <td>2</td>\n",
       "      <td>2</td>\n",
       "      <td>2</td>\n",
       "      <td>2</td>\n",
       "      <td>2</td>\n",
       "      <td>...</td>\n",
       "      <td>2</td>\n",
       "      <td>2</td>\n",
       "      <td>2</td>\n",
       "      <td>0</td>\n",
       "      <td>2</td>\n",
       "      <td>2</td>\n",
       "      <td>2</td>\n",
       "      <td>4</td>\n",
       "      <td>1</td>\n",
       "      <td>2</td>\n",
       "    </tr>\n",
       "    <tr>\n",
       "      <th>4866</th>\n",
       "      <td>2</td>\n",
       "      <td>2</td>\n",
       "      <td>2</td>\n",
       "      <td>2</td>\n",
       "      <td>2</td>\n",
       "      <td>2</td>\n",
       "      <td>2</td>\n",
       "      <td>2</td>\n",
       "      <td>2</td>\n",
       "      <td>2</td>\n",
       "      <td>...</td>\n",
       "      <td>2</td>\n",
       "      <td>2</td>\n",
       "      <td>2</td>\n",
       "      <td>2</td>\n",
       "      <td>2</td>\n",
       "      <td>2</td>\n",
       "      <td>2</td>\n",
       "      <td>0</td>\n",
       "      <td>0</td>\n",
       "      <td>0</td>\n",
       "    </tr>\n",
       "    <tr>\n",
       "      <th>4869</th>\n",
       "      <td>3</td>\n",
       "      <td>2</td>\n",
       "      <td>2</td>\n",
       "      <td>2</td>\n",
       "      <td>2</td>\n",
       "      <td>2</td>\n",
       "      <td>2</td>\n",
       "      <td>2</td>\n",
       "      <td>1</td>\n",
       "      <td>2</td>\n",
       "      <td>...</td>\n",
       "      <td>1</td>\n",
       "      <td>2</td>\n",
       "      <td>2</td>\n",
       "      <td>2</td>\n",
       "      <td>2</td>\n",
       "      <td>2</td>\n",
       "      <td>2</td>\n",
       "      <td>3</td>\n",
       "      <td>0</td>\n",
       "      <td>1</td>\n",
       "    </tr>\n",
       "    <tr>\n",
       "      <th>4870</th>\n",
       "      <td>2</td>\n",
       "      <td>2</td>\n",
       "      <td>2</td>\n",
       "      <td>2</td>\n",
       "      <td>2</td>\n",
       "      <td>2</td>\n",
       "      <td>2</td>\n",
       "      <td>2</td>\n",
       "      <td>2</td>\n",
       "      <td>2</td>\n",
       "      <td>...</td>\n",
       "      <td>2</td>\n",
       "      <td>2</td>\n",
       "      <td>2</td>\n",
       "      <td>2</td>\n",
       "      <td>2</td>\n",
       "      <td>2</td>\n",
       "      <td>2</td>\n",
       "      <td>1</td>\n",
       "      <td>1</td>\n",
       "      <td>0</td>\n",
       "    </tr>\n",
       "    <tr>\n",
       "      <th>4871</th>\n",
       "      <td>2</td>\n",
       "      <td>2</td>\n",
       "      <td>2</td>\n",
       "      <td>2</td>\n",
       "      <td>2</td>\n",
       "      <td>2</td>\n",
       "      <td>2</td>\n",
       "      <td>2</td>\n",
       "      <td>2</td>\n",
       "      <td>2</td>\n",
       "      <td>...</td>\n",
       "      <td>2</td>\n",
       "      <td>2</td>\n",
       "      <td>2</td>\n",
       "      <td>2</td>\n",
       "      <td>2</td>\n",
       "      <td>2</td>\n",
       "      <td>2</td>\n",
       "      <td>0</td>\n",
       "      <td>0</td>\n",
       "      <td>0</td>\n",
       "    </tr>\n",
       "  </tbody>\n",
       "</table>\n",
       "<p>5 rows × 32 columns</p>\n",
       "</div>"
      ],
      "text/plain": [
       "     Oeuropea<56> FRAX08<12> FRAX05<50> FRAX25<26> FRAX14<48> FRAX15<18>  \\\n",
       "4865            2          3          2          2          2          2   \n",
       "4866            2          2          2          2          2          2   \n",
       "4869            3          2          2          2          2          2   \n",
       "4870            2          2          2          2          2          2   \n",
       "4871            2          2          2          2          2          2   \n",
       "\n",
       "     FRAX32<2> FRAX21<28> FRAX33<52> FRAX26<46>        ...        FRAX20<32>  \\\n",
       "4865         2          2          2          2        ...                 2   \n",
       "4866         2          2          2          2        ...                 2   \n",
       "4869         2          2          1          2        ...                 1   \n",
       "4870         2          2          2          2        ...                 2   \n",
       "4871         2          2          2          2        ...                 2   \n",
       "\n",
       "     FRAX30<0> FRAX27<36> FRAX04<38> FRAX11<34> FRAX28<4> FRAX06<22>  \\\n",
       "4865         2          2          0          2         2          2   \n",
       "4866         2          2          2          2         2          2   \n",
       "4869         2          2          2          2         2          2   \n",
       "4870         2          2          2          2         2          2   \n",
       "4871         2          2          2          2         2          2   \n",
       "\n",
       "     Single Copy Species Absent Species Multicopy Species  \n",
       "4865                   4              1                 2  \n",
       "4866                   0              0                 0  \n",
       "4869                   3              0                 1  \n",
       "4870                   1              1                 0  \n",
       "4871                   0              0                 0  \n",
       "\n",
       "[5 rows x 32 columns]"
      ]
     },
     "execution_count": 71,
     "metadata": {},
     "output_type": "execute_result"
    }
   ],
   "source": [
    "joined_ohnologs.head()"
   ]
  },
  {
   "cell_type": "code",
   "execution_count": 72,
   "metadata": {
    "collapsed": false
   },
   "outputs": [
    {
     "data": {
      "image/png": "[encoded data removed]",
      "text/plain": [
       "<matplotlib.figure.Figure at 0x1c0a29b0>"
      ]
     },
     "metadata": {},
     "output_type": "display_data"
    }
   ],
   "source": [
    "pretty_hist(\"Species Absent Genes\", joined_ohnologs['Absent Species'])"
   ]
  },
  {
   "cell_type": "code",
   "execution_count": 73,
   "metadata": {
    "collapsed": false
   },
   "outputs": [
    {
     "data": {
      "image/png": "[encoded data removed]",
      "text/plain": [
       "<matplotlib.figure.Figure at 0x74aff60>"
      ]
     },
     "metadata": {},
     "output_type": "display_data"
    }
   ],
   "source": [
    "in_all_species = joined_ohnologs[joined_ohnologs['Absent Species'] == 0]\n",
    "categorical_histogram(\"\", {\"Single\": in_all_species['Single Copy Species']}, x_title='Single copy Species')\n",
    "#                           \"Multi\": in_all_species['Multicopy Species']},)"
   ]
  },
  {
   "cell_type": "code",
   "execution_count": 74,
   "metadata": {
    "collapsed": false,
    "scrolled": false
   },
   "outputs": [
    {
     "data": {
      "text/html": [
       "<p> Contrast this figure with Gene Duplicability (li 2016).  Filtering is likely to blame.<p>\n",
       "<img src=\"../Figures for Notes/Overall Distribution of Single-Copy Percentage for All Angiosperm Core Gene Families.png\" width=\"500\">"
      ],
      "text/plain": [
       "<IPython.core.display.HTML object>"
      ]
     },
     "metadata": {},
     "output_type": "display_data"
    }
   ],
   "source": [
    "%%html\n",
    "<p> Contrast this figure with Gene Duplicability (li 2016).  Filtering is likely to blame.<p>\n",
    "<img src=\"../Figures for Notes/Overall Distribution of Single-Copy Percentage for All Angiosperm Core Gene Families.png\" width=\"500\">"
   ]
  },
  {
   "cell_type": "code",
   "execution_count": 75,
   "metadata": {
    "collapsed": false
   },
   "outputs": [
    {
     "data": {
      "image/png": "[encoded data removed]",
      "text/plain": [
       "<matplotlib.figure.Figure at 0x74a3160>"
      ]
     },
     "metadata": {},
     "output_type": "display_data"
    }
   ],
   "source": [
    "in_all_species = joined_ohnologs[joined_ohnologs['Absent Species'] == 0]\n",
    "multi_copy = in_all_species['Multicopy Species'] > 14\n",
    "single_copy = in_all_species['Single Copy Species'] > 14\n",
    "intermediate = (~multi_copy) & (~single_copy)\n",
    "# intermediate.sum()\n",
    "\n",
    "categorical_histogram(\"\", {\"Single\": in_all_species[single_copy]['Single Copy Species'],\n",
    "                          \"Multi\": in_all_species[multi_copy]['Single Copy Species'],#})\n",
    "                          \"Intermediate\": in_all_species[intermediate]['Single Copy Species']},\n",
    "                     x_title='Single Copy Species')"
   ]
  },
  {
   "cell_type": "code",
   "execution_count": 76,
   "metadata": {
    "collapsed": false
   },
   "outputs": [
    {
     "data": {
      "text/plain": [
       "True"
      ]
     },
     "execution_count": 76,
     "metadata": {},
     "output_type": "execute_result"
    }
   ],
   "source": [
    "multi_copy.sum() + single_copy.sum() + intermediate.sum() == len(in_all_species)"
   ]
  },
  {
   "cell_type": "markdown",
   "metadata": {},
   "source": [
    "# Mean Copy number per species\n",
    "Just to make sure that large copies in one species aren't throwing the trend"
   ]
  },
  {
   "cell_type": "code",
   "execution_count": 77,
   "metadata": {
    "collapsed": false
   },
   "outputs": [
    {
     "data": {
      "image/png": "[encoded data removed]",
      "text/plain": [
       "<matplotlib.figure.Figure at 0x1c0c8fd0>"
      ]
     },
     "metadata": {},
     "output_type": "display_data"
    }
   ],
   "source": [
    "joined_ohnologs['Mean per Species'] = joined_ohnologs.apply(lambda row: row[extant_counts.columns].mean(), axis=1)\n",
    "\n",
    "pretty_hist('Mean Copies per Species for Oleaceae Ohnologs', joined_ohnologs['Mean per Species'], \n",
    "            y_title='# Ohnolog Pairs', \n",
    "            x_title='Mean Copies per Species per Ohnolog Pair', \n",
    "            bins=40, xmax=5)"
   ]
  },
  {
   "cell_type": "markdown",
   "metadata": {
    "collapsed": false
   },
   "source": [
    "##### Needlessly detailed filtering of 0 copy species\n",
    "joined_ohnologs['Mean per Extant Species'] = joined_ohnologs.apply(lambda row: mean([row[col] for col in extant_counts.columns if row[col] != 0]), axis=1)\n",
    "\n",
    "pretty_hist('Mean Copies per Extant Species for Single Oleaceae Duplications', joined_ohnologs['Mean per Extant Species'], \n",
    "            y_title='# Gene Families with Retained Ohnologs', \n",
    "            x_title='Mean Copies per Species per Ohnolog Pair', \n",
    "            bins=40, xmax=5)"
   ]
  },
  {
   "cell_type": "code",
   "execution_count": 78,
   "metadata": {
    "collapsed": false
   },
   "outputs": [
    {
     "name": "stdout",
     "output_type": "stream",
     "text": [
      "[6, 53, 36, 35, 43, 45, 81, 108, 130, 96, 171, 158, 150, 156, 203, 275, 347, 454, 598, 417, 344, 77, 37, 21, 27, 25, 20, 27, 14, 7, 6, 10, 9, 1, 7, 1, 3, 2, 3, 1, 3, 3, 0, 0, 1, 0, 0, 0, 0, 0, 0, 0, 0, 0, 0, 0, 1, 0, 0, 0, 0, 0, 0, 0, 0, 0, 0, 0, 0, 0, 0, 0, 0, 0, 0, 0, 0, 0, 0, 0, 0, 0, 1, 0, 1]\n"
     ]
    }
   ],
   "source": [
    "print(i_hist((joined_ohnologs['Mean per Species'] / 0.1).astype(int)))"
   ]
  },
  {
   "cell_type": "code",
   "execution_count": 79,
   "metadata": {
    "collapsed": false
   },
   "outputs": [
    {
     "data": {
      "text/plain": [
       "218"
      ]
     },
     "execution_count": 79,
     "metadata": {},
     "output_type": "execute_result"
    }
   ],
   "source": [
    "sum([6, 53, 36, 35, 43, 45,])"
   ]
  },
  {
   "cell_type": "markdown",
   "metadata": {},
   "source": [
    "## Bringing in All Ohnologs (any N1 duplication) for filtering control"
   ]
  },
  {
   "cell_type": "code",
   "execution_count": 80,
   "metadata": {
    "collapsed": false
   },
   "outputs": [],
   "source": [
    "all_duplicates = read_csv(r\"CAFE-4.2\\data\\homeologs_only\\all_N1_duplications_counts.csv\", delimiter='\\t', index_col='Family ID')"
   ]
  },
  {
   "cell_type": "code",
   "execution_count": 81,
   "metadata": {
    "collapsed": false
   },
   "outputs": [
    {
     "data": {
      "text/plain": [
       "9546"
      ]
     },
     "execution_count": 81,
     "metadata": {},
     "output_type": "execute_result"
    }
   ],
   "source": [
    "columns = 'Oeuropea\tFRAX08\tFRAX05\tFRAX25\tFRAX14\tFRAX15\tFRAX32\tFRAX21\tFRAX33\tFRAX26\tFRAX16\tFRAX03\tFRAX07\tFRAX23\tFRAX31\tFRAX09\tFRAX19\tFRAX12\tFRAX29\tFRAX01\tFRAX00\tFRAX13\tFRAX20\tFRAX30\tFRAX27\tFRAX04\tFRAX11\tFRAX28\tFRAX06'.split()\n",
    "all_duplicates = all_duplicates[columns]\n",
    "left_all = [i for i in all_duplicates.index if i >= 20000000] # 20000000\n",
    "len(left_all)                                                # 10000000"
   ]
  },
  {
   "cell_type": "code",
   "execution_count": 82,
   "metadata": {
    "collapsed": false
   },
   "outputs": [
    {
     "data": {
      "text/html": [
       "<div>\n",
       "<style scoped>\n",
       "    .dataframe tbody tr th:only-of-type {\n",
       "        vertical-align: middle;\n",
       "    }\n",
       "\n",
       "    .dataframe tbody tr th {\n",
       "        vertical-align: top;\n",
       "    }\n",
       "\n",
       "    .dataframe thead th {\n",
       "        text-align: right;\n",
       "    }\n",
       "</style>\n",
       "<table border=\"1\" class=\"dataframe\">\n",
       "  <thead>\n",
       "    <tr style=\"text-align: right;\">\n",
       "      <th></th>\n",
       "      <th>Oeuropea</th>\n",
       "      <th>FRAX08</th>\n",
       "      <th>FRAX05</th>\n",
       "      <th>FRAX25</th>\n",
       "      <th>FRAX14</th>\n",
       "      <th>FRAX15</th>\n",
       "      <th>FRAX32</th>\n",
       "      <th>FRAX21</th>\n",
       "      <th>FRAX33</th>\n",
       "      <th>FRAX26</th>\n",
       "      <th>...</th>\n",
       "      <th>FRAX01</th>\n",
       "      <th>FRAX00</th>\n",
       "      <th>FRAX13</th>\n",
       "      <th>FRAX20</th>\n",
       "      <th>FRAX30</th>\n",
       "      <th>FRAX27</th>\n",
       "      <th>FRAX04</th>\n",
       "      <th>FRAX11</th>\n",
       "      <th>FRAX28</th>\n",
       "      <th>FRAX06</th>\n",
       "    </tr>\n",
       "    <tr>\n",
       "      <th>Family ID</th>\n",
       "      <th></th>\n",
       "      <th></th>\n",
       "      <th></th>\n",
       "      <th></th>\n",
       "      <th></th>\n",
       "      <th></th>\n",
       "      <th></th>\n",
       "      <th></th>\n",
       "      <th></th>\n",
       "      <th></th>\n",
       "      <th></th>\n",
       "      <th></th>\n",
       "      <th></th>\n",
       "      <th></th>\n",
       "      <th></th>\n",
       "      <th></th>\n",
       "      <th></th>\n",
       "      <th></th>\n",
       "      <th></th>\n",
       "      <th></th>\n",
       "      <th></th>\n",
       "    </tr>\n",
       "  </thead>\n",
       "  <tbody>\n",
       "    <tr>\n",
       "      <th>10000000</th>\n",
       "      <td>0</td>\n",
       "      <td>0</td>\n",
       "      <td>0</td>\n",
       "      <td>0</td>\n",
       "      <td>0</td>\n",
       "      <td>0</td>\n",
       "      <td>0</td>\n",
       "      <td>0</td>\n",
       "      <td>0</td>\n",
       "      <td>0</td>\n",
       "      <td>...</td>\n",
       "      <td>0</td>\n",
       "      <td>0</td>\n",
       "      <td>0</td>\n",
       "      <td>0</td>\n",
       "      <td>0</td>\n",
       "      <td>0</td>\n",
       "      <td>0</td>\n",
       "      <td>0</td>\n",
       "      <td>0</td>\n",
       "      <td>0</td>\n",
       "    </tr>\n",
       "    <tr>\n",
       "      <th>10000001</th>\n",
       "      <td>2</td>\n",
       "      <td>1</td>\n",
       "      <td>1</td>\n",
       "      <td>1</td>\n",
       "      <td>0</td>\n",
       "      <td>0</td>\n",
       "      <td>1</td>\n",
       "      <td>1</td>\n",
       "      <td>1</td>\n",
       "      <td>1</td>\n",
       "      <td>...</td>\n",
       "      <td>1</td>\n",
       "      <td>1</td>\n",
       "      <td>1</td>\n",
       "      <td>1</td>\n",
       "      <td>1</td>\n",
       "      <td>1</td>\n",
       "      <td>1</td>\n",
       "      <td>1</td>\n",
       "      <td>1</td>\n",
       "      <td>1</td>\n",
       "    </tr>\n",
       "    <tr>\n",
       "      <th>10000002</th>\n",
       "      <td>1</td>\n",
       "      <td>0</td>\n",
       "      <td>0</td>\n",
       "      <td>0</td>\n",
       "      <td>0</td>\n",
       "      <td>0</td>\n",
       "      <td>0</td>\n",
       "      <td>0</td>\n",
       "      <td>0</td>\n",
       "      <td>0</td>\n",
       "      <td>...</td>\n",
       "      <td>0</td>\n",
       "      <td>0</td>\n",
       "      <td>0</td>\n",
       "      <td>0</td>\n",
       "      <td>0</td>\n",
       "      <td>0</td>\n",
       "      <td>0</td>\n",
       "      <td>0</td>\n",
       "      <td>0</td>\n",
       "      <td>0</td>\n",
       "    </tr>\n",
       "    <tr>\n",
       "      <th>10000003</th>\n",
       "      <td>0</td>\n",
       "      <td>0</td>\n",
       "      <td>0</td>\n",
       "      <td>0</td>\n",
       "      <td>0</td>\n",
       "      <td>1</td>\n",
       "      <td>0</td>\n",
       "      <td>0</td>\n",
       "      <td>0</td>\n",
       "      <td>1</td>\n",
       "      <td>...</td>\n",
       "      <td>0</td>\n",
       "      <td>1</td>\n",
       "      <td>1</td>\n",
       "      <td>1</td>\n",
       "      <td>1</td>\n",
       "      <td>0</td>\n",
       "      <td>0</td>\n",
       "      <td>0</td>\n",
       "      <td>0</td>\n",
       "      <td>0</td>\n",
       "    </tr>\n",
       "    <tr>\n",
       "      <th>10000005</th>\n",
       "      <td>2</td>\n",
       "      <td>0</td>\n",
       "      <td>0</td>\n",
       "      <td>1</td>\n",
       "      <td>0</td>\n",
       "      <td>1</td>\n",
       "      <td>1</td>\n",
       "      <td>1</td>\n",
       "      <td>2</td>\n",
       "      <td>0</td>\n",
       "      <td>...</td>\n",
       "      <td>2</td>\n",
       "      <td>3</td>\n",
       "      <td>1</td>\n",
       "      <td>0</td>\n",
       "      <td>2</td>\n",
       "      <td>2</td>\n",
       "      <td>1</td>\n",
       "      <td>2</td>\n",
       "      <td>2</td>\n",
       "      <td>2</td>\n",
       "    </tr>\n",
       "  </tbody>\n",
       "</table>\n",
       "<p>5 rows × 29 columns</p>\n",
       "</div>"
      ],
      "text/plain": [
       "           Oeuropea  FRAX08  FRAX05  FRAX25  FRAX14  FRAX15  FRAX32  FRAX21  \\\n",
       "Family ID                                                                     \n",
       "10000000          0       0       0       0       0       0       0       0   \n",
       "10000001          2       1       1       1       0       0       1       1   \n",
       "10000002          1       0       0       0       0       0       0       0   \n",
       "10000003          0       0       0       0       0       1       0       0   \n",
       "10000005          2       0       0       1       0       1       1       1   \n",
       "\n",
       "           FRAX33  FRAX26   ...    FRAX01  FRAX00  FRAX13  FRAX20  FRAX30  \\\n",
       "Family ID                   ...                                             \n",
       "10000000        0       0   ...         0       0       0       0       0   \n",
       "10000001        1       1   ...         1       1       1       1       1   \n",
       "10000002        0       0   ...         0       0       0       0       0   \n",
       "10000003        0       1   ...         0       1       1       1       1   \n",
       "10000005        2       0   ...         2       3       1       0       2   \n",
       "\n",
       "           FRAX27  FRAX04  FRAX11  FRAX28  FRAX06  \n",
       "Family ID                                          \n",
       "10000000        0       0       0       0       0  \n",
       "10000001        1       1       1       1       1  \n",
       "10000002        0       0       0       0       0  \n",
       "10000003        0       0       0       0       0  \n",
       "10000005        2       1       2       2       2  \n",
       "\n",
       "[5 rows x 29 columns]"
      ]
     },
     "execution_count": 82,
     "metadata": {},
     "output_type": "execute_result"
    }
   ],
   "source": [
    "all_duplicates.head()"
   ]
  },
  {
   "cell_type": "code",
   "execution_count": 83,
   "metadata": {
    "collapsed": false
   },
   "outputs": [
    {
     "data": {
      "text/plain": [
       "Oeuropea    25\n",
       "FRAX08      10\n",
       "FRAX05       9\n",
       "FRAX25       9\n",
       "FRAX14       5\n",
       "FRAX15       5\n",
       "FRAX32       9\n",
       "FRAX21      15\n",
       "FRAX33       9\n",
       "FRAX26       7\n",
       "FRAX16      10\n",
       "FRAX03       9\n",
       "FRAX07      13\n",
       "FRAX23      10\n",
       "FRAX31      10\n",
       "FRAX09      12\n",
       "FRAX19      11\n",
       "FRAX12       7\n",
       "FRAX29      14\n",
       "FRAX01       8\n",
       "FRAX00      18\n",
       "FRAX13       9\n",
       "FRAX20      10\n",
       "FRAX30       9\n",
       "FRAX27      11\n",
       "FRAX04      11\n",
       "FRAX11      10\n",
       "FRAX28      10\n",
       "FRAX06       9\n",
       "Name: 20000003, dtype: int64"
      ]
     },
     "execution_count": 83,
     "metadata": {},
     "output_type": "execute_result"
    }
   ],
   "source": [
    "all_duplicates.loc[get_opposite_side(10000003)]"
   ]
  },
  {
   "cell_type": "code",
   "execution_count": 84,
   "metadata": {
    "collapsed": false
   },
   "outputs": [
    {
     "name": "stdout",
     "output_type": "stream",
     "text": [
      "0\n"
     ]
    },
    {
     "data": {
      "text/plain": [
       "9546"
      ]
     },
     "execution_count": 84,
     "metadata": {},
     "output_type": "execute_result"
    }
   ],
   "source": [
    "joined_all_ohnologs = DataFrame(columns=all_duplicates.columns)\n",
    "for fam in left_all:\n",
    "    joined_all_ohnologs.loc[fam%10000000] = all_duplicates.loc[fam] + all_duplicates.loc[get_opposite_side(fam)]\n",
    "bad_rows = [row.name for i, row in joined_all_ohnologs.iterrows() if row.sum() == 0]  # That seems like that shouldn't happen...\n",
    "print(len(bad_rows))\n",
    "joined_all_ohnologs.drop(bad_rows, axis=0)\n",
    "len(joined_all_ohnologs)"
   ]
  },
  {
   "cell_type": "code",
   "execution_count": 85,
   "metadata": {
    "collapsed": false
   },
   "outputs": [
    {
     "data": {
      "image/png": "[encoded data removed]",
      "text/plain": [
       "<matplotlib.figure.Figure at 0x1c3e9400>"
      ]
     },
     "metadata": {},
     "output_type": "display_data"
    }
   ],
   "source": [
    "def single_copy_hist(joined_ohnologs, columns):\n",
    "    joined_ohnologs['Single Copy Species'] = joined_ohnologs.apply(lambda row: [row[col] == 1 for col in columns].count(True), axis=1)\n",
    "    joined_ohnologs['Absent Species'] = joined_ohnologs.apply(lambda row: [row[col] == 0 for col in columns].count(True), axis=1)\n",
    "    joined_ohnologs['Multicopy Species'] = joined_ohnologs.apply(lambda row: [row[col] > 2 for col in columns].count(True), axis=1)\n",
    "\n",
    "    in_all_species = joined_ohnologs[joined_ohnologs['Absent Species'] == 0]\n",
    "    multi_copy = in_all_species['Multicopy Species'] > 14\n",
    "    single_copy = in_all_species['Single Copy Species'] > 14\n",
    "    intermediate = (~multi_copy) & (~single_copy)\n",
    "    # intermediate.sum()\n",
    "\n",
    "    categorical_histogram(\"\", {\"Single\": in_all_species[single_copy]['Single Copy Species'],\n",
    "                              \"Multi\": in_all_species[multi_copy]['Single Copy Species'],#})\n",
    "                              \"Intermediate\": in_all_species[intermediate]['Single Copy Species']},\n",
    "                         x_title='Single Copy Species')\n",
    "    \n",
    "single_copy_hist(joined_all_ohnologs, columns)"
   ]
  },
  {
   "cell_type": "code",
   "execution_count": 86,
   "metadata": {
    "collapsed": true
   },
   "outputs": [],
   "source": [
    "joined_all_ohnologs['Mean per Species'] = joined_all_ohnologs.apply(lambda row: row[columns].mean(), axis=1)"
   ]
  },
  {
   "cell_type": "code",
   "execution_count": 87,
   "metadata": {
    "collapsed": false
   },
   "outputs": [
    {
     "data": {
      "image/png": "[encoded data removed]",
      "text/plain": [
       "<matplotlib.figure.Figure at 0x1c3ba780>"
      ]
     },
     "metadata": {},
     "output_type": "display_data"
    }
   ],
   "source": [
    "pretty_hist('Mean Copies per Species for all Oleaceae Root Duplications', joined_all_ohnologs['Mean per Species'], \n",
    "            y_title='# Gene Families', \n",
    "            x_title='Mean Copies per Species per Gene Family', \n",
    "            bins=40, xmax=5)"
   ]
  },
  {
   "cell_type": "markdown",
   "metadata": {
    "collapsed": true
   },
   "source": [
    "##### Needlessly complicated sum, hard to interpret\n",
    "joined_all_ohnologs['Sum'] = joined_all_ohnologs.apply(lambda row: row[columns].sum(), axis=1)\n",
    "\n",
    "pretty_hist(\"Sum of Every Ohnolog per Family over 29 Species\", joined_all_ohnologs['Sum'], \n",
    "            x_title=\"Sum of extant copies across all species\", xmax=180,\n",
    "            y_title=\"Number of Ohnolog Families\")"
   ]
  },
  {
   "cell_type": "markdown",
   "metadata": {},
   "source": []
  },
  {
   "cell_type": "markdown",
   "metadata": {},
   "source": [
    "### Expressed as Percentage of the larger 100% - 0%"
   ]
  },
  {
   "cell_type": "code",
   "execution_count": 88,
   "metadata": {
    "collapsed": false
   },
   "outputs": [
    {
     "data": {
      "text/plain": [
       "8428"
      ]
     },
     "execution_count": 88,
     "metadata": {},
     "output_type": "execute_result"
    }
   ],
   "source": [
    "def percent_size_difference(left_side, event_dict):\n",
    "    size_difference = {}\n",
    "    absolute_differences = {}\n",
    "    for left in left_side:\n",
    "        right = get_opposite_side(left)\n",
    "        biggest = max(event_dict[left], event_dict[right]) # less loss events ~= more extant copies\n",
    "        smallest = min(event_dict[left], event_dict[right])\n",
    "        size_difference[left] = smallest / biggest\n",
    "        size_difference[right] = biggest / smallest\n",
    "        absolute_differences[left] = smallest - biggest\n",
    "        absolute_differences[right] = biggest - smallest\n",
    "    return size_difference, absolute_differences\n",
    "size_differences, absolute_differences = percent_size_difference(left_side, extant_copies)\n",
    "len(size_differences)"
   ]
  },
  {
   "cell_type": "code",
   "execution_count": 89,
   "metadata": {
    "collapsed": false
   },
   "outputs": [
    {
     "data": {
      "image/png": "[encoded data removed]",
      "text/plain": [
       "<matplotlib.figure.Figure at 0x1c384f28>"
      ]
     },
     "metadata": {},
     "output_type": "display_data"
    }
   ],
   "source": [
    "from math import log\n",
    "pretty_hist(\"Percent Difference in Ohnolog Paired Subtrees\", [int(log(v)*10) for v in size_differences.values()], x_title=\"Natural Log Ratio difference in extant copies between Pairs\")"
   ]
  },
  {
   "cell_type": "code",
   "execution_count": 90,
   "metadata": {
    "collapsed": false
   },
   "outputs": [
    {
     "data": {
      "text/plain": [
       "1259"
      ]
     },
     "execution_count": 90,
     "metadata": {},
     "output_type": "execute_result"
    }
   ],
   "source": [
    "len([v for v in size_differences.values() if v > 2])  # 1259 == 29% of the pairs are double the size of their partner"
   ]
  },
  {
   "cell_type": "code",
   "execution_count": 91,
   "metadata": {
    "collapsed": false
   },
   "outputs": [
    {
     "data": {
      "image/png": "[encoded data removed]",
      "text/plain": [
       "<matplotlib.figure.Figure at 0x1c3805c0>"
      ]
     },
     "metadata": {},
     "output_type": "display_data"
    }
   ],
   "source": [
    "shuffled_events = shuffler(extant_copies)\n",
    "shuffled_differences, shuffled_absolutes = percent_size_difference(left_side, shuffled_events)\n",
    "pretty_hist(\"Null: Percent Difference in Randomly Shuffled Pairs of Ohnolog Subtrees\", [int(log(v)*10) for v in shuffled_differences.values()], x_title=\"Natural Log Ratio difference in extant copies between Pairs\")"
   ]
  },
  {
   "cell_type": "code",
   "execution_count": 92,
   "metadata": {
    "collapsed": false
   },
   "outputs": [
    {
     "data": {
      "text/plain": [
       "'29.876602%'"
      ]
     },
     "execution_count": 92,
     "metadata": {},
     "output_type": "execute_result"
    }
   ],
   "source": [
    "pp(len([v for v in size_differences.values() if v > 2]) / (len(size_differences)//2))"
   ]
  },
  {
   "cell_type": "code",
   "execution_count": 93,
   "metadata": {
    "collapsed": false
   },
   "outputs": [
    {
     "name": "stdout",
     "output_type": "stream",
     "text": [
      "1 91.338396%\n",
      "2 29.876602%\n",
      "3 22.994779%\n",
      "4 19.933555%\n",
      "5 18.035121%\n",
      "6 16.184148%\n",
      "7 14.736592%\n",
      "8 13.289037%\n",
      "9 12.387280%\n",
      "10 11.248220%\n",
      "11 10.393925%\n",
      "12 9.563360%\n",
      "13 9.041291%\n",
      "14 8.305648%\n",
      "15 7.498813%\n",
      "16 7.237779%\n",
      "17 6.691979%\n",
      "18 6.288562%\n",
      "19 5.813953%\n",
      "20 5.315615%\n",
      "21 4.841006%\n",
      "22 4.508780%\n",
      "23 4.176554%\n",
      "24 3.535833%\n",
      "25 3.037494%\n",
      "26 2.681538%\n",
      "27 2.278121%\n",
      "28 1.779782%\n",
      "29 1.447556%\n"
     ]
    }
   ],
   "source": [
    "# Size cutoffs\n",
    "for cutoff in range(1, 30):\n",
    "    print(cutoff, pp(len([v for v in size_differences.values() if v > cutoff]) / (len(size_differences)//2)))"
   ]
  },
  {
   "cell_type": "code",
   "execution_count": 94,
   "metadata": {
    "collapsed": false,
    "scrolled": false
   },
   "outputs": [
    {
     "data": {
      "image/png": "[encoded data removed]",
      "text/plain": [
       "<matplotlib.figure.Figure at 0x1c4a8f98>"
      ]
     },
     "metadata": {},
     "output_type": "display_data"
    }
   ],
   "source": [
    "diff_vals = [abs(v) for v in absolute_differences.values() if -50 < v < 50]\n",
    "pretty_hist(\"Absolute Count Differences between Pairs of Ohnologs\", diff_vals,\n",
    "           x_title=\"Difference in Number of Extant Copies of the Partner Ohnolog\",\n",
    "           y_title=\"Number of Ohnolog Subtrees\")"
   ]
  },
  {
   "cell_type": "code",
   "execution_count": 95,
   "metadata": {
    "collapsed": false
   },
   "outputs": [
    {
     "data": {
      "text/plain": [
       "'25.889891%'"
      ]
     },
     "execution_count": 95,
     "metadata": {},
     "output_type": "execute_result"
    }
   ],
   "source": [
    "pp(len([v for v in absolute_differences.values() if 15 < v ]) / (len(extant_copies) / 2))"
   ]
  },
  {
   "cell_type": "markdown",
   "metadata": {},
   "source": [
    "At first glance, it looks like there is a subgroup that could be classified as having antagonistic dosage between the two ohnlog subtrees where the copy number difference is greater than 15."
   ]
  },
  {
   "cell_type": "code",
   "execution_count": 96,
   "metadata": {
    "collapsed": false
   },
   "outputs": [
    {
     "data": {
      "text/html": [
       "<img src=\"CAFE-4.2/data/homeologs_only/reports/Pairs of Ohnologs show Similar Extant Copy Numbers.png\">"
      ],
      "text/plain": [
       "<IPython.core.display.HTML object>"
      ]
     },
     "metadata": {},
     "output_type": "display_data"
    }
   ],
   "source": [
    "%%html\n",
    "<img src=\"CAFE-4.2/data/homeologs_only/reports/Pairs of Ohnologs show Similar Extant Copy Numbers.png\">"
   ]
  },
  {
   "cell_type": "markdown",
   "metadata": {},
   "source": [
    "However, we should test that explanation against our null model:"
   ]
  },
  {
   "cell_type": "code",
   "execution_count": 97,
   "metadata": {
    "collapsed": false
   },
   "outputs": [
    {
     "data": {
      "image/png": "[encoded data removed]",
      "text/plain": [
       "<matplotlib.figure.Figure at 0x1c2eaa58>"
      ]
     },
     "metadata": {},
     "output_type": "display_data"
    }
   ],
   "source": [
    "shuffle_vals = [abs(v) for v in shuffled_absolutes.values() if -50 < v < 50]\n",
    "pretty_hist(\"Null: Absolute Count Differences between Shuffled Ohnologs\", shuffle_vals,\n",
    "           x_title=\"Difference in Number of Extant Copies of the Partner Ohnolog\",\n",
    "           y_title=\"Number of Ohnolog Subtrees\")"
   ]
  },
  {
   "cell_type": "code",
   "execution_count": 98,
   "metadata": {
    "collapsed": false
   },
   "outputs": [
    {
     "data": {
      "text/plain": [
       "RanksumsResult(statistic=16.996860903093626, pvalue=8.663672490438297e-65)"
      ]
     },
     "execution_count": 98,
     "metadata": {},
     "output_type": "execute_result"
    }
   ],
   "source": [
    "ranksums(shuffle_vals, diff_vals, )"
   ]
  },
  {
   "cell_type": "markdown",
   "metadata": {},
   "source": [
    "**Conclusion:** The apparent shoulders actually become more defined when we shuffle the pairs.  That to me indicates that the shoulders come from the distribution of sizes in general and that since there's a positive correlation in sizes of actual pairs, the observable pattern is actually stronger in the null than the real.  The \"antagonistic dosage\" is not a good explanation."
   ]
  },
  {
   "cell_type": "code",
   "execution_count": 99,
   "metadata": {
    "collapsed": false
   },
   "outputs": [
    {
     "data": {
      "image/png": "[encoded data removed]",
      "text/plain": [
       "<matplotlib.figure.Figure at 0x1c4a3358>"
      ]
     },
     "metadata": {},
     "output_type": "display_data"
    }
   ],
   "source": [
    "categorical_histogram(\"Absolute Count Differences between Pairs of Ohnologs\", {\"Null Model\": shuffle_vals, \"Actual Data\": diff_vals})"
   ]
  },
  {
   "cell_type": "code",
   "execution_count": 100,
   "metadata": {
    "collapsed": false
   },
   "outputs": [
    {
     "data": {
      "text/plain": [
       "49"
      ]
     },
     "execution_count": 100,
     "metadata": {},
     "output_type": "execute_result"
    }
   ],
   "source": [
    "max(diff_vals)"
   ]
  },
  {
   "cell_type": "markdown",
   "metadata": {},
   "source": [
    "----------------------"
   ]
  },
  {
   "cell_type": "markdown",
   "metadata": {},
   "source": [
    "# Null Model from Simulation Comparison"
   ]
  },
  {
   "cell_type": "markdown",
   "metadata": {
    "collapsed": true
   },
   "source": []
  },
  {
   "cell_type": "markdown",
   "metadata": {
    "collapsed": true
   },
   "source": [
    "This was completed in a separate notebook entitled **TreeCountAnalysis_Simulated_Ohnologs**"
   ]
  },
  {
   "cell_type": "markdown",
   "metadata": {},
   "source": [
    "--------------"
   ]
  },
  {
   "cell_type": "markdown",
   "metadata": {},
   "source": [
    "**Never used:**"
   ]
  },
  {
   "cell_type": "markdown",
   "metadata": {},
   "source": [
    "## Null model for deletion events\n",
    "Assume a uniform probability of having a deletion at any time point per branch.  Veto deletions that would drop the number to 0 in FRAX00.  Keep creating deletions until the average copy# per extant species matches for that family.\n",
    "\n",
    "Construct one path for each species.  Path is a set of nodes.  Randomly pick species.  Randomly pick node weighted by node length.  Add a loss event, repeat until average is acheived.  Graph ensuing histogram"
   ]
  },
  {
   "cell_type": "markdown",
   "metadata": {
    "collapsed": true
   },
   "source": [
    "```\n",
    "constraints = FRAX00 must have > 0,  no species has less than 0\n",
    "n_deletions = 2 * 6 - sum(\n",
    "for family_tree in all_trees:\n",
    "    for path in species_paths:\n",
    "        \n",
    "        while current_count > terminal_count[species]:\n",
    "            branch = random.choice(path, weights)\n",
    "            branch.count -= 1\n",
    "            for d in branch.descendants:\n",
    "                branch.count -= 1\n",
    "                if d.count < actual_count:\n",
    "                    veto deletion\n",
    "                #this is getting really complicated\n",
    "```"
   ]
  }
 ],
 "metadata": {
  "kernelspec": {
   "display_name": "Python 3",
   "language": "python",
   "name": "python3"
  },
  "language_info": {
   "codemirror_mode": {
    "name": "ipython",
    "version": 3
   },
   "file_extension": ".py",
   "mimetype": "text/x-python",
   "name": "python",
   "nbconvert_exporter": "python",
   "pygments_lexer": "ipython3",
   "version": "3.4.3"
  }
 },
 "nbformat": 4,
 "nbformat_minor": 1
}
