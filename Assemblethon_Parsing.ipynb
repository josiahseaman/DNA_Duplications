{
 "cells": [
  {
   "cell_type": "code",
   "execution_count": 1,
   "metadata": {
    "collapsed": false
   },
   "outputs": [],
   "source": [
    "import gspread\n",
    "from oauth2client.service_account import ServiceAccountCredentials"
   ]
  },
  {
   "cell_type": "code",
   "execution_count": 2,
   "metadata": {
    "collapsed": true
   },
   "outputs": [],
   "source": [
    "import pprint\n",
    "pp = pprint.PrettyPrinter()"
   ]
  },
  {
   "cell_type": "code",
   "execution_count": 3,
   "metadata": {
    "collapsed": true
   },
   "outputs": [],
   "source": [
    "labels_of_interest = ['N50 scaffold length', 'Longest scaffold',  r'scaffold %N', 'L50 scaffold count', 'Number of scaffolds', 'Number of contigs','Longest contig']\n",
    "I_have_stats_for = 'FRAX06 FRAX07 FRAX09 FRAX11 FRAX14 FRAX15 FRAX16 FRAX19 FRAX20 FRAX21 FRAX23 FRAX25 FRAX26 FRAX27 FRAX28 FRAX29 FRAX30 FRAX31 FRAX32 FRAX33 FRAX34'.split()"
   ]
  },
  {
   "cell_type": "code",
   "execution_count": 4,
   "metadata": {
    "collapsed": true
   },
   "outputs": [],
   "source": [
    "scope = ['https://spreadsheets.google.com/feeds']\n",
    "creds = ServiceAccountCredentials.from_json_keyfile_name('../sheets_backend_secret.json', scope)\n",
    "client = gspread.authorize(creds)"
   ]
  },
  {
   "cell_type": "code",
   "execution_count": 5,
   "metadata": {
    "collapsed": false
   },
   "outputs": [
    {
     "name": "stdout",
     "output_type": "stream",
     "text": [
      "['',\n",
      " 'F. angustifolia subsp. angustifolia (FRAX01)',\n",
      " 'F. apertisquamifera (FRAX02)',\n",
      " 'F. caroliniana (FRAX03)',\n",
      " 'F. dipetala (FRAX04)',\n",
      " 'F. latifolia (FRAX05)',\n",
      " 'F. mandshurica (FRAX06)',\n",
      " 'F. ornus (FRAX07)',\n",
      " 'F. paxiana (FRAX08)',\n",
      " 'F. pennsylvannica (FRAX09)',\n",
      " 'F. pennsylvannica (FRAX10)',\n",
      " 'F. quadrangulata (FRAX11)',\n",
      " 'F. sieboldiana (FRAX12)',\n",
      " 'F. velutina (FRAX13)',\n",
      " 'F. americana (FRAX14)',\n",
      " 'F. angustifolia subsp. oxycarpa  (FRAX15)',\n",
      " 'F. angustifolia subsp. syriaca (FRAX16)',\n",
      " '',\n",
      " '',\n",
      " 'F. goodingii (FRAX19)',\n",
      " 'F. greggii (FRAX20)',\n",
      " 'F. griffithii (FRAX21)',\n",
      " 'F. nigra (FRAX23)',\n",
      " '',\n",
      " 'F. xanthoxyloides (FRAX25)',\n",
      " 'F. albicans (FRAX26)',\n",
      " 'F. anomala (FRAX27)',\n",
      " 'F. baroniana (FRAX28)',\n",
      " 'F. bungeana (FRAX29)',\n",
      " 'F. chinensis [subsp. chinensis?] (FRAX30)',\n",
      " 'F. cuspidata  (FRAX31)',\n",
      " 'F. floribunda  (FRAX32)',\n",
      " 'F. platypoda (FRAX33)',\n",
      " 'F. uhdei (FRAX34)']\n"
     ]
    }
   ],
   "source": [
    "sheet = client.open('Summary_of_de_novo_assembly_stats').worksheet('Summary')\n",
    "labels = sheet.range('A4:AH4')\n",
    "pp.pprint([x.value for x in labels])\n"
   ]
  },
  {
   "cell_type": "markdown",
   "metadata": {},
   "source": [
    "# Assembleathon Conversion"
   ]
  },
  {
   "cell_type": "code",
   "execution_count": 9,
   "metadata": {
    "collapsed": false
   },
   "outputs": [
    {
     "name": "stdout",
     "output_type": "stream",
     "text": [
      "Number of scaffolds\t417940\n",
      "Total size of scaffolds\t855147449\n",
      "Total scaffold length as percentage of known genome size\t760.1%\n",
      "Longest scaffold\t367815\n",
      "Shortest scaffold\t200\n",
      "Number of scaffolds > 500 nt\t168610\t40.3%\n",
      "Number of scaffolds > 1K nt\t77211\t18.5%\n",
      "Number of scaffolds > 10K nt\t20212\t4.8%\n",
      "Number of scaffolds > 100K nt\t251\t0.1%\n",
      "Number of scaffolds > 1M nt\t0\t0.0%\n",
      "Mean scaffold size\t2046\n",
      "Median scaffold size\t425\n",
      "N50 scaffold length\t21026\n",
      "L50 scaffold count\t10470\n",
      "NG50 scaffold length\t82739\n",
      "LG50 scaffold count\t528\n",
      "N50 scaffold - NG50 scaffold length difference\t61713\n",
      "scaffold %A\t28.32\n",
      "scaffold %C\t14.99\n",
      "scaffold %G\t14.98\n",
      "scaffold %T\t28.32\n",
      "scaffold %N\t13.39\n",
      "scaffold %non-ACGTN\t0.00\n",
      "Number of scaffold non-ACGTN nt\t0\n",
      "\n",
      "Percentage of assembly in scaffolded contigs\t66.8%\n",
      "Percentage of assembly in unscaffolded contigs\t33.2%\n",
      "Average number of contigs per scaffold\t1.1\n",
      "Average length of break (>25 Ns) between contigs in scaffold\t274\n",
      "\n",
      "Number of contigs\t470798\n",
      "Number of contigs in scaffolds\t78758\n",
      "Number of contigs not in scaffolds\t392040\n",
      "Total size of contigs\t740668665\n",
      "Longest contig\t342910\n",
      "Shortest contig\t200\n",
      "Number of contigs > 500 nt\t220503\t46.8%\n",
      "Number of contigs > 1K nt\t122546\t26.0%\n",
      "Number of contigs > 10K nt\t15394\t3.3%\n",
      "Number of contigs > 100K nt\t3\t0.0%\n",
      "Number of contigs > 1M nt\t0\t0.0%\n",
      "Mean contig size\t1573\n",
      "Median contig size\t469\n",
      "N50 contig length\t6019\n",
      "L50 contig count\t30271\n",
      "NG50 contig length\t24061\n",
      "LG50 contig count\t1812\n",
      "N50 contig - NG50 contig length difference\t18042\n",
      "contig %A\t32.70\n",
      "contig %C\t17.30\n",
      "contig %G\t17.29\n",
      "contig %T\t32.70\n",
      "contig %N\t0.01\n",
      "contig %non-ACGTN\t0.00\n",
      "Number of contig non-ACGTN nt\t0\n",
      "\n"
     ]
    }
   ],
   "source": [
    "import re\n",
    "import os\n",
    "BASE_DIR = 'D:\\\\josiah\\\\Documents\\\\Research\\\\Thesis - Genome Symmetry\\\\data\\\\Assembleathon\\\\'\n",
    "\n",
    "def format_assemblethon_file(filename):\n",
    "    with open (filename, 'r' ) as f:\n",
    "        stats_file = f.read()\n",
    "    stats_file = re.sub(' {2,}', r'\\t', stats_file, flags = re.M)\n",
    "    stats_file = re.sub('^\\t', r'', stats_file, flags = re.M)\n",
    "    return stats_file\n",
    "frax07_example = format_assemblethon_file(os.path.join(BASE_DIR, 'FRAX07_CLC_SSPACE_GAPCLOSER_ASSEMBLETHON.txt'))\n",
    "print(frax07_example)"
   ]
  },
  {
   "cell_type": "code",
   "execution_count": 10,
   "metadata": {
    "collapsed": false
   },
   "outputs": [
    {
     "name": "stdout",
     "output_type": "stream",
     "text": [
      "Number of scaffolds 417940\n",
      "Longest scaffold 367815\n",
      "N50 scaffold length 21026\n",
      "L50 scaffold count 10470\n",
      "scaffold %N 13.39\n",
      "Number of contigs 470798\n",
      "Longest contig 342910\n"
     ]
    },
    {
     "data": {
      "text/plain": [
       "['21026', '367815', '13.39', '10470', '417940', '470798', '342910']"
      ]
     },
     "execution_count": 10,
     "metadata": {},
     "output_type": "execute_result"
    }
   ],
   "source": [
    "def grab_values_from_file(stats_file, labels_of_interest):\n",
    "    values = {}\n",
    "    for line in stats_file.split('\\n'):\n",
    "        parts = line.split('\\t')\n",
    "        if parts[0] in labels_of_interest:\n",
    "            print(parts[0], parts[1])\n",
    "            values[parts[0]] = parts[1]\n",
    "    return [values[key] for key in labels_of_interest]\n",
    "grab_values_from_file(frax07_example, labels_of_interest)"
   ]
  },
  {
   "cell_type": "code",
   "execution_count": 11,
   "metadata": {
    "collapsed": false
   },
   "outputs": [
    {
     "name": "stdout",
     "output_type": "stream",
     "text": [
      "[<Cell R4C8 'F. ornus (FRAX07)'>]\n"
     ]
    },
    {
     "data": {
      "text/plain": [
       "8"
      ]
     },
     "execution_count": 11,
     "metadata": {},
     "output_type": "execute_result"
    }
   ],
   "source": [
    "def matching_col(frax_number):\n",
    "    a = [v for v in labels if frax_number in v.value]\n",
    "    print(a)\n",
    "    return a[0].col  # gspread.utils.rowcol_to_a1(23, a[0].col)\n",
    "matching_col('FRAX07')"
   ]
  },
  {
   "cell_type": "code",
   "execution_count": 12,
   "metadata": {
    "collapsed": false
   },
   "outputs": [],
   "source": [
    "def update_stats_for_FRAX_number(frax_number, update_labels=False):\n",
    "    print(\">>> Updating Stats for \", frax_number)\n",
    "    filename = os.path.join(BASE_DIR, frax_number + '_CLC_SSPACE_GAPCLOSER_ASSEMBLETHON.txt')\n",
    "    stats_file = format_assemblethon_file(filename)\n",
    "    values = grab_values_from_file(stats_file, labels_of_interest)\n",
    "    my_column = matching_col(frax_number)\n",
    "    cells = sheet.range(23, my_column, 23 + len(values)-1, my_column)\n",
    "    for val, cell in zip(values, cells):\n",
    "        cell.value = val\n",
    "    sheet.update_cells(cells)\n",
    "    if update_labels:\n",
    "        for label_index, label in enumerate(labels_of_interest):\n",
    "            sheet.update_cell(23 + label_index, 1, label)\n",
    "#         sheet.update_cell(23 + label_index, my_column, values[label_index])"
   ]
  },
  {
   "cell_type": "code",
   "execution_count": null,
   "metadata": {
    "collapsed": false
   },
   "outputs": [],
   "source": [
    "update_stats_for_FRAX_number('FRAX06')"
   ]
  },
  {
   "cell_type": "code",
   "execution_count": null,
   "metadata": {
    "collapsed": false
   },
   "outputs": [],
   "source": [
    "def main():\n",
    "    for frax_number in I_have_stats_for:\n",
    "        update_stats_for_FRAX_number(frax_number)\n",
    "    update_stats_for_FRAX_number(I_have_stats_for[0], update_labels=True)\n",
    "main()"
   ]
  },
  {
   "cell_type": "code",
   "execution_count": 13,
   "metadata": {
    "collapsed": true
   },
   "outputs": [],
   "source": [
    "from glob import glob\n",
    "import subprocess\n",
    "\n",
    "def call(args):\n",
    "    command = ' '.join(args) if isinstance(args, list) else args\n",
    "    print(command)\n",
    "#     return subprocess.check_output(command, shell=True)"
   ]
  },
  {
   "cell_type": "code",
   "execution_count": 16,
   "metadata": {
    "collapsed": true
   },
   "outputs": [],
   "source": [
    "def plot_in_DDV(frax_number):\n",
    "#     print(\">>> Plotting DDV Genome for \", frax_number)\n",
    "    DDV_EXE = r'D:\\josiah\\Projects\\DDV\\build\\DDV.exe'\n",
    "    \n",
    "    filename = os.path.join(r'D:\\Genomes\\Ash Finished Genomes', frax_number + '_CLC_SSPACE_GAPCLOSER.fasta')\n",
    "    real_name = sheet.cell(4,matching_col(frax_number)).value\n",
    "    call([DDV_EXE, \n",
    "          '--fasta=\"%s\"' % filename, \n",
    "          '--outname=\"%s\"' % real_name,\n",
    "         '--no_webpage'])"
   ]
  },
  {
   "cell_type": "code",
   "execution_count": 17,
   "metadata": {
    "collapsed": false
   },
   "outputs": [
    {
     "name": "stdout",
     "output_type": "stream",
     "text": [
      "[<Cell R4C7 'F. mandshurica (FRAX06)'>]\n",
      "D:\\josiah\\Projects\\DDV\\build\\DDV.exe --fasta=\"D:\\Genomes\\Ash Finished Genomes\\FRAX06_CLC_SSPACE_GAPCLOSER.fasta\" --outname=\"F. mandshurica (FRAX06)\" --no_webpage\n"
     ]
    }
   ],
   "source": [
    "plot_in_DDV('FRAX06')"
   ]
  },
  {
   "cell_type": "code",
   "execution_count": 18,
   "metadata": {
    "collapsed": false
   },
   "outputs": [
    {
     "name": "stdout",
     "output_type": "stream",
     "text": [
      "[<Cell R4C7 'F. mandshurica (FRAX06)'>]\n",
      "D:\\josiah\\Projects\\DDV\\build\\DDV.exe --fasta=\"D:\\Genomes\\Ash Finished Genomes\\FRAX06_CLC_SSPACE_GAPCLOSER.fasta\" --outname=\"F. mandshurica (FRAX06)\" --no_webpage\n",
      "[<Cell R4C8 'F. ornus (FRAX07)'>]\n",
      "D:\\josiah\\Projects\\DDV\\build\\DDV.exe --fasta=\"D:\\Genomes\\Ash Finished Genomes\\FRAX07_CLC_SSPACE_GAPCLOSER.fasta\" --outname=\"F. ornus (FRAX07)\" --no_webpage\n",
      "[<Cell R4C10 'F. pennsylvannica (FRAX09)'>]\n",
      "D:\\josiah\\Projects\\DDV\\build\\DDV.exe --fasta=\"D:\\Genomes\\Ash Finished Genomes\\FRAX09_CLC_SSPACE_GAPCLOSER.fasta\" --outname=\"F. pennsylvannica (FRAX09)\" --no_webpage\n",
      "[<Cell R4C12 'F. quadrangulata (FRAX11)'>]\n",
      "D:\\josiah\\Projects\\DDV\\build\\DDV.exe --fasta=\"D:\\Genomes\\Ash Finished Genomes\\FRAX11_CLC_SSPACE_GAPCLOSER.fasta\" --outname=\"F. quadrangulata (FRAX11)\" --no_webpage\n",
      "[<Cell R4C15 'F. americana (FRAX14)'>]\n",
      "D:\\josiah\\Projects\\DDV\\build\\DDV.exe --fasta=\"D:\\Genomes\\Ash Finished Genomes\\FRAX14_CLC_SSPACE_GAPCLOSER.fasta\" --outname=\"F. americana (FRAX14)\" --no_webpage\n",
      "[<Cell R4C16 'F. angustifolia subsp. oxycarpa  (FRAX15)'>]\n",
      "D:\\josiah\\Projects\\DDV\\build\\DDV.exe --fasta=\"D:\\Genomes\\Ash Finished Genomes\\FRAX15_CLC_SSPACE_GAPCLOSER.fasta\" --outname=\"F. angustifolia subsp. oxycarpa  (FRAX15)\" --no_webpage\n",
      "[<Cell R4C17 'F. angustifolia subsp. syriaca (FRAX16)'>]\n",
      "D:\\josiah\\Projects\\DDV\\build\\DDV.exe --fasta=\"D:\\Genomes\\Ash Finished Genomes\\FRAX16_CLC_SSPACE_GAPCLOSER.fasta\" --outname=\"F. angustifolia subsp. syriaca (FRAX16)\" --no_webpage\n",
      "[<Cell R4C20 'F. goodingii (FRAX19)'>]\n",
      "D:\\josiah\\Projects\\DDV\\build\\DDV.exe --fasta=\"D:\\Genomes\\Ash Finished Genomes\\FRAX19_CLC_SSPACE_GAPCLOSER.fasta\" --outname=\"F. goodingii (FRAX19)\" --no_webpage\n",
      "[<Cell R4C21 'F. greggii (FRAX20)'>]\n",
      "D:\\josiah\\Projects\\DDV\\build\\DDV.exe --fasta=\"D:\\Genomes\\Ash Finished Genomes\\FRAX20_CLC_SSPACE_GAPCLOSER.fasta\" --outname=\"F. greggii (FRAX20)\" --no_webpage\n",
      "[<Cell R4C22 'F. griffithii (FRAX21)'>]\n",
      "D:\\josiah\\Projects\\DDV\\build\\DDV.exe --fasta=\"D:\\Genomes\\Ash Finished Genomes\\FRAX21_CLC_SSPACE_GAPCLOSER.fasta\" --outname=\"F. griffithii (FRAX21)\" --no_webpage\n",
      "[<Cell R4C23 'F. nigra (FRAX23)'>]\n",
      "D:\\josiah\\Projects\\DDV\\build\\DDV.exe --fasta=\"D:\\Genomes\\Ash Finished Genomes\\FRAX23_CLC_SSPACE_GAPCLOSER.fasta\" --outname=\"F. nigra (FRAX23)\" --no_webpage\n",
      "[<Cell R4C25 'F. xanthoxyloides (FRAX25)'>]\n",
      "D:\\josiah\\Projects\\DDV\\build\\DDV.exe --fasta=\"D:\\Genomes\\Ash Finished Genomes\\FRAX25_CLC_SSPACE_GAPCLOSER.fasta\" --outname=\"F. xanthoxyloides (FRAX25)\" --no_webpage\n",
      "[<Cell R4C26 'F. albicans (FRAX26)'>]\n",
      "D:\\josiah\\Projects\\DDV\\build\\DDV.exe --fasta=\"D:\\Genomes\\Ash Finished Genomes\\FRAX26_CLC_SSPACE_GAPCLOSER.fasta\" --outname=\"F. albicans (FRAX26)\" --no_webpage\n",
      "[<Cell R4C27 'F. anomala (FRAX27)'>]\n",
      "D:\\josiah\\Projects\\DDV\\build\\DDV.exe --fasta=\"D:\\Genomes\\Ash Finished Genomes\\FRAX27_CLC_SSPACE_GAPCLOSER.fasta\" --outname=\"F. anomala (FRAX27)\" --no_webpage\n",
      "[<Cell R4C28 'F. baroniana (FRAX28)'>]\n",
      "D:\\josiah\\Projects\\DDV\\build\\DDV.exe --fasta=\"D:\\Genomes\\Ash Finished Genomes\\FRAX28_CLC_SSPACE_GAPCLOSER.fasta\" --outname=\"F. baroniana (FRAX28)\" --no_webpage\n",
      "[<Cell R4C29 'F. bungeana (FRAX29)'>]\n",
      "D:\\josiah\\Projects\\DDV\\build\\DDV.exe --fasta=\"D:\\Genomes\\Ash Finished Genomes\\FRAX29_CLC_SSPACE_GAPCLOSER.fasta\" --outname=\"F. bungeana (FRAX29)\" --no_webpage\n",
      "[<Cell R4C30 'F. chinensis [subsp. chinensis?] (FRAX30)'>]\n",
      "D:\\josiah\\Projects\\DDV\\build\\DDV.exe --fasta=\"D:\\Genomes\\Ash Finished Genomes\\FRAX30_CLC_SSPACE_GAPCLOSER.fasta\" --outname=\"F. chinensis [subsp. chinensis?] (FRAX30)\" --no_webpage\n",
      "[<Cell R4C31 'F. cuspidata  (FRAX31)'>]\n",
      "D:\\josiah\\Projects\\DDV\\build\\DDV.exe --fasta=\"D:\\Genomes\\Ash Finished Genomes\\FRAX31_CLC_SSPACE_GAPCLOSER.fasta\" --outname=\"F. cuspidata  (FRAX31)\" --no_webpage\n",
      "[<Cell R4C32 'F. floribunda  (FRAX32)'>]\n",
      "D:\\josiah\\Projects\\DDV\\build\\DDV.exe --fasta=\"D:\\Genomes\\Ash Finished Genomes\\FRAX32_CLC_SSPACE_GAPCLOSER.fasta\" --outname=\"F. floribunda  (FRAX32)\" --no_webpage\n",
      "[<Cell R4C33 'F. platypoda (FRAX33)'>]\n",
      "D:\\josiah\\Projects\\DDV\\build\\DDV.exe --fasta=\"D:\\Genomes\\Ash Finished Genomes\\FRAX33_CLC_SSPACE_GAPCLOSER.fasta\" --outname=\"F. platypoda (FRAX33)\" --no_webpage\n",
      "[<Cell R4C34 'F. uhdei (FRAX34)'>]\n",
      "D:\\josiah\\Projects\\DDV\\build\\DDV.exe --fasta=\"D:\\Genomes\\Ash Finished Genomes\\FRAX34_CLC_SSPACE_GAPCLOSER.fasta\" --outname=\"F. uhdei (FRAX34)\" --no_webpage\n"
     ]
    }
   ],
   "source": [
    "for frax in I_have_stats_for:\n",
    "    plot_in_DDV(frax)"
   ]
  },
  {
   "cell_type": "code",
   "execution_count": null,
   "metadata": {
    "collapsed": true
   },
   "outputs": [],
   "source": []
  },
  {
   "cell_type": "markdown",
   "metadata": {},
   "source": [
    "# Scrap Examples"
   ]
  },
  {
   "cell_type": "code",
   "execution_count": null,
   "metadata": {
    "collapsed": false
   },
   "outputs": [],
   "source": [
    "sheet.col_values(2)"
   ]
  },
  {
   "cell_type": "code",
   "execution_count": null,
   "metadata": {
    "collapsed": true
   },
   "outputs": [],
   "source": [
    "sheet.resize(rows=3, cols=4)"
   ]
  },
  {
   "cell_type": "code",
   "execution_count": null,
   "metadata": {
    "collapsed": false
   },
   "outputs": [],
   "source": [
    "sheet.col_count, sheet.row_count"
   ]
  },
  {
   "cell_type": "code",
   "execution_count": null,
   "metadata": {
    "collapsed": true
   },
   "outputs": [],
   "source": [
    "sheet.append_row(['Doin', 'good'])"
   ]
  },
  {
   "cell_type": "code",
   "execution_count": null,
   "metadata": {
    "collapsed": false
   },
   "outputs": [],
   "source": [
    "gspread.utils.rowcol_to_a1(sheet.row_count, sheet.col_count )"
   ]
  },
  {
   "cell_type": "code",
   "execution_count": null,
   "metadata": {
    "collapsed": false
   },
   "outputs": [],
   "source": [
    "cell_list = sheet.range('A1:' + gspread.utils.rowcol_to_a1(sheet.row_count, sheet.col_count ))\n",
    "\n",
    "for cell in cell_list:\n",
    "    cell.value = 'O_o'\n",
    "\n",
    "# Update in batch\n",
    "sheet.update_cells(cell_list)"
   ]
  },
  {
   "cell_type": "code",
   "execution_count": null,
   "metadata": {
    "collapsed": false
   },
   "outputs": [],
   "source": [
    "sheet.update_cell(2,2, 'failing')"
   ]
  },
  {
   "cell_type": "code",
   "execution_count": null,
   "metadata": {
    "collapsed": false
   },
   "outputs": [],
   "source": [
    "sheet.cell(2,2).value"
   ]
  },
  {
   "cell_type": "code",
   "execution_count": null,
   "metadata": {
    "collapsed": true
   },
   "outputs": [],
   "source": []
  }
 ],
 "metadata": {
  "kernelspec": {
   "display_name": "Python 3",
   "language": "python",
   "name": "python3"
  },
  "language_info": {
   "codemirror_mode": {
    "name": "ipython",
    "version": 3
   },
   "file_extension": ".py",
   "mimetype": "text/x-python",
   "name": "python",
   "nbconvert_exporter": "python",
   "pygments_lexer": "ipython3",
   "version": "3.4.3"
  }
 },
 "nbformat": 4,
 "nbformat_minor": 1
}
