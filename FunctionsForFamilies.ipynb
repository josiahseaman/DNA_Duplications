{
 "cells": [
  {
   "cell_type": "markdown",
   "metadata": {},
   "source": [
    "## Transfer Functional Annotation to Orthogroups"
   ]
  },
  {
   "cell_type": "markdown",
   "metadata": {},
   "source": [
    "* Open up excelsior functional annotation, read, extract (name, functions)\n",
    "    * Separate lines of evidence?  What level of summarization do I want?\n",
    "* Transfer functional summary to Gene family\n",
    "    * Each gene family has \"parent\" excelsior genes. \n",
    "    * It may also have present _excelsior_ members, which is stronger evidence than \"parent\" attributes.\n",
    "* What percentage of gene families did not get Functional Annotation?\n",
    "* What percentage were low confidence inferrences?"
   ]
  },
  {
   "cell_type": "code",
   "execution_count": 10,
   "metadata": {
    "collapsed": false
   },
   "outputs": [
    {
     "name": "stdout",
     "output_type": "stream",
     "text": [
      "FRAEX38873_v2_000000010.1 {'Blast2GO_GO_term': 'NULL', 'Blast2GO_EC_Number': 'NULL', 'Interproscan_IPR_Description': 'SPla/RYanodine receptor SPRY|CTLH/CRA C-terminal to LisH motif domain|Concanavalin A-like lectin/glucanases superfamily|SPla/RYanodine receptor subgroup|CTLH, C-terminal LisH motif|CRA domain|B30.2/SPRY domain', 'Interproscan_EC_Number': 'NULL', 'Blast2GO_GO_Description': 'NULL', 'Interproscan_GO_term': 'GO:0005515', 'Interproscan_Pathways': 'NULL', 'Interproscan_IPR': 'IPR003877|IPR024964|IPR008985|IPR018355|IPR006595|IPR013144|IPR001870', '#ID': 'FRAEX38873_v2_000000010.1'}\n",
      "FRAEX38873_v2_000000010.2 {'Blast2GO_GO_term': 'NULL', 'Blast2GO_EC_Number': 'NULL', 'Interproscan_IPR_Description': 'SPla/RYanodine receptor SPRY|CTLH/CRA C-terminal to LisH motif domain|Concanavalin A-like lectin/glucanases superfamily|SPla/RYanodine receptor subgroup|CTLH, C-terminal LisH motif|CRA domain|B30.2/SPRY domain', 'Interproscan_EC_Number': 'NULL', 'Blast2GO_GO_Description': 'NULL', 'Interproscan_GO_term': 'GO:0005515', 'Interproscan_Pathways': 'NULL', 'Interproscan_IPR': 'IPR003877|IPR024964|IPR008985|IPR018355|IPR006595|IPR013144|IPR001870', '#ID': 'FRAEX38873_v2_000000010.2'}\n",
      "FRAEX38873_v2_000000020.1 {'Blast2GO_GO_term': 'GO:0005739', 'Blast2GO_EC_Number': 'NULL', 'Interproscan_IPR_Description': 'GDP-fucose protein O-fucosyltransferase|O-fucosyltransferase, plant', 'Interproscan_EC_Number': 'EC:2.4.1.221', 'Blast2GO_GO_Description': 'duf246 domain-containing protein at1g04910-like', 'Interproscan_GO_term': 'NULL', 'Interproscan_Pathways': 'KEGG: 00514+2.4.1.221|UniPathway: UPA00378', 'Interproscan_IPR': 'IPR019378|IPR024709', '#ID': 'FRAEX38873_v2_000000020.1'}\n",
      "FRAEX38873_v2_000000030.1 {'Blast2GO_GO_term': 'GO:0004575|GO:0005886|GO:0048364|GO:0006520|GO:0005634|GO:0005829|GO:0033926|GO:0005982|GO:0005985|GO:0017177', 'Blast2GO_EC_Number': 'EC:3.2.1.26|EC:3.2.1.48|EC:3.2.1.97', 'Interproscan_IPR_Description': 'Glycosyl hydrolase family 100|Six-hairpin glycosidase-like', 'Interproscan_EC_Number': 'EC:3.2.1.26', 'Blast2GO_GO_Description': 'neutral alkaline invertase', 'Interproscan_GO_term': 'GO:0033926|GO:0003824', 'Interproscan_Pathways': 'KEGG: 00052+3.2.1.26|KEGG: 00500+3.2.1.26|MetaCyc: PWY-621', 'Interproscan_IPR': 'IPR024746|IPR008928', '#ID': 'FRAEX38873_v2_000000030.1'}\n",
      "FRAEX38873_v2_000000040.1 {'Blast2GO_GO_term': 'NULL', 'Blast2GO_EC_Number': 'NULL', 'Interproscan_IPR_Description': 'Transcription factor, TCP|Transcription factor TCP subgroup', 'Interproscan_EC_Number': 'NULL', 'Blast2GO_GO_Description': 'NULL', 'Interproscan_GO_term': 'NULL', 'Interproscan_Pathways': 'NULL', 'Interproscan_IPR': 'IPR005333|IPR017887', '#ID': 'FRAEX38873_v2_000000040.1'}\n",
      "FRAEX38873_v2_000000050.1 {'Blast2GO_GO_term': 'NULL', 'Blast2GO_EC_Number': 'NULL', 'Interproscan_IPR_Description': 'NULL', 'Interproscan_EC_Number': 'NULL', 'Blast2GO_GO_Description': 'NULL', 'Interproscan_GO_term': 'NULL', 'Interproscan_Pathways': 'NULL', 'Interproscan_IPR': 'NULL', '#ID': 'FRAEX38873_v2_000000050.1'}\n"
     ]
    },
    {
     "data": {
      "text/plain": [
       "'heat shock protein 70'"
      ]
     },
     "execution_count": 10,
     "metadata": {},
     "output_type": "execute_result"
    }
   ],
   "source": [
    "import csv\n",
    "functional_file = r\"data\\gff_files_for_diploid_taxa\\Fraxinus_excelsior_38873_TGAC_v2.gff3.functional_annotation.tsv\"\n",
    "all_gene_info = {}\n",
    "genes_annotated = {}\n",
    "interpro_annotated = {}\n",
    "with open(functional_file, newline='' ) as csvfile:\n",
    "    reader = csv.DictReader(csvfile, delimiter='\\t')\n",
    "    for nLines, row in enumerate(reader):\n",
    "        all_gene_info[row['#ID']] = row\n",
    "        genes_annotated[row['#ID']] = row['Blast2GO_GO_Description']\n",
    "        interpro_annotated[row['#ID']] = row['Interproscan_IPR_Description']\n",
    "        if nLines < 6:\n",
    "            print(row['#ID'], row)\n",
    "genes_annotated['FRAEX38873_v2_000077090.1']"
   ]
  },
  {
   "cell_type": "markdown",
   "metadata": {},
   "source": [
    "Filtered exemplars orthogroups"
   ]
  },
  {
   "cell_type": "markdown",
   "metadata": {},
   "source": [
    "## Read Orthogroups"
   ]
  },
  {
   "cell_type": "code",
   "execution_count": 11,
   "metadata": {
    "collapsed": false
   },
   "outputs": [
    {
     "data": {
      "text/plain": [
       "{'genes': ['FRAEX38873_v2_000077090.1',\n",
       "  'FRAEX38873_v2_000115210.1',\n",
       "  'FRAEX38873_v2_000148070.2',\n",
       "  'FRAEX38873_v2_000197560.1',\n",
       "  'FRAEX38873_v2_000284530.1',\n",
       "  'FRAEX38873_v2_000287530.1',\n",
       "  'FRAEX38873_v2_000300220.1',\n",
       "  'FRAEX38873_v2_000301820.4',\n",
       "  'FRAX01_000077090.1_R0',\n",
       "  'FRAX01_000115210.1_R0',\n",
       "  'FRAX01_000197560.1_R0',\n",
       "  'FRAX01_000284530.1_R0',\n",
       "  'FRAX01_000284530.1_R2',\n",
       "  'FRAX01_000284530.1_R9',\n",
       "  'FRAX01_000287530.1_R0',\n",
       "  'FRAX01_000300220.1_R0',\n",
       "  'FRAX01_000300220.1_R1',\n",
       "  'FRAX02_000115210.1_R0',\n",
       "  'FRAX02_000148070.1_R0',\n",
       "  'FRAX02_000197560.1_R0',\n",
       "  'FRAX02_000284530.1_R0',\n",
       "  'FRAX02_000284530.1_R1',\n",
       "  'FRAX02_000284530.1_R6',\n",
       "  'FRAX02_000300220.1_R0',\n",
       "  'FRAX02_000301820.2_R7',\n",
       "  'FRAX03_000077090.1_R0',\n",
       "  'FRAX03_000115210.1_R0',\n",
       "  'FRAX03_000197560.1_R4',\n",
       "  'FRAX03_000284530.1_R0',\n",
       "  'FRAX03_000284530.1_R1',\n",
       "  'FRAX03_000284530.1_R8',\n",
       "  'FRAX03_000284530.1_R9',\n",
       "  'FRAX03_000287530.1_R0',\n",
       "  'FRAX03_000300220.1_R0',\n",
       "  'FRAX04_000115210.1_R0',\n",
       "  'FRAX04_000148070.1_R4',\n",
       "  'FRAX04_000197560.1_R0',\n",
       "  'FRAX04_000284530.1_R1',\n",
       "  'FRAX04_000287530.1_R0',\n",
       "  'FRAX04_000300220.1_R0',\n",
       "  'FRAX04_000300220.1_R1',\n",
       "  'FRAX05_000077090.1_R0',\n",
       "  'FRAX05_000115210.1_R0',\n",
       "  'FRAX05_000148070.1_R0',\n",
       "  'FRAX05_000197560.1_R5',\n",
       "  'FRAX05_000284530.1_R0',\n",
       "  'FRAX05_000284530.1_R7',\n",
       "  'FRAX05_000287530.1_R0',\n",
       "  'FRAX05_000300220.1_R0',\n",
       "  'FRAX06_000077090.1_R0',\n",
       "  'FRAX06_000115210.1_R0',\n",
       "  'FRAX06_000148070.1_R0',\n",
       "  'FRAX06_000197560.1_R0',\n",
       "  'FRAX06_000284530.1_R0',\n",
       "  'FRAX06_000287530.1_R0',\n",
       "  'FRAX06_000300220.1_R0',\n",
       "  'FRAX06_000300220.1_R1',\n",
       "  'FRAX06_000301820.5_R8',\n",
       "  'FRAX07_000077090.1_R0',\n",
       "  'FRAX07_000148070.1_R0',\n",
       "  'FRAX07_000197560.1_R5',\n",
       "  'FRAX07_000284530.1_R0',\n",
       "  'FRAX07_000284530.1_R1',\n",
       "  'FRAX07_000287530.1_R0',\n",
       "  'FRAX07_000300220.1_R0',\n",
       "  'FRAX07_000301820.2_R9',\n",
       "  'FRAX08_000077090.1_R5',\n",
       "  'FRAX08_000144790.1_R0',\n",
       "  'FRAX08_000148070.1_R0',\n",
       "  'FRAX08_000197560.1_R0',\n",
       "  'FRAX08_000284530.1_R1',\n",
       "  'FRAX08_000284530.1_R7',\n",
       "  'FRAX08_000287530.1_R3',\n",
       "  'FRAX08_000300220.1_R0',\n",
       "  'FRAX08_000301820.2_R8',\n",
       "  'FRAX09_000077090.1_R0',\n",
       "  'FRAX09_000115210.1_R0',\n",
       "  'FRAX09_000148070.1_R0',\n",
       "  'FRAX09_000197560.1_R0',\n",
       "  'FRAX09_000284530.1_R0',\n",
       "  'FRAX09_000284530.1_R9',\n",
       "  'FRAX09_000287530.1_R0',\n",
       "  'FRAX09_000300220.1_R5',\n",
       "  'FRAX11_000077090.1_R0',\n",
       "  'FRAX11_000115210.1_R0',\n",
       "  'FRAX11_000148070.1_R0',\n",
       "  'FRAX11_000197560.1_R0',\n",
       "  'FRAX11_000284530.1_R0',\n",
       "  'FRAX11_000287530.1_R0',\n",
       "  'FRAX11_000300220.1_R0',\n",
       "  'FRAX11_000300220.1_R1',\n",
       "  'FRAX12_000115210.1_R0',\n",
       "  'FRAX12_000148070.1_R0',\n",
       "  'FRAX12_000197560.1_R3',\n",
       "  'FRAX12_000284530.1_R0',\n",
       "  'FRAX12_000284530.1_R5',\n",
       "  'FRAX12_000287530.1_R4',\n",
       "  'FRAX12_000300220.1_R0',\n",
       "  'FRAX12_000301820.3_R9',\n",
       "  'FRAX13_000115210.1_R0',\n",
       "  'FRAX13_000197560.1_R0',\n",
       "  'FRAX13_000197560.1_R4',\n",
       "  'FRAX13_000284530.1_R0',\n",
       "  'FRAX13_000284530.1_R1',\n",
       "  'FRAX13_000284530.1_R2',\n",
       "  'FRAX13_000284530.1_R8',\n",
       "  'FRAX13_000287530.1_R0',\n",
       "  'FRAX13_000300220.1_R0',\n",
       "  'FRAX14_000115210.1_R0',\n",
       "  'FRAX14_000148070.1_R7',\n",
       "  'FRAX14_000197560.1_R0',\n",
       "  'FRAX14_000284530.1_R0',\n",
       "  'FRAX14_000284530.1_R1',\n",
       "  'FRAX14_000284530.1_R2',\n",
       "  'FRAX14_000287530.1_R0',\n",
       "  'FRAX14_000300220.1_R0',\n",
       "  'FRAX15_000077090.1_R0',\n",
       "  'FRAX15_000115210.1_R0',\n",
       "  'FRAX15_000148070.1_R0',\n",
       "  'FRAX15_000197560.1_R0',\n",
       "  'FRAX15_000284530.1_R0',\n",
       "  'FRAX15_000284530.1_R2',\n",
       "  'FRAX15_000284530.1_R8',\n",
       "  'FRAX15_000300220.1_R4',\n",
       "  'FRAX15_000301820.2_R6',\n",
       "  'FRAX16_000077090.1_R0',\n",
       "  'FRAX16_000115210.1_R0',\n",
       "  'FRAX16_000197560.1_R0',\n",
       "  'FRAX16_000284530.1_R0',\n",
       "  'FRAX16_000284530.1_R1',\n",
       "  'FRAX16_000284530.1_R2',\n",
       "  'FRAX16_000284530.1_R9',\n",
       "  'FRAX16_000287530.1_R0',\n",
       "  'FRAX16_000300220.1_R0',\n",
       "  'FRAX16_000300220.1_R1',\n",
       "  'FRAX19_000077090.1_R6',\n",
       "  'FRAX19_000115210.1_R0',\n",
       "  'FRAX19_000115210.1_R6',\n",
       "  'FRAX19_000148070.1_R0',\n",
       "  'FRAX19_000197560.1_R0',\n",
       "  'FRAX19_000197560.1_R9',\n",
       "  'FRAX19_000284530.1_R0',\n",
       "  'FRAX19_000287530.1_R0',\n",
       "  'FRAX19_000300220.1_R0',\n",
       "  'FRAX19_000300220.1_R1',\n",
       "  'FRAX19_000301820.2_R7',\n",
       "  'FRAX20_000077090.1_R4',\n",
       "  'FRAX20_000115210.1_R0',\n",
       "  'FRAX20_000148070.1_R0',\n",
       "  'FRAX20_000197560.1_R0',\n",
       "  'FRAX20_000284530.1_R0',\n",
       "  'FRAX20_000287530.1_R0',\n",
       "  'FRAX20_000300220.1_R0',\n",
       "  'FRAX20_000300220.1_R1',\n",
       "  'FRAX20_000301820.2_R7',\n",
       "  'FRAX21_000115210.1_R0',\n",
       "  'FRAX21_000197560.1_R0',\n",
       "  'FRAX21_000284530.1_R0',\n",
       "  'FRAX21_000284530.1_R1',\n",
       "  'FRAX21_000284530.1_R2',\n",
       "  'FRAX21_000284530.1_R8',\n",
       "  'FRAX21_000284530.1_R9',\n",
       "  'FRAX21_000287530.1_R0',\n",
       "  'FRAX21_000300220.1_R0',\n",
       "  'FRAX21_000300220.1_R1',\n",
       "  'FRAX23_000077090.1_R0',\n",
       "  'FRAX23_000115210.1_R0',\n",
       "  'FRAX23_000148070.1_R0',\n",
       "  'FRAX23_000197560.1_R0',\n",
       "  'FRAX23_000284530.1_R0',\n",
       "  'FRAX23_000284530.1_R1',\n",
       "  'FRAX23_000284530.1_R2',\n",
       "  'FRAX23_000287530.1_R0',\n",
       "  'FRAX23_000300220.1_R0',\n",
       "  'FRAX23_000300220.1_R1',\n",
       "  'FRAX25_000077090.1_R0',\n",
       "  'FRAX25_000115210.1_R0',\n",
       "  'FRAX25_000148070.1_R0',\n",
       "  'FRAX25_000197560.1_R0',\n",
       "  'FRAX25_000284530.1_R0',\n",
       "  'FRAX25_000284530.1_R1',\n",
       "  'FRAX25_000287530.1_R6',\n",
       "  'FRAX25_000300220.1_R0',\n",
       "  'FRAX25_000301820.2_R8',\n",
       "  'FRAX25_000301820.4_R0',\n",
       "  'FRAX26_000077090.1_R0',\n",
       "  'FRAX26_000115210.1_R0',\n",
       "  'FRAX26_000197560.1_R0',\n",
       "  'FRAX26_000284530.1_R0',\n",
       "  'FRAX26_000284530.1_R9',\n",
       "  'FRAX26_000287530.1_R0',\n",
       "  'FRAX26_000287530.1_R8',\n",
       "  'FRAX26_000300220.1_R0',\n",
       "  'FRAX26_000301820.2_R7',\n",
       "  'FRAX27_000077090.1_R0',\n",
       "  'FRAX27_000115210.1_R0',\n",
       "  'FRAX27_000148070.1_R0',\n",
       "  'FRAX27_000197560.1_R0',\n",
       "  'FRAX27_000284530.1_R1',\n",
       "  'FRAX27_000284530.1_R2',\n",
       "  'FRAX27_000287530.1_R0',\n",
       "  'FRAX27_000300220.1_R0',\n",
       "  'FRAX27_000300220.1_R1',\n",
       "  'FRAX28_000115210.1_R0',\n",
       "  'FRAX28_000144790.1_R0',\n",
       "  'FRAX28_000148070.1_R0',\n",
       "  'FRAX28_000197560.1_R0',\n",
       "  'FRAX28_000284530.1_R1',\n",
       "  'FRAX28_000284530.1_R8',\n",
       "  'FRAX28_000284530.1_R9',\n",
       "  'FRAX28_000300220.1_R0',\n",
       "  'FRAX29_000115210.1_R0',\n",
       "  'FRAX29_000148070.1_R0',\n",
       "  'FRAX29_000284530.1_R0',\n",
       "  'FRAX29_000284530.1_R1',\n",
       "  'FRAX29_000284530.1_R2',\n",
       "  'FRAX29_000287530.1_R4',\n",
       "  'FRAX29_000300220.1_R0',\n",
       "  'FRAX29_000301820.2_R8',\n",
       "  'FRAX29_000301820.2_R9',\n",
       "  'FRAX30_000077090.1_R0',\n",
       "  'FRAX30_000115210.1_R0',\n",
       "  'FRAX30_000148070.1_R0',\n",
       "  'FRAX30_000197560.1_R0',\n",
       "  'FRAX30_000284530.1_R0',\n",
       "  'FRAX30_000284530.1_R1',\n",
       "  'FRAX30_000284530.1_R2',\n",
       "  'FRAX30_000300220.1_R0',\n",
       "  'FRAX30_000300220.1_R1',\n",
       "  'FRAX30_000300220.1_R8',\n",
       "  'FRAX30_000301820.2_R9',\n",
       "  'FRAX31_000077090.1_R0',\n",
       "  'FRAX31_000115210.1_R0',\n",
       "  'FRAX31_000148070.1_R0',\n",
       "  'FRAX31_000197560.1_R0',\n",
       "  'FRAX31_000284530.1_R0',\n",
       "  'FRAX31_000284530.1_R2',\n",
       "  'FRAX31_000287530.1_R0',\n",
       "  'FRAX31_000300220.1_R0',\n",
       "  'FRAX31_000300220.1_R1',\n",
       "  'FRAX32_000077090.1_R0',\n",
       "  'FRAX32_000115210.1_R0',\n",
       "  'FRAX32_000148070.1_R0',\n",
       "  'FRAX32_000197560.1_R0',\n",
       "  'FRAX32_000284530.1_R0',\n",
       "  'FRAX32_000284530.1_R8',\n",
       "  'FRAX32_000300220.1_R0',\n",
       "  'FRAX32_000300220.1_R5',\n",
       "  'FRAX32_000300220.1_R7',\n",
       "  'FRAX32_000301820.2_R8',\n",
       "  'FRAX33_000077090.1_R0',\n",
       "  'FRAX33_000115210.1_R0',\n",
       "  'FRAX33_000148070.1_R0',\n",
       "  'FRAX33_000197560.1_R0',\n",
       "  'FRAX33_000284530.1_R0',\n",
       "  'FRAX33_000287530.1_R0',\n",
       "  'FRAX33_000300220.1_R0',\n",
       "  'FRAX33_000301820.2_R9',\n",
       "  'FRAX34_000115210.1_R0',\n",
       "  'FRAX34_000197560.1_R3',\n",
       "  'FRAX34_000284530.1_R0',\n",
       "  'FRAX34_000284530.1_R1',\n",
       "  'FRAX34_000284530.1_R6',\n",
       "  'FRAX34_000284530.1_R7',\n",
       "  'FRAX34_000287530.1_R0',\n",
       "  'FRAX34_000300220.1_R0',\n",
       "  'Migut.F00790.1.p',\n",
       "  'Migut.F00793.1.p',\n",
       "  'Migut.F01497.1.p',\n",
       "  'Migut.I00680.1.p',\n",
       "  'Migut.J00342.1.p',\n",
       "  'Migut.K00309.1.p',\n",
       "  'Migut.L01935.1.p',\n",
       "  'OE6A005591P1',\n",
       "  'OE6A005775P1',\n",
       "  'OE6A027988P1',\n",
       "  'OE6A033723P1',\n",
       "  'OE6A060547P1',\n",
       "  'OE6A062772P1',\n",
       "  'OE6A069005P1',\n",
       "  'OE6A075985P1',\n",
       "  'OE6A094868P1',\n",
       "  'OE6A103785P1',\n",
       "  'OE6A104529P1',\n",
       "  'OE6A108774P1',\n",
       "  'Solyc03g117630.1.1',\n",
       "  'Solyc04g011440.2.1',\n",
       "  'Solyc06g076020.2.1',\n",
       "  'Solyc07g005820.2.1',\n",
       "  'Solyc09g010630.2.1',\n",
       "  'Solyc10g086410.2.1',\n",
       "  'Solyc11g066060.1.1',\n",
       "  'Solyc11g066100.1.1']}"
      ]
     },
     "execution_count": 11,
     "metadata": {},
     "output_type": "execute_result"
    }
   ],
   "source": [
    "ortho_file = r\"Ash_Proteome\\Results_Jun25\\Orthogroups.csv\"\n",
    "orthogroups = {}\n",
    "OG_order = []\n",
    "with open(ortho_file, newline='' ) as csvfile:\n",
    "    reader = csv.reader(csvfile, delimiter=' ')\n",
    "    for nLines, row in enumerate(reader):\n",
    "        og = row[0].replace(':','')\n",
    "        orthogroups[og] = {'genes': list(row[1:])}\n",
    "        OG_order.append(og)\n",
    "orthogroups['OG0000045']"
   ]
  },
  {
   "cell_type": "code",
   "execution_count": 12,
   "metadata": {
    "collapsed": false
   },
   "outputs": [
    {
     "data": {
      "text/plain": [
       "1153334"
      ]
     },
     "execution_count": 12,
     "metadata": {},
     "output_type": "execute_result"
    }
   ],
   "source": [
    "# Show that all genes occur only once, never in two orthogroups\n",
    "genes_seen = set()\n",
    "for group in orthogroups.values():\n",
    "    assert all([g not in genes_seen for g in group['genes']]), group\n",
    "    genes_seen.update(group['genes'])\n",
    "total_count = len(genes_seen)\n",
    "total_count"
   ]
  },
  {
   "cell_type": "markdown",
   "metadata": {},
   "source": [
    "# Aggregate Functional Information per OG by Excelsior Genes"
   ]
  },
  {
   "cell_type": "code",
   "execution_count": 14,
   "metadata": {
    "collapsed": false
   },
   "outputs": [
    {
     "data": {
      "text/plain": [
       "50841"
      ]
     },
     "execution_count": 14,
     "metadata": {},
     "output_type": "execute_result"
    }
   ],
   "source": [
    "len(all_gene_info)"
   ]
  },
  {
   "cell_type": "markdown",
   "metadata": {},
   "source": [
    "### Strong Support: _excelsior_ ortho-genes are present in the group"
   ]
  },
  {
   "cell_type": "code",
   "execution_count": 28,
   "metadata": {
    "collapsed": false
   },
   "outputs": [
    {
     "name": "stdout",
     "output_type": "stream",
     "text": [
      "heat shock,protein,heat shock protein 70\n",
      "FRAEX38873 ...\n",
      "\n",
      " {'Blast2GO_GO_term': 'GO:0009615|GO:0005618|GO:0055114|GO:0005730|GO:0009409|GO:0009941|GO:0009408|GO:0009617|GO:0005524|GO:0032440|GO:0005773|GO:0046686|GO:0022626|GO:0080167|GO:0005886|GO:0048046,GO:0009615|GO:0005618|GO:0005730|GO:0009409|GO:0009941|GO:0009408|GO:0009617|GO:0005524|GO:0005773|GO:0046686|GO:0022626|GO:0080167|GO:0005886|GO:0048046', 'Blast2GO_EC_Number': 'NULL,EC:1.3.1.74', 'Interproscan_IPR_Description': 'Heat shock protein 70 family|Heat shock protein 70, conserved site', '#ID': 'FRAEX38873_v2_000197560.1,FRAEX38873_v2_000077090.1,FRAEX38873_v2_000115210.1,FRAEX38873_v2_000287530.1,FRAEX38873_v2_000301820.4,FRAEX38873_v2_000300220.1,FRAEX38873_v2_000284530.1,FRAEX38873_v2_000148070.2', 'Blast2GO_GO_Description': 'heat shock,protein,heat shock protein 70', 'Interproscan_GO_term': 'NULL', 'Interproscan_Pathways': 'NULL', 'Interproscan_IPR': 'IPR013126|IPR018181', 'Interproscan_EC_Number': 'NULL', 'genes': 'FRAEX38873_v2_000077090.1,FRAEX38873_v2_000115210.1,FRAEX38873_v2_000148070.2,FRAEX38873_v2_000197560.1,FRAEX38873_v2_000284530.1,FRAEX38873_v2_000287530.1,FRAEX38873_v2_000300220.1,FRAEX38873_v2_000301820.4,FRAX01_000077090.1_R0,FRAX01_000115210.1_R0,FRAX01_000197560.1_R0,FRAX01_000284530.1_R0,FRAX01_000284530.1_R2,FRAX01_000284530.1_R9,FRAX01_000287530.1_R0,FRAX01_000300220.1_R0,FRAX01_000300220.1_R1,FRAX02_000115210.1_R0,FRAX02_000148070.1_R0,FRAX02_000197560.1_R0,FRAX02_000284530.1_R0,FRAX02_000284530.1_R1,FRAX02_000284530.1_R6,FRAX02_000300220.1_R0,FRAX02_000301820.2_R7,FRAX03_000077090.1_R0,FRAX03_000115210.1_R0,FRAX03_000197560.1_R4,FRAX03_000284530.1_R0,FRAX03_000284530.1_R1,FRAX03_000284530.1_R8,FRAX03_000284530.1_R9,FRAX03_000287530.1_R0,FRAX03_000300220.1_R0,FRAX04_000115210.1_R0,FRAX04_000148070.1_R4,FRAX04_000197560.1_R0,FRAX04_000284530.1_R1,FRAX04_000287530.1_R0,FRAX04_000300220.1_R0,FRAX04_000300220.1_R1,FRAX05_000077090.1_R0,FRAX05_000115210.1_R0,FRAX05_000148070.1_R0,FRAX05_000197560.1_R5,FRAX05_000284530.1_R0,FRAX05_000284530.1_R7,FRAX05_000287530.1_R0,FRAX05_000300220.1_R0,FRAX06_000077090.1_R0,FRAX06_000115210.1_R0,FRAX06_000148070.1_R0,FRAX06_000197560.1_R0,FRAX06_000284530.1_R0,FRAX06_000287530.1_R0,FRAX06_000300220.1_R0,FRAX06_000300220.1_R1,FRAX06_000301820.5_R8,FRAX07_000077090.1_R0,FRAX07_000148070.1_R0,FRAX07_000197560.1_R5,FRAX07_000284530.1_R0,FRAX07_000284530.1_R1,FRAX07_000287530.1_R0,FRAX07_000300220.1_R0,FRAX07_000301820.2_R9,FRAX08_000077090.1_R5,FRAX08_000144790.1_R0,FRAX08_000148070.1_R0,FRAX08_000197560.1_R0,FRAX08_000284530.1_R1,FRAX08_000284530.1_R7,FRAX08_000287530.1_R3,FRAX08_000300220.1_R0,FRAX08_000301820.2_R8,FRAX09_000077090.1_R0,FRAX09_000115210.1_R0,FRAX09_000148070.1_R0,FRAX09_000197560.1_R0,FRAX09_000284530.1_R0,FRAX09_000284530.1_R9,FRAX09_000287530.1_R0,FRAX09_000300220.1_R5,FRAX11_000077090.1_R0,FRAX11_000115210.1_R0,FRAX11_000148070.1_R0,FRAX11_000197560.1_R0,FRAX11_000284530.1_R0,FRAX11_000287530.1_R0,FRAX11_000300220.1_R0,FRAX11_000300220.1_R1,FRAX12_000115210.1_R0,FRAX12_000148070.1_R0,FRAX12_000197560.1_R3,FRAX12_000284530.1_R0,FRAX12_000284530.1_R5,FRAX12_000287530.1_R4,FRAX12_000300220.1_R0,FRAX12_000301820.3_R9,FRAX13_000115210.1_R0,FRAX13_000197560.1_R0,FRAX13_000197560.1_R4,FRAX13_000284530.1_R0,FRAX13_000284530.1_R1,FRAX13_000284530.1_R2,FRAX13_000284530.1_R8,FRAX13_000287530.1_R0,FRAX13_000300220.1_R0,FRAX14_000115210.1_R0,FRAX14_000148070.1_R7,FRAX14_000197560.1_R0,FRAX14_000284530.1_R0,FRAX14_000284530.1_R1,FRAX14_000284530.1_R2,FRAX14_000287530.1_R0,FRAX14_000300220.1_R0,FRAX15_000077090.1_R0,FRAX15_000115210.1_R0,FRAX15_000148070.1_R0,FRAX15_000197560.1_R0,FRAX15_000284530.1_R0,FRAX15_000284530.1_R2,FRAX15_000284530.1_R8,FRAX15_000300220.1_R4,FRAX15_000301820.2_R6,FRAX16_000077090.1_R0,FRAX16_000115210.1_R0,FRAX16_000197560.1_R0,FRAX16_000284530.1_R0,FRAX16_000284530.1_R1,FRAX16_000284530.1_R2,FRAX16_000284530.1_R9,FRAX16_000287530.1_R0,FRAX16_000300220.1_R0,FRAX16_000300220.1_R1,FRAX19_000077090.1_R6,FRAX19_000115210.1_R0,FRAX19_000115210.1_R6,FRAX19_000148070.1_R0,FRAX19_000197560.1_R0,FRAX19_000197560.1_R9,FRAX19_000284530.1_R0,FRAX19_000287530.1_R0,FRAX19_000300220.1_R0,FRAX19_000300220.1_R1,FRAX19_000301820.2_R7,FRAX20_000077090.1_R4,FRAX20_000115210.1_R0,FRAX20_000148070.1_R0,FRAX20_000197560.1_R0,FRAX20_000284530.1_R0,FRAX20_000287530.1_R0,FRAX20_000300220.1_R0,FRAX20_000300220.1_R1,FRAX20_000301820.2_R7,FRAX21_000115210.1_R0,FRAX21_000197560.1_R0,FRAX21_000284530.1_R0,FRAX21_000284530.1_R1,FRAX21_000284530.1_R2,FRAX21_000284530.1_R8,FRAX21_000284530.1_R9,FRAX21_000287530.1_R0,FRAX21_000300220.1_R0,FRAX21_000300220.1_R1,FRAX23_000077090.1_R0,FRAX23_000115210.1_R0,FRAX23_000148070.1_R0,FRAX23_000197560.1_R0,FRAX23_000284530.1_R0,FRAX23_000284530.1_R1,FRAX23_000284530.1_R2,FRAX23_000287530.1_R0,FRAX23_000300220.1_R0,FRAX23_000300220.1_R1,FRAX25_000077090.1_R0,FRAX25_000115210.1_R0,FRAX25_000148070.1_R0,FRAX25_000197560.1_R0,FRAX25_000284530.1_R0,FRAX25_000284530.1_R1,FRAX25_000287530.1_R6,FRAX25_000300220.1_R0,FRAX25_000301820.2_R8,FRAX25_000301820.4_R0,FRAX26_000077090.1_R0,FRAX26_000115210.1_R0,FRAX26_000197560.1_R0,FRAX26_000284530.1_R0,FRAX26_000284530.1_R9,FRAX26_000287530.1_R0,FRAX26_000287530.1_R8,FRAX26_000300220.1_R0,FRAX26_000301820.2_R7,FRAX27_000077090.1_R0,FRAX27_000115210.1_R0,FRAX27_000148070.1_R0,FRAX27_000197560.1_R0,FRAX27_000284530.1_R1,FRAX27_000284530.1_R2,FRAX27_000287530.1_R0,FRAX27_000300220.1_R0,FRAX27_000300220.1_R1,FRAX28_000115210.1_R0,FRAX28_000144790.1_R0,FRAX28_000148070.1_R0,FRAX28_000197560.1_R0,FRAX28_000284530.1_R1,FRAX28_000284530.1_R8,FRAX28_000284530.1_R9,FRAX28_000300220.1_R0,FRAX29_000115210.1_R0,FRAX29_000148070.1_R0,FRAX29_000284530.1_R0,FRAX29_000284530.1_R1,FRAX29_000284530.1_R2,FRAX29_000287530.1_R4,FRAX29_000300220.1_R0,FRAX29_000301820.2_R8,FRAX29_000301820.2_R9,FRAX30_000077090.1_R0,FRAX30_000115210.1_R0,FRAX30_000148070.1_R0,FRAX30_000197560.1_R0,FRAX30_000284530.1_R0,FRAX30_000284530.1_R1,FRAX30_000284530.1_R2,FRAX30_000300220.1_R0,FRAX30_000300220.1_R1,FRAX30_000300220.1_R8,FRAX30_000301820.2_R9,FRAX31_000077090.1_R0,FRAX31_000115210.1_R0,FRAX31_000148070.1_R0,FRAX31_000197560.1_R0,FRAX31_000284530.1_R0,FRAX31_000284530.1_R2,FRAX31_000287530.1_R0,FRAX31_000300220.1_R0,FRAX31_000300220.1_R1,FRAX32_000077090.1_R0,FRAX32_000115210.1_R0,FRAX32_000148070.1_R0,FRAX32_000197560.1_R0,FRAX32_000284530.1_R0,FRAX32_000284530.1_R8,FRAX32_000300220.1_R0,FRAX32_000300220.1_R5,FRAX32_000300220.1_R7,FRAX32_000301820.2_R8,FRAX33_000077090.1_R0,FRAX33_000115210.1_R0,FRAX33_000148070.1_R0,FRAX33_000197560.1_R0,FRAX33_000284530.1_R0,FRAX33_000287530.1_R0,FRAX33_000300220.1_R0,FRAX33_000301820.2_R9,FRAX34_000115210.1_R0,FRAX34_000197560.1_R3,FRAX34_000284530.1_R0,FRAX34_000284530.1_R1,FRAX34_000284530.1_R6,FRAX34_000284530.1_R7,FRAX34_000287530.1_R0,FRAX34_000300220.1_R0,Migut.F00790.1.p,Migut.F00793.1.p,Migut.F01497.1.p,Migut.I00680.1.p,Migut.J00342.1.p,Migut.K00309.1.p,Migut.L01935.1.p,OE6A005591P1,OE6A005775P1,OE6A027988P1,OE6A033723P1,OE6A060547P1,OE6A062772P1,OE6A069005P1,OE6A075985P1,OE6A094868P1,OE6A103785P1,OE6A104529P1,OE6A108774P1,Solyc03g117630.1.1,Solyc04g011440.2.1,Solyc06g076020.2.1,Solyc07g005820.2.1,Solyc09g010630.2.1,Solyc10g086410.2.1,Solyc11g066060.1.1,Solyc11g066100.1.1'}\n"
     ]
    }
   ],
   "source": [
    "no_excelsior_found_groups = {}\n",
    "functional_orthogroups = {}\n",
    "columns = all_gene_info['FRAEX38873_v2_000077090.1'].keys()\n",
    "for group in orthogroups:\n",
    "    genes = orthogroups[group]['genes']\n",
    "    candidates = [gene for gene in genes if gene.startswith('FRAEX') and (genes_annotated[gene] != 'NULL' or interpro_annotated[gene] != 'NULL')]\n",
    "    functions = set()\n",
    "    merged_row = {'genes': ','.join(genes)}\n",
    "    if candidates:\n",
    "        for key in columns: # append additional candidates separate by commas\n",
    "            merged_row[key] = ','.join(set([all_gene_info[gene][key] for gene in candidates]))\n",
    "        functional_orthogroups[group] = merged_row\n",
    "    else:\n",
    "        merged_row.update({key:'' for key in columns})  # so that both datasets have the same labels\n",
    "        no_excelsior_found_groups[group] = merged_row\n",
    "\n",
    "print(functional_orthogroups['OG0000045']['Blast2GO_GO_Description'])        \n",
    "print(functional_orthogroups['OG0000045']['genes'][:10], '...')\n",
    "print('\\n', functional_orthogroups['OG0000045'])"
   ]
  },
  {
   "cell_type": "code",
   "execution_count": 29,
   "metadata": {
    "collapsed": false
   },
   "outputs": [
    {
     "name": "stdout",
     "output_type": "stream",
     "text": [
      "30.075793%\n",
      "... of orthogroups have functional annotations\n"
     ]
    }
   ],
   "source": [
    "from DNASkittleUtils.DDVUtils import pp\n",
    "\n",
    "pp(1 - (len(no_excelsior_found_groups) / len(orthogroups) ) )\n",
    "print(\"... of orthogroups have functional annotations\")"
   ]
  },
  {
   "cell_type": "markdown",
   "metadata": {},
   "source": [
    "but large groups with many genes are more likely to have annotations, which is good!"
   ]
  },
  {
   "cell_type": "code",
   "execution_count": 30,
   "metadata": {
    "collapsed": false
   },
   "outputs": [
    {
     "name": "stdout",
     "output_type": "stream",
     "text": [
      "17.8\n",
      "Genes with annotations 20,575,237 =  17.8\n"
     ]
    }
   ],
   "source": [
    "s = sum([len(group['genes']) for group in functional_orthogroups.values()])\n",
    "print('Genes with annotations {:,} = '.format( s), pp(s / total_count))"
   ]
  },
  {
   "cell_type": "code",
   "execution_count": 23,
   "metadata": {
    "collapsed": false,
    "scrolled": true
   },
   "outputs": [
    {
     "name": "stdout",
     "output_type": "stream",
     "text": [
      "OG0019026 homogentisate solanesyltransferase\n",
      "OG0011515 NULL\n",
      "OG0014280 serine-threonine protein plant-\n",
      "OG0002132 NULL\n",
      "OG0016923 uncharacterized protein\n",
      "OG0003620 NULL,myb transcription factor\n",
      "OG0010667 lrr receptor-like serine threonine-protein kinase fls2-like\n",
      "OG0012665 NULL\n",
      "OG0011286 eukaryotic translation initiation factor 3 subunit i-like,eukaryotic translation initiation factor 3 delta subunit\n",
      "OG0017103 NULL\n",
      "OG0008635 alpha-amylase\n",
      "OG0020800 cyclic nucleotide-gated ion\n",
      "OG0028457 protein\n",
      "OG0019387 kinesin heavy\n",
      "OG0009329 thioredoxin domain-containing protein 9\n",
      "OG0011447 protein\n",
      "OG0010837 NULL\n",
      "OG0025912 wall-associated receptor kinase 2-like\n",
      "OG0024399 cysteine protease\n",
      "OG0008699 duf246 domain-containing protein at1g04910-like\n",
      "OG0021346 atp-dependent clp protease proteolytic subunit\n",
      "OG0013928 protein\n",
      "OG0015717 NULL\n",
      "OG0014423 thioredoxin-like protein\n",
      "OG0005515 methyl-cpg-binding domain protein 02\n",
      "OG0014379 protein\n",
      "OG0002354 NULL\n",
      "OG0003988 NULL\n",
      "OG0011345 uncharacterized protein,NULL\n",
      "OG0007893 small gtpase\n",
      "OG0015385 u-box domain-containing protein 15-like\n",
      "OG0011173 NULL\n",
      "OG0004207 NULL\n",
      "OG0009246 cyclic nucleotide-gated ion channel 15-like\n",
      "OG0020647 subtilisin-like protease sdd1-like\n",
      "OG0007922 ring finger\n",
      "OG0018390 protein\n",
      "OG0002624 ring-h2 finger protein atl13,NULL\n",
      "OG0013882 leucine-rich repeat disease resistance protein\n",
      "OG0011398 glycosyltransferase-like protein\n",
      "OG0019245 root hair defective 3 gtp-binding protein\n",
      "OG0029004 sec23 sec24-like transport protein\n",
      "OG0014683 calcium-dependent protein\n",
      "OG0001247 protein kinase family protein\n",
      "OG0000304 NULL\n",
      "OG0018448 NULL\n",
      "OG0011372 uncharacterized protein\n",
      "OG0012795 protein\n",
      "OG0013840 NULL\n",
      "OG0005697 NULL\n",
      "OG0016269 dual specificity protein phosphatase 12-like\n",
      "OG0001744 NULL,transcription factor bhlh30\n",
      "OG0012486 udp-d-apiose udp-d-xylose synthase 1\n",
      "OG0001031 protein\n",
      "OG0002876 NULL\n",
      "OG0019380 methylthioribose-1-phosphate isomerase\n",
      "OG0024354 nac domain ipr003441\n",
      "OG0022295 NULL\n",
      "OG0009039 chlorophyll a-b binding protein chloroplastic-like\n",
      "OG0014283 uncharacterized amino acid permease -like\n",
      "OG0012372 rna recognition motif-containing protein\n",
      "OG0025820 syntaxin\n",
      "OG0002978 eukaryotic translation initiation factor 3 subunit c-like\n",
      "OG0001943 kinesin-like protein\n",
      "OG0001656 pectinesterase ppme1-like\n",
      "OG0019711 proton-dependent oligopeptide transport family protein\n",
      "OG0014610 f-box fbd lrr-repeat protein at1g13570-like\n",
      "OG0001599 metal transporter nramp6-like,metal transporter nramp6,metal transporter\n",
      "OG0028462 NULL\n",
      "OG0003587 NULL\n",
      "OG0017990 NULL\n",
      "OG0017472 multidrug resistance protein abc transporter family\n",
      "OG0008808 protein\n",
      "OG0008173 receptor-like protein kinase\n",
      "OG0001879 NULL,uncharacterized protein loc100252988\n",
      "OG0012265 pentatricopeptide repeat-containing protein\n",
      "OG0001707 protein,protein phosphatase regulatory,protein phosphatase 2a regulatory subunit b eta,serine threonine protein phosphatase 2a 57 kda regulatory subunit b beta isoform-like\n",
      "OG0002329 glycogen phosphorylase 1,alpha-glucan h isozyme-like,alpha- glucan phosphorylase l chloroplastic amyloplastic-like\n",
      "OG0017402 wee1-like protein kinase\n",
      "OG0019397 protein\n",
      "OG0009919 enoyl- hydratase peroxisomal-like\n",
      "OG0013915 NULL\n",
      "OG0015426 uncharacterized protein\n",
      "OG0008752 nudix hydrolase\n",
      "OG0015669 guanylate kinase\n",
      "OG0003105 NULL\n",
      "OG0005225 homeobox protein 31\n",
      "OG0001415 atp binding\n",
      "OG0012295 NULL\n",
      "OG0003001 magnesium-dependent phosphatase\n",
      "OG0011226 NULL\n",
      "OG0005991 protein\n",
      "OG0018732 seedstick-like protein\n",
      "OG0007925 NULL\n",
      "OG0001038 NULL\n",
      "OG0008846 wrky23 - superfamily of tfs having wrky and zinc finger domains\n",
      "OG0019483 protein\n",
      "OG0006291 phosphoserine aminotransferase\n",
      "OG0003086 pantothenate kinase 2-like\n",
      "OG0017439 ribosomal rna small subunit methyltransferase g-like\n",
      "OG0028988 caffeoyl- o-methyltransferase\n",
      "OG0017629 glutamate-trna ligase\n",
      "OG0007460 uncharacterized protein\n",
      "OG0008207 gmp synthase\n",
      "OG0007917 enhancer of rudimentary\n",
      "OG0005565 glucan endo- -beta-glucosidase-like protein\n",
      "OG0029265 receptor-like protein kinase\n",
      "OG0001517 protein\n",
      "OG0015255 leucine-rich repeat family protein\n",
      "OG0000303 phospholipid:diacylglycerol acyltransferase 2,phospholipid:diacylglycerol acyltransferase 1\n",
      "OG0006641 NULL\n",
      "OG0002030 NULL\n",
      "OG0004144 NULL\n",
      "OG0017542 galactosyltransferase family protein\n",
      "OG0008683 NULL\n",
      "OG0010691 NULL\n",
      "OG0015904 polygalacturonase at1g48100-like\n",
      "OG0016350 e3 ubiquitin-protein ligase sinat2\n",
      "OG0020316 protein\n",
      "OG0006110 protein little zipper 3\n",
      "OG0011989 uncharacterized protein,uncharacterized protein loc100831987\n",
      "OG0000680 protein,glycerate dehydrogenase\n",
      "OG0007090 NULL\n",
      "OG0003436 gdsl esterase lipase\n",
      "OG0011820 polyphenol oxidase\n",
      "OG0002243 phosphate phosphoenolpyruvate translocator precursor\n",
      "OG0008301 high mobility group family,3-ketoacyl- thiolase\n",
      "OG0007401 NULL\n",
      "OG0008408 protein,alpha beta fold family protein\n",
      "OG0013333 pentatricopeptide repeat-containing protein at4g21065-like\n",
      "OG0015438 ethylene response factor 2\n",
      "OG0005039 probable carboxylesterase 17-like\n",
      "OG0002095 30s ribosomal protein s16\n",
      "OG0020479 choline ethanolamine kinase\n",
      "OG0013534 probable 2-oxoglutarate fe -dependent dioxygenase-like\n",
      "OG0002698 uncharacterized protein,protein reticulata-related 1\n",
      "OG0017644 pentatricopeptide repeat-containing protein\n",
      "OG0005335 calcium-transporting atpase plasma membrane-type-like\n",
      "OG0022317 NULL\n",
      "OG0015594 NULL\n",
      "OG0018765 ibr domain containing protein\n"
     ]
    }
   ],
   "source": [
    "for i, group_name in enumerate(functional_orthogroups):\n",
    "    if i > 60:\n",
    "        print(group_name, functional_orthogroups[group_name]['Blast2GO_GO_Description'])\n",
    "    if i > 200:\n",
    "        break"
   ]
  },
  {
   "cell_type": "markdown",
   "metadata": {},
   "source": [
    "Annotations that are present look informative and reasonably well merged"
   ]
  },
  {
   "cell_type": "markdown",
   "metadata": {},
   "source": [
    "### Weak Support: _excelsior_ genes used as GeMoMa parent"
   ]
  },
  {
   "cell_type": "markdown",
   "metadata": {},
   "source": [
    "Read the GeMoMa GFF file to locate the parent excelsior gene, then track that back to the orthogroup and spread it.  \n",
    "This is roughly analogous to functional annotation for gene super families, where super families are constructed using annotation overlap networks.  \n",
    "At the moment, 65% coverage of genes is probably good enough."
   ]
  },
  {
   "cell_type": "markdown",
   "metadata": {},
   "source": [
    "### No Support: no inferred functional annotation to work with"
   ]
  },
  {
   "cell_type": "markdown",
   "metadata": {},
   "source": [
    "# Output Results as a new CSV\n",
    "Three mega-columns: Name of OG Orthogroup, List of Functional Annotations, List of Genes"
   ]
  },
  {
   "cell_type": "code",
   "execution_count": 26,
   "metadata": {
    "collapsed": false
   },
   "outputs": [],
   "source": [
    "columns\n",
    "#ID\tBlast2GO_GO_term\tBlast2GO_EC_Number\tBlast2GO_GO_Description\tInterproscan_IPR\tInterproscan_IPR_Description\tInterproscan_GO_term\tInterproscan_EC_Number\tInterproscan_Pathways\n",
    "column_order = 'Blast2GO_GO_term', 'Blast2GO_EC_Number', 'Blast2GO_GO_Description',  'Interproscan_IPR',  'Interproscan_IPR_Description',  'Interproscan_GO_term', 'Interproscan_EC_Number', 'Interproscan_Pathways', 'genes'"
   ]
  },
  {
   "cell_type": "code",
   "execution_count": 31,
   "metadata": {
    "collapsed": false
   },
   "outputs": [],
   "source": [
    "#IMPORTANT: Make sure this file name matches your orthogroup source!\n",
    "with open('data/functional_orthogroups_from_Jun25.csv', 'w') as outfile:\n",
    "    outfile.write('Orthogroup Name\\tReference Genes\\t%s\\n' % ('\\t'.join(column_order)))\n",
    "    for name in OG_order:\n",
    "        if name in functional_orthogroups:\n",
    "            outfile.write(name + '\\t' + functional_orthogroups[name]['#ID'] + '\\t')\n",
    "            outfile.write('\\t'.join([functional_orthogroups[name][key] for key in column_order]) + '\\n')\n"
   ]
  },
  {
   "cell_type": "markdown",
   "metadata": {},
   "source": [
    "# Cross reference with CAFE divergent family results\n",
    "This should allow us to translate \"OG000495 contracted significantly\" to \"Most species lost galactose metabolism\" etc."
   ]
  },
  {
   "cell_type": "code",
   "execution_count": 2,
   "metadata": {
    "collapsed": false
   },
   "outputs": [
    {
     "data": {
      "text/plain": [
       "(2011, 193)"
      ]
     },
     "execution_count": 2,
     "metadata": {},
     "output_type": "execute_result"
    }
   ],
   "source": [
    "rapid_cafe_fam_ids = [int(a) for a in \"0,2,3,4,5,6,7,8,10,12,15,16,17,18,19,20,22,23,25,27,28,29,30,31,32,33,34,35,38,39,41,43,44,47,48,49,50,52,53,54,56,57,59,60,61,64,65,66,67,69,70,72,73,74,75,76,77,79,80,82,84,85,86,90,91,93,95,97,99,101,102,103,110,111,112,113,114,115,117,118,119,121,122,123,124,126,130,135,138,139,141,142,146,148,150,151,152,153,154,155,160,163,166,169,171,174,176,177,178,181,182,183,184,185,187,189,190,191,193,194,195,197,198,200,202,204,207,208,209,213,216,219,220,223,230,232,235,241,245,246,247,258,260,263,265,266,271,274,277,280,281,283,284,285,289,290,291,292,295,297,306,307,309,312,318,319,326,329,331,332,335,341,342,347,350,351,352,353,358,359,362,363,372,375,376,377,383,384,385,386,393,394,397,407,416,418,419,421,423,424,430,431,436,438,440,442,445,456,464,469,474,486,493,500,504,516,517,519,527,539,540,544,546,549,553,556,558,567,569,570,571,574,579,583,586,587,588,590,591,592,597,605,606,611,619,623,625,629,630,635,639,645,646,652,653,655,662,664,676,679,683,685,689,694,703,706,707,709,725,734,746,752,763,765,768,782,784,785,797,807,812,817,827,831,835,836,837,840,841,848,851,853,855,859,862,864,873,874,885,902,906,907,911,917,929,931,932,934,935,938,942,943,948,949,955,957,959,962,964,979,982,1003,1014,1017,1018,1020,1021,1022,1032,1034,1044,1046,1049,1051,1052,1068,1069,1076,1082,1085,1086,1092,1095,1098,1099,1112,1113,1128,1133,1139,1147,1155,1156,1164,1167,1169,1172,1173,1176,1187,1190,1192,1209,1211,1218,1220,1228,1246,1248,1255,1259,1260,1261,1269,1280,1281,1290,1299,1316,1327,1335,1346,1347,1349,1354,1358,1363,1367,1369,1379,1382,1387,1390,1392,1395,1403,1413,1423,1432,1439,1441,1442,1444,1445,1448,1450,1452,1463,1465,1469,1472,1473,1474,1488,1489,1498,1515,1523,1542,1552,1594,1606,1611,1614,1628,1638,1640,1647,1651,1669,1677,1689,1693,1707,1708,1709,1710,1713,1715,1716,1717,1726,1740,1751,1772,1774,1792,1797,1799,1800,1817,1823,1826,1835,1837,1843,1845,1848,1849,1854,1862,1868,1873,1875,1884,1886,1891,1896,1916,1919,1920,1927,1937,1945,1946,1949,1950,1955,1957,1978,2007,2019,2020,2031,2037,2050,2051,2054,2075,2078,2100,2107,2117,2132,2140,2143,2146,2158,2159,2198,2220,2235,2237,2244,2250,2252,2269,2285,2286,2295,2298,2300,2307,2308,2318,2319,2322,2336,2341,2353,2367,2391,2416,2417,2433,2446,2452,2455,2468,2470,2474,2477,2478,2495,2500,2506,2512,2515,2521,2532,2534,2543,2560,2564,2569,2574,2575,2583,2592,2593,2595,2598,2602,2603,2604,2609,2613,2621,2628,2630,2631,2639,2644,2647,2649,2651,2671,2704,2713,2716,2720,2721,2725,2727,2732,2753,2762,2765,2777,2782,2791,2795,2797,2807,2808,2818,2822,2829,2841,2845,2849,2854,2865,2870,2873,2874,2877,2888,2904,2918,2921,2925,2929,2932,2937,2939,2957,2964,2980,2985,2986,2990,2993,3003,3004,3005,3006,3017,3020,3025,3027,3033,3044,3050,3056,3059,3060,3065,3082,3089,3092,3113,3138,3141,3144,3161,3164,3166,3169,3199,3208,3218,3253,3256,3262,3271,3272,3279,3282,3284,3289,3294,3301,3307,3354,3355,3358,3360,3362,3376,3377,3380,3381,3388,3389,3391,3435,3442,3446,3448,3450,3454,3455,3456,3460,3469,3478,3482,3485,3486,3489,3493,3494,3532,3539,3544,3548,3552,3557,3579,3586,3591,3595,3600,3603,3625,3644,3645,3647,3649,3652,3657,3664,3665,3687,3688,3696,3697,3713,3715,3716,3729,3731,3732,3753,3754,3755,3756,3783,3791,3826,3827,3831,3834,3835,3838,3841,3842,3844,3847,3880,3890,3892,3925,3931,3940,4006,4019,4023,4059,4072,4083,4104,4110,4113,4120,4175,4205,4213,4217,4223,4232,4237,4238,4241,4271,4290,4314,4323,4341,4350,4365,4379,4409,4450,4463,4465,4484,4492,4520,4527,4635,4643,4646,4694,4707,4733,4740,4758,4778,4789,4797,4811,4823,4832,4833,4835,4836,4837,4883,4909,4916,4940,4957,4967,5008,5015,5024,5038,5107,5149,5152,5159,5172,5189,5194,5197,5202,5267,5279,5290,5361,5378,5407,5419,5508,5543,5564,5573,5591,5599,5610,5622,5631,5632,5774,5825,5840,5862,5907,5943,5958,5971,5979,5984,6001,6004,6012,6038,6075,6097,6112,6166,6171,6182,6186,6202,6335,6359,6367,6396,6400,6411,6421,6469,6501,6554,6579,6582,6645,6688,6708,6717,6728,6741,6745,6757,6779,6826,6827,6828,6844,6851,6858,6910,6922,7007,7010,7027,7048,7068,7101,7104,7105,7112,7130,7132,7137,7166,7180,7190,7192,7197,7244,7247,7282,7286,7304,7307,7314,7376,7377,7392,7398,7433,7443,7495,7519,7523,7533,7580,7597,7610,7611,7640,7663,7668,7672,7678,7713,7777,7783,7797,7798,7815,7817,7836,7846,7851,7853,7876,7957,8000,8013,8020,8023,8045,8047,8078,8105,8122,8125,8137,8142,8145,8146,8150,8153,8154,8166,8171,8172,8199,8203,8205,8219,8234,8240,8259,8298,8354,8355,8423,8436,8438,8453,8465,8466,8468,8469,8470,8474,8483,8487,8490,8491,8499,8506,8508,8527,8533,8602,8639,8673,8698,8711,8721,8722,8798,8810,8830,8834,8847,8849,8850,8855,8858,8871,8873,8885,8890,8910,8971,8976,8985,8992,9003,9016,9032,9054,9077,9094,9100,9135,9136,9165,9168,9198,9201,9215,9228,9230,9236,9239,9253,9270,9271,9274,9296,9330,9332,9355,9356,9359,9368,9397,9398,9400,9402,9409,9412,9417,9422,9430,9441,9455,9456,9461,9477,9478,9480,9514,9547,9557,9560,9569,9578,9589,9602,9605,9613,9632,9649,9654,9669,9672,9702,9724,9736,9738,9739,9767,9772,9774,9793,9798,9805,9807,9812,9817,9823,9825,9827,9835,9846,9850,9852,9874,9882,9892,9900,9913,9916,9936,9943,9976,9983,9994,9999,10006,10007,10010,10020,10032,10034,10052,10057,10059,10098,10104,10121,10126,10144,10148,10154,10158,10174,10191,10197,10210,10214,10222,10226,10231,10233,10236,10238,10245,10246,10274,10280,10283,10293,10302,10322,10328,10329,10332,10336,10337,10342,10344,10345,10350,10352,10360,10367,10373,10374,10381,10391,10417,10422,10425,10426,10450,10459,10460,10465,10467,10506,10510,10526,10532,10534,10538,10544,10563,10571,10573,10581,10599,10600,10610,10617,10624,10657,10658,10662,10676,10685,10686,10696,10707,10722,10726,10739,10742,10752,10760,10763,10771,10775,10777,10786,10792,10810,10814,10841,10896,10906,10907,10920,10925,10935,10936,10939,10943,10945,10958,10963,10965,10973,10976,10978,10992,10994,10998,11009,11017,11020,11030,11031,11032,11034,11036,11044,11045,11060,11063,11069,11078,11079,11105,11116,11133,11135,11136,11155,11171,11178,11180,11184,11218,11226,11227,11230,11238,11257,11266,11273,11286,11290,11303,11314,11315,11316,11322,11324,11327,11332,11343,11351,11368,11389,11406,11424,11426,11443,11456,11478,11482,11483,11487,11498,11501,11503,11508,11510,11520,11543,11608,11611,11614,11622,11623,11624,11626,11659,11680,11684,11702,11703,11706,11712,11723,11751,11765,11766,11769,11788,11792,11798,11813,11814,11823,11840,11841,11842,11846,11848,11856,11858,11881,11891,11894,11903,11923,11935,11940,11954,11955,11959,11994,12014,12015,12017,12039,12043,12053,12063,12084,12091,12127,12138,12146,12154,12176,12177,12190,12196,12197,12201,12204,12207,12221,12246,12274,12276,12279,12318,12328,12335,12344,12379,12401,12467,12514,12515,12546,12556,12573,12578,12640,12718,12750,12794,12796,12803,12813,12977,13014,13061,13108,13112,13118,13205,13217,13263,13276,13283,13366,13372,13375,13423,13428,13451,13591,13627,13711,13729,13752,13786,13817,13886,13902,13930,13957,13991,14025,14030,14031,14032,14033,14035,14063,14111,14116,14124,14150,14183,14195,14263,14295,14356,14380,14452,14549,14553,14624,14685,14768,14801,14852,14900,14931,14939,14947,14948,14960,14996,15037,15093,15128,15146,15153,15317,15358,15364,15415,15433,15471,15554,15677,15790,15802,15810,15899,15914,15924,15935,15944,15965,16107,16117,16166,16185,16187,16192,16214,16268,16318,16381,16390,16411,16418,16427,16465,16493,16500,16503,16505,16507,16514,16517,16551,16564,16582,16609,16612,16793,16814,16828,16835,16849,16858,16890,16901,16904,16927,16966,17034,17047,17051,17058,17059,17065,17076,17079,17080,17081,17089,17097,17098,17160,17203,17205,17212,17235,17236,17286,17288,17297,17309,17329,17330,17339,17350,17366,17419,17420,17428,17429,17436,17454,17486,17488,17499,17501,17507,17516,17520,17521,17524,17540,17547,17553,17556,17568,17599,17626,17651,17685,17688,17705,17740,17741,17753,17780,17801,17820,17824,17828,17829,17836,17838,17843,17846,17849,17884,17897,17917,17929,17937,17942,17944,17950,17953,17971,17975,17988,17991,17997,17998,17999,18004,18005,18016,18020,18027,18028,18044,18051,18069,18094,18102,18114,18139,18145,18146,18147,18151,18152,18163,18180,18182,18197,18203,18238,18265,18266,18295,18327,18330,18334,18348,18354,18356,18358,18381,18387,18388,18416,18421,18424,18426,18433,18438,18452,18459,18484,18519,18553,18559,18573,18589,18591,18595,18624,18633,18636,18642,18652,18670,18675,18679,18686,18693,18696,18706,18708,18715,18719,18733,18737,18744,18747,18749,18763,18780,18799,18813,18823,18834,18841,18844,18868,18874,18878,18893,18901,18904,18910,18923,18948,18954,18992,18994,18996,19058,19060,19061,19066,19067,19079,19085,19087,19091,19122,19193,19209,19210,19224,19233,19234,19239,19242,19244,19249,19255,19256,19258,19259,19261,19263,19268,19277,19296,19297,19300,19318,19320,19358,19360,19362,19369,19373,19377,19378,19383,19385,19392,19410,19418,19421,19422,19451,19482,19484,19492,19525,19528,19538,19553,19558,19577,19579,19580,19583,19585,19587,19599,19600,19609,19610,19615,19644,19649,19659,19666,19667,19668,19675,19677,19685,19687,19691,19693,19705,19711,19718,19724,19734,19740,19745,19746,19747,19755,19757,19759,19774,19777,19794,19806,19833,19840,19843,19862,19867,19883,19901,19910,19916,19926,19929,19930,19931,19954,19980,19981,19982,19985,19986,19996,20038,20052,20053,20056,20064,20069,20070,20111,20121,20122,20127,20128,20138,20144,20171,20173,20179,20185,20204,20206,20211,20221,20222,20227,20241,20268,20270,20278,20281,20293,20307,20313,20341,20352,20381,20400,20408,20415,20419,20424,20445,20454,20472,20477,20488,20508,20525,20533,20534,20540,20542,20549,20561,20572,20579,20580,20585,20598,20611,20613,20616,20639,20654,20659,20667,20673,20686,20687,20691,20693,20697,20698,20705,20715,20717,20740,20755,20766,20769,20777,20789,20829,20833,20839,20863,20878,20880,20881,20886,20890,20893,20897,20903,20919,20922,20923,20924,20946,20949,20967,20984,21011,21031,21047,21062,21068,21082,21086,21104,21107,21120,21138,21145,21146,21165,21169,21176,21179,21181,21199,21202,21289,21295,21304,21329,21332,21338,21368,21373,21381,21382,21385,21389,21425,21431,21437,21439,21440,21442,21453,21479,21538,21546,21557,21568,21585,21593,21613,21624,21629,21632,21633,21656,21676,21715,21723,21741,21836,21859,21877,21894,21942,21947,21955,21975,21986,21990,22005,22012,22090,22106,22199,22213,22216,22279,22282,22320,22339,22342,22349,22353,22386,22390,22432,22511,22543,22569,22591,22656,22668,22797,22823,22843,22849,22878,22888,22926,22982,23002,23006,23055,23057,23076,23367,23422,23522,23527,23625,23692,23729,23754,23769,23780,24160,24571,24651,24740,24791,24797,24819,24827,24829,24835,24837,24870,25274,26446\".split(',')]\n",
    "len(rapid_cafe_fam_ids), rapid_cafe_fam_ids[118]"
   ]
  },
  {
   "cell_type": "code",
   "execution_count": 27,
   "metadata": {
    "collapsed": false
   },
   "outputs": [
    {
     "data": {
      "text/plain": [
       "'OG0001542'"
      ]
     },
     "execution_count": 27,
     "metadata": {},
     "output_type": "execute_result"
    }
   ],
   "source": [
    "\"OG0016622\"\n",
    "def cafe_to_OG(cafe_id):\n",
    "    return \"OG\" + '%07d' % (cafe_id)\n",
    "cafe_to_OG(rapid_cafe_fam_ids[418])"
   ]
  },
  {
   "cell_type": "markdown",
   "metadata": {},
   "source": [
    "Skip first 50 families, these are sorted by family size and the biggest ones are always deviant"
   ]
  },
  {
   "cell_type": "code",
   "execution_count": 154,
   "metadata": {
    "collapsed": false
   },
   "outputs": [
    {
     "name": "stdout",
     "output_type": "stream",
     "text": [
      "OG0003625 {'RNA recognition motif domain|Nucleotide-binding, alpha-beta plait', 'glycine-rich rna-binding protein'}\n",
      "OG0003644 {'Proteasome component (PCI) domain|26S proteasome regulatory subunit, C-terminal|Winged helix-turn-helix DNA-binding domain', '26s proteasome non-atpase regulatory subunit 3'}\n",
      "OG0003645 {'pumilio homolog 2-like', 'Pumilio RNA-binding repeat|Armadillo-type fold|Armadillo-like helical'}\n",
      "OG0003647 {'armadillo repeat-containing kinesin-like protein 2-like', 'armadillo repeat-containing kinesin-like protein 2', 'morphogenesis of root hair 2', 'Kinesin-like protein|Kinesin, motor domain|Armadillo|Armadillo-type fold|P-loop containing nucleoside triphosphate hydrolase|Armadillo-like helical|Kinesin, motor region, conserved site'}\n",
      "OG0003649 {'nadh dehydrogenase', 'NADH:ubiquinone oxidoreductase-like, 20kDa subunit|NADH-ubiquinone oxidoreductase, 20 Kd subunit'}\n",
      "OG0003652 {'Rab-GTPase-TBC domain', 'tbc domain-containing protein'}\n",
      "OG0003657 {'Uncharacterised protein family UPF0121'}\n",
      "OG0003664 {'Ankyrin repeat-containing domain|PGG domain|Ankyrin repeat', 'Ankyrin repeat|Ankyrin repeat-containing domain'}\n",
      "OG0003665 {'v-type proton atpase subunit h', 'ATPase, V1 complex, subunit H|ATPase, V1 complex, subunit H, C-terminal|Armadillo-type fold|Armadillo-like helical|Armadillo'}\n",
      "OG0003687 {'Phosphodiesterase MJ0936|Calcineurin-like phosphoesterase superfamily domain', 'vacuolar protein sorting 29 protein'}\n",
      "OG0003688 {'PRONE domain', 'rop guanine nucleotide exchange factor 1-like'}\n",
      "OG0003696 {'Caskin/Ankyrin repeat-containing protein|Ankyrin repeat-containing protein  At2g01680|Ankyrin repeat-containing domain|PGG domain|Ankyrin repeat'}\n",
      "OG0003697 {'Serine-threonine/tyrosine-protein kinase catalytic domain|Protein kinase-like domain|Concanavalin A-like lectin/glucanase, subgroup|Protein kinase domain|Protein kinase, ATP binding site'}\n",
      "OG0003713 {'regulator of nonsense transcripts 1 homolog'}\n",
      "OG0003729 {'Major facilitator superfamily|Tetracycline resistance protein, TetA/multidrug resistance protein MdtG|Major facilitator superfamily domain, general substrate transporter|Major facilitator superfamily domain', 'Major facilitator superfamily|Major facilitator superfamily domain, general substrate transporter|Major facilitator superfamily domain', 'zinc induced facilitator-like 1 protein', 'protein zinc induced facilitator-like 1-like'}\n",
      "OG0003731 {'Domain of unknown function DUF382', 'Domain of unknown function DUF382|Domain of unknown function DUF1794|Calycin-like', 'splicing factor 3b subunit 2'}\n",
      "OG0003732 {'Divalent cation-transporting P-type ATPase|P-type ATPase, A  domain|HAD-like domain|Cation-transporting P-type ATPase|Heavy metal-associated domain, HMA', 'Divalent cation-transporting P-type ATPase|P-type ATPase, A  domain|Heavy metal-associated domain, HMA|HAD-like domain|Cation-transporting P-type ATPase|P-type ATPase, cytoplasmic domain N', 'cadmium-transporting atpase-like protein', 'cd2+ zn2+-exporting atpase', 'zn cd p -type atpase', 'Divalent cation-transporting P-type ATPase|P-type ATPase, A  domain|HAD-like domain|Cation-transporting P-type ATPase|Heavy metal-associated domain, HMA|P-type ATPase, cytoplasmic domain N|Cation-transporting P-type ATPase, subfamily IB|P-type ATPase, phosphorylation site'}\n",
      "OG0003754 {'Protein of unknown function DUF604'}\n",
      "OG0003756 {'MATH|TRAF-like'}\n",
      "OG0003783 {'Ribosomal protein L27', 'Ribosomal protein L27|Ribosomal protein L27, conserved site', '50s ribosomal protein l27'}\n",
      "OG0003791 {'pyruvate decarboxylase', 'Thiamine pyrophosphate (TPP)-dependent enzyme|Thiamine pyrophosphate enzyme, N-terminal TPP-binding domain'}\n",
      "OG0003826 {'meiosis expressed'}\n",
      "OG0003835 {'calmodulin-binding transcription activator'}\n",
      "OG0003838 {'12-oxophytodienoate reductase', 'NADH:flavin oxidoreductase/NADH oxidase, N-terminal|Aldolase-type TIM barrel'}\n",
      "OG0003841 {'HAD-like domain', 'uncharacterized hydrolase yutf-like'}\n",
      "OG0003844 {'Serine-threonine/tyrosine-protein kinase catalytic domain|Protein kinase-like domain|Concanavalin A-like lectin/glucanase, subgroup|Serine/threonine- / dual specificity protein kinase, catalytic  domain|Protein kinase domain|Protein kinase, ATP binding site|Serine/threonine-protein kinase, active site', 'probable leucine-rich repeat receptor-like protein kinase at4g00330-like'}\n",
      "OG0003847 {'Peptidase S8, subtilisin-related|Proteinase inhibitor I9|Peptidase S8/S53 domain', 'xylem serine proteinase 1'}\n",
      "OG0003880 {'Serine/threonine-specific protein phosphatase/bis(5-nucleosyl)-tetraphosphatase', 'serine threonine protein'}\n",
      "OG0003890 {'vacuolar protein sorting-associated protein 72 homolog', 'YL1 nuclear|YL1 nuclear, C-terminal'}\n",
      "OG0003925 {'HD domain|HD/PDEase domain', 'metal-dependent phosphohydrolase hd domain-containing protein'}\n",
      "OG0003940 {'rrna intron-encoded homing endonuclease'}\n",
      "OG0004006 {'F-box domain', 'f-box lrr-repeat protein'}\n",
      "OG0004023 {'Stm1, N-terminal'}\n",
      "OG0004072 {'ef hand family protein', 'F-box domain|F-box associated domain, type 3|EF-hand domain|Galactose oxidase/kelch, beta-propeller|EF-hand domain pair|F-box associated interaction domain', 'F-box domain|F-box associated domain, type 3|F-box associated interaction domain'}\n",
      "OG0004104 {'soss complex subunit b1', 'Nucleic acid-binding, OB-fold'}\n",
      "OG0004110 {'SNF2-related|Helicase, C-terminal|P-loop containing nucleoside triphosphate hydrolase|Zinc finger, RING/FYVE/PHD-type|Zinc finger, RING-type|Helicase, superfamily 1/2, ATP-binding domain|Zinc finger, RING-type, conserved site', 'SNF2-related|Helicase, C-terminal|P-loop containing nucleoside triphosphate hydrolase|Zinc finger, RING/FYVE/PHD-type|Zinc finger, RING-type, conserved site', 'atp-dependent helicase rhp16-like', 'Helicase, C-terminal|P-loop containing nucleoside triphosphate hydrolase', 'Zinc finger, RING/FYVE/PHD-type|Zinc finger, RING-type|Zinc finger, RING-type, conserved site'}\n",
      "OG0004113 {'SKP1 component|SKP1 component, dimerisation|BTB/POZ fold'}\n",
      "OG0004120 {'Nucleotidyl transferase', 'adp-glucose pyrophosphorylase-like protein', 'Bacterial transferase hexapeptide repeat|Nucleotidyl transferase'}\n",
      "OG0004205 {'Pleckstrin homology domain|Rho GTPase activation protein|Rho GTPase-activating protein domain|Pleckstrin homology-like domain', 'pleckstrin homology domain-containing', 'rho gtpase activation protein', 'Pleckstrin homology domain|Rho GTPase-activating protein domain|Ternary complex factor MIP1, leucine-zipper|Rho GTPase activation protein|Pleckstrin homology-like domain'}\n",
      "OG0004213 {'Protein kinase domain|Protein kinase-like domain|Serine/threonine- / dual specificity protein kinase, catalytic  domain|Serine/threonine-protein kinase, active site', 'shaggy-related protein kinase', 'shaggy-related protein kinase eta', 'Protein kinase domain|Protein kinase-like domain|Serine/threonine-protein kinase, active site'}\n",
      "OG0004217 {'pentatricopeptide repeat-containing protein', 'Pentatricopeptide repeat|Tetratricopeptide-like helical'}\n",
      "OG0004223 {'ribosomal protein s11', 'Ribosomal protein S11|Ribosomal protein S11, bacterial-type|Ribosomal S11, conserved site'}\n",
      "OG0004232 {'probable lrr receptor-like serine threonine-protein kinase at1g53440-like', 'Protein kinase domain|Protein kinase-like domain|Tyrosine-protein kinase, catalytic domain|Serine/threonine-protein kinase, active site', 'probable lrr receptor-like serine threonine-protein kinase at1g56130-like'}\n",
      "OG0004237 {'EF-hand domain pair|EF-hand domain|EF-Hand 1, calcium-binding site', 'calcium-dependent protein kinase 30'}\n",
      "OG0004238 {'auxin response factor 6-like', 'DNA-binding pseudobarrel domain'}\n",
      "OG0004271 {'DNA/RNA helicase, DEAD/DEAH box type, N-terminal|Helicase, C-terminal|Ribonuclease III domain|Dicer dimerisation domain|P-loop containing nucleoside triphosphate hydrolase|Double-stranded RNA-binding domain|Helicase, superfamily 1/2, ATP-binding domain|Argonaute/Dicer protein, PAZ domain', 'DNA/RNA helicase, DEAD/DEAH box type, N-terminal|Helicase, C-terminal|Argonaute/Dicer protein, PAZ domain|Dicer dimerisation domain|P-loop containing nucleoside triphosphate hydrolase|Helicase, superfamily 1/2, ATP-binding domain', 'Ribonuclease III domain', 'dicer-like protein 4', 'Double-stranded RNA-binding domain|DNA/RNA helicase, DEAD/DEAH box type, N-terminal|Helicase, C-terminal|Ribonuclease III domain|Dicer dimerisation domain|P-loop containing nucleoside triphosphate hydrolase|Helicase, superfamily 1/2, ATP-binding domain|Argonaute/Dicer protein, PAZ domain', 'protein dicer-like 2', 'DNA/RNA helicase, DEAD/DEAH box type, N-terminal|Helicase, C-terminal|Ribonuclease III domain|Argonaute/Dicer protein, PAZ domain|Dicer dimerisation domain|P-loop containing nucleoside triphosphate hydrolase|Double-stranded RNA-binding domain|Helicase, superfamily 1/2, ATP-binding domain'}\n",
      "OG0004314 {'Endosulphine'}\n",
      "OG0004323 {'Domain of unknown function DUF1985'}\n",
      "OG0004341 {'F-box domain|FBD domain'}\n",
      "OG0004350 {'cohesin subunit', 'Rad21/Rec8-like protein, C-terminal, eukaryotic|Rad21/Rec8-like protein, N-terminal|Rad21/Rec8-like protein, C-terminal'}\n",
      "OG0004365 {'keratinocytes-associated protein 2', 'Uncharacterised protein family KRTCAP2'}\n",
      "OG0004379 {'cysteine synthase', 'Tryptophan synthase beta subunit-like PLP-dependent enzymes superfamily|Cysteine synthase K/M|Cysteine synthase A|Cysteine synthase/cystathionine beta-synthase P-phosphate-binding site'}\n",
      "OG0004409 {'Cytochrome P450|Cytochrome P450, E-class, group IV|Cytochrome P450, conserved site', 'secologanin synthase-like'}\n",
      "OG0004463 {'V-ATPase proteolipid subunit C-like domain|V-ATPase proteolipid subunit|V-ATPase proteolipid subunit C, eukaryotic'}\n",
      "OG0004465 {'Glycoside hydrolase, family 31|Glycoside hydrolase family 31, N-terminal domain|Glycoside hydrolase, superfamily|Galactose mutarotase-like domain', 'Glycoside hydrolase, family 31|Glycoside hydrolase, superfamily', 'Glycoside hydrolase, family 31|Glycoside hydrolase family 31, N-terminal domain|Glycoside hydrolase, superfamily|Galactose mutarotase-like domain|Aldolase-type TIM barrel', 'alpha glucosidase-like protein'}\n",
      "OG0004484 {'Protein kinase domain|Protein kinase-like domain|Serine/threonine- / dual specificity protein kinase, catalytic  domain|Protein kinase, ATP binding site'}\n",
      "OG0004520 {'LSM-interacting domain|Tetratricopeptide-like helical|Nucleotide-binding, alpha-beta plait|RNA recognition motif domain|RNA-processing protein, HAT helix', 'squamous cell carcinoma antigen recognized by t-cells 3-like', 'RNA-processing protein, HAT helix', 'RNA recognition motif domain|LSM-interacting domain|Tetratricopeptide-like helical|Nucleotide-binding, alpha-beta plait|RNA-processing protein, HAT helix'}\n",
      "OG0004527 {'nadh dehydrogenase subunit 2', 'NADH:ubiquinone/plastoquinone oxidoreductase'}\n",
      "OG0004635 {'sec-independent protein translocase protein', 'Sec-independent periplasmic protein translocase TatC|Sec-independent periplasmic protein translocase, conserved site'}\n",
      "OG0004643 {'Protein of unknown function DUF573'}\n",
      "OG0004646 {'monodehydroascorbate reductase', 'Pyridine nucleotide-disulphide oxidoreductase, NAD-binding domain|Pyridine nucleotide-disulphide oxidoreductase, FAD/NAD(P)-binding domain|FAD-dependent pyridine nucleotide-disulphide oxidoreductase|FAD/NAD-linked reductase, dimerisation domain'}\n",
      "OG0004694 {'Phospholipid/glycerol acyltransferase|EF-hand domain pair|EF-hand domain|EF-Hand 1, calcium-binding site', 'lysophosphatidylcholine acyltransferase lyso-paf acetyltransferase'}\n",
      "OG0004707 {'condensin-2 complex subunit d3-like'}\n",
      "OG0004733 {'protein disulfide isomerase l-2'}\n",
      "OG0004740 {'Protein kinase domain|Protein kinase-like domain|Serine/threonine- / dual specificity protein kinase, catalytic  domain|Serine/threonine-protein kinase, active site', 'serine threonine protein kinase'}\n",
      "OG0004758 {'e3 ubiquitin protein ligase rin2', 'Ubiquitin system component Cue|Zinc finger, RING-type|Zinc finger, RING/FYVE/PHD-type'}\n",
      "OG0004778 {'katanin p60 atpase-containing subunit'}\n",
      "OG0004789 {'PGG domain'}\n",
      "OG0004797 {'PGG domain'}\n",
      "OG0004811 {'metal-nicotianamine transporter ysl7', 'Oligopeptide transporter, OPT superfamily'}\n",
      "OG0004832 {'Peptidase C48, SUMO/Sentrin/Ubl1'}\n",
      "OG0004833 {'protein dr1-like protein', 'Transcription factor CBF/NF-Y/archaeal histone|Histone-fold'}\n",
      "OG0004883 {'Peptidase M3A/M3B|Neurolysin/Thimet oligopeptidase, domain 2|Neurolysin/Thimet oligopeptidase, N-terminal|Metallopeptidase, catalytic domain', 'oligopeptidase a'}\n",
      "OG0004909 {'Deoxyhypusine synthase', 'deoxyhypusine synthase', 'Deoxyhypusine synthase|Protein transport protein SecG/Sec61-beta/Sbh1'}\n",
      "OG0004916 {'Agglutinin|Aerolysin-like toxin, beta complex domain', 'Aerolysin/haemolysin/leukocidin toxin|Agglutinin|Aerolysin-like toxin, beta complex domain'}\n",
      "OG0004940 {'Prenyltransferase/squalene oxidase|Terpenoid cyclases/protein prenyltransferase alpha-alpha toroid|Squalene cyclase', 'cycloartenol synthase', 'Prenyltransferase/squalene oxidase|Terpenoid cyclases/protein prenyltransferase alpha-alpha toroid|Squalene cyclase|Terpene synthase, conserved site'}\n",
      "OG0004957 {'lon protease-like protein'}\n",
      "OG0004967 {'cinnamyl alcohol dehydrogenase', 'Alcohol dehydrogenase superfamily, zinc-type|Alcohol dehydrogenase GroES-like|GroES (chaperonin 10)-like', 'cinnamyl alcohol dehydrogenase-like protein'}\n",
      "OG0005015 {'HAD-superfamily hydrolase, subfamily IIA|HAD-like domain', 'HAD-like domain'}\n",
      "OG0005024 {'Ataxin-10 domain'}\n",
      "OG0005038 {'cov1-like protein'}\n",
      "OG0005152 {'protein agamous-like 42', 'Transcription factor, MADS-box|Transcription factor, K-box', 'Transcription factor, K-box', 'soc1-like protein'}\n",
      "OG0005159 {'shoot gravitropism 2'}\n",
      "OG0005172 {'50s ribosomal protein chloroplast'}\n",
      "OG0005194 {'dna binding', 'SANT/Myb domain|Transcription factor GRAS|Homeodomain-like|Myb domain, plants|Myb-like domain|Myb domain'}\n",
      "OG0005202 {'bed finger-nbs-lrr resistance protein', 'NB-ARC|P-loop containing nucleoside triphosphate hydrolase', 'NB-ARC', 'NB-ARC|Disease resistance protein|P-loop containing nucleoside triphosphate hydrolase'}\n",
      "OG0005267 {'MRG|MRG domain|RNA binding activity-knot of a chromodomain|Chromo domain-like', 'MRG|MRG domain|RNA binding activity-knot of a chromodomain|Chromo domain-like|Chromo domain/shadow', 'nua4 complex subunit eaf3 homolog', 'MRG|MRG domain|RNA binding activity-knot of a chromodomain|Chromo domain-like|Chromatin modification-related protein EAF3/MRG15', 'mortality factor 4-like protein 1'}\n",
      "OG0005279 {'AP complex subunit beta|Clathrin/coatomer adaptor, adaptin-like, N-terminal|Clathrin adaptor, alpha/beta/gamma-adaptin, appendage, Ig-like subdomain|Armadillo-type fold|Coatomer/clathrin adaptor appendage, Ig-like subdomain|Armadillo-like helical|Clathrin adaptor, beta-adaptin, appendage, Ig-like subdomain|AP-1, 2,4 complex subunit beta', 'AP complex subunit beta|Clathrin/coatomer adaptor, adaptin-like, N-terminal|Armadillo-type fold|Armadillo-like helical', 'beta-adaptin-like protein c', 'AP complex subunit beta|Clathrin/coatomer adaptor, adaptin-like, N-terminal|Clathrin adaptor, alpha/beta/gamma-adaptin, appendage, Ig-like subdomain|Beta-adaptin appendage, C-terminal subdomain|Armadillo-type fold|Coatomer/clathrin adaptor appendage, Ig-like subdomain|Coatomer/calthrin adaptor appendage, C-terminal subdomain|Armadillo-like helical|Clathrin adaptor, beta-adaptin, appendage, Ig-like subdomain|Beta2-adaptin/TBP, C-terminal domain|AP-1, 2,4 complex subunit beta'}\n",
      "OG0005290 {'Tetratricopeptide TPR2|Tetratricopeptide-like helical', 'Tetratricopeptide-like helical'}\n",
      "OG0005361 {'glycine-rich protein'}\n",
      "OG0005378 {'beta-adaptin-like protein c', 'AP complex subunit beta|Beta-adaptin appendage, C-terminal subdomain|Coatomer/clathrin adaptor appendage, Ig-like subdomain|Coatomer/calthrin adaptor appendage, C-terminal subdomain|Clathrin adaptor, beta-adaptin, appendage, Ig-like subdomain|Beta2-adaptin/TBP, C-terminal domain', 'Beta-adaptin appendage, C-terminal subdomain|Coatomer/calthrin adaptor appendage, C-terminal subdomain|Beta2-adaptin/TBP, C-terminal domain'}\n",
      "OG0005407 {'leucine-rich repeat-containing protein', 'Domain of unknown function DUF1794|Calycin-like', 'Domain of unknown function DUF1794|MYB-CC type transcription factor, LHEQLE-containing domain|Calycin-like'}\n",
      "OG0005419 {'proteasome component domain protein', 'Proteasome component (PCI) domain|Winged helix-turn-helix DNA-binding domain|Eukaryotic translation initiation factor 3 subunit M', 'Proteasome component (PCI) domain|Eukaryotic translation initiation factor 3 subunit M'}\n",
      "OG0005543 {'callose synthase', 'Callose synthase'}\n",
      "OG0005591 {'wall-associated receptor kinase 2-like', 'EGF-like calcium-binding domain|Serine-threonine/tyrosine-protein kinase catalytic domain|Wall-associated receptor kinase galacturonan-binding domain|Protein kinase-like domain|Concanavalin A-like lectin/glucanase, subgroup|Epidermal growth factor-like domain|Protein kinase domain|EGF-type aspartate/asparagine hydroxylation site|EGF-like calcium-binding, conserved site'}\n",
      "OG0005599 {'phospholipase d', 'Phospholipase D family|Phospholipase D/Transphosphatidylase|Phospholipase D, C-terminal'}\n",
      "OG0005610 {'adenine nucleotide alpha hydrolases-like protein', 'UspA|Universal stress protein A|Rossmann-like alpha/beta/alpha sandwich fold'}\n",
      "OG0005631 {'cytochrome oxidase subunit 3', 'Cytochrome c/ubiquinol oxidase subunit III|Cytochrome c oxidase, subunit III|Cytochrome c oxidase, subunit III, 4-helical bundle'}\n",
      "OG0005774 {'gtpase sar1', 'Small GTPase superfamily, SAR1-type|Small GTPase superfamily, ARF/SAR type|P-loop containing nucleoside triphosphate hydrolase', 'gtp-binding protein'}\n",
      "OG0005840 {'CHCH|Cysteine alpha-hairpin motif superfamily'}\n",
      "OG0005862 {'thylakoid carrier protein', 'Mitochondrial substrate/solute carrier|Mitochondrial carrier protein|Mitochondrial carrier domain'}\n",
      "OG0005907 {'e3 sumo-protein ligase siz1-like', 'Zinc finger, PHD-finger|SAP domain|Zinc finger, MIZ-type|Zinc finger, FYVE/PHD-type|Zinc finger, RING/FYVE/PHD-type|Zinc finger, PHD-type|Zinc finger, PHD-type, conserved site', 'e3 sumo-protein ligase siz1', 'Zinc finger, PHD-finger|Zinc finger, MIZ-type|Zinc finger, FYVE/PHD-type|Zinc finger, RING/FYVE/PHD-type|Zinc finger, PHD-type|Zinc finger, PHD-type, conserved site'}\n",
      "OG0005943 {'probable carboxylesterase 2-like', 'Alpha/beta hydrolase fold-3'}\n",
      "OG0005979 {'Geminivirus AL1 replication-associated protein, catalytic domain|Geminivirus AL1 replication-associated protein, central domain|Geminivirus AL1, replication-associated protein|Geminivirus AL1 replication-associated protein, CLV type'}\n",
      "OG0005984 {'Zein-binding domain'}\n",
      "OG0006004 {'actin', 'Actin-related protein'}\n",
      "OG0006012 {'aldehyde dehydrogenase family 2 member mitochondrial-like', 'Aldehyde dehydrogenase domain|Aldehyde/histidinol dehydrogenase|Aldehyde dehydrogenase, C-terminal'}\n",
      "OG0006075 {'BAG domain|IQ motif, EF-hand binding site', 'BAG domain'}\n",
      "OG0006112 {'Vacuole morphology and inheritance protein 14|Armadillo-type fold|Armadillo-like helical', 'protein vac14 homolog'}\n",
      "OG0006171 {'atp-binding cassette', 'ABC transporter-like|P-loop containing nucleoside triphosphate hydrolase', 'pleiotropic drug resistance protein 1-like'}\n",
      "OG0006182 {'Amino acid transporter, transmembrane', 'amino acid permease'}\n",
      "OG0006186 {'Drug/metabolite transporter', 'auxin-induced protein 5ng4'}\n",
      "OG0006202 {'chaperone protein', 'Chaperone DnaJ, C-terminal|HSP40/DnaJ peptide-binding', '-like protein'}\n",
      "OG0006335 {'alpha beta fold family protein', 'Nucleic acid-binding, OB-fold'}\n",
      "OG0006359 {'protein transport protein sec24-like at3g07100-like', 'Zinc finger, Sec23/Sec24-type|Sec23/Sec24, trunk domain|Sec23/Sec24, helical domain|Sec23/Sec24 beta-sandwich|von Willebrand factor, type A'}\n",
      "OG0006400 {'Protein kinase domain|Wall-associated receptor kinase galacturonan-binding domain|Protein kinase-like domain|Serine/threonine- / dual specificity protein kinase, catalytic  domain|Protein kinase, ATP binding site|Serine/threonine-protein kinase, active site', 'Wall-associated receptor kinase galacturonan-binding domain', 'probable serine threonine-protein kinase at1g18390-like', 'Protein kinase domain|Protein kinase-like domain|Concanavalin A-like lectin/glucanase, subgroup|Serine/threonine- / dual specificity protein kinase, catalytic  domain|Protein kinase, ATP binding site|Serine/threonine-protein kinase, active site', 'probable receptor-like protein kinase at1g67000-like'}\n",
      "OG0006411 {'NAC domain', 'NAC domain|P-loop containing nucleoside triphosphate hydrolase'}\n",
      "OG0006469 {'polyadenylate-binding protein'}\n",
      "OG0006501 {'ENTH/VHS|CID domain', 'PWWP domain|CID domain', 'tudor pwwp mbt domain-containing protein', 'CID domain', 'PWWP domain'}\n",
      "OG0006554 {'Diphosphomevalonate decarboxylase|GHMP kinase N-terminal domain|Ribosomal protein S5 domain 2-type fold|Ribosomal protein S5 domain 2-type fold, subgroup', 'Diphosphomevalonate decarboxylase|Ribosomal protein S5 domain 2-type fold|Ribosomal protein S5 domain 2-type fold, subgroup', 'mevalonate diphosphate decarboxylase'}\n",
      "OG0006579 {'Clp, N-terminal|P-loop containing nucleoside triphosphate hydrolase|Double Clp-N motif', 'chaperone protein chloroplastic-like'}\n",
      "OG0006688 {'calcium-dependent protein kinase', 'EF-hand domain pair|EF-hand domain|EF-Hand 1, calcium-binding site'}\n",
      "OG0006717 {'Coatomer delta subunit', 'coatomer subunit delta'}\n",
      "OG0006728 {'myrcene chloroplastic-like', 'Terpene synthase, metal-binding domain|Terpenoid synthase'}\n",
      "OG0006741 {'clathrin heavy chain 1-like', 'Clathrin, heavy chain/VPS, 7-fold repeat|Armadillo-type fold|Tetratricopeptide-like helical'}\n",
      "OG0006745 {'60s ribosomal protein', 'Ribosomal protein L18e/L15P|Ribosomal protein L15, conserved site'}\n",
      "OG0006757 {'AP180 N-terminal homology (ANTH) domain|ENTH/VHS|Clathrin adaptor, phosphoinositide-binding, GAT-like|Epsin-like, N-terminal', 'clathrin assembly protein'}\n",
      "OG0006779 {'Ubiquitin-conjugating enzyme, E2|Ubiquitin-conjugating enzyme/RWD-like', 'ubiquitin-conjugating enzyme e2'}\n",
      "OG0006826 {'laccase 90c', 'Multicopper oxidase, type 2|Cupredoxin|Multicopper oxidase, copper-binding site'}\n",
      "OG0006851 {'General substrate transporter|Sugar/inositol transporter|Major facilitator superfamily domain, general substrate transporter|Major facilitator superfamily domain|Sugar transporter, conserved site', 'hexose transporter'}\n",
      "OG0006858 {'Protein kinase domain|Protein kinase-like domain|Serine/threonine- / dual specificity protein kinase, catalytic  domain|Serine/threonine-protein kinase, active site', 'probable receptor-like protein kinase at5g24010-like', 'atp binding', 'Protein kinase domain|Malectin-like carbohydrate-binding domain|Protein kinase-like domain|Concanavalin A-like lectin/glucanase, subgroup|Serine/threonine- / dual specificity protein kinase, catalytic  domain|Serine/threonine-protein kinase, active site'}\n",
      "OG0006910 {'glycine-rich protein'}\n",
      "OG0006922 {'Acyl-CoA N-acyltransferase|Zinc finger, FYVE/PHD-type|Zinc finger, RING/FYVE/PHD-type|Zinc finger, PHD-type', 'Acyl-CoA N-acyltransferase', 'protein binding', 'Zinc finger, FYVE/PHD-type|Zinc finger, RING/FYVE/PHD-type', 'acyl- n-acyltransferase with ring fyve phd-type zinc finger domain-containing protein'}\n",
      "OG0007007 {'cinnamyl alcohol dehydrogenase', 'NmrA-like|NAD(P)-binding domain', 'NAD-dependent epimerase/dehydratase|NAD(P)-binding domain', 'NAD(P)-binding domain', 'cinnamoyl- reductase', 'low quality protein: bifunctional dihydroflavonol 4-reductase flavanone 4-reductase-like'}\n",
      "OG0007010 {'Magnesium transporter NIPA', 'magnesium transporter nipa2-like'}\n",
      "OG0007027 {'Armadillo-type fold|Armadillo-like helical'}\n",
      "OG0007048 {'kinesin-like protein kif2a-like', 'Kinesin-like protein|Kinesin, motor domain|P-loop containing nucleoside triphosphate hydrolase|Kinesin, motor region, conserved site'}\n",
      "OG0007101 {'protein phosphatase 2a catalytic subunit', 'Phosphoesterase domain|Serine/threonine-specific protein phosphatase/bis(5-nucleosyl)-tetraphosphatase'}\n",
      "OG0007104 {'Homeodomain-like'}\n",
      "OG0007105 {'Fatty acid desaturase, type 1|Fatty acid desaturase, type 1, core', 'palmitoyl-monogalactosyldiacylglycerol delta-7 desaturase'}\n",
      "OG0007112 {'F-box domain|FBD domain'}\n",
      "OG0007132 {'wall-associated receptor kinase-like protein'}\n",
      "OG0007137 {'ring finger and transmembrane domain-containing protein 2-like'}\n",
      "OG0007180 {'pyruvate kinase', 'Pyruvate kinase|Pyruvate kinase, barrel|Pyruvate/Phosphoenolpyruvate kinase-like domain'}\n",
      "OG0007192 {'Cupin 1|Germin|RmlC-like cupin domain|RmlC-like jelly roll fold', 'rhicadhesin receptor'}\n",
      "OG0007197 {'Ubiquitin domain|Ubiquitin supergroup', 'dna repair protein rad23-3'}\n",
      "OG0007244 {'ring u-box domain-containing protein'}\n",
      "OG0007247 {'at3g58640 f14p22_230'}\n",
      "OG0007282 {'histone-lysine n-methyltransferase atx2-like', 'set domain protein', 'PWWP domain'}\n",
      "OG0007286 {'Chromo domain|Chromo domain-like', 'retrotransposon unclassified'}\n",
      "OG0007304 {'EF-hand domain pair|EF-hand domain|EF-Hand 1, calcium-binding site', 'serine threonine-protein phosphatase 2a regulatory subunit b subunit alpha-like'}\n",
      "OG0007307 {'serine threonine-protein phosphatase 5', 'Serine/threonine protein phosphatase 5|Phosphoesterase domain|Tetratricopeptide TPR1|PPP domain|Serine/threonine-specific protein phosphatase/bis(5-nucleosyl)-tetraphosphatase|Tetratricopeptide-like helical|Tetratricopeptide repeat|Tetratricopeptide repeat-containing domain'}\n",
      "OG0007314 {'Protein kinase domain|Serine-threonine/tyrosine-protein kinase catalytic domain|Protein kinase-like domain|Concanavalin A-like lectin/glucanase, subgroup|Protein kinase, ATP binding site', 'Serine-threonine/tyrosine-protein kinase catalytic domain|Protein kinase-like domain|Concanavalin A-like lectin/glucanase, subgroup|Protein kinase domain|Protein kinase, ATP binding site', 'Protein kinase domain|Protein kinase-like domain|Concanavalin A-like lectin/glucanase, subgroup|Serine/threonine- / dual specificity protein kinase, catalytic  domain|Protein kinase, ATP binding site|Serine/threonine-protein kinase, active site', 'probable receptor-like protein kinase at1g67000-like'}\n",
      "OG0007376 {'exportin-1-like isoform 1', 'Importin-beta, N-terminal domain|Exportin-1/Importin-beta-like|CRM1 C-terminal domain|Armadillo-type fold|Armadillo-like helical'}\n",
      "OG0007392 {'protein notum homolog', 'Protein notum homologue'}\n",
      "OG0007398 {'Tubulin|Tubulin/FtsZ, 2-layer sandwich domain|Alpha tubulin|Tubulin/FtsZ, GTPase domain|Tubulin/FtsZ, C-terminal|Tubulin, C-terminal', 'alpha tubulin 1', 'Tubulin|Tubulin/FtsZ, C-terminal|Tubulin, C-terminal'}\n",
      "OG0007433 {'Cation-transporting P-type ATPase, C-terminal|P-type ATPase,  transmembrane domain', 'calcium-transporting atpase plasma membrane-type-like'}\n",
      "OG0007443 {'Zinc finger, N-recognin|Zinc finger, N-recognin, metazoa'}\n",
      "OG0007495 {'methyltransferase pmt4', 'Putative S-adenosyl-L-methionine-dependent methyltransferase'}\n",
      "OG0007533 {'Guanylate-binding protein, N-terminal|NAC domain|Guanylate-binding protein, C-terminal|P-loop containing nucleoside triphosphate hydrolase', 'Guanylate-binding protein, N-terminal|Guanylate-binding protein, C-terminal|P-loop containing nucleoside triphosphate hydrolase'}\n",
      "OG0007580 {'Drug/metabolite transporter', 'auxin-induced protein 5ng4-like'}\n",
      "OG0007597 {'vesicle-associated membrane', 'MSP domain|PapD-like|Vesicle-associated membrane protein'}\n",
      "OG0007610 {'protein kinase', 'Protein kinase domain|Protein kinase-like domain', 'Serine-threonine/tyrosine-protein kinase catalytic domain|Protein kinase-like domain|Protein kinase domain|Protein kinase, ATP binding site', 'protein kinase chloroplast'}\n",
      "OG0007611 {'Ribosomal protein L13e', '60s ribosomal protein l13', '60s ribosomal protein l13-1'}\n",
      "OG0007640 {'Sulfotransferase domain|P-loop containing nucleoside triphosphate hydrolase'}\n",
      "OG0007663 {'transmembrane receptors atp binding protein', 'tir-nbs-lrr resistance protein', 'Leucine-rich repeat'}\n",
      "OG0007672 {'oas-tl4 cysteine synthase', 'cysteine synthase', 'Tryptophan synthase beta subunit-like PLP-dependent enzymes superfamily'}\n",
      "OG0007678 {'Reverse transcriptase zinc-binding domain|Ribonuclease H-like domain'}\n",
      "OG0007713 {'Microtubule-associated protein 70'}\n",
      "OG0007777 {'rieske iron-sulfur protein tic55', 'Rieske [2Fe-2S] iron-sulphur domain'}\n",
      "OG0007783 {'small nuclear ribonucleoprotein g', 'Ribonucleoprotein LSM domain|Like-Sm (LSM) domain|Ribonucleoprotein LSM domain, eukaryotic/archaea-type'}\n",
      "OG0007797 {'rna recognition motif-containing protein'}\n",
      "OG0007815 {'endonuclease exonuclease phosphatase family expressed', 'Endonuclease/exonuclease/phosphatase'}\n",
      "OG0007817 {'Transferase|Chloramphenicol acetyltransferase-like domain'}\n",
      "OG0007846 {'Protein kinase domain|Protein kinase-like domain|Serine/threonine- / dual specificity protein kinase, catalytic  domain|Serine/threonine-protein kinase, active site', 'serine threonine protein kinase'}\n",
      "OG0007853 {'pentatricopeptide repeat-containing protein', 'Pentatricopeptide repeat'}\n",
      "OG0007876 {'endoplasmic reticulum vesicle transporter protein', 'Endoplasmic reticulum vesicle transporter, C-terminal'}\n",
      "OG0008000 {'flavonol synthase flavanone 3-', 'Oxoglutarate/iron-dependent dioxygenase|Non-haem dioxygenase N-terminal domain|Isopenicillin N synthase-like'}\n",
      "OG0008013 {'Aldo/keto reductase|NADP-dependent oxidoreductase domain', 'aldo keto', 'auxin-induced protein pcnt115 isoform 2'}\n",
      "OG0008023 {'adipocyte plasma membrane-associated', 'Strictosidine synthase, conserved region|Six-bladed beta-propeller, TolB-like'}\n",
      "OG0008045 {'Replication factor A, C-terminal|Nucleic acid-binding, OB-fold'}\n",
      "OG0008047 {'SIT4 phosphatase-associated protein family|Armadillo-type fold|Armadillo-like helical'}\n",
      "OG0008078 {'Glycosyl transferase, family 14'}\n",
      "OG0008105 {'Glycosyl transferase, family 14', 'glycosyltransferase family 14 protein', 'core-2 i-branching beta- -n-acetylglucosaminyltransferase family protein'}\n",
      "OG0008122 {'probable calcium-binding protein cml20-like', 'EF-hand domain pair|EF-hand domain|EF-Hand 1, calcium-binding site'}\n",
      "OG0008125 {'snare-interacting protein keule', 'Sec1-like protein'}\n",
      "OG0008137 {'Glutamate decarboxylase|Pyridoxal phosphate-dependent decarboxylase|Pyridoxal phosphate-dependent transferase', 'glutamate decarboxylase'}\n",
      "OG0008146 {'translocation protein sec63'}\n",
      "OG0008150 {'Nucleic acid-binding, OB-fold'}\n",
      "OG0008171 {'pg1 protein'}\n",
      "OG0008172 {'nadh dehydrogenase subunit 2', 'NADH:ubiquinone/plastoquinone oxidoreductase'}\n",
      "OG0008199 {'elongation factor 1-alpha', 'Elongation factor, GTP-binding domain|P-loop containing nucleoside triphosphate hydrolase'}\n",
      "OG0008203 {'abc transporter b family member', 'ABC transporter-like|P-loop containing nucleoside triphosphate hydrolase|AAA+ ATPase domain|ABC transporter, conserved site', 'ABC transporter-like|ABC transporter, transmembrane domain|P-loop containing nucleoside triphosphate hydrolase|ABC transporter type 1, transmembrane domain|AAA+ ATPase domain|ABC transporter, conserved site'}\n",
      "OG0008205 {'Protein kinase domain|Protein kinase-like domain|Concanavalin A-like lectin/glucanase, subgroup|Serine/threonine- / dual specificity protein kinase, catalytic  domain|Protein kinase, ATP binding site|Serine/threonine-protein kinase, active site', 'Serine-threonine/tyrosine-protein kinase catalytic domain|Protein kinase-like domain|Serine/threonine- / dual specificity protein kinase, catalytic  domain|Protein kinase domain|Serine/threonine-protein kinase, active site', 'probable leucine-rich repeat receptor-like protein kinase at5g49770-like', 'Serine-threonine/tyrosine-protein kinase catalytic domain|Protein kinase-like domain|Concanavalin A-like lectin/glucanase, subgroup|Serine/threonine- / dual specificity protein kinase, catalytic  domain|Protein kinase domain|Protein kinase, ATP binding site|Serine/threonine-protein kinase, active site'}\n",
      "OG0008219 {'nodal modulator 1-like'}\n",
      "OG0008234 {'EXS, C-terminal', 'pho1-like protein'}\n",
      "OG0008240 {'endo-alpha- -glucanase', 'Glycoside hydrolase family 3|Glycoside hydrolase family 3 C-terminal domain', 'lysosomal beta glucosidase-like'}\n",
      "OG0008259 {'UDP-glucuronosyl/UDP-glucosyltransferase', 'udp-glycosyltransferase 91a1-like'}\n",
      "OG0008298 {'early-responsive to dehydration stress-related protein', 'uncharacterized membrane'}\n",
      "OG0008355 {'peroxidase 52', 'Haem peroxidase, plant/fungal/bacterial|Plant peroxidase|Haem peroxidase|Peroxidases heam-ligand binding site|Peroxidase, active site'}\n",
      "OG0008436 {'Oxoglutarate/iron-dependent dioxygenase|Non-haem dioxygenase N-terminal domain|Isopenicillin N synthase-like'}\n",
      "OG0008438 {'Protein strawberry notch|P-loop containing nucleoside triphosphate hydrolase', 'strawberry notch-like protein'}\n",
      "OG0008453 {'probable peptide nitrate transporter at1g59740-like', 'Proton-dependent oligopeptide transporter family|Major facilitator superfamily domain, general substrate transporter'}\n",
      "OG0008465 {'LisH dimerisation motif', 'topless-related protein 4-like'}\n",
      "OG0008466 {'Ribosomal protein L16|Ribosomal protein S3, C-terminal|Ribosomal protein L10e/L16|Ribosomal protein L16, conserved site', 'ribosomal protein l16', 'Ribosomal protein L16|Ribosomal protein L10e/L16|Ribosomal protein L16, conserved site', 'ribosomal protein s3'}\n",
      "OG0008468 {'Transcription factor, MADS-box'}\n",
      "OG0008469 {'flavine-containing monoxygenase'}\n",
      "OG0008474 {'Protein arginine N-methyltransferase|Protein arginine N-methyltransferase CARM1', 'Protein arginine N-methyltransferase', 'histone-arginine methyltransferase carm1'}\n",
      "OG0008490 {'NB-ARC|P-loop containing nucleoside triphosphate hydrolase', 'NB-ARC|Disease resistance protein|P-loop containing nucleoside triphosphate hydrolase|AAA+ ATPase domain', 'NB-ARC|Disease resistance protein|P-loop containing nucleoside triphosphate hydrolase'}\n",
      "OG0008491 {'aldehyde dehydrogenase family 2 member mitochondrial-like', 'Aldehyde dehydrogenase domain|Homeodomain-like|Aldehyde/histidinol dehydrogenase|Aldehyde dehydrogenase, N-terminal|Myb domain|Aldehyde dehydrogenase, conserved site'}\n",
      "OG0008499 {'protein kinase', 'Protein kinase-like domain', 'protein kinase chloroplast', 'Serine-threonine/tyrosine-protein kinase catalytic domain|Protein kinase-like domain|Protein kinase domain'}\n",
      "OG0008506 {'EF-hand domain pair|EF-hand domain|EF-Hand 1, calcium-binding site', 'calcium ion binding'}\n",
      "OG0008508 {'cyclic nucleotide-gated ion channel 1-like'}\n",
      "OG0008527 {'Protein kinase-like domain', 'strubbelig-receptor family 8 protein'}\n",
      "OG0008533 {'WD40 repeat|Protein of unknown function DUF3337|G-protein beta WD-40 repeat|WD40-repeat-containing domain|WD40/YVTN repeat-like-containing domain|WD40 repeat, conserved site', 'wd repeat-containing protein 48-like'}\n",
      "OG0008602 {'t-complex protein 1 subunit gamma-like', 'Chaperonin Cpn60/TCP-1|T-complex protein 1, gamma subunit|Chaperone tailless complex polypeptide 1 (TCP-1)|GroEL-like apical domain|GroEL-like equatorial domain|TCP-1-like chaperonin intermediate domain|Chaperonin TCP-1, conserved site'}\n",
      "OG0008639 {'magnesium transporter', 'Magnesium transporter MRS2/LPE10'}\n",
      "OG0008798 {'histone-lysine n- h3 lysine-9 specific suvh4-like'}\n",
      "OG0008810 {'acetyl- c-acetyltransferase', 'Thiolase|Thiolase, N-terminal|Thiolase-like|Thiolase-like, subgroup'}\n",
      "OG0008830 {'START domain|START-like domain', 'lipid binding', 'enhanced disease resistance 2 protein', 'START domain|Domain of unknown function DUF1336|START-like domain', 'START domain|Domain of unknown function DUF1336|Pleckstrin homology-like domain|START-like domain|Pleckstrin homology domain'}\n",
      "OG0008834 {'Protein strawberry notch|Zinc finger, PHD-finger|Strawberry notch, helicase C domain|P-loop containing nucleoside triphosphate hydrolase|Zinc finger, FYVE/PHD-type|Zinc finger, RING/FYVE/PHD-type|Zinc finger, PHD-type|Zinc finger, PHD-type, conserved site', 'strawberry notch-like protein', 'Protein strawberry notch|Strawberry notch, helicase C domain|P-loop containing nucleoside triphosphate hydrolase', 'Protein strawberry notch|Strawberry notch, helicase C domain|P-loop containing nucleoside triphosphate hydrolase|Zinc finger, FYVE/PHD-type|Zinc finger, RING/FYVE/PHD-type|Zinc finger, PHD-type|Zinc finger, PHD-finger'}\n",
      "OG0008847 {'Ribosomal protein S19e', '40s ribosomal protein s19'}\n",
      "OG0008849 {'lysine-specific demethylase 3a-b'}\n",
      "OG0008850 {'SET domain|FY-rich, N-terminal|FY-rich, C-terminal|Zinc finger, FYVE/PHD-type|Zinc finger, RING/FYVE/PHD-type|Zinc finger, PHD-type|Post-SET domain|Zinc finger, PHD-finger|Zinc finger, PHD-type, conserved site', 'SET domain|Zinc finger, FYVE/PHD-type|Zinc finger, RING/FYVE/PHD-type|Zinc finger, PHD-type|Zinc finger, PHD-finger', 'Zinc finger, FYVE/PHD-type', 'histone-lysine n-methyltransferase atx2-like', 'set domain protein', 'PWWP domain|SET domain|FY-rich, N-terminal|FY-rich, C-terminal|Zinc finger, FYVE/PHD-type|Zinc finger, RING/FYVE/PHD-type|Zinc finger, PHD-type|Tudor domain|Zinc finger, PHD-finger|Post-SET domain|Zinc finger, PHD-type, conserved site'}\n",
      "OG0008858 {'Glycine rich protein'}\n",
      "OG0008873 {'coronitine insensitive 1'}\n",
      "OG0008885 {'btb poz and math domain-containing protein 4-like', 'MATH|TRAF-like'}\n",
      "OG0008890 {'NB-ARC|Disease resistance protein|P-loop containing nucleoside triphosphate hydrolase'}\n",
      "OG0008992 {'5-methyltetrahydropteroyltriglutamate-homocysteine expressed', 'methionine synthase', 'vitamin-b12 independent methionine 5-methyltetrahydropteroyltriglutamate-homocysteine', 'Methionine synthase, vitamin-B12 independent|Cobalamin (vitamin B12)-independent methionine synthase MetE, N-terminal', 'Methionine synthase, vitamin-B12 independent'}\n",
      "OG0009003 {'Protein of unknown function DUF1664', 'dna binding'}\n",
      "OG0009016 {'tir-nbs-lrr resistance protein', 'Leucine-rich repeat|NB-ARC|Toll/interleukin-1 receptor homology (TIR) domain|Disease resistance protein|P-loop containing nucleoside triphosphate hydrolase|Leucine-rich repeat, typical subtype|AAA+ ATPase domain', 'NB-ARC|P-loop containing nucleoside triphosphate hydrolase', 'Leucine-rich repeat|NB-ARC|Disease resistance protein|P-loop containing nucleoside triphosphate hydrolase|Leucine-rich repeat, typical subtype|AAA+ ATPase domain', 'Leucine-rich repeat|NB-ARC|Disease resistance protein|P-loop containing nucleoside triphosphate hydrolase|Leucine-rich repeat, typical subtype'}\n",
      "OG0009032 {'Uncharacterised protein family UPF0121'}\n",
      "OG0009077 {'Protein kinase-like domain|Tetratricopeptide-like helical', 'Tetratricopeptide-like helical'}\n",
      "OG0009094 {'Tubby, C-terminal|Tubby C-terminal-like domain', 'tubby-like f-box protein 3', 'Tubby, C-terminal|Tubby C-terminal-like domain|Tubby, C-terminal, conserved site', 'tubby-like f-box protein 8-like'}\n",
      "OG0009100 {'ATPase, AAA-type, core|Ankyrin repeat-containing domain|CbxX/CfqX|Ankyrin repeat|P-loop containing nucleoside triphosphate hydrolase|AAA+ ATPase domain'}\n",
      "OG0009135 {'b chain structures of alkaloid biosynthetic glucosidases decode substrate specificity', 'Glycoside hydrolase, family 1|Glycoside hydrolase, superfamily|Glycoside hydrolase, catalytic domain', 'Glycoside hydrolase, family 1|Glycoside hydrolase, superfamily|Glycoside hydrolase, catalytic domain|Glycoside hydrolase, family 1, active site', 'beta-glucosidase 24-like'}\n",
      "OG0009136 {'HAD-like domain'}\n",
      "OG0009165 {'inter-alpha-trypsin inhibitor heavy'}\n",
      "OG0009168 {'vesicle associated protein', 'MSP domain|PapD-like', 'vesicle-associated protein 1-4'}\n",
      "OG0009198 {'Zinc finger, FYVE/PHD-type|Zinc finger, RING/FYVE/PHD-type', 'zinc finger ccch domain-containing protein'}\n",
      "OG0009201 {'uncharacterized protein loc100819969'}\n",
      "OG0009236 {'Flavodoxin/nitric oxide synthase|Flavodoxin', 'cytochrome p450 reductase'}\n",
      "OG0009239 {'serine threonine-protein phosphatase 2a regulatory subunit b subunit alpha-like'}\n",
      "OG0009253 {'v-type proton atpase 116 kda subunit a isoform 1-like', 'vacuolar proton', 'V-type  ATPase, V0 complex, subunit 116kDa'}\n",
      "OG0009270 {'gdsl esterase lipase at1g29670', 'Lipase, GDSL|SGNH hydrolase-type esterase domain'}\n",
      "OG0009274 {'carbon catabolite repressor protein 4 homolog 2-like', 'Endonuclease/exonuclease/phosphatase'}\n",
      "OG0009296 {'Peptidase M3A/M3B|Neurolysin/Thimet oligopeptidase, domain 2|Metallopeptidase, catalytic domain', 'oligopeptidase a'}\n",
      "OG0009330 {'RNA recognition motif domain|Nucleotide-binding, alpha-beta plait|RNA recognition motif domain, eukaryote', 'RNA recognition motif domain|Nucleotide-binding, alpha-beta plait'}\n",
      "OG0009332 {'regulatory particle triple-a 1a', '26s protease regulatory'}\n",
      "OG0009355 {'protein phosphatase', 'Protein phosphatase 2C|Protein phosphatase 2C (PP2C)-like domain|Protein phosphatase 2C, manganese/magnesium aspartate binding site'}\n",
      "OG0009356 {'Protein kinase domain|Protein kinase-like domain|Tyrosine-protein kinase, catalytic domain', 'probable receptor-like protein kinase at1g80640-like'}\n",
      "OG0009359 {'long-chain-alcohol oxidase fao4a-like', 'Glucose-methanol-choline oxidoreductase, C-terminal', 'long-chain-alcohol oxidase fao1-like'}\n",
      "OG0009368 {'eukaryotic initiation factor eif4-like protein'}\n",
      "OG0009398 {'40s ribosomal protein s24', 'Ribosomal protein S24e|Ribosomal protein L23/L15e core domain|Nucleotide-binding, alpha-beta plait'}\n",
      "OG0009400 {'SANT/Myb domain|Homeodomain-like|Myb domain, plants', 'two-component response regulator ehd1'}\n",
      "OG0009402 {'Ribosomal protein L13|Ribosomal protein L13, eukaryotic/archaeal|Ribosomal protein L13 domain', '60s ribosomal protein l13a'}\n",
      "OG0009409 {'Organic solute transporter Ost-alpha'}\n",
      "OG0009412 {'myb family transcription factor', 'SANT/Myb domain|Homeodomain-like|Myb domain, plants|SANT domain'}\n",
      "OG0009417 {'receptor serine-threonine protein'}\n",
      "OG0009430 {'cytochrome p450', 'Cytochrome P450|Cytochrome P450, E-class, group I|Cytochrome P450, conserved site'}\n",
      "OG0009441 {'ribosomal protein s12', 'Ribosomal protein S12/S23|Ribosomal protein S12, bacteria|Nucleic acid-binding, OB-fold'}\n",
      "OG0009455 {'2-oxoglutarate and fe -dependent oxygenase-like protein', 'Non-haem dioxygenase N-terminal domain|Isopenicillin N synthase-like'}\n",
      "OG0009456 {'Uncharacterised protein family UPF0497, trans-membrane plant', 'casp-like protein at2g36330-like'}\n",
      "OG0009461 {'Transcription factor  Iwr1'}\n",
      "OG0009477 {'cullin 1', 'auxin-resistance protein 6', 'Cullin, N-terminal|Cullin homology'}\n",
      "OG0009480 {'hiv tat-specific factor 1 homolog', 'RNA recognition motif domain|Domain of unknown function DUF4339|GYF|Nucleotide-binding, alpha-beta plait|RNA recognition motif domain, eukaryote'}\n",
      "OG0009547 {'Pentatricopeptide repeat|Tetratricopeptide-like helical'}\n",
      "OG0009557 {'Uncharacterised domain Wax2, C-terminal', 'protein wax2-like'}\n",
      "OG0009569 {'cd2+ zn2+-exporting atpase', 'Divalent cation-transporting P-type ATPase|HAD-like domain|P-type ATPase, cytoplasmic domain N|P-type ATPase, phosphorylation site'}\n",
      "OG0009589 {'Cysteine-rich  secretory protein, allergen V5/Tpx-1-related|CAP domain|Allergen V5/Tpx-1-related, conserved site'}\n",
      "OG0009602 {'polyamine oxidase', 'Amine oxidase'}\n",
      "OG0009605 {'High mobility group box domain'}\n",
      "OG0009613 {'Homeobox KN domain|Homeodomain-like|Homeobox domain'}\n",
      "OG0009649 {'Peptidase M24, structural domain|Peptidase M24, methionine aminopeptidase', 'metallopeptidase m24 domain-containing protein'}\n",
      "OG0009654 {'tvp38 tmem64 family membrane protein slr0305-like', 'SNARE associated Golgi protein'}\n",
      "OG0009669 {'WD40 repeat|WD40-repeat-containing domain|WD40/YVTN repeat-like-containing domain|WD40 repeat, conserved site', 'RNA polymerase, subunit omega/K/RPB6|RNA polymerase subunit, RPB6/omega'}\n",
      "OG0009672 {'FBD domain'}\n",
      "OG0009724 {'auxin response factor 4'}\n",
      "OG0009736 {'dna binding'}\n",
      "OG0009738 {'Concanavalin A-like lectin/glucanase, subgroup', 'protein-tyrosine phosphatase mitochondrial 1-like'}\n",
      "OG0009739 {'adpglucose pyrophosphorylase large subunit'}\n",
      "OG0009772 {'Polycomb protein, VEFS-Box', 'embryonic flower 2'}\n",
      "OG0009774 {'ap-2 complex subunit mu', 'Clathrin adaptor, mu subunit, C-terminal'}\n",
      "OG0009793 {'nucleotidyltransferase family protein'}\n",
      "OG0009798 {'histone-lysine n-methyltransferase eza1', 'SET domain'}\n",
      "OG0009805 {'Protein phosphatase 2A, regulatory subunit PR55|WD40-repeat-containing domain', 'serine threonine protein phosphatase 2a 55 kda regulatory subunit b beta isoform-like'}\n",
      "OG0009817 {'ribosomal rna small subunit methyltransferase nep-1'}\n",
      "OG0009825 {'Cytochrome b561/ferric reductase transmembrane', 'auxin induced-like protein', 'Cytochrome b561, eukaryote|Uncharacterised conserved protein UCP037471|Cytochrome b561/ferric reductase transmembrane', 'auxin-responsive protein'}\n",
      "OG0009827 {'signal peptide peptidase-like 2b', 'signal peptide peptidase-like 2b-like', 'Peptidase A22B, signal peptide peptidase'}\n",
      "OG0009835 {'g-type lectin s-receptor-like serine threonine-protein kinase rlk1-like', 'Bulb-type lectin domain|Concanavalin A-like lectin/glucanase, subgroup|Apple-like', 'S-locus glycoprotein|Bulb-type lectin domain|Apple-like', 'Bulb-type lectin domain'}\n",
      "OG0009846 {'Vacuole morphology and inheritance protein 14|Vacuolar protein 14 C-terminal Fig4-binding domain|Armadillo-type fold|Armadillo-like helical|HEAT, type 2', 'Armadillo-like helical', 'protein vac14 homolog', 'Vacuole morphology and inheritance protein 14|Vacuolar protein 14 C-terminal Fig4-binding domain|Armadillo-type fold|Armadillo-like helical'}\n",
      "OG0009850 {'wd repeat-containing'}\n",
      "OG0009852 {'Domain of unknown function DUF4205|Transcription factor, MADS-box|EF-hand domain pair', 'Domain of unknown function DUF4205|EF-hand domain pair|Ubiquitin interacting motif'}\n",
      "OG0009874 {'Protein of unknown function DUF2343'}\n",
      "OG0009882 {'Gnk2-homologous domain', 'cysteine-rich receptor-like protein kinase 2'}\n",
      "OG0009892 {'transcription factor jumonji domain-containing protein'}\n",
      "OG0009900 {'regulator of nonsense transcripts 1 homolog', 'RNA helicase UPF1, UPF2-interacting domain|P-loop containing nucleoside triphosphate hydrolase|Helicase, superfamily 1/2, ATP-binding domain'}\n",
      "OG0009913 {'4-hydroxy-3-methylbut-2-enyl diphosphate reductase', 'LytB protein'}\n",
      "OG0009916 {'Protein kinase-like domain', 'choline ethanolamine kinase'}\n",
      "OG0009936 {'Small GTPase superfamily|P-loop containing nucleoside triphosphate hydrolase|Small GTPase superfamily, Rab type', 'gtp-binding protein'}\n",
      "OG0009943 {'TB2/DP1/HVA22-related protein'}\n",
      "OG0009999 {'Stem cell self-renewal protein Piwi|Ribonuclease H-like domain', 'argonaute protein group'}\n",
      "OG0010006 {'Ankyrin repeat-containing domain|Ankyrin repeat', 'e3 ubiquitin-protein ligase xbat33-like'}\n",
      "OG0010032 {'NAC domain'}\n",
      "OG0010034 {'Transcription factor, MADS-box|Transcription factor, K-box', 'flc-like 1 splice variant 4', 'Transcription factor, K-box'}\n",
      "OG0010052 {'d3-type cyclin', 'cyclin delta-3', 'Cyclin, N-terminal|Cyclin, C-terminal domain|Cyclin-like'}\n",
      "OG0010057 {'t7 bacteriophage-type single subunit rna polymerase'}\n",
      "OG0010059 {'Berberine/berberine-like'}\n",
      "OG0010104 {'ctp synthase', 'CTP synthase|Glutamine amidotransferase'}\n",
      "OG0010121 {'katanin p60 atpase-containing subunit a-like 2-like', 'ATPase, AAA-type, core|P-loop containing nucleoside triphosphate hydrolase|AAA+ ATPase domain', 'p-loop containing nucleoside triphosphate hydrolase-like protein'}\n",
      "OG0010126 {'NAC domain'}\n",
      "OG0010144 {'mitogen-activated protein kinase kinase kinase anp1-like', 'Protein kinase-like domain', 'Protein kinase domain|Protein kinase-like domain', 'mitogen activated protein kinase kinase kinase'}\n",
      "OG0010148 {'s-acyltransferase tip1'}\n",
      "OG0010154 {'omega-amidase nit2-like', 'Carbon-nitrogen hydrolase'}\n",
      "OG0010174 {'uv excision repair protein', 'Ubiquitin-associated domain/translation elongation factor EF-Ts, N-terminal|XPC-binding domain|UV excision repair protein Rad23|UBA-like|Ubiquitin-associated/translation elongation factor EF1B, N-terminal, eukaryote'}\n",
      "OG0010197 {'Cytochrome P450|Cytochrome P450, E-class, group I|Cytochrome P450, conserved site', 'flavonoid 3-'}\n",
      "OG0010210 {'lysosomal pro-x', 'Peptidase S28'}\n",
      "OG0010214 {'protein binding', 'Pre-mRNA-processing protein PRP40|WW domain|FF domain'}\n",
      "OG0010222 {'Kinesin-like protein|Kinesin, motor domain|P-loop containing nucleoside triphosphate hydrolase', 'kinesin heavy chain', 'kinesin-related protein'}\n",
      "OG0010226 {'sucrose nonfermenting 4-like isoform 1', 'CBS domain'}\n",
      "OG0010231 {'enth vhs gat family protein'}\n",
      "OG0010236 {'F-box domain|Tubby, C-terminal|Tubby C-terminal-like domain', 'tubby-like f-box protein 8-like'}\n",
      "OG0010238 {'Thioredoxin|Thioredoxin-like fold', 'Thioredoxin|Thioredoxin domain|Thioredoxin-like fold', 'thioredoxin-like 1- chloroplastic-like', 'thioredoxin-like 1-1', 'thioredoxin family protein'}\n",
      "OG0010245 {'Neurolysin/Thimet oligopeptidase, domain 2|Neurolysin/Thimet oligopeptidase, N-terminal', 'oligopeptidase a'}\n",
      "OG0010283 {'protein nap1', 'Nck-associated protein 1'}\n",
      "OG0010293 {'Myosin head, motor domain|P-loop containing nucleoside triphosphate hydrolase', 'myosin family protein with dil domain', 'unconventional myosin'}\n",
      "OG0010302 {'Multi antimicrobial extrusion protein', 'protein transparent testa 12-like'}\n",
      "OG0010328 {'Glycoside hydrolase, family 1|Glycoside hydrolase, superfamily|Glycoside hydrolase, catalytic domain', 'beta-glucosidase'}\n",
      "OG0010329 {'beta-galactosidase', 'Glycoside hydrolase, family 35|Glycoside hydrolase, superfamily|Glycoside hydrolase, catalytic domain'}\n",
      "OG0010336 {'unc51-like kinase'}\n",
      "OG0010337 {'g-type lectin s-receptor-like serine threonine-protein kinase rlk1-like', 'Protein kinase domain|Bulb-type lectin domain|Protein kinase-like domain|Concanavalin A-like lectin/glucanase, subgroup|Serine/threonine- / dual specificity protein kinase, catalytic  domain|Protein kinase, ATP binding site|Serine/threonine-protein kinase, active site', 'Protein kinase domain|Protein kinase-like domain|Concanavalin A-like lectin/glucanase, subgroup|Serine/threonine- / dual specificity protein kinase, catalytic  domain|Protein kinase, ATP binding site|Serine/threonine-protein kinase, active site'}\n",
      "OG0010342 {'protein-tyrosine phosphatase mitochondrial mitochondrial'}\n",
      "OG0010344 {'Haem peroxidase, plant/fungal/bacterial|Plant peroxidase|Haem peroxidase|Peroxidase, active site', 'peroxidase precursor'}\n",
      "OG0010345 {'zeaxanthin epoxidase'}\n",
      "OG0010367 {'unc51-like kinase', 'Protein kinase domain|Protein kinase-like domain|Protein kinase, ATP binding site'}\n",
      "OG0010373 {'Folylpolyglutamate synthetase|Mur ligase, C-terminal|Mur ligase, central', 'Folylpolyglutamate synthetase|Mur ligase, central|Mur ligase, C-terminal|Folylpolyglutamate synthase, eukaryota|Folylpolyglutamate synthetase, conserved site', 'Folylpolyglutamate synthetase|Mur ligase, C-terminal|Mur ligase, central|Folylpolyglutamate synthetase, conserved site', 'folylpolyglutamate synthase'}\n",
      "OG0010381 {'ubiquitin carboxyl-terminal hydrolase 5-like', 'Ubiquitin carboxyl-terminal hydrolases family 2|Peptidase C19, ubiquitin carboxyl-terminal hydrolase 2, conserved site', 'Peptidase C19, ubiquitin-specific peptidase, DUSP domain', 'Ubiquitin carboxyl-terminal hydrolase USP|Ubiquitin carboxyl-terminal hydrolases family 2|Peptidase C19, ubiquitin-specific peptidase, DUSP domain|Peptidase C19, ubiquitin carboxyl-terminal hydrolase 2, conserved site'}\n",
      "OG0010391 {'Protein kinase domain|Protein kinase-like domain|Tyrosine-protein kinase, catalytic domain', 'Serine-threonine/tyrosine-protein kinase catalytic domain|Protein kinase-like domain|Protein kinase domain'}\n",
      "OG0010417 {'protein kinase', 'serine threonine protein kinase afc2', 'Protein kinase domain|Protein kinase-like domain|Protein kinase, ATP binding site'}\n",
      "OG0010422 {'Homeobox domain|Homeodomain-like'}\n",
      "OG0010425 {'abc transporter c family member 5-like', 'ABC transporter-like|P-loop containing nucleoside triphosphate hydrolase'}\n",
      "OG0010426 {'Zinc finger, RanBP2-type', 'Histone deacetylase superfamily|Histone deacetylase domain|Zinc finger, RanBP2-type', 'histone deacetylase 15-like', 'histone deacetylase 15'}\n",
      "OG0010459 {'Protein kinase domain|Protein kinase-like domain|Serine/threonine- / dual specificity protein kinase, catalytic  domain|Serine/threonine-protein kinase, active site', 'wall-associated receptor kinase 2-like'}\n",
      "OG0010460 {'Elongation factor, GTP-binding domain|P-loop containing nucleoside triphosphate hydrolase', 'g1 to s phase transition protein'}\n",
      "OG0010465 {'Oxoglutarate/iron-dependent dioxygenase|Isopenicillin N synthase-like'}\n",
      "OG0010467 {'Protein of unknown function DUF3675|Zinc finger, RING-CH-type|Zinc finger, RING/FYVE/PHD-type', 'ring fyve phd zinc finger-containing protein'}\n",
      "OG0010506 {'late blight resistance identical', 'NB-ARC|Disease resistance protein|P-loop containing nucleoside triphosphate hydrolase'}\n",
      "OG0010510 {'TMPIT-like', 'transmembrane protein 120'}\n",
      "OG0010526 {'probable n-acetyl-gamma-glutamyl-phosphate chloroplastic-like'}\n",
      "OG0010532 {'Translationally controlled tumour protein|Mss4-like|Mss4/translationally controlled tumour-associated TCTP'}\n",
      "OG0010534 {'exportin-1-like isoform 2', 'CRM1 C-terminal domain|Armadillo-type fold|Armadillo-like helical'}\n",
      "OG0010538 {'phenylalanine ammonia-lyase', 'Aromatic amino acid lyase|L-Aspartase-like|Fumarase/histidase, N-terminal'}\n",
      "OG0010544 {'valyl trna synthetase', 'Valine-tRNA ligase|Aminoacyl-tRNA synthetase, class Ia|Valyl/Leucyl/Isoleucyl-tRNA synthetase, class I, anticodon-binding|Valyl-tRNA synthetase,  tRNA-binding arm|Aminoacyl-tRNA synthetase, class 1a, anticodon-binding|Valyl/Leucyl/Isoleucyl-tRNA synthetase, editing domain|Rossmann-like alpha/beta/alpha sandwich fold|Transcription elongation factor S-II, central domain|Aminoacyl-tRNA synthetase, class I, conserved site', 'Valine-tRNA ligase|Aminoacyl-tRNA synthetase, class Ia|Valyl/Leucyl/Isoleucyl-tRNA synthetase, class I, anticodon-binding|Valyl-tRNA synthetase,  tRNA-binding arm|Aminoacyl-tRNA synthetase, class 1a, anticodon-binding|Valyl/Leucyl/Isoleucyl-tRNA synthetase, editing domain|Rossmann-like alpha/beta/alpha sandwich fold|Aminoacyl-tRNA synthetase, class I, conserved site', 'valyl-trna synthetase'}\n",
      "OG0010563 {'SANT/Myb domain|Homeodomain-like|Myb domain', 'SANT/Myb domain|Linker histone H1/H5, domain H15|Homeodomain-like|Winged helix-turn-helix DNA-binding domain|Myb domain', 'single myb histone'}\n",
      "OG0010571 {'Protein kinase-like domain', 'probable lrr receptor-like serine threonine-protein kinase at2g16250-like'}\n",
      "OG0010581 {'vacuolar cation proton exchanger 2-like', 'Sodium/calcium exchanger membrane region|Calcium/proton exchanger CAX|Calcium/proton exchanger'}\n",
      "OG0010599 {'Protein kinase domain|Protein kinase-like domain', 'atp binding'}\n",
      "OG0010600 {'Phosphoinositide phospholipase C|Phospholipase C, phosphoinositol-specific, EF-hand-like|EF-hand domain pair', 'Phosphoinositide phospholipase C|C2 domain|Phospholipase C, phosphoinositol-specific, EF-hand-like|EF-hand domain pair', 'phosphoinositide phospholipase c 2', 'Phosphoinositide phospholipase C|Phospholipase C, phosphatidylinositol-specific , X domain|Phospholipase C, phosphoinositol-specific, EF-hand-like|PLC-like phosphodiesterase, TIM beta/alpha-barrel domain|EF-hand domain pair'}\n",
      "OG0010610 {'Peptidase S10, serine carboxypeptidase', 'serine carboxypeptidase-like 45-like', 'serine carboxypeptidase-like 45', 'Peptidase S10, serine carboxypeptidase|Peptidase S10, serine carboxypeptidase, active site'}\n",
      "OG0010617 {'Glycosyl transferase, family 1|Starch synthase, catalytic domain|Glycogen/starch synthase, ADP-glucose type', 'starch synthase ii', 'starch synthase iia precursor'}\n",
      "OG0010624 {'Protein kinase domain|Protein kinase-like domain|Serine/threonine- / dual specificity protein kinase, catalytic  domain|Serine/threonine-protein kinase, active site', 'mitogen-activated protein kinase 3'}\n",
      "OG0010657 {'Reverse transcriptase', 'Reverse transcriptase|Domain X', 'maturase'}\n",
      "OG0010658 {'probable rna-binding protein 19-like', 'Nucleotide-binding, alpha-beta plait|RNA recognition motif domain'}\n",
      "OG0010676 {'RlpA-like double-psi beta-barrel domain|Barwin-like endoglucanase|Expansin/pollen allergen, DPBB domain'}\n",
      "OG0010685 {'abc transporter c family member 3-like'}\n",
      "OG0010686 {'mannose-6-phosphate isomerase', 'Mannose-6-phosphate isomerase|Mannose-6-phosphate isomerase, type I|RmlC-like cupin domain|RmlC-like jelly roll fold|Phosphomannose isomerase, type I, conserved site'}\n",
      "OG0010696 {'uncharacterized protein ddb_g0273453 ddb_g0273565-like'}\n",
      "OG0010707 {'protein kinase-like protein', 'Protein kinase domain|Protein kinase-like domain|Serine/threonine- / dual specificity protein kinase, catalytic  domain|Protein kinase, ATP binding site|Serine/threonine-protein kinase, active site'}\n",
      "OG0010722 {'cytochrome p450', 'Cytochrome P450|Cytochrome P450, E-class, group I|Cytochrome P450, conserved site'}\n",
      "OG0010726 {'armadillo repeat-containing kinesin-like protein 2', 'Armadillo-like helical', 'Armadillo-type fold|Armadillo-like helical'}\n",
      "OG0010739 {'Proteasome, subunit alpha/beta', 'proteasome subunit beta type'}\n",
      "OG0010742 {'maternal effect embryo arrest 50 protein', 'Ataxin-10 domain'}\n",
      "OG0010752 {'SNF2-related|Helicase, C-terminal|Chromo domain|Zinc finger, PHD-finger|Domain of unknown function DUF1086|Domain of unknown function DUF1087|P-loop containing nucleoside triphosphate hydrolase|Chromo domain-like|Zinc finger, RING/FYVE/PHD-type|Zinc finger, PHD-type|Chromo domain/shadow|Helicase, superfamily 1/2, ATP-binding domain|Zinc finger, PHD-type, conserved site', 'chromatin remodeling complex subunit', 'SNF2-related|Chromo domain|Zinc finger, PHD-finger|P-loop containing nucleoside triphosphate hydrolase|Chromo domain-like|Zinc finger, RING/FYVE/PHD-type|Zinc finger, PHD-type|Chromo domain/shadow|Rubredoxin-like domain|Zinc finger, PHD-type, conserved site', 'SNF2-related|Helicase, C-terminal|Chromo domain|Zinc finger, PHD-finger|Domain of unknown function DUF1086|Domain of unknown function DUF1087|P-loop containing nucleoside triphosphate hydrolase|Chromo domain-like|Homeodomain-like|Zinc finger, RING/FYVE/PHD-type|Zinc finger, PHD-type|Chromo domain/shadow|Helicase, superfamily 1/2, ATP-binding domain|Rubredoxin-like domain|Zinc finger, PHD-type, conserved site', 'SNF2-related|Helicase, C-terminal|Domain of unknown function DUF1086|Domain of unknown function DUF1087|CHD, C-terminal 2|P-loop containing nucleoside triphosphate hydrolase|Homeodomain-like|Helicase, superfamily 1/2, ATP-binding domain'}\n",
      "OG0010763 {'tom1-like protein 2-like'}\n",
      "OG0010771 {'Optic atrophy 3-like', 'optic atrophy 3'}\n",
      "OG0010775 {'serine threonine protein', 'Protein kinase domain|Protein kinase-like domain|Serine/threonine- / dual specificity protein kinase, catalytic  domain|Protein kinase, ATP binding site'}\n",
      "OG0010777 {'Regulator of chromosome condensation, RCC1|Regulator of chromosome condensation 1/beta-lactamase-inhibitor protein II', 'Regulator of chromosome condensation 1/beta-lactamase-inhibitor protein II|Regulator of chromosome condensation, RCC1'}\n",
      "OG0010786 {'-trehalose-phosphate synthase', 'Trehalose-phosphatase'}\n",
      "OG0010792 {'nadh dehydrogenase'}\n",
      "OG0010810 {'Extracellular ligand-binding receptor|Periplasmic binding protein-like I'}\n",
      "OG0010814 {'soluble starch synthase iv-2', 'soluble starch synthase iv-1', 'Glycosyl transferase, family 1|Starch synthase, catalytic domain|Glycogen/starch synthase, ADP-glucose type'}\n",
      "OG0010841 {'Protein kinase-like domain', 'probable leucine-rich repeat receptor-like protein kinase at4g00330-like'}\n",
      "OG0010896 {'cytochrome p450', 'Cytochrome P450|Cytochrome P450, E-class, group I'}\n",
      "OG0010906 {'protein spinster homolog 1-like', 'Organic anion transporter polypeptide OATP|Major facilitator superfamily domain, general substrate transporter'}\n",
      "OG0010907 {'branched-chain-amino-acid aminotransferase-like protein 2', 'Aminotransferase, class IV|P-loop containing nucleoside triphosphate hydrolase'}\n",
      "OG0010920 {'galactokinase like protein', 'GHMP kinase N-terminal domain|Galactokinase galactose-binding domain|Mevalonate/galactokinase|Ribosomal protein S5 domain 2-type fold|Ribosomal protein S5 domain 2-type fold, subgroup|Galactokinase, glycosyltransferase'}\n",
      "OG0010925 {'Gnk2-homologous domain'}\n",
      "OG0010935 {'transcription factor iiia', 'Zinc finger, C2H2|Zinc finger C2H2-type/integrase DNA-binding domain|Zinc finger, C2H2-like'}\n",
      "OG0010936 {'hop-interacting protein thi034'}\n",
      "OG0010943 {'betaine aldehyde dehydrogenase', 'Aldehyde dehydrogenase domain|Aldehyde/histidinol dehydrogenase|Aldehyde dehydrogenase, C-terminal|Aldehyde dehydrogenase, N-terminal|Aldehyde dehydrogenase, conserved site'}\n",
      "OG0010945 {'Mlo-related protein'}\n",
      "OG0010958 {'SANT/Myb domain|Phospholipase C, phosphatidylinositol-specific , X domain|CXC domain', 'SET domain|Phospholipase C, phosphatidylinositol-specific , X domain|Histone-lysine N-methyltransferase, EZ', 'histone-lysine n-methyltransferase eza1-like'}\n",
      "OG0010963 {'Zinc finger, CCCH-type|RNA polymerase sigma factor, region 3/4|Winged helix-turn-helix DNA-binding domain', 'zinc finger ccch domain-containing protein 14-like'}\n",
      "OG0010973 {'wall-associated receptor kinase 2-like', 'Protein kinase domain|EGF-like calcium-binding domain|Wall-associated receptor kinase galacturonan-binding domain|Protein kinase-like domain|Insulin-like growth factor binding protein, N-terminal|Concanavalin A-like lectin/glucanase, subgroup|Epidermal growth factor-like domain|Serine/threonine- / dual specificity protein kinase, catalytic  domain|EGF-type aspartate/asparagine hydroxylation site|Protein kinase, ATP binding site|Serine/threonine-protein kinase, active site'}\n",
      "OG0010998 {'dna mismatch repair protein msh6-1'}\n",
      "OG0011009 {'C2 domain'}\n",
      "OG0011017 {'Brevis radix (BRX) domain'}\n",
      "OG0011020 {'nitroreductase-like protein'}\n",
      "OG0011034 {'rna polymerase-associated protein ctr9 homolog', 'Tetratricopeptide TPR1|Tetratricopeptide TPR2|Tetratricopeptide repeat|Tetratricopeptide-like helical|Tetratricopeptide repeat-containing domain', 'Tetratricopeptide TPR1|Tetratricopeptide repeat|Tetratricopeptide-like helical|Tetratricopeptide repeat-containing domain'}\n",
      "OG0011036 {'UbiB domain|Domain of unknown function DUF3700', 'UbiB domain', 'aluminum-induced protein', 'abc1 family protein'}\n",
      "OG0011044 {'Chorismate synthase|Chorismate synthase, conserved site', 'chorismate synthase'}\n",
      "OG0011045 {'abc transporter g family member 28-like', 'white-brown-complex abc transporter family', 'ABC transporter-like|P-loop containing nucleoside triphosphate hydrolase|AAA+ ATPase domain|ABC transporter, conserved site'}\n",
      "OG0011078 {'probable cytokinin riboside 5 -monophosphate phosphoribohydrolase logl6-like'}\n",
      "OG0011079 {'beta-galactosidase expressed', 'Glycoside hydrolase, family 35|Glycoside hydrolase, superfamily|Glycoside hydrolase, catalytic domain'}\n",
      "OG0011116 {'lon protease'}\n",
      "OG0011133 {'Phenylalanyl-tRNA synthetase|Phenylalanine-tRNA ligase, beta subunit, ferrodoxin-fold anticodon-binding|Phenylalanyl-tRNA synthetase, class IIc, mitochondrial|Aminoacyl-tRNA synthetase, class II', 'phenylalanyl-trna chloroplastic mitochondrial-like'}\n",
      "OG0011135 {'chloride channel'}\n",
      "OG0011136 {'cysteine proteinase', 'cysteine proteinase precursor', 'Peptidase C1A, papain|Peptidase C1A, papain C-terminal|Cysteine peptidase, histidine active site|Cysteine peptidase, asparagine active site'}\n",
      "OG0011155 {'14-3-3-like protein', '14-3-3 protein|14-3-3 domain|14-3-3 protein, conserved site', '14-3-3 protein'}\n",
      "OG0011171 {'regulator of vps4 activity in the mvb pathway protein', 'Domain of unknown function DUF292, eukaryotic'}\n",
      "OG0011180 {'2-oxoacid dehydrogenase acyltransferase, catalytic domain|Chloramphenicol acetyltransferase-like domain', 'dihydrolipoyllysine-residue succinyltransferase component of 2-oxoglutarate dehydrogenase complex 2'}\n",
      "OG0011184 {'multidrug resistance-associated protein 6 ( 6) abc-', 'P-loop containing nucleoside triphosphate hydrolase'}\n",
      "OG0011218 {'60s ribosomal protein l5', 'Ribosomal protein L5 eukaryotic/L18 archaeal'}\n",
      "OG0011226 {'Domain of unknown function DUF625|Armadillo-type fold', 'Domain of unknown function DUF625', 'Domain of unknown function DUF625|Armadillo-type fold|Armadillo-like helical'}\n",
      "OG0011227 {'Cation-transporting P-type ATPase, C-terminal|HAD-like domain|Cation-transporting P-type ATPase|P-type ATPase, cytoplasmic domain N|P-type ATPase,  transmembrane domain|Calcium-transporting P-type ATPase, subfamily IIB', 'autoinhibited calcium atpase', 'cation-transporting atpase', 'Cation-transporting P-type ATPase, C-terminal|HAD-like domain|Cation-transporting P-type ATPase|P-type ATPase,  transmembrane domain'}\n",
      "OG0011230 {'dolichyl-phosphate beta-glucosyltransferase', 'Glycosyl transferase, family 2'}\n",
      "OG0011257 {'homeobox-leucine zipper protein athb-15', 'START domain', 'Homeobox domain|START domain|Homeodomain-like|START-like domain', 'Homeobox domain|Homeodomain-like', 'homeobox-leucine zipper protein athb-15-like'}\n",
      "OG0011286 {'WD40 repeat|G-protein beta WD-40 repeat|WD40-repeat-containing domain|WD40/YVTN repeat-like-containing domain|WD40 repeat, conserved site|Eukaryotic translation initiation factor 3 subunit I', 'eukaryotic translation initiation factor 3 delta subunit', 'eukaryotic translation initiation factor 3 subunit i-like'}\n",
      "OG0011290 {'Zinc finger, N-recognin|Zinc finger, RING/FYVE/PHD-type|Zinc finger, N-recognin, metazoa', 'Zinc finger, RING/FYVE/PHD-type'}\n",
      "OG0011303 {'dimethyladenosine transferase'}\n",
      "OG0011314 {'probable s-acyltransferase at3g26935-like'}\n",
      "OG0011315 {'sucrose transporter', 'Major facilitator superfamily domain, general substrate transporter|Sucrose/H+ symporter, plant'}\n",
      "OG0011316 {'glycosyl hydrolase family 38 protein', 'lysosomal alpha-', 'Glycosyl hydrolase family 38, C-terminal|Galactose mutarotase-like domain'}\n",
      "OG0011322 {'Kelch-type beta propeller'}\n",
      "OG0011324 {'cbs domain-containing protein cbscbspb3-like'}\n",
      "OG0011327 {'protein transport protein sec24-like at4g32640-like', 'Gelsolin domain|Zinc finger, Sec23/Sec24-type|Sec23/Sec24, trunk domain|Sec23/Sec24, helical domain|Sec23/Sec24 beta-sandwich|von Willebrand factor, type A', 'Gelsolin domain|Sec23/Sec24, trunk domain|Sec23/Sec24, helical domain|Sec23/Sec24 beta-sandwich|von Willebrand factor, type A'}\n",
      "OG0011332 {'Pentatricopeptide repeat|Tetratricopeptide-like helical'}\n",
      "OG0011343 {'NADP-dependent oxidoreductase domain|Aldo/keto reductase subgroup', 'nad -linked oxidoreductase-like protein'}\n",
      "OG0011351 {'lon protease homolog peroxisomal-like', 'Lon protease|Peptidase S16, Lon C-terminal|P-loop containing nucleoside triphosphate hydrolase|Ribosomal protein S5 domain 2-type fold|Ribosomal protein S5 domain 2-type fold, subgroup|Peptidase S16, active site', 'Lon protease|ATPase, AAA-type, core|Peptidase S16, lon N-terminal|Peptidase S16, Lon C-terminal|P-loop containing nucleoside triphosphate hydrolase|Ribosomal protein S5 domain 2-type fold|PUA-like domain|Ribosomal protein S5 domain 2-type fold, subgroup|AAA+ ATPase domain|Lon protease, bacterial/eukaryotic-type|Peptidase S16, active site|Lon protease homologue 2, peroxisomal', 'Lon protease|ATPase, AAA-type, core|Peptidase S16, lon N-terminal|Peptidase S16, Lon C-terminal|P-loop containing nucleoside triphosphate hydrolase|Ribosomal protein S5 domain 2-type fold|PUA-like domain|Ribosomal protein S5 domain 2-type fold, subgroup|AAA+ ATPase domain|Lon protease, bacterial/eukaryotic-type|Peptidase S16, active site|Lon protease homolog, chloroplastic/mitochondrial', 'Lon protease|Peptidase S16, Lon C-terminal|Ribosomal protein S5 domain 2-type fold|Ribosomal protein S5 domain 2-type fold, subgroup', 'lon protease homolog mitochondrial-like', 'Lon protease|ATPase, AAA-type, core|Peptidase S16, lon N-terminal|Peptidase S16, Lon C-terminal|P-loop containing nucleoside triphosphate hydrolase|PUA-like domain|AAA+ ATPase domain|Lon protease, bacterial/eukaryotic-type', 'lon protease'}\n",
      "OG0011368 {'adenosine kinase', 'Adenosine kinase', 'Adenosine kinase|Carbohydrate kinase PfkB'}\n",
      "OG0011389 {'tetratricopeptide repeat domain-containing protein', 'Tetratricopeptide-like helical|Tetratricopeptide repeat|Tetratricopeptide repeat-containing domain'}\n",
      "OG0011426 {'homogentisate phytyltransferase', 'UbiA prenyltransferase family'}\n",
      "OG0011456 {'Aldo/keto reductase|NADP-dependent oxidoreductase domain', 'aldo keto'}\n",
      "OG0011482 {'shoot gravitropism 2', 'protein shoot gravitropism 2', 'DDHD'}\n",
      "OG0011483 {'hexokinase 3', 'Hexokinase|Hexokinase, C-terminal'}\n",
      "OG0011487 {'WD40 repeat|Steroid receptor RNA activator-protein/coat protein complex II, Sec31|WD40-repeat-containing domain|WD40/YVTN repeat-like-containing domain|WD40 repeat, conserved site'}\n",
      "OG0011498 {'nucleotide-diphospho-sugar transferase family protein'}\n",
      "OG0011503 {'ring-h2 finger protein atl80', 'Zinc finger, RING-type|Zinc finger, RING/FYVE/PHD-type'}\n",
      "OG0011508 {'expansin 2', 'expansin', 'Expansin, cellulose-binding-like domain|Expansin/Lol pI|Expansin'}\n",
      "OG0011510 {'Multicopper oxidase, type 1|Multicopper oxidase, type 2|Cupredoxin', 'l-ascorbate oxidase homolog'}\n",
      "OG0011543 {'Protein kinase-like domain', 'probable ethanolamine kinase a-like', 'choline ethanolamine'}\n",
      "OG0011611 {'gtp-binding protein sar1a', 'Small GTPase superfamily, SAR1-type|Small GTPase superfamily, ARF/SAR type|P-loop containing nucleoside triphosphate hydrolase'}\n",
      "OG0011614 {'V-ATPase proteolipid subunit C-like domain|V-ATPase proteolipid subunit|ATPase, F0 complex, subunit C'}\n",
      "OG0011626 {'protein phosphatase type-2c', 'Protein phosphatase 2C (PP2C)-like domain'}\n",
      "OG0011659 {'atp binding', 'Kinesin-like protein|Kinesin, motor domain|Kinesin-like, KLP2|P-loop containing nucleoside triphosphate hydrolase|Kinesin, motor region, conserved site'}\n",
      "OG0011680 {'nbs-lrr resistance protein', 'NB-ARC|Disease resistance protein|P-loop containing nucleoside triphosphate hydrolase'}\n",
      "OG0011684 {'Cystinosin/ERS1p repeat'}\n",
      "OG0011702 {'mevalonate disphosphate decarboxylase', 'Diphosphomevalonate decarboxylase'}\n",
      "OG0011712 {'protein aatf', 'AATF leucine zipper-containing domain', 'Apoptosis-antagonizing transcription factor, C-terminal'}\n",
      "OG0011723 {'transcription initiation factor', 'Transcription factor TFIIB|Brf1-like TBP-binding', 'Brf1-like TBP-binding'}\n",
      "OG0011751 {'pp2ac-2 - phosphatase 2a isoform 2 belonging to family 2'}\n",
      "OG0011765 {'mitogen activated protein kinase kinase kinase'}\n",
      "OG0011766 {'UNC-50', 'protein unc-50 homolog'}\n",
      "OG0011769 {'ubiquitin carboxyl-terminal hydrolase 12-like', 'ICP0-binding domain of Ubiquitin-specific protease 7'}\n",
      "OG0011788 {'Protein of unknown function DUF1442'}\n",
      "OG0011792 {'hypothetical protein OsI_02235 [Oryza sativa Indica Group]', 'Homeodomain-like'}\n",
      "OG0011798 {'calcium-dependent protein kinase', 'calcium-dependent protein kinase 13', 'EF-hand domain pair|EF-hand domain|EF-Hand 1, calcium-binding site', 'EF-hand domain pair'}\n",
      "OG0011823 {'chaperone protein chloroplastic-like', 'ATPase, AAA-2|Clp ATPase, C-terminal|ClpA/B family|P-loop containing nucleoside triphosphate hydrolase|AAA+ ATPase domain|ClpA/B, conserved site 2'}\n",
      "OG0011846 {'CTLH, C-terminal LisH motif|LisH dimerisation motif'}\n",
      "OG0011848 {'Glycosyl transferase, family 14', 'core-2 i-branching beta- -n-acetylglucosaminyltransferase family protein'}\n",
      "OG0011856 {'Peptidase S10, serine carboxypeptidase'}\n",
      "OG0011881 {'act domain-containing protein 5', 'amino acid binding', 'ACT domain'}\n",
      "OG0011891 {'Small GTPase superfamily|P-loop containing nucleoside triphosphate hydrolase|Small GTPase superfamily, Ras type|Small GTPase superfamily, Rho type|Small GTPase superfamily, Rab type', 'ras-related protein rabd1', 'Small GTPase superfamily|P-loop containing nucleoside triphosphate hydrolase|Small GTPase superfamily, Ras type|Small GTPase superfamily, Rho type|Small GTPase superfamily, Rab type|Small GTP-binding protein domain', 'ras-related protein'}\n",
      "OG0011894 {'glutamyl-trna synthetase', 'probable glutamyl-trna cytoplasmic-like', 'Glutamyl/glutaminyl-tRNA synthetase|Glutamyl/glutaminyl-tRNA synthetase, class Ib, catalytic domain|Glutamyl/glutaminyl-tRNA synthetase, class Ib, anti-codon binding domain|Glutathione S-transferase, C-terminal-like|Ribosomal protein L25/Gln-tRNA synthetase, anti-codon-binding domain|Glutamyl/glutaminyl-tRNA synthetase, class Ib, alpha-bundle domain|Ribosomal protein L25/Gln-tRNA synthetase, beta-barrel domain|Rossmann-like alpha/beta/alpha sandwich fold|Glutamyl-tRNA synthetase, archaeal/eukaryotic cytosolic|Aminoacyl-tRNA synthetase, class I, conserved site', 'Glutamyl/glutaminyl-tRNA synthetase|Glutamyl/glutaminyl-tRNA synthetase, class Ib, anti-codon binding domain|Ribosomal protein L25/Gln-tRNA synthetase, anti-codon-binding domain|Ribosomal protein L25/Gln-tRNA synthetase, beta-barrel domain'}\n",
      "OG0011903 {'vacuolar-processing enzyme', 'Peptidase C13, legumain'}\n",
      "OG0011923 {'sterol 3-beta-glucosyltransferase', 'UDP-glucuronosyl/UDP-glucosyltransferase'}\n",
      "OG0011935 {'btb poz domain-containing protein'}\n",
      "OG0011940 {'alpha beta-hydrolase domain-containing protein'}\n",
      "OG0011954 {'WD40 repeat|WD40-repeat-containing domain|WD40/YVTN repeat-like-containing domain|WD40 repeat, conserved site', 'WD40 repeat|WD40-repeat-containing domain|WD40/YVTN repeat-like-containing domain', 'Topless family|WD40 repeat|WD40-repeat-containing domain|WD40/YVTN repeat-like-containing domain|WD40 repeat, conserved site', 'wd repeat-containing'}\n",
      "OG0011959 {'Kinesin-like protein|P-loop containing nucleoside triphosphate hydrolase|Kinesin, motor domain', 'Kinesin-like protein|Kinesin, motor domain|P-loop containing nucleoside triphosphate hydrolase', 'kinesin calponin homology and calcium binding and coiled-coil domain-containing protein', 'kinesin heavy'}\n",
      "OG0011994 {'toprim domain-containing protein', 'Twinkle protein|Toprim domain|P-loop containing nucleoside triphosphate hydrolase|DNA helicase, DnaB-like, C-terminal'}\n",
      "OG0012014 {'Sulphate anion transporter, conserved site', 'Sulphate transporter|Sulphate anion transporter, conserved site', 'sulfate bicarbonate oxalate exchanger and transporter sat-1'}\n",
      "OG0012015 {'cellulose synthase a catalytic subunit 6', 'cellulose synthase', 'Cellulose synthase, RING-type zinc finger|Zinc finger, RING/FYVE/PHD-type|Zinc finger, RING-type', 'Cellulose synthase|Cellulose synthase, RING-type zinc finger|Zinc finger, RING/FYVE/PHD-type|Zinc finger, RING-type'}\n",
      "OG0012017 {'Major facilitator superfamily domain, general substrate transporter', 'major facilitator superfamily expressed'}\n",
      "OG0012039 {'autoinhibited h+ atpase', 'HAD-like domain|Cation-transporting P-type ATPase|P-type ATPase,  transmembrane domain'}\n",
      "OG0012043 {'Protein of unknown function DUF247, plant', 'upf0481 protein at3g02645-like', 'UVR domain|Protein of unknown function DUF247, plant'}\n",
      "OG0012053 {'Armadillo-type fold|Armadillo-like helical'}\n",
      "OG0012063 {'serine threonine protein kinase', 'Protein kinase-like domain', 'Protein kinase-like domain|Protein kinase, ATP binding site', 'pto kinase interactor'}\n",
      "OG0012084 {'cop9 signalosome complex subunit 3', 'Proteasome component (PCI) domain|Winged helix-turn-helix DNA-binding domain'}\n",
      "OG0012138 {'PC-Esterase|PMR5 N-terminal domain'}\n",
      "OG0012154 {'Elongation factor, GTP-binding domain|Translation elongation factor EFG, V domain|GTP-binding protein LepA, C-terminal|P-loop containing nucleoside triphosphate hydrolase|Elongation factor G, III-V domain|Small GTP-binding protein domain|Elongation factor 4', 'Elongation factor, GTP-binding domain|Translation elongation factor EFG, V domain|Translation elongation factor EFTu/EF1A, domain 2|GTP-binding protein LepA, C-terminal|P-loop containing nucleoside triphosphate hydrolase|Elongation factor G, III-V domain|Small GTP-binding protein domain|Elongation factor 4', 'Elongation factor, GTP-binding domain|P-loop containing nucleoside triphosphate hydrolase|Small GTP-binding protein domain', 'gtp-binding protein'}\n",
      "OG0012177 {'kinesin-like protein', 'Kinesin-like protein|Kinesin, motor domain|P-loop containing nucleoside triphosphate hydrolase|Kinesin, motor region, conserved site'}\n",
      "OG0012190 {'serine carboxypeptidase ii-3', 'Peptidase S10, serine carboxypeptidase|Peptidase S10, serine carboxypeptidase, active site'}\n",
      "OG0012196 {'tryptophanyl-trna synthetase', 'Tryptophan-tRNA ligase|Aminoacyl-tRNA synthetase, class Ic', 'Tryptophan-tRNA ligase'}\n",
      "OG0012197 {'protease 2-like', 'Peptidase S9A, prolyl oligopeptidase|Peptidase S9A, N-terminal domain'}\n",
      "OG0012201 {'Leucine-rich repeat, cysteine-containing subtype'}\n",
      "OG0012204 {'PAS domain|PAC motif|PAS-associated, C-terminal', 'phototropin 2', 'Protein kinase domain|PAS domain|Protein kinase-like domain|PAC motif|Serine/threonine- / dual specificity protein kinase, catalytic  domain|PAS-associated, C-terminal|Protein kinase, ATP binding site|Serine/threonine-protein kinase, active site'}\n",
      "OG0012207 {'HAUS augmin-like complex subunit 6, N-terminal'}\n",
      "OG0012221 {'UDP-glucuronosyl/UDP-glucosyltransferase', 'immediate-early salicylate-induced glucosyltransferase'}\n",
      "OG0012246 {'Lytic transglycosylase-like SLT domain|Lysozyme-like domain'}\n",
      "OG0012274 {'Polycomb protein, VEFS-Box', 'embryonic flower 2'}\n",
      "OG0012276 {'Kinesin-like protein|Kinesin, motor domain|P-loop containing nucleoside triphosphate hydrolase', 'kinesin-like protein'}\n",
      "OG0012279 {'digalactosyldiacylglycerol synthase 1'}\n",
      "OG0012318 {'nadh-cytochrome b5 reductase-like protein', 'Oxidoreductase FAD/NAD(P)-binding|Oxidoreductase, FAD-binding domain|NADH:cytochrome b5 reductase (CBR)|Riboflavin synthase-like beta-barrel|Ferredoxin reductase-type FAD-binding domain', 'Oxidoreductase FAD/NAD(P)-binding|Oxidoreductase, FAD-binding domain|Flavoprotein pyridine nucleotide cytochrome reductase|NADH:cytochrome b5 reductase (CBR)|Riboflavin synthase-like beta-barrel|Ferredoxin reductase-type FAD-binding domain'}\n",
      "OG0012328 {'serine threonine protein kinase', 'Serine-threonine/tyrosine-protein kinase catalytic domain|Protein kinase-like domain|Serine/threonine- / dual specificity protein kinase, catalytic  domain|Protein kinase domain|Serine/threonine-protein kinase, active site', 'Serine-threonine/tyrosine-protein kinase catalytic domain|Protein kinase-like domain|Protein kinase domain', 'pto kinase interactor'}\n",
      "OG0012344 {'Vacuolar protein sorting-associated protein 35|Armadillo-type fold', 'vacuolar sorting'}\n",
      "OG0012401 {'glutathione synthetase', 'Glutathione synthase, eukaryotic|Glutathione synthase, substrate-binding, eukaryotic|Pre-ATP-grasp domain|Glutathione synthase, alpha-helical, eukaryotic|Glutathione synthase domain|Glutathione synthase, N-terminal, eukaryotic'}\n",
      "OG0012467 {'endoribonuclease dicer homolog 2-like', 'P-loop containing nucleoside triphosphate hydrolase'}\n",
      "OG0012546 {'eukaryotic initiation factor iso-4f subunit p82-34-like', 'MIF4-like, type 1/2/3'}\n",
      "OG0012573 {'abc transporter c family member 5-like'}\n",
      "OG0012640 {'mitogen-activated protein kinase kinase kinase 1-like', 'Protein kinase domain|Protein kinase-like domain', 'mitogen-activated protein kinase kinase kinase'}\n",
      "OG0012718 {'mikc mads-box transcription factor', 'Transcription factor, K-box', 'Transcription factor, MADS-box|Transcription factor, K-box'}\n",
      "OG0012750 {'Protein kinase domain|Protein kinase-like domain', 'probable serine threonine-protein kinase at1g54610-like'}\n",
      "OG0012794 {'cell division protein ftsz homolog 2- chloroplastic-like', 'Tubulin/FtsZ, GTPase domain|Tubulin/FtsZ, C-terminal|Tubulin/FtsZ, 2-layer sandwich domain'}\n",
      "OG0012796 {'long chain acyl- synthetase 1-like'}\n",
      "OG0012977 {'Pentatricopeptide repeat', 'pentatricopeptide repeat-containing'}\n",
      "OG0013014 {'sal1 phosphatase-like', 'Inositol monophosphatase', '3 (2 ) -bisphosphate nucleotidase'}\n",
      "OG0013061 {'Aminotransferase class-III|Pyridoxal phosphate-dependent transferase|Pyridoxal phosphate-dependent transferase, major region, subdomain 2', 'alanine--glyoxylate aminotransferase 2 homolog mitochondrial-like'}\n",
      "OG0013118 {'Peptidase S8, subtilisin-related', 'subtilase family protein'}\n",
      "OG0013205 {'vesicle-fusing atpase-like', 'ATPase, AAA-type, core|CDC48, N-terminal subdomain|Aspartate decarboxylase-like domain|P-loop containing nucleoside triphosphate hydrolase|AAA+ ATPase domain|ATPase, AAA-type, conserved site', 'ATPase, AAA-type, core|CDC48, N-terminal subdomain|CDC48, domain 2|Aspartate decarboxylase-like domain|P-loop containing nucleoside triphosphate hydrolase|AAA+ ATPase domain|ATPase, AAA-type, conserved site'}\n",
      "OG0013217 {'vacuolar protein sorting-associated protein 16 homolog', 'Vacuolar protein sorting-associated protein 16|Vps16, C-terminal|Vps16, N-terminal|WD40-repeat-containing domain|WD40/YVTN repeat-like-containing domain'}\n",
      "OG0013263 {'C2 domain'}\n",
      "OG0013276 {'Protein of unknown function DUF3754'}\n",
      "OG0013283 {'brefeldin a-inhibited guanine nucleotide-exchange protein 1-like', 'U6 snRNA-associated Sm-like protein LSm4/Small nuclear ribonucleoprotein Sm D1/D3|Ribonucleoprotein LSM domain|Like-Sm (LSM) domain'}\n",
      "OG0013366 {'Brix domain|Anticodon-binding', 'u3 small nucleolar ribonucleoprotein protein'}\n",
      "OG0013372 {'integral membrane single c2 domain protein'}\n",
      "OG0013375 {'chromodomain-helicase-dna-binding protein 2-like', 'SNF2-related|Helicase, C-terminal|Chromo domain|Domain of unknown function DUF4208|P-loop containing nucleoside triphosphate hydrolase|Chromo domain-like|Chromo domain/shadow|Helicase, superfamily 1/2, ATP-binding domain'}\n",
      "OG0013423 {'membrane-anchored endo- -beta-glucanase', 'Glycoside hydrolase, family 9|Six-hairpin glycosidase-like|Six-hairpin glycosidase'}\n",
      "OG0013428 {'RHD3/Sey1|P-loop containing nucleoside triphosphate hydrolase', 'protein root hair defective 3 homolog 1-like'}\n",
      "OG0013451 {'RNA recognition motif domain|Nucleotide-binding, alpha-beta plait', 'rna-binding protein-defense related 1'}\n",
      "OG0013711 {'KOW', 'suppressor of'}\n",
      "OG0013729 {'Protein of unknown function DUF1296, plant|UBA-like'}\n",
      "OG0013752 {'Protein kinase domain|Protein kinase-like domain|Serine/threonine- / dual specificity protein kinase, catalytic  domain|Serine/threonine-protein kinase, active site', 'kinase-like protein'}\n",
      "OG0013786 {'Putative S-adenosyl-L-methionine-dependent methyltransferase', 'probable methyltransferase pmt23-like'}\n",
      "OG0013817 {'ww domain-containing oxidoreductase-like'}\n",
      "OG0013886 {'probable anion transporter chloroplastic-like', 'Major facilitator superfamily domain, general substrate transporter'}\n",
      "OG0013902 {'chaperonin cpn60-like mitochondrial-like', 'Chaperonin Cpn60/TCP-1|GroEL-like apical domain'}\n",
      "OG0013957 {'mitochondrial import inner membrane translocase subunit tim17 tim22 tim23 family protein'}\n",
      "OG0013991 {'NAF domain', 'cbl-interacting protein kinase-like protein'}\n",
      "OG0014063 {'Cysteinyl-tRNA synthetase/mycothiol ligase|Rossmann-like alpha/beta/alpha sandwich fold', 'cysteinyl-trna synthetase-like'}\n",
      "OG0014111 {'galactinol synthase', 'Glycosyl transferase, family 8'}\n",
      "OG0014124 {'Glutamine amidotransferase|Histidine biosynthesis|Ribulose-phosphate binding barrel|Aldolase-type TIM barrel|Histidine biosynthesis, HisF|Imidazole glycerol phosphate synthase, subunit H|Imidazole glycerol phosphate synthase HisHF', 'Protein kinase domain|Glutamine amidotransferase|Histidine biosynthesis|Ribulose-phosphate binding barrel|Protein kinase-like domain|Aldolase-type TIM barrel|Serine/threonine- / dual specificity protein kinase, catalytic  domain|Imidazole glycerol phosphate synthase, subunit H|Protein kinase, ATP binding site|Serine/threonine-protein kinase, active site', 'glutamine amidotransferase cyclase'}\n",
      "OG0014150 {'dynamin- partial'}\n",
      "OG0014183 {'protein vernalization insensitive 3-like'}\n",
      "OG0014195 {'Epsin domain, N-terminal|ENTH/VHS|Epsin-like, N-terminal'}\n",
      "OG0014263 {'rna polymerase iv subunit', 'dna-directed rna polymerase e subunit 1-like', 'Protein of unknown function DUF3223|Copper amine oxidase, N2/N3-terminal', 'RNA polymerase Rpb1, domain 1|Protein of unknown function DUF3223|Copper amine oxidase, N2/N3-terminal', 'RNA polymerase Rpb1, domain 1'}\n",
      "OG0014295 {'Acyl-CoA-binding protein, ACBP|Galactose oxidase/kelch, beta-propeller|FERM/acyl-CoA-binding protein, 3-helical bundle|Kelch-type beta propeller|Galactose oxidase, beta-propeller|Kelch repeat type 1', 'acyl- binding protein 4', 'Acyl-CoA-binding protein, ACBP|Kelch repeat type 1|FERM/acyl-CoA-binding protein, 3-helical bundle|Kelch-type beta propeller'}\n",
      "OG0014356 {'NPH3 domain'}\n",
      "OG0014452 {'Guanylate-binding protein, N-terminal|P-loop containing nucleoside triphosphate hydrolase', 'guanylate-binding protein 4-like'}\n",
      "OG0014549 {'phospholipase a1-iigamma-like'}\n",
      "OG0014553 {'ring u-box domain-containing protein'}\n",
      "OG0014624 {'B3 DNA binding domain|DNA-binding pseudobarrel domain'}\n",
      "OG0014685 {'ribosomal rna small subunit methyltransferase g'}\n",
      "OG0014801 {'polyubiquitin 12', 'Ubiquitin domain|Ubiquitin|Ubiquitin supergroup'}\n",
      "OG0014852 {'sec14 cytosolic factor'}\n",
      "OG0014960 {'B3 DNA binding domain|Auxin response factor|DNA-binding pseudobarrel domain', 'auxin response factor 9'}\n",
      "OG0014996 {'Pre-mRNA splicing factor'}\n",
      "OG0015037 {'yellow stripe-like protein', 'Oligopeptide transporter, OPT superfamily'}\n",
      "OG0015093 {'probable disease resistance protein at5g66900-like', 'Leucine-rich repeat'}\n",
      "OG0015128 {'protein spinster homolog 1-like', 'Major facilitator superfamily|Major facilitator superfamily domain, general substrate transporter|Major facilitator superfamily domain'}\n",
      "OG0015146 {'Exocyst complex component Sec10-like', 'exocyst complex component 5'}\n",
      "OG0015153 {'ABC transporter-like|ABC transporter, transmembrane domain|P-loop containing nucleoside triphosphate hydrolase|ABC transporter type 1, transmembrane domain', 'abc transporter b family member', 'ABC transporter type 1, transmembrane domain'}\n",
      "OG0015317 {'Exoribonuclease, phosphorolytic domain 1|Exoribonuclease, phosphorolytic domain 2|Ribosomal protein S5 domain 2-type fold|PNPase/RNase PH domain', 'exosome complex component mtr3-like'}\n",
      "OG0015364 {'serine endopeptidase', 'Serine endopeptidase DegP2|Peptidase S1|Trypsin-like cysteine/serine peptidase domain'}\n",
      "OG0015415 {'atp gtp binding protein'}\n",
      "OG0015433 {'b-type cyclin', 'Cyclin, N-terminal|Cyclin, C-terminal domain|Cyclin-like'}\n",
      "OG0015554 {'cyclic nucleotide-gated ion channel 15-like'}\n",
      "OG0015677 {'General substrate transporter|Sugar/inositol transporter|Major facilitator superfamily domain, general substrate transporter|Major facilitator superfamily domain|Sugar transporter, conserved site', 'hexose carrier protein hex6'}\n",
      "OG0015790 {'proteasome subunit alpha type 3'}\n",
      "OG0015899 {'leucine-rich repeat receptor-like serine threonine-protein kinase at2g14440-like', 'Leucine-rich repeat|Leucine rich repeat 4'}\n",
      "OG0015914 {'exocyst complex', 'Cullin repeat-like-containing domain'}\n",
      "OG0015924 {'DnaJ domain|DnaJ domain, conserved site', 'chaperone protein dnaj'}\n",
      "OG0015935 {'plant synaptotagmin'}\n",
      "OG0015944 {'Mediator complex, subunit Med25, von Willebrand factor type A', 'phytochrome and flowering time regulatory protein 1'}\n",
      "OG0015965 {'GRAM domain'}\n",
      "OG0016117 {'1-phosphatidylinositol-3-phosphate 5-kinase', 'Chaperonin Cpn60/TCP-1|FYVE zinc finger|Zinc finger, FYVE/PHD-type|Zinc finger, RING/FYVE/PHD-type|Zinc finger, FYVE-related'}\n",
      "OG0016166 {'Aluminum-activated malate transporter'}\n",
      "OG0016187 {'Dehydroquinase class I|Aldolase-type TIM barrel', 'dehydroquinate dehydratase shikimate dehydrogenase'}\n",
      "OG0016192 {'coatomer subunit gamma', 'Coatomer gamma subunit|Clathrin/coatomer adaptor, adaptin-like, N-terminal|Armadillo-type fold|Armadillo-like helical'}\n",
      "OG0016214 {'Protein kinase domain|Protein kinase-like domain|Serine/threonine- / dual specificity protein kinase, catalytic  domain|Serine/threonine-protein kinase, active site'}\n",
      "OG0016268 {'Cyclin C/H/T/L|Cyclin, N-terminal|Cyclin-like', 'cyclin-t1-5-like isoform 1'}\n",
      "OG0016381 {'Pyruvate kinase|Pyruvate kinase, barrel|Pyruvate kinase-like, insert domain|Pyruvate kinase, beta-barrel insert domain', 'pyruvate kinase'}\n",
      "OG0016390 {'Zinc finger, CCCH-type', 'zinc finger ccch domain-containing protein 56-like'}\n",
      "OG0016411 {'26s proteasome regulatory subunit n5'}\n",
      "OG0016418 {'atp-dependent clp protease proteolytic subunit-related protein chloroplastic-like', 'Clp protease proteolytic subunit /Translocation-enhancing protein TepA'}\n",
      "OG0016465 {'homeobox-leucine zipper protein hat14-like', 'Leucine zipper, homeobox-associated'}\n",
      "OG0016517 {'Glycoside hydrolase family 3|Glycoside hydrolase, family 3, N-terminal|Glycoside hydrolase, superfamily', 'lysosomal beta glucosidase-like'}\n",
      "OG0016564 {'Armadillo-type fold|Armadillo-like helical'}\n",
      "OG0016582 {'ctr2 protein kinase', 'Serine/threonine-protein kinase CTR1/EDR1|Serine-threonine/tyrosine-protein kinase catalytic domain|Protein kinase-like domain|Serine/threonine- / dual specificity protein kinase, catalytic  domain|Protein kinase domain|Protein kinase, ATP binding site|Serine/threonine-protein kinase, active site', 'Serine/threonine-protein kinase CTR1/EDR1|Serine-threonine/tyrosine-protein kinase catalytic domain|Protein kinase-like domain|Serine/threonine- / dual specificity protein kinase, catalytic  domain|Protein kinase domain|Protein kinase, ATP binding site', 'Serine/threonine-protein kinase CTR1/EDR1'}\n",
      "OG0016612 {'Zinc finger, CCHC-type|DWNN domain|Zinc finger, RING/FYVE/PHD-type|Zinc finger, RING-type|Zinc finger, RING-type, conserved site', 'something that sticks like glue', 'Zinc finger, C3HC4 RING-type|Zinc finger, CCHC-type|DWNN domain|Zinc finger, RING/FYVE/PHD-type|Zinc finger, RING-type|Zinc finger, RING-type, conserved site'}\n",
      "OG0016793 {'Ionotropic glutamate receptor|Extracellular solute-binding protein, family 3', 'glutamate-gated kainate-type ion channel receptor subunit 5'}\n",
      "OG0016835 {'Leucine aminopeptidase/peptidase B|Peptidase M17, leucyl aminopeptidase, C-terminal', 'leucine aminopeptidase'}\n",
      "OG0016849 {'Mitochondrial substrate/solute carrier|Mitochondrial carrier domain', 'peroxisomal membrane protein'}\n",
      "OG0016858 {'Fructose-1,6-bisphosphatase class 1/Sedoheputulose-1,7-bisphosphatase|Fructose-1,6-bisphosphatase', 'fructose- -bisphosphatase'}\n",
      "OG0016890 {'aminoalcoholphosphotransferase'}\n",
      "OG0016901 {'Chitin-binding, type 1|Chitin-binding, type 1, conserved site', 'endochitinase pr4'}\n",
      "OG0016927 {'Zinc finger, CCCH-type', 'nucleic acid binding'}\n",
      "OG0016966 {'udp-galactose transporter 6', 'Nucleotide-sugar transporter|UDP/CMP-sugar transporter'}\n",
      "OG0017034 {'26s proteasome aaa-atpase subunit rpt5a'}\n",
      "OG0017047 {'2-oxoglutarate malate translocator', 'Sodium/sulphate symporter'}\n",
      "OG0017051 {'sorting nexin 1', 'Phox homologous domain'}\n",
      "OG0017089 {'ap-2 complex subunit alpha-1', 'Clathrin/coatomer adaptor, adaptin-like, N-terminal|Clathrin adaptor, alpha-adaptin, appendage, C-terminal subdomain|Clathrin adaptor, alpha/beta/gamma-adaptin, appendage, Ig-like subdomain|Armadillo-type fold|Coatomer/clathrin adaptor appendage, Ig-like subdomain|Coatomer/calthrin adaptor appendage, C-terminal subdomain|Armadillo-like helical|Clathrin adaptor, alpha-adaptin, appendage, Ig-like subdomain|Clathrin alpha-adaptin/coatomer adaptor, appendage, C-terminal subdomain|Adaptor protein complex AP-2, alpha subunit'}\n",
      "OG0017097 {'beta-glucosidase', 'Glycoside hydrolase, family 1|Glycoside hydrolase, superfamily|Glycoside hydrolase, catalytic domain|Glycoside hydrolase, family 1, active site'}\n",
      "OG0017160 {'Staphylococcal nuclease (SNase-like), OB-fold', 'staphylococcal nuclease domain-containing protein 1-like'}\n",
      "OG0017205 {'Major intrinsic protein|Aquaporin-like', 'mip pip subfamily'}\n",
      "OG0017235 {'rev'}\n",
      "OG0017236 {'Triose-phosphate transporter domain', 'phosphate phosphoenolpyruvate translocator precursor'}\n",
      "OG0017286 {'Phloem protein 2-like'}\n",
      "OG0017288 {'Pyrroline-5-carboxylate reductase|6-phosphogluconate dehydrogenase, C-terminal-like'}\n",
      "OG0017297 {'transporter protein'}\n",
      "OG0017309 {'type ii inositol 5-', 'Endonuclease/exonuclease/phosphatase|Inositol polyphosphate-related phosphatase|NEUZ'}\n",
      "OG0017329 {'succinate dehydrogenase', 'Fumarate reductase, flavoprotein subunit|FAD binding domain|Fumarate reductase/succinate dehydrogenase, FAD-binding site'}\n",
      "OG0017330 {'NAD(P)-binding domain', 'rossmann-fold nad -binding domain-containing protein'}\n",
      "OG0017339 {'u2 snrnp auxiliary small', 'U2 auxiliary factor small subunit|Zinc finger, CCCH-type'}\n",
      "OG0017366 {'strictosidine synthase family protein', 'Six-bladed beta-propeller, TolB-like'}\n",
      "OG0017419 {'Tubulin|Tubulin/FtsZ, 2-layer sandwich domain|Alpha tubulin|Tubulin/FtsZ, C-terminal'}\n",
      "OG0017420 {'Protein kinase domain|Protein kinase-like domain', 'l-type lectin-domain containing receptor kinase -like'}\n",
      "OG0017428 {'ap2 domain-containing transcription factor', 'AP2/ERF domain'}\n",
      "OG0017454 {'probable ubiquitin-conjugating enzyme e2 26-like'}\n",
      "OG0017486 {'Sieve element occlusion, N-terminal'}\n",
      "OG0017520 {'Armadillo-like helical', 'TATA-binding protein interacting (TIP20)|Armadillo-type fold|Armadillo-like helical'}\n",
      "OG0017521 {'probable protein arginine n-methyltransferase 6-like', 'Protein arginine N-methyltransferase|Ribosomal L11 methyltransferase, PrmA'}\n",
      "OG0017524 {'Protein of unknown function DUF3752', 'dnaj heat shock n-terminal domain-containing protein'}\n",
      "OG0017540 {'Protein kinase-like domain', 'atp binding'}\n",
      "OG0017547 {'Cation-transporting  P-type ATPase, subfamily IV|P-type ATPase, A  domain|Cation-transporting P-type ATPase|HAD-like domain|P-type ATPase, cytoplasmic domain N|P-type ATPase, phosphorylation site', 'phospholipid-transporting atpase 3-like'}\n",
      "OG0017553 {'Kinesin-like protein|Zinc finger, RING/FYVE/PHD-type|Zinc finger, RING-type', 'kinesin-related protein'}\n",
      "OG0017556 {'cation-transporting atpase', 'Cation-transporting P-type ATPase, subfamily  V|P-type ATPase, A  domain|Cation-transporting P-type ATPase|HAD-like domain|P-type ATPase, cytoplasmic domain N|P-type ATPase, phosphorylation site', 'Cation-transporting P-type ATPase, subfamily  V|P-type ATPase, A  domain|HAD-like domain|Cation-transporting P-type ATPase|P-type ATPase, cytoplasmic domain N|P-type ATPase, phosphorylation site'}\n",
      "OG0017626 {'e3 ubiquitin-protein ligase rglg2', 'Copine'}\n",
      "OG0017651 {'nuclear rna polymerase d1a', 'RNA polymerase, alpha subunit|RNA polymerase Rpb1, domain 3|RNA polymerase Rpb1, domain 1|RNA polymerase, N-terminal', 'RNA polymerase Rpb1, domain 1'}\n",
      "OG0017685 {'Conserved oligomeric Golgi complex subunit 7', 'conserved oligomeric golgi complex subunit'}\n",
      "OG0017688 {'RPA-interacting protein, C-terminal domain'}\n",
      "OG0017740 {'glutamine synthetase', 'Glutamine synthetase, beta-Grasp'}\n",
      "OG0017741 {'Ribosomal protein L14b/L23e|Ribosomal protein L14 domain|Ribosomal protein L14, bacterial-type|Ribosomal protein L14 conserved site', 'ribosomal protein l14'}\n",
      "OG0017753 {'Choline transporter-like', 'plasma-membrane choline transporter-like protein'}\n",
      "OG0017780 {'Acetamidase/Formamidase', 'formamidase'}\n",
      "OG0017801 {'Ribosomal protein L10/L12'}\n",
      "OG0017846 {'Ribosomal protein S8e', '40s ribosomal protein', '40s ribosomal protein s8', 'Ribosomal protein S8e|Ribosomal protein S8e/ribosomal biogenesis NSA2'}\n",
      "OG0017884 {'SANT/Myb domain|Homeodomain-like|Myb domain, plants|Myb domain', 'protein club', 'Foie gras liver health family 1|TRAPP II complex, TRAPPC10|Tetratricopeptide-like helical'}\n",
      "OG0017929 {'p-loop containing ntpase domain-containing protein', 'ATPase, AAA-type, core|P-loop containing nucleoside triphosphate hydrolase|AAA+ ATPase domain|ATPase, AAA-type, conserved site'}\n",
      "OG0017937 {'Triose-phosphate transporter domain', 'nucleotide-sugar transporter family protein', 'phosphate phosphoenolpyruvate translocator protein'}\n",
      "OG0017950 {'Amino acid transporter, transmembrane', '70 kda peptidyl-prolyl isomerase-like', 'lysine histidine transporter'}\n",
      "OG0017953 {'lob domain-containing protein 6'}\n",
      "OG0017971 {'NADPH-dependent FMN reductase-like', 'quinone reductase family protein', 'NADPH-dependent FMN reductase-like|Flavodoxin/nitric oxide synthase'}\n",
      "OG0017975 {'cysteine-rich receptor-like protein kinase', 'Serine-threonine/tyrosine-protein kinase catalytic domain|Protein kinase-like domain'}\n",
      "OG0017988 {'terminal flowering 1 protein 1', 'Phosphatidylethanolamine-binding protein PEBP|Phosphatidylethanolamine-binding, conserved site'}\n",
      "OG0017991 {'Potassium channel, plant-type|Ankyrin repeat-containing domain|Ankyrin repeat', 'potassium channel'}\n",
      "OG0017998 {'60s ribosomal protein l5-like', 'Ribosomal protein L5 eukaryotic/L18 archaeal|Ubiquitin carboxyl-terminal hydrolases family 2|Ribosomal protein L18/L5|MATH|SWAP/Surp|TRAF-like|Peptidase C19, ubiquitin carboxyl-terminal hydrolase 2, conserved site'}\n",
      "OG0017999 {'zinc transporter', 'Zinc/iron permease'}\n",
      "OG0018004 {'PIK-related kinase, FAT', 'target of rapamycin', 'Serine/threonine-protein kinase TOR|Phosphatidylinositol 3-/4-kinase, catalytic domain|PIK-related kinase, FAT|PIK-related kinase, FATC|Rapamycin-binding domain|Domain of unknown function DUF3385,  target of rapamycin protein|Armadillo-type fold|Protein kinase-like domain|Armadillo-like helical|Tetratricopeptide-like helical|PIK-related kinase|Phosphatidylinositol 3/4-kinase, conserved site', 'fkbp12-rapamycin complex-associated protein'}\n",
      "OG0018005 {'ankyrin repeat domain'}\n",
      "OG0018016 {'glycoprotein 3-alpha-l-fucosyltransferase a'}\n",
      "OG0018020 {'cysteine synthase', 'Tryptophan synthase beta subunit-like PLP-dependent enzymes superfamily|Cysteine synthase/cystathionine beta-synthase P-phosphate-binding site'}\n",
      "OG0018027 {'glutamate decarboxylase-like'}\n",
      "OG0018028 {'cytochrome p450 71a24', 'Cytochrome P450', 'Cytochrome P450|Cytochrome P450, E-class, group I', 'p450 hydroxylase'}\n",
      "OG0018051 {'ferrochelatase', 'Ferrochelatase'}\n",
      "OG0018094 {'gigantea', 'GIGANTEA'}\n",
      "OG0018102 {'Zinc finger, CCHC-type'}\n",
      "OG0018114 {'aconitate cytoplasmic-like', 'Aconitase/isopropylmalate dehydratase|Aconitase/Iron regulatory protein 2/2-methylisocitrate dehydratase|Aconitase/3-isopropylmalate dehydratase large subunit, alpha/beta/alpha|Aconitase/3-isopropylmalate dehydratase large subunit, alpha/beta/alpha, subdomain 1/3'}\n",
      "OG0018180 {'pentatricopeptide repeat-containing protein', 'Pentatricopeptide repeat'}\n",
      "OG0018197 {'Translation initiation factor IF- 2|Translation protein, beta-barrel domain', 'eukaryotic translation initiation factor 5b', 'universal stress protein family protein'}\n",
      "OG0018203 {'abc transporter a family member 1', 'ABC transporter A, ABCA|ABC transporter-like|P-loop containing nucleoside triphosphate hydrolase|AAA+ ATPase domain|ABC transporter, conserved site'}\n",
      "OG0018238 {'auxin-induced in root cultures protein 12', 'Uncharacterised conserved protein UCP037471'}\n",
      "OG0018265 {'Monooxygenase, FAD-binding', 'fad nad -binding oxidoreductase family protein'}\n",
      "OG0018266 {'BTB/POZ fold', 'npr1 nim1-like regulatory protein'}\n",
      "OG0018295 {'Leucine aminopeptidase/peptidase B|Peptidase M17, leucyl aminopeptidase, N-terminal', 'leucine aminopeptidase 1', 'Leucine aminopeptidase/peptidase B|Peptidase M17, leucyl aminopeptidase, C-terminal|Peptidase M17, leucyl aminopeptidase, N-terminal', 'leucine aminopeptidase'}\n",
      "OG0018327 {'transcriptional corepressor seuss-like'}\n",
      "OG0018330 {'beta-galactosidase precursor', 'Glycoside hydrolase, family 35|Galactose-binding domain-like'}\n",
      "OG0018334 {'Protein of unknown function DUF707'}\n",
      "OG0018354 {'60s ribosomal protein', 'Ribosomal protein L30, ferredoxin-like fold domain'}\n",
      "OG0018356 {'Cytochrome b-c1 complex, subunit 6|Ubiquinol-cytochrome C reductase hinge domain', 'ubiquinol-cytochrome c reductase hinge protein'}\n",
      "OG0018358 {'actin-related protein 4-like', 'Actin-related protein'}\n",
      "OG0018388 {'Malectin', 'leucine-rich repeat family protein'}\n",
      "OG0018438 {'e3 ubiquitin-protein ligase cop1'}\n",
      "OG0018452 {'Lipoxygenase|Lipoxygenase, C-terminal|Lipoxygenase, plant|Lipoxygenase, domain 3', 'Lipoxygenase|Lipoxygenase, C-terminal|Lipoxygenase, plant|PLAT/LH2 domain|Lipoxygenase, domain 3', 'linoleate 13s-lipoxygenase 2- chloroplastic'}\n",
      "OG0018484 {'Rhodanese-like domain'}\n",
      "OG0018553 {'SCAMP'}\n",
      "OG0018559 {'Peptidase M3A/M3B|Neurolysin/Thimet oligopeptidase, domain 2', 'oligopeptidase a'}\n",
      "OG0018573 {'Ankyrin repeat-containing domain|Ankyrin repeat', 'e3 ubiquitin-protein ligase xbat31-like'}\n",
      "OG0018589 {'Major intrinsic protein|Aquaporin-like', 'plasma membrane intrinsic protein'}\n",
      "OG0018591 {'Leucine zipper, homeobox-associated', 'homeobox protein hat22'}\n",
      "OG0018595 {'B-block binding subunit of TFIIIC|Winged helix-turn-helix DNA-binding domain'}\n",
      "OG0018624 {'Leucine zipper, homeobox-associated|HD-ZIP protein, N-terminal'}\n",
      "OG0018633 {'nuclear rna polymerase d1a'}\n",
      "OG0018642 {'B3 DNA binding domain|Auxin response factor|DNA-binding pseudobarrel domain', 'auxin response'}\n",
      "OG0018679 {'neutral invertase-like protein', 'Glycosyl hydrolase family 100'}\n",
      "OG0018686 {'dnaj homolog subfamily c member 13-like', 'DnaJ domain|Domain of unknown function DUF4339|Armadillo-type fold|Armadillo-like helical'}\n",
      "OG0018696 {'protein kinase'}\n",
      "OG0018706 {'fructose-6-phosphate-2-kinase fructose- -bisphosphatase', 'Fructose-2,6-bisphosphatase|Carbohydrate binding module family 20|Carbohydrate-binding-like fold|Immunoglobulin-like fold'}\n",
      "OG0018708 {'WD40 repeat|Quinonprotein alcohol dehydrogenase-like superfamily|WD40/YVTN repeat-like-containing domain'}\n",
      "OG0018715 {'Sec20'}\n",
      "OG0018719 {'two-component sensor protein histidine protein'}\n",
      "OG0018733 {'ycf2 protein'}\n",
      "OG0018737 {'mitochondrial carrier'}\n",
      "OG0018744 {'probable beta- -galactosyltransferase 2-like', 'Glycosyl transferase, family 31', 'beta- -galactosyltransferase sqv-'}\n",
      "OG0018749 {'Phosphatidyl serine synthase', 'phosphatidylserine synthase 2'}\n",
      "OG0018763 {'Ubiquitin-conjugating enzyme, E2|Ubiquitin-conjugating enzyme/RWD-like'}\n",
      "OG0018780 {'calcium-transporting endoplasmic reticulum-type-like', 'P-type ATPase, cytoplasmic domain N'}\n",
      "OG0018799 {'heparan-alpha-glucosaminide n-acetyltransferase-like'}\n",
      "OG0018823 {'peroxisome assembly', 'Pex, N-terminal'}\n",
      "OG0018841 {'Aspartic peptidase|Aspartic peptidase domain', 'aspartic proteinase-like protein 2-like'}\n",
      "OG0018844 {'adp-ribosylation factor', 'Small GTPase superfamily, ARF/SAR type|P-loop containing nucleoside triphosphate hydrolase|Small GTPase superfamily, ARF type'}\n",
      "OG0018893 {'6-phosphofructokinase 3-like', 'phosphofructokinase family protein', 'Phosphofructokinase domain'}\n",
      "OG0018901 {'Cytochrome c oxidase, subunit I|Cytochrome c oxidase, subunit I domain', 'cytochrome c oxidase subunit 1'}\n",
      "OG0018904 {'CoA-binding|NAD(P)-binding domain', 'succinyl- ligase'}\n",
      "OG0018910 {'cell division cycle protein 27 homolog b-like', 'Cell division cycle protein 27A/B, plant|Tetratricopeptide TPR1|Tetratricopeptide TPR2|Tetratricopeptide-like helical|Tetratricopeptide repeat|Tetratricopeptide repeat-containing domain', 'Cell division cycle protein 27A/B, plant'}\n",
      "OG0018923 {'set domain protein'}\n",
      "OG0018948 {'Aminotransferase, class IV'}\n",
      "OG0018954 {'3-ketoacyl-acp synthase', 'beta-ketoacyl-acp synthase ii', 'Thiolase-like|Thiolase-like, subgroup', 'Beta-ketoacyl synthase, C-terminal|Thiolase-like|Thiolase-like, subgroup'}\n",
      "OG0018994 {'Phosphoesterase domain|Serine/threonine-specific protein phosphatase/bis(5-nucleosyl)-tetraphosphatase', 'serine threonine protein phosphatase'}\n",
      "OG0018996 {'Kinesin-like protein', 'p-loop containing nucleoside triphosphate hydrolase-like protein'}\n",
      "OG0019085 {'protein fam91a1-like', 'FAM91|FAM91, N-terminal domain|FAM91, C-terminal domain', 'FAM91|FAM91, C-terminal domain'}\n",
      "OG0019087 {'1-deoxy-D-xylulose 5-phosphate reductoisomerase|1-deoxy-D-xylulose 5-phosphate reductoisomerase, C-terminal', '1-deoxy-D-xylulose 5-phosphate reductoisomerase|1-deoxy-D-xylulose 5-phosphate reductoisomerase, N-terminal|1-deoxy-D-xylulose 5-phosphate reductoisomerase, C-terminal|DXP reductoisomerase C-terminal domain|NAD(P)-binding domain', '1-deoxy-d-xylulose 5-phosphate reductoisomerase', '1-deoxy-D-xylulose 5-phosphate reductoisomerase|DXP reductoisomerase C-terminal domain'}\n",
      "OG0019091 {'WD40 repeat|Domain of unknown function DUF3420|WD40-repeat-containing domain|WD40/YVTN repeat-like-containing domain'}\n",
      "OG0019122 {'heat intolerant 1 protein', 'Vps53-like, N-terminal'}\n",
      "OG0019193 {'Small GTPase superfamily|P-loop containing nucleoside triphosphate hydrolase|Small GTPase superfamily, Rab type|Small GTP-binding protein domain'}\n",
      "OG0019210 {'26s proteasome regulatory subunit s2', '26S proteasome regulatory complex, non-ATPase subcomplex, Rpn1 subunit'}\n",
      "OG0019224 {'phosphatidylinositide phosphatase sac1-like', 'Synaptojanin, N-terminal'}\n",
      "OG0019233 {'light harvesting chlorophyll a b-binding protein', 'Chlorophyll A-B binding protein, plant|Chlorophyll A-B binding protein|Chlorophyll a/b binding protein domain'}\n",
      "OG0019234 {'Domain of unknown function DUF4217', 'dead-box atp-dependent rna helicase 18-like'}\n",
      "OG0019239 {'callose synthase 10', 'Callose synthase|Glycosyl transferase, family 48|1,3-beta-glucan synthase subunit FKS1-like, domain-1'}\n",
      "OG0019242 {'Ribosomal protein L14b/L23e|Ribosomal protein L14 domain', '50s ribosomal protein l14'}\n",
      "OG0019244 {'auxin response factor 18-like'}\n",
      "OG0019249 {'dienelactone hydrolase family protein'}\n",
      "OG0019277 {'probable -trehalose-phosphate synthase', 'Glycosyl transferase, family 20|Trehalose-phosphatase|HAD-like domain'}\n",
      "OG0019297 {'tho complex subunit 2', 'THO complex, subunitTHOC2, C-terminal|THO complex, subunitTHOC2, N-terminal'}\n",
      "OG0019300 {'histone h2a', 'Histone core|Histone H2A|Histone-fold', 'Histone H2A|Histone-fold'}\n",
      "OG0019320 {'p-loop containing nucleoside triphosphate hydrolase-like protein'}\n",
      "OG0019360 {'40s ribosomal protein s15-like protein', 'Ribosomal protein S19/S15|Ribosomal protein S19, superfamily|Ribosomal protein S19A/S15e|Ribosomal protein S19 conserved site'}\n",
      "OG0019362 {'Isocitrate and isopropylmalate dehydrogenases family|Isopropylmalate dehydrogenase-like domain|Isocitrate/isopropylmalate dehydrogenase, conserved site', '3-isopropylmalate dehydrogenase 3'}\n",
      "OG0019377 {'Purple acid phosphatase-like, N-terminal|Purple acid phosphatase, N-terminal', 'probable inactive purple acid phosphatase 27-like'}\n",
      "OG0019378 {'Serine/threonine-protein kinase CTR1/EDR1|Serine-threonine/tyrosine-protein kinase catalytic domain|Protein kinase-like domain|Serine/threonine- / dual specificity protein kinase, catalytic  domain|Protein kinase domain|Serine/threonine-protein kinase, active site', 'ctr1-like kinase kinase kinase', 'pas domain-containing protein tyrosine kinase', 'Serine/threonine-protein kinase CTR1/EDR1|Serine-threonine/tyrosine-protein kinase catalytic domain|Protein kinase-like domain|Protein kinase domain'}\n",
      "OG0019383 {'acyl- n-acyltransferase with ring fyve phd-type zinc finger protein', 'GNAT domain|Acyl-CoA N-acyltransferase', 'actin', 'Actin-related protein|Actin, conserved site'}\n",
      "OG0019385 {'SANT/Myb domain|Homeodomain-like|Myb domain', 'myb transcription factor'}\n",
      "OG0019392 {'exostosin family protein', 'Exostosin-like'}\n",
      "OG0019451 {'Synaptobrevin', 'vesicle-associated membrane synaptobrevin 7b'}\n",
      "OG0019484 {'Alpha/beta hydrolase fold-1|Epoxide hydrolase-like', 'epoxide hydrolase', 'Epoxide hydrolase-like'}\n",
      "OG0019492 {'btb poz domain-containing protein at5g41330-like', 'WD40-repeat-containing domain|WD40/YVTN repeat-like-containing domain'}\n",
      "OG0019525 {'alpha beta fold family protein'}\n",
      "OG0019528 {'14-3-3 protein|14-3-3 domain|14-3-3 protein, conserved site', '14-3-3 protein'}\n",
      "OG0019538 {'aminotransferase family protein', 'Aminotransferase, class I/classII|Pyridoxal phosphate-dependent transferase|Pyridoxal phosphate-dependent transferase, major region, subdomain 2', 'tyrosine aminotransferase', 'Aminotransferase, class I/classII|Pyridoxal phosphate-dependent transferase|Pyridoxal phosphate-dependent transferase, major region, subdomain 1|Pyridoxal phosphate-dependent transferase, major region, subdomain 2|Tyrosine transaminase'}\n",
      "OG0019553 {'glycolipid transfer protein', 'Glycolipid transfer protein domain'}\n",
      "OG0019558 {'6-phosphofructokinase 3-like', 'Phosphofructokinase domain'}\n",
      "OG0019615 {'cytochrome c oxidase subunit vb', 'Cytochrome c oxidase, subunit Vb'}\n",
      "OG0019644 {'abscisic insensitive 1b'}\n",
      "OG0019649 {'eukaryotic peptide chain release factor subunit 1-1', 'Peptide chain release factor eRF1/aRF1|eRF1 domain 3'}\n",
      "OG0019659 {'Peptidase S10, serine carboxypeptidase', 'serine carboxypeptidase'}\n",
      "OG0019666 {'Uncharacterised protein family FPL', 'clec16a-like protein'}\n",
      "OG0019667 {'phospholipid-translocating atpase', 'Cation-transporting  P-type ATPase, subfamily IV'}\n",
      "OG0019668 {'r2r3-myb transcription factor', 'Homeodomain-like|SANT/Myb domain|Myb domain'}\n",
      "OG0019675 {'sterol regulatory element-binding protein site 2'}\n",
      "OG0019677 {'uncharacterized membrane protein at3g27390-like'}\n",
      "OG0019685 {'pentatricopeptide repeat-containing'}\n",
      "OG0019693 {'60s ribosomal protein l10a', 'Ribosomal protein L1/ribosomal biogenesis protein|Ribosomal protein L1-like|Ribosomal protein L1, 3-layer alpha/beta-sandwich', 'Ribosomal protein L1/ribosomal biogenesis protein|Ribosomal protein L1-like|Ribosomal protein L1, 2-layer alpha/beta-sandwich'}\n",
      "OG0019705 {'geranylgeranyl pyrophosphate synthase', 'Polyprenyl synthetase-related|Polyprenyl synthetase|Terpenoid synthase'}\n",
      "OG0019711 {'Proton-dependent oligopeptide transporter family|Major facilitator superfamily domain, general substrate transporter|PTR2 family proton/oligopeptide symporter, conserved site', 'proton-dependent oligopeptide transport family protein'}\n",
      "OG0019718 {'cytochrome c oxidase assembly protein', 'Cytochrome c oxidase assembly protein CtaG/Cox11|Ribosomal protein Rsm22, bacterial-type'}\n",
      "OG0019724 {'Alpha/beta hydrolase fold-1|Epoxide hydrolase-like', 'epoxide hydrolase'}\n",
      "OG0019734 {'adenine nucleotide alpha hydrolases-like protein', 'Mini-chromosome maintenance, DNA-dependent ATPase|UspA|Rossmann-like alpha/beta/alpha sandwich fold'}\n",
      "OG0019740 {'integral membrane single c2 domain protein'}\n",
      "OG0019833 {'Malectin-like carbohydrate-binding domain', 'receptor-like protein kinase feronia-like'}\n",
      "OG0019840 {'5 -nucleotidase sure-like', 'Survival protein SurE-like phosphatase/nucleotidase'}\n",
      "OG0019843 {'Protein kinase domain|Protein kinase-like domain|Serine/threonine- / dual specificity protein kinase, catalytic  domain|Serine/threonine-protein kinase, active site', 'g-type lectin s-receptor-like serine threonine-protein kinase at1g11330-like'}\n",
      "OG0019867 {'vacuolar-processing enzyme', 'Peptidase C13, legumain'}\n",
      "OG0019901 {'transferring glycosyl', 'Protein of unknown function DUF604'}\n",
      "OG0019981 {'lignin-forming anionic peroxidase', 'Haem peroxidase, plant/fungal/bacterial|Plant peroxidase|Haem peroxidase|Peroxidase, active site'}\n",
      "OG0019982 {'tryptophanyl-trna synthetase', 'Aminoacyl-tRNA synthetase, class Ic|Rossmann-like alpha/beta/alpha sandwich fold|Aminoacyl-tRNA synthetase, class I, conserved site'}\n",
      "OG0019985 {'Short-chain dehydrogenase/reductase SDR|Glucose/ribitol dehydrogenase|NAD(P)-binding domain', 'short-chain dehydrogenase reductase family protein'}\n",
      "OG0019986 {'40s ribosomal protein s15a-5'}\n",
      "OG0019996 {'Extensin domain'}\n",
      "OG0020111 {'protein grpe', 'GrpE nucleotide exchange factor|GrpE nucleotide exchange factor, head'}\n",
      "OG0020121 {'serine acetyltransferase', 'Serine acetyltransferase, N-terminal|Trimeric LpxA-like'}\n",
      "OG0020122 {'3-oxoacyl-', 'Beta-ketoacyl synthase, N-terminal|Beta-ketoacyl synthase, C-terminal|Thiolase-like|Thiolase-like, subgroup|Polyketide synthase, beta-ketoacyl synthase domain|3-oxoacyl-[acyl-carrier-protein] synthase 2|Beta-ketoacyl synthase, active site'}\n",
      "OG0020127 {'Cyclin, C-terminal domain'}\n",
      "OG0020144 {'histone-lysine n- h3 lysine-9 specific suvh9', 'SET domain|Pre-SET domain|Pre-SET zinc-binding sub-group', 'SET domain'}\n",
      "OG0020171 {'udp-glucose -dehydratase', 'NAD-dependent epimerase/dehydratase|NAD(P)-binding domain', 'NAD-dependent epimerase/dehydratase|P-loop containing nucleoside triphosphate hydrolase|NAD(P)-binding domain'}\n",
      "OG0020173 {'probable peptide nitrate transporter at5g62680-like', 'Proton-dependent oligopeptide transporter family|Major facilitator superfamily domain, general substrate transporter'}\n",
      "OG0020179 {'dna repair protein rad23-1', 'Ubiquitin domain|Ubiquitin-associated domain/translation elongation factor EF-Ts, N-terminal|UBA-like|Ubiquitin-associated/translation elongation factor EF1B, N-terminal, eukaryote|Ubiquitin supergroup'}\n",
      "OG0020185 {'nogo-b receptor-like', 'Decaprenyl diphosphate synthase-like'}\n",
      "OG0020268 {'nitrate transmembrane transporter'}\n",
      "OG0020270 {'protein damaged dna-binding 2'}\n",
      "OG0020278 {'caax amino terminal protease family', 'CAAX amino terminal protease'}\n",
      "OG0020281 {'Mitochondrial glycoprotein'}\n",
      "OG0020293 {'NAD(P)-binding domain', 'b-keto acyl reductase'}\n",
      "OG0020454 {'clathrin assembly protein at5g35200 isoform 1'}\n",
      "OG0020472 {'abc transporter family protein', 'ABC transporter-like|P-loop containing nucleoside triphosphate hydrolase|AAA+ ATPase domain'}\n",
      "OG0020477 {'NAD-dependent epimerase/dehydratase|NAD(P)-binding domain', 'cinnamoyl- reductase'}\n",
      "OG0020488 {'Peptide chain release factor class I/class II|Peptide chain release factor|Double-stranded RNA-binding domain', 'high chlorophyll fluorescent 109 protein'}\n",
      "OG0020508 {'Ribosomal protein L13|Ribosomal protein L13, eukaryotic/archaeal|Ribosomal protein L13 domain|Ribosomal protein L13, conserved site', '60s ribosomal protein l13a'}\n",
      "OG0020525 {'casein kinase ii subunit beta-4', 'Casein kinase II, regulatory subunit|Casein kinase II, regulatory subunit, alpha-helical'}\n",
      "OG0020533 {'Protein kinase-like domain', 'kinase-like protein'}\n",
      "OG0020611 {'hypothetical protein VITISV_023111 [Vitis vinifera]'}\n",
      "OG0020613 {'protein casp', 'CASP, C-terminal'}\n",
      "OG0020616 {'GWT1', 'uncharacterized protein at4g17910-like'}\n",
      "OG0020654 {'protein kinase like protein', 'Leucine-rich repeat|Leucine-rich repeat-containing N-terminal, type 2'}\n",
      "OG0020659 {'tir-nbs resistance protein'}\n",
      "OG0020667 {'probable protein phosphatase 2c 5-like'}\n",
      "OG0020686 {'Peptidase S10, serine carboxypeptidase', 'serine carboxypeptidase-like 45'}\n",
      "OG0020691 {'NatC N(alpha)-terminal acetyltransferase, Mak10 subunit', 'mak10-like protein'}\n",
      "OG0020693 {'Heavy metal-associated domain, HMA|NB-ARC|P-loop containing nucleoside triphosphate hydrolase'}\n",
      "OG0020697 {'Phox/Bem1p', 'octicosapeptide phox bem1p domain-containing protein'}\n",
      "OG0020698 {'Protein kinase domain|Protein kinase-like domain|Serine/threonine- / dual specificity protein kinase, catalytic  domain', 'g-type lectin s-receptor-like serine threonine-protein kinase ces101-like'}\n",
      "OG0020705 {'molybdopterin cofactor', 'Pyridoxal phosphate-dependent transferase, major region, subdomain 2'}\n",
      "OG0020715 {'glycosyl transferase family 1 protein', 'Glycosyl transferase, family 1'}\n",
      "OG0020829 {'Protein of unknown function DUF3353'}\n",
      "OG0020833 {'50s ribosomal protein l1', 'Ribosomal protein L1/ribosomal biogenesis protein|Ribosomal protein L1-like|Ribosomal protein L1, 2-layer alpha/beta-sandwich'}\n",
      "OG0020839 {'Peptidase M16, N-terminal|Peptidase M16, C-terminal domain|Metalloenzyme, LuxS/M16 peptidase-like|Peptidase M16 domain|Peptidase M16, zinc-binding site', 'probable zinc protease pqql-like'}\n",
      "OG0020863 {'Actin-related protein|Actin-related protein 8/Plant actin-related protein 9'}\n",
      "OG0020878 {'Aminoacyl-tRNA synthetase, class II (D/K/N)-like|Asparagine-tRNA ligase|OB-fold nucleic acid binding domain, AA-tRNA synthetase-type|Nucleic acid-binding, OB-fold', 'asparaginyl-trna synthetase'}\n",
      "OG0020880 {'Ankyrin repeat-containing domain|Ankyrin repeat'}\n",
      "OG0020881 {'Glycosyl hydrolases 36|Glycoside hydrolase, superfamily|Aldolase-type TIM barrel', 'galactinol--sucrose galactosyltransferase 6'}\n",
      "OG0020893 {'ran gtpase activating protein', 'Leucine-rich repeat, ribonuclease inhibitor subtype'}\n",
      "OG0020897 {'Ribosomal L11 methyltransferase, PrmA|PC-Esterase|PMR5 N-terminal domain', 'protein trichome birefringence-like 18'}\n",
      "OG0020903 {'germin-like protein subfamily 1 member'}\n",
      "OG0021031 {'6-phosphogluconate dehydrogenase', '6-phosphogluconate dehydrogenase, C-terminal|6-phosphogluconate dehydrogenase, NADP-binding|6-phosphogluconate dehydrogenase, C-terminal-like|Dehydrogenase, multihelical|Fibritin/6-phosphogluconate dehydrogenase, C-terminal extension|NAD(P)-binding domain|6-phosphogluconate dehydrogenase, decarboxylating'}\n",
      "OG0021047 {'atp-binding cassette', 'ABC-2 type transporter|P-loop containing nucleoside triphosphate hydrolase'}\n",
      "OG0021068 {'Vacuolar protein sorting-associated protein 13|Vacuolar protein sorting-associated protein 13A N-terminal domain|Pleckstrin homology-like domain'}\n",
      "OG0021082 {'glycerol-3-phosphate dehydrogenase', 'Glycerol-3-phosphate dehydrogenase, NAD-dependent|Glycerol-3-phosphate dehydrogenase, NAD-dependent, N-terminal|NAD(P)-binding domain'}\n",
      "OG0021086 {'ABC transporter-like|P-loop containing nucleoside triphosphate hydrolase', 'multidrug resistance protein'}\n",
      "OG0021104 {'Magnesium transporter NIPA'}\n",
      "OG0021120 {'Conserved hypothetical protein CHP01589, plant'}\n",
      "OG0021138 {'LisH dimerisation motif, subgroup|CTLH/CRA C-terminal to LisH motif domain|LisH dimerisation motif|CTLH, C-terminal LisH motif'}\n",
      "OG0021295 {'Major facilitator superfamily|Major facilitator superfamily domain, general substrate transporter', 'nitrate and chloride transporter'}\n",
      "OG0021304 {'nadh dehydrogenase'}\n",
      "OG0021329 {'peroxidase 10', 'Haem peroxidase, plant/fungal/bacterial|Plant peroxidase|Haem peroxidase|Peroxidases heam-ligand binding site'}\n",
      "OG0021332 {'Cytochrome P450|Cytochrome P450, E-class, group I', 'secologanin synthase-like'}\n",
      "OG0021338 {'Longin-like domain|Longin domain', 'vesicle-associated membrane protein 725'}\n",
      "OG0021538 {'Proton-dependent oligopeptide transporter family|Major facilitator superfamily domain, general substrate transporter'}\n",
      "OG0021546 {'tcp-1 cpn60 chaperonin family protein', 'Chaperonin Cpn60/TCP-1|GroEL-like equatorial domain'}\n",
      "OG0021557 {'autoinhibited h+ atpase', 'P-type ATPase, A  domain|HAD-like domain|Cation-transporting P-type ATPase|P-type ATPase,  transmembrane domain|P-type ATPase, cytoplasmic domain N|H+ transporting P-type ATPase, subfamily IIIA'}\n",
      "OG0021585 {'ring u-box domain-containing protein'}\n",
      "OG0021593 {'dihydrodipicolinate reductase 2'}\n",
      "OG0021613 {'AMP-dependent synthetase/ligase|NAC domain|AMP-binding enzyme C-terminal domain', 'acyl:coa ligase'}\n",
      "OG0021836 {'s-adenosylmethionine-dependent methyltransferase domain-containing protein', 'Methyltransferase type 11'}\n",
      "OG0021859 {'receptor protein kinase clavata1'}\n",
      "OG0021894 {'Cyclin PHO80-like|Cyclin-like|Cyclin P/U', 'cyclin-dependent protein'}\n",
      "OG0021942 {'atp binding microtubule motor family protein', 'Kinesin-like protein'}\n",
      "OG0022279 {'cop9 signalosome complex subunit 5b'}\n",
      "OG0022320 {'Malectin-like carbohydrate-binding domain', 'probable receptor-like protein kinase at5g24010-like'}\n",
      "OG0022339 {'protein transparent testa 12-like'}\n",
      "OG0022342 {'E2F Family', 'transcription factor e2f'}\n",
      "OG0022797 {'ATPase, AAA-type, core|Vacuolar protein sorting-associated protein 26|P-loop containing nucleoside triphosphate hydrolase|AAA+ ATPase domain|ATPase, AAA-type, conserved site'}\n",
      "OG0023367 {'glutamine-dependent nad(+)'}\n",
      "OG0023422 {'Harbinger transposase-derived nuclease|Harbinger transposase-derived nuclease domain'}\n"
     ]
    }
   ],
   "source": [
    "for cafe_id in rapid_cafe_fam_ids:\n",
    "    name = cafe_to_OG(cafe_id)\n",
    "    g = orthogroups[name]\n",
    "    if len(g['genes']) < 70 and g['functions']:\n",
    "        print(name, g['functions'])"
   ]
  },
  {
   "cell_type": "markdown",
   "metadata": {
    "collapsed": true
   },
   "source": [
    "# What is the Probability of Overlap in Rapid Families from exemplar_reestimate"
   ]
  },
  {
   "cell_type": "code",
   "execution_count": 1,
   "metadata": {
    "collapsed": false
   },
   "outputs": [
    {
     "data": {
      "text/plain": [
       "2799"
      ]
     },
     "execution_count": 1,
     "metadata": {},
     "output_type": "execute_result"
    }
   ],
   "source": [
    "exemplar_family_ids = [int(a) for a in   \"0,6,7,8,10,12,16,18,19,20,22,23,25,27,29,30,31,32,34,38,39,41,43,44,47,48,49,52,53,56,57,59,60,64,65,66,67,69,70,72,73,76,77,80,85,86,91,99,101,102,113,115,117,118,121,122,123,130,135,141,146,148,151,152,153,163,169,176,178,181,185,187,189,190,191,199,204,209,213,219,220,232,235,245,246,247,260,271,274,280,281,283,285,291,292,309,318,319,329,352,358,359,372,383,393,394,415,421,423,424,430,445,456,464,493,517,540,553,571,588,605,611,619,629,630,639,645,703,707,746,752,782,797,817,827,837,841,855,862,885,907,911,917,931,932,942,1014,1017,1051,1068,1069,1082,1085,1086,1112,1176,1218,1220,1246,1281,1316,1327,1368,1392,1403,1413,1423,1439,1445,1450,1472,1488,1489,1523,1606,1632,1638,1677,1689,1707,1708,1715,1792,1800,1826,1845,1848,1854,1868,1919,1937,1938,1957,2020,2031,2054,2100,2107,2237,2252,2269,2336,2391,2446,2468,2495,2521,2532,2581,2604,2609,2647,2649,2704,2720,2797,2818,2865,2874,2904,2990,3027,3033,3044,3065,3092,3212,3218,3271,3284,3289,3354,3376,3411,3446,3455,3456,3482,3485,3688,3696,3715,3731,3827,3834,3842,3847,3890,3940,4006,4019,4024,4083,4110,4113,4223,4241,4323,4341,4450,4492,4527,4789,4832,4835,4837,4957,5172,5189,5197,5573,5774,5825,5999,6097,6166,6396,6400,6421,6596,6828,6835,6844,7112,7180,7284,7357,7640,7668,7678,7713,7798,7817,7836,7846,8004,8145,8150,8153,8154,8171,8172,8309,8354,8423,8466,8483,8487,8520,8554,8698,8722,8855,8910,8951,8985,8992,9107,9228,9359,9397,9422,9441,9632,9677,9708,9738,9791,9812,9822,9825,10009,10010,10059,10246,10274,10280,10350,10537,10573,10742,10777,10806,10828,11032,11069,11260,11406,11618,11624,11703,11788,11959,12146,12147,12507,12514,12515,12546,12813,13112,13113,14031,14034,14035,14624,15153,15204,16505,16507,16514,16515,17079,17335,17499,17508,17509,17603,17741,17793,17843,17937,17950,18144,18163,18165,18182,18259,18295,18424,18433,18474,18675,18748,18923,18933,19057,19063,19083,19132,19256,19259,19263,19274,19275,19373,19428,19495,19520,19578,19584,19604,19605,19610,19755,19758,19770,19778,19893,19920,19931,19995,20056,20065,20070,20072,20074,20079,20103,20217,20221,20222,20229,20249,20380,20397,20402,20405,20416,20445,20549,20560,20569,20573,20575,20579,20580,20585,20727,20729,20738,20760,20766,20767,20768,20769,20792,20878,20912,20916,20926,20930,20934,20938,20939,20942,20944,20953,20970,20982,20985,20994,20996,21005,21015,21016,21067,21083,21144,21145,21146,21148,21152,21161,21164,21168,21169,21170,21181,21186,21191,21193,21202,21209,21210,21212,21221,21238,21374,21375,21377,21378,21383,21388,21390,21392,21396,21398,21399,21400,21403,21405,21410,21412,21414,21419,21420,21421,21423,21429,21431,21432,21437,21439,21440,21441,21443,21444,21451,21452,21454,21468,21478,21479,21510,21511,21513,21543,21554,21622,21628,21632,21635,21636,21640,21642,21645,21656,21657,21658,21659,21663,21665,21670,21673,21675,21678,21679,21681,21685,21687,21688,21690,21695,21696,21699,21705,21706,21709,21715,21716,21740,21741,21743,21744,21754,21765,21774,21795,21796,21797,21798,21800,21802,21806,21807,21951,21954,21955,21957,21959,21960,21961,21962,21963,21964,21968,21973,21974,21975,21976,21981,21987,21990,21991,21997,21999,22003,22005,22006,22008,22012,22015,22017,22018,22022,22023,22024,22025,22028,22037,22038,22039,22044,22051,22056,22057,22058,22061,22064,22066,22072,22074,22079,22080,22082,22094,22100,22101,22104,22106,22109,22112,22116,22121,22124,22125,22129,22131,22135,22139,22146,22151,22153,22154,22164,22189,22191,22193,22194,22195,22197,22198,22206,22207,22208,22213,22214,22219,22349,22350,22353,22354,22362,22363,22364,22365,22371,22375,22383,22385,22386,22391,22397,22399,22400,22401,22402,22405,22406,22407,22408,22412,22413,22414,22415,22416,22417,22419,22420,22421,22423,22424,22428,22430,22437,22439,22441,22442,22444,22445,22446,22447,22448,22450,22453,22454,22455,22458,22460,22462,22463,22464,22465,22466,22472,22474,22475,22476,22480,22484,22486,22487,22488,22490,22498,22499,22505,22506,22510,22511,22515,22519,22522,22523,22530,22531,22534,22535,22543,22550,22553,22562,22565,22566,22577,22580,22582,22584,22589,22590,22591,22593,22594,22601,22626,22627,22628,22629,22630,22632,22633,22634,22635,22636,22647,22649,22652,22653,22656,22660,22664,22665,22666,22829,22830,22831,22833,22834,22835,22836,22839,22840,22841,22842,22843,22844,22845,22849,22850,22853,22858,22860,22862,22863,22865,22866,22868,22869,22872,22874,22875,22876,22877,22878,22880,22881,22883,22884,22887,22889,22890,22893,22895,22902,22903,22905,22907,22908,22909,22914,22917,22918,22919,22920,22921,22922,22924,22925,22928,22929,22930,22933,22934,22936,22939,22942,22943,22945,22946,22947,22948,22949,22950,22952,22954,22956,22958,22960,22963,22964,22966,22967,22969,22972,22973,22975,22976,22978,22979,22981,22986,22987,22992,22996,22997,23000,23001,23007,23008,23011,23014,23018,23021,23025,23032,23038,23039,23040,23041,23042,23044,23052,23055,23056,23057,23059,23062,23063,23064,23068,23069,23071,23072,23073,23074,23076,23080,23081,23082,23084,23086,23089,23098,23104,23106,23110,23116,23117,23118,23120,23122,23127,23129,23131,23132,23135,23141,23142,23144,23145,23147,23153,23205,23207,23208,23210,23211,23212,23213,23214,23219,23221,23223,23224,23225,23226,23227,23228,23229,23230,23232,23233,23234,23249,23250,23252,23253,23254,23255,23256,23257,23258,23260,23261,23262,23271,23274,23275,23276,23289,23290,23296,23297,23518,23519,23521,23522,23524,23525,23529,23530,23532,23533,23535,23537,23538,23541,23542,23545,23546,23547,23550,23551,23552,23553,23555,23556,23557,23558,23560,23563,23564,23565,23566,23567,23569,23570,23571,23573,23575,23576,23581,23582,23587,23593,23595,23598,23599,23601,23602,23603,23608,23610,23612,23616,23617,23618,23620,23622,23624,23627,23630,23632,23640,23641,23642,23644,23648,23649,23650,23651,23654,23655,23656,23657,23658,23660,23662,23663,23665,23666,23667,23669,23670,23671,23672,23673,23674,23676,23677,23678,23680,23681,23682,23683,23687,23688,23689,23693,23695,23696,23697,23699,23702,23704,23705,23711,23712,23713,23716,23717,23718,23719,23720,23721,23722,23723,23724,23726,23728,23729,23730,23731,23736,23739,23749,23751,23752,23754,23758,23760,23764,23765,23769,23775,23777,23778,23779,23781,23782,23783,23785,23787,23788,23789,23790,23791,23796,23798,23799,23801,23807,23809,23811,23812,23814,23816,23819,23821,23822,23823,23824,23826,23829,23831,23835,23836,23837,23845,23846,23854,23865,23869,23870,23873,23876,23884,23885,23888,23897,23900,23902,23904,23905,23906,23907,23909,23915,23921,23925,23926,23927,23929,23931,23933,23935,23940,23944,24018,24021,24022,24023,24025,24026,24027,24028,24029,24030,24031,24033,24035,24036,24038,24039,24040,24041,24044,24048,24050,24051,24052,24054,24055,24056,24057,24058,24059,24060,24061,24062,24063,24064,24107,24108,24109,24110,24111,24112,24113,24114,24115,24116,24117,24118,24119,24122,24123,24125,24126,24127,24131,24133,24136,24138,24140,24142,24143,24144,24145,24146,24147,24149,24150,24151,24152,24154,24155,24159,24160,24161,24163,24167,24168,24170,24173,24175,24177,24187,24192,24194,24195,24196,24197,24198,24200,24201,24202,24203,24204,24207,24208,24210,24211,24212,24214,24215,24479,24481,24483,24485,24486,24487,24488,24489,24490,24491,24493,24495,24496,24499,24500,24501,24502,24506,24507,24508,24511,24512,24513,24514,24516,24518,24519,24521,24522,24523,24527,24528,24529,24530,24532,24535,24536,24537,24538,24539,24540,24541,24542,24543,24544,24545,24548,24549,24550,24551,24553,24554,24555,24557,24558,24560,24561,24563,24564,24565,24566,24567,24568,24570,24571,24575,24577,24578,24580,24583,24584,24587,24590,24592,24593,24595,24597,24601,24606,24607,24608,24610,24611,24612,24613,24614,24615,24616,24618,24619,24620,24621,24622,24623,24624,24625,24627,24628,24631,24632,24634,24635,24636,24639,24640,24643,24644,24645,24648,24649,24650,24654,24656,24657,24659,24661,24662,24663,24664,24666,24670,24671,24673,24674,24676,24677,24679,24680,24681,24682,24683,24684,24687,24688,24690,24692,24693,24694,24696,24698,24699,24700,24701,24703,24704,24706,24709,24710,24711,24715,24717,24721,24724,24726,24727,24731,24734,24735,24736,24737,24738,24740,24741,24742,24743,24745,24746,24747,24748,24749,24750,24751,24752,24755,24756,24757,24759,24761,24763,24765,24767,24768,24769,24773,24774,24776,24778,24780,24781,24782,24783,24784,24785,24786,24787,24788,24790,24791,24792,24793,24794,24795,24796,24797,24798,24799,24800,24802,24803,24804,24805,24806,24809,24810,24811,24812,24813,24816,24817,24819,24820,24821,24822,24824,24826,24827,24828,24831,24832,24834,24835,24836,24837,24839,24841,24843,24844,24845,24846,24848,24851,24852,24853,24854,24855,24856,24857,24858,24859,24861,24862,24863,24864,24865,24866,24867,24870,24872,24873,24874,24875,24876,24878,24879,24883,24884,24890,24905,24909,24915,24916,24917,24921,24934,24940,24952,24955,24962,24967,24971,24977,24981,24991,24994,24999,25001,25003,25004,25005,25007,25008,25009,25010,25011,25013,25014,25015,25016,25017,25018,25021,25022,25024,25026,25027,25028,25031,25032,25033,25036,25037,25038,25040,25042,25043,25044,25045,25046,25047,25049,25051,25052,25053,25054,25058,25059,25060,25062,25063,25064,25065,25068,25069,25070,25072,25073,25074,25077,25080,25082,25083,25084,25085,25186,25189,25190,25193,25194,25195,25196,25197,25198,25199,25200,25201,25202,25203,25204,25205,25207,25208,25209,25210,25211,25213,25214,25215,25216,25217,25218,25219,25220,25221,25225,25226,25227,25228,25230,25231,25233,25234,25235,25236,25237,25238,25239,25240,25320,25322,25323,25324,25325,25326,25327,25328,25329,25330,25331,25332,25333,25334,25335,25336,25338,25339,25340,25341,25342,25343,25344,25346,25347,25348,25350,25351,25352,25353,25354,25355,25357,25358,25360,25361,25362,25363,25364,25365,25366,25367,25368,25369,25370,25371,25372,25373,25374,25375,25377,25378,25379,25380,25381,25382,25383,25385,25386,25387,25388,25389,25390,25391,25392,25394,25395,25397,25398,25399,25400,25401,25402,25403,25404,25405,25406,25407,25408,25409,25410,25411,25412,25413,25416,25417,25418,25419,25420,25421,25422,25423,25424,25425,25426,25427,25430,25431,25432,25433,25434,25438,25439,25440,25441,25442,25443,25444,25445,25447,25448,25449,25450,25451,25452,25453,25454,25455,25457,25458,25461,25462,25463,25465,25466,25467,25468,25469,25471,25472,25473,25474,25475,25476,25480,25481,25482,25484,25488,25528,25529,25530,25531,25533,25535,25536,25537,25538,25539,25541,25542,25543,25544,25545,25546,25547,25549,25551,25553,25556,25559,25560,25561,25562,25564,25565,25567,25569,25570,25572,25575,25576,25578,25579,25581,25582,25583,25584,25585,25586,25587,25588,25589,25591,25592,25593,25594,25595,25596,25597,25598,25599,25601,25602,25603,25606,25607,25608,25609,25611,25612,25613,25615,25616,25617,25623,25625,26063,26064,26065,26066,26067,26068,26069,26070,26072,26073,26074,26075,26076,26078,26080,26081,26083,26084,26085,26086,26087,26088,26091,26092,26093,26094,26095,26096,26097,26098,26099,26101,26102,26103,26104,26106,26107,26108,26111,26112,26114,26115,26116,26117,26118,26119,26120,26121,26122,26123,26124,26125,26126,26127,26128,26129,26131,26132,26133,26134,26135,26136,26137,26139,26140,26142,26143,26144,26145,26146,26147,26148,26150,26151,26152,26153,26155,26156,26157,26158,26159,26160,26161,26162,26163,26165,26166,26167,26168,26169,26170,26171,26172,26173,26175,26177,26178,26180,26181,26182,26184,26185,26186,26187,26189,26190,26191,26192,26193,26194,26195,26196,26197,26198,26199,26200,26201,26202,26203,26204,26205,26206,26418,26419,26420,26421,26424,26425,26426,26427,26428,26429,26430,26431,26432,26434,26435,26436,26439,26441,26443,26444,26445,26446,26449,26451,26453,26457,26458,26460,26463,26464,26465,26466,26467,26469,26470,26471,26475,26476,26477,26479,26481,26482,26485,26486,26487,26489,26492,26494,26495,26496,26497,26500,26501,26503,26504,26505,26507,26508,26509,26511,26512,26513,26514,26516,26517,26519,26520,26521,26522,26523,26524,26528,26530,26532,26533,26534,26535,26536,26537,26538,26540,26543,26544,26545,26546,26547,26549,26552,26554,26556,26557,26559,26560,26561,26563,26564,26565,26569,26573,26574,26575,26576,26578,26579,26580,26581,26584,26585,26586,26587,26588,26589,26590,26591,26592,26593,26596,26598,26600,26601,26603,26604,26605,26607,26608,26609,26610,26611,26612,26613,26615,26618,26620,26622,26623,26625,26626,26627,26628,26629,26630,26631,26632,26633,26634,26635,26636,26638,26639,26640,26641,26642,26643,26645,26646,26647,26648,26649,26651,26652,26654,26656,26657,26658,26660,26663,26664,26667,26668,26669,26670,26671,26672,26675,26677,26678,26680,26682,26683,26684,26685,26686,26687,26688,26689,26690,26692,26693,26694,26696,26698,26700,26701,26702,26703,26705,26706,26707,26709,26710,26713,26714,26715,26716,26717,26718,26719,26721,26722,26723,26730,26731,26732,26735,26737,26738,26740,26741,26743,26744,26749,26751,26752,26753,26754,26757,26759,26763,26766,26767,26769,26771,26772,26775,26777,26779,26780,26781,26782,26984,26985,26986,26988,26989,26991,26992,26993,26994,26995,26996,26997,26998,26999,27000,27001,27002,27004,27006,27009,27010,27013,27014,27015,27017,27018,27019,27020,27021,27022,27023,27025,27026,27028,27029,27030,27031,27032,27033,27034,27035,27036,27037,27038,27039,27041,27042,27043,27044,27045,27046,27047,27048,27049,27050,27051,27054,27055,27056,27057,27058,27059,27060,27061,27062,27064,27065,27066,27068,27069,27228,27229,27230,27231,27232,27233,27234,27236,27237,27238,27239,27240,27241,27242,27243,27244,27245,27246,27248,27249,27250,27251,27253,27254,27256,27257,27258,27259,27260,27261,27262,27263,27264,27265,27266,27267,27268,27269,27270,27271,27272,27273,27274,27275,27276,27277,27278,27279,27280,27281,27282,27283,27284,27286,27287,27288,27289,27290,27291,27292,27294,27296,27297,27298,27299,27300,27301,27302,27304,27305,27306,27307,27308,27309,27310,27311,27312,27313,27314,27315,27316,27317,27318,27319,27321,27322,27323,27324,27325,27327,27329,27330,27331,27332,27333,27335,27336,27337,27338,27341,27343,27344,27345,27346,27347,27348,27352,27355,27356,27358,27360,27363,27364,27365,27366,27368,27370,27371,27373,27374,27375,27376,27378,27379,27380,27381,27382,27383,27384,27387,27388,27389,27390,27391,27392,27393,27395,27396,27398,27399,27400,27401,27402,27404,27406,27407,27408,27409,27410,27412,27413,27414,27415,27417,27419,27422,27423,27424,27425,27426,27427,27428,27429,27430,27431,27432,27433,27434,27435,27436,27437,27440,27441,27442,27444,27445,27447,27448,27449,27450,27451,27452,27453,27454,27455,27456,27457,27458,27459,27460,27461,27463,27464,27465,27466,27467,27468,27470,27471,27472,27473,27474,27475,27477,27478,27479,27480,27481,27482,27483,27484,27485,27486,27487,27488,27489,27490,27491,27492,27493,27494,27495,27496,27499,27500,27501,27502,27503,27504,27505,27506,27507,27508,27509,27510,27511,27512,27513,27514,27516,27517,27518,27519,27520,27521,27522,27523,27525,27526,27529,27531,27532,27536,27537,27538,27539,27541,27542,27543,27544,27545,27546,27548,27549,27550,27551,27552,27553,27554,27555,27556,27558,27561,27562,27563,27564,27705,27706,27708,27709,27710,27711,27713,27714,27715,27716,27717,27718,27719,27720,27722,27724,27725,27726,27728,27729,27730,27732,27733,27734,27737,27739,27744,27745,27746,27747,27750,27752,27753,27754,27755,27756,27757,27761,27763,27764,27765,27768,27771,27772,27773,27776,27777,27780,27781,27782,27783,27786,27789,27791,27792,27794,27795,27797,27798,27799,27800,27802,27806,27807,27810,27813,27815,27817,27819,27821,27822,27825,27827,27828,27831,27832,27833,27834,27835,27836,27837,27838,27839,27842,27844,27848,27849,27852,27853,27854,27855,27856,27857,27858,27859,27860,27861,27862,27863,27864,27865,27866,27867,27868,27870,27871,27872,27873,27874,27875,27876,27877,27878,27881,27883,27884,27886,27887,27888,27889,27890,27891,27893,27895,27896,27897,27898,27899,27900,27901,27903,27906,27907,27908,27909,27910,27912,27913,27914,27915,27917,27918,27920,27921,27922,27924,27925,27926,27927,27929,27931,27932,27934,27935,27936,27937,27938,27939,27940,27942,27943,27944,27945,27946,27947,27948,27949,27950,27951,27952,27953,27954,27955,27956,27957,27958,27960,27961,27962,27963,27964,27965,27966,27967,27968,27969,27970,27971,27972,27973,27974,27975,27976,27977,27978,27979,27980,27982,27983,27984,27985,27987,27988,27989,27991,27992,27993,27994,27995,27996,27997,27999,28000,28002,28003,28004,28005,28006,28007,28008,28009,28010,28011,28012,28013,28016,28018,28019,28021,28027,28030\".split(',')]\n",
    "len(exemplar_family_ids)"
   ]
  },
  {
   "cell_type": "code",
   "execution_count": 3,
   "metadata": {
    "collapsed": false
   },
   "outputs": [
    {
     "data": {
      "text/plain": [
       "417"
      ]
     },
     "execution_count": 3,
     "metadata": {},
     "output_type": "execute_result"
    }
   ],
   "source": [
    "both = set(rapid_cafe_fam_ids).intersection(set(exemplar_family_ids))\n",
    "len(both)"
   ]
  },
  {
   "cell_type": "markdown",
   "metadata": {},
   "source": [
    "417 families show as rapidly evolving in both studies.  Is this more than would be expected by chance for 28,330 families choose 2799?"
   ]
  },
  {
   "cell_type": "code",
   "execution_count": 7,
   "metadata": {
    "collapsed": false
   },
   "outputs": [
    {
     "data": {
      "text/plain": [
       "198"
      ]
     },
     "execution_count": 7,
     "metadata": {},
     "output_type": "execute_result"
    }
   ],
   "source": [
    "perc_coverage = len(exemplar_family_ids) / 28330\n",
    "sample_size = len(rapid_cafe_fam_ids) \n",
    "int(perc_coverage * sample_size) #expected"
   ]
  },
  {
   "cell_type": "markdown",
   "metadata": {
    "collapsed": true
   },
   "source": [
    "Is 417 vs 198 a significant difference?  Turn it into an e-value.  Of course that assumes even distribution, which is certainly not true."
   ]
  },
  {
   "cell_type": "code",
   "execution_count": 9,
   "metadata": {
    "collapsed": false
   },
   "outputs": [],
   "source": [
    "from scipy.stats import hypergeom"
   ]
  },
  {
   "cell_type": "code",
   "execution_count": 23,
   "metadata": {
    "collapsed": false
   },
   "outputs": [
    {
     "data": {
      "text/plain": [
       "4.4316823542468676e-52"
      ]
     },
     "execution_count": 23,
     "metadata": {},
     "output_type": "execute_result"
    }
   ],
   "source": [
    "#pval = hypergeom.sf(k-1, M, n, N)\n",
    "hypergeom.sf(417-1, 28330, len(rapid_cafe_fam_ids), len(exemplar_family_ids))  # pval assuming even distribution"
   ]
  },
  {
   "cell_type": "code",
   "execution_count": 22,
   "metadata": {
    "collapsed": false
   },
   "outputs": [
    {
     "data": {
      "text/plain": [
       "0.00039171627596047172"
      ]
     },
     "execution_count": 22,
     "metadata": {},
     "output_type": "execute_result"
    }
   ],
   "source": [
    "hypergeom.sf(7-1, 100, 20, 10)"
   ]
  },
  {
   "cell_type": "code",
   "execution_count": 65,
   "metadata": {
    "collapsed": false
   },
   "outputs": [],
   "source": [
    "exemplar_orthogroup_sizes = {}\n",
    "with open(r\"CAFE-4.2\\data\\exemplars\\exemplar_clade_filter.txt\", newline='' ) as csvfile:\n",
    "    reader = csv.reader(csvfile, delimiter='\\t')\n",
    "    next(reader, None)  # skip the headers\n",
    "    for nLines, row in enumerate(reader):\n",
    "        counts = [int(c) for c in row[2:]]\n",
    "        exemplar_orthogroup_sizes[row[0]] = sum(counts)"
   ]
  },
  {
   "cell_type": "code",
   "execution_count": 68,
   "metadata": {
    "collapsed": false
   },
   "outputs": [
    {
     "data": {
      "text/plain": [
       "(22457, [7564, 11050, 10871, 16919, 18003, 22319, 17963, 18567, 4593, 16837])"
      ]
     },
     "execution_count": 68,
     "metadata": {},
     "output_type": "execute_result"
    }
   ],
   "source": [
    "all_gene_ids = [int(fam_str[2:]) for fam_str in exemplar_orthogroup_sizes.keys()]\n",
    "len(all_gene_ids), all_gene_ids[:10]"
   ]
  },
  {
   "cell_type": "code",
   "execution_count": 69,
   "metadata": {
    "collapsed": false
   },
   "outputs": [],
   "source": [
    "def filter_by_family_size(A, max_family_size):\n",
    "    filtered = set()\n",
    "    for cafe_id in A:\n",
    "        name = cafe_to_OG(cafe_id)\n",
    "        g = orthogroups[name]\n",
    "        if len(g['genes']) < max_family_size:\n",
    "            filtered.add(cafe_id)\n",
    "    return filtered\n",
    "\n",
    "def gene_overlap_prob(A, B, max_family_size):\n",
    "    n_families = len(filter_by_family_size(all_gene_ids, max_family_size))\n",
    "    A = filter_by_family_size(A, max_family_size)\n",
    "    B = filter_by_family_size(B, max_family_size)\n",
    "    intersect = len(set(A).intersection(set(B)))\n",
    "    return hypergeom.sf(intersect-1, n_families, len(A), len(B))  # pval assuming even distribution"
   ]
  },
  {
   "cell_type": "code",
   "execution_count": 70,
   "metadata": {
    "collapsed": false
   },
   "outputs": [
    {
     "data": {
      "text/plain": [
       "7.4840076900816129e-24"
      ]
     },
     "execution_count": 70,
     "metadata": {},
     "output_type": "execute_result"
    }
   ],
   "source": [
    "gene_overlap_prob(rapid_cafe_fam_ids, exemplar_family_ids, 300)"
   ]
  },
  {
   "cell_type": "code",
   "execution_count": 71,
   "metadata": {
    "collapsed": false
   },
   "outputs": [],
   "source": [
    "def overlap(A,B, max_family_size):\n",
    "    A = filter_by_family_size(A, max_family_size)\n",
    "    B = filter_by_family_size(B, max_family_size)\n",
    "    return len(set(A).intersection(set(B)))\n",
    "overlap_line = [overlap(rapid_cafe_fam_ids, exemplar_family_ids, i) for i in range(2, 300)]"
   ]
  },
  {
   "cell_type": "code",
   "execution_count": 72,
   "metadata": {
    "collapsed": true
   },
   "outputs": [],
   "source": [
    "prob_line = [gene_overlap_prob(rapid_cafe_fam_ids, exemplar_family_ids, i) for i in range(2, 300)]"
   ]
  },
  {
   "cell_type": "code",
   "execution_count": null,
   "metadata": {
    "collapsed": true
   },
   "outputs": [],
   "source": [
    "%matplotlib inline\n",
    "import matplotlib.pyplot as plt\n",
    "plt.style.use('seaborn-whitegrid')"
   ]
  },
  {
   "cell_type": "code",
   "execution_count": 73,
   "metadata": {
    "collapsed": false
   },
   "outputs": [
    {
     "data": {
      "text/plain": [
       "<matplotlib.text.Text at 0x12c6c828>"
      ]
     },
     "execution_count": 73,
     "metadata": {},
     "output_type": "execute_result"
    },
    {
     "name": "stderr",
     "output_type": "stream",
     "text": [
      "d:\\josiah\\projects\\jupyter\\lib\\site-packages\\matplotlib\\scale.py:93: RuntimeWarning: invalid value encountered in less_equal\n",
      "  mask = a <= 0.0\n"
     ]
    },
    {
     "data": {
      "image/png": "[encoded data removed]",
      "text/plain": [
       "<matplotlib.figure.Figure at 0x12ca5160>"
      ]
     },
     "metadata": {},
     "output_type": "display_data"
    }
   ],
   "source": [
    "fig = plt.figure()\n",
    "plt.semilogy(list(range(len(prob_line))), prob_line)\n",
    "plt.ylabel(\"Overlap P-Value\")\n",
    "plt.xlabel(\"Maximum Family Size\")"
   ]
  },
  {
   "cell_type": "code",
   "execution_count": 74,
   "metadata": {
    "collapsed": false
   },
   "outputs": [
    {
     "data": {
      "text/plain": [
       "[<matplotlib.lines.Line2D at 0x28d25aba8>]"
      ]
     },
     "execution_count": 74,
     "metadata": {},
     "output_type": "execute_result"
    },
    {
     "data": {
      "image/png": "[encoded data removed]",
      "text/plain": [
       "<matplotlib.figure.Figure at 0x28d2625c0>"
      ]
     },
     "metadata": {},
     "output_type": "display_data"
    }
   ],
   "source": [
    "fig2 = plt.figure()\n",
    "plt.plot(list(range(len(overlap_line))), overlap_line)"
   ]
  },
  {
   "cell_type": "code",
   "execution_count": 43,
   "metadata": {
    "collapsed": false
   },
   "outputs": [
    {
     "data": {
      "text/plain": [
       "[<matplotlib.lines.Line2D at 0x12c2eda0>]"
      ]
     },
     "execution_count": 43,
     "metadata": {},
     "output_type": "execute_result"
    },
    {
     "data": {
      "image/png": "[encoded data removed]",
      "text/plain": [
       "<matplotlib.figure.Figure at 0x13833978>"
      ]
     },
     "metadata": {},
     "output_type": "display_data"
    }
   ],
   "source": [
    "fig = plt.figure()\n",
    "plt.semilogy(list(range(len(prob_line))), prob_line)"
   ]
  },
  {
   "cell_type": "code",
   "execution_count": 44,
   "metadata": {
    "collapsed": false
   },
   "outputs": [
    {
     "data": {
      "text/plain": [
       "[<matplotlib.lines.Line2D at 0x13d022e8>]"
      ]
     },
     "execution_count": 44,
     "metadata": {},
     "output_type": "execute_result"
    },
    {
     "data": {
      "image/png": "[encoded data removed]",
      "text/plain": [
       "<matplotlib.figure.Figure at 0x13585940>"
      ]
     },
     "metadata": {},
     "output_type": "display_data"
    }
   ],
   "source": [
    "fig2 = plt.figure()\n",
    "plt.plot(list(range(len(overlap_line))), overlap_line)"
   ]
  },
  {
   "cell_type": "code",
   "execution_count": null,
   "metadata": {
    "collapsed": true
   },
   "outputs": [],
   "source": []
  },
  {
   "cell_type": "code",
   "execution_count": null,
   "metadata": {
    "collapsed": true
   },
   "outputs": [],
   "source": []
  }
 ],
 "metadata": {
  "kernelspec": {
   "display_name": "Python 3",
   "language": "python",
   "name": "python3"
  },
  "language_info": {
   "codemirror_mode": {
    "name": "ipython",
    "version": 3
   },
   "file_extension": ".py",
   "mimetype": "text/x-python",
   "name": "python",
   "nbconvert_exporter": "python",
   "pygments_lexer": "ipython3",
   "version": "3.4.3"
  }
 },
 "nbformat": 4,
 "nbformat_minor": 1
}
