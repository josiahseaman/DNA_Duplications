{
 "cells": [
  {
   "cell_type": "code",
   "execution_count": 3,
   "metadata": {
    "collapsed": true
   },
   "outputs": [],
   "source": [
    "from newick import loads\n",
    "ordered_names = loads('((((((((((((FRAX30:2,FRAX32:2)<1>:1,FRAX28:3)<3>:2,FRAX12:5)<5>:4,(FRAX07:8,FRAX29:8)<9>:1)<7>:4,FRAX08:13)<11>:1,(((((FRAX01:2,FRAX16:2)<15>:4,FRAX15:6)<17>:2,FRAX00:8)<19>:2,(FRAX06:9,FRAX23:9)<23>:1)<21>:3,FRAX25:13)<25>:1)<13>:3,FRAX21:17)<27>:2,(((FRAX19:8,FRAX20:8)<31>:2,((FRAX11:5,FRAX27:5)<35>:4,FRAX04:9)<37>:1)<33>:1,(((((FRAX03:1,FRAX09:1)<41>:1,FRAX13:2)<43>:2,(FRAX26:2,FRAX14:2)<47>:2)<45>:3,FRAX05:7)<49>:2,FRAX33:9)<51>:2)<39>:8)<29>:15,FRAX31:34)<53>:2,Oeuropea:36)<55>:1,empty:37)<57>:42,(Slycopersicum:37,Mguttatus:37)<61>:42)<59>')[0]\n",
    "def create_ordered_nodes(verbose=False):\n",
    "    ordered_nodes = []\n",
    "    for node in ordered_names.walk(mode=\"preorder\"):\n",
    "        if verbose:\n",
    "            print(node.name, node.length)\n",
    "        ordered_nodes.append({'name': node.name, 'length':node.length,})\n",
    "    return ordered_nodes\n",
    "ordered_nodes = create_ordered_nodes(False)\n",
    "\n",
    "ordered_nodes"
   ]
  },
  {
   "cell_type": "code",
   "execution_count": 5,
   "metadata": {
    "collapsed": false
   },
   "outputs": [
    {
     "data": {
      "text/plain": [
       "'<59> <57> <55> <53> <29> <27> <13> <11> <7> <5> <3> <1> FRAX30 FRAX32 FRAX28 FRAX12 <9> FRAX07 FRAX29 FRAX08 <25> <21> <19> <17> <15> FRAX01 FRAX16 FRAX15 FRAX00 <23> FRAX06 FRAX23 FRAX25 FRAX21 <39> <33> <31> FRAX19 FRAX20 <37> <35> FRAX11 FRAX27 FRAX04 <51> <49> <45> <43> <41> FRAX03 FRAX09 FRAX13 <47> FRAX26 FRAX14 FRAX05 FRAX33 FRAX31 Oeuropea empty <61> Slycopersicum Mguttatus'"
      ]
     },
     "execution_count": 5,
     "metadata": {},
     "output_type": "execute_result"
    }
   ],
   "source": [
    "' '.join([n['name'] for n in ordered_nodes])"
   ]
  },
  {
   "cell_type": "code",
   "execution_count": 6,
   "metadata": {
    "collapsed": false
   },
   "outputs": [
    {
     "data": {
      "text/plain": [
       "'FRAX30 FRAX32 <1> FRAX28 <3> FRAX12 <5> FRAX07 FRAX29 <9> <7> FRAX08 <11> FRAX01 FRAX16 <15> FRAX15 <17> FRAX00 <19> FRAX06 FRAX23 <23> <21> FRAX25 <25> <13> FRAX21 <27> FRAX19 FRAX20 <31> FRAX11 FRAX27 <35> FRAX04 <37> <33> FRAX03 FRAX09 <41> FRAX13 <43> FRAX26 FRAX14 <47> <45> FRAX05 <49> FRAX33 <51> <39> <29> FRAX31 <53> Oeuropea <55> empty <57> Slycopersicum Mguttatus <61> <59>'"
      ]
     },
     "execution_count": 6,
     "metadata": {},
     "output_type": "execute_result"
    }
   ],
   "source": [
    "' '.join([n.name for n in ordered_names.walk(mode=\"postorder\")])"
   ]
  },
  {
   "cell_type": "markdown",
   "metadata": {},
   "source": [
    "Postorder doesn't seem useful.  It's also not simply reversed preorder.  "
   ]
  },
  {
   "cell_type": "markdown",
   "metadata": {},
   "source": [
    "** At each node, walk in preorder, but note what \"left child\" is in the tree (this is the path not taken yet).  Drop first pixel when entering scope via preorder.  Drop second pixel when preorder reaches \"left child\" because then we know it is leaving the scope of right child at that point.  Root has no left sibling, only end of loop.**"
   ]
  },
  {
   "cell_type": "code",
   "execution_count": null,
   "metadata": {
    "collapsed": true
   },
   "outputs": [],
   "source": []
  }
 ],
 "metadata": {
  "kernelspec": {
   "display_name": "Python 3",
   "language": "python",
   "name": "python3"
  },
  "language_info": {
   "codemirror_mode": {
    "name": "ipython",
    "version": 3
   },
   "file_extension": ".py",
   "mimetype": "text/x-python",
   "name": "python",
   "nbconvert_exporter": "python",
   "pygments_lexer": "ipython3",
   "version": "3.4.3"
  }
 },
 "nbformat": 4,
 "nbformat_minor": 1
}
