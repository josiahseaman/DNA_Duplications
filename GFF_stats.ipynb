{
 "cells": [
  {
   "cell_type": "markdown",
   "metadata": {},
   "source": [
    "# Using GFF files to gather gene annotation Statistics\n",
    "\n",
    "Excelsior is the only de novo Augustus gene annotation.  The rest of the files  are Gemoma searches for matches to excelsior genes.  That means:  \n",
    "* Excelsior will be biased to have more genes than any other genome\n",
    "* Possibly missing a lot of unique content\n",
    "* This is most useful for consensus comparisons\n",
    "* Data comes pre-built with Gene families\n",
    "* Excelsior should not be grouped into the analysis because it's data source characteristics are fundamentally different"
   ]
  },
  {
   "cell_type": "code",
   "execution_count": 2,
   "metadata": {
    "collapsed": false
   },
   "outputs": [
    {
     "data": {
      "text/plain": [
       "['../gff_files_for_diploid_taxa\\\\FRAX01_predicted_annotation.gff',\n",
       " '../gff_files_for_diploid_taxa\\\\FRAX03_predicted_annotation.gff',\n",
       " '../gff_files_for_diploid_taxa\\\\FRAX04_predicted_annotation.gff',\n",
       " '../gff_files_for_diploid_taxa\\\\FRAX05_predicted_annotation.gff',\n",
       " '../gff_files_for_diploid_taxa\\\\FRAX06_predicted_annotation.gff',\n",
       " '../gff_files_for_diploid_taxa\\\\FRAX07_predicted_annotation.gff',\n",
       " '../gff_files_for_diploid_taxa\\\\FRAX08_predicted_annotation.gff',\n",
       " '../gff_files_for_diploid_taxa\\\\FRAX09_predicted_annotation.gff',\n",
       " '../gff_files_for_diploid_taxa\\\\FRAX10_predicted_annotation.gff',\n",
       " '../gff_files_for_diploid_taxa\\\\FRAX11_predicted_annotation.gff',\n",
       " '../gff_files_for_diploid_taxa\\\\FRAX12_predicted_annotation.gff',\n",
       " '../gff_files_for_diploid_taxa\\\\FRAX13_predicted_annotation.gff',\n",
       " '../gff_files_for_diploid_taxa\\\\FRAX14_predicted_annotation.gff',\n",
       " '../gff_files_for_diploid_taxa\\\\FRAX15_predicted_annotation.gff',\n",
       " '../gff_files_for_diploid_taxa\\\\FRAX16_predicted_annotation.gff',\n",
       " '../gff_files_for_diploid_taxa\\\\FRAX19_predicted_annotation.gff',\n",
       " '../gff_files_for_diploid_taxa\\\\FRAX20_predicted_annotation.gff',\n",
       " '../gff_files_for_diploid_taxa\\\\FRAX21_predicted_annotation.gff',\n",
       " '../gff_files_for_diploid_taxa\\\\FRAX23_predicted_annotation.gff',\n",
       " '../gff_files_for_diploid_taxa\\\\FRAX25_predicted_annotation.gff',\n",
       " '../gff_files_for_diploid_taxa\\\\FRAX26_predicted_annotation.gff',\n",
       " '../gff_files_for_diploid_taxa\\\\FRAX27_predicted_annotation.gff',\n",
       " '../gff_files_for_diploid_taxa\\\\FRAX28_predicted_annotation.gff',\n",
       " '../gff_files_for_diploid_taxa\\\\FRAX29_predicted_annotation.gff',\n",
       " '../gff_files_for_diploid_taxa\\\\FRAX30_predicted_annotation.gff',\n",
       " '../gff_files_for_diploid_taxa\\\\FRAX31_predicted_annotation.gff',\n",
       " '../gff_files_for_diploid_taxa\\\\FRAX32_predicted_annotation.gff',\n",
       " '../gff_files_for_diploid_taxa\\\\FRAX33_predicted_annotation.gff',\n",
       " '../gff_files_for_diploid_taxa\\\\Fraxinus_excelsior_38873_TGAC_v2.gff3']"
      ]
     },
     "execution_count": 2,
     "metadata": {},
     "output_type": "execute_result"
    }
   ],
   "source": [
    "from glob import glob\n",
    "\n",
    "glob('../gff_files_for_diploid_taxa/*')"
   ]
  },
  {
   "cell_type": "code",
   "execution_count": 3,
   "metadata": {
    "collapsed": false
   },
   "outputs": [
    {
     "data": {
      "text/plain": [
       "30"
      ]
     },
     "execution_count": 3,
     "metadata": {},
     "output_type": "execute_result"
    }
   ],
   "source": [
    "len('../gff_files_for_diploid_taxa\\\\')"
   ]
  },
  {
   "cell_type": "markdown",
   "metadata": {},
   "source": [
    "### Line Counts as a measure of gene annotations"
   ]
  },
  {
   "cell_type": "code",
   "execution_count": 16,
   "metadata": {
    "collapsed": false,
    "scrolled": true
   },
   "outputs": [
    {
     "name": "stdout",
     "output_type": "stream",
     "text": [
      "Excelsior \t38,949\n"
     ]
    }
   ],
   "source": [
    "excelsior_gene_count = open('../gff_files_for_diploid_taxa\\\\Fraxinus_excelsior_38873_TGAC_v2.gff3', 'r').read().count('gene')\n",
    "print('Excelsior', '\\t{:,}'.format(excelsior_gene_count))"
   ]
  },
  {
   "cell_type": "code",
   "execution_count": 25,
   "metadata": {
    "collapsed": false
   },
   "outputs": [
    {
     "name": "stdout",
     "output_type": "stream",
     "text": [
      "FRAX01 38,773 99.55%\n",
      "FRAX03 38,722 99.42%\n",
      "FRAX04 38,671 99.29%\n",
      "FRAX05 38,690 99.34%\n",
      "FRAX06 38,769 99.54%\n",
      "FRAX07 38,721 99.41%\n",
      "FRAX08 38,739 99.46%\n",
      "FRAX09 38,716 99.40%\n",
      "FRAX10 38,716 99.40%\n",
      "FRAX11 38,658 99.25%\n",
      "FRAX12 38,741 99.47%\n",
      "FRAX13 38,712 99.39%\n",
      "FRAX14 38,697 99.35%\n",
      "FRAX15 38,757 99.51%\n",
      "FRAX16 38,750 99.49%\n",
      "FRAX19 38,684 99.32%\n",
      "FRAX20 38,663 99.27%\n",
      "FRAX21 38,680 99.31%\n",
      "FRAX23 38,766 99.53%\n",
      "FRAX25 38,689 99.33%\n",
      "FRAX26 38,705 99.37%\n",
      "FRAX27 38,654 99.24%\n",
      "FRAX28 38,716 99.40%\n",
      "FRAX29 38,741 99.47%\n",
      "FRAX30 38,719 99.41%\n",
      "FRAX31 38,639 99.20%\n",
      "FRAX32 38,719 99.41%\n",
      "FRAX33 38,705 99.37%\n"
     ]
    }
   ],
   "source": [
    "line_counts = {}\n",
    "for filename in glob('../gff_files_for_diploid_taxa/*.gff'):\n",
    "    with open(filename, 'r') as gff:\n",
    "        lines = gff.read().count('_cds0')  # only count the first entry for each gene\n",
    "        line_counts[filename[29:]] = lines\n",
    "        print(filename[30:36], '{:,}'.format(lines), '{:.2%}'.format(lines / excelsior_gene_count))"
   ]
  },
  {
   "cell_type": "markdown",
   "metadata": {},
   "source": [
    "Line counts are all exon cds listed, so 10x more than genes.  We need to only counts once per group \"R0\"? listed:\n",
    "\n",
    "```\n",
    "FRAX03_contig_43335\tGeMoMa\tprediction\t540\t10056\t0\t0\t0\tID=FRAEX38873_V2_000000010.1_R0\tref-gene=FRAEX38873_v2_000000010\n",
    "FRAX03_contig_43335\tGeMoMa\tCDS\t540\t754\t0\t0\t0\tID=FRAEX38873_V2_000000010.1_R0_cds0\tParent=FRAEX38873_V2_000000010.1_R0\n",
    "FRAX03_contig_43335\tGeMoMa\tCDS\t922\t1008\t0\t0\t1\tID=FRAEX38873_V2_000000010.1_R0_cds1\tParent=FRAEX38873_V2_000000010.1_R0\n",
    "FRAX03_contig_43335\tGeMoMa\tCDS\t5430\t5475\t0\t0\t1\tID=FRAEX38873_V2_000000010.1_R0_cds2\tParent=FRAEX38873_V2_000000010.1_R0\n",
    "FRAX03_contig_43335\tGeMoMa\tCDS\t6273\t6349\t0\t0\t0\tID=FRAEX38873_V2_000000010.1_R0_cds3\tParent=FRAEX38873_V2_000000010.1_R0\n",
    "FRAX03_contig_43335\tGeMoMa\tCDS\t7422\t7584\t0\t0\t1\tID=FRAEX38873_V2_000000010.1_R0_cds4\tParent=FRAEX38873_V2_000000010.1_R0\n",
    "FRAX03_contig_43335\tGeMoMa\tCDS\t8598\t8666\t0\t0\t0\tID=FRAEX38873_V2_000000010.1_R0_cds5\tParent=FRAEX38873_V2_000000010.1_R0\n",
    "FRAX03_contig_43335\tGeMoMa\tCDS\t9441\t9520\t0\t0\t0\tID=FRAEX38873_V2_000000010.1_R0_cds6\tParent=FRAEX38873_V2_000000010.1_R0\n",
    "FRAX03_contig_43335\tGeMoMa\tCDS\t10014\t10056\t0\t0\t1\tID=FRAEX38873_V2_000000010.1_R0_cds7\tParent=FRAEX38873_V2_000000010.1_R0\n",
    "FRAX03_contig_71438\tGeMoMa\tprediction\t3\t2458\t0\t0\t0\tID=FRAEX38873_V2_000000020.1_R0\tref-gene=FRAEX38873_v2_000000020\n",
    "FRAX03_contig_71438\tGeMoMa\tCDS\t3\t145\t0\t0\t0\tID=FRAEX38873_V2_000000020.1_R0_cds0\tParent=FRAEX38873_V2_000000020.1_R0\n",
    "FRAX03_contig_71438\tGeMoMa\tCDS\t656\t860\t0\t0\t1\tID=FRAEX38873_V2_000000020.1_R0_cds1\tParent=FRAEX38873_V2_000000020.1_R0\n",
    "```\n",
    "\n",
    "Is there ever a case where there's a plain \"_R0\" entry and then no \"_cds0\"?  A regular expression style count came up with 38,722 for FRAX03, which agrees exactly with my count."
   ]
  },
  {
   "cell_type": "code",
   "execution_count": null,
   "metadata": {
    "collapsed": true
   },
   "outputs": [],
   "source": [
    ""
   ]
  },
  {
   "cell_type": "code",
   "execution_count": null,
   "metadata": {
    "collapsed": true
   },
   "outputs": [],
   "source": [
    ""
   ]
  }
 ],
 "metadata": {
  "kernelspec": {
   "display_name": "Python 3",
   "language": "python",
   "name": "python3"
  },
  "language_info": {
   "codemirror_mode": {
    "name": "ipython",
    "version": 3.0
   },
   "file_extension": ".py",
   "mimetype": "text/x-python",
   "name": "python",
   "nbconvert_exporter": "python",
   "pygments_lexer": "ipython3",
   "version": "3.4.3"
  }
 },
 "nbformat": 4,
 "nbformat_minor": 0
}