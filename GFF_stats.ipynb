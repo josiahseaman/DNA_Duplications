{
 "cells": [
  {
   "cell_type": "markdown",
   "metadata": {},
   "source": [
    "# Using GFF files to gather gene annotation Statistics\n",
    "\n",
    "Excelsior is the only de novo Augustus gene annotation.  The rest of the files  are Gemoma searches for matches to excelsior genes.  That means:  \n",
    "* Excelsior will be biased to have more genes than any other genome\n",
    "* Possibly missing a lot of unique content\n",
    "* This is most useful for consensus comparisons\n",
    "* Data comes pre-built with Gene families\n",
    "* Excelsior should not be grouped into the analysis because it's data source characteristics are fundamentally different"
   ]
  },
  {
   "cell_type": "code",
   "execution_count": 2,
   "metadata": {
    "collapsed": false
   },
   "outputs": [
    {
     "data": {
      "text/plain": [
       "['../gff_files_for_diploid_taxa\\\\FRAX01_predicted_annotation.gff',\n",
       " '../gff_files_for_diploid_taxa\\\\FRAX03_predicted_annotation.gff',\n",
       " '../gff_files_for_diploid_taxa\\\\FRAX04_predicted_annotation.gff',\n",
       " '../gff_files_for_diploid_taxa\\\\FRAX05_predicted_annotation.gff',\n",
       " '../gff_files_for_diploid_taxa\\\\FRAX06_predicted_annotation.gff',\n",
       " '../gff_files_for_diploid_taxa\\\\FRAX07_predicted_annotation.gff',\n",
       " '../gff_files_for_diploid_taxa\\\\FRAX08_predicted_annotation.gff',\n",
       " '../gff_files_for_diploid_taxa\\\\FRAX09_predicted_annotation.gff',\n",
       " '../gff_files_for_diploid_taxa\\\\FRAX10_predicted_annotation.gff',\n",
       " '../gff_files_for_diploid_taxa\\\\FRAX11_predicted_annotation.gff',\n",
       " '../gff_files_for_diploid_taxa\\\\FRAX12_predicted_annotation.gff',\n",
       " '../gff_files_for_diploid_taxa\\\\FRAX13_predicted_annotation.gff',\n",
       " '../gff_files_for_diploid_taxa\\\\FRAX14_predicted_annotation.gff',\n",
       " '../gff_files_for_diploid_taxa\\\\FRAX15_predicted_annotation.gff',\n",
       " '../gff_files_for_diploid_taxa\\\\FRAX16_predicted_annotation.gff',\n",
       " '../gff_files_for_diploid_taxa\\\\FRAX19_predicted_annotation.gff',\n",
       " '../gff_files_for_diploid_taxa\\\\FRAX20_predicted_annotation.gff',\n",
       " '../gff_files_for_diploid_taxa\\\\FRAX21_predicted_annotation.gff',\n",
       " '../gff_files_for_diploid_taxa\\\\FRAX23_predicted_annotation.gff',\n",
       " '../gff_files_for_diploid_taxa\\\\FRAX25_predicted_annotation.gff',\n",
       " '../gff_files_for_diploid_taxa\\\\FRAX26_predicted_annotation.gff',\n",
       " '../gff_files_for_diploid_taxa\\\\FRAX27_predicted_annotation.gff',\n",
       " '../gff_files_for_diploid_taxa\\\\FRAX28_predicted_annotation.gff',\n",
       " '../gff_files_for_diploid_taxa\\\\FRAX29_predicted_annotation.gff',\n",
       " '../gff_files_for_diploid_taxa\\\\FRAX30_predicted_annotation.gff',\n",
       " '../gff_files_for_diploid_taxa\\\\FRAX31_predicted_annotation.gff',\n",
       " '../gff_files_for_diploid_taxa\\\\FRAX32_predicted_annotation.gff',\n",
       " '../gff_files_for_diploid_taxa\\\\FRAX33_predicted_annotation.gff',\n",
       " '../gff_files_for_diploid_taxa\\\\Fraxinus_excelsior_38873_TGAC_v2.gff3']"
      ]
     },
     "execution_count": 2,
     "metadata": {},
     "output_type": "execute_result"
    }
   ],
   "source": [
    "from glob import glob\n",
    "\n",
    "glob('../gff_files_for_diploid_taxa/*')"
   ]
  },
  {
   "cell_type": "code",
   "execution_count": 3,
   "metadata": {
    "collapsed": false
   },
   "outputs": [
    {
     "data": {
      "text/plain": [
       "30"
      ]
     },
     "execution_count": 3,
     "metadata": {},
     "output_type": "execute_result"
    }
   ],
   "source": [
    "len('../gff_files_for_diploid_taxa\\\\')"
   ]
  },
  {
   "cell_type": "markdown",
   "metadata": {},
   "source": [
    "### Line Counts as a measure of gene annotations"
   ]
  },
  {
   "cell_type": "code",
   "execution_count": 13,
   "metadata": {
    "collapsed": false
   },
   "outputs": [
    {
     "name": "stdout",
     "output_type": "stream",
     "text": [
      "FRAX01 \t38,773\n",
      "FRAX03 \t38,722\n",
      "FRAX04 \t38,671\n",
      "FRAX05 \t38,690\n",
      "FRAX06 \t38,769\n",
      "FRAX07 \t38,721\n",
      "FRAX08 \t38,739\n",
      "FRAX09 \t38,716\n",
      "FRAX10 \t38,716\n",
      "FRAX11 \t38,658\n",
      "FRAX12 \t38,741\n",
      "FRAX13 \t38,712\n",
      "FRAX14 \t38,697\n",
      "FRAX15 \t38,757\n",
      "FRAX16 \t38,750\n",
      "FRAX19 \t38,684\n",
      "FRAX20 \t38,663\n",
      "FRAX21 \t38,680\n",
      "FRAX23 \t38,766\n",
      "FRAX25 \t38,689\n",
      "FRAX26 \t38,705\n",
      "FRAX27 \t38,654\n",
      "FRAX28 \t38,716\n",
      "FRAX29 \t38,741\n",
      "FRAX30 \t38,719\n",
      "FRAX31 \t38,639\n",
      "FRAX32 \t38,719\n",
      "FRAX33 \t38,705\n"
     ]
    }
   ],
   "source": [
    "line_counts = {}\n",
    "for filename in glob('../gff_files_for_diploid_taxa/*.gff'):\n",
    "    with open(filename, 'r') as gff:\n",
    "        lines = gff.read().count('_cds0')  # only count the first entry for each gene\n",
    "        line_counts[filename[29:]] = lines\n",
    "        print(filename[30:36], '\\t{:,}'.format(lines))"
   ]
  },
  {
   "cell_type": "markdown",
   "metadata": {},
   "source": [
    "Line counts are all exon cds listed, so 10x more than genes.  We need to only counts once per group \"R0\"? listed:\n",
    "\n",
    "```\n",
    "FRAX03_contig_43335\tGeMoMa\tprediction\t540\t10056\t0\t0\t0\tID=FRAEX38873_V2_000000010.1_R0\tref-gene=FRAEX38873_v2_000000010\n",
    "FRAX03_contig_43335\tGeMoMa\tCDS\t540\t754\t0\t0\t0\tID=FRAEX38873_V2_000000010.1_R0_cds0\tParent=FRAEX38873_V2_000000010.1_R0\n",
    "FRAX03_contig_43335\tGeMoMa\tCDS\t922\t1008\t0\t0\t1\tID=FRAEX38873_V2_000000010.1_R0_cds1\tParent=FRAEX38873_V2_000000010.1_R0\n",
    "FRAX03_contig_43335\tGeMoMa\tCDS\t5430\t5475\t0\t0\t1\tID=FRAEX38873_V2_000000010.1_R0_cds2\tParent=FRAEX38873_V2_000000010.1_R0\n",
    "FRAX03_contig_43335\tGeMoMa\tCDS\t6273\t6349\t0\t0\t0\tID=FRAEX38873_V2_000000010.1_R0_cds3\tParent=FRAEX38873_V2_000000010.1_R0\n",
    "FRAX03_contig_43335\tGeMoMa\tCDS\t7422\t7584\t0\t0\t1\tID=FRAEX38873_V2_000000010.1_R0_cds4\tParent=FRAEX38873_V2_000000010.1_R0\n",
    "FRAX03_contig_43335\tGeMoMa\tCDS\t8598\t8666\t0\t0\t0\tID=FRAEX38873_V2_000000010.1_R0_cds5\tParent=FRAEX38873_V2_000000010.1_R0\n",
    "FRAX03_contig_43335\tGeMoMa\tCDS\t9441\t9520\t0\t0\t0\tID=FRAEX38873_V2_000000010.1_R0_cds6\tParent=FRAEX38873_V2_000000010.1_R0\n",
    "FRAX03_contig_43335\tGeMoMa\tCDS\t10014\t10056\t0\t0\t1\tID=FRAEX38873_V2_000000010.1_R0_cds7\tParent=FRAEX38873_V2_000000010.1_R0\n",
    "FRAX03_contig_71438\tGeMoMa\tprediction\t3\t2458\t0\t0\t0\tID=FRAEX38873_V2_000000020.1_R0\tref-gene=FRAEX38873_v2_000000020\n",
    "FRAX03_contig_71438\tGeMoMa\tCDS\t3\t145\t0\t0\t0\tID=FRAEX38873_V2_000000020.1_R0_cds0\tParent=FRAEX38873_V2_000000020.1_R0\n",
    "FRAX03_contig_71438\tGeMoMa\tCDS\t656\t860\t0\t0\t1\tID=FRAEX38873_V2_000000020.1_R0_cds1\tParent=FRAEX38873_V2_000000020.1_R0\n",
    "```"
   ]
  },
  {
   "cell_type": "markdown",
   "metadata": {},
   "source": [
    "Is there ever a case where there's a plain \"_R0\" entry and then no \"_cds0\"?  A regular expression style count came up with 38,722 for FRAX03, which agrees exactly with my count."
   ]
  },
  {
   "cell_type": "code",
   "execution_count": null,
   "metadata": {
    "collapsed": true
   },
   "outputs": [],
   "source": []
  },
  {
   "cell_type": "code",
   "execution_count": null,
   "metadata": {
    "collapsed": true
   },
   "outputs": [],
   "source": []
  },
  {
   "cell_type": "code",
   "execution_count": null,
   "metadata": {
    "collapsed": true
   },
   "outputs": [],
   "source": []
  },
  {
   "cell_type": "code",
   "execution_count": null,
   "metadata": {
    "collapsed": true
   },
   "outputs": [],
   "source": []
  }
 ],
 "metadata": {
  "kernelspec": {
   "display_name": "Python 3",
   "language": "python",
   "name": "python3"
  },
  "language_info": {
   "codemirror_mode": {
    "name": "ipython",
    "version": 3
   },
   "file_extension": ".py",
   "mimetype": "text/x-python",
   "name": "python",
   "nbconvert_exporter": "python",
   "pygments_lexer": "ipython3",
   "version": "3.4.3"
  }
 },
 "nbformat": 4,
 "nbformat_minor": 1
}
