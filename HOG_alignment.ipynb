{
 "cells": [
  {
   "cell_type": "code",
   "execution_count": 1,
   "metadata": {
    "collapsed": true
   },
   "outputs": [],
   "source": [
    "from glob import glob\n",
    "import os\n",
    "from DNASkittleUtils.Contigs import *\n",
    "from DNASkittleUtils.CommandLineUtils import just_the_name"
   ]
  },
  {
   "cell_type": "code",
   "execution_count": 2,
   "metadata": {
    "collapsed": false
   },
   "outputs": [],
   "source": [
    "from Bio.Align.Applications import MuscleCommandline\n",
    "from io import StringIO\n",
    "from Bio import AlignIO"
   ]
  },
  {
   "cell_type": "code",
   "execution_count": 24,
   "metadata": {
    "collapsed": false
   },
   "outputs": [
    {
     "data": {
      "text/plain": [
       "'D:\\\\josiah\\\\Documents\\\\Research\\\\Thesis - Genome Symmetry\\\\DNA_Duplications'"
      ]
     },
     "execution_count": 24,
     "metadata": {},
     "output_type": "execute_result"
    }
   ],
   "source": [
    "muscle_exe = './muscle3.8.31_i86win32.exe'\n",
    "os.getcwd()"
   ]
  },
  {
   "cell_type": "code",
   "execution_count": 4,
   "metadata": {
    "collapsed": false
   },
   "outputs": [],
   "source": [
    "\n",
    "def batch_align_sequences(input_folder, output_folder):\n",
    "    import subprocess\n",
    "    from datetime import datetime\n",
    "    start = datetime.now()\n",
    "    muscle_exe = './muscle3.8.31_i86win32.exe'\n",
    "    input_folder = os.path.abspath(input_folder)\n",
    "    os.makedirs(output_folder, exist_ok=True)\n",
    "    for fa in glob(os.path.join(input_folder, '*.fa')):\n",
    "        target = os.path.join(output_folder, just_the_name(fa) + '.fa')\n",
    "        if not os.path.exists(target):\n",
    "            muscle_cline = MuscleCommandline(muscle_exe, input=fa, out=target)\n",
    "            try:\n",
    "                stdout, stderr = muscle_cline()\n",
    "            except subprocess.CalledProcessError as err:\n",
    "                print(err.stderr)\n",
    "            print(datetime.now() - start, just_the_name(fa))\n",
    "        else:\n",
    "            pass\n",
    "        # align = AlignIO.read(StringIO(stdout), \"fasta\")  # if you want python objects\n",
    "    return os.path.abspath(output_folder)"
   ]
  },
  {
   "cell_type": "code",
   "execution_count": 25,
   "metadata": {
    "collapsed": false
   },
   "outputs": [
    {
     "ename": "ApplicationError",
     "evalue": "Non-zero return code 1 from './muscle3.8.31_i86win32.exe -in data\\\\super_hog_test_viz\\\\aligned\\\\concat.fa -out data\\\\super_hog_test_viz\\\\aligned\\\\aligned.fa', message \"'.' is not recognized as an internal or external command,\"",
     "output_type": "error",
     "traceback": [
      "\u001b[0;31m---------------------------------------------------------------------------\u001b[0m",
      "\u001b[0;31mApplicationError\u001b[0m                          Traceback (most recent call last)",
      "\u001b[0;32m<ipython-input-25-824a621e3f22>\u001b[0m in \u001b[0;36m<module>\u001b[0;34m()\u001b[0m\n\u001b[1;32m      6\u001b[0m     \u001b[0mout\u001b[0m\u001b[1;33m.\u001b[0m\u001b[0mwrite\u001b[0m\u001b[1;33m(\u001b[0m\u001b[1;34m'\\n'\u001b[0m\u001b[1;33m.\u001b[0m\u001b[0mjoin\u001b[0m\u001b[1;33m(\u001b[0m\u001b[0mpieces\u001b[0m\u001b[1;33m)\u001b[0m\u001b[1;33m)\u001b[0m\u001b[1;33m\u001b[0m\u001b[0m\n\u001b[1;32m      7\u001b[0m \u001b[0mmuscle_cline\u001b[0m \u001b[1;33m=\u001b[0m \u001b[0mMuscleCommandline\u001b[0m\u001b[1;33m(\u001b[0m\u001b[0mmuscle_exe\u001b[0m\u001b[1;33m,\u001b[0m \u001b[0minput\u001b[0m\u001b[1;33m=\u001b[0m\u001b[0mconcat\u001b[0m\u001b[1;33m,\u001b[0m \u001b[0mout\u001b[0m\u001b[1;33m=\u001b[0m\u001b[0mos\u001b[0m\u001b[1;33m.\u001b[0m\u001b[0mpath\u001b[0m\u001b[1;33m.\u001b[0m\u001b[0mjoin\u001b[0m\u001b[1;33m(\u001b[0m\u001b[0mhog_out\u001b[0m\u001b[1;33m,\u001b[0m \u001b[1;34m'aligned.fa'\u001b[0m\u001b[1;33m)\u001b[0m\u001b[1;33m)\u001b[0m\u001b[1;33m\u001b[0m\u001b[0m\n\u001b[0;32m----> 8\u001b[0;31m \u001b[0mstdout\u001b[0m\u001b[1;33m,\u001b[0m \u001b[0mstderr\u001b[0m \u001b[1;33m=\u001b[0m \u001b[0mmuscle_cline\u001b[0m\u001b[1;33m(\u001b[0m\u001b[1;33m)\u001b[0m\u001b[1;33m\u001b[0m\u001b[0m\n\u001b[0m",
      "\u001b[0;32md:\\josiah\\projects\\jupyter\\lib\\site-packages\\Bio\\Application\\__init__.py\u001b[0m in \u001b[0;36m__call__\u001b[0;34m(self, stdin, stdout, stderr, cwd, env)\u001b[0m\n\u001b[1;32m    521\u001b[0m         \u001b[1;32mif\u001b[0m \u001b[0mreturn_code\u001b[0m\u001b[1;33m:\u001b[0m\u001b[1;33m\u001b[0m\u001b[0m\n\u001b[1;32m    522\u001b[0m             raise ApplicationError(return_code, str(self),\n\u001b[0;32m--> 523\u001b[0;31m                                    stdout_str, stderr_str)\n\u001b[0m\u001b[1;32m    524\u001b[0m         \u001b[1;32mreturn\u001b[0m \u001b[0mstdout_str\u001b[0m\u001b[1;33m,\u001b[0m \u001b[0mstderr_str\u001b[0m\u001b[1;33m\u001b[0m\u001b[0m\n\u001b[1;32m    525\u001b[0m \u001b[1;33m\u001b[0m\u001b[0m\n",
      "\u001b[0;31mApplicationError\u001b[0m: Non-zero return code 1 from './muscle3.8.31_i86win32.exe -in data\\\\super_hog_test_viz\\\\aligned\\\\concat.fa -out data\\\\super_hog_test_viz\\\\aligned\\\\aligned.fa', message \"'.' is not recognized as an internal or external command,\""
     ]
    }
   ],
   "source": [
    "hog_in_dir = r\"D:\\josiah\\Documents\\Research\\Thesis - Genome Symmetry\\DNA_Duplications\\data\\super_hog_test_viz\"\n",
    "hog_out = r\"data\\super_hog_test_viz\\aligned\"\n",
    "pieces = [open(fa).read() for fa in glob(os.path.join(hog_in_dir, '*.fa'))]\n",
    "concat = os.path.join(hog_out, 'concat.fa')\n",
    "with open(concat, 'w') as out:\n",
    "    out.write('\\n'.join(pieces))\n",
    "muscle_cline = MuscleCommandline(muscle_exe, input=concat, out=os.path.join(hog_out, 'aligned.fa'))\n",
    "stdout, stderr = muscle_cline()"
   ]
  },
  {
   "cell_type": "code",
   "execution_count": 25,
   "metadata": {
    "collapsed": false
   },
   "outputs": [
    {
     "name": "stdout",
     "output_type": "stream",
     "text": [
      "0:00:03.638976 HOG9125\n",
      "0:00:06.171874 HOG9133\n",
      "0:00:06.455261 HOG9160\n",
      "0:00:06.960818 HOG9161\n",
      "0:00:11.361916 HOG9167\n",
      "0:00:17.147815 HOG9182\n",
      "0:00:17.793164 HOG9187\n",
      "0:00:21.171865 HOG9188\n",
      "0:00:25.483355 HOG920\n",
      "0:00:29.292748 HOG9200\n",
      "0:00:31.001487 HOG9201\n",
      "0:00:31.175917 HOG9210\n",
      "0:00:31.934527 HOG9217\n",
      "0:00:32.432820 HOG9218\n",
      "0:00:33.385628 HOG922\n",
      "0:00:34.001780 HOG9221\n",
      "0:00:36.424606 HOG9222\n",
      "0:00:36.886331 HOG9233\n",
      "0:00:38.861826 HOG9245\n",
      "0:00:40.369840 HOG9259\n",
      "0:00:41.764471 HOG9277\n",
      "0:00:55.455820 HOG928\n",
      "0:00:56.444373 HOG9285\n",
      "0:00:59.068231 HOG929\n",
      "0:01:00.011613 HOG9300\n",
      "0:01:01.412027 HOG9301\n",
      "0:01:01.742509 HOG9308\n",
      "0:01:02.957204 HOG9329\n",
      "0:01:08.293248 HOG933\n",
      "0:01:09.309125 HOG9332\n",
      "0:01:10.364461 HOG9339\n",
      "0:01:14.245399 HOG934\n",
      "0:01:18.010016 HOG9340\n",
      "0:01:20.911123 HOG9342\n",
      "0:01:27.234329 HOG935\n",
      "0:01:28.231050 HOG9352\n",
      "0:01:30.826176 HOG9357\n",
      "0:01:45.001496 HOG936\n",
      "0:01:45.581061 HOG9364\n",
      "0:01:48.531875 HOG9365\n",
      "0:01:51.615383 HOG937\n",
      "0:01:59.863121 HOG9378\n",
      "0:02:23.736003 HOG938\n",
      "0:02:24.964590 HOG9388\n",
      "0:02:25.549980 HOG9389\n",
      "0:02:25.869412 HOG9390\n",
      "0:02:27.648510 HOG9392\n",
      "0:02:30.214579 HOG9393\n",
      "0:02:30.820903 HOG94\n",
      "0:02:33.429761 HOG9406\n",
      "0:02:35.926056 HOG9422\n",
      "0:02:42.376623 HOG9425\n",
      "0:02:42.985276 HOG9439\n",
      "0:02:44.817640 HOG944\n",
      "0:02:45.341247 HOG9440\n",
      "0:02:47.407409 HOG9443\n",
      "0:02:47.766495 HOG9445\n",
      "0:02:49.418092 HOG9446\n",
      "0:02:49.723532 HOG9447\n",
      "0:02:50.007452 HOG9451\n",
      "0:03:16.197010 HOG9489\n",
      "0:03:16.428968 HOG951\n",
      "0:03:16.618232 HOG952\n",
      "0:03:19.238116 HOG9527\n",
      "0:03:20.676429 HOG9533\n",
      "0:03:22.381550 HOG9536\n",
      "0:03:34.958261 HOG955\n",
      "0:03:37.834005 HOG9553\n",
      "0:03:38.071175 HOG9555\n",
      "0:04:15.882723 HOG9562\n",
      "0:04:18.940340 HOG9569\n",
      "0:04:19.717576 HOG9575\n",
      "0:04:22.108260 HOG9576\n",
      "0:04:23.925531 HOG9582\n",
      "0:04:24.854051 HOG9592\n",
      "0:04:32.633447 HOG9606\n",
      "0:04:41.377745 HOG9611\n",
      "0:04:41.756850 HOG9614\n",
      "0:04:43.390612 HOG9621\n",
      "0:04:44.347395 HOG9635\n",
      "0:04:52.882342 HOG9639\n",
      "0:04:56.445646 HOG9640\n",
      "0:04:58.646230 HOG9649\n",
      "0:05:00.139117 HOG9651\n",
      "0:05:01.184740 HOG9656\n",
      "0:05:04.183429 HOG9668\n",
      "0:05:04.456783 HOG9670\n",
      "0:05:05.239398 HOG9671\n",
      "0:05:06.957472 HOG9672\n",
      "0:05:07.178818 HOG9678\n",
      "0:05:11.913875 HOG9708\n",
      "0:05:16.468978 HOG9719\n",
      "0:05:17.447986 HOG9740\n",
      "0:05:20.682992 HOG9760\n",
      "0:05:23.810971 HOG9767\n",
      "0:05:24.080539 HOG9769\n",
      "0:05:25.319826 HOG9778\n",
      "0:05:26.144385 HOG9791\n",
      "0:05:28.235723 HOG980\n",
      "0:05:35.869853 HOG9806\n",
      "0:05:36.058305 HOG9813\n",
      "0:05:37.118843 HOG9820\n",
      "0:05:41.345973 HOG9845\n",
      "0:05:42.654892 HOG9860\n",
      "0:05:46.152735 HOG9864\n",
      "0:05:46.834040 HOG9870\n",
      "0:05:49.219802 HOG9873\n",
      "0:05:49.398776 HOG9874\n",
      "0:05:50.656046 HOG9880\n",
      "0:05:53.208767 HOG9881\n",
      "0:05:59.033001 HOG9885\n",
      "0:05:59.870877 HOG9907\n",
      "0:06:00.529641 HOG9908\n",
      "0:07:08.286889 HOG9909\n",
      "0:07:08.968055 HOG9914\n",
      "0:07:13.611463 HOG9920\n",
      "0:07:16.309438 HOG9929\n",
      "0:07:17.433414 HOG9932\n",
      "0:07:18.170306 HOG9945\n",
      "0:07:23.034707 HOG9946\n",
      "0:07:24.726965 HOG9947\n",
      "0:07:25.164297 HOG9955\n",
      "0:07:26.115255 HOG9957\n",
      "0:07:27.938593 HOG9958\n",
      "0:07:29.526563 HOG9961\n",
      "0:07:29.760904 HOG9977\n",
      "0:07:34.591535 HOG9981\n",
      "0:07:36.754019 HOG9987\n",
      "0:07:37.069644 HOG9996\n"
     ]
    },
    {
     "data": {
      "text/plain": [
       "'D:\\\\josiah\\\\Documents\\\\Research\\\\Thesis - Genome Symmetry\\\\DNA_Duplications\\\\data\\\\candidates\\\\aligned'"
      ]
     },
     "execution_count": 25,
     "metadata": {},
     "output_type": "execute_result"
    }
   ],
   "source": [
    "batch_align_sequences(input_folder = r'D:\\josiah\\Documents\\Research\\Thesis - Genome Symmetry\\DNA_Duplications\\data\\candidates',\n",
    "                      output_folder = 'data/candidates/aligned')"
   ]
  },
  {
   "cell_type": "code",
   "execution_count": 23,
   "metadata": {
    "collapsed": false
   },
   "outputs": [
    {
     "name": "stdout",
     "output_type": "stream",
     "text": [
      "4:06:20.883649 OG100\n",
      "4:06:24.966349 OG1001\n",
      "4:06:26.136088 OG10013\n",
      "4:06:30.118660 OG1010\n",
      "4:06:31.371595 OG10162\n",
      "4:06:32.705428 OG10291\n",
      "4:06:36.199103 OG1034\n",
      "4:06:37.347344 OG10365\n",
      "4:06:38.588344 OG10418\n",
      "4:06:42.722798 OG1046\n",
      "4:06:43.967343 OG10494\n",
      "4:06:45.244034 OG10530\n",
      "4:06:46.624038 OG10609\n",
      "4:06:47.895568 OG10643\n",
      "4:06:49.150252 OG10731\n",
      "4:06:50.650355 OG10754\n",
      "4:06:51.784146 OG10817\n",
      "4:06:54.413097 OG2796\n",
      "4:06:54.997280 OG27965\n",
      "4:06:55.609867 OG28368\n",
      "4:06:58.626177 OG2862\n",
      "4:06:59.313361 OG28802\n",
      "4:06:59.963429 OG28958\n",
      "4:07:02.209436 OG2897\n",
      "4:07:04.776668 OG2929\n",
      "4:07:12.208665 OG293\n",
      "4:07:14.854625 OG3024\n",
      "4:07:17.491133 OG3042\n",
      "4:07:18.080632 OG30665\n",
      "4:07:20.513153 OG3116\n",
      "4:07:22.930877 OG3159\n",
      "4:07:23.496306 OG31692\n",
      "4:07:23.989286 OG31804\n",
      "4:07:26.591700 OG3282\n",
      "4:07:27.073042 OG32927\n",
      "4:07:29.629851 OG3323\n",
      "4:07:30.158226 OG33967\n",
      "4:07:32.371775 OG3467\n",
      "4:07:34.673416 OG3560\n",
      "4:07:37.087839 OG3628\n",
      "4:07:39.626482 OG3757\n",
      "4:07:41.957198 OG3770\n",
      "4:07:44.164784 OG3869\n",
      "4:07:44.599106 OG39601\n",
      "4:07:46.827828 OG3991\n",
      "4:07:49.103409 OG4057\n",
      "4:07:49.564736 OG40608\n",
      "4:07:51.603581 OG4153\n",
      "4:07:53.491633 OG4198\n",
      "4:07:55.774219 OG4211\n",
      "4:07:57.885587 OG4221\n",
      "4:08:00.298332 OG4223\n",
      "4:08:02.617039 OG4232\n",
      "4:08:03.008316 OG42673\n",
      "4:08:04.915670 OG4272\n",
      "4:08:11.550376 OG436\n",
      "4:08:18.183719 OG439\n",
      "4:08:20.308746 OG4402\n",
      "4:08:22.339171 OG4408\n",
      "4:08:24.749255 OG4439\n",
      "4:08:27.215041 OG4447\n",
      "4:08:29.203237 OG4469\n",
      "4:08:29.535433 OG45920\n",
      "4:08:31.542907 OG4657\n",
      "4:08:31.970825 OG46873\n",
      "4:08:33.889546 OG4754\n",
      "4:08:34.268863 OG48365\n",
      "4:08:34.607102 OG48478\n",
      "4:08:41.190761 OG495\n",
      "4:08:43.274803 OG4981\n",
      "4:08:45.606039 OG5092\n",
      "4:08:47.689987 OG5119\n",
      "4:08:49.697821 OG5126\n",
      "4:08:51.842038 OG5164\n",
      "4:08:53.677359 OG5258\n",
      "4:08:55.549599 OG5281\n",
      "4:08:57.489929 OG5307\n",
      "4:08:59.437420 OG5330\n",
      "4:09:01.637303 OG5453\n",
      "4:09:06.827634 OG555\n",
      "4:09:08.529901 OG5567\n",
      "4:09:10.504994 OG5638\n",
      "4:09:12.246943 OG5670\n",
      "4:09:17.750153 OG571\n",
      "4:09:19.574602 OG5713\n",
      "4:09:21.246873 OG5764\n",
      "4:09:23.137212 OG5832\n",
      "4:09:29.629011 OG598\n",
      "4:09:31.513766 OG5982\n",
      "4:09:33.657878 OG6062\n",
      "4:09:35.488175 OG6122\n",
      "4:09:37.004704 OG6123\n",
      "4:09:38.969372 OG6271\n",
      "4:09:40.906025 OG6285\n",
      "4:09:42.671093 OG6312\n",
      "4:09:44.203102 OG6314\n",
      "4:09:45.906377 OG6316\n",
      "4:09:47.779874 OG6359\n",
      "4:09:49.305979 OG6370\n",
      "4:09:51.219219 OG6446\n",
      "4:09:52.990235 OG6461\n",
      "4:09:54.885585 OG6609\n",
      "4:09:56.638869 OG6621\n",
      "4:09:58.070062 OG6622\n",
      "4:09:59.826693 OG6663\n",
      "4:10:01.460884 OG6733\n",
      "4:10:02.969582 OG6811\n",
      "4:10:04.468845 OG6991\n",
      "4:10:20.713191 OG70\n",
      "4:10:22.410285 OG7086\n",
      "4:10:27.260571 OG716\n",
      "4:10:32.044912 OG744\n",
      "4:10:33.509841 OG7449\n",
      "4:10:38.553408 OG748\n",
      "4:10:39.993470 OG7540\n",
      "4:10:41.887613 OG7625\n",
      "4:10:43.319847 OG7839\n",
      "4:10:44.884933 OG7854\n",
      "4:10:46.362959 OG7912\n",
      "4:10:47.851011 OG8061\n",
      "4:10:49.528533 OG8064\n",
      "4:10:51.270780 OG8143\n",
      "4:10:52.917898 OG8200\n",
      "4:10:54.414881 OG8256\n",
      "4:10:55.768364 OG8281\n",
      "4:10:57.157589 OG8325\n",
      "4:11:01.588777 OG842\n",
      "4:11:03.153686 OG8527\n",
      "4:11:04.572377 OG8534\n",
      "4:11:06.197597 OG8651\n",
      "4:11:07.409589 OG8749\n",
      "4:11:08.732263 OG8779\n",
      "4:11:13.075346 OG883\n",
      "4:11:14.616556 OG8932\n",
      "4:11:19.096603 OG909\n",
      "4:11:20.651354 OG9123\n",
      "4:11:21.993959 OG9179\n",
      "4:11:23.261858 OG9231\n",
      "4:11:24.555773 OG9481\n",
      "4:11:25.764669 OG9487\n",
      "4:11:27.418295 OG9644\n",
      "4:11:28.842323 OG9691\n",
      "4:11:33.273096 OG978\n",
      "4:11:34.582048 OG9787\n",
      "4:11:36.032929 OG9822\n",
      "4:11:37.457831 OG9881\n",
      "4:11:38.760096 OG9891\n",
      "4:11:40.085777 OG9910\n",
      "4:11:41.359680 OG9927\n"
     ]
    },
    {
     "data": {
      "text/plain": [
       "'D:\\\\josiah\\\\Documents\\\\Research\\\\Thesis - Genome Symmetry\\\\DNA_Duplications\\\\data\\\\phylogenetic_guides\\\\aligned'"
      ]
     },
     "execution_count": 23,
     "metadata": {},
     "output_type": "execute_result"
    }
   ],
   "source": [
    "batch_align_sequences(input_folder = r'data\\phylogenetic_guides',\n",
    "                      output_folder = r'data\\phylogenetic_guides\\aligned')"
   ]
  },
  {
   "cell_type": "code",
   "execution_count": null,
   "metadata": {
    "collapsed": true
   },
   "outputs": [],
   "source": []
  },
  {
   "cell_type": "code",
   "execution_count": 27,
   "metadata": {
    "collapsed": false
   },
   "outputs": [
    {
     "name": "stdout",
     "output_type": "stream",
     "text": [
      "Wall time: 4.2 s\n"
     ]
    }
   ],
   "source": [
    "%%time\n",
    "fa = r'D:\\josiah\\Documents\\Research\\Thesis - Genome Symmetry\\DNA_Duplications\\data\\candidates\\HOG205.fa'\n",
    "muscle_cline = MuscleCommandline(muscle_exe, input=fa, out=f'data/candidates/aligned/{just_the_name(fa)}.fa')\n",
    "stdout, stderr = muscle_cline()"
   ]
  },
  {
   "cell_type": "code",
   "execution_count": 18,
   "metadata": {
    "collapsed": false
   },
   "outputs": [
    {
     "data": {
      "text/plain": [
       "SeqRecord(seq=Seq('MATGISQFKAKTSLLTHTR--IWR-QGVHRAVVVSMDRNQTYWATIEADIEAYL...---', SingleLetterAlphabet()), id='FRAX31_FRAEX38873_V2_000208410.1_R0', name='FRAX31_FRAEX38873_V2_000208410.1_R0', description='FRAX31_FRAEX38873_V2_000208410.1_R0 [FRAX31_predicted_proteins_with_species_tag]', dbxrefs=[])"
      ]
     },
     "execution_count": 18,
     "metadata": {},
     "output_type": "execute_result"
    }
   ],
   "source": [
    "align[2]"
   ]
  },
  {
   "cell_type": "code",
   "execution_count": 28,
   "metadata": {
    "collapsed": false
   },
   "outputs": [
    {
     "data": {
      "text/plain": [
       "True"
      ]
     },
     "execution_count": 28,
     "metadata": {},
     "output_type": "execute_result"
    }
   ],
   "source": [
    "os.path.exists(r'data\\candidates\\HOG205.fa')"
   ]
  },
  {
   "cell_type": "code",
   "execution_count": 20,
   "metadata": {
    "collapsed": false
   },
   "outputs": [
    {
     "data": {
      "text/plain": [
       "['D:\\\\josiah\\\\Documents\\\\Research\\\\Thesis - Genome Symmetry\\\\DNA_Duplications\\\\data\\\\example_HOGs\\\\HOG3700.fa',\n",
       " 'D:\\\\josiah\\\\Documents\\\\Research\\\\Thesis - Genome Symmetry\\\\DNA_Duplications\\\\data\\\\example_HOGs\\\\HOG3735.fa']"
      ]
     },
     "execution_count": 20,
     "metadata": {},
     "output_type": "execute_result"
    }
   ],
   "source": [
    "glob(r'D:\\josiah\\Documents\\Research\\Thesis - Genome Symmetry\\DNA_Duplications\\data\\example_HOGs\\HOG3*.fa')"
   ]
  },
  {
   "cell_type": "code",
   "execution_count": 7,
   "metadata": {
    "collapsed": false
   },
   "outputs": [
    {
     "name": "stdout",
     "output_type": "stream",
     "text": [
      "37\n",
      "35\n",
      "33\n",
      "29\n",
      "64\n",
      "74\n",
      "91\n"
     ]
    }
   ],
   "source": [
    "for f in glob(r'D:\\josiah\\Documents\\Research\\Thesis - Genome Symmetry\\DNA_Duplications\\data\\example_HOGs\\*.fa'):\n",
    "    print(len(read_contigs(f)))"
   ]
  },
  {
   "cell_type": "code",
   "execution_count": 22,
   "metadata": {
    "collapsed": false
   },
   "outputs": [
    {
     "data": {
      "text/plain": [
       "'bob\\\\concat.fa'"
      ]
     },
     "execution_count": 22,
     "metadata": {},
     "output_type": "execute_result"
    }
   ],
   "source": [
    "os.path.join('bob', 'concat.fa')"
   ]
  }
 ],
 "metadata": {
  "kernelspec": {
   "display_name": "Python 3",
   "language": "python",
   "name": "python3"
  },
  "language_info": {
   "codemirror_mode": {
    "name": "ipython",
    "version": 3
   },
   "file_extension": ".py",
   "mimetype": "text/x-python",
   "name": "python",
   "nbconvert_exporter": "python",
   "pygments_lexer": "ipython3",
   "version": "3.4.3"
  }
 },
 "nbformat": 4,
 "nbformat_minor": 2
}
