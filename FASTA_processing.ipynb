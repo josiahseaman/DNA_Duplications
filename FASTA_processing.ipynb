{
 "cells": [
  {
   "cell_type": "code",
   "execution_count": null,
   "metadata": {
    "collapsed": false
   },
   "outputs": [],
   "source": [
    "from Contigs import Contig, read_contigs\n",
    "\n",
    "from DDVUtils import write_contigs_to_file"
   ]
  },
  {
   "cell_type": "code",
   "execution_count": 7,
   "metadata": {
    "collapsed": false
   },
   "outputs": [],
   "source": [
    "contigs = read_contigs(input_file_path=r'D:\\Genomes\\Ash F. Pennsylvanica\\fraxinus_pennsylvanica_26Jul2017_uXjxm\\fraxinus_pennsylvanica_26Jul2017_uXjxm.fa')\n",
    "\n",
    "len(contigs)"
   ]
  },
  {
   "cell_type": "code",
   "execution_count": 11,
   "metadata": {
    "collapsed": true
   },
   "outputs": [],
   "source": [
    "def sort_contigs_by_length(unsorted_contigs):\n",
    "    return sorted(unsorted_contigs, key=lambda x: -len(x.seq))\n",
    "\n",
    "sorted_contigs = sort_contigs_by_length(contigs)\n",
    "\n",
    "len(sorted_contigs[5].seq)"
   ]
  },
  {
   "cell_type": "code",
   "execution_count": 13,
   "metadata": {
    "collapsed": false
   },
   "outputs": [
    {
     "data": {
      "text/html": [
       "\n",
       "    <div class=\"bk-root\">\n",
       "        <a href=\"http://bokeh.pydata.org\" target=\"_blank\" class=\"bk-logo bk-logo-small bk-logo-notebook\"></a>\n",
       "        <span id=\"58d5b527-4ad2-41d6-9539-89ff3ac48851\">Loading BokehJS ...</span>\n",
       "    </div>"
      ]
     },
     "metadata": {},
     "output_type": "display_data"
    },
    {
     "data": {
      "application/javascript": [
       "\n",
       "(function(global) {\n",
       "  function now() {\n",
       "    return new Date();\n",
       "  }\n",
       "\n",
       "  var force = \"1\";\n",
       "\n",
       "  if (typeof (window._bokeh_onload_callbacks) === \"undefined\" || force !== \"\") {\n",
       "    window._bokeh_onload_callbacks = [];\n",
       "    window._bokeh_is_loading = undefined;\n",
       "  }\n",
       "\n",
       "\n",
       "  \n",
       "  if (typeof (window._bokeh_timeout) === \"undefined\" || force !== \"\") {\n",
       "    window._bokeh_timeout = Date.now() + 5000;\n",
       "    window._bokeh_failed_load = false;\n",
       "  }\n",
       "\n",
       "  var NB_LOAD_WARNING = {'data': {'text/html':\n",
       "     \"<div style='background-color: #fdd'>\\n\"+\n",
       "     \"<p>\\n\"+\n",
       "     \"BokehJS does not appear to have successfully loaded. If loading BokehJS from CDN, this \\n\"+\n",
       "     \"may be due to a slow or bad network connection. Possible fixes:\\n\"+\n",
       "     \"</p>\\n\"+\n",
       "     \"<ul>\\n\"+\n",
       "     \"<li>re-rerun `output_notebook()` to attempt to load from CDN again, or</li>\\n\"+\n",
       "     \"<li>use INLINE resources instead, as so:</li>\\n\"+\n",
       "     \"</ul>\\n\"+\n",
       "     \"<code>\\n\"+\n",
       "     \"from bokeh.resources import INLINE\\n\"+\n",
       "     \"output_notebook(resources=INLINE)\\n\"+\n",
       "     \"</code>\\n\"+\n",
       "     \"</div>\"}};\n",
       "\n",
       "  function display_loaded() {\n",
       "    if (window.Bokeh !== undefined) {\n",
       "      Bokeh.$(\"#58d5b527-4ad2-41d6-9539-89ff3ac48851\").text(\"BokehJS successfully loaded.\");\n",
       "    } else if (Date.now() < window._bokeh_timeout) {\n",
       "      setTimeout(display_loaded, 100)\n",
       "    }\n",
       "  }\n",
       "\n",
       "  function run_callbacks() {\n",
       "    window._bokeh_onload_callbacks.forEach(function(callback) { callback() });\n",
       "    delete window._bokeh_onload_callbacks\n",
       "    console.info(\"Bokeh: all callbacks have finished\");\n",
       "  }\n",
       "\n",
       "  function load_libs(js_urls, callback) {\n",
       "    window._bokeh_onload_callbacks.push(callback);\n",
       "    if (window._bokeh_is_loading > 0) {\n",
       "      console.log(\"Bokeh: BokehJS is being loaded, scheduling callback at\", now());\n",
       "      return null;\n",
       "    }\n",
       "    if (js_urls == null || js_urls.length === 0) {\n",
       "      run_callbacks();\n",
       "      return null;\n",
       "    }\n",
       "    console.log(\"Bokeh: BokehJS not loaded, scheduling load and callback at\", now());\n",
       "    window._bokeh_is_loading = js_urls.length;\n",
       "    for (var i = 0; i < js_urls.length; i++) {\n",
       "      var url = js_urls[i];\n",
       "      var s = document.createElement('script');\n",
       "      s.src = url;\n",
       "      s.async = false;\n",
       "      s.onreadystatechange = s.onload = function() {\n",
       "        window._bokeh_is_loading--;\n",
       "        if (window._bokeh_is_loading === 0) {\n",
       "          console.log(\"Bokeh: all BokehJS libraries loaded\");\n",
       "          run_callbacks()\n",
       "        }\n",
       "      };\n",
       "      s.onerror = function() {\n",
       "        console.warn(\"failed to load library \" + url);\n",
       "      };\n",
       "      console.log(\"Bokeh: injecting script tag for BokehJS library: \", url);\n",
       "      document.getElementsByTagName(\"head\")[0].appendChild(s);\n",
       "    }\n",
       "  };var element = document.getElementById(\"58d5b527-4ad2-41d6-9539-89ff3ac48851\");\n",
       "  if (element == null) {\n",
       "    console.log(\"Bokeh: ERROR: autoload.js configured with elementid '58d5b527-4ad2-41d6-9539-89ff3ac48851' but no matching script tag was found. \")\n",
       "    return false;\n",
       "  }\n",
       "\n",
       "  var js_urls = ['https://cdn.pydata.org/bokeh/release/bokeh-0.12.3.min.js', 'https://cdn.pydata.org/bokeh/release/bokeh-widgets-0.12.3.min.js'];\n",
       "\n",
       "  var inline_js = [\n",
       "    function(Bokeh) {\n",
       "      Bokeh.set_log_level(\"info\");\n",
       "    },\n",
       "    \n",
       "    function(Bokeh) {\n",
       "      \n",
       "      Bokeh.$(\"#58d5b527-4ad2-41d6-9539-89ff3ac48851\").text(\"BokehJS is loading...\");\n",
       "    },\n",
       "    function(Bokeh) {\n",
       "      console.log(\"Bokeh: injecting CSS: https://cdn.pydata.org/bokeh/release/bokeh-0.12.3.min.css\");\n",
       "      Bokeh.embed.inject_css(\"https://cdn.pydata.org/bokeh/release/bokeh-0.12.3.min.css\");\n",
       "      console.log(\"Bokeh: injecting CSS: https://cdn.pydata.org/bokeh/release/bokeh-widgets-0.12.3.min.css\");\n",
       "      Bokeh.embed.inject_css(\"https://cdn.pydata.org/bokeh/release/bokeh-widgets-0.12.3.min.css\");\n",
       "    }\n",
       "  ];\n",
       "\n",
       "  function run_inline_js() {\n",
       "    \n",
       "    if ((window.Bokeh !== undefined) || (force === \"1\")) {\n",
       "      for (var i = 0; i < inline_js.length; i++) {\n",
       "        inline_js[i](window.Bokeh);\n",
       "      }if (force === \"1\") {\n",
       "        display_loaded();\n",
       "      }} else if (Date.now() < window._bokeh_timeout) {\n",
       "      setTimeout(run_inline_js, 100);\n",
       "    } else if (!window._bokeh_failed_load) {\n",
       "      console.log(\"Bokeh: BokehJS failed to load within specified timeout.\");\n",
       "      window._bokeh_failed_load = true;\n",
       "    } else if (!force) {\n",
       "      var cell = $(\"#58d5b527-4ad2-41d6-9539-89ff3ac48851\").parents('.cell').data().cell;\n",
       "      cell.output_area.append_execute_result(NB_LOAD_WARNING)\n",
       "    }\n",
       "\n",
       "  }\n",
       "\n",
       "  if (window._bokeh_is_loading === 0) {\n",
       "    console.log(\"Bokeh: BokehJS loaded, going straight to plotting\");\n",
       "    run_inline_js();\n",
       "  } else {\n",
       "    load_libs(js_urls, function() {\n",
       "      console.log(\"Bokeh: BokehJS plotting callback run at\", now());\n",
       "      run_inline_js();\n",
       "    });\n",
       "  }\n",
       "}(this));"
      ]
     },
     "metadata": {},
     "output_type": "display_data"
    }
   ],
   "source": [
    "from bokeh.io import push_notebook, show, output_notebook\n",
    "from bokeh.layouts import row\n",
    "from bokeh.plotting import figure\n",
    "output_notebook()"
   ]
  },
  {
   "cell_type": "code",
   "execution_count": 25,
   "metadata": {
    "collapsed": false
   },
   "outputs": [
    {
     "data": {
      "text/html": [
       "\n",
       "\n",
       "    <div class=\"bk-root\">\n",
       "        <div class=\"plotdiv\" id=\"6956ce70-a008-4e2e-837e-2e5c3b72be85\"></div>\n",
       "    </div>\n",
       "<script type=\"text/javascript\">\n",
       "  \n",
       "  (function(global) {\n",
       "    function now() {\n",
       "      return new Date();\n",
       "    }\n",
       "  \n",
       "    var force = \"\";\n",
       "  \n",
       "    if (typeof (window._bokeh_onload_callbacks) === \"undefined\" || force !== \"\") {\n",
       "      window._bokeh_onload_callbacks = [];\n",
       "      window._bokeh_is_loading = undefined;\n",
       "    }\n",
       "  \n",
       "  \n",
       "    \n",
       "    if (typeof (window._bokeh_timeout) === \"undefined\" || force !== \"\") {\n",
       "      window._bokeh_timeout = Date.now() + 0;\n",
       "      window._bokeh_failed_load = false;\n",
       "    }\n",
       "  \n",
       "    var NB_LOAD_WARNING = {'data': {'text/html':\n",
       "       \"<div style='background-color: #fdd'>\\n\"+\n",
       "       \"<p>\\n\"+\n",
       "       \"BokehJS does not appear to have successfully loaded. If loading BokehJS from CDN, this \\n\"+\n",
       "       \"may be due to a slow or bad network connection. Possible fixes:\\n\"+\n",
       "       \"</p>\\n\"+\n",
       "       \"<ul>\\n\"+\n",
       "       \"<li>re-rerun `output_notebook()` to attempt to load from CDN again, or</li>\\n\"+\n",
       "       \"<li>use INLINE resources instead, as so:</li>\\n\"+\n",
       "       \"</ul>\\n\"+\n",
       "       \"<code>\\n\"+\n",
       "       \"from bokeh.resources import INLINE\\n\"+\n",
       "       \"output_notebook(resources=INLINE)\\n\"+\n",
       "       \"</code>\\n\"+\n",
       "       \"</div>\"}};\n",
       "  \n",
       "    function display_loaded() {\n",
       "      if (window.Bokeh !== undefined) {\n",
       "        Bokeh.$(\"#6956ce70-a008-4e2e-837e-2e5c3b72be85\").text(\"BokehJS successfully loaded.\");\n",
       "      } else if (Date.now() < window._bokeh_timeout) {\n",
       "        setTimeout(display_loaded, 100)\n",
       "      }\n",
       "    }\n",
       "  \n",
       "    function run_callbacks() {\n",
       "      window._bokeh_onload_callbacks.forEach(function(callback) { callback() });\n",
       "      delete window._bokeh_onload_callbacks\n",
       "      console.info(\"Bokeh: all callbacks have finished\");\n",
       "    }\n",
       "  \n",
       "    function load_libs(js_urls, callback) {\n",
       "      window._bokeh_onload_callbacks.push(callback);\n",
       "      if (window._bokeh_is_loading > 0) {\n",
       "        console.log(\"Bokeh: BokehJS is being loaded, scheduling callback at\", now());\n",
       "        return null;\n",
       "      }\n",
       "      if (js_urls == null || js_urls.length === 0) {\n",
       "        run_callbacks();\n",
       "        return null;\n",
       "      }\n",
       "      console.log(\"Bokeh: BokehJS not loaded, scheduling load and callback at\", now());\n",
       "      window._bokeh_is_loading = js_urls.length;\n",
       "      for (var i = 0; i < js_urls.length; i++) {\n",
       "        var url = js_urls[i];\n",
       "        var s = document.createElement('script');\n",
       "        s.src = url;\n",
       "        s.async = false;\n",
       "        s.onreadystatechange = s.onload = function() {\n",
       "          window._bokeh_is_loading--;\n",
       "          if (window._bokeh_is_loading === 0) {\n",
       "            console.log(\"Bokeh: all BokehJS libraries loaded\");\n",
       "            run_callbacks()\n",
       "          }\n",
       "        };\n",
       "        s.onerror = function() {\n",
       "          console.warn(\"failed to load library \" + url);\n",
       "        };\n",
       "        console.log(\"Bokeh: injecting script tag for BokehJS library: \", url);\n",
       "        document.getElementsByTagName(\"head\")[0].appendChild(s);\n",
       "      }\n",
       "    };var element = document.getElementById(\"6956ce70-a008-4e2e-837e-2e5c3b72be85\");\n",
       "    if (element == null) {\n",
       "      console.log(\"Bokeh: ERROR: autoload.js configured with elementid '6956ce70-a008-4e2e-837e-2e5c3b72be85' but no matching script tag was found. \")\n",
       "      return false;\n",
       "    }\n",
       "  \n",
       "    var js_urls = [];\n",
       "  \n",
       "    var inline_js = [\n",
       "      function(Bokeh) {\n",
       "        Bokeh.$(function() {\n",
       "            var docs_json = {\"8460bddd-c256-471b-9790-14612ef5bb38\":{\"roots\":{\"references\":[{\"attributes\":{},\"id\":\"63f3eebe-a3c8-4594-bc3e-c21e6193149d\",\"type\":\"BasicTickFormatter\"},{\"attributes\":{\"plot\":{\"id\":\"ea3ad779-e685-4e51-878d-4b29371d8902\",\"subtype\":\"Figure\",\"type\":\"Plot\"}},\"id\":\"92b7bdac-cac9-4f99-a625-140521cec2eb\",\"type\":\"WheelZoomTool\"},{\"attributes\":{\"axis_label\":\"Contig Length\",\"formatter\":{\"id\":\"e5870943-1011-417a-85b9-3b78526e9828\",\"type\":\"BasicTickFormatter\"},\"plot\":{\"id\":\"ea3ad779-e685-4e51-878d-4b29371d8902\",\"subtype\":\"Figure\",\"type\":\"Plot\"},\"ticker\":{\"id\":\"39e46542-e11f-44da-901f-a431baa54804\",\"type\":\"BasicTicker\"}},\"id\":\"c11ec7db-3124-46be-8bd5-e6953a7c9eb2\",\"type\":\"LinearAxis\"},{\"attributes\":{\"callback\":null},\"id\":\"e44e9c8d-d807-47af-b3b4-1c845d6b4370\",\"type\":\"DataRange1d\"},{\"attributes\":{\"below\":[{\"id\":\"be2e9696-6419-488d-a07d-9b5b65f640a0\",\"type\":\"LinearAxis\"}],\"left\":[{\"id\":\"c11ec7db-3124-46be-8bd5-e6953a7c9eb2\",\"type\":\"LinearAxis\"}],\"renderers\":[{\"id\":\"be2e9696-6419-488d-a07d-9b5b65f640a0\",\"type\":\"LinearAxis\"},{\"id\":\"db164264-00e1-4c04-b7c3-932924916f0a\",\"type\":\"Grid\"},{\"id\":\"c11ec7db-3124-46be-8bd5-e6953a7c9eb2\",\"type\":\"LinearAxis\"},{\"id\":\"af732dbe-47ea-4ff4-a319-2b5ea55934ca\",\"type\":\"Grid\"},{\"id\":\"389e3320-199c-4f1b-a2cc-21e4eb663418\",\"type\":\"BoxAnnotation\"},{\"id\":\"5f1037bd-7472-43f7-9c62-7c02402ba2ab\",\"type\":\"Legend\"},{\"id\":\"b349c2b9-bfdb-4761-b9c6-300c1b5fd64a\",\"type\":\"GlyphRenderer\"},{\"id\":\"3e76b6bf-d505-4c63-ba91-160ab1bf6709\",\"type\":\"GlyphRenderer\"}],\"title\":{\"id\":\"8e29623d-a1ab-44bb-bce3-563ac22bae7f\",\"type\":\"Title\"},\"tool_events\":{\"id\":\"6b22fc24-9b27-446d-85c2-66a1ff4ae54d\",\"type\":\"ToolEvents\"},\"toolbar\":{\"id\":\"b168e27a-23f7-4cc1-93c9-8ead3afbf158\",\"type\":\"Toolbar\"},\"x_range\":{\"id\":\"413a5f58-95dc-4ccf-b2b5-d585565142ba\",\"type\":\"DataRange1d\"},\"y_range\":{\"id\":\"e44e9c8d-d807-47af-b3b4-1c845d6b4370\",\"type\":\"DataRange1d\"}},\"id\":\"ea3ad779-e685-4e51-878d-4b29371d8902\",\"subtype\":\"Figure\",\"type\":\"Plot\"},{\"attributes\":{},\"id\":\"39e46542-e11f-44da-901f-a431baa54804\",\"type\":\"BasicTicker\"},{\"attributes\":{},\"id\":\"e5870943-1011-417a-85b9-3b78526e9828\",\"type\":\"BasicTickFormatter\"},{\"attributes\":{\"data_source\":{\"id\":\"3b0b4392-8316-40f5-8761-7de285033353\",\"type\":\"ColumnDataSource\"},\"glyph\":{\"id\":\"82ee07e1-ccbc-426a-8a68-4434841d9845\",\"type\":\"Line\"},\"hover_glyph\":null,\"nonselection_glyph\":{\"id\":\"125083b2-3ba2-4c7f-93a6-ab4e742d64b3\",\"type\":\"Line\"},\"selection_glyph\":null},\"id\":\"b349c2b9-bfdb-4761-b9c6-300c1b5fd64a\",\"type\":\"GlyphRenderer\"},{\"attributes\":{\"plot\":{\"id\":\"ea3ad779-e685-4e51-878d-4b29371d8902\",\"subtype\":\"Figure\",\"type\":\"Plot\"}},\"id\":\"25b7e437-ed08-43d6-a3e1-6e953cd89fd3\",\"type\":\"ResetTool\"},{\"attributes\":{\"bottom_units\":\"screen\",\"fill_alpha\":{\"value\":0.5},\"fill_color\":{\"value\":\"lightgrey\"},\"left_units\":\"screen\",\"level\":\"overlay\",\"line_alpha\":{\"value\":1.0},\"line_color\":{\"value\":\"black\"},\"line_dash\":[4,4],\"line_width\":{\"value\":2},\"plot\":null,\"render_mode\":\"css\",\"right_units\":\"screen\",\"top_units\":\"screen\"},\"id\":\"389e3320-199c-4f1b-a2cc-21e4eb663418\",\"type\":\"BoxAnnotation\"},{\"attributes\":{\"plot\":{\"id\":\"ea3ad779-e685-4e51-878d-4b29371d8902\",\"subtype\":\"Figure\",\"type\":\"Plot\"},\"ticker\":{\"id\":\"e8d604c8-010c-4429-be9a-94fa976bafe3\",\"type\":\"BasicTicker\"}},\"id\":\"db164264-00e1-4c04-b7c3-932924916f0a\",\"type\":\"Grid\"},{\"attributes\":{\"line_color\":{\"value\":\"#1f77b4\"},\"line_width\":{\"value\":2},\"x\":{\"field\":\"x\"},\"y\":{\"field\":\"y\"}},\"id\":\"82ee07e1-ccbc-426a-8a68-4434841d9845\",\"type\":\"Line\"},{\"attributes\":{\"label\":{\"value\":\"Length.\"},\"renderers\":[{\"id\":\"b349c2b9-bfdb-4761-b9c6-300c1b5fd64a\",\"type\":\"GlyphRenderer\"}]},\"id\":\"809ca3ae-85cd-4308-a552-6c1a7ca83f6e\",\"type\":\"LegendItem\"},{\"attributes\":{\"overlay\":{\"id\":\"389e3320-199c-4f1b-a2cc-21e4eb663418\",\"type\":\"BoxAnnotation\"},\"plot\":{\"id\":\"ea3ad779-e685-4e51-878d-4b29371d8902\",\"subtype\":\"Figure\",\"type\":\"Plot\"}},\"id\":\"54660746-4114-470e-8e2f-cd912ed4b539\",\"type\":\"BoxZoomTool\"},{\"attributes\":{\"axis_label\":\"Sorted Contigs\",\"formatter\":{\"id\":\"63f3eebe-a3c8-4594-bc3e-c21e6193149d\",\"type\":\"BasicTickFormatter\"},\"plot\":{\"id\":\"ea3ad779-e685-4e51-878d-4b29371d8902\",\"subtype\":\"Figure\",\"type\":\"Plot\"},\"ticker\":{\"id\":\"e8d604c8-010c-4429-be9a-94fa976bafe3\",\"type\":\"BasicTicker\"}},\"id\":\"be2e9696-6419-488d-a07d-9b5b65f640a0\",\"type\":\"LinearAxis\"},{\"attributes\":{\"data_source\":{\"id\":\"1ab68f41-adce-430f-82b3-53d5c97fa3c4\",\"type\":\"ColumnDataSource\"},\"glyph\":{\"id\":\"cb0ed1a8-eb29-4ad1-b875-8c83c3cb214d\",\"type\":\"Line\"},\"hover_glyph\":null,\"nonselection_glyph\":{\"id\":\"87c7b3d4-f598-4f0c-94a4-424ce1fb75b1\",\"type\":\"Line\"},\"selection_glyph\":null},\"id\":\"3e76b6bf-d505-4c63-ba91-160ab1bf6709\",\"type\":\"GlyphRenderer\"},{\"attributes\":{\"label\":{\"value\":\"1 Mbp\"},\"renderers\":[{\"id\":\"3e76b6bf-d505-4c63-ba91-160ab1bf6709\",\"type\":\"GlyphRenderer\"}]},\"id\":\"3e4d67be-dce3-47ba-ad88-060fa97f0b2f\",\"type\":\"LegendItem\"},{\"attributes\":{\"callback\":null,\"column_names\":[\"x\",\"y\"],\"data\":{\"x\":[0,1,2,3,4,5,6,7,8,9,10,11,12,13,14,15,16,17,18,19,20,21,22,23,24,25,26,27,28,29,30,31,32,33,34,35,36,37,38,39],\"y\":[50995270,43608880,39445854,35099959,34501153,34147523,33820380,31893592,31863345,30717653,30524050,30397008,27998687,27152721,26865606,26605849,26354852,25897340,25639400,24885302,24819257,22919704,22141284,9428771,7793390,4250457,3872777,2612082,1189254,180604,172183,131575,87075,65174,59702,45118,40327,36158,34527,33828]}},\"id\":\"3b0b4392-8316-40f5-8761-7de285033353\",\"type\":\"ColumnDataSource\"},{\"attributes\":{\"line_color\":{\"value\":\"red\"},\"x\":{\"field\":\"x\"},\"y\":{\"field\":\"y\"}},\"id\":\"cb0ed1a8-eb29-4ad1-b875-8c83c3cb214d\",\"type\":\"Line\"},{\"attributes\":{\"line_alpha\":{\"value\":0.1},\"line_color\":{\"value\":\"#1f77b4\"},\"x\":{\"field\":\"x\"},\"y\":{\"field\":\"y\"}},\"id\":\"87c7b3d4-f598-4f0c-94a4-424ce1fb75b1\",\"type\":\"Line\"},{\"attributes\":{\"plot\":{\"id\":\"ea3ad779-e685-4e51-878d-4b29371d8902\",\"subtype\":\"Figure\",\"type\":\"Plot\"}},\"id\":\"1f22c9ab-ad21-48cd-8933-bd2800dc1c1a\",\"type\":\"HelpTool\"},{\"attributes\":{\"dimension\":1,\"plot\":{\"id\":\"ea3ad779-e685-4e51-878d-4b29371d8902\",\"subtype\":\"Figure\",\"type\":\"Plot\"},\"ticker\":{\"id\":\"39e46542-e11f-44da-901f-a431baa54804\",\"type\":\"BasicTicker\"}},\"id\":\"af732dbe-47ea-4ff4-a319-2b5ea55934ca\",\"type\":\"Grid\"},{\"attributes\":{\"callback\":null,\"column_names\":[\"x\",\"y\"],\"data\":{\"x\":[0,40],\"y\":[1000000,1000000]}},\"id\":\"1ab68f41-adce-430f-82b3-53d5c97fa3c4\",\"type\":\"ColumnDataSource\"},{\"attributes\":{\"plot\":{\"id\":\"ea3ad779-e685-4e51-878d-4b29371d8902\",\"subtype\":\"Figure\",\"type\":\"Plot\"}},\"id\":\"7617d27a-4693-4ac3-8689-65b1a981b864\",\"type\":\"SaveTool\"},{\"attributes\":{\"active_drag\":\"auto\",\"active_scroll\":\"auto\",\"active_tap\":\"auto\",\"tools\":[{\"id\":\"e24901ea-44fe-4b42-b028-701d8578bd70\",\"type\":\"PanTool\"},{\"id\":\"92b7bdac-cac9-4f99-a625-140521cec2eb\",\"type\":\"WheelZoomTool\"},{\"id\":\"54660746-4114-470e-8e2f-cd912ed4b539\",\"type\":\"BoxZoomTool\"},{\"id\":\"7617d27a-4693-4ac3-8689-65b1a981b864\",\"type\":\"SaveTool\"},{\"id\":\"25b7e437-ed08-43d6-a3e1-6e953cd89fd3\",\"type\":\"ResetTool\"},{\"id\":\"1f22c9ab-ad21-48cd-8933-bd2800dc1c1a\",\"type\":\"HelpTool\"}]},\"id\":\"b168e27a-23f7-4cc1-93c9-8ead3afbf158\",\"type\":\"Toolbar\"},{\"attributes\":{\"items\":[{\"id\":\"809ca3ae-85cd-4308-a552-6c1a7ca83f6e\",\"type\":\"LegendItem\"},{\"id\":\"3e4d67be-dce3-47ba-ad88-060fa97f0b2f\",\"type\":\"LegendItem\"}],\"plot\":{\"id\":\"ea3ad779-e685-4e51-878d-4b29371d8902\",\"subtype\":\"Figure\",\"type\":\"Plot\"}},\"id\":\"5f1037bd-7472-43f7-9c62-7c02402ba2ab\",\"type\":\"Legend\"},{\"attributes\":{},\"id\":\"6b22fc24-9b27-446d-85c2-66a1ff4ae54d\",\"type\":\"ToolEvents\"},{\"attributes\":{\"line_alpha\":{\"value\":0.1},\"line_color\":{\"value\":\"#1f77b4\"},\"line_width\":{\"value\":2},\"x\":{\"field\":\"x\"},\"y\":{\"field\":\"y\"}},\"id\":\"125083b2-3ba2-4c7f-93a6-ab4e742d64b3\",\"type\":\"Line\"},{\"attributes\":{\"callback\":null},\"id\":\"413a5f58-95dc-4ccf-b2b5-d585565142ba\",\"type\":\"DataRange1d\"},{\"attributes\":{\"plot\":null,\"text\":\"simple line example\"},\"id\":\"8e29623d-a1ab-44bb-bce3-563ac22bae7f\",\"type\":\"Title\"},{\"attributes\":{},\"id\":\"e8d604c8-010c-4429-be9a-94fa976bafe3\",\"type\":\"BasicTicker\"},{\"attributes\":{\"plot\":{\"id\":\"ea3ad779-e685-4e51-878d-4b29371d8902\",\"subtype\":\"Figure\",\"type\":\"Plot\"}},\"id\":\"e24901ea-44fe-4b42-b028-701d8578bd70\",\"type\":\"PanTool\"}],\"root_ids\":[\"ea3ad779-e685-4e51-878d-4b29371d8902\"]},\"title\":\"Bokeh Application\",\"version\":\"0.12.3\"}};\n",
       "            var render_items = [{\"docid\":\"8460bddd-c256-471b-9790-14612ef5bb38\",\"elementid\":\"6956ce70-a008-4e2e-837e-2e5c3b72be85\",\"modelid\":\"ea3ad779-e685-4e51-878d-4b29371d8902\"}];\n",
       "            \n",
       "            Bokeh.embed.embed_items(docs_json, render_items);\n",
       "        });\n",
       "      },\n",
       "      function(Bokeh) {\n",
       "      }\n",
       "    ];\n",
       "  \n",
       "    function run_inline_js() {\n",
       "      \n",
       "      if ((window.Bokeh !== undefined) || (force === \"1\")) {\n",
       "        for (var i = 0; i < inline_js.length; i++) {\n",
       "          inline_js[i](window.Bokeh);\n",
       "        }if (force === \"1\") {\n",
       "          display_loaded();\n",
       "        }} else if (Date.now() < window._bokeh_timeout) {\n",
       "        setTimeout(run_inline_js, 100);\n",
       "      } else if (!window._bokeh_failed_load) {\n",
       "        console.log(\"Bokeh: BokehJS failed to load within specified timeout.\");\n",
       "        window._bokeh_failed_load = true;\n",
       "      } else if (!force) {\n",
       "        var cell = $(\"#6956ce70-a008-4e2e-837e-2e5c3b72be85\").parents('.cell').data().cell;\n",
       "        cell.output_area.append_execute_result(NB_LOAD_WARNING)\n",
       "      }\n",
       "  \n",
       "    }\n",
       "  \n",
       "    if (window._bokeh_is_loading === 0) {\n",
       "      console.log(\"Bokeh: BokehJS loaded, going straight to plotting\");\n",
       "      run_inline_js();\n",
       "    } else {\n",
       "      load_libs(js_urls, function() {\n",
       "        console.log(\"Bokeh: BokehJS plotting callback run at\", now());\n",
       "        run_inline_js();\n",
       "      });\n",
       "    }\n",
       "  }(this));\n",
       "</script>"
      ]
     },
     "metadata": {},
     "output_type": "display_data"
    }
   ],
   "source": [
    "n = 40\n",
    "sizes = [len(x.seq) for x in sorted_contigs[:n]]\n",
    "\n",
    "p = figure(title=\"simple line example\", x_axis_label='Sorted Contigs', y_axis_label='Contig Length')\n",
    "p.line(range(len(sizes)), sizes, legend=\"Length.\", line_width=2)\n",
    "p.line([0,n], [1000000, 1000000], legend=\"1 Mbp\", color='red')\n",
    "\n",
    "# show the results\n",
    "show(p)"
   ]
  },
  {
   "cell_type": "code",
   "execution_count": 26,
   "metadata": {
    "collapsed": true
   },
   "outputs": [],
   "source": [
    "real_substance = sorted_contigs[:29]"
   ]
  },
  {
   "cell_type": "code",
   "execution_count": 36,
   "metadata": {
    "collapsed": false
   },
   "outputs": [
    {
     "name": "stdout",
     "output_type": "stream",
     "text": [
      "Done writing  29 contigs and 737,441,400bp\n"
     ]
    }
   ],
   "source": [
    "filepath = r'D:\\Genomes\\Ash F. Pennsylvanica\\fraxinus_pennsylvanica_26Jul2017_uXjxm\\main_pennsylvanica_scaffolds.fa'\n",
    "   \n",
    "\n",
    "write_contigs_to_file(filepath, real_substance)"
   ]
  },
  {
   "cell_type": "code",
   "execution_count": 37,
   "metadata": {
    "collapsed": false
   },
   "outputs": [
    {
     "name": "stdout",
     "output_type": "stream",
     "text": [
      "29 737,441,400\n"
     ]
    }
   ],
   "source": [
    "written_c = read_contigs(filepath)\n",
    "\n",
    "print(len(written_c), '{:,}'.format(sum([len(x.seq) for x in written_c])))"
   ]
  },
  {
   "cell_type": "code",
   "execution_count": null,
   "metadata": {
    "collapsed": true
   },
   "outputs": [],
   "source": []
  }
 ],
 "metadata": {
  "kernelspec": {
   "display_name": "Python 3",
   "language": "python",
   "name": "python3"
  },
  "language_info": {
   "codemirror_mode": {
    "name": "ipython",
    "version": 3
   },
   "file_extension": ".py",
   "mimetype": "text/x-python",
   "name": "python",
   "nbconvert_exporter": "python",
   "pygments_lexer": "ipython3",
   "version": "3.4.3"
  }
 },
 "nbformat": 4,
 "nbformat_minor": 1
}
