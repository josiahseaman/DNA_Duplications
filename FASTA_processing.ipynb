{
 "cells": [
  {
   "cell_type": "code",
   "execution_count": 1,
   "metadata": {
    "collapsed": false
   },
   "outputs": [],
   "source": [
    "from Contigs import Contig, read_contigs\n",
    "\n",
    "from DDVUtils import write_contigs_to_file"
   ]
  },
  {
   "cell_type": "code",
   "execution_count": 2,
   "metadata": {
    "collapsed": false
   },
   "outputs": [
    {
     "data": {
      "text/plain": [
       "495002"
      ]
     },
     "execution_count": 2,
     "metadata": {},
     "output_type": "execute_result"
    }
   ],
   "source": [
    "contigs = read_contigs(input_file_path=r'D:\\Genomes\\Ash F. Pennsylvanica\\fraxinus_pennsylvanica_26Jul2017_uXjxm\\fraxinus_pennsylvanica_26Jul2017_uXjxm.fa')\n",
    "\n",
    "len(contigs)"
   ]
  },
  {
   "cell_type": "code",
   "execution_count": 3,
   "metadata": {
    "collapsed": false
   },
   "outputs": [
    {
     "data": {
      "text/plain": [
       "34147523"
      ]
     },
     "execution_count": 3,
     "metadata": {},
     "output_type": "execute_result"
    }
   ],
   "source": [
    "def sort_contigs_by_length(unsorted_contigs):\n",
    "    return sorted(unsorted_contigs, key=lambda x: -len(x.seq))\n",
    "\n",
    "sorted_contigs = sort_contigs_by_length(contigs)\n",
    "\n",
    "len(sorted_contigs[5].seq)"
   ]
  },
  {
   "cell_type": "code",
   "execution_count": 4,
   "metadata": {
    "collapsed": false
   },
   "outputs": [
    {
     "data": {
      "text/html": [
       "\n",
       "    <div class=\"bk-root\">\n",
       "        <a href=\"http://bokeh.pydata.org\" target=\"_blank\" class=\"bk-logo bk-logo-small bk-logo-notebook\"></a>\n",
       "        <span id=\"0aa5b2c0-c142-48a4-9ec7-773815f4263b\">Loading BokehJS ...</span>\n",
       "    </div>"
      ]
     },
     "metadata": {},
     "output_type": "display_data"
    },
    {
     "data": {
      "application/javascript": [
       "\n",
       "(function(global) {\n",
       "  function now() {\n",
       "    return new Date();\n",
       "  }\n",
       "\n",
       "  var force = \"1\";\n",
       "\n",
       "  if (typeof (window._bokeh_onload_callbacks) === \"undefined\" || force !== \"\") {\n",
       "    window._bokeh_onload_callbacks = [];\n",
       "    window._bokeh_is_loading = undefined;\n",
       "  }\n",
       "\n",
       "\n",
       "  \n",
       "  if (typeof (window._bokeh_timeout) === \"undefined\" || force !== \"\") {\n",
       "    window._bokeh_timeout = Date.now() + 5000;\n",
       "    window._bokeh_failed_load = false;\n",
       "  }\n",
       "\n",
       "  var NB_LOAD_WARNING = {'data': {'text/html':\n",
       "     \"<div style='background-color: #fdd'>\\n\"+\n",
       "     \"<p>\\n\"+\n",
       "     \"BokehJS does not appear to have successfully loaded. If loading BokehJS from CDN, this \\n\"+\n",
       "     \"may be due to a slow or bad network connection. Possible fixes:\\n\"+\n",
       "     \"</p>\\n\"+\n",
       "     \"<ul>\\n\"+\n",
       "     \"<li>re-rerun `output_notebook()` to attempt to load from CDN again, or</li>\\n\"+\n",
       "     \"<li>use INLINE resources instead, as so:</li>\\n\"+\n",
       "     \"</ul>\\n\"+\n",
       "     \"<code>\\n\"+\n",
       "     \"from bokeh.resources import INLINE\\n\"+\n",
       "     \"output_notebook(resources=INLINE)\\n\"+\n",
       "     \"</code>\\n\"+\n",
       "     \"</div>\"}};\n",
       "\n",
       "  function display_loaded() {\n",
       "    if (window.Bokeh !== undefined) {\n",
       "      Bokeh.$(\"#0aa5b2c0-c142-48a4-9ec7-773815f4263b\").text(\"BokehJS successfully loaded.\");\n",
       "    } else if (Date.now() < window._bokeh_timeout) {\n",
       "      setTimeout(display_loaded, 100)\n",
       "    }\n",
       "  }\n",
       "\n",
       "  function run_callbacks() {\n",
       "    window._bokeh_onload_callbacks.forEach(function(callback) { callback() });\n",
       "    delete window._bokeh_onload_callbacks\n",
       "    console.info(\"Bokeh: all callbacks have finished\");\n",
       "  }\n",
       "\n",
       "  function load_libs(js_urls, callback) {\n",
       "    window._bokeh_onload_callbacks.push(callback);\n",
       "    if (window._bokeh_is_loading > 0) {\n",
       "      console.log(\"Bokeh: BokehJS is being loaded, scheduling callback at\", now());\n",
       "      return null;\n",
       "    }\n",
       "    if (js_urls == null || js_urls.length === 0) {\n",
       "      run_callbacks();\n",
       "      return null;\n",
       "    }\n",
       "    console.log(\"Bokeh: BokehJS not loaded, scheduling load and callback at\", now());\n",
       "    window._bokeh_is_loading = js_urls.length;\n",
       "    for (var i = 0; i < js_urls.length; i++) {\n",
       "      var url = js_urls[i];\n",
       "      var s = document.createElement('script');\n",
       "      s.src = url;\n",
       "      s.async = false;\n",
       "      s.onreadystatechange = s.onload = function() {\n",
       "        window._bokeh_is_loading--;\n",
       "        if (window._bokeh_is_loading === 0) {\n",
       "          console.log(\"Bokeh: all BokehJS libraries loaded\");\n",
       "          run_callbacks()\n",
       "        }\n",
       "      };\n",
       "      s.onerror = function() {\n",
       "        console.warn(\"failed to load library \" + url);\n",
       "      };\n",
       "      console.log(\"Bokeh: injecting script tag for BokehJS library: \", url);\n",
       "      document.getElementsByTagName(\"head\")[0].appendChild(s);\n",
       "    }\n",
       "  };var element = document.getElementById(\"0aa5b2c0-c142-48a4-9ec7-773815f4263b\");\n",
       "  if (element == null) {\n",
       "    console.log(\"Bokeh: ERROR: autoload.js configured with elementid '0aa5b2c0-c142-48a4-9ec7-773815f4263b' but no matching script tag was found. \")\n",
       "    return false;\n",
       "  }\n",
       "\n",
       "  var js_urls = ['https://cdn.pydata.org/bokeh/release/bokeh-0.12.3.min.js', 'https://cdn.pydata.org/bokeh/release/bokeh-widgets-0.12.3.min.js'];\n",
       "\n",
       "  var inline_js = [\n",
       "    function(Bokeh) {\n",
       "      Bokeh.set_log_level(\"info\");\n",
       "    },\n",
       "    \n",
       "    function(Bokeh) {\n",
       "      \n",
       "      Bokeh.$(\"#0aa5b2c0-c142-48a4-9ec7-773815f4263b\").text(\"BokehJS is loading...\");\n",
       "    },\n",
       "    function(Bokeh) {\n",
       "      console.log(\"Bokeh: injecting CSS: https://cdn.pydata.org/bokeh/release/bokeh-0.12.3.min.css\");\n",
       "      Bokeh.embed.inject_css(\"https://cdn.pydata.org/bokeh/release/bokeh-0.12.3.min.css\");\n",
       "      console.log(\"Bokeh: injecting CSS: https://cdn.pydata.org/bokeh/release/bokeh-widgets-0.12.3.min.css\");\n",
       "      Bokeh.embed.inject_css(\"https://cdn.pydata.org/bokeh/release/bokeh-widgets-0.12.3.min.css\");\n",
       "    }\n",
       "  ];\n",
       "\n",
       "  function run_inline_js() {\n",
       "    \n",
       "    if ((window.Bokeh !== undefined) || (force === \"1\")) {\n",
       "      for (var i = 0; i < inline_js.length; i++) {\n",
       "        inline_js[i](window.Bokeh);\n",
       "      }if (force === \"1\") {\n",
       "        display_loaded();\n",
       "      }} else if (Date.now() < window._bokeh_timeout) {\n",
       "      setTimeout(run_inline_js, 100);\n",
       "    } else if (!window._bokeh_failed_load) {\n",
       "      console.log(\"Bokeh: BokehJS failed to load within specified timeout.\");\n",
       "      window._bokeh_failed_load = true;\n",
       "    } else if (!force) {\n",
       "      var cell = $(\"#0aa5b2c0-c142-48a4-9ec7-773815f4263b\").parents('.cell').data().cell;\n",
       "      cell.output_area.append_execute_result(NB_LOAD_WARNING)\n",
       "    }\n",
       "\n",
       "  }\n",
       "\n",
       "  if (window._bokeh_is_loading === 0) {\n",
       "    console.log(\"Bokeh: BokehJS loaded, going straight to plotting\");\n",
       "    run_inline_js();\n",
       "  } else {\n",
       "    load_libs(js_urls, function() {\n",
       "      console.log(\"Bokeh: BokehJS plotting callback run at\", now());\n",
       "      run_inline_js();\n",
       "    });\n",
       "  }\n",
       "}(this));"
      ]
     },
     "metadata": {},
     "output_type": "display_data"
    }
   ],
   "source": [
    "from bokeh.io import push_notebook, show, output_notebook\n",
    "from bokeh.layouts import row\n",
    "from bokeh.plotting import figure\n",
    "output_notebook()"
   ]
  },
  {
   "cell_type": "code",
   "execution_count": 17,
   "metadata": {
    "collapsed": false
   },
   "outputs": [
    {
     "data": {
      "text/html": [
       "\n",
       "\n",
       "    <div class=\"bk-root\">\n",
       "        <div class=\"plotdiv\" id=\"23d2a722-d3e5-4fcb-b657-e938269396b3\"></div>\n",
       "    </div>\n",
       "<script type=\"text/javascript\">\n",
       "  \n",
       "  (function(global) {\n",
       "    function now() {\n",
       "      return new Date();\n",
       "    }\n",
       "  \n",
       "    var force = \"\";\n",
       "  \n",
       "    if (typeof (window._bokeh_onload_callbacks) === \"undefined\" || force !== \"\") {\n",
       "      window._bokeh_onload_callbacks = [];\n",
       "      window._bokeh_is_loading = undefined;\n",
       "    }\n",
       "  \n",
       "  \n",
       "    \n",
       "    if (typeof (window._bokeh_timeout) === \"undefined\" || force !== \"\") {\n",
       "      window._bokeh_timeout = Date.now() + 0;\n",
       "      window._bokeh_failed_load = false;\n",
       "    }\n",
       "  \n",
       "    var NB_LOAD_WARNING = {'data': {'text/html':\n",
       "       \"<div style='background-color: #fdd'>\\n\"+\n",
       "       \"<p>\\n\"+\n",
       "       \"BokehJS does not appear to have successfully loaded. If loading BokehJS from CDN, this \\n\"+\n",
       "       \"may be due to a slow or bad network connection. Possible fixes:\\n\"+\n",
       "       \"</p>\\n\"+\n",
       "       \"<ul>\\n\"+\n",
       "       \"<li>re-rerun `output_notebook()` to attempt to load from CDN again, or</li>\\n\"+\n",
       "       \"<li>use INLINE resources instead, as so:</li>\\n\"+\n",
       "       \"</ul>\\n\"+\n",
       "       \"<code>\\n\"+\n",
       "       \"from bokeh.resources import INLINE\\n\"+\n",
       "       \"output_notebook(resources=INLINE)\\n\"+\n",
       "       \"</code>\\n\"+\n",
       "       \"</div>\"}};\n",
       "  \n",
       "    function display_loaded() {\n",
       "      if (window.Bokeh !== undefined) {\n",
       "        Bokeh.$(\"#23d2a722-d3e5-4fcb-b657-e938269396b3\").text(\"BokehJS successfully loaded.\");\n",
       "      } else if (Date.now() < window._bokeh_timeout) {\n",
       "        setTimeout(display_loaded, 100)\n",
       "      }\n",
       "    }\n",
       "  \n",
       "    function run_callbacks() {\n",
       "      window._bokeh_onload_callbacks.forEach(function(callback) { callback() });\n",
       "      delete window._bokeh_onload_callbacks\n",
       "      console.info(\"Bokeh: all callbacks have finished\");\n",
       "    }\n",
       "  \n",
       "    function load_libs(js_urls, callback) {\n",
       "      window._bokeh_onload_callbacks.push(callback);\n",
       "      if (window._bokeh_is_loading > 0) {\n",
       "        console.log(\"Bokeh: BokehJS is being loaded, scheduling callback at\", now());\n",
       "        return null;\n",
       "      }\n",
       "      if (js_urls == null || js_urls.length === 0) {\n",
       "        run_callbacks();\n",
       "        return null;\n",
       "      }\n",
       "      console.log(\"Bokeh: BokehJS not loaded, scheduling load and callback at\", now());\n",
       "      window._bokeh_is_loading = js_urls.length;\n",
       "      for (var i = 0; i < js_urls.length; i++) {\n",
       "        var url = js_urls[i];\n",
       "        var s = document.createElement('script');\n",
       "        s.src = url;\n",
       "        s.async = false;\n",
       "        s.onreadystatechange = s.onload = function() {\n",
       "          window._bokeh_is_loading--;\n",
       "          if (window._bokeh_is_loading === 0) {\n",
       "            console.log(\"Bokeh: all BokehJS libraries loaded\");\n",
       "            run_callbacks()\n",
       "          }\n",
       "        };\n",
       "        s.onerror = function() {\n",
       "          console.warn(\"failed to load library \" + url);\n",
       "        };\n",
       "        console.log(\"Bokeh: injecting script tag for BokehJS library: \", url);\n",
       "        document.getElementsByTagName(\"head\")[0].appendChild(s);\n",
       "      }\n",
       "    };var element = document.getElementById(\"23d2a722-d3e5-4fcb-b657-e938269396b3\");\n",
       "    if (element == null) {\n",
       "      console.log(\"Bokeh: ERROR: autoload.js configured with elementid '23d2a722-d3e5-4fcb-b657-e938269396b3' but no matching script tag was found. \")\n",
       "      return false;\n",
       "    }\n",
       "  \n",
       "    var js_urls = [];\n",
       "  \n",
       "    var inline_js = [\n",
       "      function(Bokeh) {\n",
       "        Bokeh.$(function() {\n",
       "            var docs_json = {\"76f78dd9-5ea2-4902-9a86-53e58e5bde21\":{\"roots\":{\"references\":[{\"attributes\":{\"plot\":{\"id\":\"60beba3d-af82-443d-8d17-b98ca9666e7a\",\"subtype\":\"Figure\",\"type\":\"Plot\"}},\"id\":\"3acbbaee-1558-47c3-9e8d-199bb10acf86\",\"type\":\"ResetTool\"},{\"attributes\":{\"dimension\":1,\"plot\":{\"id\":\"60beba3d-af82-443d-8d17-b98ca9666e7a\",\"subtype\":\"Figure\",\"type\":\"Plot\"},\"ticker\":{\"id\":\"4aa1b1e9-c293-49e5-93ae-ffff66b94ce5\",\"type\":\"BasicTicker\"}},\"id\":\"fa6b18f2-db2e-4860-9cea-7ca919374032\",\"type\":\"Grid\"},{\"attributes\":{\"below\":[{\"id\":\"c495cf18-7f4a-4257-b654-b9cf08f73058\",\"type\":\"LinearAxis\"}],\"left\":[{\"id\":\"e79b7d10-f603-41bd-b28c-e84f24e725f3\",\"type\":\"LinearAxis\"}],\"renderers\":[{\"id\":\"c495cf18-7f4a-4257-b654-b9cf08f73058\",\"type\":\"LinearAxis\"},{\"id\":\"3c8af0a1-157a-4d4a-bd57-169926a4885b\",\"type\":\"Grid\"},{\"id\":\"e79b7d10-f603-41bd-b28c-e84f24e725f3\",\"type\":\"LinearAxis\"},{\"id\":\"fa6b18f2-db2e-4860-9cea-7ca919374032\",\"type\":\"Grid\"},{\"id\":\"ad1a45b5-0753-422d-8437-b2d27b1a486a\",\"type\":\"BoxAnnotation\"},{\"id\":\"cf0042e2-e15a-47d8-be2b-59df95453a1b\",\"type\":\"Legend\"},{\"id\":\"6fefda74-98c9-4390-8105-84db6b484809\",\"type\":\"GlyphRenderer\"},{\"id\":\"c9c5a0fc-9a9f-4680-8c82-317f41ab4ef9\",\"type\":\"GlyphRenderer\"}],\"title\":{\"id\":\"147af4c9-3dfc-4314-b30b-692ce4d61d8f\",\"type\":\"Title\"},\"tool_events\":{\"id\":\"a15453c8-5b89-48b7-8d17-dccb4ddcaaf2\",\"type\":\"ToolEvents\"},\"toolbar\":{\"id\":\"8919adb2-025f-455f-8bdf-cc6edaf924ea\",\"type\":\"Toolbar\"},\"x_range\":{\"id\":\"6d82098d-daf4-43bf-85d0-976d61c4d715\",\"type\":\"DataRange1d\"},\"y_range\":{\"id\":\"3682def8-a731-4f54-8be1-24347c296f1e\",\"type\":\"DataRange1d\"}},\"id\":\"60beba3d-af82-443d-8d17-b98ca9666e7a\",\"subtype\":\"Figure\",\"type\":\"Plot\"},{\"attributes\":{\"line_color\":{\"value\":\"red\"},\"x\":{\"field\":\"x\"},\"y\":{\"field\":\"y\"}},\"id\":\"dc9fc4ed-d8b5-41ad-a943-d7a92be9ccf9\",\"type\":\"Line\"},{\"attributes\":{\"plot\":{\"id\":\"60beba3d-af82-443d-8d17-b98ca9666e7a\",\"subtype\":\"Figure\",\"type\":\"Plot\"}},\"id\":\"7465a77f-665d-4dbe-9106-d9c7dcb301d8\",\"type\":\"SaveTool\"},{\"attributes\":{\"fill_alpha\":{\"value\":0.1},\"fill_color\":{\"value\":\"#1f77b4\"},\"line_alpha\":{\"value\":0.1},\"line_color\":{\"value\":\"#1f77b4\"},\"line_width\":{\"value\":2},\"x\":{\"field\":\"x\"},\"y\":{\"field\":\"y\"}},\"id\":\"f41777fd-f6a0-44d9-85a4-2c0b78fb0b62\",\"type\":\"Circle\"},{\"attributes\":{\"plot\":{\"id\":\"60beba3d-af82-443d-8d17-b98ca9666e7a\",\"subtype\":\"Figure\",\"type\":\"Plot\"}},\"id\":\"9d186b7d-e622-4d32-a567-25dec7a97107\",\"type\":\"HelpTool\"},{\"attributes\":{\"callback\":null},\"id\":\"3682def8-a731-4f54-8be1-24347c296f1e\",\"type\":\"DataRange1d\"},{\"attributes\":{},\"id\":\"a15453c8-5b89-48b7-8d17-dccb4ddcaaf2\",\"type\":\"ToolEvents\"},{\"attributes\":{\"data_source\":{\"id\":\"84c38eda-5789-4f43-8cf2-1c6e47f28d48\",\"type\":\"ColumnDataSource\"},\"glyph\":{\"id\":\"7f15f1f0-5f9f-4e84-a4e1-dfc47cf02658\",\"type\":\"Circle\"},\"hover_glyph\":null,\"nonselection_glyph\":{\"id\":\"f41777fd-f6a0-44d9-85a4-2c0b78fb0b62\",\"type\":\"Circle\"},\"selection_glyph\":null},\"id\":\"6fefda74-98c9-4390-8105-84db6b484809\",\"type\":\"GlyphRenderer\"},{\"attributes\":{\"bottom_units\":\"screen\",\"fill_alpha\":{\"value\":0.5},\"fill_color\":{\"value\":\"lightgrey\"},\"left_units\":\"screen\",\"level\":\"overlay\",\"line_alpha\":{\"value\":1.0},\"line_color\":{\"value\":\"black\"},\"line_dash\":[4,4],\"line_width\":{\"value\":2},\"plot\":null,\"render_mode\":\"css\",\"right_units\":\"screen\",\"top_units\":\"screen\"},\"id\":\"ad1a45b5-0753-422d-8437-b2d27b1a486a\",\"type\":\"BoxAnnotation\"},{\"attributes\":{},\"id\":\"8a0cf4cc-efdc-459d-9675-bec63b1d585e\",\"type\":\"BasicTickFormatter\"},{\"attributes\":{\"axis_label\":\"Sorted Contigs\",\"formatter\":{\"id\":\"07726f8e-0a68-4541-b45c-fe3f2b41cf39\",\"type\":\"BasicTickFormatter\"},\"plot\":{\"id\":\"60beba3d-af82-443d-8d17-b98ca9666e7a\",\"subtype\":\"Figure\",\"type\":\"Plot\"},\"ticker\":{\"id\":\"37b89844-ee52-4326-9f80-159a1cbcc80b\",\"type\":\"BasicTicker\"}},\"id\":\"c495cf18-7f4a-4257-b654-b9cf08f73058\",\"type\":\"LinearAxis\"},{\"attributes\":{\"axis_label\":\"Contig Length\",\"formatter\":{\"id\":\"8a0cf4cc-efdc-459d-9675-bec63b1d585e\",\"type\":\"BasicTickFormatter\"},\"plot\":{\"id\":\"60beba3d-af82-443d-8d17-b98ca9666e7a\",\"subtype\":\"Figure\",\"type\":\"Plot\"},\"ticker\":{\"id\":\"4aa1b1e9-c293-49e5-93ae-ffff66b94ce5\",\"type\":\"BasicTicker\"}},\"id\":\"e79b7d10-f603-41bd-b28c-e84f24e725f3\",\"type\":\"LinearAxis\"},{\"attributes\":{\"plot\":{\"id\":\"60beba3d-af82-443d-8d17-b98ca9666e7a\",\"subtype\":\"Figure\",\"type\":\"Plot\"}},\"id\":\"5ea4546f-d4cf-4d91-9196-25be39c7c9dd\",\"type\":\"WheelZoomTool\"},{\"attributes\":{},\"id\":\"4aa1b1e9-c293-49e5-93ae-ffff66b94ce5\",\"type\":\"BasicTicker\"},{\"attributes\":{},\"id\":\"07726f8e-0a68-4541-b45c-fe3f2b41cf39\",\"type\":\"BasicTickFormatter\"},{\"attributes\":{\"active_drag\":\"auto\",\"active_scroll\":\"auto\",\"active_tap\":\"auto\",\"tools\":[{\"id\":\"bdc8d386-2a56-48ff-90b3-4d7e4072b051\",\"type\":\"PanTool\"},{\"id\":\"5ea4546f-d4cf-4d91-9196-25be39c7c9dd\",\"type\":\"WheelZoomTool\"},{\"id\":\"799befeb-6528-4e39-9838-60b164387bca\",\"type\":\"BoxZoomTool\"},{\"id\":\"7465a77f-665d-4dbe-9106-d9c7dcb301d8\",\"type\":\"SaveTool\"},{\"id\":\"3acbbaee-1558-47c3-9e8d-199bb10acf86\",\"type\":\"ResetTool\"},{\"id\":\"9d186b7d-e622-4d32-a567-25dec7a97107\",\"type\":\"HelpTool\"}]},\"id\":\"8919adb2-025f-455f-8bdf-cc6edaf924ea\",\"type\":\"Toolbar\"},{\"attributes\":{\"overlay\":{\"id\":\"ad1a45b5-0753-422d-8437-b2d27b1a486a\",\"type\":\"BoxAnnotation\"},\"plot\":{\"id\":\"60beba3d-af82-443d-8d17-b98ca9666e7a\",\"subtype\":\"Figure\",\"type\":\"Plot\"}},\"id\":\"799befeb-6528-4e39-9838-60b164387bca\",\"type\":\"BoxZoomTool\"},{\"attributes\":{\"callback\":null,\"column_names\":[\"y\",\"x\"],\"data\":{\"x\":[0,50],\"y\":[1000000,1000000]}},\"id\":\"eaf7fac2-6c0a-4acc-970e-21ad5473abd3\",\"type\":\"ColumnDataSource\"},{\"attributes\":{},\"id\":\"37b89844-ee52-4326-9f80-159a1cbcc80b\",\"type\":\"BasicTicker\"},{\"attributes\":{\"label\":{\"value\":\"Length.\"},\"renderers\":[{\"id\":\"6fefda74-98c9-4390-8105-84db6b484809\",\"type\":\"GlyphRenderer\"}]},\"id\":\"1d55abe2-205c-4a58-b75d-e6019fa4333d\",\"type\":\"LegendItem\"},{\"attributes\":{\"data_source\":{\"id\":\"eaf7fac2-6c0a-4acc-970e-21ad5473abd3\",\"type\":\"ColumnDataSource\"},\"glyph\":{\"id\":\"dc9fc4ed-d8b5-41ad-a943-d7a92be9ccf9\",\"type\":\"Line\"},\"hover_glyph\":null,\"nonselection_glyph\":{\"id\":\"88340249-e573-4dcf-a1bf-20afc5a48f0c\",\"type\":\"Line\"},\"selection_glyph\":null},\"id\":\"c9c5a0fc-9a9f-4680-8c82-317f41ab4ef9\",\"type\":\"GlyphRenderer\"},{\"attributes\":{\"plot\":null,\"text\":\"Penssylvanica Contig Lengths\"},\"id\":\"147af4c9-3dfc-4314-b30b-692ce4d61d8f\",\"type\":\"Title\"},{\"attributes\":{\"plot\":{\"id\":\"60beba3d-af82-443d-8d17-b98ca9666e7a\",\"subtype\":\"Figure\",\"type\":\"Plot\"}},\"id\":\"bdc8d386-2a56-48ff-90b3-4d7e4072b051\",\"type\":\"PanTool\"},{\"attributes\":{\"line_alpha\":{\"value\":0.1},\"line_color\":{\"value\":\"#1f77b4\"},\"x\":{\"field\":\"x\"},\"y\":{\"field\":\"y\"}},\"id\":\"88340249-e573-4dcf-a1bf-20afc5a48f0c\",\"type\":\"Line\"},{\"attributes\":{\"label\":{\"value\":\"1 Mbp\"},\"renderers\":[{\"id\":\"c9c5a0fc-9a9f-4680-8c82-317f41ab4ef9\",\"type\":\"GlyphRenderer\"}]},\"id\":\"2bbcb486-ecf7-4560-ac6d-bb5a9733ffde\",\"type\":\"LegendItem\"},{\"attributes\":{\"fill_color\":{\"value\":\"#1f77b4\"},\"line_color\":{\"value\":\"#1f77b4\"},\"line_width\":{\"value\":2},\"x\":{\"field\":\"x\"},\"y\":{\"field\":\"y\"}},\"id\":\"7f15f1f0-5f9f-4e84-a4e1-dfc47cf02658\",\"type\":\"Circle\"},{\"attributes\":{\"callback\":null,\"column_names\":[\"x\",\"y\"],\"data\":{\"x\":[0,1,2,3,4,5,6,7,8,9,10,11,12,13,14,15,16,17,18,19,20,21,22,23,24,25,26,27,28,29,30,31,32,33,34,35,36,37,38,39,40,41,42,43,44,45,46,47,48,49],\"y\":[50995270,43608880,39445854,35099959,34501153,34147523,33820380,31893592,31863345,30717653,30524050,30397008,27998687,27152721,26865606,26605849,26354852,25897340,25639400,24885302,24819257,22919704,22141284,9428771,7793390,4250457,3872777,2612082,1189254,180604,172183,131575,87075,65174,59702,45118,40327,36158,34527,33828,32093,31931,27547,26381,25703,25605,23499,23274,21124,21058]}},\"id\":\"84c38eda-5789-4f43-8cf2-1c6e47f28d48\",\"type\":\"ColumnDataSource\"},{\"attributes\":{\"plot\":{\"id\":\"60beba3d-af82-443d-8d17-b98ca9666e7a\",\"subtype\":\"Figure\",\"type\":\"Plot\"},\"ticker\":{\"id\":\"37b89844-ee52-4326-9f80-159a1cbcc80b\",\"type\":\"BasicTicker\"}},\"id\":\"3c8af0a1-157a-4d4a-bd57-169926a4885b\",\"type\":\"Grid\"},{\"attributes\":{\"callback\":null},\"id\":\"6d82098d-daf4-43bf-85d0-976d61c4d715\",\"type\":\"DataRange1d\"},{\"attributes\":{\"items\":[{\"id\":\"1d55abe2-205c-4a58-b75d-e6019fa4333d\",\"type\":\"LegendItem\"},{\"id\":\"2bbcb486-ecf7-4560-ac6d-bb5a9733ffde\",\"type\":\"LegendItem\"}],\"plot\":{\"id\":\"60beba3d-af82-443d-8d17-b98ca9666e7a\",\"subtype\":\"Figure\",\"type\":\"Plot\"}},\"id\":\"cf0042e2-e15a-47d8-be2b-59df95453a1b\",\"type\":\"Legend\"}],\"root_ids\":[\"60beba3d-af82-443d-8d17-b98ca9666e7a\"]},\"title\":\"Bokeh Application\",\"version\":\"0.12.3\"}};\n",
       "            var render_items = [{\"docid\":\"76f78dd9-5ea2-4902-9a86-53e58e5bde21\",\"elementid\":\"23d2a722-d3e5-4fcb-b657-e938269396b3\",\"modelid\":\"60beba3d-af82-443d-8d17-b98ca9666e7a\"}];\n",
       "            \n",
       "            Bokeh.embed.embed_items(docs_json, render_items);\n",
       "        });\n",
       "      },\n",
       "      function(Bokeh) {\n",
       "      }\n",
       "    ];\n",
       "  \n",
       "    function run_inline_js() {\n",
       "      \n",
       "      if ((window.Bokeh !== undefined) || (force === \"1\")) {\n",
       "        for (var i = 0; i < inline_js.length; i++) {\n",
       "          inline_js[i](window.Bokeh);\n",
       "        }if (force === \"1\") {\n",
       "          display_loaded();\n",
       "        }} else if (Date.now() < window._bokeh_timeout) {\n",
       "        setTimeout(run_inline_js, 100);\n",
       "      } else if (!window._bokeh_failed_load) {\n",
       "        console.log(\"Bokeh: BokehJS failed to load within specified timeout.\");\n",
       "        window._bokeh_failed_load = true;\n",
       "      } else if (!force) {\n",
       "        var cell = $(\"#23d2a722-d3e5-4fcb-b657-e938269396b3\").parents('.cell').data().cell;\n",
       "        cell.output_area.append_execute_result(NB_LOAD_WARNING)\n",
       "      }\n",
       "  \n",
       "    }\n",
       "  \n",
       "    if (window._bokeh_is_loading === 0) {\n",
       "      console.log(\"Bokeh: BokehJS loaded, going straight to plotting\");\n",
       "      run_inline_js();\n",
       "    } else {\n",
       "      load_libs(js_urls, function() {\n",
       "        console.log(\"Bokeh: BokehJS plotting callback run at\", now());\n",
       "        run_inline_js();\n",
       "      });\n",
       "    }\n",
       "  }(this));\n",
       "</script>"
      ]
     },
     "metadata": {},
     "output_type": "display_data"
    }
   ],
   "source": [
    "n = 50\n",
    "sizes = [len(x.seq) for x in sorted_contigs[:n]]\n",
    "\n",
    "p = figure(title=\"Penssylvanica Contig Lengths\", x_axis_label='Sorted Contigs', y_axis_label='Contig Length')\n",
    "p.scatter(range(len(sizes)), sizes, legend=\"Length.\", line_width=2)\n",
    "p.line([0,n], [1000000, 1000000], legend=\"1 Mbp\", color='red')\n",
    "\n",
    "# show the results\n",
    "show(p)"
   ]
  },
  {
   "cell_type": "code",
   "execution_count": 6,
   "metadata": {
    "collapsed": true
   },
   "outputs": [],
   "source": [
    "real_substance = sorted_contigs[:29]"
   ]
  },
  {
   "cell_type": "code",
   "execution_count": 7,
   "metadata": {
    "collapsed": false
   },
   "outputs": [
    {
     "name": "stdout",
     "output_type": "stream",
     "text": [
      "Done writing  29 contigs and 737,441,400bp\n"
     ]
    }
   ],
   "source": [
    "filepath = r'D:\\Genomes\\Ash F. Pennsylvanica\\fraxinus_pennsylvanica_26Jul2017_uXjxm\\main_pennsylvanica_scaffolds.fa'\n",
    "   \n",
    "\n",
    "write_contigs_to_file(filepath, real_substance)"
   ]
  },
  {
   "cell_type": "code",
   "execution_count": 8,
   "metadata": {
    "collapsed": false
   },
   "outputs": [
    {
     "name": "stdout",
     "output_type": "stream",
     "text": [
      "29 737,441,400\n"
     ]
    }
   ],
   "source": [
    "written_c = read_contigs(filepath)\n",
    "\n",
    "print(len(written_c), '{:,}'.format(sum([len(x.seq) for x in written_c])))"
   ]
  },
  {
   "cell_type": "code",
   "execution_count": 27,
   "metadata": {
    "collapsed": false
   },
   "outputs": [
    {
     "name": "stdout",
     "output_type": "stream",
     "text": [
      "pennsylvanica.ScuXjxm_494999;HRSCAF=496248\n",
      "pennsylvanica.ScuXjxm_494985;HRSCAF=496196\n",
      "pennsylvanica.ScuXjxm_494991;HRSCAF=496207\n",
      "pennsylvanica.ScuXjxm_257556;HRSCAF=257952\n",
      "pennsylvanica.ScuXjxm_125222;HRSCAF=125413\n",
      "pennsylvanica.ScuXjxm_494981;HRSCAF=496072\n",
      "pennsylvanica.ScuXjxm_494996;HRSCAF=496225\n",
      "pennsylvanica.ScuXjxm_494984;HRSCAF=496195\n",
      "pennsylvanica.ScuXjxm_494994;HRSCAF=496212\n",
      "pennsylvanica.ScuXjxm_494987;HRSCAF=496199\n",
      "pennsylvanica.ScuXjxm_495002;HRSCAF=496252\n",
      "pennsylvanica.ScuXjxm_494992;HRSCAF=496209\n",
      "pennsylvanica.ScuXjxm_23148;HRSCAF=23188\n",
      "pennsylvanica.ScuXjxm_138335;HRSCAF=138560\n",
      "pennsylvanica.ScuXjxm_494986;HRSCAF=496197\n",
      "pennsylvanica.ScuXjxm_494978;HRSCAF=496020\n",
      "pennsylvanica.ScuXjxm_494988;HRSCAF=496201\n",
      "pennsylvanica.ScuXjxm_494998;HRSCAF=496232\n",
      "pennsylvanica.ScuXjxm_495001;HRSCAF=496251\n",
      "pennsylvanica.ScuXjxm_358465;HRSCAF=359033\n",
      "pennsylvanica.ScuXjxm_494995;HRSCAF=496215\n",
      "pennsylvanica.ScuXjxm_495000;HRSCAF=496249\n",
      "pennsylvanica.ScuXjxm_274662;HRSCAF=275086\n",
      "pennsylvanica.ScuXjxm_494989;HRSCAF=496202\n",
      "pennsylvanica.ScuXjxm_494990;HRSCAF=496204\n",
      "pennsylvanica.ScuXjxm_494993;HRSCAF=496211\n",
      "pennsylvanica.ScuXjxm_90248;HRSCAF=90386\n",
      "pennsylvanica.ScuXjxm_494977;HRSCAF=495950\n",
      "pennsylvanica.ScuXjxm_329848;HRSCAF=330368\n"
     ]
    }
   ],
   "source": [
    "desired_contigs = set()\n",
    "for contig in real_substance:\n",
    "    print('pennsylvanica.' + contig.name)\n",
    "    desired_contigs.add('pennsylvanica.' + contig.name)"
   ]
  },
  {
   "cell_type": "code",
   "execution_count": 22,
   "metadata": {
    "collapsed": false
   },
   "outputs": [
    {
     "data": {
      "text/plain": [
       "'ScuXjxm_125222;HRSCAF=125413'"
      ]
     },
     "execution_count": 22,
     "metadata": {},
     "output_type": "execute_result"
    }
   ],
   "source": [
    "a = '732\tpennsylvanica.ScuXjxm_125222;HRSCAF=125413\t5313525\t194\t+\t34501153\texcelsior.Contig1531\t64686\t193\t+\t125224\t106,1:0,87\tmismap=1e-09'\n",
    "a.split('\\t')[1].split('.')[1]"
   ]
  },
  {
   "cell_type": "code",
   "execution_count": 30,
   "metadata": {
    "collapsed": false
   },
   "outputs": [],
   "source": [
    "with open(r'D:\\Genomes\\Ash F. Pennsylvanica\\fraxinus_pennsylvanica_26Jul2017_uXjxm\\pennsylvanica-excelsior__one_to_one__high_confidence.tab', 'r') as alignment:\n",
    "    with open(r'D:\\Genomes\\Ash F. Pennsylvanica\\fraxinus_pennsylvanica_26Jul2017_uXjxm\\main_alignment.tab', 'w') as outfile:\n",
    "        for entry in alignment.read().splitlines():\n",
    "            contig_name = entry.split('\\t')[1]  # seek out the relevant sub-column\n",
    "            if contig_name in desired_contigs:\n",
    "                outfile.write(entry + '\\n')"
   ]
  },
  {
   "cell_type": "code",
   "execution_count": null,
   "metadata": {
    "collapsed": true
   },
   "outputs": [],
   "source": []
  },
  {
   "cell_type": "code",
   "execution_count": null,
   "metadata": {
    "collapsed": true
   },
   "outputs": [],
   "source": []
  },
  {
   "cell_type": "code",
   "execution_count": null,
   "metadata": {
    "collapsed": true
   },
   "outputs": [],
   "source": []
  },
  {
   "cell_type": "code",
   "execution_count": null,
   "metadata": {
    "collapsed": true
   },
   "outputs": [],
   "source": []
  }
 ],
 "metadata": {
  "kernelspec": {
   "display_name": "Python 3",
   "language": "python",
   "name": "python3"
  },
  "language_info": {
   "codemirror_mode": {
    "name": "ipython",
    "version": 3
   },
   "file_extension": ".py",
   "mimetype": "text/x-python",
   "name": "python",
   "nbconvert_exporter": "python",
   "pygments_lexer": "ipython3",
   "version": "3.4.3"
  }
 },
 "nbformat": 4,
 "nbformat_minor": 1
}
