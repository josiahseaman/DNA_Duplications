{
 "cells": [
  {
   "cell_type": "code",
   "execution_count": 1,
   "metadata": {
    "collapsed": false
   },
   "outputs": [],
   "source": [
    "from Contigs import Contig, read_contigs\n",
    "\n",
    "from DDVUtils import write_contigs_to_file"
   ]
  },
  {
   "cell_type": "code",
   "execution_count": 2,
   "metadata": {
    "collapsed": false
   },
   "outputs": [
    {
     "data": {
      "text/plain": [
       "495002"
      ]
     },
     "execution_count": 2,
     "metadata": {},
     "output_type": "execute_result"
    }
   ],
   "source": [
    "contigs = read_contigs(input_file_path=r'D:\\Genomes\\Ash F. Pennsylvanica\\fraxinus_pennsylvanica_26Jul2017_uXjxm\\fraxinus_pennsylvanica_26Jul2017_uXjxm.fa')\n",
    "\n",
    "len(contigs)"
   ]
  },
  {
   "cell_type": "code",
   "execution_count": 3,
   "metadata": {
    "collapsed": false
   },
   "outputs": [
    {
     "data": {
      "text/plain": [
       "34147523"
      ]
     },
     "execution_count": 3,
     "metadata": {},
     "output_type": "execute_result"
    }
   ],
   "source": [
    "def sort_contigs_by_length(unsorted_contigs):\n",
    "    return sorted(unsorted_contigs, key=lambda x: -len(x.seq))\n",
    "\n",
    "sorted_contigs = sort_contigs_by_length(contigs)\n",
    "\n",
    "len(sorted_contigs[5].seq)"
   ]
  },
  {
   "cell_type": "code",
   "execution_count": 4,
   "metadata": {
    "collapsed": false
   },
   "outputs": [
    {
     "data": {
      "text/html": [
       "\n",
       "    <div class=\"bk-root\">\n",
       "        <a href=\"http://bokeh.pydata.org\" target=\"_blank\" class=\"bk-logo bk-logo-small bk-logo-notebook\"></a>\n",
       "        <span id=\"0aa5b2c0-c142-48a4-9ec7-773815f4263b\">Loading BokehJS ...</span>\n",
       "    </div>"
      ]
     },
     "metadata": {},
     "output_type": "display_data"
    },
    {
     "data": {
      "application/javascript": [
       "\n",
       "(function(global) {\n",
       "  function now() {\n",
       "    return new Date();\n",
       "  }\n",
       "\n",
       "  var force = \"1\";\n",
       "\n",
       "  if (typeof (window._bokeh_onload_callbacks) === \"undefined\" || force !== \"\") {\n",
       "    window._bokeh_onload_callbacks = [];\n",
       "    window._bokeh_is_loading = undefined;\n",
       "  }\n",
       "\n",
       "\n",
       "  \n",
       "  if (typeof (window._bokeh_timeout) === \"undefined\" || force !== \"\") {\n",
       "    window._bokeh_timeout = Date.now() + 5000;\n",
       "    window._bokeh_failed_load = false;\n",
       "  }\n",
       "\n",
       "  var NB_LOAD_WARNING = {'data': {'text/html':\n",
       "     \"<div style='background-color: #fdd'>\\n\"+\n",
       "     \"<p>\\n\"+\n",
       "     \"BokehJS does not appear to have successfully loaded. If loading BokehJS from CDN, this \\n\"+\n",
       "     \"may be due to a slow or bad network connection. Possible fixes:\\n\"+\n",
       "     \"</p>\\n\"+\n",
       "     \"<ul>\\n\"+\n",
       "     \"<li>re-rerun `output_notebook()` to attempt to load from CDN again, or</li>\\n\"+\n",
       "     \"<li>use INLINE resources instead, as so:</li>\\n\"+\n",
       "     \"</ul>\\n\"+\n",
       "     \"<code>\\n\"+\n",
       "     \"from bokeh.resources import INLINE\\n\"+\n",
       "     \"output_notebook(resources=INLINE)\\n\"+\n",
       "     \"</code>\\n\"+\n",
       "     \"</div>\"}};\n",
       "\n",
       "  function display_loaded() {\n",
       "    if (window.Bokeh !== undefined) {\n",
       "      Bokeh.$(\"#0aa5b2c0-c142-48a4-9ec7-773815f4263b\").text(\"BokehJS successfully loaded.\");\n",
       "    } else if (Date.now() < window._bokeh_timeout) {\n",
       "      setTimeout(display_loaded, 100)\n",
       "    }\n",
       "  }\n",
       "\n",
       "  function run_callbacks() {\n",
       "    window._bokeh_onload_callbacks.forEach(function(callback) { callback() });\n",
       "    delete window._bokeh_onload_callbacks\n",
       "    console.info(\"Bokeh: all callbacks have finished\");\n",
       "  }\n",
       "\n",
       "  function load_libs(js_urls, callback) {\n",
       "    window._bokeh_onload_callbacks.push(callback);\n",
       "    if (window._bokeh_is_loading > 0) {\n",
       "      console.log(\"Bokeh: BokehJS is being loaded, scheduling callback at\", now());\n",
       "      return null;\n",
       "    }\n",
       "    if (js_urls == null || js_urls.length === 0) {\n",
       "      run_callbacks();\n",
       "      return null;\n",
       "    }\n",
       "    console.log(\"Bokeh: BokehJS not loaded, scheduling load and callback at\", now());\n",
       "    window._bokeh_is_loading = js_urls.length;\n",
       "    for (var i = 0; i < js_urls.length; i++) {\n",
       "      var url = js_urls[i];\n",
       "      var s = document.createElement('script');\n",
       "      s.src = url;\n",
       "      s.async = false;\n",
       "      s.onreadystatechange = s.onload = function() {\n",
       "        window._bokeh_is_loading--;\n",
       "        if (window._bokeh_is_loading === 0) {\n",
       "          console.log(\"Bokeh: all BokehJS libraries loaded\");\n",
       "          run_callbacks()\n",
       "        }\n",
       "      };\n",
       "      s.onerror = function() {\n",
       "        console.warn(\"failed to load library \" + url);\n",
       "      };\n",
       "      console.log(\"Bokeh: injecting script tag for BokehJS library: \", url);\n",
       "      document.getElementsByTagName(\"head\")[0].appendChild(s);\n",
       "    }\n",
       "  };var element = document.getElementById(\"0aa5b2c0-c142-48a4-9ec7-773815f4263b\");\n",
       "  if (element == null) {\n",
       "    console.log(\"Bokeh: ERROR: autoload.js configured with elementid '0aa5b2c0-c142-48a4-9ec7-773815f4263b' but no matching script tag was found. \")\n",
       "    return false;\n",
       "  }\n",
       "\n",
       "  var js_urls = ['https://cdn.pydata.org/bokeh/release/bokeh-0.12.3.min.js', 'https://cdn.pydata.org/bokeh/release/bokeh-widgets-0.12.3.min.js'];\n",
       "\n",
       "  var inline_js = [\n",
       "    function(Bokeh) {\n",
       "      Bokeh.set_log_level(\"info\");\n",
       "    },\n",
       "    \n",
       "    function(Bokeh) {\n",
       "      \n",
       "      Bokeh.$(\"#0aa5b2c0-c142-48a4-9ec7-773815f4263b\").text(\"BokehJS is loading...\");\n",
       "    },\n",
       "    function(Bokeh) {\n",
       "      console.log(\"Bokeh: injecting CSS: https://cdn.pydata.org/bokeh/release/bokeh-0.12.3.min.css\");\n",
       "      Bokeh.embed.inject_css(\"https://cdn.pydata.org/bokeh/release/bokeh-0.12.3.min.css\");\n",
       "      console.log(\"Bokeh: injecting CSS: https://cdn.pydata.org/bokeh/release/bokeh-widgets-0.12.3.min.css\");\n",
       "      Bokeh.embed.inject_css(\"https://cdn.pydata.org/bokeh/release/bokeh-widgets-0.12.3.min.css\");\n",
       "    }\n",
       "  ];\n",
       "\n",
       "  function run_inline_js() {\n",
       "    \n",
       "    if ((window.Bokeh !== undefined) || (force === \"1\")) {\n",
       "      for (var i = 0; i < inline_js.length; i++) {\n",
       "        inline_js[i](window.Bokeh);\n",
       "      }if (force === \"1\") {\n",
       "        display_loaded();\n",
       "      }} else if (Date.now() < window._bokeh_timeout) {\n",
       "      setTimeout(run_inline_js, 100);\n",
       "    } else if (!window._bokeh_failed_load) {\n",
       "      console.log(\"Bokeh: BokehJS failed to load within specified timeout.\");\n",
       "      window._bokeh_failed_load = true;\n",
       "    } else if (!force) {\n",
       "      var cell = $(\"#0aa5b2c0-c142-48a4-9ec7-773815f4263b\").parents('.cell').data().cell;\n",
       "      cell.output_area.append_execute_result(NB_LOAD_WARNING)\n",
       "    }\n",
       "\n",
       "  }\n",
       "\n",
       "  if (window._bokeh_is_loading === 0) {\n",
       "    console.log(\"Bokeh: BokehJS loaded, going straight to plotting\");\n",
       "    run_inline_js();\n",
       "  } else {\n",
       "    load_libs(js_urls, function() {\n",
       "      console.log(\"Bokeh: BokehJS plotting callback run at\", now());\n",
       "      run_inline_js();\n",
       "    });\n",
       "  }\n",
       "}(this));"
      ]
     },
     "metadata": {},
     "output_type": "display_data"
    }
   ],
   "source": [
    "from bokeh.io import push_notebook, show, output_notebook\n",
    "from bokeh.layouts import row\n",
    "from bokeh.plotting import figure\n",
    "output_notebook()"
   ]
  },
  {
   "cell_type": "code",
   "execution_count": 35,
   "metadata": {
    "collapsed": false
   },
   "outputs": [
    {
     "data": {
      "text/html": [
       "\n",
       "\n",
       "    <div class=\"bk-root\">\n",
       "        <div class=\"plotdiv\" id=\"4ff48363-856d-497d-9062-a92e504a70c1\"></div>\n",
       "    </div>\n",
       "<script type=\"text/javascript\">\n",
       "  \n",
       "  (function(global) {\n",
       "    function now() {\n",
       "      return new Date();\n",
       "    }\n",
       "  \n",
       "    var force = \"\";\n",
       "  \n",
       "    if (typeof (window._bokeh_onload_callbacks) === \"undefined\" || force !== \"\") {\n",
       "      window._bokeh_onload_callbacks = [];\n",
       "      window._bokeh_is_loading = undefined;\n",
       "    }\n",
       "  \n",
       "  \n",
       "    \n",
       "    if (typeof (window._bokeh_timeout) === \"undefined\" || force !== \"\") {\n",
       "      window._bokeh_timeout = Date.now() + 0;\n",
       "      window._bokeh_failed_load = false;\n",
       "    }\n",
       "  \n",
       "    var NB_LOAD_WARNING = {'data': {'text/html':\n",
       "       \"<div style='background-color: #fdd'>\\n\"+\n",
       "       \"<p>\\n\"+\n",
       "       \"BokehJS does not appear to have successfully loaded. If loading BokehJS from CDN, this \\n\"+\n",
       "       \"may be due to a slow or bad network connection. Possible fixes:\\n\"+\n",
       "       \"</p>\\n\"+\n",
       "       \"<ul>\\n\"+\n",
       "       \"<li>re-rerun `output_notebook()` to attempt to load from CDN again, or</li>\\n\"+\n",
       "       \"<li>use INLINE resources instead, as so:</li>\\n\"+\n",
       "       \"</ul>\\n\"+\n",
       "       \"<code>\\n\"+\n",
       "       \"from bokeh.resources import INLINE\\n\"+\n",
       "       \"output_notebook(resources=INLINE)\\n\"+\n",
       "       \"</code>\\n\"+\n",
       "       \"</div>\"}};\n",
       "  \n",
       "    function display_loaded() {\n",
       "      if (window.Bokeh !== undefined) {\n",
       "        Bokeh.$(\"#4ff48363-856d-497d-9062-a92e504a70c1\").text(\"BokehJS successfully loaded.\");\n",
       "      } else if (Date.now() < window._bokeh_timeout) {\n",
       "        setTimeout(display_loaded, 100)\n",
       "      }\n",
       "    }\n",
       "  \n",
       "    function run_callbacks() {\n",
       "      window._bokeh_onload_callbacks.forEach(function(callback) { callback() });\n",
       "      delete window._bokeh_onload_callbacks\n",
       "      console.info(\"Bokeh: all callbacks have finished\");\n",
       "    }\n",
       "  \n",
       "    function load_libs(js_urls, callback) {\n",
       "      window._bokeh_onload_callbacks.push(callback);\n",
       "      if (window._bokeh_is_loading > 0) {\n",
       "        console.log(\"Bokeh: BokehJS is being loaded, scheduling callback at\", now());\n",
       "        return null;\n",
       "      }\n",
       "      if (js_urls == null || js_urls.length === 0) {\n",
       "        run_callbacks();\n",
       "        return null;\n",
       "      }\n",
       "      console.log(\"Bokeh: BokehJS not loaded, scheduling load and callback at\", now());\n",
       "      window._bokeh_is_loading = js_urls.length;\n",
       "      for (var i = 0; i < js_urls.length; i++) {\n",
       "        var url = js_urls[i];\n",
       "        var s = document.createElement('script');\n",
       "        s.src = url;\n",
       "        s.async = false;\n",
       "        s.onreadystatechange = s.onload = function() {\n",
       "          window._bokeh_is_loading--;\n",
       "          if (window._bokeh_is_loading === 0) {\n",
       "            console.log(\"Bokeh: all BokehJS libraries loaded\");\n",
       "            run_callbacks()\n",
       "          }\n",
       "        };\n",
       "        s.onerror = function() {\n",
       "          console.warn(\"failed to load library \" + url);\n",
       "        };\n",
       "        console.log(\"Bokeh: injecting script tag for BokehJS library: \", url);\n",
       "        document.getElementsByTagName(\"head\")[0].appendChild(s);\n",
       "      }\n",
       "    };var element = document.getElementById(\"4ff48363-856d-497d-9062-a92e504a70c1\");\n",
       "    if (element == null) {\n",
       "      console.log(\"Bokeh: ERROR: autoload.js configured with elementid '4ff48363-856d-497d-9062-a92e504a70c1' but no matching script tag was found. \")\n",
       "      return false;\n",
       "    }\n",
       "  \n",
       "    var js_urls = [];\n",
       "  \n",
       "    var inline_js = [\n",
       "      function(Bokeh) {\n",
       "        Bokeh.$(function() {\n",
       "            var docs_json = {\"65d0068d-cd85-4e9a-9a40-1a116bc64f09\":{\"roots\":{\"references\":[{\"attributes\":{},\"id\":\"08905007-1b1a-4d5c-976f-0995cd3fbc74\",\"type\":\"BasicTicker\"},{\"attributes\":{\"data_source\":{\"id\":\"0c23a8ed-c11a-4414-86e0-63bcaacd83eb\",\"type\":\"ColumnDataSource\"},\"glyph\":{\"id\":\"e0e296a6-1af1-4a20-88b0-f4848437fcd1\",\"type\":\"Circle\"},\"hover_glyph\":null,\"nonselection_glyph\":{\"id\":\"ddca3659-d340-4c3b-9390-9105bcb6fc1c\",\"type\":\"Circle\"},\"selection_glyph\":null},\"id\":\"c4bb6a47-3b7d-42bb-9c67-b116b5cc19b1\",\"type\":\"GlyphRenderer\"},{\"attributes\":{\"plot\":{\"id\":\"2139cec8-0e12-4ba0-9334-eaa53bdde31a\",\"subtype\":\"Figure\",\"type\":\"Plot\"}},\"id\":\"8b6268dc-cc6e-45c9-8777-e424ed71fc98\",\"type\":\"PanTool\"},{\"attributes\":{\"callback\":null},\"id\":\"0445e4b5-28e1-4dbf-8b8b-1e21415aee14\",\"type\":\"DataRange1d\"},{\"attributes\":{\"overlay\":{\"id\":\"0a171910-8012-4eac-86e3-c72172b713e4\",\"type\":\"BoxAnnotation\"},\"plot\":{\"id\":\"2139cec8-0e12-4ba0-9334-eaa53bdde31a\",\"subtype\":\"Figure\",\"type\":\"Plot\"}},\"id\":\"c0467eb9-4515-4cc7-a697-830cf3ab7a66\",\"type\":\"BoxZoomTool\"},{\"attributes\":{\"callback\":null},\"id\":\"5f40c3a9-a504-4ba4-ad30-157e6b16a63a\",\"type\":\"DataRange1d\"},{\"attributes\":{\"bottom_units\":\"screen\",\"fill_alpha\":{\"value\":0.5},\"fill_color\":{\"value\":\"lightgrey\"},\"left_units\":\"screen\",\"level\":\"overlay\",\"line_alpha\":{\"value\":1.0},\"line_color\":{\"value\":\"black\"},\"line_dash\":[4,4],\"line_width\":{\"value\":2},\"plot\":null,\"render_mode\":\"css\",\"right_units\":\"screen\",\"top_units\":\"screen\"},\"id\":\"0a171910-8012-4eac-86e3-c72172b713e4\",\"type\":\"BoxAnnotation\"},{\"attributes\":{\"plot\":{\"id\":\"2139cec8-0e12-4ba0-9334-eaa53bdde31a\",\"subtype\":\"Figure\",\"type\":\"Plot\"},\"ticker\":{\"id\":\"1f923fe3-99ca-4b30-92a9-d71617b1f4e5\",\"type\":\"BasicTicker\"}},\"id\":\"5c82f402-6334-4bda-b31b-9aeaa76efe8a\",\"type\":\"Grid\"},{\"attributes\":{},\"id\":\"e6878b67-6186-4642-ad8e-8c9583bcda18\",\"type\":\"BasicTickFormatter\"},{\"attributes\":{\"callback\":null,\"column_names\":[\"x\",\"y\"],\"data\":{\"x\":[0,1,2,3,4,5,6,7,8,9,10,11,12,13,14,15,16,17,18,19,20,21,22,23,24,25,26,27,28,29,30,31,32,33,34,35,36,37,38,39,40,41,42,43,44],\"y\":[45118,40327,36158,34527,33828,32093,31931,27547,26381,25703,25605,23499,23274,21124,21058,20744,20468,20094,19811,19472,19415,19390,18868,18077,18032,17596,17462,17459,17406,17401,17358,16873,16792,16219,16173,15939,15892,15729,15016,14770,14257,13628,13300,13170,13026]}},\"id\":\"0c23a8ed-c11a-4414-86e0-63bcaacd83eb\",\"type\":\"ColumnDataSource\"},{\"attributes\":{\"fill_color\":{\"value\":\"#1f77b4\"},\"line_color\":{\"value\":\"#1f77b4\"},\"line_width\":{\"value\":2},\"x\":{\"field\":\"x\"},\"y\":{\"field\":\"y\"}},\"id\":\"e0e296a6-1af1-4a20-88b0-f4848437fcd1\",\"type\":\"Circle\"},{\"attributes\":{\"plot\":{\"id\":\"2139cec8-0e12-4ba0-9334-eaa53bdde31a\",\"subtype\":\"Figure\",\"type\":\"Plot\"}},\"id\":\"7acee241-6edb-4581-b24c-475a8d1c82b7\",\"type\":\"ResetTool\"},{\"attributes\":{\"fill_alpha\":{\"value\":0.1},\"fill_color\":{\"value\":\"#1f77b4\"},\"line_alpha\":{\"value\":0.1},\"line_color\":{\"value\":\"#1f77b4\"},\"line_width\":{\"value\":2},\"x\":{\"field\":\"x\"},\"y\":{\"field\":\"y\"}},\"id\":\"ddca3659-d340-4c3b-9390-9105bcb6fc1c\",\"type\":\"Circle\"},{\"attributes\":{\"plot\":{\"id\":\"2139cec8-0e12-4ba0-9334-eaa53bdde31a\",\"subtype\":\"Figure\",\"type\":\"Plot\"}},\"id\":\"7bb9f59b-c3e8-4752-9099-4d75902daea1\",\"type\":\"SaveTool\"},{\"attributes\":{\"items\":[{\"id\":\"37e7b7a6-44d6-4f6c-9730-ef943ab822ce\",\"type\":\"LegendItem\"}],\"plot\":{\"id\":\"2139cec8-0e12-4ba0-9334-eaa53bdde31a\",\"subtype\":\"Figure\",\"type\":\"Plot\"}},\"id\":\"cac73e3e-9800-4b79-91d5-1d9ac249680e\",\"type\":\"Legend\"},{\"attributes\":{},\"id\":\"f0157238-72ec-4877-a5bd-f4d8a6c1a740\",\"type\":\"ToolEvents\"},{\"attributes\":{\"plot\":{\"id\":\"2139cec8-0e12-4ba0-9334-eaa53bdde31a\",\"subtype\":\"Figure\",\"type\":\"Plot\"}},\"id\":\"ae009194-48ea-443d-a9b9-2de5adaeedf9\",\"type\":\"HelpTool\"},{\"attributes\":{\"plot\":{\"id\":\"2139cec8-0e12-4ba0-9334-eaa53bdde31a\",\"subtype\":\"Figure\",\"type\":\"Plot\"}},\"id\":\"53ecc2af-558a-42ac-96fc-511b3bfc944a\",\"type\":\"WheelZoomTool\"},{\"attributes\":{\"axis_label\":\"Sorted Contigs\",\"formatter\":{\"id\":\"e6878b67-6186-4642-ad8e-8c9583bcda18\",\"type\":\"BasicTickFormatter\"},\"plot\":{\"id\":\"2139cec8-0e12-4ba0-9334-eaa53bdde31a\",\"subtype\":\"Figure\",\"type\":\"Plot\"},\"ticker\":{\"id\":\"1f923fe3-99ca-4b30-92a9-d71617b1f4e5\",\"type\":\"BasicTicker\"}},\"id\":\"21ef8b18-a1a0-47f4-88c7-b807562bc06d\",\"type\":\"LinearAxis\"},{\"attributes\":{\"axis_label\":\"Contig Length\",\"formatter\":{\"id\":\"fb90bced-7028-4350-8774-c37a380d232f\",\"type\":\"BasicTickFormatter\"},\"plot\":{\"id\":\"2139cec8-0e12-4ba0-9334-eaa53bdde31a\",\"subtype\":\"Figure\",\"type\":\"Plot\"},\"ticker\":{\"id\":\"08905007-1b1a-4d5c-976f-0995cd3fbc74\",\"type\":\"BasicTicker\"}},\"id\":\"b7fc23eb-1049-4c6a-9bbe-0e0f3e358f85\",\"type\":\"LinearAxis\"},{\"attributes\":{},\"id\":\"1f923fe3-99ca-4b30-92a9-d71617b1f4e5\",\"type\":\"BasicTicker\"},{\"attributes\":{\"plot\":null,\"text\":\"Penssylvanica Contig Lengths\"},\"id\":\"1807ec50-0478-4b3b-aebd-3b7e4307bf99\",\"type\":\"Title\"},{\"attributes\":{},\"id\":\"fb90bced-7028-4350-8774-c37a380d232f\",\"type\":\"BasicTickFormatter\"},{\"attributes\":{\"below\":[{\"id\":\"21ef8b18-a1a0-47f4-88c7-b807562bc06d\",\"type\":\"LinearAxis\"}],\"left\":[{\"id\":\"b7fc23eb-1049-4c6a-9bbe-0e0f3e358f85\",\"type\":\"LinearAxis\"}],\"renderers\":[{\"id\":\"21ef8b18-a1a0-47f4-88c7-b807562bc06d\",\"type\":\"LinearAxis\"},{\"id\":\"5c82f402-6334-4bda-b31b-9aeaa76efe8a\",\"type\":\"Grid\"},{\"id\":\"b7fc23eb-1049-4c6a-9bbe-0e0f3e358f85\",\"type\":\"LinearAxis\"},{\"id\":\"a1b5113b-39c7-48cc-b1d0-ea3ab63e249f\",\"type\":\"Grid\"},{\"id\":\"0a171910-8012-4eac-86e3-c72172b713e4\",\"type\":\"BoxAnnotation\"},{\"id\":\"cac73e3e-9800-4b79-91d5-1d9ac249680e\",\"type\":\"Legend\"},{\"id\":\"c4bb6a47-3b7d-42bb-9c67-b116b5cc19b1\",\"type\":\"GlyphRenderer\"}],\"title\":{\"id\":\"1807ec50-0478-4b3b-aebd-3b7e4307bf99\",\"type\":\"Title\"},\"tool_events\":{\"id\":\"f0157238-72ec-4877-a5bd-f4d8a6c1a740\",\"type\":\"ToolEvents\"},\"toolbar\":{\"id\":\"7c72859b-7e7c-414e-b3ec-fb52d4115cc1\",\"type\":\"Toolbar\"},\"x_range\":{\"id\":\"5f40c3a9-a504-4ba4-ad30-157e6b16a63a\",\"type\":\"DataRange1d\"},\"y_range\":{\"id\":\"0445e4b5-28e1-4dbf-8b8b-1e21415aee14\",\"type\":\"DataRange1d\"}},\"id\":\"2139cec8-0e12-4ba0-9334-eaa53bdde31a\",\"subtype\":\"Figure\",\"type\":\"Plot\"},{\"attributes\":{\"dimension\":1,\"plot\":{\"id\":\"2139cec8-0e12-4ba0-9334-eaa53bdde31a\",\"subtype\":\"Figure\",\"type\":\"Plot\"},\"ticker\":{\"id\":\"08905007-1b1a-4d5c-976f-0995cd3fbc74\",\"type\":\"BasicTicker\"}},\"id\":\"a1b5113b-39c7-48cc-b1d0-ea3ab63e249f\",\"type\":\"Grid\"},{\"attributes\":{\"label\":{\"value\":\"Length.\"},\"renderers\":[{\"id\":\"c4bb6a47-3b7d-42bb-9c67-b116b5cc19b1\",\"type\":\"GlyphRenderer\"}]},\"id\":\"37e7b7a6-44d6-4f6c-9730-ef943ab822ce\",\"type\":\"LegendItem\"},{\"attributes\":{\"active_drag\":\"auto\",\"active_scroll\":\"auto\",\"active_tap\":\"auto\",\"tools\":[{\"id\":\"8b6268dc-cc6e-45c9-8777-e424ed71fc98\",\"type\":\"PanTool\"},{\"id\":\"53ecc2af-558a-42ac-96fc-511b3bfc944a\",\"type\":\"WheelZoomTool\"},{\"id\":\"c0467eb9-4515-4cc7-a697-830cf3ab7a66\",\"type\":\"BoxZoomTool\"},{\"id\":\"7bb9f59b-c3e8-4752-9099-4d75902daea1\",\"type\":\"SaveTool\"},{\"id\":\"7acee241-6edb-4581-b24c-475a8d1c82b7\",\"type\":\"ResetTool\"},{\"id\":\"ae009194-48ea-443d-a9b9-2de5adaeedf9\",\"type\":\"HelpTool\"}]},\"id\":\"7c72859b-7e7c-414e-b3ec-fb52d4115cc1\",\"type\":\"Toolbar\"}],\"root_ids\":[\"2139cec8-0e12-4ba0-9334-eaa53bdde31a\"]},\"title\":\"Bokeh Application\",\"version\":\"0.12.3\"}};\n",
       "            var render_items = [{\"docid\":\"65d0068d-cd85-4e9a-9a40-1a116bc64f09\",\"elementid\":\"4ff48363-856d-497d-9062-a92e504a70c1\",\"modelid\":\"2139cec8-0e12-4ba0-9334-eaa53bdde31a\"}];\n",
       "            \n",
       "            Bokeh.embed.embed_items(docs_json, render_items);\n",
       "        });\n",
       "      },\n",
       "      function(Bokeh) {\n",
       "      }\n",
       "    ];\n",
       "  \n",
       "    function run_inline_js() {\n",
       "      \n",
       "      if ((window.Bokeh !== undefined) || (force === \"1\")) {\n",
       "        for (var i = 0; i < inline_js.length; i++) {\n",
       "          inline_js[i](window.Bokeh);\n",
       "        }if (force === \"1\") {\n",
       "          display_loaded();\n",
       "        }} else if (Date.now() < window._bokeh_timeout) {\n",
       "        setTimeout(run_inline_js, 100);\n",
       "      } else if (!window._bokeh_failed_load) {\n",
       "        console.log(\"Bokeh: BokehJS failed to load within specified timeout.\");\n",
       "        window._bokeh_failed_load = true;\n",
       "      } else if (!force) {\n",
       "        var cell = $(\"#4ff48363-856d-497d-9062-a92e504a70c1\").parents('.cell').data().cell;\n",
       "        cell.output_area.append_execute_result(NB_LOAD_WARNING)\n",
       "      }\n",
       "  \n",
       "    }\n",
       "  \n",
       "    if (window._bokeh_is_loading === 0) {\n",
       "      console.log(\"Bokeh: BokehJS loaded, going straight to plotting\");\n",
       "      run_inline_js();\n",
       "    } else {\n",
       "      load_libs(js_urls, function() {\n",
       "        console.log(\"Bokeh: BokehJS plotting callback run at\", now());\n",
       "        run_inline_js();\n",
       "      });\n",
       "    }\n",
       "  }(this));\n",
       "</script>"
      ]
     },
     "metadata": {},
     "output_type": "display_data"
    }
   ],
   "source": [
    "n = 80\n",
    "sizes = [len(x.seq) for x in sorted_contigs[29+6:n]]\n",
    "\n",
    "p = figure(title=\"Penssylvanica Contig Lengths\", x_axis_label='Sorted Contigs', y_axis_label='Contig Length')\n",
    "p.scatter(range(len(sizes)), sizes, legend=\"Length.\", line_width=2)\n",
    "# p.line([0,n], [1000000, 1000000], legend=\"1 Mbp\", color='red')\n",
    "\n",
    "# show the results\n",
    "show(p)"
   ]
  },
  {
   "cell_type": "code",
   "execution_count": 6,
   "metadata": {
    "collapsed": true
   },
   "outputs": [],
   "source": [
    "real_substance = sorted_contigs[:29]"
   ]
  },
  {
   "cell_type": "code",
   "execution_count": 7,
   "metadata": {
    "collapsed": false
   },
   "outputs": [
    {
     "name": "stdout",
     "output_type": "stream",
     "text": [
      "Done writing  29 contigs and 737,441,400bp\n"
     ]
    }
   ],
   "source": [
    "filepath = r'D:\\Genomes\\Ash F. Pennsylvanica\\fraxinus_pennsylvanica_26Jul2017_uXjxm\\main_pennsylvanica_scaffolds.fa'\n",
    "   \n",
    "\n",
    "write_contigs_to_file(filepath, real_substance)"
   ]
  },
  {
   "cell_type": "code",
   "execution_count": 8,
   "metadata": {
    "collapsed": false
   },
   "outputs": [
    {
     "name": "stdout",
     "output_type": "stream",
     "text": [
      "29 737,441,400\n"
     ]
    }
   ],
   "source": [
    "written_c = read_contigs(filepath)\n",
    "\n",
    "print(len(written_c), '{:,}'.format(sum([len(x.seq) for x in written_c])))"
   ]
  },
  {
   "cell_type": "code",
   "execution_count": 27,
   "metadata": {
    "collapsed": false
   },
   "outputs": [
    {
     "name": "stdout",
     "output_type": "stream",
     "text": [
      "pennsylvanica.ScuXjxm_494999;HRSCAF=496248\n",
      "pennsylvanica.ScuXjxm_494985;HRSCAF=496196\n",
      "pennsylvanica.ScuXjxm_494991;HRSCAF=496207\n",
      "pennsylvanica.ScuXjxm_257556;HRSCAF=257952\n",
      "pennsylvanica.ScuXjxm_125222;HRSCAF=125413\n",
      "pennsylvanica.ScuXjxm_494981;HRSCAF=496072\n",
      "pennsylvanica.ScuXjxm_494996;HRSCAF=496225\n",
      "pennsylvanica.ScuXjxm_494984;HRSCAF=496195\n",
      "pennsylvanica.ScuXjxm_494994;HRSCAF=496212\n",
      "pennsylvanica.ScuXjxm_494987;HRSCAF=496199\n",
      "pennsylvanica.ScuXjxm_495002;HRSCAF=496252\n",
      "pennsylvanica.ScuXjxm_494992;HRSCAF=496209\n",
      "pennsylvanica.ScuXjxm_23148;HRSCAF=23188\n",
      "pennsylvanica.ScuXjxm_138335;HRSCAF=138560\n",
      "pennsylvanica.ScuXjxm_494986;HRSCAF=496197\n",
      "pennsylvanica.ScuXjxm_494978;HRSCAF=496020\n",
      "pennsylvanica.ScuXjxm_494988;HRSCAF=496201\n",
      "pennsylvanica.ScuXjxm_494998;HRSCAF=496232\n",
      "pennsylvanica.ScuXjxm_495001;HRSCAF=496251\n",
      "pennsylvanica.ScuXjxm_358465;HRSCAF=359033\n",
      "pennsylvanica.ScuXjxm_494995;HRSCAF=496215\n",
      "pennsylvanica.ScuXjxm_495000;HRSCAF=496249\n",
      "pennsylvanica.ScuXjxm_274662;HRSCAF=275086\n",
      "pennsylvanica.ScuXjxm_494989;HRSCAF=496202\n",
      "pennsylvanica.ScuXjxm_494990;HRSCAF=496204\n",
      "pennsylvanica.ScuXjxm_494993;HRSCAF=496211\n",
      "pennsylvanica.ScuXjxm_90248;HRSCAF=90386\n",
      "pennsylvanica.ScuXjxm_494977;HRSCAF=495950\n",
      "pennsylvanica.ScuXjxm_329848;HRSCAF=330368\n"
     ]
    }
   ],
   "source": [
    "desired_contigs = set()\n",
    "for contig in real_substance:\n",
    "    print('pennsylvanica.' + contig.name)\n",
    "    desired_contigs.add('pennsylvanica.' + contig.name)"
   ]
  },
  {
   "cell_type": "code",
   "execution_count": 22,
   "metadata": {
    "collapsed": false
   },
   "outputs": [
    {
     "data": {
      "text/plain": [
       "'ScuXjxm_125222;HRSCAF=125413'"
      ]
     },
     "execution_count": 22,
     "metadata": {},
     "output_type": "execute_result"
    }
   ],
   "source": [
    "a = '732\tpennsylvanica.ScuXjxm_125222;HRSCAF=125413\t5313525\t194\t+\t34501153\texcelsior.Contig1531\t64686\t193\t+\t125224\t106,1:0,87\tmismap=1e-09'\n",
    "a.split('\\t')[1].split('.')[1]"
   ]
  },
  {
   "cell_type": "code",
   "execution_count": 30,
   "metadata": {
    "collapsed": false
   },
   "outputs": [],
   "source": [
    "with open(r'D:\\Genomes\\Ash F. Pennsylvanica\\fraxinus_pennsylvanica_26Jul2017_uXjxm\\pennsylvanica-excelsior__one_to_one__high_confidence.tab', 'r') as alignment:\n",
    "    with open(r'D:\\Genomes\\Ash F. Pennsylvanica\\fraxinus_pennsylvanica_26Jul2017_uXjxm\\main_alignment.tab', 'w') as outfile:\n",
    "        for entry in alignment.read().splitlines():\n",
    "            contig_name = entry.split('\\t')[1]  # seek out the relevant sub-column\n",
    "            if contig_name in desired_contigs:\n",
    "                outfile.write(entry + '\\n')"
   ]
  },
  {
   "cell_type": "code",
   "execution_count": null,
   "metadata": {
    "collapsed": true
   },
   "outputs": [],
   "source": []
  },
  {
   "cell_type": "code",
   "execution_count": 38,
   "metadata": {
    "collapsed": false
   },
   "outputs": [
    {
     "data": {
      "text/plain": [
       "1654323"
      ]
     },
     "execution_count": 38,
     "metadata": {},
     "output_type": "execute_result"
    }
   ],
   "source": [
    "sum([len(x.seq) for x in sorted_contigs[29:80]])"
   ]
  },
  {
   "cell_type": "code",
   "execution_count": 39,
   "metadata": {
    "collapsed": true
   },
   "outputs": [],
   "source": [
    "BATGpath = r'D:\\Genomes\\Ash BATG-0.5-CLCbioSSPACE\\BATG-0.5-CLCbioSSPACE.fa'\n",
    "excelsior_contigs = read_contigs(input_file_path=BATGpath)"
   ]
  },
  {
   "cell_type": "code",
   "execution_count": 40,
   "metadata": {
    "collapsed": true
   },
   "outputs": [],
   "source": [
    "excelsior_contigs = sort_contigs_by_length(excelsior_contigs)"
   ]
  },
  {
   "cell_type": "code",
   "execution_count": 45,
   "metadata": {
    "collapsed": false
   },
   "outputs": [
    {
     "data": {
      "text/html": [
       "\n",
       "\n",
       "    <div class=\"bk-root\">\n",
       "        <div class=\"plotdiv\" id=\"9ce8fc99-2446-43e7-b18e-4b4fddfa63c3\"></div>\n",
       "    </div>\n",
       "<script type=\"text/javascript\">\n",
       "  \n",
       "  (function(global) {\n",
       "    function now() {\n",
       "      return new Date();\n",
       "    }\n",
       "  \n",
       "    var force = \"\";\n",
       "  \n",
       "    if (typeof (window._bokeh_onload_callbacks) === \"undefined\" || force !== \"\") {\n",
       "      window._bokeh_onload_callbacks = [];\n",
       "      window._bokeh_is_loading = undefined;\n",
       "    }\n",
       "  \n",
       "  \n",
       "    \n",
       "    if (typeof (window._bokeh_timeout) === \"undefined\" || force !== \"\") {\n",
       "      window._bokeh_timeout = Date.now() + 0;\n",
       "      window._bokeh_failed_load = false;\n",
       "    }\n",
       "  \n",
       "    var NB_LOAD_WARNING = {'data': {'text/html':\n",
       "       \"<div style='background-color: #fdd'>\\n\"+\n",
       "       \"<p>\\n\"+\n",
       "       \"BokehJS does not appear to have successfully loaded. If loading BokehJS from CDN, this \\n\"+\n",
       "       \"may be due to a slow or bad network connection. Possible fixes:\\n\"+\n",
       "       \"</p>\\n\"+\n",
       "       \"<ul>\\n\"+\n",
       "       \"<li>re-rerun `output_notebook()` to attempt to load from CDN again, or</li>\\n\"+\n",
       "       \"<li>use INLINE resources instead, as so:</li>\\n\"+\n",
       "       \"</ul>\\n\"+\n",
       "       \"<code>\\n\"+\n",
       "       \"from bokeh.resources import INLINE\\n\"+\n",
       "       \"output_notebook(resources=INLINE)\\n\"+\n",
       "       \"</code>\\n\"+\n",
       "       \"</div>\"}};\n",
       "  \n",
       "    function display_loaded() {\n",
       "      if (window.Bokeh !== undefined) {\n",
       "        Bokeh.$(\"#9ce8fc99-2446-43e7-b18e-4b4fddfa63c3\").text(\"BokehJS successfully loaded.\");\n",
       "      } else if (Date.now() < window._bokeh_timeout) {\n",
       "        setTimeout(display_loaded, 100)\n",
       "      }\n",
       "    }\n",
       "  \n",
       "    function run_callbacks() {\n",
       "      window._bokeh_onload_callbacks.forEach(function(callback) { callback() });\n",
       "      delete window._bokeh_onload_callbacks\n",
       "      console.info(\"Bokeh: all callbacks have finished\");\n",
       "    }\n",
       "  \n",
       "    function load_libs(js_urls, callback) {\n",
       "      window._bokeh_onload_callbacks.push(callback);\n",
       "      if (window._bokeh_is_loading > 0) {\n",
       "        console.log(\"Bokeh: BokehJS is being loaded, scheduling callback at\", now());\n",
       "        return null;\n",
       "      }\n",
       "      if (js_urls == null || js_urls.length === 0) {\n",
       "        run_callbacks();\n",
       "        return null;\n",
       "      }\n",
       "      console.log(\"Bokeh: BokehJS not loaded, scheduling load and callback at\", now());\n",
       "      window._bokeh_is_loading = js_urls.length;\n",
       "      for (var i = 0; i < js_urls.length; i++) {\n",
       "        var url = js_urls[i];\n",
       "        var s = document.createElement('script');\n",
       "        s.src = url;\n",
       "        s.async = false;\n",
       "        s.onreadystatechange = s.onload = function() {\n",
       "          window._bokeh_is_loading--;\n",
       "          if (window._bokeh_is_loading === 0) {\n",
       "            console.log(\"Bokeh: all BokehJS libraries loaded\");\n",
       "            run_callbacks()\n",
       "          }\n",
       "        };\n",
       "        s.onerror = function() {\n",
       "          console.warn(\"failed to load library \" + url);\n",
       "        };\n",
       "        console.log(\"Bokeh: injecting script tag for BokehJS library: \", url);\n",
       "        document.getElementsByTagName(\"head\")[0].appendChild(s);\n",
       "      }\n",
       "    };var element = document.getElementById(\"9ce8fc99-2446-43e7-b18e-4b4fddfa63c3\");\n",
       "    if (element == null) {\n",
       "      console.log(\"Bokeh: ERROR: autoload.js configured with elementid '9ce8fc99-2446-43e7-b18e-4b4fddfa63c3' but no matching script tag was found. \")\n",
       "      return false;\n",
       "    }\n",
       "  \n",
       "    var js_urls = [];\n",
       "  \n",
       "    var inline_js = [\n",
       "      function(Bokeh) {\n",
       "        Bokeh.$(function() {\n",
       "            var docs_json = {\"3955d89f-8ef0-42de-8b8a-f46a1cadc375\":{\"roots\":{\"references\":[{\"attributes\":{\"data_source\":{\"id\":\"326c92b4-b6af-4914-b9f7-350e4e7881c4\",\"type\":\"ColumnDataSource\"},\"glyph\":{\"id\":\"54d6bb85-b56c-49be-975b-38b0b490ff9b\",\"type\":\"Circle\"},\"hover_glyph\":null,\"nonselection_glyph\":{\"id\":\"8f028fdc-71e5-445a-93d4-d361c55cc115\",\"type\":\"Circle\"},\"selection_glyph\":null},\"id\":\"1de8f271-5400-41bb-8b2a-9422fcfa1579\",\"type\":\"GlyphRenderer\"},{\"attributes\":{},\"id\":\"1cf6de9a-fc5e-4657-a758-15c07c87ef6a\",\"type\":\"BasicTicker\"},{\"attributes\":{\"axis_label\":\"Sorted Contigs\",\"formatter\":{\"id\":\"dbce9580-6efa-47b0-a85e-1578db19ac46\",\"type\":\"BasicTickFormatter\"},\"plot\":{\"id\":\"35c6dada-5705-4354-a8cc-7da3679f362c\",\"subtype\":\"Figure\",\"type\":\"Plot\"},\"ticker\":{\"id\":\"1cf6de9a-fc5e-4657-a758-15c07c87ef6a\",\"type\":\"BasicTicker\"}},\"id\":\"86f3bbfb-84dd-4855-a59e-306f70586ca8\",\"type\":\"LinearAxis\"},{\"attributes\":{\"plot\":{\"id\":\"35c6dada-5705-4354-a8cc-7da3679f362c\",\"subtype\":\"Figure\",\"type\":\"Plot\"}},\"id\":\"71ad059c-caba-4005-8962-5386c9f8309f\",\"type\":\"ResetTool\"},{\"attributes\":{\"active_drag\":\"auto\",\"active_scroll\":\"auto\",\"active_tap\":\"auto\",\"tools\":[{\"id\":\"1b86c35c-47f6-438d-ae1a-00a62468e72b\",\"type\":\"PanTool\"},{\"id\":\"fb42165e-9414-494a-a4e3-733458876ea8\",\"type\":\"WheelZoomTool\"},{\"id\":\"83bccb1e-062c-495d-8c4e-baa7425a27cb\",\"type\":\"BoxZoomTool\"},{\"id\":\"4bcc4108-6044-476a-bcca-04c846c0a388\",\"type\":\"SaveTool\"},{\"id\":\"71ad059c-caba-4005-8962-5386c9f8309f\",\"type\":\"ResetTool\"},{\"id\":\"b91e3910-2eaf-4fa8-bf54-12d50f3df535\",\"type\":\"HelpTool\"}]},\"id\":\"0edcc8b9-2d10-4df3-a895-968a198bce79\",\"type\":\"Toolbar\"},{\"attributes\":{},\"id\":\"89e82a94-d7bf-4b41-92b4-0c071c975d9f\",\"type\":\"BasicTicker\"},{\"attributes\":{\"items\":[{\"id\":\"cb18084a-7574-4111-ab9c-59d8ab47e9fa\",\"type\":\"LegendItem\"}],\"plot\":{\"id\":\"35c6dada-5705-4354-a8cc-7da3679f362c\",\"subtype\":\"Figure\",\"type\":\"Plot\"}},\"id\":\"6ea1d5f2-4528-45e8-a38e-3159d1636bcb\",\"type\":\"Legend\"},{\"attributes\":{},\"id\":\"dbce9580-6efa-47b0-a85e-1578db19ac46\",\"type\":\"BasicTickFormatter\"},{\"attributes\":{\"bottom_units\":\"screen\",\"fill_alpha\":{\"value\":0.5},\"fill_color\":{\"value\":\"lightgrey\"},\"left_units\":\"screen\",\"level\":\"overlay\",\"line_alpha\":{\"value\":1.0},\"line_color\":{\"value\":\"black\"},\"line_dash\":[4,4],\"line_width\":{\"value\":2},\"plot\":null,\"render_mode\":\"css\",\"right_units\":\"screen\",\"top_units\":\"screen\"},\"id\":\"d987c0c3-b7ea-4c10-9301-d2617458945a\",\"type\":\"BoxAnnotation\"},{\"attributes\":{\"overlay\":{\"id\":\"d987c0c3-b7ea-4c10-9301-d2617458945a\",\"type\":\"BoxAnnotation\"},\"plot\":{\"id\":\"35c6dada-5705-4354-a8cc-7da3679f362c\",\"subtype\":\"Figure\",\"type\":\"Plot\"}},\"id\":\"83bccb1e-062c-495d-8c4e-baa7425a27cb\",\"type\":\"BoxZoomTool\"},{\"attributes\":{\"callback\":null},\"id\":\"022275d7-10f0-47ea-9899-c2485ca18f28\",\"type\":\"DataRange1d\"},{\"attributes\":{\"plot\":{\"id\":\"35c6dada-5705-4354-a8cc-7da3679f362c\",\"subtype\":\"Figure\",\"type\":\"Plot\"}},\"id\":\"b91e3910-2eaf-4fa8-bf54-12d50f3df535\",\"type\":\"HelpTool\"},{\"attributes\":{\"callback\":null,\"column_names\":[\"x\",\"y\"],\"data\":{\"x\":[0,1,2,3,4,5,6,7,8,9,10,11,12,13,14,15,16,17,18,19,20,21,22,23,24,25,26,27,28,29,30,31,32,33,34,35,36,37,38,39,40,41,42,43,44,45,46,47,48,49,50,51,52,53,54,55,56,57,58,59,60,61,62,63,64,65,66,67,68,69,70,71,72,73,74,75,76,77,78,79,80,81,82,83,84,85,86,87,88,89,90,91,92,93,94,95,96,97,98,99,100,101,102,103,104,105,106,107,108,109,110,111,112,113,114,115,116,117,118,119,120,121,122,123,124,125,126,127,128,129,130,131,132,133,134,135,136,137,138,139,140,141,142,143,144,145,146,147,148,149,150,151,152,153,154,155,156,157,158,159,160,161,162,163,164,165,166,167,168,169,170,171,172,173,174,175,176,177,178,179,180,181,182,183,184,185,186,187,188,189,190,191,192,193,194,195,196,197,198,199,200,201,202,203,204,205,206,207,208,209,210,211,212,213,214,215,216,217,218,219,220,221,222,223,224,225,226,227,228,229,230,231,232,233,234,235,236,237,238,239,240,241,242,243,244,245,246,247,248,249,250,251,252,253,254,255,256,257,258,259,260,261,262,263,264,265,266,267,268,269,270,271,272,273,274,275,276,277,278,279,280,281,282,283,284,285,286,287,288,289,290,291,292,293,294,295,296,297,298,299,300,301,302,303,304,305,306,307,308,309,310,311,312,313,314,315,316,317,318,319,320,321,322,323,324,325,326,327,328,329,330,331,332,333,334,335,336,337,338,339,340,341,342,343,344,345,346,347,348,349,350,351,352,353,354,355,356,357,358,359,360,361,362,363,364,365,366,367,368,369,370,371,372,373,374,375,376,377,378,379,380,381,382,383,384,385,386,387,388,389,390,391,392,393,394,395,396,397,398,399,400,401,402,403,404,405,406,407,408,409,410,411,412,413,414,415,416,417,418,419,420,421,422,423,424,425,426,427,428,429,430,431,432,433,434,435,436,437,438,439,440,441,442,443,444,445,446,447,448,449,450,451,452,453,454,455,456,457,458,459,460,461,462,463,464,465,466,467,468,469,470,471,472,473,474,475,476,477,478,479,480,481,482,483,484,485,486,487,488,489,490,491,492,493,494,495,496,497,498,499,500,501,502,503,504,505,506,507,508,509,510,511,512,513,514,515,516,517,518,519,520,521,522,523,524,525,526,527,528,529,530,531,532,533,534,535,536,537,538,539,540,541,542,543,544,545,546,547,548,549,550,551,552,553,554,555,556,557,558,559,560,561,562,563,564,565,566,567,568,569,570,571,572,573,574,575,576,577,578,579,580,581,582,583,584,585,586,587,588,589,590,591,592,593,594,595,596,597,598,599,600,601,602,603,604,605,606,607,608,609,610,611,612,613,614,615,616,617,618,619,620,621,622,623,624,625,626,627,628,629,630,631,632,633,634,635,636,637,638,639,640,641,642,643,644,645,646,647,648,649,650,651,652,653,654,655,656,657,658,659,660,661,662,663,664,665,666,667,668,669,670,671,672,673,674,675,676,677,678,679,680,681,682,683,684,685,686,687,688,689,690,691,692,693,694,695,696,697,698,699,700,701,702,703,704,705,706,707,708,709,710,711,712,713,714,715,716,717,718,719,720,721,722,723,724,725,726,727,728,729,730,731,732,733,734,735,736,737,738,739,740,741,742,743,744,745,746,747,748,749,750,751,752,753,754,755,756,757,758,759,760,761,762,763,764,765,766,767,768,769,770,771,772,773,774,775,776,777,778,779,780,781,782,783,784,785,786,787,788,789,790,791,792,793,794,795,796,797,798,799,800,801,802,803,804,805,806,807,808,809,810,811,812,813,814,815,816,817,818,819,820,821,822,823,824,825,826,827,828,829,830,831,832,833,834,835,836,837,838,839,840,841,842,843,844,845,846,847,848,849,850,851,852,853,854,855,856,857,858,859,860,861,862,863,864,865,866,867,868,869,870,871,872,873,874,875,876,877,878,879,880,881,882,883,884,885,886,887,888,889,890,891,892,893,894,895,896,897,898,899,900,901,902,903,904,905,906,907,908,909,910,911,912,913,914,915,916,917,918,919,920,921,922,923,924,925,926,927,928,929,930,931,932,933,934,935,936,937,938,939,940,941,942,943,944,945,946,947,948,949,950,951,952,953,954,955,956,957,958,959,960,961,962,963,964,965,966,967,968,969,970,971,972,973,974,975,976,977,978,979,980,981,982,983,984,985,986,987,988,989,990,991,992,993,994,995,996,997,998,999,1000,1001,1002,1003,1004,1005,1006,1007,1008,1009,1010,1011,1012,1013,1014,1015,1016,1017,1018,1019,1020,1021,1022,1023,1024,1025,1026,1027,1028,1029,1030,1031,1032,1033,1034,1035,1036,1037,1038,1039,1040,1041,1042,1043,1044,1045,1046,1047,1048,1049,1050,1051,1052,1053,1054,1055,1056,1057,1058,1059,1060,1061,1062,1063,1064,1065,1066,1067,1068,1069,1070,1071,1072,1073,1074,1075,1076,1077,1078,1079,1080,1081,1082,1083,1084,1085,1086,1087,1088,1089,1090,1091,1092,1093,1094,1095,1096,1097,1098,1099,1100,1101,1102,1103,1104,1105,1106,1107,1108,1109,1110,1111,1112,1113,1114,1115,1116,1117,1118,1119,1120,1121,1122,1123,1124,1125,1126,1127,1128,1129,1130,1131,1132,1133,1134,1135,1136,1137,1138,1139,1140,1141,1142,1143,1144,1145,1146,1147,1148,1149,1150,1151,1152,1153,1154,1155,1156,1157,1158,1159,1160,1161,1162,1163,1164,1165,1166,1167,1168,1169,1170,1171,1172,1173,1174,1175,1176,1177,1178,1179,1180,1181,1182,1183,1184,1185,1186,1187,1188,1189,1190,1191,1192,1193,1194,1195,1196,1197,1198,1199,1200,1201,1202,1203,1204,1205,1206,1207,1208,1209,1210,1211,1212,1213,1214,1215,1216,1217,1218,1219,1220,1221,1222,1223,1224,1225,1226,1227,1228,1229,1230,1231,1232,1233,1234,1235,1236,1237,1238,1239,1240,1241,1242,1243,1244,1245,1246,1247,1248,1249,1250,1251,1252,1253,1254,1255,1256,1257,1258,1259,1260,1261,1262,1263,1264,1265,1266,1267,1268,1269,1270,1271,1272,1273,1274,1275,1276,1277,1278,1279,1280,1281,1282,1283,1284,1285,1286,1287,1288,1289,1290,1291,1292,1293,1294,1295,1296,1297,1298,1299,1300,1301,1302,1303,1304,1305,1306,1307,1308,1309,1310,1311,1312,1313,1314,1315,1316,1317,1318,1319,1320,1321,1322,1323,1324,1325,1326,1327,1328,1329,1330,1331,1332,1333,1334,1335,1336,1337,1338,1339,1340,1341,1342,1343,1344,1345,1346,1347,1348,1349,1350,1351,1352,1353,1354,1355,1356,1357,1358,1359,1360,1361,1362,1363,1364,1365,1366,1367,1368,1369,1370,1371,1372,1373,1374,1375,1376,1377,1378,1379,1380,1381,1382,1383,1384,1385,1386,1387,1388,1389,1390,1391,1392,1393,1394,1395,1396,1397,1398,1399,1400,1401,1402,1403,1404,1405,1406,1407,1408,1409,1410,1411,1412,1413,1414,1415,1416,1417,1418,1419,1420,1421,1422,1423,1424,1425,1426,1427,1428,1429,1430,1431,1432,1433,1434,1435,1436,1437,1438,1439,1440,1441,1442,1443,1444,1445,1446,1447,1448,1449,1450,1451,1452,1453,1454,1455,1456,1457,1458,1459,1460,1461,1462,1463,1464,1465,1466,1467,1468,1469,1470,1471,1472,1473,1474,1475,1476,1477,1478,1479,1480,1481,1482,1483,1484,1485,1486,1487,1488,1489,1490,1491,1492,1493,1494,1495,1496,1497,1498,1499,1500,1501,1502,1503,1504,1505,1506,1507,1508,1509,1510,1511,1512,1513,1514,1515,1516,1517,1518,1519,1520,1521,1522,1523,1524,1525,1526,1527,1528,1529,1530,1531,1532,1533,1534,1535,1536,1537,1538,1539,1540,1541,1542,1543,1544,1545,1546,1547,1548,1549,1550,1551,1552,1553,1554,1555,1556,1557,1558,1559,1560,1561,1562,1563,1564,1565,1566,1567,1568,1569,1570,1571,1572,1573,1574,1575,1576,1577,1578,1579,1580,1581,1582,1583,1584,1585,1586,1587,1588,1589,1590,1591,1592,1593,1594,1595,1596,1597,1598,1599,1600,1601,1602,1603,1604,1605,1606,1607,1608,1609,1610,1611,1612,1613,1614,1615,1616,1617,1618,1619,1620,1621,1622,1623,1624,1625,1626,1627,1628,1629,1630,1631,1632,1633,1634,1635,1636,1637,1638,1639,1640,1641,1642,1643,1644,1645,1646,1647,1648,1649,1650,1651,1652,1653,1654,1655,1656,1657,1658,1659,1660,1661,1662,1663,1664,1665,1666,1667,1668,1669,1670,1671,1672,1673,1674,1675,1676,1677,1678,1679,1680,1681,1682,1683,1684,1685,1686,1687,1688,1689,1690,1691,1692,1693,1694,1695,1696,1697,1698,1699,1700,1701,1702,1703,1704,1705,1706,1707,1708,1709,1710,1711,1712,1713,1714,1715,1716,1717,1718,1719,1720,1721,1722,1723,1724,1725,1726,1727,1728,1729,1730,1731,1732,1733,1734,1735,1736,1737,1738,1739,1740,1741,1742,1743,1744,1745,1746,1747,1748,1749,1750,1751,1752,1753,1754,1755,1756,1757,1758,1759,1760,1761,1762,1763,1764,1765,1766,1767,1768,1769,1770,1771,1772,1773,1774,1775,1776,1777,1778,1779,1780,1781,1782,1783,1784,1785,1786,1787,1788,1789,1790,1791,1792,1793,1794,1795,1796,1797,1798,1799,1800,1801,1802,1803,1804,1805,1806,1807,1808,1809,1810,1811,1812,1813,1814,1815,1816,1817,1818,1819,1820,1821,1822,1823,1824,1825,1826,1827,1828,1829,1830,1831,1832,1833,1834,1835,1836,1837,1838,1839,1840,1841,1842,1843,1844,1845,1846,1847,1848,1849,1850,1851,1852,1853,1854,1855,1856,1857,1858,1859,1860,1861,1862,1863,1864,1865,1866,1867,1868,1869,1870,1871,1872,1873,1874,1875,1876,1877,1878,1879,1880,1881,1882,1883,1884,1885,1886,1887,1888,1889,1890,1891,1892,1893,1894,1895,1896,1897,1898,1899,1900,1901,1902,1903,1904,1905,1906,1907,1908,1909,1910,1911,1912,1913,1914,1915,1916,1917,1918,1919,1920,1921,1922,1923,1924,1925,1926,1927,1928,1929,1930,1931,1932,1933,1934,1935,1936,1937,1938,1939,1940,1941,1942,1943,1944,1945,1946,1947,1948,1949,1950,1951,1952,1953,1954,1955,1956,1957,1958,1959,1960,1961,1962,1963,1964,1965,1966,1967,1968,1969,1970,1971,1972,1973,1974,1975,1976,1977,1978,1979],\"y\":[461606,454124,450663,447641,447387,445467,445044,443904,443835,442240,442015,436341,432961,432122,417418,416876,413384,411421,408281,406067,405808,404753,399886,396730,396704,396637,396273,395959,394358,392482,391531,391185,389430,388833,387539,387508,387290,386183,384321,382704,382090,381483,380222,379031,378906,377708,377545,375995,375141,374500,373874,373799,373345,373055,369498,369199,367928,367919,367856,367451,366297,365841,365420,365278,365065,364915,364173,363186,362201,360889,359641,359268,358474,357749,357268,356683,356401,356307,355042,354930,354032,352841,348923,348407,347993,346588,345389,345029,341770,341621,341354,341349,341306,340819,340492,339901,338759,338065,337893,337866,337326,337265,337196,336824,336370,335304,335138,334790,332467,332395,332252,331356,331174,331085,330563,330186,330149,329035,328775,328768,328318,327765,327577,327036,326597,326568,326532,326519,325734,325636,324495,323605,323349,323240,322885,322550,322384,322263,321402,320987,319997,319610,317149,316953,316651,316282,315578,315525,315076,314770,314108,314103,313879,313269,312441,311348,310000,309575,309392,309349,309132,308771,307544,307308,307301,307081,306484,306020,305922,305874,305306,305304,305021,302847,301738,301335,301111,300907,300316,300312,300168,299856,299394,298598,298520,298417,298392,298301,298220,298074,297084,296842,296615,296038,295630,295527,294999,294618,294300,293931,293849,293619,293333,293329,293059,292193,290961,289276,288541,288501,287942,287891,287816,287350,286563,285850,285729,285624,285135,284809,284462,284144,283929,283785,283748,283744,283370,283262,283207,282804,282363,282173,282049,281954,281342,280237,279711,279430,279172,279082,278722,278587,278391,278229,278073,277351,276760,276004,275580,275058,275054,275052,274897,274473,274292,273778,273113,272025,271930,271479,271472,271287,271268,271068,270954,270899,270782,270400,270260,269885,268120,268029,267469,267382,267139,267061,266975,266669,266586,266441,266400,265944,265488,265460,265147,264874,263884,263774,263755,263364,263263,262956,262820,262554,262446,261992,260665,260384,260263,260077,259710,259491,259430,259204,258702,258412,258305,257626,257388,256856,256530,256451,256344,256061,255868,255445,255442,254899,254335,253824,253720,253482,253255,253187,252961,252959,252724,252479,252324,252205,251825,251580,251264,250963,250829,250815,250746,250499,250256,249944,249773,249471,249456,249429,249310,249097,248717,248660,248409,248303,248295,248196,247698,247246,247229,247188,246857,246360,245947,245579,245014,244767,244418,244196,243689,242493,241771,241651,241529,241019,240934,240309,240192,240053,240052,239941,239527,239484,239431,239338,239308,239143,239047,238888,238887,238634,238544,238396,238378,238140,238063,237934,237746,237535,237473,237434,237284,237284,236831,236613,236589,236578,236539,236519,236348,236151,236142,236096,236089,236001,235591,235522,235498,235347,235065,235064,235030,234988,234958,234894,234558,234326,234253,234138,234136,233798,233676,233647,233065,232812,232794,232723,232399,232379,232228,232173,232129,231719,231713,231390,231356,231343,231306,230969,230785,230747,230709,230649,230345,230329,230278,230183,230038,229563,229302,229300,229101,229069,228976,228915,228855,228594,228450,228437,228155,228140,227848,227535,227519,227397,227396,227359,227342,227128,227099,226743,226597,226586,226534,226159,226116,226019,226015,225808,225401,225285,225273,225234,225184,225165,225045,224861,224790,224596,224544,224482,224401,224135,224004,223543,223296,223085,223076,222885,222847,222584,222561,222496,222329,222321,221704,221580,220881,220819,220788,220646,220255,220099,220059,219887,219753,219731,219147,219007,218995,218990,218827,218741,218715,218631,218610,218237,218160,217728,217581,217223,217142,216960,216867,216688,216349,216313,216271,216216,216192,216133,216037,216018,215954,215727,215721,215662,215338,215042,214977,214713,214622,214423,214136,214076,213559,213224,213206,213024,212613,212598,212089,212069,211992,211948,211879,211717,211701,211582,211548,211387,211383,211350,211348,211191,211073,210883,210686,210621,210573,210348,210230,209951,209907,209883,209789,209534,209529,209140,209124,208928,208787,208711,208538,208491,208434,208346,208136,208115,207905,207886,207524,207198,207041,206937,206697,206305,206144,206125,205892,205784,205563,205243,205190,205155,204979,204891,204756,204629,204215,204171,204159,204147,203932,203901,203597,203594,203449,203414,203352,203250,203159,203089,202967,202873,202738,202695,202548,202493,202377,202290,202282,202261,202241,202206,201832,201610,201407,201149,201076,201007,200847,200817,200803,200665,200580,200527,200502,200465,200398,200181,200157,200133,200131,200117,199952,199941,199771,199585,199433,199353,199132,199072,199034,198995,198989,198972,198935,198855,198560,198467,198437,198399,198379,198374,198267,198235,198173,198077,198036,197943,197923,197905,197829,197332,197235,197230,197080,196951,196675,196520,196329,196317,196270,196164,196093,196056,195793,195579,195541,195523,195490,195322,195118,195057,194856,194811,194753,194586,194317,194018,193980,193877,193844,193631,193536,193511,193492,193369,193366,193342,193304,193300,193187,193169,192930,192863,192772,192614,192574,192525,192486,192344,192124,191930,191901,191797,191754,191637,191509,191387,191351,191347,191310,191180,191118,191067,191061,190994,190983,190945,190768,190756,190682,190627,190535,190416,190313,190153,190147,190007,189908,189871,189788,189755,189647,189591,189590,189590,189525,189458,189429,189415,189393,189346,189329,189235,189225,189161,189091,188940,188917,188916,188891,188827,188637,188612,188516,188418,188363,188306,188216,188065,188015,187977,187975,187941,187925,187795,187764,187561,187546,187493,187477,187086,187061,187047,187035,187032,186983,186880,186872,186866,186848,186699,186290,186114,186049,186042,185847,185676,185630,185563,185545,185523,185500,185430,185421,185385,185069,184672,184577,184534,184486,184359,184268,184259,184219,184207,184068,183879,183798,183773,183620,183553,183495,183459,183454,183452,183380,183313,183135,183110,183010,182875,182838,182661,182568,182541,182533,182478,182465,182413,182168,182149,182081,182041,181747,181747,181568,181416,181387,181313,181250,181222,181210,180950,180676,180621,180436,180365,180306,180230,180202,180120,180076,180031,179998,179945,179903,179895,179860,179791,179517,179436,179258,179256,179021,178954,178816,178795,178739,178629,178515,178406,178250,178158,178094,178014,177961,177937,177693,177673,177663,177638,177592,177580,177566,177557,177487,177465,177440,177413,177155,177109,177069,177019,176857,176821,176760,176703,176673,176481,176387,176270,176191,176107,175976,175929,175886,175884,175714,175645,175643,175420,175386,175353,175341,175160,175132,175018,174955,174922,174858,174852,174834,174698,174686,174670,174632,174614,174586,174519,174519,174126,174027,174022,173966,173711,173681,173611,173556,173522,173464,173336,173296,173262,173091,173077,173031,172966,172923,172886,172755,172715,172712,172705,172699,172603,172585,172553,172463,172270,172223,172083,171988,171940,171932,171896,171856,171838,171838,171765,171699,171612,171598,171584,171243,170954,170877,170851,170760,170729,170720,170702,170311,170055,169926,169886,169851,169776,169764,169495,169470,169133,169091,169005,168971,168755,168641,168577,168525,168499,168465,168345,168137,168066,168051,167883,167855,167819,167720,167684,167647,167567,167370,167355,167335,167242,166999,166931,166923,166917,166910,166891,166889,166889,166868,166651,166522,166493,166410,166249,166190,166188,166160,166026,165929,165880,165876,165855,165854,165839,165816,165722,165688,165679,165628,165595,165449,165390,165346,165305,165280,165212,165172,165165,165121,164980,164834,164640,164601,164520,164454,164363,164263,164216,164190,164168,164019,163975,163943,163702,163538,163348,163190,162916,162837,162798,162730,162710,162605,162587,162509,162497,162435,162365,162362,162289,162283,162083,162016,161993,161949,161912,161843,161840,161756,161726,161544,161437,161404,161128,161022,160904,160886,160842,160812,160661,160550,160521,160470,160439,160399,160371,160327,160325,159978,159959,159950,159948,159874,159848,159562,159557,159485,159416,159346,159283,158844,158795,158617,158493,158450,158400,158323,158294,158164,158147,158140,158134,158020,157491,157378,157300,157126,157004,156994,156989,156936,156794,156579,156534,156533,156491,156420,156363,156332,156311,156243,156212,156191,155956,155947,155722,155654,155624,155619,155580,155578,155235,155193,155155,155083,155021,155010,154838,154758,154746,154733,154695,154554,154447,154382,154370,154322,154290,154253,154249,154147,154048,154036,154030,153987,153970,153955,153923,153817,153751,153695,153527,153413,153331,153189,152834,152705,152475,152473,152436,152317,152222,152065,151915,151871,151811,151781,151732,151712,151552,151551,151551,151524,151487,151485,151478,151442,151382,151377,151352,151309,150962,150884,150737,150669,150621,150597,150499,150491,150369,150320,150265,150264,150252,150207,150164,150098,150058,149942,149887,149879,149806,149726,149612,149605,149592,149518,149387,149323,149258,149057,148874,148848,148807,148766,148732,148717,148636,148427,148382,148228,148201,148193,148146,148074,148069,148065,148021,147969,147955,147882,147847,147647,147618,147516,147513,147491,147454,147433,147380,147353,147320,147315,147288,147246,147210,147199,147153,147097,147051,146864,146841,146767,146624,146599,146572,146548,146539,146538,146531,146474,146411,146389,146368,146135,146115,146048,145977,145716,145696,145604,145578,145449,145439,145420,145419,145328,145310,145309,145137,145130,145059,145047,145043,144945,144935,144742,144516,144515,144473,144404,144343,144324,144253,144211,144196,144142,144133,144114,143930,143860,143825,143783,143736,143733,143653,143640,143618,143440,143388,143273,143236,143190,142876,142875,142859,142751,142728,142699,142697,142591,142562,142499,142357,142337,142292,142271,142270,142255,142130,142129,142125,142045,142010,141859,141837,141704,141686,141659,141265,141256,141224,141093,141092,141036,141015,140946,140873,140870,140835,140833,140827,140720,140623,140438,140433,140411,140340,140305,140203,140123,139996,139992,139966,139943,139886,139859,139834,139831,139806,139784,139732,139630,139613,139432,139380,139371,139369,139322,139307,139302,139293,139258,139255,139160,139130,139085,139044,138986,138883,138803,138750,138674,138632,138611,138559,138550,138534,138453,138227,138201,138129,138128,138097,138071,138035,138026,137986,137949,137918,137872,137838,137803,137760,137539,137496,137487,137430,137342,137336,137314,137011,136976,136962,136961,136958,136949,136906,136870,136773,136688,136665,136659,136630,136629,136618,136510,136504,136466,136449,136408,136168,136159,136135,136131,136113,136081,136078,136069,136015,136012,136007,135935,135879,135849,135793,135769,135674,135653,135610,135603,135562,135538,135495,135396,135285,135197,135163,135038,134942,134926,134895,134791,134762,134706,134656,134649,134585,134553,134516,134496,134456,134370,134350,134294,134273,134216,134154,134114,134099,134072,134063,134042,134031,134012,134012,133981,133949,133934,133863,133856,133764,133654,133460,133453,133379,133352,133252,133202,133157,133156,133060,133056,132965,132958,132953,132888,132798,132741,132655,132618,132551,132467,132429,132417,132393,132371,132362,132312,132273,132210,132166,132078,132053,131996,131952,131889,131861,131843,131839,131834,131742,131655,131648,131572,131543,131528,131390,131209,131178,131161,131075,131034,131032,130986,130937,130906,130879,130760,130704,130698,130691,130682,130657,130617,130518,130505,130454,130380,130303,130267,130262,130236,130168,130109,130013,129921,129910,129844,129833,129817,129784,129762,129727,129686,129655,129597,129592,129570,129550,129531,129459,129457,129414,129389,129366,129318,129311,129296,129222,128997,128991,128972,128935,128926,128891,128890,128885,128869,128811,128772,128746,128697,128653,128634,128633,128560,128470,128452,128340,128330,128229,128214,128150,128079,128024,128001,127925,127895,127684,127644,127610,127563,127492,127471,127294,127264,127205,127200,127172,127131,127122,127102,126999,126977,126921,126761,126752,126693,126634,126618,126578,126431,126429,126402,126328,126160,126151,126144,126130,126100,126087,126075,126061,126006,125942,125869,125649,125634,125596,125593,125537,125535,125528,125504,125439,125287,125274,125224,125207,125206,125192,125176,125137,125136,125117,125019,124984,124907,124895,124892,124830,124785,124669,124542,124537,124456,124445,124366,124337,124248,124207,124191,124159,124144,124094,123943,123889,123879,123858,123852,123797,123787,123771,123657,123499,123477,123448,123339,123252,123250,123196,123164,123164,123113,123071,122995,122969,122929,122905,122815,122738,122685,122651,122608,122606,122578,122555,122541,122525,122461,122450,122415,122393,122378,122375,122309,122176,122149,122123,122055,122053,122042,122031,122020,122001,121992,121973,121954,121892,121851,121797,121655,121607,121588,121565,121557,121494,121435,121405,121326,121312,121215,121152,121013,121009,121005,120936,120932,120917,120912,120785,120776,120675,120654,120644,120606,120582,120576,120456,120437,120370,120358,120333,120321,120294,120274,120249,120177,120173,120125,120112,120086,120085,120050,119994,119927,119868,119812,119758,119756,119736,119667,119633,119567,119547,119542,119528,119460,119397,119389,119386,119339,119304,119256,119219,119207,119200,119185,119182,119092,119080,119012,118969,118937,118887,118879,118851,118828,118809,118728,118585,118471,118434,118419,118391,118374,118364,118336,118322,118243,118216,118200,118179,118003,117958,117957,117954,117932,117925,117821,117812,117771,117738,117733,117719,117707,117703,117702,117695,117681,117611,117475,117475,117447,117416,117408,117341,117177,117160,117141,117116,117112,117110,117040,117018]}},\"id\":\"326c92b4-b6af-4914-b9f7-350e4e7881c4\",\"type\":\"ColumnDataSource\"},{\"attributes\":{\"plot\":{\"id\":\"35c6dada-5705-4354-a8cc-7da3679f362c\",\"subtype\":\"Figure\",\"type\":\"Plot\"}},\"id\":\"4bcc4108-6044-476a-bcca-04c846c0a388\",\"type\":\"SaveTool\"},{\"attributes\":{\"callback\":null},\"id\":\"a3526128-8306-4ef6-8ace-0390d0d81290\",\"type\":\"DataRange1d\"},{\"attributes\":{},\"id\":\"ccc8d687-372d-498f-8b4f-2253b3b52311\",\"type\":\"ToolEvents\"},{\"attributes\":{\"axis_label\":\"Contig Length\",\"formatter\":{\"id\":\"0ed7ff5c-1608-4737-8b8e-436dafd06583\",\"type\":\"BasicTickFormatter\"},\"plot\":{\"id\":\"35c6dada-5705-4354-a8cc-7da3679f362c\",\"subtype\":\"Figure\",\"type\":\"Plot\"},\"ticker\":{\"id\":\"89e82a94-d7bf-4b41-92b4-0c071c975d9f\",\"type\":\"BasicTicker\"}},\"id\":\"1bfe57aa-4968-4f30-a020-444421bcd05e\",\"type\":\"LinearAxis\"},{\"attributes\":{\"fill_alpha\":{\"value\":0.1},\"fill_color\":{\"value\":\"#1f77b4\"},\"line_alpha\":{\"value\":0.1},\"line_color\":{\"value\":\"#1f77b4\"},\"line_width\":{\"value\":2},\"x\":{\"field\":\"x\"},\"y\":{\"field\":\"y\"}},\"id\":\"8f028fdc-71e5-445a-93d4-d361c55cc115\",\"type\":\"Circle\"},{\"attributes\":{\"dimension\":1,\"plot\":{\"id\":\"35c6dada-5705-4354-a8cc-7da3679f362c\",\"subtype\":\"Figure\",\"type\":\"Plot\"},\"ticker\":{\"id\":\"89e82a94-d7bf-4b41-92b4-0c071c975d9f\",\"type\":\"BasicTicker\"}},\"id\":\"fe6dbd7d-016c-4640-a952-fa25a7594c78\",\"type\":\"Grid\"},{\"attributes\":{\"label\":{\"value\":\"Length.\"},\"renderers\":[{\"id\":\"1de8f271-5400-41bb-8b2a-9422fcfa1579\",\"type\":\"GlyphRenderer\"}]},\"id\":\"cb18084a-7574-4111-ab9c-59d8ab47e9fa\",\"type\":\"LegendItem\"},{\"attributes\":{},\"id\":\"0ed7ff5c-1608-4737-8b8e-436dafd06583\",\"type\":\"BasicTickFormatter\"},{\"attributes\":{\"plot\":null,\"text\":\"Excelsior Contig Lengths\"},\"id\":\"abaade12-0669-4d3f-a4ca-d9a60bf01950\",\"type\":\"Title\"},{\"attributes\":{\"plot\":{\"id\":\"35c6dada-5705-4354-a8cc-7da3679f362c\",\"subtype\":\"Figure\",\"type\":\"Plot\"},\"ticker\":{\"id\":\"1cf6de9a-fc5e-4657-a758-15c07c87ef6a\",\"type\":\"BasicTicker\"}},\"id\":\"dbb10f1a-9732-4561-a076-914ceeca574e\",\"type\":\"Grid\"},{\"attributes\":{\"plot\":{\"id\":\"35c6dada-5705-4354-a8cc-7da3679f362c\",\"subtype\":\"Figure\",\"type\":\"Plot\"}},\"id\":\"1b86c35c-47f6-438d-ae1a-00a62468e72b\",\"type\":\"PanTool\"},{\"attributes\":{\"fill_color\":{\"value\":\"#1f77b4\"},\"line_color\":{\"value\":\"#1f77b4\"},\"line_width\":{\"value\":2},\"x\":{\"field\":\"x\"},\"y\":{\"field\":\"y\"}},\"id\":\"54d6bb85-b56c-49be-975b-38b0b490ff9b\",\"type\":\"Circle\"},{\"attributes\":{\"plot\":{\"id\":\"35c6dada-5705-4354-a8cc-7da3679f362c\",\"subtype\":\"Figure\",\"type\":\"Plot\"}},\"id\":\"fb42165e-9414-494a-a4e3-733458876ea8\",\"type\":\"WheelZoomTool\"},{\"attributes\":{\"below\":[{\"id\":\"86f3bbfb-84dd-4855-a59e-306f70586ca8\",\"type\":\"LinearAxis\"}],\"left\":[{\"id\":\"1bfe57aa-4968-4f30-a020-444421bcd05e\",\"type\":\"LinearAxis\"}],\"renderers\":[{\"id\":\"86f3bbfb-84dd-4855-a59e-306f70586ca8\",\"type\":\"LinearAxis\"},{\"id\":\"dbb10f1a-9732-4561-a076-914ceeca574e\",\"type\":\"Grid\"},{\"id\":\"1bfe57aa-4968-4f30-a020-444421bcd05e\",\"type\":\"LinearAxis\"},{\"id\":\"fe6dbd7d-016c-4640-a952-fa25a7594c78\",\"type\":\"Grid\"},{\"id\":\"d987c0c3-b7ea-4c10-9301-d2617458945a\",\"type\":\"BoxAnnotation\"},{\"id\":\"6ea1d5f2-4528-45e8-a38e-3159d1636bcb\",\"type\":\"Legend\"},{\"id\":\"1de8f271-5400-41bb-8b2a-9422fcfa1579\",\"type\":\"GlyphRenderer\"}],\"title\":{\"id\":\"abaade12-0669-4d3f-a4ca-d9a60bf01950\",\"type\":\"Title\"},\"tool_events\":{\"id\":\"ccc8d687-372d-498f-8b4f-2253b3b52311\",\"type\":\"ToolEvents\"},\"toolbar\":{\"id\":\"0edcc8b9-2d10-4df3-a895-968a198bce79\",\"type\":\"Toolbar\"},\"x_range\":{\"id\":\"a3526128-8306-4ef6-8ace-0390d0d81290\",\"type\":\"DataRange1d\"},\"y_range\":{\"id\":\"022275d7-10f0-47ea-9899-c2485ca18f28\",\"type\":\"DataRange1d\"}},\"id\":\"35c6dada-5705-4354-a8cc-7da3679f362c\",\"subtype\":\"Figure\",\"type\":\"Plot\"}],\"root_ids\":[\"35c6dada-5705-4354-a8cc-7da3679f362c\"]},\"title\":\"Bokeh Application\",\"version\":\"0.12.3\"}};\n",
       "            var render_items = [{\"docid\":\"3955d89f-8ef0-42de-8b8a-f46a1cadc375\",\"elementid\":\"9ce8fc99-2446-43e7-b18e-4b4fddfa63c3\",\"modelid\":\"35c6dada-5705-4354-a8cc-7da3679f362c\"}];\n",
       "            \n",
       "            Bokeh.embed.embed_items(docs_json, render_items);\n",
       "        });\n",
       "      },\n",
       "      function(Bokeh) {\n",
       "      }\n",
       "    ];\n",
       "  \n",
       "    function run_inline_js() {\n",
       "      \n",
       "      if ((window.Bokeh !== undefined) || (force === \"1\")) {\n",
       "        for (var i = 0; i < inline_js.length; i++) {\n",
       "          inline_js[i](window.Bokeh);\n",
       "        }if (force === \"1\") {\n",
       "          display_loaded();\n",
       "        }} else if (Date.now() < window._bokeh_timeout) {\n",
       "        setTimeout(run_inline_js, 100);\n",
       "      } else if (!window._bokeh_failed_load) {\n",
       "        console.log(\"Bokeh: BokehJS failed to load within specified timeout.\");\n",
       "        window._bokeh_failed_load = true;\n",
       "      } else if (!force) {\n",
       "        var cell = $(\"#9ce8fc99-2446-43e7-b18e-4b4fddfa63c3\").parents('.cell').data().cell;\n",
       "        cell.output_area.append_execute_result(NB_LOAD_WARNING)\n",
       "      }\n",
       "  \n",
       "    }\n",
       "  \n",
       "    if (window._bokeh_is_loading === 0) {\n",
       "      console.log(\"Bokeh: BokehJS loaded, going straight to plotting\");\n",
       "      run_inline_js();\n",
       "    } else {\n",
       "      load_libs(js_urls, function() {\n",
       "        console.log(\"Bokeh: BokehJS plotting callback run at\", now());\n",
       "        run_inline_js();\n",
       "      });\n",
       "    }\n",
       "  }(this));\n",
       "</script>"
      ]
     },
     "metadata": {},
     "output_type": "display_data"
    }
   ],
   "source": [
    "e_sizes = [len(x.seq) for x in excelsior_contigs[20:2000]]\n",
    "p = figure(title=\"Excelsior Contig Lengths\", x_axis_label='Sorted Contigs', y_axis_label='Contig Length')\n",
    "p.scatter(range(len(e_sizes)), e_sizes, legend=\"Length.\", line_width=2)\n",
    "show(p)"
   ]
  },
  {
   "cell_type": "code",
   "execution_count": 46,
   "metadata": {
    "collapsed": false
   },
   "outputs": [
    {
     "name": "stdout",
     "output_type": "stream",
     "text": [
      "Done writing  89514 contigs and 867,496,965bp\n"
     ]
    }
   ],
   "source": [
    "write_contigs_to_file('D:\\\\Genomes\\\\Ash F. Pennsylvanica\\\\' + 'BATG-0.5_first_1000_scaffolds.fa', excelsior_contigs)"
   ]
  },
  {
   "cell_type": "code",
   "execution_count": null,
   "metadata": {
    "collapsed": true
   },
   "outputs": [],
   "source": []
  },
  {
   "cell_type": "code",
   "execution_count": null,
   "metadata": {
    "collapsed": true
   },
   "outputs": [],
   "source": []
  },
  {
   "cell_type": "code",
   "execution_count": 1,
   "metadata": {
    "collapsed": false
   },
   "outputs": [
    {
     "data": {
      "text/plain": [
       "44"
      ]
     },
     "execution_count": 1,
     "metadata": {},
     "output_type": "execute_result"
    }
   ],
   "source": [
    "from random import randint\n",
    "randint(1,60)"
   ]
  },
  {
   "cell_type": "code",
   "execution_count": 2,
   "metadata": {
    "collapsed": false
   },
   "outputs": [
    {
     "data": {
      "text/plain": [
       "27"
      ]
     },
     "execution_count": 2,
     "metadata": {},
     "output_type": "execute_result"
    }
   ],
   "source": [
    "randint(1,60)"
   ]
  },
  {
   "cell_type": "code",
   "execution_count": 3,
   "metadata": {
    "collapsed": false
   },
   "outputs": [
    {
     "data": {
      "text/plain": [
       "37"
      ]
     },
     "execution_count": 3,
     "metadata": {},
     "output_type": "execute_result"
    }
   ],
   "source": [
    "randint(1,60)"
   ]
  },
  {
   "cell_type": "code",
   "execution_count": null,
   "metadata": {
    "collapsed": true
   },
   "outputs": [],
   "source": []
  }
 ],
 "metadata": {
  "kernelspec": {
   "display_name": "Python 3",
   "language": "python",
   "name": "python3"
  },
  "language_info": {
   "codemirror_mode": {
    "name": "ipython",
    "version": 3
   },
   "file_extension": ".py",
   "mimetype": "text/x-python",
   "name": "python",
   "nbconvert_exporter": "python",
   "pygments_lexer": "ipython3",
   "version": "3.4.3"
  }
 },
 "nbformat": 4,
 "nbformat_minor": 1
}
