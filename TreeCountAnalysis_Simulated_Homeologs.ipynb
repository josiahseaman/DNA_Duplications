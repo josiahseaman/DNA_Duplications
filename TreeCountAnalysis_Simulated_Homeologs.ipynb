{
 "cells": [
  {
   "cell_type": "code",
   "execution_count": 1,
   "metadata": {
    "collapsed": true
   },
   "outputs": [],
   "source": [
    "from newick import loads\n",
    "import newick\n",
    "from DNASkittleUtils.DDVUtils import pp\n",
    "import csv"
   ]
  },
  {
   "cell_type": "code",
   "execution_count": 2,
   "metadata": {
    "collapsed": false
   },
   "outputs": [
    {
     "data": {
      "text/plain": [
       "8484"
      ]
     },
     "execution_count": 2,
     "metadata": {},
     "output_type": "execute_result"
    }
   ],
   "source": [
    "all_trees = {}\n",
    "with open(r\"CAFE-4.2\\data\\homeologs_only\\simulated\\reports\\simulation_viterbi.cafe\", 'r') as csvfile:\n",
    "    lines = csvfile.readlines()[10:]\n",
    "    for nLines, row in enumerate(lines):\n",
    "        row = row.split('\\t')\n",
    "        all_trees[int(row[0])] = row[1]\n",
    "len(all_trees)"
   ]
  },
  {
   "cell_type": "code",
   "execution_count": 3,
   "metadata": {
    "collapsed": true
   },
   "outputs": [],
   "source": [
    "all_homeologs = list(all_trees.keys())\n",
    "ordered_names = loads('((((((((((FRAX30:2,FRAX32:2)<1>:1,FRAX28:3)<3>:2,FRAX12:5)<5>:4,(FRAX07:8,FRAX29:8)<9>:1)<7>:4,FRAX08:13)<11>:1,(((((FRAX01:2,FRAX16:2)<15>:4,FRAX15:6)<17>:2,FRAX00:8)<19>:2,(FRAX06:9,FRAX23:9)<23>:1)<21>:3,FRAX25:13)<25>:1)<13>:3,FRAX21:17)<27>:2,(((FRAX19:8,FRAX20:8)<31>:2,((FRAX11:5,FRAX27:5)<35>:4,FRAX04:9)<37>:1)<33>:1,(((((FRAX03:1,FRAX09:1)<41>:1,FRAX13:2)<43>:2,(FRAX26:2,FRAX14:2)<47>:2)<45>:3,FRAX05:7)<49>:2,FRAX33:9)<51>:2)<39>:8)<29>:15,FRAX31:34)<53>:2,Oeuropea:36)<55>:36')[0]\n",
    "def create_ordered_nodes(verbose=False):\n",
    "    ordered_nodes = []\n",
    "    for node in ordered_names.walk(mode=\"preorder\"):\n",
    "        if verbose:\n",
    "            print(node.name, node.length)\n",
    "        ordered_nodes.append({'name': node.name, 'length':node.length, 'losses': 0, 'gains': 0, 'avg#': 0})\n",
    "    return ordered_nodes\n",
    "\n",
    "def extract_count(name):\n",
    "    if isinstance(name, newick.Node):\n",
    "        name = name.name\n",
    "    return int(name.split('_')[-1])\n",
    "\n",
    "def populate_history_histogram(study_ints):\n",
    "    ordered_nodes = create_ordered_nodes()\n",
    "    genes_lost = {node['name']:set() for node in ordered_nodes}\n",
    "    for fam_id in study_ints:\n",
    "        newick_str = all_trees[fam_id]\n",
    "        tree = loads(newick_str)[0]\n",
    "        for index, node in enumerate(tree.walk(mode=\"preorder\")):\n",
    "            count = extract_count(node)\n",
    "            tail = ''\n",
    "            ordered_nodes[index]['avg#'] += count\n",
    "            if node.ancestor:\n",
    "                parent_count = extract_count(node.ancestor.name)\n",
    "                if count < parent_count:\n",
    "                    tail = (\"loss\")\n",
    "                    ordered_nodes[index]['losses'] += 1 #parent_count - count\n",
    "                    place_name = node.name.split('_')[0]\n",
    "                    if place_name:\n",
    "                        genes_lost[place_name].add(fam_id)  # record gene family\n",
    "                elif count > parent_count:\n",
    "                    tail = (\"gain\")\n",
    "                    ordered_nodes[index]['gains'] += 1 #count - parent_count \n",
    "#             print(node.name, count, tail)\n",
    "    for result in ordered_nodes:  # divide sum by length to get mean\n",
    "        result['avg#'] /= len(study_ints)\n",
    "    return ordered_nodes, genes_lost\n",
    "ordered_nodes, genes_lost = populate_history_histogram(all_homeologs)"
   ]
  },
  {
   "cell_type": "code",
   "execution_count": 4,
   "metadata": {
    "collapsed": false
   },
   "outputs": [
    {
     "data": {
      "text/html": [
       "<img src=\"CAFE-4.2/data/homeologs_only/reports/tree_nodes.png\">"
      ],
      "text/plain": [
       "<IPython.core.display.HTML object>"
      ]
     },
     "metadata": {},
     "output_type": "display_data"
    }
   ],
   "source": [
    "%%html\n",
    "<img src=\"CAFE-4.2/data/homeologs_only/reports/tree_nodes.png\">"
   ]
  },
  {
   "cell_type": "code",
   "execution_count": 5,
   "metadata": {
    "collapsed": false
   },
   "outputs": [
    {
     "name": "stdout",
     "output_type": "stream",
     "text": [
      "[0.0, 0.0, 0.0, 0.0, 0.0, 0.0, 0.0, 0.0, 0.0, 0.0, 0.0, 0.0, 0.0, 0.0, 0.0, 0.0, 0.0, 0.0, 0.0, 0.0, 0.0, 0.0, 0.0, 0.0, 0.0, 0.0, 0.0, 0.0, 0.0, 0.0, 0.0, 0.0, 0.0, 0.0, 0.0, 0.0, 0.4722222222222222, 0.4722222222222222, 0.5310457516339869, 0.5310457516339869, 0.5310457516339869, 0.5310457516339869, 0.5310457516339869, 0.5310457516339869, 0.5310457516339869, 0.5310457516339869, 0.5310457516339869, 0.5310457516339869, 0.5310457516339869, 0.5310457516339869, 0.5310457516339869, 0.5310457516339869, 0.5310457516339869, 2.906045751633987, 2.906045751633987, 9.08251633986928, 9.08251633986928, 9.08251633986928, 21.08251633986928, 35.87097787833082, 35.87097787833082, 46.99597787833082, 62.49597787833083, 85.21820010055306, 103.46820010055306, 115.30153343388639, 124.55153343388639, 138.90153343388636, 147.56820010055304, 155.73486676721973, 182.98486676721973, 197.98486676721973, 0, 0, 0, 0, 0, 0, 0]\n",
      "[1, 1, 1, 1, 1, 1, 1, 1, 1, 1, 1, 1, 1, 1, 1, 1, 1, 1, 1, 1, 1, 1, 1, 1, 1, 1, 1, 1, 1, 1, 1, 1, 1, 1, 1, 1, 2, 2, 3, 3, 3, 3, 3, 3, 3, 3, 3, 3, 3, 3, 3, 3, 3, 4, 4, 5, 5, 5, 6, 8, 8, 9, 11, 15, 18, 19, 20, 22, 23, 24, 28, 29, 0, 0, 0, 0, 0, 0, 0]\n",
      "[0.0, 0.0, 0.0, 0.0, 0.0, 0.0, 0.0, 0.0, 0.0, 0.0, 0.0, 0.0, 0.0, 0.0, 0.0, 0.0, 0.0, 0.0, 0.0, 0.0, 0.0, 0.0, 0.0, 0.0, 0.0, 0.0, 0.0, 0.0, 0.0, 0.0, 0.0, 0.0, 0.0, 0.0, 0.0, 0.0, 0.2361111111111111, 0.2361111111111111, 0.1770152505446623, 0.1770152505446623, 0.1770152505446623, 0.1770152505446623, 0.1770152505446623, 0.1770152505446623, 0.1770152505446623, 0.1770152505446623, 0.1770152505446623, 0.1770152505446623, 0.1770152505446623, 0.1770152505446623, 0.1770152505446623, 0.1770152505446623, 0.1770152505446623, 0.7265114379084967, 0.7265114379084967, 1.816503267973856, 1.816503267973856, 1.816503267973856, 3.5137527233115464, 4.483872234791352, 4.483872234791352, 5.221775319814536, 5.681452534393712, 5.681213340036871, 5.748233338919615, 6.068501759678231, 6.22757667169432, 6.313706065176652, 6.4160087000240456, 6.488952781967488, 6.53517381311499, 6.827064371283439, 0.0, 0.0, 0.0, 0.0, 0.0, 0.0, 0.0]\n"
     ]
    }
   ],
   "source": [
    "def ancestors_length(node):\n",
    "    ancestors = []\n",
    "    while node.ancestor:\n",
    "        node = node.ancestor\n",
    "        ancestors.append(node.length)\n",
    "    return ancestors\n",
    "\n",
    "def populate_change_histogram(results_per_node, blacklist_index):\n",
    "    losses_per_interval = [0] * 79  # contain sums of changes\n",
    "    gains_per_interval = [0] * 79  # contain sums of changes\n",
    "    branch_occupancy = [0] * 79  # number of branches at that interval for normalization\n",
    "\n",
    "\n",
    "    for node_i, node in enumerate(ordered_names.walk(mode=\"preorder\")):\n",
    "        if node_i not in blacklist_index:\n",
    "            ancestor_sum_length = int(sum(ancestors_length(node)))\n",
    "            my_end = ancestor_sum_length + int(node.length)\n",
    "            for year in range(ancestor_sum_length, my_end):\n",
    "                losses_per_interval[year] += results_per_node[node_i]['losses'] / node.length\n",
    "                gains_per_interval[year] += results_per_node[node_i]['gains'] / node.length\n",
    "                branch_occupancy[year] += 1\n",
    "    print(gains_per_interval)\n",
    "    print(branch_occupancy)\n",
    "    normalized_losses = [losses / max(1,branches) for (losses, branches) in zip(losses_per_interval, branch_occupancy) ]\n",
    "    normalized_gains = [gains / max(1,branches) for (gains, branches) in zip(gains_per_interval, branch_occupancy) ]\n",
    "    print(normalized_gains)\n",
    "    return normalized_losses, normalized_gains\n",
    "normalized_losses, normalized_gains = populate_change_histogram(ordered_nodes, [])"
   ]
  },
  {
   "cell_type": "code",
   "execution_count": 6,
   "metadata": {
    "collapsed": false
   },
   "outputs": [
    {
     "data": {
      "image/png": "[encoded data removed]",
      "text/plain": [
       "<matplotlib.figure.Figure at 0x1862ce48>"
      ]
     },
     "metadata": {},
     "output_type": "display_data"
    }
   ],
   "source": [
    "%matplotlib inline\n",
    "import numpy as np\n",
    "import matplotlib.pyplot as plt\n",
    "\n",
    "def plot_time_histogram(normalized_losses, normalized_gains, start_year=36):\n",
    "    # plot time_intervals,  plot gains in different colors\n",
    "    fig, ax = plt.subplots(figsize=(10,5), dpi=100)\n",
    "    xs = np.arange(0, len(normalized_losses[start_year:]))\n",
    "    bar_width = 1\n",
    "    ax.bar(xs, normalized_losses[start_year:], bar_width,\n",
    "                    alpha=.5, color='r', linewidth=0,\n",
    "                    label='Losses')\n",
    "    ax.bar(xs, normalized_gains[start_year:], bar_width,\n",
    "                    alpha=1., color='#7F7FFF', linewidth=0,\n",
    "                    label='Gains')\n",
    "    ax.set_xlabel('MY since WGD')\n",
    "    ax.set_ylabel('Average Changes per Branch per Mil. Year')\n",
    "    ax.set_title('Rate of Change in Copy Number over Time')\n",
    "    # ax.set_xticks(index + bar_width / 2)\n",
    "    # ax.set_xticklabels(('A', 'B', 'C', 'D', 'E'))\n",
    "    ax.legend(loc='upper left')\n",
    "    # fig.tight_layout()\n",
    "plot_time_histogram(normalized_losses[:-7], normalized_gains[:-7])  "
   ]
  },
  {
   "cell_type": "markdown",
   "metadata": {},
   "source": [
    "**Conclusion: Simulation does not support lag-time model since it is not a factor included in the simulation parameters.**"
   ]
  },
  {
   "cell_type": "markdown",
   "metadata": {
    "collapsed": false
   },
   "source": [
    "normalized_losses[:-7]"
   ]
  },
  {
   "cell_type": "code",
   "execution_count": 7,
   "metadata": {
    "collapsed": false
   },
   "outputs": [
    {
     "data": {
      "image/png": "[encoded data removed]",
      "text/plain": [
       "<matplotlib.figure.Figure at 0x19de8390>"
      ]
     },
     "metadata": {},
     "output_type": "display_data"
    }
   ],
   "source": [
    "def get_count_at_root(fam_id, ordered_node_index=0):\n",
    "    newick_str = all_trees[fam_id]\n",
    "    tree = loads(newick_str)[0]\n",
    "    for index, node in enumerate(tree.walk(mode=\"preorder\")):\n",
    "        if index == ordered_node_index:\n",
    "            count = extract_count(node)\n",
    "            return count\n",
    "        \n",
    "def i_hist(values):\n",
    "    bins = [0] * (max(values) +1)\n",
    "    for v in values:\n",
    "        bins[v] += 1\n",
    "    return bins\n",
    "\n",
    "def pretty_hist(title, raw_values, x_title=\"Number of events\", y_title=\"Number of Families\"):\n",
    "    import pandas\n",
    "    df = pandas.Series(raw_values)#, columns=['Family ID', 'Copies'])\n",
    "    bins = max(raw_values)\n",
    "    f = df.hist(bins=bins, figsize=(10,5), facecolor='#31a354', edgecolor='#31a354')#dpi=300)\n",
    "    f.grid(False)\n",
    "    f.set_xticks([i for i in range(bins) if i %2 == 0])\n",
    "    f.set_title(title)\n",
    "    f.set_xlabel(x_title)\n",
    "    f.set_ylabel(y_title)\n",
    "\n",
    "copies = [ get_count_at_root(fam) for fam in all_homeologs]\n",
    "pretty_hist('Number of Copies at the Oleaceae root', [c for c in copies if c < 21])"
   ]
  },
  {
   "cell_type": "code",
   "execution_count": 8,
   "metadata": {
    "collapsed": false
   },
   "outputs": [
    {
     "data": {
      "image/png": "[encoded data removed]",
      "text/plain": [
       "<matplotlib.figure.Figure at 0x19b0f7b8>"
      ]
     },
     "metadata": {},
     "output_type": "display_data"
    }
   ],
   "source": [
    "def collect_loss_events_per_family(study_ints, blacklist_index):\n",
    "    ordered_nodes = create_ordered_nodes()\n",
    "    loss_events_per_family = {}\n",
    "    for fam_id in study_ints:\n",
    "        current_family_loss_events = 0\n",
    "        species_total = 0\n",
    "        newick_str = all_trees[fam_id]\n",
    "        tree = loads(newick_str)[0]\n",
    "        for index, node in enumerate(tree.walk(mode=\"preorder\")):\n",
    "            count = extract_count(node)\n",
    "            if node.ancestor and index not in blacklist_index:\n",
    "                if not node.name.startswith('_'):\n",
    "                    species_total += count\n",
    "                parent_count = extract_count(node.ancestor.name)\n",
    "                if count < parent_count:  # \"loss\"\n",
    "                    current_family_loss_events += 1\n",
    "                elif count > parent_count:  # gain\n",
    "                    pass\n",
    "        loss_events_per_family[fam_id] = current_family_loss_events\n",
    "    pretty_hist(\"Repeated Loss in the Same Gene Family\", list(loss_events_per_family.values()))\n",
    "    return loss_events_per_family\n",
    "\n",
    "all_loss_events = collect_loss_events_per_family(list(all_trees.keys()), [])"
   ]
  },
  {
   "cell_type": "code",
   "execution_count": 9,
   "metadata": {
    "collapsed": false
   },
   "outputs": [
    {
     "data": {
      "image/png": "[encoded data removed]",
      "text/plain": [
       "<matplotlib.figure.Figure at 0x50ec1d0>"
      ]
     },
     "metadata": {},
     "output_type": "display_data"
    }
   ],
   "source": [
    "filtered_wgd_study_ints = [fam for fam in all_homeologs if get_count_at_root(fam) == 2]\n",
    "wgd_study_jsg_losses = collect_loss_events_per_family(filtered_wgd_study_ints, [])"
   ]
  },
  {
   "cell_type": "markdown",
   "metadata": {},
   "source": [
    "## Categorical Histograms combined"
   ]
  },
  {
   "cell_type": "code",
   "execution_count": 10,
   "metadata": {
    "collapsed": true
   },
   "outputs": [],
   "source": [
    "%matplotlib inline\n",
    "import numpy as np\n",
    "import matplotlib.pyplot as plt\n",
    "\n",
    "def categorical_histogram(title, datasets, normalize=False):\n",
    "    # plot time_intervals,  plot gains in different colors\n",
    "    fig, ax = plt.subplots(figsize=(10,5), dpi=1200, facecolor='white')\n",
    "    hist_series = [[label, i_hist(values)] for label, values in datasets.items()]\n",
    "    longest = max([len(hist[1]) for hist in hist_series])  \n",
    "    for i, pair in enumerate(hist_series):\n",
    "        hist_series[i][1] = (hist_series[i][1] + [0] * longest)[:longest] # zero padding\n",
    "    xs = np.arange(0, longest)  # set x axis\n",
    "    bar_width = 1\n",
    "    cmap = plt.get_cmap(\"Dark2\")\n",
    "    colors = cmap(np.linspace(0, .3, len(datasets)))\n",
    "\n",
    "    height_sorted = sorted(hist_series, key=lambda pair: -max(pair[1]))\n",
    "    tops = [max(pair[1]) for pair in height_sorted]\n",
    "    for i, pair in enumerate(height_sorted):\n",
    "        label, bars = pair\n",
    "        adjusted_bars = [b*(tops[0] / tops[i]) for b in bars]\n",
    "        if normalize:\n",
    "            bars = adjusted_bars\n",
    "        ax.bar(xs, bars, bar_width,\n",
    "                    alpha=.6, color=colors[i], linewidth=0,\n",
    "                    label=label)\n",
    "        \n",
    "    ax.set_xlabel('Independent Events')\n",
    "    ax.set_ylabel('Count #')\n",
    "    ax.set_title(title)\n",
    "    # ax.set_xticks(index + bar_width / 2)\n",
    "    # ax.set_xticklabels(('A', 'B', 'C', 'D', 'E'))\n",
    "    ax.legend(loc='upper right')\n",
    "    # fig.tight_layout()\n",
    "    "
   ]
  },
  {
   "cell_type": "code",
   "execution_count": 11,
   "metadata": {
    "collapsed": false
   },
   "outputs": [
    {
     "data": {
      "image/png": "[encoded data removed]",
      "text/plain": [
       "<matplotlib.figure.Figure at 0x51375c0>"
      ]
     },
     "metadata": {},
     "output_type": "display_data"
    }
   ],
   "source": [
    "categorical_histogram('Number of Loss Events per Family Under Different Criteria',\n",
    "    {'All Families': all_loss_events.values(),\n",
    "     'Two Copy at Root': wgd_study_jsg_losses.values(),\n",
    "    })"
   ]
  },
  {
   "cell_type": "markdown",
   "metadata": {},
   "source": [
    "# Comparing simulated and actual observations of Repeatability"
   ]
  },
  {
   "cell_type": "code",
   "execution_count": 12,
   "metadata": {
    "collapsed": false
   },
   "outputs": [
    {
     "data": {
      "text/plain": [
       "8485"
      ]
     },
     "execution_count": 12,
     "metadata": {},
     "output_type": "execute_result"
    }
   ],
   "source": [
    "actual_losses = [int(x) for x in '3 0 4 3 3 1 0 1 2 3 2 1 0 9 18 2 11 12 0 3 1 7 4 0 3 0 10 6 0 1 2 8 9 4 8 17 6 1 4 5 2 2 1 11 5 1 1 0 1 1 1 7 0 17 12 4 0 3 4 1 1 0 9 2 8 6 0 0 0 10 2 4 2 0 4 2 2 9 1 6 3 0 7 5 12 10 1 0 3 3 4 0 3 0 1 0 0 0 0 1 0 1 2 3 3 2 0 2 2 0 6 0 2 3 0 4 4 3 2 1 1 10 12 10 1 7 17 10 2 3 18 2 9 6 1 3 1 0 2 1 1 2 12 0 2 1 1 11 3 7 4 6 0 4 8 0 12 0 2 10 2 3 2 12 10 1 0 1 4 10 8 3 10 1 0 2 1 2 6 0 2 0 5 2 18 8 13 1 4 5 4 1 13 2 10 2 2 4 2 0 4 14 3 1 5 0 3 2 11 12 2 3 0 1 3 7 0 14 2 4 8 5 8 5 0 10 13 3 4 11 13 1 0 7 1 7 2 3 1 2 2 3 7 1 4 0 7 3 4 3 2 1 1 3 0 10 12 2 1 2 14 0 1 2 2 1 8 6 2 1 2 6 6 2 1 0 6 0 0 3 3 1 5 2 1 3 12 1 2 2 14 4 2 6 1 1 16 0 4 2 0 0 0 4 2 2 7 2 9 10 6 2 6 4 4 0 0 1 15 1 6 1 0 3 4 3 7 0 1 11 1 4 0 5 3 1 2 2 6 1 3 0 7 2 8 10 0 5 9 15 3 4 0 0 3 0 3 1 2 0 12 0 1 1 2 4 1 0 4 8 0 1 11 2 2 3 5 7 10 1 1 10 1 0 5 7 2 2 5 8 0 4 0 2 2 0 7 1 1 0 1 3 5 2 2 4 0 2 11 12 2 1 12 6 7 7 2 1 4 0 1 1 12 0 0 2 1 10 2 6 6 2 14 0 2 3 5 2 2 5 3 2 1 2 7 2 1 2 2 2 3 0 13 1 7 4 1 1 0 0 3 10 1 9 1 3 10 0 17 0 1 2 3 14 0 15 3 13 3 7 2 5 2 16 7 19 5 8 2 5 2 7 0 0 0 4 2 6 1 2 1 14 10 2 17 12 4 3 8 3 1 10 1 5 0 1 2 2 1 2 8 7 5 2 1 1 11 2 2 6 3 1 1 12 1 9 15 6 4 8 8 6 0 3 1 3 4 8 4 5 7 2 10 5 4 13 2 2 2 4 0 13 8 7 1 9 2 0 5 2 5 1 6 3 3 9 9 0 3 1 8 2 2 2 5 2 9 4 2 2 13 3 12 1 10 5 2 0 3 1 1 4 3 3 0 0 2 1 3 2 1 4 9 2 4 5 2 2 3 8 3 1 4 11 5 11 1 1 4 2 1 6 7 6 2 1 2 2 2 6 1 3 14 1 8 4 3 3 12 2 3 2 8 1 1 0 14 2 6 6 1 9 3 2 6 0 2 4 1 2 1 5 8 8 0 2 0 1 3 14 1 3 2 1 5 2 0 2 0 0 5 2 6 0 5 2 0 1 1 1 1 11 5 3 2 3 1 3 1 1 10 4 3 7 8 5 1 2 0 7 2 5 3 2 6 3 14 1 7 8 1 14 4 1 2 1 2 3 2 10 0 12 1 0 7 1 0 2 1 2 2 2 7 3 5 2 2 0 3 1 4 4 6 2 6 6 14 3 1 9 1 9 11 2 4 5 0 4 15 12 1 0 7 4 1 0 4 1 10 3 2 5 0 2 4 5 1 1 8 9 10 2 1 10 15 3 2 7 0 2 3 1 0 15 1 0 5 7 3 1 12 2 4 3 1 1 15 3 2 1 3 0 2 3 1 6 13 11 2 2 3 14 7 9 12 7 5 3 12 10 3 5 1 8 1 5 2 1 1 3 4 1 3 15 9 12 4 1 4 2 3 8 3 3 1 2 2 9 1 4 1 1 2 7 2 10 8 2 0 2 1 0 4 6 10 14 2 3 5 6 2 1 1 8 4 3 2 6 7 8 0 3 4 8 0 6 2 2 0 4 1 1 2 4 1 2 2 2 3 1 1 10 1 4 1 4 13 5 2 2 12 4 5 0 2 3 3 2 2 6 2 0 3 2 3 2 4 2 12 7 5 1 8 6 6 1 3 3 1 4 14 6 2 3 10 16 1 1 11 5 2 8 8 11 11 1 3 3 1 2 3 2 2 0 8 12 1 9 10 1 5 1 0 5 6 2 4 12 8 2 2 4 13 2 1 7 4 3 3 7 6 9 2 4 5 9 0 9 2 5 2 4 2 1 2 2 2 1 3 2 8 0 2 6 2 2 1 7 8 2 3 3 6 0 3 4 3 2 1 3 3 5 5 1 3 9 1 1 6 2 10 2 9 4 8 4 2 1 5 3 2 4 1 5 11 5 2 3 4 9 10 1 5 4 4 4 2 6 1 3 7 1 5 1 5 14 0 2 4 8 4 2 0 9 6 2 16 3 0 2 0 5 1 5 2 2 3 8 5 1 3 4 1 4 1 5 4 4 2 6 7 2 3 6 2 6 13 9 2 1 2 3 4 2 7 1 2 5 3 2 3 4 5 1 2 2 2 5 3 3 1 3 3 3 0 1 0 7 0 14 4 0 2 3 6 3 5 2 2 5 3 8 8 5 2 4 3 1 13 3 2 3 2 7 3 3 2 3 3 0 5 3 6 2 7 3 2 2 13 0 6 1 9 2 7 6 8 3 2 0 5 2 6 9 4 2 5 1 6 5 1 2 4 3 1 2 4 2 0 6 3 8 3 2 8 0 8 0 1 0 3 5 2 8 3 2 2 6 1 1 3 5 3 3 4 1 6 10 4 1 6 3 3 4 3 4 14 5 1 3 3 4 0 4 3 4 4 14 0 1 1 2 0 4 12 1 5 9 2 1 10 4 3 12 0 2 5 6 16 0 3 3 5 11 1 3 4 6 6 5 4 8 3 3 5 4 0 3 2 2 2 5 2 4 2 3 4 7 5 1 2 7 0 4 11 2 3 8 1 6 3 0 10 2 3 3 3 5 3 1 4 1 5 0 3 1 6 5 4 3 2 3 4 12 0 10 2 9 4 1 10 7 6 3 9 4 10 1 11 4 1 8 16 5 3 6 4 0 2 2 5 5 2 3 11 2 5 4 0 15 4 11 5 5 4 3 1 4 3 12 1 4 2 5 7 11 4 12 6 4 2 3 4 4 5 4 0 5 5 6 6 9 1 4 5 13 4 4 5 3 8 1 2 6 1 10 1 10 5 8 8 4 0 4 6 4 4 9 2 12 1 9 0 5 3 4 6 15 5 6 2 4 9 6 1 5 8 4 7 3 1 8 4 10 6 6 6 7 3 6 1 6 9 5 2 5 9 9 6 12 5 4 5 4 2 3 7 5 3 7 4 2 4 0 13 1 7 5 5 4 4 3 4 0 3 6 7 1 6 3 7 5 3 6 1 5 5 6 0 5 8 3 2 0 3 8 6 6 5 4 1 5 4 6 4 1 5 2 11 2 3 1 1 12 5 4 12 2 3 0 2 7 2 2 11 10 6 1 3 3 6 4 7 6 4 19 3 5 4 4 7 5 3 9 2 2 4 2 0 2 9 1 2 4 3 4 5 1 7 0 4 1 6 2 1 3 7 9 4 8 0 5 5 2 2 1 5 14 2 8 7 11 2 3 7 5 5 1 5 7 3 7 3 3 4 6 3 6 7 4 13 3 7 6 0 0 4 2 9 6 3 4 0 3 3 5 13 2 5 4 6 1 4 3 0 12 6 9 1 4 3 4 10 3 0 7 7 6 1 4 4 2 7 2 1 8 2 17 3 1 11 6 6 3 5 3 4 4 4 0 8 7 3 6 5 4 2 7 1 4 3 5 3 8 5 6 6 10 4 8 4 0 4 8 4 5 2 14 12 7 12 6 1 8 1 2 13 6 9 3 2 6 2 4 7 6 9 2 0 17 1 10 3 13 8 4 2 9 10 4 3 2 5 9 11 5 5 5 2 4 6 3 2 2 1 7 0 6 6 3 0 1 7 7 4 5 3 9 6 4 4 1 6 0 6 12 7 4 5 2 4 9 11 12 3 4 6 6 5 2 5 5 5 11 8 2 5 4 2 6 3 5 1 3 4 5 9 0 8 2 9 4 6 7 2 4 4 4 0 4 2 5 3 8 10 1 1 4 8 2 12 2 8 10 8 4 6 4 8 8 6 2 6 4 10 8 1 2 6 7 12 4 7 10 3 5 3 7 16 6 1 7 1 2 8 3 5 6 5 11 2 2 7 0 8 7 11 8 3 7 12 3 1 6 3 7 7 1 15 3 9 4 5 0 8 8 8 2 3 6 3 0 5 0 8 3 10 1 4 1 15 9 9 4 6 7 2 7 6 9 2 6 7 11 19 1 15 1 10 3 7 4 3 3 0 4 1 7 5 13 10 4 2 8 5 9 3 6 2 4 3 0 3 2 0 12 6 6 13 6 10 1 7 5 4 6 10 8 4 3 12 5 6 2 3 5 13 5 7 0 6 9 1 3 8 2 9 9 5 10 0 5 2 5 8 9 3 5 13 11 3 2 7 6 15 6 8 1 2 8 10 7 2 9 8 3 4 4 2 5 2 6 6 6 2 4 0 1 1 3 8 3 2 13 4 3 15 7 1 2 6 9 0 5 3 6 6 11 11 4 12 1 4 8 5 7 13 5 4 7 0 4 7 1 2 0 3 10 3 3 11 16 8 3 1 16 8 2 6 5 4 5 4 4 6 4 12 7 7 1 2 10 20 3 6 6 1 11 2 6 14 7 8 4 7 7 5 5 14 1 8 5 0 5 6 3 8 7 7 5 7 15 13 4 4 3 8 2 7 8 4 2 4 4 4 1 10 11 8 5 11 4 8 9 6 4 1 6 1 7 9 9 1 9 6 3 11 15 2 10 11 1 5 3 3 9 2 4 14 3 2 5 7 5 7 6 3 5 1 1 5 10 7 18 6 6 1 9 7 4 4 9 9 7 15 17 16 11 3 9 19 2 4 5 14 7 5 1 8 3 7 7 13 9 10 10 1 9 9 4 4 6 11 8 2 15 1 7 7 15 11 4 7 10 5 4 6 6 2 2 6 3 11 6 16 5 7 12 5 9 4 6 8 3 3 2 2 5 3 13 18 6 3 2 2 8 5 7 6 3 7 3 7 9 7 2 6 10 10 5 4 8 5 6 12 1 12 4 2 5 3 13 0 11 7 21 9 7 3 3 4 9 7 3 13 2 2 2 10 3 9 14 5 5 4 6 6 6 2 9 6 10 6 7 6 3 6 7 5 4 4 13 0 8 9 9 5 10 12 2 8 8 16 5 4 0 6 3 11 5 4 8 1 7 8 2 8 12 13 6 2 8 4 10 7 4 7 8 2 4 4 6 2 12 7 17 10 10 5 9 8 4 13 2 8 2 7 10 4 6 9 5 13 7 13 10 4 13 13 4 5 10 12 10 4 2 4 7 9 12 3 6 12 1 5 6 2 12 9 5 11 4 11 2 10 5 3 6 9 5 17 9 14 9 2 10 7 5 5 7 7 5 12 5 10 5 11 10 8 6 8 8 5 2 8 8 7 8 4 3 9 10 7 8 8 6 9 0 4 5 2 9 17 13 3 8 15 3 15 13 2 2 6 1 6 9 9 6 4 7 3 2 10 2 4 6 11 13 8 15 1 12 4 12 8 2 3 6 6 2 1 5 9 3 4 5 7 7 7 4 3 1 11 6 10 0 14 5 5 6 0 2 0 7 6 4 7 3 7 12 3 2 8 4 12 15 17 8 14 3 8 3 5 7 9 3 11 11 2 6 11 7 4 3 4 9 9 7 6 10 6 2 13 1 10 2 1 1 6 6 6 16 10 10 9 8 6 6 3 15 5 10 2 10 3 8 0 4 2 12 5 17 4 8 13 8 2 8 10 5 7 8 7 5 6 4 6 11 3 1 6 4 12 13 14 2 3 7 4 6 3 5 6 6 17 2 13 3 8 4 7 12 10 2 8 3 2 7 2 10 16 3 5 11 3 10 15 2 5 2 3 8 8 6 2 5 3 2 2 2 5 6 3 7 9 15 8 4 8 7 0 6 6 2 10 8 7 10 7 1 3 7 6 16 18 16 9 10 11 5 3 7 11 15 3 8 12 5 12 2 9 11 2 15 13 7 12 9 9 8 11 8 10 7 8 10 7 10 10 1 3 0 9 11 7 3 2 3 3 2 0 0 10 14 12 4 10 2 9 4 9 7 10 9 17 7 14 12 5 7 3 8 3 12 6 9 12 9 3 13 12 8 13 5 4 3 7 8 14 9 6 9 6 14 12 7 5 7 2 9 11 2 8 12 7 4 4 6 13 2 3 8 17 10 13 3 6 8 2 9 12 5 6 11 16 5 5 5 9 14 10 13 10 1 5 13 6 8 7 16 3 2 5 10 8 6 14 2 10 15 5 2 13 8 2 12 7 10 8 4 11 6 6 5 14 8 1 14 6 8 11 10 9 5 15 7 8 8 1 2 9 2 9 9 3 2 12 6 10 5 8 16 11 0 12 12 14 8 3 2 7 8 8 11 2 8 5 6 8 5 4 13 1 0 2 12 7 2 10 14 6 3 8 12 6 8 6 8 3 4 5 10 1 10 15 1 2 8 11 7 10 8 6 9 10 6 2 7 10 9 7 10 5 12 13 2 3 5 13 4 9 15 14 1 16 8 12 8 2 13 6 9 3 9 6 7 6 5 13 8 8 13 11 10 7 12 9 9 10 13 2 13 8 3 15 17 3 3 13 17 8 15 8 13 2 9 10 10 3 16 10 14 12 7 2 8 0 10 7 7 2 1 7 12 12 11 7 6 7 22 6 2 6 8 7 11 6 9 8 1 8 11 10 12 9 8 2 17 5 6 2 5 11 5 14 12 16 1 14 6 18 4 8 10 5 9 1 6 12 2 2 10 3 6 9 12 5 5 0 9 8 11 2 13 8 12 15 6 7 6 7 6 5 15 12 2 10 3 4 4 11 16 11 8 3 5 4 3 5 11 8 12 8 10 5 3 8 11 7 3 5 8 5 15 7 10 6 12 14 13 15 4 5 1 12 9 8 10 7 5 1 15 3 6 5 8 4 5 11 8 4 2 5 2 10 15 12 2 5 8 0 3 3 14 12 2 2 4 4 7 10 0 6 13 2 8 12 15 10 12 13 12 12 8 0 7 10 1 2 13 7 5 6 16 9 11 9 2 7 3 12 9 15 14 3 0 1 10 12 8 7 2 10 3 12 5 5 9 7 13 2 4 0 0 17 2 15 2 7 9 14 7 7 4 4 5 11 8 11 5 2 10 5 2 7 6 2 9 8 5 16 7 4 4 8 2 6 8 14 13 6 12 5 2 13 8 8 20 12 3 2 0 5 1 8 6 11 7 10 13 11 19 6 10 8 13 15 9 17 9 8 4 10 9 9 3 1 8 9 9 10 0 6 0 1 8 2 9 5 17 14 11 15 5 6 14 1 15 12 0 7 10 1 4 1 5 11 0 2 3 5 9 1 6 5 10 10 10 8 17 7 11 9 1 14 14 6 2 6 9 16 7 10 11 11 17 6 12 3 10 15 6 10 6 5 7 4 8 11 0 5 4 13 2 11 1 14 9 8 17 5 8 1 17 6 11 7 7 0 16 13 2 13 17 14 9 7 2 9 7 3 2 3 15 8 6 5 9 2 3 8 11 2 4 7 8 14 4 6 11 5 10 7 4 6 13 13 13 10 0 15 6 7 0 15 2 13 9 9 7 10 8 14 5 4 10 1 18 16 4 13 5 0 13 6 10 13 4 14 14 13 1 11 4 2 11 16 2 16 5 12 2 6 14 16 13 6 11 15 6 2 5 8 9 9 4 2 18 14 10 7 8 0 11 9 5 17 0 0 2 13 3 8 0 9 11 14 5 4 6 1 13 5 7 2 4 6 12 13 2 1 4 18 9 8 7 10 7 11 5 5 11 12 2 4 1 9 8 10 3 8 8 13 1 7 1 10 8 9 12 4 4 8 8 7 11 6 5 10 0 14 4 12 6 4 9 4 4 9 2 11 5 4 1 4 10 10 9 5 4 8 15 7 7 9 12 2 4 5 6 17 8 14 13 1 2 10 0 9 1 1 8 12 1 10 2 11 7 1 3 9 14 7 5 0 4 11 8 5 17 2 0 16 6 16 5 6 3 12 2 6 10 7 11 7 15 4 9 3 6 1 3 3 17 3 5 14 13 7 5 10 0 8 4 3 2 11 11 3 6 5 11 11 3 3 10 2 16 5 4 9 12 7 2 15 7 7 2 4 1 13 6 9 10 1 2 11 2 9 8 14 4 1 5 1 1 10 10 8 6 3 0 0 2 12 5 13 10 9 8 12 6 0 8 18 9 2 7 9 0 10 15 11 10 10 0 4 6 6 5 2 7 2 7 2 13 14 2 18 0 8 19 10 8 11 13 4 1 8 7 8 9 11 1 3 2 3 2 0 1 5 9 8 17 3 14 6 7 8 12 1 2 3 5 5 6 2 2 12 0 10 0 16 6 16 7 3 13 11 5 15 6 6 10 5 2 7 3 7 13 8 3 7 0 2 6 10 15 0 8 9 6 10 7 1 2 7 5 3 15 7 4 9 2 7 10 10 3 7 4 6 15 3 9 1 8 9 7 5 1 1 3 11 10 2 4 3 12 1 5 8 11 2 9 7 2 7 3 5 4 5 2 4 2 2 4 3 2 20 12 10 11 13 10 2 6 4 0 2 1 4 14 2 7 0 9 4 9 11 7 5 11 1 11 2 5 9 9 13 7 5 2 7 13 10 10 4 9 2 6 8 2 2 7 9 15 4 2 8 6 1 4 10 9 8 13 6 1 4 7 0 4 14 6 8 11 7 10 3 8 8 5 2 4 6 3 0 8 8 1 0 7 12 1 11 3 9 11 1 6 12 0 8 8 7 6 0 2 4 3 10 12 2 2 4 6 8 13 6 9 1 4 10 3 4 6 2 15 0 2 7 9 6 9 10 0 3 6 3 12 2 4 7 0 6 6 6 8 8 1 11 11 1 15 9 0 10 2 3 0 2 3 12 2 7 9 11 1 1 1 8 16 11 13 11 2 5 11 7 16 16 14 10 5 2 12 2 7 2 5 4 7 0 0 8 13 2 6 12 8 5 12 6 4 0 7 3 2 5 2 9 15 2 0 10 4 14 7 2 6 12 14 8 11 6 9 8 9 13 1 14 15 5 5 9 9 6 3 5 1 9 1 15 3 3 8 7 4 2 5 11 13 7 9 13 4 5 2 7 2 14 18 12 10 15 3 4 15 11 7 3 7 12 3 13 6 5 5 2 9 16 9 5 13 8 14 8 8 15 9 7 19 2 5 5 10 0 5 9 11 9 8 14 6 14 10 17 5 2 0 13 16 5 6 12 2 9 2 4 0 5 2 10 10 11 6 12 1 14 7 7 4 3 3 1 2 7 10 5 9 13 11 9 13 5 2 5 9 13 10 2 8 14 10 0 9 0 17 5 8 8 6 4 3 11 8 11 7 6 9 0 6 9 12 2 2 14 14 1 2 7 1 16 14 11 6 11 2 5 2 3 12 5 0 1 6 7 2 3 14 0 12 2 6 7 9 3 1 7 6 3 5 2 6 5 4 7 3 2 9 0 11 3 3 3 8 5 2 0 6 9 2 9 9 5 9 7 8 3 8 9 8 4 12 1 11 6 4 16 12 15 9 10 4 3 4 12 13 13 2 8 14 9 9 12 7 20 1 3 15 10 3 14 10 15 14 6 7 3 10 0 8 9 8 9 8 2 11 3 9 2 7 6 12 9 8 11 3 9 14 3 8 12 9 8 8 9 7 8 7 5 7 3 15 10 0 0 13 3 0 3 9 8 2 1 13 2 0 6 2 1 0 9 4 2 12 11 2 2 14 5 2 5 9 14 8 11 9 1 1 0 5 17 12 5 12 8 1 3 3 2 15 5 8 7 2 2 15 9 4 0 0 0 12 2 14 12 15 0 13 0 11 11 0 12 3 8 3 5 8 5 7 0 3 0 0 1 10 0 4 1 16 11 1 12 11 0 1 4 16 2 14 4 5 0 8 1 2 15 5 2 12 2 3 4 2 8 2 6 6 0 2 16 8 3 0 2 0 1 6 2 2 5 2 1 9 4 5 2 4 0 0 1 1 1 11 3 9 0 0 1 12 2 3 2 0 2 0 2 1 2 3 0 7 13 0 2 1 11 1 0 11 0 7 6 4 12 12 8 6 6 2 3 14 15 2 0 10 3 0 0 7 7 0 2 3 0 9 1 0 16 8 10 1 5 4 8 3 0 9 8 5 11 2 16 15 0 2 7 6 14 0 11 0 0 15 3 5 13 0 7 2 8 11 7 4 0 0 6 16 1 8 5 12 6 3 3 3 1 4 5 13 8 15 3 1 4 1 7 5 9 10 2 4 0 9 4 2 14 8 9 0 0 11 1 1 0 10 1 5 4 18 1 0 3 2 8 2 3 2 2 13 3 1 0 0 2 2 0 15 0 0 0 15 0 2 0 0 4 0 12 12 3 9 2 12 3 1 0 5 0 3 1 11 1 7 14 3 2 9 2 2 0 0 0 1 1 3 1 0 2 13 0 9 6 6 21 2 10 3 3 8 1 0 2 13 2 6 4 1 2 8 0 3 0 1 0 17 3 0 13 9 2 0 17 2 0 3 12 0 0 3 4 2 2 0 5 7 2 12 4 10 0 0 0 1 3 0 0 0 0 7 3 13 12 0 5 3 3 3 13 5 5 2 12 5 3 0 0 8 8 13 2 2 0 5 9 2 2 12 8 0 1 1 13 0 5 13 3 6 5 0 0 2 0 0 0 0 0 1 3 0 0 6 13 15 0 5 6 3 0 1 4 5 0 6 3 0 19 0 10 0 0 2 2 1 3 0 1 7 2 0 1 10 1 0 3 1 2 3 3 1 6 15 4 11 1 11 2 1 0 0 0 0 0 2 1 4 2 1 0 1 3 1 0 2 0 0 4 1 1 3 9 0 0 3 0 0 0 4 0 2 12 3 2 2 3 4 0 0 3 1 1 1 0 2 7 1 6 4 8 5 8 5 1 3 1 3 0 6 4 1 3 2 4 3 0 9 9 1 0 15 1 0 0 1 0 0 0 4 1 0 0 1 0 0 7 1 1 10 4 6 1 0 1 1 2 3 1 0 0 2 6 5 11 3 0 2 3 14 0 1 5 2 5 1 1 4 3 2 1 0 1 5 6 3 0 0 9 2 1 15 1 2 4 4 5 1 0 2 10 3 14 8 1 0 1 3 1 1 4 1 1 0 0 1 1 4 3 1 2 11 0 1 1 14 2 2 3 0 2 1 0 1 1 1 2 14 0 14 11 0 1 1 10 2 1 2 17 1 11 9 0 0 2 5 12 3 9 13 5 0 1 2 2 10 2 4 10 3 5 2 4 5 1 0 4 1 1 0 0 6 2 5 3 0 8 1 5 1 1 0 5 1 0 5 9 0 3 0 7 3 0 1 4 3 2 1 0 3 3 0 2 1 1 4 2 1 3 7 4 17 3 0 3 3 0 0 2 0 1 2 0 3 15 12 5 1 1 0 0 3 2 2 0 3 10 1 1 0 1 0 0 3 0 9 0 0 6 0 3 13 3 6 0 1 8 4 0 15 0 3 1 2 7 11 5 0 10 3 2 13 8 12 1 0 1 0 2 2 1 3 9 3 4 7 1 3 1 0 0 2 10 17 2 1 0 1 5 5 2 1 11 1 0 1 2 0 2 4 2 0 1 12 0 9 8 4 1 0 0 1 6 2 2 5 3 8 1 1 5 0 0 9 2 9 1 7 11 3 1 1 4 0 2 1 4 3 2 5 3 6 0 15 2 7 1 12 0 0 5 0 6 0 3 4 1 1 11 0 8 6 0 1 1 0 1 0 2 0 4 8 13 1 3 7 16 2 3 4 1 1 4 1 0 2 1 1 17 0 1 3 3 10 1 3 6 9 2 2 3 1 1 3 9 0 4 0 3 3 1 8 3 6 8 4 6 1 1 2 1 1 1 4 2 1 0 9 0 6 2 1 2 9 0 7 3 8 1 0 2 14 2 0 6 1 2 2 6 6 0 0 10 2 3 3 1 5 9 4 3 3 1 0 1 0 1 0 15 2 2 13 10 4 1 10 7 0 3 1 0 6 1 2 4 2 0 3 4 6 0 2 2 9 3 0 4 13 1 9 0 5 3 4 1 4 4 12 1 0 1 3 4 4 1 9 2 2 2 2 1 0 5 1 1 0 0 0 16 1 2 2 3 2 1 2 1 1 1 2 5 0 7 4 9 4 3 2 4 1 1 3 0 12 1 7 3 9 4 4 6 0 4 2 3 1 9 2 1 3 16 2 7 7 1 6 1 6 5 8 2 0 2 5 15 1 0 8 3 2 7 1 13 1 3 2 2 1 2 5 1 3 4 1 3 6 16 12 0 2 1 1 0 5 3 7 3 1 0 9 2 5 3 2 8 2 7 4 1 1 10 11 4 4 14 3 1 2 3 2 1 1 3 4 2 10 5 4 1 2 1 3 3 7 5 6 0 3 8 1 1 5 0 5 3 2 2 3 4 3 4 7 2 5 1 0 6 0 0 2 2 1 4 4 2 2 16 1 2 3 4 5 13 2 6 5 2 10 1 2 11 7 5 6 3 2 0 2 1 6 5 3 3 1 2 0 1 3 4 2 6 9 4 1 11 3 12 0 2 0 2 5 4 13 2 8 9 0 1 13 11 4 2 4 6 2 0 1 13 10 3 6 8 21 6 6 2 16 14 2 3 6 2 0 2 10 13 2 1 2 9 3 3 11 0 2 3 2 0 4 2 2 2 2 3 3 5 3 3 1 11 1 2 3 2 4 1 4 2 8 5 12 5 3 2 3 2 10 0 1 9 11 14 3 1 2 4 8 1 6 4 1 2 2 4 0 11 6 6 1 8 7 5 0 5 13 8 0 3 4 2 5 13 4 3 4 4 4 0 5 0 1 1 2 5 3 12 16 2 5 1 4 4 1 8 8 1 5 3 0 3 12 6 10 1 2 6 0 3 11 2 4 6 3 4 1 6 4 0 2 11 5 4 2 3 1 3 1 2 15 14 7 1 4 5 2 1 11 10 6 2 3 1 2 6 4 8 5 12 4 1 4 8 2 3 2 13 7 3 4 5 5 2 7 9 3 6 1 3 3 5 2 9 1 4 4 5 3 2 1 6 5 3 1 4 1 6 3 2 9 0 5 4 1 3 4 4 1 3 0 3 5 8 8 6 2 13 1 17 9 0 14 2 2 2 5 3 2 10 8 9 5 9 5 4 12 4 7 3 14 13 12 8 7 10 0 2 16 6 8 1 0 3 6 3 6 7 5 12 4 2 7 2 2 4 2 14 1 3 1 14 11 9 2 5 2 1 9 7 6 0 1 5 2 2 5 1 8 13 11 1 3 6 1 4 4 5 12 5 3 7 2 2 8 1 2 1 12 0 7 0 0 3 4 0 7 5 0 3 6 4 12 2 12 1 2 1 2 3 11 13 7 6 6 3 1 12 2 9 1 4 16 2 5 2 4 1 5 14 13 4 7 1 3 1 0 2 3 2 1 5 3 2 2 8 8 3 4 12 3 15 10 7 1 4 12 9 2 7 9 6 3 5 6 2 5 4 5 8 11 5 2 3 11 2 1 4 4 4 2 1 7 5 12 9 2 0 2 6 6 10 9 5 5 2 6 10 1 2 9 3 2 8 0 2 4 9 3 6 3 9 0 5 3 1 0 3 3 3 13 3 3 12 9 4 10 1 2 0 2 3 2 0 0 1 3 3 3 5 13 2 6 6 17 2 1 3 12 6 1 14 2 2 6 5 5 8 3 1 1 6 2 8 4 0 3 6 8 6 2 0 9 12 4 4 5 4 1 4 10 5 1 3 7 5 4 10 4 10 3 8 2 5 3 2 4 4 0 5 7 5 3 5 4 6 6 2 2 7 1 14 14 0 2 4 2 1 4 6 2 3 5 5 3 3 13 0 14 1 0 0 6 1 4 3 3 2 2 5 2 5 15 4 2 4 5 7 8 3 5 8 5 2 0 2 2 6 11 4 1 7 3 3 0 2 13 2 2 18 9 6 4 3 6 7 4 4 3 2 9 1 3 3 8 2 7 2 3 5 1 1 2 6 13 1 4 13 7 4 1 0 6 2 5 0 7 6 3 2 6 5 8 0 7 3 12 2 10 12 1 5 8 3 4 5 8 9 5 3 4 5 14 1 4 2 3 11 8 14 12 9 5 7 11 8 18 13 10 0 5 8 5 6 3 8 16 3 9 7 12 11 13 0 11 3 3 3 2 3 4 2 5 2 2 0 2 10 18 6 1 3 3 6 7 1 5 2 11 8 0 4 4 4 8 3 13 14 8 5 9 7 6 1 10 13 3 3 5 2 10 0 0 12 10 4 6 14 0 2 6 9 2 8 6 7 17 2 16 4 2 11 10 3 5 2 14 5 3 10 1 6 8 9 8 2 17 10 7 7 4 17 3 1 3 10 7 12 8 1 7 13 13 8 9 2 9 12 5 6 16 5 10 2 3 4 4 6 3 1 5 5 6 11 0 2 5 6 3 7 9 5 2 10 3 4 3 4 4 3 1 3 15 2 5 1 3 2 4 2 3 9 1 0 4 5 4 6 2 3 3 9 10 16 6 0 2 7 4 11 0 2 5 2 3 6 4 8 8 8 4 12 4 7 2 0 5 15 4 6 7 1 0 0 7 3 3 16 5 9 11 5 4 2 1 4 11 13 3 1 5 4 1 2 3 3 4 5 8 5 7 17 0 17 6 7 0 0 10 2 4 3 2 3 1 4 4 3 13 1 14 13 2 2 4 1 4 3 9 4 4 2 3 7 4 0 2 3 10 3 6 4 3 0 8 15 0 5 2 11 15 4 1 10 3 3 2 15 5 4 2 2 2 4 8 0 1 4 3 12 5 1 13 10 9 6 2 12 4 7 3 5 1 12 2 5 7 0 7 5 2 6 3 4 6 2 3 2 6 4 3 7 3 12 2 11 0 7 2 8 4 13 6 3 6 2 5 14 3 4 4 3 6 5 13 9 2 11 6 6 5 8 8 11 6 5 4 1 4 4 3 3 1 8 4 2 7 8 17 11 9 9 5 17 15 3 6 2 2 1 9 3 3 3 4 4 7 2 4 14 3 3 7 8 5 4 8 4 5 4 2 5 2 3 3 2 13 1 0 3 2 4 11 10 15 1 4 10 4 8 1 1 11 4 12 2 13 0 7 3 11 7 5 3 15 5 3 14 2 12 3 7 3 11 11 4 1 2 5 9 2 8 5 0 8 12 1 4 4 16 6 9 5 4 2 2 4 2 5 5 5 6 4 4 9 9 6 4 5 7 6 16 16 0 6 11 16 5 3 4 6 10 4 1 1 0 7 2 16 7 3 5 5 7 6 6 4 4 1 4 1 4 6 4 2 9 1 12 1 4 7 7 0 6 3 14 7 5 7 9 12 2 9 8 1 6 6 7 5 4 7 3 2 3 7 2 13 7 8 0 6 4 0 2 3 14 3 5 0 9 4 5 6 11 16 5 15 5 1 5 2 7 5 9 11 2 16 3 4 8 4 3 4 3 10 4 3 9 9 9 10 5 11 2 6 6 4 3 10 6 3 2 11 8 9 2 13 1 2 8 19 8 11 8 13 3 2 4 4 7 11 5 3 9 9 9 8 11 2 7 4 1 5 7 3 6 6 6 11 14 2 11 8 10 4 13 13 7 2 3 8 9 5 9 5 2 13 9 8 3 3 4 6 2 6 5 3 9 11 6 15 5 4 5 2 0 13 2 3 11 8 2 5 7 4 7 6 2 1 12 2 6 15 11 0 10 2 4 9 7 16 9 4 5 11 5 6 15 5 1 2 4 8 5 10 11 4 12 10 13 3 1 5 12 11 2 2 6 8 11 3 12 4 6 9 10 10 11 13 11 8 9 8 11 6 4 14 7 7 3 4 4 3 3 12 10 3 10 8 2 12 0 14 10 12 9 5 13 11 3 12 4 10 3 3 2 8 0 7 13 2 12 14 6 13 12 10 9 8 5 2 2 13 5 9 5 11 2 11 14 2 5 8 4 14 2 7 6 9 0 7 4 2 3 12 14 11 5 12 6 10 0 9 4 11 2 4 4 10 6 5 3 9 1 12 4 10 6 0 5 8 11 2 3 7 16 9 12 8 0 5 1 8 15 4 2 12 7 9 0 16 6 6 7 6 1 0 12 5 14 15 6 7 10 8 9 1 4 9 7 12 7 18 5 5 14 8 9 4 3 2 4 11 8 11 5 13 8 4 9 6 7 7 2 4 10 9 10 8 4 5 11 0 12 0 6 6 5 1 6 2 6 2 2 8 7 9 2 12 8 10 5 2 10 15 8 1 7 4 8 4 14 6 4 7 7 8 4 7 5 15 6 2 5 5 9 17 8 2 5 0 15 2 2 4 6 6 7 3 2 2 9 9 12 16 12 17 15 3 2 13 9 11 11 9 9 6 4 4 9 5 8 4 8 9 12 15 2 2 5 6 2 18 2 6 1 3 9 5 4 5 15 18 8 2 5 8 5 5 11 4 8 5 8 9 8 9 2 12 6 9 7 1 4 11 4 12 16 11 0 7 5 13 5 7 10 11 14 6 3 14 11 18 9 8 9 7 2 10 3 2 2 9 6 5 2 7 13 8 10 6 6 4 11 10 8 4 5 13 8 9 9 7 10 6 1 8 4 4 1 6 7 9 9 5 16 5 10 5 2 4 6 2 2 8 8 9 9 10 2 8 5 6 0 11 0 4 4 2 8 9 8 0 14 4 2 5 16 14 15 8 16 2 8 3 6 4 1 7 9 12 6 9 6 11 12 1 13 9 6 2 9 1 15 5 10 0 8 8 4 16 14 18 2 4 7 8 5 7 15 6 11 7 5 2 6 8 7 11 7 2 11 7 1 6 13 16 4 2 7 6 5 2 7 14 8 3 8 2 9 10 7 7 6 4 4 10 4 3 3 6 8 8 2 6 6 9 10 12 9 6 2 1 9 3 8 12 2 2 11 7 2 3 7 3 10 7 14 5 11 7 7 7 2 2 6 5 11 2 5 10 12 0 14 4 3 7 10 2 5 5 8 6 7 10 14 8 12 2 5 0 3 7 3 9 12 4 2 13 5 12 2 12 2 15 7 8 2 1 6 5 7 12 1 5 2 5 8 2 10 4 2 7 8 15 4 12 7 1 7 3 2 1 2 8 4 4 2 9 5 6 4 7 4 11 2 5 14 1 17 4 11 3 0 12 8 3 15 14 12 4 3 9 6 2 2 9 7 0 11 0 16 2 2 5 3 6 5 7 1 10 9 9 1 6 13 6 12 2 12 2 7 1 2 7 5 11 8 0 6 7 9 9 6 0 8 6 2 1 3 14 9 2 9 10 3 2 4 7 5 12 5 2 9 11 6 15 7 4 5 7 2 14 6 5 11 0 2 2 10 8 3 12 2 9 9 1 4 10 7 10 0 13 4 12 7 3 1 9 2 3 1 9 2 8 3 11 6 8 2 3 12 10 2 6 1 2 2 2 9 8 6 0 8 15 2 8 11 13 11 6 7 8 9 6 3 6 14 1 8 0 8 1 10 2 10 16 4 19 12 5 9 6 2 9 0 12 0 7 9 12 2 11 8 11 9 8 6 7 8 9 8 8 4 6 0 17 9 13 8 8 12 0 6 4 15 13 9 3 11 11 0 13 13 5 5 7 2 0 2 6 1 10 9 10 10 7 4 9 3 7 0 11 4 1 6 4 1 6 5 3 3 8 7 1 10 1 0 14 11 5 6 8 7 0 2 7 11 6 11 6 10 17 8 11 12 2 8 0 6 5 1 8 2 0 9 5 3 0 2 9 3 0 1 13 15 7 4 15 3 7 3 9 13 4 7 2 2 4 4 0 10 6 3 0 0 2 0 3 11 7 5 4 3 10 2 5 0 1 3 2 11 3 1 9 2 3 11 12 18 9 0 0 8 10 3 8 0 2 9 3 6 4 0 15 1 0 2 1 0 0 6 12 7 9 3 2 15 10 13 4 10 10 0 2 14 0 10 3 1 11 12 3 7 13 5 6 7 14 1 8 3 2 3 0 15 0 6 1 5 2 5 5 4 1 3 0 12 0 0 7 0 12 12 0 0 12 13 5 2 1 2 9 4 2 6 5 10 2 5 10 14 2 2 7 2 6 4 10 12 3 13 11 10 9 8 1 0 8 2 1 9 6 9 12 8 12 8 2 0 1 9 4 11 9 4 3 9 13 8 11 0 10 1 1 0 5 5 0 19 11 11 9 9 6 16 0 7 0 3 0 4 0 19 11 9 17 0 6 0 5 8 7 11 13 5 6 18 13 8 12 10 9 5 2 4 4 0 8 4 0 9 1 7 2 3 5 1 7 10 1 10 3 8 5 7 0 14 4 0 8 3 6 8 3 6 13 5 0 5 4 6 13 9 12 12 12 4 0 13 6 1 3 2 0 2 2 9 3 0 10 1 1 4 6 5 2 10 8 8 3 9 0 9 1 5 2 1 2 6 4 9 3 0 15 2 12 15 14 1 2 1 11 13 1 0 16 0 1 1 3 6 6 3 9 0 3 7 1 2 14 1 2 5 2 9 6 9 9 7 0 4 8 5 0 2 12 0 13 13 1 9 4 5 0 10 0 0 3 15 0 2 1 2 9 12 2 9 1 0 0 8 2 3 8 2 16 4 3 2 4 8 1 10 6 13 12 3 1 0 0 0 2 0 8 3 0 3 4 2 5 0 14 1 6 11 13 1 0 12 2 6 9 4 9 2 2 0 5 0 10 18 4 0 1 13 12 7 1 11 0 1 2 7 2 4 7 5 0 13 0 7 11 3 0 0 13 1 10 7 0 0 1 8 5 11 2 15 1 8 4 2 4 0 6 2 7 2 6 10 4 6 18 2 0 2'.split()]\n",
    "len(actual_losses)"
   ]
  },
  {
   "cell_type": "code",
   "execution_count": 13,
   "metadata": {
    "collapsed": false
   },
   "outputs": [
    {
     "data": {
      "image/png": "[encoded data removed]",
      "text/plain": [
       "<matplotlib.figure.Figure at 0x5148978>"
      ]
     },
     "metadata": {},
     "output_type": "display_data"
    }
   ],
   "source": [
    "categorical_histogram('Null Comparison: Number of Loss Events per Homeolog Subtree',\n",
    "    {'Actual': actual_losses,\n",
    "     'Simulation': all_loss_events.values(),\n",
    "    })"
   ]
  },
  {
   "cell_type": "code",
   "execution_count": 14,
   "metadata": {
    "collapsed": false
   },
   "outputs": [
    {
     "data": {
      "text/plain": [
       "RanksumsResult(statistic=38.33338865846712, pvalue=0.0)"
      ]
     },
     "execution_count": 14,
     "metadata": {},
     "output_type": "execute_result"
    }
   ],
   "source": [
    "from scipy.stats import wilcoxon, ranksums\n",
    "test = ranksums(actual_losses, list(all_loss_events.values()))\n",
    "test"
   ]
  },
  {
   "cell_type": "markdown",
   "metadata": {},
   "source": [
    "**Conclusion: Simulated and actual distribution are different beyond doubt.**\n",
    "\n",
    "Conclusion: This function is not sensitive to order\n",
    "\n",
    "# Converting Actual vs Simulation to % overlap\n",
    "To summarize our results, we find the % of the results that lie outside the expected range under the null model."
   ]
  },
  {
   "cell_type": "code",
   "execution_count": 46,
   "metadata": {
    "collapsed": false
   },
   "outputs": [
    {
     "data": {
      "text/plain": [
       "[(720, 271),\n",
       " (807, 1511),\n",
       " (1104, 2271),\n",
       " (828, 1825),\n",
       " (720, 1213),\n",
       " (653, 682),\n",
       " (589, 358),\n",
       " (502, 191),\n",
       " (504, 80),\n",
       " (445, 41),\n",
       " (343, 25),\n",
       " (287, 7),\n",
       " (282, 5),\n",
       " (220, 1),\n",
       " (160, 1),\n",
       " (134, 1),\n",
       " (85, 0),\n",
       " (56, 1),\n",
       " (26, 0),\n",
       " (12, 0),\n",
       " (4, 0),\n",
       " (3, 0),\n",
       " (1, 0)]"
      ]
     },
     "execution_count": 46,
     "metadata": {},
     "output_type": "execute_result"
    }
   ],
   "source": [
    "zero_padded_sim = i_hist(all_loss_events.values()) + [0] * 100\n",
    "side_by_side_repeatability = list(zip(i_hist(actual_losses), zero_padded_sim))\n",
    "side_by_side_repeatability"
   ]
  },
  {
   "cell_type": "code",
   "execution_count": 56,
   "metadata": {
    "collapsed": false
   },
   "outputs": [
    {
     "data": {
      "text/plain": [
       "'39.964643%'"
      ]
     },
     "execution_count": 56,
     "metadata": {},
     "output_type": "execute_result"
    }
   ],
   "source": [
    "above_expected = 0\n",
    "for actual, simulated in side_by_side_repeatability:\n",
    "    above_expected += max(0, actual - simulated)  # zero if the simulated value is larger\n",
    "total_events = sum(i_hist(actual_losses))\n",
    "pp(above_expected / total_events)"
   ]
  },
  {
   "cell_type": "markdown",
   "metadata": {},
   "source": [
    "## Result 39.9% of gene losses were convergent more than the null model prediction"
   ]
  },
  {
   "cell_type": "markdown",
   "metadata": {},
   "source": [
    "A couple more tests to ensure everything adds up to 100%:"
   ]
  },
  {
   "cell_type": "code",
   "execution_count": 48,
   "metadata": {
    "collapsed": false
   },
   "outputs": [
    {
     "data": {
      "text/plain": [
       "'100.011787%'"
      ]
     },
     "execution_count": 48,
     "metadata": {},
     "output_type": "execute_result"
    }
   ],
   "source": [
    "actual_that_is_accounted_for = 0\n",
    "for actual, simulated in side_by_side_repeatability:\n",
    "    actual_that_is_accounted_for += min(simulated, actual)  # zero if the simulated value is larger\n",
    "pp((above_expected + actual_that_is_accounted_for) /len(all_loss_events.values()))"
   ]
  },
  {
   "cell_type": "code",
   "execution_count": 49,
   "metadata": {
    "collapsed": false
   },
   "outputs": [
    {
     "data": {
      "text/plain": [
       "0.9998821449616971"
      ]
     },
     "execution_count": 49,
     "metadata": {},
     "output_type": "execute_result"
    }
   ],
   "source": [
    "len(all_loss_events.values()) / len(actual_losses)"
   ]
  },
  {
   "cell_type": "code",
   "execution_count": 50,
   "metadata": {
    "collapsed": false
   },
   "outputs": [
    {
     "data": {
      "text/plain": [
       "-1"
      ]
     },
     "execution_count": 50,
     "metadata": {},
     "output_type": "execute_result"
    }
   ],
   "source": [
    "len(all_loss_events.values()) - len(actual_losses)  # actual losses is one longer than all_loss_events"
   ]
  },
  {
   "cell_type": "markdown",
   "metadata": {},
   "source": [
    "# Intersecting Sets of Polyphyletic losses within Homeolog subtree"
   ]
  },
  {
   "cell_type": "code",
   "execution_count": 57,
   "metadata": {
    "collapsed": true
   },
   "outputs": [],
   "source": [
    "from scipy.stats import hypergeom\n",
    "\n",
    "def simple_overlap_prob(A, B, all_possible, verbose=True):\n",
    "    intersect = len(set(A).intersection(set(B)))\n",
    "    if verbose:\n",
    "        print(pp(len(A)), \"overlapping with\", pp(len(B)), \"by\", pp(intersect),\"in a space of size\", pp(len(all_possible)))\n",
    "    return min(1, hypergeom.sf(intersect-1, len(all_possible), len(A), len(B)))  # pval assuming even distribution"
   ]
  },
  {
   "cell_type": "code",
   "execution_count": 58,
   "metadata": {
    "collapsed": false
   },
   "outputs": [
    {
     "name": "stdout",
     "output_type": "stream",
     "text": [
      "FRAX30 FRAX32 0: 1\n",
      "FRAX30 FRAX28 5: 0.3099411313974801\n",
      "FRAX30 FRAX12 9: 0.16039259370704823\n",
      "FRAX30 FRAX07 12: 0.2735574992861902\n",
      "FRAX30 FRAX29 12: 0.2810643919551674\n",
      "FRAX30 FRAX08 24: 0.013836958101706948\n",
      "FRAX30 FRAX01 0: 1\n",
      "FRAX30 FRAX16 2: 0.762785659923543\n",
      "FRAX30 FRAX15 12: 0.04304411121337567\n",
      "FRAX30 FRAX00 10: 0.5072467561487642\n",
      "FRAX30 FRAX06 10: 0.5525007524815173\n",
      "FRAX30 FRAX23 17: 0.0317495363546503\n",
      "FRAX30 FRAX25 29: 0.0005847156289388354\n",
      "FRAX30 FRAX21 33: 0.0036420323413271175\n",
      "FRAX30 FRAX19 6: 0.868440790577049\n",
      "FRAX30 FRAX20 10: 0.3783428276984353\n",
      "FRAX30 FRAX11 5: 0.6839351725881048\n",
      "FRAX30 FRAX27 2: 0.9751123013312379\n",
      "FRAX30 FRAX04 8: 0.8271712388603346\n",
      "FRAX30 FRAX03 0: 1\n",
      "FRAX30 FRAX09 1: 0.7092857795249152\n",
      "FRAX30 FRAX13 2: 0.6451194880755167\n",
      "FRAX30 FRAX26 7: 0.01687924336913168\n",
      "FRAX30 FRAX14 3: 0.42097889476990996\n",
      "FRAX30 FRAX05 3: 0.9908080300039532\n",
      "FRAX30 FRAX33 14: 0.19818773612905818\n",
      "FRAX30 FRAX31 49: 0.633719328162373\n",
      "FRAX30 Oeuropea 52: 0.31157632523999557\n",
      "FRAX32 FRAX28 6: 0.1352426346640931\n",
      "FRAX32 FRAX12 8: 0.22085382134320808\n",
      "FRAX32 FRAX07 19: 0.0019595115115737605\n",
      "FRAX32 FRAX29 15: 0.04373254641906665\n",
      "FRAX32 FRAX08 27: 0.0006921991628912707\n",
      "FRAX32 FRAX01 4: 0.12507079648244443\n",
      "FRAX32 FRAX16 2: 0.7330546011473841\n",
      "FRAX32 FRAX15 7: 0.4755503361585606\n",
      "FRAX32 FRAX00 18: 0.004147893923160364\n",
      "FRAX32 FRAX06 10: 0.4748367919249655\n",
      "FRAX32 FRAX23 18: 0.009123294345018247\n",
      "FRAX32 FRAX25 19: 0.13856569957639558\n",
      "FRAX32 FRAX21 29: 0.01634662706047592\n",
      "FRAX32 FRAX19 5: 0.914941875649464\n",
      "FRAX32 FRAX20 13: 0.06810846857071927\n",
      "FRAX32 FRAX11 8: 0.17192178184072127\n",
      "FRAX32 FRAX27 5: 0.5879320202859524\n",
      "FRAX32 FRAX04 14: 0.1115034084789118\n",
      "FRAX32 FRAX03 6: 0.0007309632450998748\n",
      "FRAX32 FRAX09 2: 0.3195792219811095\n",
      "FRAX32 FRAX13 4: 0.14982553948185792\n",
      "FRAX32 FRAX26 5: 0.10498889644897502\n",
      "FRAX32 FRAX14 6: 0.02378452494438606\n",
      "FRAX32 FRAX05 11: 0.15512766896179767\n",
      "FRAX32 FRAX33 18: 0.013189907499924686\n",
      "FRAX32 FRAX31 53: 0.18059622207337345\n",
      "FRAX32 Oeuropea 54: 0.08298974466706852\n",
      "FRAX28 FRAX12 19: 0.005847115451033811\n",
      "FRAX28 FRAX07 37: 1.3513131819594782e-06\n",
      "FRAX28 FRAX29 28: 0.0030753822797715594\n",
      "FRAX28 FRAX08 36: 0.013288209146610651\n",
      "FRAX28 FRAX01 7: 0.05017680160061754\n",
      "FRAX28 FRAX16 7: 0.16371017943618726\n",
      "FRAX28 FRAX15 15: 0.1637957438339953\n",
      "FRAX28 FRAX00 21: 0.11764523331131126\n",
      "FRAX28 FRAX06 25: 0.02399009916166984\n",
      "FRAX28 FRAX23 21: 0.19999271635158994\n",
      "FRAX28 FRAX25 34: 0.04821133387881734\n",
      "FRAX28 FRAX21 44: 0.04099600506352126\n",
      "FRAX28 FRAX19 25: 0.003835678316322992\n",
      "FRAX28 FRAX20 15: 0.47317409586505516\n",
      "FRAX28 FRAX11 18: 0.006249698208804872\n",
      "FRAX28 FRAX27 16: 0.017673059581209384\n",
      "FRAX28 FRAX04 20: 0.2653636665046242\n",
      "FRAX28 FRAX03 0: 1\n",
      "FRAX28 FRAX09 2: 0.6006818035767661\n",
      "FRAX28 FRAX13 4: 0.48431456653614785\n",
      "FRAX28 FRAX26 6: 0.27099121331720727\n",
      "FRAX28 FRAX14 2: 0.9042429210138048\n",
      "FRAX28 FRAX05 18: 0.13511748503423812\n",
      "FRAX28 FRAX33 25: 0.054736258359770154\n",
      "FRAX28 FRAX31 104: 0.002328688519058084\n",
      "FRAX28 Oeuropea 87: 0.18987428209940926\n",
      "FRAX12 FRAX07 45: 0.00035423319138689783\n",
      "FRAX12 FRAX29 47: 0.00010907059712468735\n",
      "FRAX12 FRAX08 62: 0.0005560776836848336\n",
      "FRAX12 FRAX01 9: 0.10388625286914122\n",
      "FRAX12 FRAX16 11: 0.1277037255837703\n",
      "FRAX12 FRAX15 26: 0.058625006088768535\n",
      "FRAX12 FRAX00 36: 0.03573280374548862\n",
      "FRAX12 FRAX06 36: 0.05460395771936396\n",
      "FRAX12 FRAX23 38: 0.042677171885160625\n",
      "FRAX12 FRAX25 62: 0.0011633072600057042\n",
      "FRAX12 FRAX21 81: 0.00036215272669449985\n",
      "FRAX12 FRAX19 35: 0.01122877418199613\n",
      "FRAX12 FRAX20 26: 0.3558660978674713\n",
      "FRAX12 FRAX11 17: 0.39681730700464146\n",
      "FRAX12 FRAX27 17: 0.32024236937727946\n",
      "FRAX12 FRAX04 41: 0.010634790307629975\n",
      "FRAX12 FRAX03 3: 0.617213174023438\n",
      "FRAX12 FRAX09 5: 0.23995649188943183\n",
      "FRAX12 FRAX13 4: 0.8528750485696682\n",
      "FRAX12 FRAX26 6: 0.7378886802194145\n",
      "FRAX12 FRAX14 8: 0.31630479631455494\n",
      "FRAX12 FRAX05 24: 0.40747695983752197\n",
      "FRAX12 FRAX33 28: 0.6609025974027755\n",
      "FRAX12 FRAX31 143: 0.30405537917271963\n",
      "FRAX12 Oeuropea 147: 0.07372386478364376\n",
      "FRAX07 FRAX29 51: 0.11076856730384299\n",
      "FRAX07 FRAX08 92: 0.000399824602510855\n",
      "FRAX07 FRAX01 8: 0.6706016042989857\n",
      "FRAX07 FRAX16 19: 0.02877773846064962\n",
      "FRAX07 FRAX15 51: 0.00011840405087502186\n",
      "FRAX07 FRAX00 55: 0.024686413543844987\n",
      "FRAX07 FRAX06 64: 0.0011200076062970396\n",
      "FRAX07 FRAX23 58: 0.032816600736694915\n",
      "FRAX07 FRAX25 88: 0.004905441155331552\n",
      "FRAX07 FRAX21 118: 0.0009037224473312789\n",
      "FRAX07 FRAX19 59: 0.0002839506670605216\n",
      "FRAX07 FRAX20 52: 0.012833713260344277\n",
      "FRAX07 FRAX11 36: 0.016213203417195156\n",
      "FRAX07 FRAX27 40: 0.0007428844852866315\n",
      "FRAX07 FRAX04 65: 0.001752457731242211\n",
      "FRAX07 FRAX03 9: 0.06254926235874936\n",
      "FRAX07 FRAX09 10: 0.038239539745752255\n",
      "FRAX07 FRAX13 11: 0.35277770545610093\n",
      "FRAX07 FRAX26 13: 0.37205167694600566\n",
      "FRAX07 FRAX14 20: 0.0030403328570939936\n",
      "FRAX07 FRAX05 56: 0.0005441755332269503\n",
      "FRAX07 FRAX33 67: 0.002125620953844464\n",
      "FRAX07 FRAX31 248: 0.008413300449285458\n",
      "FRAX07 Oeuropea 217: 0.3728822017435016\n",
      "FRAX29 FRAX08 104: 1.0022807831460687e-06\n",
      "FRAX29 FRAX01 22: 6.478475633023512e-05\n",
      "FRAX29 FRAX16 19: 0.030527866179893896\n",
      "FRAX29 FRAX15 52: 7.245596114693085e-05\n",
      "FRAX29 FRAX00 48: 0.20610141197554493\n",
      "FRAX29 FRAX06 62: 0.0033491152940619976\n",
      "FRAX29 FRAX23 72: 6.73552049117509e-05\n",
      "FRAX29 FRAX25 98: 8.854983547910777e-05\n",
      "FRAX29 FRAX21 131: 3.984559028816331e-06\n",
      "FRAX29 FRAX19 56: 0.001672071061701188\n",
      "FRAX29 FRAX20 48: 0.06160148649800029\n",
      "FRAX29 FRAX11 38: 0.006564382461849851\n",
      "FRAX29 FRAX27 38: 0.002857060706864088\n",
      "FRAX29 FRAX04 58: 0.03303857893366888\n",
      "FRAX29 FRAX03 9: 0.0646814477708914\n",
      "FRAX29 FRAX09 4: 0.7933042075540678\n",
      "FRAX29 FRAX13 14: 0.09654600457037635\n",
      "FRAX29 FRAX26 22: 0.002765461842226146\n",
      "FRAX29 FRAX14 11: 0.4634865644042806\n",
      "FRAX29 FRAX05 58: 0.0002052570492151214\n",
      "FRAX29 FRAX33 58: 0.06712560753452267\n",
      "FRAX29 FRAX31 252: 0.004631171261490013\n",
      "FRAX29 Oeuropea 266: 4.15738363319698e-06\n",
      "FRAX08 FRAX01 20: 0.050763080584269184\n",
      "FRAX08 FRAX16 19: 0.47121997838826757\n",
      "FRAX08 FRAX15 65: 0.0026127339060408755\n",
      "FRAX08 FRAX00 92: 0.0002818946050891333\n",
      "FRAX08 FRAX06 90: 0.002057941849961658\n",
      "FRAX08 FRAX23 89: 0.009831879946107043\n",
      "FRAX08 FRAX25 143: 2.242769615437644e-05\n",
      "FRAX08 FRAX21 196: 5.986899722627291e-08\n",
      "FRAX08 FRAX19 90: 8.188003321567214e-06\n",
      "FRAX08 FRAX20 73: 0.027000537551055623\n",
      "FRAX08 FRAX11 43: 0.23492771143086164\n",
      "FRAX08 FRAX27 55: 0.0011707347592939165\n",
      "FRAX08 FRAX04 94: 0.0013180491775571057\n",
      "FRAX08 FRAX03 9: 0.3700641666605275\n",
      "FRAX08 FRAX09 10: 0.29987778931630704\n",
      "FRAX08 FRAX13 19: 0.14041759398643122\n",
      "FRAX08 FRAX26 24: 0.07790669713396686\n",
      "FRAX08 FRAX14 21: 0.1074580096274103\n",
      "FRAX08 FRAX05 77: 0.0015044790957804664\n",
      "FRAX08 FRAX33 93: 0.00715172956982087\n",
      "FRAX08 FRAX31 360: 0.06554441165134144\n",
      "FRAX08 Oeuropea 373: 0.000562414549379032\n",
      "FRAX01 FRAX16 0: 1\n",
      "FRAX01 FRAX15 11: 0.047792490989595066\n",
      "FRAX01 FRAX00 8: 0.6594743148412711\n",
      "FRAX01 FRAX06 15: 0.037182976289370534\n",
      "FRAX01 FRAX23 18: 0.0060930611070009015\n",
      "FRAX01 FRAX25 24: 0.005755511748907816\n",
      "FRAX01 FRAX21 19: 0.5142841642146102\n",
      "FRAX01 FRAX19 7: 0.6699667904851088\n",
      "FRAX01 FRAX20 8: 0.5419836609769455\n",
      "FRAX01 FRAX11 6: 0.41754191857167067\n",
      "FRAX01 FRAX27 6: 0.37237453174512175\n",
      "FRAX01 FRAX04 8: 0.7359296321348221\n",
      "FRAX01 FRAX03 4: 0.020442665020080585\n",
      "FRAX01 FRAX09 1: 0.6731202193657797\n",
      "FRAX01 FRAX13 5: 0.047639174680279645\n",
      "FRAX01 FRAX26 3: 0.432466545911088\n",
      "FRAX01 FRAX14 7: 0.0054913512851013525\n",
      "FRAX01 FRAX05 17: 0.0012004553406499024\n",
      "FRAX01 FRAX33 13: 0.1852696811778876\n",
      "FRAX01 FRAX31 41: 0.8347779271043939\n",
      "FRAX01 Oeuropea 58: 0.006760334036198569\n",
      "FRAX16 FRAX15 16: 0.009740626815107829\n",
      "FRAX16 FRAX00 19: 0.026296575235784152\n",
      "FRAX16 FRAX06 24: 0.0010490031570965256\n",
      "FRAX16 FRAX23 17: 0.136225412780129\n",
      "FRAX16 FRAX25 24: 0.1281108105905122\n",
      "FRAX16 FRAX21 35: 0.024784522118910104\n",
      "FRAX16 FRAX19 12: 0.35557066123270065\n",
      "FRAX16 FRAX20 20: 0.004680055733524268\n",
      "FRAX16 FRAX11 14: 0.009963022972951928\n",
      "FRAX16 FRAX27 5: 0.7992716398583188\n",
      "FRAX16 FRAX04 18: 0.0820256922381102\n",
      "FRAX16 FRAX03 2: 0.412178238576501\n",
      "FRAX16 FRAX09 2: 0.43952463745336906\n",
      "FRAX16 FRAX13 5: 0.12668942241511752\n",
      "FRAX16 FRAX26 5: 0.22154514324459684\n",
      "FRAX16 FRAX14 2: 0.7864180359475309\n",
      "FRAX16 FRAX05 12: 0.30540714253124795\n",
      "FRAX16 FRAX33 18: 0.11227475635107317\n",
      "FRAX16 FRAX31 58: 0.7359315920164884\n",
      "FRAX16 Oeuropea 70: 0.05112563576363884\n",
      "FRAX15 FRAX00 43: 0.008877977561114296\n",
      "FRAX15 FRAX06 46: 0.0037546905637773666\n",
      "FRAX15 FRAX23 31: 0.6160423723431114\n",
      "FRAX15 FRAX25 70: 0.0005100370348060686\n",
      "FRAX15 FRAX21 89: 0.0004278267390070566\n",
      "FRAX15 FRAX19 28: 0.4033751288083126\n",
      "FRAX15 FRAX20 33: 0.12695807320882915\n",
      "FRAX15 FRAX11 23: 0.11259886130834701\n",
      "FRAX15 FRAX27 24: 0.047329526029610915\n",
      "FRAX15 FRAX04 34: 0.3791159181132205\n",
      "FRAX15 FRAX03 3: 0.6963441421641299\n",
      "FRAX15 FRAX09 7: 0.07996191750692476\n",
      "FRAX15 FRAX13 7: 0.5077973744411018\n",
      "FRAX15 FRAX26 8: 0.5727803440090615\n",
      "FRAX15 FRAX14 7: 0.5924609663208396\n",
      "FRAX15 FRAX05 32: 0.10229182727601124\n",
      "FRAX15 FRAX33 49: 0.003977202570195556\n",
      "FRAX15 FRAX31 157: 0.43783767545859964\n",
      "FRAX15 Oeuropea 193: 6.250376347354564e-06\n",
      "FRAX00 FRAX06 54: 0.051529500926399435\n",
      "FRAX00 FRAX23 70: 0.00012261554979077895\n",
      "FRAX00 FRAX25 105: 9.820035087888948e-07\n",
      "FRAX00 FRAX21 117: 0.0008966417214203048\n",
      "FRAX00 FRAX19 43: 0.17335580567875986\n",
      "FRAX00 FRAX20 65: 8.268380435588833e-06\n",
      "FRAX00 FRAX11 35: 0.022563093093617686\n",
      "FRAX00 FRAX27 18: 0.9101518161295017\n",
      "FRAX00 FRAX04 50: 0.2298053175814711\n",
      "FRAX00 FRAX03 8: 0.12347042990038064\n",
      "FRAX00 FRAX09 7: 0.2732883117117374\n",
      "FRAX00 FRAX13 15: 0.04846110665605879\n",
      "FRAX00 FRAX26 17: 0.06500483181318169\n",
      "FRAX00 FRAX14 17: 0.025291718097982627\n",
      "FRAX00 FRAX05 50: 0.008768662020097934\n",
      "FRAX00 FRAX33 65: 0.004008668365709815\n",
      "FRAX00 FRAX31 227: 0.22402869116388227\n",
      "FRAX00 Oeuropea 252: 0.00017028033400729348\n",
      "FRAX06 FRAX23 50: 0.3313210204512423\n",
      "FRAX06 FRAX25 96: 0.0004340468649752035\n",
      "FRAX06 FRAX21 117: 0.0031729593864227197\n",
      "FRAX06 FRAX19 59: 0.000538249674152767\n",
      "FRAX06 FRAX20 52: 0.019798193975980354\n",
      "FRAX06 FRAX11 29: 0.26587258327606705\n",
      "FRAX06 FRAX27 35: 0.018377671846830736\n",
      "FRAX06 FRAX04 54: 0.13611823216783484\n",
      "FRAX06 FRAX03 6: 0.41378904172089714\n",
      "FRAX06 FRAX09 4: 0.8049494608390291\n",
      "FRAX06 FRAX13 11: 0.383488631758357\n",
      "FRAX06 FRAX26 14: 0.2972521395710865\n",
      "FRAX06 FRAX14 15: 0.10475439274006589\n",
      "FRAX06 FRAX05 52: 0.006937340296150163\n",
      "FRAX06 FRAX33 75: 7.804734769332279e-05\n",
      "FRAX06 FRAX31 237: 0.1717852164238554\n",
      "FRAX06 Oeuropea 234: 0.09055043385887881\n",
      "FRAX23 FRAX25 100: 0.00035374063576439324\n",
      "FRAX23 FRAX21 124: 0.0013551219802315538\n",
      "FRAX23 FRAX19 59: 0.001544586462786917\n",
      "FRAX23 FRAX20 61: 0.0008540031642773832\n",
      "FRAX23 FRAX11 37: 0.02607633847666294\n",
      "FRAX23 FRAX27 29: 0.253868746917373\n",
      "FRAX23 FRAX04 68: 0.00243314857157644\n",
      "FRAX23 FRAX03 5: 0.6347496911743499\n",
      "FRAX23 FRAX09 2: 0.9811454029757191\n",
      "FRAX23 FRAX13 11: 0.439317287996\n",
      "FRAX23 FRAX26 20: 0.02189537433442536\n",
      "FRAX23 FRAX14 13: 0.30654114988642467\n",
      "FRAX23 FRAX05 47: 0.08769334411333889\n",
      "FRAX23 FRAX33 81: 1.1255695738081338e-05\n",
      "FRAX23 FRAX31 275: 0.0004931368434395502\n",
      "FRAX23 Oeuropea 279: 8.519241048211877e-06\n",
      "FRAX25 FRAX21 196: 5.513985454202162e-07\n",
      "FRAX25 FRAX19 74: 0.02507880942926776\n",
      "FRAX25 FRAX20 81: 0.0031265628805579476\n",
      "FRAX25 FRAX11 54: 0.010090500519351068\n",
      "FRAX25 FRAX27 56: 0.0013514889514021611\n",
      "FRAX25 FRAX04 88: 0.02319274234570809\n",
      "FRAX25 FRAX03 8: 0.5523324642305444\n",
      "FRAX25 FRAX09 16: 0.008098018246118485\n",
      "FRAX25 FRAX13 19: 0.16966214268342228\n",
      "FRAX25 FRAX26 28: 0.014122689391937353\n",
      "FRAX25 FRAX14 19: 0.27144147470000274\n",
      "FRAX25 FRAX05 69: 0.05139623455956638\n",
      "FRAX25 FRAX33 99: 0.00196717670570824\n",
      "FRAX25 FRAX31 376: 0.027105017351374223\n",
      "FRAX25 Oeuropea 407: 3.8289524101806156e-07\n",
      "FRAX21 FRAX19 93: 0.051549155879382864\n",
      "FRAX21 FRAX20 98: 0.020000194233965478\n",
      "FRAX21 FRAX11 58: 0.2351583821847849\n",
      "FRAX21 FRAX27 70: 0.0019353787779617445\n",
      "FRAX21 FRAX04 110: 0.062292863064867324\n",
      "FRAX21 FRAX03 16: 0.05835734080656669\n",
      "FRAX21 FRAX09 7: 0.9465189335058081\n",
      "FRAX21 FRAX13 24: 0.20142099167482108\n",
      "FRAX21 FRAX26 42: 0.0002129548029268076\n",
      "FRAX21 FRAX14 20: 0.6949032036066101\n",
      "FRAX21 FRAX05 104: 0.00037802331273683074\n",
      "FRAX21 FRAX33 133: 0.00022742942478969799\n",
      "FRAX21 FRAX31 492: 0.050354593026303546\n",
      "FRAX21 Oeuropea 515: 2.4312702772192295e-05\n",
      "FRAX19 FRAX20 3: 1\n",
      "FRAX19 FRAX11 23: 0.4388318581161242\n",
      "FRAX19 FRAX27 38: 0.00022249033051784095\n",
      "FRAX19 FRAX04 50: 0.054751054068776325\n",
      "FRAX19 FRAX03 3: 0.8282699942969454\n",
      "FRAX19 FRAX09 6: 0.3252617622994851\n",
      "FRAX19 FRAX13 13: 0.07417419808300274\n",
      "FRAX19 FRAX26 10: 0.5683356374398805\n",
      "FRAX19 FRAX14 11: 0.2940404683824629\n",
      "FRAX19 FRAX05 44: 0.015576173649185435\n",
      "FRAX19 FRAX33 57: 0.008790530403616555\n",
      "FRAX19 FRAX31 210: 0.06744041542072299\n",
      "FRAX19 Oeuropea 195: 0.24167105168908978\n",
      "FRAX20 FRAX11 30: 0.05889367929262922\n",
      "FRAX20 FRAX27 30: 0.03414929170877938\n",
      "FRAX20 FRAX04 33: 0.9168772849306269\n",
      "FRAX20 FRAX03 9: 0.03451866799510488\n",
      "FRAX20 FRAX09 6: 0.33958458464097074\n",
      "FRAX20 FRAX13 10: 0.3438599583461733\n",
      "FRAX20 FRAX26 13: 0.23402231462312223\n",
      "FRAX20 FRAX14 9: 0.576103858705477\n",
      "FRAX20 FRAX05 53: 0.0001907419498362855\n",
      "FRAX20 FRAX33 53: 0.05114617557043047\n",
      "FRAX20 FRAX31 219: 0.02244529325441669\n",
      "FRAX20 Oeuropea 214: 0.015617150202333448\n",
      "FRAX11 FRAX27 0: 1\n",
      "FRAX11 FRAX04 39: 0.009374707851987591\n",
      "FRAX11 FRAX03 5: 0.1711984489640413\n",
      "FRAX11 FRAX09 4: 0.37835821504166545\n",
      "FRAX11 FRAX13 11: 0.02325675758151933\n",
      "FRAX11 FRAX26 8: 0.3648055447413163\n",
      "FRAX11 FRAX14 7: 0.3962633074701569\n",
      "FRAX11 FRAX05 38: 0.0002691806568512564\n",
      "FRAX11 FRAX33 35: 0.08959704268786275\n",
      "FRAX11 FRAX31 137: 0.18873650728711966\n",
      "FRAX11 Oeuropea 135: 0.12697976964341473\n",
      "FRAX27 FRAX04 41: 0.0013019572601360018\n",
      "FRAX27 FRAX03 2: 0.7769289242492824\n",
      "FRAX27 FRAX09 6: 0.07514901471746147\n",
      "FRAX27 FRAX13 8: 0.15983331695625105\n",
      "FRAX27 FRAX26 10: 0.11077172579999608\n",
      "FRAX27 FRAX14 7: 0.348337780939316\n",
      "FRAX27 FRAX05 33: 0.003121890605526652\n",
      "FRAX27 FRAX33 40: 0.0051139575644266015\n",
      "FRAX27 FRAX31 127: 0.31978061219253157\n",
      "FRAX27 Oeuropea 136: 0.024222697144986538\n",
      "FRAX04 FRAX03 9: 0.08469690705368617\n",
      "FRAX04 FRAX09 6: 0.5027052659972356\n",
      "FRAX04 FRAX13 13: 0.209945708112538\n",
      "FRAX04 FRAX26 26: 0.00020030188724723177\n",
      "FRAX04 FRAX14 16: 0.07928556449134902\n",
      "FRAX04 FRAX05 64: 2.4769690182839302e-05\n",
      "FRAX04 FRAX33 67: 0.008971263922615491\n",
      "FRAX04 FRAX31 243: 0.23366986864592393\n",
      "FRAX04 Oeuropea 232: 0.32663405000585743\n",
      "FRAX03 FRAX09 0: 1\n",
      "FRAX03 FRAX13 3: 0.10171822486731322\n",
      "FRAX03 FRAX26 2: 0.39744868808351175\n",
      "FRAX03 FRAX14 1: 0.7074359479799704\n",
      "FRAX03 FRAX05 5: 0.4217625263527198\n",
      "FRAX03 FRAX33 5: 0.6686303850633781\n",
      "FRAX03 FRAX31 32: 0.08640192565128207\n",
      "FRAX03 Oeuropea 31: 0.09065967486401376\n",
      "FRAX09 FRAX13 1: 0.6986001738742059\n",
      "FRAX09 FRAX26 1: 0.768092148857967\n",
      "FRAX09 FRAX14 3: 0.13654971743865763\n",
      "FRAX09 FRAX05 9: 0.034274518628256055\n",
      "FRAX09 FRAX33 9: 0.13433094008692398\n",
      "FRAX09 FRAX31 31: 0.22792340630166624\n",
      "FRAX09 Oeuropea 28: 0.40191467887979915\n",
      "FRAX13 FRAX26 7: 0.014564606725932924\n",
      "FRAX13 FRAX14 8: 0.002042207493514381\n",
      "FRAX13 FRAX05 14: 0.029295677143134653\n",
      "FRAX13 FRAX33 18: 0.017633679016469228\n",
      "FRAX13 FRAX31 49: 0.5324824031951736\n",
      "FRAX13 Oeuropea 46: 0.6312575818250936\n",
      "FRAX26 FRAX14 0: 1\n",
      "FRAX26 FRAX05 12: 0.2705122378094899\n",
      "FRAX26 FRAX33 26: 0.00040144382790760513\n",
      "FRAX26 FRAX31 67: 0.12886412645616724\n",
      "FRAX26 Oeuropea 64: 0.16595432092432977\n",
      "FRAX14 FRAX05 16: 0.01286953554054365\n",
      "FRAX14 FRAX33 19: 0.01915248096077623\n",
      "FRAX14 FRAX31 48: 0.8311796423409235\n",
      "FRAX14 Oeuropea 47: 0.7977602039723795\n",
      "FRAX05 FRAX33 39: 0.5966866406398461\n",
      "FRAX05 FRAX31 203: 0.05623864042058611\n",
      "FRAX05 Oeuropea 191: 0.14919720921149818\n",
      "FRAX33 FRAX31 256: 0.18095483966746548\n",
      "FRAX33 Oeuropea 250: 0.1379767529085138\n",
      "FRAX31 Oeuropea 1071: 0.893361941525144\n"
     ]
    }
   ],
   "source": [
    "species_names = [node['name'] for node in ordered_nodes if not node['name'].startswith('<')]  # \n",
    "probs = dict()\n",
    "from statistics import mean, median\n",
    "# All pair wise combintations once\n",
    "for x in range(len(species_names)):\n",
    "    for y in range(x+1, len(species_names)):\n",
    "        intersect = genes_lost[species_names[x]].intersection(genes_lost[species_names[y]])\n",
    "        print(species_names[x], species_names[y], len(intersect), end=': ')\n",
    "        prob = simple_overlap_prob(genes_lost[species_names[x]], genes_lost[species_names[y]], all_homeologs, verbose=False)\n",
    "        probs[(species_names[x], species_names[y])] = prob\n",
    "        print(prob) #TODO probability"
   ]
  },
  {
   "cell_type": "code",
   "execution_count": 63,
   "metadata": {
    "collapsed": false
   },
   "outputs": [
    {
     "name": "stdout",
     "output_type": "stream",
     "text": [
      "5.172414% of 406 species pairs have significant overlap.\n"
     ]
    }
   ],
   "source": [
    "print(pp(len([c for c in probs.values() if c < .0001]) / len(probs)), \"of\", len(probs), \"species pairs have significant overlap.\")"
   ]
  },
  {
   "cell_type": "code",
   "execution_count": 65,
   "metadata": {
    "collapsed": false
   },
   "outputs": [
    {
     "name": "stdout",
     "output_type": "stream",
     "text": [
      "21 pairs were significant and we can safely discard up to 30 pairs as being sister species.\n"
     ]
    }
   ],
   "source": [
    "print(round(406 * .05172414), \"pairs were significant and we can safely discard up to 30 pairs as being sister species.\")"
   ]
  },
  {
   "cell_type": "markdown",
   "metadata": {},
   "source": [
    "**Conclusion: Simulated data shows no significant overlap.**"
   ]
  },
  {
   "cell_type": "code",
   "execution_count": 61,
   "metadata": {
    "collapsed": false
   },
   "outputs": [
    {
     "name": "stdout",
     "output_type": "stream",
     "text": [
      "0.246305% of 406 species pairs have significant overlap.\n"
     ]
    }
   ],
   "source": [
    "print(pp(len([c for c in probs.values() if c < .0000001]) / len(probs)), \"of\", len(probs), \"species pairs have significant overlap.\")"
   ]
  },
  {
   "cell_type": "code",
   "execution_count": null,
   "metadata": {
    "collapsed": true
   },
   "outputs": [],
   "source": []
  },
  {
   "cell_type": "code",
   "execution_count": null,
   "metadata": {
    "collapsed": true
   },
   "outputs": [],
   "source": []
  },
  {
   "cell_type": "code",
   "execution_count": null,
   "metadata": {
    "collapsed": true
   },
   "outputs": [],
   "source": []
  }
 ],
 "metadata": {
  "kernelspec": {
   "display_name": "Python 3",
   "language": "python",
   "name": "python3"
  },
  "language_info": {
   "codemirror_mode": {
    "name": "ipython",
    "version": 3
   },
   "file_extension": ".py",
   "mimetype": "text/x-python",
   "name": "python",
   "nbconvert_exporter": "python",
   "pygments_lexer": "ipython3",
   "version": "3.4.3"
  }
 },
 "nbformat": 4,
 "nbformat_minor": 1
}
