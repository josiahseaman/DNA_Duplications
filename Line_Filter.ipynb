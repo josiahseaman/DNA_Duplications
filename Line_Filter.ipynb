{
 "cells": [
  {
   "cell_type": "code",
   "execution_count": 1,
   "metadata": {
    "collapsed": false
   },
   "outputs": [
    {
     "data": {
      "text/plain": [
       "131199"
      ]
     },
     "execution_count": 1,
     "metadata": {},
     "output_type": "execute_result"
    }
   ],
   "source": [
    "\n",
    "with open(r\"D:\\josiah\\Documents\\Research\\Colleagues\\Maryam\\Hymenoscyphus fraxineus\\Hymenoscyphus_fraxineus_EIv2.annotation.23.gff3\") as infile:\n",
    "    lines = list(infile.readlines())\n",
    "len(lines)"
   ]
  },
  {
   "cell_type": "code",
   "execution_count": 9,
   "metadata": {
    "collapsed": false
   },
   "outputs": [
    {
     "data": {
      "text/plain": [
       "11095"
      ]
     },
     "execution_count": 9,
     "metadata": {},
     "output_type": "execute_result"
    }
   ],
   "source": [
    "genes = [g for g in lines if 'mRNA' in g]\n",
    "len(genes)"
   ]
  },
  {
   "cell_type": "code",
   "execution_count": 3,
   "metadata": {
    "collapsed": false
   },
   "outputs": [
    {
     "data": {
      "text/plain": [
       "77"
      ]
     },
     "execution_count": 3,
     "metadata": {},
     "output_type": "execute_result"
    }
   ],
   "source": [
    "with open(r\"D:\\josiah\\Documents\\Research\\Colleagues\\Maryam\\Hymenoscyphus fraxineus\\Genes_of_interest.txt\") as infile:\n",
    "    genes_of_interest = infile.read().split()\n",
    "len(genes_of_interest)"
   ]
  },
  {
   "cell_type": "code",
   "execution_count": 11,
   "metadata": {
    "collapsed": false
   },
   "outputs": [
    {
     "data": {
      "text/plain": [
       "77"
      ]
     },
     "execution_count": 11,
     "metadata": {},
     "output_type": "execute_result"
    }
   ],
   "source": [
    "annotations = []\n",
    "for g in genes:\n",
    "    name = g[g.rfind('Name=') + len('Name='):].strip()\n",
    "    if name in genes_of_interest:\n",
    "        annotations.append(g)\n",
    "len(annotations)"
   ]
  },
  {
   "cell_type": "code",
   "execution_count": 15,
   "metadata": {
    "collapsed": false
   },
   "outputs": [
    {
     "name": "stdout",
     "output_type": "stream",
     "text": [
      "Hymenoscyphus_fraxineus_EIv2_scaffold_0001\tEIv2.0\tgene\t2357419\t2359779\t.\t-\t.\tID=HYMFR746836.2.0_000050670.1;Parent=HYMFR746836.2.0_000050670;Name=HYMFR746836.2.0_000050670.1\n",
      "\n"
     ]
    }
   ],
   "source": [
    "annotations = [g.replace('mRNA', 'gene') for g in annotations]\n",
    "print(annotations[1])"
   ]
  },
  {
   "cell_type": "code",
   "execution_count": 14,
   "metadata": {
    "collapsed": false
   },
   "outputs": [],
   "source": [
    "with open(r\"D:\\josiah\\Documents\\Research\\Colleagues\\Maryam\\Hymenoscyphus fraxineus\\Hymenoscyphus_fraxineus_genes_of_interest.gff\", 'w') as outfile:\n",
    "    outfile.write(''.join(annotations))\n"
   ]
  },
  {
   "cell_type": "code",
   "execution_count": null,
   "metadata": {
    "collapsed": true
   },
   "outputs": [],
   "source": []
  }
 ],
 "metadata": {
  "kernelspec": {
   "display_name": "Python 3",
   "language": "python",
   "name": "python3"
  },
  "language_info": {
   "codemirror_mode": {
    "name": "ipython",
    "version": 3
   },
   "file_extension": ".py",
   "mimetype": "text/x-python",
   "name": "python",
   "nbconvert_exporter": "python",
   "pygments_lexer": "ipython3",
   "version": "3.4.3"
  }
 },
 "nbformat": 4,
 "nbformat_minor": 1
}
