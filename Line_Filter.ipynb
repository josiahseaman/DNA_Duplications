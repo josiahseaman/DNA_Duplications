{
 "cells": [
  {
   "cell_type": "code",
   "execution_count": 1,
   "metadata": {
    "collapsed": true
   },
   "outputs": [],
   "source": [
    "from DNASkittleUtils.Contigs import write_contigs_to_file, read_contigs, Contig\n",
    "from DNASkittleUtils.DDVUtils import pp"
   ]
  },
  {
   "cell_type": "markdown",
   "metadata": {},
   "source": [
    "# Jasmine"
   ]
  },
  {
   "cell_type": "code",
   "execution_count": 5,
   "metadata": {
    "collapsed": false
   },
   "outputs": [
    {
     "data": {
      "text/plain": [
       "49772"
      ]
     },
     "execution_count": 5,
     "metadata": {},
     "output_type": "execute_result"
    }
   ],
   "source": [
    "contigs = read_contigs(r\"Ash_Proteome\\Jasminum_sambac_exome.fna\")\n",
    "len(contigs)"
   ]
  },
  {
   "cell_type": "markdown",
   "metadata": {},
   "source": [
    "\"Assembly of reads resulted in 113,394 transc ripts and **49,772 unigenes** with mean sizes of 1425  and 846 bp, respectively (Table 2 and Supplementary Material 1)\""
   ]
  },
  {
   "cell_type": "markdown",
   "metadata": {},
   "source": [
    "divide exome up into 5 pieces"
   ]
  },
  {
   "cell_type": "markdown",
   "metadata": {
    "collapsed": false
   },
   "source": [
    "step_size = 49772 // 5 + 6\n",
    "for start in range(0, len(contigs), step_size):\n",
    "    write_contigs_to_file('Jasmine%i.fna' % start, contigs[start:start + step_size])"
   ]
  },
  {
   "cell_type": "markdown",
   "metadata": {},
   "source": [
    "### Translation BioPython"
   ]
  },
  {
   "cell_type": "code",
   "execution_count": 2,
   "metadata": {
    "collapsed": false
   },
   "outputs": [
    {
     "data": {
      "text/plain": [
       "'MAIVMGR*KGAR*'"
      ]
     },
     "execution_count": 2,
     "metadata": {},
     "output_type": "execute_result"
    }
   ],
   "source": [
    "from Bio.Seq import Seq\n",
    "from Bio.Alphabet import IUPAC\n",
    "coding_dna = Seq(\"ATGGCCATTGTAATGGGCCGCTGAAAGGGTGCCCGATAG\", IUPAC.unambiguous_dna)\n",
    "coding_dna\n",
    "# Seq('ATGGCCATTGTAATGGGCCGCTGAAAGGGTGCCCGATAG', IUPACUnambiguousDNA())\n",
    "str(coding_dna.translate())"
   ]
  },
  {
   "cell_type": "code",
   "execution_count": 7,
   "metadata": {
    "collapsed": false
   },
   "outputs": [
    {
     "name": "stdout",
     "output_type": "stream",
     "text": [
      "GC_Frame: a:112 t:68 g:29 c:49 \n",
      "Sequence: aaagccttta ... tcaatatttt, 258 nt, 30.23 %GC\n",
      "\n",
      "\n",
      "1/1\n",
      "  S  L  Y  L  Q  V  E  K  Y  Q  K  T  N  S  T  R  K  N  K  P\n",
      " K  P  L  P  S  S  *  E  I  S  K  D  K  F  Y  K  E  K  *  T\n",
      "K  A  F  T  F  K  L  R  N  I  K  R  Q  I  L  Q  G  K  I  N\n",
      "aaagcctttaccttcaagttgagaaatatcaaaagacaaattctacaaggaaaaataaac   28 %\n",
      "tttcggaaatggaagttcaactctttatagttttctgtttaagatgttcctttttatttg\n",
      "A  K  V  K  L  N  L  F  I  L  L  C  I  R  C  P  F  I  F  G \n",
      " F  G  K  G  E  L  Q  S  I  D  F  S  L  N  *  L  S  F  Y  V\n",
      "  L  R  *  R  *  T  S  F  Y  *  F  V  F  E  V  L  F  F  L  G\n",
      "\n",
      "61/21\n",
      "  E  L  Y  Q  K  M  L  Q  V  K  N  A  R  F  I  I  F  P  L  N\n",
      " R  T  L  P  K  N  V  T  S  *  K  C  *  V  H  N  F  S  S  K\n",
      "P  N  F  T  K  K  C  Y  K  L  K  M  L  G  S  *  F  F  L  *\n",
      "ccgaactttaccaaaaaatgttacaagttaaaaatgctaggttcataatttttcctctaa   28 %\n",
      "ggcttgaaatggttttttacaatgttcaatttttacgatccaagtattaaaaaggagatt\n",
      "F  K  V  L  F  H  *  L  N  F  I  S  P  E  Y  N  K  R  *  V \n",
      " R  V  K  G  F  F  T  V  L  *  F  H  *  T  *  L  K  E  E  L\n",
      "  S  S  *  W  F  I  N  C  T  L  F  A  L  N  M  I  K  G  R  F\n",
      "\n",
      "121/41\n",
      "  W  S  H  L  K  E  *  I  K  P  T  I  Y  R  N  E  L  I  T  K\n",
      " L  V  T  P  K  R  V  N  Q  A  H  Y  L  *  K  R  I  N  Y  Q\n",
      "T  G  H  T  *  K  S  E  S  S  P  L  F  I  E  T  N  *  L  P\n",
      "actggtcacacctaaaagagtgaatcaagcccactatttatagaaacgaattaattacca   35 %\n",
      "tgaccagtgtggattttctcacttagttcgggtgataaatatctttgcttaattaatggt\n",
      "P  *  V  *  F  L  S  D  L  G  S  N  I  S  V  F  *  N  G  F \n",
      " S  T  V  G  L  L  T  F  *  A  W  *  K  Y  F  R  I  L  *  W\n",
      "  Q  D  C  R  F  S  H  I  L  G  V  I  *  L  F  S  N  I  V  L\n",
      "\n",
      "181/61\n",
      "  *  K  R  P  I  P  T  Q  L  R  Q  D  I  N  F  *  C  Y  K  E\n",
      " I  K  E  T  Y  S  N  S  T  K  A  R  H  Q  F  L  M  L  Q  G\n",
      "N  K  R  D  L  F  Q  L  N  *  G  K  T  S  I  S  N  A  T  R\n",
      "aataaaagagacctattccaactcaactaaggcaagacatcaatttctaatgctacaagg   35 %\n",
      "ttattttctctggataaggttgagttgattccgttctgtagttaaagattacgatgttcc\n",
      "L  L  S  R  N  W  S  L  *  P  L  V  D  I  E  L  A  V  L  F \n",
      " I  F  S  V  *  E  L  E  V  L  A  L  C  *  N  R  I  S  C  P\n",
      "  Y  F  L  G  I  G  V  *  S  L  C  S  M  L  K  *  H  *  L  S\n",
      "\n",
      "241/81\n",
      "  I  N  S  I  F\n",
      " N  *  L  N  I\n",
      "K  L  T  Q  Y  F\n",
      "aaattaactcaatatttt   11 %\n",
      "tttaattgagttataaaa\n",
      "N  V  *  Y  K \n",
      " F  *  S  L  I  K\n",
      "  I  L  E  I  N\n",
      "\n",
      "\n"
     ]
    }
   ],
   "source": [
    "aa_contigs = []\n",
    "for contig in contigs:\n",
    "    coding_dna = Seq(contig.seq, IUPAC.unambiguous_dna)\n",
    "    aa_contigs.append(Contig(contig.name, str(coding_dna.translate())))\n",
    "write_contigs_to_file('Ash_Proteome/Jasminum_sambac.faa', aa_contigs)\n"
   ]
  },
  {
   "cell_type": "code",
   "execution_count": 14,
   "metadata": {
    "collapsed": false
   },
   "outputs": [
    {
     "data": {
      "text/plain": [
       "33121"
      ]
     },
     "execution_count": 14,
     "metadata": {},
     "output_type": "execute_result"
    }
   ],
   "source": [
    "len([contig for contig in contigs if len(contig.seq) % 3 != 0])"
   ]
  },
  {
   "cell_type": "markdown",
   "metadata": {},
   "source": [
    "That is a very bad sign if the majority of \"exons\" aren't composed of length 3 codons!  \n",
    "**Conclusions** Not going to use this data until hearing back from authors."
   ]
  },
  {
   "cell_type": "markdown",
   "metadata": {},
   "source": [
    "------------------"
   ]
  },
  {
   "cell_type": "markdown",
   "metadata": {},
   "source": [
    "# Ash Annotation"
   ]
  },
  {
   "cell_type": "code",
   "execution_count": 4,
   "metadata": {
    "collapsed": false
   },
   "outputs": [],
   "source": [
    "with open('Green_Ash_Annotation_Transfer/BRAKER_RNASeqandEA_augustus_060618.hints.hasevidenceMANUAL.gff', 'r') as infile:\n",
    "    lines = [line for line in infile.readlines() if 'AUGUSTUS\tgene' not in line]\n",
    "    with open('Green_Ash_Annotation_Transfer/scrubbed_BRAKER_RNASeqandEA_augustus_060618.hints.hasevidenceMANUAL.gff', 'w') as outfile:\n",
    "        outfile.writelines(lines[:34])  # header\n",
    "        outfile.writelines([line for line in lines if not line.startswith('#')])        "
   ]
  },
  {
   "cell_type": "code",
   "execution_count": 4,
   "metadata": {
    "collapsed": false
   },
   "outputs": [
    {
     "data": {
      "text/plain": [
       "[' Volume in drive D is Data',\n",
       " ' Volume Serial Number is 7C71-7E80',\n",
       " '',\n",
       " ' Directory of D:\\\\josiah\\\\Documents\\\\Research\\\\Thesis - Genome Symmetry\\\\DNA_Duplications',\n",
       " '',\n",
       " '2018-09-20  02:57 PM    <DIR>          .',\n",
       " '2018-09-20  02:57 PM    <DIR>          ..']"
      ]
     },
     "execution_count": 4,
     "metadata": {},
     "output_type": "execute_result"
    }
   ],
   "source": [
    "ls = !dir\n",
    "ls[:7]"
   ]
  },
  {
   "cell_type": "code",
   "execution_count": 1,
   "metadata": {
    "collapsed": false
   },
   "outputs": [
    {
     "data": {
      "text/plain": [
       "131199"
      ]
     },
     "execution_count": 1,
     "metadata": {},
     "output_type": "execute_result"
    }
   ],
   "source": [
    "\n",
    "with open(r\"D:\\josiah\\Documents\\Research\\Colleagues\\Maryam\\Hymenoscyphus fraxineus\\Hymenoscyphus_fraxineus_EIv2.annotation.23.gff3\") as infile:\n",
    "    lines = list(infile.readlines())\n",
    "len(lines)"
   ]
  },
  {
   "cell_type": "code",
   "execution_count": 9,
   "metadata": {
    "collapsed": false
   },
   "outputs": [
    {
     "data": {
      "text/plain": [
       "11095"
      ]
     },
     "execution_count": 9,
     "metadata": {},
     "output_type": "execute_result"
    }
   ],
   "source": [
    "genes = [g for g in lines if 'mRNA' in g]\n",
    "len(genes)"
   ]
  },
  {
   "cell_type": "code",
   "execution_count": 3,
   "metadata": {
    "collapsed": false
   },
   "outputs": [
    {
     "data": {
      "text/plain": [
       "77"
      ]
     },
     "execution_count": 3,
     "metadata": {},
     "output_type": "execute_result"
    }
   ],
   "source": [
    "with open(r\"D:\\josiah\\Documents\\Research\\Colleagues\\Maryam\\Hymenoscyphus fraxineus\\Genes_of_interest.txt\") as infile:\n",
    "    genes_of_interest = infile.read().split()\n",
    "len(genes_of_interest)"
   ]
  },
  {
   "cell_type": "code",
   "execution_count": 11,
   "metadata": {
    "collapsed": false
   },
   "outputs": [
    {
     "data": {
      "text/plain": [
       "77"
      ]
     },
     "execution_count": 11,
     "metadata": {},
     "output_type": "execute_result"
    }
   ],
   "source": [
    "annotations = []\n",
    "for g in genes:\n",
    "    name = g[g.rfind('Name=') + len('Name='):].strip()\n",
    "    if name in genes_of_interest:\n",
    "        annotations.append(g)\n",
    "len(annotations)"
   ]
  },
  {
   "cell_type": "code",
   "execution_count": 15,
   "metadata": {
    "collapsed": false
   },
   "outputs": [
    {
     "name": "stdout",
     "output_type": "stream",
     "text": [
      "Hymenoscyphus_fraxineus_EIv2_scaffold_0001\tEIv2.0\tgene\t2357419\t2359779\t.\t-\t.\tID=HYMFR746836.2.0_000050670.1;Parent=HYMFR746836.2.0_000050670;Name=HYMFR746836.2.0_000050670.1\n",
      "\n"
     ]
    }
   ],
   "source": [
    "annotations = [g.replace('mRNA', 'gene') for g in annotations]\n",
    "print(annotations[1])"
   ]
  },
  {
   "cell_type": "code",
   "execution_count": 14,
   "metadata": {
    "collapsed": false
   },
   "outputs": [],
   "source": [
    "with open(r\"D:\\josiah\\Documents\\Research\\Colleagues\\Maryam\\Hymenoscyphus fraxineus\\Hymenoscyphus_fraxineus_genes_of_interest.gff\", 'w') as outfile:\n",
    "    outfile.write(''.join(annotations))\n"
   ]
  },
  {
   "cell_type": "code",
   "execution_count": 5,
   "metadata": {
    "collapsed": false
   },
   "outputs": [
    {
     "data": {
      "text/plain": [
       "{'1',\n",
       " '10',\n",
       " '11',\n",
       " '12',\n",
       " '13',\n",
       " '14',\n",
       " '15',\n",
       " '16',\n",
       " '17',\n",
       " '18',\n",
       " '19',\n",
       " '2',\n",
       " '20',\n",
       " '21',\n",
       " '22',\n",
       " '3',\n",
       " '4',\n",
       " '5',\n",
       " '6',\n",
       " '7',\n",
       " '8',\n",
       " '9',\n",
       " 'CHR_HG126_PATCH',\n",
       " 'CHR_HG1362_PATCH',\n",
       " 'CHR_HG142_HG150_NOVEL_TEST',\n",
       " 'CHR_HG151_NOVEL_TEST',\n",
       " 'CHR_HG1832_PATCH',\n",
       " 'CHR_HG2021_PATCH',\n",
       " 'CHR_HG2030_PATCH',\n",
       " 'CHR_HG2058_PATCH',\n",
       " 'CHR_HG2062_PATCH',\n",
       " 'CHR_HG2066_PATCH',\n",
       " 'CHR_HG2095_PATCH',\n",
       " 'CHR_HG2104_PATCH',\n",
       " 'CHR_HG2128_PATCH',\n",
       " 'CHR_HG2191_PATCH',\n",
       " 'CHR_HG2217_PATCH',\n",
       " 'CHR_HG2232_PATCH',\n",
       " 'CHR_HG2233_PATCH',\n",
       " 'CHR_HG2247_PATCH',\n",
       " 'CHR_HG2249_PATCH',\n",
       " 'CHR_HG2288_HG2289_PATCH',\n",
       " 'CHR_HG2291_PATCH',\n",
       " 'CHR_HG986_PATCH',\n",
       " 'CHR_HSCHR10_1_CTG1',\n",
       " 'CHR_HSCHR10_1_CTG2',\n",
       " 'CHR_HSCHR10_1_CTG4',\n",
       " 'CHR_HSCHR11_1_CTG1_2',\n",
       " 'CHR_HSCHR11_1_CTG5',\n",
       " 'CHR_HSCHR11_1_CTG6',\n",
       " 'CHR_HSCHR11_1_CTG7',\n",
       " 'CHR_HSCHR11_1_CTG8',\n",
       " 'CHR_HSCHR11_2_CTG1',\n",
       " 'CHR_HSCHR11_2_CTG1_1',\n",
       " 'CHR_HSCHR11_3_CTG1',\n",
       " 'CHR_HSCHR12_1_CTG1',\n",
       " 'CHR_HSCHR12_1_CTG2_1',\n",
       " 'CHR_HSCHR12_2_CTG2',\n",
       " 'CHR_HSCHR12_2_CTG2_1',\n",
       " 'CHR_HSCHR12_3_CTG2',\n",
       " 'CHR_HSCHR12_3_CTG2_1',\n",
       " 'CHR_HSCHR12_4_CTG2',\n",
       " 'CHR_HSCHR12_4_CTG2_1',\n",
       " 'CHR_HSCHR12_5_CTG2',\n",
       " 'CHR_HSCHR12_5_CTG2_1',\n",
       " 'CHR_HSCHR12_6_CTG2_1',\n",
       " 'CHR_HSCHR13_1_CTG1',\n",
       " 'CHR_HSCHR13_1_CTG3',\n",
       " 'CHR_HSCHR14_1_CTG1',\n",
       " 'CHR_HSCHR14_2_CTG1',\n",
       " 'CHR_HSCHR14_3_CTG1',\n",
       " 'CHR_HSCHR14_7_CTG1',\n",
       " 'CHR_HSCHR15_1_CTG1',\n",
       " 'CHR_HSCHR15_1_CTG3',\n",
       " 'CHR_HSCHR15_1_CTG8',\n",
       " 'CHR_HSCHR15_2_CTG3',\n",
       " 'CHR_HSCHR15_2_CTG8',\n",
       " 'CHR_HSCHR15_3_CTG3',\n",
       " 'CHR_HSCHR15_3_CTG8',\n",
       " 'CHR_HSCHR15_4_CTG8',\n",
       " 'CHR_HSCHR15_5_CTG8',\n",
       " 'CHR_HSCHR16_1_CTG1',\n",
       " 'CHR_HSCHR16_1_CTG3_1',\n",
       " 'CHR_HSCHR16_2_CTG3_1',\n",
       " 'CHR_HSCHR16_3_CTG1',\n",
       " 'CHR_HSCHR16_4_CTG1',\n",
       " 'CHR_HSCHR16_CTG2',\n",
       " 'CHR_HSCHR17_10_CTG4',\n",
       " 'CHR_HSCHR17_1_CTG1',\n",
       " 'CHR_HSCHR17_1_CTG2',\n",
       " 'CHR_HSCHR17_1_CTG4',\n",
       " 'CHR_HSCHR17_1_CTG5',\n",
       " 'CHR_HSCHR17_1_CTG9',\n",
       " 'CHR_HSCHR17_2_CTG1',\n",
       " 'CHR_HSCHR17_2_CTG2',\n",
       " 'CHR_HSCHR17_2_CTG5',\n",
       " 'CHR_HSCHR17_3_CTG2',\n",
       " 'CHR_HSCHR17_4_CTG4',\n",
       " 'CHR_HSCHR17_5_CTG4',\n",
       " 'CHR_HSCHR17_6_CTG4',\n",
       " 'CHR_HSCHR17_7_CTG4',\n",
       " 'CHR_HSCHR17_8_CTG4',\n",
       " 'CHR_HSCHR18_1_CTG1_1',\n",
       " 'CHR_HSCHR18_1_CTG2_1',\n",
       " 'CHR_HSCHR18_2_CTG2',\n",
       " 'CHR_HSCHR18_2_CTG2_1',\n",
       " 'CHR_HSCHR18_ALT21_CTG2_1',\n",
       " 'CHR_HSCHR18_ALT2_CTG2_1',\n",
       " 'CHR_HSCHR19KIR_ABC08_A1_HAP_CTG3_1',\n",
       " 'CHR_HSCHR19KIR_ABC08_AB_HAP_C_P_CTG3_1',\n",
       " 'CHR_HSCHR19KIR_ABC08_AB_HAP_T_P_CTG3_1',\n",
       " 'CHR_HSCHR19KIR_FH05_A_HAP_CTG3_1',\n",
       " 'CHR_HSCHR19KIR_FH05_B_HAP_CTG3_1',\n",
       " 'CHR_HSCHR19KIR_FH06_A_HAP_CTG3_1',\n",
       " 'CHR_HSCHR19KIR_FH06_BA1_HAP_CTG3_1',\n",
       " 'CHR_HSCHR19KIR_FH08_A_HAP_CTG3_1',\n",
       " 'CHR_HSCHR19KIR_FH08_BAX_HAP_CTG3_1',\n",
       " 'CHR_HSCHR19KIR_FH13_A_HAP_CTG3_1',\n",
       " 'CHR_HSCHR19KIR_FH13_BA2_HAP_CTG3_1',\n",
       " 'CHR_HSCHR19KIR_FH15_A_HAP_CTG3_1',\n",
       " 'CHR_HSCHR19KIR_FH15_B_HAP_CTG3_1',\n",
       " 'CHR_HSCHR19KIR_G085_A_HAP_CTG3_1',\n",
       " 'CHR_HSCHR19KIR_G085_BA1_HAP_CTG3_1',\n",
       " 'CHR_HSCHR19KIR_G248_A_HAP_CTG3_1',\n",
       " 'CHR_HSCHR19KIR_G248_BA2_HAP_CTG3_1',\n",
       " 'CHR_HSCHR19KIR_GRC212_AB_HAP_CTG3_1',\n",
       " 'CHR_HSCHR19KIR_GRC212_BA1_HAP_CTG3_1',\n",
       " 'CHR_HSCHR19KIR_LUCE_A_HAP_CTG3_1',\n",
       " 'CHR_HSCHR19KIR_LUCE_BDEL_HAP_CTG3_1',\n",
       " 'CHR_HSCHR19KIR_RP5_B_HAP_CTG3_1',\n",
       " 'CHR_HSCHR19KIR_RSH_A_HAP_CTG3_1',\n",
       " 'CHR_HSCHR19KIR_RSH_BA2_HAP_CTG3_1',\n",
       " 'CHR_HSCHR19KIR_T7526_A_HAP_CTG3_1',\n",
       " 'CHR_HSCHR19KIR_T7526_BDEL_HAP_CTG3_1',\n",
       " 'CHR_HSCHR19LRC_COX1_CTG3_1',\n",
       " 'CHR_HSCHR19LRC_COX2_CTG3_1',\n",
       " 'CHR_HSCHR19LRC_LRC_I_CTG3_1',\n",
       " 'CHR_HSCHR19LRC_LRC_J_CTG3_1',\n",
       " 'CHR_HSCHR19LRC_LRC_S_CTG3_1',\n",
       " 'CHR_HSCHR19LRC_LRC_T_CTG3_1',\n",
       " 'CHR_HSCHR19LRC_PGF1_CTG3_1',\n",
       " 'CHR_HSCHR19LRC_PGF2_CTG3_1',\n",
       " 'CHR_HSCHR19_1_CTG2',\n",
       " 'CHR_HSCHR19_1_CTG3_1',\n",
       " 'CHR_HSCHR19_2_CTG2',\n",
       " 'CHR_HSCHR19_3_CTG2',\n",
       " 'CHR_HSCHR19_3_CTG3_1',\n",
       " 'CHR_HSCHR19_4_CTG2',\n",
       " 'CHR_HSCHR19_4_CTG3_1',\n",
       " 'CHR_HSCHR19_5_CTG2',\n",
       " 'CHR_HSCHR1_1_CTG11',\n",
       " 'CHR_HSCHR1_1_CTG3',\n",
       " 'CHR_HSCHR1_1_CTG31',\n",
       " 'CHR_HSCHR1_1_CTG32_1',\n",
       " 'CHR_HSCHR1_2_CTG3',\n",
       " 'CHR_HSCHR1_2_CTG31',\n",
       " 'CHR_HSCHR1_2_CTG32_1',\n",
       " 'CHR_HSCHR1_3_CTG31',\n",
       " 'CHR_HSCHR1_3_CTG32_1',\n",
       " 'CHR_HSCHR1_4_CTG31',\n",
       " 'CHR_HSCHR1_ALT2_1_CTG32_1',\n",
       " 'CHR_HSCHR20_1_CTG1',\n",
       " 'CHR_HSCHR20_1_CTG2',\n",
       " 'CHR_HSCHR20_1_CTG3',\n",
       " 'CHR_HSCHR20_1_CTG4',\n",
       " 'CHR_HSCHR21_2_CTG1_1',\n",
       " 'CHR_HSCHR21_3_CTG1_1',\n",
       " 'CHR_HSCHR21_4_CTG1_1',\n",
       " 'CHR_HSCHR21_5_CTG2',\n",
       " 'CHR_HSCHR21_6_CTG1_1',\n",
       " 'CHR_HSCHR21_8_CTG1_1',\n",
       " 'CHR_HSCHR22_1_CTG1',\n",
       " 'CHR_HSCHR22_1_CTG2',\n",
       " 'CHR_HSCHR22_1_CTG3',\n",
       " 'CHR_HSCHR22_1_CTG4',\n",
       " 'CHR_HSCHR22_1_CTG5',\n",
       " 'CHR_HSCHR22_1_CTG6',\n",
       " 'CHR_HSCHR22_1_CTG7',\n",
       " 'CHR_HSCHR22_2_CTG1',\n",
       " 'CHR_HSCHR22_3_CTG1',\n",
       " 'CHR_HSCHR22_4_CTG1',\n",
       " 'CHR_HSCHR22_5_CTG1',\n",
       " 'CHR_HSCHR2_1_CTG1',\n",
       " 'CHR_HSCHR2_1_CTG15',\n",
       " 'CHR_HSCHR2_1_CTG5',\n",
       " 'CHR_HSCHR2_1_CTG7',\n",
       " 'CHR_HSCHR2_1_CTG7_2',\n",
       " 'CHR_HSCHR2_2_CTG1',\n",
       " 'CHR_HSCHR2_2_CTG15',\n",
       " 'CHR_HSCHR2_2_CTG7',\n",
       " 'CHR_HSCHR2_2_CTG7_2',\n",
       " 'CHR_HSCHR2_3_CTG1',\n",
       " 'CHR_HSCHR2_3_CTG15',\n",
       " 'CHR_HSCHR2_3_CTG7_2',\n",
       " 'CHR_HSCHR2_4_CTG1',\n",
       " 'CHR_HSCHR3_1_CTG1',\n",
       " 'CHR_HSCHR3_1_CTG2_1',\n",
       " 'CHR_HSCHR3_1_CTG3',\n",
       " 'CHR_HSCHR3_2_CTG2_1',\n",
       " 'CHR_HSCHR3_2_CTG3',\n",
       " 'CHR_HSCHR3_3_CTG1',\n",
       " 'CHR_HSCHR3_3_CTG3',\n",
       " 'CHR_HSCHR3_4_CTG2_1',\n",
       " 'CHR_HSCHR3_4_CTG3',\n",
       " 'CHR_HSCHR3_5_CTG2_1',\n",
       " 'CHR_HSCHR3_5_CTG3',\n",
       " 'CHR_HSCHR3_6_CTG3',\n",
       " 'CHR_HSCHR3_7_CTG3',\n",
       " 'CHR_HSCHR3_8_CTG3',\n",
       " 'CHR_HSCHR3_9_CTG3',\n",
       " 'CHR_HSCHR4_1_CTG12',\n",
       " 'CHR_HSCHR4_1_CTG4',\n",
       " 'CHR_HSCHR4_1_CTG6',\n",
       " 'CHR_HSCHR4_1_CTG9',\n",
       " 'CHR_HSCHR4_2_CTG12',\n",
       " 'CHR_HSCHR4_3_CTG12',\n",
       " 'CHR_HSCHR4_4_CTG12',\n",
       " 'CHR_HSCHR4_5_CTG12',\n",
       " 'CHR_HSCHR4_6_CTG12',\n",
       " 'CHR_HSCHR4_7_CTG12',\n",
       " 'CHR_HSCHR5_1_CTG1',\n",
       " 'CHR_HSCHR5_1_CTG1_1',\n",
       " 'CHR_HSCHR5_1_CTG5',\n",
       " 'CHR_HSCHR5_2_CTG1',\n",
       " 'CHR_HSCHR5_2_CTG1_1',\n",
       " 'CHR_HSCHR5_2_CTG5',\n",
       " 'CHR_HSCHR5_3_CTG1',\n",
       " 'CHR_HSCHR5_3_CTG5',\n",
       " 'CHR_HSCHR5_4_CTG1',\n",
       " 'CHR_HSCHR5_4_CTG1_1',\n",
       " 'CHR_HSCHR5_5_CTG1',\n",
       " 'CHR_HSCHR5_6_CTG1',\n",
       " 'CHR_HSCHR5_7_CTG1',\n",
       " 'CHR_HSCHR6_1_CTG2',\n",
       " 'CHR_HSCHR6_1_CTG3',\n",
       " 'CHR_HSCHR6_1_CTG4',\n",
       " 'CHR_HSCHR6_1_CTG5',\n",
       " 'CHR_HSCHR6_1_CTG6',\n",
       " 'CHR_HSCHR6_1_CTG7',\n",
       " 'CHR_HSCHR6_1_CTG8',\n",
       " 'CHR_HSCHR6_1_CTG9',\n",
       " 'CHR_HSCHR6_8_CTG1',\n",
       " 'CHR_HSCHR6_MHC_APD_CTG1',\n",
       " 'CHR_HSCHR6_MHC_COX_CTG1',\n",
       " 'CHR_HSCHR6_MHC_DBB_CTG1',\n",
       " 'CHR_HSCHR6_MHC_MANN_CTG1',\n",
       " 'CHR_HSCHR6_MHC_MCF_CTG1',\n",
       " 'CHR_HSCHR6_MHC_QBL_CTG1',\n",
       " 'CHR_HSCHR6_MHC_SSTO_CTG1',\n",
       " 'CHR_HSCHR7_1_CTG1',\n",
       " 'CHR_HSCHR7_1_CTG4_4',\n",
       " 'CHR_HSCHR7_1_CTG6',\n",
       " 'CHR_HSCHR7_2_CTG4_4',\n",
       " 'CHR_HSCHR7_2_CTG6',\n",
       " 'CHR_HSCHR7_3_CTG6',\n",
       " 'CHR_HSCHR8_1_CTG1',\n",
       " 'CHR_HSCHR8_1_CTG6',\n",
       " 'CHR_HSCHR8_1_CTG7',\n",
       " 'CHR_HSCHR8_2_CTG7',\n",
       " 'CHR_HSCHR8_3_CTG1',\n",
       " 'CHR_HSCHR8_3_CTG7',\n",
       " 'CHR_HSCHR8_4_CTG7',\n",
       " 'CHR_HSCHR8_5_CTG1',\n",
       " 'CHR_HSCHR8_5_CTG7',\n",
       " 'CHR_HSCHR8_7_CTG1',\n",
       " 'CHR_HSCHR8_8_CTG1',\n",
       " 'CHR_HSCHR8_9_CTG1',\n",
       " 'CHR_HSCHR9_1_CTG1',\n",
       " 'CHR_HSCHR9_1_CTG2',\n",
       " 'CHR_HSCHR9_1_CTG3',\n",
       " 'CHR_HSCHR9_1_CTG4',\n",
       " 'CHR_HSCHR9_1_CTG5',\n",
       " 'CHR_HSCHRX_1_CTG3',\n",
       " 'CHR_HSCHRX_2_CTG12',\n",
       " 'CHR_HSCHRX_2_CTG3',\n",
       " 'GL000008.2',\n",
       " 'GL000009.2',\n",
       " 'GL000194.1',\n",
       " 'GL000195.1',\n",
       " 'GL000205.2',\n",
       " 'GL000213.1',\n",
       " 'GL000216.2',\n",
       " 'GL000218.1',\n",
       " 'GL000219.1',\n",
       " 'GL000220.1',\n",
       " 'GL000224.1',\n",
       " 'GL000225.1',\n",
       " 'KI270442.1',\n",
       " 'KI270706.1',\n",
       " 'KI270707.1',\n",
       " 'KI270708.1',\n",
       " 'KI270711.1',\n",
       " 'KI270713.1',\n",
       " 'KI270714.1',\n",
       " 'KI270721.1',\n",
       " 'KI270722.1',\n",
       " 'KI270723.1',\n",
       " 'KI270724.1',\n",
       " 'KI270726.1',\n",
       " 'KI270727.1',\n",
       " 'KI270728.1',\n",
       " 'KI270731.1',\n",
       " 'KI270733.1',\n",
       " 'KI270734.1',\n",
       " 'KI270741.1',\n",
       " 'KI270743.1',\n",
       " 'KI270744.1',\n",
       " 'KI270750.1',\n",
       " 'KI270752.1',\n",
       " 'MT',\n",
       " 'X',\n",
       " 'Y'}"
      ]
     },
     "execution_count": 5,
     "metadata": {},
     "output_type": "execute_result"
    }
   ],
   "source": [
    "chromosomes = set()\n",
    "with open(r\"D:\\josiah\\Projects\\DDV\\DDV\\data\\Hg38_genes.gtf\", 'r') as infile:\n",
    "    lines = list(infile.readlines())\n",
    "    for line in lines:\n",
    "        chromosomes.add(line.split('\\t')[0])\n",
    "len(lines)\n",
    "chromosomes"
   ]
  },
  {
   "cell_type": "code",
   "execution_count": 6,
   "metadata": {
    "collapsed": false
   },
   "outputs": [
    {
     "data": {
      "text/plain": [
       "'CHR_HSCHR6_1_CTG3\\thavana\\tgene\\t168820423\\t168820656\\t.\\t+\\t.\\tgene_id \"ENSG00000281421\"; gene_version \"1\"; gene_name \"RP11-35J6.1\"; gene_source \"havana\"; gene_biotype \"TEC\";\\n'"
      ]
     },
     "execution_count": 6,
     "metadata": {},
     "output_type": "execute_result"
    }
   ],
   "source": [
    "lines[0]"
   ]
  },
  {
   "cell_type": "code",
   "execution_count": 11,
   "metadata": {
    "collapsed": false
   },
   "outputs": [],
   "source": [
    "def gff_convert(line):\n",
    "    line = line.replace('; ', ';').replace(' ', '=')\n",
    "    return line\n",
    "with open(r\"D:\\josiah\\Projects\\DDV\\DDV\\data\\Hg38_genes.gff\", 'w') as outfile:\n",
    "    for line in lines:\n",
    "        #if line.startswith('MT'):\n",
    "        outfile.write(gff_convert(line))"
   ]
  },
  {
   "cell_type": "code",
   "execution_count": 12,
   "metadata": {
    "collapsed": true
   },
   "outputs": [],
   "source": [
    "with open(r\"D:\\josiah\\Projects\\DDV\\DDV\\data\\Hg38_genes.gff\", 'r') as infile:\n",
    "    with open(r\"D:\\josiah\\Projects\\DDV\\DDV\\data\\Hg38_genes_chr20.gff\", 'w') as outfile:\n",
    "        for line in infile:\n",
    "            if line.startswith('20\\t'):\n",
    "                outfile.write(line)"
   ]
  },
  {
   "cell_type": "code",
   "execution_count": 14,
   "metadata": {
    "collapsed": false
   },
   "outputs": [
    {
     "name": "stdout",
     "output_type": "stream",
     "text": [
      "Done writing  1 contigs and 11,160,261bp\n"
     ]
    }
   ],
   "source": [
    "from DNASkittleUtils.Contigs import write_contigs_to_file, read_contigs, Contig\n",
    "chr20 = read_contigs(r\"D:\\Genomes\\Human\\hg38_chr20.fa\")[0]\n",
    "chr20.seq = chr20.seq[:11100000]\n",
    "write_contigs_to_file(r\"D:\\josiah\\Projects\\DDV\\DDV\\example_data\\hg38_chr20_sample.fa\", [chr20])"
   ]
  },
  {
   "cell_type": "code",
   "execution_count": 15,
   "metadata": {
    "collapsed": true
   },
   "outputs": [],
   "source": [
    "with open(r\"D:\\josiah\\Projects\\DDV\\DDV\\data\\Hg38_genes_chr20.gff\", 'r') as infile:\n",
    "    with open(r\"D:\\josiah\\Projects\\DDV\\DDV\\example_data\\Hg38_genes_chr20_sample.gff\", 'w') as outfile:\n",
    "        for line in infile:\n",
    "            if int(line.split('\\t')[3]) < 11160261:\n",
    "                   outfile.write(line)"
   ]
  },
  {
   "cell_type": "code",
   "execution_count": 16,
   "metadata": {
    "collapsed": false
   },
   "outputs": [
    {
     "data": {
      "text/plain": [
       "['chr1',\n",
       " 'chr10',\n",
       " 'chr11',\n",
       " 'chr11_KI270721v1_random',\n",
       " 'chr12',\n",
       " 'chr13',\n",
       " 'chr14',\n",
       " 'chr14_GL000009v2_random',\n",
       " 'chr14_GL000225v1_random',\n",
       " 'chr14_KI270722v1_random',\n",
       " 'chr14_GL000194v1_random',\n",
       " 'chr14_KI270723v1_random',\n",
       " 'chr14_KI270724v1_random',\n",
       " 'chr14_KI270725v1_random',\n",
       " 'chr14_KI270726v1_random',\n",
       " 'chr15',\n",
       " 'chr15_KI270727v1_random',\n",
       " 'chr16',\n",
       " 'chr16_KI270728v1_random',\n",
       " 'chr17',\n",
       " 'chr17_GL000205v2_random',\n",
       " 'chr17_KI270729v1_random',\n",
       " 'chr17_KI270730v1_random',\n",
       " 'chr18',\n",
       " 'chr19',\n",
       " 'chr1_KI270706v1_random',\n",
       " 'chr1_KI270707v1_random',\n",
       " 'chr1_KI270708v1_random',\n",
       " 'chr1_KI270709v1_random',\n",
       " 'chr1_KI270710v1_random',\n",
       " 'chr1_KI270711v1_random',\n",
       " 'chr1_KI270712v1_random',\n",
       " 'chr1_KI270713v1_random',\n",
       " 'chr1_KI270714v1_random',\n",
       " 'chr2',\n",
       " 'chr20',\n",
       " 'chr21',\n",
       " 'chr22',\n",
       " 'chr22_KI270731v1_random',\n",
       " 'chr22_KI270732v1_random',\n",
       " 'chr22_KI270733v1_random',\n",
       " 'chr22_KI270734v1_random',\n",
       " 'chr22_KI270735v1_random',\n",
       " 'chr22_KI270736v1_random',\n",
       " 'chr22_KI270737v1_random',\n",
       " 'chr22_KI270738v1_random',\n",
       " 'chr22_KI270739v1_random',\n",
       " 'chr2_KI270715v1_random',\n",
       " 'chr2_KI270716v1_random',\n",
       " 'chr3',\n",
       " 'chr3_GL000221v1_random',\n",
       " 'chr4',\n",
       " 'chr4_GL000008v2_random',\n",
       " 'chr5',\n",
       " 'chr5_GL000208v1_random',\n",
       " 'chr6',\n",
       " 'chr7',\n",
       " 'chr8',\n",
       " 'chr9',\n",
       " 'chr9_KI270717v1_random',\n",
       " 'chr9_KI270718v1_random',\n",
       " 'chr9_KI270719v1_random',\n",
       " 'chr9_KI270720v1_random',\n",
       " 'chr1_KI270762v1_alt',\n",
       " 'chr1_KI270766v1_alt',\n",
       " 'chr1_KI270760v1_alt',\n",
       " 'chr1_KI270765v1_alt',\n",
       " 'chr1_GL383518v1_alt',\n",
       " 'chr1_GL383519v1_alt',\n",
       " 'chr1_GL383520v2_alt',\n",
       " 'chr1_KI270764v1_alt',\n",
       " 'chr1_KI270763v1_alt',\n",
       " 'chr1_KI270759v1_alt',\n",
       " 'chr1_KI270761v1_alt',\n",
       " 'chr2_KI270770v1_alt',\n",
       " 'chr2_KI270773v1_alt',\n",
       " 'chr2_KI270774v1_alt',\n",
       " 'chr2_KI270769v1_alt',\n",
       " 'chr2_GL383521v1_alt',\n",
       " 'chr2_KI270772v1_alt',\n",
       " 'chr2_KI270775v1_alt',\n",
       " 'chr2_KI270771v1_alt',\n",
       " 'chr2_KI270768v1_alt',\n",
       " 'chr2_GL582966v2_alt',\n",
       " 'chr2_GL383522v1_alt',\n",
       " 'chr2_KI270776v1_alt',\n",
       " 'chr2_KI270767v1_alt',\n",
       " 'chr3_JH636055v2_alt',\n",
       " 'chr3_KI270783v1_alt',\n",
       " 'chr3_KI270780v1_alt',\n",
       " 'chr3_GL383526v1_alt',\n",
       " 'chr3_KI270777v1_alt',\n",
       " 'chr3_KI270778v1_alt',\n",
       " 'chr3_KI270781v1_alt',\n",
       " 'chr3_KI270779v1_alt',\n",
       " 'chr3_KI270782v1_alt',\n",
       " 'chr3_KI270784v1_alt',\n",
       " 'chr4_KI270790v1_alt',\n",
       " 'chr4_GL383528v1_alt',\n",
       " 'chr4_KI270787v1_alt',\n",
       " 'chr4_GL000257v2_alt',\n",
       " 'chr4_KI270788v1_alt',\n",
       " 'chr4_GL383527v1_alt',\n",
       " 'chr4_KI270785v1_alt',\n",
       " 'chr4_KI270789v1_alt',\n",
       " 'chr4_KI270786v1_alt',\n",
       " 'chr5_KI270793v1_alt',\n",
       " 'chr5_KI270792v1_alt',\n",
       " 'chr5_KI270791v1_alt',\n",
       " 'chr5_GL383532v1_alt',\n",
       " 'chr5_GL949742v1_alt',\n",
       " 'chr5_KI270794v1_alt',\n",
       " 'chr5_GL339449v2_alt',\n",
       " 'chr5_GL383530v1_alt',\n",
       " 'chr5_KI270796v1_alt',\n",
       " 'chr5_GL383531v1_alt',\n",
       " 'chr5_KI270795v1_alt',\n",
       " 'chr6_GL000250v2_alt',\n",
       " 'chr6_KI270800v1_alt',\n",
       " 'chr6_KI270799v1_alt',\n",
       " 'chr6_GL383533v1_alt',\n",
       " 'chr6_KI270801v1_alt',\n",
       " 'chr6_KI270802v1_alt',\n",
       " 'chr6_KB021644v2_alt',\n",
       " 'chr6_KI270797v1_alt',\n",
       " 'chr6_KI270798v1_alt',\n",
       " 'chr7_KI270804v1_alt',\n",
       " 'chr7_KI270809v1_alt',\n",
       " 'chr7_KI270806v1_alt',\n",
       " 'chr7_GL383534v2_alt',\n",
       " 'chr7_KI270803v1_alt',\n",
       " 'chr7_KI270808v1_alt',\n",
       " 'chr7_KI270807v1_alt',\n",
       " 'chr7_KI270805v1_alt',\n",
       " 'chr8_KI270818v1_alt',\n",
       " 'chr8_KI270812v1_alt',\n",
       " 'chr8_KI270811v1_alt',\n",
       " 'chr8_KI270821v1_alt',\n",
       " 'chr8_KI270813v1_alt',\n",
       " 'chr8_KI270822v1_alt',\n",
       " 'chr8_KI270814v1_alt',\n",
       " 'chr8_KI270810v1_alt',\n",
       " 'chr8_KI270819v1_alt',\n",
       " 'chr8_KI270820v1_alt',\n",
       " 'chr8_KI270817v1_alt',\n",
       " 'chr8_KI270816v1_alt',\n",
       " 'chr8_KI270815v1_alt',\n",
       " 'chr9_GL383539v1_alt',\n",
       " 'chr9_GL383540v1_alt',\n",
       " 'chr9_GL383541v1_alt',\n",
       " 'chr9_GL383542v1_alt',\n",
       " 'chr9_KI270823v1_alt',\n",
       " 'chr10_GL383545v1_alt',\n",
       " 'chr10_KI270824v1_alt',\n",
       " 'chr10_GL383546v1_alt',\n",
       " 'chr10_KI270825v1_alt',\n",
       " 'chr11_KI270832v1_alt',\n",
       " 'chr11_KI270830v1_alt',\n",
       " 'chr11_KI270831v1_alt',\n",
       " 'chr11_KI270829v1_alt',\n",
       " 'chr11_GL383547v1_alt',\n",
       " 'chr11_JH159136v1_alt',\n",
       " 'chr11_JH159137v1_alt',\n",
       " 'chr11_KI270827v1_alt',\n",
       " 'chr11_KI270826v1_alt',\n",
       " 'chr12_GL877875v1_alt',\n",
       " 'chr12_GL877876v1_alt',\n",
       " 'chr12_KI270837v1_alt',\n",
       " 'chr12_GL383549v1_alt',\n",
       " 'chr12_KI270835v1_alt',\n",
       " 'chr12_GL383550v2_alt',\n",
       " 'chr12_GL383552v1_alt',\n",
       " 'chr12_GL383553v2_alt',\n",
       " 'chr12_KI270834v1_alt',\n",
       " 'chr12_GL383551v1_alt',\n",
       " 'chr12_KI270833v1_alt',\n",
       " 'chr12_KI270836v1_alt',\n",
       " 'chr13_KI270840v1_alt',\n",
       " 'chr13_KI270839v1_alt',\n",
       " 'chr13_KI270843v1_alt',\n",
       " 'chr13_KI270841v1_alt',\n",
       " 'chr13_KI270838v1_alt',\n",
       " 'chr13_KI270842v1_alt',\n",
       " 'chr14_KI270844v1_alt',\n",
       " 'chr14_KI270847v1_alt',\n",
       " 'chr14_KI270845v1_alt',\n",
       " 'chr14_KI270846v1_alt',\n",
       " 'chr15_KI270852v1_alt',\n",
       " 'chr15_KI270851v1_alt',\n",
       " 'chr15_KI270848v1_alt',\n",
       " 'chr15_GL383554v1_alt',\n",
       " 'chr15_KI270849v1_alt',\n",
       " 'chr15_GL383555v2_alt',\n",
       " 'chr15_KI270850v1_alt',\n",
       " 'chr16_KI270854v1_alt',\n",
       " 'chr16_KI270856v1_alt',\n",
       " 'chr16_KI270855v1_alt',\n",
       " 'chr16_KI270853v1_alt',\n",
       " 'chr16_GL383556v1_alt',\n",
       " 'chr16_GL383557v1_alt',\n",
       " 'chr17_GL383563v3_alt',\n",
       " 'chr17_KI270862v1_alt',\n",
       " 'chr17_KI270861v1_alt',\n",
       " 'chr17_KI270857v1_alt',\n",
       " 'chr17_JH159146v1_alt',\n",
       " 'chr17_JH159147v1_alt',\n",
       " 'chr17_GL383564v2_alt',\n",
       " 'chr17_GL000258v2_alt',\n",
       " 'chr17_GL383565v1_alt',\n",
       " 'chr17_KI270858v1_alt',\n",
       " 'chr17_KI270859v1_alt',\n",
       " 'chr17_GL383566v1_alt',\n",
       " 'chr17_KI270860v1_alt',\n",
       " 'chr18_KI270864v1_alt',\n",
       " 'chr18_GL383567v1_alt',\n",
       " 'chr18_GL383570v1_alt',\n",
       " 'chr18_GL383571v1_alt',\n",
       " 'chr18_GL383568v1_alt',\n",
       " 'chr18_GL383569v1_alt',\n",
       " 'chr18_GL383572v1_alt',\n",
       " 'chr18_KI270863v1_alt',\n",
       " 'chr19_KI270868v1_alt',\n",
       " 'chr19_KI270865v1_alt',\n",
       " 'chr19_GL383573v1_alt',\n",
       " 'chr19_GL383575v2_alt',\n",
       " 'chr19_GL383576v1_alt',\n",
       " 'chr19_GL383574v1_alt',\n",
       " 'chr19_KI270866v1_alt',\n",
       " 'chr19_KI270867v1_alt',\n",
       " 'chr19_GL949746v1_alt',\n",
       " 'chr20_GL383577v2_alt',\n",
       " 'chr20_KI270869v1_alt',\n",
       " 'chr20_KI270871v1_alt',\n",
       " 'chr20_KI270870v1_alt',\n",
       " 'chr21_GL383578v2_alt',\n",
       " 'chr21_KI270874v1_alt',\n",
       " 'chr21_KI270873v1_alt',\n",
       " 'chr21_GL383579v2_alt',\n",
       " 'chr21_GL383580v2_alt',\n",
       " 'chr21_GL383581v2_alt',\n",
       " 'chr21_KI270872v1_alt',\n",
       " 'chr22_KI270875v1_alt',\n",
       " 'chr22_KI270878v1_alt',\n",
       " 'chr22_KI270879v1_alt',\n",
       " 'chr22_KI270876v1_alt',\n",
       " 'chr22_KI270877v1_alt',\n",
       " 'chr22_GL383583v2_alt',\n",
       " 'chr22_GL383582v2_alt',\n",
       " 'chrX_KI270880v1_alt',\n",
       " 'chrX_KI270881v1_alt',\n",
       " 'chr19_KI270882v1_alt',\n",
       " 'chr19_KI270883v1_alt',\n",
       " 'chr19_KI270884v1_alt',\n",
       " 'chr19_KI270885v1_alt',\n",
       " 'chr19_KI270886v1_alt',\n",
       " 'chr19_KI270887v1_alt',\n",
       " 'chr19_KI270888v1_alt',\n",
       " 'chr19_KI270889v1_alt',\n",
       " 'chr19_KI270890v1_alt',\n",
       " 'chr19_KI270891v1_alt',\n",
       " 'chr1_KI270892v1_alt',\n",
       " 'chr2_KI270894v1_alt',\n",
       " 'chr2_KI270893v1_alt',\n",
       " 'chr3_KI270895v1_alt',\n",
       " 'chr4_KI270896v1_alt',\n",
       " 'chr5_KI270897v1_alt',\n",
       " 'chr5_KI270898v1_alt',\n",
       " 'chr6_GL000251v2_alt',\n",
       " 'chr7_KI270899v1_alt',\n",
       " 'chr8_KI270901v1_alt',\n",
       " 'chr8_KI270900v1_alt',\n",
       " 'chr11_KI270902v1_alt',\n",
       " 'chr11_KI270903v1_alt',\n",
       " 'chr12_KI270904v1_alt',\n",
       " 'chr15_KI270906v1_alt',\n",
       " 'chr15_KI270905v1_alt',\n",
       " 'chr17_KI270907v1_alt',\n",
       " 'chr17_KI270910v1_alt',\n",
       " 'chr17_KI270909v1_alt',\n",
       " 'chr17_JH159148v1_alt',\n",
       " 'chr17_KI270908v1_alt',\n",
       " 'chr18_KI270912v1_alt',\n",
       " 'chr18_KI270911v1_alt',\n",
       " 'chr19_GL949747v2_alt',\n",
       " 'chr22_KB663609v1_alt',\n",
       " 'chrX_KI270913v1_alt',\n",
       " 'chr19_KI270914v1_alt',\n",
       " 'chr19_KI270915v1_alt',\n",
       " 'chr19_KI270916v1_alt',\n",
       " 'chr19_KI270917v1_alt',\n",
       " 'chr19_KI270918v1_alt',\n",
       " 'chr19_KI270919v1_alt',\n",
       " 'chr19_KI270920v1_alt',\n",
       " 'chr19_KI270921v1_alt',\n",
       " 'chr19_KI270922v1_alt',\n",
       " 'chr19_KI270923v1_alt',\n",
       " 'chr3_KI270924v1_alt',\n",
       " 'chr4_KI270925v1_alt',\n",
       " 'chr6_GL000252v2_alt',\n",
       " 'chr8_KI270926v1_alt',\n",
       " 'chr11_KI270927v1_alt',\n",
       " 'chr19_GL949748v2_alt',\n",
       " 'chr22_KI270928v1_alt',\n",
       " 'chr19_KI270929v1_alt',\n",
       " 'chr19_KI270930v1_alt',\n",
       " 'chr19_KI270931v1_alt',\n",
       " 'chr19_KI270932v1_alt',\n",
       " 'chr19_KI270933v1_alt',\n",
       " 'chr19_GL000209v2_alt',\n",
       " 'chr3_KI270934v1_alt',\n",
       " 'chr6_GL000253v2_alt',\n",
       " 'chr19_GL949749v2_alt',\n",
       " 'chr3_KI270935v1_alt',\n",
       " 'chr6_GL000254v2_alt',\n",
       " 'chr19_GL949750v2_alt',\n",
       " 'chr3_KI270936v1_alt',\n",
       " 'chr6_GL000255v2_alt',\n",
       " 'chr19_GL949751v2_alt',\n",
       " 'chr3_KI270937v1_alt',\n",
       " 'chr6_GL000256v2_alt',\n",
       " 'chr19_GL949752v1_alt',\n",
       " 'chr6_KI270758v1_alt',\n",
       " 'chr19_GL949753v2_alt',\n",
       " 'chr19_KI270938v1_alt',\n",
       " 'chrM',\n",
       " 'chrUn_KI270302v1',\n",
       " 'chrUn_KI270304v1',\n",
       " 'chrUn_KI270303v1',\n",
       " 'chrUn_KI270305v1',\n",
       " 'chrUn_KI270322v1',\n",
       " 'chrUn_KI270320v1',\n",
       " 'chrUn_KI270310v1',\n",
       " 'chrUn_KI270316v1',\n",
       " 'chrUn_KI270315v1',\n",
       " 'chrUn_KI270312v1',\n",
       " 'chrUn_KI270311v1',\n",
       " 'chrUn_KI270317v1',\n",
       " 'chrUn_KI270412v1',\n",
       " 'chrUn_KI270411v1',\n",
       " 'chrUn_KI270414v1',\n",
       " 'chrUn_KI270419v1',\n",
       " 'chrUn_KI270418v1',\n",
       " 'chrUn_KI270420v1',\n",
       " 'chrUn_KI270424v1',\n",
       " 'chrUn_KI270417v1',\n",
       " 'chrUn_KI270422v1',\n",
       " 'chrUn_KI270423v1',\n",
       " 'chrUn_KI270425v1',\n",
       " 'chrUn_KI270429v1',\n",
       " 'chrUn_KI270442v1',\n",
       " 'chrUn_KI270466v1',\n",
       " 'chrUn_KI270465v1',\n",
       " 'chrUn_KI270467v1',\n",
       " 'chrUn_KI270435v1',\n",
       " 'chrUn_KI270438v1',\n",
       " 'chrUn_KI270468v1',\n",
       " 'chrUn_KI270510v1',\n",
       " 'chrUn_KI270509v1',\n",
       " 'chrUn_KI270518v1',\n",
       " 'chrUn_KI270508v1',\n",
       " 'chrUn_KI270516v1',\n",
       " 'chrUn_KI270512v1',\n",
       " 'chrUn_KI270519v1',\n",
       " 'chrUn_KI270522v1',\n",
       " 'chrUn_KI270511v1',\n",
       " 'chrUn_KI270515v1',\n",
       " 'chrUn_KI270507v1',\n",
       " 'chrUn_KI270517v1',\n",
       " 'chrUn_KI270529v1',\n",
       " 'chrUn_KI270528v1',\n",
       " 'chrUn_KI270530v1',\n",
       " 'chrUn_KI270539v1',\n",
       " 'chrUn_KI270538v1',\n",
       " 'chrUn_KI270544v1',\n",
       " 'chrUn_KI270548v1',\n",
       " 'chrUn_KI270583v1',\n",
       " 'chrUn_KI270587v1',\n",
       " 'chrUn_KI270580v1',\n",
       " 'chrUn_KI270581v1',\n",
       " 'chrUn_KI270579v1',\n",
       " 'chrUn_KI270589v1',\n",
       " 'chrUn_KI270590v1',\n",
       " 'chrUn_KI270584v1',\n",
       " 'chrUn_KI270582v1',\n",
       " 'chrUn_KI270588v1',\n",
       " 'chrUn_KI270593v1',\n",
       " 'chrUn_KI270591v1',\n",
       " 'chrUn_KI270330v1',\n",
       " 'chrUn_KI270329v1',\n",
       " 'chrUn_KI270334v1',\n",
       " 'chrUn_KI270333v1',\n",
       " 'chrUn_KI270335v1',\n",
       " 'chrUn_KI270338v1',\n",
       " 'chrUn_KI270340v1',\n",
       " 'chrUn_KI270336v1',\n",
       " 'chrUn_KI270337v1',\n",
       " 'chrUn_KI270363v1',\n",
       " 'chrUn_KI270364v1',\n",
       " 'chrUn_KI270362v1',\n",
       " 'chrUn_KI270366v1',\n",
       " 'chrUn_KI270378v1',\n",
       " 'chrUn_KI270379v1',\n",
       " 'chrUn_KI270389v1',\n",
       " 'chrUn_KI270390v1',\n",
       " 'chrUn_KI270387v1',\n",
       " 'chrUn_KI270395v1',\n",
       " 'chrUn_KI270396v1',\n",
       " 'chrUn_KI270388v1',\n",
       " 'chrUn_KI270394v1',\n",
       " 'chrUn_KI270386v1',\n",
       " 'chrUn_KI270391v1',\n",
       " 'chrUn_KI270383v1',\n",
       " 'chrUn_KI270393v1',\n",
       " 'chrUn_KI270384v1',\n",
       " 'chrUn_KI270392v1',\n",
       " 'chrUn_KI270381v1',\n",
       " 'chrUn_KI270385v1',\n",
       " 'chrUn_KI270382v1',\n",
       " 'chrUn_KI270376v1',\n",
       " 'chrUn_KI270374v1',\n",
       " 'chrUn_KI270372v1',\n",
       " 'chrUn_KI270373v1',\n",
       " 'chrUn_KI270375v1',\n",
       " 'chrUn_KI270371v1',\n",
       " 'chrUn_KI270448v1',\n",
       " 'chrUn_KI270521v1',\n",
       " 'chrUn_GL000195v1',\n",
       " 'chrUn_GL000219v1',\n",
       " 'chrUn_GL000220v1',\n",
       " 'chrUn_GL000224v1',\n",
       " 'chrUn_KI270741v1',\n",
       " 'chrUn_GL000226v1',\n",
       " 'chrUn_GL000213v1',\n",
       " 'chrUn_KI270743v1',\n",
       " 'chrUn_KI270744v1',\n",
       " 'chrUn_KI270745v1',\n",
       " 'chrUn_KI270746v1',\n",
       " 'chrUn_KI270747v1',\n",
       " 'chrUn_KI270748v1',\n",
       " 'chrUn_KI270749v1',\n",
       " 'chrUn_KI270750v1',\n",
       " 'chrUn_KI270751v1',\n",
       " 'chrUn_KI270752v1',\n",
       " 'chrUn_KI270753v1',\n",
       " 'chrUn_KI270754v1',\n",
       " 'chrUn_KI270755v1',\n",
       " 'chrUn_KI270756v1',\n",
       " 'chrUn_KI270757v1',\n",
       " 'chrUn_GL000214v1',\n",
       " 'chrUn_KI270742v1',\n",
       " 'chrUn_GL000216v2',\n",
       " 'chrUn_GL000218v1',\n",
       " 'chrX',\n",
       " 'chrY',\n",
       " 'chrY_KI270740v1_random']"
      ]
     },
     "execution_count": 16,
     "metadata": {},
     "output_type": "execute_result"
    }
   ],
   "source": [
    "hg38 = read_contigs(r\"D:\\Genomes\\Human\\hg38.fa\")\n",
    "[c.name for c in hg38]"
   ]
  },
  {
   "cell_type": "code",
   "execution_count": 18,
   "metadata": {
    "collapsed": false
   },
   "outputs": [
    {
     "data": {
      "text/plain": [
       "'chr1 chr10 chr11 chr12 chr13 chr14 chr15 chr16 chr17 chr18 chr19 chr2 chr20 chr21 chr22 chr3 chr4 chr5 chr6 chr7 chr8 chr9 chrM chrX chrY'"
      ]
     },
     "execution_count": 18,
     "metadata": {},
     "output_type": "execute_result"
    }
   ],
   "source": [
    "chrom = [c.name for c in hg38 if len(c.name) < 6]\n",
    "' '.join(chrom)"
   ]
  },
  {
   "cell_type": "code",
   "execution_count": 21,
   "metadata": {
    "collapsed": false,
    "scrolled": false
   },
   "outputs": [
    {
     "name": "stdout",
     "output_type": "stream",
     "text": [
      "Done writing  25 contigs and 3,088,286,401bp\n"
     ]
    }
   ],
   "source": [
    "hg38_chrom = [c for c in hg38 if len(c.name) < 6]\n",
    "for c in hg38_chrom:\n",
    "    c.name = c.name.replace('chrM', 'chrMT').replace('chr', '')\n",
    "write_contigs_to_file(r\"D:\\Genomes\\Human\\hg38_chromosome.fa\", hg38_chrom)"
   ]
  },
  {
   "cell_type": "code",
   "execution_count": 22,
   "metadata": {
    "collapsed": false,
    "scrolled": false
   },
   "outputs": [
    {
     "data": {
      "text/plain": [
       "['1',\n",
       " '10',\n",
       " '11',\n",
       " '12',\n",
       " '13',\n",
       " '14',\n",
       " '15',\n",
       " '16',\n",
       " '17',\n",
       " '18',\n",
       " '19',\n",
       " '2',\n",
       " '20',\n",
       " '21',\n",
       " '22',\n",
       " '3',\n",
       " '4',\n",
       " '5',\n",
       " '6',\n",
       " '7',\n",
       " '8',\n",
       " '9',\n",
       " 'MT',\n",
       " 'X',\n",
       " 'Y']"
      ]
     },
     "execution_count": 22,
     "metadata": {},
     "output_type": "execute_result"
    }
   ],
   "source": [
    "[c.name for c in hg38_chrom]"
   ]
  },
  {
   "cell_type": "code",
   "execution_count": 12,
   "metadata": {
    "collapsed": true
   },
   "outputs": [],
   "source": [
    "from DNASkittleUtils.Contigs import write_contigs_to_file, read_contigs, Contig\n",
    "alignments = read_contigs(r\"D:\\josiah\\Documents\\Research\\Thesis - Genome Symmetry\\DNA_Duplications\\Ash_Proteome\\Results_Jun25\\Orthologues_Jun26\\Alignments\\OG0028361.fa\")"
   ]
  },
  {
   "cell_type": "code",
   "execution_count": 13,
   "metadata": {
    "collapsed": false
   },
   "outputs": [
    {
     "data": {
      "text/plain": [
       "2"
      ]
     },
     "execution_count": 13,
     "metadata": {},
     "output_type": "execute_result"
    }
   ],
   "source": [
    "len(alignments)"
   ]
  },
  {
   "cell_type": "code",
   "execution_count": 14,
   "metadata": {
    "collapsed": false
   },
   "outputs": [
    {
     "data": {
      "text/plain": [
       "['Slycopersicum_Solyc07g020850.1.1', 'Slycopersicum_Solyc07g020840.1.1']"
      ]
     },
     "execution_count": 14,
     "metadata": {},
     "output_type": "execute_result"
    }
   ],
   "source": [
    "[a.name for a in alignments]"
   ]
  },
  {
   "cell_type": "code",
   "execution_count": null,
   "metadata": {
    "collapsed": true
   },
   "outputs": [],
   "source": [
    "28361  # number of \"OG\" in Orthologues alignment"
   ]
  },
  {
   "cell_type": "code",
   "execution_count": null,
   "metadata": {
    "collapsed": true
   },
   "outputs": [],
   "source": [
    "24304  # number of gene trees Results_Jun25/Orthologues_Jul04_2/Gene_Trees"
   ]
  },
  {
   "cell_type": "code",
   "execution_count": null,
   "metadata": {
    "collapsed": true
   },
   "outputs": [],
   "source": [
    "9906 # number of rows in Duplications.csv mentions 24304 OGs  Results_Jun25/Orthologues_Jul04_2"
   ]
  },
  {
   "cell_type": "code",
   "execution_count": 7,
   "metadata": {
    "collapsed": false
   },
   "outputs": [
    {
     "data": {
      "text/plain": [
       "28372"
      ]
     },
     "execution_count": 7,
     "metadata": {},
     "output_type": "execute_result"
    }
   ],
   "source": [
    "files = !dir Ash_Proteome\\Results_Jun25\\Orthologues_Jun26\\Alignments\n",
    "len(files)"
   ]
  },
  {
   "cell_type": "code",
   "execution_count": 8,
   "metadata": {
    "collapsed": false
   },
   "outputs": [
    {
     "data": {
      "text/plain": [
       "[' Volume in drive D is Data',\n",
       " ' Volume Serial Number is 7C71-7E80',\n",
       " '',\n",
       " ' Directory of D:\\\\josiah\\\\Documents\\\\Research\\\\Thesis - Genome Symmetry\\\\DNA_Duplications\\\\Ash_Proteome\\\\Results_Jun25\\\\Orthologues_Jun26\\\\Alignments',\n",
       " '',\n",
       " '2018-08-28  10:03 AM    <DIR>          .',\n",
       " '2018-08-28  10:03 AM    <DIR>          ..',\n",
       " '2018-06-27  01:14 AM         1,996,588 OG0000000.fa',\n",
       " '2018-06-27  01:14 AM           657,826 OG0000001.fa',\n",
       " '2018-06-27  01:14 AM           183,682 OG0000002.fa',\n",
       " '2018-06-27  01:14 AM         4,273,082 OG0000003.fa',\n",
       " '2018-06-27  01:14 AM           117,855 OG0000004.fa',\n",
       " '2018-06-27  01:14 AM           759,679 OG0000005.fa',\n",
       " '2018-06-27  01:14 AM           650,877 OG0000006.fa',\n",
       " '2018-06-27  01:14 AM           641,243 OG0000007.fa',\n",
       " '2018-06-27  01:14 AM         1,205,434 OG0000008.fa',\n",
       " '2018-06-27  01:14 AM            82,935 OG0000009.fa',\n",
       " '2018-06-27  01:14 AM         2,349,602 OG0000010.fa',\n",
       " '2018-06-27  01:14 AM           352,585 OG0000011.fa',\n",
       " '2018-06-27  01:14 AM           751,467 OG0000012.fa',\n",
       " '2018-06-27  01:14 AM           199,658 OG0000013.fa',\n",
       " '2018-06-27  01:14 AM           131,079 OG0000014.fa',\n",
       " '2018-06-27  01:14 AM           255,365 OG0000015.fa',\n",
       " '2018-06-27  01:14 AM           275,634 OG0000016.fa',\n",
       " '2018-06-27  01:14 AM           191,194 OG0000017.fa',\n",
       " '2018-06-27  01:14 AM         1,731,800 OG0000018.fa',\n",
       " '2018-06-27  01:14 AM           266,850 OG0000019.fa',\n",
       " '2018-06-27  01:14 AM           163,402 OG0000020.fa',\n",
       " '2018-06-27  01:14 AM           112,912 OG0000021.fa',\n",
       " '2018-06-27  01:14 AM           702,367 OG0000022.fa',\n",
       " '2018-06-27  01:14 AM           628,811 OG0000023.fa',\n",
       " '2018-06-27  01:14 AM            95,464 OG0000024.fa',\n",
       " '2018-06-27  01:14 AM         2,508,733 OG0000025.fa',\n",
       " '2018-06-27  01:14 AM           214,607 OG0000026.fa',\n",
       " '2018-06-27  01:14 AM           170,621 OG0000027.fa',\n",
       " '2018-06-27  01:14 AM           315,605 OG0000028.fa',\n",
       " '2018-06-27  01:14 AM           108,094 OG0000029.fa',\n",
       " '2018-06-27  01:14 AM           715,760 OG0000030.fa',\n",
       " '2018-06-27  01:14 AM           760,570 OG0000031.fa',\n",
       " '2018-06-27  01:14 AM         1,105,128 OG0000032.fa',\n",
       " '2018-06-27  01:14 AM           236,985 OG0000033.fa',\n",
       " '2018-06-27  01:14 AM           259,824 OG0000034.fa',\n",
       " '2018-06-27  01:14 AM           118,101 OG0000035.fa',\n",
       " '2018-06-27  01:14 AM           160,227 OG0000036.fa',\n",
       " '2018-06-27  01:14 AM           188,403 OG0000037.fa',\n",
       " '2018-06-27  01:14 AM           222,839 OG0000038.fa',\n",
       " '2018-06-27  01:14 AM           457,746 OG0000039.fa',\n",
       " '2018-06-27  01:14 AM            96,939 OG0000040.fa',\n",
       " '2018-06-27  01:14 AM           571,800 OG0000041.fa',\n",
       " '2018-06-27  01:14 AM           103,105 OG0000042.fa',\n",
       " '2018-06-27  01:14 AM           453,108 OG0000043.fa',\n",
       " '2018-06-27  01:14 AM           102,852 OG0000044.fa',\n",
       " '2018-06-27  01:14 AM           334,572 OG0000045.fa',\n",
       " '2018-06-27  01:14 AM            97,029 OG0000046.fa',\n",
       " '2018-06-27  01:14 AM           177,421 OG0000047.fa',\n",
       " '2018-06-27  01:14 AM           507,831 OG0000048.fa',\n",
       " '2018-06-27  01:14 AM           548,316 OG0000049.fa',\n",
       " '2018-06-27  01:14 AM           442,787 OG0000050.fa',\n",
       " '2018-06-27  01:14 AM           225,585 OG0000051.fa',\n",
       " '2018-06-27  01:14 AM           753,769 OG0000052.fa',\n",
       " '2018-06-27  01:14 AM           456,119 OG0000053.fa',\n",
       " '2018-06-27  01:14 AM           203,756 OG0000054.fa',\n",
       " '2018-06-27  01:14 AM           154,548 OG0000055.fa',\n",
       " '2018-06-27  01:14 AM           820,514 OG0000056.fa',\n",
       " '2018-06-27  01:14 AM           581,906 OG0000057.fa',\n",
       " '2018-06-27  01:14 AM           122,468 OG0000058.fa',\n",
       " '2018-06-27  01:14 AM           103,790 OG0000059.fa',\n",
       " '2018-06-27  01:14 AM           534,556 OG0000060.fa',\n",
       " '2018-06-27  01:14 AM           410,029 OG0000061.fa',\n",
       " '2018-06-27  01:14 AM           793,751 OG0000062.fa',\n",
       " '2018-06-27  01:14 AM           194,267 OG0000063.fa',\n",
       " '2018-06-27  01:14 AM         1,028,600 OG0000064.fa',\n",
       " '2018-06-27  01:14 AM           146,579 OG0000065.fa',\n",
       " '2018-06-27  01:14 AM           215,737 OG0000066.fa',\n",
       " '2018-06-27  01:14 AM            90,254 OG0000067.fa',\n",
       " '2018-06-27  01:14 AM           210,613 OG0000068.fa',\n",
       " '2018-06-27  01:14 AM           295,923 OG0000069.fa',\n",
       " '2018-06-27  01:14 AM           104,656 OG0000070.fa',\n",
       " '2018-06-27  01:14 AM           139,435 OG0000071.fa',\n",
       " '2018-06-27  01:14 AM           129,791 OG0000072.fa',\n",
       " '2018-06-27  01:14 AM           193,729 OG0000073.fa',\n",
       " '2018-06-27  01:14 AM           137,625 OG0000074.fa',\n",
       " '2018-06-27  01:14 AM           844,143 OG0000075.fa',\n",
       " '2018-06-27  01:14 AM           161,243 OG0000076.fa',\n",
       " '2018-06-27  01:14 AM           152,826 OG0000077.fa',\n",
       " '2018-06-27  01:14 AM           132,334 OG0000078.fa',\n",
       " '2018-06-27  01:14 AM           369,981 OG0000079.fa',\n",
       " '2018-06-27  01:14 AM           128,717 OG0000080.fa',\n",
       " '2018-06-27  01:14 AM           232,492 OG0000081.fa',\n",
       " '2018-06-27  01:14 AM           113,469 OG0000082.fa',\n",
       " '2018-06-27  01:14 AM           244,652 OG0000083.fa',\n",
       " '2018-06-27  01:14 AM           120,711 OG0000084.fa',\n",
       " '2018-06-27  01:14 AM           166,234 OG0000085.fa',\n",
       " '2018-06-27  01:14 AM           846,878 OG0000086.fa',\n",
       " '2018-06-27  01:14 AM            37,973 OG0000087.fa',\n",
       " '2018-06-27  01:14 AM           249,825 OG0000088.fa',\n",
       " '2018-06-27  01:14 AM           111,841 OG0000089.fa',\n",
       " '2018-06-27  01:14 AM           191,235 OG0000090.fa',\n",
       " '2018-06-27  01:14 AM            70,483 OG0000091.fa',\n",
       " '2018-06-27  01:14 AM           207,313 OG0000092.fa']"
      ]
     },
     "execution_count": 8,
     "metadata": {},
     "output_type": "execute_result"
    }
   ],
   "source": [
    "files[:100]"
   ]
  }
 ],
 "metadata": {
  "kernelspec": {
   "display_name": "Python 3",
   "language": "python",
   "name": "python3"
  },
  "language_info": {
   "codemirror_mode": {
    "name": "ipython",
    "version": 3
   },
   "file_extension": ".py",
   "mimetype": "text/x-python",
   "name": "python",
   "nbconvert_exporter": "python",
   "pygments_lexer": "ipython3",
   "version": "3.4.3"
  }
 },
 "nbformat": 4,
 "nbformat_minor": 1
}
