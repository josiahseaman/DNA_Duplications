{
 "cells": [
  {
   "cell_type": "code",
   "execution_count": 12,
   "metadata": {
    "collapsed": true
   },
   "outputs": [],
   "source": [
    "from DNASkittleUtils.Contigs import *\n",
    "from DNASkittleUtils.DDVUtils import pp"
   ]
  },
  {
   "cell_type": "code",
   "execution_count": 2,
   "metadata": {
    "collapsed": false
   },
   "outputs": [],
   "source": [
    "contigs = read_contigs(r\"D:\\josiah\\Documents\\Research\\Thesis - Genome Symmetry\\Green_Ash_Annotation_Transfer\\fraxinus_pennsylvanica_20Feb2018_lPmM4_psuedochromosomes__gold_standard.fasta\")"
   ]
  },
  {
   "cell_type": "code",
   "execution_count": 3,
   "metadata": {
    "collapsed": true
   },
   "outputs": [],
   "source": [
    "other_contigs = read_contigs(r\"D:\\josiah\\Documents\\Research\\Thesis - Genome Symmetry\\Green_Ash_Annotation_Transfer\\fraxinus_pennsylvanica_20Feb2018_lPmM4_psuedochromosomes.fasta\")"
   ]
  },
  {
   "cell_type": "code",
   "execution_count": 4,
   "metadata": {
    "collapsed": false
   },
   "outputs": [
    {
     "data": {
      "text/plain": [
       "(23, 23)"
      ]
     },
     "execution_count": 4,
     "metadata": {},
     "output_type": "execute_result"
    }
   ],
   "source": [
    "len(contigs), len(other_contigs)"
   ]
  },
  {
   "cell_type": "code",
   "execution_count": 5,
   "metadata": {
    "collapsed": false
   },
   "outputs": [
    {
     "data": {
      "text/plain": [
       "[True,\n",
       " True,\n",
       " True,\n",
       " True,\n",
       " True,\n",
       " True,\n",
       " True,\n",
       " True,\n",
       " True,\n",
       " True,\n",
       " True,\n",
       " True,\n",
       " True,\n",
       " True,\n",
       " True,\n",
       " True,\n",
       " True,\n",
       " True,\n",
       " True,\n",
       " True,\n",
       " True,\n",
       " True,\n",
       " True]"
      ]
     },
     "execution_count": 5,
     "metadata": {},
     "output_type": "execute_result"
    }
   ],
   "source": [
    "paired = zip(contigs, other_contigs)\n",
    "[len(a.seq) == len(b.seq) for a,b in paired]"
   ]
  },
  {
   "cell_type": "code",
   "execution_count": 3,
   "metadata": {
    "collapsed": false
   },
   "outputs": [],
   "source": [
    "source = read_contigs(\"fraxinus_pennsylvanica_20Feb2018_lPmM4.fasta\")"
   ]
  },
  {
   "cell_type": "code",
   "execution_count": 7,
   "metadata": {
    "collapsed": false
   },
   "outputs": [],
   "source": [
    "def list_to_dict(contigs):\n",
    "    return {contig.name: contig for contig in contigs}\n",
    "source = list_to_dict(source)"
   ]
  },
  {
   "cell_type": "code",
   "execution_count": 9,
   "metadata": {
    "collapsed": false
   },
   "outputs": [
    {
     "data": {
      "text/plain": [
       "20209485"
      ]
     },
     "execution_count": 9,
     "metadata": {},
     "output_type": "execute_result"
    }
   ],
   "source": [
    "len(source[\"Scaffold_6;HRSCAF=123\"].seq)"
   ]
  },
  {
   "cell_type": "code",
   "execution_count": 13,
   "metadata": {
    "collapsed": false
   },
   "outputs": [
    {
     "data": {
      "text/plain": [
       "'1,227,901'"
      ]
     },
     "execution_count": 13,
     "metadata": {},
     "output_type": "execute_result"
    }
   ],
   "source": [
    "pp(20209485 - 18981584)"
   ]
  },
  {
   "cell_type": "markdown",
   "metadata": {},
   "source": [
    "### Removing 'gene' annotations from file"
   ]
  },
  {
   "cell_type": "code",
   "execution_count": null,
   "metadata": {
    "collapsed": true
   },
   "outputs": [],
   "source": [
    "with open('Green_Ash_Annotation_Transfer/BRAKER_RNASeqandEA_augustus_060618.hints.hasevidenceMANUAL.gff', 'r') as infile:\n",
    "    lines = [line for line in infile.readlines() if 'AUGUSTUS\tgene' not in line]\n",
    "    with open('Green_Ash_Annotation_Transfer/scrubbed_BRAKER_RNASeqandEA_augustus_060618.hints.hasevidenceMANUAL.gff', 'w') as outfile:\n",
    "        outfile.writelines(lines[:34])  # header\n",
    "        outfile.writelines([line for line in lines if not line.startswith('#')])      "
   ]
  },
  {
   "cell_type": "markdown",
   "metadata": {},
   "source": [
    "# [Flo Documentation](https://github.com/wurmlab/flo)\n",
    "A common problem encountered is that 1st column of GFF file doesn't match chromosome, or scaffold, or contig id in the source assembly. In this case liftOver will generate an empty output file. flo stops at this point. You can fix the GFF file and resume flo by running the above command."
   ]
  },
  {
   "cell_type": "code",
   "execution_count": 14,
   "metadata": {
    "collapsed": false
   },
   "outputs": [
    {
     "data": {
      "text/plain": [
       "1048"
      ]
     },
     "execution_count": 14,
     "metadata": {},
     "output_type": "execute_result"
    }
   ],
   "source": [
    "anno_names = set()\n",
    "with open('scrubbed_BRAKER_RNASeqandEA_augustus_060618.hints.hasevidenceMANUAL.gff', 'r') as gff:\n",
    "    lines = [line for line in gff.readlines() if not line.startswith('#')]\n",
    "    for line in lines:\n",
    "        cols = line.split('\\t')\n",
    "        anno_names.add(cols[0])\n",
    "len(anno_names)"
   ]
  },
  {
   "cell_type": "code",
   "execution_count": 15,
   "metadata": {
    "collapsed": false
   },
   "outputs": [
    {
     "data": {
      "text/plain": [
       "[]"
      ]
     },
     "execution_count": 15,
     "metadata": {},
     "output_type": "execute_result"
    }
   ],
   "source": [
    "[name for name in anno_names if name in source]"
   ]
  },
  {
   "cell_type": "code",
   "execution_count": 16,
   "metadata": {
    "collapsed": false
   },
   "outputs": [
    {
     "data": {
      "text/plain": [
       "['Scaffold_184327;HRSCAF=185158',\n",
       " 'Scaffold_138191;HRSCAF=139022',\n",
       " 'Scaffold_176308;HRSCAF=177139',\n",
       " 'Scaffold_227188;HRSCAF=228019',\n",
       " 'Scaffold_14934;HRSCAF=15765',\n",
       " 'Scaffold_95779;HRSCAF=96610',\n",
       " 'Scaffold_188136;HRSCAF=188967',\n",
       " 'Scaffold_200501;HRSCAF=201332',\n",
       " 'Scaffold_156644;HRSCAF=157475',\n",
       " 'Scaffold_116445;HRSCAF=117276',\n",
       " 'Scaffold_23491;HRSCAF=24322',\n",
       " 'Scaffold_139451;HRSCAF=140282',\n",
       " 'Scaffold_165015;HRSCAF=165846',\n",
       " 'Scaffold_165542;HRSCAF=166373',\n",
       " 'Scaffold_88360;HRSCAF=89191',\n",
       " 'Scaffold_65459;HRSCAF=66290',\n",
       " 'Scaffold_168971;HRSCAF=169802',\n",
       " 'Scaffold_67624;HRSCAF=68455',\n",
       " 'Scaffold_92141;HRSCAF=92972',\n",
       " 'Scaffold_236355;HRSCAF=237186']"
      ]
     },
     "execution_count": 16,
     "metadata": {},
     "output_type": "execute_result"
    }
   ],
   "source": [
    "list(source.keys())[:20]"
   ]
  },
  {
   "cell_type": "markdown",
   "metadata": {},
   "source": [
    "**Conclusion** HRSCAF needs to be scrubbed from the FASTA because it doesn't match the annotation"
   ]
  },
  {
   "cell_type": "code",
   "execution_count": 17,
   "metadata": {
    "collapsed": true
   },
   "outputs": [],
   "source": [
    "assert all([';' in contig.name for contig in source.values()])"
   ]
  },
  {
   "cell_type": "code",
   "execution_count": 18,
   "metadata": {
    "collapsed": true
   },
   "outputs": [],
   "source": [
    "for value in source.values():\n",
    "    value.name = value.name.split(';')[0]"
   ]
  },
  {
   "cell_type": "code",
   "execution_count": 20,
   "metadata": {
    "collapsed": false
   },
   "outputs": [
    {
     "data": {
      "text/plain": [
       "['Scaffold_184327',\n",
       " 'Scaffold_138191',\n",
       " 'Scaffold_176308',\n",
       " 'Scaffold_227188',\n",
       " 'Scaffold_14934',\n",
       " 'Scaffold_95779',\n",
       " 'Scaffold_188136',\n",
       " 'Scaffold_200501',\n",
       " 'Scaffold_156644',\n",
       " 'Scaffold_116445',\n",
       " 'Scaffold_23491',\n",
       " 'Scaffold_139451',\n",
       " 'Scaffold_165015',\n",
       " 'Scaffold_165542',\n",
       " 'Scaffold_88360',\n",
       " 'Scaffold_65459',\n",
       " 'Scaffold_168971',\n",
       " 'Scaffold_67624',\n",
       " 'Scaffold_92141',\n",
       " 'Scaffold_236355']"
      ]
     },
     "execution_count": 20,
     "metadata": {},
     "output_type": "execute_result"
    }
   ],
   "source": [
    "[contig.name for contig in source.values()][:20]"
   ]
  },
  {
   "cell_type": "code",
   "execution_count": 21,
   "metadata": {
    "collapsed": false
   },
   "outputs": [
    {
     "name": "stdout",
     "output_type": "stream",
     "text": [
      "Done writing  243852 contigs and 848,973,687bp\n"
     ]
    }
   ],
   "source": [
    "write_contigs_to_file(\"fraxinus_pennsylvanica_20Feb2018_lPmM4_no_HRSCAF.fa\", source.values())"
   ]
  },
  {
   "cell_type": "code",
   "execution_count": null,
   "metadata": {
    "collapsed": true
   },
   "outputs": [],
   "source": []
  }
 ],
 "metadata": {
  "kernelspec": {
   "display_name": "Python 3",
   "language": "python",
   "name": "python3"
  },
  "language_info": {
   "codemirror_mode": {
    "name": "ipython",
    "version": 3
   },
   "file_extension": ".py",
   "mimetype": "text/x-python",
   "name": "python",
   "nbconvert_exporter": "python",
   "pygments_lexer": "ipython3",
   "version": "3.4.3"
  }
 },
 "nbformat": 4,
 "nbformat_minor": 1
}
