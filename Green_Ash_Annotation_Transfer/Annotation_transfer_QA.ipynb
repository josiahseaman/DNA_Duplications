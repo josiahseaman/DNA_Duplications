{
 "cells": [
  {
   "cell_type": "code",
   "execution_count": 1,
   "metadata": {
    "collapsed": true
   },
   "outputs": [],
   "source": [
    "from DNASkittleUtils.Contigs import *\n",
    "from DNASkittleUtils.DDVUtils import pp\n",
    "from shutil import copy"
   ]
  },
  {
   "cell_type": "code",
   "execution_count": 3,
   "metadata": {
    "collapsed": false
   },
   "outputs": [],
   "source": [
    "contigs = read_contigs(r\"D:\\josiah\\Documents\\Research\\Thesis - Genome Symmetry\\DNA_Duplications\\Green_Ash_Annotation_Transfer\\fraxinus_pennsylvanica_20Feb2018_lPmM4_psuedochromosomes__gold_standard.fasta\")"
   ]
  },
  {
   "cell_type": "code",
   "execution_count": 98,
   "metadata": {
    "collapsed": false
   },
   "outputs": [
    {
     "data": {
      "text/plain": [
       "[('Chr01', 56547140),\n",
       " ('Chr02', 44747177),\n",
       " ('Chr03', 35495138),\n",
       " ('Chr04', 37650951),\n",
       " ('Chr05', 40543111),\n",
       " ('Chr06', 33221578),\n",
       " ('Chr07', 30837396),\n",
       " ('Chr08', 31844244),\n",
       " ('Chr09', 34315355),\n",
       " ('Chr10', 33661437),\n",
       " ('Chr11', 30912502),\n",
       " ('Chr12', 35280915),\n",
       " ('Chr13', 35000339),\n",
       " ('Chr14', 27471413),\n",
       " ('Chr15', 32063413),\n",
       " ('Chr16', 26444360),\n",
       " ('Chr17', 33065801),\n",
       " ('Chr18', 27868735),\n",
       " ('Chr19', 25977958),\n",
       " ('Chr20', 22152616),\n",
       " ('Chr21', 27325502),\n",
       " ('Chr22', 25839949),\n",
       " ('Chr23', 26798730)]"
      ]
     },
     "execution_count": 98,
     "metadata": {},
     "output_type": "execute_result"
    }
   ],
   "source": [
    "[(b.name, len(b.seq)) for b in contigs]"
   ]
  },
  {
   "cell_type": "code",
   "execution_count": 6,
   "metadata": {
    "collapsed": false
   },
   "outputs": [],
   "source": [
    "source = read_contigs(\"fraxinus_pennsylvanica_20Feb2018_lPmM4.fasta\")"
   ]
  },
  {
   "cell_type": "code",
   "execution_count": 3,
   "metadata": {
    "collapsed": false
   },
   "outputs": [
    {
     "ename": "NameError",
     "evalue": "name 'source' is not defined",
     "output_type": "error",
     "traceback": [
      "\u001b[0;31m---------------------------------------------------------------------------\u001b[0m",
      "\u001b[0;31mNameError\u001b[0m                                 Traceback (most recent call last)",
      "\u001b[0;32m<ipython-input-3-fbf3b42fffc1>\u001b[0m in \u001b[0;36m<module>\u001b[0;34m()\u001b[0m\n\u001b[1;32m      1\u001b[0m \u001b[1;32mdef\u001b[0m \u001b[0mlist_to_dict\u001b[0m\u001b[1;33m(\u001b[0m\u001b[0mcontigs\u001b[0m\u001b[1;33m)\u001b[0m\u001b[1;33m:\u001b[0m\u001b[1;33m\u001b[0m\u001b[0m\n\u001b[1;32m      2\u001b[0m     \u001b[1;32mreturn\u001b[0m \u001b[1;33m{\u001b[0m\u001b[0mcontig\u001b[0m\u001b[1;33m.\u001b[0m\u001b[0mname\u001b[0m\u001b[1;33m:\u001b[0m \u001b[0mcontig\u001b[0m \u001b[1;32mfor\u001b[0m \u001b[0mcontig\u001b[0m \u001b[1;32min\u001b[0m \u001b[0mcontigs\u001b[0m\u001b[1;33m}\u001b[0m\u001b[1;33m\u001b[0m\u001b[0m\n\u001b[0;32m----> 3\u001b[0;31m \u001b[0msource\u001b[0m \u001b[1;33m=\u001b[0m \u001b[0mlist_to_dict\u001b[0m\u001b[1;33m(\u001b[0m\u001b[0msource\u001b[0m\u001b[1;33m)\u001b[0m\u001b[1;33m\u001b[0m\u001b[0m\n\u001b[0m",
      "\u001b[0;31mNameError\u001b[0m: name 'source' is not defined"
     ]
    }
   ],
   "source": [
    "def list_to_dict(contigs):\n",
    "    return {contig.name: contig for contig in contigs}\n",
    "source = list_to_dict(source)"
   ]
  },
  {
   "cell_type": "code",
   "execution_count": 13,
   "metadata": {
    "collapsed": true
   },
   "outputs": [],
   "source": [
    "scaffolds = {key.split(';')[0]: value for key, value in source.items()}"
   ]
  },
  {
   "cell_type": "code",
   "execution_count": 14,
   "metadata": {
    "collapsed": false
   },
   "outputs": [
    {
     "data": {
      "text/plain": [
       "< \"Scaffold_243852;HRSCAF=245055\" 9450333 nucleotides>"
      ]
     },
     "execution_count": 14,
     "metadata": {},
     "output_type": "execute_result"
    }
   ],
   "source": [
    "scaffolds['Scaffold_243852']"
   ]
  },
  {
   "cell_type": "code",
   "execution_count": 15,
   "metadata": {
    "collapsed": false
   },
   "outputs": [
    {
     "data": {
      "text/plain": [
       "< \"Scaffold_1;HRSCAF=23\" 61578 nucleotides>"
      ]
     },
     "execution_count": 15,
     "metadata": {},
     "output_type": "execute_result"
    }
   ],
   "source": [
    "scaffolds['Scaffold_1']"
   ]
  },
  {
   "cell_type": "code",
   "execution_count": 13,
   "metadata": {
    "collapsed": false
   },
   "outputs": [
    {
     "data": {
      "text/plain": [
       "'1,227,901'"
      ]
     },
     "execution_count": 13,
     "metadata": {},
     "output_type": "execute_result"
    }
   ],
   "source": [
    "pp(20209485 - 18981584)"
   ]
  },
  {
   "cell_type": "markdown",
   "metadata": {},
   "source": [
    "# Removing HRSCAF from scaffold names to match annotation"
   ]
  },
  {
   "cell_type": "markdown",
   "metadata": {},
   "source": [
    "# [Flo Documentation](https://github.com/wurmlab/flo)\n",
    "A common problem encountered is that 1st column of GFF file doesn't match chromosome, or scaffold, or contig id in the source assembly. In this case liftOver will generate an empty output file. flo stops at this point. You can fix the GFF file and resume flo by running the above command."
   ]
  },
  {
   "cell_type": "code",
   "execution_count": 14,
   "metadata": {
    "collapsed": false
   },
   "outputs": [
    {
     "data": {
      "text/plain": [
       "1048"
      ]
     },
     "execution_count": 14,
     "metadata": {},
     "output_type": "execute_result"
    }
   ],
   "source": [
    "anno_names = set()\n",
    "with open('scrubbed_BRAKER_RNASeqandEA_augustus_060618.hints.hasevidenceMANUAL.gff', 'r') as gff:\n",
    "    lines = [line for line in gff.readlines() if not line.startswith('#')]\n",
    "    for line in lines:\n",
    "        cols = line.split('\\t')\n",
    "        anno_names.add(cols[0])\n",
    "len(anno_names)"
   ]
  },
  {
   "cell_type": "code",
   "execution_count": 15,
   "metadata": {
    "collapsed": false
   },
   "outputs": [
    {
     "data": {
      "text/plain": [
       "[]"
      ]
     },
     "execution_count": 15,
     "metadata": {},
     "output_type": "execute_result"
    }
   ],
   "source": [
    "[name for name in anno_names if name in source]"
   ]
  },
  {
   "cell_type": "code",
   "execution_count": 16,
   "metadata": {
    "collapsed": false
   },
   "outputs": [
    {
     "data": {
      "text/plain": [
       "['Scaffold_184327;HRSCAF=185158',\n",
       " 'Scaffold_138191;HRSCAF=139022',\n",
       " 'Scaffold_176308;HRSCAF=177139',\n",
       " 'Scaffold_227188;HRSCAF=228019',\n",
       " 'Scaffold_14934;HRSCAF=15765',\n",
       " 'Scaffold_95779;HRSCAF=96610',\n",
       " 'Scaffold_188136;HRSCAF=188967',\n",
       " 'Scaffold_200501;HRSCAF=201332',\n",
       " 'Scaffold_156644;HRSCAF=157475',\n",
       " 'Scaffold_116445;HRSCAF=117276',\n",
       " 'Scaffold_23491;HRSCAF=24322',\n",
       " 'Scaffold_139451;HRSCAF=140282',\n",
       " 'Scaffold_165015;HRSCAF=165846',\n",
       " 'Scaffold_165542;HRSCAF=166373',\n",
       " 'Scaffold_88360;HRSCAF=89191',\n",
       " 'Scaffold_65459;HRSCAF=66290',\n",
       " 'Scaffold_168971;HRSCAF=169802',\n",
       " 'Scaffold_67624;HRSCAF=68455',\n",
       " 'Scaffold_92141;HRSCAF=92972',\n",
       " 'Scaffold_236355;HRSCAF=237186']"
      ]
     },
     "execution_count": 16,
     "metadata": {},
     "output_type": "execute_result"
    }
   ],
   "source": [
    "list(source.keys())[:20]"
   ]
  },
  {
   "cell_type": "markdown",
   "metadata": {},
   "source": [
    "**Conclusion** HRSCAF needs to be scrubbed from the FASTA because it doesn't match the annotation"
   ]
  },
  {
   "cell_type": "code",
   "execution_count": 17,
   "metadata": {
    "collapsed": true
   },
   "outputs": [],
   "source": [
    "assert all([';' in contig.name for contig in source.values()])"
   ]
  },
  {
   "cell_type": "code",
   "execution_count": 18,
   "metadata": {
    "collapsed": true
   },
   "outputs": [],
   "source": [
    "for value in source.values():\n",
    "    value.name = value.name.split(';')[0]"
   ]
  },
  {
   "cell_type": "code",
   "execution_count": 30,
   "metadata": {
    "collapsed": false
   },
   "outputs": [
    {
     "data": {
      "text/plain": [
       "['Scaffold_240933',\n",
       " 'Scaffold_71857',\n",
       " 'Scaffold_210416',\n",
       " 'Scaffold_192701',\n",
       " 'Scaffold_86126',\n",
       " 'Scaffold_135768',\n",
       " 'Scaffold_13552',\n",
       " 'Scaffold_241701',\n",
       " 'Scaffold_216990',\n",
       " 'Scaffold_53979',\n",
       " 'Scaffold_162245',\n",
       " 'Scaffold_25732',\n",
       " 'Scaffold_81533',\n",
       " 'Scaffold_156297',\n",
       " 'Scaffold_189298',\n",
       " 'Scaffold_60789',\n",
       " 'Scaffold_92615',\n",
       " 'Scaffold_117084',\n",
       " 'Scaffold_182084',\n",
       " 'Scaffold_5289']"
      ]
     },
     "execution_count": 30,
     "metadata": {},
     "output_type": "execute_result"
    }
   ],
   "source": [
    "[contig.name for contig in source.values()][:20]"
   ]
  },
  {
   "cell_type": "code",
   "execution_count": 21,
   "metadata": {
    "collapsed": false
   },
   "outputs": [
    {
     "name": "stdout",
     "output_type": "stream",
     "text": [
      "Done writing  243852 contigs and 848,973,687bp\n"
     ]
    }
   ],
   "source": [
    "write_contigs_to_file(\"fraxinus_pennsylvanica_20Feb2018_lPmM4_no_HRSCAF.fa\", source.values())"
   ]
  },
  {
   "cell_type": "markdown",
   "metadata": {},
   "source": [
    "# Combining lifted and unlifted from non-chromosome scaffolds"
   ]
  },
  {
   "cell_type": "code",
   "execution_count": null,
   "metadata": {
    "collapsed": true
   },
   "outputs": [],
   "source": [
    "mapped = set('Scaffold_6 Scaffold_243849 Scaffold_222 Scaffold_243850 Scaffold_243841 Scaffold_132 Scaffold_243846 Scaffold_84 Scaffold_243835 Scaffold_243844 Scaffold_243845 Scaffold_243837 Scaffold_243847 Scaffold_243843 Scaffold_243848 Scaffold_243852 Scaffold_243842 Scaffold_243851 Scaffold_695 Scaffold_243839 Scaffold_509 Scaffold_122 Scaffold_429 Scaffold_243836 Scaffold_19 Scaffold_2 Scaffold_3668 Scaffold_2026 Scaffold_291'.split())"
   ]
  },
  {
   "cell_type": "code",
   "execution_count": 51,
   "metadata": {
    "collapsed": true
   },
   "outputs": [],
   "source": [
    "from os.path import dirname, join"
   ]
  },
  {
   "cell_type": "code",
   "execution_count": 90,
   "metadata": {
    "collapsed": false
   },
   "outputs": [],
   "source": [
    "def check_all_mains_were_lifted(lifted_gff):\n",
    "    with open(lifted_gff, 'r') as infile:\n",
    "        mains = set([line.split('\\t')[0] for line in infile.readlines() if line.startswith('Chr')])\n",
    "    assert len(mains) == 23, len(mains)"
   ]
  },
  {
   "cell_type": "code",
   "execution_count": 97,
   "metadata": {
    "collapsed": false
   },
   "outputs": [],
   "source": [
    "def lines_without_comments(filepath):\n",
    "    with open(filepath, 'r') as infile:\n",
    "        lines = [line for line in infile.readlines() if not line.startswith('#')]\n",
    "    return lines"
   ]
  },
  {
   "cell_type": "code",
   "execution_count": 84,
   "metadata": {
    "collapsed": false
   },
   "outputs": [
    {
     "name": "stdout",
     "output_type": "stream",
     "text": [
      "Output 4990 extra lines\n",
      "Discarded 0 lines from chromosomes\n"
     ]
    }
   ],
   "source": [
    "def combine_lifted_and_non(lifted, unlifted):\n",
    "    check_all_mains_were_lifted(lifted_gff=lifted)\n",
    "    destination = join(dirname(lifted), 'combined.gff3')\n",
    "    copy(lifted, destination)\n",
    "    with open(unlifted, 'r') as infile:\n",
    "        lines = [line for line in infile.readlines() if not line.startswith('#')]\n",
    "    \n",
    "    with open(destination, 'a') as outfile:\n",
    "        outfile.write('\\n#Annotations in non-chromosome scaffolds that have not changed\\n')\n",
    "        outliers = [line for line in lines if line.split('\\t')[0] not in mapped]\n",
    "        outfile.writelines(outliers)\n",
    "        print(\"Output\", len(outliers), \"extra lines\")\n",
    "        discarded = [line for line in lines if line.split('\\t')[0] in mapped]\n",
    "        print(\"Discarded\", len(discarded), \"lines from chromosomes\")\n",
    "    return discarded\n",
    "discarded = combine_lifted_and_non(\n",
    "lifted = r\"flo_pennsylvanica\\run_simplified\\scrubbed_BRAKER_RNASeqandEA_augustus_060618.hints.hasevidenceMANUAL\\lifted.gff3\",\n",
    "unlifted = r\"flo_pennsylvanica\\run_simplified\\scrubbed_BRAKER_RNASeqandEA_augustus_060618.hints.hasevidenceMANUAL\\unlifted.gff3\")"
   ]
  },
  {
   "cell_type": "code",
   "execution_count": 85,
   "metadata": {
    "collapsed": false
   },
   "outputs": [
    {
     "name": "stdout",
     "output_type": "stream",
     "text": [
      "Output 328552 extra lines\n",
      "Discarded 0 lines from chromosomes\n"
     ]
    },
    {
     "data": {
      "text/plain": [
       "[]"
      ]
     },
     "execution_count": 85,
     "metadata": {},
     "output_type": "execute_result"
    }
   ],
   "source": [
    "lifted = r\"flo_pennsylvanica\\run_simplified\\fraxinus_pennsylvanica_20Feb2018_repeatmasker.fasta.out\\lifted.gff3\"\n",
    "unlifted = r\"flo_pennsylvanica\\run_simplified\\fraxinus_pennsylvanica_20Feb2018_repeatmasker.fasta.out\\unlifted.gff3\"\n",
    "combine_lifted_and_non(lifted, unlifted)"
   ]
  },
  {
   "cell_type": "code",
   "execution_count": 91,
   "metadata": {
    "collapsed": false
   },
   "outputs": [
    {
     "name": "stdout",
     "output_type": "stream",
     "text": [
      "Output 45446 extra lines\n",
      "Discarded 0 lines from chromosomes\n"
     ]
    },
    {
     "data": {
      "text/plain": [
       "[]"
      ]
     },
     "execution_count": 91,
     "metadata": {},
     "output_type": "execute_result"
    }
   ],
   "source": [
    "combine_lifted_and_non(r\"flo_pennsylvanica\\run_simplified\\scrubbed_BRAKER_RNASeqandEA_augustus_060618.hints.noevidenceMANUAL\\lifted.gff3\",\n",
    "                      r\"flo_pennsylvanica\\run_simplified\\scrubbed_BRAKER_RNASeqandEA_augustus_060618.hints.noevidenceMANUAL\\unlifted.gff3\")"
   ]
  },
  {
   "cell_type": "markdown",
   "metadata": {},
   "source": [
    "### Coy down combined annotations with their folder names"
   ]
  },
  {
   "cell_type": "code",
   "execution_count": 92,
   "metadata": {
    "collapsed": false
   },
   "outputs": [
    {
     "data": {
      "text/plain": [
       "'final_versions/F_pennsylvanica_chr_BRAKER_RNASeqandEA_augustus_060618.hints.hasevidenceMANUAL.gff3'"
      ]
     },
     "execution_count": 92,
     "metadata": {},
     "output_type": "execute_result"
    }
   ],
   "source": [
    "copy(r\"flo_pennsylvanica\\run_simplified\\scrubbed_BRAKER_RNASeqandEA_augustus_060618.hints.noevidenceMANUAL\\combined.gff3\",\n",
    "r\"final_versions/F_pennsylvanica_chr_BRAKER_RNASeqandEA_augustus_060618.hints.noevidenceMANUAL.gff3\")\n",
    "\n",
    "copy(r\"flo_pennsylvanica\\run_simplified\\fraxinus_pennsylvanica_20Feb2018_repeatmasker.fasta.out\\combined.gff3\",\n",
    "r\"final_versions/F_pennsylvanica_chr_20Feb2018_repeatmasker.gff3\")\n",
    "\n",
    "copy(r\"flo_pennsylvanica\\run_simplified\\scrubbed_BRAKER_RNASeqandEA_augustus_060618.hints.hasevidenceMANUAL\\combined.gff3\",\n",
    "r\"final_versions/F_pennsylvanica_chr_BRAKER_RNASeqandEA_augustus_060618.hints.hasevidenceMANUAL.gff3\")"
   ]
  },
  {
   "cell_type": "markdown",
   "metadata": {},
   "source": [
    "# Quality checking results against original inputs\n",
    "\n",
    "**We would like to see roughly the same number of mRNA transcript entries in both input and output.  The should also have the same internal volume.**"
   ]
  },
  {
   "cell_type": "code",
   "execution_count": 93,
   "metadata": {
    "collapsed": false
   },
   "outputs": [
    {
     "name": "stdout",
     "output_type": "stream",
     "text": [
      "100.000000% of transcripts were transferred 0 went missing\n"
     ]
    }
   ],
   "source": [
    "def line_filter(lines, key):\n",
    "    return [l for l in lines if key in l]\n",
    "\n",
    "def quantify_transfer_percentage(transferred_file, original, key):\n",
    "    original_lines = lines_without_comments(original)\n",
    "    transfer_lines = lines_without_comments(transferred_file)\n",
    "    t = len(line_filter(transfer_lines, key))\n",
    "    o = len(line_filter(original_lines, key))\n",
    "    print(pp(t/o), \"of transcripts were transferred\", o-t, \"went missing\")\n",
    "quantify_transfer_percentage(r\"final_versions\\F_pennsylvanica_chr_20Feb2018_repeatmasker.gff3\", \n",
    "                             \"fraxinus_pennsylvanica_20Feb2018_repeatmasker.fasta.out.gff\", 'similarity')"
   ]
  },
  {
   "cell_type": "code",
   "execution_count": 94,
   "metadata": {
    "collapsed": false
   },
   "outputs": [
    {
     "name": "stdout",
     "output_type": "stream",
     "text": [
      "100.000000% of transcripts were transferred 0 went missing\n"
     ]
    }
   ],
   "source": [
    "quantify_transfer_percentage(r\"final_versions\\F_pennsylvanica_chr_BRAKER_RNASeqandEA_augustus_060618.hints.noevidenceMANUAL.gff3\",\n",
    "                             \"BRAKER_RNASeqandEA_augustus_060618.hints.noevidenceMANUAL.gff\", 'mRNA')"
   ]
  },
  {
   "cell_type": "code",
   "execution_count": 95,
   "metadata": {
    "collapsed": false
   },
   "outputs": [
    {
     "name": "stdout",
     "output_type": "stream",
     "text": [
      "100.000000% of transcripts were transferred 0 went missing\n"
     ]
    }
   ],
   "source": [
    "quantify_transfer_percentage(r\"final_versions\\F_pennsylvanica_chr_BRAKER_RNASeqandEA_augustus_060618.hints.hasevidenceMANUAL.gff3\",\n",
    "                             \"BRAKER_RNASeqandEA_augustus_060618.hints.hasevidenceMANUAL.gff\", 'mRNA')"
   ]
  },
  {
   "cell_type": "markdown",
   "metadata": {},
   "source": [
    "# Verify against June (all scaffolds)"
   ]
  },
  {
   "cell_type": "code",
   "execution_count": 2,
   "metadata": {
    "collapsed": true
   },
   "outputs": [],
   "source": [
    "june = read_contigs(r\"D:\\josiah\\Documents\\Research\\Thesis - Genome Symmetry\\DNA_Duplications\\Green_Ash_Annotation_Transfer\\fraxinus_pennsylvanica_21Jun2018.fasta\")"
   ]
  },
  {
   "cell_type": "code",
   "execution_count": 4,
   "metadata": {
    "collapsed": true
   },
   "outputs": [],
   "source": [
    "contigs = list_to_dict(june)"
   ]
  },
  {
   "cell_type": "code",
   "execution_count": 7,
   "metadata": {
    "collapsed": false
   },
   "outputs": [
    {
     "data": {
      "text/plain": [
       "False"
      ]
     },
     "execution_count": 7,
     "metadata": {},
     "output_type": "execute_result"
    }
   ],
   "source": [
    "'Scaffold_999' in contigs"
   ]
  },
  {
   "cell_type": "code",
   "execution_count": 9,
   "metadata": {
    "collapsed": false
   },
   "outputs": [
    {
     "data": {
      "text/plain": [
       "['scaffold_99979 length=376']"
      ]
     },
     "execution_count": 9,
     "metadata": {},
     "output_type": "execute_result"
    }
   ],
   "source": [
    "[k for k in contigs.keys() if k.startswith('scaffold_99979')]"
   ]
  },
  {
   "cell_type": "code",
   "execution_count": 11,
   "metadata": {
    "collapsed": false
   },
   "outputs": [
    {
     "name": "stdout",
     "output_type": "stream",
     "text": [
      "Done writing  243846 contigs and 857,917,600bp\n"
     ]
    }
   ],
   "source": [
    "for c in june:\n",
    "    c.name = c.name.replace('scaffold', 'Scaffold').split(';')[0]\n",
    "write_contigs_to_file(\"final_versions/fraxinus_pennsylvanica_21Jun2018_formatted.fa\", june)"
   ]
  },
  {
   "cell_type": "markdown",
   "metadata": {},
   "source": [
    "### Difference between lifted and lifted_cleaned?\n",
    "Difference is that lifted.gff3 include useful comments from the original"
   ]
  }
 ],
 "metadata": {
  "kernelspec": {
   "display_name": "Python 3",
   "language": "python",
   "name": "python3"
  },
  "language_info": {
   "codemirror_mode": {
    "name": "ipython",
    "version": 3
   },
   "file_extension": ".py",
   "mimetype": "text/x-python",
   "name": "python",
   "nbconvert_exporter": "python",
   "pygments_lexer": "ipython3",
   "version": "3.4.3"
  }
 },
 "nbformat": 4,
 "nbformat_minor": 1
}
