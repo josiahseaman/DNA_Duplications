{
 "cells": [
  {
   "cell_type": "code",
   "execution_count": null,
   "metadata": {
    "collapsed": true
   },
   "outputs": [],
   "source": []
  },
  {
   "cell_type": "markdown",
   "metadata": {},
   "source": [
    "# Gnetum annotation"
   ]
  },
  {
   "cell_type": "code",
   "execution_count": null,
   "metadata": {
    "collapsed": true
   },
   "outputs": [],
   "source": []
  },
  {
   "cell_type": "code",
   "execution_count": null,
   "metadata": {
    "collapsed": true
   },
   "outputs": [],
   "source": []
  },
  {
   "cell_type": "code",
   "execution_count": null,
   "metadata": {
    "collapsed": true
   },
   "outputs": [],
   "source": []
  },
  {
   "cell_type": "code",
   "execution_count": 1,
   "metadata": {
    "collapsed": false
   },
   "outputs": [
    {
     "data": {
      "text/plain": [
       "'D:\\\\josiah\\\\Documents\\\\Research\\\\Thesis - Genome Symmetry\\\\DNA_Duplications\\\\data\\\\Pennsylvanica_Feb2018_BRAKER_RNASeqandEA_augustus_051818.hints.gff'"
      ]
     },
     "execution_count": 1,
     "metadata": {},
     "output_type": "execute_result"
    }
   ],
   "source": [
    "r\"D:\\josiah\\Documents\\Research\\Thesis - Genome Symmetry\\DNA_Duplications\\data\\Pennsylvanica_Feb2018_BRAKER_RNASeqandEA_augustus_051818.hints.gff\""
   ]
  },
  {
   "cell_type": "code",
   "execution_count": null,
   "metadata": {
    "collapsed": true
   },
   "outputs": [],
   "source": []
  },
  {
   "cell_type": "markdown",
   "metadata": {},
   "source": [
    "# Just Annotations.py copied from DDV"
   ]
  },
  {
   "cell_type": "code",
   "execution_count": 1,
   "metadata": {
    "collapsed": true
   },
   "outputs": [],
   "source": [
    "import os\n",
    "from collections import namedtuple, defaultdict\n",
    "from DNASkittleUtils.DDVUtils import editable_str\n",
    "\n",
    "\n",
    "class GFF(object):\n",
    "    def __init__(self, annotation_file):\n",
    "        self.specimen, self.gff_version, \\\n",
    "        self.genome_version, self.date, \\\n",
    "        self.file_name, self.annotations, self.chromosome_lengths \\\n",
    "            = self._import_gff(annotation_file)\n",
    "\n",
    "    def _import_gff(self, annotation_file):\n",
    "        assert os.path.isfile(annotation_file)\n",
    "\n",
    "        specimen = None\n",
    "        gff_version = 2\n",
    "        genome_version = None\n",
    "        date = None\n",
    "        file_name = os.path.splitext(os.path.basename(annotation_file))[0]\n",
    "        annotations = {}\n",
    "        chromosome_lengths = {}\n",
    "\n",
    "        open_annotation_file = open(annotation_file, 'r')\n",
    "        counter = 0\n",
    "        print(\"Opening Annotation file...\")\n",
    "        for line in open_annotation_file.readlines():\n",
    "            if line.startswith(\"#\"):\n",
    "                if \"gff-version\" in line:\n",
    "                    gff_version = line.split(' ')[1]\n",
    "                    if int(gff_version) != 2:\n",
    "                        print(\"WARNING: Expecting GFF Version 2, not  %s!\" % gff_version)\n",
    "                elif \"genome-build\" in line:\n",
    "                    specimen = line.split(' ')[1]\n",
    "                elif \"genome-version \" in line:  # NOTE: Keep the space after genome-version!!!\n",
    "                    genome_version = line.split(' ')[1]\n",
    "                elif \"genome-date\" in line:\n",
    "                    date = line.split(' ')[1]\n",
    "            else:\n",
    "                if counter == 0:\n",
    "                    print(\"Version 2 GFF file:\", annotation_file)\n",
    "\n",
    "                counter += 1\n",
    "\n",
    "                elements = line.split('\\t')\n",
    "\n",
    "                chromosome = elements[0]\n",
    "\n",
    "                if chromosome not in annotations:\n",
    "                    annotations[chromosome] = []\n",
    "                    chromosome_lengths[chromosome] = 0\n",
    "                    if len(annotations) < 10:\n",
    "                        print(chromosome, end=\", \")\n",
    "                    elif len(annotations) == 10:\n",
    "                        print('...')\n",
    "\n",
    "                ID = counter\n",
    "                source = elements[1]\n",
    "                feature = elements[2]\n",
    "                start = int(elements[3])\n",
    "                end = int(elements[4])\n",
    "\n",
    "                if elements[5] == '.':\n",
    "                    score = None\n",
    "                else:\n",
    "                    score = float(elements[5])\n",
    "\n",
    "                if elements[6] == '.':\n",
    "                    strand = None\n",
    "                else:\n",
    "                    strand = elements[6]\n",
    "\n",
    "                if elements[7] == '.':\n",
    "                    frame = None\n",
    "                else:\n",
    "                    frame = int(elements[7])\n",
    "\n",
    "                if len(elements) >= 9:\n",
    "                    pairs = [pair.strip() for pair in elements[8].split(';') if pair]\n",
    "                    attributes = {pair.split('=')[0]: pair.split('=')[1].replace('\"', '') for pair in pairs if\n",
    "                                  len(pair.split('=')) == 2}\n",
    "                else:\n",
    "                    attributes = {}\n",
    "\n",
    "                annotation = self.Annotation(chromosome, ID,\n",
    "                                             source, feature,\n",
    "                                             start, end,\n",
    "                                             score, strand,\n",
    "                                             frame, attributes, line)\n",
    "\n",
    "                annotations[chromosome].append(annotation)\n",
    "                chromosome_lengths[chromosome] = max(chromosome_lengths[chromosome], annotation.end)\n",
    "\n",
    "        open_annotation_file.close()\n",
    "\n",
    "        return specimen, gff_version, genome_version, date, file_name, annotations, chromosome_lengths\n",
    "\n",
    "    class Annotation(object):\n",
    "        def __init__(self, chromosome, ID, source, feature, start, end, score, strand, frame, attributes, line):\n",
    "            assert isinstance(chromosome, str)\n",
    "            assert isinstance(ID, int)\n",
    "            assert isinstance(source, str)\n",
    "            assert isinstance(feature, str)\n",
    "            assert isinstance(start, int)\n",
    "            assert isinstance(end, int)\n",
    "            assert score is None or isinstance(score, float)\n",
    "            assert isinstance(strand, str)\n",
    "            assert frame is None or isinstance(frame, int)\n",
    "            assert isinstance(attributes, dict)\n",
    "\n",
    "            self.chromosome = chromosome\n",
    "            self.ID = ID\n",
    "            self.source = source\n",
    "            self.feature = feature\n",
    "            self.start = start\n",
    "            self.end = end\n",
    "            self.score = score\n",
    "            self.strand = strand\n",
    "            self.frame = frame\n",
    "            self.attributes = attributes\n",
    "            self.line = line\n",
    "\n"
   ]
  },
  {
   "cell_type": "code",
   "execution_count": null,
   "metadata": {
    "collapsed": true
   },
   "outputs": [],
   "source": []
  }
 ],
 "metadata": {
  "kernelspec": {
   "display_name": "Python 3",
   "language": "python",
   "name": "python3"
  },
  "language_info": {
   "codemirror_mode": {
    "name": "ipython",
    "version": 3
   },
   "file_extension": ".py",
   "mimetype": "text/x-python",
   "name": "python",
   "nbconvert_exporter": "python",
   "pygments_lexer": "ipython3",
   "version": "3.4.3"
  }
 },
 "nbformat": 4,
 "nbformat_minor": 1
}
