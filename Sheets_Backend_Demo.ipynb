{
 "cells": [
  {
   "cell_type": "code",
   "execution_count": 53,
   "metadata": {
    "collapsed": false
   },
   "outputs": [],
   "source": [
    "import gspread\n",
    "from oauth2client.service_account import ServiceAccountCredentials"
   ]
  },
  {
   "cell_type": "code",
   "execution_count": 54,
   "metadata": {
    "collapsed": true
   },
   "outputs": [],
   "source": [
    "import pprint\n",
    "pp = pprint.PrettyPrinter()"
   ]
  },
  {
   "cell_type": "code",
   "execution_count": 55,
   "metadata": {
    "collapsed": true
   },
   "outputs": [],
   "source": [
    "scope = ['https://spreadsheets.google.com/feeds']\n",
    "creds = ServiceAccountCredentials.from_json_keyfile_name('../sheets_backend_secret.json', scope)\n",
    "client = gspread.authorize(creds)"
   ]
  },
  {
   "cell_type": "code",
   "execution_count": 56,
   "metadata": {
    "collapsed": false
   },
   "outputs": [
    {
     "name": "stdout",
     "output_type": "stream",
     "text": [
      "[{'': 'Python!', 'color': 'updating', 'Number': 'a', 'Name': \"I'm\"}, {'': 'Python!', 'color': 'updating', 'Number': 'a', 'Name': \"I'm\"}, {'': '', 'color': 'failing', 'Number': 'a', 'Name': \"I'm\"}, {'': '', 'color': 'e', 'Number': 56, 'Name': 'roberta'}, {'': '', 'color': 'good', 'Number': '', 'Name': 'Doin'}, {'': '', 'color': 'good', 'Number': '', 'Name': 'Doin'}, {'': '', 'color': 'good', 'Number': '', 'Name': 'Doin'}, {'': '', 'color': 'from inside', 'Number': 'MEIO_A13', 'Name': 'Added'}, {'': '', 'color': 'from inside', 'Number': 'MEIO_A13', 'Name': 'Named'}]\n"
     ]
    }
   ],
   "source": [
    "sheet = client.open('Sheets Backend Demo').sheet1\n",
    "contents = sheet.get_all_records()\n",
    "print(contents)"
   ]
  },
  {
   "cell_type": "code",
   "execution_count": 47,
   "metadata": {
    "collapsed": true
   },
   "outputs": [],
   "source": [
    "row = \"I'm updating a spreadsheet from Python!\".split()\n",
    "sheet.insert_row(row, 2)"
   ]
  },
  {
   "cell_type": "code",
   "execution_count": 29,
   "metadata": {
    "collapsed": false
   },
   "outputs": [
    {
     "name": "stdout",
     "output_type": "stream",
     "text": [
      "[{'': 'Python!', 'Name': \"I'm\", 'Number': 'a', 'color': 'updating'},\n",
      " {'': '', 'Name': 'roberta', 'Number': 56, 'color': 'e'},\n",
      " {'': '', 'Name': 'luca', 'Number': 12, 'color': 'f'}]\n"
     ]
    }
   ],
   "source": [
    "pp.pprint(contents)"
   ]
  },
  {
   "cell_type": "code",
   "execution_count": 46,
   "metadata": {
    "collapsed": false
   },
   "outputs": [
    {
     "data": {
      "text/plain": [
       "['color', 'updating', 'failing', 'e', 'good', 'good', 'good']"
      ]
     },
     "execution_count": 46,
     "metadata": {},
     "output_type": "execute_result"
    }
   ],
   "source": [
    "sheet.col_values(2)"
   ]
  },
  {
   "cell_type": "code",
   "execution_count": null,
   "metadata": {
    "collapsed": true
   },
   "outputs": [],
   "source": [
    "sheet.resize(rows=3, cols=4)"
   ]
  },
  {
   "cell_type": "code",
   "execution_count": 50,
   "metadata": {
    "collapsed": false
   },
   "outputs": [
    {
     "data": {
      "text/plain": [
       "(6, 8)"
      ]
     },
     "execution_count": 50,
     "metadata": {},
     "output_type": "execute_result"
    }
   ],
   "source": [
    "sheet.col_count, sheet.row_count"
   ]
  },
  {
   "cell_type": "code",
   "execution_count": 44,
   "metadata": {
    "collapsed": true
   },
   "outputs": [],
   "source": [
    "sheet.append_row(['Doin', 'good'])"
   ]
  },
  {
   "cell_type": "code",
   "execution_count": 70,
   "metadata": {
    "collapsed": false
   },
   "outputs": [
    {
     "data": {
      "text/plain": [
       "'F10'"
      ]
     },
     "execution_count": 70,
     "metadata": {},
     "output_type": "execute_result"
    }
   ],
   "source": [
    "gspread.utils.rowcol_to_a1(sheet.row_count, sheet.col_count )"
   ]
  },
  {
   "cell_type": "code",
   "execution_count": 67,
   "metadata": {
    "collapsed": false
   },
   "outputs": [],
   "source": [
    "cell_list = sheet.range('A1:' + gspread.utils.rowcol_to_a1(sheet.row_count, sheet.col_count ))\n",
    "\n",
    "for cell in cell_list:\n",
    "    cell.value = 'O_o'\n",
    "\n",
    "# Update in batch\n",
    "sheet.update_cells(cell_list)"
   ]
  },
  {
   "cell_type": "code",
   "execution_count": 68,
   "metadata": {
    "collapsed": false
   },
   "outputs": [
    {
     "data": {
      "text/plain": [
       "[<Cell R1C1 'O_o'>,\n",
       " <Cell R1C2 'O_o'>,\n",
       " <Cell R1C3 'O_o'>,\n",
       " <Cell R1C4 'O_o'>,\n",
       " <Cell R1C5 'O_o'>,\n",
       " <Cell R1C6 'O_o'>,\n",
       " <Cell R2C1 'O_o'>,\n",
       " <Cell R2C2 'O_o'>,\n",
       " <Cell R2C3 'O_o'>,\n",
       " <Cell R2C4 'O_o'>,\n",
       " <Cell R2C5 'O_o'>,\n",
       " <Cell R2C6 'O_o'>,\n",
       " <Cell R3C1 'O_o'>,\n",
       " <Cell R3C2 'O_o'>,\n",
       " <Cell R3C3 'O_o'>,\n",
       " <Cell R3C4 'O_o'>,\n",
       " <Cell R3C5 'O_o'>,\n",
       " <Cell R3C6 'O_o'>,\n",
       " <Cell R4C1 'O_o'>,\n",
       " <Cell R4C2 'O_o'>,\n",
       " <Cell R4C3 'O_o'>,\n",
       " <Cell R4C4 'O_o'>,\n",
       " <Cell R4C5 'O_o'>,\n",
       " <Cell R4C6 'O_o'>,\n",
       " <Cell R5C1 'O_o'>,\n",
       " <Cell R5C2 'O_o'>,\n",
       " <Cell R5C3 'O_o'>,\n",
       " <Cell R5C4 'O_o'>,\n",
       " <Cell R5C5 'O_o'>,\n",
       " <Cell R5C6 'O_o'>,\n",
       " <Cell R6C1 'O_o'>,\n",
       " <Cell R6C2 'O_o'>,\n",
       " <Cell R6C3 'O_o'>,\n",
       " <Cell R6C4 'O_o'>,\n",
       " <Cell R6C5 'O_o'>,\n",
       " <Cell R6C6 'O_o'>,\n",
       " <Cell R7C1 'O_o'>,\n",
       " <Cell R7C2 'O_o'>,\n",
       " <Cell R7C3 'O_o'>,\n",
       " <Cell R7C4 'O_o'>,\n",
       " <Cell R7C5 'O_o'>,\n",
       " <Cell R7C6 'O_o'>,\n",
       " <Cell R8C1 'O_o'>,\n",
       " <Cell R8C2 'O_o'>,\n",
       " <Cell R8C3 'O_o'>,\n",
       " <Cell R8C4 'O_o'>,\n",
       " <Cell R8C5 'O_o'>,\n",
       " <Cell R8C6 'O_o'>,\n",
       " <Cell R9C1 'O_o'>,\n",
       " <Cell R9C2 'O_o'>,\n",
       " <Cell R9C3 'O_o'>,\n",
       " <Cell R9C4 'O_o'>,\n",
       " <Cell R9C5 'O_o'>,\n",
       " <Cell R9C6 'O_o'>,\n",
       " <Cell R10C1 'O_o'>,\n",
       " <Cell R10C2 'O_o'>,\n",
       " <Cell R10C3 'O_o'>,\n",
       " <Cell R10C4 'O_o'>,\n",
       " <Cell R10C5 'O_o'>,\n",
       " <Cell R10C6 'O_o'>]"
      ]
     },
     "execution_count": 68,
     "metadata": {},
     "output_type": "execute_result"
    }
   ],
   "source": [
    "cell_list"
   ]
  },
  {
   "cell_type": "code",
   "execution_count": 38,
   "metadata": {
    "collapsed": false
   },
   "outputs": [],
   "source": [
    "sheet.update_cell(2,2, 'failing')"
   ]
  },
  {
   "cell_type": "code",
   "execution_count": 39,
   "metadata": {
    "collapsed": false
   },
   "outputs": [
    {
     "data": {
      "text/plain": [
       "'failing'"
      ]
     },
     "execution_count": 39,
     "metadata": {},
     "output_type": "execute_result"
    }
   ],
   "source": [
    "sheet.cell(2,2).value"
   ]
  },
  {
   "cell_type": "code",
   "execution_count": 12,
   "metadata": {
    "collapsed": false
   },
   "outputs": [
    {
     "data": {
      "text/plain": [
       "['__class__',\n",
       " '__delattr__',\n",
       " '__dict__',\n",
       " '__dir__',\n",
       " '__doc__',\n",
       " '__eq__',\n",
       " '__format__',\n",
       " '__ge__',\n",
       " '__getattribute__',\n",
       " '__gt__',\n",
       " '__hash__',\n",
       " '__init__',\n",
       " '__le__',\n",
       " '__lt__',\n",
       " '__module__',\n",
       " '__ne__',\n",
       " '__new__',\n",
       " '__reduce__',\n",
       " '__reduce_ex__',\n",
       " '__repr__',\n",
       " '__setattr__',\n",
       " '__sizeof__',\n",
       " '__str__',\n",
       " '__subclasshook__',\n",
       " '__weakref__',\n",
       " '_cell_addr',\n",
       " '_create_update_feed',\n",
       " '_element',\n",
       " '_fetch_cells',\n",
       " '_finder',\n",
       " '_get_link',\n",
       " '_id',\n",
       " '_title',\n",
       " 'acell',\n",
       " 'add_cols',\n",
       " 'add_rows',\n",
       " 'append_row',\n",
       " 'cell',\n",
       " 'clear',\n",
       " 'client',\n",
       " 'col_count',\n",
       " 'col_values',\n",
       " 'delete_row',\n",
       " 'export',\n",
       " 'find',\n",
       " 'findall',\n",
       " 'get_addr_int',\n",
       " 'get_all_records',\n",
       " 'get_all_values',\n",
       " 'get_id_fields',\n",
       " 'get_int_addr',\n",
       " 'id',\n",
       " 'insert_row',\n",
       " 'range',\n",
       " 'resize',\n",
       " 'row_count',\n",
       " 'row_values',\n",
       " 'spreadsheet',\n",
       " 'title',\n",
       " 'update_acell',\n",
       " 'update_cell',\n",
       " 'update_cells',\n",
       " 'update_title',\n",
       " 'updated',\n",
       " 'version']"
      ]
     },
     "execution_count": 12,
     "metadata": {},
     "output_type": "execute_result"
    }
   ],
   "source": [
    "dir(sheet)"
   ]
  },
  {
   "cell_type": "code",
   "execution_count": null,
   "metadata": {
    "collapsed": true
   },
   "outputs": [],
   "source": []
  }
 ],
 "metadata": {
  "kernelspec": {
   "display_name": "Python 3",
   "language": "python",
   "name": "python3"
  },
  "language_info": {
   "codemirror_mode": {
    "name": "ipython",
    "version": 3
   },
   "file_extension": ".py",
   "mimetype": "text/x-python",
   "name": "python",
   "nbconvert_exporter": "python",
   "pygments_lexer": "ipython3",
   "version": "3.4.3"
  }
 },
 "nbformat": 4,
 "nbformat_minor": 1
}
