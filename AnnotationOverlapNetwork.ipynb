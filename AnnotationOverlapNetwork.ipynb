{
 "cells": [
  {
   "cell_type": "markdown",
   "metadata": {},
   "source": [
    "# Complete Restart with JOGs using Orthofinder results\n",
    "JOGs are Josiah's Orthogroups from Orthofinder run using latest assemblies"
   ]
  },
  {
   "cell_type": "markdown",
   "metadata": {},
   "source": [
    "# HOG file parsing for gene names"
   ]
  },
  {
   "cell_type": "code",
   "execution_count": 12,
   "metadata": {
    "collapsed": true
   },
   "outputs": [],
   "source": [
    "from DNASkittleUtils.Contigs import read_contigs\n",
    "from DNASkittleUtils.DDVUtils import pp\n",
    "from os.path import join, basename, splitext\n",
    "import os"
   ]
  },
  {
   "cell_type": "code",
   "execution_count": 1,
   "metadata": {
    "collapsed": false
   },
   "outputs": [],
   "source": [
    "def convert_to_gene_id(name):\n",
    "    if name.startswith('FRAX00'):\n",
    "        name = name.replace('FRAX00_FRAEX38873_v2_', '')\n",
    "        return name#[:name.rfind('.')]\n",
    "    if name.startswith('FRAX'):  # not FRAEX for excelsior\n",
    "        pieces = name.split('_')\n",
    "        name = pieces[2] + '_' + pieces[3]\n",
    "        return name#[:name.rfind('.')]\n",
    "    else:\n",
    "        return name\n",
    "assert convert_to_gene_id(\"FRAX19_FRAX19_000226960.2_R0\") == \"000226960.2_R0\", convert_to_gene_id(\"FRAX19_FRAX19_000226960.2_R0\")\n",
    "assert convert_to_gene_id(\"FRAX00_FRAEX38873_v2_000001220.2\") == \"000001220.2\", convert_to_gene_id(\"FRAX00_FRAEX38873_v2_000001220.2\")\n",
    "tomato = 'Solyc03g095770.2.1 pacid=36135394 transcript=Solyc03g095770.2.1 locus=Solyc03g095770.2 ID=Solyc03g095770.2.1.ITAG2.4 annot-version=ITAG2.4 [Slycopersicum_390_ITAG2]'\n",
    "assert convert_to_gene_id(tomato) == tomato\n"
   ]
  },
  {
   "cell_type": "code",
   "execution_count": 2,
   "metadata": {
    "collapsed": false
   },
   "outputs": [
    {
     "name": "stdout",
     "output_type": "stream",
     "text": [
      "OG0000000.fa\n",
      "OG0001000.fa\n",
      "OG0002000.fa\n",
      "OG0003000.fa\n",
      "OG0004000.fa\n",
      "OG0005000.fa\n",
      "OG0006000.fa\n",
      "OG0007000.fa\n",
      "OG0008000.fa\n",
      "OG0009000.fa\n",
      "OG0010000.fa\n",
      "OG0011000.fa\n",
      "OG0012000.fa\n",
      "OG0013000.fa\n",
      "OG0014000.fa\n",
      "OG0015000.fa\n",
      "OG0016000.fa\n",
      "OG0017000.fa\n",
      "OG0018000.fa\n",
      "OG0019000.fa\n",
      "OG0020000.fa\n",
      "OG0021000.fa\n",
      "OG0022000.fa\n",
      "OG0023000.fa\n",
      "OG0024000.fa\n",
      "OG0025000.fa\n",
      "OG0026000.fa\n",
      "OG0027000.fa\n",
      "OG0028000.fa\n",
      "OG0029000.fa\n",
      "OG0030000.fa\n",
      "OG0031000.fa\n",
      "OG0032000.fa\n",
      "OG0033000.fa\n",
      "OG0034000.fa\n",
      "OG0035000.fa\n",
      "OG0036000.fa\n",
      "OG0037000.fa\n",
      "OG0038000.fa\n",
      "OG0039000.fa\n",
      "OG0040000.fa\n",
      "OG0041000.fa\n",
      "OG0042000.fa\n",
      "OG0043000.fa\n",
      "OG0044000.fa\n",
      "OG0045000.fa\n",
      "OG0046000.fa\n",
      "OG0047000.fa\n",
      "OG0048000.fa\n",
      "OG0049000.fa\n",
      "OG0050000.fa\n",
      "OG0051000.fa\n",
      "OG0052000.fa\n",
      "OG0053000.fa\n",
      "OG0054000.fa\n",
      "OG0055000.fa\n",
      "OG0056000.fa\n",
      "OG0057000.fa\n",
      "OG0058000.fa\n",
      "OG0059000.fa\n",
      "OG0060000.fa\n",
      "OG0061000.fa\n",
      "OG0062000.fa\n",
      "OG0063000.fa\n",
      "OG0064000.fa\n"
     ]
    },
    {
     "data": {
      "text/plain": [
       "64650"
      ]
     },
     "execution_count": 2,
     "metadata": {},
     "output_type": "execute_result"
    }
   ],
   "source": [
    "def parse_HOGs_from_fasta_directory():\n",
    "    directory_HOGs = r\"D:\\josiah\\Documents\\Research\\Thesis - Genome Symmetry\\DNA_Duplications\\Ash_Proteome\\Results_Jun25\\Orthologues_Jul06\\Sequences\"\n",
    "    from glob import glob\n",
    "    from os.path import join, splitext, basename\n",
    "    file_list = glob(join(directory_HOGs, \"*.fa\"))\n",
    "    HOGs = {}\n",
    "    for i, filename in enumerate(file_list):\n",
    "        if i % 1000 == 0:\n",
    "            print(basename(filename))\n",
    "        assert basename(filename).startswith('OG')\n",
    "        headers = []\n",
    "        with open(filename, 'r') as fasta:\n",
    "            for line in fasta:\n",
    "                if line.startswith('>'):\n",
    "                    headers.append(convert_to_gene_id(line[1:-1]))\n",
    "        #assert len(headers) == len(set(headers)), \"There was a redundant gene mention %s\" % headers \n",
    "        HOGs[basename(splitext(filename)[0])] = headers\n",
    "    return HOGs\n",
    "HOGs = parse_HOGs_from_fasta_directory()\n",
    "len(HOGs)"
   ]
  },
  {
   "cell_type": "code",
   "execution_count": 3,
   "metadata": {
    "collapsed": false
   },
   "outputs": [
    {
     "data": {
      "text/plain": [
       "['Oeuropea_OE6A039394P1']"
      ]
     },
     "execution_count": 3,
     "metadata": {},
     "output_type": "execute_result"
    }
   ],
   "source": [
    "HOGs['OG0047000']"
   ]
  },
  {
   "cell_type": "markdown",
   "metadata": {},
   "source": [
    "# GFF parsing for overlapping annotations"
   ]
  },
  {
   "cell_type": "markdown",
   "metadata": {},
   "source": [
    "TBD"
   ]
  },
  {
   "cell_type": "markdown",
   "metadata": {},
   "source": [
    "# Greedy merge algorithm\n",
    " ( agglomerative clustering? )\n",
    "* Starting clusters can be HOGs\n",
    "* clusters = dict{ gene: pointer to cluster }\n",
    "* Clusters are set(gene)\n",
    "* First gene gets a new cluster\n",
    "* If gene A overlaps with gene B anywhere, then go through each cluster to find gene A and add gene B\n",
    "* If gene B is in any other clusters, find it and merge the entire cluster into gene A cluster\n",
    "* Assert a gene can only ever be in one cluster at a time, except in the atomic operation of merging two\n"
   ]
  },
  {
   "cell_type": "markdown",
   "metadata": {},
   "source": [
    "### Starting from HOGs but no side-effects, using networkx to retreive clusters"
   ]
  },
  {
   "cell_type": "markdown",
   "metadata": {},
   "source": [
    "[Python Network Graphs](https://www.python.org/doc/essays/graphs/)\n",
    "\n",
    "[Creating a networkx graph](https://networkx.github.io/documentation/networkx-1.10/tutorial/tutorial.html)  \n",
    "[Graph Connected Components](https://networkx.github.io/documentation/networkx-1.10/reference/generated/networkx.algorithms.components.connected.connected_components.html)"
   ]
  },
  {
   "cell_type": "code",
   "execution_count": 4,
   "metadata": {
    "collapsed": false
   },
   "outputs": [
    {
     "name": "stdout",
     "output_type": "stream",
     "text": [
      "{'gene3': {'HOG2'}, 'gene2': {'HOG1', 'HOG2'}, 'gene1': {'HOG1'}} \n",
      " {'gene3': {'HOG2'}, 'gene2': {'HOG1', 'HOG2'}, 'gene1': {'HOG1'}}\n"
     ]
    }
   ],
   "source": [
    "def map_genes_to_HOGs(HOGs):\n",
    "    genes_to_HOGs = {}\n",
    "    for hog, genes in HOGs.items():\n",
    "        for gene in genes:\n",
    "            if gene not in genes_to_HOGs:\n",
    "                genes_to_HOGs[gene] = set()\n",
    "            genes_to_HOGs[gene].add(hog)\n",
    "    return genes_to_HOGs\n",
    "\n",
    "def test_map_genes_to_HOGs():\n",
    "    genes_to_HOGs_answer = {'gene1': {'HOG1'},\n",
    "                     'gene2': {'HOG1', 'HOG2'},\n",
    "                     'gene3': {'HOG2'}}\n",
    "    HOGs = {'HOG1': set(('gene1', 'gene2')),\n",
    "            'HOG2': set(('gene2', 'gene3'))}  # all HOGs start out parsed and non-exlusive\n",
    "    genes_to_HOGs = map_genes_to_HOGs(HOGs)\n",
    "    print(genes_to_HOGs, '\\n',genes_to_HOGs_answer)\n",
    "    assert genes_to_HOGs == genes_to_HOGs_answer\n",
    "test_map_genes_to_HOGs()    "
   ]
  },
  {
   "cell_type": "code",
   "execution_count": 5,
   "metadata": {
    "collapsed": false
   },
   "outputs": [],
   "source": [
    "from itertools import combinations\n",
    "import networkx\n",
    "\n",
    "def create_cluster_network(genes_to_HOGs, HOGs, blacklist_genes=set(), blacklist_HOGs=set()):\n",
    "    g = networkx.Graph()\n",
    "    g.add_nodes_from(HOGs.keys())\n",
    "    for gene, hogs in genes_to_HOGs.items():\n",
    "        if len(hogs) > 1:\n",
    "            if gene not in blacklist_genes:\n",
    "                target_hogs = hogs.difference(blacklist_HOGs)\n",
    "                # two HOGs have overlap and need to be merged\n",
    "                g.add_edges_from(combinations(target_hogs, 2))  # add edge between all hogs\n",
    "            \n",
    "    return g"
   ]
  },
  {
   "cell_type": "code",
   "execution_count": 6,
   "metadata": {
    "collapsed": false
   },
   "outputs": [
    {
     "name": "stdout",
     "output_type": "stream",
     "text": [
      "{'HOG1-HOG2': {'gene3', 'gene2', 'gene1'}}\n"
     ]
    }
   ],
   "source": [
    "def make_super_HOGs(HOGs, networked_hogs):\n",
    "    \"\"\"collect subnetworks together into larger clusters\"\"\"\n",
    "    super_HOGs = {}\n",
    "    genes_seen = set()\n",
    "    clusters = [c for c in sorted(networkx.connected_components(networked_hogs), key=len, reverse=True)]\n",
    "    for cluster in clusters:\n",
    "        name = '-'.join(cluster)\n",
    "        super_HOGs[name] = set().union(gene for hog in cluster for gene in HOGs[hog])\n",
    "        assert super_HOGs[name] not in genes_seen, \"You missed a clustering connection.  Genes should only occur once\"\n",
    "        genes_seen.update(super_HOGs[name])\n",
    "            \n",
    "    return super_HOGs\n",
    "\n",
    "def test_make_super_HOGs():\n",
    "    super_HOGs_answer = {'HOG1-HOG2': {'gene1', 'gene3', 'gene2'}}\n",
    "    HOGs = {'HOG1': set(('gene1', 'gene2')),\n",
    "            'HOG2': set(('gene2', 'gene3'))}  # all HOGs start out parsed and non-exlusive\n",
    "    genes_to_HOGs = map_genes_to_HOGs(HOGs)\n",
    "    network = create_cluster_network(genes_to_HOGs, HOGs)\n",
    "    assert str(network.edges()) == \"[('HOG1', 'HOG2')]\", network.edges()\n",
    "    super_HOGs = make_super_HOGs(HOGs, network)\n",
    "    print(super_HOGs)\n",
    "    assert super_HOGs == super_HOGs_answer, super_HOGs\n",
    "test_make_super_HOGs()"
   ]
  },
  {
   "cell_type": "markdown",
   "metadata": {},
   "source": [
    "### Actual Clusters with Real HOGs"
   ]
  },
  {
   "cell_type": "code",
   "execution_count": null,
   "metadata": {
    "collapsed": false
   },
   "outputs": [],
   "source": [
    "actual_genes_to_HOGs = map_genes_to_HOGs(HOGs)\n",
    "actual_network = create_cluster_network(actual_genes_to_HOGs, HOGs)\n",
    "super_HOGs = make_super_HOGs(HOGs, actual_network)\n",
    "\n",
    "\"{:,}\".format(len(HOGs) - len(super_HOGs)) + \"  Reduced count\""
   ]
  },
  {
   "cell_type": "markdown",
   "metadata": {},
   "source": [
    "## Compose new alignment with Super HOGs"
   ]
  },
  {
   "cell_type": "code",
   "execution_count": null,
   "metadata": {
    "collapsed": false
   },
   "outputs": [],
   "source": [
    "from DNASkittleUtils.DDVUtils import pp\n",
    "modified_HOGs_only = [c for c in sorted(networkx.connected_components(actual_network), key=len, reverse=True) if len(c) > 1]\n",
    "pp(len(modified_HOGs_only))"
   ]
  },
  {
   "cell_type": "code",
   "execution_count": null,
   "metadata": {
    "collapsed": false
   },
   "outputs": [],
   "source": [
    "assert all(['-'.join(h) in super_HOGs for h in modified_HOGs_only])"
   ]
  },
  {
   "cell_type": "markdown",
   "metadata": {},
   "source": [
    "_We could simply exclude all modified HOGs from the data as being ambiguous_"
   ]
  },
  {
   "cell_type": "markdown",
   "metadata": {},
   "source": [
    "### Concat super HOG fasta files into a new directoy"
   ]
  },
  {
   "cell_type": "code",
   "execution_count": null,
   "metadata": {
    "collapsed": false
   },
   "outputs": [],
   "source": [
    "from os.path import join, basename, splitext\n",
    "import os\n",
    "family_out_dir = r\"D:\\josiah\\Documents\\Research\\Thesis - Genome Symmetry\\DNA_Duplications\\Ash_Proteome\\Results_Jun25\\Orthologues_Jul06\\super_JOGs__tail\"\n",
    "HOGfasta = r\"D:\\josiah\\Documents\\Research\\Thesis - Genome Symmetry\\DNA_Duplications\\Ash_Proteome\\Results_Jun25\\Orthologues_Jul06\\Sequences\"\n",
    "os.makedirs(family_out_dir)\n",
    "for family in modified_HOGs_only:\n",
    "    family_name = ('-'.join(family))[:200] + '.fa'\n",
    "    with open(join(family_out_dir, family_name), 'wb') as concat:  # output file concatenation\n",
    "        for hog in family:\n",
    "            with open(join(HOGfasta, hog + '.fa'), 'rb') as hog_file:  # smaller input file\n",
    "                concat.write(hog_file.read())  # dump the whole file\n",
    "#                 concat.write('\\n')  # just to be safe\n",
    "            "
   ]
  },
  {
   "cell_type": "markdown",
   "metadata": {},
   "source": [
    "### Align the new gene family files"
   ]
  },
  {
   "cell_type": "code",
   "execution_count": null,
   "metadata": {
    "collapsed": false
   },
   "outputs": [],
   "source": [
    "import subprocess\n",
    "import multiprocessing\n",
    "from datetime import datetime\n",
    "import os\n",
    "from os.path import dirname, join, basename\n",
    "from Bio.Align.Applications import MuscleCommandline\n",
    "from DNASkittleUtils.CommandLineUtils import just_the_name\n",
    "from glob import glob\n",
    "\n",
    "def do_alignment(args):\n",
    "#     print(\"starting alignment\")\n",
    "    index, fa, output_folder = args\n",
    "    target = join(output_folder, just_the_name(fa) + '.fa')\n",
    "    muscle_exe = 'muscle3.8.31_i86win32.exe'\n",
    "\n",
    "    if not os.path.exists(target):\n",
    "        muscle_cline = MuscleCommandline(muscle_exe, input=fa, out=target)\n",
    "        try:\n",
    "            stdout, stderr = muscle_cline()\n",
    "        except subprocess.CalledProcessError as err:\n",
    "            print(err.stderr)\n",
    "        print(datetime.now(), just_the_name(fa), '{:%}'.format(index / 5347))\n",
    "\n",
    "def batch_align_sequences(input_folder, output_folder):\n",
    "    start = datetime.now()\n",
    "    input_folder = os.path.abspath(input_folder)\n",
    "    os.makedirs(output_folder, exist_ok=True)\n",
    "    files = glob(os.path.join(input_folder, '*.fa'))\n",
    "    files = sorted(files, key= os.path.getsize)\n",
    "    args = [(i, ipath, output_folder) for i, ipath in list(enumerate(files))]\n",
    "    for line in args:\n",
    "        do_alignment(line)\n",
    "#     pool.map(do_alignment, args)\n",
    "        \n",
    "    return os.path.abspath(output_folder)\n",
    "\n",
    "#You can't actually do multiprocessing from a notebook\n",
    "# if __name__ == '__main__':  # https://github.com/jupyter/notebook/issues/2080\n",
    "#     pool = multiprocessing.Pool(10)\n"
   ]
  },
  {
   "cell_type": "code",
   "execution_count": null,
   "metadata": {
    "collapsed": false
   },
   "outputs": [],
   "source": [
    "family_aligned_dir = r\"D:\\Genomes\\Ash_Gene_Families\\test\\aligned\"   \n",
    "family_fasta_dir = r\"D:\\Genomes\\Ash_Gene_Families\\test\"\n",
    "\n",
    "batch_align_sequences(input_folder = family_fasta_dir,\n",
    "                      output_folder = family_aligned_dir)"
   ]
  },
  {
   "cell_type": "code",
   "execution_count": null,
   "metadata": {
    "collapsed": true
   },
   "outputs": [],
   "source": [
    "family_aligned_dir = r\"D:\\Genomes\\Ash_Gene_Families\\aligned\"   \n",
    "family_fasta_dir = r\"D:\\Genomes\\Ash_Gene_Families\"\n",
    "\n",
    "batch_align_sequences(input_folder = family_fasta_dir,\n",
    "                      output_folder = family_aligned_dir)"
   ]
  },
  {
   "cell_type": "code",
   "execution_count": null,
   "metadata": {
    "collapsed": false
   },
   "outputs": [],
   "source": [
    "family_aligned_dir = r\"D:\\josiah\\Documents\\Research\\Thesis - Genome Symmetry\\DNA_Duplications\\data\\super_hog_test_viz\\aligned\"   \n",
    "family_fasta_dir = r\"D:\\josiah\\Documents\\Research\\Thesis - Genome Symmetry\\DNA_Duplications\\data\\super_hog_test_viz\"\n",
    "\n",
    "batch_align_sequences(input_folder = family_fasta_dir,\n",
    "                      output_folder = family_aligned_dir)"
   ]
  },
  {
   "cell_type": "code",
   "execution_count": null,
   "metadata": {
    "collapsed": false
   },
   "outputs": [],
   "source": [
    "family_aligned_dir = r\"D:\\josiah\\Documents\\Research\\Thesis - Genome Symmetry\\DNA_Duplications\\data\\phylogenetic_guides\\aligned\"   \n",
    "family_fasta_dir = r\"D:\\josiah\\Documents\\Research\\Thesis - Genome Symmetry\\DNA_Duplications\\data\\phylogenetic_guides\"\n",
    "\n",
    "batch_align_sequences(input_folder = family_fasta_dir,\n",
    "                      output_folder = family_aligned_dir)"
   ]
  },
  {
   "cell_type": "code",
   "execution_count": null,
   "metadata": {
    "collapsed": false
   },
   "outputs": [],
   "source": [
    "do_alignment((1, r\"D:\\Genomes\\Ash_Gene_Families\\OG0037028-OG0004348.fa\",\n",
    "             r\"D:\\Genomes\\Ash_Gene_Families\\test\\aligned\"))"
   ]
  },
  {
   "cell_type": "code",
   "execution_count": null,
   "metadata": {
    "collapsed": false
   },
   "outputs": [],
   "source": [
    "do_alignment((1, r\"D:\\Genomes\\Ash_Gene_Families\\test\\FRAX04_pair.fa\", r'D:\\Genomes\\Ash_Gene_Families\\test\\aligned'))"
   ]
  },
  {
   "cell_type": "code",
   "execution_count": null,
   "metadata": {
    "collapsed": true
   },
   "outputs": [],
   "source": [
    "\n",
    "list(enumerate(glob(join(r'D:\\josiah\\Documents\\Research\\Thesis - Genome Symmetry\\DNA_Duplications\\data\\candidates', '*.fa'))))"
   ]
  },
  {
   "cell_type": "markdown",
   "metadata": {},
   "source": [
    "* output files with lists of gene names to look for in each HOG\n",
    "* per species, find those gene names in the annotation\n",
    "* count presence / absence of a gene name in an annotation\n",
    "* group them back by super-HOGs\n",
    "* End result: gene copy count per each gene family defined by a super-HOG"
   ]
  },
  {
   "cell_type": "markdown",
   "metadata": {},
   "source": [
    "_Should I call this a multigene family?_"
   ]
  },
  {
   "cell_type": "markdown",
   "metadata": {},
   "source": [
    "# Fasta Processing"
   ]
  },
  {
   "cell_type": "code",
   "execution_count": null,
   "metadata": {
    "collapsed": false
   },
   "outputs": [],
   "source": [
    "from DNASkittleUtils.Contigs import read_contigs\n",
    "seqs = read_contigs(r\"D:\\Genomes\\Ash_Gene_Families\\OG0014503-OG0018028-OG0009430-OG0001620-OG0012608-OG0012187-OG0003830-OG0005353-OG0000848-OG0001316-OG0001679-OG00.fa\")\n",
    "print(len(seqs))\n",
    "%matplotlib inline\n",
    "import pandas\n",
    "lengths = [len(contig.seq) for contig in seqs ]\n",
    "df = pandas.Series(lengths)#, columns=['Family ID', 'Copies'])\n",
    "bins = 20\n",
    "f = df.hist(bins=bins, figsize=(10,5), )#dpi=300)\n",
    "f.grid(False)\n",
    "# f.set_xticks(range(bins))\n",
    "f.set_title(\"Are sequences clustered together actually the same size?\")\n",
    "f.set_xlabel(\"Sequence Length\")\n",
    "f.set_ylabel(\"Number of Sequences\")"
   ]
  },
  {
   "cell_type": "markdown",
   "metadata": {},
   "source": [
    "**Conclusion: This indicates that the file I opened is a massive super cluster with over 1,000 sequences in the 500 range and many more besides.  Making a cluster this big is not helpful to my analysis.**"
   ]
  },
  {
   "cell_type": "code",
   "execution_count": null,
   "metadata": {
    "collapsed": false
   },
   "outputs": [],
   "source": [
    "for family in modified_HOGs_only:\n",
    "    if 'OG0018028' in family:\n",
    "        print(family)"
   ]
  },
  {
   "cell_type": "code",
   "execution_count": null,
   "metadata": {
    "collapsed": false
   },
   "outputs": [],
   "source": [
    "len({'OG0023682', 'OG0001620', 'OG0008375', 'OG0036452', 'OG0019438', 'OG0000848', 'OG0025173', 'OG0007534', 'OG0001316', 'OG0019062', 'OG0002719', 'OG0012608', 'OG0003830', 'OG0010137', 'OG0023528', 'OG0007285', 'OG0014503', 'OG0011854', 'OG0010197', 'OG0020872', 'OG0001331', 'OG0009430', 'OG0018028', 'OG0010551', 'OG0031433', 'OG0031546', 'OG0001679', 'OG0012187', 'OG0005353'})"
   ]
  },
  {
   "cell_type": "code",
   "execution_count": null,
   "metadata": {
    "collapsed": false
   },
   "outputs": [],
   "source": [
    "def i_hist(values):\n",
    "    bins = [0] * (max(values) +1)\n",
    "    for v in values:\n",
    "        bins[v] += 1\n",
    "    return bins\n",
    "i_hist([len(family) for family in modified_HOGs_only])  # cap at 10"
   ]
  },
  {
   "cell_type": "code",
   "execution_count": null,
   "metadata": {
    "collapsed": false
   },
   "outputs": [],
   "source": [
    "list(zip(range(400), i_hist([len(genes) for genes in HOGs.values()]) ))  # cap at 200"
   ]
  },
  {
   "cell_type": "code",
   "execution_count": null,
   "metadata": {
    "collapsed": false
   },
   "outputs": [],
   "source": [
    "i_hist([len(ogs) for ogs in actual_genes_to_HOGs.values()])  # cap at 6 HOGs per gene"
   ]
  },
  {
   "cell_type": "markdown",
   "metadata": {},
   "source": [
    "### Blacklist promiscuous genes and HOGs"
   ]
  },
  {
   "cell_type": "code",
   "execution_count": 7,
   "metadata": {
    "collapsed": true
   },
   "outputs": [],
   "source": [
    "actual_genes_to_HOGs = map_genes_to_HOGs(HOGs)"
   ]
  },
  {
   "cell_type": "code",
   "execution_count": 8,
   "metadata": {
    "collapsed": false
   },
   "outputs": [
    {
     "data": {
      "text/plain": [
       "138"
      ]
     },
     "execution_count": 8,
     "metadata": {},
     "output_type": "execute_result"
    }
   ],
   "source": [
    "promiscuous_genes = [gene for gene, hogs in actual_genes_to_HOGs.items() if len(hogs) > 5]\n",
    "len(promiscuous_genes)"
   ]
  },
  {
   "cell_type": "code",
   "execution_count": 9,
   "metadata": {
    "collapsed": false
   },
   "outputs": [
    {
     "data": {
      "text/plain": [
       "396"
      ]
     },
     "execution_count": 9,
     "metadata": {},
     "output_type": "execute_result"
    }
   ],
   "source": [
    "promiscuous_HOGs = [hog for hog, genes in HOGs.items() if len(genes) > 150]\n",
    "len(promiscuous_HOGs)"
   ]
  },
  {
   "cell_type": "code",
   "execution_count": null,
   "metadata": {
    "collapsed": true
   },
   "outputs": [],
   "source": [
    "actual_genes_to_HOGs = map_genes_to_HOGs(HOGs)\n",
    "actual_network = create_cluster_network(actual_genes_to_HOGs, HOGs, promiscuous_genes, promiscuous_HOGs)\n",
    "super_HOGs = make_super_HOGs(HOGs, actual_network)\n",
    "\n",
    "print(\"{:,}\".format(len(HOGs) - len(super_HOGs)) + \"  Reduced count\")\n",
    "smart_modified_HOGs = [c for c in sorted(networkx.connected_components(actual_network), key=len, reverse=True) if len(c) > 1]"
   ]
  },
  {
   "cell_type": "code",
   "execution_count": 13,
   "metadata": {
    "collapsed": false
   },
   "outputs": [
    {
     "data": {
      "text/plain": [
       "('5,331', 'HOGs')"
      ]
     },
     "execution_count": 13,
     "metadata": {},
     "output_type": "execute_result"
    }
   ],
   "source": [
    "pp(len(smart_modified_HOGs)), \"HOGs\""
   ]
  },
  {
   "cell_type": "code",
   "execution_count": 14,
   "metadata": {
    "collapsed": false
   },
   "outputs": [
    {
     "data": {
      "text/plain": [
       "<matplotlib.text.Text at 0x395c4240>"
      ]
     },
     "execution_count": 14,
     "metadata": {},
     "output_type": "execute_result"
    },
    {
     "data": {
      "image/png": "[encoded data removed]",
      "text/plain": [
       "<matplotlib.figure.Figure at 0x30aa6588>"
      ]
     },
     "metadata": {},
     "output_type": "display_data"
    }
   ],
   "source": [
    "%matplotlib inline\n",
    "import pandas\n",
    "lengths = [sum(len(HOGs[label]) for label in group) for group in smart_modified_HOGs]\n",
    "df = pandas.Series(lengths)#, columns=['Family ID', 'Copies'])\n",
    "bins = 20\n",
    "f = df.hist(bins=bins, figsize=(10,5), )#dpi=300)\n",
    "f.grid(False)\n",
    "f.set_title(\"Did we damp down on extremely large HOGs?\")\n",
    "f.set_xlabel(\"Number of Genes per HOG\")\n",
    "f.set_ylabel(\"Number of HOGs\")"
   ]
  },
  {
   "cell_type": "markdown",
   "metadata": {},
   "source": [
    "** Conclusion: Just filter out HOGs with > 500 genes**"
   ]
  },
  {
   "cell_type": "code",
   "execution_count": 15,
   "metadata": {
    "collapsed": false
   },
   "outputs": [
    {
     "data": {
      "text/plain": [
       "'-15'"
      ]
     },
     "execution_count": 15,
     "metadata": {},
     "output_type": "execute_result"
    }
   ],
   "source": [
    "filtered_smart_modified_HOGs = [group for group in smart_modified_HOGs if sum(len(HOGs[label]) for label in group) < 500]\n",
    "pp(len(filtered_smart_modified_HOGs) - len(smart_modified_HOGs))"
   ]
  },
  {
   "cell_type": "code",
   "execution_count": null,
   "metadata": {
    "collapsed": false
   },
   "outputs": [],
   "source": [
    "%matplotlib inline\n",
    "import pandas\n",
    "lengths = [sum(len(HOGs[label]) for label in group) for group in modified_HOGs_only]\n",
    "df = pandas.Series(lengths)#, columns=['Family ID', 'Copies'])\n",
    "f = df.hist(bins=100, figsize=(10,5), )#dpi=300)\n",
    "f.grid(False)\n",
    "f.set_title(\"Did we damp down on extremely large HOGs?\")\n",
    "f.set_xlabel(\"Number of Genes per HOG\")\n",
    "f.set_ylabel(\"Number of HOGs\")"
   ]
  },
  {
   "cell_type": "markdown",
   "metadata": {},
   "source": [
    "## Concat Super HOG fasta into new directory"
   ]
  },
  {
   "cell_type": "code",
   "execution_count": null,
   "metadata": {
    "collapsed": false
   },
   "outputs": [],
   "source": [
    "from os.path import join, basename, splitext\n",
    "import os\n",
    "family_out_dir = r\"D:\\Genomes\\Ash_Gene_Families\\capped\"\n",
    "HOGfasta = r\"D:\\josiah\\Documents\\Research\\Thesis - Genome Symmetry\\DNA_Duplications\\Ash_Proteome\\Results_Jun25\\Orthologues_Jul06\\Sequences\"\n",
    "os.makedirs(family_out_dir, exist_ok=True)\n",
    "for family in filtered_smart_modified_HOGs:\n",
    "    family_name = ('-'.join(family))[:200] + '.fa'\n",
    "    with open(join(family_out_dir, family_name), 'wb') as concat:  # output file concatenation\n",
    "        for hog in family:\n",
    "            with open(join(HOGfasta, hog + '.fa'), 'rb') as hog_file:  # smaller input file\n",
    "                concat.write(hog_file.read())  # dump the whole file"
   ]
  },
  {
   "cell_type": "code",
   "execution_count": 16,
   "metadata": {
    "collapsed": false
   },
   "outputs": [
    {
     "data": {
      "text/plain": [
       "'5,316'"
      ]
     },
     "execution_count": 16,
     "metadata": {},
     "output_type": "execute_result"
    }
   ],
   "source": [
    "pp(len(filtered_smart_modified_HOGs))"
   ]
  }
 ],
 "metadata": {
  "kernelspec": {
   "display_name": "Python 3",
   "language": "python",
   "name": "python3"
  },
  "language_info": {
   "codemirror_mode": {
    "name": "ipython",
    "version": 3
   },
   "file_extension": ".py",
   "mimetype": "text/x-python",
   "name": "python",
   "nbconvert_exporter": "python",
   "pygments_lexer": "ipython3",
   "version": "3.4.3"
  }
 },
 "nbformat": 4,
 "nbformat_minor": 1
}
