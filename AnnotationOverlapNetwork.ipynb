{
 "cells": [
  {
   "cell_type": "markdown",
   "metadata": {},
   "source": [
    "# Complete Restart with JOGs using Orthofinder results\n",
    "JOGs are Josiah's Orthogroups from Orthofinder run using latest assemblies"
   ]
  },
  {
   "cell_type": "markdown",
   "metadata": {},
   "source": [
    "# HOG file parsing for gene names"
   ]
  },
  {
   "cell_type": "code",
   "execution_count": 1,
   "metadata": {
    "collapsed": true
   },
   "outputs": [],
   "source": [
    "from DNASkittleUtils.Contigs import read_contigs\n",
    "from DNASkittleUtils.DDVUtils import pp\n",
    "from os.path import join, basename, splitext\n",
    "import os"
   ]
  },
  {
   "cell_type": "code",
   "execution_count": 2,
   "metadata": {
    "collapsed": false
   },
   "outputs": [],
   "source": [
    "def convert_to_gene_id(name):\n",
    "    if name.startswith('FRAX'):  # not FRAEX for excelsior\n",
    "        name = name[name.find('_')+1:]\n",
    "        return name[:name.rfind('_')]  #chop off last _R0 tail\n",
    "    if name.startswith('FRAEX'):\n",
    "        name = name.replace('FRAEX38873_v2_', '')\n",
    "        return name#[:name.rfind('.')]\n",
    "    else:\n",
    "        return name\n",
    "assert convert_to_gene_id(\"FRAX19_000226960.2_R0\") == \"000226960.2\", convert_to_gene_id(\"FRAX19_000226960.2_R0\")\n",
    "assert convert_to_gene_id(\"FRAEX38873_v2_000001220.2\") == \"000001220.2\", convert_to_gene_id(\"FRAEX38873_v2_000001220.2\")\n",
    "tomato = 'Solyc03g095770.2.1 pacid=36135394 transcript=Solyc03g095770.2.1 locus=Solyc03g095770.2 ID=Solyc03g095770.2.1.ITAG2.4 annot-version=ITAG2.4 [Slycopersicum_390_ITAG2]'\n",
    "assert convert_to_gene_id(tomato) == tomato\n"
   ]
  },
  {
   "cell_type": "code",
   "execution_count": 3,
   "metadata": {
    "collapsed": true
   },
   "outputs": [],
   "source": [
    "def parse_OGs_from_Orthogroups_csv():\n",
    "    Orthogroups_csv = r\"D:\\josiah\\Documents\\Research\\Thesis - Genome Symmetry\\DNA_Duplications\\Ash_Proteome\\Results_Jun25\\Orthogroups.csv\"\n",
    "    HOGs = {}\n",
    "    with open(Orthogroups_csv, 'r') as csv:\n",
    "        for line in csv:\n",
    "            genes = line.strip().split()\n",
    "            og, genes = genes[0][:-1], genes[1:]  # split off first\n",
    "            HOGs[og] = genes\n",
    "    return HOGs"
   ]
  },
  {
   "cell_type": "code",
   "execution_count": 2,
   "metadata": {
    "collapsed": false
   },
   "outputs": [
    {
     "data": {
      "text/plain": [
       "64650"
      ]
     },
     "execution_count": 2,
     "metadata": {},
     "output_type": "execute_result"
    }
   ],
   "source": [
    "OGs = parse_OGs_from_Orthogroups_csv()\n",
    "len(OGs)"
   ]
  },
  {
   "cell_type": "code",
   "execution_count": 3,
   "metadata": {
    "collapsed": false
   },
   "outputs": [
    {
     "data": {
      "text/plain": [
       "['OE6A039394P1']"
      ]
     },
     "execution_count": 3,
     "metadata": {},
     "output_type": "execute_result"
    }
   ],
   "source": [
    "OGs['OG0047000']"
   ]
  },
  {
   "cell_type": "markdown",
   "metadata": {},
   "source": [
    "# Greedy merge algorithm\n",
    " ( agglomerative clustering? )\n",
    "* Starting clusters can be HOGs\n",
    "* clusters = dict{ gene: pointer to cluster }\n",
    "* Clusters are set(gene)\n",
    "* First gene gets a new cluster\n",
    "* If gene A overlaps with gene B anywhere, then go through each cluster to find gene A and add gene B\n",
    "* If gene B is in any other clusters, find it and merge the entire cluster into gene A cluster\n",
    "* Assert a gene can only ever be in one cluster at a time, except in the atomic operation of merging two\n"
   ]
  },
  {
   "cell_type": "markdown",
   "metadata": {},
   "source": [
    "### Starting from HOGs but no side-effects, using networkx to retreive clusters"
   ]
  },
  {
   "cell_type": "markdown",
   "metadata": {},
   "source": [
    "[Python Network Graphs](https://www.python.org/doc/essays/graphs/)\n",
    "\n",
    "[Creating a networkx graph](https://networkx.github.io/documentation/networkx-1.10/tutorial/tutorial.html)  \n",
    "[Graph Connected Components](https://networkx.github.io/documentation/networkx-1.10/reference/generated/networkx.algorithms.components.connected.connected_components.html)"
   ]
  },
  {
   "cell_type": "code",
   "execution_count": 4,
   "metadata": {
    "collapsed": false
   },
   "outputs": [
    {
     "name": "stdout",
     "output_type": "stream",
     "text": [
      "{'gene3': {'HOG2'}, 'gene1': {'HOG1'}, 'gene2': {'HOG2', 'HOG1'}} \n",
      " {'gene3': {'HOG2'}, 'gene1': {'HOG1'}, 'gene2': {'HOG2', 'HOG1'}}\n"
     ]
    }
   ],
   "source": [
    "def map_genes_to_HOGs(HOGs):\n",
    "    genes_to_HOGs = {}\n",
    "    for hog, genes in HOGs.items():\n",
    "        for gene in genes:\n",
    "            if gene not in genes_to_HOGs:\n",
    "                genes_to_HOGs[gene] = set()\n",
    "            genes_to_HOGs[gene].add(hog)\n",
    "    return genes_to_HOGs\n",
    "\n",
    "def test_map_genes_to_HOGs():\n",
    "    genes_to_HOGs_answer = {'gene1': {'HOG1'},\n",
    "                     'gene2': {'HOG1', 'HOG2'},\n",
    "                     'gene3': {'HOG2'}}\n",
    "    HOGs = {'HOG1': set(('gene1', 'gene2')),\n",
    "            'HOG2': set(('gene2', 'gene3'))}  # all HOGs start out parsed and non-exlusive\n",
    "    genes_to_HOGs = map_genes_to_HOGs(HOGs)\n",
    "    print(genes_to_HOGs, '\\n',genes_to_HOGs_answer)\n",
    "    assert genes_to_HOGs == genes_to_HOGs_answer\n",
    "test_map_genes_to_HOGs()    "
   ]
  },
  {
   "cell_type": "code",
   "execution_count": 5,
   "metadata": {
    "collapsed": false
   },
   "outputs": [],
   "source": [
    "from itertools import combinations\n",
    "import networkx\n",
    "\n",
    "def create_cluster_network(genes_to_HOGs, HOGs, blacklist_genes=set(), blacklist_HOGs=set()):\n",
    "    g = networkx.Graph()\n",
    "    g.add_nodes_from(HOGs.keys())\n",
    "    for gene, hogs in genes_to_HOGs.items():\n",
    "        if len(hogs) > 1:\n",
    "            if gene not in blacklist_genes:\n",
    "                target_hogs = hogs.difference(blacklist_HOGs)\n",
    "                # two HOGs have overlap and need to be merged\n",
    "                g.add_edges_from(combinations(target_hogs, 2))  # add edge between all hogs\n",
    "            \n",
    "    return g"
   ]
  },
  {
   "cell_type": "code",
   "execution_count": 6,
   "metadata": {
    "collapsed": false
   },
   "outputs": [
    {
     "name": "stdout",
     "output_type": "stream",
     "text": [
      "{'HOG2-HOG1': {'gene3', 'gene1', 'gene2'}}\n"
     ]
    }
   ],
   "source": [
    "def make_super_HOGs(HOGs, networked_hogs):\n",
    "    \"\"\"collect subnetworks together into larger clusters\"\"\"\n",
    "    super_HOGs = {}\n",
    "    genes_seen = set()\n",
    "    clusters = [c for c in sorted(networkx.connected_components(networked_hogs), key=len, reverse=True)]\n",
    "    for cluster in clusters:\n",
    "        name = '-'.join(cluster)\n",
    "        super_HOGs[name] = set().union(gene for hog in cluster for gene in HOGs[hog])\n",
    "        assert super_HOGs[name] not in genes_seen, \"You missed a clustering connection.  Genes should only occur once\"\n",
    "        genes_seen.update(super_HOGs[name])\n",
    "            \n",
    "    return super_HOGs\n",
    "\n",
    "def test_make_super_HOGs():\n",
    "    super_HOGs_answer = {'HOG2-HOG1': {'gene1', 'gene2', 'gene3'}}\n",
    "    HOGs = {'HOG1': set(('gene1', 'gene2')),\n",
    "            'HOG2': set(('gene2', 'gene3'))}  # all HOGs start out parsed and non-exlusive\n",
    "    genes_to_HOGs = map_genes_to_HOGs(HOGs)\n",
    "    network = create_cluster_network(genes_to_HOGs, HOGs)\n",
    "    assert str(network.edges()) == \"[('HOG2', 'HOG1')]\", network.edges()\n",
    "    super_HOGs = make_super_HOGs(HOGs, network)\n",
    "    print(super_HOGs)\n",
    "    assert super_HOGs == super_HOGs_answer, super_HOGs\n",
    "test_make_super_HOGs()"
   ]
  },
  {
   "cell_type": "markdown",
   "metadata": {},
   "source": [
    "### New way of clustering and tabulating using only orthogroups.csv"
   ]
  },
  {
   "cell_type": "code",
   "execution_count": 7,
   "metadata": {
    "collapsed": true
   },
   "outputs": [],
   "source": [
    "ogs_to_specific_genes = parse_OGs_from_Orthogroups_csv()\n",
    "ogs_to_generic_genes = {og: set(convert_to_gene_id(g) for g in genes) for og, genes in ogs_to_specific_genes.items()}\n",
    "generic_genes_to_ogs = map_genes_to_HOGs(ogs_to_generic_genes)"
   ]
  },
  {
   "cell_type": "code",
   "execution_count": 8,
   "metadata": {
    "collapsed": false
   },
   "outputs": [
    {
     "name": "stdout",
     "output_type": "stream",
     "text": [
      "21\n"
     ]
    },
    {
     "data": {
      "text/plain": [
       "25"
      ]
     },
     "execution_count": 8,
     "metadata": {},
     "output_type": "execute_result"
    }
   ],
   "source": [
    "promiscuous_genes = [gene for gene, hogs in generic_genes_to_ogs.items() if len(hogs) > 20]\n",
    "print(len(promiscuous_genes))\n",
    "promiscuous_OGs = [hog for hog, genes in ogs_to_specific_genes.items() if len(genes) > 350]\n",
    "len(promiscuous_OGs)"
   ]
  },
  {
   "cell_type": "code",
   "execution_count": 17,
   "metadata": {
    "collapsed": true
   },
   "outputs": [
    {
     "data": {
      "text/plain": [
       "['OG0000052',\n",
       " 'OG0000058',\n",
       " 'OG0000071',\n",
       " 'OG0000013',\n",
       " 'OG0000042',\n",
       " 'OG0000066',\n",
       " 'OG0000063',\n",
       " 'OG0000007',\n",
       " 'OG0000047',\n",
       " 'OG0000070',\n",
       " 'OG0000036',\n",
       " 'OG0000065',\n",
       " 'OG0000005',\n",
       " 'OG0000009',\n",
       " 'OG0000075',\n",
       " 'OG0000014',\n",
       " 'OG0000022',\n",
       " 'OG0000051',\n",
       " 'OG0000027',\n",
       " 'OG0000015',\n",
       " 'OG0000043',\n",
       " 'OG0000060',\n",
       " 'OG0000006',\n",
       " 'OG0000050',\n",
       " 'OG0000021',\n",
       " 'OG0000038',\n",
       " 'OG0000037',\n",
       " 'OG0000002',\n",
       " 'OG0000016',\n",
       " 'OG0000069',\n",
       " 'OG0000053',\n",
       " 'OG0000010',\n",
       " 'OG0000011',\n",
       " 'OG0000018',\n",
       " 'OG0000001',\n",
       " 'OG0000057',\n",
       " 'OG0000049',\n",
       " 'OG0000028',\n",
       " 'OG0000045',\n",
       " 'OG0000029',\n",
       " 'OG0000059',\n",
       " 'OG0000041',\n",
       " 'OG0000056',\n",
       " 'OG0000003',\n",
       " 'OG0000068',\n",
       " 'OG0000019',\n",
       " 'OG0000012',\n",
       " 'OG0000023',\n",
       " 'OG0000030',\n",
       " 'OG0000033',\n",
       " 'OG0000064',\n",
       " 'OG0000055',\n",
       " 'OG0000020',\n",
       " 'OG0000039',\n",
       " 'OG0000048',\n",
       " 'OG0000017',\n",
       " 'OG0000073',\n",
       " 'OG0000040',\n",
       " 'OG0000008',\n",
       " 'OG0000054',\n",
       " 'OG0000074',\n",
       " 'OG0000032',\n",
       " 'OG0000044',\n",
       " 'OG0000035',\n",
       " 'OG0000061',\n",
       " 'OG0000024',\n",
       " 'OG0000067',\n",
       " 'OG0000004',\n",
       " 'OG0000000',\n",
       " 'OG0000034',\n",
       " 'OG0000031',\n",
       " 'OG0000072',\n",
       " 'OG0000062',\n",
       " 'OG0000026',\n",
       " 'OG0000025',\n",
       " 'OG0000046']"
      ]
     },
     "execution_count": 17,
     "metadata": {},
     "output_type": "execute_result"
    }
   ],
   "source": [
    "promiscuous_OGs\n",
    "\n",
    "ogs_to_specific_genes['OG0000052']"
   ]
  },
  {
   "cell_type": "code",
   "execution_count": 9,
   "metadata": {
    "collapsed": true
   },
   "outputs": [],
   "source": [
    "network = create_cluster_network(generic_genes_to_ogs, ogs_to_generic_genes, promiscuous_genes, promiscuous_OGs)\n",
    "JSG_to_specific_genes = make_super_HOGs(ogs_to_specific_genes, network)"
   ]
  },
  {
   "cell_type": "code",
   "execution_count": 10,
   "metadata": {
    "collapsed": false
   },
   "outputs": [
    {
     "data": {
      "text/plain": [
       "'44,018'"
      ]
     },
     "execution_count": 10,
     "metadata": {},
     "output_type": "execute_result"
    }
   ],
   "source": [
    "pp(len(JSG_to_specific_genes))"
   ]
  },
  {
   "cell_type": "code",
   "execution_count": 11,
   "metadata": {
    "collapsed": false
   },
   "outputs": [],
   "source": [
    "all_species = 'FRAX00\tFRAX01\tFRAX02\tFRAX03\tFRAX04\tFRAX05\tFRAX06\tFRAX07\tFRAX08\tFRAX09\tFRAX11\tFRAX12\tFRAX13\tFRAX14\tFRAX15\tFRAX16\tFRAX19\tFRAX20\tFRAX21\tFRAX23\tFRAX25\tFRAX26\tFRAX27\tFRAX28\tFRAX29\tFRAX30\tFRAX31\tFRAX32\tFRAX33\tFRAX34\tOeuropea\tMguttatus\tSlycopersicum'.split('\\t')\n",
    "species_aliases = {'OE6': 'Oeuropea', 'Sol': 'Slycopersicum', 'Mig': 'Mguttatus'}\n",
    "def extract_species(gene_name):\n",
    "    if gene_name.startswith('FRAEX'):\n",
    "        return 'FRAX00'\n",
    "    elif gene_name.startswith('FRAX'):\n",
    "        return gene_name.split('_')[0]\n",
    "    else:\n",
    "        three = gene_name[:3]\n",
    "        return species_aliases[three]"
   ]
  },
  {
   "cell_type": "code",
   "execution_count": 12,
   "metadata": {
    "collapsed": false
   },
   "outputs": [
    {
     "name": "stdout",
     "output_type": "stream",
     "text": [
      "44018\n"
     ]
    },
    {
     "data": {
      "text/html": [
       "<div>\n",
       "<style scoped>\n",
       "    .dataframe tbody tr th:only-of-type {\n",
       "        vertical-align: middle;\n",
       "    }\n",
       "\n",
       "    .dataframe tbody tr th {\n",
       "        vertical-align: top;\n",
       "    }\n",
       "\n",
       "    .dataframe thead th {\n",
       "        text-align: right;\n",
       "    }\n",
       "</style>\n",
       "<table border=\"1\" class=\"dataframe\">\n",
       "  <thead>\n",
       "    <tr style=\"text-align: right;\">\n",
       "      <th></th>\n",
       "      <th>Desc</th>\n",
       "      <th>FRAX00</th>\n",
       "      <th>FRAX01</th>\n",
       "      <th>FRAX02</th>\n",
       "      <th>FRAX03</th>\n",
       "      <th>FRAX04</th>\n",
       "      <th>FRAX05</th>\n",
       "      <th>FRAX06</th>\n",
       "      <th>FRAX07</th>\n",
       "      <th>FRAX08</th>\n",
       "      <th>...</th>\n",
       "      <th>FRAX28</th>\n",
       "      <th>FRAX29</th>\n",
       "      <th>FRAX30</th>\n",
       "      <th>FRAX31</th>\n",
       "      <th>FRAX32</th>\n",
       "      <th>FRAX33</th>\n",
       "      <th>FRAX34</th>\n",
       "      <th>Oeuropea</th>\n",
       "      <th>Mguttatus</th>\n",
       "      <th>Slycopersicum</th>\n",
       "    </tr>\n",
       "  </thead>\n",
       "  <tbody>\n",
       "    <tr>\n",
       "      <th>0</th>\n",
       "      <td>JSG00000</td>\n",
       "      <td>0</td>\n",
       "      <td>0</td>\n",
       "      <td>0</td>\n",
       "      <td>0</td>\n",
       "      <td>0</td>\n",
       "      <td>0</td>\n",
       "      <td>0</td>\n",
       "      <td>0</td>\n",
       "      <td>0</td>\n",
       "      <td>...</td>\n",
       "      <td>0</td>\n",
       "      <td>0</td>\n",
       "      <td>0</td>\n",
       "      <td>0</td>\n",
       "      <td>0</td>\n",
       "      <td>0</td>\n",
       "      <td>0</td>\n",
       "      <td>0</td>\n",
       "      <td>0</td>\n",
       "      <td>0</td>\n",
       "    </tr>\n",
       "    <tr>\n",
       "      <th>1</th>\n",
       "      <td>JSG00001</td>\n",
       "      <td>0</td>\n",
       "      <td>0</td>\n",
       "      <td>0</td>\n",
       "      <td>0</td>\n",
       "      <td>0</td>\n",
       "      <td>0</td>\n",
       "      <td>0</td>\n",
       "      <td>0</td>\n",
       "      <td>0</td>\n",
       "      <td>...</td>\n",
       "      <td>0</td>\n",
       "      <td>0</td>\n",
       "      <td>0</td>\n",
       "      <td>0</td>\n",
       "      <td>0</td>\n",
       "      <td>0</td>\n",
       "      <td>0</td>\n",
       "      <td>0</td>\n",
       "      <td>1</td>\n",
       "      <td>0</td>\n",
       "    </tr>\n",
       "    <tr>\n",
       "      <th>2</th>\n",
       "      <td>JSG00002</td>\n",
       "      <td>2</td>\n",
       "      <td>1</td>\n",
       "      <td>6</td>\n",
       "      <td>3</td>\n",
       "      <td>2</td>\n",
       "      <td>3</td>\n",
       "      <td>2</td>\n",
       "      <td>2</td>\n",
       "      <td>4</td>\n",
       "      <td>...</td>\n",
       "      <td>3</td>\n",
       "      <td>4</td>\n",
       "      <td>3</td>\n",
       "      <td>2</td>\n",
       "      <td>4</td>\n",
       "      <td>3</td>\n",
       "      <td>3</td>\n",
       "      <td>3</td>\n",
       "      <td>1</td>\n",
       "      <td>2</td>\n",
       "    </tr>\n",
       "    <tr>\n",
       "      <th>3</th>\n",
       "      <td>JSG00003</td>\n",
       "      <td>1</td>\n",
       "      <td>3</td>\n",
       "      <td>2</td>\n",
       "      <td>1</td>\n",
       "      <td>1</td>\n",
       "      <td>0</td>\n",
       "      <td>2</td>\n",
       "      <td>1</td>\n",
       "      <td>1</td>\n",
       "      <td>...</td>\n",
       "      <td>1</td>\n",
       "      <td>1</td>\n",
       "      <td>1</td>\n",
       "      <td>1</td>\n",
       "      <td>1</td>\n",
       "      <td>1</td>\n",
       "      <td>0</td>\n",
       "      <td>2</td>\n",
       "      <td>1</td>\n",
       "      <td>1</td>\n",
       "    </tr>\n",
       "    <tr>\n",
       "      <th>4</th>\n",
       "      <td>JSG00004</td>\n",
       "      <td>0</td>\n",
       "      <td>0</td>\n",
       "      <td>0</td>\n",
       "      <td>0</td>\n",
       "      <td>0</td>\n",
       "      <td>0</td>\n",
       "      <td>0</td>\n",
       "      <td>0</td>\n",
       "      <td>0</td>\n",
       "      <td>...</td>\n",
       "      <td>0</td>\n",
       "      <td>0</td>\n",
       "      <td>0</td>\n",
       "      <td>0</td>\n",
       "      <td>0</td>\n",
       "      <td>0</td>\n",
       "      <td>0</td>\n",
       "      <td>0</td>\n",
       "      <td>1</td>\n",
       "      <td>0</td>\n",
       "    </tr>\n",
       "  </tbody>\n",
       "</table>\n",
       "<p>5 rows × 34 columns</p>\n",
       "</div>"
      ],
      "text/plain": [
       "       Desc  FRAX00  FRAX01  FRAX02  FRAX03  FRAX04  FRAX05  FRAX06  FRAX07  \\\n",
       "0  JSG00000       0       0       0       0       0       0       0       0   \n",
       "1  JSG00001       0       0       0       0       0       0       0       0   \n",
       "2  JSG00002       2       1       6       3       2       3       2       2   \n",
       "3  JSG00003       1       3       2       1       1       0       2       1   \n",
       "4  JSG00004       0       0       0       0       0       0       0       0   \n",
       "\n",
       "   FRAX08      ...        FRAX28  FRAX29  FRAX30  FRAX31  FRAX32  FRAX33  \\\n",
       "0       0      ...             0       0       0       0       0       0   \n",
       "1       0      ...             0       0       0       0       0       0   \n",
       "2       4      ...             3       4       3       2       4       3   \n",
       "3       1      ...             1       1       1       1       1       1   \n",
       "4       0      ...             0       0       0       0       0       0   \n",
       "\n",
       "   FRAX34  Oeuropea  Mguttatus  Slycopersicum  \n",
       "0       0         0          0              0  \n",
       "1       0         0          1              0  \n",
       "2       3         3          1              2  \n",
       "3       0         2          1              1  \n",
       "4       0         0          1              0  \n",
       "\n",
       "[5 rows x 34 columns]"
      ]
     },
     "execution_count": 12,
     "metadata": {},
     "output_type": "execute_result"
    }
   ],
   "source": [
    "from pandas import DataFrame    \n",
    "def create_count_table_from_JSGs(JSG_to_specific_genes):\n",
    "    \"\"\"Map generic names back to their specifics and perform species count table based on those names\"\"\"\n",
    "    table = []\n",
    "    for jsg, specific_genes in JSG_to_specific_genes.items():\n",
    "        species_row = {species: 0 for species in all_species}\n",
    "        species_row['Desc'] = 'JSG' + str(len(table)).zfill(5)\n",
    "        for gene in specific_genes:\n",
    "            species_row[ extract_species(gene) ] += 1\n",
    "        table.append(species_row)\n",
    "        \n",
    "    df = DataFrame(table, columns=['Desc'] + all_species) #table.loc[species_row['Family ID']] = species_row\n",
    "    return df\n",
    "\n",
    "table = create_count_table_from_JSGs(JSG_to_specific_genes)\n",
    "print(len(table))\n",
    "table.head()"
   ]
  },
  {
   "cell_type": "markdown",
   "metadata": {},
   "source": [
    "## Output new CSV counts"
   ]
  },
  {
   "cell_type": "code",
   "execution_count": 13,
   "metadata": {
    "collapsed": true
   },
   "outputs": [],
   "source": [
    "with open('Ash_Proteome/Results_Jun25/JSG_to_OG_mappings.csv', 'w') as out:\n",
    "    line_count = 0\n",
    "    for jsg, specific_genes in JSG_to_specific_genes.items(): \n",
    "        name = 'JSG' + str(line_count).zfill(5)\n",
    "        line_count += 1\n",
    "        out.write(name + \"\\t\" + ','.join(jsg.split('-')) + '\\t' + ','.join(specific_genes) + '\\n' )"
   ]
  },
  {
   "cell_type": "code",
   "execution_count": 14,
   "metadata": {
    "collapsed": false
   },
   "outputs": [
    {
     "data": {
      "text/html": [
       "<div>\n",
       "<style scoped>\n",
       "    .dataframe tbody tr th:only-of-type {\n",
       "        vertical-align: middle;\n",
       "    }\n",
       "\n",
       "    .dataframe tbody tr th {\n",
       "        vertical-align: top;\n",
       "    }\n",
       "\n",
       "    .dataframe thead th {\n",
       "        text-align: right;\n",
       "    }\n",
       "</style>\n",
       "<table border=\"1\" class=\"dataframe\">\n",
       "  <thead>\n",
       "    <tr style=\"text-align: right;\">\n",
       "      <th></th>\n",
       "      <th>Desc</th>\n",
       "      <th>sum</th>\n",
       "      <th>FRAX00</th>\n",
       "      <th>FRAX01</th>\n",
       "      <th>FRAX02</th>\n",
       "      <th>FRAX03</th>\n",
       "      <th>FRAX04</th>\n",
       "      <th>FRAX05</th>\n",
       "      <th>FRAX06</th>\n",
       "      <th>FRAX07</th>\n",
       "      <th>...</th>\n",
       "      <th>FRAX28</th>\n",
       "      <th>FRAX29</th>\n",
       "      <th>FRAX30</th>\n",
       "      <th>FRAX31</th>\n",
       "      <th>FRAX32</th>\n",
       "      <th>FRAX33</th>\n",
       "      <th>FRAX34</th>\n",
       "      <th>Oeuropea</th>\n",
       "      <th>Mguttatus</th>\n",
       "      <th>Slycopersicum</th>\n",
       "    </tr>\n",
       "    <tr>\n",
       "      <th>Family ID</th>\n",
       "      <th></th>\n",
       "      <th></th>\n",
       "      <th></th>\n",
       "      <th></th>\n",
       "      <th></th>\n",
       "      <th></th>\n",
       "      <th></th>\n",
       "      <th></th>\n",
       "      <th></th>\n",
       "      <th></th>\n",
       "      <th></th>\n",
       "      <th></th>\n",
       "      <th></th>\n",
       "      <th></th>\n",
       "      <th></th>\n",
       "      <th></th>\n",
       "      <th></th>\n",
       "      <th></th>\n",
       "      <th></th>\n",
       "      <th></th>\n",
       "      <th></th>\n",
       "    </tr>\n",
       "  </thead>\n",
       "  <tbody>\n",
       "    <tr>\n",
       "      <th>14444</th>\n",
       "      <td>JSG14444</td>\n",
       "      <td>3349</td>\n",
       "      <td>110</td>\n",
       "      <td>108</td>\n",
       "      <td>109</td>\n",
       "      <td>105</td>\n",
       "      <td>90</td>\n",
       "      <td>105</td>\n",
       "      <td>95</td>\n",
       "      <td>108</td>\n",
       "      <td>...</td>\n",
       "      <td>110</td>\n",
       "      <td>109</td>\n",
       "      <td>105</td>\n",
       "      <td>69</td>\n",
       "      <td>110</td>\n",
       "      <td>110</td>\n",
       "      <td>84</td>\n",
       "      <td>209</td>\n",
       "      <td>74</td>\n",
       "      <td>75</td>\n",
       "    </tr>\n",
       "    <tr>\n",
       "      <th>28342</th>\n",
       "      <td>JSG28342</td>\n",
       "      <td>2797</td>\n",
       "      <td>22</td>\n",
       "      <td>106</td>\n",
       "      <td>84</td>\n",
       "      <td>93</td>\n",
       "      <td>79</td>\n",
       "      <td>114</td>\n",
       "      <td>100</td>\n",
       "      <td>102</td>\n",
       "      <td>...</td>\n",
       "      <td>93</td>\n",
       "      <td>107</td>\n",
       "      <td>94</td>\n",
       "      <td>84</td>\n",
       "      <td>98</td>\n",
       "      <td>105</td>\n",
       "      <td>85</td>\n",
       "      <td>23</td>\n",
       "      <td>0</td>\n",
       "      <td>0</td>\n",
       "    </tr>\n",
       "    <tr>\n",
       "      <th>40369</th>\n",
       "      <td>JSG40369</td>\n",
       "      <td>2551</td>\n",
       "      <td>79</td>\n",
       "      <td>78</td>\n",
       "      <td>89</td>\n",
       "      <td>77</td>\n",
       "      <td>74</td>\n",
       "      <td>82</td>\n",
       "      <td>75</td>\n",
       "      <td>82</td>\n",
       "      <td>...</td>\n",
       "      <td>79</td>\n",
       "      <td>85</td>\n",
       "      <td>75</td>\n",
       "      <td>78</td>\n",
       "      <td>81</td>\n",
       "      <td>90</td>\n",
       "      <td>67</td>\n",
       "      <td>102</td>\n",
       "      <td>54</td>\n",
       "      <td>48</td>\n",
       "    </tr>\n",
       "    <tr>\n",
       "      <th>32193</th>\n",
       "      <td>JSG32193</td>\n",
       "      <td>2294</td>\n",
       "      <td>76</td>\n",
       "      <td>67</td>\n",
       "      <td>69</td>\n",
       "      <td>67</td>\n",
       "      <td>66</td>\n",
       "      <td>68</td>\n",
       "      <td>72</td>\n",
       "      <td>71</td>\n",
       "      <td>...</td>\n",
       "      <td>68</td>\n",
       "      <td>74</td>\n",
       "      <td>66</td>\n",
       "      <td>59</td>\n",
       "      <td>66</td>\n",
       "      <td>69</td>\n",
       "      <td>61</td>\n",
       "      <td>109</td>\n",
       "      <td>89</td>\n",
       "      <td>75</td>\n",
       "    </tr>\n",
       "    <tr>\n",
       "      <th>2784</th>\n",
       "      <td>JSG02784</td>\n",
       "      <td>2156</td>\n",
       "      <td>49</td>\n",
       "      <td>64</td>\n",
       "      <td>65</td>\n",
       "      <td>59</td>\n",
       "      <td>54</td>\n",
       "      <td>73</td>\n",
       "      <td>72</td>\n",
       "      <td>79</td>\n",
       "      <td>...</td>\n",
       "      <td>75</td>\n",
       "      <td>71</td>\n",
       "      <td>76</td>\n",
       "      <td>54</td>\n",
       "      <td>66</td>\n",
       "      <td>65</td>\n",
       "      <td>52</td>\n",
       "      <td>200</td>\n",
       "      <td>43</td>\n",
       "      <td>15</td>\n",
       "    </tr>\n",
       "  </tbody>\n",
       "</table>\n",
       "<p>5 rows × 35 columns</p>\n",
       "</div>"
      ],
      "text/plain": [
       "               Desc   sum  FRAX00  FRAX01  FRAX02  FRAX03  FRAX04  FRAX05  \\\n",
       "Family ID                                                                   \n",
       "14444      JSG14444  3349     110     108     109     105      90     105   \n",
       "28342      JSG28342  2797      22     106      84      93      79     114   \n",
       "40369      JSG40369  2551      79      78      89      77      74      82   \n",
       "32193      JSG32193  2294      76      67      69      67      66      68   \n",
       "2784       JSG02784  2156      49      64      65      59      54      73   \n",
       "\n",
       "           FRAX06  FRAX07      ...        FRAX28  FRAX29  FRAX30  FRAX31  \\\n",
       "Family ID                      ...                                         \n",
       "14444          95     108      ...           110     109     105      69   \n",
       "28342         100     102      ...            93     107      94      84   \n",
       "40369          75      82      ...            79      85      75      78   \n",
       "32193          72      71      ...            68      74      66      59   \n",
       "2784           72      79      ...            75      71      76      54   \n",
       "\n",
       "           FRAX32  FRAX33  FRAX34  Oeuropea  Mguttatus  Slycopersicum  \n",
       "Family ID                                                              \n",
       "14444         110     110      84       209         74             75  \n",
       "28342          98     105      85        23          0              0  \n",
       "40369          81      90      67       102         54             48  \n",
       "32193          66      69      61       109         89             75  \n",
       "2784           66      65      52       200         43             15  \n",
       "\n",
       "[5 rows x 35 columns]"
      ]
     },
     "execution_count": 14,
     "metadata": {},
     "output_type": "execute_result"
    }
   ],
   "source": [
    "sums = table.sum(numeric_only=True, axis=1)\n",
    "df = table.assign(sum= sums)\n",
    "columns=['Desc', 'sum'] + all_species\n",
    "df.index.name = 'Family ID'\n",
    "df = df[columns]\n",
    "df.sort_values('sum', ascending=False, inplace=True)\n",
    "df.head()"
   ]
  },
  {
   "cell_type": "code",
   "execution_count": 15,
   "metadata": {
    "collapsed": true
   },
   "outputs": [],
   "source": [
    "df.to_csv('Ash_Proteome/Results_Jun25/JSG_GeneCounts.csv', sep='\\t')"
   ]
  },
  {
   "cell_type": "markdown",
   "metadata": {},
   "source": [
    "------"
   ]
  },
  {
   "cell_type": "code",
   "execution_count": 16,
   "metadata": {
    "collapsed": false
   },
   "outputs": [
    {
     "data": {
      "text/html": [
       "<div>\n",
       "<style scoped>\n",
       "    .dataframe tbody tr th:only-of-type {\n",
       "        vertical-align: middle;\n",
       "    }\n",
       "\n",
       "    .dataframe tbody tr th {\n",
       "        vertical-align: top;\n",
       "    }\n",
       "\n",
       "    .dataframe thead th {\n",
       "        text-align: right;\n",
       "    }\n",
       "</style>\n",
       "<table border=\"1\" class=\"dataframe\">\n",
       "  <thead>\n",
       "    <tr style=\"text-align: right;\">\n",
       "      <th></th>\n",
       "      <th>Desc</th>\n",
       "      <th>sum</th>\n",
       "      <th>FRAX00</th>\n",
       "      <th>FRAX01</th>\n",
       "      <th>FRAX02</th>\n",
       "      <th>FRAX03</th>\n",
       "      <th>FRAX04</th>\n",
       "      <th>FRAX05</th>\n",
       "      <th>FRAX06</th>\n",
       "      <th>FRAX07</th>\n",
       "      <th>...</th>\n",
       "      <th>FRAX28</th>\n",
       "      <th>FRAX29</th>\n",
       "      <th>FRAX30</th>\n",
       "      <th>FRAX31</th>\n",
       "      <th>FRAX32</th>\n",
       "      <th>FRAX33</th>\n",
       "      <th>FRAX34</th>\n",
       "      <th>Oeuropea</th>\n",
       "      <th>Mguttatus</th>\n",
       "      <th>Slycopersicum</th>\n",
       "    </tr>\n",
       "    <tr>\n",
       "      <th>Family ID</th>\n",
       "      <th></th>\n",
       "      <th></th>\n",
       "      <th></th>\n",
       "      <th></th>\n",
       "      <th></th>\n",
       "      <th></th>\n",
       "      <th></th>\n",
       "      <th></th>\n",
       "      <th></th>\n",
       "      <th></th>\n",
       "      <th></th>\n",
       "      <th></th>\n",
       "      <th></th>\n",
       "      <th></th>\n",
       "      <th></th>\n",
       "      <th></th>\n",
       "      <th></th>\n",
       "      <th></th>\n",
       "      <th></th>\n",
       "      <th></th>\n",
       "      <th></th>\n",
       "    </tr>\n",
       "  </thead>\n",
       "  <tbody>\n",
       "    <tr>\n",
       "      <th>22517</th>\n",
       "      <td>JSG22517</td>\n",
       "      <td>26</td>\n",
       "      <td>1</td>\n",
       "      <td>1</td>\n",
       "      <td>1</td>\n",
       "      <td>0</td>\n",
       "      <td>1</td>\n",
       "      <td>1</td>\n",
       "      <td>1</td>\n",
       "      <td>1</td>\n",
       "      <td>...</td>\n",
       "      <td>1</td>\n",
       "      <td>1</td>\n",
       "      <td>1</td>\n",
       "      <td>1</td>\n",
       "      <td>0</td>\n",
       "      <td>0</td>\n",
       "      <td>2</td>\n",
       "      <td>1</td>\n",
       "      <td>0</td>\n",
       "      <td>1</td>\n",
       "    </tr>\n",
       "  </tbody>\n",
       "</table>\n",
       "<p>1 rows × 35 columns</p>\n",
       "</div>"
      ],
      "text/plain": [
       "               Desc  sum  FRAX00  FRAX01  FRAX02  FRAX03  FRAX04  FRAX05  \\\n",
       "Family ID                                                                  \n",
       "22517      JSG22517   26       1       1       1       0       1       1   \n",
       "\n",
       "           FRAX06  FRAX07      ...        FRAX28  FRAX29  FRAX30  FRAX31  \\\n",
       "Family ID                      ...                                         \n",
       "22517           1       1      ...             1       1       1       1   \n",
       "\n",
       "           FRAX32  FRAX33  FRAX34  Oeuropea  Mguttatus  Slycopersicum  \n",
       "Family ID                                                              \n",
       "22517           0       0       2         1          0              1  \n",
       "\n",
       "[1 rows x 35 columns]"
      ]
     },
     "execution_count": 16,
     "metadata": {},
     "output_type": "execute_result"
    }
   ],
   "source": [
    "df[df['Desc'] == 'JSG22517']"
   ]
  },
  {
   "cell_type": "code",
   "execution_count": 17,
   "metadata": {
    "collapsed": false
   },
   "outputs": [
    {
     "data": {
      "text/plain": [
       "'FRAX00,FRAX01,FRAX02,FRAX03,FRAX04,FRAX05,FRAX06,FRAX07,FRAX08,FRAX09,FRAX11,FRAX12,FRAX13,FRAX14,FRAX15,FRAX16,FRAX19,FRAX20,FRAX21,FRAX23,FRAX25,FRAX26,FRAX27,FRAX28,FRAX29,FRAX30,FRAX31,FRAX32,FRAX33,FRAX34,Oeuropea,Mguttatus,Slycopersicum'"
      ]
     },
     "execution_count": 17,
     "metadata": {},
     "output_type": "execute_result"
    }
   ],
   "source": [
    "','.join(all_species)"
   ]
  },
  {
   "cell_type": "code",
   "execution_count": null,
   "metadata": {
    "collapsed": true
   },
   "outputs": [],
   "source": [
    "fraxinus_columns = df.loc[: ,'FRAX00':'FRAX34']\n",
    "df['Fraxinus Std Dev'] = fraxinus_columns.std(axis=1)\n",
    "df['Fraxinus Avg'] = fraxinus_columns.mean(axis=1)\n",
    "df['Fraxinus Max'] = fraxinus_columns.max(axis=1)"
   ]
  },
  {
   "cell_type": "code",
   "execution_count": 99,
   "metadata": {
    "collapsed": true
   },
   "outputs": [],
   "source": [
    "df['Fraxinus Min'] = fraxinus_columns.min(axis=1)"
   ]
  },
  {
   "cell_type": "code",
   "execution_count": 75,
   "metadata": {
    "collapsed": false
   },
   "outputs": [
    {
     "data": {
      "text/plain": [
       "44018"
      ]
     },
     "execution_count": 75,
     "metadata": {},
     "output_type": "execute_result"
    }
   ],
   "source": [
    "len(df)"
   ]
  },
  {
   "cell_type": "code",
   "execution_count": 103,
   "metadata": {
    "collapsed": false
   },
   "outputs": [
    {
     "data": {
      "text/plain": [
       "14696"
      ]
     },
     "execution_count": 103,
     "metadata": {},
     "output_type": "execute_result"
    }
   ],
   "source": [
    "criteria = (df['Fraxinus Avg'] > 1/15) & (df['Fraxinus Std Dev'] > 0)\n",
    "criteria.sum()"
   ]
  },
  {
   "cell_type": "code",
   "execution_count": 98,
   "metadata": {
    "collapsed": false
   },
   "outputs": [
    {
     "data": {
      "text/plain": [
       "6653"
      ]
     },
     "execution_count": 98,
     "metadata": {},
     "output_type": "execute_result"
    }
   ],
   "source": [
    "criteria = (df['Fraxinus Avg'] > 1/15) & (df['Fraxinus Std Dev'] > 0) & (df['Fraxinus Max'] <= 2 )\n",
    "criteria.sum()"
   ]
  },
  {
   "cell_type": "code",
   "execution_count": 102,
   "metadata": {
    "collapsed": false
   },
   "outputs": [
    {
     "data": {
      "text/plain": [
       "1319"
      ]
     },
     "execution_count": 102,
     "metadata": {},
     "output_type": "execute_result"
    }
   ],
   "source": [
    "criteria = (df['Fraxinus Avg'] > 1/15) & (df['Fraxinus Std Dev'] > 0) & (df['Fraxinus Max'] <= 2 ) & (df['Fraxinus Min'] == 1)\n",
    "criteria.sum()"
   ]
  },
  {
   "cell_type": "markdown",
   "metadata": {},
   "source": [
    "Of 14,696 we lose about half 6,653 to large families.  That's a usable amount.  Eliminating 0's drops it to 1319, which probably isn't worth it.  Trinary states isn't so bad."
   ]
  },
  {
   "cell_type": "code",
   "execution_count": null,
   "metadata": {
    "collapsed": true
   },
   "outputs": [],
   "source": [
    "for jsg in df[criteria]['Desc']:\n",
    "    # we immediately run into an inability to map back to OGs\n",
    "    # I need to determine JSG names and save the mapping explicitly in make_super_HOGs()"
   ]
  },
  {
   "cell_type": "code",
   "execution_count": null,
   "metadata": {
    "collapsed": true
   },
   "outputs": [],
   "source": []
  },
  {
   "cell_type": "code",
   "execution_count": null,
   "metadata": {
    "collapsed": true
   },
   "outputs": [],
   "source": []
  },
  {
   "cell_type": "code",
   "execution_count": null,
   "metadata": {
    "collapsed": true
   },
   "outputs": [],
   "source": []
  },
  {
   "cell_type": "code",
   "execution_count": null,
   "metadata": {
    "collapsed": true
   },
   "outputs": [],
   "source": []
  },
  {
   "cell_type": "code",
   "execution_count": null,
   "metadata": {
    "collapsed": true
   },
   "outputs": [],
   "source": []
  },
  {
   "cell_type": "code",
   "execution_count": null,
   "metadata": {
    "collapsed": true
   },
   "outputs": [],
   "source": []
  },
  {
   "cell_type": "markdown",
   "metadata": {},
   "source": [
    "# Everything that follows is Old method using GeneCount.csv file"
   ]
  },
  {
   "cell_type": "markdown",
   "metadata": {},
   "source": [
    "_________"
   ]
  },
  {
   "cell_type": "markdown",
   "metadata": {},
   "source": [
    "### Actual Clusters with Real HOGs"
   ]
  },
  {
   "cell_type": "code",
   "execution_count": 12,
   "metadata": {
    "collapsed": false
   },
   "outputs": [
    {
     "data": {
      "text/plain": [
       "'13,306  Reduced count'"
      ]
     },
     "execution_count": 12,
     "metadata": {},
     "output_type": "execute_result"
    }
   ],
   "source": [
    "actual_genes_to_OGs = map_genes_to_HOGs(OGs)\n",
    "actual_network = create_cluster_network(actual_genes_to_OGs, OGs)\n",
    "super_OGs = make_super_HOGs(OGs, actual_network)\n",
    "\n",
    "\"{:,}\".format(len(OGs) - len(super_OGs)) + \"  Reduced count\""
   ]
  },
  {
   "cell_type": "markdown",
   "metadata": {},
   "source": [
    "## Compose new alignment with Super HOGs"
   ]
  },
  {
   "cell_type": "code",
   "execution_count": 13,
   "metadata": {
    "collapsed": false
   },
   "outputs": [
    {
     "data": {
      "text/plain": [
       "'5,347'"
      ]
     },
     "execution_count": 13,
     "metadata": {},
     "output_type": "execute_result"
    }
   ],
   "source": [
    "from DNASkittleUtils.DDVUtils import pp\n",
    "modified_HOGs_only = [c for c in sorted(networkx.connected_components(actual_network), key=len, reverse=True) if len(c) > 1]\n",
    "pp(len(modified_HOGs_only))"
   ]
  },
  {
   "cell_type": "code",
   "execution_count": 15,
   "metadata": {
    "collapsed": false
   },
   "outputs": [],
   "source": [
    "assert all(['-'.join(h) in super_OGs for h in modified_HOGs_only])"
   ]
  },
  {
   "cell_type": "markdown",
   "metadata": {},
   "source": [
    "### Blacklist promiscuous genes and HOGs"
   ]
  },
  {
   "cell_type": "code",
   "execution_count": null,
   "metadata": {
    "collapsed": true
   },
   "outputs": [],
   "source": [
    "actual_genes_to_OGs = map_genes_to_HOGs(OGs)\n",
    "len(actual_genes_to_OGs)"
   ]
  },
  {
   "cell_type": "code",
   "execution_count": null,
   "metadata": {
    "collapsed": true
   },
   "outputs": [],
   "source": [
    "promiscuous_genes = [gene for gene, hogs in actual_genes_to_OGs.items() if len(hogs) > 5]\n",
    "len(promiscuous_genes)\n",
    "\n",
    "promiscuous_OGs = [hog for hog, genes in OGs.items() if len(genes) > 150]\n",
    "len(promiscuous_OGs)"
   ]
  },
  {
   "cell_type": "code",
   "execution_count": 21,
   "metadata": {
    "collapsed": false
   },
   "outputs": [
    {
     "name": "stdout",
     "output_type": "stream",
     "text": [
      "11,713  Reduced count\n"
     ]
    }
   ],
   "source": [
    "actual_network = create_cluster_network(actual_genes_to_OGs, OGs, promiscuous_genes, promiscuous_OGs)\n",
    "super_HOGs = make_super_HOGs(OGs, actual_network)\n",
    "\n",
    "print(\"{:,}\".format(len(OGs) - len(super_HOGs)) + \"  Reduced count\")\n",
    "smart_modified_HOGs = [c for c in sorted(networkx.connected_components(actual_network), key=len, reverse=True) if len(c) > 1]\n",
    "pp(len(smart_modified_HOGs)), \"HOGs\""
   ]
  },
  {
   "cell_type": "code",
   "execution_count": 26,
   "metadata": {
    "collapsed": false
   },
   "outputs": [
    {
     "data": {
      "text/plain": [
       "52937"
      ]
     },
     "execution_count": 26,
     "metadata": {},
     "output_type": "execute_result"
    }
   ],
   "source": [
    "len(super_HOGs)"
   ]
  },
  {
   "cell_type": "markdown",
   "metadata": {},
   "source": [
    "# Cluster rows by new super groups and output GeneCount.csv for new CAFE run"
   ]
  },
  {
   "cell_type": "code",
   "execution_count": 38,
   "metadata": {
    "collapsed": false
   },
   "outputs": [
    {
     "data": {
      "text/plain": [
       "[{'OG0000848',\n",
       "  'OG0001316',\n",
       "  'OG0001331',\n",
       "  'OG0001620',\n",
       "  'OG0001679',\n",
       "  'OG0002719',\n",
       "  'OG0003830',\n",
       "  'OG0005353',\n",
       "  'OG0007285',\n",
       "  'OG0007534',\n",
       "  'OG0008375',\n",
       "  'OG0009430',\n",
       "  'OG0010137',\n",
       "  'OG0010197',\n",
       "  'OG0010551',\n",
       "  'OG0011854',\n",
       "  'OG0012187',\n",
       "  'OG0012608',\n",
       "  'OG0014503',\n",
       "  'OG0018028',\n",
       "  'OG0019062',\n",
       "  'OG0019438',\n",
       "  'OG0020872',\n",
       "  'OG0023528',\n",
       "  'OG0023682',\n",
       "  'OG0025173',\n",
       "  'OG0031433',\n",
       "  'OG0031546',\n",
       "  'OG0036452'},\n",
       " {'OG0000845',\n",
       "  'OG0002526',\n",
       "  'OG0002707',\n",
       "  'OG0002935',\n",
       "  'OG0006075',\n",
       "  'OG0008106',\n",
       "  'OG0008524',\n",
       "  'OG0009022',\n",
       "  'OG0016155',\n",
       "  'OG0019891',\n",
       "  'OG0020765',\n",
       "  'OG0022144',\n",
       "  'OG0024521',\n",
       "  'OG0025822',\n",
       "  'OG0026320',\n",
       "  'OG0027131',\n",
       "  'OG0027770',\n",
       "  'OG0030545',\n",
       "  'OG0030884',\n",
       "  'OG0031134',\n",
       "  'OG0032084',\n",
       "  'OG0032507',\n",
       "  'OG0032861',\n",
       "  'OG0032996',\n",
       "  'OG0033679',\n",
       "  'OG0035244',\n",
       "  'OG0035659',\n",
       "  'OG0037245',\n",
       "  'OG0038070'},\n",
       " {'OG0017549',\n",
       "  'OG0019437',\n",
       "  'OG0019487',\n",
       "  'OG0019883',\n",
       "  'OG0020636',\n",
       "  'OG0020785',\n",
       "  'OG0024164',\n",
       "  'OG0030401',\n",
       "  'OG0030670',\n",
       "  'OG0031104',\n",
       "  'OG0031668',\n",
       "  'OG0032242',\n",
       "  'OG0032459',\n",
       "  'OG0033742',\n",
       "  'OG0035597',\n",
       "  'OG0036261',\n",
       "  'OG0036639',\n",
       "  'OG0037433',\n",
       "  'OG0037991',\n",
       "  'OG0038268',\n",
       "  'OG0038313',\n",
       "  'OG0038342',\n",
       "  'OG0038353'},\n",
       " {'OG0000530',\n",
       "  'OG0000638',\n",
       "  'OG0002119',\n",
       "  'OG0002383',\n",
       "  'OG0005498',\n",
       "  'OG0007610',\n",
       "  'OG0007752',\n",
       "  'OG0007928',\n",
       "  'OG0008499',\n",
       "  'OG0009098',\n",
       "  'OG0012063',\n",
       "  'OG0014564',\n",
       "  'OG0017804',\n",
       "  'OG0018060',\n",
       "  'OG0019108',\n",
       "  'OG0019469',\n",
       "  'OG0022648',\n",
       "  'OG0030512',\n",
       "  'OG0033296',\n",
       "  'OG0035940',\n",
       "  'OG0036324',\n",
       "  'OG0036696'},\n",
       " {'OG0000870',\n",
       "  'OG0009632',\n",
       "  'OG0017265',\n",
       "  'OG0020544',\n",
       "  'OG0022579',\n",
       "  'OG0024491',\n",
       "  'OG0024696',\n",
       "  'OG0026225',\n",
       "  'OG0027389',\n",
       "  'OG0030388',\n",
       "  'OG0030515',\n",
       "  'OG0031500',\n",
       "  'OG0031596',\n",
       "  'OG0031931',\n",
       "  'OG0034689',\n",
       "  'OG0034779',\n",
       "  'OG0034990',\n",
       "  'OG0035796',\n",
       "  'OG0037917',\n",
       "  'OG0038486',\n",
       "  'OG0038513'},\n",
       " {'OG0000906',\n",
       "  'OG0001413',\n",
       "  'OG0001854',\n",
       "  'OG0002521',\n",
       "  'OG0007836',\n",
       "  'OG0008682',\n",
       "  'OG0010326',\n",
       "  'OG0013655',\n",
       "  'OG0013793',\n",
       "  'OG0015422',\n",
       "  'OG0016510',\n",
       "  'OG0016571',\n",
       "  'OG0019076',\n",
       "  'OG0019473',\n",
       "  'OG0020847',\n",
       "  'OG0023683',\n",
       "  'OG0024774',\n",
       "  'OG0025619',\n",
       "  'OG0025627',\n",
       "  'OG0033307',\n",
       "  'OG0036725'},\n",
       " {'OG0000430',\n",
       "  'OG0018510',\n",
       "  'OG0020598',\n",
       "  'OG0021473',\n",
       "  'OG0023218',\n",
       "  'OG0023613',\n",
       "  'OG0024915',\n",
       "  'OG0025302',\n",
       "  'OG0026863',\n",
       "  'OG0027449',\n",
       "  'OG0027674',\n",
       "  'OG0027828',\n",
       "  'OG0031922',\n",
       "  'OG0033441',\n",
       "  'OG0033953',\n",
       "  'OG0034071',\n",
       "  'OG0036293',\n",
       "  'OG0037757',\n",
       "  'OG0037906',\n",
       "  'OG0037974'},\n",
       " {'OG0011930',\n",
       "  'OG0016986',\n",
       "  'OG0017575',\n",
       "  'OG0017934',\n",
       "  'OG0019996',\n",
       "  'OG0021109',\n",
       "  'OG0021260',\n",
       "  'OG0024334',\n",
       "  'OG0027095',\n",
       "  'OG0031016',\n",
       "  'OG0031116',\n",
       "  'OG0031352',\n",
       "  'OG0032275',\n",
       "  'OG0032501',\n",
       "  'OG0033324',\n",
       "  'OG0033696',\n",
       "  'OG0035446',\n",
       "  'OG0038311',\n",
       "  'OG0038354'},\n",
       " {'OG0000588',\n",
       "  'OG0000917',\n",
       "  'OG0001434',\n",
       "  'OG0001638',\n",
       "  'OG0002567',\n",
       "  'OG0002762',\n",
       "  'OG0003036',\n",
       "  'OG0005173',\n",
       "  'OG0005591',\n",
       "  'OG0010459',\n",
       "  'OG0010973',\n",
       "  'OG0012795',\n",
       "  'OG0013752',\n",
       "  'OG0016721',\n",
       "  'OG0017632',\n",
       "  'OG0025912',\n",
       "  'OG0032296',\n",
       "  'OG0034242',\n",
       "  'OG0037434'},\n",
       " {'OG0000817',\n",
       "  'OG0000877',\n",
       "  'OG0002397',\n",
       "  'OG0003603',\n",
       "  'OG0007668',\n",
       "  'OG0019640',\n",
       "  'OG0026371',\n",
       "  'OG0026971',\n",
       "  'OG0027786',\n",
       "  'OG0029565',\n",
       "  'OG0032718',\n",
       "  'OG0032798',\n",
       "  'OG0033337',\n",
       "  'OG0033639',\n",
       "  'OG0035852',\n",
       "  'OG0038083',\n",
       "  'OG0038328'}]"
      ]
     },
     "execution_count": 38,
     "metadata": {},
     "output_type": "execute_result"
    }
   ],
   "source": [
    "smart_modified_HOGs[:10]  # going to be used for grouping rows together"
   ]
  },
  {
   "cell_type": "code",
   "execution_count": 39,
   "metadata": {
    "collapsed": false
   },
   "outputs": [
    {
     "data": {
      "text/html": [
       "<div>\n",
       "<style scoped>\n",
       "    .dataframe tbody tr th:only-of-type {\n",
       "        vertical-align: middle;\n",
       "    }\n",
       "\n",
       "    .dataframe tbody tr th {\n",
       "        vertical-align: top;\n",
       "    }\n",
       "\n",
       "    .dataframe thead th {\n",
       "        text-align: right;\n",
       "    }\n",
       "</style>\n",
       "<table border=\"1\" class=\"dataframe\">\n",
       "  <thead>\n",
       "    <tr style=\"text-align: right;\">\n",
       "      <th></th>\n",
       "      <th>Desc</th>\n",
       "      <th>Family ID</th>\n",
       "      <th>FRAX00</th>\n",
       "      <th>FRAX01</th>\n",
       "      <th>FRAX02</th>\n",
       "      <th>FRAX03</th>\n",
       "      <th>FRAX04</th>\n",
       "      <th>FRAX05</th>\n",
       "      <th>FRAX06</th>\n",
       "      <th>FRAX07</th>\n",
       "      <th>...</th>\n",
       "      <th>FRAX28</th>\n",
       "      <th>FRAX29</th>\n",
       "      <th>FRAX30</th>\n",
       "      <th>FRAX31</th>\n",
       "      <th>FRAX32</th>\n",
       "      <th>FRAX33</th>\n",
       "      <th>FRAX34</th>\n",
       "      <th>Mguttatus</th>\n",
       "      <th>Oeuropea</th>\n",
       "      <th>Slycopersicum</th>\n",
       "    </tr>\n",
       "  </thead>\n",
       "  <tbody>\n",
       "    <tr>\n",
       "      <th>0</th>\n",
       "      <td>OG0000000</td>\n",
       "      <td>0</td>\n",
       "      <td>11</td>\n",
       "      <td>22</td>\n",
       "      <td>29</td>\n",
       "      <td>17</td>\n",
       "      <td>35</td>\n",
       "      <td>23</td>\n",
       "      <td>28</td>\n",
       "      <td>23</td>\n",
       "      <td>...</td>\n",
       "      <td>27</td>\n",
       "      <td>27</td>\n",
       "      <td>22</td>\n",
       "      <td>28</td>\n",
       "      <td>24</td>\n",
       "      <td>23</td>\n",
       "      <td>20</td>\n",
       "      <td>1</td>\n",
       "      <td>19</td>\n",
       "      <td>5</td>\n",
       "    </tr>\n",
       "    <tr>\n",
       "      <th>1</th>\n",
       "      <td>OG0000001</td>\n",
       "      <td>1</td>\n",
       "      <td>22</td>\n",
       "      <td>20</td>\n",
       "      <td>15</td>\n",
       "      <td>19</td>\n",
       "      <td>20</td>\n",
       "      <td>16</td>\n",
       "      <td>20</td>\n",
       "      <td>17</td>\n",
       "      <td>...</td>\n",
       "      <td>16</td>\n",
       "      <td>16</td>\n",
       "      <td>20</td>\n",
       "      <td>20</td>\n",
       "      <td>18</td>\n",
       "      <td>20</td>\n",
       "      <td>20</td>\n",
       "      <td>9</td>\n",
       "      <td>20</td>\n",
       "      <td>10</td>\n",
       "    </tr>\n",
       "    <tr>\n",
       "      <th>2</th>\n",
       "      <td>OG0000002</td>\n",
       "      <td>2</td>\n",
       "      <td>19</td>\n",
       "      <td>15</td>\n",
       "      <td>12</td>\n",
       "      <td>15</td>\n",
       "      <td>16</td>\n",
       "      <td>17</td>\n",
       "      <td>18</td>\n",
       "      <td>17</td>\n",
       "      <td>...</td>\n",
       "      <td>17</td>\n",
       "      <td>15</td>\n",
       "      <td>17</td>\n",
       "      <td>15</td>\n",
       "      <td>13</td>\n",
       "      <td>18</td>\n",
       "      <td>18</td>\n",
       "      <td>9</td>\n",
       "      <td>22</td>\n",
       "      <td>13</td>\n",
       "    </tr>\n",
       "    <tr>\n",
       "      <th>3</th>\n",
       "      <td>OG0000003</td>\n",
       "      <td>3</td>\n",
       "      <td>24</td>\n",
       "      <td>10</td>\n",
       "      <td>6</td>\n",
       "      <td>12</td>\n",
       "      <td>15</td>\n",
       "      <td>13</td>\n",
       "      <td>15</td>\n",
       "      <td>17</td>\n",
       "      <td>...</td>\n",
       "      <td>13</td>\n",
       "      <td>19</td>\n",
       "      <td>12</td>\n",
       "      <td>15</td>\n",
       "      <td>14</td>\n",
       "      <td>13</td>\n",
       "      <td>12</td>\n",
       "      <td>21</td>\n",
       "      <td>34</td>\n",
       "      <td>24</td>\n",
       "    </tr>\n",
       "    <tr>\n",
       "      <th>4</th>\n",
       "      <td>OG0000004</td>\n",
       "      <td>4</td>\n",
       "      <td>20</td>\n",
       "      <td>16</td>\n",
       "      <td>11</td>\n",
       "      <td>10</td>\n",
       "      <td>13</td>\n",
       "      <td>15</td>\n",
       "      <td>16</td>\n",
       "      <td>15</td>\n",
       "      <td>...</td>\n",
       "      <td>13</td>\n",
       "      <td>14</td>\n",
       "      <td>15</td>\n",
       "      <td>15</td>\n",
       "      <td>14</td>\n",
       "      <td>15</td>\n",
       "      <td>15</td>\n",
       "      <td>8</td>\n",
       "      <td>13</td>\n",
       "      <td>12</td>\n",
       "    </tr>\n",
       "  </tbody>\n",
       "</table>\n",
       "<p>5 rows × 35 columns</p>\n",
       "</div>"
      ],
      "text/plain": [
       "        Desc  Family ID  FRAX00  FRAX01  FRAX02  FRAX03  FRAX04  FRAX05  \\\n",
       "0  OG0000000          0      11      22      29      17      35      23   \n",
       "1  OG0000001          1      22      20      15      19      20      16   \n",
       "2  OG0000002          2      19      15      12      15      16      17   \n",
       "3  OG0000003          3      24      10       6      12      15      13   \n",
       "4  OG0000004          4      20      16      11      10      13      15   \n",
       "\n",
       "   FRAX06  FRAX07      ...        FRAX28  FRAX29  FRAX30  FRAX31  FRAX32  \\\n",
       "0      28      23      ...            27      27      22      28      24   \n",
       "1      20      17      ...            16      16      20      20      18   \n",
       "2      18      17      ...            17      15      17      15      13   \n",
       "3      15      17      ...            13      19      12      15      14   \n",
       "4      16      15      ...            13      14      15      15      14   \n",
       "\n",
       "   FRAX33  FRAX34  Mguttatus  Oeuropea  Slycopersicum  \n",
       "0      23      20          1        19              5  \n",
       "1      20      20          9        20             10  \n",
       "2      18      18          9        22             13  \n",
       "3      13      12         21        34             24  \n",
       "4      15      15          8        13             12  \n",
       "\n",
       "[5 rows x 35 columns]"
      ]
     },
     "execution_count": 39,
     "metadata": {},
     "output_type": "execute_result"
    }
   ],
   "source": [
    "from pandas import read_csv\n",
    "counts = read_csv(r\"D:\\josiah\\Documents\\Research\\Thesis - Genome Symmetry\\DNA_Duplications\\Ash_Proteome\\Results_Jun25\\Cafe_orthofinder_Orthogroups.GeneCount.csv\", sep='\\t')\n",
    "counts.head()"
   ]
  },
  {
   "cell_type": "code",
   "execution_count": 118,
   "metadata": {
    "collapsed": false
   },
   "outputs": [
    {
     "data": {
      "text/plain": [
       "33693"
      ]
     },
     "execution_count": 118,
     "metadata": {},
     "output_type": "execute_result"
    }
   ],
   "source": [
    "len(counts)"
   ]
  },
  {
   "cell_type": "markdown",
   "metadata": {},
   "source": [
    "For each group of OGs:\n",
    "- sum their rows\n",
    "- add a new row called JSG0028362+\n",
    "- delete previously used rows"
   ]
  },
  {
   "cell_type": "code",
   "execution_count": 126,
   "metadata": {
    "collapsed": true
   },
   "outputs": [],
   "source": [
    "new_table = counts.copy()"
   ]
  },
  {
   "cell_type": "code",
   "execution_count": 127,
   "metadata": {
    "collapsed": false
   },
   "outputs": [
    {
     "name": "stdout",
     "output_type": "stream",
     "text": [
      "29 26; 29 17; 23 7; 22 17; 21 9; 21 19; 20 12; 19 9; 19 16; 17 9; 17 10; 17 9; 17 4; 17 13; 17 10; 17 5; 17 9; 16 5; 16 9; 16 11; 16 12; 15 13; 15 13; 15 9; 15 5; 15 6; 15 6; 14 10; 14 7; 14 10; 14 7; 14 12; 14 5; 14 11; 14 10; 14 11; 14 13; 13 8; 13 5; 13 12; 13 7; 13 11; 13 9; 13 8; 13 3; 13 3; 13 9; 13 8; 13 7; 13 4; 13 9; 13 6; 13 11; 13 7; 13 3; 13 9; 13 6; 12 10; 12 6; 12 9; 12 6; 12 8; 12 9; 12 1; 12 7; 12 7; 12 11; 12 11; 12 8; 12 10; 12 8; 12 10; 12 7; 12 7; 11 9; 11 6; 11 7; 11 5; 11 5; 11 7; 11 7; 11 8; 11 7; 11 10; 11 10; 11 9; 11 3; 11 2; 11 6; 11 5; 11 9; 11 10; 11 1; 10 4; 10 9; 10 2; 10 9; 10 4; 10 6; 10 9; 10 3; 10 5; 10 6; 10 3; 10 7; 10 9; 10 6; 10 9; 10 2; 10 5; 10 6; 10 6; 10 6; 10 5; 10 6; 10 3; 10 2; 10 5; 10 9; 10 6; 10 9; 9 8; 9 7; 9 7; 9 4; 9 4; 9 8; 9 3; 9 4; 9 8; 9 5; 9 8; 9 6; 9 7; 9 8; 9 6; 9 6; 9 5; 9 4; 9 8; 9 6; 9 6; 9 7; 9 5; 9 3; 9 7; 9 7; 9 6; 9 7; 9 6; 9 5; 9 6; 9 2; 9 7; 9 5; 9 4; 9 3; 9 4; 9 6; 9 5; 9 5; 9 4; 9 3; 9 4; 9 5; 9 4; 9 3; 9 3; 9 7; 9 8; 9 1; 9 6; 8 6; 8 5; 8 4; 8 5; 8 2; 8 7; 8 7; 8 5; 8 1; 8 5; 8 5; 8 5; 8 5; 8 5; 8 6; 8 5; 8 3; 8 7; 8 5; 8 5; 8 2; 8 7; 8 6; 8 5; 8 7; 8 6; 8 4; 8 7; 8 6; 8 7; 8 5; 8 6; 8 3; 8 7; 8 5; 8 7; 8 5; 8 3; 8 6; 8 6; 8 6; 8 2; 8 5; 8 3; 8 6; 8 7; 8 7; 8 5; 8 7; 8 6; 8 7; 8 2; 8 4; 8 7; 8 7; 8 7; 8 6; 8 6; 8 5; 8 1; 8 5; 8 3; 8 6; 8 7; 8 3; 8 4; 8 5; 8 5; 7 6; 7 4; 7 4; 7 5; 7 3; 7 6; 7 3; 7 6; 7 6; 7 6; 7 1; 7 4; 7 3; 7 4; 7 6; 7 5; 7 5; 7 6; 7 5; 7 2; 7 4; 7 4; 7 4; 7 3; 7 6; 7 4; 7 3; 7 5; 7 6; 7 6; 7 4; 7 3; 7 3; 7 5; 7 5; 7 5; 7 5; 7 5; 7 3; 7 4; 7 5; 7 5; 7 2; 7 5; 7 6; 7 6; 7 4; 7 3; 7 3; 7 5; 7 6; 7 3; 7 5; 7 3; 7 6; 7 5; 7 6; 7 2; 7 4; 7 6; 7 4; 7 5; 7 5; 7 3; 7 6; 7 6; 7 4; 7 4; 7 4; 7 5; 7 5; 7 4; 7 2; 7 4; 7 3; 7 4; 7 5; 7 2; 7 5; 7 5; 7 2; 7 5; 7 6; 7 5; 7 5; 7 6; 7 2; 7 6; 7 2; 7 6; 7 4; 7 4; 6 5; 6 5; 6 2; 6 4; 6 4; 6 2; 6 4; 6 2; 6 4; 6 5; 6 1; 6 4; 6 4; 6 4; 6 1; 6 2; 6 4; 6 3; 6 4; 6 3; 6 5; 6 5; 6 5; 6 4; 6 4; 6 4; 6 3; 6 4; 6 3; 6 5; 6 5; 6 2; 6 5; 6 4; 6 3; 6 2; 6 4; 6 4; 6 5; 6 4; 6 3; 6 4; 6 5; 6 2; 6 2; 6 4; 6 4; 6 3; 6 5; 6 4; 6 2; 6 3; 6 4; 6 3; 6 3; 6 3; 6 4; 6 4; 6 5; 6 5; 6 4; 6 4; 6 4; 6 5; 6 3; 6 2; 6 3; 6 2; 6 4; 6 4; 6 5; 6 2; 6 5; 6 4; 6 5; 6 3; 6 4; 6 4; 6 3; 6 3; 6 4; 6 1; 6 3; 6 3; 6 5; 6 5; 6 4; 6 5; 6 4; 6 4; 6 4; 6 3; 6 5; 6 5; 6 3; 6 4; 6 5; 6 5; 6 5; 6 5; 6 3; 6 3; 6 2; 6 2; 6 4; 6 5; 6 3; 6 4; 6 3; 6 4; 6 3; 6 5; 6 5; 6 2; 6 4; 6 2; 6 5; 6 4; 6 5; 6 4; 6 2; 6 3; 6 4; 6 5; 6 1; 6 3; 6 3; 6 3; 6 5; 6 3; 6 3; 6 1; 6 1; 6 2; 6 5; 6 5; 6 3; 6 3; 6 4; 6 4; 5 3; 5 3; 5 3; 5 4; 5 4; 5 2; 5 4; 5 4; 5 2; 5 4; 5 3; 5 2; 5 2; 5 4; 5 4; 5 3; 5 4; 5 4; 5 0; 5 4; 5 3; 5 3; 5 2; 5 4; 5 4; 5 4; 5 3; 5 3; 5 3; 5 1; 5 1; 5 4; 5 4; 5 4; 5 3; 5 3; 5 4; 5 3; 5 2; 5 3; 5 2; 5 4; 5 3; 5 2; 5 1; 5 2; 5 4; 5 3; 5 3; 5 3; 5 4; 5 3; 5 4; 5 4; 5 3; 5 1; 5 4; 5 4; 5 3; 5 4; 5 1; 5 4; 5 4; 5 3; 5 4; 5 3; 5 4; 5 3; 5 3; 5 4; 5 4; 5 4; 5 1; 5 4; 5 2; 5 4; 5 4; 5 2; 5 3; 5 3; 5 4; 5 4; 5 4; 5 3; 5 4; 5 2; 5 3; 5 4; 5 3; 5 3; 5 2; 5 3; 5 4; 5 3; 5 1; 5 1; 5 4; 5 3; 5 3; 5 3; 5 4; 5 4; 5 3; 5 4; 5 2; 5 3; 5 2; 5 4; 5 4; 5 4; 5 2; 5 2; 5 4; 5 1; 5 4; 5 0; 5 3; 5 4; 5 4; 5 2; 5 4; 5 3; 5 2; 5 2; 5 4; 5 2; 5 3; 5 3; 5 4; 5 2; 5 2; 5 4; 5 2; 5 2; 5 2; 5 2; 5 4; 5 2; 5 4; 5 4; 5 4; 5 4; 5 2; 5 4; 5 1; 5 3; 5 3; 5 4; 5 3; 5 2; 5 4; 5 4; 5 4; 5 4; 5 3; 5 2; 5 4; 5 2; 5 3; 5 3; 5 2; 5 2; 5 2; 5 3; 5 4; 5 4; 5 4; 5 4; 5 2; 5 4; 5 4; 5 3; 5 4; 5 4; 5 4; 5 3; 5 3; 5 4; 5 4; 5 4; 5 2; 5 3; 5 3; 5 4; 5 3; 5 3; 5 2; 5 0; 5 3; 5 3; 5 3; 5 4; 5 3; 5 3; 5 3; 5 2; 5 3; 5 4; 5 4; 5 4; 5 2; 5 1; 5 3; 5 2; 5 2; 5 1; 5 4; 5 4; 5 4; 5 4; 5 3; 5 3; 5 2; 5 4; 5 4; 5 3; 5 2; 5 4; 5 4; 5 4; 5 4; 5 1; 5 4; 5 4; 5 4; 5 1; 5 3; 5 2; 5 4; 5 4; 5 3; 5 4; 5 4; 5 4; 4 3; 4 2; 4 3; 4 3; 4 1; 4 3; 4 2; 4 3; 4 2; 4 2; 4 2; 4 3; 4 1; 4 3; 4 3; 4 2; 4 3; 4 1; 4 3; 4 2; 4 1; 4 2; 4 2; 4 0; 4 3; 4 3; 4 3; 4 2; 4 3; 4 2; 4 3; 4 2; 4 3; 4 3; 4 1; 4 2; 4 2; 4 3; 4 1; 4 3; 4 2; 4 3; 4 3; 4 3; 4 3; 4 3; 4 1; 4 2; 4 2; 4 3; 4 3; 4 2; 4 2; 4 3; 4 3; 4 3; 4 3; 4 2; 4 3; 4 2; 4 2; 4 1; 4 2; 4 3; 4 2; 4 1; 4 3; 4 3; 4 3; 4 3; 4 2; 4 2; 4 2; 4 2; 4 3; 4 3; 4 2; 4 1; 4 2; 4 3; 4 3; 4 2; 4 3; 4 3; 4 1; 4 3; 4 1; 4 2; 4 3; 4 3; 4 2; 4 0; 4 3; 4 1; 4 3; 4 2; 4 3; 4 2; 4 3; 4 2; 4 1; 4 2; 4 2; 4 3; 4 2; 4 3; 4 2; 4 3; 4 3; 4 2; 4 3; 4 1; 4 3; 4 1; 4 3; 4 2; 4 3; 4 3; 4 1; 4 2; 4 3; 4 3; 4 3; 4 2; 4 2; 4 1; 4 2; 4 3; 4 0; 4 3; 4 2; 4 2; 4 3; 4 3; 4 3; 4 2; 4 2; 4 0; 4 3; 4 2; 4 2; 4 2; 4 3; 4 2; 4 3; 4 3; 4 1; 4 1; 4 0; 4 3; 4 3; 4 3; 4 1; 4 2; 4 3; 4 3; 4 2; 4 1; 4 2; 4 2; 4 1; 4 3; 4 3; 4 1; 4 2; 4 2; 4 3; 4 1; 4 3; 4 2; 4 3; 4 3; 4 2; 4 3; 4 0; 4 2; 4 2; 4 3; 4 3; 4 2; 4 2; 4 3; 4 3; 4 3; 4 3; 4 3; 4 3; 4 3; 4 3; 4 3; 4 0; 4 3; 4 3; 4 3; 4 3; 4 1; 4 3; 4 1; 4 1; 4 1; 4 3; 4 2; 4 1; 4 2; 4 3; 4 3; 4 3; 4 3; 4 1; 4 2; 4 3; 4 3; 4 2; 4 3; 4 2; 4 3; 4 3; 4 1; 4 1; 4 3; 4 3; 4 3; 4 3; 4 2; 4 3; 4 3; 4 2; 4 2; 4 3; 4 2; 4 1; 4 3; 4 3; 4 2; 4 0; 4 2; 4 1; 4 2; 4 3; 4 1; 4 3; 4 3; 4 3; 4 3; 4 2; 4 1; 4 2; 4 3; 4 2; 4 3; 4 3; 4 2; 4 3; 4 3; 4 3; 4 3; 4 2; 4 3; 4 2; 4 3; 4 2; 4 2; 4 3; 4 2; 4 3; 4 0; 4 1; 4 3; 4 2; 4 3; 4 1; 4 3; 4 2; 4 2; 4 0; 4 3; 4 2; 4 3; 4 3; 4 3; 4 3; 4 2; 4 3; 4 3; 4 2; 4 2; 4 3; 4 1; 4 2; 4 2; 4 3; 4 2; 4 2; 4 3; 4 2; 4 3; 4 1; 4 2; 4 1; 4 2; 4 2; 4 2; 4 1; 4 3; 4 2; 4 3; 4 3; 4 3; 4 3; 4 2; 4 3; 4 3; 4 2; 4 3; 4 2; 4 3; 4 1; 4 3; 4 2; 4 3; 4 1; 4 3; 4 3; 4 2; 4 3; 4 3; 4 2; 4 2; 4 2; 4 3; 4 3; 4 2; 4 1; 3 1; 3 2; 3 2; 3 2; 3 2; 3 1; 3 2; 3 2; 3 2; 3 2; 3 2; 3 2; 3 2; 3 0; 3 1; 3 2; 3 1; 3 2; 3 1; 3 2; 3 1; 3 2; 3 0; 3 2; 3 1; 3 2; 3 2; 3 2; 3 2; 3 2; 3 2; 3 1; 3 2; 3 2; 3 2; 3 2; 3 1; 3 2; 3 2; 3 2; 3 1; 3 2; 3 2; 3 2; 3 1; 3 2; 3 2; 3 2; 3 1; 3 1; 3 2; 3 2; 3 2; 3 0; 3 1; 3 1; 3 2; 3 1; 3 1; 3 2; 3 2; 3 0; 3 2; 3 2; 3 1; 3 2; 3 2; 3 1; 3 2; 3 1; 3 2; 3 2; 3 2; 3 2; 3 2; 3 2; 3 1; 3 2; 3 0; 3 2; 3 2; 3 2; 3 1; 3 0; 3 2; 3 2; 3 2; 3 2; 3 2; 3 1; 3 2; 3 1; 3 2; 3 2; 3 2; 3 1; 3 1; 3 2; 3 2; 3 2; 3 1; 3 2; 3 2; 3 1; 3 2; 3 2; 3 1; 3 1; 3 2; 3 1; 3 2; 3 2; 3 1; 3 1; 3 2; 3 2; 3 2; 3 1; 3 2; 3 2; 3 2; 3 2; 3 1; 3 2; 3 0; 3 1; 3 2; 3 1; 3 1; 3 1; 3 2; 3 2; 3 2; 3 1; 3 1; 3 0; 3 1; 3 2; 3 1; 3 2; 3 2; 3 2; 3 1; 3 1; 3 2; 3 1; 3 1; 3 2; 3 1; 3 1; 3 2; 3 2; 3 2; 3 2; 3 1; 3 1; 3 2; 3 2; 3 2; 3 2; 3 2; 3 0; 3 1; 3 1; 3 2; 3 1; 3 2; 3 2; 3 2; 3 2; 3 0; 3 2; 3 1; 3 2; 3 2; 3 1; 3 2; 3 2; 3 2; 3 2; 3 2; 3 1; 3 2; 3 1; 3 1; 3 2; 3 2; 3 2; 3 2; 3 1; 3 2; 3 1; 3 1; 3 0; 3 2; 3 2; 3 2; 3 1; 3 2; 3 1; 3 2; 3 2; 3 1; 3 2; 3 2; 3 2; 3 1; 3 1; 3 2; 3 1; 3 2; 3 2; 3 2; 3 2; 3 2; 3 2; 3 1; 3 2; 3 1; 3 2; 3 1; 3 1; 3 2; 3 1; 3 2; 3 1; 3 2; 3 2; 3 2; 3 0; 3 2; 3 1; 3 2; 3 2; 3 2; 3 1; 3 0; 3 2; 3 2; 3 1; 3 1; 3 1; 3 2; 3 1; 3 2; 3 2; 3 1; 3 2; 3 0; 3 2; 3 2; 3 2; 3 2; 3 2; 3 1; 3 2; 3 2; 3 2; 3 2; 3 2; 3 0; 3 1; 3 1; 3 1; 3 2; 3 0; 3 2; 3 2; 3 1; 3 2; 3 2; 3 1; 3 2; 3 1; 3 2; 3 1; 3 1; 3 2; 3 1; 3 1; 3 1; 3 2; 3 2; 3 2; 3 2; 3 1; 3 1; 3 2; 3 2; 3 2; 3 2; 3 2; 3 2; 3 0; 3 0; 3 2; 3 1; 3 2; 3 1; 3 2; 3 2; 3 2; 3 2; 3 1; 3 2; 3 2; 3 2; 3 2; 3 2; 3 1; 3 2; 3 2; 3 2; 3 2; 3 2; 3 1; 3 0; 3 1; 3 1; 3 2; 3 2; 3 2; 3 0; 3 2; 3 2; 3 1; 3 1; 3 1; 3 2; 3 2; 3 2; 3 2; 3 2; 3 1; 3 1; 3 2; 3 2; 3 2; 3 2; 3 2; 3 2; 3 1; 3 2; 3 2; 3 1; 3 2; 3 1; 3 2; 3 1; 3 0; 3 2; 3 2; 3 2; 3 0; 3 2; 3 2; 3 1; 3 2; 3 1; 3 2; 3 0; 3 2; 3 1; 3 0; 3 1; 3 2; 3 2; 3 1; 3 2; 3 1; 3 2; 3 1; 3 2; 3 2; 3 2; 3 1; 3 2; 3 2; 3 2; 3 2; 3 2; 3 2; 3 2; 3 1; 3 2; 3 1; 3 2; 3 2; 3 1; 3 2; 3 2; 3 2; 3 1; 3 2; 3 2; 3 2; 3 2; 3 2; 3 2; 3 2; 3 1; 3 1; 3 2; 3 2; 3 1; 3 2; 3 1; 3 2; 3 2; 3 2; 3 2; 3 2; 3 1; 3 1; 3 1; 3 1; 3 2; 3 1; 3 1; 3 2; 3 0; 3 2; 3 2; 3 2; 3 2; 3 2; 3 1; 3 2; 3 2; 3 1; 3 1; 3 2; 3 1; 3 1; 3 2; 3 2; 3 2; 3 1; 3 1; 3 2; 3 2; 3 1; 3 2; 3 2; 3 0; 3 0; 3 2; 3 1; 3 1; 3 2; 3 1; 3 1; 3 2; 3 2; 3 2; 3 2; 3 2; 3 2; 3 2; 3 2; 3 2; 3 2; 3 1; 3 1; 3 2; 3 2; 3 1; 3 1; 3 1; 3 2; 3 2; 3 2; 3 2; 3 0; 3 2; 3 2; 3 0; 3 1; 3 2; 3 2; 3 2; 3 2; 3 0; 3 0; 3 2; 3 2; 3 2; 3 1; 3 2; 3 1; 3 2; 3 2; 3 2; 3 2; 3 2; 3 1; 3 2; 3 0; 3 2; 3 2; 3 2; 3 2; 3 2; 3 2; 3 2; 3 1; 3 2; 3 1; 3 1; 3 1; 3 1; 3 1; 3 2; 3 2; 3 2; 3 2; 3 2; 3 2; 3 1; 3 2; 3 2; 3 2; 3 2; 3 2; 3 2; 3 1; 3 2; 3 2; 3 2; 3 2; 3 1; 3 2; 3 0; 3 1; 3 2; 3 1; 3 2; 3 2; 3 2; 3 1; 3 2; 3 1; 3 2; 3 2; 3 2; 3 2; 3 0; 3 2; 3 2; 3 2; 3 2; 3 2; 3 2; 3 2; 3 2; 3 1; 3 2; 3 2; 3 1; 3 2; 3 2; 3 2; 3 2; 3 2; 3 2; 3 2; 3 1; 3 2; 3 1; 3 2; 3 1; 3 2; 3 2; 3 2; 3 1; 3 2; 3 1; 3 2; 3 1; 3 2; 3 2; 3 2; 3 1; 3 2; 3 1; 3 1; 3 0; 3 1; 3 2; 3 1; 3 2; 3 2; 3 2; 3 0; 3 1; 3 2; 3 1; 3 1; 3 2; 3 2; 3 1; 3 2; 3 2; 2 1; 2 0; 2 1; 2 1; 2 1; 2 1; 2 1; 2 1; 2 0; 2 0; 2 1; 2 1; 2 1; 2 1; 2 1; 2 1; 2 0; 2 1; 2 1; 2 1; 2 1; 2 1; 2 1; 2 0; 2 1; 2 1; 2 1; 2 0; 2 1; 2 1; 2 1; 2 1; 2 1; 2 1; 2 0; 2 1; 2 1; 2 1; 2 1; 2 1; 2 0; 2 1; 2 1; 2 1; 2 1; 2 1; 2 1; 2 1; 2 0; 2 0; 2 0; 2 1; 2 1; 2 1; 2 1; 2 1; 2 1; 2 0; 2 1; 2 0; 2 1; 2 1; 2 0; 2 1; 2 1; 2 1; 2 1; 2 0; 2 1; 2 1; 2 1; 2 1; 2 1; 2 1; 2 1; 2 0; 2 1; 2 0; 2 0; 2 1; 2 1; 2 1; 2 1; 2 0; 2 1; 2 0; 2 1; 2 1; 2 1; 2 1; 2 1; 2 1; 2 1; 2 1; 2 0; 2 1; 2 0; 2 1; 2 1; 2 1; 2 1; 2 0; 2 1; 2 1; 2 0; 2 1; 2 1; 2 0; 2 0; 2 0; 2 0; 2 1; 2 1; 2 1; 2 0; 2 1; 2 1; 2 1; 2 0; 2 1; 2 1; 2 1; 2 1; 2 1; 2 1; 2 1; 2 1; 2 1; 2 1; 2 1; 2 1; 2 1; 2 1; 2 1; 2 1; 2 1; 2 1; 2 0; 2 1; 2 1; 2 1; 2 0; 2 0; 2 1; 2 1; 2 1; 2 0; 2 1; 2 1; 2 0; 2 1; 2 0; 2 1; 2 0; 2 1; 2 1; 2 1; 2 1; 2 1; 2 1; 2 1; 2 0; 2 1; 2 1; 2 1; 2 1; 2 1; 2 1; 2 1; 2 1; 2 1; 2 1; 2 0; 2 1; 2 1; 2 1; 2 1; 2 0; 2 1; 2 1; 2 1; 2 1; 2 0; 2 1; 2 1; 2 1; 2 1; 2 1; 2 1; 2 1; 2 1; 2 1; 2 1; 2 1; 2 1; 2 1; 2 1; 2 1; 2 0; 2 1; 2 0; 2 1; 2 1; 2 0; 2 0; 2 0; 2 1; 2 1; 2 1; 2 0; 2 1; 2 1; 2 1; 2 1; 2 1; 2 0; 2 1; 2 1; 2 1; 2 1; 2 0; 2 1; 2 1; 2 0; 2 1; 2 1; 2 1; 2 1; 2 1; 2 0; 2 1; 2 0; 2 0; 2 1; 2 1; 2 0; 2 1; 2 1; 2 0; 2 0; 2 1; 2 0; 2 1; 2 0; 2 1; 2 0; 2 1; 2 1; 2 1; 2 0; 2 1; 2 0; 2 1; 2 1; 2 1; 2 1; 2 0; 2 1; 2 1; 2 1; 2 1; 2 1; 2 1; 2 0; 2 0; 2 1; 2 1; 2 1; 2 1; 2 0; 2 1; 2 1; 2 1; 2 1; 2 1; 2 1; 2 0; 2 1; 2 1; 2 1; 2 1; 2 0; 2 0; 2 1; 2 1; 2 1; 2 1; 2 1; 2 1; 2 1; 2 1; 2 1; 2 1; 2 1; 2 1; 2 1; 2 0; 2 1; 2 1; 2 1; 2 1; 2 1; 2 1; 2 1; 2 1; 2 1; 2 1; 2 1; 2 0; 2 1; 2 1; 2 0; 2 1; 2 0; 2 1; 2 1; 2 0; 2 1; 2 1; 2 1; 2 1; 2 1; 2 0; 2 1; 2 0; 2 1; 2 1; 2 1; 2 1; 2 1; 2 0; 2 1; 2 1; 2 1; 2 1; 2 0; 2 1; 2 1; 2 1; 2 1; 2 1; 2 1; 2 1; 2 1; 2 1; 2 1; 2 0; 2 0; 2 1; 2 1; 2 1; 2 0; 2 1; 2 0; 2 1; 2 1; 2 1; 2 1; 2 1; 2 1; 2 1; 2 1; 2 1; 2 1; 2 1; 2 1; 2 1; 2 1; 2 1; 2 1; 2 1; 2 1; 2 1; 2 1; 2 0; 2 1; 2 1; 2 1; 2 1; 2 1; 2 1; 2 1; 2 1; 2 1; 2 1; 2 1; 2 1; 2 1; 2 0; 2 1; 2 1; 2 0; 2 0; 2 1; 2 1; 2 1; 2 1; 2 1; 2 1; 2 1; 2 1; 2 1; 2 1; 2 1; 2 1; 2 0; 2 0; 2 1; 2 1; 2 0; 2 0; 2 1; 2 0; 2 1; 2 1; 2 0; 2 0; 2 1; 2 1; 2 1; 2 1; 2 1; 2 1; 2 1; 2 1; 2 1; 2 0; 2 0; 2 1; 2 1; 2 1; 2 1; 2 1; 2 1; 2 1; 2 1; 2 0; 2 1; 2 1; 2 1; 2 1; 2 1; 2 1; 2 1; 2 1; 2 1; 2 1; 2 1; 2 1; 2 1; 2 1; 2 1; 2 1; 2 1; 2 1; 2 0; 2 1; 2 1; 2 1; 2 1; 2 1; 2 1; 2 0; 2 1; 2 1; 2 1; 2 1; 2 1; 2 1; 2 1; 2 1; 2 1; 2 0; 2 1; 2 1; 2 1; 2 1; 2 1; 2 1; 2 1; 2 1; 2 1; 2 1; 2 1; 2 1; 2 1; 2 0; 2 1; 2 1; 2 0; 2 0; 2 1; 2 1; 2 1; 2 1; 2 1; 2 0; 2 1; 2 1; 2 1; 2 1; 2 1; 2 1; 2 1; 2 1; 2 1; 2 1; 2 1; 2 1; 2 1; 2 1; 2 1; 2 1; 2 0; 2 1; 2 1; 2 1; 2 1; 2 1; 2 1; 2 1; 2 1; 2 1; 2 1; 2 1; 2 0; 2 1; 2 1; 2 1; 2 0; 2 1; 2 1; 2 1; 2 1; 2 1; 2 1; 2 1; 2 0; 2 1; 2 1; 2 1; 2 1; 2 1; 2 1; 2 1; 2 1; 2 1; 2 0; 2 0; 2 1; 2 1; 2 0; 2 1; 2 1; 2 1; 2 0; 2 1; 2 1; 2 1; 2 0; 2 1; 2 0; 2 1; 2 1; 2 1; 2 1; 2 0; 2 1; 2 1; 2 1; 2 0; 2 1; 2 1; 2 1; 2 1; 2 1; 2 1; 2 1; 2 1; 2 1; 2 1; 2 1; 2 1; 2 1; 2 1; 2 0; 2 1; 2 1; 2 1; 2 0; 2 1; 2 1; 2 1; 2 1; 2 1; 2 1; 2 1; 2 1; 2 1; 2 1; 2 1; 2 0; 2 1; 2 1; 2 1; 2 1; 2 1; 2 0; 2 1; 2 1; 2 1; 2 1; 2 1; 2 1; 2 1; 2 1; 2 0; 2 1; 2 0; 2 1; 2 1; 2 1; 2 1; 2 0; 2 1; 2 0; 2 1; 2 1; 2 1; 2 1; 2 1; 2 1; 2 1; 2 0; 2 1; 2 1; 2 1; 2 1; 2 1; 2 1; 2 0; 2 1; 2 0; 2 1; 2 1; 2 0; 2 1; 2 1; 2 0; 2 1; 2 1; 2 1; 2 1; 2 1; 2 1; 2 1; 2 1; 2 1; 2 1; 2 1; 2 1; 2 1; 2 1; 2 1; 2 1; 2 1; 2 1; 2 1; 2 1; 2 1; 2 1; 2 1; 2 1; 2 1; 2 1; 2 1; 2 1; 2 1; 2 1; 2 1; 2 0; 2 1; 2 1; 2 1; 2 1; 2 0; 2 1; 2 1; 2 1; 2 1; 2 1; 2 1; 2 1; 2 0; 2 0; 2 0; 2 1; 2 1; 2 1; 2 1; 2 0; 2 1; 2 1; 2 1; 2 1; 2 1; 2 0; 2 0; 2 0; 2 1; 2 1; 2 1; 2 1; 2 1; 2 1; 2 1; 2 1; 2 1; 2 1; 2 1; 2 1; 2 1; 2 0; 2 1; 2 1; 2 0; 2 1; 2 1; 2 0; 2 1; 2 1; 2 0; 2 0; 2 1; 2 1; 2 1; 2 1; 2 0; 2 0; 2 1; 2 1; 2 1; 2 1; 2 0; 2 1; 2 1; 2 1; 2 1; 2 1; 2 1; 2 0; 2 1; 2 1; 2 0; 2 1; 2 0; 2 0; 2 1; 2 1; 2 1; 2 1; 2 0; 2 1; 2 1; 2 1; 2 0; 2 0; 2 1; 2 1; 2 0; 2 1; 2 1; 2 0; 2 1; 2 1; 2 1; 2 0; 2 1; 2 0; 2 0; 2 1; 2 1; 2 0; 2 1; 2 1; 2 1; 2 1; 2 1; 2 1; 2 1; 2 1; 2 1; 2 1; 2 1; 2 0; 2 1; 2 0; 2 1; 2 1; 2 1; 2 1; 2 1; 2 0; 2 1; 2 1; 2 1; 2 1; 2 1; 2 1; 2 1; 2 1; 2 1; 2 0; 2 1; 2 1; 2 1; 2 0; 2 1; 2 1; 2 1; 2 1; 2 1; 2 1; 2 1; 2 0; 2 1; 2 1; 2 1; 2 1; 2 1; 2 1; 2 1; 2 1; 2 0; 2 1; 2 1; 2 1; 2 1; 2 0; 2 1; 2 1; 2 1; 2 1; 2 0; 2 1; 2 1; 2 1; 2 1; 2 1; 2 1; 2 1; 2 0; 2 1; 2 1; 2 1; 2 1; 2 0; 2 1; 2 1; 2 1; 2 1; 2 1; 2 1; 2 1; 2 1; 2 1; 2 0; 2 1; 2 1; 2 0; 2 0; 2 1; 2 1; 2 0; 2 1; 2 1; 2 1; 2 1; 2 1; 2 1; 2 1; 2 1; 2 1; 2 1; 2 0; 2 1; 2 0; 2 1; 2 1; 2 1; 2 1; 2 1; 2 1; 2 1; 2 0; 2 1; 2 1; 2 0; 2 1; 2 1; 2 0; 2 1; 2 0; 2 1; 2 1; 2 0; 2 1; 2 0; 2 1; 2 0; 2 1; 2 1; 2 0; 2 0; 2 1; 2 1; 2 1; 2 1; 2 1; 2 1; 2 1; 2 1; 2 1; 2 1; 2 1; 2 1; 2 1; 2 1; 2 0; 2 1; 2 1; 2 1; 2 0; 2 1; 2 1; 2 1; 2 1; 2 1; 2 0; 2 0; 2 1; 2 1; 2 1; 2 1; 2 1; 2 0; 2 1; 2 0; 2 1; 2 1; 2 1; 2 0; 2 1; 2 1; 2 1; 2 1; 2 1; 2 1; 2 1; 2 1; 2 0; 2 1; 2 1; 2 1; 2 1; 2 0; 2 1; 2 0; 2 0; 2 0; 2 1; 2 1; 2 1; 2 1; 2 1; 2 0; 2 0; 2 1; 2 1; 2 1; 2 1; 2 0; 2 0; 2 1; 2 0; 2 0; 2 0; 2 1; 2 1; 2 0; 2 1; 2 1; 2 1; 2 1; 2 1; 2 1; 2 1; 2 1; 2 1; 2 1; 2 1; 2 1; 2 0; 2 0; 2 1; 2 0; 2 1; 2 1; 2 1; 2 1; 2 1; 2 0; 2 1; 2 1; 2 1; 2 1; 2 1; 2 1; 2 1; 2 1; 2 1; 2 1; 2 1; 2 1; 2 0; 2 1; 2 1; 2 1; 2 1; 2 1; 2 1; 2 1; 2 1; 2 1; 2 0; 2 1; 2 1; 2 1; 2 1; 2 0; 2 1; 2 0; 2 1; 2 1; 2 1; 2 1; 2 1; 2 1; 2 1; 2 0; 2 1; 2 1; 2 1; 2 1; 2 1; 2 1; 2 0; 2 0; 2 1; 2 1; 2 1; 2 0; 2 1; 2 1; 2 1; 2 1; 2 0; 2 1; 2 0; 2 1; 2 0; 2 1; 2 1; 2 1; 2 1; 2 1; 2 0; 2 1; 2 1; 2 1; 2 0; 2 0; 2 1; 2 1; 2 1; 2 1; 2 1; 2 1; 2 1; 2 1; 2 1; 2 1; 2 0; 2 1; 2 1; 2 1; 2 1; 2 0; 2 1; 2 0; 2 1; 2 1; 2 0; 2 1; 2 1; 2 1; 2 1; 2 1; 2 1; 2 1; 2 1; 2 1; 2 1; 2 1; 2 1; 2 0; 2 0; 2 1; 2 1; 2 0; 2 1; 2 1; 2 1; 2 1; 2 1; 2 0; 2 1; 2 1; 2 1; 2 1; 2 1; 2 0; 2 0; 2 1; 2 1; 2 1; 2 1; 2 1; 2 0; 2 1; 2 1; 2 0; 2 1; 2 1; 2 0; 2 1; 2 0; 2 1; 2 0; 2 0; 2 1; 2 1; 2 1; 2 1; 2 1; 2 0; 2 1; 2 0; 2 0; 2 1; 2 1; 2 1; 2 1; 2 1; 2 1; 2 1; 2 1; 2 0; 2 1; 2 1; 2 1; 2 0; 2 1; 2 1; 2 1; 2 1; 2 0; 2 1; 2 1; 2 1; 2 1; 2 1; 2 1; 2 1; 2 1; 2 1; 2 1; 2 1; 2 1; 2 1; 2 1; 2 1; 2 1; 2 1; 2 0; 2 1; 2 1; 2 1; 2 1; 2 1; 2 1; 2 1; 2 1; 2 0; 2 0; 2 1; 2 1; 2 1; 2 0; 2 1; 2 1; 2 1; 2 1; 2 1; 2 1; 2 1; 2 0; 2 0; 2 0; 2 1; 2 1; 2 1; 2 1; 2 1; 2 1; 2 1; 2 1; 2 1; 2 1; 2 0; 2 1; 2 1; 2 1; 2 1; 2 1; 2 1; 2 0; 2 1; 2 1; 2 1; 2 1; 2 1; 2 1; 2 1; 2 1; 2 1; 2 1; 2 1; 2 1; 2 1; "
     ]
    }
   ],
   "source": [
    "for i, group in enumerate(smart_modified_HOGs):\n",
    "    selected_rows = counts['Desc'].isin(group)\n",
    "    if len(group) != selected_rows.sum():\n",
    "        print(len(group), selected_rows.sum(), end='; ')\n",
    "    new_row = counts[selected_rows].sum(numeric_only=True)\n",
    "    badge_n = i + OG0064650\n",
    "    badge = 'JSG' + str(badge_n).zfill(7)\n",
    "    new_row['Desc'] = badge\n",
    "    new_row['Family ID'] = badge_n\n",
    "    new_table.loc[badge] = new_row\n",
    "    "
   ]
  },
  {
   "cell_type": "code",
   "execution_count": 128,
   "metadata": {
    "collapsed": false
   },
   "outputs": [
    {
     "name": "stdout",
     "output_type": "stream",
     "text": [
      "17044\n"
     ]
    }
   ],
   "source": [
    "from itertools import chain\n",
    "rows_mentioned = set(chain(*smart_modified_HOGs))\n",
    "print(len(rows_mentioned))"
   ]
  },
  {
   "cell_type": "code",
   "execution_count": 129,
   "metadata": {
    "collapsed": false
   },
   "outputs": [
    {
     "data": {
      "text/plain": [
       "['OG0018821',\n",
       " 'OG0022545',\n",
       " 'OG0026509',\n",
       " 'OG0036072',\n",
       " 'OG0026401',\n",
       " 'OG0017896',\n",
       " 'OG0009334',\n",
       " 'OG0006179',\n",
       " 'OG0029711',\n",
       " 'OG0031620']"
      ]
     },
     "execution_count": 129,
     "metadata": {},
     "output_type": "execute_result"
    }
   ],
   "source": [
    "list(rows_mentioned)[:10]"
   ]
  },
  {
   "cell_type": "markdown",
   "metadata": {},
   "source": [
    "How could there possibly be numbers mentioned here that are not in the table?  Can I use a mask instead?"
   ]
  },
  {
   "cell_type": "code",
   "execution_count": 130,
   "metadata": {
    "collapsed": false
   },
   "outputs": [
    {
     "name": "stdout",
     "output_type": "stream",
     "text": [
      "21603\n"
     ]
    },
    {
     "data": {
      "text/html": [
       "<div>\n",
       "<style scoped>\n",
       "    .dataframe tbody tr th:only-of-type {\n",
       "        vertical-align: middle;\n",
       "    }\n",
       "\n",
       "    .dataframe tbody tr th {\n",
       "        vertical-align: top;\n",
       "    }\n",
       "\n",
       "    .dataframe thead th {\n",
       "        text-align: right;\n",
       "    }\n",
       "</style>\n",
       "<table border=\"1\" class=\"dataframe\">\n",
       "  <thead>\n",
       "    <tr style=\"text-align: right;\">\n",
       "      <th></th>\n",
       "      <th>Desc</th>\n",
       "      <th>Family ID</th>\n",
       "      <th>FRAX00</th>\n",
       "      <th>FRAX01</th>\n",
       "      <th>FRAX02</th>\n",
       "      <th>FRAX03</th>\n",
       "      <th>FRAX04</th>\n",
       "      <th>FRAX05</th>\n",
       "      <th>FRAX06</th>\n",
       "      <th>FRAX07</th>\n",
       "      <th>...</th>\n",
       "      <th>FRAX28</th>\n",
       "      <th>FRAX29</th>\n",
       "      <th>FRAX30</th>\n",
       "      <th>FRAX31</th>\n",
       "      <th>FRAX32</th>\n",
       "      <th>FRAX33</th>\n",
       "      <th>FRAX34</th>\n",
       "      <th>Mguttatus</th>\n",
       "      <th>Oeuropea</th>\n",
       "      <th>Slycopersicum</th>\n",
       "    </tr>\n",
       "  </thead>\n",
       "  <tbody>\n",
       "    <tr>\n",
       "      <th>0</th>\n",
       "      <td>OG0000000</td>\n",
       "      <td>0</td>\n",
       "      <td>11</td>\n",
       "      <td>22</td>\n",
       "      <td>29</td>\n",
       "      <td>17</td>\n",
       "      <td>35</td>\n",
       "      <td>23</td>\n",
       "      <td>28</td>\n",
       "      <td>23</td>\n",
       "      <td>...</td>\n",
       "      <td>27</td>\n",
       "      <td>27</td>\n",
       "      <td>22</td>\n",
       "      <td>28</td>\n",
       "      <td>24</td>\n",
       "      <td>23</td>\n",
       "      <td>20</td>\n",
       "      <td>1</td>\n",
       "      <td>19</td>\n",
       "      <td>5</td>\n",
       "    </tr>\n",
       "    <tr>\n",
       "      <th>1</th>\n",
       "      <td>OG0000001</td>\n",
       "      <td>1</td>\n",
       "      <td>22</td>\n",
       "      <td>20</td>\n",
       "      <td>15</td>\n",
       "      <td>19</td>\n",
       "      <td>20</td>\n",
       "      <td>16</td>\n",
       "      <td>20</td>\n",
       "      <td>17</td>\n",
       "      <td>...</td>\n",
       "      <td>16</td>\n",
       "      <td>16</td>\n",
       "      <td>20</td>\n",
       "      <td>20</td>\n",
       "      <td>18</td>\n",
       "      <td>20</td>\n",
       "      <td>20</td>\n",
       "      <td>9</td>\n",
       "      <td>20</td>\n",
       "      <td>10</td>\n",
       "    </tr>\n",
       "    <tr>\n",
       "      <th>2</th>\n",
       "      <td>OG0000002</td>\n",
       "      <td>2</td>\n",
       "      <td>19</td>\n",
       "      <td>15</td>\n",
       "      <td>12</td>\n",
       "      <td>15</td>\n",
       "      <td>16</td>\n",
       "      <td>17</td>\n",
       "      <td>18</td>\n",
       "      <td>17</td>\n",
       "      <td>...</td>\n",
       "      <td>17</td>\n",
       "      <td>15</td>\n",
       "      <td>17</td>\n",
       "      <td>15</td>\n",
       "      <td>13</td>\n",
       "      <td>18</td>\n",
       "      <td>18</td>\n",
       "      <td>9</td>\n",
       "      <td>22</td>\n",
       "      <td>13</td>\n",
       "    </tr>\n",
       "    <tr>\n",
       "      <th>3</th>\n",
       "      <td>OG0000003</td>\n",
       "      <td>3</td>\n",
       "      <td>24</td>\n",
       "      <td>10</td>\n",
       "      <td>6</td>\n",
       "      <td>12</td>\n",
       "      <td>15</td>\n",
       "      <td>13</td>\n",
       "      <td>15</td>\n",
       "      <td>17</td>\n",
       "      <td>...</td>\n",
       "      <td>13</td>\n",
       "      <td>19</td>\n",
       "      <td>12</td>\n",
       "      <td>15</td>\n",
       "      <td>14</td>\n",
       "      <td>13</td>\n",
       "      <td>12</td>\n",
       "      <td>21</td>\n",
       "      <td>34</td>\n",
       "      <td>24</td>\n",
       "    </tr>\n",
       "    <tr>\n",
       "      <th>4</th>\n",
       "      <td>OG0000004</td>\n",
       "      <td>4</td>\n",
       "      <td>20</td>\n",
       "      <td>16</td>\n",
       "      <td>11</td>\n",
       "      <td>10</td>\n",
       "      <td>13</td>\n",
       "      <td>15</td>\n",
       "      <td>16</td>\n",
       "      <td>15</td>\n",
       "      <td>...</td>\n",
       "      <td>13</td>\n",
       "      <td>14</td>\n",
       "      <td>15</td>\n",
       "      <td>15</td>\n",
       "      <td>14</td>\n",
       "      <td>15</td>\n",
       "      <td>15</td>\n",
       "      <td>8</td>\n",
       "      <td>13</td>\n",
       "      <td>12</td>\n",
       "    </tr>\n",
       "  </tbody>\n",
       "</table>\n",
       "<p>5 rows × 35 columns</p>\n",
       "</div>"
      ],
      "text/plain": [
       "        Desc  Family ID  FRAX00  FRAX01  FRAX02  FRAX03  FRAX04  FRAX05  \\\n",
       "0  OG0000000          0      11      22      29      17      35      23   \n",
       "1  OG0000001          1      22      20      15      19      20      16   \n",
       "2  OG0000002          2      19      15      12      15      16      17   \n",
       "3  OG0000003          3      24      10       6      12      15      13   \n",
       "4  OG0000004          4      20      16      11      10      13      15   \n",
       "\n",
       "   FRAX06  FRAX07      ...        FRAX28  FRAX29  FRAX30  FRAX31  FRAX32  \\\n",
       "0      28      23      ...            27      27      22      28      24   \n",
       "1      20      17      ...            16      16      20      20      18   \n",
       "2      18      17      ...            17      15      17      15      13   \n",
       "3      15      17      ...            13      19      12      15      14   \n",
       "4      16      15      ...            13      14      15      15      14   \n",
       "\n",
       "   FRAX33  FRAX34  Mguttatus  Oeuropea  Slycopersicum  \n",
       "0      23      20          1        19              5  \n",
       "1      20      20          9        20             10  \n",
       "2      18      18          9        22             13  \n",
       "3      13      12         21        34             24  \n",
       "4      15      15          8        13             12  \n",
       "\n",
       "[5 rows x 35 columns]"
      ]
     },
     "execution_count": 130,
     "metadata": {},
     "output_type": "execute_result"
    }
   ],
   "source": [
    "old_rows_removed = new_table[~new_table['Desc'].isin(rows_mentioned)]\n",
    "print(len(old_rows_removed))\n",
    "old_rows_removed.head()"
   ]
  },
  {
   "cell_type": "code",
   "execution_count": 131,
   "metadata": {
    "collapsed": false
   },
   "outputs": [
    {
     "data": {
      "text/plain": [
       "numpy.int64"
      ]
     },
     "execution_count": 131,
     "metadata": {},
     "output_type": "execute_result"
    }
   ],
   "source": [
    "type(new_table.loc[0]['Family ID']) #counts['Desc'] == 'OG0000000'][0]#.type"
   ]
  },
  {
   "cell_type": "code",
   "execution_count": 132,
   "metadata": {
    "collapsed": false
   },
   "outputs": [
    {
     "name": "stdout",
     "output_type": "stream",
     "text": [
      "33693\n"
     ]
    },
    {
     "data": {
      "text/html": [
       "<div>\n",
       "<style scoped>\n",
       "    .dataframe tbody tr th:only-of-type {\n",
       "        vertical-align: middle;\n",
       "    }\n",
       "\n",
       "    .dataframe tbody tr th {\n",
       "        vertical-align: top;\n",
       "    }\n",
       "\n",
       "    .dataframe thead th {\n",
       "        text-align: right;\n",
       "    }\n",
       "</style>\n",
       "<table border=\"1\" class=\"dataframe\">\n",
       "  <thead>\n",
       "    <tr style=\"text-align: right;\">\n",
       "      <th></th>\n",
       "      <th>Desc</th>\n",
       "      <th>Family ID</th>\n",
       "      <th>FRAX00</th>\n",
       "      <th>FRAX01</th>\n",
       "      <th>FRAX02</th>\n",
       "      <th>FRAX03</th>\n",
       "      <th>FRAX04</th>\n",
       "      <th>FRAX05</th>\n",
       "      <th>FRAX06</th>\n",
       "      <th>FRAX07</th>\n",
       "      <th>...</th>\n",
       "      <th>FRAX28</th>\n",
       "      <th>FRAX29</th>\n",
       "      <th>FRAX30</th>\n",
       "      <th>FRAX31</th>\n",
       "      <th>FRAX32</th>\n",
       "      <th>FRAX33</th>\n",
       "      <th>FRAX34</th>\n",
       "      <th>Mguttatus</th>\n",
       "      <th>Oeuropea</th>\n",
       "      <th>Slycopersicum</th>\n",
       "    </tr>\n",
       "  </thead>\n",
       "  <tbody>\n",
       "    <tr>\n",
       "      <th>JSG0033688</th>\n",
       "      <td>JSG0033688</td>\n",
       "      <td>33688</td>\n",
       "      <td>3</td>\n",
       "      <td>3</td>\n",
       "      <td>3</td>\n",
       "      <td>3</td>\n",
       "      <td>3</td>\n",
       "      <td>3</td>\n",
       "      <td>2</td>\n",
       "      <td>3</td>\n",
       "      <td>...</td>\n",
       "      <td>3</td>\n",
       "      <td>3</td>\n",
       "      <td>3</td>\n",
       "      <td>2</td>\n",
       "      <td>3</td>\n",
       "      <td>2</td>\n",
       "      <td>3</td>\n",
       "      <td>2</td>\n",
       "      <td>3</td>\n",
       "      <td>3</td>\n",
       "    </tr>\n",
       "    <tr>\n",
       "      <th>JSG0033689</th>\n",
       "      <td>JSG0033689</td>\n",
       "      <td>33689</td>\n",
       "      <td>2</td>\n",
       "      <td>2</td>\n",
       "      <td>1</td>\n",
       "      <td>2</td>\n",
       "      <td>2</td>\n",
       "      <td>2</td>\n",
       "      <td>2</td>\n",
       "      <td>1</td>\n",
       "      <td>...</td>\n",
       "      <td>2</td>\n",
       "      <td>0</td>\n",
       "      <td>0</td>\n",
       "      <td>2</td>\n",
       "      <td>2</td>\n",
       "      <td>2</td>\n",
       "      <td>2</td>\n",
       "      <td>1</td>\n",
       "      <td>2</td>\n",
       "      <td>1</td>\n",
       "    </tr>\n",
       "    <tr>\n",
       "      <th>JSG0033690</th>\n",
       "      <td>JSG0033690</td>\n",
       "      <td>33690</td>\n",
       "      <td>2</td>\n",
       "      <td>1</td>\n",
       "      <td>2</td>\n",
       "      <td>1</td>\n",
       "      <td>1</td>\n",
       "      <td>1</td>\n",
       "      <td>1</td>\n",
       "      <td>1</td>\n",
       "      <td>...</td>\n",
       "      <td>0</td>\n",
       "      <td>1</td>\n",
       "      <td>1</td>\n",
       "      <td>1</td>\n",
       "      <td>1</td>\n",
       "      <td>1</td>\n",
       "      <td>1</td>\n",
       "      <td>1</td>\n",
       "      <td>1</td>\n",
       "      <td>1</td>\n",
       "    </tr>\n",
       "    <tr>\n",
       "      <th>JSG0033691</th>\n",
       "      <td>JSG0033691</td>\n",
       "      <td>33691</td>\n",
       "      <td>2</td>\n",
       "      <td>2</td>\n",
       "      <td>0</td>\n",
       "      <td>1</td>\n",
       "      <td>1</td>\n",
       "      <td>2</td>\n",
       "      <td>2</td>\n",
       "      <td>1</td>\n",
       "      <td>...</td>\n",
       "      <td>1</td>\n",
       "      <td>1</td>\n",
       "      <td>2</td>\n",
       "      <td>2</td>\n",
       "      <td>1</td>\n",
       "      <td>1</td>\n",
       "      <td>1</td>\n",
       "      <td>1</td>\n",
       "      <td>2</td>\n",
       "      <td>1</td>\n",
       "    </tr>\n",
       "    <tr>\n",
       "      <th>JSG0033692</th>\n",
       "      <td>JSG0033692</td>\n",
       "      <td>33692</td>\n",
       "      <td>1</td>\n",
       "      <td>0</td>\n",
       "      <td>1</td>\n",
       "      <td>0</td>\n",
       "      <td>0</td>\n",
       "      <td>0</td>\n",
       "      <td>0</td>\n",
       "      <td>0</td>\n",
       "      <td>...</td>\n",
       "      <td>1</td>\n",
       "      <td>2</td>\n",
       "      <td>2</td>\n",
       "      <td>0</td>\n",
       "      <td>1</td>\n",
       "      <td>1</td>\n",
       "      <td>0</td>\n",
       "      <td>0</td>\n",
       "      <td>0</td>\n",
       "      <td>0</td>\n",
       "    </tr>\n",
       "  </tbody>\n",
       "</table>\n",
       "<p>5 rows × 35 columns</p>\n",
       "</div>"
      ],
      "text/plain": [
       "                  Desc  Family ID  FRAX00  FRAX01  FRAX02  FRAX03  FRAX04  \\\n",
       "JSG0033688  JSG0033688      33688       3       3       3       3       3   \n",
       "JSG0033689  JSG0033689      33689       2       2       1       2       2   \n",
       "JSG0033690  JSG0033690      33690       2       1       2       1       1   \n",
       "JSG0033691  JSG0033691      33691       2       2       0       1       1   \n",
       "JSG0033692  JSG0033692      33692       1       0       1       0       0   \n",
       "\n",
       "            FRAX05  FRAX06  FRAX07      ...        FRAX28  FRAX29  FRAX30  \\\n",
       "JSG0033688       3       2       3      ...             3       3       3   \n",
       "JSG0033689       2       2       1      ...             2       0       0   \n",
       "JSG0033690       1       1       1      ...             0       1       1   \n",
       "JSG0033691       2       2       1      ...             1       1       2   \n",
       "JSG0033692       0       0       0      ...             1       2       2   \n",
       "\n",
       "            FRAX31  FRAX32  FRAX33  FRAX34  Mguttatus  Oeuropea  Slycopersicum  \n",
       "JSG0033688       2       3       2       3          2         3              3  \n",
       "JSG0033689       2       2       2       2          1         2              1  \n",
       "JSG0033690       1       1       1       1          1         1              1  \n",
       "JSG0033691       2       1       1       1          1         2              1  \n",
       "JSG0033692       0       1       1       0          0         0              0  \n",
       "\n",
       "[5 rows x 35 columns]"
      ]
     },
     "execution_count": 132,
     "metadata": {},
     "output_type": "execute_result"
    }
   ],
   "source": [
    "print(len(new_table))\n",
    "new_table.tail()"
   ]
  },
  {
   "cell_type": "markdown",
   "metadata": {},
   "source": [
    "Up until now we haven't ran a clade filter because combining rows might join some things and make it pass the filter.  Now we need to filter out our rows so that we have usable families for CAFE.  There should be at least one copy in an Oleaceae species."
   ]
  },
  {
   "cell_type": "markdown",
   "metadata": {},
   "source": [
    "## New Plan: only use OrthoGroups.csv\n",
    "Cafe_orthofinder_Orthogroups.GeneCount.csv is filtered to have at least two genes in any family.  We don't want this filter apriori, only after clustering.  \n",
    "\n",
    "- Important: super HOGs network need to be redone with this as its new source.\n",
    "- Important: start pulling of the _R1 tail, that's not helpful."
   ]
  },
  {
   "cell_type": "code",
   "execution_count": null,
   "metadata": {
    "collapsed": true
   },
   "outputs": [],
   "source": []
  },
  {
   "cell_type": "code",
   "execution_count": null,
   "metadata": {
    "collapsed": true
   },
   "outputs": [],
   "source": []
  },
  {
   "cell_type": "code",
   "execution_count": null,
   "metadata": {
    "collapsed": true
   },
   "outputs": [],
   "source": []
  },
  {
   "cell_type": "code",
   "execution_count": null,
   "metadata": {
    "collapsed": true
   },
   "outputs": [],
   "source": []
  },
  {
   "cell_type": "markdown",
   "metadata": {},
   "source": [
    "------------------"
   ]
  },
  {
   "cell_type": "markdown",
   "metadata": {},
   "source": [
    "# Old code using FASTA sequence files for HOG definitions, useful for MSA viz output"
   ]
  },
  {
   "cell_type": "code",
   "execution_count": null,
   "metadata": {
    "collapsed": false
   },
   "outputs": [],
   "source": [
    "def parse_HOGs_from_fasta_directory():\n",
    "    directory_HOGs = r\"D:\\josiah\\Documents\\Research\\Thesis - Genome Symmetry\\DNA_Duplications\\Ash_Proteome\\Results_Jun25\\Orthologues_Jul06\\Sequences\"\n",
    "    from glob import glob\n",
    "    from os.path import join, splitext, basename\n",
    "    file_list = glob(join(directory_HOGs, \"*.fa\"))\n",
    "    HOGs = {}\n",
    "    for i, filename in enumerate(file_list):\n",
    "        if i % 1000 == 0:\n",
    "            print(basename(filename))\n",
    "        assert basename(filename).startswith('OG')\n",
    "        headers = []\n",
    "        with open(filename, 'r') as fasta:\n",
    "            for line in fasta:\n",
    "                if line.startswith('>'):\n",
    "                    headers.append(convert_to_gene_id(line[1:-1]))\n",
    "        #assert len(headers) == len(set(headers)), \"There was a redundant gene mention %s\" % headers \n",
    "        HOGs[basename(splitext(filename)[0])] = headers\n",
    "    return HOGs\n",
    "HOGs = parse_HOGs_from_fasta_directory()\n",
    "len(HOGs)"
   ]
  },
  {
   "cell_type": "markdown",
   "metadata": {},
   "source": [
    "_We could simply exclude all modified HOGs from the data as being ambiguous_"
   ]
  },
  {
   "cell_type": "markdown",
   "metadata": {},
   "source": [
    "### Concat super HOG fasta files into a new directoy"
   ]
  },
  {
   "cell_type": "code",
   "execution_count": null,
   "metadata": {
    "collapsed": false
   },
   "outputs": [],
   "source": [
    "from os.path import join, basename, splitext\n",
    "import os\n",
    "family_out_dir = r\"D:\\josiah\\Documents\\Research\\Thesis - Genome Symmetry\\DNA_Duplications\\Ash_Proteome\\Results_Jun25\\Orthologues_Jul06\\super_JOGs__tail\"\n",
    "HOGfasta = r\"D:\\josiah\\Documents\\Research\\Thesis - Genome Symmetry\\DNA_Duplications\\Ash_Proteome\\Results_Jun25\\Orthologues_Jul06\\Sequences\"\n",
    "os.makedirs(family_out_dir)\n",
    "for family in modified_HOGs_only:\n",
    "    family_name = ('-'.join(family))[:200] + '.fa'\n",
    "    with open(join(family_out_dir, family_name), 'wb') as concat:  # output file concatenation\n",
    "        for hog in family:\n",
    "            with open(join(HOGfasta, hog + '.fa'), 'rb') as hog_file:  # smaller input file\n",
    "                concat.write(hog_file.read())  # dump the whole file\n",
    "#                 concat.write('\\n')  # just to be safe\n",
    "            "
   ]
  },
  {
   "cell_type": "markdown",
   "metadata": {},
   "source": [
    "### Align the new gene family files"
   ]
  },
  {
   "cell_type": "code",
   "execution_count": null,
   "metadata": {
    "collapsed": false
   },
   "outputs": [],
   "source": [
    "import subprocess\n",
    "import multiprocessing\n",
    "from datetime import datetime\n",
    "import os\n",
    "from os.path import dirname, join, basename\n",
    "from Bio.Align.Applications import MuscleCommandline\n",
    "from DNASkittleUtils.CommandLineUtils import just_the_name\n",
    "from glob import glob\n",
    "\n",
    "def do_alignment(args):\n",
    "#     print(\"starting alignment\")\n",
    "    index, fa, output_folder = args\n",
    "    target = join(output_folder, just_the_name(fa) + '.fa')\n",
    "    muscle_exe = 'muscle3.8.31_i86win32.exe'\n",
    "\n",
    "    if not os.path.exists(target):\n",
    "        muscle_cline = MuscleCommandline(muscle_exe, input=fa, out=target)\n",
    "        try:\n",
    "            stdout, stderr = muscle_cline()\n",
    "        except subprocess.CalledProcessError as err:\n",
    "            print(err.stderr)\n",
    "        print(datetime.now(), just_the_name(fa), '{:%}'.format(index / 5347))\n",
    "\n",
    "def batch_align_sequences(input_folder, output_folder):\n",
    "    start = datetime.now()\n",
    "    input_folder = os.path.abspath(input_folder)\n",
    "    os.makedirs(output_folder, exist_ok=True)\n",
    "    files = glob(os.path.join(input_folder, '*.fa'))\n",
    "    files = sorted(files, key= os.path.getsize)\n",
    "    args = [(i, ipath, output_folder) for i, ipath in list(enumerate(files))]\n",
    "    for line in args:\n",
    "        do_alignment(line)\n",
    "#     pool.map(do_alignment, args)\n",
    "        \n",
    "    return os.path.abspath(output_folder)\n",
    "\n",
    "#You can't actually do multiprocessing from a notebook\n",
    "# if __name__ == '__main__':  # https://github.com/jupyter/notebook/issues/2080\n",
    "#     pool = multiprocessing.Pool(10)\n"
   ]
  },
  {
   "cell_type": "code",
   "execution_count": null,
   "metadata": {
    "collapsed": false
   },
   "outputs": [],
   "source": [
    "family_aligned_dir = r\"D:\\Genomes\\Ash_Gene_Families\\test\\aligned\"   \n",
    "family_fasta_dir = r\"D:\\Genomes\\Ash_Gene_Families\\test\"\n",
    "\n",
    "batch_align_sequences(input_folder = family_fasta_dir,\n",
    "                      output_folder = family_aligned_dir)"
   ]
  },
  {
   "cell_type": "code",
   "execution_count": null,
   "metadata": {
    "collapsed": true
   },
   "outputs": [],
   "source": [
    "family_aligned_dir = r\"D:\\Genomes\\Ash_Gene_Families\\aligned\"   \n",
    "family_fasta_dir = r\"D:\\Genomes\\Ash_Gene_Families\"\n",
    "\n",
    "batch_align_sequences(input_folder = family_fasta_dir,\n",
    "                      output_folder = family_aligned_dir)"
   ]
  },
  {
   "cell_type": "code",
   "execution_count": null,
   "metadata": {
    "collapsed": false
   },
   "outputs": [],
   "source": [
    "family_aligned_dir = r\"D:\\josiah\\Documents\\Research\\Thesis - Genome Symmetry\\DNA_Duplications\\data\\super_hog_test_viz\\aligned\"   \n",
    "family_fasta_dir = r\"D:\\josiah\\Documents\\Research\\Thesis - Genome Symmetry\\DNA_Duplications\\data\\super_hog_test_viz\"\n",
    "\n",
    "batch_align_sequences(input_folder = family_fasta_dir,\n",
    "                      output_folder = family_aligned_dir)"
   ]
  },
  {
   "cell_type": "code",
   "execution_count": null,
   "metadata": {
    "collapsed": false
   },
   "outputs": [],
   "source": [
    "family_aligned_dir = r\"D:\\josiah\\Documents\\Research\\Thesis - Genome Symmetry\\DNA_Duplications\\data\\phylogenetic_guides\\aligned\"   \n",
    "family_fasta_dir = r\"D:\\josiah\\Documents\\Research\\Thesis - Genome Symmetry\\DNA_Duplications\\data\\phylogenetic_guides\"\n",
    "\n",
    "batch_align_sequences(input_folder = family_fasta_dir,\n",
    "                      output_folder = family_aligned_dir)"
   ]
  },
  {
   "cell_type": "code",
   "execution_count": null,
   "metadata": {
    "collapsed": false
   },
   "outputs": [],
   "source": [
    "do_alignment((1, r\"D:\\Genomes\\Ash_Gene_Families\\OG0037028-OG0004348.fa\",\n",
    "             r\"D:\\Genomes\\Ash_Gene_Families\\test\\aligned\"))"
   ]
  },
  {
   "cell_type": "code",
   "execution_count": null,
   "metadata": {
    "collapsed": false
   },
   "outputs": [],
   "source": [
    "do_alignment((1, r\"D:\\Genomes\\Ash_Gene_Families\\test\\FRAX04_pair.fa\", r'D:\\Genomes\\Ash_Gene_Families\\test\\aligned'))"
   ]
  },
  {
   "cell_type": "code",
   "execution_count": null,
   "metadata": {
    "collapsed": true
   },
   "outputs": [],
   "source": [
    "\n",
    "list(enumerate(glob(join(r'D:\\josiah\\Documents\\Research\\Thesis - Genome Symmetry\\DNA_Duplications\\data\\candidates', '*.fa'))))"
   ]
  },
  {
   "cell_type": "markdown",
   "metadata": {},
   "source": [
    "* output files with lists of gene names to look for in each HOG\n",
    "* per species, find those gene names in the annotation\n",
    "* count presence / absence of a gene name in an annotation\n",
    "* group them back by super-HOGs\n",
    "* End result: gene copy count per each gene family defined by a super-HOG"
   ]
  },
  {
   "cell_type": "markdown",
   "metadata": {},
   "source": [
    "_Should I call this a multigene family?_"
   ]
  },
  {
   "cell_type": "markdown",
   "metadata": {},
   "source": [
    "# Fasta Processing"
   ]
  },
  {
   "cell_type": "code",
   "execution_count": null,
   "metadata": {
    "collapsed": false
   },
   "outputs": [],
   "source": [
    "from DNASkittleUtils.Contigs import read_contigs\n",
    "seqs = read_contigs(r\"D:\\Genomes\\Ash_Gene_Families\\OG0014503-OG0018028-OG0009430-OG0001620-OG0012608-OG0012187-OG0003830-OG0005353-OG0000848-OG0001316-OG0001679-OG00.fa\")\n",
    "print(len(seqs))\n",
    "%matplotlib inline\n",
    "import pandas\n",
    "lengths = [len(contig.seq) for contig in seqs ]\n",
    "df = pandas.Series(lengths)#, columns=['Family ID', 'Copies'])\n",
    "bins = 20\n",
    "f = df.hist(bins=bins, figsize=(10,5), )#dpi=300)\n",
    "f.grid(False)\n",
    "# f.set_xticks(range(bins))\n",
    "f.set_title(\"Are sequences clustered together actually the same size?\")\n",
    "f.set_xlabel(\"Sequence Length\")\n",
    "f.set_ylabel(\"Number of Sequences\")"
   ]
  },
  {
   "cell_type": "markdown",
   "metadata": {},
   "source": [
    "**Conclusion: This indicates that the file I opened is a massive super cluster with over 1,000 sequences in the 500 range and many more besides.  Making a cluster this big is not helpful to my analysis.**"
   ]
  },
  {
   "cell_type": "code",
   "execution_count": null,
   "metadata": {
    "collapsed": false
   },
   "outputs": [],
   "source": [
    "for family in modified_HOGs_only:\n",
    "    if 'OG0018028' in family:\n",
    "        print(family)"
   ]
  },
  {
   "cell_type": "code",
   "execution_count": null,
   "metadata": {
    "collapsed": false
   },
   "outputs": [],
   "source": [
    "len({'OG0023682', 'OG0001620', 'OG0008375', 'OG0036452', 'OG0019438', 'OG0000848', 'OG0025173', 'OG0007534', 'OG0001316', 'OG0019062', 'OG0002719', 'OG0012608', 'OG0003830', 'OG0010137', 'OG0023528', 'OG0007285', 'OG0014503', 'OG0011854', 'OG0010197', 'OG0020872', 'OG0001331', 'OG0009430', 'OG0018028', 'OG0010551', 'OG0031433', 'OG0031546', 'OG0001679', 'OG0012187', 'OG0005353'})"
   ]
  },
  {
   "cell_type": "code",
   "execution_count": null,
   "metadata": {
    "collapsed": false
   },
   "outputs": [],
   "source": [
    "def i_hist(values):\n",
    "    bins = [0] * (max(values) +1)\n",
    "    for v in values:\n",
    "        bins[v] += 1\n",
    "    return bins\n",
    "i_hist([len(family) for family in modified_HOGs_only])  # cap at 10"
   ]
  },
  {
   "cell_type": "code",
   "execution_count": null,
   "metadata": {
    "collapsed": false
   },
   "outputs": [],
   "source": [
    "list(zip(range(400), i_hist([len(genes) for genes in HOGs.values()]) ))  # cap at 200"
   ]
  },
  {
   "cell_type": "code",
   "execution_count": null,
   "metadata": {
    "collapsed": false
   },
   "outputs": [],
   "source": [
    "i_hist([len(ogs) for ogs in actual_genes_to_HOGs.values()])  # cap at 6 HOGs per gene"
   ]
  },
  {
   "cell_type": "markdown",
   "metadata": {},
   "source": [
    "### Blacklist promiscuous genes and HOGs"
   ]
  },
  {
   "cell_type": "code",
   "execution_count": 23,
   "metadata": {
    "collapsed": false
   },
   "outputs": [
    {
     "data": {
      "text/plain": [
       "<matplotlib.text.Text at 0x2edb2b38>"
      ]
     },
     "execution_count": 23,
     "metadata": {},
     "output_type": "execute_result"
    },
    {
     "data": {
      "image/png": "[encoded data removed]",
      "text/plain": [
       "<matplotlib.figure.Figure at 0x4d2dbe0>"
      ]
     },
     "metadata": {},
     "output_type": "display_data"
    }
   ],
   "source": [
    "%matplotlib inline\n",
    "import pandas\n",
    "lengths = [sum(len(OGs[label]) for label in group) for group in smart_modified_HOGs]\n",
    "df = pandas.Series(lengths)#, columns=['Family ID', 'Copies'])\n",
    "bins = 20\n",
    "f = df.hist(bins=bins, figsize=(10,5), )#dpi=300)\n",
    "f.grid(False)\n",
    "f.set_title(\"Did we damp down on extremely large HOGs?\")\n",
    "f.set_xlabel(\"Number of Genes per HOG\")\n",
    "f.set_ylabel(\"Number of HOGs\")"
   ]
  },
  {
   "cell_type": "markdown",
   "metadata": {},
   "source": [
    "** Conclusion: Just filter out HOGs with > 500 genes**"
   ]
  },
  {
   "cell_type": "code",
   "execution_count": 25,
   "metadata": {
    "collapsed": false
   },
   "outputs": [
    {
     "data": {
      "text/plain": [
       "'-15'"
      ]
     },
     "execution_count": 25,
     "metadata": {},
     "output_type": "execute_result"
    }
   ],
   "source": [
    "filtered_smart_modified_HOGs = [group for group in smart_modified_HOGs if sum(len(OGs[label]) for label in group) < 500]\n",
    "pp(len(filtered_smart_modified_HOGs) - len(smart_modified_HOGs))"
   ]
  },
  {
   "cell_type": "code",
   "execution_count": null,
   "metadata": {
    "collapsed": false
   },
   "outputs": [],
   "source": [
    "%matplotlib inline\n",
    "import pandas\n",
    "lengths = [sum(len(HOGs[label]) for label in group) for group in modified_HOGs_only]\n",
    "df = pandas.Series(lengths)#, columns=['Family ID', 'Copies'])\n",
    "f = df.hist(bins=100, figsize=(10,5), )#dpi=300)\n",
    "f.grid(False)\n",
    "f.set_title(\"Did we damp down on extremely large HOGs?\")\n",
    "f.set_xlabel(\"Number of Genes per HOG\")\n",
    "f.set_ylabel(\"Number of HOGs\")"
   ]
  },
  {
   "cell_type": "markdown",
   "metadata": {},
   "source": [
    "## Concat Super HOG fasta into new directory"
   ]
  },
  {
   "cell_type": "code",
   "execution_count": null,
   "metadata": {
    "collapsed": false
   },
   "outputs": [],
   "source": [
    "from os.path import join, basename, splitext\n",
    "import os\n",
    "family_out_dir = r\"D:\\Genomes\\Ash_Gene_Families\\capped\"\n",
    "HOGfasta = r\"D:\\josiah\\Documents\\Research\\Thesis - Genome Symmetry\\DNA_Duplications\\Ash_Proteome\\Results_Jun25\\Orthologues_Jul06\\Sequences\"\n",
    "os.makedirs(family_out_dir, exist_ok=True)\n",
    "for family in filtered_smart_modified_HOGs:\n",
    "    family_name = ('-'.join(family))[:200] + '.fa'\n",
    "    with open(join(family_out_dir, family_name), 'wb') as concat:  # output file concatenation\n",
    "        for hog in family:\n",
    "            with open(join(HOGfasta, hog + '.fa'), 'rb') as hog_file:  # smaller input file\n",
    "                concat.write(hog_file.read())  # dump the whole file"
   ]
  },
  {
   "cell_type": "code",
   "execution_count": null,
   "metadata": {
    "collapsed": false
   },
   "outputs": [],
   "source": [
    "pp(len(filtered_smart_modified_HOGs))"
   ]
  }
 ],
 "metadata": {
  "kernelspec": {
   "display_name": "Python 3",
   "language": "python",
   "name": "python3"
  },
  "language_info": {
   "codemirror_mode": {
    "name": "ipython",
    "version": 3
   },
   "file_extension": ".py",
   "mimetype": "text/x-python",
   "name": "python",
   "nbconvert_exporter": "python",
   "pygments_lexer": "ipython3",
   "version": "3.4.3"
  }
 },
 "nbformat": 4,
 "nbformat_minor": 1
}
