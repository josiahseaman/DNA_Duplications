{
 "cells": [
  {
   "cell_type": "code",
   "execution_count": 2,
   "metadata": {
    "collapsed": true
   },
   "outputs": [],
   "source": [
    "example_contig_name = \"FRAX01_FRAEX38873_V2_000052990.1_R0\"\n",
    "def convert_to_gene_id(name):\n",
    "    return name[name.find('_')+1:]\n",
    "assert convert_to_gene_id(example_contig_name) == \"FRAEX38873_V2_000052990.1_R0\""
   ]
  },
  {
   "cell_type": "markdown",
   "metadata": {},
   "source": [
    "## Greedy merge algorithm\n",
    " ( agglomerative clustering? )\n",
    "* Starting clusters can be HOGs\n",
    "* clusters = dict{ gene: pointer to cluster }\n",
    "* Clusters are set(gene)\n",
    "* First gene gets a new cluster\n",
    "* If gene A overlaps with gene B anywhere, then go through each cluster to find gene A and add gene B\n",
    "* If gene B is in any other clusters, find it and merge the entire cluster into gene A cluster\n",
    "* Assert a gene can only ever be in one cluster at a time, except in the atomic operation of merging two\n"
   ]
  },
  {
   "cell_type": "markdown",
   "metadata": {},
   "source": [
    "### Starting from HOGs but no side-effects"
   ]
  },
  {
   "cell_type": "markdown",
   "metadata": {},
   "source": [
    "[Python Network Graphs](https://www.python.org/doc/essays/graphs/)"
   ]
  },
  {
   "cell_type": "markdown",
   "metadata": {},
   "source": [
    "[Creating a networkx graph](https://networkx.github.io/documentation/networkx-1.10/tutorial/tutorial.html)  \n",
    "[Graph Connected Components](https://networkx.github.io/documentation/networkx-1.10/reference/generated/networkx.algorithms.components.connected.connected_components.html)"
   ]
  },
  {
   "cell_type": "code",
   "execution_count": 3,
   "metadata": {
    "collapsed": false
   },
   "outputs": [
    {
     "name": "stdout",
     "output_type": "stream",
     "text": [
      "{'gene1': {'HOG1'}, 'gene2': {'HOG2', 'HOG1'}, 'gene3': {'HOG2'}} \n",
      " {'gene1': {'HOG1'}, 'gene2': {'HOG2', 'HOG1'}, 'gene3': {'HOG2'}}\n"
     ]
    }
   ],
   "source": [
    "# TODO: read all HOGs from files\n",
    "\n",
    "def map_genes_to_HOGs(HOGs):\n",
    "    genes_to_HOGs = {}\n",
    "    for hog, genes in HOGs.items():\n",
    "        for gene in genes:\n",
    "            if gene not in genes_to_HOGs:\n",
    "                genes_to_HOGs[gene] = set()\n",
    "            genes_to_HOGs[gene].add(hog)\n",
    "    return genes_to_HOGs\n",
    "\n",
    "def test_map_genes_to_HOGs():\n",
    "    genes_to_HOGs_answer = {'gene1': {'HOG1'},\n",
    "                     'gene2': {'HOG1', 'HOG2'},\n",
    "                     'gene3': {'HOG2'}}\n",
    "    HOGs = {'HOG1': set(('gene1', 'gene2')),\n",
    "            'HOG2': set(('gene2', 'gene3'))}  # all HOGs start out parsed and non-exlusive\n",
    "    genes_to_HOGs = map_genes_to_HOGs(HOGs)\n",
    "    print(genes_to_HOGs, '\\n',genes_to_HOGs_answer)\n",
    "    assert genes_to_HOGs == genes_to_HOGs_answer\n",
    "test_map_genes_to_HOGs()    "
   ]
  },
  {
   "cell_type": "code",
   "execution_count": 4,
   "metadata": {
    "collapsed": false
   },
   "outputs": [],
   "source": [
    "from itertools import combinations\n",
    "import networkx\n",
    "\n",
    "def create_cluster_network(genes_to_HOGs, HOGs):\n",
    "    g = networkx.Graph()\n",
    "    g.add_nodes_from(HOGs.keys())\n",
    "    for gene, hogs in genes_to_HOGs.items():\n",
    "        if len(hogs) > 1:\n",
    "            # two HOGs have overlap and need to be merged\n",
    "            g.add_edges_from(combinations(hogs, 2))  # add edge between all hogs\n",
    "            \n",
    "    return g"
   ]
  },
  {
   "cell_type": "code",
   "execution_count": 5,
   "metadata": {
    "collapsed": false
   },
   "outputs": [
    {
     "name": "stdout",
     "output_type": "stream",
     "text": [
      "{'HOG1-HOG2': {'gene1', 'gene2', 'gene3'}}\n"
     ]
    }
   ],
   "source": [
    "def make_super_HOGs(HOGs, networked_hogs):\n",
    "    \"\"\"collect subnetworks together into larger clusters\"\"\"\n",
    "    super_HOGs = {}\n",
    "    genes_seen = set()\n",
    "    clusters = [c for c in sorted(networkx.connected_components(networked_hogs), key=len, reverse=True)]\n",
    "    for cluster in clusters:\n",
    "        name = '-'.join(cluster)\n",
    "        super_HOGs[name] = set().union(gene for hog in cluster for gene in HOGs[hog])\n",
    "        assert super_HOGs[name] not in genes_seen, \"You missed a clustering connection.  Genes should only occur once\"\n",
    "        genes_seen.update(super_HOGs[name])\n",
    "            \n",
    "    return super_HOGs\n",
    "\n",
    "def test_make_super_HOGs():\n",
    "    super_HOGs_answer = {'HOG1-HOG2': {'gene1','gene2','gene3'}}\n",
    "    HOGs = {'HOG1': set(('gene1', 'gene2')),\n",
    "            'HOG2': set(('gene2', 'gene3'))}  # all HOGs start out parsed and non-exlusive\n",
    "    genes_to_HOGs = map_genes_to_HOGs(HOGs)\n",
    "    network = create_cluster_network(genes_to_HOGs, HOGs)\n",
    "    assert str(network.edges()) == \"[('HOG1', 'HOG2')]\", network.edges()\n",
    "    super_HOGs = make_super_HOGs(HOGs, network)\n",
    "    print(super_HOGs)\n",
    "    assert super_HOGs == super_HOGs_answer, super_HOGs\n",
    "test_make_super_HOGs()"
   ]
  },
  {
   "cell_type": "code",
   "execution_count": null,
   "metadata": {
    "collapsed": true
   },
   "outputs": [],
   "source": []
  },
  {
   "cell_type": "code",
   "execution_count": null,
   "metadata": {
    "collapsed": true
   },
   "outputs": [],
   "source": []
  },
  {
   "cell_type": "code",
   "execution_count": null,
   "metadata": {
    "collapsed": true
   },
   "outputs": [],
   "source": []
  }
 ],
 "metadata": {
  "kernelspec": {
   "display_name": "Python 3",
   "language": "python",
   "name": "python3"
  },
  "language_info": {
   "codemirror_mode": {
    "name": "ipython",
    "version": 3
   },
   "file_extension": ".py",
   "mimetype": "text/x-python",
   "name": "python",
   "nbconvert_exporter": "python",
   "pygments_lexer": "ipython3",
   "version": "3.4.3"
  }
 },
 "nbformat": 4,
 "nbformat_minor": 1
}
