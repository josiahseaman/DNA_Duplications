{
 "cells": [
  {
   "cell_type": "code",
   "execution_count": 1,
   "metadata": {
    "collapsed": false
   },
   "outputs": [],
   "source": [
    "import os\n",
    "from DNASkittleUtils.DDVUtils import pp\n",
    "import csv\n",
    "from collections import defaultdict\n",
    "from csv import DictReader\n",
    "from pandas import read_csv\n",
    "from itertools import chain\n",
    "%matplotlib inline\n",
    "import numpy as np\n",
    "import matplotlib.pyplot as plt\n"
   ]
  },
  {
   "cell_type": "code",
   "execution_count": 2,
   "metadata": {
    "collapsed": false
   },
   "outputs": [
    {
     "name": "stdout",
     "output_type": "stream",
     "text": [
      "20865 pairs\n"
     ]
    }
   ],
   "source": [
    "liz = read_csv(\"GOenrich_db/lizzy_ash_ks.csv\", sep='\\t')\n",
    "liz = liz[liz['Ks'] < 20]  # remove a couple bad values"
   ]
  },
  {
   "cell_type": "code",
   "execution_count": 3,
   "metadata": {
    "collapsed": false
   },
   "outputs": [
    {
     "data": {
      "text/plain": [
       "'35.772825%'"
      ]
     },
     "execution_count": 3,
     "metadata": {},
     "output_type": "execute_result"
    }
   ],
   "source": [
    "wgd_recent = (liz['Ks'] > 0.16) & (liz['Ks'] < 0.38)\n",
    "wgd_old = (liz['Ks'] > 0.5) & (liz['Ks'] < 0.8)\n",
    "recent_duplication = liz['Ks'] < 0.2\n",
    "unaffected =  ~wgd_old & ~recent_duplication  # ~wgd_recent &\n",
    "affected = wgd_recent | wgd_old #| recent_duplication\n",
    "len(liz[unaffected]), len(affected)\n",
    "pp(len(liz[wgd_recent]) / len(liz))"
   ]
  },
  {
   "cell_type": "code",
   "execution_count": 6,
   "metadata": {
    "collapsed": false
   },
   "outputs": [
    {
     "data": {
      "text/plain": [
       "<matplotlib.text.Text at 0x19188eb8>"
      ]
     },
     "execution_count": 6,
     "metadata": {},
     "output_type": "execute_result"
    },
    {
     "data": {
      "image/png": "[encoded data removed]",
      "text/plain": [
       "<matplotlib.figure.Figure at 0x16adf908>"
      ]
     },
     "metadata": {},
     "output_type": "display_data"
    }
   ],
   "source": [
    "\n",
    "h = liz[liz['Ks'] < 2.5]['Ks'].hist(bins=120, figsize=(10,5), facecolor='#31a354', edgecolor='#31a354')\n",
    "h.grid(False)\n",
    "# h.linewidth(0)\n",
    "h.set_xlabel('Ks')\n",
    "h.set_ylabel('# of Genes')\n",
    "h.set_title('Ks values of F. excelsior paralogs')"
   ]
  },
  {
   "cell_type": "markdown",
   "metadata": {},
   "source": [
    "# CAFE tree approximations"
   ]
  },
  {
   "cell_type": "code",
   "execution_count": 9,
   "metadata": {
    "collapsed": true
   },
   "outputs": [],
   "source": [
    "from newick import loads\n",
    "import newick"
   ]
  },
  {
   "cell_type": "markdown",
   "metadata": {
    "collapsed": false
   },
   "source": [
    "all_trees = {}\n",
    "with open(r\"CAFE-4.2\\data\\all_species\\reports\\WGD_manual_all_species.cafe\", 'r') as csvfile:\n",
    "    lines = csvfile.readlines()[11:]\n",
    "    for nLines, row in enumerate(lines):\n",
    "        row = row.split('\\t')\n",
    "        all_trees[int(row[0])] = row[1]\n",
    "len(all_trees)"
   ]
  },
  {
   "cell_type": "markdown",
   "metadata": {
    "collapsed": false
   },
   "source": [
    "ordered_names = loads('')[0]  # TODO: paste correct species tree\n",
    "def create_ordered_nodes(verbose=False):\n",
    "    ordered_nodes = []\n",
    "    for node in ordered_names.walk(mode=\"preorder\"):\n",
    "        if verbose:\n",
    "            print(node.name, node.length)\n",
    "        ordered_nodes.append({'name': node.name, 'length':node.length, 'losses': 0, 'gains': 0, 'avg#': 0})\n",
    "    return ordered_nodes\n",
    "ordered_nodes = create_ordered_nodes()"
   ]
  },
  {
   "cell_type": "code",
   "execution_count": 4,
   "metadata": {
    "collapsed": true
   },
   "outputs": [],
   "source": [
    "def extract_count(name):\n",
    "    if isinstance(name, newick.Node):\n",
    "        name = name.name\n",
    "    return int(name.split('_')[-1])"
   ]
  },
  {
   "cell_type": "markdown",
   "metadata": {
    "collapsed": false
   },
   "source": [
    "ordered_nodes[2]"
   ]
  },
  {
   "cell_type": "markdown",
   "metadata": {
    "collapsed": true
   },
   "source": [
    "def get_count_at_root(fam_id, ordered_node_index=2):\n",
    "    newick_str = all_trees[fam_id]\n",
    "    tree = loads(newick_str)[0]\n",
    "    for index, node in enumerate(tree.walk(mode=\"preorder\")):\n",
    "        if index == ordered_node_index:\n",
    "            count = extract_count(node)\n",
    "            return count"
   ]
  },
  {
   "cell_type": "code",
   "execution_count": 9,
   "metadata": {
    "collapsed": false
   },
   "outputs": [],
   "source": [
    "#%%html\n",
    "#<img src=\"all_species_node_labels_WGD_manual.png\">"
   ]
  },
  {
   "cell_type": "markdown",
   "metadata": {},
   "source": [
    "## Filter Families to Ones with a Duplication at Root < 55 > "
   ]
  },
  {
   "cell_type": "code",
   "execution_count": 16,
   "metadata": {
    "collapsed": false
   },
   "outputs": [],
   "source": [
    "def populate_history_histogram(study_ints):\n",
    "    ordered_nodes = create_ordered_nodes()\n",
    "    genes_lost = {node['name']:set() for node in ordered_nodes}\n",
    "    gene_gains = {node['name']:set() for node in ordered_nodes}\n",
    "    for fam_id in study_ints:\n",
    "        if fam_id not in all_trees:\n",
    "            continue\n",
    "        newick_str = all_trees[fam_id]\n",
    "        tree = loads(newick_str)[0]\n",
    "        for index, node in enumerate(tree.walk(mode=\"preorder\")):\n",
    "            count = extract_count(node)\n",
    "            tail = ''\n",
    "            ordered_nodes[index]['avg#'] += count\n",
    "            if node.ancestor:\n",
    "                parent_count = extract_count(node.ancestor.name)\n",
    "                if count < parent_count:\n",
    "                    tail = (\"loss\")\n",
    "                    ordered_nodes[index]['losses'] += 1 #parent_count - count\n",
    "                    genes_lost[ordered_nodes[index]['name']].add(fam_id)  # record gene family\n",
    "                elif count > parent_count:\n",
    "                    tail = (\"gain\")\n",
    "                    ordered_nodes[index]['gains'] += 1 #count - parent_count \n",
    "                    gene_gains[ordered_nodes[index]['name']].add(fam_id)\n",
    "#             print(node.name, count, tail)\n",
    "    for result in ordered_nodes:  # divide sum by length to get mean\n",
    "        result['avg#'] /= len(study_ints)\n",
    "    return ordered_nodes, genes_lost, gene_gains\n",
    "\n",
    "study_ints = [int(fam[2:]) for fam in excelsior_orthogroups.keys()]\n",
    "ordered_nodes, genes_lost, gene_gains = populate_history_histogram(study_ints)"
   ]
  },
  {
   "cell_type": "code",
   "execution_count": 17,
   "metadata": {
    "collapsed": false
   },
   "outputs": [
    {
     "data": {
      "text/plain": [
       "5634"
      ]
     },
     "execution_count": 17,
     "metadata": {},
     "output_type": "execute_result"
    }
   ],
   "source": [
    "len(gene_gains['<55>'])"
   ]
  },
  {
   "cell_type": "code",
   "execution_count": 18,
   "metadata": {
    "collapsed": false
   },
   "outputs": [
    {
     "data": {
      "text/plain": [
       "{'<11>': 25,\n",
       " '<13>': 29,\n",
       " '<15>': 24,\n",
       " '<17>': 49,\n",
       " '<19>': 30,\n",
       " '<1>': 36,\n",
       " '<21>': 71,\n",
       " '<23>': 10,\n",
       " '<25>': 2,\n",
       " '<27>': 0,\n",
       " '<29>': 19,\n",
       " '<31>': 31,\n",
       " '<33>': 7,\n",
       " '<35>': 43,\n",
       " '<37>': 39,\n",
       " '<39>': 24,\n",
       " '<3>': 44,\n",
       " '<41>': 17,\n",
       " '<43>': 43,\n",
       " '<45>': 72,\n",
       " '<47>': 22,\n",
       " '<49>': 83,\n",
       " '<51>': 43,\n",
       " '<53>': 0,\n",
       " '<55>': 5634,\n",
       " '<57>': 0,\n",
       " '<59>': 0,\n",
       " '<5>': 38,\n",
       " '<61>': 30,\n",
       " '<7>': 122,\n",
       " '<9>': 21,\n",
       " 'FRAX00': 510,\n",
       " 'FRAX01': 177,\n",
       " 'FRAX03': 261,\n",
       " 'FRAX04': 129,\n",
       " 'FRAX05': 325,\n",
       " 'FRAX06': 195,\n",
       " 'FRAX07': 225,\n",
       " 'FRAX08': 164,\n",
       " 'FRAX09': 574,\n",
       " 'FRAX11': 227,\n",
       " 'FRAX12': 183,\n",
       " 'FRAX13': 176,\n",
       " 'FRAX14': 123,\n",
       " 'FRAX15': 156,\n",
       " 'FRAX16': 136,\n",
       " 'FRAX19': 378,\n",
       " 'FRAX20': 165,\n",
       " 'FRAX21': 143,\n",
       " 'FRAX23': 115,\n",
       " 'FRAX25': 134,\n",
       " 'FRAX26': 214,\n",
       " 'FRAX27': 158,\n",
       " 'FRAX28': 255,\n",
       " 'FRAX29': 401,\n",
       " 'FRAX30': 184,\n",
       " 'FRAX31': 13,\n",
       " 'FRAX32': 216,\n",
       " 'FRAX33': 242,\n",
       " 'Mguttatus': 484,\n",
       " 'Oeuropea': 38,\n",
       " 'Slycopersicum': 629,\n",
       " 'empty': 0}"
      ]
     },
     "execution_count": 18,
     "metadata": {},
     "output_type": "execute_result"
    }
   ],
   "source": [
    "{key: len(val) for key, val in gene_gains.items()}"
   ]
  },
  {
   "cell_type": "code",
   "execution_count": 19,
   "metadata": {
    "collapsed": false
   },
   "outputs": [
    {
     "data": {
      "text/plain": [
       "{'<11>': 367,\n",
       " '<13>': 457,\n",
       " '<15>': 877,\n",
       " '<17>': 1263,\n",
       " '<19>': 373,\n",
       " '<1>': 716,\n",
       " '<21>': 788,\n",
       " '<23>': 42,\n",
       " '<25>': 115,\n",
       " '<27>': 278,\n",
       " '<29>': 2658,\n",
       " '<31>': 582,\n",
       " '<33>': 502,\n",
       " '<35>': 941,\n",
       " '<37>': 260,\n",
       " '<39>': 1430,\n",
       " '<3>': 467,\n",
       " '<41>': 400,\n",
       " '<43>': 353,\n",
       " '<45>': 405,\n",
       " '<47>': 1188,\n",
       " '<49>': 382,\n",
       " '<51>': 543,\n",
       " '<53>': 118,\n",
       " '<55>': 0,\n",
       " '<57>': 3047,\n",
       " '<59>': 0,\n",
       " '<5>': 966,\n",
       " '<61>': 1422,\n",
       " '<7>': 701,\n",
       " '<9>': 31,\n",
       " 'FRAX00': 1333,\n",
       " 'FRAX01': 995,\n",
       " 'FRAX03': 1870,\n",
       " 'FRAX04': 2594,\n",
       " 'FRAX05': 2280,\n",
       " 'FRAX06': 2165,\n",
       " 'FRAX07': 1995,\n",
       " 'FRAX08': 3515,\n",
       " 'FRAX09': 797,\n",
       " 'FRAX11': 897,\n",
       " 'FRAX12': 2482,\n",
       " 'FRAX13': 2111,\n",
       " 'FRAX14': 1793,\n",
       " 'FRAX15': 2361,\n",
       " 'FRAX16': 1992,\n",
       " 'FRAX19': 1642,\n",
       " 'FRAX20': 2966,\n",
       " 'FRAX21': 3929,\n",
       " 'FRAX23': 3288,\n",
       " 'FRAX25': 3962,\n",
       " 'FRAX26': 846,\n",
       " 'FRAX27': 1519,\n",
       " 'FRAX28': 1725,\n",
       " 'FRAX29': 2610,\n",
       " 'FRAX30': 1190,\n",
       " 'FRAX31': 4901,\n",
       " 'FRAX32': 1180,\n",
       " 'FRAX33': 2318,\n",
       " 'Mguttatus': 1633,\n",
       " 'Oeuropea': 3192,\n",
       " 'Slycopersicum': 1398,\n",
       " 'empty': 8029}"
      ]
     },
     "execution_count": 19,
     "metadata": {},
     "output_type": "execute_result"
    }
   ],
   "source": [
    "{key: len(val) for key, val in genes_lost.items()}"
   ]
  },
  {
   "cell_type": "markdown",
   "metadata": {},
   "source": [
    "## Combine Lizzy Ks and Node Count Criteria"
   ]
  },
  {
   "cell_type": "code",
   "execution_count": 20,
   "metadata": {
    "collapsed": true
   },
   "outputs": [],
   "source": [
    "def cafe_to_OG(cafe_id):\n",
    "    return \"OG\" + '%07d' % (cafe_id)\n",
    "assert cafe_to_OG(16622) ==\"OG0016622\""
   ]
  },
  {
   "cell_type": "code",
   "execution_count": 21,
   "metadata": {
    "collapsed": false
   },
   "outputs": [
    {
     "data": {
      "text/plain": [
       "5634"
      ]
     },
     "execution_count": 21,
     "metadata": {},
     "output_type": "execute_result"
    }
   ],
   "source": [
    "root_gains_families = set(cafe_to_OG(i) for i in gene_gains['<55>'])\n",
    "len(root_gains_families)"
   ]
  },
  {
   "cell_type": "code",
   "execution_count": 22,
   "metadata": {
    "collapsed": false
   },
   "outputs": [
    {
     "data": {
      "text/plain": [
       "274701"
      ]
     },
     "execution_count": 22,
     "metadata": {},
     "output_type": "execute_result"
    }
   ],
   "source": [
    "root_gain_genes = set()\n",
    "for family in root_gains_families:\n",
    "    root_gain_genes.update(excelsior_orthogroups[family]['genes'])\n",
    "len(root_gain_genes)"
   ]
  },
  {
   "cell_type": "code",
   "execution_count": 23,
   "metadata": {
    "collapsed": false
   },
   "outputs": [
    {
     "data": {
      "text/plain": [
       "['FRAX31_000004630.1_R0',\n",
       " 'FRAX12_000275370.1_R0',\n",
       " 'FRAX31_000009780.1_R0',\n",
       " 'FRAX31_000356290.1_R0',\n",
       " 'FRAX27_000355870.1_R0']"
      ]
     },
     "execution_count": 23,
     "metadata": {},
     "output_type": "execute_result"
    }
   ],
   "source": [
    "list(root_gain_genes)[:5]"
   ]
  },
  {
   "cell_type": "markdown",
   "metadata": {},
   "source": [
    "{gene: family for (family, row) in excelsior_orthogroups.items() for gene in row['genes']}"
   ]
  },
  {
   "cell_type": "code",
   "execution_count": 24,
   "metadata": {
    "collapsed": false
   },
   "outputs": [
    {
     "data": {
      "text/html": [
       "<div>\n",
       "<style scoped>\n",
       "    .dataframe tbody tr th:only-of-type {\n",
       "        vertical-align: middle;\n",
       "    }\n",
       "\n",
       "    .dataframe tbody tr th {\n",
       "        vertical-align: top;\n",
       "    }\n",
       "\n",
       "    .dataframe thead th {\n",
       "        text-align: right;\n",
       "    }\n",
       "</style>\n",
       "<table border=\"1\" class=\"dataframe\">\n",
       "  <thead>\n",
       "    <tr style=\"text-align: right;\">\n",
       "      <th></th>\n",
       "      <th>Group</th>\n",
       "      <th>Gene 1</th>\n",
       "      <th>Gene 2</th>\n",
       "      <th>Ks</th>\n",
       "    </tr>\n",
       "  </thead>\n",
       "  <tbody>\n",
       "    <tr>\n",
       "      <th>0</th>\n",
       "      <td>10.0</td>\n",
       "      <td>FRAEX38873_v2_000000130.1</td>\n",
       "      <td>FRAEX38873_v2_000342640.1</td>\n",
       "      <td>0.3768</td>\n",
       "    </tr>\n",
       "    <tr>\n",
       "      <th>1</th>\n",
       "      <td>10.0</td>\n",
       "      <td>FRAEX38873_v2_000000130.1</td>\n",
       "      <td>FRAEX38873_v2_000254110.1</td>\n",
       "      <td>1.5491</td>\n",
       "    </tr>\n",
       "    <tr>\n",
       "      <th>2</th>\n",
       "      <td>10.0</td>\n",
       "      <td>FRAEX38873_v2_000000130.1</td>\n",
       "      <td>FRAEX38873_v2_000083020.1</td>\n",
       "      <td>1.6002</td>\n",
       "    </tr>\n",
       "    <tr>\n",
       "      <th>3</th>\n",
       "      <td>10.0</td>\n",
       "      <td>FRAEX38873_v2_000342640.1</td>\n",
       "      <td>FRAEX38873_v2_000254110.1</td>\n",
       "      <td>2.8645</td>\n",
       "    </tr>\n",
       "    <tr>\n",
       "      <th>4</th>\n",
       "      <td>10.0</td>\n",
       "      <td>FRAEX38873_v2_000342640.1</td>\n",
       "      <td>FRAEX38873_v2_000083020.1</td>\n",
       "      <td>0.9481</td>\n",
       "    </tr>\n",
       "  </tbody>\n",
       "</table>\n",
       "</div>"
      ],
      "text/plain": [
       "   Group                     Gene 1                     Gene 2      Ks\n",
       "0   10.0  FRAEX38873_v2_000000130.1  FRAEX38873_v2_000342640.1  0.3768\n",
       "1   10.0  FRAEX38873_v2_000000130.1  FRAEX38873_v2_000254110.1  1.5491\n",
       "2   10.0  FRAEX38873_v2_000000130.1  FRAEX38873_v2_000083020.1  1.6002\n",
       "3   10.0  FRAEX38873_v2_000342640.1  FRAEX38873_v2_000254110.1  2.8645\n",
       "4   10.0  FRAEX38873_v2_000342640.1  FRAEX38873_v2_000083020.1  0.9481"
      ]
     },
     "execution_count": 24,
     "metadata": {},
     "output_type": "execute_result"
    }
   ],
   "source": [
    "def gene_to_liz_row(gene):\n",
    "    gene = gene.replace('FRAEX38873_v2_', '')\n",
    "    ''.startswith()\n",
    "    return liz\n",
    "def liz_to_gene_name(row):\n",
    "    row['Gene 1'] = 'FRAEX38873_v2_' + str(row['Gene 1']).zfill(11)\n",
    "    row['Gene 2'] = 'FRAEX38873_v2_' + str(row['Gene 2']).zfill(11)\n",
    "    return row\n",
    "converted_liz = liz.apply(liz_to_gene_name, axis=1)\n",
    "converted_liz.head()"
   ]
  },
  {
   "cell_type": "code",
   "execution_count": 25,
   "metadata": {
    "collapsed": false
   },
   "outputs": [
    {
     "data": {
      "text/plain": [
       "5424"
      ]
     },
     "execution_count": 25,
     "metadata": {},
     "output_type": "execute_result"
    }
   ],
   "source": [
    "filtered_rows = converted_liz['Gene 1'].isin(root_gain_genes)\n",
    "sum(filtered_rows)"
   ]
  },
  {
   "cell_type": "code",
   "execution_count": 26,
   "metadata": {
    "collapsed": false
   },
   "outputs": [
    {
     "data": {
      "text/plain": [
       "4510"
      ]
     },
     "execution_count": 26,
     "metadata": {},
     "output_type": "execute_result"
    }
   ],
   "source": [
    "filtered_rows = filtered_rows & (converted_liz['Gene 2'].isin(root_gain_genes))\n",
    "sum(filtered_rows)"
   ]
  },
  {
   "cell_type": "code",
   "execution_count": 27,
   "metadata": {
    "collapsed": false
   },
   "outputs": [
    {
     "data": {
      "text/plain": [
       "<matplotlib.text.Text at 0xcf3fd0>"
      ]
     },
     "execution_count": 27,
     "metadata": {},
     "output_type": "execute_result"
    },
    {
     "data": {
      "image/png": "[encoded data removed]",
      "text/plain": [
       "<matplotlib.figure.Figure at 0x28c3a128>"
      ]
     },
     "metadata": {},
     "output_type": "display_data"
    }
   ],
   "source": [
    "Ks_cap = converted_liz['Ks'] < 2.5\n",
    "filtered_Ks = converted_liz[filtered_rows & Ks_cap]['Ks']\n",
    "# pretty_hist(\"Ks of Genes Duplicated at Oleaceae Root\", filtered_Ks, \n",
    "#             x_title=\"Synonymous Substitutions (Ks)\", y_title=\"Number of Genes\", bins = 120)\n",
    "\n",
    "plt.xticks(np.arange(0, 2.6, .1))\n",
    "h = filtered_Ks.hist(bins=120, figsize=(10,5), facecolor='#31a354', edgecolor='#31a354')\n",
    "h.grid(False)\n",
    "# h.linewidth(0)\n",
    "h.set_xlabel(\"Synonymous Substitutions (Ks)\")\n",
    "h.set_ylabel('# of Genes')\n",
    "h.set_title(\"Ks of Genes Duplicated at Oleaceae Root\")"
   ]
  },
  {
   "cell_type": "markdown",
   "metadata": {},
   "source": [
    "**Conclusion** That looks the exact same as the population distribution.  Rooted copy number filtering was unsuccessful.  I need to switch datasets to a more recent simulations.  Homeologs may be necessary to make sure \"gene family\" doesn't diffuse the results too much."
   ]
  },
  {
   "cell_type": "code",
   "execution_count": 28,
   "metadata": {
    "collapsed": false
   },
   "outputs": [
    {
     "data": {
      "text/html": [
       "<img src=\"CAFE-4.2/data/Ks values of F excelsior paralogs.png\">"
      ],
      "text/plain": [
       "<IPython.core.display.HTML object>"
      ]
     },
     "metadata": {},
     "output_type": "display_data"
    }
   ],
   "source": [
    "%%html\n",
    "<img src=\"CAFE-4.2/data/Ks values of F excelsior paralogs.png\">"
   ]
  },
  {
   "cell_type": "markdown",
   "metadata": {
    "collapsed": true
   },
   "source": [
    "# Gene Tree Accounting with Duplications.csv"
   ]
  },
  {
   "cell_type": "code",
   "execution_count": 29,
   "metadata": {
    "collapsed": true
   },
   "outputs": [],
   "source": [
    "from collections import defaultdict\n",
    "def Nx_counts_from_Duplications(dup_path, node_name):\n",
    "    N1_counts = defaultdict(lambda: 0)\n",
    "    from csv import DictReader\n",
    "    orthogroups_seen = set()\n",
    "    with open(dup_path,'r') as infile:\n",
    "        lines = DictReader(infile, delimiter='\\t')\n",
    "#         print(lines.fieldnames)\n",
    "        for line in lines:\n",
    "            orthogroups_seen.add(line['Orthogroup'])\n",
    "            if line['Species Tree Node'] == node_name:  # count mentions of N1\n",
    "                N1_counts[line['Orthogroup']] += 1\n",
    "    return N1_counts, orthogroups_seen"
   ]
  },
  {
   "cell_type": "code",
   "execution_count": 30,
   "metadata": {
    "collapsed": false
   },
   "outputs": [],
   "source": [
    "N1_counts, orthogroups_seen = Nx_counts_from_Duplications(\"Ash_Proteome\\Results_Jun25\\Orthologues_Jul04_2\\Duplications.csv\", 'N1')"
   ]
  },
  {
   "cell_type": "code",
   "execution_count": 31,
   "metadata": {
    "collapsed": false
   },
   "outputs": [
    {
     "name": "stdout",
     "output_type": "stream",
     "text": [
      "1 4242\n",
      "2 2377\n",
      "3 1256\n",
      "4 680\n",
      "5 350\n",
      "6 194\n",
      "7 125\n",
      "8 85\n",
      "9 57\n",
      "All 9546\n"
     ]
    }
   ],
   "source": [
    "heights = []\n",
    "for i in range(1, 10):\n",
    "    heights.append(len([og for og, c in N1_counts.items() if c == i]))\n",
    "    print(i,       len([og for og, c in N1_counts.items() if c == i]))\n",
    "print('All', len(N1_counts))"
   ]
  },
  {
   "cell_type": "markdown",
   "metadata": {},
   "source": [
    "**Conclusion:** Still needs more thought.  You need an extra step between 0 and 1 duplication events to make the ratios line up for the first one:  Half of genes are duplicable.  Half of those actually get duplicated.  Half of those have N+1 duplications and so on.  Ratio might be different if we included the x > N tail instead of just the height of one bar.  CMF vs PDF essentially.  "
   ]
  },
  {
   "cell_type": "markdown",
   "metadata": {},
   "source": [
    "------------"
   ]
  },
  {
   "cell_type": "code",
   "execution_count": 32,
   "metadata": {
    "collapsed": false
   },
   "outputs": [
    {
     "data": {
      "text/plain": [
       "<matplotlib.text.Text at 0x24ba5208>"
      ]
     },
     "execution_count": 32,
     "metadata": {},
     "output_type": "execute_result"
    },
    {
     "data": {
      "image/png": "[encoded data removed]",
      "text/plain": [
       "<matplotlib.figure.Figure at 0x16945be0>"
      ]
     },
     "metadata": {},
     "output_type": "display_data"
    }
   ],
   "source": [
    "%matplotlib inline\n",
    "import numpy as np\n",
    "import matplotlib.pyplot as plt\n",
    "from math import log\n",
    "fig, ax = plt.subplots()\n",
    "ax.bar([1,2,3,4,5,6,7,8,9], heights, width=1, color='#3182bd')\n",
    "ax.set_title(\"Duplications at the Oleaceae Root per Orthogroup\")\n",
    "ax.set_xlabel(\"Duplications\")\n",
    "ax.set_ylabel(\"Families\")"
   ]
  },
  {
   "cell_type": "code",
   "execution_count": 33,
   "metadata": {
    "collapsed": false
   },
   "outputs": [
    {
     "data": {
      "text/plain": [
       "<matplotlib.text.Text at 0x24b657b8>"
      ]
     },
     "execution_count": 33,
     "metadata": {},
     "output_type": "execute_result"
    },
    {
     "data": {
      "image/png": "[encoded data removed]",
      "text/plain": [
       "<matplotlib.figure.Figure at 0x24824828>"
      ]
     },
     "metadata": {},
     "output_type": "display_data"
    }
   ],
   "source": [
    "fig, ax = plt.subplots()\n",
    "ax.plot([1,2,3,4,5,6,7,8,9], [log(h) for h in heights], 's-', color='#e6550d')\n",
    "ax.set_title(\"Log Duplications at the Oleaceae Root per Orthogroup\")\n",
    "ax.set_xlabel(\"Duplications\")\n",
    "ax.set_ylabel(\"Families (Natural Log)\")"
   ]
  },
  {
   "cell_type": "code",
   "execution_count": 34,
   "metadata": {
    "collapsed": false
   },
   "outputs": [
    {
     "name": "stdout",
     "output_type": "stream",
     "text": [
      "0.56\n",
      "0.53\n",
      "0.54\n",
      "0.51\n",
      "0.55\n",
      "0.64\n",
      "0.68\n",
      "0.67\n"
     ]
    },
    {
     "data": {
      "text/plain": [
       "0.5398277803614446"
      ]
     },
     "execution_count": 34,
     "metadata": {},
     "output_type": "execute_result"
    }
   ],
   "source": [
    "ratios = []\n",
    "for i, h in enumerate(heights):\n",
    "    if i:\n",
    "        print(round(h / heights[i-1] , 2))\n",
    "        ratios.append(h / heights[i-1])\n",
    "        if not h:\n",
    "            break\n",
    "import statistics\n",
    "statistics.mean(ratios[:5])"
   ]
  },
  {
   "cell_type": "code",
   "execution_count": 35,
   "metadata": {
    "collapsed": false
   },
   "outputs": [
    {
     "data": {
      "text/plain": [
       "0.06269242664855937"
      ]
     },
     "execution_count": 35,
     "metadata": {},
     "output_type": "execute_result"
    }
   ],
   "source": [
    "statistics.pstdev(ratios[:8])"
   ]
  },
  {
   "cell_type": "code",
   "execution_count": 36,
   "metadata": {
    "collapsed": false
   },
   "outputs": [
    {
     "data": {
      "text/plain": [
       "9366"
      ]
     },
     "execution_count": 36,
     "metadata": {},
     "output_type": "execute_result"
    }
   ],
   "source": [
    "sum([h for h in heights])"
   ]
  },
  {
   "cell_type": "markdown",
   "metadata": {},
   "source": [
    "**Conclusion** That is eerily close to a perfectly straight line on the log scale.  The chance of seeing N+1 duplication events is a percentage of the previous number."
   ]
  },
  {
   "cell_type": "code",
   "execution_count": 37,
   "metadata": {
    "collapsed": false,
    "scrolled": true
   },
   "outputs": [
    {
     "data": {
      "text/plain": [
       "16371"
      ]
     },
     "execution_count": 37,
     "metadata": {},
     "output_type": "execute_result"
    }
   ],
   "source": [
    "internal_mentions = defaultdict(lambda: 0)\n",
    "with open(\"Ash_Proteome\\Results_Jun25\\Orthologues_Jul04_2\\Duplications.csv\",'r') as infile:\n",
    "    lines = DictReader(infile, delimiter='\\t')\n",
    "    for line in lines:\n",
    "        if line['Species Tree Node'].startswith('N'):  # count mentions of anything not a species\n",
    "            internal_mentions[line['Orthogroup']] += 1\n",
    "\n",
    "len(internal_mentions)"
   ]
  },
  {
   "cell_type": "code",
   "execution_count": 38,
   "metadata": {
    "collapsed": false
   },
   "outputs": [
    {
     "data": {
      "text/plain": [
       "19118"
      ]
     },
     "execution_count": 38,
     "metadata": {},
     "output_type": "execute_result"
    }
   ],
   "source": [
    "OG_names = set()\n",
    "with open(\"Ash_Proteome\\Results_Jun25\\Orthologues_Jul04_2\\Duplications.csv\",'r') as infile:\n",
    "    lines = DictReader(infile, delimiter='\\t')\n",
    "    for line in lines:\n",
    "        OG_names.add(line['Orthogroup'])\n",
    "len(OG_names)"
   ]
  },
  {
   "cell_type": "markdown",
   "metadata": {},
   "source": [
    "**Conclusion** 85% of OGs with a duplication have an internal duplication.  49.9% of them mention N1.  22% have one duplication there, 2377+4242 = 34% of them have 1 or 2 duplications at N1.  There's still twice as many with 1 than 2.  I would need Jasmine to separate the two categories.  "
   ]
  },
  {
   "cell_type": "markdown",
   "metadata": {},
   "source": [
    "# Separate out Study Homeologs into pairs of trees"
   ]
  },
  {
   "cell_type": "code",
   "execution_count": 39,
   "metadata": {
    "collapsed": false
   },
   "outputs": [
    {
     "data": {
      "text/plain": [
       "(4242, ['OG0012812', 'OG0010734', 'OG0006600', 'OG0005053', 'OG0003532'])"
      ]
     },
     "execution_count": 39,
     "metadata": {},
     "output_type": "execute_result"
    }
   ],
   "source": [
    "study_homeologs = [og for og, c in N1_counts.items() if c == 1]\n",
    "len(study_homeologs), study_homeologs[:5]"
   ]
  },
  {
   "cell_type": "markdown",
   "metadata": {
    "collapsed": false
   },
   "source": [
    "' '.join(study_homeologs)"
   ]
  },
  {
   "cell_type": "markdown",
   "metadata": {},
   "source": [
    "*Ash_Proteome\\Results_Jun25\\Orthologues_Jul04_2\\Recon_Gene_Trees\\212_count_scrap.tre*  \n",
    "A vs B subtrees after a duplication are defined in the \"Genes 1\" and \"Genes 2\" columns of Duplications.csv. The \"Gene Tree Node\" seems nonsensical, but the number and names of listed genes correspond to actual subtrees."
   ]
  },
  {
   "cell_type": "code",
   "execution_count": 47,
   "metadata": {
    "collapsed": false
   },
   "outputs": [],
   "source": [
    "from shutil import copy\n",
    "import os\n",
    "from os.path import splitext, basename\n",
    "os.chdir(r'D:\\josiah\\Documents\\Research\\Thesis - Genome Symmetry\\DNA_Duplications\\Ash_Proteome\\Results_Jun25\\Orthologues_Jul04_2')\n",
    "\n",
    "## Rename every text file to a .tre file\n",
    "from glob import glob\n",
    "for f in glob('Gene_Trees/*.txt'):\n",
    "    os.rename(f, 'Gene_trees/'+splitext(basename(f))[0]+'.tre')\n",
    "    \n",
    "for f in glob('Recon_Gene_Trees/*.txt'):\n",
    "    os.rename(f, 'Recon_Gene_trees/'+splitext(basename(f))[0]+'.tre')"
   ]
  },
  {
   "cell_type": "markdown",
   "metadata": {},
   "source": [
    "## Splitting into pairs of sets of genes following the WGD"
   ]
  },
  {
   "cell_type": "code",
   "execution_count": 81,
   "metadata": {
    "collapsed": true
   },
   "outputs": [],
   "source": [
    "def append_the_first_row(fam_id, split_families, df, node_name):\n",
    "    focus = df[(df['Orthogroup'] == fam_id) & (df['Species Tree Node'] == node_name)]\n",
    "    row = next(focus.iterrows())[1]\n",
    "    og = row['Orthogroup']\n",
    "    split_families['1' + og[2:]] = row['Genes 1'].split(', ')\n",
    "    split_families['2' + og[2:]] = row['Genes 2'].split(', ')\n",
    "\n",
    "def collect_all_Nx_duplicated_genes(df, Nx_counts, node_name):\n",
    "    any_N1_duplicates = [k for k,v in Nx_counts.items() if v > 0]\n",
    "    split_families = {}  # could be output as files\n",
    "    for fam_id in any_N1_duplicates:\n",
    "        append_the_first_row(fam_id, split_families, df, node_name)\n",
    "    print(len(split_families))\n",
    "    return split_families\n"
   ]
  },
  {
   "cell_type": "code",
   "execution_count": 100,
   "metadata": {
    "collapsed": false
   },
   "outputs": [],
   "source": [
    "import os\n",
    "from collections import defaultdict\n",
    "from pandas import read_csv\n",
    "def duplications_count_by_node(species_node, dup_path, rows):\n",
    "    N_counts = defaultdict(lambda: 0)\n",
    "    os.chdir(r'D:\\josiah\\Documents\\Research\\Thesis - Genome Symmetry\\DNA_Duplications')\n",
    "    for index, line in rows[rows['Species Tree Node'] == species_node].iterrows():\n",
    "        og = line['Orthogroup']\n",
    "        N_counts[og] += 1\n",
    "    study_homeologs = [og for og, c in N_counts.items() if c == 1]\n",
    "    \n",
    "\n",
    "    all_splits = collect_all_Nx_duplicated_genes(rows, N_counts, species_node)\n",
    "    print('Found', len([k for k,v in N_counts.items() if v > 0])*2, 'subtrees')\n",
    "    print('Using', len(study_homeologs)*2, 'subtrees')\n",
    "    return study_homeologs, N_counts, all_splits\n",
    "\n"
   ]
  },
  {
   "cell_type": "code",
   "execution_count": 101,
   "metadata": {
    "collapsed": true
   },
   "outputs": [],
   "source": [
    "from pandas import DataFrame, Series\n",
    "def format_table(split_families, convert_fam_id=False):\n",
    "    def species_count_from_subtree(subtree):\n",
    "        assert hasattr(subtree, '__iter__')\n",
    "        sub_counts = defaultdict(lambda: 0)\n",
    "        for gene in subtree:\n",
    "            sub_counts[gene.split('_')[0]] += 1\n",
    "        assert sum(sub_counts.values()) == len(subtree)\n",
    "        return sub_counts\n",
    "    data = {}\n",
    "    for name, subfamily in split_families.items():\n",
    "        sub_counts = species_count_from_subtree(subfamily)\n",
    "        data[name] = sub_counts\n",
    "    df = DataFrame.from_dict(data, orient='index', )\n",
    "    df.fillna(value=0, inplace=True)\n",
    "    df = df.astype(int)\n",
    "    df.index.name = 'Desc'\n",
    "    if convert_fam_id:\n",
    "        df['Family ID'] = df.apply(lambda row: str(row.name)[-1:] + str(row.name)[2:-2], axis=1) # e.g. OG0000212_1 => 10000212\n",
    "    else:\n",
    "        df['Family ID'] = df.apply(lambda row: row.name, axis=1)\n",
    "\n",
    "    column_order = ['Family ID'] + sorted('Oeuropea\tFRAX08\tFRAX05\tFRAX25\tFRAX14\tFRAX15\tFRAX32\tFRAX21\tFRAX33\tFRAX26\tFRAX16\tFRAX03\tFRAX07\tFRAX23\tFRAX31\tFRAX09\tFRAX19\tFRAX12\tFRAX29\tFRAX01\tFRAX00\tFRAX13\tFRAX20\tFRAX30\tFRAX27\tFRAX04\tFRAX11\tFRAX28\tFRAX06'.split('\\t'))\n",
    "#     column_order.remove('FRAX02')\n",
    "#     column_order.remove('FRAX34')\n",
    "    df = df[column_order]\n",
    "    return df"
   ]
  },
  {
   "cell_type": "code",
   "execution_count": 104,
   "metadata": {
    "collapsed": false
   },
   "outputs": [
    {
     "name": "stdout",
     "output_type": "stream",
     "text": [
      "10520\n",
      "Found 10520 subtrees\n",
      "Using 3232 subtrees\n",
      "0 Total Genes included in the study, separated over 0 gene families\n"
     ]
    },
    {
     "ename": "ValueError",
     "evalue": "need more than 0 values to unpack",
     "output_type": "error",
     "traceback": [
      "\u001b[0;31m---------------------------------------------------------------------------\u001b[0m",
      "\u001b[0;31mValueError\u001b[0m                                Traceback (most recent call last)",
      "\u001b[0;32m<ipython-input-104-0df0d9e0d4b3>\u001b[0m in \u001b[0;36m<module>\u001b[0;34m()\u001b[0m\n\u001b[1;32m     19\u001b[0m \u001b[1;33m\u001b[0m\u001b[0m\n\u001b[1;32m     20\u001b[0m \u001b[0mFeb05\u001b[0m \u001b[1;33m=\u001b[0m \u001b[1;34mr\"Ash_Proteome\\Results_Jun25\\Orthologues_Jul04_2\\New_Analysis_From_Trees_Feb05\\Duplications.csv\"\u001b[0m\u001b[1;33m\u001b[0m\u001b[0m\n\u001b[0;32m---> 21\u001b[0;31m \u001b[0mstudy_homeologs\u001b[0m\u001b[1;33m,\u001b[0m \u001b[0mN2_counts\u001b[0m\u001b[1;33m,\u001b[0m \u001b[0msubtrees_Feb5\u001b[0m \u001b[1;33m=\u001b[0m \u001b[0msplit_subtrees\u001b[0m\u001b[1;33m(\u001b[0m\u001b[1;34m'N2'\u001b[0m\u001b[1;33m,\u001b[0m \u001b[0mFeb05\u001b[0m\u001b[1;33m)\u001b[0m\u001b[1;33m\u001b[0m\u001b[0m\n\u001b[0m",
      "\u001b[0;31mValueError\u001b[0m: need more than 0 values to unpack"
     ]
    }
   ],
   "source": [
    "def split_subtrees(target_species_node, duplications_path):\n",
    "    rows = read_csv(duplications_path, delimiter='\\t')\n",
    "    study_homeologs, N_counts, all_splits = duplications_count_by_node(target_species_node, duplications_path, rows)\n",
    "    split_families = {}\n",
    "    \n",
    "    #all_splits_table = format_table(all_splits)\n",
    "    #all_splits_table.head()\n",
    "    #all_splits_table.to_csv(r'CAFE-4.2\\data\\corrected_orthologs\\all_N1_duplication_counts.csv', sep='\\t')\n",
    "    study_rows = rows[rows['Orthogroup'].isin(study_homeologs) & (rows['Species Tree Node'] == target_species_node)]\n",
    "    def final_split():\n",
    "        for index, row in study_rows.iterrows():\n",
    "            og = row['Orthogroup']\n",
    "            split_families[og + '_1'] = row['Genes 1'].split(', ')\n",
    "            split_families[og + '_2'] = row['Genes 2'].split(', ')\n",
    "    print(pp(sum([len(v) for v in split_families.values()])), \n",
    "          \"Total Genes included in the study, separated over\", \n",
    "          pp(len(split_families)), \"gene families\")\n",
    "    return split_families\n",
    "\n",
    "Feb05 = r\"Ash_Proteome\\Results_Jun25\\Orthologues_Jul04_2\\New_Analysis_From_Trees_Feb05\\Duplications.csv\"\n",
    "study_homeologs, N2_counts, subtrees_Feb5 = split_subtrees('N2', Feb05)"
   ]
  },
  {
   "cell_type": "code",
   "execution_count": 97,
   "metadata": {
    "collapsed": false
   },
   "outputs": [
    {
     "name": "stdout",
     "output_type": "stream",
     "text": [
      "96,778 Total Genes included in the study, separated over 3,204 gene families\n"
     ]
    }
   ],
   "source": []
  },
  {
   "cell_type": "code",
   "execution_count": 98,
   "metadata": {
    "collapsed": true
   },
   "outputs": [],
   "source": [
    "#TODO Double check with original Jul04 dataset to see if we still get 8484 families\n",
    "#N1_counts, orthogroups_seen = Nx_counts_from_Duplications(\"Ash_Proteome\\Results_Jun25\\Orthologues_Jul04_2\\Duplications.csv\", 'N1')"
   ]
  },
  {
   "cell_type": "markdown",
   "metadata": {},
   "source": [
    "Peel off first part of gene name for species count"
   ]
  },
  {
   "cell_type": "code",
   "execution_count": 59,
   "metadata": {
    "collapsed": false
   },
   "outputs": [
    {
     "data": {
      "text/plain": [
       "96778"
      ]
     },
     "execution_count": 59,
     "metadata": {},
     "output_type": "execute_result"
    }
   ],
   "source": [
    "gene_set = set()\n",
    "gene_set.update(*(v for v in split_families.values()))\n",
    "len(gene_set)"
   ]
  },
  {
   "cell_type": "code",
   "execution_count": 60,
   "metadata": {
    "collapsed": false
   },
   "outputs": [
    {
     "data": {
      "text/plain": [
       "{'FRAX00',\n",
       " 'FRAX01',\n",
       " 'FRAX02',\n",
       " 'FRAX03',\n",
       " 'FRAX04',\n",
       " 'FRAX05',\n",
       " 'FRAX06',\n",
       " 'FRAX07',\n",
       " 'FRAX08',\n",
       " 'FRAX09',\n",
       " 'FRAX11',\n",
       " 'FRAX12',\n",
       " 'FRAX13',\n",
       " 'FRAX14',\n",
       " 'FRAX15',\n",
       " 'FRAX16',\n",
       " 'FRAX19',\n",
       " 'FRAX20',\n",
       " 'FRAX21',\n",
       " 'FRAX23',\n",
       " 'FRAX25',\n",
       " 'FRAX26',\n",
       " 'FRAX27',\n",
       " 'FRAX28',\n",
       " 'FRAX29',\n",
       " 'FRAX30',\n",
       " 'FRAX31',\n",
       " 'FRAX32',\n",
       " 'FRAX33',\n",
       " 'FRAX34',\n",
       " 'Oeuropea'}"
      ]
     },
     "execution_count": 60,
     "metadata": {},
     "output_type": "execute_result"
    }
   ],
   "source": [
    "unique_starts = set(gene.split('_')[0] for gene in gene_set)\n",
    "unique_starts"
   ]
  },
  {
   "cell_type": "code",
   "execution_count": 61,
   "metadata": {
    "collapsed": false
   },
   "outputs": [
    {
     "data": {
      "text/plain": [
       "[]"
      ]
     },
     "execution_count": 61,
     "metadata": {},
     "output_type": "execute_result"
    }
   ],
   "source": [
    "[gene for gene in gene_set if not gene.startswith('FRAX') and not gene.startswith('Oeuropea')]"
   ]
  },
  {
   "cell_type": "markdown",
   "metadata": {},
   "source": [
    "**Conclusion:** There are no Solanum or Erythranthe genes in these subtrees.  That was probably an implicit criteria of their selection.  Is this a problem?  Since I'm retaining the original OG names, we can always cross reference the included subtrees and the excluded subtrees (which would contain Solanum and Erythranthe)."
   ]
  },
  {
   "cell_type": "markdown",
   "metadata": {},
   "source": [
    "*TODO: Pull OG out of Orthogroups.csv and remove the genes listed in \"Genes 1\" and \"Genes 2\" (also in gene_set) and save this as OG#####_out.*"
   ]
  },
  {
   "cell_type": "code",
   "execution_count": 62,
   "metadata": {
    "collapsed": true
   },
   "outputs": [],
   "source": [
    "df = format_table(split_families).head()"
   ]
  },
  {
   "cell_type": "markdown",
   "metadata": {
    "collapsed": false
   },
   "source": [
    "df.to_csv(r'CAFE-4.2\\data\\homeologs_only\\homeolog_counts.txt', sep='\\t')"
   ]
  },
  {
   "cell_type": "code",
   "execution_count": 63,
   "metadata": {
    "collapsed": false
   },
   "outputs": [
    {
     "data": {
      "text/html": [
       "<div>\n",
       "<style scoped>\n",
       "    .dataframe tbody tr th:only-of-type {\n",
       "        vertical-align: middle;\n",
       "    }\n",
       "\n",
       "    .dataframe tbody tr th {\n",
       "        vertical-align: top;\n",
       "    }\n",
       "\n",
       "    .dataframe thead th {\n",
       "        text-align: right;\n",
       "    }\n",
       "</style>\n",
       "<table border=\"1\" class=\"dataframe\">\n",
       "  <thead>\n",
       "    <tr style=\"text-align: right;\">\n",
       "      <th></th>\n",
       "      <th>Family ID</th>\n",
       "      <th>FRAX00</th>\n",
       "      <th>FRAX01</th>\n",
       "      <th>FRAX03</th>\n",
       "      <th>FRAX04</th>\n",
       "      <th>FRAX05</th>\n",
       "      <th>FRAX06</th>\n",
       "      <th>FRAX07</th>\n",
       "      <th>FRAX08</th>\n",
       "      <th>FRAX09</th>\n",
       "      <th>...</th>\n",
       "      <th>FRAX25</th>\n",
       "      <th>FRAX26</th>\n",
       "      <th>FRAX27</th>\n",
       "      <th>FRAX28</th>\n",
       "      <th>FRAX29</th>\n",
       "      <th>FRAX30</th>\n",
       "      <th>FRAX31</th>\n",
       "      <th>FRAX32</th>\n",
       "      <th>FRAX33</th>\n",
       "      <th>Oeuropea</th>\n",
       "    </tr>\n",
       "    <tr>\n",
       "      <th>Desc</th>\n",
       "      <th></th>\n",
       "      <th></th>\n",
       "      <th></th>\n",
       "      <th></th>\n",
       "      <th></th>\n",
       "      <th></th>\n",
       "      <th></th>\n",
       "      <th></th>\n",
       "      <th></th>\n",
       "      <th></th>\n",
       "      <th></th>\n",
       "      <th></th>\n",
       "      <th></th>\n",
       "      <th></th>\n",
       "      <th></th>\n",
       "      <th></th>\n",
       "      <th></th>\n",
       "      <th></th>\n",
       "      <th></th>\n",
       "      <th></th>\n",
       "      <th></th>\n",
       "    </tr>\n",
       "  </thead>\n",
       "  <tbody>\n",
       "    <tr>\n",
       "      <th>OG0000013_1</th>\n",
       "      <td>OG0000013_1</td>\n",
       "      <td>1</td>\n",
       "      <td>1</td>\n",
       "      <td>1</td>\n",
       "      <td>1</td>\n",
       "      <td>1</td>\n",
       "      <td>2</td>\n",
       "      <td>2</td>\n",
       "      <td>1</td>\n",
       "      <td>1</td>\n",
       "      <td>...</td>\n",
       "      <td>1</td>\n",
       "      <td>0</td>\n",
       "      <td>1</td>\n",
       "      <td>1</td>\n",
       "      <td>2</td>\n",
       "      <td>2</td>\n",
       "      <td>1</td>\n",
       "      <td>1</td>\n",
       "      <td>2</td>\n",
       "      <td>1</td>\n",
       "    </tr>\n",
       "    <tr>\n",
       "      <th>OG0000013_2</th>\n",
       "      <td>OG0000013_2</td>\n",
       "      <td>3</td>\n",
       "      <td>3</td>\n",
       "      <td>1</td>\n",
       "      <td>1</td>\n",
       "      <td>2</td>\n",
       "      <td>2</td>\n",
       "      <td>1</td>\n",
       "      <td>1</td>\n",
       "      <td>2</td>\n",
       "      <td>...</td>\n",
       "      <td>2</td>\n",
       "      <td>2</td>\n",
       "      <td>1</td>\n",
       "      <td>1</td>\n",
       "      <td>1</td>\n",
       "      <td>1</td>\n",
       "      <td>2</td>\n",
       "      <td>1</td>\n",
       "      <td>1</td>\n",
       "      <td>0</td>\n",
       "    </tr>\n",
       "    <tr>\n",
       "      <th>OG0000057_1</th>\n",
       "      <td>OG0000057_1</td>\n",
       "      <td>1</td>\n",
       "      <td>1</td>\n",
       "      <td>0</td>\n",
       "      <td>0</td>\n",
       "      <td>0</td>\n",
       "      <td>1</td>\n",
       "      <td>0</td>\n",
       "      <td>1</td>\n",
       "      <td>0</td>\n",
       "      <td>...</td>\n",
       "      <td>0</td>\n",
       "      <td>1</td>\n",
       "      <td>1</td>\n",
       "      <td>0</td>\n",
       "      <td>1</td>\n",
       "      <td>0</td>\n",
       "      <td>0</td>\n",
       "      <td>1</td>\n",
       "      <td>1</td>\n",
       "      <td>1</td>\n",
       "    </tr>\n",
       "    <tr>\n",
       "      <th>OG0000057_2</th>\n",
       "      <td>OG0000057_2</td>\n",
       "      <td>2</td>\n",
       "      <td>11</td>\n",
       "      <td>8</td>\n",
       "      <td>8</td>\n",
       "      <td>10</td>\n",
       "      <td>6</td>\n",
       "      <td>9</td>\n",
       "      <td>8</td>\n",
       "      <td>10</td>\n",
       "      <td>...</td>\n",
       "      <td>2</td>\n",
       "      <td>6</td>\n",
       "      <td>9</td>\n",
       "      <td>12</td>\n",
       "      <td>10</td>\n",
       "      <td>10</td>\n",
       "      <td>1</td>\n",
       "      <td>11</td>\n",
       "      <td>6</td>\n",
       "      <td>0</td>\n",
       "    </tr>\n",
       "    <tr>\n",
       "      <th>OG0000069_1</th>\n",
       "      <td>OG0000069_1</td>\n",
       "      <td>2</td>\n",
       "      <td>6</td>\n",
       "      <td>9</td>\n",
       "      <td>8</td>\n",
       "      <td>9</td>\n",
       "      <td>6</td>\n",
       "      <td>10</td>\n",
       "      <td>8</td>\n",
       "      <td>9</td>\n",
       "      <td>...</td>\n",
       "      <td>9</td>\n",
       "      <td>8</td>\n",
       "      <td>9</td>\n",
       "      <td>9</td>\n",
       "      <td>8</td>\n",
       "      <td>11</td>\n",
       "      <td>9</td>\n",
       "      <td>8</td>\n",
       "      <td>9</td>\n",
       "      <td>1</td>\n",
       "    </tr>\n",
       "  </tbody>\n",
       "</table>\n",
       "<p>5 rows × 30 columns</p>\n",
       "</div>"
      ],
      "text/plain": [
       "               Family ID  FRAX00  FRAX01  FRAX03  FRAX04  FRAX05  FRAX06  \\\n",
       "Desc                                                                       \n",
       "OG0000013_1  OG0000013_1       1       1       1       1       1       2   \n",
       "OG0000013_2  OG0000013_2       3       3       1       1       2       2   \n",
       "OG0000057_1  OG0000057_1       1       1       0       0       0       1   \n",
       "OG0000057_2  OG0000057_2       2      11       8       8      10       6   \n",
       "OG0000069_1  OG0000069_1       2       6       9       8       9       6   \n",
       "\n",
       "             FRAX07  FRAX08  FRAX09    ...     FRAX25  FRAX26  FRAX27  FRAX28  \\\n",
       "Desc                                   ...                                      \n",
       "OG0000013_1       2       1       1    ...          1       0       1       1   \n",
       "OG0000013_2       1       1       2    ...          2       2       1       1   \n",
       "OG0000057_1       0       1       0    ...          0       1       1       0   \n",
       "OG0000057_2       9       8      10    ...          2       6       9      12   \n",
       "OG0000069_1      10       8       9    ...          9       8       9       9   \n",
       "\n",
       "             FRAX29  FRAX30  FRAX31  FRAX32  FRAX33  Oeuropea  \n",
       "Desc                                                           \n",
       "OG0000013_1       2       2       1       1       2         1  \n",
       "OG0000013_2       1       1       2       1       1         0  \n",
       "OG0000057_1       1       0       0       1       1         1  \n",
       "OG0000057_2      10      10       1      11       6         0  \n",
       "OG0000069_1       8      11       9       8       9         1  \n",
       "\n",
       "[5 rows x 30 columns]"
      ]
     },
     "execution_count": 63,
     "metadata": {},
     "output_type": "execute_result"
    }
   ],
   "source": [
    "df.head()"
   ]
  },
  {
   "cell_type": "markdown",
   "metadata": {
    "collapsed": true
   },
   "source": [
    "\n",
    "# Feb 05 Analysis Using Corrected Outgroup Reconciled Gene Trees\n",
    "\n",
    "Previous studies were done with Orthogroups made with all species (FRAX02 and FRAX34) but also the wrong relationship between Solanum and Mimmulus (Eryanthre).  Having corrected that, the species tree that gene trees are reconciled to also need to be updated.  \n",
    "* The node might not be called N1 anymore\n",
    "    * Based on the labeling of nodes from the same program I expect **the species tree Oleaceae to be N2**\n",
    "* We should still filter for 1 split at the WGD per gene tree\n",
    "* Still take the left and right subtrees and discard the rest of the gene tree outside those two subtrees.  That ensure we're comparing gene pairs of equal age from the same event.  \n",
    "* Technically every pairwise combination across (but not within) the two subtrees should be a valid Ks and 4DTv\n"
   ]
  },
  {
   "cell_type": "code",
   "execution_count": 64,
   "metadata": {
    "collapsed": false
   },
   "outputs": [],
   "source": [
    "Feb05 = r\"Ash_Proteome\\Results_Jun25\\Orthologues_Jul04_2\\New_Analysis_From_Trees_Feb05\\Duplications.csv\"\n",
    "N2_counts, orthogroups_N2_seen = Nx_counts_from_Duplications(Feb05, node_name='N2')"
   ]
  },
  {
   "cell_type": "code",
   "execution_count": 65,
   "metadata": {
    "collapsed": true
   },
   "outputs": [],
   "source": [
    "dups_df = read_csv(Feb05, delimiter='\\t')"
   ]
  },
  {
   "cell_type": "code",
   "execution_count": 66,
   "metadata": {
    "collapsed": false
   },
   "outputs": [
    {
     "data": {
      "text/html": [
       "<div>\n",
       "<style scoped>\n",
       "    .dataframe tbody tr th:only-of-type {\n",
       "        vertical-align: middle;\n",
       "    }\n",
       "\n",
       "    .dataframe tbody tr th {\n",
       "        vertical-align: top;\n",
       "    }\n",
       "\n",
       "    .dataframe thead th {\n",
       "        text-align: right;\n",
       "    }\n",
       "</style>\n",
       "<table border=\"1\" class=\"dataframe\">\n",
       "  <thead>\n",
       "    <tr style=\"text-align: right;\">\n",
       "      <th></th>\n",
       "      <th>Orthogroup</th>\n",
       "      <th>Species Tree Node</th>\n",
       "      <th>Gene Tree Node</th>\n",
       "      <th>Support</th>\n",
       "      <th>Type</th>\n",
       "      <th>Genes 1</th>\n",
       "      <th>Genes 2</th>\n",
       "    </tr>\n",
       "  </thead>\n",
       "  <tbody>\n",
       "    <tr>\n",
       "      <th>45502</th>\n",
       "      <td>OG0003492</td>\n",
       "      <td>N0</td>\n",
       "      <td>n0</td>\n",
       "      <td>0.060606</td>\n",
       "      <td>Shared</td>\n",
       "      <td>Slycopersicum_Solyc05g055020.2.1, Slycopersicu...</td>\n",
       "      <td>Slycopersicum_Solyc06g082210.1.1, Oeuropea_OE6...</td>\n",
       "    </tr>\n",
       "    <tr>\n",
       "      <th>45503</th>\n",
       "      <td>OG0003492</td>\n",
       "      <td>Slycopersicum</td>\n",
       "      <td>n2</td>\n",
       "      <td>1.000000</td>\n",
       "      <td>Terminal</td>\n",
       "      <td>Slycopersicum_Solyc05g055020.2.1</td>\n",
       "      <td>Slycopersicum_Solyc04g009980.2.1</td>\n",
       "    </tr>\n",
       "    <tr>\n",
       "      <th>45504</th>\n",
       "      <td>OG0003492</td>\n",
       "      <td>N2</td>\n",
       "      <td>n5</td>\n",
       "      <td>1.000000</td>\n",
       "      <td>Shared</td>\n",
       "      <td>Oeuropea_OE6A096146P1, FRAX08_FRAX08_000398260...</td>\n",
       "      <td>Oeuropea_OE6A064601P1, Oeuropea_OE6A088529P1, ...</td>\n",
       "    </tr>\n",
       "    <tr>\n",
       "      <th>45505</th>\n",
       "      <td>OG0003492</td>\n",
       "      <td>Oeuropea</td>\n",
       "      <td>n39</td>\n",
       "      <td>1.000000</td>\n",
       "      <td>Terminal</td>\n",
       "      <td>Oeuropea_OE6A064601P1</td>\n",
       "      <td>Oeuropea_OE6A088529P1</td>\n",
       "    </tr>\n",
       "    <tr>\n",
       "      <th>45506</th>\n",
       "      <td>OG0003492</td>\n",
       "      <td>Mguttatus</td>\n",
       "      <td>n69</td>\n",
       "      <td>1.000000</td>\n",
       "      <td>Terminal</td>\n",
       "      <td>Mguttatus_Migut.H01303.1.p</td>\n",
       "      <td>Mguttatus_Migut.D00854.1.p</td>\n",
       "    </tr>\n",
       "  </tbody>\n",
       "</table>\n",
       "</div>"
      ],
      "text/plain": [
       "      Orthogroup Species Tree Node Gene Tree Node   Support      Type  \\\n",
       "45502  OG0003492                N0             n0  0.060606    Shared   \n",
       "45503  OG0003492     Slycopersicum             n2  1.000000  Terminal   \n",
       "45504  OG0003492                N2             n5  1.000000    Shared   \n",
       "45505  OG0003492          Oeuropea            n39  1.000000  Terminal   \n",
       "45506  OG0003492         Mguttatus            n69  1.000000  Terminal   \n",
       "\n",
       "                                                 Genes 1  \\\n",
       "45502  Slycopersicum_Solyc05g055020.2.1, Slycopersicu...   \n",
       "45503                   Slycopersicum_Solyc05g055020.2.1   \n",
       "45504  Oeuropea_OE6A096146P1, FRAX08_FRAX08_000398260...   \n",
       "45505                              Oeuropea_OE6A064601P1   \n",
       "45506                         Mguttatus_Migut.H01303.1.p   \n",
       "\n",
       "                                                 Genes 2  \n",
       "45502  Slycopersicum_Solyc06g082210.1.1, Oeuropea_OE6...  \n",
       "45503                   Slycopersicum_Solyc04g009980.2.1  \n",
       "45504  Oeuropea_OE6A064601P1, Oeuropea_OE6A088529P1, ...  \n",
       "45505                              Oeuropea_OE6A088529P1  \n",
       "45506                         Mguttatus_Migut.D00854.1.p  "
      ]
     },
     "execution_count": 66,
     "metadata": {},
     "output_type": "execute_result"
    }
   ],
   "source": [
    "dups_df[dups_df['Orthogroup'] == 'OG0003492'].head()"
   ]
  },
  {
   "cell_type": "code",
   "execution_count": 67,
   "metadata": {
    "collapsed": false
   },
   "outputs": [
    {
     "data": {
      "text/plain": [
       "1"
      ]
     },
     "execution_count": 67,
     "metadata": {},
     "output_type": "execute_result"
    }
   ],
   "source": [
    "N1_counts['OG0003492']"
   ]
  },
  {
   "cell_type": "markdown",
   "metadata": {},
   "source": [
    "**GOAL:** Test to what degree N1_counts and N2_counts differ.  \n",
    "* Given a group of N1_counts that are all 1, their average in N2 counts should be close to 1.\n",
    "* Given a different Species tree node, the results should be more divergent than 3%\n",
    "\n",
    "| Results | Average |\n",
    "| ----------- | ----------- |\n",
    "| N0    | 0.11621876473361623 |\n",
    "| N1    | 0.11291843470061291  |\n",
    "| **N2** | **0.9707685054219708**  |\n",
    "| N3    | 0.5044790193305044|\n",
    "| N4    | 0.4941065535124941|\n",
    "\n",
    "* Results strongly support that N2 is the species node and that results are largely unchanged ~3%"
   ]
  },
  {
   "cell_type": "code",
   "execution_count": 68,
   "metadata": {
    "collapsed": false
   },
   "outputs": [
    {
     "data": {
      "text/plain": [
       "1.0"
      ]
     },
     "execution_count": 68,
     "metadata": {},
     "output_type": "execute_result"
    }
   ],
   "source": [
    "from statistics import mean\n",
    "N2_compare = [N2_counts[og] for og in study_homeologs]\n",
    "mean(N2_compare)"
   ]
  },
  {
   "cell_type": "markdown",
   "metadata": {
    "collapsed": false
   },
   "source": [
    "N0_counts, ignored = Nx_counts_from_Duplications(Feb05, node_name='N0')\n",
    "mean([N0_counts[og] for og in study_homeologs])"
   ]
  },
  {
   "cell_type": "markdown",
   "metadata": {
    "collapsed": false
   },
   "source": [
    "N3_counts, ignored = Nx_counts_from_Duplications(Feb05, node_name='N3')\n",
    "mean([N3_counts[og] for og in study_homeologs])"
   ]
  },
  {
   "cell_type": "markdown",
   "metadata": {
    "collapsed": false
   },
   "source": [
    "Nx_counts, ignored = Nx_counts_from_Duplications(Feb05, node_name='N1')\n",
    "mean([Nx_counts[og] for og in study_homeologs])"
   ]
  },
  {
   "cell_type": "markdown",
   "metadata": {
    "collapsed": false
   },
   "source": [
    "N4_counts, ignored = Nx_counts_from_Duplications(Feb05, node_name='N4')\n",
    "mean([N4_counts[og] for og in study_homeologs])"
   ]
  },
  {
   "cell_type": "markdown",
   "metadata": {},
   "source": [
    "-------------------------------\n",
    "### Test for overlap in OG names"
   ]
  },
  {
   "cell_type": "code",
   "execution_count": 77,
   "metadata": {
    "collapsed": false
   },
   "outputs": [
    {
     "data": {
      "text/plain": [
       "1616"
      ]
     },
     "execution_count": 77,
     "metadata": {},
     "output_type": "execute_result"
    }
   ],
   "source": [
    "study_homeologs = set(study_homeologs)\n",
    "len(study_homeologs) # from incorrect species tree"
   ]
  },
  {
   "cell_type": "code",
   "execution_count": 78,
   "metadata": {
    "collapsed": false
   },
   "outputs": [
    {
     "data": {
      "text/plain": [
       "(1616, '100.000000%')"
      ]
     },
     "execution_count": 78,
     "metadata": {},
     "output_type": "execute_result"
    }
   ],
   "source": [
    "refined_ohnologs = {og for og in N2_counts if N2_counts[og] == 1}\n",
    "len(refined_ohnologs), pp(len(refined_ohnologs) / len(study_homeologs))"
   ]
  },
  {
   "cell_type": "code",
   "execution_count": 75,
   "metadata": {
    "collapsed": false
   },
   "outputs": [
    {
     "data": {
      "text/plain": [
       "0.39656441717791413"
      ]
     },
     "execution_count": 75,
     "metadata": {},
     "output_type": "execute_result"
    }
   ],
   "source": [
    "len(refined_ohnologs.intersection(study_homeologs)) / 4075  # Agreement overlap"
   ]
  },
  {
   "cell_type": "code",
   "execution_count": 79,
   "metadata": {
    "collapsed": false
   },
   "outputs": [
    {
     "data": {
      "text/plain": [
       "0.0"
      ]
     },
     "execution_count": 79,
     "metadata": {},
     "output_type": "execute_result"
    }
   ],
   "source": [
    "len(refined_ohnologs.difference(study_homeologs)) / 4075"
   ]
  },
  {
   "cell_type": "markdown",
   "metadata": {},
   "source": [
    "#### Conclusion: 97% overlap means the difference would be negligible\n",
    "-------------------------------\n",
    "### Test if the same gene Names would have been used in left-right subtrees for Ohnologs"
   ]
  },
  {
   "cell_type": "code",
   "execution_count": 91,
   "metadata": {
    "collapsed": true
   },
   "outputs": [],
   "source": [
    "def gene_set_from_Duplications_csv(path, node_name):\n",
    "    counts, ignored = Nx_counts_from_Duplications(path, node_name=node_name)\n",
    "    print(\"Done collecting\", len(counts), \"counts\")\n",
    "    df = read_csv(path, delimiter='\\t')\n",
    "    splits = collect_all_Nx_duplicated_genes(df, counts, node_name)\n",
    "    print(\"Identified\", len(splits), \"valid ohnolog tree splits\")\n",
    "    gene_set = set()\n",
    "    for v in splits.values():\n",
    "        gene_set.update(v)\n",
    "    print(len(gene_set), \"ohnolog genes identified\")\n",
    "    return gene_set, splits"
   ]
  },
  {
   "cell_type": "code",
   "execution_count": 92,
   "metadata": {
    "collapsed": false
   },
   "outputs": [
    {
     "name": "stdout",
     "output_type": "stream",
     "text": [
      "Done collecting 9546 counts\n",
      "19092\n",
      "Identified 19092 valid ohnolog tree splits\n",
      "579487 ohnolog genes identified\n"
     ]
    }
   ],
   "source": [
    "Jul04 = r\"Ash_Proteome\\Results_Jun25\\Orthologues_Jul04_2\\Duplications.csv\" \n",
    "Jul04_set, Jul04_splits = gene_set_from_Duplications_csv(Jul04, 'N1')"
   ]
  },
  {
   "cell_type": "code",
   "execution_count": 93,
   "metadata": {
    "collapsed": false
   },
   "outputs": [
    {
     "name": "stdout",
     "output_type": "stream",
     "text": [
      "10520\n"
     ]
    }
   ],
   "source": [
    "revised_splits = collect_all_Nx_duplicated_genes(dups_df, N2_counts, 'N2')"
   ]
  },
  {
   "cell_type": "code",
   "execution_count": 94,
   "metadata": {
    "collapsed": false
   },
   "outputs": [
    {
     "data": {
      "text/plain": [
       "'181.482890%'"
      ]
     },
     "execution_count": 94,
     "metadata": {},
     "output_type": "execute_result"
    }
   ],
   "source": [
    "pp(len(Jul04_splits) / len(revised_splits))"
   ]
  },
  {
   "cell_type": "code",
   "execution_count": 84,
   "metadata": {
    "collapsed": true
   },
   "outputs": [],
   "source": [
    "def first(iterable):\n",
    "    if isinstance(iterable, dict):\n",
    "        return next(iter(iterable.items()))\n",
    "    return next(iter(iterable))"
   ]
  },
  {
   "cell_type": "code",
   "execution_count": 89,
   "metadata": {
    "collapsed": false
   },
   "outputs": [
    {
     "data": {
      "text/plain": [
       "'100.000000%'"
      ]
     },
     "execution_count": 89,
     "metadata": {},
     "output_type": "execute_result"
    }
   ],
   "source": [
    "#Virutally identical sets of keys\n",
    "pp(len(set(revised_splits.keys()).intersection(Jul04_splits.keys())) / 18712)"
   ]
  },
  {
   "cell_type": "code",
   "execution_count": 86,
   "metadata": {
    "collapsed": false
   },
   "outputs": [
    {
     "data": {
      "text/plain": [
       "'FRAX02_FRAX02_000081500.1_R0'"
      ]
     },
     "execution_count": 86,
     "metadata": {},
     "output_type": "execute_result"
    }
   ],
   "source": [
    "from itertools import chain\n",
    "revised_gene_set = set()\n",
    "for v in revised_splits.values():\n",
    "    revised_gene_set.update(v)\n",
    "first(revised_gene_set)"
   ]
  },
  {
   "cell_type": "code",
   "execution_count": 87,
   "metadata": {
    "collapsed": false
   },
   "outputs": [
    {
     "data": {
      "text/plain": [
       "'100.000000%'"
      ]
     },
     "execution_count": 87,
     "metadata": {},
     "output_type": "execute_result"
    }
   ],
   "source": [
    "original_gene_set = set()\n",
    "for v in all_splits.values():\n",
    "    original_gene_set.update(v)\n",
    "pp(len(original_gene_set) / len(revised_gene_set)    )"
   ]
  },
  {
   "cell_type": "code",
   "execution_count": 88,
   "metadata": {
    "collapsed": false
   },
   "outputs": [
    {
     "data": {
      "text/plain": [
       "'100.000000%'"
      ]
     },
     "execution_count": 88,
     "metadata": {},
     "output_type": "execute_result"
    }
   ],
   "source": [
    "pp( len(revised_gene_set.intersection(original_gene_set))/ len(original_gene_set))"
   ]
  },
  {
   "cell_type": "markdown",
   "metadata": {},
   "source": [
    "#### Final conclusion: revised_gene_set with corrected outgroup species tree yields nearly identical results.  There's no need to change downstream analysis or doubt the membership of Ohnologs\n",
    "\n",
    "## Testing Determinism of Gene Tree Reconciliation\n",
    "corrected_homeologs.sh was run two more times, yielding Feb05, Feb08, and Feb12 that were all run under **exactly** the same parameters.  Differences in these results are due to non-determinism of the algorithm."
   ]
  },
  {
   "cell_type": "code",
   "execution_count": null,
   "metadata": {
    "collapsed": false
   },
   "outputs": [],
   "source": [
    "Jul04 = r\"Ash_Proteome\\Results_Jun25\\Orthologues_Jul04_2\\Duplications.csv\" \n",
    "Jul04_set, Jul04_splits = gene_set_from_Duplications_csv(Jul04, 'N1')"
   ]
  },
  {
   "cell_type": "code",
   "execution_count": null,
   "metadata": {
    "collapsed": false
   },
   "outputs": [],
   "source": [
    "Feb05 = r\"Ash_Proteome\\Results_Jun25\\Orthologues_Jul04_2\\New_Analysis_From_Trees_Feb05\\Duplications.csv\"\n",
    "Feb05_set, Feb05_splits = gene_set_from_Duplications_csv(Feb05, 'N2')"
   ]
  },
  {
   "cell_type": "code",
   "execution_count": null,
   "metadata": {
    "collapsed": true
   },
   "outputs": [],
   "source": [
    "Feb08 = r\"Ash_Proteome\\Results_Jun25\\Orthologues_Jul04_2\\New_Analysis_From_Trees_Feb08\\Duplications.csv\"\n",
    "Feb08_set, Feb08_splits = gene_set_from_Duplications_csv(Feb08, 'N2')"
   ]
  },
  {
   "cell_type": "code",
   "execution_count": null,
   "metadata": {
    "collapsed": false
   },
   "outputs": [],
   "source": [
    "Feb12 = r\"Ash_Proteome\\Results_Jun25\\Orthologues_Jul04_2\\New_Analysis_From_Trees_Feb12\\Duplications.csv\"\n",
    "Feb12_set, Feb12_splits = gene_set_from_Duplications_csv(Feb12, 'N2')"
   ]
  },
  {
   "cell_type": "code",
   "execution_count": null,
   "metadata": {
    "collapsed": false
   },
   "outputs": [],
   "source": [
    "def overlap_geneset_statistics(setA, setB):\n",
    "#     pp(len(all_splits) / len(revised_splits))\n",
    "#     pp(len(set(revised_splits.keys()).intersection(all_splits.keys())) / 18712)\n",
    "    longer = max(len(setB), len(setA))\n",
    "    print(\"Lengths are\", pp(min(len(setA), len(setB)) / longer), \"of the longer one\")\n",
    "    print(\"Gene intersection is\", pp( len(setA.intersection(setB))/ longer),\"of the longer one\")\n",
    "overlap_geneset_statistics(Jul04_set, Feb05_set)"
   ]
  },
  {
   "cell_type": "code",
   "execution_count": null,
   "metadata": {
    "collapsed": false
   },
   "outputs": [],
   "source": [
    "overlap_geneset_statistics(Feb08_set, Feb05_set)"
   ]
  },
  {
   "cell_type": "code",
   "execution_count": null,
   "metadata": {
    "collapsed": false
   },
   "outputs": [],
   "source": [
    "overlap_geneset_statistics(Feb08_set, Feb12_set)"
   ]
  },
  {
   "cell_type": "code",
   "execution_count": null,
   "metadata": {
    "collapsed": false,
    "scrolled": true
   },
   "outputs": [],
   "source": [
    "overlap_geneset_statistics(Feb05_set, Feb12_set)"
   ]
  },
  {
   "cell_type": "code",
   "execution_count": null,
   "metadata": {
    "collapsed": false
   },
   "outputs": [],
   "source": [
    "overlap_geneset_statistics(Jul04_set, Feb08_set)"
   ]
  },
  {
   "cell_type": "code",
   "execution_count": null,
   "metadata": {
    "collapsed": false
   },
   "outputs": [],
   "source": [
    "overlap_geneset_statistics(Jul04_set, Feb12_set)"
   ]
  },
  {
   "cell_type": "markdown",
   "metadata": {},
   "source": [
    "**Conclusion: Gene tree reconciliation is non-deterministic.  However Jul04 set is an outlier at 97% overlap instead of 99.8% overlap.  That's a 15x larger difference than between technical replicates.**"
   ]
  },
  {
   "cell_type": "code",
   "execution_count": null,
   "metadata": {
    "collapsed": false
   },
   "outputs": [],
   "source": [
    "species_names = set()\n",
    "for i, name in enumerate(Feb12_set):\n",
    "    if i > 1000:\n",
    "        break\n",
    "    species_names.add(name[:6])\n",
    "species_names"
   ]
  },
  {
   "cell_type": "markdown",
   "metadata": {},
   "source": [
    "### Print gene list for Ks plots"
   ]
  },
  {
   "cell_type": "code",
   "execution_count": null,
   "metadata": {
    "collapsed": false
   },
   "outputs": [],
   "source": [
    "with open(r'CAFE-4.2\\data\\homeologs_only\\original_gene_set_ohnologs.csv', 'w') as f:\n",
    "    for g in original_gene_set:\n",
    "        f.write(g + '\\n')"
   ]
  },
  {
   "cell_type": "code",
   "execution_count": null,
   "metadata": {
    "collapsed": false
   },
   "outputs": [],
   "source": [
    "len(original_gene_set)"
   ]
  },
  {
   "cell_type": "code",
   "execution_count": null,
   "metadata": {
    "collapsed": true
   },
   "outputs": [],
   "source": [
    "revised_splits['10004658']"
   ]
  },
  {
   "cell_type": "markdown",
   "metadata": {},
   "source": [
    "# Dill Session Save / Load"
   ]
  },
  {
   "cell_type": "markdown",
   "metadata": {
    "collapsed": true
   },
   "source": [
    "##  Save a Notebook session:\n",
    "import dill\n",
    "dill.dump_session('Homeologs_Analysis.db')\n",
    "\n",
    "Restore a Notebook session:\n",
    "import dill\n",
    "dill.load_session('Homeologs_Analysis.db')"
   ]
  }
 ],
 "metadata": {
  "kernelspec": {
   "display_name": "Python 3",
   "language": "python",
   "name": "python3"
  },
  "language_info": {
   "codemirror_mode": {
    "name": "ipython",
    "version": 3
   },
   "file_extension": ".py",
   "mimetype": "text/x-python",
   "name": "python",
   "nbconvert_exporter": "python",
   "pygments_lexer": "ipython3",
   "version": "3.4.3"
  }
 },
 "nbformat": 4,
 "nbformat_minor": 0
}
