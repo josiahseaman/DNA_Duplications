{
 "cells": [
  {
   "cell_type": "code",
   "execution_count": 4,
   "metadata": {
    "collapsed": true
   },
   "outputs": [],
   "source": [
    "import os\n",
    "from DNASkittleUtils.DDVUtils import pp\n",
    "import csv\n",
    "from collections import defaultdict"
   ]
  },
  {
   "cell_type": "markdown",
   "metadata": {},
   "source": [
    "# Lizzy's Data"
   ]
  },
  {
   "cell_type": "code",
   "execution_count": 5,
   "metadata": {
    "collapsed": false
   },
   "outputs": [
    {
     "name": "stdout",
     "output_type": "stream",
     "text": [
      "20865 pairs\n"
     ]
    }
   ],
   "source": [
    "from pandas import read_csv\n",
    "liz = read_csv(\"GOenrich_db/lizzy_ash_ks.csv\", sep='\\t')\n",
    "liz = liz[liz['Ks'] < 20]  # remove a couple bad values\n",
    "print(len(liz), \"pairs\")"
   ]
  },
  {
   "cell_type": "code",
   "execution_count": 3,
   "metadata": {
    "collapsed": false
   },
   "outputs": [
    {
     "data": {
      "text/plain": [
       "'35.772825%'"
      ]
     },
     "execution_count": 3,
     "metadata": {},
     "output_type": "execute_result"
    }
   ],
   "source": [
    "wgd_recent = (liz['Ks'] > 0.16) & (liz['Ks'] < 0.38)\n",
    "wgd_old = (liz['Ks'] > 0.5) & (liz['Ks'] < 0.8)\n",
    "recent_duplication = liz['Ks'] < 0.2\n",
    "unaffected =  ~wgd_old & ~recent_duplication  # ~wgd_recent &\n",
    "affected = wgd_recent | wgd_old #| recent_duplication\n",
    "len(liz[unaffected]), len(affected)\n",
    "pp(len(liz[wgd_recent]) / len(liz))"
   ]
  },
  {
   "cell_type": "code",
   "execution_count": 4,
   "metadata": {
    "collapsed": false
   },
   "outputs": [
    {
     "data": {
      "text/html": [
       "<div>\n",
       "<style scoped>\n",
       "    .dataframe tbody tr th:only-of-type {\n",
       "        vertical-align: middle;\n",
       "    }\n",
       "\n",
       "    .dataframe tbody tr th {\n",
       "        vertical-align: top;\n",
       "    }\n",
       "\n",
       "    .dataframe thead th {\n",
       "        text-align: right;\n",
       "    }\n",
       "</style>\n",
       "<table border=\"1\" class=\"dataframe\">\n",
       "  <thead>\n",
       "    <tr style=\"text-align: right;\">\n",
       "      <th></th>\n",
       "      <th>Group</th>\n",
       "      <th>Gene 1</th>\n",
       "      <th>Gene 2</th>\n",
       "      <th>Ks</th>\n",
       "    </tr>\n",
       "  </thead>\n",
       "  <tbody>\n",
       "    <tr>\n",
       "      <th>0</th>\n",
       "      <td>10</td>\n",
       "      <td>130.1</td>\n",
       "      <td>342640.1</td>\n",
       "      <td>0.3768</td>\n",
       "    </tr>\n",
       "    <tr>\n",
       "      <th>1</th>\n",
       "      <td>10</td>\n",
       "      <td>130.1</td>\n",
       "      <td>254110.1</td>\n",
       "      <td>1.5491</td>\n",
       "    </tr>\n",
       "    <tr>\n",
       "      <th>2</th>\n",
       "      <td>10</td>\n",
       "      <td>130.1</td>\n",
       "      <td>83020.1</td>\n",
       "      <td>1.6002</td>\n",
       "    </tr>\n",
       "    <tr>\n",
       "      <th>3</th>\n",
       "      <td>10</td>\n",
       "      <td>342640.1</td>\n",
       "      <td>254110.1</td>\n",
       "      <td>2.8645</td>\n",
       "    </tr>\n",
       "    <tr>\n",
       "      <th>4</th>\n",
       "      <td>10</td>\n",
       "      <td>342640.1</td>\n",
       "      <td>83020.1</td>\n",
       "      <td>0.9481</td>\n",
       "    </tr>\n",
       "  </tbody>\n",
       "</table>\n",
       "</div>"
      ],
      "text/plain": [
       "   Group    Gene 1    Gene 2      Ks\n",
       "0     10     130.1  342640.1  0.3768\n",
       "1     10     130.1  254110.1  1.5491\n",
       "2     10     130.1   83020.1  1.6002\n",
       "3     10  342640.1  254110.1  2.8645\n",
       "4     10  342640.1   83020.1  0.9481"
      ]
     },
     "execution_count": 4,
     "metadata": {},
     "output_type": "execute_result"
    }
   ],
   "source": [
    "liz.head()"
   ]
  },
  {
   "cell_type": "code",
   "execution_count": 5,
   "metadata": {
    "collapsed": false
   },
   "outputs": [
    {
     "data": {
      "text/plain": [
       "'13,033'"
      ]
     },
     "execution_count": 5,
     "metadata": {},
     "output_type": "execute_result"
    }
   ],
   "source": [
    "from itertools import chain\n",
    "def liz_rows_into_gene_list(liz):\n",
    "    wgd_genes = set(['FRAEX38873_v2_' + str(x).zfill(11) for x in chain(liz['Gene 1'], liz['Gene 2'])])\n",
    "    return wgd_genes\n",
    "wgd_genes = liz_rows_into_gene_list(liz[wgd_recent])\n",
    "pp(len(wgd_genes))"
   ]
  },
  {
   "cell_type": "code",
   "execution_count": 6,
   "metadata": {
    "collapsed": false
   },
   "outputs": [
    {
     "data": {
      "text/plain": [
       "<matplotlib.text.Text at 0x19f26320>"
      ]
     },
     "execution_count": 6,
     "metadata": {},
     "output_type": "execute_result"
    },
    {
     "data": {
      "image/png": "[encoded data removed]",
      "text/plain": [
       "<matplotlib.figure.Figure at 0x16af8e80>"
      ]
     },
     "metadata": {},
     "output_type": "display_data"
    }
   ],
   "source": [
    "%matplotlib inline\n",
    "import numpy as np\n",
    "import matplotlib.pyplot as plt\n",
    "plt.xticks(np.arange(0, 2.6, .1))\n",
    "h = liz[liz['Ks'] < 2.5]['Ks'].hist(bins=120, figsize=(10,5), facecolor='#31a354', edgecolor='#31a354')\n",
    "h.grid(False)\n",
    "# h.linewidth(0)\n",
    "h.set_xlabel('Ks')\n",
    "h.set_ylabel('# of Genes')\n",
    "h.set_title('Ks values of F. excelsior paralogs')"
   ]
  },
  {
   "cell_type": "code",
   "execution_count": 7,
   "metadata": {
    "collapsed": false
   },
   "outputs": [],
   "source": [
    "ortho_file = r\"Ash_Proteome\\Results_Jun25\\Orthogroups.csv\"\n",
    "orthogroups = {}\n",
    "excelsior_orthogroups = {}\n",
    "OG_order = []\n",
    "with open(ortho_file, newline='' ) as csvfile:\n",
    "    reader = csv.reader(csvfile, delimiter=' ')\n",
    "    for nLines, row in enumerate(reader):\n",
    "        og = row[0].replace(':','')\n",
    "        orthogroups[og] = {'genes': list(row[1:])}\n",
    "        if any([name.startswith('FRAEX') for name in orthogroups[og]['genes']]):\n",
    "            excelsior_orthogroups[og] = orthogroups[og]\n",
    "        OG_order.append(og)\n",
    "        \n",
    "gene2family = {gene: family for (family, row) in excelsior_orthogroups.items() for gene in row['genes']}"
   ]
  },
  {
   "cell_type": "code",
   "execution_count": 8,
   "metadata": {
    "collapsed": false
   },
   "outputs": [
    {
     "data": {
      "text/plain": [
       "(6105, '27.210733%')"
      ]
     },
     "execution_count": 8,
     "metadata": {},
     "output_type": "execute_result"
    }
   ],
   "source": [
    "# wgd_genes = liz_rows_into_gene_list(liz[(liz['Ks'] > .2) & (liz['Ks'] < .3)])\n",
    "wgd_by_family = set()\n",
    "for gene in wgd_genes:\n",
    "    if gene in gene2family:\n",
    "        wgd_by_family.add(gene2family[gene])\n",
    "len(wgd_by_family), pp(len(wgd_by_family) / len(excelsior_orthogroups))"
   ]
  },
  {
   "cell_type": "markdown",
   "metadata": {},
   "source": [
    "**Conculsion** Functional orthogroups is prefiltered to only have families where members of excelsior are present. This 30% result then means that 30% of the gene families where we could have detected a WGD showed evidence of a WGD. That's very consistent with other numbers I've gotten.  \n",
    "The 3% discrepancy (30-27) between FunctionsForFamilies is because of the annotation != \"NULL\" requirement, which is not included here. "
   ]
  },
  {
   "cell_type": "markdown",
   "metadata": {},
   "source": [
    "# CAFE tree approximations"
   ]
  },
  {
   "cell_type": "code",
   "execution_count": 9,
   "metadata": {
    "collapsed": true
   },
   "outputs": [],
   "source": [
    "from newick import loads\n",
    "import newick"
   ]
  },
  {
   "cell_type": "code",
   "execution_count": 10,
   "metadata": {
    "collapsed": false
   },
   "outputs": [
    {
     "data": {
      "text/plain": [
       "16191"
      ]
     },
     "execution_count": 10,
     "metadata": {},
     "output_type": "execute_result"
    }
   ],
   "source": [
    "all_trees = {}\n",
    "with open(r\"CAFE-4.2\\data\\all_species\\reports\\WGD_manual_all_species.cafe\", 'r') as csvfile:\n",
    "    lines = csvfile.readlines()[11:]\n",
    "    for nLines, row in enumerate(lines):\n",
    "        row = row.split('\\t')\n",
    "        all_trees[int(row[0])] = row[1]\n",
    "len(all_trees)"
   ]
  },
  {
   "cell_type": "code",
   "execution_count": 11,
   "metadata": {
    "collapsed": false
   },
   "outputs": [],
   "source": [
    "ordered_names = loads('((((((((((((FRAX30:2,FRAX32:2)<1>:1,FRAX28:3)<3>:2,FRAX12:5)<5>:4,(FRAX07:8,FRAX29:8)<9>:1)<7>:4,FRAX08:13)<11>:1,(((((FRAX01:2,FRAX16:2)<15>:4,FRAX15:6)<17>:2,FRAX00:8)<19>:2,(FRAX06:9,FRAX23:9)<23>:1)<21>:3,FRAX25:13)<25>:1)<13>:3,FRAX21:17)<27>:2,(((FRAX19:8,FRAX20:8)<31>:2,((FRAX11:5,FRAX27:5)<35>:4,FRAX04:9)<37>:1)<33>:1,(((((FRAX03:1,FRAX09:1)<41>:1,FRAX13:2)<43>:2,(FRAX26:2,FRAX14:2)<47>:2)<45>:3,FRAX05:7)<49>:2,FRAX33:9)<51>:2)<39>:8)<29>:15,FRAX31:34)<53>:2,Oeuropea:36)<55>:1,empty:37)<57>:42,(Slycopersicum:37,Mguttatus:37)<61>:42)<59>')[0]\n",
    "def create_ordered_nodes(verbose=False):\n",
    "    ordered_nodes = []\n",
    "    for node in ordered_names.walk(mode=\"preorder\"):\n",
    "        if verbose:\n",
    "            print(node.name, node.length)\n",
    "        ordered_nodes.append({'name': node.name, 'length':node.length, 'losses': 0, 'gains': 0, 'avg#': 0})\n",
    "    return ordered_nodes\n",
    "ordered_nodes = create_ordered_nodes()"
   ]
  },
  {
   "cell_type": "code",
   "execution_count": 12,
   "metadata": {
    "collapsed": true
   },
   "outputs": [],
   "source": [
    "def extract_count(name):\n",
    "    if isinstance(name, newick.Node):\n",
    "        name = name.name\n",
    "    return int(name.split('_')[-1])"
   ]
  },
  {
   "cell_type": "code",
   "execution_count": 13,
   "metadata": {
    "collapsed": false
   },
   "outputs": [
    {
     "data": {
      "text/plain": [
       "{'avg#': 0, 'gains': 0, 'length': 1.0, 'losses': 0, 'name': '<55>'}"
      ]
     },
     "execution_count": 13,
     "metadata": {},
     "output_type": "execute_result"
    }
   ],
   "source": [
    "ordered_nodes[2]"
   ]
  },
  {
   "cell_type": "code",
   "execution_count": 14,
   "metadata": {
    "collapsed": true
   },
   "outputs": [],
   "source": [
    "def get_count_at_root(fam_id, ordered_node_index=2):\n",
    "    newick_str = all_trees[fam_id]\n",
    "    tree = loads(newick_str)[0]\n",
    "    for index, node in enumerate(tree.walk(mode=\"preorder\")):\n",
    "        if index == ordered_node_index:\n",
    "            count = extract_count(node)\n",
    "            return count"
   ]
  },
  {
   "cell_type": "code",
   "execution_count": 15,
   "metadata": {
    "collapsed": false
   },
   "outputs": [
    {
     "data": {
      "text/html": [
       "<img src=\"all_species_node_labels_WGD_manual.png\">"
      ],
      "text/plain": [
       "<IPython.core.display.HTML object>"
      ]
     },
     "metadata": {},
     "output_type": "display_data"
    }
   ],
   "source": [
    "%%html\n",
    "<img src=\"all_species_node_labels_WGD_manual.png\">"
   ]
  },
  {
   "cell_type": "markdown",
   "metadata": {},
   "source": [
    "## Filter Families to Ones with a Duplication at Root < 55 > "
   ]
  },
  {
   "cell_type": "code",
   "execution_count": 31,
   "metadata": {
    "collapsed": false
   },
   "outputs": [],
   "source": [
    "def populate_history_histogram(study_ints):\n",
    "    ordered_nodes = create_ordered_nodes()\n",
    "    genes_lost = {node['name']:set() for node in ordered_nodes}\n",
    "    gene_gains = {node['name']:set() for node in ordered_nodes}\n",
    "    for fam_id in study_ints:\n",
    "        if fam_id not in all_trees:\n",
    "            continue\n",
    "        newick_str = all_trees[fam_id]\n",
    "        tree = loads(newick_str)[0]\n",
    "        for index, node in enumerate(tree.walk(mode=\"preorder\")):\n",
    "            count = extract_count(node)\n",
    "            tail = ''\n",
    "            ordered_nodes[index]['avg#'] += count\n",
    "            if node.ancestor:\n",
    "                parent_count = extract_count(node.ancestor.name)\n",
    "                if count < parent_count:\n",
    "                    tail = (\"loss\")\n",
    "                    ordered_nodes[index]['losses'] += 1 #parent_count - count\n",
    "                    genes_lost[ordered_nodes[index]['name']].add(fam_id)  # record gene family\n",
    "                elif count > parent_count:\n",
    "                    tail = (\"gain\")\n",
    "                    ordered_nodes[index]['gains'] += 1 #count - parent_count \n",
    "                    gene_gains[ordered_nodes[index]['name']].add(fam_id)\n",
    "#             print(node.name, count, tail)\n",
    "    for result in ordered_nodes:  # divide sum by length to get mean\n",
    "        result['avg#'] /= len(study_ints)\n",
    "    return ordered_nodes, genes_lost, gene_gains\n",
    "\n",
    "study_ints = [int(fam[2:]) for fam in excelsior_orthogroups.keys()]\n",
    "ordered_nodes, genes_lost, gene_gains = populate_history_histogram(study_ints)"
   ]
  },
  {
   "cell_type": "code",
   "execution_count": 17,
   "metadata": {
    "collapsed": false
   },
   "outputs": [
    {
     "data": {
      "text/plain": [
       "5634"
      ]
     },
     "execution_count": 17,
     "metadata": {},
     "output_type": "execute_result"
    }
   ],
   "source": [
    "len(gene_gains['<55>'])"
   ]
  },
  {
   "cell_type": "code",
   "execution_count": 33,
   "metadata": {
    "collapsed": true
   },
   "outputs": [
    {
     "data": {
      "text/plain": [
       "{'<11>': 25,\n",
       " '<13>': 29,\n",
       " '<15>': 24,\n",
       " '<17>': 49,\n",
       " '<19>': 30,\n",
       " '<1>': 36,\n",
       " '<21>': 71,\n",
       " '<23>': 10,\n",
       " '<25>': 2,\n",
       " '<27>': 0,\n",
       " '<29>': 19,\n",
       " '<31>': 31,\n",
       " '<33>': 7,\n",
       " '<35>': 43,\n",
       " '<37>': 39,\n",
       " '<39>': 24,\n",
       " '<3>': 44,\n",
       " '<41>': 17,\n",
       " '<43>': 43,\n",
       " '<45>': 72,\n",
       " '<47>': 22,\n",
       " '<49>': 83,\n",
       " '<51>': 43,\n",
       " '<53>': 0,\n",
       " '<55>': 5634,\n",
       " '<57>': 0,\n",
       " '<59>': 0,\n",
       " '<5>': 38,\n",
       " '<61>': 30,\n",
       " '<7>': 122,\n",
       " '<9>': 21,\n",
       " 'FRAX00': 510,\n",
       " 'FRAX01': 177,\n",
       " 'FRAX03': 261,\n",
       " 'FRAX04': 129,\n",
       " 'FRAX05': 325,\n",
       " 'FRAX06': 195,\n",
       " 'FRAX07': 225,\n",
       " 'FRAX08': 164,\n",
       " 'FRAX09': 574,\n",
       " 'FRAX11': 227,\n",
       " 'FRAX12': 183,\n",
       " 'FRAX13': 176,\n",
       " 'FRAX14': 123,\n",
       " 'FRAX15': 156,\n",
       " 'FRAX16': 136,\n",
       " 'FRAX19': 378,\n",
       " 'FRAX20': 165,\n",
       " 'FRAX21': 143,\n",
       " 'FRAX23': 115,\n",
       " 'FRAX25': 134,\n",
       " 'FRAX26': 214,\n",
       " 'FRAX27': 158,\n",
       " 'FRAX28': 255,\n",
       " 'FRAX29': 401,\n",
       " 'FRAX30': 184,\n",
       " 'FRAX31': 13,\n",
       " 'FRAX32': 216,\n",
       " 'FRAX33': 242,\n",
       " 'Mguttatus': 484,\n",
       " 'Oeuropea': 38,\n",
       " 'Slycopersicum': 629,\n",
       " 'empty': 0}"
      ]
     },
     "execution_count": 33,
     "metadata": {},
     "output_type": "execute_result"
    }
   ],
   "source": [
    "{key: len(val) for key, val in gene_gains.items()}"
   ]
  },
  {
   "cell_type": "code",
   "execution_count": 32,
   "metadata": {
    "collapsed": true
   },
   "outputs": [
    {
     "data": {
      "text/plain": [
       "{'<11>': 367,\n",
       " '<13>': 457,\n",
       " '<15>': 877,\n",
       " '<17>': 1263,\n",
       " '<19>': 373,\n",
       " '<1>': 716,\n",
       " '<21>': 788,\n",
       " '<23>': 42,\n",
       " '<25>': 115,\n",
       " '<27>': 278,\n",
       " '<29>': 2658,\n",
       " '<31>': 582,\n",
       " '<33>': 502,\n",
       " '<35>': 941,\n",
       " '<37>': 260,\n",
       " '<39>': 1430,\n",
       " '<3>': 467,\n",
       " '<41>': 400,\n",
       " '<43>': 353,\n",
       " '<45>': 405,\n",
       " '<47>': 1188,\n",
       " '<49>': 382,\n",
       " '<51>': 543,\n",
       " '<53>': 118,\n",
       " '<55>': 0,\n",
       " '<57>': 3047,\n",
       " '<59>': 0,\n",
       " '<5>': 966,\n",
       " '<61>': 1422,\n",
       " '<7>': 701,\n",
       " '<9>': 31,\n",
       " 'FRAX00': 1333,\n",
       " 'FRAX01': 995,\n",
       " 'FRAX03': 1870,\n",
       " 'FRAX04': 2594,\n",
       " 'FRAX05': 2280,\n",
       " 'FRAX06': 2165,\n",
       " 'FRAX07': 1995,\n",
       " 'FRAX08': 3515,\n",
       " 'FRAX09': 797,\n",
       " 'FRAX11': 897,\n",
       " 'FRAX12': 2482,\n",
       " 'FRAX13': 2111,\n",
       " 'FRAX14': 1793,\n",
       " 'FRAX15': 2361,\n",
       " 'FRAX16': 1992,\n",
       " 'FRAX19': 1642,\n",
       " 'FRAX20': 2966,\n",
       " 'FRAX21': 3929,\n",
       " 'FRAX23': 3288,\n",
       " 'FRAX25': 3962,\n",
       " 'FRAX26': 846,\n",
       " 'FRAX27': 1519,\n",
       " 'FRAX28': 1725,\n",
       " 'FRAX29': 2610,\n",
       " 'FRAX30': 1190,\n",
       " 'FRAX31': 4901,\n",
       " 'FRAX32': 1180,\n",
       " 'FRAX33': 2318,\n",
       " 'Mguttatus': 1633,\n",
       " 'Oeuropea': 3192,\n",
       " 'Slycopersicum': 1398,\n",
       " 'empty': 8029}"
      ]
     },
     "execution_count": 32,
     "metadata": {},
     "output_type": "execute_result"
    }
   ],
   "source": [
    "{key: len(val) for key, val in genes_lost.items()}"
   ]
  },
  {
   "cell_type": "markdown",
   "metadata": {},
   "source": [
    "## Combine Lizzy Ks and Node Count Criteria"
   ]
  },
  {
   "cell_type": "code",
   "execution_count": 18,
   "metadata": {
    "collapsed": true
   },
   "outputs": [],
   "source": [
    "def cafe_to_OG(cafe_id):\n",
    "    return \"OG\" + '%07d' % (cafe_id)\n",
    "assert cafe_to_OG(16622) ==\"OG0016622\""
   ]
  },
  {
   "cell_type": "code",
   "execution_count": 19,
   "metadata": {
    "collapsed": false
   },
   "outputs": [
    {
     "data": {
      "text/plain": [
       "5634"
      ]
     },
     "execution_count": 19,
     "metadata": {},
     "output_type": "execute_result"
    }
   ],
   "source": [
    "root_gains_families = set(cafe_to_OG(i) for i in gene_gains['<55>'])\n",
    "len(root_gains_families)"
   ]
  },
  {
   "cell_type": "code",
   "execution_count": 20,
   "metadata": {
    "collapsed": false
   },
   "outputs": [
    {
     "data": {
      "text/plain": [
       "274701"
      ]
     },
     "execution_count": 20,
     "metadata": {},
     "output_type": "execute_result"
    }
   ],
   "source": [
    "root_gain_genes = set()\n",
    "for family in root_gains_families:\n",
    "    root_gain_genes.update(excelsior_orthogroups[family]['genes'])\n",
    "len(root_gain_genes)"
   ]
  },
  {
   "cell_type": "code",
   "execution_count": 21,
   "metadata": {
    "collapsed": false
   },
   "outputs": [
    {
     "data": {
      "text/plain": [
       "['FRAX23_000293390.1_R0',\n",
       " 'FRAX09_000317120.1_R0',\n",
       " 'FRAX31_000188980.1_R1',\n",
       " 'Migut.C00955.1.p',\n",
       " 'FRAX07_000220020.1_R0']"
      ]
     },
     "execution_count": 21,
     "metadata": {},
     "output_type": "execute_result"
    }
   ],
   "source": [
    "list(root_gain_genes)[:5]"
   ]
  },
  {
   "cell_type": "markdown",
   "metadata": {},
   "source": [
    "{gene: family for (family, row) in excelsior_orthogroups.items() for gene in row['genes']}"
   ]
  },
  {
   "cell_type": "code",
   "execution_count": 23,
   "metadata": {
    "collapsed": false
   },
   "outputs": [
    {
     "data": {
      "text/html": [
       "<div>\n",
       "<style scoped>\n",
       "    .dataframe tbody tr th:only-of-type {\n",
       "        vertical-align: middle;\n",
       "    }\n",
       "\n",
       "    .dataframe tbody tr th {\n",
       "        vertical-align: top;\n",
       "    }\n",
       "\n",
       "    .dataframe thead th {\n",
       "        text-align: right;\n",
       "    }\n",
       "</style>\n",
       "<table border=\"1\" class=\"dataframe\">\n",
       "  <thead>\n",
       "    <tr style=\"text-align: right;\">\n",
       "      <th></th>\n",
       "      <th>Group</th>\n",
       "      <th>Gene 1</th>\n",
       "      <th>Gene 2</th>\n",
       "      <th>Ks</th>\n",
       "    </tr>\n",
       "  </thead>\n",
       "  <tbody>\n",
       "    <tr>\n",
       "      <th>0</th>\n",
       "      <td>10.0</td>\n",
       "      <td>FRAEX38873_v2_000000130.1</td>\n",
       "      <td>FRAEX38873_v2_000342640.1</td>\n",
       "      <td>0.3768</td>\n",
       "    </tr>\n",
       "    <tr>\n",
       "      <th>1</th>\n",
       "      <td>10.0</td>\n",
       "      <td>FRAEX38873_v2_000000130.1</td>\n",
       "      <td>FRAEX38873_v2_000254110.1</td>\n",
       "      <td>1.5491</td>\n",
       "    </tr>\n",
       "    <tr>\n",
       "      <th>2</th>\n",
       "      <td>10.0</td>\n",
       "      <td>FRAEX38873_v2_000000130.1</td>\n",
       "      <td>FRAEX38873_v2_000083020.1</td>\n",
       "      <td>1.6002</td>\n",
       "    </tr>\n",
       "    <tr>\n",
       "      <th>3</th>\n",
       "      <td>10.0</td>\n",
       "      <td>FRAEX38873_v2_000342640.1</td>\n",
       "      <td>FRAEX38873_v2_000254110.1</td>\n",
       "      <td>2.8645</td>\n",
       "    </tr>\n",
       "    <tr>\n",
       "      <th>4</th>\n",
       "      <td>10.0</td>\n",
       "      <td>FRAEX38873_v2_000342640.1</td>\n",
       "      <td>FRAEX38873_v2_000083020.1</td>\n",
       "      <td>0.9481</td>\n",
       "    </tr>\n",
       "  </tbody>\n",
       "</table>\n",
       "</div>"
      ],
      "text/plain": [
       "   Group                     Gene 1                     Gene 2      Ks\n",
       "0   10.0  FRAEX38873_v2_000000130.1  FRAEX38873_v2_000342640.1  0.3768\n",
       "1   10.0  FRAEX38873_v2_000000130.1  FRAEX38873_v2_000254110.1  1.5491\n",
       "2   10.0  FRAEX38873_v2_000000130.1  FRAEX38873_v2_000083020.1  1.6002\n",
       "3   10.0  FRAEX38873_v2_000342640.1  FRAEX38873_v2_000254110.1  2.8645\n",
       "4   10.0  FRAEX38873_v2_000342640.1  FRAEX38873_v2_000083020.1  0.9481"
      ]
     },
     "execution_count": 23,
     "metadata": {},
     "output_type": "execute_result"
    }
   ],
   "source": [
    "def gene_to_liz_row(gene):\n",
    "    gene = gene.replace('FRAEX38873_v2_', '')\n",
    "    ''.startswith()\n",
    "    return liz\n",
    "def liz_to_gene_name(row):\n",
    "    row['Gene 1'] = 'FRAEX38873_v2_' + str(row['Gene 1']).zfill(11)\n",
    "    row['Gene 2'] = 'FRAEX38873_v2_' + str(row['Gene 2']).zfill(11)\n",
    "    return row\n",
    "converted_liz = liz.apply(liz_to_gene_name, axis=1)\n",
    "converted_liz.head()"
   ]
  },
  {
   "cell_type": "code",
   "execution_count": 25,
   "metadata": {
    "collapsed": false
   },
   "outputs": [
    {
     "data": {
      "text/plain": [
       "5424"
      ]
     },
     "execution_count": 25,
     "metadata": {},
     "output_type": "execute_result"
    }
   ],
   "source": [
    "filtered_rows = converted_liz['Gene 1'].isin(root_gain_genes)\n",
    "sum(filtered_rows)"
   ]
  },
  {
   "cell_type": "code",
   "execution_count": 27,
   "metadata": {
    "collapsed": false
   },
   "outputs": [
    {
     "data": {
      "text/plain": [
       "4510"
      ]
     },
     "execution_count": 27,
     "metadata": {},
     "output_type": "execute_result"
    }
   ],
   "source": [
    "filtered_rows = filtered_rows & (converted_liz['Gene 2'].isin(root_gain_genes))\n",
    "sum(filtered_rows)"
   ]
  },
  {
   "cell_type": "code",
   "execution_count": 28,
   "metadata": {
    "collapsed": false
   },
   "outputs": [
    {
     "data": {
      "text/plain": [
       "<matplotlib.text.Text at 0x2629c748>"
      ]
     },
     "execution_count": 28,
     "metadata": {},
     "output_type": "execute_result"
    },
    {
     "data": {
      "image/png": "[encoded data removed]",
      "text/plain": [
       "<matplotlib.figure.Figure at 0x2a7a4390>"
      ]
     },
     "metadata": {},
     "output_type": "display_data"
    }
   ],
   "source": [
    "Ks_cap = converted_liz['Ks'] < 2.5\n",
    "filtered_Ks = converted_liz[filtered_rows & Ks_cap]['Ks']\n",
    "# pretty_hist(\"Ks of Genes Duplicated at Oleaceae Root\", filtered_Ks, \n",
    "#             x_title=\"Synonymous Substitutions (Ks)\", y_title=\"Number of Genes\", bins = 120)\n",
    "\n",
    "plt.xticks(np.arange(0, 2.6, .1))\n",
    "h = filtered_Ks.hist(bins=120, figsize=(10,5), facecolor='#31a354', edgecolor='#31a354')\n",
    "h.grid(False)\n",
    "# h.linewidth(0)\n",
    "h.set_xlabel(\"Synonymous Substitutions (Ks)\")\n",
    "h.set_ylabel('# of Genes')\n",
    "h.set_title(\"Ks of Genes Duplicated at Oleaceae Root\")"
   ]
  },
  {
   "cell_type": "markdown",
   "metadata": {},
   "source": [
    "**Conclusion** That looks the exact same as the population distribution.  Rooted copy number filtering was unsuccessful.  I need to switch datasets to a more recent simulations.  Homeologs may be necessary to make sure \"gene family\" doesn't diffuse the results too much."
   ]
  },
  {
   "cell_type": "code",
   "execution_count": 35,
   "metadata": {
    "collapsed": false
   },
   "outputs": [
    {
     "data": {
      "text/html": [
       "<img src=\"CAFE-4.2/data/Ks values of F excelsior paralogs.png\">"
      ],
      "text/plain": [
       "<IPython.core.display.HTML object>"
      ]
     },
     "metadata": {},
     "output_type": "display_data"
    }
   ],
   "source": [
    "%%html\n",
    "<img src=\"CAFE-4.2/data/Ks values of F excelsior paralogs.png\">"
   ]
  },
  {
   "cell_type": "markdown",
   "metadata": {
    "collapsed": true
   },
   "source": [
    "# Gene Tree Accounting with Duplications.csv"
   ]
  },
  {
   "cell_type": "code",
   "execution_count": 1,
   "metadata": {
    "collapsed": false
   },
   "outputs": [
    {
     "name": "stdout",
     "output_type": "stream",
     "text": [
      "['Orthogroup', 'Species Tree Node', 'Gene Tree Node', 'Support', 'Type', 'Genes 1', 'Genes 2']\n"
     ]
    }
   ],
   "source": [
    "from collections import defaultdict\n",
    "N1_counts = defaultdict(lambda: 0)\n",
    "from csv import DictReader\n",
    "\n",
    "with open(\"Ash_Proteome\\Results_Jun25\\Orthologues_Jul04_2\\Duplications.csv\",'r') as infile:\n",
    "    lines = DictReader(infile, delimiter='\\t')\n",
    "    print(lines.fieldnames)\n",
    "    for line in lines:\n",
    "        if line['Species Tree Node'] == 'N1':  # count mentions of N1\n",
    "            N1_counts[line['Orthogroup']] += 1"
   ]
  },
  {
   "cell_type": "code",
   "execution_count": 2,
   "metadata": {
    "collapsed": false
   },
   "outputs": [
    {
     "name": "stdout",
     "output_type": "stream",
     "text": [
      "1 4242\n",
      "2 2377\n",
      "3 1256\n",
      "4 680\n",
      "5 350\n",
      "6 194\n",
      "7 125\n",
      "8 85\n",
      "9 57\n",
      "All 9546\n"
     ]
    }
   ],
   "source": [
    "heights = []\n",
    "for i in range(1, 10):\n",
    "    heights.append(len([og for og, c in N1_counts.items() if c == i]))\n",
    "    print(i,       len([og for og, c in N1_counts.items() if c == i]))\n",
    "print('All', len(N1_counts))"
   ]
  },
  {
   "cell_type": "code",
   "execution_count": 6,
   "metadata": {
    "collapsed": false
   },
   "outputs": [
    {
     "data": {
      "text/plain": [
       "'89.618688%'"
      ]
     },
     "execution_count": 6,
     "metadata": {},
     "output_type": "execute_result"
    }
   ],
   "source": [
    "pp((4242+2377+1256+680)/9546)"
   ]
  },
  {
   "cell_type": "code",
   "execution_count": 7,
   "metadata": {
    "collapsed": false
   },
   "outputs": [
    {
     "data": {
      "text/plain": [
       "3.3219280948873626"
      ]
     },
     "execution_count": 7,
     "metadata": {},
     "output_type": "execute_result"
    }
   ],
   "source": [
    "from math import log\n",
    "log(10) / log(2)"
   ]
  },
  {
   "cell_type": "code",
   "execution_count": 8,
   "metadata": {
    "collapsed": false
   },
   "outputs": [
    {
     "data": {
      "text/plain": [
       "<Container object of 9 artists>"
      ]
     },
     "execution_count": 8,
     "metadata": {},
     "output_type": "execute_result"
    },
    {
     "data": {
      "image/png": "[encoded data removed]",
      "text/plain": [
       "<matplotlib.figure.Figure at 0x1701bef0>"
      ]
     },
     "metadata": {},
     "output_type": "display_data"
    }
   ],
   "source": [
    "%matplotlib inline\n",
    "import numpy as np\n",
    "import matplotlib.pyplot as plt\n",
    "\n",
    "fig, ax = plt.subplots()\n",
    "ax.bar([1,2,3,4,5,6,7,8,9], heights, width=1)"
   ]
  },
  {
   "cell_type": "code",
   "execution_count": 9,
   "metadata": {
    "collapsed": false
   },
   "outputs": [
    {
     "data": {
      "text/plain": [
       "<Container object of 9 artists>"
      ]
     },
     "execution_count": 9,
     "metadata": {},
     "output_type": "execute_result"
    },
    {
     "data": {
      "image/png": "[encoded data removed]",
      "text/plain": [
       "<matplotlib.figure.Figure at 0x197a2860>"
      ]
     },
     "metadata": {},
     "output_type": "display_data"
    }
   ],
   "source": [
    "fig, ax = plt.subplots()\n",
    "ax.bar([1,2,3,4,5,6,7,8,9], [log(h)/log(2) for h in heights], width=1)"
   ]
  },
  {
   "cell_type": "code",
   "execution_count": 10,
   "metadata": {
    "collapsed": false
   },
   "outputs": [
    {
     "name": "stdout",
     "output_type": "stream",
     "text": [
      "1.78\n",
      "1.89\n",
      "1.85\n",
      "1.94\n",
      "1.8\n",
      "1.55\n",
      "1.47\n",
      "1.49\n"
     ]
    }
   ],
   "source": [
    "for i, h in enumerate(heights):\n",
    "    if i:\n",
    "        print(round(heights[i-1] / h, 2))"
   ]
  },
  {
   "cell_type": "markdown",
   "metadata": {},
   "source": [
    "**Conclusion** That is eerily close to a perfectly straight line on the log scale.  The chance of seeing N+1 duplication events is a percentage of the previous number."
   ]
  },
  {
   "cell_type": "code",
   "execution_count": 11,
   "metadata": {
    "collapsed": false
   },
   "outputs": [
    {
     "data": {
      "text/plain": [
       "16371"
      ]
     },
     "execution_count": 11,
     "metadata": {},
     "output_type": "execute_result"
    }
   ],
   "source": [
    "internal_mentions = defaultdict(lambda: 0)\n",
    "with open(\"Ash_Proteome\\Results_Jun25\\Orthologues_Jul04_2\\Duplications.csv\",'r') as infile:\n",
    "    lines = DictReader(infile, delimiter='\\t')\n",
    "    for line in lines:\n",
    "        if line['Species Tree Node'].startswith('N'):  # count mentions of anything not a species\n",
    "            internal_mentions[line['Orthogroup']] += 1\n",
    "\n",
    "len(internal_mentions)"
   ]
  },
  {
   "cell_type": "code",
   "execution_count": 12,
   "metadata": {
    "collapsed": false
   },
   "outputs": [
    {
     "data": {
      "text/plain": [
       "19118"
      ]
     },
     "execution_count": 12,
     "metadata": {},
     "output_type": "execute_result"
    }
   ],
   "source": [
    "OG_names = set()\n",
    "with open(\"Ash_Proteome\\Results_Jun25\\Orthologues_Jul04_2\\Duplications.csv\",'r') as infile:\n",
    "    lines = DictReader(infile, delimiter='\\t')\n",
    "    for line in lines:\n",
    "        OG_names.add(line['Orthogroup'])\n",
    "len(OG_names)"
   ]
  },
  {
   "cell_type": "markdown",
   "metadata": {},
   "source": [
    "**Conclusion** 85% of OGs with a duplication have an internal duplication.  49.9% of them mention N1.  22% have one duplication there, 2377+4242 = 34% of them have 1 or 2 duplications at N1.  There's still twice as many with 1 than 2.  I would need Jasmine to separate the two categories.  "
   ]
  },
  {
   "cell_type": "markdown",
   "metadata": {},
   "source": [
    "# Separate out Study Homeologs into pairs of trees"
   ]
  },
  {
   "cell_type": "code",
   "execution_count": 15,
   "metadata": {
    "collapsed": false
   },
   "outputs": [
    {
     "data": {
      "text/plain": [
       "(4242, ['OG0014632', 'OG0004853', 'OG0009334', 'OG0010848', 'OG0001764'])"
      ]
     },
     "execution_count": 15,
     "metadata": {},
     "output_type": "execute_result"
    }
   ],
   "source": [
    "study_homeologs = [og for og, c in N1_counts.items() if c == 1]\n",
    "len(study_homeologs), study_homeologs[:5]"
   ]
  },
  {
   "cell_type": "code",
   "execution_count": 19,
   "metadata": {
    "collapsed": false
   },
   "outputs": [],
   "source": [
    "rows = read_csv(\"Ash_Proteome\\Results_Jun25\\Orthologues_Jul04_2\\Duplications.csv\", delimiter='\\t')"
   ]
  },
  {
   "cell_type": "code",
   "execution_count": 30,
   "metadata": {
    "collapsed": false
   },
   "outputs": [
    {
     "name": "stdout",
     "output_type": "stream",
     "text": [
      "22943\n"
     ]
    },
    {
     "data": {
      "text/html": [
       "<div>\n",
       "<style scoped>\n",
       "    .dataframe tbody tr th:only-of-type {\n",
       "        vertical-align: middle;\n",
       "    }\n",
       "\n",
       "    .dataframe tbody tr th {\n",
       "        vertical-align: top;\n",
       "    }\n",
       "\n",
       "    .dataframe thead th {\n",
       "        text-align: right;\n",
       "    }\n",
       "</style>\n",
       "<table border=\"1\" class=\"dataframe\">\n",
       "  <thead>\n",
       "    <tr style=\"text-align: right;\">\n",
       "      <th></th>\n",
       "      <th>Orthogroup</th>\n",
       "      <th>Species Tree Node</th>\n",
       "      <th>Gene Tree Node</th>\n",
       "      <th>Support</th>\n",
       "      <th>Type</th>\n",
       "      <th>Genes 1</th>\n",
       "      <th>Genes 2</th>\n",
       "    </tr>\n",
       "  </thead>\n",
       "  <tbody>\n",
       "    <tr>\n",
       "      <th>31103</th>\n",
       "      <td>OG0001764</td>\n",
       "      <td>N1</td>\n",
       "      <td>n63</td>\n",
       "      <td>0.032258</td>\n",
       "      <td>Shared</td>\n",
       "      <td>Oeuropea_OE6A044264P2</td>\n",
       "      <td>FRAX16_FRAX16_000371250.1_R0, FRAX01_FRAX01_00...</td>\n",
       "    </tr>\n",
       "    <tr>\n",
       "      <th>43210</th>\n",
       "      <td>OG0003222</td>\n",
       "      <td>N1</td>\n",
       "      <td>n2</td>\n",
       "      <td>0.709677</td>\n",
       "      <td>Shared</td>\n",
       "      <td>Oeuropea_OE6A100108P2, FRAX08_FRAX08_000281330...</td>\n",
       "      <td>FRAX09_FRAX09_000383080.1_R0, FRAX03_FRAX03_00...</td>\n",
       "    </tr>\n",
       "    <tr>\n",
       "      <th>50420</th>\n",
       "      <td>OG0004227</td>\n",
       "      <td>N1</td>\n",
       "      <td>n2</td>\n",
       "      <td>1.000000</td>\n",
       "      <td>Shared</td>\n",
       "      <td>FRAX34_FRAX34_000332170.1_R0, FRAX33_FRAX33_00...</td>\n",
       "      <td>Oeuropea_OE6A098656P1, FRAX31_FRAX31_000294490...</td>\n",
       "    </tr>\n",
       "    <tr>\n",
       "      <th>53763</th>\n",
       "      <td>OG0004853</td>\n",
       "      <td>N1</td>\n",
       "      <td>n1</td>\n",
       "      <td>0.967742</td>\n",
       "      <td>Shared</td>\n",
       "      <td>FRAX29_FRAX29_000072950.2_R0, FRAX08_FRAX08_00...</td>\n",
       "      <td>FRAX02_FRAX02_000072950.1_R0, FRAX00_FRAEX3887...</td>\n",
       "    </tr>\n",
       "    <tr>\n",
       "      <th>60714</th>\n",
       "      <td>OG0006573</td>\n",
       "      <td>N1</td>\n",
       "      <td>n2</td>\n",
       "      <td>0.838710</td>\n",
       "      <td>Shared</td>\n",
       "      <td>FRAX31_FRAX31_000064730.1_R1, FRAX21_FRAX21_00...</td>\n",
       "      <td>FRAX13_FRAX13_000284330.1_R0, FRAX05_FRAX05_00...</td>\n",
       "    </tr>\n",
       "    <tr>\n",
       "      <th>69067</th>\n",
       "      <td>OG0008631</td>\n",
       "      <td>N1</td>\n",
       "      <td>n2</td>\n",
       "      <td>0.645161</td>\n",
       "      <td>Shared</td>\n",
       "      <td>FRAX25_FRAX25_000204080.1_R0, FRAX29_FRAX29_00...</td>\n",
       "      <td>Oeuropea_OE6A010090P1, FRAX14_FRAX14_000219010...</td>\n",
       "    </tr>\n",
       "    <tr>\n",
       "      <th>72086</th>\n",
       "      <td>OG0009334</td>\n",
       "      <td>N1</td>\n",
       "      <td>n2</td>\n",
       "      <td>0.516129</td>\n",
       "      <td>Shared</td>\n",
       "      <td>FRAX14_FRAX14_000156740.1_R1, FRAX34_FRAX34_00...</td>\n",
       "      <td>Oeuropea_OE6A062116P1, Oeuropea_OE6A017651P1, ...</td>\n",
       "    </tr>\n",
       "    <tr>\n",
       "      <th>78591</th>\n",
       "      <td>OG0010848</td>\n",
       "      <td>N1</td>\n",
       "      <td>n2</td>\n",
       "      <td>0.258065</td>\n",
       "      <td>Shared</td>\n",
       "      <td>FRAX00_FRAEX38873_v2_000328180.1, FRAX16_FRAX1...</td>\n",
       "      <td>Oeuropea_OE6A092972P2, FRAX33_FRAX33_000343560...</td>\n",
       "    </tr>\n",
       "    <tr>\n",
       "      <th>87689</th>\n",
       "      <td>OG0014632</td>\n",
       "      <td>N1</td>\n",
       "      <td>n15</td>\n",
       "      <td>0.032258</td>\n",
       "      <td>Shared</td>\n",
       "      <td>Oeuropea_OE6A055992P1</td>\n",
       "      <td>FRAX32_FRAX32_000262350.1_R0, FRAX30_FRAX30_00...</td>\n",
       "    </tr>\n",
       "    <tr>\n",
       "      <th>90145</th>\n",
       "      <td>OG0017034</td>\n",
       "      <td>N1</td>\n",
       "      <td>n0</td>\n",
       "      <td>0.225806</td>\n",
       "      <td>Shared</td>\n",
       "      <td>FRAX21_FRAX21_000383580.1_R1, FRAX16_FRAX16_00...</td>\n",
       "      <td>FRAX15_FRAX15_000383580.1_R0, FRAX01_FRAX01_00...</td>\n",
       "    </tr>\n",
       "  </tbody>\n",
       "</table>\n",
       "</div>"
      ],
      "text/plain": [
       "      Orthogroup Species Tree Node Gene Tree Node   Support    Type  \\\n",
       "31103  OG0001764                N1            n63  0.032258  Shared   \n",
       "43210  OG0003222                N1             n2  0.709677  Shared   \n",
       "50420  OG0004227                N1             n2  1.000000  Shared   \n",
       "53763  OG0004853                N1             n1  0.967742  Shared   \n",
       "60714  OG0006573                N1             n2  0.838710  Shared   \n",
       "69067  OG0008631                N1             n2  0.645161  Shared   \n",
       "72086  OG0009334                N1             n2  0.516129  Shared   \n",
       "78591  OG0010848                N1             n2  0.258065  Shared   \n",
       "87689  OG0014632                N1            n15  0.032258  Shared   \n",
       "90145  OG0017034                N1             n0  0.225806  Shared   \n",
       "\n",
       "                                                 Genes 1  \\\n",
       "31103                              Oeuropea_OE6A044264P2   \n",
       "43210  Oeuropea_OE6A100108P2, FRAX08_FRAX08_000281330...   \n",
       "50420  FRAX34_FRAX34_000332170.1_R0, FRAX33_FRAX33_00...   \n",
       "53763  FRAX29_FRAX29_000072950.2_R0, FRAX08_FRAX08_00...   \n",
       "60714  FRAX31_FRAX31_000064730.1_R1, FRAX21_FRAX21_00...   \n",
       "69067  FRAX25_FRAX25_000204080.1_R0, FRAX29_FRAX29_00...   \n",
       "72086  FRAX14_FRAX14_000156740.1_R1, FRAX34_FRAX34_00...   \n",
       "78591  FRAX00_FRAEX38873_v2_000328180.1, FRAX16_FRAX1...   \n",
       "87689                              Oeuropea_OE6A055992P1   \n",
       "90145  FRAX21_FRAX21_000383580.1_R1, FRAX16_FRAX16_00...   \n",
       "\n",
       "                                                 Genes 2  \n",
       "31103  FRAX16_FRAX16_000371250.1_R0, FRAX01_FRAX01_00...  \n",
       "43210  FRAX09_FRAX09_000383080.1_R0, FRAX03_FRAX03_00...  \n",
       "50420  Oeuropea_OE6A098656P1, FRAX31_FRAX31_000294490...  \n",
       "53763  FRAX02_FRAX02_000072950.1_R0, FRAX00_FRAEX3887...  \n",
       "60714  FRAX13_FRAX13_000284330.1_R0, FRAX05_FRAX05_00...  \n",
       "69067  Oeuropea_OE6A010090P1, FRAX14_FRAX14_000219010...  \n",
       "72086  Oeuropea_OE6A062116P1, Oeuropea_OE6A017651P1, ...  \n",
       "78591  Oeuropea_OE6A092972P2, FRAX33_FRAX33_000343560...  \n",
       "87689  FRAX32_FRAX32_000262350.1_R0, FRAX30_FRAX30_00...  \n",
       "90145  FRAX15_FRAX15_000383580.1_R0, FRAX01_FRAX01_00...  "
      ]
     },
     "execution_count": 30,
     "metadata": {},
     "output_type": "execute_result"
    }
   ],
   "source": [
    "print(sum(rows['Species Tree Node'] == 'N1'))\n",
    "rows[rows['Orthogroup'].isin(study_homeologs[:10]) & (rows['Species Tree Node'] == 'N1')]"
   ]
  },
  {
   "cell_type": "code",
   "execution_count": 79,
   "metadata": {
    "collapsed": false
   },
   "outputs": [
    {
     "data": {
      "text/html": [
       "<div>\n",
       "<style scoped>\n",
       "    .dataframe tbody tr th:only-of-type {\n",
       "        vertical-align: middle;\n",
       "    }\n",
       "\n",
       "    .dataframe tbody tr th {\n",
       "        vertical-align: top;\n",
       "    }\n",
       "\n",
       "    .dataframe thead th {\n",
       "        text-align: right;\n",
       "    }\n",
       "</style>\n",
       "<table border=\"1\" class=\"dataframe\">\n",
       "  <thead>\n",
       "    <tr style=\"text-align: right;\">\n",
       "      <th></th>\n",
       "      <th>Orthogroup</th>\n",
       "      <th>Species Tree Node</th>\n",
       "      <th>Gene Tree Node</th>\n",
       "      <th>Support</th>\n",
       "      <th>Type</th>\n",
       "      <th>Genes 1</th>\n",
       "      <th>Genes 2</th>\n",
       "    </tr>\n",
       "  </thead>\n",
       "  <tbody>\n",
       "    <tr>\n",
       "      <th>9512</th>\n",
       "      <td>OG0000212</td>\n",
       "      <td>N1</td>\n",
       "      <td>n102</td>\n",
       "      <td>0.16129</td>\n",
       "      <td>Shared</td>\n",
       "      <td>Oeuropea_OE6A042692P1, FRAX09_FRAX09_000167460...</td>\n",
       "      <td>FRAX31_FRAX31_000167460.1_R1, FRAX19_FRAX19_00...</td>\n",
       "    </tr>\n",
       "  </tbody>\n",
       "</table>\n",
       "</div>"
      ],
      "text/plain": [
       "     Orthogroup Species Tree Node Gene Tree Node  Support    Type  \\\n",
       "9512  OG0000212                N1           n102  0.16129  Shared   \n",
       "\n",
       "                                                Genes 1  \\\n",
       "9512  Oeuropea_OE6A042692P1, FRAX09_FRAX09_000167460...   \n",
       "\n",
       "                                                Genes 2  \n",
       "9512  FRAX31_FRAX31_000167460.1_R1, FRAX19_FRAX19_00...  "
      ]
     },
     "execution_count": 79,
     "metadata": {},
     "output_type": "execute_result"
    }
   ],
   "source": [
    "sample = ['OG0000212']#['OG0000013', 'OG0000057', 'OG0000069', 'OG0000138', 'OG0000193', 'OG0000212',]\n",
    "(rows[(rows['Orthogroup'].isin(sample)) & (rows['Species Tree Node'] == 'N1')])#['Genes 1'])"
   ]
  },
  {
   "cell_type": "code",
   "execution_count": 86,
   "metadata": {
    "collapsed": false
   },
   "outputs": [
    {
     "data": {
      "text/plain": [
       "56"
      ]
     },
     "execution_count": 86,
     "metadata": {},
     "output_type": "execute_result"
    }
   ],
   "source": [
    "len(rows.loc[9512]['Genes 1'].split(', '))"
   ]
  },
  {
   "cell_type": "markdown",
   "metadata": {},
   "source": [
    "*Ash_Proteome\\Results_Jun25\\Orthologues_Jul04_2\\Recon_Gene_Trees\\212_count_scrap.tre*  \n",
    "A vs B subtrees after a duplication are defined in the \"Genes 1\" and \"Genes 2\" columns of Duplications.csv. The \"Gene Tree Node\" seems nonsensical, but the number and names of listed genes correspond to actual subtrees."
   ]
  },
  {
   "cell_type": "code",
   "execution_count": 55,
   "metadata": {
    "collapsed": false
   },
   "outputs": [
    {
     "data": {
      "text/plain": [
       "904"
      ]
     },
     "execution_count": 55,
     "metadata": {},
     "output_type": "execute_result"
    }
   ],
   "source": [
    "super_simple = [og for og in study_homeologs if sum(rows['Orthogroup']==og) == 1]\n",
    "len(super_simple)"
   ]
  },
  {
   "cell_type": "code",
   "execution_count": 45,
   "metadata": {
    "collapsed": false
   },
   "outputs": [],
   "source": [
    "from shutil import copy\n",
    "import os\n",
    "from os.path import splitext, basename\n",
    "os.chdir(r'D:\\josiah\\Documents\\Research\\Thesis - Genome Symmetry\\DNA_Duplications\\Ash_Proteome\\Results_Jun25\\Orthologues_Jul04_2')\n",
    "\n",
    "## Rename every text file to a .tre file\n",
    "from glob import glob\n",
    "for f in glob('Gene_Trees/*.txt'):\n",
    "    os.rename(f, 'Gene_trees/'+splitext(basename(f))[0]+'.tre')\n",
    "    \n",
    "for f in glob('Recon_Gene_Trees/*.txt'):\n",
    "    os.rename(f, 'Recon_Gene_trees/'+splitext(basename(f))[0]+'.tre')"
   ]
  },
  {
   "cell_type": "markdown",
   "metadata": {},
   "source": [
    "## Splitting into pairs of sets of genes following the WGD"
   ]
  },
  {
   "cell_type": "code",
   "execution_count": 105,
   "metadata": {
    "collapsed": false
   },
   "outputs": [],
   "source": [
    "#This code can run independently of the rest of the notebook\n",
    "from collections import defaultdict\n",
    "from pandas import read_csv\n",
    "N1_counts = defaultdict(lambda: 0)\n",
    "os.chdir(r'D:\\josiah\\Documents\\Research\\Thesis - Genome Symmetry\\DNA_Duplications')\n",
    "rows = read_csv(\"Ash_Proteome\\Results_Jun25\\Orthologues_Jul04_2\\Duplications.csv\", delimiter='\\t')\n",
    "for index, line in rows[rows['Species Tree Node'] == 'N1'].iterrows():\n",
    "    og = line['Orthogroup']\n",
    "    N1_counts[og] += 1\n",
    "study_homeologs = [og for og, c in N1_counts.items() if c == 1]"
   ]
  },
  {
   "cell_type": "code",
   "execution_count": 107,
   "metadata": {
    "collapsed": false
   },
   "outputs": [
    {
     "name": "stdout",
     "output_type": "stream",
     "text": [
      "4242\n"
     ]
    },
    {
     "data": {
      "text/plain": [
       "4242"
      ]
     },
     "execution_count": 107,
     "metadata": {},
     "output_type": "execute_result"
    }
   ],
   "source": [
    "print(len(study_homeologs))\n",
    "study_rows = rows[rows['Orthogroup'].isin(study_homeologs) & (rows['Species Tree Node'] == 'N1')]\n",
    "len(study_rows)"
   ]
  },
  {
   "cell_type": "code",
   "execution_count": 108,
   "metadata": {
    "collapsed": false
   },
   "outputs": [
    {
     "data": {
      "text/plain": [
       "8484"
      ]
     },
     "execution_count": 108,
     "metadata": {},
     "output_type": "execute_result"
    }
   ],
   "source": [
    "split_families = {}  # could be output as files\n",
    "for index, row in study_rows.iterrows():\n",
    "    og = row['Orthogroup']\n",
    "    split_families[og + '_1'] = row['Genes 1'].split(', ')\n",
    "    split_families[og + '_2'] = row['Genes 2'].split(', ')\n",
    "len(split_families)"
   ]
  },
  {
   "cell_type": "code",
   "execution_count": 114,
   "metadata": {
    "collapsed": false
   },
   "outputs": [
    {
     "name": "stdout",
     "output_type": "stream",
     "text": [
      "207,864 Total Genes included in the study, separated over 8,484 gene families\n"
     ]
    }
   ],
   "source": [
    "print(pp(sum([len(v) for v in split_families.values()])), \"Total Genes included in the study, separated over\", pp(len(split_families)), \"gene families\")"
   ]
  },
  {
   "cell_type": "markdown",
   "metadata": {},
   "source": [
    "### *Todo: Convert split_families to a square table of gene counts per species*"
   ]
  },
  {
   "cell_type": "code",
   "execution_count": 115,
   "metadata": {
    "collapsed": false
   },
   "outputs": [
    {
     "data": {
      "text/plain": [
       "8484"
      ]
     },
     "execution_count": 115,
     "metadata": {},
     "output_type": "execute_result"
    }
   ],
   "source": [
    "len(split_families)"
   ]
  },
  {
   "cell_type": "markdown",
   "metadata": {},
   "source": [
    "Peel off first part of gene name for species count"
   ]
  },
  {
   "cell_type": "code",
   "execution_count": 120,
   "metadata": {
    "collapsed": false
   },
   "outputs": [
    {
     "data": {
      "text/plain": [
       "207864"
      ]
     },
     "execution_count": 120,
     "metadata": {},
     "output_type": "execute_result"
    }
   ],
   "source": [
    "gene_set = set()\n",
    "gene_set.update(*(v for v in split_families.values()))\n",
    "len(gene_set)"
   ]
  },
  {
   "cell_type": "code",
   "execution_count": 121,
   "metadata": {
    "collapsed": false
   },
   "outputs": [
    {
     "data": {
      "text/plain": [
       "{'FRAX00',\n",
       " 'FRAX01',\n",
       " 'FRAX02',\n",
       " 'FRAX03',\n",
       " 'FRAX04',\n",
       " 'FRAX05',\n",
       " 'FRAX06',\n",
       " 'FRAX07',\n",
       " 'FRAX08',\n",
       " 'FRAX09',\n",
       " 'FRAX11',\n",
       " 'FRAX12',\n",
       " 'FRAX13',\n",
       " 'FRAX14',\n",
       " 'FRAX15',\n",
       " 'FRAX16',\n",
       " 'FRAX19',\n",
       " 'FRAX20',\n",
       " 'FRAX21',\n",
       " 'FRAX23',\n",
       " 'FRAX25',\n",
       " 'FRAX26',\n",
       " 'FRAX27',\n",
       " 'FRAX28',\n",
       " 'FRAX29',\n",
       " 'FRAX30',\n",
       " 'FRAX31',\n",
       " 'FRAX32',\n",
       " 'FRAX33',\n",
       " 'FRAX34',\n",
       " 'Oeuropea'}"
      ]
     },
     "execution_count": 121,
     "metadata": {},
     "output_type": "execute_result"
    }
   ],
   "source": [
    "unique_starts = set()\n",
    "for gene in gene_set:\n",
    "    unique_starts.add(gene.split('_')[0])\n",
    "unique_starts"
   ]
  },
  {
   "cell_type": "code",
   "execution_count": 122,
   "metadata": {
    "collapsed": false
   },
   "outputs": [
    {
     "data": {
      "text/plain": [
       "[]"
      ]
     },
     "execution_count": 122,
     "metadata": {},
     "output_type": "execute_result"
    }
   ],
   "source": [
    "[gene for gene in gene_set if not gene.startswith('FRAX') and not gene.startswith('Oeuropea')]"
   ]
  },
  {
   "cell_type": "markdown",
   "metadata": {},
   "source": [
    "**Conclusion:** There are no Solanum or Erythranthe genes in these subtrees.  That was probably an implicit criteria of their selection.  Is this a problem?  Since I'm retaining the original OG names, we can always cross reference the included subtrees and the excluded subtrees (which would contain Solanum and Erythranthe)."
   ]
  },
  {
   "cell_type": "markdown",
   "metadata": {},
   "source": [
    "*TODO: Pull OG out of Orthogroups.csv and remove the genes listed in \"Genes 1\" and \"Genes 2\" (also in gene_set) and save this as OG#####_out.*"
   ]
  },
  {
   "cell_type": "code",
   "execution_count": 143,
   "metadata": {
    "collapsed": false,
    "scrolled": true
   },
   "outputs": [
    {
     "data": {
      "text/plain": [
       "defaultdict(<function __main__.species_count_from_subtree.<locals>.<lambda>>,\n",
       "            {'FRAX00': 2,\n",
       "             'FRAX01': 2,\n",
       "             'FRAX02': 4,\n",
       "             'FRAX03': 1,\n",
       "             'FRAX04': 2,\n",
       "             'FRAX06': 2,\n",
       "             'FRAX07': 1,\n",
       "             'FRAX08': 3,\n",
       "             'FRAX09': 1,\n",
       "             'FRAX11': 1,\n",
       "             'FRAX12': 3,\n",
       "             'FRAX13': 1,\n",
       "             'FRAX14': 2,\n",
       "             'FRAX15': 2,\n",
       "             'FRAX16': 1,\n",
       "             'FRAX19': 1,\n",
       "             'FRAX20': 3,\n",
       "             'FRAX21': 1,\n",
       "             'FRAX23': 1,\n",
       "             'FRAX25': 1,\n",
       "             'FRAX26': 3,\n",
       "             'FRAX27': 2,\n",
       "             'FRAX28': 1,\n",
       "             'FRAX29': 4,\n",
       "             'FRAX30': 4,\n",
       "             'FRAX31': 2,\n",
       "             'FRAX32': 2,\n",
       "             'FRAX33': 2,\n",
       "             'Oeuropea': 1})"
      ]
     },
     "execution_count": 143,
     "metadata": {},
     "output_type": "execute_result"
    }
   ],
   "source": [
    "def species_count_from_subtree(subtree):\n",
    "    assert hasattr(subtree, '__iter__')\n",
    "    sub_counts = defaultdict(lambda: 0)\n",
    "    for gene in subtree:\n",
    "        sub_counts[gene.split('_')[0]] += 1\n",
    "    assert sum(sub_counts.values()) == len(subtree)\n",
    "    return sub_counts\n",
    "species_count_from_subtree(split_families['OG0000212_1'])"
   ]
  },
  {
   "cell_type": "code",
   "execution_count": 175,
   "metadata": {
    "collapsed": true
   },
   "outputs": [],
   "source": [
    "from pandas import DataFrame, Series\n",
    "data = {}\n",
    "for name, subfamily in split_families.items():\n",
    "    sub_counts = species_count_from_subtree(subfamily)\n",
    "    data[name] = sub_counts\n",
    "df = DataFrame.from_dict(data, orient='index', )#columns=sorted(unique_starts) )"
   ]
  },
  {
   "cell_type": "code",
   "execution_count": 176,
   "metadata": {
    "collapsed": false
   },
   "outputs": [
    {
     "data": {
      "text/html": [
       "<div>\n",
       "<style scoped>\n",
       "    .dataframe tbody tr th:only-of-type {\n",
       "        vertical-align: middle;\n",
       "    }\n",
       "\n",
       "    .dataframe tbody tr th {\n",
       "        vertical-align: top;\n",
       "    }\n",
       "\n",
       "    .dataframe thead th {\n",
       "        text-align: right;\n",
       "    }\n",
       "</style>\n",
       "<table border=\"1\" class=\"dataframe\">\n",
       "  <thead>\n",
       "    <tr style=\"text-align: right;\">\n",
       "      <th></th>\n",
       "      <th>Family ID</th>\n",
       "      <th>FRAX00</th>\n",
       "      <th>FRAX01</th>\n",
       "      <th>FRAX02</th>\n",
       "      <th>FRAX03</th>\n",
       "      <th>FRAX04</th>\n",
       "      <th>FRAX05</th>\n",
       "      <th>FRAX06</th>\n",
       "      <th>FRAX07</th>\n",
       "      <th>FRAX08</th>\n",
       "      <th>...</th>\n",
       "      <th>FRAX26</th>\n",
       "      <th>FRAX27</th>\n",
       "      <th>FRAX28</th>\n",
       "      <th>FRAX29</th>\n",
       "      <th>FRAX30</th>\n",
       "      <th>FRAX31</th>\n",
       "      <th>FRAX32</th>\n",
       "      <th>FRAX33</th>\n",
       "      <th>FRAX34</th>\n",
       "      <th>Oeuropea</th>\n",
       "    </tr>\n",
       "    <tr>\n",
       "      <th>Desc</th>\n",
       "      <th></th>\n",
       "      <th></th>\n",
       "      <th></th>\n",
       "      <th></th>\n",
       "      <th></th>\n",
       "      <th></th>\n",
       "      <th></th>\n",
       "      <th></th>\n",
       "      <th></th>\n",
       "      <th></th>\n",
       "      <th></th>\n",
       "      <th></th>\n",
       "      <th></th>\n",
       "      <th></th>\n",
       "      <th></th>\n",
       "      <th></th>\n",
       "      <th></th>\n",
       "      <th></th>\n",
       "      <th></th>\n",
       "      <th></th>\n",
       "      <th></th>\n",
       "    </tr>\n",
       "  </thead>\n",
       "  <tbody>\n",
       "    <tr>\n",
       "      <th>OG0000013_1</th>\n",
       "      <td>10000013</td>\n",
       "      <td>1</td>\n",
       "      <td>1</td>\n",
       "      <td>0</td>\n",
       "      <td>1</td>\n",
       "      <td>1</td>\n",
       "      <td>1</td>\n",
       "      <td>2</td>\n",
       "      <td>2</td>\n",
       "      <td>1</td>\n",
       "      <td>...</td>\n",
       "      <td>0</td>\n",
       "      <td>1</td>\n",
       "      <td>1</td>\n",
       "      <td>2</td>\n",
       "      <td>2</td>\n",
       "      <td>1</td>\n",
       "      <td>1</td>\n",
       "      <td>2</td>\n",
       "      <td>1</td>\n",
       "      <td>1</td>\n",
       "    </tr>\n",
       "    <tr>\n",
       "      <th>OG0000013_2</th>\n",
       "      <td>20000013</td>\n",
       "      <td>3</td>\n",
       "      <td>3</td>\n",
       "      <td>1</td>\n",
       "      <td>1</td>\n",
       "      <td>1</td>\n",
       "      <td>2</td>\n",
       "      <td>2</td>\n",
       "      <td>1</td>\n",
       "      <td>1</td>\n",
       "      <td>...</td>\n",
       "      <td>2</td>\n",
       "      <td>1</td>\n",
       "      <td>1</td>\n",
       "      <td>1</td>\n",
       "      <td>1</td>\n",
       "      <td>2</td>\n",
       "      <td>1</td>\n",
       "      <td>1</td>\n",
       "      <td>1</td>\n",
       "      <td>0</td>\n",
       "    </tr>\n",
       "    <tr>\n",
       "      <th>OG0000057_1</th>\n",
       "      <td>10000057</td>\n",
       "      <td>1</td>\n",
       "      <td>1</td>\n",
       "      <td>0</td>\n",
       "      <td>0</td>\n",
       "      <td>0</td>\n",
       "      <td>0</td>\n",
       "      <td>1</td>\n",
       "      <td>0</td>\n",
       "      <td>1</td>\n",
       "      <td>...</td>\n",
       "      <td>1</td>\n",
       "      <td>1</td>\n",
       "      <td>0</td>\n",
       "      <td>1</td>\n",
       "      <td>0</td>\n",
       "      <td>0</td>\n",
       "      <td>1</td>\n",
       "      <td>1</td>\n",
       "      <td>0</td>\n",
       "      <td>1</td>\n",
       "    </tr>\n",
       "    <tr>\n",
       "      <th>OG0000057_2</th>\n",
       "      <td>20000057</td>\n",
       "      <td>2</td>\n",
       "      <td>11</td>\n",
       "      <td>16</td>\n",
       "      <td>8</td>\n",
       "      <td>8</td>\n",
       "      <td>10</td>\n",
       "      <td>6</td>\n",
       "      <td>9</td>\n",
       "      <td>8</td>\n",
       "      <td>...</td>\n",
       "      <td>6</td>\n",
       "      <td>9</td>\n",
       "      <td>12</td>\n",
       "      <td>10</td>\n",
       "      <td>10</td>\n",
       "      <td>1</td>\n",
       "      <td>11</td>\n",
       "      <td>6</td>\n",
       "      <td>12</td>\n",
       "      <td>0</td>\n",
       "    </tr>\n",
       "    <tr>\n",
       "      <th>OG0000069_1</th>\n",
       "      <td>10000069</td>\n",
       "      <td>2</td>\n",
       "      <td>6</td>\n",
       "      <td>7</td>\n",
       "      <td>9</td>\n",
       "      <td>8</td>\n",
       "      <td>9</td>\n",
       "      <td>6</td>\n",
       "      <td>10</td>\n",
       "      <td>8</td>\n",
       "      <td>...</td>\n",
       "      <td>8</td>\n",
       "      <td>9</td>\n",
       "      <td>9</td>\n",
       "      <td>8</td>\n",
       "      <td>11</td>\n",
       "      <td>9</td>\n",
       "      <td>8</td>\n",
       "      <td>9</td>\n",
       "      <td>6</td>\n",
       "      <td>1</td>\n",
       "    </tr>\n",
       "  </tbody>\n",
       "</table>\n",
       "<p>5 rows × 32 columns</p>\n",
       "</div>"
      ],
      "text/plain": [
       "            Family ID  FRAX00  FRAX01  FRAX02  FRAX03  FRAX04  FRAX05  FRAX06  \\\n",
       "Desc                                                                            \n",
       "OG0000013_1  10000013       1       1       0       1       1       1       2   \n",
       "OG0000013_2  20000013       3       3       1       1       1       2       2   \n",
       "OG0000057_1  10000057       1       1       0       0       0       0       1   \n",
       "OG0000057_2  20000057       2      11      16       8       8      10       6   \n",
       "OG0000069_1  10000069       2       6       7       9       8       9       6   \n",
       "\n",
       "             FRAX07  FRAX08    ...     FRAX26  FRAX27  FRAX28  FRAX29  FRAX30  \\\n",
       "Desc                           ...                                              \n",
       "OG0000013_1       2       1    ...          0       1       1       2       2   \n",
       "OG0000013_2       1       1    ...          2       1       1       1       1   \n",
       "OG0000057_1       0       1    ...          1       1       0       1       0   \n",
       "OG0000057_2       9       8    ...          6       9      12      10      10   \n",
       "OG0000069_1      10       8    ...          8       9       9       8      11   \n",
       "\n",
       "             FRAX31  FRAX32  FRAX33  FRAX34  Oeuropea  \n",
       "Desc                                                   \n",
       "OG0000013_1       1       1       2       1         1  \n",
       "OG0000013_2       2       1       1       1         0  \n",
       "OG0000057_1       0       1       1       0         1  \n",
       "OG0000057_2       1      11       6      12         0  \n",
       "OG0000069_1       9       8       9       6         1  \n",
       "\n",
       "[5 rows x 32 columns]"
      ]
     },
     "execution_count": 176,
     "metadata": {},
     "output_type": "execute_result"
    }
   ],
   "source": [
    "# Formatting the table\n",
    "df.fillna(value=0, inplace=True)\n",
    "df = df.astype(int)\n",
    "\n",
    "df.index.name = 'Desc'\n",
    "df['Family ID'] = df.apply(lambda row: str(row.name)[-1:] + str(row.name)[2:-2], axis=1) # e.g. OG0000212_1 => 10000212\n",
    "column_order = ['Family ID'] + sorted(unique_starts)\n",
    "df = df[column_order]\n",
    "df.head()"
   ]
  },
  {
   "cell_type": "code",
   "execution_count": 177,
   "metadata": {
    "collapsed": false
   },
   "outputs": [],
   "source": [
    "df.to_csv(r'CAFE-4.2\\data\\homeologs_only\\homeolog_counts.txt', sep='\\t')"
   ]
  },
  {
   "cell_type": "code",
   "execution_count": null,
   "metadata": {
    "collapsed": true
   },
   "outputs": [],
   "source": []
  },
  {
   "cell_type": "code",
   "execution_count": null,
   "metadata": {
    "collapsed": true
   },
   "outputs": [],
   "source": []
  },
  {
   "cell_type": "code",
   "execution_count": null,
   "metadata": {
    "collapsed": true
   },
   "outputs": [],
   "source": []
  }
 ],
 "metadata": {
  "kernelspec": {
   "display_name": "Python 3",
   "language": "python",
   "name": "python3"
  },
  "language_info": {
   "codemirror_mode": {
    "name": "ipython",
    "version": 3
   },
   "file_extension": ".py",
   "mimetype": "text/x-python",
   "name": "python",
   "nbconvert_exporter": "python",
   "pygments_lexer": "ipython3",
   "version": "3.4.3"
  }
 },
 "nbformat": 4,
 "nbformat_minor": 0
}
