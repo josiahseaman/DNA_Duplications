{
 "cells": [
  {
   "cell_type": "code",
   "execution_count": 10,
   "metadata": {
    "collapsed": true
   },
   "outputs": [],
   "source": [
    "import os\n",
    "from DNASkittleUtils.DDVUtils import pp\n",
    "import csv\n",
    "from collections import defaultdict"
   ]
  },
  {
   "cell_type": "markdown",
   "metadata": {},
   "source": [
    "# Lizzy's Data"
   ]
  },
  {
   "cell_type": "code",
   "execution_count": 1,
   "metadata": {
    "collapsed": false
   },
   "outputs": [
    {
     "name": "stdout",
     "output_type": "stream",
     "text": [
      "20865 pairs\n"
     ]
    }
   ],
   "source": [
    "from pandas import read_csv\n",
    "liz = read_csv(\"GOenrich_db/lizzy_ash_ks.csv\", sep='\\t')\n",
    "liz = liz[liz['Ks'] < 20]  # remove a couple bad values\n",
    "print(len(liz), \"pairs\")"
   ]
  },
  {
   "cell_type": "code",
   "execution_count": 4,
   "metadata": {
    "collapsed": false
   },
   "outputs": [
    {
     "data": {
      "text/plain": [
       "'35.772825%'"
      ]
     },
     "execution_count": 4,
     "metadata": {},
     "output_type": "execute_result"
    }
   ],
   "source": [
    "wgd_recent = (liz['Ks'] > 0.16) & (liz['Ks'] < 0.38)\n",
    "wgd_old = (liz['Ks'] > 0.5) & (liz['Ks'] < 0.8)\n",
    "recent_duplication = liz['Ks'] < 0.2\n",
    "unaffected =  ~wgd_old & ~recent_duplication  # ~wgd_recent &\n",
    "affected = wgd_recent | wgd_old #| recent_duplication\n",
    "len(liz[unaffected]), len(affected)\n",
    "pp(len(liz[wgd_recent]) / len(liz))"
   ]
  },
  {
   "cell_type": "code",
   "execution_count": 5,
   "metadata": {
    "collapsed": false
   },
   "outputs": [
    {
     "data": {
      "text/html": [
       "<div>\n",
       "<style scoped>\n",
       "    .dataframe tbody tr th:only-of-type {\n",
       "        vertical-align: middle;\n",
       "    }\n",
       "\n",
       "    .dataframe tbody tr th {\n",
       "        vertical-align: top;\n",
       "    }\n",
       "\n",
       "    .dataframe thead th {\n",
       "        text-align: right;\n",
       "    }\n",
       "</style>\n",
       "<table border=\"1\" class=\"dataframe\">\n",
       "  <thead>\n",
       "    <tr style=\"text-align: right;\">\n",
       "      <th></th>\n",
       "      <th>Group</th>\n",
       "      <th>Gene 1</th>\n",
       "      <th>Gene 2</th>\n",
       "      <th>Ks</th>\n",
       "    </tr>\n",
       "  </thead>\n",
       "  <tbody>\n",
       "    <tr>\n",
       "      <th>0</th>\n",
       "      <td>10</td>\n",
       "      <td>130.1</td>\n",
       "      <td>342640.1</td>\n",
       "      <td>0.3768</td>\n",
       "    </tr>\n",
       "    <tr>\n",
       "      <th>1</th>\n",
       "      <td>10</td>\n",
       "      <td>130.1</td>\n",
       "      <td>254110.1</td>\n",
       "      <td>1.5491</td>\n",
       "    </tr>\n",
       "    <tr>\n",
       "      <th>2</th>\n",
       "      <td>10</td>\n",
       "      <td>130.1</td>\n",
       "      <td>83020.1</td>\n",
       "      <td>1.6002</td>\n",
       "    </tr>\n",
       "    <tr>\n",
       "      <th>3</th>\n",
       "      <td>10</td>\n",
       "      <td>342640.1</td>\n",
       "      <td>254110.1</td>\n",
       "      <td>2.8645</td>\n",
       "    </tr>\n",
       "    <tr>\n",
       "      <th>4</th>\n",
       "      <td>10</td>\n",
       "      <td>342640.1</td>\n",
       "      <td>83020.1</td>\n",
       "      <td>0.9481</td>\n",
       "    </tr>\n",
       "  </tbody>\n",
       "</table>\n",
       "</div>"
      ],
      "text/plain": [
       "   Group    Gene 1    Gene 2      Ks\n",
       "0     10     130.1  342640.1  0.3768\n",
       "1     10     130.1  254110.1  1.5491\n",
       "2     10     130.1   83020.1  1.6002\n",
       "3     10  342640.1  254110.1  2.8645\n",
       "4     10  342640.1   83020.1  0.9481"
      ]
     },
     "execution_count": 5,
     "metadata": {},
     "output_type": "execute_result"
    }
   ],
   "source": [
    "liz.head()"
   ]
  },
  {
   "cell_type": "code",
   "execution_count": 6,
   "metadata": {
    "collapsed": false
   },
   "outputs": [
    {
     "data": {
      "text/plain": [
       "'13,033'"
      ]
     },
     "execution_count": 6,
     "metadata": {},
     "output_type": "execute_result"
    }
   ],
   "source": [
    "from itertools import chain\n",
    "def liz_rows_into_gene_list(liz):\n",
    "    wgd_genes = set(['FRAEX38873_v2_' + str(x).zfill(11) for x in chain(liz['Gene 1'], liz['Gene 2'])])\n",
    "    return wgd_genes\n",
    "wgd_genes = liz_rows_into_gene_list(liz[wgd_recent])\n",
    "pp(len(wgd_genes))"
   ]
  },
  {
   "cell_type": "code",
   "execution_count": 8,
   "metadata": {
    "collapsed": false
   },
   "outputs": [
    {
     "data": {
      "text/plain": [
       "<matplotlib.text.Text at 0x5304390>"
      ]
     },
     "execution_count": 8,
     "metadata": {},
     "output_type": "execute_result"
    },
    {
     "data": {
      "image/png": "[encoded data removed]",
      "text/plain": [
       "<matplotlib.figure.Figure at 0xc893c8>"
      ]
     },
     "metadata": {},
     "output_type": "display_data"
    }
   ],
   "source": [
    "%matplotlib inline\n",
    "import numpy as np\n",
    "import matplotlib.pyplot as plt\n",
    "plt.xticks(np.arange(0, 2.6, .1))\n",
    "h = liz[liz['Ks'] < 2.5]['Ks'].hist(bins=120, figsize=(10,5), facecolor='#31a354', edgecolor='#31a354')\n",
    "h.grid(False)\n",
    "# h.linewidth(0)\n",
    "h.set_xlabel('Ks')\n",
    "h.set_ylabel('# of Genes')\n",
    "h.set_title('Ks values of F. excelsior paralogs')"
   ]
  },
  {
   "cell_type": "code",
   "execution_count": 16,
   "metadata": {
    "collapsed": false
   },
   "outputs": [],
   "source": [
    "ortho_file = r\"Ash_Proteome\\Results_Jun25\\Orthogroups.csv\"\n",
    "orthogroups = {}\n",
    "excelsior_orthogroups = {}\n",
    "OG_order = []\n",
    "with open(ortho_file, newline='' ) as csvfile:\n",
    "    reader = csv.reader(csvfile, delimiter=' ')\n",
    "    for nLines, row in enumerate(reader):\n",
    "        og = row[0].replace(':','')\n",
    "        orthogroups[og] = {'genes': list(row[1:])}\n",
    "        if any([name.startswith('FRAEX') for name in orthogroups[og]['genes']]):\n",
    "            excelsior_orthogroups[og] = orthogroups[og]\n",
    "        OG_order.append(og)\n",
    "        \n",
    "gene2family = {gene: family for (family, row) in excelsior_orthogroups.items() for gene in row['genes']}"
   ]
  },
  {
   "cell_type": "code",
   "execution_count": 17,
   "metadata": {
    "collapsed": false
   },
   "outputs": [
    {
     "data": {
      "text/plain": [
       "(6105, '27.210733%')"
      ]
     },
     "execution_count": 17,
     "metadata": {},
     "output_type": "execute_result"
    }
   ],
   "source": [
    "# wgd_genes = liz_rows_into_gene_list(liz[(liz['Ks'] > .2) & (liz['Ks'] < .3)])\n",
    "wgd_by_family = set()\n",
    "for gene in wgd_genes:\n",
    "    if gene in gene2family:\n",
    "        wgd_by_family.add(gene2family[gene])\n",
    "len(wgd_by_family), pp(len(wgd_by_family) / len(excelsior_orthogroups))"
   ]
  },
  {
   "cell_type": "markdown",
   "metadata": {},
   "source": [
    "**Conculsion** Functional orthogroups is prefiltered to only have families where members of excelsior are present. This 30% result then means that 30% of the gene families where we could have detected a WGD showed evidence of a WGD. That's very consistent with other numbers I've gotten.  \n",
    "The 3% discrepancy (30-27) between FunctionsForFamilies is because of the annotation != \"NULL\" requirement, which is not included here. "
   ]
  },
  {
   "cell_type": "markdown",
   "metadata": {},
   "source": [
    "# CAFE tree approximations"
   ]
  },
  {
   "cell_type": "code",
   "execution_count": 20,
   "metadata": {
    "collapsed": true
   },
   "outputs": [],
   "source": [
    "from newick import loads\n",
    "import newick"
   ]
  },
  {
   "cell_type": "code",
   "execution_count": 65,
   "metadata": {
    "collapsed": false
   },
   "outputs": [
    {
     "data": {
      "text/plain": [
       "27737"
      ]
     },
     "execution_count": 65,
     "metadata": {},
     "output_type": "execute_result"
    }
   ],
   "source": [
    "all_trees = {}\n",
    "#fixed_JSG_all_species.cafe\n",
    "with open(r\"CAFE-4.1\\data\\cafe_orthofinder\\reports\\WGD_rates_loose.cafe\", 'r') as csvfile: \n",
    "    lines = csvfile.readlines()[11:]\n",
    "    for nLines, row in enumerate(lines):\n",
    "        row = row.split('\\t')\n",
    "        all_trees[int(row[0])] = row[1]\n",
    "len(all_trees)"
   ]
  },
  {
   "cell_type": "code",
   "execution_count": 82,
   "metadata": {
    "collapsed": false
   },
   "outputs": [],
   "source": [
    "ordered_names = loads('(((((((((((FRAX30,FRAX32)<1>,FRAX28)<3>,FRAX12)<5>,(FRAX07,FRAX29)<9>)<7>,FRAX08)<11>,(((((FRAX01,FRAX16)<15>,FRAX15)<17>,FRAX00)<19>,(FRAX06,FRAX23)<23>)<21>,FRAX25)<25>)<13>,FRAX21)<27>,(((FRAX19,FRAX20)<31>,((FRAX11,FRAX27)<35>,FRAX04)<37>)<33>,(((((FRAX03,FRAX09)<41>,FRAX13)<43>,(FRAX26,FRAX14)<47>)<45>,FRAX05)<49>,FRAX33)<51>)<39>)<29>,FRAX31)<53>,Oeuropea)<55>,(Slycopersicum,Mguttatus)<59>)<57>')[0]\n",
    "def create_ordered_nodes(verbose=False):\n",
    "    ordered_nodes = []\n",
    "    for node in ordered_names.walk(mode=\"preorder\"):\n",
    "        if verbose:\n",
    "            print(node.name, node.length)\n",
    "        ordered_nodes.append({'name': node.name, 'length':node.length, 'losses': 0, 'gains': 0, 'avg#': 0})\n",
    "    return ordered_nodes\n",
    "ordered_nodes = create_ordered_nodes()"
   ]
  },
  {
   "cell_type": "code",
   "execution_count": 83,
   "metadata": {
    "collapsed": true
   },
   "outputs": [],
   "source": [
    "def extract_count(name):\n",
    "    if isinstance(name, newick.Node):\n",
    "        name = name.name\n",
    "    return int(name.split('_')[-1])"
   ]
  },
  {
   "cell_type": "code",
   "execution_count": 84,
   "metadata": {
    "collapsed": false
   },
   "outputs": [
    {
     "data": {
      "text/plain": [
       "{'avg#': 0, 'gains': 0, 'length': 0.0, 'losses': 0, 'name': '<55>'}"
      ]
     },
     "execution_count": 84,
     "metadata": {},
     "output_type": "execute_result"
    }
   ],
   "source": [
    "ordered_nodes[1]"
   ]
  },
  {
   "cell_type": "code",
   "execution_count": 85,
   "metadata": {
    "collapsed": true
   },
   "outputs": [],
   "source": [
    "def get_count_at_root(fam_id, ordered_node_index=1):\n",
    "    newick_str = all_trees[fam_id]\n",
    "    tree = loads(newick_str)[0]\n",
    "    for index, node in enumerate(tree.walk(mode=\"preorder\")):\n",
    "        if index == ordered_node_index:\n",
    "            count = extract_count(node)\n",
    "            return count"
   ]
  },
  {
   "cell_type": "code",
   "execution_count": 86,
   "metadata": {
    "collapsed": true
   },
   "outputs": [
    {
     "data": {
      "text/html": [
       "<img src=\"all_species_node_labels_WGD_manual.png\">"
      ],
      "text/plain": [
       "<IPython.core.display.HTML object>"
      ]
     },
     "metadata": {},
     "output_type": "display_data"
    }
   ],
   "source": [
    "%%html\n",
    "<img src=\"all_species_node_labels_WGD_manual.png\">"
   ]
  },
  {
   "cell_type": "markdown",
   "metadata": {},
   "source": [
    "## Filter Families to Ones with a Duplication at Root < 55 > "
   ]
  },
  {
   "cell_type": "code",
   "execution_count": 87,
   "metadata": {
    "collapsed": false
   },
   "outputs": [
    {
     "data": {
      "text/plain": [
       "1514"
      ]
     },
     "execution_count": 87,
     "metadata": {},
     "output_type": "execute_result"
    }
   ],
   "source": [
    "def populate_history_histogram(study_ints):\n",
    "    ordered_nodes = create_ordered_nodes()\n",
    "    genes_lost = {node['name']:set() for node in ordered_nodes}\n",
    "    gene_gains = {node['name']:set() for node in ordered_nodes}\n",
    "    for fam_id in study_ints:\n",
    "        if fam_id not in all_trees:\n",
    "            continue\n",
    "        newick_str = all_trees[fam_id]\n",
    "        tree = loads(newick_str)[0]\n",
    "        for index, node in enumerate(tree.walk(mode=\"preorder\")):\n",
    "            count = extract_count(node)\n",
    "            tail = ''\n",
    "            ordered_nodes[index]['avg#'] += count\n",
    "            if node.ancestor:\n",
    "                parent_count = extract_count(node.ancestor.name)\n",
    "                if count < parent_count:\n",
    "                    tail = (\"loss\")\n",
    "                    ordered_nodes[index]['losses'] += 1 #parent_count - count\n",
    "                    place_name = node.name.split('_')[0]\n",
    "                    if place_name:\n",
    "                        genes_lost[place_name].add(fam_id)  # record gene family\n",
    "                elif count > parent_count:\n",
    "                    tail = (\"gain\")\n",
    "                    ordered_nodes[index]['gains'] += 1 #count - parent_count \n",
    "                    gene_gains[ordered_nodes[index]['name']].add(fam_id)\n",
    "#             print(node.name, count, tail)\n",
    "    for result in ordered_nodes:  # divide sum by length to get mean\n",
    "        result['avg#'] /= len(study_ints)\n",
    "    return ordered_nodes, genes_lost, gene_gains\n",
    "\n",
    "study_ints = [int(fam[2:]) for fam in excelsior_orthogroups.keys()]\n",
    "ordered_nodes, genes_lost, gene_gains = populate_history_histogram(study_ints)\n",
    "\n",
    "len(gene_gains['<55>'])"
   ]
  },
  {
   "cell_type": "code",
   "execution_count": 91,
   "metadata": {
    "collapsed": false
   },
   "outputs": [
    {
     "data": {
      "text/plain": [
       "(0, 277, 70)"
      ]
     },
     "execution_count": 91,
     "metadata": {},
     "output_type": "execute_result"
    }
   ],
   "source": [
    "len(gene_gains['<57>']), len(gene_gains['<59>']), len(gene_gains['<53>'])"
   ]
  },
  {
   "cell_type": "markdown",
   "metadata": {},
   "source": [
    "## Combine Lizzy Ks and Node Count Criteria"
   ]
  },
  {
   "cell_type": "code",
   "execution_count": 93,
   "metadata": {
    "collapsed": true
   },
   "outputs": [],
   "source": [
    "def cafe_to_OG(cafe_id):\n",
    "    return \"OG\" + '%07d' % (cafe_id)\n",
    "assert cafe_to_OG(16622) ==\"OG0016622\""
   ]
  },
  {
   "cell_type": "code",
   "execution_count": 94,
   "metadata": {
    "collapsed": false
   },
   "outputs": [
    {
     "data": {
      "text/plain": [
       "1514"
      ]
     },
     "execution_count": 94,
     "metadata": {},
     "output_type": "execute_result"
    }
   ],
   "source": [
    "root_gains_families = set(cafe_to_OG(i) for i in gene_gains['<55>'])\n",
    "len(root_gains_families)"
   ]
  },
  {
   "cell_type": "code",
   "execution_count": 95,
   "metadata": {
    "collapsed": false
   },
   "outputs": [
    {
     "data": {
      "text/plain": [
       "186132"
      ]
     },
     "execution_count": 95,
     "metadata": {},
     "output_type": "execute_result"
    }
   ],
   "source": [
    "root_gain_genes = set()\n",
    "for family in root_gains_families:\n",
    "    root_gain_genes.update(excelsior_orthogroups[family]['genes'])\n",
    "len(root_gain_genes)\n"
   ]
  },
  {
   "cell_type": "code",
   "execution_count": 96,
   "metadata": {
    "collapsed": false
   },
   "outputs": [
    {
     "data": {
      "text/plain": [
       "['FRAX27_000115030.1_R3',\n",
       " 'FRAX23_000091980.1_R0',\n",
       " 'FRAX30_000221140.1_R2',\n",
       " 'FRAX23_000211620.1_R0',\n",
       " 'OE6A001407P1']"
      ]
     },
     "execution_count": 96,
     "metadata": {},
     "output_type": "execute_result"
    }
   ],
   "source": [
    "list(root_gain_genes)[:5]"
   ]
  },
  {
   "cell_type": "markdown",
   "metadata": {},
   "source": [
    "{gene: family for (family, row) in excelsior_orthogroups.items() for gene in row['genes']}"
   ]
  },
  {
   "cell_type": "code",
   "execution_count": 98,
   "metadata": {
    "collapsed": false
   },
   "outputs": [
    {
     "data": {
      "text/html": [
       "<div>\n",
       "<style scoped>\n",
       "    .dataframe tbody tr th:only-of-type {\n",
       "        vertical-align: middle;\n",
       "    }\n",
       "\n",
       "    .dataframe tbody tr th {\n",
       "        vertical-align: top;\n",
       "    }\n",
       "\n",
       "    .dataframe thead th {\n",
       "        text-align: right;\n",
       "    }\n",
       "</style>\n",
       "<table border=\"1\" class=\"dataframe\">\n",
       "  <thead>\n",
       "    <tr style=\"text-align: right;\">\n",
       "      <th></th>\n",
       "      <th>Group</th>\n",
       "      <th>Gene 1</th>\n",
       "      <th>Gene 2</th>\n",
       "      <th>Ks</th>\n",
       "    </tr>\n",
       "  </thead>\n",
       "  <tbody>\n",
       "    <tr>\n",
       "      <th>0</th>\n",
       "      <td>10.0</td>\n",
       "      <td>FRAEX38873_v2_000000130.1</td>\n",
       "      <td>FRAEX38873_v2_000342640.1</td>\n",
       "      <td>0.3768</td>\n",
       "    </tr>\n",
       "    <tr>\n",
       "      <th>1</th>\n",
       "      <td>10.0</td>\n",
       "      <td>FRAEX38873_v2_000000130.1</td>\n",
       "      <td>FRAEX38873_v2_000254110.1</td>\n",
       "      <td>1.5491</td>\n",
       "    </tr>\n",
       "    <tr>\n",
       "      <th>2</th>\n",
       "      <td>10.0</td>\n",
       "      <td>FRAEX38873_v2_000000130.1</td>\n",
       "      <td>FRAEX38873_v2_000083020.1</td>\n",
       "      <td>1.6002</td>\n",
       "    </tr>\n",
       "    <tr>\n",
       "      <th>3</th>\n",
       "      <td>10.0</td>\n",
       "      <td>FRAEX38873_v2_000342640.1</td>\n",
       "      <td>FRAEX38873_v2_000254110.1</td>\n",
       "      <td>2.8645</td>\n",
       "    </tr>\n",
       "    <tr>\n",
       "      <th>4</th>\n",
       "      <td>10.0</td>\n",
       "      <td>FRAEX38873_v2_000342640.1</td>\n",
       "      <td>FRAEX38873_v2_000083020.1</td>\n",
       "      <td>0.9481</td>\n",
       "    </tr>\n",
       "  </tbody>\n",
       "</table>\n",
       "</div>"
      ],
      "text/plain": [
       "   Group                     Gene 1                     Gene 2      Ks\n",
       "0   10.0  FRAEX38873_v2_000000130.1  FRAEX38873_v2_000342640.1  0.3768\n",
       "1   10.0  FRAEX38873_v2_000000130.1  FRAEX38873_v2_000254110.1  1.5491\n",
       "2   10.0  FRAEX38873_v2_000000130.1  FRAEX38873_v2_000083020.1  1.6002\n",
       "3   10.0  FRAEX38873_v2_000342640.1  FRAEX38873_v2_000254110.1  2.8645\n",
       "4   10.0  FRAEX38873_v2_000342640.1  FRAEX38873_v2_000083020.1  0.9481"
      ]
     },
     "execution_count": 98,
     "metadata": {},
     "output_type": "execute_result"
    }
   ],
   "source": [
    "def gene_to_liz_row(gene):\n",
    "    gene = gene.replace('FRAEX38873_v2_', '')\n",
    "    ''.startswith()\n",
    "    return liz\n",
    "def liz_to_gene_name(row):\n",
    "    row['Gene 1'] = 'FRAEX38873_v2_' + str(row['Gene 1']).zfill(11)\n",
    "    row['Gene 2'] = 'FRAEX38873_v2_' + str(row['Gene 2']).zfill(11)\n",
    "    return row\n",
    "converted_liz = liz.apply(liz_to_gene_name, axis=1)\n",
    "converted_liz.head()"
   ]
  },
  {
   "cell_type": "code",
   "execution_count": 100,
   "metadata": {
    "collapsed": false
   },
   "outputs": [
    {
     "data": {
      "text/plain": [
       "7812"
      ]
     },
     "execution_count": 100,
     "metadata": {},
     "output_type": "execute_result"
    }
   ],
   "source": [
    "filtered_rows = converted_liz['Gene 1'].isin(root_gain_genes)\n",
    "sum(filtered_rows)"
   ]
  },
  {
   "cell_type": "code",
   "execution_count": 101,
   "metadata": {
    "collapsed": false
   },
   "outputs": [
    {
     "data": {
      "text/plain": [
       "6817"
      ]
     },
     "execution_count": 101,
     "metadata": {},
     "output_type": "execute_result"
    }
   ],
   "source": [
    "filtered_rows = filtered_rows & (converted_liz['Gene 2'].isin(root_gain_genes))\n",
    "sum(filtered_rows)"
   ]
  },
  {
   "cell_type": "code",
   "execution_count": 102,
   "metadata": {
    "collapsed": false
   },
   "outputs": [
    {
     "data": {
      "text/plain": [
       "<matplotlib.text.Text at 0x28848898>"
      ]
     },
     "execution_count": 102,
     "metadata": {},
     "output_type": "execute_result"
    },
    {
     "data": {
      "image/png": "[encoded data removed]",
      "text/plain": [
       "<matplotlib.figure.Figure at 0x22e238d0>"
      ]
     },
     "metadata": {},
     "output_type": "display_data"
    }
   ],
   "source": [
    "Ks_cap = converted_liz['Ks'] < 2.5\n",
    "filtered_Ks = converted_liz[filtered_rows & Ks_cap]['Ks']\n",
    "# pretty_hist(\"Ks of Genes Duplicated at Oleaceae Root\", filtered_Ks, \n",
    "#             x_title=\"Synonymous Substitutions (Ks)\", y_title=\"Number of Genes\", bins = 120)\n",
    "\n",
    "plt.xticks(np.arange(0, 2.6, .1))\n",
    "h = filtered_Ks.hist(bins=120, figsize=(10,5), facecolor='#31a354', edgecolor='#31a354')\n",
    "h.grid(False)\n",
    "# h.linewidth(0)\n",
    "h.set_xlabel(\"Synonymous Substitutions (Ks)\")\n",
    "h.set_ylabel('# of Genes')\n",
    "h.set_title(\"Ks of Genes Duplicated at Oleaceae Root\")"
   ]
  },
  {
   "cell_type": "markdown",
   "metadata": {},
   "source": [
    "**Conclusion** That looks the exact same as the population distribution.  Rooted copy number filtering was unsuccessful.  I need to switch datasets to a more recent simulations.  Homeologs may be necessary to make sure \"gene family\" doesn't diffuse the results too much."
   ]
  },
  {
   "cell_type": "markdown",
   "metadata": {},
   "source": [
    "**Pulling in WGD_rates_loose actually made it worse!  That’s impressive.**"
   ]
  },
  {
   "cell_type": "markdown",
   "metadata": {},
   "source": []
  }
 ],
 "metadata": {
  "kernelspec": {
   "display_name": "Python 3",
   "language": "python",
   "name": "python3"
  },
  "language_info": {
   "codemirror_mode": {
    "name": "ipython",
    "version": 3
   },
   "file_extension": ".py",
   "mimetype": "text/x-python",
   "name": "python",
   "nbconvert_exporter": "python",
   "pygments_lexer": "ipython3",
   "version": "3.4.3"
  }
 },
 "nbformat": 4,
 "nbformat_minor": 1
}
