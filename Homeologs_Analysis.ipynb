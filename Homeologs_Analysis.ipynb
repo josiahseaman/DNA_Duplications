{
 "cells": [
  {
   "cell_type": "code",
   "execution_count": 11,
   "metadata": {
    "collapsed": false
   },
   "outputs": [],
   "source": [
    "import os\n",
    "from DNASkittleUtils.DDVUtils import pp\n",
    "import csv\n",
    "from collections import defaultdict\n",
    "from csv import DictReader, DictWriter\n",
    "from pandas import read_csv\n",
    "from itertools import chain\n",
    "%matplotlib inline\n",
    "import numpy as np\n",
    "import matplotlib.pyplot as plt\n"
   ]
  },
  {
   "cell_type": "code",
   "execution_count": 2,
   "metadata": {
    "collapsed": true
   },
   "outputs": [],
   "source": [
    "def first(iterable):\n",
    "    if isinstance(iterable, dict):\n",
    "        return next(iter(iterable.items()))\n",
    "    return next(iter(iterable))"
   ]
  },
  {
   "cell_type": "code",
   "execution_count": 3,
   "metadata": {
    "collapsed": false
   },
   "outputs": [
    {
     "data": {
      "text/plain": [
       "'35.772825%'"
      ]
     },
     "execution_count": 3,
     "metadata": {},
     "output_type": "execute_result"
    }
   ],
   "source": [
    "liz = read_csv(\"GOenrich_db/lizzy_ash_ks.csv\", sep='\\t')\n",
    "liz = liz[liz['Ks'] < 20]  # remove a couple bad values\n",
    "\n",
    "wgd_recent = (liz['Ks'] > 0.16) & (liz['Ks'] < 0.38)\n",
    "wgd_old = (liz['Ks'] > 0.5) & (liz['Ks'] < 0.8)\n",
    "recent_duplication = liz['Ks'] < 0.2\n",
    "unaffected =  ~wgd_old & ~recent_duplication  # ~wgd_recent &\n",
    "affected = wgd_recent | wgd_old #| recent_duplication\n",
    "len(liz[unaffected]), len(affected)\n",
    "pp(len(liz[wgd_recent]) / len(liz))"
   ]
  },
  {
   "cell_type": "code",
   "execution_count": 4,
   "metadata": {
    "collapsed": false
   },
   "outputs": [
    {
     "data": {
      "text/plain": [
       "<matplotlib.text.Text at 0x1b819400>"
      ]
     },
     "execution_count": 4,
     "metadata": {},
     "output_type": "execute_result"
    },
    {
     "data": {
      "image/png": "[encoded data removed]",
      "text/plain": [
       "<matplotlib.figure.Figure at 0x19075c18>"
      ]
     },
     "metadata": {},
     "output_type": "display_data"
    }
   ],
   "source": [
    "\n",
    "h = liz[liz['Ks'] < 2.5]['Ks'].hist(bins=120, figsize=(10,5), facecolor='#31a354', edgecolor='#31a354')\n",
    "h.grid(False)\n",
    "# h.linewidth(0)\n",
    "h.set_xlabel('Ks')\n",
    "h.set_ylabel('# of Genes')\n",
    "h.set_title('Ks values of F. excelsior paralogs')"
   ]
  },
  {
   "cell_type": "markdown",
   "metadata": {},
   "source": [
    "# 4.2.1 Extracting Homeologs from Duplications.csv"
   ]
  },
  {
   "cell_type": "code",
   "execution_count": 5,
   "metadata": {
    "collapsed": false
   },
   "outputs": [],
   "source": [
    "def collect_all_Nx_duplicated_genes(rows, Nx_counts, node_name):\n",
    "    \"\"\"Accepts a DataFrame, node_counts, Read in a table and split it into the gene names we want.  Identifies the node name.\n",
    "    Uses pandas filtering to improve speed.\"\"\"\n",
    "    any_N1_duplicates = [k for k,v in Nx_counts.items() if v == 1]  # only accept single duplication events\n",
    "    split_families = {}  # could be output as files\n",
    "    for fam_id in any_N1_duplicates:\n",
    "        focus = rows[(rows['Orthogroup'] == fam_id) & (rows['Species Tree Node'] == node_name)]\n",
    "        row = next(focus.iterrows())[1]\n",
    "        og = row['Orthogroup']\n",
    "        # stripping off \"OG\" and starting with either 1=left or 2=right subtree\n",
    "        split_families['1' + og[2:]] = row['Genes 1'].split(', ')\n",
    "        split_families['2' + og[2:]] = row['Genes 2'].split(', ')\n",
    "    print(len(split_families), \"subtrees\")\n",
    "    return split_families\n"
   ]
  },
  {
   "cell_type": "code",
   "execution_count": 6,
   "metadata": {
    "collapsed": true
   },
   "outputs": [],
   "source": [
    "import os\n",
    "from collections import defaultdict\n",
    "from pandas import read_csv\n",
    "def complete_homeolog_filtering(duplications_path, node_name):\n",
    "    \"\"\"Given a path to an OrthoFinder Duplications.csv and a species node name, it returns the list\n",
    "    of gene names for Homeologs created in the WGD under that species node with only one duplication event.\n",
    "    Return type is a list of pairs of split subtrees where each subtree is a list of gene names.\"\"\"\n",
    "    rows = read_csv(duplications_path, delimiter='\\t')\n",
    "    N_counts = defaultdict(lambda: 0)\n",
    "    for index, line in rows[rows['Species Tree Node'] == node_name].iterrows():\n",
    "        N_counts[line['Orthogroup']] += 1\n",
    "    #Now that we've collected all the counts, for the node of interest, we can check which are exactly 1\n",
    "    qualified_ogs = [og for og, count in N_counts.items() if count == 1]\n",
    "    #we take only the rows (gene tree nodes) with qualified ogs and the mentioned node_name\n",
    "    return collect_all_Nx_duplicated_genes(rows, N_counts, node_name)\n",
    "    "
   ]
  },
  {
   "cell_type": "code",
   "execution_count": 7,
   "metadata": {
    "collapsed": false
   },
   "outputs": [
    {
     "name": "stdout",
     "output_type": "stream",
     "text": [
      "8152 subtrees\n"
     ]
    }
   ],
   "source": [
    "Feb08 = r\"Ash_Proteome\\Results_Jun25\\Orthologues_Jul04_2\\New_Analysis_From_Trees_Feb08\\Duplications.csv\"\n",
    "Feb08_splits = complete_homeolog_filtering(Feb08, 'N2')"
   ]
  },
  {
   "cell_type": "code",
   "execution_count": 9,
   "metadata": {
    "collapsed": false
   },
   "outputs": [
    {
     "data": {
      "text/plain": [
       "['FRAX20_FRAX20_000014660.1_R0',\n",
       " 'FRAX19_FRAX19_000014660.1_R0',\n",
       " 'FRAX14_FRAX14_000014660.1_R0',\n",
       " 'FRAX13_FRAX13_000014660.1_R0',\n",
       " 'FRAX34_FRAX34_000014660.1_R0',\n",
       " 'FRAX09_FRAX09_000014660.1_R0',\n",
       " 'FRAX26_FRAX26_000014660.1_R0',\n",
       " 'FRAX03_FRAX03_000014660.1_R0',\n",
       " 'FRAX05_FRAX05_000014660.1_R0',\n",
       " 'FRAX33_FRAX33_000014660.1_R0',\n",
       " 'FRAX25_FRAX25_000014660.1_R0',\n",
       " 'FRAX23_FRAX23_000014660.1_R0',\n",
       " 'FRAX16_FRAX16_000014660.1_R0',\n",
       " 'FRAX01_FRAX01_000014660.1_R0',\n",
       " 'FRAX00_FRAEX38873_v2_000014660.1',\n",
       " 'FRAX02_FRAX02_000014660.1_R0',\n",
       " 'FRAX29_FRAX29_000014660.1_R0',\n",
       " 'FRAX32_FRAX32_000210860.3_R2',\n",
       " 'FRAX12_FRAX12_000014660.1_R0',\n",
       " 'FRAX08_FRAX08_000014660.1_R0',\n",
       " 'FRAX07_FRAX07_000014660.1_R0',\n",
       " 'FRAX28_FRAX28_000014660.1_R0',\n",
       " 'FRAX30_FRAX30_000014660.1_R0']"
      ]
     },
     "execution_count": 9,
     "metadata": {},
     "output_type": "execute_result"
    }
   ],
   "source": [
    "Feb08_splits['20008168']"
   ]
  },
  {
   "cell_type": "markdown",
   "metadata": {},
   "source": [
    "### Create Gene List for Ks Validation in KsPlots.ipynb"
   ]
  },
  {
   "cell_type": "code",
   "execution_count": 16,
   "metadata": {
    "collapsed": false
   },
   "outputs": [
    {
     "name": "stdout",
     "output_type": "stream",
     "text": [
      "Wrote 8152 rows\n"
     ]
    }
   ],
   "source": [
    "def write_subtrees_to_split_gene_set(subtrees, filename):\n",
    "    import csv\n",
    "    with open(filename, 'w', newline='\\n') as csvfile:\n",
    "        out = csv.writer(csvfile, delimiter='\\t',\n",
    "                                quotechar='\"', quoting=csv.QUOTE_MINIMAL)\n",
    "#         out.writerow(['\"Orthogroup Subtree\"', \"Genes\"])\n",
    "        for og, genes in subtrees.items():\n",
    "            out.writerow([og] + genes)\n",
    "\n",
    "\n",
    "        print(\"Wrote\", len(subtrees), \"rows\")\n",
    "\n",
    "write_subtrees_to_split_gene_set(Feb08_splits, '2020_Feb08_homeolog_gene_set.csv')"
   ]
  },
  {
   "cell_type": "markdown",
   "metadata": {},
   "source": [
    "## Create homeolog_counts.txt table per species for CAFE input"
   ]
  },
  {
   "cell_type": "code",
   "execution_count": 18,
   "metadata": {
    "collapsed": true
   },
   "outputs": [],
   "source": [
    "from pandas import DataFrame, Series\n",
    "def format_table(split_families, convert_fam_id=False):\n",
    "    def species_count_from_subtree(subtree):\n",
    "        assert hasattr(subtree, '__iter__')\n",
    "        sub_counts = defaultdict(lambda: 0)\n",
    "        for gene in subtree:\n",
    "            sub_counts[gene.split('_')[0]] += 1\n",
    "        assert sum(sub_counts.values()) == len(subtree)\n",
    "        return sub_counts\n",
    "    data = {}\n",
    "    for name, subfamily in split_families.items():\n",
    "        sub_counts = species_count_from_subtree(subfamily)\n",
    "        data[name] = sub_counts\n",
    "    df = DataFrame.from_dict(data, orient='index', )\n",
    "    df.fillna(value=0, inplace=True)\n",
    "    df = df.astype(int)\n",
    "    df.index.name = 'Desc'\n",
    "    if convert_fam_id:\n",
    "        df['Family ID'] = df.apply(lambda row: str(row.name)[-1:] + str(row.name)[2:-2], axis=1) # e.g. OG0000212_1 => 10000212\n",
    "    else:\n",
    "        df['Family ID'] = df.apply(lambda row: row.name, axis=1)\n",
    "\n",
    "    column_order = ['Family ID'] + sorted('Oeuropea\tFRAX08\tFRAX05\tFRAX25\tFRAX14\tFRAX15\tFRAX32\tFRAX21\tFRAX33\tFRAX26\tFRAX16\tFRAX03\tFRAX07\tFRAX23\tFRAX31\tFRAX09\tFRAX19\tFRAX12\tFRAX29\tFRAX01\tFRAX00\tFRAX13\tFRAX20\tFRAX30\tFRAX27\tFRAX04\tFRAX11\tFRAX28\tFRAX06'.split('\\t'))\n",
    "#     column_order.remove('FRAX02')\n",
    "#     column_order.remove('FRAX34')\n",
    "    df = df[column_order]\n",
    "    return df"
   ]
  },
  {
   "cell_type": "code",
   "execution_count": 19,
   "metadata": {
    "collapsed": false
   },
   "outputs": [
    {
     "data": {
      "text/html": [
       "<div>\n",
       "<style scoped>\n",
       "    .dataframe tbody tr th:only-of-type {\n",
       "        vertical-align: middle;\n",
       "    }\n",
       "\n",
       "    .dataframe tbody tr th {\n",
       "        vertical-align: top;\n",
       "    }\n",
       "\n",
       "    .dataframe thead th {\n",
       "        text-align: right;\n",
       "    }\n",
       "</style>\n",
       "<table border=\"1\" class=\"dataframe\">\n",
       "  <thead>\n",
       "    <tr style=\"text-align: right;\">\n",
       "      <th></th>\n",
       "      <th>Family ID</th>\n",
       "      <th>FRAX00</th>\n",
       "      <th>FRAX01</th>\n",
       "      <th>FRAX03</th>\n",
       "      <th>FRAX04</th>\n",
       "      <th>FRAX05</th>\n",
       "      <th>FRAX06</th>\n",
       "      <th>FRAX07</th>\n",
       "      <th>FRAX08</th>\n",
       "      <th>FRAX09</th>\n",
       "      <th>...</th>\n",
       "      <th>FRAX25</th>\n",
       "      <th>FRAX26</th>\n",
       "      <th>FRAX27</th>\n",
       "      <th>FRAX28</th>\n",
       "      <th>FRAX29</th>\n",
       "      <th>FRAX30</th>\n",
       "      <th>FRAX31</th>\n",
       "      <th>FRAX32</th>\n",
       "      <th>FRAX33</th>\n",
       "      <th>Oeuropea</th>\n",
       "    </tr>\n",
       "    <tr>\n",
       "      <th>Desc</th>\n",
       "      <th></th>\n",
       "      <th></th>\n",
       "      <th></th>\n",
       "      <th></th>\n",
       "      <th></th>\n",
       "      <th></th>\n",
       "      <th></th>\n",
       "      <th></th>\n",
       "      <th></th>\n",
       "      <th></th>\n",
       "      <th></th>\n",
       "      <th></th>\n",
       "      <th></th>\n",
       "      <th></th>\n",
       "      <th></th>\n",
       "      <th></th>\n",
       "      <th></th>\n",
       "      <th></th>\n",
       "      <th></th>\n",
       "      <th></th>\n",
       "      <th></th>\n",
       "    </tr>\n",
       "  </thead>\n",
       "  <tbody>\n",
       "    <tr>\n",
       "      <th>10000013</th>\n",
       "      <td>10000013</td>\n",
       "      <td>1</td>\n",
       "      <td>1</td>\n",
       "      <td>1</td>\n",
       "      <td>1</td>\n",
       "      <td>1</td>\n",
       "      <td>2</td>\n",
       "      <td>2</td>\n",
       "      <td>1</td>\n",
       "      <td>1</td>\n",
       "      <td>...</td>\n",
       "      <td>1</td>\n",
       "      <td>0</td>\n",
       "      <td>1</td>\n",
       "      <td>1</td>\n",
       "      <td>2</td>\n",
       "      <td>2</td>\n",
       "      <td>1</td>\n",
       "      <td>1</td>\n",
       "      <td>2</td>\n",
       "      <td>1</td>\n",
       "    </tr>\n",
       "    <tr>\n",
       "      <th>10000057</th>\n",
       "      <td>10000057</td>\n",
       "      <td>1</td>\n",
       "      <td>1</td>\n",
       "      <td>0</td>\n",
       "      <td>0</td>\n",
       "      <td>0</td>\n",
       "      <td>1</td>\n",
       "      <td>0</td>\n",
       "      <td>1</td>\n",
       "      <td>0</td>\n",
       "      <td>...</td>\n",
       "      <td>0</td>\n",
       "      <td>1</td>\n",
       "      <td>1</td>\n",
       "      <td>0</td>\n",
       "      <td>1</td>\n",
       "      <td>0</td>\n",
       "      <td>0</td>\n",
       "      <td>1</td>\n",
       "      <td>1</td>\n",
       "      <td>1</td>\n",
       "    </tr>\n",
       "    <tr>\n",
       "      <th>10000069</th>\n",
       "      <td>10000069</td>\n",
       "      <td>2</td>\n",
       "      <td>6</td>\n",
       "      <td>9</td>\n",
       "      <td>8</td>\n",
       "      <td>9</td>\n",
       "      <td>6</td>\n",
       "      <td>10</td>\n",
       "      <td>8</td>\n",
       "      <td>9</td>\n",
       "      <td>...</td>\n",
       "      <td>9</td>\n",
       "      <td>8</td>\n",
       "      <td>9</td>\n",
       "      <td>9</td>\n",
       "      <td>8</td>\n",
       "      <td>11</td>\n",
       "      <td>9</td>\n",
       "      <td>8</td>\n",
       "      <td>9</td>\n",
       "      <td>1</td>\n",
       "    </tr>\n",
       "    <tr>\n",
       "      <th>10000138</th>\n",
       "      <td>10000138</td>\n",
       "      <td>0</td>\n",
       "      <td>1</td>\n",
       "      <td>0</td>\n",
       "      <td>1</td>\n",
       "      <td>0</td>\n",
       "      <td>0</td>\n",
       "      <td>0</td>\n",
       "      <td>0</td>\n",
       "      <td>0</td>\n",
       "      <td>...</td>\n",
       "      <td>0</td>\n",
       "      <td>0</td>\n",
       "      <td>0</td>\n",
       "      <td>0</td>\n",
       "      <td>0</td>\n",
       "      <td>1</td>\n",
       "      <td>1</td>\n",
       "      <td>0</td>\n",
       "      <td>0</td>\n",
       "      <td>1</td>\n",
       "    </tr>\n",
       "    <tr>\n",
       "      <th>10000193</th>\n",
       "      <td>10000193</td>\n",
       "      <td>0</td>\n",
       "      <td>1</td>\n",
       "      <td>1</td>\n",
       "      <td>2</td>\n",
       "      <td>2</td>\n",
       "      <td>1</td>\n",
       "      <td>1</td>\n",
       "      <td>0</td>\n",
       "      <td>1</td>\n",
       "      <td>...</td>\n",
       "      <td>1</td>\n",
       "      <td>1</td>\n",
       "      <td>2</td>\n",
       "      <td>2</td>\n",
       "      <td>2</td>\n",
       "      <td>1</td>\n",
       "      <td>2</td>\n",
       "      <td>2</td>\n",
       "      <td>1</td>\n",
       "      <td>1</td>\n",
       "    </tr>\n",
       "  </tbody>\n",
       "</table>\n",
       "<p>5 rows × 30 columns</p>\n",
       "</div>"
      ],
      "text/plain": [
       "         Family ID  FRAX00  FRAX01  FRAX03  FRAX04  FRAX05  FRAX06  FRAX07  \\\n",
       "Desc                                                                         \n",
       "10000013  10000013       1       1       1       1       1       2       2   \n",
       "10000057  10000057       1       1       0       0       0       1       0   \n",
       "10000069  10000069       2       6       9       8       9       6      10   \n",
       "10000138  10000138       0       1       0       1       0       0       0   \n",
       "10000193  10000193       0       1       1       2       2       1       1   \n",
       "\n",
       "          FRAX08  FRAX09    ...     FRAX25  FRAX26  FRAX27  FRAX28  FRAX29  \\\n",
       "Desc                        ...                                              \n",
       "10000013       1       1    ...          1       0       1       1       2   \n",
       "10000057       1       0    ...          0       1       1       0       1   \n",
       "10000069       8       9    ...          9       8       9       9       8   \n",
       "10000138       0       0    ...          0       0       0       0       0   \n",
       "10000193       0       1    ...          1       1       2       2       2   \n",
       "\n",
       "          FRAX30  FRAX31  FRAX32  FRAX33  Oeuropea  \n",
       "Desc                                                \n",
       "10000013       2       1       1       2         1  \n",
       "10000057       0       0       1       1         1  \n",
       "10000069      11       9       8       9         1  \n",
       "10000138       1       1       0       0         1  \n",
       "10000193       1       2       2       1         1  \n",
       "\n",
       "[5 rows x 30 columns]"
      ]
     },
     "execution_count": 19,
     "metadata": {},
     "output_type": "execute_result"
    }
   ],
   "source": [
    "df = format_table(Feb08_splits)\n",
    "df.to_csv(r'2020_Feb08_homeolog_counts.txt', sep='\\t')\n",
    "df.head()"
   ]
  },
  {
   "cell_type": "code",
   "execution_count": null,
   "metadata": {
    "collapsed": true
   },
   "outputs": [],
   "source": []
  },
  {
   "cell_type": "markdown",
   "metadata": {},
   "source": [
    "# Everything that follows is the more complicated exploration that led to the simplified code in 4.2.1"
   ]
  },
  {
   "cell_type": "markdown",
   "metadata": {
    "collapsed": true
   },
   "source": [
    "# Gene Tree Accounting with Duplications.csv"
   ]
  },
  {
   "cell_type": "code",
   "execution_count": 4,
   "metadata": {
    "collapsed": true
   },
   "outputs": [],
   "source": [
    "from collections import defaultdict\n",
    "def Nx_counts_from_Duplications(dup_path, node_name, n_events=1):\n",
    "    Nx_counts = defaultdict(lambda: 0)\n",
    "    from csv import DictReader\n",
    "    orthogroups_seen = set()\n",
    "    with open(dup_path,'r') as infile:\n",
    "        lines = DictReader(infile, delimiter='\\t')\n",
    "#         print(lines.fieldnames)\n",
    "        for line in lines:\n",
    "            orthogroups_seen.add(line['Orthogroup'])\n",
    "            if line['Species Tree Node'] == node_name:  # count mentions of N1\n",
    "                Nx_counts[line['Orthogroup']] += 1\n",
    "    return Nx_counts, orthogroups_seen"
   ]
  },
  {
   "cell_type": "code",
   "execution_count": 5,
   "metadata": {
    "collapsed": false
   },
   "outputs": [],
   "source": [
    "def heights(N1_counts):\n",
    "    N1_heights = []\n",
    "    for i in range(1, 10):\n",
    "        N1_heights.append(len([og for og, c in N1_counts.items() if c == i]))\n",
    "        print(i,       len([og for og, c in N1_counts.items() if c == i]))\n",
    "    print('All', len(N1_counts))\n",
    "    return N1_heights"
   ]
  },
  {
   "cell_type": "markdown",
   "metadata": {},
   "source": [
    "------------"
   ]
  },
  {
   "cell_type": "code",
   "execution_count": 7,
   "metadata": {
    "collapsed": false
   },
   "outputs": [],
   "source": [
    "from math import log\n",
    "def plot_dup_hist(N1_heights):\n",
    "    fig, ax = plt.subplots()\n",
    "    ax.bar([1,2,3,4,5,6,7,8,9], N1_heights, width=1, color='#3182bd')\n",
    "    ax.set_title(\"Duplications at the Oleaceae Root per Orthogroup\")\n",
    "    ax.set_xlabel(\"Duplications\")\n",
    "    ax.set_ylabel(\"Families\")"
   ]
  },
  {
   "cell_type": "code",
   "execution_count": 8,
   "metadata": {
    "collapsed": false
   },
   "outputs": [],
   "source": [
    "def plot_log_duplications(N1_heights):\n",
    "    fig, ax = plt.subplots()\n",
    "    ax.plot([1,2,3,4,5,6,7,8,9], [log(h) for h in N1_heights], 's-', color='#e6550d')\n",
    "    ax.set_title(\"Log Duplications at the Oleaceae Root per Orthogroup\")\n",
    "    ax.set_xlabel(\"Duplications\")\n",
    "    ax.set_ylabel(\"Families (Natural Log)\")"
   ]
  },
  {
   "cell_type": "code",
   "execution_count": 9,
   "metadata": {
    "collapsed": false
   },
   "outputs": [],
   "source": [
    "def print_ratios(N1_heights):\n",
    "    ratios = []\n",
    "    for i, h in enumerate(N1_heights):\n",
    "        if i:\n",
    "            print(round(h / N1_heights[i-1] , 2))\n",
    "            ratios.append(h / N1_heights[i-1])\n",
    "            if not h:\n",
    "                break\n",
    "    import statistics\n",
    "    print(\"Mean:\", statistics.mean(ratios[:5]))\n",
    "    print(\"Std dev:\", statistics.pstdev(ratios[:8]))\n",
    "    print(\"Sum\", sum([h for h in N1_heights]))"
   ]
  },
  {
   "cell_type": "code",
   "execution_count": 10,
   "metadata": {
    "collapsed": true
   },
   "outputs": [],
   "source": [
    "def report_graphs_duplications_selection(node_counts, my_orthogroups):    \n",
    "    N1_heights = heights(node_counts)\n",
    "    plot_dup_hist(N1_heights)\n",
    "    plot_log_duplications(N1_heights)\n",
    "    print_ratios(N1_heights)\n",
    "    old_study = [og for og, c in node_counts.items() if c == 1]\n",
    "    print(\"Total Orthogroups Found Containing the Target Duplication\", len(old_study))"
   ]
  },
  {
   "cell_type": "code",
   "execution_count": 6,
   "metadata": {
    "collapsed": true
   },
   "outputs": [],
   "source": [
    "N1_counts, ortho_Jul04 = Nx_counts_from_Duplications(\"Ash_Proteome\\Results_Jun25\\Orthologues_Jul04_2\\Duplications.csv\", 'N1')"
   ]
  },
  {
   "cell_type": "code",
   "execution_count": 11,
   "metadata": {
    "collapsed": false
   },
   "outputs": [
    {
     "name": "stdout",
     "output_type": "stream",
     "text": [
      "1 4242\n",
      "2 2377\n",
      "3 1256\n",
      "4 680\n",
      "5 350\n",
      "6 194\n",
      "7 125\n",
      "8 85\n",
      "9 57\n",
      "All 9546\n",
      "0.56\n",
      "0.53\n",
      "0.54\n",
      "0.51\n",
      "0.55\n",
      "0.64\n",
      "0.68\n",
      "0.67\n",
      "Mean: 0.5398277803614446\n",
      "Std dev: 0.06269242664855937\n",
      "Sum 9366\n",
      "Total Orthogroups Found Containing the Target Duplication 4242\n"
     ]
    },
    {
     "data": {
      "image/png": "[encoded data removed]",
      "text/plain": [
       "<matplotlib.figure.Figure at 0x6275320>"
      ]
     },
     "metadata": {},
     "output_type": "display_data"
    },
    {
     "data": {
      "image/png": "[encoded data removed]",
      "text/plain": [
       "<matplotlib.figure.Figure at 0x19abec50>"
      ]
     },
     "metadata": {},
     "output_type": "display_data"
    }
   ],
   "source": [
    "report_graphs_duplications_selection(N1_counts, ortho_Jul04)"
   ]
  },
  {
   "cell_type": "markdown",
   "metadata": {},
   "source": [
    "**Conclusion:** Still needs more thought.  Each extra step, between 0 and 1 duplication events to make the ratios line up for the first one:  Half of genes are duplicable.  Half of those actually get duplicated.  Half of those have N+1 duplications and so on.  Ratio might be different if we included the x > N tail instead of just the height of one bar.  CMF vs PDF essentially.  "
   ]
  },
  {
   "cell_type": "markdown",
   "metadata": {},
   "source": [
    "**Conclusion** That is eerily close to a perfectly straight line on the log scale.  The chance of seeing N+1 duplication events is a percentage of the previous number."
   ]
  },
  {
   "cell_type": "markdown",
   "metadata": {},
   "source": [
    "**Conclusion** 85% of OGs with a duplication have an internal duplication.  49.9% of them mention N1.  22% have one duplication there, 2377+4242 = 34% of them have 1 or 2 duplications at N1.  There's still twice as many with 1 than 2.  I would need Jasmine to separate the two categories.  "
   ]
  },
  {
   "cell_type": "code",
   "execution_count": 12,
   "metadata": {
    "collapsed": false
   },
   "outputs": [
    {
     "name": "stdout",
     "output_type": "stream",
     "text": [
      "1 4076\n",
      "2 2363\n",
      "3 1246\n",
      "4 678\n",
      "5 338\n",
      "6 202\n",
      "7 129\n",
      "8 89\n",
      "9 55\n",
      "All 9356\n",
      "0.58\n",
      "0.53\n",
      "0.54\n",
      "0.5\n",
      "0.6\n",
      "0.64\n",
      "0.69\n",
      "0.62\n",
      "Mean: 0.5494660613210605\n",
      "Std dev: 0.058748587666901775\n",
      "Sum 9176\n",
      "Total Orthogroups Found Containing the Target Duplication 4076\n"
     ]
    },
    {
     "data": {
      "image/png": "[encoded data removed]",
      "text/plain": [
       "<matplotlib.figure.Figure at 0x1ad0ae80>"
      ]
     },
     "metadata": {},
     "output_type": "display_data"
    },
    {
     "data": {
      "image/png": "[encoded data removed]",
      "text/plain": [
       "<matplotlib.figure.Figure at 0x1ad296a0>"
      ]
     },
     "metadata": {},
     "output_type": "display_data"
    }
   ],
   "source": [
    "Feb08 = r\"Ash_Proteome\\Results_Jun25\\Orthologues_Jul04_2\\New_Analysis_From_Trees_Feb08\\Duplications.csv\"\n",
    "N2_counts, ortho_Feb08 = Nx_counts_from_Duplications(Feb08, 'N2')\n",
    "report_graphs_duplications_selection(N2_counts, ortho_Feb08)"
   ]
  },
  {
   "cell_type": "markdown",
   "metadata": {},
   "source": [
    "# Separate out Study Homeologs into pairs of trees"
   ]
  },
  {
   "cell_type": "markdown",
   "metadata": {},
   "source": [
    "*Ash_Proteome\\Results_Jun25\\Orthologues_Jul04_2\\Recon_Gene_Trees\\212_count_scrap.tre*  \n",
    "A vs B subtrees after a duplication are defined in the \"Genes 1\" and \"Genes 2\" columns of Duplications.csv. The \"Gene Tree Node\" seems nonsensical, but the number and names of listed genes correspond to actual subtrees."
   ]
  },
  {
   "cell_type": "markdown",
   "metadata": {
    "collapsed": false
   },
   "source": [
    "from shutil import copy\n",
    "import os\n",
    "from os.path import splitext, basename\n",
    "os.chdir(r'D:\\josiah\\Documents\\Research\\Thesis - Genome Symmetry\\DNA_Duplications\\Ash_Proteome\\Results_Jun25\\Orthologues_Jul04_2')\n",
    "\n",
    "##### Rename every text file to a .tre file\n",
    "from glob import glob\n",
    "for f in glob('Gene_Trees/*.txt'):\n",
    "    os.rename(f, 'Gene_trees/'+splitext(basename(f))[0]+'.tre')\n",
    "    \n",
    "for f in glob('Recon_Gene_Trees/*.txt'):\n",
    "    os.rename(f, 'Recon_Gene_trees/'+splitext(basename(f))[0]+'.tre')"
   ]
  },
  {
   "cell_type": "markdown",
   "metadata": {},
   "source": [
    "## Splitting into pairs of sets of genes following the WGD"
   ]
  },
  {
   "cell_type": "code",
   "execution_count": 14,
   "metadata": {
    "collapsed": false
   },
   "outputs": [],
   "source": [
    "import os\n",
    "from collections import defaultdict\n",
    "from pandas import read_csv\n",
    "def duplications_count_by_node(species_node, dup_path, rows):\n",
    "    N_counts = defaultdict(lambda: 0)\n",
    "    os.chdir(r'D:\\josiah\\Documents\\Research\\Thesis - Genome Symmetry\\DNA_Duplications')\n",
    "    for index, line in rows[rows['Species Tree Node'] == species_node].iterrows():\n",
    "        og = line['Orthogroup']\n",
    "        N_counts[og] += 1\n",
    "    study_homeologs = set([og for og, c in N_counts.items() if c == 1])\n",
    "    \n",
    "\n",
    "    all_splits = collect_all_Nx_duplicated_genes(rows, N_counts, species_node)\n",
    "    print('Found', len([k for k,v in N_counts.items() if v > 0])*2, 'subtrees')\n",
    "    print('Using', len(study_homeologs)*2, 'subtrees')\n",
    "    return study_homeologs, N_counts, all_splits\n",
    "\n"
   ]
  },
  {
   "cell_type": "code",
   "execution_count": 16,
   "metadata": {
    "collapsed": false
   },
   "outputs": [
    {
     "name": "stdout",
     "output_type": "stream",
     "text": [
      "18712 subtrees\n",
      "Found 18712 subtrees\n",
      "Using 8152 subtrees\n",
      "0 Total Genes included in the study, separated over 0 gene families\n"
     ]
    }
   ],
   "source": [
    "def split_subtrees(target_species_node, duplications_path):\n",
    "    \"\"\"There's a crucial difference between the returned study_homeologs and split_families.\n",
    "    split_families is NOT filtered to only be 1 duplication at the target node. It can be \n",
    "    any number of duplications.  study_homeologs is filtered to == 1.\"\"\"\n",
    "    rows = read_csv(duplications_path, delimiter='\\t')\n",
    "    study_homeologs, N_counts, all_splits = duplications_count_by_node(target_species_node, duplications_path, rows)\n",
    "    split_families = {}\n",
    "    \n",
    "    #all_splits_table = format_table(all_splits)\n",
    "    #all_splits_table.head()\n",
    "    #all_splits_table.to_csv(r'CAFE-4.2\\data\\corrected_orthologs\\all_N1_duplication_counts.csv', sep='\\t')\n",
    "    study_rows = rows[rows['Orthogroup'].isin(study_homeologs) & (rows['Species Tree Node'] == target_species_node)]\n",
    "    def final_split():\n",
    "        for index, row in study_rows.iterrows():\n",
    "            og = row['Orthogroup']\n",
    "            split_families[og + '_1'] = row['Genes 1'].split(', ')\n",
    "            split_families[og + '_2'] = row['Genes 2'].split(', ')\n",
    "    print(pp(sum([len(v) for v in split_families.values()])), \n",
    "          \"Total Genes included in the study, separated over\", \n",
    "          pp(len(split_families)), \"gene families\")\n",
    "    return study_homeologs, N_counts, split_families\n",
    "\n",
    "Feb08 = r\"Ash_Proteome\\Results_Jun25\\Orthologues_Jul04_2\\New_Analysis_From_Trees_Feb08\\Duplications.csv\"\n",
    "Feb08_homeologs, N2_counts, subtrees_Feb08 = split_subtrees('N2', Feb08)"
   ]
  },
  {
   "cell_type": "code",
   "execution_count": 17,
   "metadata": {
    "collapsed": false
   },
   "outputs": [
    {
     "name": "stdout",
     "output_type": "stream",
     "text": [
      "19092 subtrees\n",
      "Found 19092 subtrees\n",
      "Using 8484 subtrees\n",
      "0 Total Genes included in the study, separated over 0 gene families\n"
     ]
    }
   ],
   "source": [
    "Jul04 = r\"Ash_Proteome\\Results_Jun25\\Orthologues_Jul04_2\\Duplications.csv\"\n",
    "Jul04_homeologs, N1_counts, subtrees_Jul04 = split_subtrees('N1', Jul04)"
   ]
  },
  {
   "cell_type": "code",
   "execution_count": 97,
   "metadata": {
    "collapsed": false
   },
   "outputs": [
    {
     "name": "stdout",
     "output_type": "stream",
     "text": [
      "96,778 Total Genes included in the study, separated over 3,204 gene families\n"
     ]
    }
   ],
   "source": []
  },
  {
   "cell_type": "code",
   "execution_count": 17,
   "metadata": {
    "collapsed": true
   },
   "outputs": [],
   "source": [
    "#TODO Double check with original Jul04 dataset to see if we still get 8484 families\n",
    "#N1_counts, orthogroups_seen = Nx_counts_from_Duplications(\"Ash_Proteome\\Results_Jun25\\Orthologues_Jul04_2\\Duplications.csv\", 'N1')"
   ]
  },
  {
   "cell_type": "markdown",
   "metadata": {},
   "source": [
    "Peel off first part of gene name for species count"
   ]
  },
  {
   "cell_type": "code",
   "execution_count": 59,
   "metadata": {
    "collapsed": false
   },
   "outputs": [
    {
     "data": {
      "text/plain": [
       "96778"
      ]
     },
     "execution_count": 59,
     "metadata": {},
     "output_type": "execute_result"
    }
   ],
   "source": [
    "gene_set = set()\n",
    "gene_set.update(*(v for v in split_families.values()))\n",
    "len(gene_set)"
   ]
  },
  {
   "cell_type": "code",
   "execution_count": 60,
   "metadata": {
    "collapsed": false
   },
   "outputs": [
    {
     "data": {
      "text/plain": [
       "{'FRAX00',\n",
       " 'FRAX01',\n",
       " 'FRAX02',\n",
       " 'FRAX03',\n",
       " 'FRAX04',\n",
       " 'FRAX05',\n",
       " 'FRAX06',\n",
       " 'FRAX07',\n",
       " 'FRAX08',\n",
       " 'FRAX09',\n",
       " 'FRAX11',\n",
       " 'FRAX12',\n",
       " 'FRAX13',\n",
       " 'FRAX14',\n",
       " 'FRAX15',\n",
       " 'FRAX16',\n",
       " 'FRAX19',\n",
       " 'FRAX20',\n",
       " 'FRAX21',\n",
       " 'FRAX23',\n",
       " 'FRAX25',\n",
       " 'FRAX26',\n",
       " 'FRAX27',\n",
       " 'FRAX28',\n",
       " 'FRAX29',\n",
       " 'FRAX30',\n",
       " 'FRAX31',\n",
       " 'FRAX32',\n",
       " 'FRAX33',\n",
       " 'FRAX34',\n",
       " 'Oeuropea'}"
      ]
     },
     "execution_count": 60,
     "metadata": {},
     "output_type": "execute_result"
    }
   ],
   "source": [
    "unique_starts = set(gene.split('_')[0] for gene in gene_set)\n",
    "unique_starts"
   ]
  },
  {
   "cell_type": "code",
   "execution_count": 61,
   "metadata": {
    "collapsed": false
   },
   "outputs": [
    {
     "data": {
      "text/plain": [
       "[]"
      ]
     },
     "execution_count": 61,
     "metadata": {},
     "output_type": "execute_result"
    }
   ],
   "source": [
    "[gene for gene in gene_set if not gene.startswith('FRAX') and not gene.startswith('Oeuropea')]"
   ]
  },
  {
   "cell_type": "markdown",
   "metadata": {},
   "source": [
    "**Conclusion:** There are no Solanum or Erythranthe genes in these subtrees.  That was probably an implicit criteria of their selection.  Is this a problem?  Since I'm retaining the original OG names, we can always cross reference the included subtrees and the excluded subtrees (which would contain Solanum and Erythranthe)."
   ]
  },
  {
   "cell_type": "markdown",
   "metadata": {},
   "source": [
    "*TODO: Pull OG out of Orthogroups.csv and remove the genes listed in \"Genes 1\" and \"Genes 2\" (also in gene_set) and save this as OG#####_out.*"
   ]
  },
  {
   "cell_type": "code",
   "execution_count": 62,
   "metadata": {
    "collapsed": true
   },
   "outputs": [],
   "source": [
    "df = format_table(split_families).head()"
   ]
  },
  {
   "cell_type": "markdown",
   "metadata": {
    "collapsed": false
   },
   "source": [
    "df.to_csv(r'CAFE-4.2\\data\\homeologs_only\\homeolog_counts.txt', sep='\\t')"
   ]
  },
  {
   "cell_type": "code",
   "execution_count": 63,
   "metadata": {
    "collapsed": false
   },
   "outputs": [
    {
     "data": {
      "text/html": [
       "<div>\n",
       "<style scoped>\n",
       "    .dataframe tbody tr th:only-of-type {\n",
       "        vertical-align: middle;\n",
       "    }\n",
       "\n",
       "    .dataframe tbody tr th {\n",
       "        vertical-align: top;\n",
       "    }\n",
       "\n",
       "    .dataframe thead th {\n",
       "        text-align: right;\n",
       "    }\n",
       "</style>\n",
       "<table border=\"1\" class=\"dataframe\">\n",
       "  <thead>\n",
       "    <tr style=\"text-align: right;\">\n",
       "      <th></th>\n",
       "      <th>Family ID</th>\n",
       "      <th>FRAX00</th>\n",
       "      <th>FRAX01</th>\n",
       "      <th>FRAX03</th>\n",
       "      <th>FRAX04</th>\n",
       "      <th>FRAX05</th>\n",
       "      <th>FRAX06</th>\n",
       "      <th>FRAX07</th>\n",
       "      <th>FRAX08</th>\n",
       "      <th>FRAX09</th>\n",
       "      <th>...</th>\n",
       "      <th>FRAX25</th>\n",
       "      <th>FRAX26</th>\n",
       "      <th>FRAX27</th>\n",
       "      <th>FRAX28</th>\n",
       "      <th>FRAX29</th>\n",
       "      <th>FRAX30</th>\n",
       "      <th>FRAX31</th>\n",
       "      <th>FRAX32</th>\n",
       "      <th>FRAX33</th>\n",
       "      <th>Oeuropea</th>\n",
       "    </tr>\n",
       "    <tr>\n",
       "      <th>Desc</th>\n",
       "      <th></th>\n",
       "      <th></th>\n",
       "      <th></th>\n",
       "      <th></th>\n",
       "      <th></th>\n",
       "      <th></th>\n",
       "      <th></th>\n",
       "      <th></th>\n",
       "      <th></th>\n",
       "      <th></th>\n",
       "      <th></th>\n",
       "      <th></th>\n",
       "      <th></th>\n",
       "      <th></th>\n",
       "      <th></th>\n",
       "      <th></th>\n",
       "      <th></th>\n",
       "      <th></th>\n",
       "      <th></th>\n",
       "      <th></th>\n",
       "      <th></th>\n",
       "    </tr>\n",
       "  </thead>\n",
       "  <tbody>\n",
       "    <tr>\n",
       "      <th>OG0000013_1</th>\n",
       "      <td>OG0000013_1</td>\n",
       "      <td>1</td>\n",
       "      <td>1</td>\n",
       "      <td>1</td>\n",
       "      <td>1</td>\n",
       "      <td>1</td>\n",
       "      <td>2</td>\n",
       "      <td>2</td>\n",
       "      <td>1</td>\n",
       "      <td>1</td>\n",
       "      <td>...</td>\n",
       "      <td>1</td>\n",
       "      <td>0</td>\n",
       "      <td>1</td>\n",
       "      <td>1</td>\n",
       "      <td>2</td>\n",
       "      <td>2</td>\n",
       "      <td>1</td>\n",
       "      <td>1</td>\n",
       "      <td>2</td>\n",
       "      <td>1</td>\n",
       "    </tr>\n",
       "    <tr>\n",
       "      <th>OG0000013_2</th>\n",
       "      <td>OG0000013_2</td>\n",
       "      <td>3</td>\n",
       "      <td>3</td>\n",
       "      <td>1</td>\n",
       "      <td>1</td>\n",
       "      <td>2</td>\n",
       "      <td>2</td>\n",
       "      <td>1</td>\n",
       "      <td>1</td>\n",
       "      <td>2</td>\n",
       "      <td>...</td>\n",
       "      <td>2</td>\n",
       "      <td>2</td>\n",
       "      <td>1</td>\n",
       "      <td>1</td>\n",
       "      <td>1</td>\n",
       "      <td>1</td>\n",
       "      <td>2</td>\n",
       "      <td>1</td>\n",
       "      <td>1</td>\n",
       "      <td>0</td>\n",
       "    </tr>\n",
       "    <tr>\n",
       "      <th>OG0000057_1</th>\n",
       "      <td>OG0000057_1</td>\n",
       "      <td>1</td>\n",
       "      <td>1</td>\n",
       "      <td>0</td>\n",
       "      <td>0</td>\n",
       "      <td>0</td>\n",
       "      <td>1</td>\n",
       "      <td>0</td>\n",
       "      <td>1</td>\n",
       "      <td>0</td>\n",
       "      <td>...</td>\n",
       "      <td>0</td>\n",
       "      <td>1</td>\n",
       "      <td>1</td>\n",
       "      <td>0</td>\n",
       "      <td>1</td>\n",
       "      <td>0</td>\n",
       "      <td>0</td>\n",
       "      <td>1</td>\n",
       "      <td>1</td>\n",
       "      <td>1</td>\n",
       "    </tr>\n",
       "    <tr>\n",
       "      <th>OG0000057_2</th>\n",
       "      <td>OG0000057_2</td>\n",
       "      <td>2</td>\n",
       "      <td>11</td>\n",
       "      <td>8</td>\n",
       "      <td>8</td>\n",
       "      <td>10</td>\n",
       "      <td>6</td>\n",
       "      <td>9</td>\n",
       "      <td>8</td>\n",
       "      <td>10</td>\n",
       "      <td>...</td>\n",
       "      <td>2</td>\n",
       "      <td>6</td>\n",
       "      <td>9</td>\n",
       "      <td>12</td>\n",
       "      <td>10</td>\n",
       "      <td>10</td>\n",
       "      <td>1</td>\n",
       "      <td>11</td>\n",
       "      <td>6</td>\n",
       "      <td>0</td>\n",
       "    </tr>\n",
       "    <tr>\n",
       "      <th>OG0000069_1</th>\n",
       "      <td>OG0000069_1</td>\n",
       "      <td>2</td>\n",
       "      <td>6</td>\n",
       "      <td>9</td>\n",
       "      <td>8</td>\n",
       "      <td>9</td>\n",
       "      <td>6</td>\n",
       "      <td>10</td>\n",
       "      <td>8</td>\n",
       "      <td>9</td>\n",
       "      <td>...</td>\n",
       "      <td>9</td>\n",
       "      <td>8</td>\n",
       "      <td>9</td>\n",
       "      <td>9</td>\n",
       "      <td>8</td>\n",
       "      <td>11</td>\n",
       "      <td>9</td>\n",
       "      <td>8</td>\n",
       "      <td>9</td>\n",
       "      <td>1</td>\n",
       "    </tr>\n",
       "  </tbody>\n",
       "</table>\n",
       "<p>5 rows × 30 columns</p>\n",
       "</div>"
      ],
      "text/plain": [
       "               Family ID  FRAX00  FRAX01  FRAX03  FRAX04  FRAX05  FRAX06  \\\n",
       "Desc                                                                       \n",
       "OG0000013_1  OG0000013_1       1       1       1       1       1       2   \n",
       "OG0000013_2  OG0000013_2       3       3       1       1       2       2   \n",
       "OG0000057_1  OG0000057_1       1       1       0       0       0       1   \n",
       "OG0000057_2  OG0000057_2       2      11       8       8      10       6   \n",
       "OG0000069_1  OG0000069_1       2       6       9       8       9       6   \n",
       "\n",
       "             FRAX07  FRAX08  FRAX09    ...     FRAX25  FRAX26  FRAX27  FRAX28  \\\n",
       "Desc                                   ...                                      \n",
       "OG0000013_1       2       1       1    ...          1       0       1       1   \n",
       "OG0000013_2       1       1       2    ...          2       2       1       1   \n",
       "OG0000057_1       0       1       0    ...          0       1       1       0   \n",
       "OG0000057_2       9       8      10    ...          2       6       9      12   \n",
       "OG0000069_1      10       8       9    ...          9       8       9       9   \n",
       "\n",
       "             FRAX29  FRAX30  FRAX31  FRAX32  FRAX33  Oeuropea  \n",
       "Desc                                                           \n",
       "OG0000013_1       2       2       1       1       2         1  \n",
       "OG0000013_2       1       1       2       1       1         0  \n",
       "OG0000057_1       1       0       0       1       1         1  \n",
       "OG0000057_2      10      10       1      11       6         0  \n",
       "OG0000069_1       8      11       9       8       9         1  \n",
       "\n",
       "[5 rows x 30 columns]"
      ]
     },
     "execution_count": 63,
     "metadata": {},
     "output_type": "execute_result"
    }
   ],
   "source": [
    "df.head()"
   ]
  },
  {
   "cell_type": "markdown",
   "metadata": {
    "collapsed": true
   },
   "source": [
    "\n",
    "# Feb 05 Analysis Using Corrected Outgroup Reconciled Gene Trees\n",
    "\n",
    "Previous studies were done with Orthogroups made with all species (FRAX02 and FRAX34) but also the wrong relationship between Solanum and Mimmulus (Eryanthre).  Having corrected that, the species tree that gene trees are reconciled to also need to be updated.  \n",
    "* The node might not be called N1 anymore\n",
    "    * Based on the labeling of nodes from the same program I expect **the species tree Oleaceae to be N2**\n",
    "* We should still filter for 1 split at the WGD per gene tree\n",
    "* Still take the left and right subtrees and discard the rest of the gene tree outside those two subtrees.  That ensure we're comparing gene pairs of equal age from the same event.  \n",
    "* Technically every pairwise combination across (but not within) the two subtrees should be a valid Ks and 4DTv\n"
   ]
  },
  {
   "cell_type": "code",
   "execution_count": 64,
   "metadata": {
    "collapsed": false
   },
   "outputs": [],
   "source": [
    "Feb05 = r\"Ash_Proteome\\Results_Jun25\\Orthologues_Jul04_2\\New_Analysis_From_Trees_Feb05\\Duplications.csv\"\n",
    "N2_counts, orthogroups_N2_seen = Nx_counts_from_Duplications(Feb05, node_name='N2')"
   ]
  },
  {
   "cell_type": "code",
   "execution_count": 65,
   "metadata": {
    "collapsed": true
   },
   "outputs": [],
   "source": [
    "dups_df = read_csv(Feb05, delimiter='\\t')"
   ]
  },
  {
   "cell_type": "code",
   "execution_count": 66,
   "metadata": {
    "collapsed": false
   },
   "outputs": [
    {
     "data": {
      "text/html": [
       "<div>\n",
       "<style scoped>\n",
       "    .dataframe tbody tr th:only-of-type {\n",
       "        vertical-align: middle;\n",
       "    }\n",
       "\n",
       "    .dataframe tbody tr th {\n",
       "        vertical-align: top;\n",
       "    }\n",
       "\n",
       "    .dataframe thead th {\n",
       "        text-align: right;\n",
       "    }\n",
       "</style>\n",
       "<table border=\"1\" class=\"dataframe\">\n",
       "  <thead>\n",
       "    <tr style=\"text-align: right;\">\n",
       "      <th></th>\n",
       "      <th>Orthogroup</th>\n",
       "      <th>Species Tree Node</th>\n",
       "      <th>Gene Tree Node</th>\n",
       "      <th>Support</th>\n",
       "      <th>Type</th>\n",
       "      <th>Genes 1</th>\n",
       "      <th>Genes 2</th>\n",
       "    </tr>\n",
       "  </thead>\n",
       "  <tbody>\n",
       "    <tr>\n",
       "      <th>45502</th>\n",
       "      <td>OG0003492</td>\n",
       "      <td>N0</td>\n",
       "      <td>n0</td>\n",
       "      <td>0.060606</td>\n",
       "      <td>Shared</td>\n",
       "      <td>Slycopersicum_Solyc05g055020.2.1, Slycopersicu...</td>\n",
       "      <td>Slycopersicum_Solyc06g082210.1.1, Oeuropea_OE6...</td>\n",
       "    </tr>\n",
       "    <tr>\n",
       "      <th>45503</th>\n",
       "      <td>OG0003492</td>\n",
       "      <td>Slycopersicum</td>\n",
       "      <td>n2</td>\n",
       "      <td>1.000000</td>\n",
       "      <td>Terminal</td>\n",
       "      <td>Slycopersicum_Solyc05g055020.2.1</td>\n",
       "      <td>Slycopersicum_Solyc04g009980.2.1</td>\n",
       "    </tr>\n",
       "    <tr>\n",
       "      <th>45504</th>\n",
       "      <td>OG0003492</td>\n",
       "      <td>N2</td>\n",
       "      <td>n5</td>\n",
       "      <td>1.000000</td>\n",
       "      <td>Shared</td>\n",
       "      <td>Oeuropea_OE6A096146P1, FRAX08_FRAX08_000398260...</td>\n",
       "      <td>Oeuropea_OE6A064601P1, Oeuropea_OE6A088529P1, ...</td>\n",
       "    </tr>\n",
       "    <tr>\n",
       "      <th>45505</th>\n",
       "      <td>OG0003492</td>\n",
       "      <td>Oeuropea</td>\n",
       "      <td>n39</td>\n",
       "      <td>1.000000</td>\n",
       "      <td>Terminal</td>\n",
       "      <td>Oeuropea_OE6A064601P1</td>\n",
       "      <td>Oeuropea_OE6A088529P1</td>\n",
       "    </tr>\n",
       "    <tr>\n",
       "      <th>45506</th>\n",
       "      <td>OG0003492</td>\n",
       "      <td>Mguttatus</td>\n",
       "      <td>n69</td>\n",
       "      <td>1.000000</td>\n",
       "      <td>Terminal</td>\n",
       "      <td>Mguttatus_Migut.H01303.1.p</td>\n",
       "      <td>Mguttatus_Migut.D00854.1.p</td>\n",
       "    </tr>\n",
       "  </tbody>\n",
       "</table>\n",
       "</div>"
      ],
      "text/plain": [
       "      Orthogroup Species Tree Node Gene Tree Node   Support      Type  \\\n",
       "45502  OG0003492                N0             n0  0.060606    Shared   \n",
       "45503  OG0003492     Slycopersicum             n2  1.000000  Terminal   \n",
       "45504  OG0003492                N2             n5  1.000000    Shared   \n",
       "45505  OG0003492          Oeuropea            n39  1.000000  Terminal   \n",
       "45506  OG0003492         Mguttatus            n69  1.000000  Terminal   \n",
       "\n",
       "                                                 Genes 1  \\\n",
       "45502  Slycopersicum_Solyc05g055020.2.1, Slycopersicu...   \n",
       "45503                   Slycopersicum_Solyc05g055020.2.1   \n",
       "45504  Oeuropea_OE6A096146P1, FRAX08_FRAX08_000398260...   \n",
       "45505                              Oeuropea_OE6A064601P1   \n",
       "45506                         Mguttatus_Migut.H01303.1.p   \n",
       "\n",
       "                                                 Genes 2  \n",
       "45502  Slycopersicum_Solyc06g082210.1.1, Oeuropea_OE6...  \n",
       "45503                   Slycopersicum_Solyc04g009980.2.1  \n",
       "45504  Oeuropea_OE6A064601P1, Oeuropea_OE6A088529P1, ...  \n",
       "45505                              Oeuropea_OE6A088529P1  \n",
       "45506                         Mguttatus_Migut.D00854.1.p  "
      ]
     },
     "execution_count": 66,
     "metadata": {},
     "output_type": "execute_result"
    }
   ],
   "source": [
    "dups_df[dups_df['Orthogroup'] == 'OG0003492'].head()"
   ]
  },
  {
   "cell_type": "code",
   "execution_count": 67,
   "metadata": {
    "collapsed": false
   },
   "outputs": [
    {
     "data": {
      "text/plain": [
       "1"
      ]
     },
     "execution_count": 67,
     "metadata": {},
     "output_type": "execute_result"
    }
   ],
   "source": [
    "N1_counts['OG0003492']"
   ]
  },
  {
   "cell_type": "code",
   "execution_count": 38,
   "metadata": {
    "collapsed": false
   },
   "outputs": [
    {
     "data": {
      "text/plain": [
       "0.3941537010843942"
      ]
     },
     "execution_count": 38,
     "metadata": {},
     "output_type": "execute_result"
    }
   ],
   "source": [
    "from statistics import mean\n",
    "N2_compare = [N2_counts[og] for og in Jul04_homeologs]\n",
    "mean(N2_compare)"
   ]
  },
  {
   "cell_type": "code",
   "execution_count": 39,
   "metadata": {
    "collapsed": false
   },
   "outputs": [
    {
     "data": {
      "text/plain": [
       "0.09288071664309289"
      ]
     },
     "execution_count": 39,
     "metadata": {},
     "output_type": "execute_result"
    }
   ],
   "source": [
    "N0_counts, ignored = Nx_counts_from_Duplications(Feb05, node_name='N0')\n",
    "mean([N0_counts[og] for og in Jul04_homeologs])"
   ]
  },
  {
   "cell_type": "code",
   "execution_count": 40,
   "metadata": {
    "collapsed": false
   },
   "outputs": [
    {
     "data": {
      "text/plain": [
       "0.08557284299858557"
      ]
     },
     "execution_count": 40,
     "metadata": {},
     "output_type": "execute_result"
    }
   ],
   "source": [
    "Nx_counts, ignored = Nx_counts_from_Duplications(Feb05, node_name='N1')\n",
    "mean([Nx_counts[og] for og in Jul04_homeologs])"
   ]
  },
  {
   "cell_type": "code",
   "execution_count": 41,
   "metadata": {
    "collapsed": false
   },
   "outputs": [
    {
     "data": {
      "text/plain": [
       "0.3941537010843942"
      ]
     },
     "execution_count": 41,
     "metadata": {},
     "output_type": "execute_result"
    }
   ],
   "source": [
    "Nx_counts, ignored = Nx_counts_from_Duplications(Feb05, node_name='N2')\n",
    "mean([Nx_counts[og] for og in Jul04_homeologs])"
   ]
  },
  {
   "cell_type": "code",
   "execution_count": 42,
   "metadata": {
    "collapsed": false
   },
   "outputs": [
    {
     "data": {
      "text/plain": [
       "0.33097595473833097"
      ]
     },
     "execution_count": 42,
     "metadata": {},
     "output_type": "execute_result"
    }
   ],
   "source": [
    "N3_counts, ignored = Nx_counts_from_Duplications(Feb05, node_name='N3')\n",
    "mean([N3_counts[og] for og in Jul04_homeologs])"
   ]
  },
  {
   "cell_type": "code",
   "execution_count": 43,
   "metadata": {
    "collapsed": false
   },
   "outputs": [
    {
     "data": {
      "text/plain": [
       "0.32814710042432815"
      ]
     },
     "execution_count": 43,
     "metadata": {},
     "output_type": "execute_result"
    }
   ],
   "source": [
    "N4_counts, ignored = Nx_counts_from_Duplications(Feb05, node_name='N4')\n",
    "mean([N4_counts[og] for og in Jul04_homeologs])"
   ]
  },
  {
   "cell_type": "markdown",
   "metadata": {},
   "source": [
    "**GOAL:** Test to what degree N1_counts and N2_counts differ.  \n",
    "* Given a group of N1_counts that are all 1, their average in N2 counts should be close to 1.\n",
    "* Given a different Species tree node, the results should be more divergent than 3%\n",
    "\n",
    "| Results | Average |\n",
    "| ----------- | ----------- |\n",
    "| N0    | 0.11621876473361623 |\n",
    "| N1    | 0.11291843470061291  |\n",
    "| **N2** | **0.9707685054219708**  |\n",
    "| N3    | 0.5044790193305044|\n",
    "| N4    | 0.4941065535124941|\n",
    "\n",
    "* Results strongly support that N2 is the species node and that results are largely unchanged ~3%"
   ]
  },
  {
   "cell_type": "markdown",
   "metadata": {},
   "source": [
    "-------------------------------\n",
    "### Test for overlap in OG names"
   ]
  },
  {
   "cell_type": "code",
   "execution_count": 77,
   "metadata": {
    "collapsed": false
   },
   "outputs": [
    {
     "data": {
      "text/plain": [
       "1616"
      ]
     },
     "execution_count": 77,
     "metadata": {},
     "output_type": "execute_result"
    }
   ],
   "source": [
    "study_homeologs = set(study_homeologs)\n",
    "len(study_homeologs) # from incorrect species tree"
   ]
  },
  {
   "cell_type": "code",
   "execution_count": 78,
   "metadata": {
    "collapsed": false
   },
   "outputs": [
    {
     "data": {
      "text/plain": [
       "(1616, '100.000000%')"
      ]
     },
     "execution_count": 78,
     "metadata": {},
     "output_type": "execute_result"
    }
   ],
   "source": [
    "refined_ohnologs = {og for og in N2_counts if N2_counts[og] == 1}\n",
    "len(refined_ohnologs), pp(len(refined_ohnologs) / len(study_homeologs))"
   ]
  },
  {
   "cell_type": "code",
   "execution_count": 75,
   "metadata": {
    "collapsed": false
   },
   "outputs": [
    {
     "data": {
      "text/plain": [
       "0.39656441717791413"
      ]
     },
     "execution_count": 75,
     "metadata": {},
     "output_type": "execute_result"
    }
   ],
   "source": [
    "len(refined_ohnologs.intersection(study_homeologs)) / 4075  # Agreement overlap"
   ]
  },
  {
   "cell_type": "code",
   "execution_count": 79,
   "metadata": {
    "collapsed": false
   },
   "outputs": [
    {
     "data": {
      "text/plain": [
       "0.0"
      ]
     },
     "execution_count": 79,
     "metadata": {},
     "output_type": "execute_result"
    }
   ],
   "source": [
    "len(refined_ohnologs.difference(study_homeologs)) / 4075"
   ]
  },
  {
   "cell_type": "markdown",
   "metadata": {},
   "source": [
    "#### Conclusion: 97% overlap means the difference would be negligible\n",
    "-------------------------------\n",
    "### Test if the same gene Names would have been used in left-right subtrees for Ohnologs"
   ]
  },
  {
   "cell_type": "code",
   "execution_count": 21,
   "metadata": {
    "collapsed": true
   },
   "outputs": [],
   "source": [
    "def gene_set_from_Duplications_csv(path, node_name):\n",
    "    counts, ignored = Nx_counts_from_Duplications(path, node_name=node_name)\n",
    "    print(\"Done collecting\", len(counts), \"counts\")\n",
    "    df = read_csv(path, delimiter='\\t')\n",
    "    splits = collect_all_Nx_duplicated_genes(df, counts, node_name)\n",
    "    print(\"Identified\", len(splits), \"valid ohnolog tree splits\")\n",
    "    gene_set = set()\n",
    "    for v in splits.values():\n",
    "        gene_set.update(v)\n",
    "    print(len(gene_set), \"ohnolog genes identified\")\n",
    "    return gene_set, splits"
   ]
  },
  {
   "cell_type": "code",
   "execution_count": 22,
   "metadata": {
    "collapsed": false
   },
   "outputs": [
    {
     "name": "stdout",
     "output_type": "stream",
     "text": [
      "Done collecting 9546 counts\n",
      "19092\n",
      "Identified 19092 valid ohnolog tree splits\n",
      "579487 ohnolog genes identified\n"
     ]
    }
   ],
   "source": [
    "Jul04 = r\"Ash_Proteome\\Results_Jun25\\Orthologues_Jul04_2\\Duplications.csv\" \n",
    "Jul04_set, Jul04_splits = gene_set_from_Duplications_csv(Jul04, 'N1')"
   ]
  },
  {
   "cell_type": "code",
   "execution_count": 25,
   "metadata": {
    "collapsed": true
   },
   "outputs": [
    {
     "ename": "NameError",
     "evalue": "name 'dups_df' is not defined",
     "output_type": "error",
     "traceback": [
      "\u001b[0;31m---------------------------------------------------------------------------\u001b[0m",
      "\u001b[0;31mNameError\u001b[0m                                 Traceback (most recent call last)",
      "\u001b[0;32m<ipython-input-25-2ad0d0ab3607>\u001b[0m in \u001b[0;36m<module>\u001b[0;34m()\u001b[0m\n\u001b[0;32m----> 1\u001b[0;31m \u001b[0mrevised_splits\u001b[0m \u001b[1;33m=\u001b[0m \u001b[0mcollect_all_Nx_duplicated_genes\u001b[0m\u001b[1;33m(\u001b[0m\u001b[0mdups_df\u001b[0m\u001b[1;33m,\u001b[0m \u001b[0mN2_counts\u001b[0m\u001b[1;33m,\u001b[0m \u001b[1;34m'N2'\u001b[0m\u001b[1;33m)\u001b[0m\u001b[1;33m\u001b[0m\u001b[0m\n\u001b[0m",
      "\u001b[0;31mNameError\u001b[0m: name 'dups_df' is not defined"
     ]
    }
   ],
   "source": [
    "revised_splits = collect_all_Nx_duplicated_genes(dups_df, N2_counts, 'N2')"
   ]
  },
  {
   "cell_type": "code",
   "execution_count": 94,
   "metadata": {
    "collapsed": false
   },
   "outputs": [
    {
     "data": {
      "text/plain": [
       "'181.482890%'"
      ]
     },
     "execution_count": 94,
     "metadata": {},
     "output_type": "execute_result"
    }
   ],
   "source": [
    "pp(len(Jul04_splits) / len(revised_splits))"
   ]
  },
  {
   "cell_type": "code",
   "execution_count": 24,
   "metadata": {
    "collapsed": false
   },
   "outputs": [
    {
     "ename": "NameError",
     "evalue": "name 'revised_splits' is not defined",
     "output_type": "error",
     "traceback": [
      "\u001b[0;31m---------------------------------------------------------------------------\u001b[0m",
      "\u001b[0;31mNameError\u001b[0m                                 Traceback (most recent call last)",
      "\u001b[0;32m<ipython-input-24-5ed61d298d29>\u001b[0m in \u001b[0;36m<module>\u001b[0;34m()\u001b[0m\n\u001b[1;32m      1\u001b[0m \u001b[1;31m#Virutally identical sets of keys\u001b[0m\u001b[1;33m\u001b[0m\u001b[1;33m\u001b[0m\u001b[0m\n\u001b[0;32m----> 2\u001b[0;31m \u001b[0mpp\u001b[0m\u001b[1;33m(\u001b[0m\u001b[0mlen\u001b[0m\u001b[1;33m(\u001b[0m\u001b[0mset\u001b[0m\u001b[1;33m(\u001b[0m\u001b[0mrevised_splits\u001b[0m\u001b[1;33m.\u001b[0m\u001b[0mkeys\u001b[0m\u001b[1;33m(\u001b[0m\u001b[1;33m)\u001b[0m\u001b[1;33m)\u001b[0m\u001b[1;33m.\u001b[0m\u001b[0mintersection\u001b[0m\u001b[1;33m(\u001b[0m\u001b[0mJul04_splits\u001b[0m\u001b[1;33m.\u001b[0m\u001b[0mkeys\u001b[0m\u001b[1;33m(\u001b[0m\u001b[1;33m)\u001b[0m\u001b[1;33m)\u001b[0m\u001b[1;33m)\u001b[0m \u001b[1;33m/\u001b[0m \u001b[1;36m18712\u001b[0m\u001b[1;33m)\u001b[0m\u001b[1;33m\u001b[0m\u001b[0m\n\u001b[0m",
      "\u001b[0;31mNameError\u001b[0m: name 'revised_splits' is not defined"
     ]
    }
   ],
   "source": [
    "#Virutally identical sets of keys\n",
    "pp(len(set(revised_splits.keys()).intersection(Jul04_splits.keys())) / 18712)"
   ]
  },
  {
   "cell_type": "markdown",
   "metadata": {},
   "source": [
    "#### Final conclusion: revised_gene_set with corrected outgroup species tree yields nearly identical results.  There's no need to change downstream analysis or doubt the membership of Ohnologs\n",
    "\n",
    "## Testing Determinism of Gene Tree Reconciliation\n",
    "corrected_homeologs.sh was run two more times, yielding Feb05, Feb08, and Feb12 that were all run under **exactly** the same parameters.  Differences in these results are due to non-determinism of the algorithm."
   ]
  },
  {
   "cell_type": "code",
   "execution_count": 26,
   "metadata": {
    "collapsed": false
   },
   "outputs": [
    {
     "name": "stdout",
     "output_type": "stream",
     "text": [
      "Done collecting 9546 counts\n",
      "19092\n",
      "Identified 19092 valid ohnolog tree splits\n",
      "579487 ohnolog genes identified\n"
     ]
    }
   ],
   "source": [
    "Jul04 = r\"Ash_Proteome\\Results_Jun25\\Orthologues_Jul04_2\\Duplications.csv\" \n",
    "Jul04_set, Jul04_splits = gene_set_from_Duplications_csv(Jul04, 'N1')"
   ]
  },
  {
   "cell_type": "code",
   "execution_count": 27,
   "metadata": {
    "collapsed": false
   },
   "outputs": [
    {
     "name": "stdout",
     "output_type": "stream",
     "text": [
      "Done collecting 5260 counts\n",
      "10520\n",
      "Identified 10520 valid ohnolog tree splits\n",
      "396040 ohnolog genes identified\n"
     ]
    }
   ],
   "source": [
    "Feb05 = r\"Ash_Proteome\\Results_Jun25\\Orthologues_Jul04_2\\New_Analysis_From_Trees_Feb05\\Duplications.csv\"\n",
    "Feb05_set, Feb05_splits = gene_set_from_Duplications_csv(Feb05, 'N2')"
   ]
  },
  {
   "cell_type": "code",
   "execution_count": 26,
   "metadata": {
    "collapsed": false
   },
   "outputs": [
    {
     "name": "stdout",
     "output_type": "stream",
     "text": [
      "Done collecting 9356 counts\n",
      "18712 subtrees\n",
      "Identified 18712 valid ohnolog tree splits\n",
      "570551 ohnolog genes identified\n"
     ]
    }
   ],
   "source": [
    "Feb08 = r\"Ash_Proteome\\Results_Jun25\\Orthologues_Jul04_2\\New_Analysis_From_Trees_Feb08\\Duplications.csv\"\n",
    "Feb08_set, Feb08_splits = gene_set_from_Duplications_csv(Feb08, 'N2')"
   ]
  },
  {
   "cell_type": "code",
   "execution_count": 22,
   "metadata": {
    "collapsed": false
   },
   "outputs": [
    {
     "name": "stdout",
     "output_type": "stream",
     "text": [
      "Done collecting 9357 counts\n",
      "18714 subtrees\n",
      "Identified 18714 valid ohnolog tree splits\n",
      "570520 ohnolog genes identified\n"
     ]
    }
   ],
   "source": [
    "Feb12 = r\"Ash_Proteome\\Results_Jun25\\Orthologues_Jul04_2\\New_Analysis_From_Trees_Feb12\\Duplications.csv\"\n",
    "Feb12_set, Feb12_splits = gene_set_from_Duplications_csv(Feb12, 'N2')"
   ]
  },
  {
   "cell_type": "code",
   "execution_count": 30,
   "metadata": {
    "collapsed": false
   },
   "outputs": [
    {
     "name": "stdout",
     "output_type": "stream",
     "text": [
      "Lengths are 68.343207% of the longer one\n",
      "Gene intersection is 66.984937% of the longer one\n"
     ]
    }
   ],
   "source": [
    "def overlap_geneset_statistics(setA, setB):\n",
    "#     pp(len(all_splits) / len(revised_splits))\n",
    "#     pp(len(set(revised_splits.keys()).intersection(all_splits.keys())) / 18712)\n",
    "    longer = max(len(setB), len(setA))\n",
    "    print(\"Lengths are\", pp(min(len(setA), len(setB)) / longer), \"of the longer one\")\n",
    "    print(\"Gene intersection is\", pp( len(setA.intersection(setB))/ longer),\"of the longer one\")\n",
    "overlap_geneset_statistics(Jul04_set, Feb05_set)"
   ]
  },
  {
   "cell_type": "code",
   "execution_count": 31,
   "metadata": {
    "collapsed": false
   },
   "outputs": [
    {
     "name": "stdout",
     "output_type": "stream",
     "text": [
      "Lengths are 69.413602% of the longer one\n",
      "Gene intersection is 69.292666% of the longer one\n"
     ]
    }
   ],
   "source": [
    "overlap_geneset_statistics(Feb08_set, Feb05_set)"
   ]
  },
  {
   "cell_type": "code",
   "execution_count": 32,
   "metadata": {
    "collapsed": false
   },
   "outputs": [
    {
     "name": "stdout",
     "output_type": "stream",
     "text": [
      "Lengths are 99.994567% of the longer one\n",
      "Gene intersection is 99.913943% of the longer one\n"
     ]
    }
   ],
   "source": [
    "overlap_geneset_statistics(Feb08_set, Feb12_set)"
   ]
  },
  {
   "cell_type": "code",
   "execution_count": 33,
   "metadata": {
    "collapsed": false,
    "scrolled": true
   },
   "outputs": [
    {
     "name": "stdout",
     "output_type": "stream",
     "text": [
      "Lengths are 69.417374% of the longer one\n",
      "Gene intersection is 69.233331% of the longer one\n"
     ]
    }
   ],
   "source": [
    "overlap_geneset_statistics(Feb05_set, Feb12_set)"
   ]
  },
  {
   "cell_type": "code",
   "execution_count": 34,
   "metadata": {
    "collapsed": false
   },
   "outputs": [
    {
     "name": "stdout",
     "output_type": "stream",
     "text": [
      "Lengths are 98.457946% of the longer one\n",
      "Gene intersection is 96.995964% of the longer one\n"
     ]
    }
   ],
   "source": [
    "overlap_geneset_statistics(Jul04_set, Feb08_set)"
   ]
  },
  {
   "cell_type": "code",
   "execution_count": 35,
   "metadata": {
    "collapsed": false
   },
   "outputs": [
    {
     "name": "stdout",
     "output_type": "stream",
     "text": [
      "Lengths are 98.452597% of the longer one\n",
      "Gene intersection is 97.007526% of the longer one\n"
     ]
    }
   ],
   "source": [
    "overlap_geneset_statistics(Jul04_set, Feb12_set)"
   ]
  },
  {
   "cell_type": "markdown",
   "metadata": {},
   "source": [
    "**New Conclusion: Feb05 is the only outlier. The rest have 97% agreement. I suspect Feb05 file got changed / switched at some point.**"
   ]
  },
  {
   "cell_type": "code",
   "execution_count": 23,
   "metadata": {
    "collapsed": false
   },
   "outputs": [
    {
     "data": {
      "text/plain": [
       "{'FRAX00',\n",
       " 'FRAX01',\n",
       " 'FRAX02',\n",
       " 'FRAX03',\n",
       " 'FRAX04',\n",
       " 'FRAX05',\n",
       " 'FRAX06',\n",
       " 'FRAX07',\n",
       " 'FRAX08',\n",
       " 'FRAX09',\n",
       " 'FRAX11',\n",
       " 'FRAX12',\n",
       " 'FRAX13',\n",
       " 'FRAX14',\n",
       " 'FRAX15',\n",
       " 'FRAX16',\n",
       " 'FRAX19',\n",
       " 'FRAX20',\n",
       " 'FRAX21',\n",
       " 'FRAX23',\n",
       " 'FRAX25',\n",
       " 'FRAX26',\n",
       " 'FRAX27',\n",
       " 'FRAX28',\n",
       " 'FRAX29',\n",
       " 'FRAX30',\n",
       " 'FRAX31',\n",
       " 'FRAX32',\n",
       " 'FRAX33',\n",
       " 'FRAX34',\n",
       " 'Oeurop'}"
      ]
     },
     "execution_count": 23,
     "metadata": {},
     "output_type": "execute_result"
    }
   ],
   "source": [
    "species_names = set()\n",
    "for i, name in enumerate(Feb12_set):\n",
    "    if i > 1000:\n",
    "        break\n",
    "    species_names.add(name[:6])\n",
    "species_names"
   ]
  },
  {
   "cell_type": "markdown",
   "metadata": {},
   "source": [
    "### Print gene list for Ks plots"
   ]
  },
  {
   "cell_type": "markdown",
   "metadata": {},
   "source": [
    "# Dill Session Save / Load"
   ]
  },
  {
   "cell_type": "markdown",
   "metadata": {
    "collapsed": true
   },
   "source": [
    "##  Save a Notebook session:\n",
    "import dill\n",
    "dill.dump_session('Homeologs_Analysis.db')\n",
    "\n",
    "Restore a Notebook session:\n",
    "import dill\n",
    "dill.load_session('Homeologs_Analysis.db')"
   ]
  },
  {
   "cell_type": "code",
   "execution_count": null,
   "metadata": {
    "collapsed": true
   },
   "outputs": [],
   "source": []
  }
 ],
 "metadata": {
  "kernelspec": {
   "display_name": "Python 3",
   "language": "python",
   "name": "python3"
  },
  "language_info": {
   "codemirror_mode": {
    "name": "ipython",
    "version": 3
   },
   "file_extension": ".py",
   "mimetype": "text/x-python",
   "name": "python",
   "nbconvert_exporter": "python",
   "pygments_lexer": "ipython3",
   "version": "3.4.3"
  }
 },
 "nbformat": 4,
 "nbformat_minor": 0
}
