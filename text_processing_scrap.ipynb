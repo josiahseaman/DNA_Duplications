{
 "cells": [
  {
   "cell_type": "code",
   "execution_count": 27,
   "metadata": {
    "collapsed": true
   },
   "outputs": [],
   "source": [
    "raw_names = \"\"\"F. albicans (FRAX26)\n",
    "F. americana (FRAX14)\n",
    "F. anomala (FRAX27)\n",
    "F. angustifolia subsp. angustifolia (FRAX01)\n",
    "F. angustifolia subsp. oxycarpa  (FRAX15)\n",
    "F. angustifolia subsp. syriaca (FRAX16)\n",
    "F. apertisquamifera (FRAX02)\n",
    "F. baroniana (FRAX28)\n",
    "F. bungeana (FRAX29)\n",
    "F. caroliniana (FRAX03)\n",
    "F. chinensis (FRAX30)\n",
    "F. cuspidata  (FRAX31)\n",
    "F. dipetala (FRAX04)\n",
    "F. floribunda  (FRAX32)\n",
    "F. goodingii (FRAX19)\n",
    "F. greggii (FRAX20)\n",
    "F. griffithii (FRAX21)\n",
    "F. latifolia (FRAX05)\n",
    "F. mandshurica (FRAX06)\n",
    "F. nigra (FRAX23)\n",
    "F. ornus (FRAX07)\n",
    "F. paxiana (FRAX08)\n",
    "F. pennsylvanica (FRAX09)\n",
    "F. pennsylvanica (FRAX10)\n",
    "F. platypoda (FRAX33)\n",
    "F. quadrangulata (FRAX11)\n",
    "F. sieboldiana (FRAX12)\n",
    "F. velutina (FRAX13)\n",
    "F. uhdei (FRAX34)\n",
    "F. xanthoxyloides (FRAX25)\"\"\""
   ]
  },
  {
   "cell_type": "code",
   "execution_count": 28,
   "metadata": {},
   "outputs": [],
   "source": [
    "class TwoWayDict(dict):\n",
    "    def __len__(self):\n",
    "        return dict.__len__(self) / 2\n",
    "\n",
    "    def __setitem__(self, key, value):\n",
    "        dict.__setitem__(self, key, value)\n",
    "        dict.__setitem__(self, value, key)"
   ]
  },
  {
   "cell_type": "code",
   "execution_count": 29,
   "metadata": {
    "collapsed": false
   },
   "outputs": [
    {
     "data": {
      "text/plain": [
       "[('F. albicans', 'FRAX26'),\n ('F. americana', 'FRAX14'),\n ('F. anomala', 'FRAX27'),\n ('F. angustifolia subsp. angustifolia', 'FRAX01'),\n ('F. angustifolia subsp. oxycarpa', 'FRAX15'),\n ('F. angustifolia subsp. syriaca', 'FRAX16'),\n ('F. apertisquamifera', 'FRAX02'),\n ('F. baroniana', 'FRAX28'),\n ('F. bungeana', 'FRAX29'),\n ('F. caroliniana', 'FRAX03'),\n ('F. chinensis', 'FRAX30'),\n ('F. cuspidata', 'FRAX31'),\n ('F. dipetala', 'FRAX04'),\n ('F. floribunda', 'FRAX32'),\n ('F. goodingii', 'FRAX19'),\n ('F. greggii', 'FRAX20'),\n ('F. griffithii', 'FRAX21'),\n ('F. latifolia', 'FRAX05'),\n ('F. mandshurica', 'FRAX06'),\n ('F. nigra', 'FRAX23'),\n ('F. ornus', 'FRAX07'),\n ('F. paxiana', 'FRAX08'),\n ('F. pennsylvanica', 'FRAX09'),\n ('F. pennsylvanica', 'FRAX10'),\n ('F. platypoda', 'FRAX33'),\n ('F. quadrangulata', 'FRAX11'),\n ('F. sieboldiana', 'FRAX12'),\n ('F. velutina', 'FRAX13'),\n ('F. uhdei', 'FRAX34'),\n ('F. xanthoxyloides', 'FRAX25')]"
      ]
     },
     "execution_count": 29,
     "metadata": {},
     "output_type": "execute_result"
    }
   ],
   "source": [
    "pairs = []\n",
    "translate = TwoWayDict()\n",
    "for line in raw_names.split('\\n'):\n",
    "    a, b = line.split('(')\n",
    "    a, b = a.strip(), b[:-1]\n",
    "    pairs.append((a, b))\n",
    "    translate[a] = b\n",
    "pairs"
   ]
  },
  {
   "cell_type": "markdown",
   "metadata": {},
   "source": [
    "for pair in sorted(pairs, key=lambda x: x[1]):\n",
    "    print(pair[1], ',', pair[0], sep='')"
   ]
  },
  {
   "cell_type": "code",
   "execution_count": 30,
   "metadata": {},
   "outputs": [
    {
     "data": {
      "text/plain": [
       "dict_keys(['FRAX06', 'F. velutina', 'FRAX27', 'FRAX25', 'FRAX28', 'FRAX13', 'FRAX07', 'F. cuspidata', 'FRAX12', 'FRAX05', 'F. chinensis', 'F. dipetala', 'F. latifolia', 'F. bungeana', 'FRAX11', 'FRAX08', 'FRAX04', 'F. anomala', 'FRAX20', 'F. albicans', 'FRAX16', 'F. goodingii', 'FRAX01', 'FRAX23', 'FRAX14', 'F. quadrangulata', 'F. mandshurica', 'F. uhdei', 'FRAX32', 'FRAX10', 'F. angustifolia subsp. syriaca', 'F. xanthoxyloides', 'F. ornus', 'FRAX09', 'F. angustifolia subsp. angustifolia', 'FRAX29', 'F. baroniana', 'FRAX02', 'FRAX15', 'FRAX03', 'F. apertisquamifera', 'F. caroliniana', 'FRAX30', 'FRAX21', 'F. paxiana', 'FRAX19', 'F. platypoda', 'F. americana', 'F. angustifolia subsp. oxycarpa', 'F. nigra', 'FRAX34', 'F. pennsylvanica', 'F. greggii', 'F. griffithii', 'FRAX31', 'F. floribunda', 'FRAX33', 'F. sieboldiana', 'FRAX26'])"
      ]
     },
     "execution_count": 30,
     "metadata": {},
     "output_type": "execute_result"
    }
   ],
   "source": [
    "translate.keys()"
   ]
  },
  {
   "cell_type": "code",
   "execution_count": 42,
   "metadata": {},
   "outputs": [],
   "source": [
    "status_text = \"\"\"Fraxinus albicans\n",
    "Fraxinus americana\n",
    "Fraxinus angustifolia subsp. angustifolia\n",
    "Fraxinus angustifolia subsp. oxycarpa\n",
    "Fraxinus angustifolia subsp. syriaca\n",
    "Fraxinus anomala\n",
    "Fraxinus apertisquamifera \n",
    "Fraxinus baroniana\n",
    "Fraxinus biltmoreana (syn. F. americana var. biltmoreana) \n",
    "Fraxinus bungeana\n",
    "Fraxinus caroliniana\n",
    "Fraxinus chinensis [subsp. chinensis?]\n",
    "Fraxinus chinensis subsp. rhyncophylla\n",
    "Fraxinus cuspidata\n",
    "Fraxinus dipetala\n",
    "Fraxinus excelsior [already published]\n",
    "Fraxinus floribunda\n",
    "Fraxinus goodingii\n",
    "Fraxinus greggii\n",
    "Fraxinus griffithii\n",
    "Fraxinus lanuginosa\n",
    "Fraxinus latifolia\n",
    "Fraxinus mandshurica\n",
    "Fraxinus nigra\n",
    "Fraxinus ornus \n",
    "Fraxinus paxiana\n",
    "Fraxinus pennsylvanica\n",
    "Fraxinus platypoda\n",
    "Fraxinus profunda \n",
    "Fraxinus quadrangulata\n",
    "Fraxinus sieboldiana\n",
    "Fraxinus uhdei\n",
    "Fraxinus velutina\n",
    "Fraxinus xanthoxyloides\"\"\""
   ]
  },
  {
   "cell_type": "code",
   "execution_count": 43,
   "metadata": {
    "collapsed": false
   },
   "outputs": [
    {
     "name": "stdout",
     "output_type": "stream",
     "text": [
      "F. albicans,FRAX26\nF. americana,FRAX14\nF. angustifolia subsp. angustifolia,FRAX01\nF. angustifolia subsp. oxycarpa,FRAX15\nF. angustifolia subsp. syriaca,FRAX16\nF. anomala,FRAX27\nF. apertisquamifera,FRAX02\nF. baroniana,FRAX28\nF. biltmoreana (syn. F. americana var. biltmoreana)\nF. bungeana,FRAX29\nF. caroliniana,FRAX03\nF. chinensis [subsp. chinensis?]\nF. chinensis subsp. rhyncophylla\nF. cuspidata,FRAX31\nF. dipetala,FRAX04\nF. excelsior [already published]\nF. floribunda,FRAX32\nF. goodingii,FRAX19\nF. greggii,FRAX20\nF. griffithii,FRAX21\nF. lanuginosa\nF. latifolia,FRAX05\nF. mandshurica,FRAX06\nF. nigra,FRAX23\nF. ornus,FRAX07\nF. paxiana,FRAX08\nF. pennsylvanica,FRAX10\nF. platypoda,FRAX33\nF. profunda\nF. quadrangulata,FRAX11\nF. sieboldiana,FRAX12\nF. uhdei,FRAX34\nF. velutina,FRAX13\nF. xanthoxyloides,FRAX25\n"
     ]
    }
   ],
   "source": [
    "for line in status_text.split('\\n'):\n",
    "    line = line.replace('Fraxinus', 'F.').strip()\n",
    "    if line in translate:\n",
    "        print(line, ',', translate[line], sep='')\n",
    "    else:\n",
    "        print(line)"
   ]
  },
  {
   "cell_type": "code",
   "execution_count": 41,
   "metadata": {},
   "outputs": [
    {
     "ename": "KeyError",
     "evalue": "'F. biltmoreana (syn. F. americana var. biltmoreana)'",
     "traceback": [
      "\u001b[0;31m---------------------------------------------------------------------------\u001b[0m",
      "\u001b[0;31mKeyError\u001b[0m                                  Traceback (most recent call last)",
      "\u001b[0;32m<ipython-input-41-7d17ad0e1b0a>\u001b[0m in \u001b[0;36m<module>\u001b[0;34m()\u001b[0m\n\u001b[1;32m      2\u001b[0m \u001b[1;32mfor\u001b[0m \u001b[0mline\u001b[0m \u001b[1;32min\u001b[0m \u001b[0mstatus_text\u001b[0m\u001b[1;33m.\u001b[0m\u001b[0msplit\u001b[0m\u001b[1;33m(\u001b[0m\u001b[1;34m'\\n'\u001b[0m\u001b[1;33m)\u001b[0m\u001b[1;33m:\u001b[0m\u001b[1;33m\u001b[0m\u001b[0m\n\u001b[1;32m      3\u001b[0m     \u001b[0mline\u001b[0m \u001b[1;33m=\u001b[0m \u001b[0mline\u001b[0m\u001b[1;33m.\u001b[0m\u001b[0mreplace\u001b[0m\u001b[1;33m(\u001b[0m\u001b[1;34m'Fraxinus'\u001b[0m\u001b[1;33m,\u001b[0m \u001b[1;34m'F.'\u001b[0m\u001b[1;33m)\u001b[0m\u001b[1;33m.\u001b[0m\u001b[0mstrip\u001b[0m\u001b[1;33m(\u001b[0m\u001b[1;33m)\u001b[0m\u001b[1;33m\u001b[0m\u001b[0m\n\u001b[0;32m----> 4\u001b[0;31m     \u001b[0mlines\u001b[0m\u001b[1;33m.\u001b[0m\u001b[0mappend\u001b[0m\u001b[1;33m(\u001b[0m\u001b[0mtranslate\u001b[0m\u001b[1;33m[\u001b[0m\u001b[0mline\u001b[0m\u001b[1;33m]\u001b[0m\u001b[1;33m)\u001b[0m\u001b[1;33m\u001b[0m\u001b[0m\n\u001b[0m\u001b[1;32m      5\u001b[0m \u001b[0mlines\u001b[0m\u001b[1;33m.\u001b[0m\u001b[0msort\u001b[0m\u001b[1;33m(\u001b[0m\u001b[1;33m)\u001b[0m\u001b[1;33m\u001b[0m\u001b[0m\n\u001b[1;32m      6\u001b[0m \u001b[0mprint\u001b[0m\u001b[1;33m(\u001b[0m\u001b[1;34m'\\n'\u001b[0m\u001b[1;33m.\u001b[0m\u001b[0mjoin\u001b[0m\u001b[1;33m(\u001b[0m\u001b[0mlines\u001b[0m\u001b[1;33m)\u001b[0m\u001b[1;33m)\u001b[0m\u001b[1;33m\u001b[0m\u001b[0m\n",
      "\u001b[0;31mKeyError\u001b[0m: 'F. biltmoreana (syn. F. americana var. biltmoreana)'"
     ],
     "output_type": "error"
    }
   ],
   "source": [
    "lines = []\n",
    "for line in status_text.split('\\n'):\n",
    "    line = line.replace('Fraxinus', 'F.').strip()\n",
    "    lines.append(translate[line])\n",
    "lines.sort()\n",
    "print('\\n'.join(lines))"
   ]
  },
  {
   "cell_type": "code",
   "execution_count": null,
   "metadata": {},
   "outputs": [],
   "source": [
    "\"\"\"F. angustifolia subsp. oxycarpa,FRAX15\n",
    "F. angustifolia subsp. syriaca,FRAX16\n",
    "F. mandshurica,FRAX06\n",
    "F. bungeana,FRAX29\n",
    "F. goodingii,FRAX19\n",
    "F. ornus,FRAX07\n",
    "F. americana,FRAX14\n",
    "F. nigra,FRAX23\n",
    "F. baroniana,FRAX28\n",
    "F. chinensis,FRAX30\n",
    "F. xanthoxyloides,FRAX25\n",
    "F. floribunda,FRAX32\n",
    "F. platypoda,FRAX33\n",
    "F. griffithii,FRAX21\n",
    "F. cuspidata,FRAX31\n",
    "F. albicans,FRAX26\n",
    "F. anomala,FRAX27\n",
    "F. quadrangulata,FRAX11\n",
    "F. pennsylvanica,FRAX09\n",
    "F. uhdei,FRAX34\"\"\""
   ]
  },
  {
   "cell_type": "code",
   "execution_count": null,
   "metadata": {},
   "outputs": [],
   "source": [
    ""
   ]
  },
  {
   "cell_type": "code",
   "execution_count": null,
   "metadata": {},
   "outputs": [],
   "source": [
    ""
   ]
  },
  {
   "cell_type": "code",
   "execution_count": null,
   "metadata": {},
   "outputs": [],
   "source": [
    ""
   ]
  },
  {
   "cell_type": "code",
   "execution_count": null,
   "metadata": {},
   "outputs": [],
   "source": [
    ""
   ]
  },
  {
   "cell_type": "code",
   "execution_count": null,
   "metadata": {},
   "outputs": [],
   "source": [
    "file_size_raw = \"\"\"1639924966 Jun 21 20:02 FRAX01_L001_R1_800bp_library_first_5bp_clipped_adapters_cut_quality_trimmed_min_50bp.fastq.gz\n",
    "1974329410 Jun 21 20:02 FRAX01_L001_R2_800bp_library_first_5bp_clipped_adapters_cut_quality_trimmed_min_50bp.fastq.gz\n",
    " 227457898 Jun 21 20:02 FRAX01_L001__800bp_library_first_5bp_clipped_adapters_cut_quality_trimmed_min_50bp_singletons.fastq.gz\n",
    "\n",
    "1474911600 Jun 21 18:47 FRAX01_L002_R1_800bp_library_first_5bp_clipped_adapters_cut_quality_trimmed_min_50bp.fastq.gz\n",
    "1679897231 Jun 21 18:47 FRAX01_L002_R2_800bp_library_first_5bp_clipped_adapters_cut_quality_trimmed_min_50bp.fastq.gz\n",
    " 279208385 Jun 21 18:47 FRAX01_L002__800bp_library_first_5bp_clipped_adapters_cut_quality_trimmed_min_50bp_singletons.fastq.gz\n",
    "\n",
    "1934124802 Jun 21 21:41 FRAX01_L003_R1_800bp_library_first_5bp_clipped_adapters_cut_quality_trimmed_min_50bp.fastq.gz\n",
    "2314771063 Jun 21 21:41 FRAX01_L003_R2_800bp_library_first_5bp_clipped_adapters_cut_quality_trimmed_min_50bp.fastq.gz\n",
    " 124160817 Jun 21 21:41 FRAX01_L003__800bp_library_first_5bp_clipped_adapters_cut_quality_trimmed_min_50bp_singletons.fastq.gz\n",
    "\n",
    "1292398141 Jun 21 18:42 FRAX02_L001_R1_800bp_library_first_5bp_clipped_adapters_cut_quality_trimmed_min_50bp.fastq.gz\n",
    "1530327309 Jun 21 18:42 FRAX02_L001_R2_800bp_library_first_5bp_clipped_adapters_cut_quality_trimmed_min_50bp.fastq.gz\n",
    " 242472160 Jun 21 18:42 FRAX02_L001__800bp_library_first_5bp_clipped_adapters_cut_quality_trimmed_min_50bp_singletons.fastq.gz\n",
    "\n",
    "1257231501 Jun 21 18:42 FRAX02_L002_R1_800bp_library_first_5bp_clipped_adapters_cut_quality_trimmed_min_50bp.fastq.gz\n",
    "1401818463 Jun 21 18:42 FRAX02_L002_R2_800bp_library_first_5bp_clipped_adapters_cut_quality_trimmed_min_50bp.fastq.gz\n",
    " 300414801 Jun 21 18:42 FRAX02_L002__800bp_library_first_5bp_clipped_adapters_cut_quality_trimmed_min_50bp_singletons.fastq.gz\n",
    "\n",
    "1470816856 Jun 21 11:44 FRAX02_L003_R1_800bp_library_first_5bp_clipped_adapters_cut_quality_trimmed_min_50bp.fastq.gz\n",
    "1770644388 Jun 21 11:44 FRAX02_L003_R2_800bp_library_first_5bp_clipped_adapters_cut_quality_trimmed_min_50bp.fastq.gz\n",
    " 125875348 Jun 21 11:44 FRAX02_L003__800bp_library_first_5bp_clipped_adapters_cut_quality_trimmed_min_50bp_singletons.fastq.gz\n",
    "\n",
    "1430861418 Jun 21 18:48 FRAX03_L001_R1_800bp_library_first_5bp_clipped_adapters_cut_quality_trimmed_min_50bp.fastq.gz\n",
    "1721293203 Jun 21 18:48 FRAX03_L001_R2_800bp_library_first_5bp_clipped_adapters_cut_quality_trimmed_min_50bp.fastq.gz\n",
    " 236403532 Jun 21 18:48 FRAX03_L001__800bp_library_first_5bp_clipped_adapters_cut_quality_trimmed_min_50bp_singletons.fastq.gz\n",
    "\n",
    "1365536133 Jun 21 18:45 FRAX03_L002_R1_800bp_library_first_5bp_clipped_adapters_cut_quality_trimmed_min_50bp.fastq.gz\n",
    "1546331395 Jun 21 18:45 FRAX03_L002_R2_800bp_library_first_5bp_clipped_adapters_cut_quality_trimmed_min_50bp.fastq.gz\n",
    " 311329011 Jun 21 18:45 FRAX03_L002__800bp_library_first_5bp_clipped_adapters_cut_quality_trimmed_min_50bp_singletons.fastq.gz\n",
    "\n",
    "1593980351 Jun 21 12:01 FRAX03_L003_R1_800bp_library_first_5bp_clipped_adapters_cut_quality_trimmed_min_50bp.fastq.gz\n",
    "1937726318 Jun 21 12:01 FRAX03_L003_R2_800bp_library_first_5bp_clipped_adapters_cut_quality_trimmed_min_50bp.fastq.gz\n",
    " 108377509 Jun 21 12:01 FRAX03_L003__800bp_library_first_5bp_clipped_adapters_cut_quality_trimmed_min_50bp_singletons.fastq.gz\n",
    "\n",
    "2051241702 Jun 21 20:33 FRAX04_L001_R1_800bp_library_first_5bp_clipped_adapters_cut_quality_trimmed_min_50bp.fastq.gz\n",
    "2449087140 Jun 21 20:33 FRAX04_L001_R2_800bp_library_first_5bp_clipped_adapters_cut_quality_trimmed_min_50bp.fastq.gz\n",
    " 271837912 Jun 21 20:33 FRAX04_L001__800bp_library_first_5bp_clipped_adapters_cut_quality_trimmed_min_50bp_singletons.fastq.gz\n",
    "\n",
    "1805660518 Jun 21 20:29 FRAX04_L002_R1_800bp_library_first_5bp_clipped_adapters_cut_quality_trimmed_min_50bp.fastq.gz\n",
    "2053668831 Jun 21 20:29 FRAX04_L002_R2_800bp_library_first_5bp_clipped_adapters_cut_quality_trimmed_min_50bp.fastq.gz\n",
    " 347874725 Jun 21 20:29 FRAX04_L002__800bp_library_first_5bp_clipped_adapters_cut_quality_trimmed_min_50bp_singletons.fastq.gz\n",
    "\n",
    "2329089829 Jun 21 13:26 FRAX04_L003_R1_800bp_library_first_5bp_clipped_adapters_cut_quality_trimmed_min_50bp.fastq.gz\n",
    "2783446299 Jun 21 13:26 FRAX04_L003_R2_800bp_library_first_5bp_clipped_adapters_cut_quality_trimmed_min_50bp.fastq.gz\n",
    " 133006189 Jun 21 13:26 FRAX04_L003__800bp_library_first_5bp_clipped_adapters_cut_quality_trimmed_min_50bp_singletons.fastq.gz\n",
    "\n",
    "2015293916 Jun 21 20:45 FRAX05_L001_R1_800bp_library_first_5bp_clipped_adapters_cut_quality_trimmed_min_50bp.fastq.gz\n",
    "2397205144 Jun 21 20:45 FRAX05_L001_R2_800bp_library_first_5bp_clipped_adapters_cut_quality_trimmed_min_50bp.fastq.gz\n",
    " 271802951 Jun 21 20:45 FRAX05_L001__800bp_library_first_5bp_clipped_adapters_cut_quality_trimmed_min_50bp_singletons.fastq.gz\n",
    "\n",
    "1754385488 Jun 21 20:07 FRAX05_L002_R1_800bp_library_first_5bp_clipped_adapters_cut_quality_trimmed_min_50bp.fastq.gz\n",
    "1984985150 Jun 21 20:07 FRAX05_L002_R2_800bp_library_first_5bp_clipped_adapters_cut_quality_trimmed_min_50bp.fastq.gz\n",
    " 342957883 Jun 21 20:07 FRAX05_L002__800bp_library_first_5bp_clipped_adapters_cut_quality_trimmed_min_50bp_singletons.fastq.gz\n",
    "\n",
    "2301421494 Jun 21 13:25 FRAX05_L003_R1_800bp_library_first_5bp_clipped_adapters_cut_quality_trimmed_min_50bp.fastq.gz\n",
    "2750482066 Jun 21 13:25 FRAX05_L003_R2_800bp_library_first_5bp_clipped_adapters_cut_quality_trimmed_min_50bp.fastq.gz\n",
    " 138728898 Jun 21 13:25 FRAX05_L003__800bp_library_first_5bp_clipped_adapters_cut_quality_trimmed_min_50bp_singletons.fastq.gz\n",
    "\n",
    "1839980821 Jun 21 20:17 FRAX06_L001_R1_800bp_library_first_5bp_clipped_adapters_cut_quality_trimmed_min_50bp.fastq.gz\n",
    "2202085826 Jun 21 20:17 FRAX06_L001_R2_800bp_library_first_5bp_clipped_adapters_cut_quality_trimmed_min_50bp.fastq.gz\n",
    " 235572129 Jun 21 20:17 FRAX06_L001__800bp_library_first_5bp_clipped_adapters_cut_quality_trimmed_min_50bp_singletons.fastq.gz\n",
    "\n",
    "1677219493 Jun 21 20:02 FRAX06_L002_R1_800bp_library_first_5bp_clipped_adapters_cut_quality_trimmed_min_50bp.fastq.gz\n",
    "1910932878 Jun 21 20:02 FRAX06_L002_R2_800bp_library_first_5bp_clipped_adapters_cut_quality_trimmed_min_50bp.fastq.gz\n",
    " 301790906 Jun 21 20:02 FRAX06_L002__800bp_library_first_5bp_clipped_adapters_cut_quality_trimmed_min_50bp_singletons.fastq.gz\n",
    "\n",
    " 850662558 Jun 21 18:29 FRAX06_L003_R1_800bp_library_first_5bp_clipped_adapters_cut_quality_trimmed_min_50bp.fastq.gz\n",
    "1062720160 Jun 21 18:29 FRAX06_L003_R2_800bp_library_first_5bp_clipped_adapters_cut_quality_trimmed_min_50bp.fastq.gz\n",
    "  62218865 Jun 21 18:29 FRAX06_L003__800bp_library_first_5bp_clipped_adapters_cut_quality_trimmed_min_50bp_singletons.fastq.gz\n",
    "\n",
    " 943946131 Jun 21 14:11 FRAX07_L001_R1_800bp_library_first_5bp_clipped_adapters_cut_quality_trimmed_min_50bp.fastq.gz\n",
    "1113363415 Jun 21 14:11 FRAX07_L001_R2_800bp_library_first_5bp_clipped_adapters_cut_quality_trimmed_min_50bp.fastq.gz\n",
    " 194457567 Jun 21 14:11 FRAX07_L001__800bp_library_first_5bp_clipped_adapters_cut_quality_trimmed_min_50bp_singletons.fastq.gz\n",
    "\n",
    " 944052873 Jun 21 14:05 FRAX07_L002_R1_800bp_library_first_5bp_clipped_adapters_cut_quality_trimmed_min_50bp.fastq.gz\n",
    "1050469130 Jun 21 14:05 FRAX07_L002_R2_800bp_library_first_5bp_clipped_adapters_cut_quality_trimmed_min_50bp.fastq.gz\n",
    " 242441511 Jun 21 14:05 FRAX07_L002__800bp_library_first_5bp_clipped_adapters_cut_quality_trimmed_min_50bp_singletons.fastq.gz\n",
    "\n",
    "1058232560 Jun 21 14:18 FRAX07_L003_R1_800bp_library_first_5bp_clipped_adapters_cut_quality_trimmed_min_50bp.fastq.gz\n",
    "1274731301 Jun 21 14:18 FRAX07_L003_R2_800bp_library_first_5bp_clipped_adapters_cut_quality_trimmed_min_50bp.fastq.gz\n",
    " 100798703 Jun 21 14:18 FRAX07_L003__800bp_library_first_5bp_clipped_adapters_cut_quality_trimmed_min_50bp_singletons.fastq.gz\n",
    "\n",
    "2491178120 Jun 21 21:03 FRAX08_L001_R1_800bp_library_first_5bp_clipped_adapters_cut_quality_trimmed_min_50bp.fastq.gz\n",
    "2992535298 Jun 21 21:03 FRAX08_L001_R2_800bp_library_first_5bp_clipped_adapters_cut_quality_trimmed_min_50bp.fastq.gz\n",
    " 269338182 Jun 21 21:03 FRAX08_L001__800bp_library_first_5bp_clipped_adapters_cut_quality_trimmed_min_50bp_singletons.fastq.gz\n",
    "\n",
    "2069424586 Jun 21 20:30 FRAX08_L002_R1_800bp_library_first_5bp_clipped_adapters_cut_quality_trimmed_min_50bp.fastq.gz\n",
    "2363082651 Jun 21 20:30 FRAX08_L002_R2_800bp_library_first_5bp_clipped_adapters_cut_quality_trimmed_min_50bp.fastq.gz\n",
    " 317143044 Jun 21 20:30 FRAX08_L002__800bp_library_first_5bp_clipped_adapters_cut_quality_trimmed_min_50bp_singletons.fastq.gz\n",
    "\n",
    "2922194088 Jun 21 21:33 FRAX08_L003_R1_800bp_library_first_5bp_clipped_adapters_cut_quality_trimmed_min_50bp.fastq.gz\n",
    "3489183556 Jun 21 21:33 FRAX08_L003_R2_800bp_library_first_5bp_clipped_adapters_cut_quality_trimmed_min_50bp.fastq.gz\n",
    " 152654815 Jun 21 21:33 FRAX08_L003__800bp_library_first_5bp_clipped_adapters_cut_quality_trimmed_min_50bp_singletons.fastq.gz\n",
    "\n",
    " 426799522 Jun 21 13:20 FRAX09_L001_R1_800bp_library_first_5bp_clipped_adapters_cut_quality_trimmed_min_50bp.fastq.gz\n",
    " 456770274 Jun 21 13:20 FRAX09_L001_R2_800bp_library_first_5bp_clipped_adapters_cut_quality_trimmed_min_50bp.fastq.gz\n",
    " 262107018 Jun 21 13:20 FRAX09_L001__800bp_library_first_5bp_clipped_adapters_cut_quality_trimmed_min_50bp_singletons.fastq.gz\n",
    "\n",
    " 441023830 Jun 21 13:22 FRAX09_L002_R1_800bp_library_first_5bp_clipped_adapters_cut_quality_trimmed_min_50bp.fastq.gz\n",
    " 441194764 Jun 21 13:22 FRAX09_L002_R2_800bp_library_first_5bp_clipped_adapters_cut_quality_trimmed_min_50bp.fastq.gz\n",
    " 311962798 Jun 21 13:22 FRAX09_L002__800bp_library_first_5bp_clipped_adapters_cut_quality_trimmed_min_50bp_singletons.fastq.gz\n",
    "\n",
    " 554569539 Jun 21 13:26 FRAX09_L003_R1_800bp_library_first_5bp_clipped_adapters_cut_quality_trimmed_min_50bp.fastq.gz\n",
    " 641056725 Jun 21 13:26 FRAX09_L003_R2_800bp_library_first_5bp_clipped_adapters_cut_quality_trimmed_min_50bp.fastq.gz\n",
    " 146339742 Jun 21 13:26 FRAX09_L003__800bp_library_first_5bp_clipped_adapters_cut_quality_trimmed_min_50bp_singletons.fastq.gz\n",
    "\n",
    " 810773648 Jun 21 14:10 FRAX11_L001_R1_800bp_library_first_5bp_clipped_adapters_cut_quality_trimmed_min_50bp.fastq.gz\n",
    " 918075638 Jun 21 14:10 FRAX11_L001_R2_800bp_library_first_5bp_clipped_adapters_cut_quality_trimmed_min_50bp.fastq.gz\n",
    " 399690042 Jun 21 14:10 FRAX11_L001__800bp_library_first_5bp_clipped_adapters_cut_quality_trimmed_min_50bp_singletons.fastq.gz\n",
    "\n",
    " 890814386 Jun 21 14:21 FRAX11_L002_R1_800bp_library_first_5bp_clipped_adapters_cut_quality_trimmed_min_50bp.fastq.gz\n",
    " 939361114 Jun 21 14:21 FRAX11_L002_R2_800bp_library_first_5bp_clipped_adapters_cut_quality_trimmed_min_50bp.fastq.gz\n",
    " 544566094 Jun 21 14:21 FRAX11_L002__800bp_library_first_5bp_clipped_adapters_cut_quality_trimmed_min_50bp_singletons.fastq.gz\n",
    "\n",
    " 902974322 Jun 21 14:07 FRAX11_L003_R1_800bp_library_first_5bp_clipped_adapters_cut_quality_trimmed_min_50bp.fastq.gz\n",
    "1109101100 Jun 21 14:07 FRAX11_L003_R2_800bp_library_first_5bp_clipped_adapters_cut_quality_trimmed_min_50bp.fastq.gz\n",
    " 161847997 Jun 21 14:07 FRAX11_L003__800bp_library_first_5bp_clipped_adapters_cut_quality_trimmed_min_50bp_singletons.fastq.gz\n",
    "\n",
    "1777529043 Jun 21 20:24 FRAX12_L001_R1_800bp_library_first_5bp_clipped_adapters_cut_quality_trimmed_min_50bp.fastq.gz\n",
    "2095653654 Jun 21 20:24 FRAX12_L001_R2_800bp_library_first_5bp_clipped_adapters_cut_quality_trimmed_min_50bp.fastq.gz\n",
    " 488759899 Jun 21 20:24 FRAX12_L001__800bp_library_first_5bp_clipped_adapters_cut_quality_trimmed_min_50bp_singletons.fastq.gz\n",
    "\n",
    "1549121277 Jun 21 20:11 FRAX12_L002_R1_800bp_library_first_5bp_clipped_adapters_cut_quality_trimmed_min_50bp.fastq.gz\n",
    "1710575436 Jun 21 20:11 FRAX12_L002_R2_800bp_library_first_5bp_clipped_adapters_cut_quality_trimmed_min_50bp.fastq.gz\n",
    " 616220778 Jun 21 20:11 FRAX12_L002__800bp_library_first_5bp_clipped_adapters_cut_quality_trimmed_min_50bp_singletons.fastq.gz\n",
    "\n",
    "2067117388 Jun 21 20:33 FRAX12_L003_R1_800bp_library_first_5bp_clipped_adapters_cut_quality_trimmed_min_50bp.fastq.gz\n",
    "2515304450 Jun 21 20:33 FRAX12_L003_R2_800bp_library_first_5bp_clipped_adapters_cut_quality_trimmed_min_50bp.fastq.gz\n",
    " 206018850 Jun 21 20:33 FRAX12_L003__800bp_library_first_5bp_clipped_adapters_cut_quality_trimmed_min_50bp_singletons.fastq.gz\n",
    "\n",
    "1143040762 Jun 21 18:42 FRAX13_L001_R1_800bp_library_first_5bp_clipped_adapters_cut_quality_trimmed_min_50bp.fastq.gz\n",
    "1312707290 Jun 21 18:42 FRAX13_L001_R2_800bp_library_first_5bp_clipped_adapters_cut_quality_trimmed_min_50bp.fastq.gz\n",
    " 494575527 Jun 21 18:42 FRAX13_L001__800bp_library_first_5bp_clipped_adapters_cut_quality_trimmed_min_50bp_singletons.fastq.gz\n",
    "\n",
    "1311192826 Jun 21 18:44 FRAX13_L003_R1_800bp_library_first_5bp_clipped_adapters_cut_quality_trimmed_min_50bp.fastq.gz\n",
    "1611096483 Jun 21 18:44 FRAX13_L003_R2_800bp_library_first_5bp_clipped_adapters_cut_quality_trimmed_min_50bp.fastq.gz\n",
    " 199719257 Jun 21 18:44 FRAX13_L003__800bp_library_first_5bp_clipped_adapters_cut_quality_trimmed_min_50bp_singletons.fastq.gz\"\"\""
   ]
  },
  {
   "cell_type": "code",
   "execution_count": 29,
   "metadata": {
    "collapsed": false
   },
   "outputs": [
    {
     "name": "stdout",
     "output_type": "stream",
     "text": [
      "FRAX01 [1639924966, 1974329410, 227457898]\n",
      "FRAX01 [3114836566, 3654226641, 506666283]\n",
      "FRAX02 [1292398141, 1530327309, 242472160]\n",
      "FRAX02 [2549629642, 2932145772, 542886961]\n",
      "FRAX03 [1430861418, 1721293203, 236403532]\n",
      "FRAX03 [2796397551, 3267624598, 547732543]\n",
      "FRAX04 [2051241702, 2449087140, 271837912]\n",
      "FRAX04 [3856902220, 4502755971, 619712637]\n",
      "FRAX05 [2015293916, 2397205144, 271802951]\n",
      "FRAX05 [3769679404, 4382190294, 614760834]\n",
      "FRAX06 [1839980821, 2202085826, 235572129]\n",
      "FRAX06 [3517200314, 4113018704, 537363035]\n",
      "FRAX07 [943946131, 1113363415, 194457567]\n",
      "FRAX07 [1887999004, 2163832545, 436899078]\n",
      "FRAX08 [2491178120, 2992535298, 269338182]\n",
      "FRAX08 [4560602706, 5355617949, 586481226]\n",
      "FRAX09 [426799522, 456770274, 262107018]\n",
      "FRAX09 [867823352, 897965038, 574069816]\n",
      "FRAX11 [810773648, 918075638, 399690042]\n",
      "FRAX11 [1701588034, 1857436752, 944256136]\n",
      "FRAX12 [1777529043, 2095653654, 488759899]\n",
      "FRAX12 [3326650320, 3806229090, 1104980677]\n",
      "FRAX13 [1143040762, 1312707290, 494575527]\n"
     ]
    },
    {
     "data": {
      "text/plain": [
       "{'FRAX01': [5048961368, 5968997704, 630827100],\n",
       " 'FRAX02': [4020446498, 4702790160, 668762309],\n",
       " 'FRAX03': [4390377902, 5205350916, 656110052],\n",
       " 'FRAX04': [6185992049, 7286202270, 752718826],\n",
       " 'FRAX05': [6071100898, 7132672360, 753489732],\n",
       " 'FRAX06': [4367862872, 5175738864, 599581900],\n",
       " 'FRAX07': [2946231564, 3438563846, 537697781],\n",
       " 'FRAX08': [7482796794, 8844801505, 739136041],\n",
       " 'FRAX09': [1422392891, 1539021763, 720409558],\n",
       " 'FRAX11': [2604562356, 2966537852, 1106104133],\n",
       " 'FRAX12': [5393767708, 6321533540, 1310999527],\n",
       " 'FRAX13': [2454233588, 2923803773, 694294784]}"
      ]
     },
     "execution_count": 29,
     "metadata": {},
     "output_type": "execute_result"
    }
   ],
   "source": [
    "blocks = file_size_raw.split('\\n\\n')\n",
    "text_blocks = {}\n",
    "for block in blocks:\n",
    "    name_i = block.index('FRAX')\n",
    "    key = block[name_i:  name_i+6]\n",
    "    values = [int(line.strip().split()[0]) for line in block.split('\\n')]\n",
    "    if key in text_blocks:\n",
    "        print(key, text_blocks[key])\n",
    "        values = [values[i] + text_blocks[key][i] for i in range(len(values))]\n",
    "    text_blocks[key] = values\n",
    "text_blocks"
   ]
  },
  {
   "cell_type": "code",
   "execution_count": 22,
   "metadata": {
    "collapsed": false
   },
   "outputs": [
    {
     "name": "stdout",
     "output_type": "stream",
     "text": [
      "FRAX08 152654815 6411377644 0.023809986476597572\n",
      "FRAX05 138728898 5051903560 0.027460717797233643\n",
      "FRAX13 199719257 2922289309 0.06834342389882794\n",
      "FRAX02 125875348 3241461244 0.038832902362475386\n",
      "FRAX01 124160817 4248895865 0.0292219016292601\n",
      "FRAX06 62218865 1913382718 0.032517731248788255\n",
      "FRAX12 206018850 4582421838 0.04495850824810075\n",
      "FRAX11 161847997 2012075422 0.080438335079469\n",
      "FRAX07 100798703 2332963861 0.04320628565450376\n",
      "FRAX09 146339742 1195626264 0.12239589109594869\n",
      "FRAX03 108377509 3531706669 0.030687007488843066\n",
      "FRAX04 133006189 5112536128 0.026015696646437467\n"
     ]
    }
   ],
   "source": [
    "for frax, sizes in text_blocks.items():\n",
    "    print(frax, sizes[2], sizes[0] + sizes[1], sizes[2] / (sizes[0] + sizes[1]))"
   ]
  },
  {
   "cell_type": "code",
   "execution_count": 23,
   "metadata": {
    "collapsed": true
   },
   "outputs": [],
   "source": [
    "unprocessed_sizes_text = \"\"\"1076091962 May 22 17:05 9_AGCGATAG-AGGCTATA_L002_R2_001.fastq.gz\n",
    "918361949 May 22 17:04 9_AGCGATAG-AGGCTATA_L002_R1_001.fastq.gz\n",
    "1042330389 May 22 17:08 9_AGCGATAG-AGGCTATA_L001_R2_001.fastq.gz\n",
    "869015641 May 22 17:06 9_AGCGATAG-AGGCTATA_L001_R1_001.fastq.gz\n",
    "1032680503 Jun  7 14:23 9_AGCGATAG-AGGCTATA_L001_R2_001.fastq.gz\n",
    "862103683 Jun  7 14:21 9_AGCGATAG-AGGCTATA_L001_R1_001.fastq.gz\n",
    "\n",
    "3218501239 May 22 16:22 8_TCTCGCGC-GTCAGTAC_L002_R2_001.fastq.gz\n",
    "2556495281 May 22 16:19 8_TCTCGCGC-GTCAGTAC_L002_R1_001.fastq.gz\n",
    "3811727300 May 22 16:27 8_TCTCGCGC-GTCAGTAC_L001_R2_001.fastq.gz\n",
    "2951524347 May 22 16:24 8_TCTCGCGC-GTCAGTAC_L001_R1_001.fastq.gz\n",
    "3990862736 Jun  7 14:07 8_TCTCGCGC-GTCAGTAC_L001_R2_001.fastq.gz\n",
    "3250407400 Jun  7 14:02 8_TCTCGCGC-GTCAGTAC_L001_R1_001.fastq.gz\n",
    "\n",
    "1644829883 May 22 16:44 7_TCTCGCGC-ACGTCCTG_L002_R2_001.fastq.gz\n",
    "1313114149 May 22 16:43 7_TCTCGCGC-ACGTCCTG_L002_R1_001.fastq.gz\n",
    "1656453025 May 22 16:47 7_TCTCGCGC-ACGTCCTG_L001_R2_001.fastq.gz\n",
    "1288129691 May 22 16:45 7_TCTCGCGC-ACGTCCTG_L001_R1_001.fastq.gz\n",
    "1590847837 Jun  7 14:11 7_TCTCGCGC-ACGTCCTG_L001_R2_001.fastq.gz\n",
    "1284257213 Jun  7 14:09 7_TCTCGCGC-ACGTCCTG_L001_R1_001.fastq.gz\n",
    "\n",
    "2707556591 May 22 16:03 6_TCTCGCGC-TAAGATTA_L002_R2_001.fastq.gz\n",
    "2135944407 May 22 16:01 6_TCTCGCGC-TAAGATTA_L002_R1_001.fastq.gz\n",
    "2954984178 May 22 16:07 6_TCTCGCGC-TAAGATTA_L001_R2_001.fastq.gz\n",
    "2282002124 May 22 16:05 6_TCTCGCGC-TAAGATTA_L001_R1_001.fastq.gz\n",
    "2923493307 Jun  7 13:32 6_TCTCGCGC-TAAGATTA_L001_R2_001.fastq.gz\n",
    "2369563920 Jun  7 13:28 6_TCTCGCGC-TAAGATTA_L001_R1_001.fastq.gz\n",
    "\n",
    "2845415963 May 22 16:42 5_TCTCGCGC-CTTCGCCT_L002_R2_001.fastq.gz\n",
    "2254995541 May 22 16:39 5_TCTCGCGC-CTTCGCCT_L002_R1_001.fastq.gz\n",
    "3197753930 May 22 16:38 5_TCTCGCGC-CTTCGCCT_L001_R2_001.fastq.gz\n",
    "2474647657 May 22 16:35 5_TCTCGCGC-CTTCGCCT_L001_R1_001.fastq.gz\n",
    "3193010604 Jun  7 13:51 5_TCTCGCGC-CTTCGCCT_L001_R2_001.fastq.gz\n",
    "2586021758 Jun  7 13:47 5_TCTCGCGC-CTTCGCCT_L001_R1_001.fastq.gz\n",
    "\n",
    "2939451084 May 22 16:56 4_TCTCGCGC-TCAGAGCC_L002_R2_001.fastq.gz\n",
    "2329903129 May 22 16:53 4_TCTCGCGC-TCAGAGCC_L002_R1_001.fastq.gz\n",
    "3274216144 May 22 16:51 4_TCTCGCGC-TCAGAGCC_L001_R2_001.fastq.gz\n",
    "2535894400 May 22 16:49 4_TCTCGCGC-TCAGAGCC_L001_R1_001.fastq.gz\n",
    "3236719651 Jun  7 14:37 4_TCTCGCGC-TCAGAGCC_L001_R2_001.fastq.gz\n",
    "2628841421 Jun  7 14:33 4_TCTCGCGC-TCAGAGCC_L001_R1_001.fastq.gz\n",
    "\n",
    "2292669623 May 22 17:03 3_TCTCGCGC-AGGATAGG_L002_R2_001.fastq.gz\n",
    "1793286516 May 22 17:01 3_TCTCGCGC-AGGATAGG_L002_R1_001.fastq.gz\n",
    "2368587742 May 22 16:59 3_TCTCGCGC-AGGATAGG_L001_R2_001.fastq.gz\n",
    "1800452153 May 22 16:57 3_TCTCGCGC-AGGATAGG_L001_R1_001.fastq.gz\n",
    "2297314114 Jun  7 14:29 3_TCTCGCGC-AGGATAGG_L001_R2_001.fastq.gz\n",
    "1828385253 Jun  7 14:26 3_TCTCGCGC-AGGATAGG_L001_R1_001.fastq.gz\n",
    "\n",
    "2123876951 May 22 16:33 2_TCTCGCGC-GCCTCTAT_L002_R2_001.fastq.gz\n",
    "1687176264 May 22 16:31 2_TCTCGCGC-GCCTCTAT_L002_R1_001.fastq.gz\n",
    "2170822908 May 22 16:30 2_TCTCGCGC-GCCTCTAT_L001_R2_001.fastq.gz\n",
    "1672682679 May 22 16:28 2_TCTCGCGC-GCCTCTAT_L001_R1_001.fastq.gz\n",
    "2143110813 Jun  7 13:57 2_TCTCGCGC-GCCTCTAT_L001_R2_001.fastq.gz\n",
    "1725561071 Jun  7 13:54 2_TCTCGCGC-GCCTCTAT_L001_R1_001.fastq.gz\n",
    "\n",
    "2534020600 May 22 15:52 12_AGCGATAG-TCAGAGCC_L002_R2_001.fastq.gz\n",
    "1998190090 May 22 15:48 12_AGCGATAG-TCAGAGCC_L002_R1_001.fastq.gz\n",
    "2369249261 May 22 15:47 12_AGCGATAG-TCAGAGCC_L001_R2_001.fastq.gz\n",
    "1806708352 May 22 15:44 12_AGCGATAG-TCAGAGCC_L001_R1_001.fastq.gz\n",
    "2125851676 Jun  7 14:43 12_AGCGATAG-TCAGAGCC_L001_R2_001.fastq.gz\n",
    "1644920454 Jun  7 14:40 12_AGCGATAG-TCAGAGCC_L001_R1_001.fastq.gz\n",
    "\n",
    "2986294864 May 22 16:17 11_AGCGATAG-AGGATAGG_L002_R2_001.fastq.gz\n",
    "2335920808 May 22 16:14 11_AGCGATAG-AGGATAGG_L002_R1_001.fastq.gz\n",
    "3261233920 May 22 16:12 11_AGCGATAG-AGGATAGG_L001_R2_001.fastq.gz\n",
    "2477925123 May 22 16:09 11_AGCGATAG-AGGATAGG_L001_R1_001.fastq.gz\n",
    "3093590440 Jun  7 14:19 11_AGCGATAG-AGGATAGG_L001_R2_001.fastq.gz\n",
    "2425427210 Jun  7 14:15 11_AGCGATAG-AGGATAGG_L001_R1_001.fastq.gz\n",
    "\n",
    "1997239539 May 22 17:12 10_AGCGATAG-GCCTCTAT_L002_R2_001.fastq.gz\n",
    "1587541467 May 22 17:09 10_AGCGATAG-GCCTCTAT_L002_R1_001.fastq.gz\n",
    "1767461752 May 22 17:15 10_AGCGATAG-GCCTCTAT_L001_R2_001.fastq.gz\n",
    "1362772340 May 22 17:13 10_AGCGATAG-GCCTCTAT_L001_R1_001.fastq.gz\n",
    "1524428062 Jun  7 13:36 10_AGCGATAG-GCCTCTAT_L001_R2_001.fastq.gz\n",
    "1184470923 Jun  7 13:34 10_AGCGATAG-GCCTCTAT_L001_R1_001.fastq.gz\n",
    "\n",
    "2392791200 May 22 15:59 1_TCTCGCGC-AGGCTATA_L002_R2_001.fastq.gz\n",
    "1899509864 May 22 15:57 1_TCTCGCGC-AGGCTATA_L002_R1_001.fastq.gz\n",
    "2666551061 May 22 15:55 1_TCTCGCGC-AGGCTATA_L001_R2_001.fastq.gz\n",
    "2062553751 May 22 15:53 1_TCTCGCGC-AGGCTATA_L001_R1_001.fastq.gz\n",
    "2739791052 Jun  7 13:43 1_TCTCGCGC-AGGCTATA_L001_R2_001.fastq.gz\n",
    "2228922203 Jun  7 13:39 1_TCTCGCGC-AGGCTATA_L001_R1_001.fastq.gz\"\"\""
   ]
  },
  {
   "cell_type": "code",
   "execution_count": 30,
   "metadata": {
    "collapsed": false
   },
   "outputs": [
    {
     "data": {
      "text/plain": [
       "{' 1': [2392791200,\n",
       "  1899509864,\n",
       "  2666551061,\n",
       "  2062553751,\n",
       "  2739791052,\n",
       "  2228922203],\n",
       " ' 2': [2123876951,\n",
       "  1687176264,\n",
       "  2170822908,\n",
       "  1672682679,\n",
       "  2143110813,\n",
       "  1725561071],\n",
       " ' 3': [2292669623,\n",
       "  1793286516,\n",
       "  2368587742,\n",
       "  1800452153,\n",
       "  2297314114,\n",
       "  1828385253],\n",
       " ' 4': [2939451084,\n",
       "  2329903129,\n",
       "  3274216144,\n",
       "  2535894400,\n",
       "  3236719651,\n",
       "  2628841421],\n",
       " ' 5': [2845415963,\n",
       "  2254995541,\n",
       "  3197753930,\n",
       "  2474647657,\n",
       "  3193010604,\n",
       "  2586021758],\n",
       " ' 6': [2707556591,\n",
       "  2135944407,\n",
       "  2954984178,\n",
       "  2282002124,\n",
       "  2923493307,\n",
       "  2369563920],\n",
       " ' 7': [1644829883,\n",
       "  1313114149,\n",
       "  1656453025,\n",
       "  1288129691,\n",
       "  1590847837,\n",
       "  1284257213],\n",
       " ' 8': [3218501239,\n",
       "  2556495281,\n",
       "  3811727300,\n",
       "  2951524347,\n",
       "  3990862736,\n",
       "  3250407400],\n",
       " ' 9': [1076091962, 918361949, 1042330389, 869015641, 1032680503, 862103683],\n",
       " '10': [1997239539,\n",
       "  1587541467,\n",
       "  1767461752,\n",
       "  1362772340,\n",
       "  1524428062,\n",
       "  1184470923],\n",
       " '11': [2986294864,\n",
       "  2335920808,\n",
       "  3261233920,\n",
       "  2477925123,\n",
       "  3093590440,\n",
       "  2425427210],\n",
       " '12': [2534020600,\n",
       "  1998190090,\n",
       "  2369249261,\n",
       "  1806708352,\n",
       "  2125851676,\n",
       "  1644920454]}"
      ]
     },
     "execution_count": 30,
     "metadata": {},
     "output_type": "execute_result"
    }
   ],
   "source": [
    "original_blocks = unprocessed_sizes_text.split('\\n\\n')\n",
    "original_sizes = {}\n",
    "for block in original_blocks:\n",
    "    name_i = block.index('_')\n",
    "    key = block[name_i - 2:  name_i]\n",
    "    values = [int(line.strip().split()[0]) for line in block.split('\\n')]\n",
    "    original_sizes[key] = values\n",
    "original_sizes"
   ]
  },
  {
   "cell_type": "code",
   "execution_count": 26,
   "metadata": {
    "collapsed": true
   },
   "outputs": [],
   "source": [
    "name_mapping = {\n",
    "' 1': 'FRAX01', \n",
    "' 2': 'FRAX02',\n",
    "' 3': 'FRAX03',\n",
    "' 4': 'FRAX04',\n",
    "' 5': 'FRAX05',\n",
    "' 6': 'FRAX06',\n",
    "' 7': 'FRAX07',\n",
    "' 8': 'FRAX08',\n",
    "' 9': 'FRAX09',\n",
    "'10': 'FRAX11',\n",
    "'11': 'FRAX12',\n",
    "'12': 'FRAX13',\n",
    "}  # jump over FRAX10 and also handle zero padding (spaces)"
   ]
  },
  {
   "cell_type": "code",
   "execution_count": 44,
   "metadata": {
    "collapsed": false
   },
   "outputs": [
    {
     "name": "stdout",
     "output_type": "stream",
     "text": [
      "FRAX01 630827100 13990119131 0.04509090266445137\n",
      "FRAX02 668762309 11523230686 0.05803600806260905\n",
      "FRAX03 656110052 12380695401 0.05299460415987663\n",
      "FRAX05 753489732 16551845453 0.045523004316321176\n",
      "FRAX06 599581900 15373544527 0.039000888763614405\n",
      "FRAX07 537697781 8777631798 0.06125772798108431\n",
      "FRAX08 739136041 19779518303 0.03736875841348946\n",
      "FRAX04 752718826 16945025829 0.044421226240433605\n",
      "FRAX09 720409558 5800584127 0.124196036507204\n",
      "FRAX11 1106104133 9423914083 0.11737205191580904\n",
      "FRAX12 1310999527 16580392365 0.07906927038514629\n",
      "FRAX13 694294784 12478940433 0.05563731854701129\n"
     ]
    }
   ],
   "source": [
    "for sample_key in (' 1',' 2',' 3',' 5',' 6',' 7',' 8',' 4',' 9','10','11','12'):\n",
    "    singleton_key = name_mapping[sample_key]\n",
    "    original_sum = sum(original_sizes[sample_key])\n",
    "    singleton_size = text_blocks[singleton_key][2]\n",
    "    print(singleton_key, singleton_size, original_sum, singleton_size /original_sum)"
   ]
  },
  {
   "cell_type": "code",
   "execution_count": null,
   "metadata": {
    "collapsed": true
   },
   "outputs": [],
   "source": [
    "'FRAX01','FRAX02','FRAX03','FRAX05','FRAX06','FRAX07','FRAX08','FRAX04','FRAX09','FRAX11','FRAX12','FRAX13'"
   ]
  },
  {
   "cell_type": "code",
   "execution_count": 46,
   "metadata": {
    "collapsed": false
   },
   "outputs": [
    {
     "name": "stdout",
     "output_type": "stream",
     "text": [
      "Percentage of raw reads that survived the processing step\n",
      "FRAX01 11017959072 13990119131 0.7875529127972799\n",
      "FRAX02 8723236658 11523230686 0.7570131064544411\n",
      "FRAX03 9595728818 12380695401 0.7750557224132131\n",
      "FRAX05 13203773258 16551845453 0.7977221208047731\n",
      "FRAX06 9543601736 15373544527 0.6207808302918639\n",
      "FRAX07 6384795410 8777631798 0.7273938525713494\n",
      "FRAX08 16327598299 19779518303 0.8254800773648547\n",
      "FRAX04 13472194319 16945025829 0.7950530412260253\n",
      "FRAX09 2961414654 5800584127 0.5105373164429238\n",
      "FRAX11 5571100208 9423914083 0.5911662775077531\n",
      "FRAX12 11715301248 16580392365 0.7065756340441103\n",
      "FRAX13 5378037361 12478940433 0.4309690706414481\n"
     ]
    }
   ],
   "source": [
    "print('Percentage of raw reads that survived the processing step')\n",
    "for sample_key in (' 1',' 2',' 3',' 5',' 6',' 7',' 8',' 4',' 9','10','11','12'):\n",
    "    processed_key = name_mapping[sample_key]\n",
    "    original_sum = sum(original_sizes[sample_key])\n",
    "    processed_sum = text_blocks[processed_key][0] + text_blocks[processed_key][1]\n",
    "    print(processed_key, processed_sum, original_sum, processed_sum / original_sum)"
   ]
  },
  {
   "cell_type": "code",
   "execution_count": null,
   "metadata": {
    "collapsed": true
   },
   "outputs": [],
   "source": [
    ""
   ]
  }
 ],
 "metadata": {
  "kernelspec": {
   "display_name": "Python 3",
   "language": "python",
   "name": "python3"
  },
  "language_info": {
   "codemirror_mode": {
    "name": "ipython",
    "version": 3.0
   },
   "file_extension": ".py",
   "mimetype": "text/x-python",
   "name": "python",
   "nbconvert_exporter": "python",
   "pygments_lexer": "ipython3",
   "version": "3.4.3"
  }
 },
 "nbformat": 4,
 "nbformat_minor": 0
}